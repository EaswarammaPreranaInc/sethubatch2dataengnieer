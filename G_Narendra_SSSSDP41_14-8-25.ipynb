{
 "cells": [
  {
   "cell_type": "code",
   "execution_count": 5,
   "id": "92f2fffb-75b5-4d5f-b3c8-b94faca1d25c",
   "metadata": {},
   "outputs": [
    {
     "name": "stdout",
     "output_type": "stream",
     "text": [
      "4\n",
      "23\n",
      "42\n",
      "46\n",
      "End\n"
     ]
    }
   ],
   "source": [
    "'''\n",
    "Modify  following  program  with  walrus  operator\n",
    "\n",
    "Hint:  Combine  lines  7 , 8  and  10  to  a  single  line  with  walrus  operator\n",
    "'''\n",
    "a = 'Hyd is green city. Hyd is hitec city. Hyd is his cityi'\n",
    "index = -1\n",
    "while (index := a.find('is', index + 1)) != -1:\n",
    "    print(index)\n",
    "print('End')\n"
   ]
  },
  {
   "cell_type": "code",
   "execution_count": 11,
   "id": "b0b907bc-ed4e-4363-a6e6-9856bc8e6253",
   "metadata": {},
   "outputs": [
    {
     "name": "stdout",
     "output_type": "stream",
     "text": [
      "4\n",
      "23\n",
      "42\n",
      "46\n",
      "End\n"
     ]
    }
   ],
   "source": [
    "'''  (Home  work)\n",
    "index()  method  demo  program\n",
    "\n",
    "Modify  the  following  program  with  index()  method\n",
    "'''\n",
    "a = 'Hyd is green city. Hyd is hitec city. Hyd is his cityi'\n",
    "\n",
    "index = 0\n",
    "while True:\n",
    "    try:\n",
    "        index = a.index('is', index)\n",
    "        print(index)\n",
    "        index += 1   \n",
    "    except ValueError:\n",
    "        break\n",
    "\n",
    "print('End')\n",
    "\n",
    "\n"
   ]
  },
  {
   "cell_type": "code",
   "execution_count": 15,
   "id": "19ae2b10-5a3a-4ca9-a556-67b9b652d3fa",
   "metadata": {},
   "outputs": [
    {
     "name": "stdout",
     "output_type": "stream",
     "text": [
      "46\n",
      "42\n",
      "23\n",
      "4\n",
      "End\n"
     ]
    }
   ],
   "source": [
    "'''(Home  work)\n",
    "rfind()  method  demo  program\n",
    "\n",
    "Modify  following  program  with  rfind()  method\n",
    "'''\n",
    "a = 'Hyd is green city. Hyd is hitec city. Hyd is his cityi'\n",
    "\n",
    "index = a.rfind('is')\n",
    "while index != -1:\n",
    "    print(index)\n",
    "    index = a.rfind('is', 0, index) \n",
    "print('End')\n",
    "\n"
   ]
  },
  {
   "cell_type": "code",
   "execution_count": 17,
   "id": "1e46697b-802b-4b4f-b7c7-275211cf0687",
   "metadata": {},
   "outputs": [
    {
     "name": "stdout",
     "output_type": "stream",
     "text": [
      "46\n",
      "42\n",
      "23\n",
      "4\n",
      "End\n"
     ]
    }
   ],
   "source": [
    "'''  (Home  work)\n",
    "rindex()   method  demo  program\n",
    "\n",
    "Modify  following  program  with  rindex()  method\n",
    "\n",
    "Hint: Use   try  and  except\n",
    "'''\n",
    "a = 'Hyd is green city. Hyd is hitec city. Hyd is his cityi'\n",
    "\n",
    "try:\n",
    "    index = a.rindex('is')  \n",
    "    while True:\n",
    "        print(index)\n",
    "        index = a.rindex('is', 0, index)  \n",
    "except ValueError:\n",
    "    print('End')\n",
    "\n"
   ]
  },
  {
   "cell_type": "code",
   "execution_count": null,
   "id": "bc0cc218-6747-48b4-a2c5-538c59907339",
   "metadata": {},
   "outputs": [],
   "source": [
    "#  count()  method  demo  program (Home  work)\n",
    "a = 'Hyd is green city. Hyd is hitec city. Hyd is his city'\n",
    "print(a . count('is')) #4\n",
    "print(a . count('is' , 19 , 48)) #2\n",
    "print(a . count('was')) #0\n",
    "\n",
    "\n",
    "'''\n",
    "count()\n",
    "---------\n",
    "1) What  does  str1 . count(str2)  do ? --->  Returns  number  of  times  str2  is  found  in  str1\n",
    "\n",
    "2) What  does  str1 . count(str2 , x , y)  do ? --->\n",
    "\t\t\t\t\t\t\t\t\t\t\t\t\t\tReturns  number  of  times  str2  is  found  in  str1  between  indexes  x  and  y - 1\n",
    "'''"
   ]
  },
  {
   "cell_type": "code",
   "execution_count": null,
   "id": "2c84a344-32fd-4961-a549-94e3df9080b0",
   "metadata": {},
   "outputs": [],
   "source": [
    "#  Find  outputs  (Home  work)\n",
    "a = 'Hyd is\\tgreen\\ncity.Hyd is\\thitec\\ncity.Hyd is\\this\\ncity'\n",
    "print(a.count(' ')) # 3\n",
    "print(a.count('\\\\t')) # 3\n",
    "print(a.count('\\\\n')) # 3\n"
   ]
  },
  {
   "cell_type": "code",
   "execution_count": 22,
   "id": "a40e3b19-aff9-4b2a-9700-c69fccf6206b",
   "metadata": {},
   "outputs": [
    {
     "name": "stdin",
     "output_type": "stream",
     "text": [
      "Enter string:  babble\n"
     ]
    },
    {
     "name": "stdout",
     "output_type": "stream",
     "text": [
      "ba**le\n"
     ]
    }
   ],
   "source": [
    "'''\n",
    "Write  a  program  to  replace  every  occurance  of  first  character  in  the  string  with  '*'  except  first  character\n",
    "\n",
    "Let  input  be  'babble'\n",
    "What  is  the  output ?  ---> ba**le\n",
    "'''\n",
    "string = input(\"Enter string: \")\n",
    "\n",
    "seen = set()  \n",
    "result = \"\"\n",
    "\n",
    "for ch in string:\n",
    "    if ch in seen:\n",
    "        result += \"*\"\n",
    "    else:\n",
    "        result += ch\n",
    "        seen.add(ch)\n",
    "\n",
    "print(result)\n",
    "\n",
    "\n"
   ]
  },
  {
   "cell_type": "code",
   "execution_count": null,
   "id": "ef6ccc7a-6d14-46e6-aafc-821c25509af6",
   "metadata": {},
   "outputs": [],
   "source": [
    "#  Find  outputs  (Home  work)\n",
    "a = '15:36:48'\n",
    "print(a . split(':')) #['15', '36', '48']\n",
    "print(a) #15:36:48"
   ]
  },
  {
   "cell_type": "code",
   "execution_count": null,
   "id": "7cd9a4d7-f28e-4a07-a303-ce6359080792",
   "metadata": {},
   "outputs": [],
   "source": [
    "# Find  outputs  (Home  work)\n",
    "a = 'Hyd\tis\tgreen\tcity' #  There  is  tab  between  the  words\n",
    "print(a . split('\\t')) #['Hyd\\tis\\tgreen\\tcity']\n",
    "print(a . split()) #['Hyd', 'is', 'green', 'city']\n",
    "print(a . split(' '))#['Hyd\\tis\\tgreen\\tcity']"
   ]
  },
  {
   "cell_type": "code",
   "execution_count": null,
   "id": "a00c2aff-4745-4064-b4de-34501f20f761",
   "metadata": {},
   "outputs": [],
   "source": [
    "# Find  outputs (Home  work)\n",
    "a = 'Hyd   is   green   city'  #  There  are  3  spaces  between  the  words\n",
    "print(a . split()) #['Hyd', 'is', 'green', 'city']\n",
    "print(a . split(' ')) # ['Hyd', '', '', 'is', '', '', 'green', '', '', 'city'] "
   ]
  },
  {
   "cell_type": "code",
   "execution_count": null,
   "id": "cb72a05b-518c-4aad-ac77-19903cc21741",
   "metadata": {},
   "outputs": [],
   "source": [
    "# Find  outputs  (Home  work)\n",
    "a = 'www.gmail.com'\n",
    "print(a . split('.'))#['www','gmail','com']"
   ]
  },
  {
   "cell_type": "code",
   "execution_count": 26,
   "id": "93b04c54-88d4-426e-a9d7-c5ce3ebaea69",
   "metadata": {},
   "outputs": [
    {
     "name": "stdin",
     "output_type": "stream",
     "text": [
      "Enter expression:  123+45+6+789\n"
     ]
    },
    {
     "name": "stdout",
     "output_type": "stream",
     "text": [
      "963\n"
     ]
    }
   ],
   "source": [
    "'''\n",
    "Write  a  program  to  evaluate  an  expression  which  contains  only  +  symbols\n",
    "Let  input  be  123+45+6+789\n",
    "Print  the  sum  result\n",
    "'''\n",
    "\n",
    "inpt = input('Enter expression: ')\n",
    "parts = inpt.split('+') \n",
    "total = 0\n",
    "for num in parts:\n",
    "    total += int(num)\n",
    "print(total)\n"
   ]
  },
  {
   "cell_type": "code",
   "execution_count": null,
   "id": "d65baa20-091b-4fea-9a15-4b7a9e599896",
   "metadata": {},
   "outputs": [],
   "source": [
    "#  Find  outputs  (Home  work)\n",
    "a = ['15' , '36' , '48']\n",
    "print(':' . join(a)) ## 15:36:48\n",
    "b = ('Hyd' , 'is' , 'green' , 'city')\n",
    "print(' ' . join(b)) # Hyd is green city\n",
    "c = {'10' , '20' , '15' , '25' , '52'}\n",
    "print(',' . join(c)) #15,52,25,10,20\n",
    "d = ['www' , 'gmail', 'com']\n",
    "print('.' . join(d)) # www.gmail.com\n",
    "e = [15 , 36 , 48]\n",
    "print(':' . join(e)) # Error\n",
    "f = ['Sankar' , 'Dayal' , 'Sarma']\n",
    "print('' . join(f)) ## SankarDayalSarma\n",
    "g = range(5)\n",
    "print('-' . join(g)) # Error\n",
    "\n"
   ]
  },
  {
   "cell_type": "code",
   "execution_count": null,
   "id": "108f5396-b19c-4911-9453-be5d29dbfe82",
   "metadata": {},
   "outputs": [],
   "source": [
    "# endswith()  method  demo  progrram (Home  work)\n",
    "a = 'Hyd is green city'\n",
    "print(a . endswith('city')) # True\n",
    "print(a . endswith('town')) # False\n",
    "print(a . endswith('green' , 3 , 12)) # True\n",
    "print(a . endswith('green' , 3 , 13)) # True\n",
    "print(a . endswith(' ' , 3 , 13)) # False"
   ]
  },
  {
   "cell_type": "code",
   "execution_count": 29,
   "id": "7f67d28a-93ee-4c10-bfa2-76658238726b",
   "metadata": {},
   "outputs": [
    {
     "name": "stdin",
     "output_type": "stream",
     "text": [
      "Enter string :  intereset\n"
     ]
    },
    {
     "name": "stdout",
     "output_type": "stream",
     "text": [
      "intereseting\n"
     ]
    }
   ],
   "source": [
    "'''\n",
    "Write  a  program  to  append  'ing'  to  input  string.\n",
    "Append  'ly'  to  the  string  if  the  string  already  ends  with  'ing'.\n",
    "Leave  the  string  unchanged  if  string  has  lessthan  three  characters\n",
    "\n",
    "1) What  is  the  output  if  input  is  'interest' ?  ---> interesting\n",
    "\n",
    "2) What  is  the  output  if  input  is  'interesting' ? --->  interestingly\n",
    "\n",
    "3) What  is  the  output  if  input  is  Hi ?  --->  Hi  itself\n",
    "'''\n",
    "\n",
    "string = input('Enter string : ')\n",
    "\n",
    "if len(string) < 3:\n",
    "    print(string)\n",
    "elif string.endswith('ing'):\n",
    "    string += 'ly'\n",
    "    print(string)\n",
    "else:\n",
    "    string += 'ing'\n",
    "    print(string)\n",
    "\n"
   ]
  },
  {
   "cell_type": "code",
   "execution_count": null,
   "id": "85fc900c-246a-4df6-954c-afca326d7a47",
   "metadata": {},
   "outputs": [],
   "source": [
    "#  isalpha()  method  demo  program (Home  work)\n",
    "print('Hyd'  . isalpha())  #   True\n",
    "print('Rama  Rao'  . isalpha()) #   False\n",
    "print('Hyd4'  . isalpha()) # False\n",
    "print('Hyd$'  . isalpha()) # False\n",
    "print('9247'  .  isalpha()) # False\n",
    "print('+-$'    .  isalpha()) # False\n",
    "print('A2#'  .   isalpha()) # False\n",
    "print(''  .  isalpha()) # False\n",
    "print(' '  .  isalpha()) # False\n",
    "\n",
    "\n",
    "\n",
    "'''\n",
    "isalpha()  method\n",
    "---------------------\n",
    "1) When  does  the  method  return  True ? --->  When  every  character  of  the  string  is  alphabet\n",
    "\n",
    "2) When  does  it  return  False  ?  ---> When  at  least  one  character  of  the  string  is  non-alphabet(i.e. digit (or) special  character)\n",
    "\t\t\t\t\t\t\t\t\t\t\t\t\t\t\t\t\t\t\t\t\t    (or)\n",
    "\t\t\t\t\t\t\t\t\t\t\t\t\t\t\t  When  there  are  no  alphabets  in  the  string\n",
    "'''"
   ]
  },
  {
   "cell_type": "code",
   "execution_count": null,
   "id": "e6565dcc-33e8-434d-a103-711dfdb0ca6b",
   "metadata": {},
   "outputs": [],
   "source": [
    "# isdigit()  method  demo  program  (Home  work)\n",
    "print('9247' . isdigit())  # True\n",
    "print('92a47' . isdigit())  # False\n",
    "print('92$47' . isdigit()) # False\n",
    "print('Hyd' . isdigit()) # False \n",
    "print('+-$' . isdigit()) # False\n",
    "print('A2#' . isdigit()) # False\n",
    "print('' . isdigit()) # False \n",
    "print(' ' . isdigit()) # False\n",
    "print(9247 . isdigit()) #Error\n",
    "\n",
    "\n",
    "'''\n",
    "isdigit()  method\n",
    "--------------------\n",
    "1) When  does  the  method  return  True  ?  --->  When  every  character  of  the  string  is  a  digit\n",
    "\n",
    "2) When  does  it  return  False ?  --->  When  at  least  one  character  of  the  string  is  non-digit(i.e. alphabet  (or) special  character)\n",
    "\t\t\t\t\t\t\t\t\t\t\t\t\t\t\t\t\t\t\t\t\t   (or)\n",
    "\t\t\t\t\t\t\t\t\t\t\t\t\t\t\t  When  there  are  no  digits  in  the  string\n",
    "'''"
   ]
  },
  {
   "cell_type": "code",
   "execution_count": null,
   "id": "736947a4-1550-47f4-9129-06c965f6114e",
   "metadata": {},
   "outputs": [],
   "source": [
    "# isupper()  method  demo  program  (Home  work)\n",
    "print('HYd' . isupper())  #   False\n",
    "print('HYD' . isupper()) #   True\n",
    "print('9247' . isupper())  #   False\n",
    "print('RAMA  RAO' . isupper()) # True\n",
    "print('+-$' . isupper()) # fasle\n",
    "print('HYD123' . isupper()) # True\n",
    "print('HYD+-$' . isupper()) # True\n",
    "print('' . isupper()) # False\n",
    "print('A2#' . isupper()) # True\n",
    "\n",
    "\n",
    "'''\n",
    "isupper()  method\n",
    "----------------------\n",
    "1) When  does  the  method  return  False ?  --->  When  at  least  one  character  of  the  string  is  lowercase  alphabet\n",
    "\t\t\t\t\t\t\t\t\t\t\t\t\t\t\t\t\t\t\t\t\t\t\t\t(or)\n",
    "\t\t\t\t\t\t\t\t\t\t\t\t\t\t\t                  When  there  are  no  uppercase  alphabets  in  the  string\n",
    "\n",
    "2) When  does  it  return  True ?  ---> When  there  are  no  lowercase  alphabets  in  the  string\n",
    "\t\t\t\t\t\t\t\t\t\t\t\t\t\t\t\t\t\t\t\t\t\tand\n",
    "\t\t\t\t\t\t\t\t\t\t\t\t\t\t\tat  least  one  character  is  an  uppercase  alphabet\n",
    "'''"
   ]
  },
  {
   "cell_type": "code",
   "execution_count": null,
   "id": "c5c498f8-1479-4bdd-82a5-0197b9342c3a",
   "metadata": {},
   "outputs": [],
   "source": [
    "# islower()  method  demo  program  (Home  work)\n",
    "print('hyD' . islower())  #  False\n",
    "print('hyd' . islower())  #  True\n",
    "print('9247' . islower())  #  False\n",
    "print('rama  rao' . islower()) # True\n",
    "print('+-$' . islower()) # False\n",
    "print('hyd+-$' . islower()) # True\n",
    "print('abc123' . islower())#  True\n",
    "print('' . islower()) # False\n",
    "print('a2#' . islower()) # True\n",
    "\n",
    "\n",
    "'''\n",
    "islower()  method\n",
    "---------------------\n",
    "1) When  does  the  method  return  False ?  --->  When  at  least  one  character  of  the  string  is  uppercase  alphabet\n",
    "\t\t\t\t\t\t\t\t\t\t\t\t\t\t\t\t\t\t\t\t\t\t\t\t(or)\n",
    "\t\t\t\t\t\t\t\t\t\t\t\t\t\t\t\t\t\t\t  When  there  are  no  lowercase  alphabets  in  the  string\n",
    "\n",
    "2) When  does  it  return  True ?  --->  When  there  are  no  uppercase  alphabets  in  the  string\n",
    "\t\t\t\t\t\t\t\t\t\t\t\t\t\t\t\t\t\t\t\t\t\tand\n",
    "\t\t\t\t\t\t\t\t\t\t\t\t\t\t\t at  least  one  character  is  an  lowercase  alphabet"
   ]
  },
  {
   "cell_type": "code",
   "execution_count": null,
   "id": "936feb4a-4ac2-46af-9196-4f8ddc6e04e0",
   "metadata": {},
   "outputs": [],
   "source": [
    "# isalnum()  method  demo  program  (Home  work)\n",
    "print('A7$g'  . isalnum())  #  False\n",
    "print('HYD' . isalnum())  #  True\n",
    "print('+-$' . isalnum()) # False\n",
    "print('hyd' . isalnum()) # True\n",
    "print('hYd' . isalnum()) # True\n",
    "print('9247' . isalnum()) # Ture\n",
    "print('' . isalnum()) # False\n",
    "print('A7g9'  . isalnum()) # True\n",
    "\n",
    "\n",
    "'''\n",
    "isalnum()  method\n",
    "----------------------\n",
    "1) When  does  it  return  False ?  --->  When  at  least  one  character  of  the  string  is  speical  character\n",
    "\t\t\t\t\t\t\t\t\t\t\t\t\t\t\t\t\t\t\t\t\t\t(or)\n",
    "\t\t\t\t\t\t\t\t\t\t\t\t\t\t\t when  there  are  no  alphabets  and  digits\n",
    "\n",
    "2) When  does  it  return  True ?  ---> When  there  are  no  special  characters  in  the  string\n",
    "\t\t\t\t\t\t\t\t\t\t\t\t\t\t\t\t\t\t\t\t\t\tand\n",
    "\t\t\t\t\t\t\t\t\t\t\t\t\t\t\t at  least  one  char  should  be  alphabet  (or)  digit\n",
    "\n",
    "3) What  is  isalpha()  +  isdigit()  called ?  ---> isalnum()\n",
    "'''"
   ]
  },
  {
   "cell_type": "code",
   "execution_count": null,
   "id": "ba253abd-3ea4-4482-b180-47e4a6318380",
   "metadata": {},
   "outputs": [],
   "source": [
    "# isspace()  method  demo  program  (Home  work)\n",
    "print('\\n  A\\t' . isspace())  #  False\n",
    "print('\\n  \\t' . isspace()) #  True\n",
    "print('\\n  7\\t' . isspace()) # False\n",
    "print('\\n' . isspace()) # True\n",
    "print('\\n  $\\t' . isspace()) # Fasle\n",
    "print('\\t' . isspace()) # True\n",
    "print('' . isspace()) # Fasle\n",
    "print(' ' . isspace()) # True\n",
    "\n",
    "\n",
    "'''\n",
    "isspace()  method\n",
    "---------------------\n",
    "1) When  does  it  return  True ?  --->  When  every  character  of  the  string  is  white  space  character\n",
    "\n",
    "2) When  does  it  return  False ?  --->  When  at  least  one  character  of  the  string  is  not  a  white  space\n",
    "                                                               i.e.  Alphabet, digit (or)  special  character\n",
    "'''"
   ]
  },
  {
   "cell_type": "code",
   "execution_count": null,
   "id": "3a328be1-e18e-4bc0-bd12-03584c7013c3",
   "metadata": {},
   "outputs": [],
   "source": [
    "# Find  outputs  (Home  work)\n",
    "a , b , c = 25 , 10.8 , 'Hyd'\n",
    "print('a  :  {}  \\t  b  :  {}  \\t  c  :  {}  '.format(a , b , c))  # a  :  25  \tb  :  10.8  \tc  :  Hyd\n",
    "print('a  :  {0}  \\t  b  :  {1}  \\t  c  :  {2}  '.format(a , b , c))  # a  :  25  \tb  :  10.8  \tc  :  Hyd\n",
    "print('a  :  {2}  \\t  b  :  {1}  \\t  c  :  {0}  '.format(a , b , c))  # a  :  Hyd  \tb  :  10.8  \tc  :  25\n",
    "print('a  :  {2}  \\t  b  :  {2}  \\t  c  :  {2}  '.format(a , b , c))  # a  :  Hyd  \tb  :  Hyd  \tc  :  Hyd\n",
    "print('a  :  {x}  \\t  b  :  {y}  \\t  c  :  {z}  '.format(x = a , y = b , z = c))  # a  :  25  \tb  :  10.8  \tc  :  Hyd\n",
    "print('a  :  {x}  \\t  b  :  {y}  \\t  c  :  {z}  '.format(z = a , y = b , x = c))  # a  :  Hyd  \tb  :  10.8  \tc  :  25\n",
    "print('a  :  {z}  \\t  b  :  {z}  \\t  c  :  {z}  '.format(z = a , y = b , x = c))  # a  :  25  \tb  :  25  \tc  :  25\n"
   ]
  },
  {
   "cell_type": "code",
   "execution_count": 32,
   "id": "1e22557b-0b31-42f4-867c-36a2d9718907",
   "metadata": {},
   "outputs": [
    {
     "name": "stdin",
     "output_type": "stream",
     "text": [
      "Enter a single character:  $\n"
     ]
    },
    {
     "name": "stdout",
     "output_type": "stream",
     "text": [
      "Special character\n"
     ]
    }
   ],
   "source": [
    "'''\n",
    "Write  a  program  to  determine  user  input  is  alphabet , digit , white space  or  special  character\n",
    "\n",
    "1) What  are  the  three  outputs  if  input  is  'A' ?  --->  Alphanumeric  character , Alphabet character , Upper case  alphabet\n",
    "\n",
    "2) What  are  the  three  outputs  if  input  is  'a' ?  ---> Alphanumeric  character , Alphabet character , lower case  alphabet\n",
    "\n",
    "3) What  are  the  two  outputs  if  input  is  '7' ?  ---> Alphanumeric  character , digit  character\n",
    "\n",
    "4) What  is  the  output  if  input  is  '$' ?  ---> Special  character\n",
    "\n",
    "5) What  is  the  output  if  input  is  <spacebar> ?  --->  White  space\n",
    "\n",
    "6) What  is  the  output  if  input  is  <tab>  key ?  --->  White  space\n",
    "\n",
    "7) What  is  the  output  if  input   is   <enter>   key ?  ---> White  space\n",
    "\n",
    "8) Hint2:  Use  nested  if  and   elif\n",
    "'''\n",
    "\n",
    "ch = input(\"Enter a single character: \")\n",
    "\n",
    "if ch.isalnum():  \n",
    "    print(\"Alphanumeric character\")\n",
    "    if ch.isalpha():\n",
    "        print(\"Alphabet character\")\n",
    "        if ch.isupper():\n",
    "            print(\"Upper case alphabet\")\n",
    "        else:\n",
    "            print(\"Lower case alphabet\")\n",
    "    elif ch.isdigit():\n",
    "        print(\"Digit character\")\n",
    "elif ch.isspace():  \n",
    "    print(\"White space\")\n",
    "else:\n",
    "    print(\"Special character\")\n"
   ]
  },
  {
   "cell_type": "code",
   "execution_count": 33,
   "id": "30ea73ac-9455-4e54-8532-a93ac2321758",
   "metadata": {},
   "outputs": [
    {
     "name": "stdin",
     "output_type": "stream",
     "text": [
      "Enter a string:  Hyd\n"
     ]
    },
    {
     "name": "stdout",
     "output_type": "stream",
     "text": [
      "dyH\n"
     ]
    }
   ],
   "source": [
    "'''\n",
    "Write  a  program  to  reverse  a  string  without  slice\n",
    "\n",
    "1) Let  input  be   Hyd\n",
    "    What  is  the  output ?  --->  dyH\n",
    "\n",
    "2)   H       y      d\n",
    "      -3     -2     -1\n",
    "\n",
    "      i       a[-i]            b\n",
    "    ---------------------------------------\n",
    "                                ''\n",
    "     1        'd'             '' + 'd' = 'd'\n",
    "     2       'y'             'd' + 'y' = 'dy'\n",
    "     3       'H'            'dy' + 'H' = 'dyH'\n",
    "  ---------------------------------------------\n",
    "'''\n",
    "\n",
    "string = input(\"Enter a string: \")\n",
    "reversed_string = \"\"\n",
    "for i in range(1, len(string) + 1):\n",
    "    reversed_string += string[-i]  \n",
    "print(reversed_string)\n"
   ]
  },
  {
   "cell_type": "code",
   "execution_count": 37,
   "id": "ed5b384a-f3b3-4a04-ad1b-34cbc5ac5c58",
   "metadata": {},
   "outputs": [
    {
     "name": "stdin",
     "output_type": "stream",
     "text": [
      "Enter string :  Hyd is green city\n"
     ]
    },
    {
     "name": "stdout",
     "output_type": "stream",
     "text": [
      "city green is Hyd\n"
     ]
    }
   ],
   "source": [
    "'''\n",
    "Write  a  program  to  reverse  order  of  words  in  the  sentence  without  slice\n",
    "\n",
    "1) Let  input  be  Hyd  is  green  city\n",
    "    What  is  the  output ?  ---> city   green   is   Hyd\n",
    "\n",
    "2) What  is  the  result  of  input . split() ?  --->  ['Hyd' , 'is' , 'green' , 'city']   --->   Assume  that  it  is  'b'\n",
    "\n",
    "3) i        b[-i]           c\n",
    "   ---------------------------------------------\n",
    "                              ''\n",
    "   1        'city'         '' + 'city' + ' '=  'city '\n",
    "   2        'green'     'city ' + 'green' + ' ' = 'city green '\n",
    "   3        'is'            'city green ' + 'is' + ' ' =  'city green is '\n",
    "   4        'Hyd'        'city green is ' + 'Hyd' + ' ' = 'city green is Hyd '\n",
    "   --------------------------------------------------------\n",
    "'''\n",
    "\n",
    "string = input('Enter string : ')\n",
    "words = string.split()  \n",
    "output = ''\n",
    "for i in range(len(words) - 1, -1, -1):\n",
    "    output += words[i] + ' '\n",
    "print(output.strip()) \n"
   ]
  },
  {
   "cell_type": "code",
   "execution_count": 38,
   "id": "5470e6a5-be2b-412f-8f30-793206691fa6",
   "metadata": {},
   "outputs": [
    {
     "name": "stdin",
     "output_type": "stream",
     "text": [
      "Enter a sentence:  Hyd is green city\n"
     ]
    },
    {
     "name": "stdout",
     "output_type": "stream",
     "text": [
      "dyH si neerg ytic\n"
     ]
    }
   ],
   "source": [
    "'''\n",
    "Write  a  program  to  reverse  each  word  of  the  sentence\n",
    "\n",
    "1) Let  input  be  Hyd  is  green  city\n",
    "    What  is  the  output ?  ---> dyH si neerg ytic\n",
    "\n",
    "2) Hint: Use  for  each  loop  and  also  slice\n",
    "'''\n",
    "\n",
    "string = input(\"Enter a sentence: \")\n",
    "\n",
    "words = string.split() \n",
    "output = \"\"\n",
    "\n",
    "for word in words:          \n",
    "    output += word[::-1] + \" \" \n",
    "\n",
    "print(output.strip())  \n"
   ]
  },
  {
   "cell_type": "code",
   "execution_count": 42,
   "id": "730a36c6-2a11-4b87-8b0b-248c5df7d01a",
   "metadata": {},
   "outputs": [
    {
     "name": "stdin",
     "output_type": "stream",
     "text": [
      "Enter a word :  RAJESH\n"
     ]
    },
    {
     "name": "stdout",
     "output_type": "stream",
     "text": [
      "['A', 'E', 'H', 'J', 'R', 'S']\n"
     ]
    }
   ],
   "source": [
    "'''\n",
    "Write  a  program  to  sort  string  in  alphabetical  order\n",
    "\n",
    "Let  input  be  RAJESH\n",
    "What  is  the  output ?  --->  AEHJRS\n",
    "'''\n",
    "string = input(\"Enter a word : \")\n",
    "output = sorted(string) \n",
    "print(str(output))"
   ]
  },
  {
   "cell_type": "code",
   "execution_count": 44,
   "id": "5aea2ff4-0cc1-4f4a-be84-e825f02d9bbb",
   "metadata": {},
   "outputs": [
    {
     "name": "stdin",
     "output_type": "stream",
     "text": [
      "Enter string:  N2AR72E26N2DR25A\n"
     ]
    },
    {
     "name": "stdout",
     "output_type": "stream",
     "text": [
      "AADENNRR22222567\n"
     ]
    }
   ],
   "source": [
    "'''\n",
    "Write  a  program  to  sort  string  such  that  alphabets  in  alphabetical  order  and  digits  in  ascending  order\n",
    "\n",
    "Let  input  be  Z9K3PA7D51\n",
    "What  is  the  output ?  --->  ADKPZ13579\n",
    "\n",
    "1)What  is  the  result  after  input  is  sorted ?  --->  '13579ADKPZ'\n",
    "\n",
    "2) alpha = '' + 'A' + 'D' + 'K' + 'P' + 'Z'\n",
    "    digit = '' + '1' + '3' + '5' + '7' + '9'\n",
    "\n",
    "3) What  is  the  result  after  alpha  and  digit  are  concatenated ?  --->  'ADKPZ13579'\n",
    "'''\n",
    "\n",
    "\n",
    "string = input(\"Enter string: \")\n",
    "alpha = \"\"\n",
    "digit = \"\"\n",
    "for ch in sorted(string):  \n",
    "    if ch.isalpha():\n",
    "        alpha += ch\n",
    "    elif ch.isdigit():\n",
    "        digit += ch\n",
    "result = alpha + digit\n",
    "print(result)\n"
   ]
  },
  {
   "cell_type": "code",
   "execution_count": null,
   "id": "ba952985-3b15-4af7-804a-005751afd828",
   "metadata": {},
   "outputs": [],
   "source": []
  }
 ],
 "metadata": {
  "kernelspec": {
   "display_name": "Python 3 (ipykernel)",
   "language": "python",
   "name": "python3"
  },
  "language_info": {
   "codemirror_mode": {
    "name": "ipython",
    "version": 3
   },
   "file_extension": ".py",
   "mimetype": "text/x-python",
   "name": "python",
   "nbconvert_exporter": "python",
   "pygments_lexer": "ipython3",
   "version": "3.13.5"
  }
 },
 "nbformat": 4,
 "nbformat_minor": 5
}

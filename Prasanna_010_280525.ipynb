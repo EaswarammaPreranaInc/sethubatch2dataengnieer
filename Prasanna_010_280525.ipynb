{
 "cells": [
  {
   "cell_type": "code",
   "execution_count": 22,
   "id": "9d4ed39f",
   "metadata": {},
   "outputs": [
    {
     "name": "stdout",
     "output_type": "stream",
     "text": [
      "{'A': 3, 'O': 1}\n"
     ]
    }
   ],
   "source": [
    "'''\n",
    "(Home  work)\n",
    "Write  a  program  to  determine  frequency  of  each  vowel  in  the  string  in  alphabetical  order (Ignoring  the  case)\n",
    "\n",
    "Let  input  be  RamA    raO\n",
    "What  is  the  output ?  --->  {'A' : 3 , 'O' : 1}\n",
    "\n",
    "Hint:  Same  as  prog23a  with  minor  changes\n",
    "Enter String:RamA raO\n",
    "{'A': 3, 'O': 1}\n",
    "'''\n",
    "s=input('ENter a string : ')\n",
    "a=s.upper()\n",
    "b={}\n",
    "c=sorted(a)\n",
    "for ch in c:\n",
    "    if ch in \"AEIOU\":\n",
    "        b[ch]=b.get(ch,0)+1\n",
    "print(b)"
   ]
  },
  {
   "cell_type": "code",
   "execution_count": null,
   "id": "9cc0d0b6",
   "metadata": {},
   "outputs": [],
   "source": [
    "# Find outputs (Home  work)\n",
    "a = [ ('R' , 'Red') , ('G' , 'Green') , ('B' , 'Blue')]\n",
    "b = {'Y' : 'Yellow', 'G' : 'Gray'}\n",
    "b . update(a)\n",
    "print(b)#{'Y': 'Yellow', 'G': 'Green', 'R': 'Red', 'B': 'Blue'}\n",
    "a . update(b)#Error due to no update method in list class"
   ]
  },
  {
   "cell_type": "code",
   "execution_count": null,
   "id": "1cdcbfb0",
   "metadata": {},
   "outputs": [],
   "source": [
    "#  Find  outputs  (Home  work)\n",
    "a = [ (10 , 20 , 30) , (40 , 50 , 60) , (70 , 80 , 90)]\n",
    "b = {}\n",
    "b.update(a)#Error due to argument should be exactly 2 \n",
    "print(b)#{}\n",
    "c = [(10,) , (20,) , (30,)]\n",
    "b . update(c)#Error due to argument should be exactly 2 \n",
    "print(b)#{}"
   ]
  },
  {
   "cell_type": "code",
   "execution_count": null,
   "id": "e3d73e3a",
   "metadata": {},
   "outputs": [],
   "source": [
    "#  Find  outputs (Home  work)\n",
    "d = {x : x ** 3   for    x   in  range(5)}\n",
    "print(d)#{0: 0, 1: 1, 2: 8, 3: 27, 4: 64}\n",
    "print(type(d))#class dict"
   ]
  },
  {
   "cell_type": "code",
   "execution_count": null,
   "id": "2d01b68f",
   "metadata": {},
   "outputs": [],
   "source": [
    "# Find outputs   (Home  work)\n",
    "d = { x :  2 * x    for    x   in   range(5) }\n",
    "print(d)#{0:0,1:2,2:4,3:6,4:8}"
   ]
  },
  {
   "cell_type": "code",
   "execution_count": null,
   "id": "b4849572",
   "metadata": {},
   "outputs": [],
   "source": [
    "# Find outputs  (Home  work)\n",
    "a = {10 : 'Rama' , 15 : 'Sita' , 18 : 'Rajesh' , 17 : 'Kiran' , 12 : 'Rama Rao'}\n",
    "b = { k :  v  for   k , v  in   a .items()   if    k % 2 != 0}\n",
    "print(b)#{15: 'Sita', 17: 'Kiran'}\n",
    "c = {k : a[k]   for   k   in    a    if   a[k] . startswith('R')}\n",
    "print(c)#{10: 'Rama', 18: 'Rajesh', 12: 'Rama Rao'}"
   ]
  },
  {
   "cell_type": "code",
   "execution_count": null,
   "id": "c7235f5d",
   "metadata": {},
   "outputs": [],
   "source": [
    "# Find outputs  (Home  work)\n",
    "def   f1():\n",
    "\tprint('Hyd')\n",
    "\tprint('Sec')\n",
    "\tprint('Cyb')\n",
    "# End  of  the  function\n",
    "print('Begin')#Begin\n",
    "x = f1()#Hyd Sec Cyb \n",
    "print(x)#None\n",
    "print(type(x))#Class NoneType\n",
    "print('End')#End"
   ]
  },
  {
   "cell_type": "code",
   "execution_count": null,
   "id": "ed7fb393",
   "metadata": {},
   "outputs": [],
   "source": [
    "# Find  outputs  (Home  work)\n",
    "def  f1():\n",
    "\treturn  10 , 20 , 30\n",
    "# End  of  the  function\n",
    "x = f1()\n",
    "print(x)#(10,20,30)\n",
    "print(type(x))#Class tuple\n",
    "a , b , c =  f1()\n",
    "print(a)#10\n",
    "print(b)#20\n",
    "print(c)#30\n",
    "print('for  loop')#for loop\n",
    "for  k   in   f1():\n",
    "\tprint(k)#10 20 30"
   ]
  },
  {
   "cell_type": "code",
   "execution_count": null,
   "id": "3390d05a",
   "metadata": {},
   "outputs": [],
   "source": [
    "# Find  outputs\n",
    "def    f1():\n",
    "        return  10\n",
    "        return  20\n",
    "        return  30\n",
    "# End  of  the  function\n",
    "print('Begin')#Begin\n",
    "x = f1()\n",
    "print(x)#10\n",
    "print('End')#End\n",
    "return   100#Error due to outside function"
   ]
  },
  {
   "cell_type": "code",
   "execution_count": null,
   "id": "cda0e881",
   "metadata": {},
   "outputs": [],
   "source": [
    "#  Find  outputs\n",
    "f1()\n",
    "def   f1():\n",
    "        print('Hello')\n",
    "print(f1())#Hello return None\n",
    "print(f1)#dunction f1 at address"
   ]
  },
  {
   "cell_type": "code",
   "execution_count": null,
   "id": "2a60128b",
   "metadata": {},
   "outputs": [],
   "source": [
    "# Find  outputs  (Home  work)\n",
    "print('Hello')#Hello\n",
    "def  f1():\n",
    "        print('f1  function')\n",
    "#End  of   function\n",
    "print('Hi')#Hi\n",
    "print(f1())#f1 function return None\n",
    "print(f1)#function f1 at address\n",
    "print('Bye')#Bye"
   ]
  },
  {
   "cell_type": "code",
   "execution_count": null,
   "id": "9eaa6a6a",
   "metadata": {},
   "outputs": [],
   "source": [
    "#  Find  outputs\n",
    "def    f1():\n",
    "        print('Hyd')\n",
    "        print('Sec')\n",
    "        print('Cyb')\n",
    "#End  of  the  function\n",
    "print('Begin')#Begin\n",
    "print(type(f1))#class function\n",
    "print(id(f1))#address of function\n",
    "print('End')#End"
   ]
  },
  {
   "cell_type": "code",
   "execution_count": null,
   "id": "e9a999c0",
   "metadata": {},
   "outputs": [],
   "source": [
    "#  Find  outputs (Home  work)\n",
    "def   add(a , b):\n",
    "        return  a + b\n",
    "#End  of  the  function\n",
    "print(add(10 , 20))#30\n",
    "print(add('Hyder' , 'abad'))#Hyderabad\n",
    "print(add(10.8 , 20.6))#31.4\n",
    "print(add(True , False))#1\n",
    "print(add(3 + 4j , 5 + 6j))#8+10j\n",
    "print(add(25 , 10.8))#35.8\n",
    "print(add([25 , 10.8 , 'Hyd'] , [True , None , 3+4j , 'Sec']))#[25, 10.8, 'Hyd', True, None, (3+4j), 'Sec']\n",
    "print(add(10 , '20'))#Error due to concetation not support between int and str"
   ]
  },
  {
   "cell_type": "code",
   "execution_count": null,
   "id": "775afdc6",
   "metadata": {},
   "outputs": [],
   "source": [
    "# Find  outputs (Home  work)\n",
    "def  f1():\n",
    "\tprint('No-argument  function')\n",
    "def  f1(x):\n",
    "\tprint('Single  argument  function  : ' , x)\n",
    "def  f1(x , y):\n",
    "\tprint('Two  argument  function : ' , x , y)\n",
    "def  f1(x , y , z):\n",
    "\tprint('Three  argument  function : ' , x , y , z)\n",
    "f1(10 , 20 , 30)#Three argument function:10 20 30\n",
    "f1(40 , 50)#Error due to less no of variable\n",
    "f1(60)#Error due to less no of variable\n",
    "f1()#Error due to less no of arguments"
   ]
  },
  {
   "cell_type": "code",
   "execution_count": 24,
   "id": "3eb8251d",
   "metadata": {},
   "outputs": [
    {
     "name": "stdout",
     "output_type": "stream",
     "text": [
      "Prime number\n"
     ]
    }
   ],
   "source": [
    "'''\n",
    "Write   a  function  to  test  a  number  is  prime  (or)  not.\n",
    "1) What  is  a  prime  number ?  ---> A  number  without  divisors  except  1  and  itself\n",
    "\n",
    "2) Let  input  be  25\n",
    "    What  is  the  range  of  divisors ? ---> i =   2 , 3 , 4 , 5 , 6 , .....  12\n",
    "\n",
    "3) Let  input   be  11\n",
    "    What  is   the  range  of  divisors ? ---> i =  2 , 3 , 4 , 5\n",
    "\n",
    "4) What  action  to  be  made  if  'i'  is  not  a  divisor  of  input  number ?  ---> Move  to  the  next  element  of  range  object\n",
    "\n",
    "5) What  action  to  be  made  if  'i'  is  a  divisor  of  input  number ?  --->  return   False\n",
    "\n",
    "6) What  action  to  be  made  if  there  are  no  divisiors  to  input  number  ? ---> return  True  outside  the  loop\n",
    "'''\n",
    "#def   prime(n):\n",
    "\t#return  true   when  'n'  is  prime  number  and  False  otherwise\n",
    "'''\n",
    "1) prime(25)  --->\n",
    "    How  many  times  is  for  loop  executed ?  --->\n",
    "\n",
    "2) prime(11) --->\n",
    "    How  many  times  is  for  loop  executed ?  --->\n",
    "\n",
    "3) prime(2) --->\n",
    "    How  many  times  is  for  loop  executed ?  --->\n",
    "\n",
    "4) prime(49) --->\n",
    "    How  many  times  is  for  loop  executed ?  --->\n",
    "'''\n",
    "def prime(n):\n",
    "    if n <= 1:\n",
    "        return False\n",
    "    for i in range(2, int(n**0.5) + 1):  \n",
    "        if n % i == 0:\n",
    "            return False   \n",
    "    return True   \n",
    "try:\n",
    "    n = int(input(\"Enter a number: \"))   \n",
    "    if prime(n):\n",
    "        print(\"Prime number\")\n",
    "    else:\n",
    "        print(\"Composite number\")\n",
    "except ValueError:\n",
    "    print(\"Invalid input\")\n",
    "\n",
    "\t\n"
   ]
  },
  {
   "cell_type": "code",
   "execution_count": null,
   "id": "167cd040",
   "metadata": {},
   "outputs": [],
   "source": [
    "# Find  outputs  (Home  work)\n",
    "def   disp(empno , ename , sal):\n",
    "        print(F'Emp  Number  :  {empno} \\t  Emp Name  :  {ename} \\t  Salary  :  {sal}')\n",
    "# End  of  the  function\n",
    "disp(25 , 'Rama  Rao' , 10000.0)#Emp  Number  :  25 \t  Emp Name  :  Rama  Rao \t  Salary  :  10000.0\n",
    "disp('Sita' , 20000.0 , 35)#Emp  Number  :  Sita \t  Emp Name  :  20000.0 \t  Salary  :  35"
   ]
  }
 ],
 "metadata": {
  "kernelspec": {
   "display_name": "Python 3",
   "language": "python",
   "name": "python3"
  },
  "language_info": {
   "codemirror_mode": {
    "name": "ipython",
    "version": 3
   },
   "file_extension": ".py",
   "mimetype": "text/x-python",
   "name": "python",
   "nbconvert_exporter": "python",
   "pygments_lexer": "ipython3",
   "version": "3.13.2"
  }
 },
 "nbformat": 4,
 "nbformat_minor": 5
}

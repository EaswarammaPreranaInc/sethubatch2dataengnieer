{
 "cells": [
  {
   "cell_type": "code",
   "execution_count": null,
   "id": "30719d0d",
   "metadata": {},
   "outputs": [],
   "source": [
    "# Find  outputs   (Home  work)\n",
    "a = 25 , 10.8 , 3 + 4j , 'Hyd' , True , None , 'Hyd' , 25\n",
    "print(a)#25 , 10.8 , 3 + 4j , 'Hyd' , True , None , 'Hyd' , 25\n",
    "print(type(a))#class tuple\n",
    "a[3] = 'Sec'#Error due to tuple is immutuable \n",
    "a[3 : 6] = 60 , 70 , 80#Error due to tuple is immutable"
   ]
  },
  {
   "cell_type": "code",
   "execution_count": null,
   "id": "6a41a9d6",
   "metadata": {},
   "outputs": [],
   "source": [
    "#  Find  outputs\n",
    "a = (1,2,3)\n",
    "b = (4,5,6)\n",
    "print(a , id(a))#(1,2,3) address of object a\n",
    "a += b\n",
    "print(a , id(a))#(1,2,3,4,5,6) address of different object a"
   ]
  },
  {
   "cell_type": "code",
   "execution_count": null,
   "id": "ca84313e",
   "metadata": {},
   "outputs": [],
   "source": [
    "#  Find  outputs\n",
    "a = (1,2,3)\n",
    "b = (4,5,6)\n",
    "print(a , id(a))#(1,2,3) address of object a\n",
    "a = a + b\n",
    "print(a , id(a))#(1,2,3,4,5,6) address of different object a"
   ]
  },
  {
   "cell_type": "code",
   "execution_count": null,
   "id": "5e5a7add",
   "metadata": {},
   "outputs": [],
   "source": [
    "#  What   are  the  outputs  if  input  is  (10 , 20 , 30 , 40) ?   (Home  work)\n",
    "a = input('Enter  Tuple  :  ')\n",
    "print(a)#(10,20,30,40)\n",
    "print(type(a))#class str\n",
    "b = eval(a)\n",
    "print(b)#(10,20,30,40)\n",
    "print(type(b))#class tuple\n",
    "print(len(b))#4"
   ]
  },
  {
   "cell_type": "code",
   "execution_count": null,
   "id": "60bda633",
   "metadata": {},
   "outputs": [],
   "source": [
    "# Find  outputs  (Home  work)\n",
    "a = (10 , [20 , 30 , 40] , 50 , 60)\n",
    "a[1][0] = 70\n",
    "print(a)#(10,[70,30,40],50,60)\n",
    "a[1] = [80 , 90 , 100]\n",
    "print(a)#Error due to tuple is immutable"
   ]
  },
  {
   "cell_type": "code",
   "execution_count": null,
   "id": "cf93ec49",
   "metadata": {},
   "outputs": [],
   "source": [
    "# Find  outputs  (Home  work)\n",
    "a = [10 , (20 , 30 , 40) , 50 , 60]\n",
    "a[1][0] = 70\n",
    "print(a)#Error due to tuple is not modified\n",
    "a[1] = [80 , 90]\n",
    "print(a)#[10,[80,90],50,60]"
   ]
  },
  {
   "cell_type": "code",
   "execution_count": null,
   "id": "6487cc66",
   "metadata": {},
   "outputs": [],
   "source": [
    "# Find  outputs   (Home  work)\n",
    "a = 25\n",
    "b = 10.8\n",
    "c = 'Hyd'\n",
    "d = True\n",
    "x = a , b , c , d\n",
    "print(x)#(25,10.8,'Hyd',True)\n",
    "print(type(x))#class tuple"
   ]
  },
  {
   "cell_type": "code",
   "execution_count": null,
   "id": "2d4eb395",
   "metadata": {},
   "outputs": [],
   "source": [
    "# Find  outputs   (Home  work)\n",
    "x = 25 , 10.8 , 'Hyd' , True\n",
    "a , b , c , d = x\n",
    "print(a)#25\n",
    "print(b)#10.8\n",
    "print(c)#Hyd\n",
    "print(d)#True\n",
    "#p , q , r =  x#More values to unpack\n",
    "a , b , c , d  , e = x#less values "
   ]
  },
  {
   "cell_type": "code",
   "execution_count": null,
   "id": "e3eeab14",
   "metadata": {},
   "outputs": [],
   "source": [
    "# Find  outputs   (Home  work)\n",
    "x = 25 , 10.8 , 'Hyd' , True\n",
    "a , *b , c = x\n",
    "print(a)#25\n",
    "print(b)#[10.8,'Hyd']\n",
    "print(c)#True"
   ]
  },
  {
   "cell_type": "code",
   "execution_count": null,
   "id": "52b57093",
   "metadata": {},
   "outputs": [],
   "source": [
    "# Find  outputs   (Home  work)\n",
    "tpl = 25 , 10.8 , 'Hyd' , True\n",
    "a , b , *c , d , e = tpl\n",
    "print(a)#25\n",
    "print(b)#10.8\n",
    "print(c)#[]\n",
    "print(d)#Hyd\n",
    "print(e)#True"
   ]
  },
  {
   "cell_type": "code",
   "execution_count": null,
   "id": "d11c28d8",
   "metadata": {},
   "outputs": [],
   "source": [
    "# Find  outputs   (Home  work)\n",
    "x = 25 , 10.8 , 'Hyd' , True , 3 + 4j\n",
    "a , b , _ , d , _= x\n",
    "print(a)#25\n",
    "print(b)#10.8\n",
    "print(_)#3+4j\n",
    "print(d)#True\n",
    "print(_)#3+4j"
   ]
  },
  {
   "cell_type": "code",
   "execution_count": null,
   "id": "b10c9ecf",
   "metadata": {},
   "outputs": [],
   "source": [
    "# tuple()  function  demo  program   (Home  work)\n",
    "a = range(100 , 150 , 10)\n",
    "b = tuple(a)\n",
    "print(b)#(100,110,120,130,140)\n",
    "print(type(b))#class tuple\n",
    "c = [10 , 20 , 15, 18]\n",
    "d = tuple(c)\n",
    "print(d)#(10,20,15,18)\n",
    "e = tuple('Vamsi')\n",
    "print(e)#('V','a','m','s','i')\n",
    "#print(tuple(25))#Error because argument should be sequence\n",
    "print(tuple())#()\n",
    "\n",
    "\n",
    "'''\n",
    "tuple()  function\n",
    "--------------------\n",
    "1) What  does  tuple(sequence)  do  ?  --->  Converts  sequence  to  tuple\n",
    "\n",
    "2) What  does  tuple(No-args)  do  ?  ---> Returns  an  empty  tuple\n",
    "\n",
    "3) Is  tuple(non-sequence)  valid ?  --->  No  becoz  argument  should  be  sequence  only\n",
    "\n",
    "4) How  many  arguments  can  tuple()  function  take ?  --->  1 (or)  none  but  not  more  than  one\n",
    "'''"
   ]
  }
 ],
 "metadata": {
  "kernelspec": {
   "display_name": "Python 3",
   "language": "python",
   "name": "python3"
  },
  "language_info": {
   "codemirror_mode": {
    "name": "ipython",
    "version": 3
   },
   "file_extension": ".py",
   "mimetype": "text/x-python",
   "name": "python",
   "nbconvert_exporter": "python",
   "pygments_lexer": "ipython3",
   "version": "3.13.2"
  }
 },
 "nbformat": 4,
 "nbformat_minor": 5
}

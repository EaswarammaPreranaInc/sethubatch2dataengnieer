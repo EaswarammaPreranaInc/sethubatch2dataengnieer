{
 "cells": [
  {
   "cell_type": "markdown",
   "id": "93cafd16",
   "metadata": {},
   "source": [
    "1. Longest Consecutive Sequence\n",
    "Problem: Given an unsorted array of integers, find the length of the longest consecutive elements sequence.\n",
    "\n",
    "Input:\n",
    "nums = [100, 4, 200, 1, 3, 2]\n",
    "Output:\n",
    "4\n",
    "Explanation: The longest sequence is [1, 2, 3, 4]"
   ]
  },
  {
   "cell_type": "code",
   "execution_count": 4,
   "id": "62047afb",
   "metadata": {},
   "outputs": [
    {
     "name": "stdout",
     "output_type": "stream",
     "text": [
      "9\n"
     ]
    }
   ],
   "source": [
    "nums = [100, 4, 200, 1, 3, 2,12,13,14,15,16,17,18,19,20]\n",
    "\n",
    "# Step 1: Sort the array manually (selection sort for simplicity)\n",
    "n = len(nums)\n",
    "for i in range(n):\n",
    "    for j in range(i + 1, n):\n",
    "        if nums[j] < nums[i]:\n",
    "            nums[i], nums[j] = nums[j], nums[i]\n",
    "# Step 2: Traverse sorted array to find longest consecutive sequence\n",
    "longest = 1\n",
    "current_streak = 1\n",
    "#nums[1,2,3,4,100,200]\n",
    "for i in range(1, n):\n",
    "    if nums[i] == nums[i - 1] + 1:\n",
    "        current_streak += 1\n",
    "    elif nums[i] == nums[i - 1]:\n",
    "        continue  # skip duplicates\n",
    "    else:\n",
    "        if current_streak > longest:\n",
    "            longest = current_streak\n",
    "        current_streak = 1  # reset the streak\n",
    "\n",
    "# In case the longest streak is at the end\n",
    "if current_streak > longest:\n",
    "    longest = current_streak\n",
    "\n",
    "print(longest)"
   ]
  },
  {
   "cell_type": "markdown",
   "id": "d9977248",
   "metadata": {},
   "source": [
    "2. Subarray Sum Equals K\n",
    "Problem: Given an array of integers and an integer k, return the total number of continuous subarrays whose sum equals to k.\n",
    "\n",
    "Input:\n",
    "nums = [1, 1, 1], k = 2\n",
    "Output:\n",
    "2\n",
    "nums = [1, 2, 3],k = 3\n",
    "Output:\n",
    "2\n",
    "nums = [3, 4, 7, 2, -3, 1, 4, 2],k = 7\n",
    "Output:\n",
    "4"
   ]
  },
  {
   "cell_type": "code",
   "execution_count": null,
   "id": "836803f9",
   "metadata": {},
   "outputs": [
    {
     "name": "stdout",
     "output_type": "stream",
     "text": [
      "3\n",
      "7\n",
      "7\n",
      "7\n",
      "7\n",
      "7\n",
      "7\n",
      "3\n"
     ]
    }
   ],
   "source": [
    "nums=eval(input(\"Enter any list :\"))#[3, 4, 7, 2, -3, 1, 4, 2]\n",
    "k= int(input(\"Enter an integer k :\"))#7\n",
    "c=0\n",
    "sub=[]\n",
    "for i in range(1,len(nums)):#1,2,3,4,5,6,7\n",
    "    if nums[i-1]==k:#3==7\n",
    "           c+=1\n",
    "    elif nums[i-1]<k and sum!=k:\n",
    "          sub.append(nums[i-1])\n",
    "print(c)\n",
    "    \n"
   ]
  },
  {
   "cell_type": "markdown",
   "id": "a326036b",
   "metadata": {},
   "source": [
    "1. Greet the User\n",
    "Problem: Ask the user for their name and age. Print a message like:\n",
    "\"Hello Vaishnavi, you are 24 years old.\""
   ]
  },
  {
   "cell_type": "code",
   "execution_count": 10,
   "id": "e9121e70",
   "metadata": {},
   "outputs": [
    {
     "name": "stdout",
     "output_type": "stream",
     "text": [
      "Hello Vaishnavi,you are 24 years old.\n"
     ]
    }
   ],
   "source": [
    "Name=input(\"can you provide your name?\")\n",
    "age=input(\"can you lets me know your age?\")\n",
    "print(F'Hello {Name},you are {age} years old.')"
   ]
  },
  {
   "cell_type": "markdown",
   "id": "1b45a5f1",
   "metadata": {},
   "source": [
    "2. Even or Odd\n",
    "Problem: Take a number from the user and check if it is even or odd."
   ]
  },
  {
   "cell_type": "code",
   "execution_count": 13,
   "id": "5e82cfb8",
   "metadata": {},
   "outputs": [
    {
     "name": "stdout",
     "output_type": "stream",
     "text": [
      "2000000000000000000 is an Even number\n"
     ]
    }
   ],
   "source": [
    "num=int(input(\"Enter an number :\"))\n",
    "if num%2==0:\n",
    "    print(F\"{num} is an Even number\")\n",
    "else:\n",
    "    print(F\"{num} is an odd number\")"
   ]
  },
  {
   "cell_type": "markdown",
   "id": "baf9b307",
   "metadata": {},
   "source": [
    "3. Sum of First N Natural Numbers\n",
    "Problem: Input n and calculate the sum from 1 to n.\n",
    "(Hint: Use a loop or the formula n(n+1)/2)"
   ]
  },
  {
   "cell_type": "code",
   "execution_count": 1,
   "id": "327bbed7",
   "metadata": {},
   "outputs": [
    {
     "name": "stdout",
     "output_type": "stream",
     "text": [
      "20.0\n"
     ]
    }
   ],
   "source": [
    "num=int(input(\"Enter an number :\"))\n",
    "sum=0\n",
    "for i in range(1,num+1):#1,2,3\n",
    "    sum+=(i*(i+1))/2\n",
    "print(sum)#1+3+6"
   ]
  },
  {
   "cell_type": "markdown",
   "id": "caffd52e",
   "metadata": {},
   "source": [
    "🔄 Level 2: Loops and Logic Building\n",
    "4. Multiplication Table\n",
    "Problem: Ask for a number and print its multiplication table up to 10."
   ]
  },
  {
   "cell_type": "code",
   "execution_count": 6,
   "id": "5907bf5c",
   "metadata": {},
   "outputs": [
    {
     "name": "stdout",
     "output_type": "stream",
     "text": [
      "18 X 1 = 18\n",
      "18 X 2 = 36\n",
      "18 X 3 = 54\n",
      "18 X 4 = 72\n",
      "18 X 5 = 90\n",
      "18 X 6 = 108\n",
      "18 X 7 = 126\n",
      "18 X 8 = 144\n",
      "18 X 9 = 162\n",
      "18 X 10 = 180\n"
     ]
    }
   ],
   "source": [
    "num=int(input(\"Enter an number which you want a multiplication table: \"))\n",
    "for i in range(1,11):\n",
    "    print(F\"{num} X {i} =\",num*i)"
   ]
  },
  {
   "cell_type": "markdown",
   "id": "ffe25166",
   "metadata": {},
   "source": [
    "5. Number Reversal\n",
    "Problem: Input a number (e.g. 1234) and print it in reverse (4321)."
   ]
  },
  {
   "cell_type": "code",
   "execution_count": 9,
   "id": "3b6fb3eb",
   "metadata": {},
   "outputs": [
    {
     "name": "stdout",
     "output_type": "stream",
     "text": [
      "4321\n"
     ]
    }
   ],
   "source": [
    "num=input('Enter an number you want to reverse an number:')\n",
    "rev_num=num[::-1]\n",
    "print(rev_num)"
   ]
  },
  {
   "cell_type": "code",
   "execution_count": null,
   "id": "cdaaa241",
   "metadata": {},
   "outputs": [
    {
     "name": "stdout",
     "output_type": "stream",
     "text": [
      "123456789\n"
     ]
    }
   ],
   "source": [
    "num=input('Enter an number you want to reverse an number:')#987654321\n",
    "s=''\n",
    "for i in range(1,len(num)+1):#1234\n",
    "    s+=num[-i]\n",
    "print(s)"
   ]
  },
  {
   "cell_type": "code",
   "execution_count": 42,
   "id": "2628628f",
   "metadata": {},
   "outputs": [
    {
     "name": "stdout",
     "output_type": "stream",
     "text": [
      "6789\n"
     ]
    }
   ],
   "source": [
    "num=int(input('Enter an number you want to reverse an number:'))#9876\n",
    "rev=0\n",
    "while num!=0:\n",
    "    s=num%10\n",
    "    rev=s+10*rev\n",
    "    num=num//10\n",
    "print(rev)\n",
    "\n"
   ]
  },
  {
   "cell_type": "markdown",
   "id": "e85ddb46",
   "metadata": {},
   "source": [
    "6. Count Digits in a Number\n",
    "Problem: Input a number and count how many digits it has."
   ]
  },
  {
   "cell_type": "code",
   "execution_count": 44,
   "id": "ac3825e2",
   "metadata": {},
   "outputs": [
    {
     "name": "stdout",
     "output_type": "stream",
     "text": [
      "9\n"
     ]
    }
   ],
   "source": [
    "num=int(input(\"Enter an number: \"))\n",
    "c=0\n",
    "while num!=0:\n",
    "    s=num%10\n",
    "    c+=1\n",
    "    num//=10\n",
    "print(c)"
   ]
  },
  {
   "cell_type": "markdown",
   "id": "d10a572b",
   "metadata": {},
   "source": [
    "🧠 Level 3: Lists, Strings, and Loops\n",
    "7. Find the Maximum in a List\n",
    "Problem: Given a list of numbers, find the maximum number without using built-in max()."
   ]
  },
  {
   "cell_type": "code",
   "execution_count": 48,
   "id": "a3933df4",
   "metadata": {},
   "outputs": [
    {
     "name": "stdout",
     "output_type": "stream",
     "text": [
      "98\n",
      "99\n",
      "99\n",
      "6\n",
      "23\n"
     ]
    }
   ],
   "source": [
    "l1=eval(input(\"Enter an list with an numbers\"))#[98,79,99,6,5,23]\n",
    "max_num=0\n",
    "for i in range (1,len(l1)):#1,2,3,4,5,6\n",
    "    if l1[i-1]>l1[i]:#79>99\n",
    "        max_num=l1[i-1]#98\n",
    "        print(max_num)\n",
    "    else:\n",
    "        max_num=l1[i]\n",
    "        print(max_num)#98\n",
    "#print(max_num)"
   ]
  },
  {
   "cell_type": "markdown",
   "id": "d20e23ad",
   "metadata": {},
   "source": [
    "8. Check Palindrome (String)\n",
    "Problem: Ask for a string and check if it's a palindrome (reads same backward).\n",
    "Examples: \"madam\", \"level\" ✅, \"python\" ❌"
   ]
  },
  {
   "cell_type": "code",
   "execution_count": 6,
   "id": "f3cf2eba",
   "metadata": {},
   "outputs": [
    {
     "name": "stdout",
     "output_type": "stream",
     "text": [
      "PYTHON is not an palindrome\n"
     ]
    }
   ],
   "source": [
    "inp=input(\"Enter an string to know it is a Palindrome or not :\").upper()\n",
    "rev=(inp[::-1]).upper()\n",
    "if inp==rev:\n",
    "    print(f'{inp} is an palindrome')\n",
    "else:\n",
    "    print(f'{inp} is not an palindrome')"
   ]
  },
  {
   "cell_type": "markdown",
   "id": "6eb2948d",
   "metadata": {},
   "source": [
    "9. Sum of Even Numbers in a List\n",
    "Problem: Input 10 numbers into a list and find the sum of even numbers only."
   ]
  },
  {
   "cell_type": "code",
   "execution_count": 7,
   "id": "352c6725",
   "metadata": {},
   "outputs": [
    {
     "name": "stdout",
     "output_type": "stream",
     "text": [
      "Sum of Even Numbers : 40\n"
     ]
    }
   ],
   "source": [
    "inp=eval(input(\"Enter an list :\"))\n",
    "sum=0\n",
    "for i in inp:\n",
    "    if i%2==0:\n",
    "        sum+=i\n",
    "print(F\"Sum of Even Numbers : {sum}\")"
   ]
  },
  {
   "cell_type": "markdown",
   "id": "23e249e5",
   "metadata": {},
   "source": [
    "🧩 Level 4: Functions and Custom Logic\n",
    "10. Prime Number Checker\n",
    "Problem: Write a function is_prime(n) that checks if a number is prime."
   ]
  },
  {
   "cell_type": "code",
   "execution_count": null,
   "id": "c9c92597",
   "metadata": {},
   "outputs": [
    {
     "name": "stdout",
     "output_type": "stream",
     "text": [
      "3 is a prime number\n"
     ]
    }
   ],
   "source": [
    "def is_prime (n):\n",
    "    if n==0 or n==1:\n",
    "        print(F\"{n} is not an prime number\")\n",
    "    elif n>0:\n",
    "        for i in range(2,n):#1,2,3\n",
    "            if n%i==0:\n",
    "                c+=0\n",
    "            continue\n",
    "    if c>1:\n",
    "        print(F\"{n} is not an prime number\")\n",
    "    else:\n",
    "        print(F\"{n} is a prime number\")\n",
    "inp=int(input(\"Enter an number\"))\n",
    "is_prime(inp)"
   ]
  },
  {
   "cell_type": "markdown",
   "id": "2fea0199",
   "metadata": {},
   "source": [
    "11. Fibonacci Series Generator\n",
    "Problem: Write a function to print the first n Fibonacci numbers."
   ]
  },
  {
   "cell_type": "code",
   "execution_count": 4,
   "id": "1d09364b",
   "metadata": {},
   "outputs": [
    {
     "name": "stdout",
     "output_type": "stream",
     "text": [
      "0\n",
      "1\n",
      "1\n",
      "2\n",
      "3\n",
      "5\n",
      "8\n",
      "13\n",
      "21\n"
     ]
    }
   ],
   "source": [
    "inp=int(input(\"Enter an number : \"))\n",
    "a=0\n",
    "b=1\n",
    "c=a+b\n",
    "print(a)\n",
    "print(b)\n",
    "print(c)\n",
    "for i in range(3,inp):\n",
    "    a=b\n",
    "    b=c\n",
    "    c=a+b\n",
    "    print(c)\n"
   ]
  },
  {
   "cell_type": "markdown",
   "id": "2646bcc1",
   "metadata": {},
   "source": [
    "12. Count Vowels in a Sentence\n",
    "Problem: Write a function that takes a sentence and returns the number of vowels."
   ]
  },
  {
   "cell_type": "code",
   "execution_count": 17,
   "id": "f416f160",
   "metadata": {},
   "outputs": [
    {
     "name": "stdout",
     "output_type": "stream",
     "text": [
      "Number of Vowels in a Sentence :7\n"
     ]
    }
   ],
   "source": [
    "a=input(\"Enter an sentence :\").upper()\n",
    "c=0\n",
    "for i in a:\n",
    "    if (i=='A' or i=='E' or i=='I' or i=='O' or i=='U'):\n",
    "        c+=1\n",
    "print(F'Number of Vowels in a Sentence :{c}')     "
   ]
  },
  {
   "cell_type": "markdown",
   "id": "3e273024",
   "metadata": {},
   "source": [
    "🗂️ Level 5: Dictionaries, Sets, File Handling\n",
    "13. Character Frequency in a String\n",
    "Problem: Count how many times each character appears in a string using a dictionary.\n",
    "Input: \"hello\" → Output: {h:1, e:1, l:2, o:1}"
   ]
  },
  {
   "cell_type": "code",
   "execution_count": null,
   "id": "6d53eb10",
   "metadata": {},
   "outputs": [],
   "source": [
    "inp=input(\"Enter a string : \")\n",
    "for i in range(len(inp)):\n",
    "    \n"
   ]
  }
 ],
 "metadata": {
  "kernelspec": {
   "display_name": "Python 3",
   "language": "python",
   "name": "python3"
  },
  "language_info": {
   "codemirror_mode": {
    "name": "ipython",
    "version": 3
   },
   "file_extension": ".py",
   "mimetype": "text/x-python",
   "name": "python",
   "nbconvert_exporter": "python",
   "pygments_lexer": "ipython3",
   "version": "3.12.6"
  }
 },
 "nbformat": 4,
 "nbformat_minor": 5
}

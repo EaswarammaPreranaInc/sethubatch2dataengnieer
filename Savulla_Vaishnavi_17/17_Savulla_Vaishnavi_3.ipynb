{
 "cells": [
  {
   "cell_type": "markdown",
   "id": "c0d83ba2",
   "metadata": {},
   "source": [
    "Day-1"
   ]
  },
  {
   "cell_type": "markdown",
   "id": "0910d4e3",
   "metadata": {},
   "source": [
    "'''\n",
    "Write  a  program  to  add ,  subtract , multiply  and  divide  two  complex  numbers\n",
    "\n",
    "First  complex  number   --->  3 + 4j\n",
    "2nd   complex  number   --->  5 + 6j\n",
    "What  is  the  sum ? ---> (3 + 4j) + (5 + 6j) = 8 + 10j\n",
    "What  is  the  difference ?  ---> (3 + 4j) - (5 + 6j) =  -2 - 2j\n",
    "What  is  the  product ?  ---> (3 + 4j) * (5 + 6j) =  15 + 18j + 20j - 24 =  -9 + 38j\n",
    "\n",
    "\n",
    "What  is  the  division ?  ---> (3 + 4j) / (5 + 6j) = (3 + 4j) * (5 - 6j) / (5 + 6j) * (5 -6j)\n",
    "                                                                         =   (15 - 18j + 20j + 24) / (25 + 36)\n",
    "\t\t\t\t\t\t\t\t\t\t\t\t\t\t\t\t\t\t = 39 / 61 + 2j / 61\t\t\t\t\t\t\t\t\t\t\t   \n",
    "'''"
   ]
  },
  {
   "cell_type": "markdown",
   "id": "3d5d882a",
   "metadata": {},
   "source": [
    "Enter first complex number : 3+4j\n",
    "Enter second complex number: 5+6j\n",
    "Sum :  (8+10j)\n",
    "Difference :  (-2-2j)\n",
    "Product:  (-9+38j)\n",
    "Division :  (0.6393442622950819+0.03278688524590165j)"
   ]
  },
  {
   "cell_type": "code",
   "execution_count": null,
   "id": "be6d9495",
   "metadata": {},
   "outputs": [],
   "source": [
    "x=complex(input(\"Enter first complex number :\"))\n",
    "y=complex(input(\"Enter second complex number :\"))\n",
    "print(F'sum :{x+y}')\n",
    "print(F'Difference :{x-y}')\n",
    "print(F'Product :{x*y}')\n",
    "print(F'Division :{x/y:.2f}')"
   ]
  },
  {
   "cell_type": "code",
   "execution_count": null,
   "id": "bc247caf",
   "metadata": {},
   "outputs": [],
   "source": [
    "# Identify  error\n",
    "#else:\n",
    "\t\t#print('else  suite')#Error because of indentation\n",
    "#print('Outside')"
   ]
  },
  {
   "cell_type": "code",
   "execution_count": null,
   "id": "e632328d",
   "metadata": {},
   "outputs": [],
   "source": [
    "# Identify  error\n",
    "#if  9 > 5 #Error because of missing colon\n",
    "\t#print('Hello')\n",
    "#print('Bye')"
   ]
  },
  {
   "cell_type": "code",
   "execution_count": null,
   "id": "a5e0bf41",
   "metadata": {},
   "outputs": [],
   "source": [
    "# Identify  error\n",
    "if  9 > 12:\n",
    "\tprint('Hyd')\n",
    "else#Error because of missing colon\n",
    "\tprint('Sec')"
   ]
  },
  {
   "cell_type": "code",
   "execution_count": null,
   "id": "535ad952",
   "metadata": {},
   "outputs": [],
   "source": [
    "# Identify  error\n",
    "if  (10,20,15):\n",
    "print('Hyd')#Error because of indentation\n",
    "else:#Error because of indentation\n",
    "print('Sec')"
   ]
  },
  {
   "cell_type": "code",
   "execution_count": null,
   "id": "f2096992",
   "metadata": {},
   "outputs": [],
   "source": [
    "# Identify  error\n",
    "if  ():\n",
    "\t\t\tprint('Hyd')\n",
    "\telse:#Error because of indentation\n",
    "\t\t\t\t\tprint('Sec')\n",
    "print('Bye')"
   ]
  },
  {
   "cell_type": "code",
   "execution_count": null,
   "id": "68f2ffb5",
   "metadata": {},
   "outputs": [],
   "source": [
    "# Identify  error\n",
    "if  { }:\n",
    "{#Error because of opening curly brace they are used only for dictionaries and sets\n",
    "\tprint('One')\n",
    "\tprint('Two')\n",
    "\tprint('Three')\n",
    "}\n",
    "else:\n",
    "{#Error because of opening curly brace they are used only for dictionaries and sets\n",
    "\tprint('Four')\n",
    "\tprint('Five')\n",
    "\tprint('Six')\n",
    "}\n",
    "print('Bye')"
   ]
  },
  {
   "cell_type": "code",
   "execution_count": null,
   "id": "31449362",
   "metadata": {},
   "outputs": [],
   "source": [
    "# Identify  error\n",
    "if  ():\n",
    "\tprint('One')\n",
    "\tprint('Two')\n",
    "\tprint('Three')\n",
    "else:\n",
    "if  []:#Error because of indentation\n",
    "\tprint('Four')\n",
    "\tprint('Five')\n",
    "\tprint('Six')\n",
    "else:\n",
    "if  {}:#Error because of indentation\n",
    "\tprint('Seven')\n",
    "\tprint('Eight')\n",
    "\tprint('Nine')\n",
    "else:\n",
    "\tprint('Hyd')\n",
    "\tprint('Sec')\n",
    "\tprint('Cyb')\n",
    "print('Bye')"
   ]
  },
  {
   "cell_type": "markdown",
   "id": "16f48a28",
   "metadata": {},
   "source": [
    "# Write  a  program  to  determine  a  number  is  even  or  odd  with   if  statement"
   ]
  },
  {
   "cell_type": "code",
   "execution_count": null,
   "id": "0fcd4fd1",
   "metadata": {},
   "outputs": [],
   "source": [
    "x=int(input(\"Enter a positive number :\"))\n",
    "if x % 2 == 0:\n",
    "    print(F'{x} is a even number')\n",
    "else:\n",
    "    print(F'{x} is a odd number')"
   ]
  },
  {
   "cell_type": "code",
   "execution_count": null,
   "id": "97612bdf",
   "metadata": {},
   "outputs": [],
   "source": [
    "# Find outputs  (Home  work)\n",
    "if():\n",
    "        print('Hyd')\n",
    "        print('Sec')\n",
    "        print('Cyb')\n",
    "else:\n",
    "        print('One')\n",
    "        print('Two')\n",
    "        print('Three')\n",
    "print('Bye')"
   ]
  },
  {
   "cell_type": "code",
   "execution_count": null,
   "id": "a1a646d2",
   "metadata": {},
   "outputs": [],
   "source": [
    "# Find  outputs  (Home  work)\n",
    "if{10 : 20 , 30 : 40}:\n",
    "        print('Hyd')\n",
    "        print('Sec')\n",
    "        print('Cyb')\n",
    "print('Bye')"
   ]
  },
  {
   "cell_type": "code",
   "execution_count": null,
   "id": "526d7561",
   "metadata": {},
   "outputs": [],
   "source": [
    "# Find outputs  (Home  work)\n",
    "if { }:\n",
    "\tprint('Hyd')\n",
    "\tprint('Sec')\n",
    "\tprint('Cyb')\n",
    "print('Bye')"
   ]
  },
  {
   "cell_type": "markdown",
   "id": "b7d87aab",
   "metadata": {},
   "source": [
    "# Write   a  program  to  print  month  name  for  input  month  number  by  using  if  and  elif  (Home  work)\n",
    "Enter month number (1 - 12): 6\n",
    "June\n",
    "Enter month number (1 - 12): 13\n",
    "Input  should  be  between  1  and   12\n",
    "Enter month number (1 - 12): 10.8\n",
    "Input  should  be  an  integer"
   ]
  },
  {
   "cell_type": "code",
   "execution_count": null,
   "id": "bd5f93f8",
   "metadata": {},
   "outputs": [],
   "source": [
    "try:\n",
    "    month = int(input(\"Enter month number (1 - 12): \"))\n",
    "    if month == 1:\n",
    "        print(\"January\")\n",
    "    elif month == 2:\n",
    "        print(\"February\")\n",
    "    elif month == 3:\n",
    "        print(\"March\")\n",
    "    elif month == 4:\n",
    "        print(\"April\")\n",
    "    elif month == 5:\n",
    "        print(\"May\")\n",
    "    elif month == 6:\n",
    "        print(\"June\")\n",
    "    elif month == 7:\n",
    "        print(\"July\")\n",
    "    elif month == 8:\n",
    "        print(\"August\")\n",
    "    elif month == 9:\n",
    "        print(\"September\")\n",
    "    elif month == 10:\n",
    "        print(\"October\")\n",
    "    elif month == 11:\n",
    "        print(\"November\")\n",
    "    elif month == 12:\n",
    "        print(\"December\")\n",
    "    else:\n",
    "        print(\"Input should be between 1 and 12\")\n",
    "except ValueError:\n",
    "    print(\"Input should be an integer\")"
   ]
  },
  {
   "cell_type": "markdown",
   "id": "8cc8e360",
   "metadata": {},
   "source": [
    "'''\n",
    "Write  a  program  to  print  digit  in  words  with  else  and  if  (do  not  use  elif)\n",
    "0 - Zero\n",
    "1 - One\n",
    "2 - Two\n",
    "....\n",
    "9 - Nine\n",
    "10 - Invalid\n",
    "'''"
   ]
  },
  {
   "cell_type": "code",
   "execution_count": null,
   "id": "a4e878a0",
   "metadata": {},
   "outputs": [],
   "source": [
    "num = int(input(\"Enter a number: \"))\n",
    "if num==0:\n",
    "    print('Zero')\n",
    "else:\n",
    "    if num==1:\n",
    "        print('One')\n",
    "    else:\n",
    "        if num==2:\n",
    "            print('Two')\n",
    "        else:\n",
    "            if num==3:\n",
    "                print('Three')\n",
    "            else:\n",
    "                if num==4:\n",
    "                    print('Four')\n",
    "                else:\n",
    "                    if num==5:\n",
    "                        print('Five')\n",
    "                    else:\n",
    "                        if num==6:\n",
    "                            print('Six')\n",
    "                        else:\n",
    "                            if num==7:\n",
    "                                print('Seven')\n",
    "                            else:\n",
    "                                if num==8:\n",
    "                                    print('Eight')\n",
    "                                else:\n",
    "                                    if num==9:\n",
    "                                        print('Nine')\n",
    "                                    else:\n",
    "                                        print('Invalid')\n",
    "                                        "
   ]
  },
  {
   "cell_type": "markdown",
   "id": "b0f8f8cc",
   "metadata": {},
   "source": [
    "Day 2"
   ]
  },
  {
   "cell_type": "markdown",
   "id": "8a7626f5",
   "metadata": {},
   "source": [
    "'''\n",
    "Write  a  program  to  test  year  is  leap  year  or  not\n",
    "\n",
    "1) What  is  leap  year ?  --->  Divisible  by  4  but  not  by  100   (or)  divisble  by  400\n",
    "\n",
    "2) Are  2016 , 2020 , 2024  leap  years ? --->  Yes  becoz  leap  year  for  every  4  yearrs\n",
    "\n",
    "3) Are  1700 , 1800 , 1900  leap  years ? --->  No  becoz  no  leap  year  for  every  100  years\n",
    "\n",
    "4) Are  1600 , 2000 , 2400  leap  years ?  --->  Yes  becoz  leap  year  for  every  400  years\n",
    "\n",
    "5) Hint:  single  if  with  3  conditions  and  else\n",
    "'''"
   ]
  },
  {
   "cell_type": "code",
   "execution_count": null,
   "id": "7a26ab33",
   "metadata": {},
   "outputs": [],
   "source": [
    "year=int(input(\"Enter a year: \"))\n",
    "if year % 4 == 0 and year % 400 ==0 or year % 100 !=0 :\n",
    "    print(F'{year} is a leap year')\n",
    "else:\n",
    "    print(F'{year} is not a leap year')"
   ]
  },
  {
   "cell_type": "markdown",
   "id": "2325796c",
   "metadata": {},
   "source": [
    "'''\n",
    "Write  a  program  to  determine  largest  of  three  numbers  with  if  and  else\n",
    "\n",
    "Hint:  Write  multiple  conditions\n",
    "'''"
   ]
  },
  {
   "cell_type": "code",
   "execution_count": null,
   "id": "0316cc05",
   "metadata": {},
   "outputs": [],
   "source": [
    "try:\n",
    "    a = int(input(\"Enter first number: \"))\n",
    "    b = int(input(\"Enter second number: \")) \n",
    "    c= int(input(\"Enter third number: \"))\n",
    "    if a > b and a > c:\n",
    "        print(F'{a} is the largest number') \n",
    "    elif b > a and b > c:\n",
    "        print(F'{b} is the largest number') \n",
    "    elif c > a and c > b:\n",
    "        print(F'{c} is the largest number')\n",
    "    else:\n",
    "        print(\"All numbers are equal\")\n",
    "except ValueError:\n",
    "    print(\"Please enter valid integers for comparison.\")\n"
   ]
  },
  {
   "cell_type": "markdown",
   "id": "dd57bd82",
   "metadata": {},
   "source": [
    "'''\n",
    "Write  a  program  to  convert  celsius  temperature  to  farenheit  and  vice-versa\n",
    "\n",
    "1) What  is  the  formula  to  convert  celsius  to  farenheit ? --->  1.8 * temp + 32\n",
    "\n",
    "2) What  is  the  formula  to  convert  farenheit  to  celsius ?  --->  (temp - 32) / 1.8\n",
    "'''\n",
    "\n",
    "o/p:\n",
    "Enter  1  to  convert  celsius  to  farenheit  and  2  to  convert  fahrenheit  to  celsius :  1\n",
    "Enter  celsius  temperature :  30\n",
    "Fahrenheit  Equivalent  :  86.0\n",
    "Enter  1  to  convert  celsius  to  farenheit  and  2  to  convert  fahrenheit  to  celsius :  2\n",
    "Enter  fahrenheit  temperature : 100\n",
    "celsius   equivalent :  37.78\n",
    "Enter  1  to  convert  celsius  to  farenheit  and  2  to  convert  fahrenheit  to  celsius :  3\n",
    "Invalid input\n"
   ]
  },
  {
   "cell_type": "code",
   "execution_count": null,
   "id": "f2000485",
   "metadata": {},
   "outputs": [],
   "source": [
    "option = int(input(\"Enter  1  to  convert  celsius  to  farenheit  and  2  to  convert  fahrenheit  to  celsius :\"))\n",
    "match option:\n",
    "    case 1:\n",
    "        celsius = float(input(\"Enter temperature in Celsius: \"))\n",
    "        fahrenheit = (celsius * 9/5) + 32\n",
    "        print(f\"Fahrenheit  Equivalent  : {fahrenheit:.2f}\")\n",
    "    case 2:\n",
    "        fahrenheit = float(input(\"Enter temperature in Fahrenheit: \"))\n",
    "        celsius = (fahrenheit - 32) * 5/9\n",
    "        print(f\"celsius   equivalent : {celsius:.2f}\")\n",
    "    case _:\n",
    "        print(\"Invalid option. Please enter 1 or 2.\")"
   ]
  },
  {
   "cell_type": "markdown",
   "id": "3a5dd263",
   "metadata": {},
   "source": [
    "'''\n",
    "Write  a  program  to  test  a  point  (x , y)  lies  in  1st  quadrant , 2nd  quadrant , 3rd  quadrant ,\n",
    "4th  quadrant , x - axis , y - axis   or  origin\n",
    "\n",
    "1) What  are  the  values  of  x  and  y  in  1st  quadrant ?  --->  Both  are  +ve\n",
    "\n",
    "2) What  are  the  values  of  x  and  y  in  2nd  quadrant ?  --->  'x'  is  -ve  and  'y'  is  +ve\n",
    "\n",
    "3) What  are  the  values  of  x  and  y  in  3rd  quadrant ?  ---> Both   are  -ve\n",
    "\n",
    "4) What  are  the  values  of  x  and  y  in  4th  quadrant ?  --->  'x'  is   +ve  and  'y'  is  -ve\n",
    "\n",
    "5) What  are  the  values  of  x  and  y  on  x - axis ?  ---> 'x'  is  non-zero  and  'y'  is  0\n",
    "\n",
    "6) What  are  the  values  of  x  and  y  on  y - axis ?  --->  'x'  is  0  and  'y'  is  non-zero\n",
    "\n",
    "7) What  are  the  values  of  x  and  y  if  point  is  origin ?  --->  Both  are  zeroes\n",
    "\n",
    "8) Hint:  Use  if  ..   elif\n",
    "'''"
   ]
  },
  {
   "cell_type": "code",
   "execution_count": null,
   "id": "07ce3a00",
   "metadata": {},
   "outputs": [],
   "source": [
    "a=tuple(input(\"Enter elements separated by spaces: \").split(','))\n",
    "x=int(a[0])\n",
    "y=int(a[1])\n",
    "if(x ==0 and y == 0):\n",
    "    print(\"Origin\")\n",
    "elif(x==0 and y!=0):\n",
    "    print(\"Y-axis\")\n",
    "elif(x!=0 and y==0):\n",
    "    print(\"X-axis\")\n",
    "elif(x>0 and y>0):\n",
    "    print(\"Quadrant 1\")\n",
    "elif(x<0 and y>0):\n",
    "    print(\"Quadrant 2\")\n",
    "elif(x<0 and y<0):\n",
    "    print(\"Quadrant 3\")\n",
    "elif(x>0 and y<0):\n",
    "    print(\"Quadrant 4\")\n",
    "else:\n",
    "    print(\"Invalid input\")\n",
    "    "
   ]
  },
  {
   "cell_type": "markdown",
   "id": "d20d5dc0",
   "metadata": {},
   "source": [
    "'''\n",
    "Write  a  program  to  determine  largest , smallest  and  middle  of  three  numbers\n",
    "\n",
    "a = 10\n",
    "b = 20\n",
    "c = 7\n",
    "max =  20\n",
    "min =  7\n",
    "mid =  (10 + 20 + 7) - (20 + 7) = 10\n",
    "\n",
    "1) What  is  the  initial  value  of  max  ?  --->  a\n",
    "\n",
    "2) Whichever  input >  max,  assign  that  input  to  max\n",
    "\n",
    "3) What  is  the  initial  value  of  min  ?  --->  'a'\n",
    "\n",
    "4) Whichever  input  <  min,  assign  that  input  to  min\n",
    "\n",
    "5) How  to  obtain  middle  number ?  ---> Eliminate  max  and  min  from  a , b , c\n",
    "\n",
    "6) Hint : Do  not  use  else  in  the  program\n",
    "'''"
   ]
  },
  {
   "cell_type": "code",
   "execution_count": null,
   "id": "6e92b1ea",
   "metadata": {},
   "outputs": [],
   "source": [
    "a = int(input(\"Enter first number: \"))\n",
    "b = int(input(\"Enter second number: \")) \n",
    "c= int(input(\"Enter third number: \"))\n",
    "max=a\n",
    "if(b>a and c>a):\n",
    "    if(b>c):\n",
    "        max=b\n",
    "        "
   ]
  },
  {
   "cell_type": "code",
   "execution_count": null,
   "id": "82a907c1",
   "metadata": {},
   "outputs": [],
   "source": [
    "try:\n",
    "    a = int(input(\"Enter first number: \"))\n",
    "    b = int(input(\"Enter second number: \")) \n",
    "    c= int(input(\"Enter third number: \"))\n",
    "    if max=a\n",
    "    \n",
    "   \n",
    "    "
   ]
  },
  {
   "cell_type": "markdown",
   "id": "f8d9ccda",
   "metadata": {},
   "source": [
    "'''\n",
    "Write  a  program  to  determine  three  sides  form  a  triangle  or  not\n",
    "\n",
    "1) Find  area  if  it  is  an  equilateral  triangle\n",
    "    What  is  an  equilateral  triangle ?  ---> All  the  three  sides  should  be  same\n",
    "    What  is  the  area  of  equilateral  triangle ?  --->  sqrt(3) / 4 * a ^ 2\n",
    "\n",
    "2) Find  perimeter  if  it  is  an  isosceles  triangle\n",
    "    What  is  an  isoscles  triangle ?  ---> Any  two  sides  are  same\n",
    "    What   is  the  perimeter  of  isoscles  triangle ?  ---> a + b + c\n",
    "\n",
    "3) Find  both  if  it  is  scalene  triangle\n",
    "    What  is  a  scalene  triangle ?  ---> All  the  three  sides  are  different\n",
    "    What  is  the  area  of  scalene  triangle ?  ---> sqrt(s * (s - a) * (s - b) * (s - c))\n",
    "\tWhat  is  the  value  of  's'  ?  --->  \t(a + b + c) / 2\n",
    "    What   is  the  perimeter  of  scalene  triangle ?  --->  a + b + c\n",
    "\n",
    "4) What  is  the  qualification  of  triangle  ?  --->  Sum  of  every  two  sides  should  be  >  3rd  side\n",
    "\n",
    "5) Hint: Use  nested  if\n",
    "'''"
   ]
  },
  {
   "cell_type": "code",
   "execution_count": null,
   "id": "4f8e01e0",
   "metadata": {},
   "outputs": [],
   "source": [
    "import math\n",
    "a = int(input(\"Enter first side: \"))\n",
    "b = int(input(\"Enter second side: \")) \n",
    "c= int(input(\"Enter third side: \"))\n",
    "if a + b > c and a + c > b and b + c > a:\n",
    "    if( a==b and b==c and a==c ):\n",
    "        print(\"Equilateral triangle\")\n",
    "        area=math.sqrt(3)/4 * a**2\n",
    "        print(f\"Area of the equilateral triangle: {area:.2f}\")\n",
    "    elif (a==b  or b==c or a==c):\n",
    "        print(\"Isosceles triangle\")\n",
    "        perimeter= a + b + c\n",
    "        print(f\"perimeter  of  isoscles  triangle: {perimeter:.2f}\")\n",
    "    elif (a!=b and b!=c and a!=c):\n",
    "        print(\"Scalene triangle\")\n",
    "        s = (a + b + c) / 2\n",
    "        area = math.sqrt(s * (s - a) * (s - b) * (s - c))\n",
    "        print(f\"Area of the scalene triangle: {area:.2f}\")\n",
    "        perimeter= a + b + c\n",
    "        print(f\"perimeter  of  scalene  triangle: {perimeter:.2f}\")\n",
    "else:\n",
    "    print(\"The given sides do not form a triangle\")\n"
   ]
  },
  {
   "cell_type": "markdown",
   "id": "6499d4f2",
   "metadata": {},
   "source": [
    "'''\n",
    "Write  a  program  to  determine  roots  of  a  quadtratic  equation  a * x ^ 2 + b * x + c = 0  where  a  ! = 0\n",
    "\n",
    "1) What  is  the  value  of  discriminant ?  --->  b ^ 2 - 4ac\n",
    "\n",
    "2) What  are  the  roots  called  if  disc > 0 ?  --->  Real  and  distinct\n",
    "     What  is  the  formula  for  root1  ?  ---> (-b + sqrt(disc)) / 2a\n",
    "     What  is  the  formula  for  root2 ?  ---> (-b - sqrt(disc)) / 2a\n",
    "\n",
    "3) What  are  the  roots  called  if  disc  is  0 ?  --->  Real  and  same\n",
    "     What  is  the  formula  for  root  ?  --->  -b / 2a\n",
    "\n",
    "4) What  are  the  roots  called  if  disc < 0 ?  --->  Complex  (or)  Imaginary  roots\n",
    "     What  is  the  formula  for  real  part ?  --->  -b / 2a\n",
    "\t What  is  the  formula  for  imag  part ?  --->  sqrt(-disc) / 2a\n",
    "\t What  is  root1  if  real  part  is  3  and  imag  part  is  4 ?  ---> 3 + 4j\n",
    "\t What  is  root2  if  real  part  is  3  and  imag  part  is  4 ?  --->  3 - 4j\n",
    "'''"
   ]
  },
  {
   "cell_type": "code",
   "execution_count": null,
   "id": "4c26c513",
   "metadata": {},
   "outputs": [
    {
     "name": "stdout",
     "output_type": "stream",
     "text": [
      "roots for 4x^2+12x+9=0\n",
      "0\n",
      "Real  and  distinct\n",
      "-1.5\n"
     ]
    }
   ],
   "source": [
    "import math\n",
    "a= eval(input(\"Enter a value: \"))\n",
    "if (a==0):\n",
    "    print(\"Please enter a>0\")\n",
    "else:\n",
    "    b=eval(input(\"Enter b value: \"))\n",
    "    c=eval(input(\"Enter c value: \"))\n",
    "    print(F'roots for {a}x^2+{b}x+{c}=0')\n",
    "    disc = b**2-4*a*c\n",
    "    print(disc)\n",
    "    if(disc>0):\n",
    "        print(\"Real  and  distinct\")\n",
    "        root1=(-b+math.sqrt(disc))/2*a\n",
    "        root2=(-b-math.sqrt(disc))/2*a\n",
    "        print(root1,root2)\n",
    "    elif disc==0:\n",
    "        print(\"Real  and  distinct\")\n",
    "        root=-b/(2*a)\n",
    "        print(root)\n",
    "    elif disc<0:\n",
    "        print(\"Complex  (or)  Imaginary  roots\")\n",
    "        real=-b/(2*a)\n",
    "        imag=math.sqrt(-disc)/(2*a)\n",
    "        root1= print(F'{real}+{imag}j')\n",
    "        root2=print(F'{real}-{imag}j')\n",
    "    "
   ]
  },
  {
   "cell_type": "markdown",
   "id": "85619c2f",
   "metadata": {},
   "source": [
    "'''\n",
    "Write  a  program   to  determine  a  point (x , y)  lies  inside , outside  or  on  the  circle.\n",
    "Center  is  origin  and  radius  is  'r'\n",
    "\n",
    "1) What  is  the  distance  between  origin  and  point (x , y) ?  --->  sqrt(x ^ 2 + y ^ 2)\n",
    "\n",
    "2) Where  is  the  point  if  distance >  raidus ?  --->  Outside  the  circle\n",
    "\n",
    "3) Where  is  the  point  if  distance < raidus ?  --->  Inside  the  circle\n",
    "\n",
    "4) Where  is  the  point  if  distance  and  raidus   are  same ?  ---> On  the  circle\n",
    "'''"
   ]
  },
  {
   "cell_type": "code",
   "execution_count": null,
   "id": "ae856550",
   "metadata": {},
   "outputs": [],
   "source": [
    "import math\n",
    "a=tuple(input(\"Enter elements separated by spaces: \").split(','))\n",
    "r=int(input(\"Enter radius: \"))\n",
    "x=int(a[0])\n",
    "y=int(a[1])\n",
    "dis= math.sqrt(x**2 + y**2)\n",
    "if dis >r :\n",
    "    print(\"Point is outside the circle\")\n",
    "elif dis < r:\n",
    "    print(\"Point is inside the circle\")\n",
    "elif dis == r:\n",
    "    print(\"Point is on the circle\")\n",
    "else:\n",
    "    print(\"Invalid input\")"
   ]
  },
  {
   "cell_type": "code",
   "execution_count": null,
   "id": "48bffc6a",
   "metadata": {},
   "outputs": [],
   "source": [
    "# Find  outputs  (Home  work)\n",
    "m = 4\n",
    "match  m:\n",
    "\tcase  1:\n",
    "\t\tprint('One')\n",
    "\tcase  2:\n",
    "\t\tprint('Two')\n",
    "\tcase  3:\n",
    "\t\tprint('Three')\n",
    "print('Bye')#o/p :Bye"
   ]
  },
  {
   "cell_type": "code",
   "execution_count": null,
   "id": "44a7e5f8",
   "metadata": {},
   "outputs": [],
   "source": [
    "# Identify  Error\n",
    "i = 2\n",
    "match  i:\n",
    "\tcase  1:\n",
    "\t\tprint('One')\n",
    "\tcase  _:\n",
    "\t\tprint('None of   the  above')\n",
    "\tcase  2:\n",
    "\t\tprint('Two')\n",
    "print('Bye')\n",
    "#o/p: wildcard should not be in the middle of match cases"
   ]
  },
  {
   "cell_type": "code",
   "execution_count": null,
   "id": "23b36d89",
   "metadata": {},
   "outputs": [],
   "source": [
    "# Find  outputs  (Home  work)\n",
    "m = 2\n",
    "match  m:\n",
    "\tcase  1:\n",
    "\t\tprint('One')\n",
    "\tcase  _:\n",
    "\t\tprint('Hello')\n",
    "\tcase  _:\n",
    "\t\tprint('Bye')\n",
    "print('End')\n",
    "#o/p: wildcard should not be in the middle of match cases"
   ]
  },
  {
   "cell_type": "code",
   "execution_count": null,
   "id": "ff588912",
   "metadata": {},
   "outputs": [],
   "source": [
    "#  Find  outputs  (Home  work)\n",
    "m = 1\n",
    "match  m:\n",
    "\tcase  1:\n",
    "\t\tprint('Hyd')\n",
    "\tcase  1:\n",
    "\t\tprint('Sec')\n",
    "\tcase  1:\n",
    "\t\tprint('Cyb')\n",
    "print('Bye')\n",
    "#o/p: Hyd\n",
    "#Bye"
   ]
  },
  {
   "cell_type": "code",
   "execution_count": null,
   "id": "b453a976",
   "metadata": {},
   "outputs": [],
   "source": [
    "# Find  outputs  (Home  work)\n",
    "ch = 'B'\n",
    "match  ch:\n",
    "\tcase   'A':\n",
    "\t\tprint('Apple')\n",
    "\tcase  'B':\n",
    "\t\tprint('Book')\n",
    "\tcase  'C':\n",
    "\t\tprint('Cafe')\n",
    "\tcase  _:\n",
    "\t\tprint('None of  the  above')\n",
    "print('Bye')\n",
    "#o/p: Book\n",
    "#Bye"
   ]
  },
  {
   "cell_type": "code",
   "execution_count": null,
   "id": "699a248f",
   "metadata": {},
   "outputs": [],
   "source": [
    "'''\n",
    "1) What  are  the  outputs  if  input  is  -6 ? --->\n",
    "2) What  are  the  outputs  if  input  is  15  ?  --->\n",
    "3) What  are  the  outputs  if  input  is  10.8  ?  --->\n",
    "4) What  are  the  outputs  if  input  is  0  ?  --->\n",
    "5) What  are  the  outputs  if  input  is  -10  ?  --->\n",
    "6) What  are  the  outputs  if  input  is  7  ?  --->\n",
    "'''\n",
    "x = eval(input('Enter any  number :  '))\n",
    "match  x:\n",
    "\tcase  7 |  -6  |  0:\n",
    "\t\tprint('Hyd')\n",
    "\t\tprint('Sec')\n",
    "\t\tprint('Cyb')\n",
    "\tcase  -10 | 15:\n",
    "\t\tprint('One')\n",
    "\t\tprint('Two')\n",
    "\t\tprint('Three')\n",
    "\tcase  _:\n",
    "\t\tprint('India')\n",
    "\t\tprint('China')\n",
    "\t\tprint('Usa')\n",
    "# End  of  match\n",
    "print('Bye')"
   ]
  },
  {
   "cell_type": "markdown",
   "id": "a9b83af7",
   "metadata": {},
   "source": [
    "1) What  are  the  outputs  if  input  is  -6 ? --->\n",
    "Hyd\n",
    "Sec\n",
    "Cyb\n",
    "Bye\n",
    "2) What  are  the  outputs  if  input  is  15  ?  --->\n",
    "One\n",
    "Two\n",
    "Three\n",
    "Bye\n",
    "3) What  are  the  outputs  if  input  is  10.8  ?  --->\n",
    "India\n",
    "China\n",
    "Usa\n",
    "Bye\n",
    "4) What  are  the  outputs  if  input  is  0  ?  --->\n",
    "Hyd\n",
    "Sec\n",
    "Cyb\n",
    "Bye\n",
    "5) What  are  the  outputs  if  input  is  -10  ?  --->\n",
    "One\n",
    "Two\n",
    "Three\n",
    "Bye\n",
    "6) What  are  the  outputs  if  input  is  7  ?  --->\n",
    "Hyd\n",
    "Sec\n",
    "Cyb\n",
    "Bye"
   ]
  },
  {
   "cell_type": "code",
   "execution_count": null,
   "id": "ca145d5d",
   "metadata": {},
   "outputs": [],
   "source": [
    "'''\n",
    "1) What  is  the  output  when  input  is  (-10 , -20) ?  --->\n",
    "2) What  is  the  output  when  input  is  (10 , 0) ?  --->\n",
    "3) What  is  the  output  when  input  is  (0 , -20) ?  --->\n",
    "4) What  is  the  output  when  input  is  (0 , 0) ?  --->\n",
    "5) What  is  the  output  when  input  is  (10 , 20 , 30) ?  --->\n",
    "6) What  is  the  output  when  input  is  [10 , 20]  ?  --->\n",
    "7) What  is  the  output  when  input  is  [0 , -25]  ?  --->\n",
    "8) What  is  the  output  when  input  is  ()  ?  --->\n",
    "9) What  is  the  output  when  input  is  {10 , 20} ?  --->\n",
    "10) What  is  the  output  when  input  is  (25,) ?  --->\n",
    "11) What  is  the  output  when  input  is  {10 : 20} ?  --->\n",
    "'''\n",
    "tpl = eval(input('Enter  any  point  in  the  form  of  (x , y) :  '))\n",
    "match  tpl:\n",
    "\tcase  (0 , 0):\n",
    "\t\tprint('Origin')\n",
    "\tcase   (0 , y):\n",
    "\t\tprint('y - axis')\n",
    "\tcase   (x , 0):\n",
    "\t\tprint('x - axis')\n",
    "\tcase   (x , y):\n",
    "\t\tprint('Quadrant')\n",
    "\tcase  _:\n",
    "\t\tprint('Not  a  point')"
   ]
  },
  {
   "cell_type": "markdown",
   "id": "185b7d7a",
   "metadata": {},
   "source": [
    "1) What  is  the  output  when  input  is  (-10 , -20) ?  --->Quadrant\n",
    "2) What  is  the  output  when  input  is  (10 , 0) ?  --->x - axis\n",
    "3) What  is  the  output  when  input  is  (0 , -20) ?  --->y - axis\n",
    "4) What  is  the  output  when  input  is  (0 , 0) ?  --->Origin\n",
    "5) What  is  the  output  when  input  is  (10 , 20 , 30) ?  --->Not  a  point\n",
    "6) What  is  the  output  when  input  is  [10 , 20]  ?  --->Quadrant\n",
    "7) What  is  the  output  when  input  is  [0 , -25]  ?  --->y - axis\n",
    "8) What  is  the  output  when  input  is  ()  ?  --->Not  a  point\n",
    "9) What  is  the  output  when  input  is  {10 , 20} ?  --->Not  a  point\n",
    "10) What  is  the  output  when  input  is  (25,) ?  --->Not  a  point\n",
    "11) What  is  the  output  when  input  is  {10 : 20} ?  --->Not  a  point"
   ]
  },
  {
   "cell_type": "markdown",
   "id": "2ca711f9",
   "metadata": {},
   "source": [
    "'''\n",
    "Write  a  program  to  determine  bill  amount  and  input  is  units\n",
    "\n",
    "Units                                                      Cost\n",
    "------------------------------------------------------------\n",
    "First  100  units(0 - 99)\t\t\t\t\tRs. 3.00 / unit\n",
    "\n",
    "Next  100  units(100 - 199)\t\t\t\tRs. 3.50 / unit\n",
    "\n",
    "Next  200  units(200 - 399)\t\t    \tRs. 4.00 / unit\n",
    "\n",
    "Next  300  units(400 - 699)\t\t\t\tRs. 4.50 / unit\n",
    "\n",
    "Above  700  units(>= 700)\t\t\t\tRs. 5.00 / unit\n",
    "---------------------------------------------------------------\n",
    "Let  units  be  1200\n",
    "What  is  the  bill  amount ? --->  100 * 3.00 + 100 * 3.50 + 200 * 4.00 + 300 * 4.50 + 500 * 5.00\n",
    "300+350+800+1350+2500\n",
    "\n",
    "Hint:  Use  match  ...  case   but  not  if ... else\n",
    "'''\n",
    "units = int(input('Enter  units :   '))  #  75\n",
    "match  units // 100:\n",
    "\tcase  0:\n",
    "\t\t\t\tcost = units * 3.00"
   ]
  },
  {
   "cell_type": "code",
   "execution_count": null,
   "id": "3f082f78",
   "metadata": {},
   "outputs": [],
   "source": [
    "units = int(input('Enter  units :   '))  #  75\n",
    "match  units // 100:    \n",
    "    case  0:\n",
    "        cost = units * 3.00\n",
    "    case  1:\n",
    "        cost = (100 * 3.00)+(units - 100) * 3.50\n",
    "    case  2:\n",
    "        cost = (100 * 3.00)+100 * 3.50 + (units - 200) * 4.00\n",
    "    case  3:\n",
    "        cost=(100 * 3.00)+100 * 3.50 +200 * 4.00 + (units - 300) * 4.50\n",
    "    case  _:\n",
    "        cost = (100 * 3.00)+100 * 3.50 +200 * 4.00 + 300 * 4.50 + (units - 700) * 5.00\n",
    "print(f'Total  cost  is  : {cost:.2f}')"
   ]
  },
  {
   "cell_type": "markdown",
   "id": "d721f61e",
   "metadata": {},
   "source": [
    "'''\n",
    "Write  a  program  to  print  fibonacci  series  upto   x\n",
    "\n",
    "Let  input  be   10\n",
    "What  are  the  outputs  ?  --->   0 , 1 ,  1 , 2 ,  3 ,5 , 8\n",
    "\n",
    "\n",
    "1) What  is  the  formula  for  10th  term ?  ---> 9th  term + 8th  term\n",
    "    What  is  the  formula  for   3rd  term ?  ---> \t2nd  term + 1st  term\n",
    "    What  is  the  formual  for  ith  term ?  --->  (i - 1)th  term +  (i - 2)  term\n",
    "\n",
    "2) What  are  the  first  two  terms ?  --->  0  and  1  (No  formula)\n",
    "\n",
    "3) Hint:  Use  while  loop\n",
    "'''"
   ]
  },
  {
   "cell_type": "code",
   "execution_count": 104,
   "id": "0bb1a6aa",
   "metadata": {},
   "outputs": [
    {
     "name": "stdout",
     "output_type": "stream",
     "text": [
      "fibonacci  series  upto 10\n",
      "0\n",
      "1\n",
      "1\n",
      "2\n",
      "3\n",
      "5\n",
      "8\n",
      "13\n",
      "21\n",
      "34\n",
      "55\n",
      "89\n",
      "144\n",
      "233\n",
      "377\n"
     ]
    }
   ],
   "source": [
    "inp = int(input(\"Enter a number: \"))\n",
    "print(\"fibonacci  series  upto\", inp)\n",
    "print(\"0\")\n",
    "print(\"1\")\n",
    "a,b=0,1\n",
    "for c in range(2, inp):\n",
    "    while c <= inp:\n",
    "        c = a + b\n",
    "        print(c)\n",
    "        a, b = b, c\n"
   ]
  },
  {
   "cell_type": "code",
   "execution_count": null,
   "id": "47c2d411",
   "metadata": {},
   "outputs": [],
   "source": [
    "#  Find  outputs\n",
    "while  True:\n",
    "\tprint('Hello')\n",
    "print('Bye')"
   ]
  },
  {
   "cell_type": "code",
   "execution_count": null,
   "id": "0364b8bc",
   "metadata": {},
   "outputs": [],
   "source": [
    "#  Find  outputs\n",
    "while  False:\n",
    "\tprint('Hello')\n",
    "print('Bye')\n",
    "#o/p:Bye\n"
   ]
  },
  {
   "cell_type": "markdown",
   "id": "0d6fcfd9",
   "metadata": {},
   "source": [
    "# Find  outputs  (Home  work)\n",
    "How  to  print  each  element  of  list  [10 , 20 , 15 , 18]  with  for  loop\n",
    "print()\n",
    "How  to  print  each  character  of   string  'Hyd'  with  for  loop\n",
    "print()\n",
    "How  to  print  each  element  of   range(5)  with  for  loop"
   ]
  },
  {
   "cell_type": "code",
   "execution_count": 79,
   "id": "21e34f20",
   "metadata": {},
   "outputs": [
    {
     "name": "stdout",
     "output_type": "stream",
     "text": [
      "H\n",
      "y\n",
      "d\n"
     ]
    }
   ],
   "source": [
    "a=eval(input(\"Enter a value: \"))\n",
    "for  x in a:\n",
    "    print(x)"
   ]
  },
  {
   "cell_type": "code",
   "execution_count": 80,
   "id": "26f1d44f",
   "metadata": {},
   "outputs": [
    {
     "name": "stdout",
     "output_type": "stream",
     "text": [
      "0\n",
      "1\n",
      "2\n",
      "3\n",
      "4\n"
     ]
    }
   ],
   "source": [
    "for i in range(5):\n",
    "    print(i)"
   ]
  },
  {
   "cell_type": "code",
   "execution_count": 81,
   "id": "30724ea4",
   "metadata": {},
   "outputs": [
    {
     "name": "stdout",
     "output_type": "stream",
     "text": [
      "10\n",
      "30\n",
      "50\n",
      "\n",
      "20\n",
      "40\n",
      "60\n",
      "\n",
      "(10, 20)\n",
      "(30, 40)\n",
      "(50, 60)\n",
      "\n",
      "10\n",
      "30\n",
      "50\n"
     ]
    }
   ],
   "source": [
    "# Find  outputs  (Home  work)\n",
    "for  x  in  {10 : 20 , 30 : 40 , 50 : 60} . keys():\n",
    "\tprint(x)\n",
    "print()\n",
    "for  x  in  {10 : 20 , 30 : 40 , 50 : 60} . values():\n",
    "\tprint(x)\n",
    "print()\n",
    "for  x  in  {10 : 20 , 30 : 40 , 50 : 60} . items():\n",
    "\tprint(x)\n",
    "print()\n",
    "for  x  in  {10 : 20 , 30 : 40 , 50 : 60}:\n",
    "\tprint(x)"
   ]
  },
  {
   "cell_type": "markdown",
   "id": "59663fc4",
   "metadata": {},
   "source": [
    "10\n",
    "30\n",
    "50\n",
    "\n",
    "20\n",
    "40\n",
    "60\n",
    "\n",
    "(10,20)\n",
    "(30,40)\n",
    "(50,60)\n",
    "\n",
    "10\n",
    "30\n",
    "50"
   ]
  },
  {
   "cell_type": "code",
   "execution_count": null,
   "id": "eea7c23b",
   "metadata": {},
   "outputs": [],
   "source": [
    "# Find outputs  (Home  work)\n",
    "a = {10 : 20 , 30 : 40 , 50 : 60}\n",
    "for  x , y  in   a . items():\n",
    "\tprint(x , y , sep = '...')\n",
    "for  x ,  y  in   a:\n",
    "\tprint(x , y#Error Beause of closing parenthesis and missing colon\n",
    "for  x , y  in  {10 : 20 , 30 : 40 , 50 : 60}:\n",
    "\tprint(x , y , sep = '...')"
   ]
  },
  {
   "cell_type": "code",
   "execution_count": null,
   "id": "b8210a43",
   "metadata": {},
   "outputs": [],
   "source": [
    "# Identify  error  (Home  work)\n",
    "for  x  in   123:#Error because 123 is sequence cannot be iterated\n",
    "        print(x)"
   ]
  },
  {
   "cell_type": "code",
   "execution_count": null,
   "id": "a9c12a1c",
   "metadata": {},
   "outputs": [],
   "source": [
    "# Find  outputs  (Home  work)\n",
    "for  x   in   ():#Error because empty tuple cannot be iterated\n",
    "        print(x)\n",
    "for  x   in  []:#Error because empty list cannot be iterated\n",
    "        print(x)\n",
    "for  x   in   {}:#Error because empty dictionary cannot be iterated\n",
    "        print(x)\n",
    "for  x   in   set():#Error because empty set cannot be iterated\n",
    "        print(x)\n",
    "for  x   in   '':#Error because empty string cannot be iterated\n",
    "        print(x)\n",
    "for  x  in  range(10 , 10):#Error because range(10, 10) is empty\n",
    "\tprint(x)\n",
    "for  x  in   range():#Error because range() requires at least one argument\n",
    "\tprint(x)\n",
    "for  x  in   (25):#Error because 25 is not a sequence\n",
    "\tprint(x)"
   ]
  },
  {
   "cell_type": "code",
   "execution_count": 82,
   "id": "c980c22a",
   "metadata": {},
   "outputs": [
    {
     "name": "stdout",
     "output_type": "stream",
     "text": [
      "1 1\n",
      "1 2\n",
      "1 3\n",
      "1 4\n",
      "Hello\n",
      "2 1\n",
      "2 2\n",
      "2 3\n",
      "2 4\n",
      "Hello\n",
      "3 1\n",
      "3 2\n",
      "3 3\n",
      "3 4\n",
      "Hello\n",
      "Bye\n"
     ]
    }
   ],
   "source": [
    "#  Nested  Loop  demo  program\n",
    "for  i  in  range(1 , 4):\n",
    "\tfor  j  in  range(1 , 5):\n",
    "\t\t\tprint(i ,  j)  #\n",
    "\tprint('Hello')\n",
    "print('Bye')"
   ]
  },
  {
   "cell_type": "code",
   "execution_count": 83,
   "id": "3add454a",
   "metadata": {},
   "outputs": [
    {
     "name": "stdout",
     "output_type": "stream",
     "text": [
      "Indexed  based  for loop\n",
      "25\n",
      "10.8\n",
      "Hyd\n",
      "True\n",
      "For each loop\n",
      "25\n",
      "10.8\n",
      "Hyd\n",
      "True\n"
     ]
    }
   ],
   "source": [
    "# How  to  print  each  element  and  the  corresponding  index\n",
    "a = [25 , 10.8 , 'Hyd' , True]\n",
    "print('Indexed  based  for loop')\n",
    "for i in range(len(a)):\n",
    "    print(a[i])#How  to  print  each  element  and  the  corresponding  index  with  index  based  for  loop\n",
    "print('For each loop')\n",
    "for x in a:\n",
    "    print(x)#How  to  print  each  element  and  the  corresponding  index  with  for  ...  each  loop (Do  not  use  2nd  variable)"
   ]
  },
  {
   "cell_type": "code",
   "execution_count": 97,
   "id": "aa8d98f0",
   "metadata": {},
   "outputs": [
    {
     "name": "stdout",
     "output_type": "stream",
     "text": [
      "Indexed for loop\n"
     ]
    }
   ],
   "source": [
    "a = [25 , 10.8 , 'Hyd' , True]\n",
    "print('Indexed for loop')\n",
    "for i in range (-1,len(a)+1,-1):\n",
    "    print(a[i])\n",
    "    #i+=1#How   to  print  each  element  of  list  in  reverse  order  with  indexed  based  for  loop"
   ]
  },
  {
   "cell_type": "code",
   "execution_count": null,
   "id": "302ad0cb",
   "metadata": {},
   "outputs": [
    {
     "name": "stdout",
     "output_type": "stream",
     "text": [
      "Indexed for loop\n",
      "True\n",
      "Hyd\n",
      "10.8\n",
      "25\n",
      "For each loop (using reversed())\n",
      "True\n",
      "Hyd\n",
      "10.8\n",
      "25\n"
     ]
    }
   ],
   "source": [
    "#  How  to  print  list  elements  in  reverse  order   without  slice\n",
    "a = [25, 10.8, 'Hyd', True]\n",
    "print('Indexed for loop')\n",
    "for i in range(len(a) - 1, -1, -1):\n",
    "    print(a[i])#How   to  print  each  element  of  list  in  reverse  order  with  indexed  based  for  loop\n",
    "#How   to  print  each  element  of  list  in  reverse  order  with  for  each  loop  (Do  not  use  2nd  variable  and  slice)"
   ]
  },
  {
   "cell_type": "markdown",
   "id": "c6239099",
   "metadata": {},
   "source": [
    "'''\n",
    "Write  a  program  to  add  two  lists  and  store  results  in  3rd  list\n",
    "\n",
    "1st  list  --->  [10 , 20 , 15 , 18]\n",
    "\n",
    "2nd  list  --->  [30 , 40 , 35 , 12 , 100 , 200 , 300]\n",
    "\n",
    "3rd  list ?  ---> [10 + 30 , 20 + 40 , 15 + 35 , 18 + 12]  =  [40 , 60 , 50 , 30]\n",
    "\n",
    "Hint:  Use  append()  method\n",
    "'''\n",
    "a = eval(input('Enter  1st  list  :  '))\n",
    "b = eval(input('Enter  2nd  list  :  '))\n",
    "c = []\n",
    "How  to  add  lists  'a'  and  'b'  and  store  results  in  list  'c'  with  indexed  based   for  loop\n",
    "print('3rd  list : ' , c)\n",
    "How  to  add  lists  'a'  and  'b'  and  store  results  in  list  'c'  with  for  each  loop (Do  not  use  2nd  variable)"
   ]
  },
  {
   "cell_type": "code",
   "execution_count": 99,
   "id": "a7366f84",
   "metadata": {},
   "outputs": [
    {
     "name": "stdout",
     "output_type": "stream",
     "text": [
      "Resulting list: [40, 60, 50, 30]\n"
     ]
    }
   ],
   "source": [
    "list1 = eval(input(\"Enter elements separated by spaces: \"))\n",
    "list2 = eval(input(\"Enter elements separated by spaces: \"))\n",
    "list3 = []\n",
    "if len(list1) <len(list2):\n",
    "    for i in range(len(list1)):\n",
    "        list3.append(list1[i] + list2[i])\n",
    "else:\n",
    "    for i in range(len(list2)):\n",
    "        list3.append(list1[i] + list2[i])\n",
    "print(\"Resulting list:\", list3)\n"
   ]
  },
  {
   "cell_type": "markdown",
   "id": "7e2296aa",
   "metadata": {},
   "source": [
    "#  How  to  print  list  elements  from  indexes  2  to  4  without  slice\n",
    "a = [25 , 10.8 , 'Hyd' , True , 3 + 4j , None , 'Sec']\n",
    "print('Indexed for loop')\n",
    "How  to  print  elements  from  indexes  2  to  4  of  list  'a'  with  indexed  based  for  loop\n",
    "How  to  print  elements  from  indexes  2  to  4  of  list  'a'  with  for  each  loop   without  using  2nd  variable  and  slice"
   ]
  },
  {
   "cell_type": "code",
   "execution_count": 100,
   "id": "a80561da",
   "metadata": {},
   "outputs": [
    {
     "name": "stdout",
     "output_type": "stream",
     "text": [
      "Indexed for loop\n",
      "Hyd\n",
      "True\n"
     ]
    }
   ],
   "source": [
    "a = [25 , 10.8 , 'Hyd' , True , 3 + 4j , None , 'Sec']\n",
    "print('Indexed for loop')\n",
    "for i in range(2,4):\n",
    "    print(a[i])\n",
    "\n"
   ]
  },
  {
   "cell_type": "code",
   "execution_count": 101,
   "id": "1314514f",
   "metadata": {},
   "outputs": [
    {
     "name": "stdout",
     "output_type": "stream",
     "text": [
      "a :   [11, 21, 16, 19]\n",
      "b :   [10, 20, 15, 18]\n"
     ]
    }
   ],
   "source": [
    "#  Tricky  program\n",
    "#  Find  outputs  (Home  work)\n",
    "a = [10 , 20 , 15 , 18]\n",
    "for  i  in  range(len(a)):\n",
    "\ta[i] +=  1# a[i] = a[i] + 1\n",
    "print('a :  ' , a)#[11,21,16,18]\n",
    "b = [10 , 20 , 15 , 18]\n",
    "for  x  in   b:\n",
    "\tx += 1#x=x+1\n",
    "print('b :  ' ,  b)#[11,21,16,19]"
   ]
  },
  {
   "cell_type": "markdown",
   "id": "0a04836c",
   "metadata": {},
   "source": [
    "'''\n",
    "Write  a  program  to  print  full  pyramid\n",
    "\t *\n",
    "   *\n",
    "  ***\n",
    " ***\n",
    "***\n",
    "Input  is  number  of  lines\n",
    "'''"
   ]
  },
  {
   "cell_type": "markdown",
   "id": "220b7c84",
   "metadata": {},
   "source": [
    "How  many  lines ?  :  7\n",
    "     *\n",
    "     *\n",
    "    ***\n",
    "   ***\n",
    "  ***\n",
    " *****\n",
    "*****"
   ]
  },
  {
   "cell_type": "code",
   "execution_count": 121,
   "id": "014488d6",
   "metadata": {},
   "outputs": [
    {
     "name": "stdout",
     "output_type": "stream",
     "text": [
      "* \n",
      "* * \n",
      "* * * \n",
      "* * * * \n",
      "* * * * * \n",
      "* * * * * * \n",
      "* * * * * * * \n"
     ]
    }
   ],
   "source": [
    "inp=int(input(\"Input  is  number  of  lines \"))\n",
    "for i in range(inp):\n",
    "    for j in range(i + 1):\n",
    "        print(\"*\", end=\" \")\n",
    "    print()  # New line after each row"
   ]
  },
  {
   "cell_type": "code",
   "execution_count": 127,
   "id": "c00238ec",
   "metadata": {},
   "outputs": [
    {
     "name": "stdout",
     "output_type": "stream",
     "text": [
      "      *      \n",
      "     ***     \n",
      "    *****    \n",
      "   *******   \n",
      "  *********  \n",
      " *********** \n",
      "*************\n"
     ]
    }
   ],
   "source": [
    "inp=int(input(\"Input  is  number  of  lines \"))\n",
    "for i in range(1,inp+1):#[1,2,3,4,5,6]\n",
    "    space=' '*(inp-i)#' ' *(5-1)=>' '*4\n",
    "    star='*'*((2*i)-1)# '*' *(2*1)+1 => '*' *3\n",
    "    print(space + star + space)  # Print spaces before and after star"
   ]
  },
  {
   "cell_type": "code",
   "execution_count": 155,
   "id": "3a3fec29",
   "metadata": {},
   "outputs": [
    {
     "name": "stdout",
     "output_type": "stream",
     "text": [
      "$$$$$* 6\n",
      "$$$$$** 7\n",
      "$$$$$*** 8\n",
      "$$$$$**** 9\n",
      "$$$$$***** 10\n"
     ]
    }
   ],
   "source": [
    "inp=int(input(\"Input  is  number  of  lines \"))\n",
    "for i in range(1,inp+1):#[1,2,3,4,5,6]\n",
    "    a=0\n",
    "    exp='$'*(inp-a) + '*'*(i+a)\n",
    "    print(exp,len(exp)) # Print spaces before and after star\n",
    "    a+=1"
   ]
  },
  {
   "cell_type": "code",
   "execution_count": 160,
   "id": "43cb0fda",
   "metadata": {},
   "outputs": [
    {
     "name": "stdout",
     "output_type": "stream",
     "text": [
      "    *\n",
      "    *\n",
      "   ***\n",
      "   ***\n",
      "   ***\n",
      "  *****\n",
      "  *****\n"
     ]
    }
   ],
   "source": [
    "inp=int(input(\"Input  is  number  of  lines \"))\n",
    "print(' '*4 +'*'*(inp-4))\n",
    "print(' '*4 +'*'*(inp-4))\n",
    "print(' '*3 +'*'*(inp-3+1))\n",
    "print(' '*3 +'*'*(inp-3+1))\n",
    "print(' '*3 +'*'*(inp-3+1))\n",
    "print(' '*2 +'*'*(inp-2+2))\n",
    "print(' '*2 +'*'*(inp-2+2))"
   ]
  }
 ],
 "metadata": {
  "kernelspec": {
   "display_name": "Python 3",
   "language": "python",
   "name": "python3"
  },
  "language_info": {
   "codemirror_mode": {
    "name": "ipython",
    "version": 3
   },
   "file_extension": ".py",
   "mimetype": "text/x-python",
   "name": "python",
   "nbconvert_exporter": "python",
   "pygments_lexer": "ipython3",
   "version": "3.12.6"
  }
 },
 "nbformat": 4,
 "nbformat_minor": 5
}

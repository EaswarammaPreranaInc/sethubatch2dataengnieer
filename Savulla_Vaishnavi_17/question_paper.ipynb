{
 "cells": [
  {
   "cell_type": "markdown",
   "id": "8429ed56",
   "metadata": {},
   "source": [
    "Input:Given Roman number:XIX\n",
    "Output:19\n",
    "I,II,III,IV,V,VI,VII,VIII,IX,X,XI,XII"
   ]
  },
  {
   "cell_type": "code",
   "execution_count": 3,
   "id": "566a68f2",
   "metadata": {},
   "outputs": [
    {
     "name": "stdout",
     "output_type": "stream",
     "text": [
      "The equivalent integer is: 19\n"
     ]
    }
   ],
   "source": [
    "inp=input(\"Enter a Roman number:\")\n",
    "rev=inp[::-1]\n",
    "result = 0\n",
    "num=0\n",
    "for i in rev:\n",
    "    match i:\n",
    "        case 'I': num=1\n",
    "        case 'V': num=5\n",
    "        case 'X': num=10\n",
    "        case 'L': num=50\n",
    "        case 'C': num=100   \n",
    "        case 'D': num=500\n",
    "        case 'M': num=1000\n",
    "    if num>result:\n",
    "         result+=num\n",
    "    else:\n",
    "        result-=num\n",
    "\n",
    "print(\"The equivalent integer is:\", result)"
   ]
  },
  {
   "cell_type": "markdown",
   "id": "03f84574",
   "metadata": {},
   "source": [
    "Fibonacci series upto nth term"
   ]
  },
  {
   "cell_type": "code",
   "execution_count": 14,
   "id": "848cdeeb",
   "metadata": {},
   "outputs": [
    {
     "name": "stdout",
     "output_type": "stream",
     "text": [
      "Fibonacci series: 10\n",
      "0\n",
      "1\n",
      "1\n",
      "1\n",
      "2\n",
      "3\n",
      "5\n",
      "8\n",
      "Fibonacci series completed.\n"
     ]
    }
   ],
   "source": [
    "num = int(input(\"Enter a number: \"))\n",
    "a,b=0,1\n",
    "print(\"Fibonacci series:\",num)\n",
    "print(a)\n",
    "print(b)\n",
    "c=a+b\n",
    "print(c)\n",
    "while c <= num:\n",
    "    print(c)\n",
    "    a=b\n",
    "    b=c\n",
    "    c=a+b\n",
    "print(\"Fibonacci series completed.\")"
   ]
  },
  {
   "cell_type": "code",
   "execution_count": 17,
   "id": "7de5c16a",
   "metadata": {},
   "outputs": [
    {
     "name": "stdout",
     "output_type": "stream",
     "text": [
      "Prime numbers between 1 and 9 are:\n",
      "2\n",
      "3\n",
      "5\n",
      "7\n"
     ]
    }
   ],
   "source": [
    "num1 = int(input(\"Enter starting number: \"))\n",
    "num2 = int(input(\"Enter ending number: \"))\n",
    "\n",
    "print(\"Prime numbers between\", num1, \"and\", num2, \"are:\")\n",
    "\n",
    "for i in range(num1, num2 + 1):\n",
    "    if i > 1:\n",
    "        c = 0\n",
    "        for j in range(1, i + 1):\n",
    "            if i % j == 0:\n",
    "                c += 1\n",
    "        if c == 2:\n",
    "            print(i)\n"
   ]
  },
  {
   "cell_type": "code",
   "execution_count": 17,
   "id": "d48ee13a",
   "metadata": {},
   "outputs": [
    {
     "name": "stdout",
     "output_type": "stream",
     "text": [
      "   *\n",
      "  **\n",
      " ***\n",
      "****\n",
      " ***\n",
      "  **\n",
      "   *\n",
      "    \n"
     ]
    }
   ],
   "source": [
    "num=int(input(\"Enter a number: \"))#7\n",
    "mid=num//2#3\n",
    "for i in range(1, mid+2):#1,2,3,4\n",
    "    print(\" \"*mid ,end='')\n",
    "    print('*'*i)\n",
    "    mid-=1\n",
    "middle=num//2\n",
    "for i in range(1, middle+2):#1,2,3,4\n",
    "    print(\" \"*i,end='')\n",
    "    print('*'*middle)\n",
    "    middle-=1\n",
    "\n",
    "\n",
    "    "
   ]
  },
  {
   "cell_type": "code",
   "execution_count": null,
   "id": "a7a6e497",
   "metadata": {},
   "outputs": [],
   "source": [
    "num=int(input(\"Enter a number: \"))#7\n",
    "mid=num//2#3\n",
    "middle=num//2#3\n",
    "for i in range(1, mid+2):\n",
    "    if i%2!=0:\n",
    "        print(\" \"*mid ,end='')\n",
    "        print('*'*i)\n",
    "        mid-=1\n",
    "    else:\n",
    "        print()\n"
   ]
  },
  {
   "cell_type": "code",
   "execution_count": 4,
   "id": "1e73fa9c",
   "metadata": {},
   "outputs": [],
   "source": [
    "num=int(input(\"Enter a number: \"))#7\n",
    "mid=num//2#3\n",
    "for i in range(1, mid+1,-1):#1,2,3,4\n",
    "    print(\"@\"*mid ,end='')\n",
    "    print('*'*(i))\n",
    "    mid+=1"
   ]
  },
  {
   "cell_type": "code",
   "execution_count": 58,
   "id": "491ddf27",
   "metadata": {},
   "outputs": [
    {
     "name": "stdout",
     "output_type": "stream",
     "text": [
      "ABCDEFGFEDCBA\n",
      "ABCDEF FEDCBA\n",
      "ABCDE   EDCBA\n",
      "ABCD     DCBA\n",
      "ABC       CBA\n",
      "AB         BA\n",
      "A           A\n"
     ]
    }
   ],
   "source": [
    "row=int(input(\"Enter the number of rows: \"))\n",
    "str='ABCDEFGHIJKLMNOPQRSTUVWXYZ'\n",
    "row_str=str[:row]\n",
    "rev_str=row_str[:row-1][::-1]\n",
    "print(row_str+rev_str)\n",
    "for i in range(1,row):\n",
    "    print(str[:row-i]+' '*i+' '*(i-1)+row_str[:row-i][::-1])\n",
    "    \n"
   ]
  },
  {
   "cell_type": "code",
   "execution_count": 5,
   "id": "2fd72bd2",
   "metadata": {},
   "outputs": [
    {
     "name": "stdout",
     "output_type": "stream",
     "text": [
      "The GCD of the numbers is: 3\n"
     ]
    }
   ],
   "source": [
    "import math\n",
    "num=eval(input(\"Enter a list of numbers: \"))\n",
    "str=num[0]\n",
    "for i in range(1,len(num)):\n",
    "    GCD=math.gcd(str, num[i])\n",
    "print(\"The GCD of the numbers is:\", GCD)"
   ]
  },
  {
   "cell_type": "code",
   "execution_count": null,
   "id": "c846a1aa",
   "metadata": {},
   "outputs": [
    {
     "name": "stdout",
     "output_type": "stream",
     "text": [
      "one hundred forty five\n"
     ]
    }
   ],
   "source": [
    "num=int(input(\"Enter a number: \"))\n",
    "p1=''\n",
    "p2=''\n",
    "ones={0:'zero',1:'one', 2:'two', 3:'three', 4:'four', 5:'five', 6:'six', 7:'seven', 8:'eight', 9:'nine',10:'ten'}\n",
    "teen={11:'eleven', 12:'twelve', 13:'thirteen', 14:'fourteen', 15:'fifteen', 16:'sixteen', 17:'seventeen', 18:'eighteen', 19:'nineteen'}\n",
    "ty={2:'twenty', 3:'thirty', 4:'forty', 5:'fifty', 6:'sixty', 7:'seventy', 8:'eighty', 9:'ninety'}\n",
    "if num>=0 and num<=10:\n",
    "    print(ones[num])\n",
    "elif num>10 and num<20:\n",
    "    print(teen[num])  \n",
    "elif num>=20 and num<100:\n",
    "    t=num//10\n",
    "    o=num%10\n",
    "    if o==0:\n",
    "        if t in ty:\n",
    "            p1=ty[t]\n",
    "        print(p1)\n",
    "    elif o>0:\n",
    "        if t in ty:\n",
    "            p1=ty[t]\n",
    "        if o in ones:\n",
    "            p2=ones[o]\n",
    "        print(p1, p2)\n",
    "elif num>=100 and num<1000:\n",
    "    h=num//100\n",
    "    t=(num%100)//10\n",
    "    o=num%10   \n",
    "    if t==0 and o==0:\n",
    "        print(ones[h]+'hundred')\n",
    "    elif t>0 and o==0:\n",
    "        if t in ty:\n",
    "            p1=ty[t]\n",
    "        print(ones[h]+'hundred', p1)\n",
    "    elif t>0 and o>0:\n",
    "        if t in ty:\n",
    "            p1=ty[t]\n",
    "        if o in ones:\n",
    "            p2=ones[o]\n",
    "        print(ones[h],'hundred', p1, p2)\n",
    "        "
   ]
  },
  {
   "cell_type": "code",
   "execution_count": 90,
   "id": "8331f934",
   "metadata": {},
   "outputs": [
    {
     "name": "stdout",
     "output_type": "stream",
     "text": [
      "Enter a sentence:\n",
      "The longest word is: Hello\n"
     ]
    }
   ],
   "source": [
    "print(\"Enter a sentence:\")\n",
    "sentence = input()\n",
    "\n",
    "max_length = 0\n",
    "current_length = 0\n",
    "longest_word = \"\"\n",
    "current_word = \"\"\n",
    "\n",
    "for i in range(len(sentence)):\n",
    "    char = sentence[i]\n",
    "\n",
    "    if char != ' ' and char != '\\n':\n",
    "        current_word += char\n",
    "        current_length += 1\n",
    "    else:\n",
    "        if current_length > max_length:\n",
    "            max_length = current_length\n",
    "            longest_word = current_word\n",
    "        current_word = \"\"\n",
    "        current_length = 0\n",
    "\n",
    "# Check last word (in case sentence doesn't end with space)\n",
    "if current_length > max_length:\n",
    "    longest_word = current_word\n",
    "\n",
    "print(\"The longest word is:\", longest_word)\n",
    "\n"
   ]
  }
 ],
 "metadata": {
  "kernelspec": {
   "display_name": "Python 3",
   "language": "python",
   "name": "python3"
  },
  "language_info": {
   "codemirror_mode": {
    "name": "ipython",
    "version": 3
   },
   "file_extension": ".py",
   "mimetype": "text/x-python",
   "name": "python",
   "nbconvert_exporter": "python",
   "pygments_lexer": "ipython3",
   "version": "3.12.6"
  }
 },
 "nbformat": 4,
 "nbformat_minor": 5
}

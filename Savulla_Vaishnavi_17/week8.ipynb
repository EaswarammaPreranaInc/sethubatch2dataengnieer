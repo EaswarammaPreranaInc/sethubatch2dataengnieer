{
 "cells": [
  {
   "cell_type": "code",
   "execution_count": null,
   "id": "5cfeaa19",
   "metadata": {},
   "outputs": [
    {
     "name": "stdout",
     "output_type": "stream",
     "text": [
      "List :   [3]\n"
     ]
    },
    {
     "ename": "AttributeError",
     "evalue": "'function' object has no attribute '_defaults_'",
     "output_type": "error",
     "traceback": [
      "\u001b[31m---------------------------------------------------------------------------\u001b[39m",
      "\u001b[31mAttributeError\u001b[39m                            Traceback (most recent call last)",
      "\u001b[36mCell\u001b[39m\u001b[36m \u001b[39m\u001b[32mIn[2]\u001b[39m\u001b[32m, line 8\u001b[39m\n\u001b[32m      5\u001b[39m \u001b[38;5;66;03m#end  of  the  function\u001b[39;00m\n\u001b[32m      6\u001b[39m \u001b[38;5;66;03m#print('_defaults_  :  ' , f1._defaults_)#_defaults_  :  ([],)\u001b[39;00m\n\u001b[32m      7\u001b[39m f1(\u001b[32m3\u001b[39m)\n\u001b[32m----> \u001b[39m\u001b[32m8\u001b[39m \u001b[38;5;28mprint\u001b[39m(\u001b[33m'\u001b[39m\u001b[33m_defaults_  :  \u001b[39m\u001b[33m'\u001b[39m , \u001b[43mf1\u001b[49m\u001b[43m.\u001b[49m\u001b[43m_defaults_\u001b[49m)\u001b[38;5;66;03m#_defaults_  :  ([3],)\u001b[39;00m\n\u001b[32m      9\u001b[39m f1(\u001b[32m4\u001b[39m , [\u001b[32m1\u001b[39m , \u001b[32m2\u001b[39m , \u001b[32m3\u001b[39m])\n\u001b[32m     10\u001b[39m \u001b[38;5;28mprint\u001b[39m(\u001b[33m'\u001b[39m\u001b[33m_defaults_  :  \u001b[39m\u001b[33m'\u001b[39m , f1._defaults_)\u001b[38;5;66;03m#_defaults_  :  ([3],)\u001b[39;00m\n",
      "\u001b[31mAttributeError\u001b[39m: 'function' object has no attribute '_defaults_'"
     ]
    }
   ],
   "source": [
    "# Find  outputs (Home  work)\n",
    "def   f1(x , a = []):\n",
    "\ta . append(x)\n",
    "\tprint('List :  ' ,  a)\n",
    "#end  of  the  function\n",
    "print('_defaults_  :  ' , f1._defaults_)#_defaults_  :  ([],)\n",
    "f1(3)\n",
    "print('_defaults_  :  ' , f1._defaults_)#_defaults_  :  ([3],)\n",
    "f1(4 , [1 , 2 , 3])\n",
    "print('_defaults_  :  ' , f1._defaults_)#_defaults_  :  ([3],)\n",
    "f1(9)\n",
    "print('_defaults_  :  ' , f1._defaults_)#_defaults_  :  ([3, 9],)\n",
    "f1(40 , [10 , 20 , 30])\n",
    "print('_defaults_  :  ' , f1._defaults_)#_defaults_  :  ([3, 9],)\n",
    "f1(5)\n",
    "print('_defaults_  :  ' , f1._defaults_)#_defaults_  :  ([3, 9, 5],)\n",
    "f1([6 , 7 , 8])\n",
    "print('_defaults_  :  ' , f1._defaults_)#_defaults_  :  ([3, 9, 5, [6, 7, 8]],)"
   ]
  },
  {
   "cell_type": "code",
   "execution_count": 3,
   "id": "b19feac0",
   "metadata": {},
   "outputs": [
    {
     "ename": "AttributeError",
     "evalue": "'function' object has no attribute '_defaults_'",
     "output_type": "error",
     "traceback": [
      "\u001b[31m---------------------------------------------------------------------------\u001b[39m",
      "\u001b[31mAttributeError\u001b[39m                            Traceback (most recent call last)",
      "\u001b[36mCell\u001b[39m\u001b[36m \u001b[39m\u001b[32mIn[3]\u001b[39m\u001b[32m, line 8\u001b[39m\n\u001b[32m      6\u001b[39m         \u001b[38;5;28mprint\u001b[39m(a)\n\u001b[32m      7\u001b[39m \u001b[38;5;66;03m#end  of  the  function\u001b[39;00m\n\u001b[32m----> \u001b[39m\u001b[32m8\u001b[39m \u001b[38;5;28mprint\u001b[39m(\u001b[33m'\u001b[39m\u001b[33m_defaults_  :  \u001b[39m\u001b[33m'\u001b[39m , \u001b[43mf1\u001b[49m\u001b[43m.\u001b[49m\u001b[43m_defaults_\u001b[49m)\u001b[38;5;66;03m#_defaults_  :  ([],)\u001b[39;00m\n\u001b[32m      9\u001b[39m f1(\u001b[32m3\u001b[39m)\n\u001b[32m     10\u001b[39m \u001b[38;5;28mprint\u001b[39m(\u001b[33m'\u001b[39m\u001b[33m_defaults_  :  \u001b[39m\u001b[33m'\u001b[39m , f1._defaults_)\u001b[38;5;66;03m#_defaults_  :  ([3],)\u001b[39;00m\n",
      "\u001b[31mAttributeError\u001b[39m: 'function' object has no attribute '_defaults_'"
     ]
    }
   ],
   "source": [
    "#  Find  outputs (Home  work)\n",
    "def   f1(x , a = []):\n",
    "        if  a  ==  []:\n",
    "                a = []\n",
    "        a . append(x)\n",
    "        print(a)\n",
    "#end  of  the  function\n",
    "print('_defaults_  :  ' , f1._defaults_)#_defaults_  :  ([],)\n",
    "f1(3)\n",
    "print('_defaults_  :  ' , f1._defaults_)#_defaults_  :  ([3],)\n",
    "f1(4 , [1 , 2 , 3])\n",
    "print('_defaults_  :  ' , f1._defaults_)#_defaults_  :  ([3], )\n",
    "f1(4)\n",
    "print('_defaults_  :  ' , f1._defaults_)#_defaults_  :  ([3, 4],)\n",
    "f1(40 , [10 , 20 , 30])\n",
    "print('_defaults_  :  ' , f1._defaults_)#_defaults_  :  ([3, 4],)\n",
    "f1(5)\n",
    "print('_defaults_  :  ' , f1._defaults_)#_defaults_  :  ([3, 4, 5],)\n",
    "f1([6 , 7 , 8])\n",
    "print('_defaults_  :  ' , f1._defaults_)#_defaults_  :  ([3, 4, 5],)"
   ]
  },
  {
   "cell_type": "code",
   "execution_count": null,
   "id": "4df3c6d8",
   "metadata": {},
   "outputs": [
    {
     "ename": "AttributeError",
     "evalue": "'function' object has no attribute '_defaults_'",
     "output_type": "error",
     "traceback": [
      "\u001b[31m---------------------------------------------------------------------------\u001b[39m",
      "\u001b[31mAttributeError\u001b[39m                            Traceback (most recent call last)",
      "\u001b[36mCell\u001b[39m\u001b[36m \u001b[39m\u001b[32mIn[4]\u001b[39m\u001b[32m, line 7\u001b[39m\n\u001b[32m      5\u001b[39m \t\u001b[38;5;28;01mreturn\u001b[39;00m  a\n\u001b[32m      6\u001b[39m \u001b[38;5;66;03m# End  of  the  function\u001b[39;00m\n\u001b[32m----> \u001b[39m\u001b[32m7\u001b[39m \u001b[38;5;28mprint\u001b[39m(\u001b[33m'\u001b[39m\u001b[33m_defaults  :  \u001b[39m\u001b[33m'\u001b[39m , \u001b[43mf1\u001b[49m\u001b[43m.\u001b[49m\u001b[43m_defaults_\u001b[49m)\u001b[38;5;66;03m#_defaults  :  ([],)\u001b[39;00m\n\u001b[32m      8\u001b[39m \u001b[38;5;28mprint\u001b[39m(f1(\u001b[32m3\u001b[39m))\n\u001b[32m      9\u001b[39m \u001b[38;5;28mprint\u001b[39m(\u001b[33m'\u001b[39m\u001b[33m_defaults  :  \u001b[39m\u001b[33m'\u001b[39m , f1._defaults_)\u001b[38;5;66;03m#_defaults  :  ([0, 1, 4],)\u001b[39;00m\n",
      "\u001b[31mAttributeError\u001b[39m: 'function' object has no attribute '_defaults_'"
     ]
    }
   ],
   "source": [
    "# Find  outputs(Home  work)\n",
    "def     f1(x , a = []):\n",
    "\tfor  i  in  range(x):\n",
    "\t\ta . append(i * i)\n",
    "\treturn  a\n",
    "# End  of  the  function\n",
    "print('_defaults  :  ' , f1._defaults_)#_defaults  :  ([],)\n",
    "print(f1(3))\n",
    "print('_defaults  :  ' , f1._defaults_)#_defaults  :  ([0, 1, 4],)\n",
    "print(f1(4 , [10 , 20 , 15 , 18]))\n",
    "print('_defaults  :  ' , f1._defaults_)#_defaults  :  ([0, 1, 4],)\n",
    "print(f1(5))\n",
    "print('_defaults  :  ' , f1._defaults_)#_defaults  :  ([0, 1, 4,0, 1, 4, 9, 16],)\n",
    "print(f1(a = [100 , 200 , 300],   x = 6 ))\n",
    "print('_defaults  :  ' , f1._defaults_)#_defaults  :  ([0, 1, 4,0, 1, 4, 9, 16,0, 1, 4, 9, 16],)\n",
    "print(f1(6))\n",
    "print('_defaults  :  ' , f1._defaults_)#_defaults  :  ([0, 1, 4,0, 1, 4, 9, 16,0, 1, 4, 9, 16,0, 1, 4, 9, 16,25], )"
   ]
  },
  {
   "cell_type": "code",
   "execution_count": 5,
   "id": "34a5e5bc",
   "metadata": {},
   "outputs": [
    {
     "name": "stdout",
     "output_type": "stream",
     "text": [
      "[0, 1, 4]\n",
      "[10, 20, 15, 18, 0, 1, 4, 9]\n",
      "[0, 1, 4, 9, 16]\n",
      "[100, 200, 300, 0, 1, 4, 9, 16, 25]\n",
      "[0, 1, 4, 9, 16, 25]\n"
     ]
    }
   ],
   "source": [
    "# Find  output (Home  work)\n",
    "def     f1(x , a = []):\n",
    "        if   a == []:\n",
    "                a = []\n",
    "        for  i   in   range(x):\n",
    "                a . append(i * i)\n",
    "        return  a\n",
    "# End  of  the  function\n",
    "print(f1(3))# [0, 1, 4]\n",
    "print(f1(4 , [10 , 20 , 15 , 18]))#[10,20,15,18,0,1,4,9]\n",
    "print(f1(5))#[0, 1, 4, 9, 16]\n",
    "print(f1(a = [100 , 200 , 300],   x = 6 ))#[100, 200, 300, 0, 1, 4, 9, 16, 25]\n",
    "print(f1(6))#[0, 1, 4, 9, 16, 25]"
   ]
  },
  {
   "cell_type": "code",
   "execution_count": null,
   "id": "9788ab06",
   "metadata": {},
   "outputs": [
    {
     "ename": "AttributeError",
     "evalue": "'function' object has no attribute '_defaults_'",
     "output_type": "error",
     "traceback": [
      "\u001b[31m---------------------------------------------------------------------------\u001b[39m",
      "\u001b[31mAttributeError\u001b[39m                            Traceback (most recent call last)",
      "\u001b[36mCell\u001b[39m\u001b[36m \u001b[39m\u001b[32mIn[6]\u001b[39m\u001b[32m, line 8\u001b[39m\n\u001b[32m      6\u001b[39m \t\u001b[38;5;28mprint\u001b[39m(\u001b[33m'\u001b[39m\u001b[33mb :  \u001b[39m\u001b[33m'\u001b[39m , b)\n\u001b[32m      7\u001b[39m \u001b[38;5;66;03m# End of the function\u001b[39;00m\n\u001b[32m----> \u001b[39m\u001b[32m8\u001b[39m \u001b[38;5;28mprint\u001b[39m(\u001b[33m'\u001b[39m\u001b[33mDefault Values  :  \u001b[39m\u001b[33m'\u001b[39m , \u001b[43mf1\u001b[49m\u001b[43m \u001b[49m\u001b[43m.\u001b[49m\u001b[43m \u001b[49m\u001b[43m_defaults_\u001b[49m)\u001b[38;5;66;03m#Default Values  :  ([],)\u001b[39;00m\n\u001b[32m      9\u001b[39m f1()\n\u001b[32m     10\u001b[39m \u001b[38;5;28mprint\u001b[39m(\u001b[33m'\u001b[39m\u001b[33mDefault Values  :  \u001b[39m\u001b[33m'\u001b[39m , f1 . _defaults_)\u001b[38;5;66;03m#Default Values  :  ('HydSec', [1, 2, 3])\u001b[39;00m\n",
      "\u001b[31mAttributeError\u001b[39m: 'function' object has no attribute '_defaults_'"
     ]
    }
   ],
   "source": [
    "# Find  outputs\n",
    "def   f1(a = 'Hyd' , b = []):\n",
    "\ta += \"Sec\"\n",
    "\tb += [1 , 2 , 3]\n",
    "\tprint('a :  ' , a)\n",
    "\tprint('b :  ' , b)\n",
    "# End of the function\n",
    "print('Default Values  :  ' , f1 . _defaults_)#Default Values  :  ([],)\n",
    "f1()\n",
    "print('Default Values  :  ' , f1 . _defaults_)#Default Values  :  ('HydSec', [1, 2, 3])\n",
    "f1()\n",
    "print('Default Values  :  ' , f1 . _defaults_)#Default Values  :  ('HydSecHydSec', [1, 2, 3,1, 2, 3])\n",
    "f1()"
   ]
  },
  {
   "cell_type": "code",
   "execution_count": 8,
   "id": "f44d9814",
   "metadata": {},
   "outputs": [
    {
     "name": "stdout",
     "output_type": "stream",
     "text": [
      "(10, 20, 15, 18)\n",
      "<class 'tuple'>\n",
      "4\n",
      "\n",
      "()\n",
      "<class 'tuple'>\n",
      "0\n",
      "\n",
      "([10, 20], (30, 40, 50), {80, 90, 60, 70})\n",
      "<class 'tuple'>\n",
      "3\n",
      "\n",
      "('Hyd',)\n",
      "<class 'tuple'>\n",
      "1\n",
      "\n",
      "((100, 200, 150),)\n",
      "<class 'tuple'>\n",
      "1\n",
      "\n"
     ]
    },
    {
     "data": {
      "text/plain": [
       "\"\\n(10,20,15,18)\\n<class 'tuple'>\\n4\\n()\\n<class 'tuple'>\\n0\\n([10 , 20] , (30 , 40 , 50) , {60 , 70 , 80 , 90})\\n<class 'tuple'>\\n3\\n('Hyd',)\\n<class 'tuple'>\\n1\\n((100 , 200 , 150),)\\n<class 'tuple'>\\n1\\n\""
      ]
     },
     "execution_count": 8,
     "metadata": {},
     "output_type": "execute_result"
    }
   ],
   "source": [
    "#  Variable  number  of  arguments  demo  program\n",
    "def   f1(*t):\n",
    "\tprint(t)\n",
    "\tprint(type(t))\n",
    "\tprint(len(t))\n",
    "\tprint()\n",
    "# End  of  the  function\n",
    "f1(10 , 20 , 15 , 18)  #  Tuple  of  4  elements  (or)  args  are  passed  to  the  function\n",
    "f1()\n",
    "f1([10 , 20] , (30 , 40 , 50) , {60 , 70 , 80 , 90})\n",
    "f1('Hyd')\n",
    "tpl = (100 , 200 , 150)\n",
    "f1(tpl)\n",
    "#f1(t = (10 , 20 , 30))#Error\n",
    "\n",
    "'''\n",
    "(10,20,15,18)\n",
    "<class 'tuple'>\n",
    "4\n",
    "()\n",
    "<class 'tuple'>\n",
    "0\n",
    "([10 , 20] , (30 , 40 , 50) , {60 , 70 , 80 , 90})\n",
    "<class 'tuple'>\n",
    "3\n",
    "('Hyd',)\n",
    "<class 'tuple'>\n",
    "1\n",
    "((100 , 200 , 150),)\n",
    "<class 'tuple'>\n",
    "1\n",
    "'''"
   ]
  },
  {
   "cell_type": "code",
   "execution_count": 10,
   "id": "3cb5f704",
   "metadata": {},
   "outputs": [
    {
     "name": "stdout",
     "output_type": "stream",
     "text": [
      "15.75\n",
      "12.266666666666666\n",
      "14.26\n",
      "0\n",
      "25.0\n",
      "(4+5j)\n"
     ]
    }
   ],
   "source": [
    "#  Write  a  function  to  determine  average  of  arguments  passed  to  the  function  (Home  work)\n",
    "def  avg(*a):\n",
    "\t#Write  code  to  return  average  of  arguments  passed  from  the  function  call  (single  line)\n",
    "\treturn sum(a) / len(a) if a else 0\n",
    "# End  of  the  function\n",
    "print(avg(10 , 20 , 15 , 18))\n",
    "print(avg(25 , 10.8 , True))\n",
    "print(avg(10.8 , 20.6 , 15.2 , 14.9 , 9.8))\n",
    "print(avg())\n",
    "print(avg(25))\n",
    "print(avg(3 + 4j , 5 + 6j))\n",
    "tpl = (10 , 20 , 15 , 18)\n",
    "#print(avg(tpl))#Error"
   ]
  },
  {
   "cell_type": "code",
   "execution_count": 12,
   "id": "14b0e7a7",
   "metadata": {},
   "outputs": [
    {
     "name": "stdout",
     "output_type": "stream",
     "text": [
      "SankarDayalSarma\n",
      "HydIsGreenCity\n",
      "PythonIsAGreatLanguage\n",
      "\n",
      "Python\n"
     ]
    }
   ],
   "source": [
    "#  Write  a  function  to  concatenate  strings  passed  to  the  function  (Home  work)\n",
    "def  concat(*a):\n",
    "\t#Write  code  to  return  join  of  all  the  strings  passed  from  the  function  call  (1  line)\n",
    "\treturn ''.join(a)\n",
    "# End   of  the   function\n",
    "print(concat('Sankar', 'Dayal', 'Sarma'))\n",
    "print(concat('Hyd', 'Is', 'Green', 'City'))\n",
    "print(concat('Python', 'Is', 'A', 'Great', 'Language'))\n",
    "print(concat())\n",
    "print(concat('Python'))\n",
    "#print(concat(1, 2, 3))Error"
   ]
  },
  {
   "cell_type": "code",
   "execution_count": 17,
   "id": "58ca0c68",
   "metadata": {},
   "outputs": [
    {
     "name": "stdout",
     "output_type": "stream",
     "text": [
      "a : 10  \t   b  :  (20, 30, 40) \n",
      "a : 50  \t   b  :  (60,) \n",
      "a : 70  \t   b  :  () \n",
      "a : 80  \t   b  :  () \n",
      "a : 25  \t   b  :  () \n"
     ]
    }
   ],
   "source": [
    "#Find  outputs (Home  work)\n",
    "def   f1(a = 25  , *b):\n",
    "        print(F'a : {a}  \\t   b  :  {b} ')\n",
    "# End  of  the  function\n",
    "f1(10 , 20 , 30 , 40)# a : 10    b  :  (20, 30, 40)\n",
    "f1(50 , 60)# a : 50    b  :  (60,)\n",
    "f1(70)# a : 70    b  :  ()\n",
    "f1(a = 80)# a : 80    b  :  ()\n",
    "#f1(b = (10 , 20 , 30) , a = 40)# a : 40    b  :  (10, 20, 30)\n",
    "f1()#Error\n",
    "#f1(a = 10 , (20 , 30 , 40))#Error bcz positional argument follows keyword argument\n",
    "#f1(25 , b = (10 , 20 , 30))# a : 25    b  :  ((10, 20, 30),)\n",
    "#f1(25 , a = (10 , 20 , 30))# a : 25    b  :  ((10, 20, 30),)\n",
    "#f1((10 , 20 , 30) , 10 , 20 , 30)#a : (10, 20, 30)    b  :  (10, 20, 30)\n",
    "#f1(a = (10 , 20 , 30) , 10 , 20 , 30)#Error bcz positional argument follows keyword argument"
   ]
  },
  {
   "cell_type": "code",
   "execution_count": 23,
   "id": "fbbdd969",
   "metadata": {},
   "outputs": [
    {
     "name": "stdout",
     "output_type": "stream",
     "text": [
      "a  :  (10, 20, 30)   \t   b  :  40\n",
      "a  :  (50,)   \t   b  :  60\n",
      "a  :  ()   \t   b  :  70\n",
      "a  :  (10, 20, 30)   \t   b  :  (10, 20, 30)\n"
     ]
    }
   ],
   "source": [
    "#Find  outputs (Home  work)\n",
    "def    f1(*a , b):\n",
    "\tprint(F'a  :  {a}   \\t   b  :  {b}')\n",
    "# End  of  the  function\n",
    "f1(10 , 20 , 30 , b = 40)# a : (10, 20, 30)    b  :  40\n",
    "f1(50 , b = 60)# a : (50,)    b  :  60\n",
    "f1(b = 70)# a : ()    b  :  70\n",
    "#f1(b = 10 , a = (20 , 30 , 40))# a : (20, 30, 40)    b  :  10\n",
    "#f1(b = 10 , (20 , 30 , 40))#Error bcz positional argument follows keyword argument\n",
    "#f1()#Error bcz missing required argument 'b'\n",
    "#f1(10 , 20 , 30 , (10 , 20 , 30))# a : (10, 20, 30)    b  :  (10, 20, 30)\n",
    "#f1(10 , 20 , 30 , 40)# a : (10, 20, 30)    b  :  40\n",
    "#f1(25)# a : 25    b  :  ()\n",
    "f1(10 , 20 , 30 , b = (10 , 20 , 30))# a : (10, 20, 30)    b  :  ((10, 20, 30),)"
   ]
  },
  {
   "cell_type": "code",
   "execution_count": 26,
   "id": "12b5fff9",
   "metadata": {},
   "outputs": [
    {
     "name": "stdout",
     "output_type": "stream",
     "text": [
      "a  :  10  \t  b  :  (20, 30, 40)  \t  c  :  50\n",
      "a  :  60  \t  b  :  (70,)  \t  c  :  80\n",
      "a  :  90  \t  b  :  ()  \t  c  :  100\n"
     ]
    }
   ],
   "source": [
    "#Find  outputs (Home  work)\n",
    "def   f1(a , *b , c):\n",
    "        print(F'a  :  {a}  \\t  b  :  {b}  \\t  c  :  {c}')\n",
    "# End  of  the  function\n",
    "f1(10 , 20 , 30 , 40 , c = 50)# a  :  10  \t  b  :  (20, 30, 40)  \t  c  :  50\n",
    "f1(60 , 70 , c = 80)# a  :  60  \t  b  :  (70,)  \t  c  :  80\n",
    "f1(90 , c = 100)# a  :  90  \t  b  :  ()  \t  c  :  100\n",
    "#f1(a = 1 , 2 , c = 3)#Error bcz positional argument follows keyword argument\n",
    "#f1(1 , 2 , 3)#Error bcz missing required argument 'c'\n",
    "#f1(a = 1 , b = 2 , c = 3)# a  :  1  \t  b  :  ()  \t  c  :  3\n",
    "#f1(a = 25 , 100 , 200 , 300 , c = 35)#Error bcz positional argument follows keyword argument"
   ]
  },
  {
   "cell_type": "code",
   "execution_count": 28,
   "id": "b50cffd6",
   "metadata": {},
   "outputs": [],
   "source": [
    "# Which  of  the  following  are  valid  ?  (Home  work)\n",
    "#def   f1(*a , *b):#we cannot use two * in same function\n",
    "        #pass\n",
    "def  f2(*a , b):\n",
    "        pass\n",
    "def  f3(a , *b):\n",
    "        pass\n",
    "def  f4(a , b):\n",
    "        pass\n",
    "def    f5(a , *b , c):\n",
    "        pass\n",
    "#def   f6( * , a , *b , c):#Error bcz positional argument follows keyword argument\n",
    "       #pass\n",
    "#def   f7(a , *b , c ,  /):#Error bcz positional argument follows keyword argument\n",
    "       #pass"
   ]
  },
  {
   "cell_type": "code",
   "execution_count": null,
   "id": "fafa36ea",
   "metadata": {},
   "outputs": [
    {
     "name": "stdout",
     "output_type": "stream",
     "text": [
      "([10, 20], {40, 30}, (50, 60))\n",
      "<class 'tuple'>\n",
      "[10, 20]\n",
      "<class 'list'>\n",
      "{40, 30}\n",
      "<class 'set'>\n",
      "(50, 60)\n",
      "<class 'tuple'>\n"
     ]
    }
   ],
   "source": [
    "# Find  outputs  (Home  work)\n",
    "def   f1(*a):\n",
    "\tprint(a)#([10 , 20] , {30 , 40} , (50 , 60))\n",
    "\tprint(type(a))#<class 'tuple'>\n",
    "\tfor  x  in  a:\n",
    "\t\tprint(x)\n",
    "\t\tprint(type(x))\n",
    "# End  of  the  function\n",
    "f1([10 , 20] , {30 , 40} , (50 , 60))\n",
    "#[10, 20]\n",
    "#<class 'list'>\n",
    "#{40, 30}\n",
    "#<class 'set'>\n",
    "#(50, 60)\n",
    "#<class 'tuple'>"
   ]
  },
  {
   "cell_type": "code",
   "execution_count": null,
   "id": "a7ec5524",
   "metadata": {},
   "outputs": [
    {
     "name": "stdout",
     "output_type": "stream",
     "text": [
      "Results\n",
      "<class 'dict'>\n",
      "{'RollNo': 10, 'StudName': 'Rama  Rao'}\n",
      "\n",
      "Results\n",
      "<class 'dict'>\n",
      "{'EmpNo': 25, 'EmpName': 'Sita', 'Salary': 10000.0}\n",
      "\n",
      "Results\n",
      "<class 'dict'>\n",
      "{'AcNo': 30, 'CustName': 'Kiran', 'Balance': 20000.0, 'Gender': 'm'}\n",
      "\n",
      "Results\n",
      "<class 'dict'>\n",
      "{}\n",
      "\n"
     ]
    },
    {
     "data": {
      "text/plain": [
       "\"\\nResults\\n<class  'dict'>\\n{'RollNo' : 10 , 'StudName' : 'Rama Rao'}\\n<class 'dict'>\\n{'EmpNo' : 25 , 'EmpName' : 'Sita' , 'Salary' : 10000.0}\\n<class 'dict'>\\n{'AcNo' : 30 , 'CustName' : 'Kiran' , 'Balance' : 20000.0 , 'Gender' : 'm'}\\n<class 'dict'>\\n\""
      ]
     },
     "execution_count": 30,
     "metadata": {},
     "output_type": "execute_result"
    }
   ],
   "source": [
    "# Variable  number  of  keyword  arguments  demo  program\n",
    "def   disp(**a):\n",
    "\tprint('Results')\n",
    "\tprint(type(a))\n",
    "\tprint(a)\n",
    "\tprint()\n",
    "#End  of  the  function\n",
    "disp(RollNo = 10 , StudName = 'Rama  Rao')   #  Dictionary  is  passed  to  the  function\n",
    "disp(EmpNo = 25 , EmpName = 'Sita' , Salary = 10000.0)\n",
    "disp(AcNo = 30 , CustName = 'Kiran' , Balance = 20000.0 , Gender = 'm')\n",
    "disp()\n",
    "\n",
    "'''\n",
    "Results\n",
    "<class  'dict'>\n",
    "{'RollNo' : 10 , 'StudName' : 'Rama Rao'}\n",
    "Results\n",
    "<class 'dict'>\n",
    "{'EmpNo' : 25 , 'EmpName' : 'Sita' , 'Salary' : 10000.0}\n",
    "Results\n",
    "<class 'dict'>\n",
    "{'AcNo' : 30 , 'CustName' : 'Kiran' , 'Balance' : 20000.0 , 'Gender' : 'm'}\n",
    "Results\n",
    "<class 'dict'>\n",
    "{}\n",
    "'''"
   ]
  },
  {
   "cell_type": "code",
   "execution_count": null,
   "id": "89990725",
   "metadata": {},
   "outputs": [
    {
     "name": "stdout",
     "output_type": "stream",
     "text": [
      "Results\n",
      "Empno ... 25\n",
      "Empname ... Rama  Rao\n",
      "Salary ... 10000.0\n",
      "Gender ... m\n",
      "Results\n"
     ]
    },
    {
     "data": {
      "text/plain": [
       "\"\\nResults\\n<class 'dict'>\\nEmpno...25\\nEmpname...Rama Rao\\nSalary...10000.0\\nGender...m\\nResults\\n<class 'dict'>\\n{}\\n\""
      ]
     },
     "execution_count": 31,
     "metadata": {},
     "output_type": "execute_result"
    }
   ],
   "source": [
    "# Find  outputs  (Home  work)\n",
    "def  f1(**a):\n",
    "\tprint('Results')\n",
    "\tfor  k , v   in   a . items():\n",
    "\t\tprint(k , v , sep = ' ... ')\n",
    "# End  of  the  function\n",
    "f1(Empno = 25 , Empname = 'Rama  Rao' , Salary = 10000.0 , Gender = 'm')\n",
    "f1()\n",
    "\n",
    "'''\n",
    "Results\n",
    "<class 'dict'>\n",
    "Empno...25\n",
    "Empname...Rama Rao\n",
    "Salary...10000.0\n",
    "Gender...m\n",
    "Results\n",
    "'''"
   ]
  },
  {
   "cell_type": "code",
   "execution_count": null,
   "id": "94dd3352",
   "metadata": {},
   "outputs": [
    {
     "name": "stdout",
     "output_type": "stream",
     "text": [
      "<class 'tuple'>\n",
      "(25, 10.8, 'Hyd', True)\n",
      "\n",
      "\n",
      "<class 'dict'>\n",
      "{'EmpNum': 25, 'EmpName': 'Sita', 'Salary': 10000.0}\n"
     ]
    }
   ],
   "source": [
    "# Find  outputs (Home  work)\n",
    "def   f1(*a):\n",
    "\tprint(type(a))\n",
    "\tprint(a)\n",
    "def   f2(**a):\n",
    "\tprint(type(a))\n",
    "\tprint(a)\n",
    "# End  of  the  function\n",
    "f1(25 , 10.8 , 'Hyd' , True)#<class 'tuple'>\n",
    "#(25, 10.8, 'Hyd', True)\n",
    "print()#()\n",
    "print()#()\n",
    "f2(EmpNum = 25 , EmpName =  'Sita' , Salary = 10000.0)#<class 'dict'>\n",
    "#{'EmpNum': 25, 'EmpName': 'Sita', 'Salary': 10000.0}"
   ]
  },
  {
   "cell_type": "code",
   "execution_count": 34,
   "id": "3b8c9333",
   "metadata": {},
   "outputs": [
    {
     "name": "stdout",
     "output_type": "stream",
     "text": [
      "Emp  Number  :  25  \t  Emp  Name  :  Sita  \t  Salary  :\t10000.0\n",
      "{'empno': 25, 'ename': 'Sita', 'sal': 10000.0}\n",
      "{'eno': 25, 'empname': 'Sita', 'salary': 10000.0}\n"
     ]
    }
   ],
   "source": [
    "#  Find  outputs (Home work)\n",
    "def   f1(empno , ename , sal):\n",
    "\tprint(F'Emp  Number  :  {empno}  \\t  Emp  Name  :  {ename}  \\t  Salary  :\t{sal}')\n",
    "def   f2(**a):\n",
    "\tprint(a)\n",
    "# End  of  the  function\n",
    "f1(empno = 25 , ename = 'Sita' , sal = 10000.0)#Emp  Number  :  25  \t  Emp  Name  :  Sita  \t  Salary  :\t10000.0\n",
    "#f1(eno = 25 , empname = 'Sita' , salary = 10000.0)#Error \n",
    "f2(empno = 25 , ename = 'Sita' , sal = 10000.0)#{'empno': 25, 'ename': 'Sita', 'sal': 10000.0}\n",
    "f2(eno = 25 , empname = 'Sita' , salary = 10000.0)#{'eno': 25, 'empname': 'Sita', 'salary': 10000.0}"
   ]
  },
  {
   "cell_type": "code",
   "execution_count": null,
   "id": "4538d6db",
   "metadata": {},
   "outputs": [
    {
     "name": "stdout",
     "output_type": "stream",
     "text": [
      "25\n",
      "\n",
      "Hyd\n",
      "(10, 20, 30)\n",
      "\n",
      "10.8\n",
      "(25, 'Hyd', True)\n",
      "{'EmpNo': 12, 'EmpName': 'Rama  Rao', 'Salary': 10000.0}\n"
     ]
    }
   ],
   "source": [
    "# Find  outputs   (Home  work)\n",
    "def    f1(a ,  *b , **c):\n",
    "\tprint(a)\n",
    "\tif   b:\n",
    "\t\tprint(b)\n",
    "\tif  c:\n",
    "\t\tprint(c)\n",
    "# End  of  the  function\n",
    "f1(25)#25\n",
    "print()#()\n",
    "f1('Hyd' , 10 , 20 , 30)#('Hyd', 10, 20, 30)\n",
    "print()#()\n",
    "f1(10.8 , 25 , 'Hyd' , True , EmpNo = 12 , EmpName = 'Rama  Rao' , Salary = 10000.0)#10.8\n",
    "#(25, 'Hyd', True)\n",
    "#{'EmpNo': 12, 'EmpName': 'Rama  Rao', 'Salary': 10000.0}\n"
   ]
  },
  {
   "cell_type": "code",
   "execution_count": null,
   "id": "352aeef7",
   "metadata": {},
   "outputs": [
    {
     "name": "stdout",
     "output_type": "stream",
     "text": [
      "a :  10\n",
      "b :  20\n",
      "c :  30\n",
      "\n",
      "a :  11\n",
      "b :  40\n",
      "c :  31\n",
      "\n",
      "a :  50\n",
      "b :  22\n",
      "c :  32\n",
      "Bye\n"
     ]
    }
   ],
   "source": [
    "#Find  outputs (Home  work)\n",
    "a = 10\n",
    "def   f1():\n",
    "\tb = 40\n",
    "\tprint('a : ' , a)\n",
    "\tprint('b : ' , b)\n",
    "\tprint('c : ' , c)\n",
    "\tprint()\n",
    "# End  of  f1()  function\n",
    "b = 20\n",
    "def    f2():\n",
    "\ta = 50\n",
    "\tprint('a : ' , a)\n",
    "\tprint('b : ' , b)\n",
    "\tprint('c : ' , c)\n",
    "# End  of  f2()  function\n",
    "c = 30\n",
    "print('a : ' , a)\n",
    "print('b : ' , b)\n",
    "print('c : ' , c)\n",
    "print()\n",
    "a +=  1\n",
    "b +=  1\n",
    "c +=  1\n",
    "f1()\n",
    "a +=  1\n",
    "b +=  1\n",
    "c +=  1\n",
    "f2()\n",
    "print('Bye')\n",
    "\n",
    "'''a :  10\n",
    "b :  20\n",
    "c :  30\n",
    "\n",
    "a :  11\n",
    "b :  40\n",
    "c :  31\n",
    "\n",
    "a :  50\n",
    "b :  22\n",
    "c :  32\n",
    "Bye\n",
    "'''"
   ]
  },
  {
   "cell_type": "code",
   "execution_count": null,
   "id": "de7e28e2",
   "metadata": {},
   "outputs": [
    {
     "name": "stdout",
     "output_type": "stream",
     "text": [
      "10\n",
      "20\n",
      "11\n"
     ]
    }
   ],
   "source": [
    "# Find  outputs (Home  work)\n",
    "def   f1():\n",
    "\ta = 20\n",
    "\tprint(a)\n",
    "\ta += 1\n",
    "#End  of  the  function\n",
    "a = 10\n",
    "print(a)\n",
    "a += 1\n",
    "f1()\n",
    "print(a)\n",
    "'''\n",
    "10\n",
    "20\n",
    "11\n",
    "'''"
   ]
  },
  {
   "cell_type": "code",
   "execution_count": null,
   "id": "000cdf77",
   "metadata": {},
   "outputs": [
    {
     "name": "stdout",
     "output_type": "stream",
     "text": [
      "10\n",
      "20\n",
      "11\n",
      "40\n"
     ]
    }
   ],
   "source": [
    "# Find  outputs  (Home  work)\n",
    "def   f1():\n",
    "\ta = 20\n",
    "\tprint(a)\n",
    "\tdict = globals()\n",
    "\tprint(dict['a'])\n",
    "\ta = 30\n",
    "\tdict['a'] = 40\n",
    "#  End  of  f1()  function\n",
    "a = 10\n",
    "print(a)#10\n",
    "a += 1\n",
    "f1()#20\n",
    "#11\n",
    "print(a)#40"
   ]
  },
  {
   "cell_type": "code",
   "execution_count": 2,
   "id": "49ff939e",
   "metadata": {},
   "outputs": [
    {
     "name": "stdout",
     "output_type": "stream",
     "text": [
      "10\n",
      "10\n"
     ]
    }
   ],
   "source": [
    "# Find  outputs (Home  work)\n",
    "x = 10\n",
    "def   f1():\n",
    "\tprint(x)\n",
    "\tprint(globals()['x'])\n",
    "# End of the function\n",
    "f1()#10\n",
    "#10"
   ]
  },
  {
   "cell_type": "code",
   "execution_count": null,
   "id": "7a285912",
   "metadata": {},
   "outputs": [
    {
     "name": "stdout",
     "output_type": "stream",
     "text": [
      "20\n",
      "10\n"
     ]
    }
   ],
   "source": [
    "# Find  outputs (Home  work)\n",
    "def  f1():\n",
    "\tx = 20\n",
    "\tprint(x)\n",
    "\tprint(globals()['x'])\n",
    "# End  of  the  function\n",
    "f1()#20\n",
    "#10"
   ]
  },
  {
   "cell_type": "code",
   "execution_count": null,
   "id": "67fc014e",
   "metadata": {},
   "outputs": [
    {
     "name": "stdout",
     "output_type": "stream",
     "text": [
      "40 50 60\n",
      "10 20 30\n",
      "100 200 300\n"
     ]
    }
   ],
   "source": [
    "# Find outputs (Home  work)\n",
    "def  f1():\n",
    "\ta = 40\n",
    "\tb = 50\n",
    "\tc = 60\n",
    "\tprint(a , b , c)\n",
    "\tdict = globals()\n",
    "\tprint(dict['a'] , dict['b'] , dict['c'])\n",
    "\tdict['a'] = 100\n",
    "\tdict['b'] = 200\n",
    "\tdict['c'] = 300\n",
    "def  f2():\n",
    "\tprint(a , b , c)\n",
    "# End  of  f2  function\n",
    "a = 10\n",
    "b = 20\n",
    "c = 30\n",
    "f1()# 40 50 60\n",
    "# 10 20 30\n",
    "f2()# 100 200 300"
   ]
  },
  {
   "cell_type": "code",
   "execution_count": null,
   "id": "162fbfae",
   "metadata": {},
   "outputs": [
    {
     "name": "stdout",
     "output_type": "stream",
     "text": [
      "10\n",
      "20\n",
      "11\n",
      "30\n",
      "31\n",
      "40\n",
      "41\n",
      "32\n"
     ]
    }
   ],
   "source": [
    "# global  keyword  demo  program (Home  work)\n",
    "def    f1():\n",
    "\tx = 20\n",
    "\tprint(x)\n",
    "def   f2():\n",
    "\tglobal  x\n",
    "\tx = 30\n",
    "\tprint(x)\n",
    "\tx += 1\n",
    "def   f3():\n",
    "\tglobal  y\n",
    "\ty = 40\n",
    "\tprint(y)\n",
    "\ty += 1\n",
    "def   f4():\n",
    "\tx = 50\n",
    "\t#global   x #already declared\n",
    "#  End  of  the  functions\n",
    "x = 10\n",
    "print(x)#10\n",
    "x += 1#\n",
    "f1()#20\n",
    "print(x)#11\n",
    "f2()#30\n",
    "print(x)#31\n",
    "x += 1\n",
    "f3()#40\n",
    "print(y)#41\n",
    "f4()\n",
    "print(x)#32"
   ]
  },
  {
   "cell_type": "code",
   "execution_count": null,
   "id": "db3508b5",
   "metadata": {},
   "outputs": [
    {
     "name": "stdout",
     "output_type": "stream",
     "text": [
      "10\n",
      "20\n",
      "20\n",
      "30\n"
     ]
    }
   ],
   "source": [
    "# Find outputs (Home  work)\n",
    "def  f1():\n",
    "\tglobal  a\n",
    "\ta = 20\n",
    "\tprint(a)\n",
    "\tprint(globals()['a'])\n",
    "\ta = 30\n",
    "# End of the function\n",
    "a = 10\n",
    "print(a)#10\n",
    "f1()#20\n",
    "#20\n",
    "print(a)#30"
   ]
  },
  {
   "cell_type": "code",
   "execution_count": null,
   "id": "241bdade",
   "metadata": {},
   "outputs": [
    {
     "name": "stdout",
     "output_type": "stream",
     "text": [
      "30\n",
      "10\n",
      "20\n",
      "30\n",
      "30\n"
     ]
    }
   ],
   "source": [
    "# Find  outputs(Home  work)\n",
    "def  f1():\n",
    "\tglobal  a\n",
    "\tprint(a)\n",
    "\ta = 10\n",
    "\tprint(globals()['a'])\n",
    "\ta = 20\n",
    "\tprint(a)\n",
    "\ta = 30\n",
    "def  f2():\n",
    "\tprint(a)\n",
    "# End  of   f2   function\n",
    "f1()#30\n",
    "#10\n",
    "#20\n",
    "f2()#30\n",
    "print(a)#30"
   ]
  },
  {
   "cell_type": "code",
   "execution_count": 9,
   "id": "255c0862",
   "metadata": {},
   "outputs": [
    {
     "name": "stdout",
     "output_type": "stream",
     "text": [
      "10\n",
      "20\n",
      "30\n",
      "40\n"
     ]
    }
   ],
   "source": [
    "# Find outputs (Home  work)\n",
    "def  f1():\n",
    "\tglobal   a\n",
    "\ta = 10\n",
    "\tprint(a)\n",
    "\ta = 20\n",
    "def  f2():\n",
    "\tglobal  a\n",
    "\tprint(a)\n",
    "\ta = 30\n",
    "def  f3():\n",
    "\tprint(a)\n",
    "\tglobals()['a'] = 40\n",
    "# End  of  the  function\n",
    "f1()#10\n",
    "f2()#20\n",
    "f3()#30\n",
    "print(a)#40"
   ]
  },
  {
   "cell_type": "code",
   "execution_count": 10,
   "id": "0bf5c136",
   "metadata": {},
   "outputs": [
    {
     "name": "stdout",
     "output_type": "stream",
     "text": [
      "10\n"
     ]
    },
    {
     "ename": "UnboundLocalError",
     "evalue": "cannot access local variable 'a' where it is not associated with a value",
     "output_type": "error",
     "traceback": [
      "\u001b[31m---------------------------------------------------------------------------\u001b[39m",
      "\u001b[31mUnboundLocalError\u001b[39m                         Traceback (most recent call last)",
      "\u001b[36mCell\u001b[39m\u001b[36m \u001b[39m\u001b[32mIn[10]\u001b[39m\u001b[32m, line 16\u001b[39m\n\u001b[32m     14\u001b[39m \u001b[38;5;66;03m# End  of  the  function\u001b[39;00m\n\u001b[32m     15\u001b[39m f1()\u001b[38;5;66;03m#10\u001b[39;00m\n\u001b[32m---> \u001b[39m\u001b[32m16\u001b[39m \u001b[43mf2\u001b[49m\u001b[43m(\u001b[49m\u001b[43m)\u001b[49m\u001b[38;5;66;03m#20\u001b[39;00m\n\u001b[32m     17\u001b[39m \u001b[38;5;66;03m#30\u001b[39;00m\n\u001b[32m     18\u001b[39m f3()\u001b[38;5;66;03m#30\u001b[39;00m\n",
      "\u001b[36mCell\u001b[39m\u001b[36m \u001b[39m\u001b[32mIn[10]\u001b[39m\u001b[32m, line 8\u001b[39m, in \u001b[36mf2\u001b[39m\u001b[34m()\u001b[39m\n\u001b[32m      7\u001b[39m \u001b[38;5;28;01mdef\u001b[39;00m\u001b[38;5;250m  \u001b[39m\u001b[34mf2\u001b[39m():\n\u001b[32m----> \u001b[39m\u001b[32m8\u001b[39m \t\u001b[38;5;28mprint\u001b[39m(\u001b[43ma\u001b[49m)\n\u001b[32m      9\u001b[39m \ta = \u001b[32m30\u001b[39m\n\u001b[32m     10\u001b[39m \t\u001b[38;5;28mprint\u001b[39m(a)\n",
      "\u001b[31mUnboundLocalError\u001b[39m: cannot access local variable 'a' where it is not associated with a value"
     ]
    }
   ],
   "source": [
    "# Find outputs (Home  work)\n",
    "def  f1():\n",
    "\tglobal   a\n",
    "\ta = 10\n",
    "\tprint(a)\n",
    "\ta = 20\n",
    "def  f2():\n",
    "\tprint(a)\n",
    "\ta = 30\n",
    "\tprint(a)\n",
    "def  f3():\n",
    "\tprint(a)\n",
    "\tglobals()['a'] = 40\n",
    "# End  of  the  function\n",
    "f1()#10\n",
    "f2()#20\n",
    "#30\n",
    "f3()#30\n",
    "print(a)#40"
   ]
  },
  {
   "cell_type": "code",
   "execution_count": 11,
   "id": "299211cb",
   "metadata": {},
   "outputs": [
    {
     "name": "stdout",
     "output_type": "stream",
     "text": [
      "10\n",
      "20\n",
      "20\n"
     ]
    }
   ],
   "source": [
    "#  Find  outputs (Home  work)\n",
    "def  f1():\n",
    "        a = 10\n",
    "        #global  a#Error bcz no a is defined outside the function\n",
    "        print(a)\n",
    "        global  b\n",
    "        b = 20\n",
    "# End  of  f1()  function\n",
    "f1()#10\n",
    "print(a)\n",
    "print(b)"
   ]
  },
  {
   "cell_type": "code",
   "execution_count": 12,
   "id": "42b80e7f",
   "metadata": {},
   "outputs": [
    {
     "name": "stdout",
     "output_type": "stream",
     "text": [
      "10\n",
      "11\n",
      "12\n",
      "13\n",
      "14\n"
     ]
    }
   ],
   "source": [
    "# Find outputs (Home  work)\n",
    "def  f1():\n",
    "        global  a\n",
    "        print(a)\n",
    "        a += 1\n",
    "def  f2():\n",
    "        global  a\n",
    "        print(a)\n",
    "        a += 1\n",
    "# End  of  the  function\n",
    "a = 10\n",
    "print(a)#10\n",
    "a += 1\n",
    "f1()#11\n",
    "print(a)#12\n",
    "a += 1\n",
    "f2()#13\n",
    "print(a)#14"
   ]
  },
  {
   "cell_type": "code",
   "execution_count": 14,
   "id": "35c6d8b0",
   "metadata": {},
   "outputs": [
    {
     "name": "stdout",
     "output_type": "stream",
     "text": [
      "10\n",
      "20\n",
      "11\n"
     ]
    }
   ],
   "source": [
    "# Find  outputs (Home  work)\n",
    "def   f1():\n",
    "\ta = 20\n",
    "\tprint(a)\n",
    "def  f2():\n",
    "\tprint(a)\n",
    "\ta += 1\n",
    "# End of the function\n",
    "a = 10\n",
    "print(a)#10\n",
    "f1()#20\n",
    "a += 1\n",
    "#f2()#Error bcz a is not global variable\n",
    "print(a)#11"
   ]
  },
  {
   "cell_type": "code",
   "execution_count": 15,
   "id": "82b6b297",
   "metadata": {},
   "outputs": [
    {
     "name": "stdout",
     "output_type": "stream",
     "text": [
      "10\n",
      "20\n",
      "11\n",
      "40\n"
     ]
    }
   ],
   "source": [
    "# Find outputs (Home  work)\n",
    "def  f1():\n",
    "\ta = 20\n",
    "\t#global   a#Error\n",
    "\tprint(a)\n",
    "\tprint(globals()['a'])\n",
    "\ta = 30\n",
    "\tglobals()['a'] = 40\n",
    "#  End  of  f1()   function\n",
    "a = 10\n",
    "print(a)#10\n",
    "a += 1\n",
    "f1()#20\n",
    "#11\n",
    "print(a)#40"
   ]
  },
  {
   "cell_type": "code",
   "execution_count": null,
   "id": "40ff21a1",
   "metadata": {},
   "outputs": [
    {
     "name": "stdout",
     "output_type": "stream",
     "text": [
      "15\n",
      "10\n"
     ]
    }
   ],
   "source": [
    "#  Find   outputs\n",
    "def   f1():\n",
    "\tx = x + 5\n",
    "# End  of  f1  function\n",
    "def  f2():\n",
    "\tx = globals()['x'] + 5\n",
    "\tprint(x)\n",
    "# End of f2  function\n",
    "x = 10\n",
    "#f1()#Error\n",
    "f2()#15\n",
    "print(x)#10"
   ]
  }
 ],
 "metadata": {
  "kernelspec": {
   "display_name": "Python 3",
   "language": "python",
   "name": "python3"
  },
  "language_info": {
   "codemirror_mode": {
    "name": "ipython",
    "version": 3
   },
   "file_extension": ".py",
   "mimetype": "text/x-python",
   "name": "python",
   "nbconvert_exporter": "python",
   "pygments_lexer": "ipython3",
   "version": "3.12.6"
  }
 },
 "nbformat": 4,
 "nbformat_minor": 5
}

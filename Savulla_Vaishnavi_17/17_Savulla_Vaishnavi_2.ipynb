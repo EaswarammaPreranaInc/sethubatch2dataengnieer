{
 "cells": [
  {
   "cell_type": "code",
   "execution_count": 1,
   "id": "b3782616",
   "metadata": {},
   "outputs": [
    {
     "name": "stdout",
     "output_type": "stream",
     "text": [
      "Dictionary  with  print  function\n",
      "{10: 'Ramesh', 20: 'Kiran', 15: 'Amar', 18: 'Sita'}\n",
      "Keys  of  dictionary\n",
      "dict_keys([10, 20, 15, 18])\n",
      "Values  of  dictionary\n",
      "dict_values(['Ramesh', 'Kiran', 'Amar', 'Sita'])\n",
      "All  the  tuples  of  dict_items   object\n",
      "dict_items([(10, 'Ramesh'), (20, 'Kiran'), (15, 'Amar'), (18, 'Sita')])\n",
      "Elements  of  each   tuple\n",
      "(10, 'Ramesh')\n",
      "(20, 'Kiran')\n",
      "(15, 'Amar')\n",
      "(18, 'Sita')\n",
      "Keys  and  values  of  dictionary\n",
      "10 : Ramesh\n",
      "20 : Kiran\n",
      "15 : Amar\n",
      "18 : Sita\n"
     ]
    }
   ],
   "source": [
    "# How  to  print  dictionary  in  different  ways\n",
    "a  =  {10 : 'Ramesh' ,  20 : 'Kiran' , 15 : 'Amar' , 18 : 'Sita'}\n",
    "print('Dictionary  with  print  function')\n",
    "print(a)#How  to  print  dictionary  with  print()  function\n",
    "print('Keys  of  dictionary')\n",
    "print(a.keys())#How  to  print  each  key  of  dict  'a'\n",
    "print('Values  of  dictionary')\n",
    "print(a.values())#How  to  print  each  value  of  dict  'a'\n",
    "print('All  the  tuples  of  dict_items   object')\n",
    "print(a.items())#How  to  print  each  tuple  of  the  list  in  dict_items  object\n",
    "print('Elements  of  each   tuple')\n",
    "for i in a.items():\n",
    "    print(i)#How  to  print  elements  of  each  tuple  in  the  list  of  dict_items  object\n",
    "print('Keys  and  values  of  dictionary')\n",
    "for key,value in a.items():\n",
    "    print(f\"{key} : {value}\")#How  to  print  each  key  and  corresponding  value  in  dict  'a'"
   ]
  },
  {
   "cell_type": "code",
   "execution_count": null,
   "id": "30c39c45",
   "metadata": {},
   "outputs": [],
   "source": [
    "#  Find  outputs (Home  work)\n",
    "a = {\n",
    "\t\tprint('Hyd') ,\n",
    "\t\tprint('Sec') ,\n",
    "\t\tprint('Cyb')\n",
    "\t}\n",
    "print(type(a))#<class 'set'>\n",
    "print(a)#print('Hyd') ,print('Sec') ,print('Cyb')\n",
    "print(len(a))#Error"
   ]
  },
  {
   "cell_type": "code",
   "execution_count": null,
   "id": "57bcf7db",
   "metadata": {},
   "outputs": [],
   "source": [
    "#  Anonymous  object  demo  program\n",
    "_ = 25\n",
    "print(_)#25\n",
    "print(type(_))#<class 'int'>\n",
    "a , _ , c = 10 , 20 , 30\n",
    "print(a)#10\n",
    "print(_)#20\n",
    "print(c)#30\n",
    "for  _  in  range(5):\n",
    "\tprint(_ , 'Hello')#0 Hello <next line>1 Hello <next line>2 Hello <next line>3 Hello <next line>4 Hello\n",
    "\n",
    "\n",
    "'''\n",
    "1) What  is   _   called ?   --->  Anonymous  object  (or) Nameless  object\n",
    "\n",
    "2) How  many  nameless  objects  can  be  a  program ?  --->  Just  one  (or)  zero\n",
    "\n",
    "3) What  happens  when  another  nameless  object  is  created ?  --->  Existing  nameless  object  gets  deleted\n",
    "\n",
    "4) Can  there  be  multiple  nameless  objects  in  a  program ?  --->  No\n",
    "\n",
    "5) _ = 10\n",
    "    _ = 20\n",
    "   What  happens  when  _ = 20  is  executed ?  --->  A  new  nameless  object  is  created  with  value  20  and\n",
    "\t\t\t\t\t\t\t\t\t\t\t\t\t\t\t\t\t\t\t\t  old  nameless  object  with  10  is  lost\n",
    "'''"
   ]
  },
  {
   "cell_type": "code",
   "execution_count": null,
   "id": "407cf519",
   "metadata": {},
   "outputs": [],
   "source": [
    "#  Find  outputs\n",
    "a = 25\n",
    "print(id(a))#Address of obj a\n",
    "a = 35\n",
    "print(id(a))#New address"
   ]
  },
  {
   "cell_type": "code",
   "execution_count": null,
   "id": "c933bd8c",
   "metadata": {},
   "outputs": [],
   "source": [
    "# Find  outputs (Home  work)\n",
    "a = 25.7\n",
    "print(id(a))#Address of obj a\n",
    "print(a)#25.7\n",
    "a = 35.6\n",
    "print(id(a))#new Address of obj a\n",
    "print(a)#35.6\n",
    "b = True\n",
    "print(id(b))#Address of obj b\n",
    "b = False\n",
    "print(id(b))# New Address of obj b\n",
    "c = None\n",
    "print(id(c))#Address of obj c\n",
    "c = None\n",
    "print(id(c))#same address"
   ]
  },
  {
   "cell_type": "code",
   "execution_count": null,
   "id": "f0a81b62",
   "metadata": {},
   "outputs": [],
   "source": [
    "#  Find  outputs  (Home  work)\n",
    "a = 'Hyd'\n",
    "print(id(a))#Address of obj a\n",
    "#a[1] = 'e'#Erorr \n",
    "a = 'Sec'\n",
    "print(id(a))#Same address\n",
    "b = (10 , 20 , 15 , 18)\n",
    "print(id(b))#Address of obj b\n",
    "#b[2] = 19\n",
    "b = (30 , 40 , 35 , 32)\n",
    "print(id(b))#same address\n",
    "c = range(5)\n",
    "print(id(c))#Address of obj c\n",
    "#c[3] = 10\n",
    "c = range(5)\n",
    "print(id(c))#Address of obj c"
   ]
  },
  {
   "cell_type": "code",
   "execution_count": null,
   "id": "cda05d74",
   "metadata": {},
   "outputs": [],
   "source": [
    "# Find  outputs  (Home  work)\n",
    "a = 25\n",
    "b = 25\n",
    "print(a  is  b) # True\n",
    "c = 'Hyd'\n",
    "d = 'Hyd'\n",
    "print(c  is  d)#True\n",
    "e = False\n",
    "f = False\n",
    "print(e  is  f)#True\n",
    "g = range(10)\n",
    "h = range(10)\n",
    "print(g  is  h)#False\n"
   ]
  },
  {
   "cell_type": "code",
   "execution_count": null,
   "id": "b3a4eb12",
   "metadata": {},
   "outputs": [],
   "source": [
    "#Find  outputs(Home  work)\n",
    "a = [10 , 20 , 15 , 18]\n",
    "b = [10 , 20 , 15 , 18]\n",
    "print(a  is  b)#False\n",
    "c =  {10 : 20, 30 : 40}\n",
    "d =  {10 : 20, 30 : 40}\n",
    "print(c  is  d)#False\n",
    "e = (10 , 20 , 15 , 18)\n",
    "f = (10 , 20 , 15 , 18)\n",
    "print(e  is  f)#False\n",
    "g = {10 , 20 , 15 , 18}\n",
    "h = {10 , 20 , 15 , 18}\n",
    "print(g  is  h)#False"
   ]
  },
  {
   "cell_type": "code",
   "execution_count": null,
   "id": "013e79dd",
   "metadata": {},
   "outputs": [],
   "source": [
    "# Find outputs (Home work)\n",
    "print(10 + 20)#30\n",
    "print(10.8 + 20.6)#31.4\n",
    "print(3 + 4j + 5 + 6j)#8+10j\n",
    "print(True + False)#1\n",
    "print('Hyder' + 'abad')#Hyderabad\n",
    "print('Sankar' + 'Dayal' + 'Sarma')#SankarDayalsarma\n",
    "print('10' + '20')#1020\n",
    "print([10 , 20 , 30] + [1 , 2 , 3])#[10,20,30,1,2,3]\n",
    "print((25 , 10.8 , 'Hyd') + (3 + 4j , True , None))#(25 , 10.8 , 'Hyd',3 + 4j , True , None)\n",
    "#print({10 , 20} + {30 , 40})#Error \n",
    "#print({10 : 'Hyd'} + {20 : 'Sec'})#Error\n",
    "#print(range(4) + range(5))#Error\n",
    "#print(10 + '20')#Error\n",
    "#print([10 , 20 , 30] + 5)#Error\n",
    "#print([10 , 20 , 30] + (40 , 50 , 60))#Error"
   ]
  },
  {
   "cell_type": "code",
   "execution_count": null,
   "id": "661de513",
   "metadata": {},
   "outputs": [],
   "source": [
    "# Find outputs (Home work)\n",
    "print(25 * 3)#75\n",
    "print(10.8 * 25.6)#276.48\n",
    "print(True * False)#0\n",
    "print((3 + 4j) * (5 + 6j))#(-9+38j)\n",
    "print(3 + 4j * 5 + 6j)#3+26j\n",
    "print('25' * 3)#252525\n",
    "print(3 * '25')#2525225\n",
    "print('Hyd' * 4)#HydHydHydHyd\n",
    "print([10 , 20 , 15] * 2)#[10, 20, 15, 10, 20, 15]\n",
    "print((25, 10.8, 'Hyd', True) * 3)#(25, 10.8, 'Hyd', True, 25, 10.8, 'Hyd', True, 25, 10.8, 'Hyd', True)\n",
    "#print([10 , 20 , 15] * 3.0)#Error we cannot multiple with non-int\n",
    "#print({10 , 20 , 15} * 2)#Error\n",
    "#print({10 : 20 , 30 : 40} * 2)#Error\n",
    "#print([10] * [20])#Error we cannot multiple with non-int"
   ]
  },
  {
   "cell_type": "code",
   "execution_count": null,
   "id": "b3b250c9",
   "metadata": {},
   "outputs": [],
   "source": [
    "#  /  operator  demo  program\n",
    "print(9.0 / 2)#4.5\n",
    "print(9 / 2.0)#4.5\n",
    "print(9.0 / 2.0)#4.5\n",
    "print(9 / 2)  #  4.5\n",
    "print(10.5 / 2)#5.25\n",
    "print(10 / 3)#3.333\n",
    "print(10 / 2)#5\n",
    "\n",
    "\n",
    "'''\n",
    "What  does  /  operator  do  ?  --->  Peforms  division   and  returns  float  quotient\n",
    "'''"
   ]
  },
  {
   "cell_type": "code",
   "execution_count": null,
   "id": "212e751d",
   "metadata": {},
   "outputs": [],
   "source": [
    "#  //  operator  demo  program\n",
    "print(9 // 2)  #   prev  integer  of (4.5) = 4\n",
    "print(9.0 // 2)#4.0\n",
    "print(9 // 2.0)#4.0\n",
    "print(9.0 // 2.0)#4.0\n",
    "print(10.5 // 2)#5.0\n",
    "print(10 // 3)#3\n",
    "print(10.0 // 3)  #    prev  integer  of  3.33 = 3.0\n",
    "print(8.5 // 3)#2.0\n",
    "print(18 // 4)#4\n",
    "print(-18 // 4)#-5\n",
    "print(-(18 // 4))#-4"
   ]
  },
  {
   "cell_type": "code",
   "execution_count": 1,
   "id": "22aca905",
   "metadata": {},
   "outputs": [
    {
     "name": "stdout",
     "output_type": "stream",
     "text": [
      "4\n",
      "4.0\n",
      "4.0\n",
      "4.0\n",
      "0.5\n",
      "2.9000000000000004\n"
     ]
    }
   ],
   "source": [
    "# % operator demo program\n",
    "print(9 % 5)#4\n",
    "print(9.0 % 5)#4.0\n",
    "print(9 % 5.0)#4.0\n",
    "print(9.0 % 5.0)#4.0\n",
    "print(10.5 % 2)  #   0.5\n",
    "print(8.9 % 3)#2.9"
   ]
  },
  {
   "cell_type": "code",
   "execution_count": null,
   "id": "c7d90615",
   "metadata": {},
   "outputs": [],
   "source": [
    "# Find outputs\n",
    "#print(7 / 0)#Error we cannot divide with 0\n",
    "#print(7 // 0)#Error we cannot divide with 0\n",
    "#print(7 % 0)#Error we cannot divide with 0"
   ]
  },
  {
   "cell_type": "code",
   "execution_count": null,
   "id": "25a30de4",
   "metadata": {},
   "outputs": [],
   "source": [
    "# ** operator demo program\n",
    "print(3 ** 4)#81\n",
    "print(10 ** -2)#0.01\n",
    "print(4 * 3 * 2)#24\n",
    "print(3 + 4 * 5 - 32 / 2 ** 3)#3+4*5-32/9->3+20-3.55->-19.4"
   ]
  },
  {
   "cell_type": "code",
   "execution_count": null,
   "id": "76889d27",
   "metadata": {},
   "outputs": [],
   "source": [
    "#  Relational  operators  demo  program (Home  work)\n",
    "print(9 >= 5)  #   True :  >  is  satisfied\n",
    "print(9 >= 9)   #   True :  =  is  satisfied\n",
    "print(9 >= 12)   #  False :  Both  are  not  satisfied\n",
    "print(6 <= 8)#True\n",
    "print(6 <= 6)#True\n",
    "print(6 <= 4)#False\n",
    "print(9 != 7)#True\n",
    "print(6 == 8)#False\n",
    "print(True  >  False)#True\n",
    "print(3 + 4j == 3 + 4j)#True\n",
    "print(3 + 4j == 5 + 6j)#False\n",
    "print(3 + 4j != 5 + 6j)#True\n",
    "print(10 == 10.0)#True\n",
    "#print(3 + 4j >  3 + 4j)#Error"
   ]
  },
  {
   "cell_type": "code",
   "execution_count": null,
   "id": "6d0d6b8b",
   "metadata": {},
   "outputs": [],
   "source": [
    "#  Find  outputs  (Home  work)\n",
    "print('Rama'   >  'Rajesh')  #   True :  'm' > 'j'\n",
    "print('Rama'  <  'Sita') #  True : 'R' < 'S'\n",
    "print('Hyd'  ==  'Hyd')#True\n",
    "print('Rama'  <=   'Ramana')#True\n",
    "print('Rama  Rao'  >=  'Rama')#True\n",
    "print('Hyd'  != 'Sec')#True\n",
    "print('HYD'  <   'hyd')#True"
   ]
  },
  {
   "cell_type": "code",
   "execution_count": null,
   "id": "a4766417",
   "metadata": {},
   "outputs": [],
   "source": [
    "# Chaining  relational  opeartors  (Home work)\n",
    "print(10 < 20 < 30)  #   True\n",
    "print(10 >= 20 < 30)  #   False : 10  is  not  >= 20\n",
    "print(10 < 20 > 30)#False\n",
    "print(1 < 2 < 3 < 4)#True\n",
    "print(1 < 2 > 3 > 1)#False\n",
    "print(4 > 3 >= 3 > 2)#True"
   ]
  },
  {
   "cell_type": "code",
   "execution_count": null,
   "id": "9f6ebd83",
   "metadata": {},
   "outputs": [],
   "source": [
    "#  or  operator  demo program\n",
    "print(True  or  False) #  True\n",
    "print(False  or  True) #   True\n",
    "print(True  or  True) #  True\n",
    "print(False  or   False)   #  False\n",
    "print(10  or  20)#  10\n",
    "print(0   or  20)  #  20\n",
    "print(-25  or  0)#-25\n",
    "print(''  or  35)#35\n",
    "print(6j  or  'Hyd')#6j\n",
    "print(0.0  or  3 + 4j)#3+4j\n",
    "print('Hyd'   or   10.8)#'Hyd"
   ]
  },
  {
   "cell_type": "code",
   "execution_count": null,
   "id": "d046556d",
   "metadata": {},
   "outputs": [],
   "source": [
    "# not  operator  demo  program\n",
    "print(not  True) #   False\n",
    "print(not  False) #  True\n",
    "print(not  25)#False\n",
    "print(not  0)#True\n",
    "print(not  'Hyd')#False\n",
    "print(not  '')#True\n",
    "print(not  -10)#False\n",
    "print(not  not  'Hyd')#True"
   ]
  },
  {
   "cell_type": "code",
   "execution_count": null,
   "id": "c55ef525",
   "metadata": {},
   "outputs": [],
   "source": [
    "#  Find   outputs (Home work)\n",
    "i = 10\n",
    "i = not  i > 14\n",
    "print(i)#True\n",
    "print(not(6 < 4  or  9 >= 5  and  6 != 6))#True"
   ]
  },
  {
   "cell_type": "markdown",
   "id": "4749f8a4",
   "metadata": {},
   "source": [
    "Day-2"
   ]
  },
  {
   "cell_type": "code",
   "execution_count": 4,
   "id": "c5813fb4",
   "metadata": {},
   "outputs": [
    {
     "name": "stdout",
     "output_type": "stream",
     "text": [
      "{10, 20, 30}\n",
      "{10: 'Hyd', 20: 'Vja', 30: 'Cyb'}\n"
     ]
    }
   ],
   "source": [
    "#  Find  outputs\n",
    "print({10 , 20}  |  {30 , 20})#{10,20,30}\n",
    "print({10 : 'Hyd' , 20 : 'Sec'} |  {30 : 'Cyb' , 20 : 'Vja'})#{10 : 'Hyd' , 20 : 'Vja',30 : 'Cyb'}\n",
    "#print(range(4) | range(5))#Error Range cannot be concad\n",
    "#print([10 , 20]  |  [30 , 20])#Error bcz list is concaded with '+' "
   ]
  },
  {
   "cell_type": "code",
   "execution_count": 7,
   "id": "61b79ac9",
   "metadata": {},
   "outputs": [
    {
     "name": "stdout",
     "output_type": "stream",
     "text": [
      "25\n",
      "25\n",
      "True\n",
      "34\n"
     ]
    }
   ],
   "source": [
    "#  Assignment  operators  demo  program  (Home  work)\n",
    "a = 25\n",
    "print(a)#25\n",
    "b =  a\n",
    "print(b)#25\n",
    "print(a  is  b)#True\n",
    "x = 4\n",
    "y = 5\n",
    "z = x + y * 6\n",
    "print(z)#34\n",
    "#25 = a#Error LHS should only be ref not obj\n",
    "#a + b = x + y#Error LHS should only be ref not obj"
   ]
  },
  {
   "cell_type": "code",
   "execution_count": null,
   "id": "dd1dc042",
   "metadata": {},
   "outputs": [
    {
     "name": "stdout",
     "output_type": "stream",
     "text": [
      "140731369524408\n",
      "140731369524408\n",
      "140731369524408\n",
      "25 25 25\n"
     ]
    }
   ],
   "source": [
    "# Find outputs (Home work)\n",
    "a = b = c = 25\n",
    "print(id(a))#Address of obj a\n",
    "print(id(b))##Address of obj a\n",
    "print(id(c))#Address of obj a\n",
    "print(a , b , c)# 25 25 25"
   ]
  },
  {
   "cell_type": "code",
   "execution_count": null,
   "id": "49ab669c",
   "metadata": {},
   "outputs": [],
   "source": [
    "# Multiple  Assignment (Home work)\n",
    "x , y , z = 25 , 10.8 , 'Hyd'\n",
    "print(x)# 25\n",
    "print(y)#10.8\n",
    "print(z)#Hyd"
   ]
  },
  {
   "cell_type": "code",
   "execution_count": 10,
   "id": "13be4647",
   "metadata": {},
   "outputs": [
    {
     "name": "stdout",
     "output_type": "stream",
     "text": [
      "27\n"
     ]
    }
   ],
   "source": [
    "# Find outputs (Home work)\n",
    "a , b , c = 3 , 4 , 5\n",
    "a *= b + c#a = a*(4+5)->3*9\n",
    "print(a)#27"
   ]
  },
  {
   "cell_type": "code",
   "execution_count": null,
   "id": "54e6037b",
   "metadata": {},
   "outputs": [
    {
     "name": "stdout",
     "output_type": "stream",
     "text": [
      "9\n"
     ]
    }
   ],
   "source": [
    "# Find outputs (Home work)\n",
    "a = 20\n",
    "a %= 3 + 2 * 4#  a %=3+8 -> a %=11 -> a= a%11 ->a=20%11 ->9\n",
    "print(a)"
   ]
  },
  {
   "cell_type": "code",
   "execution_count": 12,
   "id": "9a9d45a0",
   "metadata": {},
   "outputs": [
    {
     "name": "stdout",
     "output_type": "stream",
     "text": [
      "81\n"
     ]
    }
   ],
   "source": [
    "# Find outputs (Home work)\n",
    "a = 3\n",
    "a **= 4 # a= a**4 -> a=81\n",
    "print(a)#81"
   ]
  },
  {
   "cell_type": "code",
   "execution_count": 13,
   "id": "065d658c",
   "metadata": {},
   "outputs": [
    {
     "name": "stdout",
     "output_type": "stream",
     "text": [
      "True\n",
      "False\n",
      "True\n"
     ]
    }
   ],
   "source": [
    "# Identity operators demo program\n",
    "a = 25\n",
    "b = 25\n",
    "print(a  is  b)#True\n",
    "print(a  is  not  b)#False\n",
    "print(a == b)#True"
   ]
  },
  {
   "cell_type": "code",
   "execution_count": null,
   "id": "8b6cdaf2",
   "metadata": {},
   "outputs": [
    {
     "name": "stdout",
     "output_type": "stream",
     "text": [
      "False\n",
      "True\n",
      "True\n"
     ]
    }
   ],
   "source": [
    "# Find outputs (Home work)\n",
    "a = 25\n",
    "b = 25.0\n",
    "print(a  is  b)#False\n",
    "print(a  is  not  b)#True\n",
    "print(a == b)#True"
   ]
  },
  {
   "cell_type": "code",
   "execution_count": null,
   "id": "7243360f",
   "metadata": {},
   "outputs": [
    {
     "name": "stdout",
     "output_type": "stream",
     "text": [
      "True\n",
      "False\n",
      "True\n",
      "\n",
      "False\n",
      "True\n",
      "True\n",
      "\n",
      "False\n",
      "True\n",
      "True\n",
      "False\n"
     ]
    }
   ],
   "source": [
    "# Find outputs (Home work)\n",
    "a = 'Hyd'\n",
    "b = 'Hyd'\n",
    "print(a  is  b)#True\n",
    "print(a  is  not  b)#False\n",
    "print(a == b)#True\n",
    "print()#\n",
    "x = [1 , 2 , 3 , 4]\n",
    "y = [1 , 2 , 3 , 4]\n",
    "print(x is y)#False\n",
    "print(x  is  not  y)#True\n",
    "print(x == y)#True\n",
    "print()#\n",
    "m = (1 , 2 , 3 , 4)\n",
    "n = (1 , 2 , 3 , 4)\n",
    "print(m  is  n)#False\n",
    "print(m  is  not  n)#True\n",
    "print(m == n)#True\n",
    "print(x == m)#Error we cannot compare different types"
   ]
  },
  {
   "cell_type": "code",
   "execution_count": null,
   "id": "4f0a4753",
   "metadata": {},
   "outputs": [
    {
     "name": "stdout",
     "output_type": "stream",
     "text": [
      "True\n",
      "False\n",
      "True\n",
      "False\n",
      "True\n",
      "False\n",
      "True\n",
      "False\n",
      "True\n",
      "True\n",
      "True\n",
      "True\n",
      "False\n"
     ]
    }
   ],
   "source": [
    "# Membership operators demo program (Home work)\n",
    "list = [10 , 20 , 15 , 12 , 18]\n",
    "print(15 in list)#True\n",
    "print(19 in list)#False\n",
    "print(14 not in list)#True\n",
    "print(15 not in list)#False\n",
    "s = 'Hyd is green city'\n",
    "print( 'is' in s)#True\n",
    "print('was' in s)#False\n",
    "print('g' in s)#True\n",
    "print('z' in s)#False\n",
    "print(' ' in s)#True\n",
    "print('gre' in s)#True\n",
    "print('yd i' in s)#True\n",
    "print('' in s)#False\n",
    "print('' not in s)#True"
   ]
  },
  {
   "cell_type": "code",
   "execution_count": 17,
   "id": "c997b711",
   "metadata": {},
   "outputs": [
    {
     "name": "stdout",
     "output_type": "stream",
     "text": [
      "False\n",
      "False\n",
      "True\n",
      "True\n"
     ]
    }
   ],
   "source": [
    "# Find outputs (Home work)\n",
    "x = [1 , 2 , 3 , 4]\n",
    "y = [1 , 2 , 4 , 3]\n",
    "print(x == y)#True\n",
    "a = (4 , 1 , 3 , 2)\n",
    "b = (4 , 2 , 3 , 1)\n",
    "print(a == b)#True\n",
    "p = {1 , 2 , 3 , 4}\n",
    "q = {4 , 1 , 3 , 2}\n",
    "print(p == q)#True\n",
    "m = range(5)\n",
    "n = range(5)\n",
    "print(m == n)#True"
   ]
  },
  {
   "cell_type": "code",
   "execution_count": null,
   "id": "ce941b4d",
   "metadata": {},
   "outputs": [
    {
     "name": "stdout",
     "output_type": "stream",
     "text": [
      "False\n",
      "False\n"
     ]
    }
   ],
   "source": [
    "# Find outputs (Home work)\n",
    "a = [10,20,30]\n",
    "b = (10,20,30)\n",
    "print(a  is  b) #False\n",
    "print(a  ==  b)#False"
   ]
  },
  {
   "cell_type": "markdown",
   "id": "17cc1766",
   "metadata": {},
   "source": [
    "Day-3"
   ]
  },
  {
   "cell_type": "code",
   "execution_count": 4,
   "id": "bf6d3c5d",
   "metadata": {},
   "outputs": [
    {
     "name": "stdout",
     "output_type": "stream",
     "text": [
      "25\n",
      "26\n",
      "25\n",
      "26\n",
      "-25\n",
      "-25\n",
      "-25\n"
     ]
    }
   ],
   "source": [
    "#  ++  and  --  operators  demo  program\n",
    "a = 25\n",
    "print(++a)  #  +(+a) = +a  =  25\n",
    "#print(a++)   #  (a+)+  =  a+ =  25+  throws   error\n",
    "print(a++1)  #  a + (+1)  =  a +  1 = 25 + 1  = 26\n",
    "print(--a)#-(-a)=25\n",
    "#print(a--)#(a-)-=Error\n",
    "print(a--1)#(a-)-1=(a+1)=26\n",
    "print(-a)#-25\n",
    "print(+-a)#+(-a)=-25\n",
    "print(-+a)#-(+a)=-25\n"
   ]
  },
  {
   "cell_type": "code",
   "execution_count": 5,
   "id": "1d9ec4b7",
   "metadata": {},
   "outputs": [
    {
     "name": "stdout",
     "output_type": "stream",
     "text": [
      "One\n",
      "Two\n",
      "Three\n",
      "Hyd\n",
      "Sec\n",
      "Cyb\n"
     ]
    }
   ],
   "source": [
    "#  Semicolon  demo  program\n",
    "print('One');#One\n",
    "print('Two');#Two\n",
    "print('Three');#Three\n",
    "print('Hyd')  ;   print('Sec')  ;  print('Cyb') # Hyd\n",
    "#Sec\n",
    "#Cyb"
   ]
  },
  {
   "cell_type": "code",
   "execution_count": null,
   "id": "3366eeb3",
   "metadata": {},
   "outputs": [
    {
     "name": "stdout",
     "output_type": "stream",
     "text": [
      "10\n",
      "11\n",
      "25\n",
      "25\n",
      "-4\n",
      "-3\n",
      "-9\n",
      "-9\n",
      "25\n",
      "26\n"
     ]
    },
    {
     "data": {
      "text/plain": [
       "\"\\n1) What  does  floor(x)  do ?  --->  Returns  nearest  previous  integer  of  'x'\\n\\n2) What  does  ceil(x)  do ?  --->  Returns  nearest  next  integer  of  'x'\\n\""
      ]
     },
     "execution_count": 6,
     "metadata": {},
     "output_type": "execute_result"
    }
   ],
   "source": [
    "#  floor()  and  ceil()  functions  demo  program\n",
    "import  math\n",
    "print(math . floor(10.8))  #10\n",
    "print(math . ceil(10.8)) #  11\n",
    "print(math . floor(25.0))#25\n",
    "print(math . ceil(25.0))#25\n",
    "print(math . floor(-3.5))#-4\n",
    "print(math . ceil(-3.5))#-3\n",
    "print(math . floor(-9.0))#-9\n",
    "print(math . ceil(-9.0))#-9\n",
    "print(math . floor(25.1))#25\n",
    "print(math . ceil(25.1))#26\n",
    "#print(floor(3.5))#Error bcz we need call math.floor()\n",
    "#print(ceil(3.5))#Error bcz we need call math.ceil()\n",
    "\n",
    "\n",
    "'''\n",
    "1) What  does  floor(x)  do ?  --->  Returns  nearest  previous  integer  of  'x'\n",
    "\n",
    "2) What  does  ceil(x)  do ?  --->  Returns  nearest  next  integer  of  'x'\n",
    "'''"
   ]
  },
  {
   "cell_type": "code",
   "execution_count": null,
   "id": "13a40cbe",
   "metadata": {},
   "outputs": [
    {
     "name": "stdout",
     "output_type": "stream",
     "text": [
      "3\n",
      "6\n",
      "1\n",
      "7\n",
      "9\n",
      "2\n",
      "7\n",
      "3\n",
      "0\n"
     ]
    }
   ],
   "source": [
    "# gcd()  function  demo  program\n",
    "import  math\n",
    "print(math . gcd(12 , 15)) #    3\n",
    "print(math . gcd(12 , 18))  #  6\n",
    "print(math . gcd(4 , 7)) #   1\n",
    "print(math . gcd(7 , 7))#7\n",
    "print(math . gcd(-18 , -27))#-9\n",
    "print(math . gcd(-4 , 6))#2\n",
    "print(math . gcd(0 , 7))#7\n",
    "print(math . gcd(3 , 0))#3\n",
    "print(math . gcd(0 , 0))#0\n",
    "#print(gcd(5 , 15))#Error bcz we need call math.gcd()"
   ]
  },
  {
   "cell_type": "code",
   "execution_count": null,
   "id": "73e6af81",
   "metadata": {},
   "outputs": [
    {
     "name": "stdout",
     "output_type": "stream",
     "text": [
      "35.8\n",
      "27\n",
      "29.5\n",
      "32\n",
      "25\n"
     ]
    }
   ],
   "source": [
    "#  abs()  function  demo  program\n",
    "from  builtins  import  abs\n",
    "print(abs(-35.8))#35.8\n",
    "print(abs(-27))#27\n",
    "print(abs(29.5))#29.5\n",
    "print(abs(32))#32\n",
    "import  builtins\n",
    "print(builtins . abs(-25))#25"
   ]
  },
  {
   "cell_type": "code",
   "execution_count": 9,
   "id": "618bbf06",
   "metadata": {},
   "outputs": [
    {
     "name": "stdout",
     "output_type": "stream",
     "text": [
      "20.6\n",
      "5.9\n",
      "25\n",
      "30\n",
      "5\n"
     ]
    }
   ],
   "source": [
    "#  max()  and  min()   functions  demo  program\n",
    "from  builtins  import   max , min\n",
    "print(max(10.8 , 20.6))#20.6\n",
    "print(min(10.8 , 20.6 , 5.9 , 12.3))#5.9\n",
    "print(max(25 , 10.8))#25\n",
    "import  builtins\n",
    "print(builtins . max(10 , 20 , 30))#30\n",
    "print(builtins . min(10 , 20 , 15 , 5 , 12))#5"
   ]
  },
  {
   "cell_type": "code",
   "execution_count": null,
   "id": "ad073c34",
   "metadata": {},
   "outputs": [
    {
     "name": "stdout",
     "output_type": "stream",
     "text": [
      "0.01\n",
      "262144\n",
      "8\n",
      "-0.125\n"
     ]
    }
   ],
   "source": [
    "# pow()  function  demo  program\n",
    "from  builtins  import  pow\n",
    "print(pow(10 , -2))#0.01\n",
    "print(pow(4 , pow(3 , 2)))#pow(4,3^2)->pow(4,9)->4^9\n",
    "import  builtins\n",
    "print(builtins . pow(2 , 3))#2^3=8\n",
    "print(builtins . pow(-2 , -3))#-0.125"
   ]
  },
  {
   "cell_type": "code",
   "execution_count": 12,
   "id": "f921cdd0",
   "metadata": {},
   "outputs": [
    {
     "name": "stdout",
     "output_type": "stream",
     "text": [
      "['False', 'None', 'True', 'and', 'as', 'assert', 'async', 'await', 'break', 'class', 'continue', 'def', 'del', 'elif', 'else', 'except', 'finally', 'for', 'from', 'global', 'if', 'import', 'in', 'is', 'lambda', 'nonlocal', 'not', 'or', 'pass', 'raise', 'return', 'try', 'while', 'with', 'yield']\n",
      "10\n",
      "<class 'int'>\n",
      "['False', 'None', 'True', 'and', 'as', 'assert', 'async', 'await', 'break', 'class', 'continue', 'def', 'del', 'elif', 'else', 'except', 'finally', 'for', 'from', 'global', 'if', 'import', 'in', 'is', 'lambda', 'nonlocal', 'not', 'or', 'pass', 'raise', 'return', 'try', 'while', 'with', 'yield']\n"
     ]
    }
   ],
   "source": [
    "# Find  outputs\n",
    "from keyword import kwlist #How  to  import   kw  list\n",
    "print(kwlist)#How  to  print  kwlist\n",
    "x=10\n",
    "print(x)#How  to  print  number  of  keywords\n",
    "print(type(x))#How  to  print  type  of kwlist\n",
    "import keyword\n",
    "print(keyword . kwlist)"
   ]
  },
  {
   "cell_type": "code",
   "execution_count": 15,
   "id": "e318f915",
   "metadata": {},
   "outputs": [
    {
     "name": "stdout",
     "output_type": "stream",
     "text": [
      "['False', 'None', 'True', 'and', 'as', 'assert', 'async', 'await', 'break', 'class', 'continue', 'def', 'del', 'elif', 'else', 'except', 'finally', 'for', 'from', 'global', 'if', 'import', 'in', 'is', 'lambda', 'nonlocal', 'not', 'or', 'pass', 'raise', 'return', 'try', 'while', 'with', 'yield']\n",
      "10\n",
      "<class 'int'>\n",
      "['False', 'None', 'True', 'and', 'as', 'assert', 'async', 'await', 'break', 'class', 'continue', 'def', 'del', 'elif', 'else', 'except', 'finally', 'for', 'from', 'global', 'if', 'import', 'in', 'is', 'lambda', 'nonlocal', 'not', 'or', 'pass', 'raise', 'return', 'try', 'while', 'with', 'yield']\n"
     ]
    }
   ],
   "source": [
    "#  Find  outputs  (Home  work)\n",
    "import keyword #How  to  import   keyword  module\n",
    "print(keyword.kwlist)#How  to  print  kwlist\n",
    "x=10\n",
    "print(x)#How  to  print  number  of  keywords\n",
    "print(type(x))#How  to  print  type  of kwlist\n",
    "print(kwlist)"
   ]
  },
  {
   "cell_type": "markdown",
   "id": "99c5aa32",
   "metadata": {},
   "source": [
    "Day-4"
   ]
  },
  {
   "cell_type": "code",
   "execution_count": 10,
   "id": "5bc37013",
   "metadata": {},
   "outputs": [
    {
     "name": "stdout",
     "output_type": "stream",
     "text": [
      "25\n",
      "10.8\n",
      "False\n",
      "(3+4j)\n",
      "Hyd\n",
      "23\n",
      "[10, 20, 15, 18]\n",
      "{18, 20, 10, 12, 15}\n",
      "(10, 20, 30)\n",
      "{10: 'Sec'}\n"
     ]
    }
   ],
   "source": [
    "# eval()  function  demo  program\n",
    "print(eval('25'))#25\n",
    "print(eval('10.8'))#10.8\n",
    "print(eval('False'))#False\n",
    "print(eval('3+4j'))#3+4j\n",
    "#print(eval('Hyd'))#Error bcz it is in string already\n",
    "print(eval(\"    'Hyd'   \"))#Error bcz it is in string already\n",
    "print(eval('3 + 4 * 5'))#23\n",
    "print(eval('[10 , 20 , 15 , 18]'))#[10 , 20 , 15 , 18]\n",
    "print(eval('{10,20,15,18,20,12,18}'))#{10,20,15,18,12}\n",
    "print(eval('(10 , 20 , 30)'))#(10 , 20 , 30)\n",
    "print(eval(\"{10 : 'Hyd' , 10 : 'Sec'}\"))#{10:'Sec'}\n",
    "#print(eval(4 + 5))#Error bcz input is in int format"
   ]
  },
  {
   "cell_type": "code",
   "execution_count": 7,
   "id": "80cd475a",
   "metadata": {},
   "outputs": [
    {
     "name": "stdout",
     "output_type": "stream",
     "text": [
      "hyd\n",
      "Sec\n",
      "25\n",
      "25\n",
      "10.8\n"
     ]
    }
   ],
   "source": [
    "#  Tricky  program\n",
    "# Find  outputs  (Home  work)\n",
    "print(eval(\"    'hyd'   \"))#Error bcz it is in string already\n",
    "hyd = 'Sec'\n",
    "print(eval('hyd'))#Error bcz it is in string already\n",
    "sec = '25'\n",
    "print(eval('sec'))#25\n",
    "print(eval(sec))#25\n",
    "cyb = 10.8\n",
    "print(eval('cyb'))#10.8\n",
    "#print(eval(cyb))#Error bcz it is in string already"
   ]
  },
  {
   "cell_type": "code",
   "execution_count": 11,
   "id": "39bec279",
   "metadata": {},
   "outputs": [
    {
     "name": "stdout",
     "output_type": "stream",
     "text": [
      "Hyd\n",
      "None\n"
     ]
    }
   ],
   "source": [
    "#  Tricky  program\n",
    "#  Find  output  (Home  work)\n",
    "print(eval('print(\"Hyd\")'))#Hyd"
   ]
  },
  {
   "cell_type": "code",
   "execution_count": null,
   "id": "fc9c9d2c",
   "metadata": {},
   "outputs": [],
   "source": [
    "#  Find  outputs  (Home  work)\n",
    "print(bool('False'))#True\n",
    "print(eval('False'))#False\n",
    "print(bool(''))#False\n",
    "print(eval('  \"\"  '))\n",
    "print(eval(''))\n",
    "print(eval('  \" \"   '))\n",
    "print(eval(' '))"
   ]
  },
  {
   "cell_type": "code",
   "execution_count": null,
   "id": "7de5fbd7",
   "metadata": {},
   "outputs": [],
   "source": [
    "# What  is  the  advantage  of  eval(input()) ?\n",
    "x = eval(input('Enter  any  input  :  '))#25\n",
    "print(type(x))#<class 'int'>\n",
    "print(x)#25"
   ]
  },
  {
   "cell_type": "code",
   "execution_count": 3,
   "id": "ffe1a162",
   "metadata": {},
   "outputs": [
    {
     "name": "stdout",
     "output_type": "stream",
     "text": [
      "4\n",
      "Chai\n",
      "65\n"
     ]
    }
   ],
   "source": [
    "# What  is  a  better  approach  to  read  string  input ?\n",
    "a = input('Enter  any  string  :  ')#Vaishnavi\n",
    "print(len(a))#9\n",
    "print(a)#Vaishnavi\n",
    "b = eval(input('Enter   any  string  : '))#2345\n",
    "#print(len(b))#4\n",
    "print(b)#2345"
   ]
  },
  {
   "cell_type": "code",
   "execution_count": 2,
   "id": "04ae2ebe",
   "metadata": {},
   "outputs": [
    {
     "name": "stdout",
     "output_type": "stream",
     "text": [
      "25,10.8,Hyd\n",
      "25\t10.8\tHyd\n",
      "25---10.8---Hyd\n",
      "25\n",
      "10.8\n",
      "Hyd\n",
      "25 10.8 Hyd\n"
     ]
    }
   ],
   "source": [
    "# sep  argument  demo  program  (Home  work)\n",
    "a , b , c = 25 , 10.8 , 'Hyd'\n",
    "print(a , b , c , sep = ',')   #   25 , 10.8 , Hyd\n",
    "print(a , b , c , sep = '\\t')#   25   10.8   Hyd\n",
    "print(a , b , c , sep = '---')#  25---10.8---Hyd\n",
    "print(a , b , c , sep = '\\n')#25\n",
    "#10.8\n",
    "#Hyd\n",
    "print(a , b , c)#25 10.8 Hyd\n",
    "#print(a , b , c , separator = ':')#25:10.8:Hyd"
   ]
  },
  {
   "cell_type": "code",
   "execution_count": null,
   "id": "3680db29",
   "metadata": {},
   "outputs": [
    {
     "name": "stdout",
     "output_type": "stream",
     "text": [
      "25 10.8 Hyd---25,,,10.8,,,Hyd\n",
      "25:::10.8:::Hyd\t\t\t25 10.8 Hyd\n"
     ]
    }
   ],
   "source": [
    "# Find  outputs  (Home  work)\n",
    "a , b , c = 25 , 10.8 , 'Hyd'\n",
    "print(a , b , c , end = '---')#25 10.8 Hyd---\n",
    "print(a , b , c , sep = ',,,')#25,,,10.8,,,Hyd\n",
    "print(a , b , c , sep = ':::' , end = '\\t\\t\\t')#25:::10.8:::Hyd\n",
    "print(a , b , c)#25 10.8 Hyd"
   ]
  },
  {
   "cell_type": "code",
   "execution_count": 4,
   "id": "b4c40b7e",
   "metadata": {},
   "outputs": [
    {
     "name": "stdout",
     "output_type": "stream",
     "text": [
      "Hyd\n",
      "\n",
      "Sec\n",
      "\n",
      "Cyb\n"
     ]
    }
   ],
   "source": [
    "# Find outputs  (Home  work)\n",
    "print('Hyd')#Hyd\n",
    "print()#\n",
    "print('Sec')#Sec\n",
    "print()#\n",
    "print('Cyb')#Cyb"
   ]
  },
  {
   "cell_type": "code",
   "execution_count": null,
   "id": "eb794991",
   "metadata": {},
   "outputs": [
    {
     "name": "stdout",
     "output_type": "stream",
     "text": [
      "[10, 20, 30, 40] (10, 20, 30, 40) {40, 10, 20, 30}\n"
     ]
    }
   ],
   "source": [
    "# Find  outputs  (Home  work)\n",
    "l = [10 , 20 , 30 , 40]\n",
    "t = (10 , 20 , 30 , 40)\n",
    "s = {10 , 20 , 30 , 40}\n",
    "print(l , t , s)#[10 , 20 , 30 , 40] (10 , 20 , 30 , 40) {10 , 20 , 30 , 40}"
   ]
  },
  {
   "cell_type": "code",
   "execution_count": null,
   "id": "3df66427",
   "metadata": {},
   "outputs": [
    {
     "name": "stdout",
     "output_type": "stream",
     "text": [
      "25.000000\n",
      "<class 'str'>\n",
      "10\n",
      "<class 'str'>\n",
      "[10, 20, 15, 18]\n",
      "<class 'str'>\n"
     ]
    }
   ],
   "source": [
    "#  Find  outputs (Home  work)\n",
    "a = 25\n",
    "b = '%f'  %a\n",
    "print(b)#25.000000\n",
    "print(type(b))#<class 'str'>\n",
    "x = 10.8\n",
    "y = '%d'  %x\n",
    "print(y)#10\n",
    "print(type(y))#<class 'str'>\n",
    "m = [10 , 20 , 15 , 18]\n",
    "n = '%s'  %m\n",
    "print(n)#'[10 , 20 , 15 , 18]'\n",
    "print(type(n))#<class 'str'>"
   ]
  },
  {
   "cell_type": "code",
   "execution_count": null,
   "id": "b42ccb7f",
   "metadata": {},
   "outputs": [
    {
     "name": "stdout",
     "output_type": "stream",
     "text": [
      "   10.93\n",
      "     10.9\n",
      "    10.927\n",
      "10.93\n",
      "10.927400\n",
      "10.927400\n"
     ]
    }
   ],
   "source": [
    "# Find  Outputs  (Home  work)\n",
    "a = 10.9274\n",
    "print('%8.2f'  %a)  #  <3  spaces>10.93\n",
    "print('%9.1f'  %a)#<6 spaces>10.9\n",
    "print('%10.3f'  %a)#<7 spaces>10.927\n",
    "print('%.2f'  %a)#10.93\n",
    "print('%.6f'  %a)#10.927400\n",
    "print('%f'  %a)#10.927400"
   ]
  },
  {
   "cell_type": "code",
   "execution_count": null,
   "id": "fbe9f18d",
   "metadata": {},
   "outputs": [
    {
     "name": "stdout",
     "output_type": "stream",
     "text": [
      "    Hyd\n",
      "Hyd    \n",
      "Hyd\n",
      "Hyd\n",
      "%s Hyd\n",
      "Hyd\n"
     ]
    }
   ],
   "source": [
    "# Find  outputs (Home  work)\n",
    "a = 'Hyd'\n",
    "print('%7s'  %a)   #  <4  spaces>Hyd\n",
    "print('%-7s'  %a)  #  Hyd<4   spaces>\n",
    "print('%2s'  %a)   #  Hyd  and  ignores  smaller width\n",
    "print('%s'  %a) #Hyd\n",
    "print('%s' , a)#%s Hyd\n",
    "#print('%s'  a)#Error for two arg we need to use ','\n",
    "#print('%s' , %a)#Error in format we should not use ','\n",
    "print(a)#Hyd"
   ]
  },
  {
   "cell_type": "code",
   "execution_count": 13,
   "id": "25d1c417",
   "metadata": {},
   "outputs": [
    {
     "name": "stdout",
     "output_type": "stream",
     "text": [
      "[10, 20, 30, 40]\n",
      "%s [10, 20, 30, 40]\n",
      "[10, 20, 30, 40]\n"
     ]
    }
   ],
   "source": [
    "# Find  outputs  (Home  work)\n",
    "a = [10 , 20 , 30 , 40]\n",
    "print('%s'  %a)# [10 , 20 , 30 , 40]\n",
    "print('%s' , a)# %s  [10 , 20 , 30 , 40]\n",
    "#print('%s'  a)#Error neither format nor arg\n",
    "#print('%s' , %a)#Error not following format symtax\n",
    "#print('%l'  %a)# [10 , 20 , 30 , 40]\n",
    "print(a)# [10 , 20 , 30 , 40]"
   ]
  },
  {
   "cell_type": "code",
   "execution_count": null,
   "id": "0ccfc3e0",
   "metadata": {},
   "outputs": [
    {
     "name": "stdout",
     "output_type": "stream",
     "text": [
      "25    10.927400    Hyd\n",
      "25    10.9274    Hyd\n",
      "25    10.9274    Hyd\n",
      "%d    %g    %s 25 10.9274 Hyd\n",
      "25 10.927400 Hyd\n"
     ]
    }
   ],
   "source": [
    "#Find outputs  (Home  work)\n",
    "a = 25\n",
    "b = 10.9274\n",
    "c = 'Hyd'\n",
    "print('%d    %f    %s'  %(a , b , c)) #25    10.927400    Hyd\n",
    "print('%i    %g    %s'    %(a , b , c))#25    10.9274    Hyd\n",
    "print('%s    %s    %s'  %(a , b , c))#25     0.9274    Hyd\n",
    "print('%d    %g    %s'  , a , b , c)# %d    %g    %s 25 10.9274 Hyd\n",
    "#print('%d    %g      %s'   a , b , c)#Error neither format nor arg\n",
    "#print('%d    %g    %s'  ,  %(a , b , c))#Error not following format symtax\n",
    "#print('%d    %g    %s'    %a%b%c)#25 10.927400 Hyd\n",
    "print('%d'    %a  ,  '%f'     %b  ,  '%s'   %c)#25 10.927400 Hyd"
   ]
  },
  {
   "cell_type": "code",
   "execution_count": 14,
   "id": "545421c9",
   "metadata": {},
   "outputs": [
    {
     "name": "stdout",
     "output_type": "stream",
     "text": [
      "25    10.927400    Hyd\n"
     ]
    }
   ],
   "source": [
    "#Find outputs  (Home  work)\n",
    "a = 25\n",
    "b = 10.9274\n",
    "c = 'Hyd'\n",
    "print('%d    %f    %s'  %(a , b , c))#25 10.9274 Hyd"
   ]
  },
  {
   "cell_type": "markdown",
   "id": "93359803",
   "metadata": {},
   "source": [
    "Day 5"
   ]
  },
  {
   "cell_type": "code",
   "execution_count": 1,
   "id": "968df119",
   "metadata": {},
   "outputs": [
    {
     "name": "stdout",
     "output_type": "stream",
     "text": [
      "25\n",
      "<class 'str'>\n",
      "10.8\n",
      "<class 'str'>\n",
      "[10, 20, 30, 40]\n",
      "<class 'str'>\n"
     ]
    }
   ],
   "source": [
    "#  Find  outputs  (Home  work)\n",
    "x = 25\n",
    "y = F'{x}'#'25'\n",
    "print(y)#'25'\n",
    "print(type(y))#<class 'str'>\n",
    "x = 10.8\n",
    "y = F'{x}'#'10.8'\n",
    "print(y)#'10.8'\n",
    "print(type(y))#<class 'str'>\n",
    "x = [10,20,30,40]\n",
    "y = F'{x}'#'[10,20,30,40]'\n",
    "print(y)#'[10,20,30,40]'\n",
    "print(type(y))#<class 'str'>"
   ]
  },
  {
   "cell_type": "code",
   "execution_count": 3,
   "id": "03cf34ff",
   "metadata": {},
   "outputs": [
    {
     "name": "stdout",
     "output_type": "stream",
     "text": [
      "25  \t   10.8   \t  Hyd\n",
      "a = 25  \t  b  =  10.8  \t  c  =  Hyd\n",
      "a=25  \t   b=10.8   \t  c='Hyd'\n",
      "25  \t   10.8   \t  Hyd\n",
      "a  =  {a}  \t  b  =  {b}  \t  c  =   {c}\n",
      "a  =  a  \t  b  =  b  \t  c  =  c\n"
     ]
    }
   ],
   "source": [
    "a ,  b , c = 25 , 10.8 , 'Hyd'\n",
    "print(F'{a}  \\t   {b}   \\t  {c}') # ‘25’   ’10.8’  ‘Hyd’\n",
    "print(F'a = {a}  \\t  b  =  {b}  \\t  c  =  {c}') # a = 25    b  =  10.8    c  =  Hyd\n",
    "print(F'{a=}  \\t   {b=}   \\t  {c=}')#a=’25’  b=’10.8’  c=’Hyd’\n",
    "print(F'{a:}  \\t   {b:}   \\t  {c:}')# 25 10.8 Hyd\n",
    "print('a  =  {a}  \\t  b  =  {b}  \\t  c  =   {c}')# a  =  {a}    b  =  {b}    c  =   {c}\n",
    "print(F'a  =  a  \\t  b  =  b  \\t  c  =  c')#a  =  a  \t  b  =  b  \t  c  =  c\n",
    "#print(F'{x =}  \\t   {y =}   \\t  {z =}')#Error\n"
   ]
  },
  {
   "cell_type": "code",
   "execution_count": null,
   "id": "942d2f91",
   "metadata": {},
   "outputs": [
    {
     "name": "stdout",
     "output_type": "stream",
     "text": [
      "25\n",
      "{x}\n",
      "{25}\n",
      "{{x}}\n",
      "{{25}}\n",
      "{{{x}}}\n",
      "{{{25}}}\n",
      "{{{{x}}}}\n"
     ]
    }
   ],
   "source": [
    "x = 25\n",
    "print(F'{x}')  #  25\n",
    "print(F'{{x}}')   #  {x}\n",
    "print(F'{{{x}}}')  #   {25}\n",
    "print(F'{{{{x}}}}') #{{x}}\n",
    "print(F'{{{{{x}}}}}')#{{{25}}}\n",
    "print(F'{{{{{{x}}}}}}')#{{{x}}}\n",
    "print(F'{{{{{{{x}}}}}}}')#{{{25}}}\n",
    "print(F'{{{{{{{{x}}}}}}}}')#{{{{x}}}}"
   ]
  },
  {
   "cell_type": "code",
   "execution_count": null,
   "id": "ad3353ad",
   "metadata": {},
   "outputs": [],
   "source": [
    "'''\n",
    "Write  a  program  to  determine  sum , difference , product , quotient , largest  and  smallest  of  two  numbers.\n",
    "Also  find  remainder,  sqrt  of  first  input , power, gcd  and  factorial  of  first  input\n",
    "\n",
    "Hint:  Use  F  string  to  print  results\n",
    "\n",
    "Let  inputs  be  10  and  7,\n",
    "What  is  the  sum ?  --->  17\n",
    "What  is  the  difference ?  --->  3\n",
    "What  is  the  product ?  ---> 70\n",
    "What  is  the  quotient ?  --->  1.42\n",
    "What  is  the  remainder ?  --->  3\n",
    "What  is  the  largest  number ?  ---> 10\n",
    "What  is  the  smallest  number ?  --->  7\n",
    "What  is  the  sqrt  of  1st  input ?  --->  3.16\n",
    "What  is  the  result  of  power?  --->  10000000\n",
    "What  is  the  gcd  of  2  numbers ?  ---> 1\n",
    "What  is  the  factorial   of  1st  input ?  ---> 10!\n",
    "'''"
   ]
  },
  {
   "cell_type": "markdown",
   "id": "9df64afa",
   "metadata": {},
   "source": [
    "Enter 1st  integer  number :  10\n",
    "Enter 2nd  integer  number :  7\n",
    "10 + 7 = 17\n",
    "10 - 7 = 3\n",
    "10 * 7 = 70\n",
    "10 / 7 = 1.4285714285714286\n",
    "10 % 7 = 3\n",
    "max(10 , 7) = 10\n",
    "min(10 , 7) = 7\n",
    "10 ^ 7 = 10000000\n",
    "sqrt(10) = 3.1622776601683795\n",
    "gcd(10 , 7) = 1\n",
    "fact(10) = 3628800"
   ]
  },
  {
   "cell_type": "code",
   "execution_count": 17,
   "id": "28b9aa8d",
   "metadata": {},
   "outputs": [
    {
     "name": "stdout",
     "output_type": "stream",
     "text": [
      "10 + 7 = 17\n",
      "10 - 7 = 3\n",
      "10 * 7 = 70\n",
      "10 / 7 = 1.4285714285714286\n",
      "10 % 7 = 3\n",
      "max( 10 , 7 ) = 10\n",
      "min( 10 , 7 ) = 7\n",
      "10 ^ 7 = 10000000\n",
      "sqrt( 10 )= 3.1622776601683795\n",
      "gcd( 10 , 7 )= 1\n",
      "fact( 10 )= 3628800\n"
     ]
    }
   ],
   "source": [
    "import math\n",
    "x=eval(input('Enter 1st  integer  number : '))\n",
    "y=eval(input('Enter 2nd  integer  number : '))\n",
    "print(x ,'+',y,'=' ,(x+y))\n",
    "print(x ,'-',y,'=' ,(x-y))\n",
    "print(x ,'*',y,'=' ,(x*y))\n",
    "print(x ,'/',y,'=' ,(x/y))\n",
    "print(x ,'%',y,'=' ,(x%y))\n",
    "print('max(',x,',',y,')','=', max(x,y))\n",
    "print('min(',x,',',y,')','=', min(x,y))\n",
    "print(x,'^',y,'=',pow(x,y))\n",
    "print('sqrt(',x,')=',math.sqrt(x))\n",
    "print('gcd(',x,',',y,')=',math.gcd(x,y))\n",
    "print('fact(',x,')=',math.factorial(x))\n"
   ]
  },
  {
   "cell_type": "code",
   "execution_count": 27,
   "id": "5097e2e9",
   "metadata": {},
   "outputs": [
    {
     "name": "stdout",
     "output_type": "stream",
     "text": [
      "x + y =17\n",
      "x - y =3\n",
      "x * y =70\n",
      "x / y =1.4285714285714286\n",
      "x % y =3\n",
      "max(10, 7) = 10\n",
      "min(10, 7) = 7\n",
      "x ^ y = 10000000\n",
      "sqrt(10) = 3.1622776601683795\n",
      "gcd(10, 7) = 1\n",
      "fact(10) = 3628800\n"
     ]
    }
   ],
   "source": [
    "import math\n",
    "x=eval(input('Enter 1st  integer  number : '))\n",
    "y=eval(input('Enter 2nd  integer  number : '))\n",
    "print(F'x + y ={x+y}')\n",
    "print(F'x - y ={x-y}')\n",
    "print(F'x * y ={x*y}')\n",
    "print(F'x / y ={x/y}')\n",
    "print(F'x % y ={x%y}')\n",
    "print(F'max({x}, {y}) = {max(x,y)}')\n",
    "print(F'min({x}, {y}) = {min(x,y)}')\n",
    "print(F'x ^ y = {pow(x,y)}')\n",
    "print(F'sqrt({x}) = {math.sqrt(x)}')\n",
    "print(F'gcd({x}, {y}) = {math.gcd(x,y)}')\n",
    "print(F'fact({x}) = {math.factorial(x)}')\n"
   ]
  },
  {
   "cell_type": "markdown",
   "id": "1e1f0402",
   "metadata": {},
   "source": [
    "'''\n",
    "Write  a  program  to  swap  values  of  any  two  objects  in  a  single  statement  without  using  3rd  object\n",
    "\n",
    "Let  'x'  be  25  and  'y'  be   'Hyd'\n",
    "What  are  'x'  and  'y'  after  swap ?  ---> Hyd  and  25\n",
    "\n",
    "Hint:  Swap  references  but  not  objects\n",
    "'''"
   ]
  },
  {
   "cell_type": "markdown",
   "id": "97c66c62",
   "metadata": {},
   "source": [
    "Enter  1st  input :  25\n",
    "Enter  2nd  input : Hyd\n",
    "Before  swap :  x='25'            y='Hyd'\n",
    "After  swap :  x='Hyd'            y='25'"
   ]
  },
  {
   "cell_type": "code",
   "execution_count": 26,
   "id": "59c30659",
   "metadata": {},
   "outputs": [
    {
     "name": "stdout",
     "output_type": "stream",
     "text": [
      "Before  swap :  x= 25 y= Hyd\n",
      "Before  swap :  x= Hyd y= 25\n"
     ]
    }
   ],
   "source": [
    "x=eval(input('Enter 1st  integer  number : '))\n",
    "y=eval(input('Enter 2nd  integer  number : '))\n",
    "print('Before  swap :  x=',x , 'y=',y)\n",
    "x,y=y,x\n",
    "print('Before  swap :  x=',x,'y=',y)"
   ]
  },
  {
   "cell_type": "code",
   "execution_count": 28,
   "id": "025d1011",
   "metadata": {},
   "outputs": [
    {
     "name": "stdout",
     "output_type": "stream",
     "text": [
      "Before  swap :  x=25 y=Hyd\n",
      "After  swap :  x=Hyd y=25\n"
     ]
    }
   ],
   "source": [
    "x=eval(input('Enter 1st  integer  number : '))\n",
    "y=eval(input('Enter 2nd  integer  number : '))\n",
    "print(F'Before  swap :  x={x} y={y}')\n",
    "x,y=y,x\n",
    "print(F'After  swap :  x={x} y={y}')"
   ]
  },
  {
   "cell_type": "markdown",
   "id": "95456cc0",
   "metadata": {},
   "source": [
    "'''\n",
    "Write  a  program  to  determine  largest  of  three  inputs  without  using  max()  function\n",
    "\n",
    "1) What  is  the  output  if  inputs  are  10 , 20  and  15 ?   --->  20\n",
    "\n",
    "2) What  is  the  output  if  inputs  are  35.8 , 42.8  and  27.9 ?   --->  42.8\n",
    "\n",
    "3) What  is  the  output  if  inputs  are  'RAMA'  , 'RAKESH'  and  'RAJESH' ?   --->  'RAMA'\n",
    "\n",
    "4) What  is   the  output  if  inputs  are  [10 , 20 , 15 , 18]  , [10 , 20 , 32, 19]  and  [10 , 20 , 25, 17] ?  ---> [10 , 20 , 32 , 19]\n",
    "\n",
    "5) Inputs  can  be  integers , floats , strings  and  so  on\n",
    "\n",
    "6) Use  nested  ternary  operator\n",
    "'''"
   ]
  },
  {
   "cell_type": "markdown",
   "id": "3609fa33",
   "metadata": {},
   "source": [
    "Enter 1st input : 10\n",
    "Enter 2nd input : 20\n",
    "Enter 3rd input : 15.8\n",
    "Largest  Input  :  20"
   ]
  },
  {
   "cell_type": "code",
   "execution_count": 32,
   "id": "7b8fc0ec",
   "metadata": {},
   "outputs": [
    {
     "name": "stdout",
     "output_type": "stream",
     "text": [
      "Largest Input : [10, 20, 32, 19]\n"
     ]
    }
   ],
   "source": [
    "x=eval(input('Enter 1st  input : '))\n",
    "y=eval(input('Enter 2nd  input : '))\n",
    "z=eval(input('Enter 3rd  input : '))\n",
    "largest=x if x>y else y if y>z else z\n",
    "print(F'Largest Input : {largest}')"
   ]
  },
  {
   "cell_type": "markdown",
   "id": "e465c4be",
   "metadata": {},
   "source": [
    "'''\n",
    "Write  a  program  to  print   '>'  if  1st  input  >  2nd  input,\n",
    "                                               '<'  if  1st  input  <  2nd  input  and\n",
    "                                               '='  if  inputs  are  same\n",
    "\n",
    "1) What  is  the  result  if  inputs  are  10  and  20 ?  ---> <\n",
    "\n",
    "2) What  is  the  result  if  inputs  are  70  and  60 ?  --->  >\n",
    "\n",
    "3) What  is  the  result  if  inputs  are  25  and  25 ?  ---> =\n",
    "\n",
    "4) Inputs  can  be  integers , floats , strings  and  so  on\n",
    "\n",
    "5) Use  ternary  operator\n",
    "'''"
   ]
  },
  {
   "cell_type": "markdown",
   "id": "2e477bb2",
   "metadata": {},
   "source": [
    "Enter 1st input : 10\n",
    "Enter 2nd input : 20\n",
    "Result :   <"
   ]
  },
  {
   "cell_type": "code",
   "execution_count": 40,
   "id": "b902a631",
   "metadata": {},
   "outputs": [
    {
     "name": "stdout",
     "output_type": "stream",
     "text": [
      "Result :  <\n"
     ]
    }
   ],
   "source": [
    "x=eval(input('Enter 1st  input : '))\n",
    "y=eval(input('Enter 2nd  input : '))\n",
    "print(F'Result :  >') if x>y else print(F'Result :  <') if y>x else print(F'Result :  =')"
   ]
  },
  {
   "cell_type": "markdown",
   "id": "333670a6",
   "metadata": {},
   "source": [
    "'''\n",
    "Write  a  program  to  print  1  if  input  is  +ve  ,  -1    if  input  is  -ve  and  0  if  input  is  0\n",
    "\n",
    "1) What  is  the  result  if  input  is  -25 ?  --->  -1\n",
    "\n",
    "2) What  is  the  result  if  input  is  75 ?  --->  1\n",
    "\n",
    "3) What  is  the  result  if  input  is  0 ?  --->  0\n",
    "\n",
    "4) Use  nested  ternary  operator\n",
    "'''"
   ]
  },
  {
   "cell_type": "markdown",
   "id": "5b2ab93d",
   "metadata": {},
   "source": [
    "Enter any number : -25\n",
    "Result :  -1"
   ]
  },
  {
   "cell_type": "code",
   "execution_count": 43,
   "id": "db0738fa",
   "metadata": {},
   "outputs": [
    {
     "name": "stdout",
     "output_type": "stream",
     "text": [
      "Result :  0\n"
     ]
    }
   ],
   "source": [
    "x=eval(input('Enter any number :'))\n",
    "print(F'Result :  -1') if x<0 else print(F'Result :  1') if x>0 else print(F'Result :  0')"
   ]
  },
  {
   "cell_type": "markdown",
   "id": "eb8acf36",
   "metadata": {},
   "source": [
    "'''\n",
    "Write  a  program  to  test  input  is  even  number  or  odd  number\n",
    "\n",
    "1) What  is  an  even  number  ?  --->  Divisible  by  2\n",
    "\n",
    "2) What  is  an  odd  number  ?  --->  Not  divisible  by  2\n",
    "\n",
    "3) Use  ternary  operator\n",
    "'''"
   ]
  },
  {
   "cell_type": "markdown",
   "id": "ca1efc18",
   "metadata": {},
   "source": [
    "Enter  any  +ve  integer : 45\n",
    "Odd  number"
   ]
  },
  {
   "cell_type": "code",
   "execution_count": 45,
   "id": "5424df5a",
   "metadata": {},
   "outputs": [
    {
     "name": "stdout",
     "output_type": "stream",
     "text": [
      "Even  number\n"
     ]
    }
   ],
   "source": [
    "x=eval(input('Enter  any  +ve  integer :'))\n",
    "print(F'Even  number') if x%2==0 else print(F'Odd  number') "
   ]
  },
  {
   "cell_type": "markdown",
   "id": "cba39d62",
   "metadata": {},
   "source": [
    "'''\n",
    "(Home  work)\n",
    "Write  a  program  to  determine  area  and  perimeter  of  rectangle\n",
    "\n",
    "1) What  are  the  inputs ?  ---> length  and   breadth\n",
    "\n",
    "2) What  are  the  outputs  ?  --->  area  and  perimeter\n",
    "\n",
    "3) What  is  the  area  of  rectangle  ?  --->  length * breadth\n",
    "\n",
    "4) What  is  the  perimeter  of  rectangle ?  --->  2 * (length + breadth)\n",
    "'''"
   ]
  },
  {
   "cell_type": "code",
   "execution_count": 47,
   "id": "00e960d4",
   "metadata": {},
   "outputs": [
    {
     "name": "stdout",
     "output_type": "stream",
     "text": [
      "Area of rectangle : 686.84\n",
      "Perimeter of rectangle : 106.2\n"
     ]
    }
   ],
   "source": [
    "length=eval(input('Enter  the length :'))\n",
    "breadth=eval(input('Enter  the breadth :'))\n",
    "Area=length * breadth\n",
    "perimeter= 2*(length + breadth)\n",
    "print(F'Area of rectangle : {Area}')\n",
    "print(F'Perimeter of rectangle : {perimeter}')"
   ]
  },
  {
   "cell_type": "markdown",
   "id": "eff93615",
   "metadata": {},
   "source": [
    "'''\n",
    "(Home  work)\n",
    "Write  a  program  to  determine  volume  of  a  sphere\n",
    "\n",
    "1) What  is  the  input ?  --->  radius\n",
    "\n",
    "2) What  is  the  output ?  --->  volume\n",
    "\n",
    "3) What  is  the  volume  of  sphere  ?  --->  4 / 3  * pi *  r ^ 3\n",
    "'''"
   ]
  },
  {
   "cell_type": "code",
   "execution_count": null,
   "id": "f449c9d4",
   "metadata": {},
   "outputs": [
    {
     "name": "stdout",
     "output_type": "stream",
     "text": [
      "volume  of  sphere : 333.0381428119515\n"
     ]
    }
   ],
   "source": [
    "import math\n",
    "radius=eval(input('Enter  the radius :'))\n",
    "volume= (4/3)*math.pi *math.pow(radius,3)\n",
    "print(F'Volume  of  sphere : {volume}')"
   ]
  },
  {
   "cell_type": "markdown",
   "id": "54a2968e",
   "metadata": {},
   "source": [
    "'''\n",
    "(Home  work)\n",
    "Write  a  program  to  determine  simple  interest  and  compound  interest\n",
    "\n",
    "1) What  are  the  inputs  ?  --->  principle , time  and   rate  of  interest\n",
    "\n",
    "2) What  are  the  outputs ? --->  Simple  interest   and   compound  interest\n",
    "\n",
    "3) What  is  simple  interest  formula ?  ---> ptr / 100\n",
    "\n",
    "4) What  is  compound  interest  formula ?  --->  p * (1  +  r  /  100) ^  t  -  p\n",
    "'''"
   ]
  },
  {
   "cell_type": "code",
   "execution_count": 7,
   "id": "0af3004a",
   "metadata": {},
   "outputs": [
    {
     "name": "stdout",
     "output_type": "stream",
     "text": [
      "Simple  interest : 60.0\n",
      "compound  interest : 60.899999999999864\n"
     ]
    }
   ],
   "source": [
    "import math\n",
    "principle=eval(input('Enter  the principle :'))\n",
    "time=eval(input('Enter  the time :'))\n",
    "rate=eval(input('Enter  the rate :'))\n",
    "Simple_interest = (principle * time * rate)/100\n",
    "#compound_interest=(principle *(1+rate/100)**time) - principle\n",
    "compound_interest = principle * (math.pow((1+rate/100),time)) - principle\n",
    "print(F'Simple  interest : {Simple_interest}')\n",
    "print(F'compound  interest : {compound_interest}')"
   ]
  },
  {
   "cell_type": "markdown",
   "id": "54531d9e",
   "metadata": {},
   "source": [
    "'''\n",
    "(Home  work)\n",
    "Write  a  program  to  swap  values  of  two  objects  using  3rd   object\n",
    "\n",
    "Let  x = 10  and  y = 25\n",
    "What  are  the  values  of  x  and  y  after  swap ?  --->  x = 25  and   y = 10\n",
    "'''"
   ]
  },
  {
   "cell_type": "code",
   "execution_count": 59,
   "id": "d7c1512e",
   "metadata": {},
   "outputs": [
    {
     "name": "stdout",
     "output_type": "stream",
     "text": [
      "After  swap :  x = 25 y = 10\n"
     ]
    }
   ],
   "source": [
    "x=eval(input('Enter 1st  input : '))\n",
    "y=eval(input('Enter 2nd  input : '))\n",
    "a= x\n",
    "x=y\n",
    "y=a\n",
    "print(F'After  swap :  x = {x} y = {y}')"
   ]
  },
  {
   "cell_type": "markdown",
   "id": "daba7afa",
   "metadata": {},
   "source": [
    "'''\n",
    "(Home  work)\n",
    "Write  a  program  to  swap  values  of  two  objects  without  using  3rd  object\n",
    "\n",
    "Hint: One  addition  and  two  subtractions\n",
    "\n",
    "x = 25\n",
    "y =  10\n",
    "'''"
   ]
  },
  {
   "cell_type": "code",
   "execution_count": 61,
   "id": "3442f9b6",
   "metadata": {},
   "outputs": [
    {
     "name": "stdout",
     "output_type": "stream",
     "text": [
      "After  swap :  x = 25 y = 10\n"
     ]
    }
   ],
   "source": [
    "x=eval(input('Enter 1st  input : '))\n",
    "y=eval(input('Enter 2nd  input : '))\n",
    "x= x + y\n",
    "y= x - y\n",
    "x= x - y\n",
    "print(F'After  swap :  x = {x} y = {y}')"
   ]
  },
  {
   "cell_type": "markdown",
   "id": "4d197be2",
   "metadata": {},
   "source": [
    "'''\n",
    "(Home  work)\n",
    "Write  a  program  to  swap  values  of  two  objects  without  using  3rd  object\n",
    "\n",
    "Hint: One  multiplication  and  two  divisions\n",
    "\n",
    "x =  -200\n",
    "y =  100\n",
    "'''"
   ]
  },
  {
   "cell_type": "code",
   "execution_count": 62,
   "id": "f8e42221",
   "metadata": {},
   "outputs": [
    {
     "name": "stdout",
     "output_type": "stream",
     "text": [
      "After  swap :  x=100.0 y=-200.0\n"
     ]
    }
   ],
   "source": [
    "x=eval(input('Enter 1st  input : '))\n",
    "y=eval(input('Enter 2nd  input : '))\n",
    "x= x * y\n",
    "y= x / y\n",
    "x= x / y\n",
    "print(F'After  swap :  x={x} y={y}')"
   ]
  }
 ],
 "metadata": {
  "kernelspec": {
   "display_name": "Python 3",
   "language": "python",
   "name": "python3"
  },
  "language_info": {
   "codemirror_mode": {
    "name": "ipython",
    "version": 3
   },
   "file_extension": ".py",
   "mimetype": "text/x-python",
   "name": "python",
   "nbconvert_exporter": "python",
   "pygments_lexer": "ipython3",
   "version": "3.12.6"
  }
 },
 "nbformat": 4,
 "nbformat_minor": 5
}

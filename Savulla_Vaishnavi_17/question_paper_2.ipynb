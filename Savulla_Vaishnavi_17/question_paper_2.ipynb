{
 "cells": [
  {
   "cell_type": "markdown",
   "id": "b7bc6b75",
   "metadata": {},
   "source": [
    "'''\n",
    "Write  a  program  to  evaluate  expression  like  calculator\n",
    "\n",
    "Let  input  be  3 + 4 * 5 - 6 / 2 =\n",
    "What  is  the  output ? --->  14.5\n",
    "\n",
    "Hint:  Use  while  loop\n",
    "\n",
    "Iteration         a          op        b        result\n",
    "------------------------------------------------------\n",
    "       1               3          +          4           7   --->  'a'\n",
    "\n",
    "\t   2              7          *          5           35   --->  'a'\n",
    "\n",
    "\t   3             35         -          6           29   --->  'a'\n",
    "\n",
    "\t   4             29         /          2           14.5   --->  'a'\n",
    "\n",
    "\t   5            14.5       =          ---           ----\n",
    "'''\n",
    "\n",
    "Enter  any  expression  terminated  by  =  :  3+4*5-6/2=\n",
    "Result :  14.5"
   ]
  },
  {
   "cell_type": "markdown",
   "id": "76309287",
   "metadata": {},
   "source": [
    "'''\n",
    "Write  a   program  to  print  roman  equivalent  of  a  number\n",
    "1000 -  M\n",
    "900  -  CM\n",
    "500 -  D\n",
    "400 - CD\n",
    "100 -   C\n",
    "90  -  XC\n",
    "50  -  L\n",
    "40  -  XL\n",
    "10  -  X\n",
    "9  -  IX\n",
    "5  -  V\n",
    "4  -  IV\n",
    "1  -  I\n",
    "\n",
    "1) What  is  the  output  if  input  is  3878 ? ---> MMMDCCCLXXVIII\n",
    "\n",
    "2) What  is  the  result  of  3878 // 1000 ?  --->  3\n",
    "    How  many  M's  are  concatenated  to  the  sting ?  --->  Three  becoz  3878 / 1000  is  3\n",
    "    What  is  the  result  of  3878 % 1000 ?  --->  878\n",
    "\n",
    "3) What  is  the  result  of  878 // 900 ?  --->  0\n",
    "    How  many  CM's  are  concatenated  to  the  string ?  ---> Zero  becoz  878 / 900  is  0\n",
    "    What  is  the  result  of  878 % 900 ?  --->  878\n",
    "\n",
    "4) What  is  the  result  of  878 // 500 ?  ---> 1\n",
    "     How  many  D's  are  concatenated  to  the  string ?  ---> One  becoz  878 / 500  is  1\n",
    "     What  is  the  result  of  878 % 500 ?  ---> 378\n",
    "      and  so  on\n",
    "'''\n",
    "Enter  any  number :  3878\n",
    "Roman  Equivalent :   MMMDCCCLXXVIII\n",
    "\n",
    "3000 -> 500 -> 100 -> 100 -> 100 -> 50 -> 10 -> 10 -> 5 -> 1 -> 1 ->1"
   ]
  },
  {
   "cell_type": "code",
   "execution_count": 44,
   "id": "83faaf21",
   "metadata": {},
   "outputs": [
    {
     "name": "stdout",
     "output_type": "stream",
     "text": [
      "Roman  Equivalent :   DC\n"
     ]
    }
   ],
   "source": [
    "a=int(input(\"Enter  any  number : \"))\n",
    "result=''\n",
    "for i in range(8):\n",
    "    if a>=1000:\n",
    "        result+='M'* (a//1000)\n",
    "        a=a%1000\n",
    "    elif a>=500:\n",
    "        result+='D'*(a//500)\n",
    "        a=a%500\n",
    "    elif a>=100:\n",
    "        result+='C'*(a//100)\n",
    "        a=a%100\n",
    "    elif a>=50:\n",
    "        result+='L'*(a//50)\n",
    "        a=a%50\n",
    "    elif a>=10:\n",
    "        result+='X'*(a//10)\n",
    "        a=a%10\n",
    "    elif a>=5:\n",
    "        result+='V'*(a//5)\n",
    "        a=a%5\n",
    "    elif a>=1:\n",
    "        result+='I'*(a//1)\n",
    "        a=a%1\n",
    "print(\"Roman  Equivalent :  \",result)"
   ]
  },
  {
   "cell_type": "markdown",
   "id": "7b6ccec7",
   "metadata": {},
   "source": [
    "'''\n",
    "Write  a  program  to  print  each  digit  of  the  number  in  words\n",
    "\n",
    "Let  input  be  9247\n",
    "What  is  the  output  ?  ---> Nine  Two  Four  Seven\n",
    "\n",
    "a = ['Zero' , 'One' , 'Two' ,....  'Nine']\n",
    "\n",
    "Iteration     ch     int(ch)       a[int(ch)]         s\n",
    "--------------------------------------------------------\n",
    "                                                                     ''\n",
    "     1              '9'       9               'Nine'          '' + 'Nine' + ' '\n",
    "\n",
    "\t 2             '2'       2               'Two'          'Nine ' + 'Two' + ' '\n",
    "\n",
    "\t 3             '4'       4               'Four'          'Nine Two ' + 'Four' + ' '\n",
    "\n",
    "\t 4             '7'       7               'Seven'        'Nine Two Four ' + 'Seven' + ' '\n",
    "'''\n",
    "\n",
    "Enter  any   number :  9247\n",
    "Nine Two Four Seven"
   ]
  },
  {
   "cell_type": "code",
   "execution_count": 32,
   "id": "6855417a",
   "metadata": {},
   "outputs": [
    {
     "name": "stdout",
     "output_type": "stream",
     "text": [
      "one two three \n"
     ]
    }
   ],
   "source": [
    "inp=input(\"Enter  any   number :  \")\n",
    "number_name={0:\"zero\", 1:\"one\", 2:\"two\", 3:\"three\", 4:\"four\", 5:\"five\", 6:\"six\", 7:\"seven\", 8:\"eight\", 9:\"nine\"}\n",
    "result=''\n",
    "for i in range(len(inp)):\n",
    "    result+=number_name[int(inp[i])]\n",
    "    result+=' '\n",
    "print(result)"
   ]
  },
  {
   "cell_type": "markdown",
   "id": "4b5fe22e",
   "metadata": {},
   "source": [
    "'''\n",
    "Write  a  program  to  print  all  the  rotations  of  the  string\n",
    "\n",
    " 1) Let  input  be     S   P  A   C   E\n",
    "                               0   1   2   3   4\n",
    "    What  are  the  outputs ?  --->  SPACE\n",
    "\t                                                  PACES\n",
    "\t\t\t\t\t\t\t\t\t                  ACESP\n",
    "\t\t\t\t\t\t\t\t\t\t\t\t      CESPA\n",
    "\t\t\t\t\t\t\t\t\t\t\t\t      ESPAC\n",
    "\n",
    "2) What  are  the  indexes  of  SPACE ?  ---> 0  to  4\n",
    "     What  are  the  indexes  of  PACES ?  ---> 1  to  4 , 0  to  0\n",
    "     What  are  the  indexes  of  ACESP ?  ---> 2  to  4 , 0  to  1\n",
    "     What  are  the  indexes  of  CESPA ?  ---> 3  to  4 , 0  to  2\n",
    "     What  are  the  indexes  of  ESPAC ?  ---> 4  to  4 , 0  to  3\n",
    "\n",
    "3) What  are  the  indexes  in  general ?  --->  i  to  length - 1   and   0  to  i - 1\n",
    "'''\n",
    "Enter any string :  SPACE\n",
    "Rotations\n",
    "SPACE\n",
    "PACES\n",
    "ACESP\n",
    "CESPA\n",
    "ESPAC"
   ]
  },
  {
   "cell_type": "code",
   "execution_count": 36,
   "id": "1f749b5d",
   "metadata": {},
   "outputs": [
    {
     "name": "stdout",
     "output_type": "stream",
     "text": [
      "Rotations\n",
      "SPACE\n",
      "PACES\n",
      "ACESP\n",
      "CESPA\n",
      "ESPAC\n"
     ]
    }
   ],
   "source": [
    "inp=input(\"Enter any string :  \")\n",
    "print(\"Rotations\")\n",
    "print(inp)\n",
    "for i in range(1,len(inp)):\n",
    "    print(inp[i:]+inp[:i])"
   ]
  },
  {
   "cell_type": "markdown",
   "id": "026b152f",
   "metadata": {},
   "source": [
    "'''\n",
    "Write  a  program  to  print  mathematical  table  of  a  number\n",
    "\n",
    "Let  input  be  7,\n",
    "What  is  the  output ?  --->  7 * 1 = 7\n",
    "                       \t\t\t\t\t\t 7 * 2 = 14\n",
    "\t\t\t  \t\t\t\t\t\t\t\t 7 * 3 = 21\n",
    "\t\t\t\t\t\t\t\t\t\t\t\t .....\n",
    "\t\t\t\t\t\t\t\t\t\t\t 7 * 10 = 70\n",
    "'''\n",
    "Enter  table  number :  7\n",
    "7 * 1 = 7\n",
    "7 * 2 = 14\n",
    "7 * 3 = 21\n",
    "7 * 4 = 28\n",
    "7 * 5 = 35\n",
    "7 * 6 = 42\n",
    "7 * 7 = 49\n",
    "7 * 8 = 56\n",
    "7 * 9 = 63\n",
    "7 * 10 = 70"
   ]
  },
  {
   "cell_type": "code",
   "execution_count": 38,
   "id": "7f2c1c27",
   "metadata": {},
   "outputs": [
    {
     "name": "stdout",
     "output_type": "stream",
     "text": [
      "7 * 1 = 7\n",
      "7 * 2 = 14\n",
      "7 * 3 = 21\n",
      "7 * 4 = 28\n",
      "7 * 5 = 35\n",
      "7 * 6 = 42\n",
      "7 * 7 = 49\n",
      "7 * 8 = 56\n",
      "7 * 9 = 63\n",
      "7 * 10 = 70\n"
     ]
    }
   ],
   "source": [
    "inp=int(input(\"Enter  table  number :  \"))\n",
    "for i in range(1,11):\n",
    "    print(f\"{inp} * {i} = {inp*i}\")"
   ]
  },
  {
   "cell_type": "markdown",
   "id": "36a17bda",
   "metadata": {},
   "source": [
    "'''\n",
    "Write a  program to print following pyramid\n",
    "Input: 5\n",
    "\n",
    "             A\n",
    "            A B\n",
    "           A B C\n",
    "          A B C D\n",
    "         A B C D E\n",
    "\n",
    "\n",
    "\t   i         ch\n",
    "---------------------\n",
    "       1         'A'\n",
    "\n",
    "\t   2         'A'  to  'B'\n",
    "\n",
    "\t   3         'A'  to  'C'\n",
    "\n",
    "\t   4         'A'  to  'D'\n",
    "\n",
    "\t   5         'A'  to  'E'\n",
    "'''\n",
    "How  many  lines ?  :  7\n",
    "       A\n",
    "      A B\n",
    "     A B C\n",
    "    A B C D\n",
    "   A B C D E\n",
    "  A B C D E F\n",
    " A B C D E F G"
   ]
  },
  {
   "cell_type": "code",
   "execution_count": 41,
   "id": "47b88952",
   "metadata": {},
   "outputs": [
    {
     "name": "stdout",
     "output_type": "stream",
     "text": [
      "                A \n",
      "               A B \n",
      "              A B C \n",
      "             A B C D \n",
      "            A B C D E \n",
      "           A B C D E F \n",
      "          A B C D E F G \n",
      "         A B C D E F G H \n",
      "        A B C D E F G H I \n",
      "       A B C D E F G H I J \n",
      "      A B C D E F G H I J K \n",
      "     A B C D E F G H I J K L \n",
      "    A B C D E F G H I J K L M \n",
      "   A B C D E F G H I J K L M N \n",
      "  A B C D E F G H I J K L M N O \n",
      " A B C D E F G H I J K L M N O P \n",
      "A B C D E F G H I J K L M N O P Q \n"
     ]
    }
   ],
   "source": [
    "inp=int(input(\"Enter  table  number :  \"))\n",
    "p='ABCDEFGHIJKLMNOPQRSTUVWXYZ'\n",
    "for i in range(1,inp+1):\n",
    "    print(' '*(inp-i),end='')\n",
    "    for j in range(i):\n",
    "        print(p[j],end=' ')\n",
    "    print()"
   ]
  }
 ],
 "metadata": {
  "kernelspec": {
   "display_name": "Python 3",
   "language": "python",
   "name": "python3"
  },
  "language_info": {
   "codemirror_mode": {
    "name": "ipython",
    "version": 3
   },
   "file_extension": ".py",
   "mimetype": "text/x-python",
   "name": "python",
   "nbconvert_exporter": "python",
   "pygments_lexer": "ipython3",
   "version": "3.12.6"
  }
 },
 "nbformat": 4,
 "nbformat_minor": 5
}

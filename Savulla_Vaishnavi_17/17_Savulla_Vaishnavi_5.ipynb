{
 "cells": [
  {
   "cell_type": "markdown",
   "id": "a6545f6c",
   "metadata": {},
   "source": [
    "'''\n",
    "Let  input  be  A4M3Z5D2\n",
    "\n",
    "What  is  the  output ?  --->  AEMPZ_DF\n",
    "\n",
    " 0     1     2     3    4    5    6     7\n",
    " A    4     M    3    Z    5    D     2\n",
    "\n",
    "\n",
    "   i       a[i]      a[i + 1]         out\n",
    "--------------------------------------------------------------------------------\n",
    "                                          ''\n",
    "  0       'A'           '4'          '' + 'A' + chr(65 + 4) = '' + 'A' + 'E' = 'AE'\n",
    "\n",
    "  2       'M'           '3'          'AE' + 'M' + chr(77 + 3) = 'AE' + 'M' + 'P' = 'AEMP'\n",
    "\n",
    "  4       'Z'           '5'          'AEMP' + 'Z' + chr(90 + 5) = 'AEMP' + 'Z' + '' = 'AEMPZ'\n",
    "\n",
    "  6       'D'           '2'          'AEMPZ_' + 'D' + chr(68 + 2) = 'AEMPZ_' + 'D' + 'F' = 'AEMPZ_DF'\n",
    "-----------------------------------------------------------------------------------\n",
    "Hint: Use  chr()  and  ord()  functions\n",
    "'''"
   ]
  },
  {
   "cell_type": "code",
   "execution_count": 20,
   "id": "4273ada2",
   "metadata": {},
   "outputs": [
    {
     "name": "stdout",
     "output_type": "stream",
     "text": [
      "Result  :  AEMPZ_DF\n"
     ]
    }
   ],
   "source": [
    "inp=input(\"Enter  any  string  with  alternate  character  and  digit  :\")#A4M3Z5D2\n",
    "result=''\n",
    "for i in range(0,len(inp),2):\n",
    "    if inp[1].isnumeric():\n",
    "        a=inp[i]\n",
    "        b=int(inp[i+1])#4\n",
    "        shifted_char=chr(ord(a)+b)\n",
    "        result+=a\n",
    "        result+=shifted_char\n",
    "    else:\n",
    "        print(\"Pls  enter  string  with  alternate  char  and  digit\")\n",
    "        break\n",
    "if result!='':\n",
    "    print(F'Result  :  {result}')"
   ]
  },
  {
   "cell_type": "code",
   "execution_count": null,
   "id": "2c63330c",
   "metadata": {},
   "outputs": [
    {
     "name": "stdout",
     "output_type": "stream",
     "text": [
      "65\n",
      "90\n",
      "97\n",
      "122\n",
      "48\n",
      "57\n",
      "36\n",
      "32\n"
     ]
    },
    {
     "data": {
      "text/plain": [
       "\"\\nord()  function\\n------------------\\n1) What  does  ord()  function  do ?  ---> Converts  character  to  unicode  value\\n\\n2) How  many  unicode  values  exist ?  ---> 512\\n\\n3) What  is  the  range  of  unicode  values ?  ---> 0  to  511\\n\\n4) What  are  the  unicode  values  of  'A'  -  'Z' ?  ---> 65  to  90\\n     What  are  the  unicode  values  of  'a'  -  'z' ?  ---> 97  to  122\\n     What  are  the  unicode  values  of  '0'  -  '9' ?  ---> 48  to  57\\n\\n5) What  is  another  name  of  unicode ?  ---> Extended  Ascii\\n\\nNote:  chr()  and  ord()  are  quite  opposite  functions\\n\""
      ]
     },
     "execution_count": 21,
     "metadata": {},
     "output_type": "execute_result"
    }
   ],
   "source": [
    "# ord()  function  demo  program\n",
    "print(ord('A'))  #  Converts  'A'  to  unicode  value  65\n",
    "print(ord('Z'))  #  Converts  'A'  to  unicode  value  90\n",
    "print(ord('a'))  #  Converts  'A'  to  unicode  value  97\n",
    "print(ord('z'))  #  Converts  'A'  to  unicode  value  122\n",
    "print(ord('0'))  #  Converts  'A'  to  unicode  value  48\n",
    "print(ord('9'))  #  Converts  'A'  to  unicode  value  57\n",
    "print(ord('$'))  #  Converts  'A'  to  unicode  value  36\n",
    "print(ord(' '))  #  Converts  'A'  to  unicode  value  32\n",
    "\n",
    "\n",
    "\n",
    "'''\n",
    "ord()  function\n",
    "------------------\n",
    "1) What  does  ord()  function  do ?  ---> Converts  character  to  unicode  value\n",
    "\n",
    "2) How  many  unicode  values  exist ?  ---> 512\n",
    "\n",
    "3) What  is  the  range  of  unicode  values ?  ---> 0  to  511\n",
    "\n",
    "4) What  are  the  unicode  values  of  'A'  -  'Z' ?  ---> 65  to  90\n",
    "     What  are  the  unicode  values  of  'a'  -  'z' ?  ---> 97  to  122\n",
    "     What  are  the  unicode  values  of  '0'  -  '9' ?  ---> 48  to  57\n",
    "\n",
    "5) What  is  another  name  of  unicode ?  ---> Extended  Ascii\n",
    "\n",
    "Note:  chr()  and  ord()  are  quite  opposite  functions\n",
    "'''"
   ]
  },
  {
   "cell_type": "code",
   "execution_count": null,
   "id": "a8a561c9",
   "metadata": {},
   "outputs": [
    {
     "name": "stdout",
     "output_type": "stream",
     "text": [
      "A\n",
      "Z\n",
      "a\n",
      "z\n",
      "0\n",
      "9\n",
      "$\n",
      " \n"
     ]
    },
    {
     "data": {
      "text/plain": [
       "'\\nWhat  does  chr()  function  do ?  --->  Converts  unicode  value  to  character\\n'"
      ]
     },
     "execution_count": 22,
     "metadata": {},
     "output_type": "execute_result"
    }
   ],
   "source": [
    "# chr()  function  demo  program\n",
    "print(chr(65))  #   Converts  unicode  value  65  to  'A'\n",
    "print(chr(90))  #   Converts  unicode  value  65  to  'Z'\n",
    "print(chr(97))  #   Converts  unicode  value  65  to  'a'\n",
    "print(chr(122)) #   Converts  unicode  value  65  to  'z'\n",
    "print(chr(48))  #   Converts  unicode  value  65  to  '0'\n",
    "print(chr(57))  #   Converts  unicode  value  65  to  '9'\n",
    "print(chr(36))  #   Converts  unicode  value  65  to  '$'\n",
    "print(chr(32))  #   Converts  unicode  value  65  to  ' '\n",
    "\n",
    "\n",
    "\n",
    "'''\n",
    "What  does  chr()  function  do ?  --->  Converts  unicode  value  to  character\n",
    "'''"
   ]
  },
  {
   "cell_type": "code",
   "execution_count": 25,
   "id": "bf58f1fc",
   "metadata": {},
   "outputs": [
    {
     "name": "stdout",
     "output_type": "stream",
     "text": [
      "3\n",
      "8\n",
      "4\n",
      "3\n",
      "0\n",
      "1\n",
      "3\n"
     ]
    },
    {
     "data": {
      "text/plain": [
       "'\\nWhat  does  len(str)  do  ?  --->  Returns  number  of  characters  in  the  string\\n'"
      ]
     },
     "execution_count": 25,
     "metadata": {},
     "output_type": "execute_result"
    }
   ],
   "source": [
    "# len()  function  demo  program  (Home  work)\n",
    "print(len('Hyd'))  #  3\n",
    "print(len('Rama Rao')) #8\n",
    "print(len('9247'))#4\n",
    "print(len('+-$'))#3\n",
    "print(len(''))#0\n",
    "print(len(' '))#1\n",
    "print(len('A2#'))#3\n",
    "#print(len(3456))#Error\n",
    "#print('Sec'. len())#Error\n",
    "\n",
    "\n",
    "'''\n",
    "What  does  len(str)  do  ?  --->  Returns  number  of  characters  in  the  string\n",
    "'''"
   ]
  },
  {
   "cell_type": "markdown",
   "id": "20aff65a",
   "metadata": {},
   "source": [
    "'''\n",
    "Write  a  program  to  remove  duplicate  characters  of  the  string  without  using  set\n",
    "\n",
    "1) Let  input  be   RAMA  RAO\n",
    "   What  is  the  output ? ---> RAM<space>O\n",
    "\n",
    "2) out = '' + 'R' = 'R' + 'A' = 'RA' + 'M' = 'RAM' + ' ' = 'RAM ' + 'O' = 'RAM O'\n",
    "\n",
    "3) What  action  to  be  made  if  the  character  is  not  in  out  object ?  --->\n",
    "\t\t\t\t\t\t\t\t\t\t\t\t\t\t\t\t\tConcatenate  the  character  to  out  object\n",
    "\n",
    "4) What  action  to  be  made  if  the  character  is  already  in  out  object ?  --->\n",
    "\t\t\t\t\t\t\t\t\t\t\t\t\t\t\t\t\t\t\t\t\t\t\tIgnore  the  character\n",
    "\n",
    "5) Hint:  Use  not  in   operator\n",
    "'''"
   ]
  },
  {
   "cell_type": "code",
   "execution_count": 26,
   "id": "a0a71efd",
   "metadata": {},
   "outputs": [
    {
     "name": "stdout",
     "output_type": "stream",
     "text": [
      "String  without  duplicates  :   MISP\n"
     ]
    }
   ],
   "source": [
    "inp=input(\"Enter  any  string  : \")\n",
    "out=''\n",
    "for i in inp:\n",
    "    if i not in out:\n",
    "        out+=i\n",
    "print(F'String  without  duplicates  :   {out}')"
   ]
  },
  {
   "cell_type": "markdown",
   "id": "5096bcea",
   "metadata": {},
   "source": [
    "'''\n",
    "Write  a  program  to  merge  two  strings  to  form  a  new  string\n",
    "\n",
    "1) Let  inputs  be    HYD   and   VAMSI\n",
    "   What  is  the  output  ?  --->  HVYADMSI\n",
    "\n",
    "             0     1    2\n",
    "a  --->   H     Y    D\n",
    "\n",
    "              0    1     2     3    4\n",
    "b  --->    V    A    M    S    I\n",
    "\n",
    "\n",
    "i       a[i]        b[i]          c\n",
    "--------------------------------------------------------\n",
    "                                    ''\n",
    "0      'H'        'V'          '' + 'H' + 'V' = 'HV'\n",
    "\n",
    "1      'Y'        'A'          'HV' + 'Y' + 'A' = 'HVYA'\n",
    "\n",
    "2      'D'       'M'          'HVYA' + 'D' + 'M' = 'HVYADM'\n",
    "--------------------------------------------------------\n",
    "Concatenate  remainging  characters   of  the  other  string  to  object  'c'\n",
    "What  is  the  final  result ?  --->  'HVYADMSI'\n",
    "\n",
    "Hint:  Use  single  while  loop  and  slice\n",
    "'''"
   ]
  },
  {
   "cell_type": "code",
   "execution_count": 28,
   "id": "6e2f2f2a",
   "metadata": {},
   "outputs": [
    {
     "name": "stdout",
     "output_type": "stream",
     "text": [
      "Result  :   SHAYIDRAM\n"
     ]
    }
   ],
   "source": [
    "s1=input(\"Enter  first  string  :  \")\n",
    "s2=input(\"Enter  second  string  :  \")\n",
    "result=''\n",
    "if len(s1)<len(s2):\n",
    "    n=len(s1)\n",
    "    half=s2[n:]\n",
    "else:\n",
    "    n=len(s2)\n",
    "    half=s1[n:]\n",
    "for i in range(n):\n",
    "    result+=s1[i]\n",
    "    result+=s2[i]\n",
    "result+=half\n",
    "print(F'Result  :   {result}')"
   ]
  },
  {
   "cell_type": "markdown",
   "id": "6b3a246a",
   "metadata": {},
   "source": [
    "'''\n",
    "Let  input  be    A   4   B   3   C   2   $   5\n",
    "                         0   1    2   3   4   5   6   7\n",
    "\n",
    "What  is  the  output ?  --->  AAAABBBCC$$$$$\n",
    "\n",
    "1) What  is  the  result  of  'A' * 4  ?  ---> 'AAAA'\n",
    "\n",
    "2)  i        a[i]       a[i + 1]          out\n",
    "   -------------------------------------------------------\n",
    "                                               ''\n",
    "     0        'A'          '4'            '' + 'A' * 4 = 'AAAA'\n",
    "\n",
    "\t 2        'B'          '3'            'AAAA' + 'B' * 3 = 'AAAA' + 'BBB' = 'AAAABBB'\n",
    "\n",
    "\t 4        'C'          '2'            'AAAABBB' + 'C' * 2 = 'AAAABBB' + 'CC' = 'AAAABBBCC'\n",
    "\n",
    "\t 6        '$'          '5'            'AAAABBBCC' + '$' * 5 = 'AAAABBBCC' + '$$$$$' = 'AAAABBBCC$$$$$'\n",
    "                                                                                          \n",
    "   -------------------------------------------------------\n",
    "What  is  the  difference  between  a[i]   and  a[i + 1] ?  --->\n",
    "\t\t\t\t\t\t\t\ta[i]  is  ith  char  of  string  and  a[i + 1]  is  (i + 1)th  char  of  string\n",
    "'''"
   ]
  },
  {
   "cell_type": "code",
   "execution_count": 30,
   "id": "81a391e8",
   "metadata": {},
   "outputs": [
    {
     "name": "stdout",
     "output_type": "stream",
     "text": [
      "Pls  enter  string  with  alternate  char  and  digit\n"
     ]
    }
   ],
   "source": [
    "inp=input(\"Enter  any  string  with  alternate  character  and  digit  :\")#A4M3Z5D2\n",
    "result=''\n",
    "for i in range(0,len(inp),2):\n",
    "    if inp[1].isnumeric():\n",
    "        a=inp[i]\n",
    "        b=int(inp[i+1])#4\n",
    "        result+=a*b\n",
    "    else:\n",
    "        print(\"Pls  enter  string  with  alternate  char  and  digit\")\n",
    "        break\n",
    "if result!='':\n",
    "    print(F'Result  :  {result}')"
   ]
  },
  {
   "cell_type": "markdown",
   "id": "8c5062a5",
   "metadata": {},
   "source": [
    "'''\n",
    "Write  a  program  to  print  characters  at  even  and  odd  indexes  without  slice\n",
    "\n",
    "\t\t\t\t\t\t\t 0      1      2      3     4     5     6      7\n",
    "Let  input  be        R      a     m      a             R     a      o\n",
    "\n",
    "odd =  '' + 'a' + 'a' + 'R' + 'o' = 'aaRo'\n",
    "even =   '' + 'R' + 'm' + ' '  + 'a' = 'Rm a'\n",
    "\n",
    "1) What  action  to  be  made  when  index  is  even ?  --->\n",
    "\t\t\t\t\t\t\t\t\t\t\t\t\t\t\t\t\tConcatenate  the  character  to  even  object\n",
    "\n",
    "2) What  action  to  be  made  when  index  is  odd ?  --->\n",
    "\t\t\t\t\t\t\t\t\t\t\t\t\t\t\t\t\tConcatenate  the  characeter  to  odd  object\n",
    "\n",
    "3) Hint: Use  single  for  loop\n",
    "'''"
   ]
  },
  {
   "cell_type": "code",
   "execution_count": 33,
   "id": "4547cc8c",
   "metadata": {},
   "outputs": [
    {
     "name": "stdout",
     "output_type": "stream",
     "text": [
      "String  at  even  indexes  : RM A\n",
      "String  at  odd  indexes  : AARO\n"
     ]
    }
   ],
   "source": [
    "inp=input(\"Enter  any  string  :  \")\n",
    "even=''\n",
    "odd=''\n",
    "for i in range(len(inp)):\n",
    "    if i%2==0 :\n",
    "        even+=inp[i]\n",
    "    else:\n",
    "        odd+=inp[i]\n",
    "print(F\"String  at  even  indexes  : {even}\")\n",
    "print(f'String  at  odd  indexes  : {odd}')\n"
   ]
  },
  {
   "cell_type": "markdown",
   "id": "1afa41f7",
   "metadata": {},
   "source": [
    "'''\n",
    "Write  a  program  to  print  characters  of  the  string  in  forward  and  reverse\n",
    "directions  without  slice\n",
    "\n",
    "       \t     \t\t\t\t  0      1     2      3     4\n",
    "Let  input  be\t\t  V     A     M     S     I\n",
    "\t\t\t        \t\t -5    -4    -3    -2    -1\n",
    "\n",
    "What  are  the  outputs ?  --->  Character  at  index  0  :  V\n",
    "\t\t\t\t\t\t\t\t                 Character  at  index  1  :  A\n",
    "\t\t\t\t\t\t\t\t                 Character  at  index  2  :  M\n",
    "\t\t\t\t\t\t\t                     Character  at  index  3  :  S\n",
    "\t\t\t\t\t\t\t\t                 Character  at  index  4  :  I\n",
    "\n",
    "\t\t\t\t\t\t\t\t                 Character  at  index  -1  :  I\n",
    "\t\t\t\t\t\t\t\t                 Character  at  index  -2  :  S\n",
    "\t\t\t\t\t\t\t\t                 Character  at  index  -3  :  M\n",
    "\t\t\t\t\t\t\t\t                 Character  at  index  -4  :  A\n",
    "\t\t\t\t\t\t\t\t                 Character  at  index  -5  :  V\n",
    "\n",
    "Hint:  Use  two  for  loops\n",
    "'''"
   ]
  },
  {
   "cell_type": "code",
   "execution_count": 48,
   "id": "a40dab3a",
   "metadata": {},
   "outputs": [
    {
     "name": "stdout",
     "output_type": "stream",
     "text": [
      "Character  at  index  0  : V\n",
      "Character  at  index  1  : A\n",
      "Character  at  index  2  : M\n",
      "Character  at  index  3  : S\n",
      "Character  at  index  4  : I\n",
      "\n",
      "Character  at  index  -1  : I\n",
      "Character  at  index  -2  : S\n",
      "Character  at  index  -3  : M\n",
      "Character  at  index  -4  : A\n",
      "Character  at  index  -5  : V\n"
     ]
    }
   ],
   "source": [
    "inp=input(\"Enter  any  string  : \")\n",
    "for i in range(len(inp)):\n",
    "    print(F'Character  at  index  {i}  : {inp[i]}')\n",
    "print()\n",
    "for i in range(-1,-(len(inp)+1),-1):\n",
    "    print(F'Character  at  index  {i}  : {inp[i]}')\n"
   ]
  },
  {
   "cell_type": "markdown",
   "id": "79fe0c47",
   "metadata": {},
   "source": [
    "'''\n",
    "Write  a  program  to  print  first  two  and  the  last  two  characters  of  the  string\n",
    "Print  an  empty  string  if  string  has  less  than  four  characters\n",
    "\n",
    "1) Let  input  be  PYTHON\n",
    "    What  is  the  output ?  ---> PYON\n",
    "\n",
    "2) Let  input  be  Hyd\n",
    "    What  is  the  output ?  --->  Nothing\n",
    "'''"
   ]
  },
  {
   "cell_type": "code",
   "execution_count": 50,
   "id": "ba76bf3a",
   "metadata": {},
   "outputs": [
    {
     "name": "stdout",
     "output_type": "stream",
     "text": [
      "Nothing\n"
     ]
    }
   ],
   "source": [
    "inp=input(\"Enter an string :\")\n",
    "n=len(inp)\n",
    "if n>4:\n",
    "    print(inp[:2]+inp[-2:])\n",
    "else:\n",
    "    print(\"Nothing\")"
   ]
  },
  {
   "cell_type": "markdown",
   "id": "012c7e5c",
   "metadata": {},
   "source": [
    "'''\n",
    "Write  a  program  to  concatenate  two  strings  separated  by  space  but  swap  first  two\n",
    "characters  of  the  two  strings.\n",
    "Assume  that  each  string  has  a   minimum  of  two  characters\n",
    "\n",
    "Let  inputs  be  Java  and  Python\n",
    "What  are  the  outputs ?  --->  Pyva<space>Jathon\n",
    "\n",
    "Hint:  Use  slice\n",
    "'''"
   ]
  },
  {
   "cell_type": "code",
   "execution_count": 53,
   "id": "c947d40b",
   "metadata": {},
   "outputs": [
    {
     "name": "stdout",
     "output_type": "stream",
     "text": [
      "Input  should  be  a  min  of  2-char  string\n"
     ]
    }
   ],
   "source": [
    "s1=input(\"Enter first string: \")\n",
    "s2=input(\"Enter second string: \")\n",
    "if len(s1)>2 and len(s2)>2:\n",
    "    o1=s2[:2]+s1[2:]\n",
    "    o2=s1[:2]+s2[2:]\n",
    "    print(f'Result  :   {o1} {o2}')\n",
    "else:\n",
    "    print(\"Input  should  be  a  min  of  2-char  string\")"
   ]
  },
  {
   "cell_type": "code",
   "execution_count": null,
   "id": "8fd4657e",
   "metadata": {},
   "outputs": [
    {
     "name": "stdout",
     "output_type": "stream",
     "text": [
      "Rm a\n",
      "Rama Ra\n",
      "ma\n",
      "ma Rao\n",
      "Rama\n",
      "Rm a\n",
      "ma Ra\n",
      "ma Rao\n",
      "oaR\n",
      "Ra\n",
      "Rao\n",
      "Rama Rao\n",
      "Rama Rao\n",
      "oaR amaR\n",
      "oRaa\n",
      "a mR\n",
      "ma Rao\n",
      "\n",
      "oaR a\n",
      "ma \n",
      "aaR\n",
      "o\n",
      "m\n",
      "m\n",
      "oaR ama\n",
      "aa\n"
     ]
    }
   ],
   "source": [
    "'''  (Home  work)\n",
    "Slice  demo  program\n",
    "0      1       2        3      4       5       6       7\n",
    "R      a      m        a               R       a       o\n",
    "-8    -7     -6      -5     -4      -3     -2      -1\n",
    "'''\n",
    "a = 'Rama Rao'\n",
    "print(a [ : 7 : 2])#Rm a\n",
    "print(a [ : 7])#Rama Ra\n",
    "print(a [2 : 4])#ma\n",
    "print(a [2 : ])#ma Rao\n",
    "print(a [ : 4 ])#Rama\n",
    "print(a [ : : 2])#Rm a\n",
    "print(a [-6 : -1])#ma Ra\n",
    "print(a [-6 : ])#ma Rao\n",
    "print(a [: -4 : -1])#oaR\n",
    "print(a [-3 : -1]) #  a[-3 : -1 : 1]  --->  string  from  indexes  -3  to  -2  in  steps  of  1  i.e.  Ra\n",
    "print(a [-3 : ])#Rao\n",
    "print(a [ : : ])#Rama Rao\n",
    "print(a [ : ])#Rama Rao\n",
    "print(a [ : : -1])#oaR amaR\n",
    "print(a [ : : -2])#oRaa\n",
    "print(a [ -2 : : -2])  #  a[-2 : -9 : -2]  --->  string  from  indexes  -2  to  -8  in  steps  of  -2  i.e.  a<space>mR\n",
    "print(a [2 : 8])#ma Rao\n",
    "print(a [2 : 8 : -1])#' '\n",
    "print(a [ : -6 : -1])#oaR a\n",
    "print(a [2 : -3])#ma\n",
    "print(a [1 : 6 : 2])#aaR\n",
    "print(a [ : -5 : -5])#o\n",
    "print(a [2 : -5])#o\n",
    "print(a [2 : -5 : 2])#m\n",
    "print(a [ : 0 : -1])#oaR ama\n",
    "print(a [-5 : 0 : -2])#aa"
   ]
  },
  {
   "cell_type": "code",
   "execution_count": 55,
   "id": "0ac0d652",
   "metadata": {},
   "outputs": [
    {
     "name": "stdout",
     "output_type": "stream",
     "text": [
      "True\n",
      "True\n",
      "False\n",
      "True\n",
      "False\n",
      "True\n",
      "False\n"
     ]
    }
   ],
   "source": [
    "# Find outputs  (Home  work)\n",
    "print( 'green'   in   'Hyd  is  green  city')#True\n",
    "print('day'   in   'Sankar  dayal  sarma')#True\n",
    "print('Green'   in   'Hyd  is  green  city')#Flase\n",
    "print('d  is'   in   'Hyd  is  green  city')#True\n",
    "print('dis'   in   'Hyd  is  green  city')#False\n",
    "print('iniv'   in   'Srinivas')#True\n",
    "print('iniv'   not   in   'Srinivas')#False"
   ]
  },
  {
   "cell_type": "markdown",
   "id": "8aa1b73a",
   "metadata": {},
   "source": [
    "'''\n",
    "Write  a  program  to  sort  command  line  inputs  in  ascending  order  and  descending  order\n",
    "\n",
    "1) py  prog5.py  10   20    15.8   5   12.6\n",
    "    What  is  argv ?  ---> ['prog5.py' , '10' , '20' , '15.8' , '5' , '12.6']\n",
    "    What  is  list  'a' ?  --->  [10 , 20 , 15.8 , 5 , 12.6]\n",
    "    How  to  sort  list  'a' ?  --->  sorted(a)\n",
    "    How  to  sort  list  'a'  in  descending  order  ?  ---> sorted(a , reverse = True)\n",
    "\n",
    "2) py  prog5.py   25   'Ten'\n",
    "    What  is  the  output ?  --->  Pls  don't  send  number  and  string  inputs  together\n",
    "'''"
   ]
  },
  {
   "cell_type": "markdown",
   "id": "45257d90",
   "metadata": {},
   "source": [
    "'''\n",
    "Write  a  program  to  print  distinct  vowels  of  the  string  without  using  set\n",
    "\n",
    "1) Let  input  be   RaMA  rAo\n",
    "    What  is  the  output ?  ---> AO\n",
    "\n",
    "2) Hint  1:  Same  as   prog3e  with  minor  changes\n",
    "\n",
    "3) What  does  'hyd' . upper()  do ? --->  Returns  'HYD'\n",
    "'''"
   ]
  },
  {
   "cell_type": "code",
   "execution_count": 1,
   "id": "de2adc6a",
   "metadata": {},
   "outputs": [
    {
     "name": "stdout",
     "output_type": "stream",
     "text": [
      "AO\n"
     ]
    }
   ],
   "source": [
    "inp=input(\"Enter an string :\").upper()\n",
    "result=''\n",
    "for i in inp:\n",
    "    if  i=='A' or i=='E' or i=='I' or i=='O' or i=='U':\n",
    "        if i not in result:\n",
    "            result+=i\n",
    "print(result)"
   ]
  }
 ],
 "metadata": {
  "kernelspec": {
   "display_name": "Python 3",
   "language": "python",
   "name": "python3"
  },
  "language_info": {
   "codemirror_mode": {
    "name": "ipython",
    "version": 3
   },
   "file_extension": ".py",
   "mimetype": "text/x-python",
   "name": "python",
   "nbconvert_exporter": "python",
   "pygments_lexer": "ipython3",
   "version": "3.12.6"
  }
 },
 "nbformat": 4,
 "nbformat_minor": 5
}

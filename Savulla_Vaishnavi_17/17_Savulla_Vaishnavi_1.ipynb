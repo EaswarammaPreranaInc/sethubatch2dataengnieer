{
 "cells": [
  {
   "cell_type": "code",
   "execution_count": null,
   "metadata": {},
   "outputs": [],
   "source": [
    "# float  object  demo  program (Home  work)\n",
    "a = 10.8\n",
    "print(a) # 10.8 will be printed\n",
    "print(type(a)) # <class ‘float’>\n",
    "print(id(a))#  return address of the a lets suppose 1234\n",
    "b = 25.\n",
    "print(b) # 25.0 n will be printed\n",
    "print(type(b)) # <class ‘int’>\n",
    "c = .689\n",
    "print(c) # 0.689 will be printed\n",
    "d = 3.4E2\n",
    "print(d) # 3.4*10^2 = 340.0 as it was the float return value\n",
    "print(type(d)) # <class ‘float’>\n",
    "e = 9.62e-2 \n",
    "print(e) # 9.62*10^-2=0.0962\n",
    "#print(9.8.2) #  error becz decimal will have one ‘.’\n"
   ]
  },
  {
   "cell_type": "code",
   "execution_count": null,
   "metadata": {},
   "outputs": [],
   "source": [
    "# complex object demo program\n",
    "a = 3 + 4j\n",
    "print(a) # 3+4j will be printed\n",
    "print(type(a)) # <class ‘complex’>\n",
    "print(id(a)) # return address of the a lets suppose 1234\n",
    "print(a . real) # 3.0 will be printed\n",
    "print(a . imag) # 4.0 will be printed\n",
    "print(type(a . real)) # <class ‘float’>\n",
    "print(type(a . imag)) # <class ‘float’>\n"
   ]
  },
  {
   "cell_type": "code",
   "execution_count": null,
   "metadata": {},
   "outputs": [],
   "source": [
    "# Find outputs (Home work)\n",
    "a = 6j\n",
    "print(a) # 6j will be printed\n",
    "print(type(a)) # <class ‘complex’>\n",
    "print(a.real) # 0.0 will be printed\n",
    "print(a.imag)# 6.0 will be printed\n",
    "#print(5 + j6) # error becz ‘j’ should be after the number\n",
    "#print(3 + 4i)  # error becz ‘I’ is not consider as complex number\n",
    "#print(4+j) # error bcz ‘1j’ we should write\n",
    "print(4 + 1j)# 4+1j will be printed\n",
    "print(4 + 0j) # 4.0 will be printed\n"
   ]
  },
  {
   "cell_type": "code",
   "execution_count": null,
   "metadata": {},
   "outputs": [],
   "source": [
    "# bool object demo program  (Home  work)\n",
    "a = True\n",
    "print(a) # True will be printed\n",
    "print(type(a))# <class ‘bool’>\n",
    "print(id(a))  # return address of the a lets suppose 1234\n",
    "b = False \n",
    "print(b) # False will be printed\n",
    "print(type(b)) #<class ‘bool’>\n",
    "print(True + True) # 2 will be printed\n",
    "print(True + False) # 1 will be printed\n",
    "print(False + True) # 1 will be printed\n",
    "print(False + False) # 0 will be printed\n",
    "print(True + True + True) # 3 will be printed\n",
    "print(25 + 10.8 + True) # 36.8  will be printed\n",
    "print(True > False) # True\n",
    "print(True) # True\n",
    "print(False) # False\n",
    "#print(true)# error as True is keyword ‘T’ should be capital\n",
    "#print(false) # error as False is keyword ‘F’ should be capital\n"
   ]
  },
  {
   "cell_type": "code",
   "execution_count": null,
   "metadata": {},
   "outputs": [],
   "source": [
    "# Find  outputs (Home  work)\n",
    "a = 0O6247\n",
    "print(a) #3239 will be printed\n",
    "print(type(a))# <class ‘int’>\n",
    "print(id(a)) # return address of the a lets suppose 1231\n",
    "b = 0o6247\n",
    "print(id(b)) # return address of the a lets suppose 1231\n",
    "print(b) # 3239 will be printed\n",
    "c = 3239\n",
    "print(c) # 3239 will be printed\n",
    "print(id(c)) # return address of the a lets suppose 1231\n",
    "#print(0o9248)#  error becz ‘9’ is not octal decimal\n"
   ]
  },
  {
   "cell_type": "code",
   "execution_count": null,
   "metadata": {},
   "outputs": [],
   "source": [
    "# Find  outputs  (Home  work)\n",
    "a = 0XA7B9\n",
    "print(a) # 42937 will be printed\n",
    "print(type(a)) #<class ‘int’>\n",
    "b = 0xBEEF\n",
    "print(b)# 48879 will be printed\n",
    "#print(A7B9) # error as it was not starting with 0X at starting\n",
    "#print('A7B9') # A7B9 will be printed\n",
    "#print(0XBEER)# error bcz  hexa decimal has from ‘A-F’\n",
    "#print(0XHYD) # error bcz  hexa decimal has from ‘A-F’\n",
    "#print(0xA7G9B) # error bcz  hexa decimal has from ‘A-F’\n"
   ]
  },
  {
   "cell_type": "code",
   "execution_count": null,
   "metadata": {},
   "outputs": [],
   "source": [
    "# Find outputs (Home  work)\n",
    "a = 9248\n",
    "print(a) #9248 will be printed\n",
    "print(type(a))# <class ‘int’>\n"
   ]
  },
  {
   "cell_type": "code",
   "execution_count": null,
   "metadata": {},
   "outputs": [],
   "source": [
    "#  Find  outputs  (Home  work)\n",
    "a = \"Rama Rao\"\n",
    "print(a) # Rama Rao \n",
    "print(type(a))#<class ‘str’>\n",
    "print(id(a))# address of ref a lets be 1234\n",
    "b = 'Hyd'\n",
    "print(b)#Hyd\n",
    "c = '''Hyd is green city.\n",
    "Hyd is hitec city.\n",
    "Hyd is beautiful city.'''\n",
    "print(c)# Hyd is green city.\n",
    "#Hyd is hitec city.\n",
    "#Hyd is beautiful city.\n"
   ]
  },
  {
   "cell_type": "code",
   "execution_count": null,
   "metadata": {},
   "outputs": [],
   "source": [
    "# Index   demo  program  (Home  work)\n",
    "a = 'Hyd'\n",
    "print(a[0]) #print(How  to  print  'H'  of  object  'a')\n",
    "print(a[1])#print(How  to  print  'y'  of  object  'a')\n",
    "print(a[2])#print(How  to  print  'd'  of  object  'a')\n",
    "#print(a[3])#Error bcz index value from 0 to 2\n",
    "print(a[-1])#print(How  to  print  'd'  of  object  'a')\n",
    "print(a[-2])#print(How  to  print  'y'  of  object  'a')\n",
    "print(a[-3])#print(How  to  print  'H'  of  object  'a')\n",
    "#print(a[-4])# Error bcz index value from -1 to -3\n",
    "print(a[0] ==  a[-3])#True\n",
    "#a[2] = 'c'\n",
    "#print(25[0])#Error int cannot be split\n",
    "print('25'[0])#2\n",
    "#print(True[1])# Error bool cannot be split\n",
    "print('True'[1])# r\n"
   ]
  },
  {
   "cell_type": "code",
   "execution_count": null,
   "metadata": {},
   "outputs": [],
   "source": [
    "#  Find  outputs  (Home work)\n",
    "a = 'Hyd'\n",
    "print(a * 3)# HydHydHyd\n",
    "print(a * 2)# HydHyd\n",
    "print(a * 1)# Hyd\n",
    "print(a * 0)#’’\n",
    "print(a * -1)#’’\n",
    "print(25 * 3)# 75\n",
    "print('25' * 3)#252525\n",
    "#print('25' * 4.0)# error bcz string cannot be multiply with float \n",
    "print(3 * 'Hyd')# HydHydHyd\n",
    "print('25' * True)#25"
   ]
  },
  {
   "cell_type": "code",
   "execution_count": null,
   "metadata": {},
   "outputs": [],
   "source": [
    "#  Find  outputs  (Home work)\n",
    "a = 'Hyd'\n",
    "print(a , id(a)) #Hyd , address of a lets be 1234\n",
    "a = a * 3\n",
    "print(a , id(a)) #HydHydHyd ,address of a lets be 1235\n"
   ]
  },
  {
   "cell_type": "code",
   "execution_count": null,
   "metadata": {},
   "outputs": [],
   "source": [
    "# len()  function  (Home  work)\n",
    "print(len('Hyd'))#3\n",
    "print(len('Rama Rao'))#8\n",
    "print(len('9247'))#4\n",
    "print(len(''))#0\n",
    "print(len(' '))#1\n",
    "#print(len(689))#Error becz ‘689’ is int type"
   ]
  },
  {
   "cell_type": "code",
   "execution_count": null,
   "metadata": {},
   "outputs": [],
   "source": [
    "# Find  outputs  (Home  work)\n",
    "a = \"\"\"\"Hyd\"\"\"\n",
    "#print(a) #Error ‘”’ was has starting 4 “ where as 3 “ ending\n",
    "#print(len(a))# Error ‘”’ was has starting 4 “ where as 3 “ ending\n",
    "#print(a[0])# Error ‘”’ was has starting 4 “ where as 3 “ ending\n",
    "#print(\"\"\"Hyd\"\"\"\")# Error ‘”’ was has starting 3 “ where as 4 “ ending\n",
    "b = \"\"\"\"\"Hyd\"\"\"\n",
    "#print(b)# Error ‘”’ was has starting 5 “ where as 3 “ ending\n",
    "#print(len(b))# Error ‘”’ was has starting 5 “ where as 3 “ ending\n"
   ]
  },
  {
   "cell_type": "code",
   "execution_count": null,
   "metadata": {},
   "outputs": [],
   "source": [
    "# Find  outputs\n",
    "a = 'Sankar Dayal Sarma'\n",
    "print(a[7 : 12]) #Dayal<space>\n",
    "print(a[7 : ])# Dayal<space>Sarma\n",
    "print(a[ : 6])# Sankar<space>\n",
    "print(a[ : ])  #  a[ 0 :  18  : 1]  --->   string  from  indexes  0  to  17  in  steps  of   1  i.e.  #Sankar<space>Dayal<space>Sarma\n",
    "print(a[:  : ]) #Sankar<space>Dayal<space>Sarma\n",
    "print(a[1 : 10 : 2])# akrDy\n",
    "print(a[0 : : 2])#Sna<space>aa<space>am\n",
    "print(a[1 : : 2])#akrDylSra\n",
    "print(a[-5 : -1])#Sarm\n",
    "print(a[::-1])#amraS<space>layaD<space>raknaS\n",
    "print(a[-1:-5:-1])# amra\n",
    "print(a[ : : -2]) #   a[-1 :  -19 : -2]  --->  string  from  indexes  -1  to  -18  in  steps  of   -2  i.e.arSlyDrka\n",
    "print(a[3 : -3])#kar<space>Dayal<space>Sa\n",
    "print(a[2 : -5])#nkar<space>Dayal<space>\n",
    "print(a[-1:-5])# empty result\n",
    "print(a[3 : 3])# empty result"
   ]
  },
  {
   "cell_type": "code",
   "execution_count": null,
   "metadata": {},
   "outputs": [],
   "source": [
    "#  Find  outputs  (Home  work)\n",
    "a =  'A'\n",
    "#print(a[1])# error becz out of range\n",
    "#print(a[1:])#error out of range\n",
    "\n",
    "# int()  function  demo  program\n",
    "print(int(10.8))  #  Converts  float   object  10.8  to  int  object  10\n",
    "print(int(True))  #  Converts  bool   object    True  to  int  object 1\n",
    "print(int(False)) #  Converts  bool   object    True  to  int  object 0\n",
    "print(int('25')) #  Converts  str   object    25 to  int  object 25\n",
    "print(int('0075')) #  Converts  str   object   0075  to  int  object 75\n",
    "print(int(0B11010))#  Converts  binary   object    11010 to  int  object 26\n",
    "print(0B11010)#26\n",
    "print(int(0O6247))# Converts  octal   object    0O6247 to  int  object 3239\n",
    "print(0O6247)# 3239\n",
    "print(int(0XA7B9)) # Converts  octal   object    0XA7B9 to  int  object 42937\n",
    "print(0XA7B9)# 42937\n",
    "#print(int(3 + 4j)) #Error complex cannot be int\n",
    "#print(int('25.4'))# Error as after conerting string of 25.4 to int\n",
    "#print(int('Ten'))# ))# Error as after conerting string of Ten to int\n",
    "\n"
   ]
  },
  {
   "cell_type": "code",
   "execution_count": null,
   "metadata": {},
   "outputs": [],
   "source": [
    "# float()  function  demo  program\n",
    "print(float(25))  #  Converts  int  object  25  to  float  object   25.0\n",
    "print(float(True))   #  Converts  bool  object   True   to  float  object   1.0\n",
    "print(float(False)) #  Converts  bool  object   False   to  float  object   0.0\n",
    "print(float('92'))#   Converts  int  object   92   to  float  object   92.0\n",
    "print(float('36.4')) #  Converts  str  object   36.4   to  float  object   36.4\n",
    "print(float('0075')) #  Converts  str  object   0075   to  float  object   75.0\n",
    "print(float(0B1010101))# Converts  binary to dec object   85   to  float  object   85.0\n",
    "print(float(0O6247))# Converts  oct to dec  object   3239 to  float  object   3239.0\n",
    "print(float(0XA7B9))# Converts  hexa to dec  object   42937 to  float  object   42937.0\n",
    "#print(float(3 + 4j))# Error complex cannot be int\n",
    "#print(float('Ten')) # Error as after conerting string of Ten to int"
   ]
  },
  {
   "cell_type": "code",
   "execution_count": null,
   "metadata": {},
   "outputs": [],
   "source": [
    "# complex()  function  demo  program\n",
    "print(complex(3 , 4)) #(3+4j)\n",
    "print(complex(0 , 4))#(4j)\n",
    "print(complex(3))#(3+0j)\n",
    "print(complex(3.8 , 4.6))#(3.8+4.6j)\n",
    "print(complex(3.8))#(3.8+0j)\n",
    "print(complex(3 , 4.5))#(3+4.5j)\n",
    "print(complex(True , False))#(1+0j)\n",
    "print(complex(True))#(1+0j)\n",
    "print(complex(False))#(0j)\n",
    "print(complex(True , 4))#(1+4j)\n",
    "print(complex('3'))#(3+0j)\n",
    "print(complex('3.8'))#(3.8+0j)\n",
    "#print(complex(3 , '4'))#Error img cannot be string\n",
    "#print(complex('3' , 4)) #Error real cannot be string\n",
    "#print(complex('3' , '4'))# #Error real,img cannot be string\n",
    "#print(complex('Ten'))#Error string cannot be complex\n"
   ]
  },
  {
   "cell_type": "code",
   "execution_count": null,
   "metadata": {},
   "outputs": [],
   "source": [
    "#  bool()  function  demo  program\n",
    "print(bool(0)) #   False\n",
    "print(bool(10)) #   True :  10  is  non-zero\n",
    "print(bool(-25)) # True\n",
    "print(bool(0.0))#False\n",
    "print(bool(0.1)) #True\n",
    "print(bool(0 + 0j))#False\n",
    "print(bool(10 + 20j)) #True\n",
    "print(bool(-15j))#True\n",
    "print(bool('False'))#True\n",
    "print(bool(''))#False\n",
    "print(bool('Hyd'))#True\n",
    "print(bool(' '))#True\n",
    "print(bool('True'))#True\n"
   ]
  },
  {
   "cell_type": "code",
   "execution_count": null,
   "metadata": {},
   "outputs": [],
   "source": [
    "# str()  function  demo  program\n",
    "print(str(25))  #  Converts   25  to  '25'\n",
    "print(str(10.8)) # Converts 10.8 to ’10.8’\n",
    "print(str(3 + 4j))#Converts 3+4j to ‘3+4j’\n",
    "print(str(True))# Converts True’ to ‘True’\n",
    "print(str(False)) # Converts False to ‘False’\n",
    "print(str(None))# Converts None to ‘None’\n"
   ]
  },
  {
   "cell_type": "code",
   "execution_count": null,
   "metadata": {},
   "outputs": [],
   "source": [
    "# oct()  function  demo  program\n",
    "print(oct(195)) #0o303\n",
    "print(oct(0B10101110010))# 0o2562\n",
    "print(oct(0xA7B9)) #0o123671\n",
    "\n"
   ]
  },
  {
   "cell_type": "code",
   "execution_count": null,
   "metadata": {},
   "outputs": [],
   "source": [
    "# hex()  function  demo  program\n",
    "print(hex(25))#0X19\n",
    "print(hex(0B10101111010111))#0X2BD7\n",
    "print(hex(0O6247))#0XCA7\n"
   ]
  },
  {
   "cell_type": "code",
   "execution_count": null,
   "metadata": {},
   "outputs": [],
   "source": [
    "# Find  outputs    (Home  work)\n",
    "a = range(10 , 50 , 5)\n",
    "\n",
    "print(type(a)) #<class ‘range’>\n",
    "\n",
    "print(a) #range(10,50,5)\n",
    "\n",
    "print(*a)# 10 15 20 25 30 35 40 45\n",
    "\n",
    "print(id(a))#Address of *a\n",
    "\n",
    "print(len(a)) #8\n",
    "\n",
    "print(*a[2 : 7] , sep = ' , ')# 20,25,30,35,40,45 \n",
    "\n",
    "print(*a[ : : -1]) #45 40 35 30 25 20 15 10\n",
    "\n",
    "#a[4] = 32 # Error bcz range cannot be modified as it is an immutable\n",
    "\n",
    "#print(a * 2) # Error  bcz range cannot be modified as it is an immutable\n"
   ]
  },
  {
   "cell_type": "code",
   "execution_count": null,
   "metadata": {},
   "outputs": [],
   "source": [
    "#  Find  outputs  (Home  work)\n",
    "a = range(10 , 20)\n",
    "print(*a , sep = ',') # 10 , 11 , 12 , 13 , 14 ,15 , 16 , 17 , 18 , 19 \n",
    "b = range(5)\n",
    "print(*b)# 0  1  2  3  4\n",
    "c = range(10 , 1 , -1)\n",
    "print(*c , sep = '...') # 10...8…9...7...6...5...4...3...2\n",
    "d = range(-10 , 0)\n",
    "print(*d) # -10 -9 -8 -7 -6 -5 -4 -3 -2 -1\n",
    "e = range(-10)\n",
    "print(*e)#Empty bcz 0 will never approach to -10 if step value is 1\n",
    "f = range(2 , 2)\n",
    "#print(*f)#error bcz in range no duplicates allowed\n",
    "#g = range(10 , 11 , 0.1)# Error bcz decimal/float objects are not allowed\n",
    "#h = range('A' , 'F')#Error bcz only integer are allowed in range\n"
   ]
  },
  {
   "cell_type": "code",
   "execution_count": null,
   "metadata": {},
   "outputs": [],
   "source": [
    "#  Find  outputs  (Home  work)\n",
    "r = range(10 ,  17 , 3)\n",
    "a , b , c = r\n",
    "print(a , b , c) # 10, 13, 16\n",
    "r = range(3)\n",
    "#x , y = r # Error since unpack produces 0 1 2 where equates to x, y \n",
    "#p , q  , r , s = r # Error since unpack produces 0 1 2 where equates to p,q,r,s\n",
    "#a , b , c = *r  # 0 1 2\n"
   ]
  },
  {
   "cell_type": "code",
   "execution_count": null,
   "metadata": {},
   "outputs": [],
   "source": [
    "#  Find  outputs  (Home  Work)\n",
    "a = [25 , 10.8 , 'Hyd' , True , 3 + 4j , None , 'Hyd' , 25]\n",
    "print(a)# [25 , 10.8 , 'Hyd' , True , 3 + 4j , None , 'Hyd' , 25]\n",
    "print(*a)# 25 10.8 Hyd True 3+4j None Hyd 25\n",
    "print(type(a))# <class ‘list’>\n",
    "print(id(a))# address of obj a\n",
    "print(len(a))#8\n",
    "a[2] = 'Sec'\n",
    "print(a)# [25 , 10.8 , 'Sec' , True , 3 + 4j , None , 'Hyd' , 25]\n",
    "print(a[2 : 5])# ['Sec' , True , 3 + 4j]\n"
   ]
  },
  {
   "cell_type": "code",
   "execution_count": null,
   "metadata": {},
   "outputs": [],
   "source": [
    "# append()  and  remove()  methods  (Home  work)\n",
    "a = [ ]\n",
    "print(a)# []\n",
    "a . append(25)\n",
    "a . append(10.8)\n",
    "a . append('Hyd')\n",
    "a . append(True)\n",
    "print(a)#[25,10.8,’Hyd’,True]\n",
    "a . remove('Hyd')\n",
    "print(a)#[25,10.8,True]\n",
    "#a . remove('25')\n",
    "print(a)# Error becz in list 25 is an int not and string.\n"
   ]
  },
  {
   "cell_type": "code",
   "execution_count": null,
   "metadata": {},
   "outputs": [],
   "source": [
    "#  Find  outputs  (Home  work)\n",
    "a = [25 , 10.8 , 'Hyd']\n",
    "print(a) #[25 , 10.8 , 'Hyd']\n",
    "print(id(a)) # Address of obj a\n",
    "print(a * 3)#[ 25 , 10.8 , 'Hyd', 25 , 10.8 , 'Hyd', 25 , 10.8 , 'Hyd']\n",
    "print(a * 2)#[ 25 , 10.8 , 'Hyd', 25 , 10.8 , 'Hyd']\n",
    "print(a * 1)#[ 25 , 10.8 , 'Hyd']\n",
    "print(a * 0)#[]\n",
    "print(a * -1)#[]\n",
    "#print(a * 4.0)# Error operator should not have float value.\n",
    "a = a * 3\n",
    "print(a)# [ 25 , 10.8 , 'Hyd', 25 , 10.8 , 'Hyd', 25 , 10.8 , 'Hyd']\n",
    "print(id(a))#Address of updated obj a\n",
    "a = [25]\n",
    "#print(a * a)#Error operator can only be int not list\n"
   ]
  },
  {
   "cell_type": "code",
   "execution_count": null,
   "metadata": {},
   "outputs": [],
   "source": [
    "# list()  function  demo  program\n",
    "a = list('Hyd')\n",
    "print(a)#[‘Hyd’]\n",
    "print(type(a))#<class ‘list’>\n",
    "print(len(a))#1\n",
    "b = (10 , 20 , 15 , 18)\n",
    "print(list(b))#[10,20,15,18]\n",
    "print(list(range(5)))#[0,1,2,3,4]\n",
    "#print(list(25))#Error bcz sequences cannot be converted.\n"
   ]
  },
  {
   "cell_type": "code",
   "execution_count": null,
   "metadata": {},
   "outputs": [],
   "source": [
    "# Find  outputs\n",
    "a = [ ]\n",
    "print(type(a))# <class ‘list’>\n",
    "print(a)#[]\n",
    "print(len(a))#0\n",
    "b = list()\n",
    "print(len(b))#0"
   ]
  },
  {
   "cell_type": "code",
   "execution_count": null,
   "metadata": {},
   "outputs": [],
   "source": [
    "list = [25 , 10.8 , 3 + 4j , 'Hyd' , True , None , 10.8 , 'Hyd']\n",
    "#           -8     -7       -6            -5         -4           -3       -2        -1\n",
    "\n",
    "print(list[2 : 7])#[ 3 + 4j , 'Hyd' , True , None , 10.8]\n",
    "print(list[ : : ])# [25 , 10.8 , 3 + 4j , 'Hyd' , True , None , 10.8 , 'Hyd']\n",
    "print(list[:]) #  list[0 :  8 :  1]  --->  List  from  indexes  0  to  7  in  steps  of  1  i.e.  [25 , 10.8 , 3 + 4j , 'Hyd' , True , None , 10.8 , 'Hyd']\n",
    "print(list[ : : -1])#[‘Hyd’, 10.8,None,True,’Hyd’,3+4j,10.8,25]\n",
    "print(list[ : : 2])# [25 , 3 + 4j , True , 10.8 ]\n",
    "print(list[1 : : 2])# [ 10.8 ,  'Hyd' ,  None , 'Hyd']\n",
    "print(list[ : : -2]) #  list[-1 :  -9 : -2]  --->  List  from  indexes   -1  to  -8  in  steps  of   -2   i.e.  ['Hyd' , None , 'Hyd' , 10.8]\n",
    "print(list[-2 : : -2])#[-2:-9:-2] [10.8,True,3+4j,25]\n",
    "print(list[1 : 4])#[10.8,3+4j,’Hyd’]\n",
    "print(list[-4 : -1])#[True,None,10.8]\n",
    "print(list[3 : -3])#[‘Hyd’,True]\n",
    "print(list[2 : -5])#[3+4j]\n",
    "print(list[-1:-5])#[]"
   ]
  },
  {
   "cell_type": "code",
   "execution_count": null,
   "metadata": {},
   "outputs": [],
   "source": [
    "#        0             1      2             3         4             5         6        7\n",
    "list = [25 , 10.8 , 3+4j , 'Hyd' , True , None , 10.8 , 'Hyd']\n",
    "x ,  y = list[3 : 5]\n",
    "print('x : ' , x)#x:Hyd\n",
    "print('y : ' , y)#y:True\n",
    "for  x  in  list[2:7]:\n",
    "\tprint(x)#3+4j <next line>’Hyd’ <next line>True<next line>None<next line>10.8\n"
   ]
  },
  {
   "cell_type": "code",
   "execution_count": null,
   "metadata": {},
   "outputs": [],
   "source": [
    "a = [10 , 20 , 30 , 40 , 50]\n",
    "print(a , id(a))# [10 , 20 , 30 , 40 , 50] Address of a\n",
    "a[1 : 4] = [60 , 70]\n",
    "print(a , id(a))#[10,60,70,50]\n",
    "a[2: 4] = [100 , 200 ,  300]\n",
    "print(a , id(a))# [10,60,100,200,300]\n"
   ]
  },
  {
   "cell_type": "code",
   "execution_count": null,
   "metadata": {},
   "outputs": [],
   "source": [
    "#  Find  outputs  (Home  work)\n",
    "a =  [25]\n",
    "#print(a[1])#Error as no index 1\n",
    "#print(a[1:])#Error since no index 1\n"
   ]
  },
  {
   "cell_type": "code",
   "execution_count": null,
   "metadata": {},
   "outputs": [],
   "source": [
    "# How  to  print  list  in  two  differnet ways  (Home  work)\n",
    "a = [25 , True , 'Hyd' , 10.8]\n",
    "print(a)\n",
    "#print(a[i])\n",
    "for x in a:\n",
    "   print(x)\n",
    "for i in range(len(a)):\n",
    "  print(a[i])\n"
   ]
  },
  {
   "cell_type": "code",
   "execution_count": null,
   "metadata": {},
   "outputs": [],
   "source": [
    "# Find  outputs  (Home  work)\n",
    "a = (25)\n",
    "b = 25,\n",
    "c = 25\n",
    "d = (25,)\n",
    "print(type(a))#<class ‘int’>\n",
    "print(type(b)) #<class ‘tuple’>\n",
    "print(type(c)) #<class ‘int’>\n",
    "print(type(d)) #<class ‘tuple’>\n",
    "print(a * 4)#100\n",
    "print(b * 4)#(25,25,25,25)\n",
    "print(c * 4)#100\n",
    "print(d * 4)# (25,25,25,25)\n"
   ]
  },
  {
   "cell_type": "code",
   "execution_count": null,
   "metadata": {},
   "outputs": [],
   "source": [
    "# tuple()  function  demo  program  (Home  work)\n",
    "a = tuple('Hyd')\n",
    "print(a)#(‘H’,’y’,’d’)\n",
    "print(type(a))#<class ‘tuple’>\n",
    "print(len(a))#3\n",
    "b = [10 , 20 , 15 , 18]\n",
    "print(tuple(b))#(10 , 20 , 15 , 18)\n",
    "print(tuple(range(5)))#(0,1,2,3,4)\n",
    "#print(tuple(25))#Error since 25 is an sequence element\n"
   ]
  },
  {
   "cell_type": "code",
   "execution_count": null,
   "metadata": {},
   "outputs": [],
   "source": [
    "# Find  outputs (Home  work)\n",
    "a = ()\n",
    "print(type(a))#<class ‘tuple’> \n",
    "print(a)#()\n",
    "print(len(a))#0\n",
    "b = tuple()\n",
    "print(b)#()\n",
    "print(len(b))#0\n"
   ]
  },
  {
   "cell_type": "code",
   "execution_count": null,
   "metadata": {},
   "outputs": [],
   "source": [
    "# Tricky program\n",
    "# Find  outputs (Home  work)\n",
    "a = (10 , 20 , 30)\n",
    "print(a) #(10,20,30)\n",
    "print(id(a))#Address of a\n",
    "a = a * 2\n",
    "print(a)#(10,20,30,10,20,30)\n",
    "print(id(a))#address of updated a\n"
   ]
  },
  {
   "cell_type": "code",
   "execution_count": null,
   "metadata": {},
   "outputs": [],
   "source": [
    "a = {25 , 10.8 , 'Hyd' , True , 3+4j , None , 25 , 'Hyd'}\n",
    "print(a)# {25 , 10.8 , 'Hyd' , True , 3+4j , None }\n",
    "print(type(a))#<class ‘set’>\n",
    "print(len(a))#6\n",
    "#print(a[2])#Error as set don’t have index as it in unordered\n",
    "#print(a[1 : 4])#Error as set don’t have index for slicing as it in unordered\n",
    "#a[2] = 'Sec'#Error as set don’t have index as it in unordered\n",
    "#print(a * 2)#Error no duplicates\n",
    "#print(a * a) #Error no duplicates\n"
   ]
  },
  {
   "cell_type": "code",
   "execution_count": null,
   "metadata": {},
   "outputs": [],
   "source": [
    "# Tricky  program\n",
    "# Find  outputs (Home  work)\n",
    "a = {1 , 'Hyd' , False , True , 0.0 , '' , 1.0 ,  0}\n",
    "print(a)# {1 , 'Hyd' , False   , '' }\n",
    "print(len(a))#4\n",
    "print(type(a))#<class ‘tuple’>\n"
   ]
  },
  {
   "cell_type": "code",
   "execution_count": null,
   "metadata": {},
   "outputs": [],
   "source": [
    "#  set()  function demo  program\n",
    "a = set('Rama rAo')\n",
    "print(a) #(R,a,m,r,o,A,’’)\n",
    "print(len(a))#7\n",
    "print(set([10 , 20 , 15 , 20]))#Error  list is mutable\n",
    "print(set((25 , 10.8 , 'Hyd' , 10.8)))# (25 , 10.8 , 'Hyd' )\n",
    "print(set(range(10 , 20 , 3)))#(10,13,16,19)\n",
    "#print(set(25))#Error as 25 it non-sequence is not allowed type cast\n",
    "#print(set([25 , 10.8 , [] , 'Hyd']))#Error list is mutable.\n"
   ]
  },
  {
   "cell_type": "code",
   "execution_count": 1,
   "metadata": {},
   "outputs": [
    {
     "name": "stdout",
     "output_type": "stream",
     "text": [
      "<class 'list'>\n",
      "<class 'tuple'>\n",
      "<class 'dict'>\n",
      "<class 'set'>\n",
      "[]\n",
      "()\n",
      "{}\n",
      "set()\n"
     ]
    }
   ],
   "source": [
    "a =   [ ]\n",
    "b =   ( )\n",
    "c =   {}\n",
    "d =   set()\n",
    "print(type(a))#<class ‘list’>\n",
    "print(type(b)) #<class ‘tuple’>\n",
    "print(type(c)) #<class ‘dic’>\n",
    "print(type(d)) #<class ‘set’>\n",
    "print(a)#[]\n",
    "print(b)#\n",
    "print(c)#{}\n",
    "print(d)#set()\n"
   ]
  },
  {
   "cell_type": "code",
   "execution_count": null,
   "metadata": {},
   "outputs": [],
   "source": [
    "# Tricky  program\n",
    "# add()  and  remove()  methods  (Home  work)\n",
    "a = set()\n",
    "a . add(25)\n",
    "a . add(10.8)\n",
    "a . add('Hyd')\n",
    "a . add(True)\n",
    "a . add(None)\n",
    "a . add('Hyd')\n",
    "a . add(1)\n",
    "print(a)#{25,10.8,Hyd,True,None}\n",
    "print(len(a))#5\n",
    "a . remove(25)\n",
    "print(a)# {10.8,Hyd,True,None}\n",
    "#a . append(100)#Error set we have add method\n",
    "#a . add(set())#Error set we have cannot add set method\n",
    "a . add(())#{10.8,Hyd,True,None,()}\n",
    "#a . add([])#Error as empty list cannot be added to set\n",
    "print(a)\n",
    "#a . add({})\n"
   ]
  },
  {
   "cell_type": "code",
   "execution_count": null,
   "metadata": {},
   "outputs": [],
   "source": [
    "# How  to  print  set  in  two  differnet ways  (Home  work)\n",
    "a = {25 , True , 'Hyd' , 10.8}\n",
    "print('set  with  print  function')\n",
    "#Print(a)\n",
    "print('Iterate  thru  set  with  for  loop')\n",
    "for x in a:\n",
    "      print(x)\n"
   ]
  },
  {
   "cell_type": "code",
   "execution_count": null,
   "metadata": {},
   "outputs": [],
   "source": [
    "# Find  outputs  (Home  work)\n",
    "a = {10 : 'Ramesh' , 20 : 'Kiran' , 15 : 'Amar' , 18 : 'Sita'}\n",
    "print(a) #{10 : 'Ramesh' , 20 : 'Kiran' , 15 : 'Amar' , 18 : 'Sita'}\n",
    "print(type(a))#<class ‘dict’>\n",
    "print(a[10])#How  to  obtain  value  key  10)\n",
    "print(a[20])#How  to  obtain  value  key  20)\n",
    "print(a[15])#How  to  obtain  value  key  15)\n",
    "print(a[18])#How  to  obtain  value  key  18)\n",
    "#print(a[19])#Error bcz no key value with ‘19’\n",
    "#print(a[0])# Error bcz no key value with ‘0’\n",
    "#print(a['Amar'])# Error bcz we cannot extract key using value \n",
    "a[15]='Krishna'#How  to  modify  value  of   key  15  to  'Krishna'\n",
    "del a[20]#How  to  remove  20 :  'Kiran'  from  dict  'a'\n",
    "#del a[25]#How  to  append  25 : 'Vamsi'  to  dict  'a' # throws error becz no key with ‘25’\n",
    "print(a) #{10 : 'Ramesh' , 15 : 'Krishna', 18 : 'Sita'}\n",
    "print(len(a))#3\n",
    "#print(a * 2)#Error as dic does not contains duplicates\n"
   ]
  },
  {
   "cell_type": "code",
   "execution_count": null,
   "metadata": {},
   "outputs": [],
   "source": [
    "# Find  outputs  (Home  work)\n",
    "a = {10 : 'Hyd' , 10 : 'Sec'}\n",
    "print(a) #{10 : Sec’ }\n",
    "print(len(a))#1\n",
    "b = {'R' : 'Red' , 'G' : 'Green' , 'B' : 'Blue' , 'Y' : 'Yellow' , 'G' : 'Gray' , 'B' : 'Black'}\n",
    "print(b)# {'R' : 'Red' , 'G' : 'Green' , 'B' : 'Blue' , 'Y' : 'Yellow'}\n",
    "\n",
    "print(len(b))#4\n"
   ]
  },
  {
   "cell_type": "code",
   "execution_count": null,
   "metadata": {},
   "outputs": [],
   "source": [
    "#  Tricky  program\n",
    "# Find output  (Home  work)\n",
    "a = {True : 'Yes' , 1 : 'No' , 1.0 : 'May  be'}\n",
    "print(a)#(True :’Yes’}\n",
    "print(len(a))#1\n"
   ]
  },
  {
   "cell_type": "code",
   "execution_count": null,
   "metadata": {},
   "outputs": [],
   "source": [
    "# Find  outputs\n",
    "#a = { [ ] : 25}# Error becz list cannot be in key value is error\n",
    "b = { ( ) : 25}\n",
    "print(b)# { ( ) : 25}\n",
    "#c = { { } : 25}# Error becz dict cannot be in key value is error\n",
    "d = {'Ramesh' : [9948250500, 9848565090, 9440250404]}\n",
    "print(d)#(‘Ramesh’: [9948250500, 9848565090, 9440250404]}\n",
    "print(len(d))#1\n",
    "#e = {set() : 10.8}# Error becz set cannot be in key value is error\n"
   ]
  },
  {
   "cell_type": "code",
   "execution_count": null,
   "metadata": {},
   "outputs": [],
   "source": [
    "# Find  outputs\n",
    "a = {}\n",
    "print(type(a))#<class ‘dict’>\n",
    "print(len(a))#0\n",
    "print(a)#{}\n",
    "b = dict()\n",
    "print(type(b))#<class ‘dict’>\n",
    "print(len(b))#0\n",
    "print(b)#{}\n"
   ]
  }
 ],
 "metadata": {
  "kernelspec": {
   "display_name": "Python 3",
   "language": "python",
   "name": "python3"
  },
  "language_info": {
   "codemirror_mode": {
    "name": "ipython",
    "version": 3
   },
   "file_extension": ".py",
   "mimetype": "text/x-python",
   "name": "python",
   "nbconvert_exporter": "python",
   "pygments_lexer": "ipython3",
   "version": "3.12.6"
  }
 },
 "nbformat": 4,
 "nbformat_minor": 2
}

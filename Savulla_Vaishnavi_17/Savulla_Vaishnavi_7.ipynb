{
 "cells": [
  {
   "cell_type": "markdown",
   "id": "0cfab7fd",
   "metadata": {},
   "source": [
    "25/08/25"
   ]
  },
  {
   "cell_type": "code",
   "execution_count": null,
   "id": "d489b80f",
   "metadata": {},
   "outputs": [
    {
     "name": "stdout",
     "output_type": "stream",
     "text": [
      "{40, 30}\n",
      "<class 'set'>\n",
      "{40, 30}\n",
      "<class 'set'>\n",
      "False\n",
      "True\n"
     ]
    },
    {
     "data": {
      "text/plain": [
       "\"\\nintersection()  method\\n---------------------------\\n1) What  does  a . intersection(b)  do ?  --->  Returns  a  set  with  common  elements  of  sets   'a'  and  'b'\\n\\n2) Is  set . intersection(list)  valid  ?  --->\\n\\t\\t\\t\\t\\t\\t\\t\\tYes  becoz  argument  of  intersection()  method  can  be  any  sequence  but  not  necessarily  set\\n\\n3) What  is  another  way  to  obtain  common  elements ?  --->  a & b\\n\\n4) Is  set & list  valid ?  --->  No  becoz  operands  of  &  operator  should  be  sets  only\\n\\n5) Is  list . intersection(set)  valid ?  --->  No  becoz  there  is  no  intersection()  method  in  list  class\\n\""
      ]
     },
     "execution_count": 1,
     "metadata": {},
     "output_type": "execute_result"
    }
   ],
   "source": [
    "#  intersection()   method  demo  program (Home  work)\n",
    "a = {10 , 20 , 30 , 40}\n",
    "b = {30 , 40 , 50 , 60}\n",
    "c = a . intersection(b)\n",
    "print(c)#{30,40}\n",
    "print(type(c))#<class 'set'>\n",
    "d = a & b\n",
    "print(d)#{30,40}\n",
    "print(type(d))#<class 'set'>\n",
    "print(c  is  d)#False\n",
    "print(c  ==  d)#True\n",
    "\n",
    "\n",
    "'''\n",
    "intersection()  method\n",
    "---------------------------\n",
    "1) What  does  a . intersection(b)  do ?  --->  Returns  a  set  with  common  elements  of  sets   'a'  and  'b'\n",
    "\n",
    "2) Is  set . intersection(list)  valid  ?  --->\n",
    "\t\t\t\t\t\t\t\tYes  becoz  argument  of  intersection()  method  can  be  any  sequence  but  not  necessarily  set\n",
    "\n",
    "3) What  is  another  way  to  obtain  common  elements ?  --->  a & b\n",
    "\n",
    "4) Is  set & list  valid ?  --->  No  becoz  operands  of  &  operator  should  be  sets  only\n",
    "\n",
    "5) Is  list . intersection(set)  valid ?  --->  No  becoz  there  is  no  intersection()  method  in  list  class\n",
    "'''"
   ]
  },
  {
   "cell_type": "code",
   "execution_count": 2,
   "id": "325138c0",
   "metadata": {},
   "outputs": [
    {
     "name": "stdout",
     "output_type": "stream",
     "text": [
      "{10, 20}\n",
      "<class 'set'>\n",
      "{10, 20}\n",
      "<class 'set'>\n",
      "False\n",
      "True\n"
     ]
    },
    {
     "data": {
      "text/plain": [
       "\"\\ndifference()  method\\n------------------------\\n1) What  does  a . difference(b)  do ? --->  Returns  a  set  with  those  elements  of  set  'a'  which  are  not  in  'b'\\n\\n2) Is  set . difference(list)  valid  ?  --->\\n\\t\\t\\t\\t\\t\\t\\tYes  becoz  argument  of  difference()  method  can  be  any  sequence  but  not  necessarily  set\\n\\n3) What  is  the  alternative  to  a . difference(b) ?  --->  a - b\\n\\n4) Is  set - list  valid ?  --->  No  becoz  operands  of  -  operator  should  be  sets  only\\n\""
      ]
     },
     "execution_count": 2,
     "metadata": {},
     "output_type": "execute_result"
    }
   ],
   "source": [
    "# difference()   method  demo  program  (Home  work)\n",
    "a = {10 , 20 , 30 , 40}\n",
    "b = {30 , 40 , 50 , 60}\n",
    "c = a . difference(b)\n",
    "print(c)#{10, 20}\n",
    "print(type(c))#<class 'set'>\n",
    "d = a - b\n",
    "print(d)#{10, 20}\n",
    "print(type(d))#<class 'set'>\n",
    "print(c  is  d)#False\n",
    "print(c  ==  d)#True\n",
    "\n",
    "\n",
    "'''\n",
    "difference()  method\n",
    "------------------------\n",
    "1) What  does  a . difference(b)  do ? --->  Returns  a  set  with  those  elements  of  set  'a'  which  are  not  in  'b'\n",
    "\n",
    "2) Is  set . difference(list)  valid  ?  --->\n",
    "\t\t\t\t\t\t\tYes  becoz  argument  of  difference()  method  can  be  any  sequence  but  not  necessarily  set\n",
    "\n",
    "3) What  is  the  alternative  to  a . difference(b) ?  --->  a - b\n",
    "\n",
    "4) Is  set - list  valid ?  --->  No  becoz  operands  of  -  operator  should  be  sets  only\n",
    "'''"
   ]
  },
  {
   "cell_type": "code",
   "execution_count": 3,
   "id": "3913c45e",
   "metadata": {},
   "outputs": [
    {
     "name": "stdout",
     "output_type": "stream",
     "text": [
      "{10, 50, 20, 60}\n",
      "<class 'set'>\n",
      "{10, 50, 20, 60}\n",
      "<class 'set'>\n",
      "False\n",
      "True\n"
     ]
    },
    {
     "data": {
      "text/plain": [
       "\"\\nsymmetric_difference()  method\\n---------------------------------------\\n1) What  does  a . symmetric_difference(b)  do ? --->  Returns  a  set  with  all  the  elements  of  sets   'a'  and  'b'  but\\n\\t\\t\\t\\t\\t\\t                                                              without  common  elements\\n\\t\\t\\t\\t\\t\\t\\t\\t\\t\\t\\t\\t\\t\\t\\t\\t\\t\\t\\t\\t\\t  i.e.  Union  -  Intersection\\n\\n2) Is  set . symmetric_difference(list)  valid  ?  --->  Yes  becoz  argument  can  be  any  sequence  but  not  necessarily  set\\n\\n3) What  is  the  alternative  to  a . symmetric_difference(b) ?  --->  a ^ b\\n\\n4) Is  set ^ list  valid ?  --->  No  becoz  operands  of  ^  operator  should  be  sets  only\\n\""
      ]
     },
     "execution_count": 3,
     "metadata": {},
     "output_type": "execute_result"
    }
   ],
   "source": [
    "# symmetric_difference()   method  demo  program  (Home  work)\n",
    "a = {10 , 20 , 30 , 40}\n",
    "b = {30 , 40 , 50 , 60}\n",
    "c = a . symmetric_difference(b)\n",
    "print(c)#{10, 20, 50, 60}\n",
    "print(type(c))#<class 'set'>\n",
    "d = a ^ b\n",
    "print(d)#{10, 20, 50, 60}\n",
    "print(type(d))#<class 'set'>\n",
    "print(c   is   d)#False\n",
    "print(c  ==   d)#True\n",
    "\n",
    "\n",
    "'''\n",
    "symmetric_difference()  method\n",
    "---------------------------------------\n",
    "1) What  does  a . symmetric_difference(b)  do ? --->  Returns  a  set  with  all  the  elements  of  sets   'a'  and  'b'  but\n",
    "\t\t\t\t\t\t                                                              without  common  elements\n",
    "\t\t\t\t\t\t\t\t\t\t\t\t\t\t\t\t\t\t\t\t\t  i.e.  Union  -  Intersection\n",
    "\n",
    "2) Is  set . symmetric_difference(list)  valid  ?  --->  Yes  becoz  argument  can  be  any  sequence  but  not  necessarily  set\n",
    "\n",
    "3) What  is  the  alternative  to  a . symmetric_difference(b) ?  --->  a ^ b\n",
    "\n",
    "4) Is  set ^ list  valid ?  --->  No  becoz  operands  of  ^  operator  should  be  sets  only\n",
    "'''"
   ]
  },
  {
   "cell_type": "code",
   "execution_count": 4,
   "id": "847c18ba",
   "metadata": {},
   "outputs": [
    {
     "name": "stdout",
     "output_type": "stream",
     "text": [
      "{0, 1, 64, 4, 36, 9, 16, 49, 81, 25}\n",
      "<class 'set'>\n"
     ]
    }
   ],
   "source": [
    "# Find  outputs  (Home  work)\n",
    "a = {x * x  for   x   in   range(10)}\n",
    "print(a)#{0, 1, 4, 9, 16, 25, 36, 49, 64, 81}\n",
    "print(type(a))#<class 'set'>"
   ]
  },
  {
   "cell_type": "markdown",
   "id": "c5972b18",
   "metadata": {},
   "source": [
    "'''\n",
    "(Home  work)\n",
    "Write  a  program  to  remove  duplicate  characters  of  the  string  using  set\n",
    "\n",
    "1) Let  input  be   Rama  Rao\n",
    "    What  is  the  output  ? --->  Ram<space>o\n",
    "\n",
    "2) Both  input  and  output  are  strings\n",
    "\n",
    "3) How  to  convert  string  to  set  ?  --->  set(string)\n",
    "    How  to  convert  set  to  string ?  --->  '' . join(set)\n",
    "\n",
    "4) What  is  the  result  of  str({'H' , 'y' , 'd'})  ? --->  \"{'H' , 'y' , 'd'}\"  but  not  'Hyd'\n",
    "'''\n",
    "Enter  input  string :  Rama Rao\n",
    "String  without  duplicates  :   ao mR"
   ]
  },
  {
   "cell_type": "code",
   "execution_count": 8,
   "id": "fedd093f",
   "metadata": {},
   "outputs": [
    {
     "name": "stdout",
     "output_type": "stream",
     "text": [
      "String  without  duplicates  :   yHd\n"
     ]
    }
   ],
   "source": [
    "inp=input(\"Enter  input  string :  \")\n",
    "result=''\n",
    "print(\"String  without  duplicates  :  \",  result.join(set(inp)))"
   ]
  }
 ],
 "metadata": {
  "kernelspec": {
   "display_name": "Python 3",
   "language": "python",
   "name": "python3"
  },
  "language_info": {
   "codemirror_mode": {
    "name": "ipython",
    "version": 3
   },
   "file_extension": ".py",
   "mimetype": "text/x-python",
   "name": "python",
   "nbconvert_exporter": "python",
   "pygments_lexer": "ipython3",
   "version": "3.12.6"
  }
 },
 "nbformat": 4,
 "nbformat_minor": 5
}

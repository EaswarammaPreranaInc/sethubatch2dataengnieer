{
 "cells": [
  {
   "cell_type": "markdown",
   "id": "f8fc3168",
   "metadata": {},
   "source": [
    "'''\n",
    "Modify  following  program  with  walrus  operator\n",
    "\n",
    "Hint:  Combine  lines  7 , 8  and  10  to  a  single  line  with  walrus  operator\n",
    "'''\n",
    "a = 'Hyd is green city. Hyd is hitec city. Hyd is his cityi'\n",
    "index = a . find('is')\n",
    "while  index != -1:\n",
    "\tprint(index)\n",
    "\tindex = a . find('is' , index + 1)\n",
    "print('End')"
   ]
  },
  {
   "cell_type": "code",
   "execution_count": 5,
   "id": "053ee3bf",
   "metadata": {},
   "outputs": [
    {
     "name": "stdout",
     "output_type": "stream",
     "text": [
      "4\n",
      "23\n",
      "42\n",
      "46\n",
      "End\n"
     ]
    }
   ],
   "source": [
    "a = 'Hyd is green city. Hyd is hitec city. Hyd is his cityi'\n",
    "while (index :=a.find('is',index+1))!=-1:\n",
    "    print(index)\n",
    "print('End')"
   ]
  },
  {
   "cell_type": "markdown",
   "id": "21ab5fa0",
   "metadata": {},
   "source": [
    "'''  (Home  work)\n",
    "index()  method  demo  program\n",
    "\n",
    "Modify  the  following  program  with  index()  method\n",
    "'''\n",
    "a = 'Hyd is green city. Hyd is hitec city. Hyd is his cityi'\n",
    "index = a . find('is')\n",
    "while  index != -1:\n",
    "\tprint(index)\n",
    "\tindex = a . find('is' , index + 1)\n",
    "print('End')\n",
    "\n",
    "\n",
    "\n",
    "'''\n",
    "index()  method\n",
    "-------------------\n",
    "It  is  same  as  find()  method  except  that  it  throws   error (but  not  -1) when  string  is  not  found\n",
    "\n",
    "Syntax :  Same  as   find()  method\n",
    "'''"
   ]
  },
  {
   "cell_type": "code",
   "execution_count": 12,
   "id": "b50b1c3a",
   "metadata": {},
   "outputs": [
    {
     "name": "stdout",
     "output_type": "stream",
     "text": [
      "4\n",
      "23\n",
      "42\n",
      "46\n",
      "End\n"
     ]
    }
   ],
   "source": [
    "a = 'Hyd is green city. Hyd is hitec city. Hyd is his city'\n",
    "try:\n",
    "    start=0\n",
    "    while True:\n",
    "        b=a.index('is',start)\n",
    "        print(b)\n",
    "        start=b+1\n",
    "except ValueError:\n",
    "    print('End')"
   ]
  },
  {
   "cell_type": "markdown",
   "id": "00d11ac1",
   "metadata": {},
   "source": [
    "'''(Home  work)\n",
    "rfind()  method  demo  program\n",
    "\n",
    "Modify  following  program  with  rfind()  method\n",
    "'''\n",
    "a = 'Hyd is green city. Hyd is hitec city. Hyd is his city'\n",
    "index = a . find('is')\n",
    "while  index != -1:\n",
    "\tprint(index)\n",
    "\tindex = a . find('is' , index + 1)\n",
    "print('End')\n",
    "\n",
    "\n",
    "'''\n",
    "rfind()  method\n",
    "-------------------\n",
    "1) What  does  str1 . rfind(str2 , x , y)  do ?  --->   Returns  index  of  str2  in  str1   between  indexes  y - 1  downto  x\n",
    "\t\t\t\t\t\t\t\t\t\t\t\t\t\t\t\t\t\t\t  i.e. right  to  left\n",
    "\n",
    "2) What  does  str1 . rfind(str2)  do ?  --->  Returns  index  of  str2  in  str1   between  indexes  len(str1) - 1  downto  0\n",
    "\t\t\t\t\t\t\t\t\t\t\t\t\t\t\t\t     i.e. right  to  left\n",
    "\n",
    "3) What  does  str1 . rfind(str2 , x)  do ?  --->  Returns  index  of  str2  in  str1   between  indexes  x  to  len(str1) - 1\n",
    "\t\t\t\t\t\t\t\t\t\t\t\t\t\t                  i.e.  left  to  right\n",
    "\n",
    "4) How  many  arguments  can  rfind()  method  take ?  --->  1 (or) 3  but  not  2\n",
    "\n",
    "5) What  is  the  issue  with  two  arguments ?  --->  Method  searches  from  left  to  right  even  though  it  is  rfind()  method\n",
    "\n",
    "6) What  does  rfind()  method  return  (+ve  (or)  -ve  index) ?  --->  +ve  index  even  though  search  is  from  right  to  left\n",
    "\n",
    "7) What  does  rfind()  method  do  if  str2  is  not  in  str1 ?  --->  Returns  -1"
   ]
  },
  {
   "cell_type": "code",
   "execution_count": 27,
   "id": "66050412",
   "metadata": {},
   "outputs": [
    {
     "name": "stdout",
     "output_type": "stream",
     "text": [
      "46\n",
      "42\n",
      "23\n",
      "4\n",
      "End\n"
     ]
    }
   ],
   "source": [
    "a = 'Hyd is green city. Hyd is hitec city. Hyd is his city'\n",
    "end=len(a)\n",
    "while True:\n",
    "    end=a.rfind('is',0,end)\n",
    "    if end==-1:\n",
    "        break\n",
    "    print(end)\n",
    "print('End')"
   ]
  },
  {
   "cell_type": "markdown",
   "id": "2a1de7e5",
   "metadata": {},
   "source": [
    "'''  (Home  work)\n",
    "rindex()   method  demo  program\n",
    "\n",
    "Modify  following  program  with  rindex()  method\n",
    "\n",
    "Hint: Use   try  and  except\n",
    "'''\n",
    "a = 'Hyd is green city. Hyd is hitec city. Hyd is his cityi'\n",
    "index = a . find('is')\n",
    "while  index != -1:\n",
    "\tprint(index)\n",
    "\tindex = a . find('is' , index + 1)\n",
    "print('End')\n",
    "\n",
    "\n",
    "'''\n",
    "rindex()  method\n",
    "--------------------\n",
    "It  is  same  as   rfind()  method  except  that  it  throws  error  but  not  -1  when  string  is  not  found\n",
    "'''"
   ]
  },
  {
   "cell_type": "code",
   "execution_count": 29,
   "id": "e3f72d17",
   "metadata": {},
   "outputs": [
    {
     "name": "stdout",
     "output_type": "stream",
     "text": [
      "46\n",
      "42\n",
      "23\n",
      "4\n",
      "End\n"
     ]
    }
   ],
   "source": [
    "a = 'Hyd is green city. Hyd is hitec city. Hyd is his city'\n",
    "try:\n",
    "    end=len(a)\n",
    "    while True:\n",
    "        end=a.rindex('is',0,end)\n",
    "        print(end)\n",
    "        if end==-1:\n",
    "            break\n",
    "except ValueError:\n",
    "    print('End')"
   ]
  },
  {
   "cell_type": "code",
   "execution_count": null,
   "id": "5fa8276b",
   "metadata": {},
   "outputs": [
    {
     "name": "stdout",
     "output_type": "stream",
     "text": [
      "4\n",
      "3\n",
      "0\n"
     ]
    },
    {
     "data": {
      "text/plain": [
       "'\\ncount()\\n---------\\n1) What  does  str1 . count(str2)  do ? --->  Returns  number  of  times  str2  is  found  in  str1\\n\\n2) What  does  str1 . count(str2 , x , y)  do ? --->\\n\\t\\t\\t\\t\\t\\t\\t\\t\\t\\t\\t\\t\\t\\tReturns  number  of  times  str2  is  found  in  str1  between  indexes  x  and  y - 1\\n'"
      ]
     },
     "execution_count": 30,
     "metadata": {},
     "output_type": "execute_result"
    }
   ],
   "source": [
    "#  count()  method  demo  program (Home  work)\n",
    "a = 'Hyd is green city. Hyd is hitec city. Hyd is his city'\n",
    "print(a . count('is')) #4\n",
    "print(a . count('is' , 19 , 48))#3\n",
    "print(a . count('was'))#0\n",
    "\n",
    "\n",
    "'''\n",
    "count()\n",
    "---------\n",
    "1) What  does  str1 . count(str2)  do ? --->  Returns  number  of  times  str2  is  found  in  str1\n",
    "\n",
    "2) What  does  str1 . count(str2 , x , y)  do ? --->\n",
    "\t\t\t\t\t\t\t\t\t\t\t\t\t\tReturns  number  of  times  str2  is  found  in  str1  between  indexes  x  and  y - 1\n",
    "'''"
   ]
  },
  {
   "cell_type": "code",
   "execution_count": null,
   "id": "4f98267a",
   "metadata": {},
   "outputs": [
    {
     "name": "stdout",
     "output_type": "stream",
     "text": [
      "3\n",
      "3\n",
      "3\n"
     ]
    }
   ],
   "source": [
    "#  Find  outputs  (Home  work)\n",
    "a = 'Hyd is\\tgreen\\ncity.Hyd is\\thitec\\ncity.Hyd is\\this\\ncity'\n",
    "print(a . count(' '))#3\n",
    "print(a . count('\\t'))#3\n",
    "print(a . count('\\n'))#3"
   ]
  },
  {
   "cell_type": "markdown",
   "id": "a3aeacbb",
   "metadata": {},
   "source": [
    "'''\n",
    "Write  a  program  to  replace  every  occurance  of  first  character  in  the  string  with  '*'  except  first  character\n",
    "\n",
    "Let  input  be  'babble'\n",
    "What  is  the  output ?  ---> ba**le\n",
    "'''"
   ]
  },
  {
   "cell_type": "code",
   "execution_count": 53,
   "id": "4f77ce4b",
   "metadata": {},
   "outputs": [
    {
     "name": "stdout",
     "output_type": "stream",
     "text": [
      "ba**le\n"
     ]
    }
   ],
   "source": [
    "inp=input(\"Enter an string : \")#apple\n",
    "f=inp[0]\n",
    "new=''\n",
    "new+=f\n",
    "for i in range(1,len(inp)):\n",
    "    if inp[i]==f:\n",
    "        new+='*'\n",
    "    else:\n",
    "        new+=inp[i]\n",
    "print(new)\n"
   ]
  },
  {
   "cell_type": "code",
   "execution_count": null,
   "id": "089466c5",
   "metadata": {},
   "outputs": [
    {
     "name": "stdout",
     "output_type": "stream",
     "text": [
      "['15', '36', '48']\n",
      "15:36:48\n"
     ]
    }
   ],
   "source": [
    "#  Find  outputs  (Home  work)\n",
    "a = '15:36:48'\n",
    "print(a . split(':'))#['15','36','48']\n",
    "print(a)#15:36:48"
   ]
  },
  {
   "cell_type": "code",
   "execution_count": null,
   "id": "00ad6f92",
   "metadata": {},
   "outputs": [
    {
     "name": "stdout",
     "output_type": "stream",
     "text": [
      "['Hyd\\nis', 'green\\tcity']\n",
      "['Hyd', 'is', 'green', 'city']\n",
      "['Hyd\\nis ', '\\tcity']\n"
     ]
    }
   ],
   "source": [
    "# Find  outputs  (Home  work)\n",
    "a = 'Hyd\\nis green\\tcity'\n",
    "print(a . split(' '))#['Hyd\\nis', 'green\\tcity']\n",
    "print(a . split())#['Hyd', 'is', 'green', 'city']\n",
    "print(a . split('green'))#['Hyd\\nis ', '\\tcity']\n",
    "#print(a . split(''))#error bcz split with empty string"
   ]
  },
  {
   "cell_type": "code",
   "execution_count": null,
   "id": "e15397d2",
   "metadata": {},
   "outputs": [
    {
     "name": "stdout",
     "output_type": "stream",
     "text": [
      "['Hyd', 'is', 'green', 'city']\n",
      "['Hyd', 'is', 'green', 'city']\n",
      "['Hyd\\tis\\tgreen\\tcity']\n"
     ]
    }
   ],
   "source": [
    "# Find  outputs  (Home  work)\n",
    "a = 'Hyd\tis\tgreen\tcity' #  There  is  tab  between  the  words\n",
    "print(a . split('\\t'))#['Hyd','is,'green','city']\n",
    "print(a . split())#['Hyd', 'is', 'green', 'city']\n",
    "print(a . split(' '))#['Hyd\\tis\\tgreen\\tcity']"
   ]
  },
  {
   "cell_type": "code",
   "execution_count": 58,
   "id": "466cbdf4",
   "metadata": {},
   "outputs": [
    {
     "name": "stdout",
     "output_type": "stream",
     "text": [
      "['Hyd', 'is', 'green', 'city']\n",
      "['Hyd', '', '', 'is', '', '', 'green', '', '', 'city']\n"
     ]
    }
   ],
   "source": [
    "# Find  outputs (Home  work)\n",
    "a = 'Hyd   is   green   city'  #  There  are  3  spaces  between  the  words\n",
    "print(a . split())#['Hyd', 'is', 'green', 'city']\n",
    "print(a . split(' '))#['Hyd', 'is', 'green', 'city']"
   ]
  },
  {
   "cell_type": "code",
   "execution_count": 59,
   "id": "743fb8d2",
   "metadata": {},
   "outputs": [
    {
     "name": "stdout",
     "output_type": "stream",
     "text": [
      "['www', 'gmail', 'com']\n"
     ]
    }
   ],
   "source": [
    "# Find  outputs  (Home  work)\n",
    "a = 'www.gmail.com'\n",
    "print(a . split('.'))#['www','gmail','com']"
   ]
  },
  {
   "cell_type": "markdown",
   "id": "02d86b1e",
   "metadata": {},
   "source": [
    "'''\n",
    "Write  a  program  to  evaluate  an  expression  which  contains  only  +  symbols\n",
    "Let  input  be  123+45+6+789\n",
    "Print  the  sum  result\n",
    "'''"
   ]
  },
  {
   "cell_type": "code",
   "execution_count": 61,
   "id": "a2c81e0d",
   "metadata": {},
   "outputs": [
    {
     "name": "stdout",
     "output_type": "stream",
     "text": [
      "963\n"
     ]
    }
   ],
   "source": [
    "inp=input(\"Enter an expression using + : \")\n",
    "a=inp.split('+')\n",
    "sum=0\n",
    "for i in a:\n",
    "    sum+=int(i)\n",
    "print(sum)"
   ]
  },
  {
   "cell_type": "code",
   "execution_count": 64,
   "id": "31f37a98",
   "metadata": {},
   "outputs": [
    {
     "name": "stdout",
     "output_type": "stream",
     "text": [
      "15:36:48\n",
      "Hyd is green city\n",
      "20,15,25,52,10\n",
      "www.gmail.com\n",
      "SankarDayalSarma\n"
     ]
    }
   ],
   "source": [
    "#  Find  outputs  (Home  work)\n",
    "a = ['15' , '36' , '48']\n",
    "print(':' . join(a))#15:36:48\n",
    "b = ('Hyd' , 'is' , 'green' , 'city')\n",
    "print(' ' . join(b))#Hyd is green city\n",
    "c = {'10' , '20' , '15' , '25' , '52'}\n",
    "print(',' . join(c))#10,20,15,25,52\n",
    "d = ['www' , 'gmail', 'com']\n",
    "print('.' . join(d))#www.gmail.com\n",
    "e = [15 , 36 , 48]\n",
    "#print(':' . join(e))#Error\n",
    "f = ['Sankar' , 'Dayal' , 'Sarma']\n",
    "print('' . join(f))#SankardayalSarma\n",
    "g = range(5)\n",
    "#print('-' . join(g))#Error"
   ]
  },
  {
   "cell_type": "code",
   "execution_count": null,
   "id": "2a44c4e9",
   "metadata": {},
   "outputs": [
    {
     "name": "stdout",
     "output_type": "stream",
     "text": [
      "True\n",
      "False\n",
      "True\n",
      "False\n",
      "True\n"
     ]
    }
   ],
   "source": [
    "# endswith()  method  demo  progrram (Home  work)\n",
    "a = 'Hyd is green city'\n",
    "print(a . endswith('city'))#True\n",
    "print(a . endswith('town'))#False\n",
    "print(a . endswith('green' , 3 , 12))#True\n",
    "print(a . endswith('green' , 3 , 13))#False\n",
    "print(a . endswith(' ' , 3 , 13))#True"
   ]
  },
  {
   "cell_type": "markdown",
   "id": "2076b642",
   "metadata": {},
   "source": [
    "'''\n",
    "Write  a  program  to  append  'ing'  to  input  string.\n",
    "Append  'ly'  to  the  string  if  the  string  already  ends  with  'ing'.\n",
    "Leave  the  string  unchanged  if  string  has  lessthan  three  characters\n",
    "\n",
    "1) What  is  the  output  if  input  is  'interest' ?  ---> interesting\n",
    "\n",
    "2) What  is  the  output  if  input  is  'interesting' ? --->  interestingly\n",
    "\n",
    "3) What  is  the  output  if  input  is  Hi ?  --->  Hi  itself\n",
    "'''"
   ]
  },
  {
   "cell_type": "code",
   "execution_count": 69,
   "id": "92215029",
   "metadata": {},
   "outputs": [
    {
     "name": "stdout",
     "output_type": "stream",
     "text": [
      "Hi\n"
     ]
    }
   ],
   "source": [
    "inp=input(\"Enter an string at least more than 3 charcters : \")\n",
    "if len(inp)>3 and inp.endswith('ing') :\n",
    "    print(f'{inp}ly')\n",
    "elif len(inp)<3:\n",
    "    print(inp)\n",
    "else:\n",
    "    print(f'{inp}ing')\n"
   ]
  },
  {
   "cell_type": "code",
   "execution_count": 70,
   "id": "df24f3a3",
   "metadata": {},
   "outputs": [
    {
     "name": "stdout",
     "output_type": "stream",
     "text": [
      "True\n",
      "False\n",
      "False\n",
      "False\n",
      "False\n",
      "False\n",
      "False\n",
      "False\n",
      "False\n"
     ]
    },
    {
     "data": {
      "text/plain": [
       "'\\nisalpha()  method\\n---------------------\\n1) When  does  the  method  return  True ? --->  When  every  character  of  the  string  is  alphabet\\n\\n2) When  does  it  return  False  ?  ---> When  at  least  one  character  of  the  string  is  non-alphabet(i.e. digit (or) special  character)\\n\\t\\t\\t\\t\\t\\t\\t\\t\\t\\t\\t\\t\\t\\t\\t\\t\\t\\t\\t\\t\\t    (or)\\n\\t\\t\\t\\t\\t\\t\\t\\t\\t\\t\\t\\t\\t\\t\\t  When  there  are  no  alphabets  in  the  string\\n'"
      ]
     },
     "execution_count": 70,
     "metadata": {},
     "output_type": "execute_result"
    }
   ],
   "source": [
    "#  isalpha()  method  demo  program (Home  work)\n",
    "print('Hyd'  . isalpha())  #   True\n",
    "print('Rama  Rao'  . isalpha()) #   False\n",
    "print('Hyd4'  . isalpha())#False\n",
    "print('Hyd$'  . isalpha())#False\n",
    "print('9247'  .  isalpha())#False\n",
    "print('+-$'    .  isalpha())#False\n",
    "print('A2#'  .   isalpha())#False\n",
    "print(''  .  isalpha())#False\n",
    "print(' '  .  isalpha())#False\n",
    "\n",
    "\n",
    "\n",
    "'''\n",
    "isalpha()  method\n",
    "---------------------\n",
    "1) When  does  the  method  return  True ? --->  When  every  character  of  the  string  is  alphabet\n",
    "\n",
    "2) When  does  it  return  False  ?  ---> When  at  least  one  character  of  the  string  is  non-alphabet(i.e. digit (or) special  character)\n",
    "\t\t\t\t\t\t\t\t\t\t\t\t\t\t\t\t\t\t\t\t\t    (or)\n",
    "\t\t\t\t\t\t\t\t\t\t\t\t\t\t\t  When  there  are  no  alphabets  in  the  string\n",
    "'''"
   ]
  },
  {
   "cell_type": "code",
   "execution_count": 72,
   "id": "29bac5eb",
   "metadata": {},
   "outputs": [
    {
     "name": "stdout",
     "output_type": "stream",
     "text": [
      "True\n",
      "False\n",
      "False\n",
      "False\n",
      "False\n",
      "False\n",
      "False\n",
      "False\n"
     ]
    },
    {
     "data": {
      "text/plain": [
       "'\\nisdigit()  method\\n--------------------\\n1) When  does  the  method  return  True  ?  --->  When  every  character  of  the  string  is  a  digit\\n\\n2) When  does  it  return  False ?  --->  When  at  least  one  character  of  the  string  is  non-digit(i.e. alphabet  (or) special  character)\\n\\t\\t\\t\\t\\t\\t\\t\\t\\t\\t\\t\\t\\t\\t\\t\\t\\t\\t\\t\\t\\t   (or)\\n\\t\\t\\t\\t\\t\\t\\t\\t\\t\\t\\t\\t\\t\\t\\t  When  there  are  no  digits  in  the  string\\n'"
      ]
     },
     "execution_count": 72,
     "metadata": {},
     "output_type": "execute_result"
    }
   ],
   "source": [
    "# isdigit()  method  demo  program  (Home  work)\n",
    "print('9247' . isdigit())  # True\n",
    "print('92a47' . isdigit())  # False\n",
    "print('92$47' . isdigit())#False\n",
    "print('Hyd' . isdigit())#False\n",
    "print('+-$' . isdigit())#False\n",
    "print('A2#' . isdigit())#False\n",
    "print('' . isdigit())#False\n",
    "print(' ' . isdigit())#False\n",
    "#print(9247 . isdigit())#Error\n",
    "\n",
    "\n",
    "'''\n",
    "isdigit()  method\n",
    "--------------------\n",
    "1) When  does  the  method  return  True  ?  --->  When  every  character  of  the  string  is  a  digit\n",
    "\n",
    "2) When  does  it  return  False ?  --->  When  at  least  one  character  of  the  string  is  non-digit(i.e. alphabet  (or) special  character)\n",
    "\t\t\t\t\t\t\t\t\t\t\t\t\t\t\t\t\t\t\t\t\t   (or)\n",
    "\t\t\t\t\t\t\t\t\t\t\t\t\t\t\t  When  there  are  no  digits  in  the  string\n",
    "'''"
   ]
  },
  {
   "cell_type": "code",
   "execution_count": null,
   "id": "94cdbbb7",
   "metadata": {},
   "outputs": [
    {
     "name": "stdout",
     "output_type": "stream",
     "text": [
      "False\n",
      "True\n",
      "False\n",
      "True\n",
      "False\n",
      "True\n",
      "True\n",
      "False\n",
      "True\n"
     ]
    },
    {
     "data": {
      "text/plain": [
       "'\\nisupper()  method\\n----------------------\\n1) When  does  the  method  return  False ?  --->  When  at  least  one  character  of  the  string  is  lowercase  alphabet\\n\\t\\t\\t\\t\\t\\t\\t\\t\\t\\t\\t\\t\\t\\t\\t\\t\\t\\t\\t\\t\\t\\t\\t\\t(or)\\n\\t\\t\\t\\t\\t\\t\\t\\t\\t\\t\\t\\t\\t\\t\\t                  When  there  are  no  uppercase  alphabets  in  the  string\\n\\n2) When  does  it  return  True ?  ---> When  there  are  no  lowercase  alphabets  in  the  string\\n\\t\\t\\t\\t\\t\\t\\t\\t\\t\\t\\t\\t\\t\\t\\t\\t\\t\\t\\t\\t\\t\\tand\\n\\t\\t\\t\\t\\t\\t\\t\\t\\t\\t\\t\\t\\t\\t\\tat  least  one  character  is  an  uppercase  alphabet\\n'"
      ]
     },
     "execution_count": 73,
     "metadata": {},
     "output_type": "execute_result"
    }
   ],
   "source": [
    "# isupper()  method  demo  program  (Home  work)\n",
    "print('HYd' . isupper())  #   False\n",
    "print('HYD' . isupper()) #   True\n",
    "print('9247' . isupper())  #   False\n",
    "print('RAMA  RAO' . isupper())#True\n",
    "print('+-$' . isupper())#False\n",
    "print('HYD123' . isupper())#True\n",
    "print('HYD+-$' . isupper())#True\n",
    "print('' . isupper())#False\n",
    "print('A2#' . isupper())#True\n",
    "\n",
    "\n",
    "'''\n",
    "isupper()  method\n",
    "----------------------\n",
    "1) When  does  the  method  return  False ?  --->  When  at  least  one  character  of  the  string  is  lowercase  alphabet\n",
    "\t\t\t\t\t\t\t\t\t\t\t\t\t\t\t\t\t\t\t\t\t\t\t\t(or)\n",
    "\t\t\t\t\t\t\t\t\t\t\t\t\t\t\t                  When  there  are  no  uppercase  alphabets  in  the  string\n",
    "\n",
    "2) When  does  it  return  True ?  ---> When  there  are  no  lowercase  alphabets  in  the  string\n",
    "\t\t\t\t\t\t\t\t\t\t\t\t\t\t\t\t\t\t\t\t\t\tand\n",
    "\t\t\t\t\t\t\t\t\t\t\t\t\t\t\tat  least  one  character  is  an  uppercase  alphabet\n",
    "'''"
   ]
  },
  {
   "cell_type": "code",
   "execution_count": 74,
   "id": "1098f6a6",
   "metadata": {},
   "outputs": [
    {
     "name": "stdout",
     "output_type": "stream",
     "text": [
      "False\n",
      "True\n",
      "False\n",
      "True\n",
      "False\n",
      "True\n",
      "True\n",
      "False\n",
      "True\n"
     ]
    },
    {
     "data": {
      "text/plain": [
       "'\\nislower()  method\\n---------------------\\n1) When  does  the  method  return  False ?  --->  When  at  least  one  character  of  the  string  is  uppercase  alphabet\\n\\t\\t\\t\\t\\t\\t\\t\\t\\t\\t\\t\\t\\t\\t\\t\\t\\t\\t\\t\\t\\t\\t\\t\\t(or)\\n\\t\\t\\t\\t\\t\\t\\t\\t\\t\\t\\t\\t\\t\\t\\t\\t\\t\\t\\t  When  there  are  no  lowercase  alphabets  in  the  string\\n\\n2) When  does  it  return  True ?  --->  When  there  are  no  uppercase  alphabets  in  the  string\\n\\t\\t\\t\\t\\t\\t\\t\\t\\t\\t\\t\\t\\t\\t\\t\\t\\t\\t\\t\\t\\t\\tand\\n\\t\\t\\t\\t\\t\\t\\t\\t\\t\\t\\t\\t\\t\\t\\t at  least  one  character  is  an  lowercase  alphabet\\n                                                             '"
      ]
     },
     "execution_count": 74,
     "metadata": {},
     "output_type": "execute_result"
    }
   ],
   "source": [
    "# islower()  method  demo  program  (Home  work)\n",
    "print('hyD' . islower())  #  False\n",
    "print('hyd' . islower())  #  True\n",
    "print('9247' . islower())  #  False\n",
    "print('rama  rao' . islower())#True\n",
    "print('+-$' . islower())#False\n",
    "print('hyd+-$' . islower())#True\n",
    "print('abc123' . islower())#True\n",
    "print('' . islower())#False\n",
    "print('a2#' . islower())#True\n",
    "\n",
    "\n",
    "'''\n",
    "islower()  method\n",
    "---------------------\n",
    "1) When  does  the  method  return  False ?  --->  When  at  least  one  character  of  the  string  is  uppercase  alphabet\n",
    "\t\t\t\t\t\t\t\t\t\t\t\t\t\t\t\t\t\t\t\t\t\t\t\t(or)\n",
    "\t\t\t\t\t\t\t\t\t\t\t\t\t\t\t\t\t\t\t  When  there  are  no  lowercase  alphabets  in  the  string\n",
    "\n",
    "2) When  does  it  return  True ?  --->  When  there  are  no  uppercase  alphabets  in  the  string\n",
    "\t\t\t\t\t\t\t\t\t\t\t\t\t\t\t\t\t\t\t\t\t\tand\n",
    "\t\t\t\t\t\t\t\t\t\t\t\t\t\t\t at  least  one  character  is  an  lowercase  alphabet\n",
    "                                                             '''"
   ]
  },
  {
   "cell_type": "code",
   "execution_count": 75,
   "id": "3aa7ce5e",
   "metadata": {},
   "outputs": [
    {
     "name": "stdout",
     "output_type": "stream",
     "text": [
      "False\n",
      "True\n",
      "False\n",
      "True\n",
      "True\n",
      "True\n",
      "False\n",
      "True\n"
     ]
    },
    {
     "data": {
      "text/plain": [
       "'\\nisalnum()  method\\n----------------------\\n1) When  does  it  return  False ?  --->  When  at  least  one  character  of  the  string  is  speical  character\\n\\t\\t\\t\\t\\t\\t\\t\\t\\t\\t\\t\\t\\t\\t\\t\\t\\t\\t\\t\\t\\t\\t(or)\\n\\t\\t\\t\\t\\t\\t\\t\\t\\t\\t\\t\\t\\t\\t\\t when  there  are  no  alphabets  and  digits\\n\\n2) When  does  it  return  True ?  ---> When  there  are  no  special  characters  in  the  string\\n\\t\\t\\t\\t\\t\\t\\t\\t\\t\\t\\t\\t\\t\\t\\t\\t\\t\\t\\t\\t\\t\\tand\\n\\t\\t\\t\\t\\t\\t\\t\\t\\t\\t\\t\\t\\t\\t\\t at  least  one  char  should  be  alphabet  (or)  digit\\n\\n3) What  is  isalpha()  +  isdigit()  called ?  ---> isalnum()\\n'"
      ]
     },
     "execution_count": 75,
     "metadata": {},
     "output_type": "execute_result"
    }
   ],
   "source": [
    "# isalnum()  method  demo  program  (Home  work)\n",
    "print('A7$g'  . isalnum())  #  False\n",
    "print('HYD' . isalnum())  #  True\n",
    "print('+-$' . isalnum())#False\n",
    "print('hyd' . isalnum())#True\n",
    "print('hYd' . isalnum())#True\n",
    "print('9247' . isalnum())#True\n",
    "print('' . isalnum())#False\n",
    "print('A7g9'  . isalnum())#True\n",
    "\n",
    "\n",
    "'''\n",
    "isalnum()  method\n",
    "----------------------\n",
    "1) When  does  it  return  False ?  --->  When  at  least  one  character  of  the  string  is  speical  character\n",
    "\t\t\t\t\t\t\t\t\t\t\t\t\t\t\t\t\t\t\t\t\t\t(or)\n",
    "\t\t\t\t\t\t\t\t\t\t\t\t\t\t\t when  there  are  no  alphabets  and  digits\n",
    "\n",
    "2) When  does  it  return  True ?  ---> When  there  are  no  special  characters  in  the  string\n",
    "\t\t\t\t\t\t\t\t\t\t\t\t\t\t\t\t\t\t\t\t\t\tand\n",
    "\t\t\t\t\t\t\t\t\t\t\t\t\t\t\t at  least  one  char  should  be  alphabet  (or)  digit\n",
    "\n",
    "3) What  is  isalpha()  +  isdigit()  called ?  ---> isalnum()\n",
    "'''"
   ]
  },
  {
   "cell_type": "code",
   "execution_count": 76,
   "id": "726cbf59",
   "metadata": {},
   "outputs": [
    {
     "name": "stdout",
     "output_type": "stream",
     "text": [
      "False\n",
      "True\n",
      "False\n",
      "True\n",
      "False\n",
      "True\n",
      "False\n",
      "True\n"
     ]
    },
    {
     "data": {
      "text/plain": [
       "'\\nisspace()  method\\n---------------------\\n1) When  does  it  return  True ?  --->  When  every  character  of  the  string  is  white  space  character\\n\\n2) When  does  it  return  False ?  --->  When  at  least  one  character  of  the  string  is  not  a  white  space\\n                                                               i.e.  Alphabet, digit (or)  special  character\\n'"
      ]
     },
     "execution_count": 76,
     "metadata": {},
     "output_type": "execute_result"
    }
   ],
   "source": [
    "# isspace()  method  demo  program  (Home  work)\n",
    "print('\\n  A\\t' . isspace())  #  False\n",
    "print('\\n  \\t' . isspace()) #  True\n",
    "print('\\n  7\\t' . isspace())#False\n",
    "print('\\n' . isspace())#True\n",
    "print('\\n  $\\t' . isspace())#False\n",
    "print('\\t' . isspace())#True\n",
    "print('' . isspace())#False\n",
    "print(' ' . isspace())#True\n",
    "\n",
    "\n",
    "'''\n",
    "isspace()  method\n",
    "---------------------\n",
    "1) When  does  it  return  True ?  --->  When  every  character  of  the  string  is  white  space  character\n",
    "\n",
    "2) When  does  it  return  False ?  --->  When  at  least  one  character  of  the  string  is  not  a  white  space\n",
    "                                                               i.e.  Alphabet, digit (or)  special  character\n",
    "'''"
   ]
  },
  {
   "cell_type": "code",
   "execution_count": null,
   "id": "f35e47c0",
   "metadata": {},
   "outputs": [
    {
     "name": "stdout",
     "output_type": "stream",
     "text": [
      "a  :  25  \t  b  :  10.8  \t  c  :  Hyd  \n",
      "a  :  25  \t  b  :  10.8  \t  c  :  Hyd  \n",
      "a  :  Hyd  \t  b  :  10.8  \t  c  :  25  \n",
      "a  :  Hyd  \t  b  :  Hyd  \t  c  :  Hyd  \n",
      "a  :  25  \t  b  :  10.8  \t  c  :  Hyd  \n",
      "a  :  Hyd  \t  b  :  10.8  \t  c  :  25  \n",
      "a  :  25  \t  b  :  25  \t  c  :  25  \n"
     ]
    }
   ],
   "source": [
    "# Find  outputs  (Home  work)\n",
    "a , b , c = 25 , 10.8 , 'Hyd'\n",
    "print('a  :  {}  \\t  b  :  {}  \\t  c  :  {}  '  .  format(a , b , c))#a  :  25  \t  b  :  10.8  \t  c  :  Hyd \n",
    "print('a  :  {0}  \\t  b  :  {1}  \\t  c  :  {2}  ' . format(a , b , c))#a  :  25  \t  b  :  10.8  \t  c  :  Hyd \n",
    "print('a  :  {2}  \\t  b  :  {1}  \\t  c  :  {0}  ' . format(a , b , c))#a  :  Hyd  \t  b  :  10.8  \t  c  :  25 \n",
    "print('a  :  {2}  \\t  b  :  {2}  \\t  c  :  {2}  ' . format(a , b , c))#a  :  Hyd  \t  b  :  Hyd  \t  c  :  Hyd \n",
    "print('a  :  {x}  \\t  b  :  {y}  \\t  c  :  {z}  ' . format(x = a , y = b , z = c))#a  :  25  \t  b  :  10.8  \t  c  :  Hyd \n",
    "print('a  :  {x}  \\t  b  :  {y}  \\t  c  :  {z}  ' . format(z = a , y = b , x = c))#a  :  Hyd  \t  b  :  10.8  \t  c  :  25 \n",
    "print('a  :  {z}  \\t  b  :  {z}  \\t  c  :  {z}  ' . format(z = a , y = b , x = c))#a  :  25  \t  b  :  25  \t  c  :  25 "
   ]
  },
  {
   "cell_type": "markdown",
   "id": "d22d4c19",
   "metadata": {},
   "source": [
    "'''\n",
    "Write  a  program  to  determine  user  input  is  alphabet , digit , white space  or  special  character\n",
    "\n",
    "1) What  are  the  three  outputs  if  input  is  'A' ?  --->  Alphanumeric  character , Alphabet character , Upper case  alphabet\n",
    "\n",
    "2) What  are  the  three  outputs  if  input  is  'a' ?  ---> Alphanumeric  character , Alphabet character , lower case  alphabet\n",
    "\n",
    "3) What  are  the  two  outputs  if  input  is  '7' ?  ---> Alphanumeric  character , digit  character\n",
    "\n",
    "4) What  is  the  output  if  input  is  '$' ?  ---> Special  character\n",
    "\n",
    "5) What  is  the  output  if  input  is  <spacebar> ?  --->  White  space\n",
    "\n",
    "6) What  is  the  output  if  input  is  <tab>  key ?  --->  White  space\n",
    "\n",
    "7) What  is  the  output  if  input   is   <enter>   key ?  ---> White  space\n",
    "\n",
    "8) Hint2:  Use  nested  if  and   elif\n",
    "'''\n",
    "Enter  any  character  :  A\n",
    "Alpha  Numeric  Character\n",
    "Alphabet  Character\n",
    "Upper  case  Alphabet\n",
    "\n",
    "Enter  any  character  :  7\n",
    "Alpha  Numeric  Character\n",
    "Digit  character"
   ]
  },
  {
   "cell_type": "code",
   "execution_count": 81,
   "id": "54aefc5d",
   "metadata": {},
   "outputs": [
    {
     "name": "stdout",
     "output_type": "stream",
     "text": [
      "White  space\n"
     ]
    }
   ],
   "source": [
    "a=input(\"Enter any character : \")\n",
    "if a.isalnum():\n",
    "    print(\"Alphanumeric  character\")\n",
    "    if a.isalpha() and a.isupper():\n",
    "        print(\"Alphabet character\")\n",
    "        print(\"Upper case  alphabet\")\n",
    "    elif a.isalpha() and a.islower():\n",
    "        print(\"Alphabet character\")\n",
    "        print(\"lower case  alphabet\")\n",
    "    elif a.isdigit():\n",
    "        print(\"digit  character\")\n",
    "else:\n",
    "    print(\"White  space\")\n"
   ]
  },
  {
   "cell_type": "markdown",
   "id": "13a9d5d5",
   "metadata": {},
   "source": [
    "'''\n",
    "Write  a  program  to  reverse  a  string  without  slice\n",
    "\n",
    "1) Let  input  be   Hyd\n",
    "    What  is  the  output ?  --->  dyH\n",
    "\n",
    "2)   H       y      d\n",
    "      -3     -2     -1\n",
    "\n",
    "      i       a[-i]            b\n",
    "    ---------------------------------------\n",
    "                                ''\n",
    "     1        'd'             '' + 'd' = 'd'\n",
    "     2       'y'             'd' + 'y' = 'dy'\n",
    "     3       'H'            'dy' + 'H' = 'dyH'\n",
    "  ---------------------------------------------\n",
    "'''\n",
    "Enter  any  string : Rama Rao\n",
    "Reverse  String :   oaR amaR"
   ]
  },
  {
   "cell_type": "code",
   "execution_count": null,
   "id": "c1cbfa23",
   "metadata": {},
   "outputs": [
    {
     "name": "stdout",
     "output_type": "stream",
     "text": [
      "oaR amaR\n"
     ]
    }
   ],
   "source": [
    "a=input(\"Enter a string : \")\n",
    "b=''\n",
    "for i in range(1,len(a)+1):\n",
    "    b+=a[-i]\n",
    "print(F'Reverse  String : {b}')"
   ]
  },
  {
   "cell_type": "markdown",
   "id": "8e08d55c",
   "metadata": {},
   "source": [
    "'''\n",
    "Write  a  program  to  reverse  order  of  words  in  the  sentence  without  slice\n",
    "\n",
    "1) Let  input  be  Hyd  is  green  city\n",
    "    What  is  the  output ?  ---> city   green   is   Hyd\n",
    "\n",
    "2) What  is  the  result  of  input . split() ?  --->  ['Hyd' , 'is' , 'green' , 'city']   --->   Assume  that  it  is  'b'\n",
    "\n",
    "3) i        b[-i]           c\n",
    "   ---------------------------------------------\n",
    "                              ''\n",
    "   1        'city'         '' + 'city' + ' '=  'city '\n",
    "   2        'green'     'city ' + 'green' + ' ' = 'city green '\n",
    "   3        'is'            'city green ' + 'is' + ' ' =  'city green is '\n",
    "   4        'Hyd'        'city green is ' + 'Hyd' + ' ' = 'city green is Hyd '\n",
    "   --------------------------------------------------------\n",
    "'''"
   ]
  },
  {
   "cell_type": "code",
   "execution_count": 88,
   "id": "dc1480fa",
   "metadata": {},
   "outputs": [
    {
     "name": "stdout",
     "output_type": "stream",
     "text": [
      "city green is Hyd \n"
     ]
    }
   ],
   "source": [
    "inp=input(\"Enter an sentence : \")\n",
    "b=inp.split()\n",
    "new=''\n",
    "for i in range(1,len(b)+1):\n",
    "    new+=b[-i]+' '\n",
    "print(new)\n"
   ]
  },
  {
   "cell_type": "markdown",
   "id": "0a773577",
   "metadata": {},
   "source": [
    "'''\n",
    "Write  a  program  to  reverse  each  word  of  the  sentence\n",
    "\n",
    "1) Let  input  be  Hyd  is  green  city\n",
    "    What  is  the  output ?  ---> dyH si neerg ytic\n",
    "\n",
    "2) Hint: Use  for  each  loop  and  also  slice\n",
    "'''"
   ]
  },
  {
   "cell_type": "code",
   "execution_count": 90,
   "id": "cc1167a9",
   "metadata": {},
   "outputs": [
    {
     "name": "stdout",
     "output_type": "stream",
     "text": [
      "dyH si neerg ytic \n"
     ]
    }
   ],
   "source": [
    "inp=input(\"Enter an sentence : \")\n",
    "b=inp.split()\n",
    "new=''\n",
    "for i in range(len(b)):\n",
    "    new+=b[i][::-1]+' '\n",
    "print(new)"
   ]
  },
  {
   "cell_type": "markdown",
   "id": "aa4e753d",
   "metadata": {},
   "source": [
    "'''\n",
    "Write  a  program  to  sort  string  in  alphabetical  order\n",
    "\n",
    "Let  input  be  RAJESH\n",
    "What  is  the  output ?  --->  AEHJRS\n",
    "'''"
   ]
  },
  {
   "cell_type": "code",
   "execution_count": 93,
   "id": "010c07a6",
   "metadata": {},
   "outputs": [
    {
     "name": "stdout",
     "output_type": "stream",
     "text": [
      "13579ADKPZ\n"
     ]
    }
   ],
   "source": [
    "inp=input(\"Enter an sentence : \")\n",
    "new=''\n",
    "for i in sorted(inp):\n",
    "    new+=i\n",
    "print(new)\n"
   ]
  },
  {
   "cell_type": "markdown",
   "id": "579a97f7",
   "metadata": {},
   "source": [
    "'''\n",
    "Write  a  program  to  sort  string  such  that  alphabets  in  alphabetical  order  and  digits  in  ascending  order\n",
    "\n",
    "Let  input  be  Z9K3PA7D51\n",
    "What  is  the  output ?  --->  ADKPZ13579\n",
    "\n",
    "1)What  is  the  result  after  input  is  sorted ?  --->  '13579ADKPZ'\n",
    "\n",
    "2) alpha = '' + 'A' + 'D' + 'K' + 'P' + 'Z'\n",
    "    digit = '' + '1' + '3' + '5' + '7' + '9'\n",
    "\n",
    "3) What  is  the  result  after  alpha  and  digit  are  concatenated ?  --->  'ADKPZ13579'"
   ]
  },
  {
   "cell_type": "code",
   "execution_count": 94,
   "id": "15198fb5",
   "metadata": {},
   "outputs": [
    {
     "name": "stdout",
     "output_type": "stream",
     "text": [
      "ADKPZ13579\n"
     ]
    }
   ],
   "source": [
    "inp=input(\"Enter an sentence : \")\n",
    "new=''\n",
    "alpha=''\n",
    "digit=''\n",
    "for i in sorted(inp):\n",
    "    new+=i\n",
    "for j in new:\n",
    "    if j.isalpha():\n",
    "        alpha+=j\n",
    "    elif j.isdigit():\n",
    "        digit+=j\n",
    "print(alpha+digit)"
   ]
  },
  {
   "cell_type": "code",
   "execution_count": 1,
   "id": "a100ad7d",
   "metadata": {},
   "outputs": [
    {
     "name": "stdout",
     "output_type": "stream",
     "text": [
      "<class 'str'>\n",
      "[25 , 10.8 , 'Hyd' , True] \n",
      "[25, 10.8, 'Hyd', True]\n",
      "<class 'list'>\n"
     ]
    }
   ],
   "source": [
    "# What  are  the  outputs  if  input  is   [25 , 10.8 , 'Hyd' , True]   (Home  work)\n",
    "a = input('Enter  list  :  ')#[25 , 10.8 , 'Hyd' , True] \n",
    "print(type(a))#<class str>\n",
    "print(a)#'[25 , 10.8 , 'Hyd' , True]' \n",
    "b = eval(a)\n",
    "print(b)#[25 , 10.8 , 'Hyd' , True] \n",
    "print(type(b))#<class list>"
   ]
  },
  {
   "cell_type": "code",
   "execution_count": 2,
   "id": "80ac8f73",
   "metadata": {},
   "outputs": [
    {
     "name": "stdout",
     "output_type": "stream",
     "text": [
      "True\n",
      "True\n",
      "[10, 20, 12, 18]\n"
     ]
    }
   ],
   "source": [
    "#  Find  outputs (Home  work)\n",
    "a = [10, 20, 15, 18]\n",
    "b = a\n",
    "print(a  is  b)#False\n",
    "print(a  ==  b)#True\n",
    "b[2] = 12\n",
    "print(a)#[10,20,15,18]"
   ]
  },
  {
   "cell_type": "code",
   "execution_count": null,
   "id": "136ce01d",
   "metadata": {},
   "outputs": [
    {
     "name": "stdout",
     "output_type": "stream",
     "text": [
      "[10, 20, 15, 18, 100, 200, 150]\n"
     ]
    },
    {
     "ename": "TypeError",
     "evalue": "can only concatenate list (not \"tuple\") to list",
     "output_type": "error",
     "traceback": [
      "\u001b[31m---------------------------------------------------------------------------\u001b[39m",
      "\u001b[31mTypeError\u001b[39m                                 Traceback (most recent call last)",
      "\u001b[36mCell\u001b[39m\u001b[36m \u001b[39m\u001b[32mIn[6]\u001b[39m\u001b[32m, line 7\u001b[39m\n\u001b[32m      4\u001b[39m \u001b[38;5;28mprint\u001b[39m(a + b)\u001b[38;5;66;03m#[10, 20, 15, 18, 100, 200, 150]\u001b[39;00m\n\u001b[32m      5\u001b[39m \u001b[38;5;66;03m#print(a + 5)#Error\u001b[39;00m\n\u001b[32m      6\u001b[39m \u001b[38;5;66;03m#print(a + '5')#Error\u001b[39;00m\n\u001b[32m----> \u001b[39m\u001b[32m7\u001b[39m \u001b[38;5;28mprint\u001b[39m(\u001b[43m[\u001b[49m\u001b[32;43m10\u001b[39;49m\u001b[43m \u001b[49m\u001b[43m,\u001b[49m\u001b[43m \u001b[49m\u001b[32;43m20\u001b[39;49m\u001b[43m]\u001b[49m\u001b[43m \u001b[49m\u001b[43m+\u001b[49m\u001b[43m \u001b[49m\u001b[43m(\u001b[49m\u001b[32;43m30\u001b[39;49m\u001b[43m \u001b[49m\u001b[43m,\u001b[49m\u001b[43m \u001b[49m\u001b[32;43m40\u001b[39;49m\u001b[43m)\u001b[49m)\u001b[38;5;66;03m#Error\u001b[39;00m\n",
      "\u001b[31mTypeError\u001b[39m: can only concatenate list (not \"tuple\") to list"
     ]
    }
   ],
   "source": [
    "#  Find  outputs  (Home  work)\n",
    "a = [10 , 20 , 15 , 18]\n",
    "b = [100 , 200 , 150]\n",
    "print(a + b)#[10, 20, 15, 18, 100, 200, 150]\n",
    "#print(a + 5)#Error\n",
    "#print(a + '5')#Error\n",
    "#print([10 , 20] + (30 , 40))#Error"
   ]
  },
  {
   "cell_type": "code",
   "execution_count": 7,
   "id": "2999a250",
   "metadata": {},
   "outputs": [
    {
     "name": "stdout",
     "output_type": "stream",
     "text": [
      "[1, 2, 3] 2431691587200\n",
      "[1, 2, 3, 4, 5, 6] 2431691587200\n"
     ]
    }
   ],
   "source": [
    "#  Tricky  program\n",
    "#  Find  outputs\n",
    "a = [1,2,3]\n",
    "b = [4,5,6]\n",
    "print(a , id(a))#[1,2,3] Address of a\n",
    "a += b#Error\n",
    "print(a , id(a))"
   ]
  },
  {
   "cell_type": "code",
   "execution_count": 8,
   "id": "91189c48",
   "metadata": {},
   "outputs": [
    {
     "name": "stdout",
     "output_type": "stream",
     "text": [
      "[25, 10.8, 'Hyd', True]\n",
      "<class 'list'>\n"
     ]
    }
   ],
   "source": [
    "# List  packing\n",
    "a = 25\n",
    "b = 10.8\n",
    "c = 'Hyd'\n",
    "d = True\n",
    "e = [a , b , c , d]#[25,10.8,'Hyd',True]\n",
    "print(e)#[25,10.8,'Hyd',True]\n",
    "print(type(e))#<class list>"
   ]
  },
  {
   "cell_type": "code",
   "execution_count": 9,
   "id": "9e88216b",
   "metadata": {},
   "outputs": [
    {
     "name": "stdout",
     "output_type": "stream",
     "text": [
      "a :  25\n",
      "b :  [10.8, 'Hyd']\n",
      "c :  True\n",
      "<class 'list'>\n",
      "x :  25\n",
      "y :  [10.8, 'Hyd', True]\n",
      "p :  [25, 10.8, 'Hyd']\n",
      "q :  True\n"
     ]
    }
   ],
   "source": [
    "# Find  outputs\n",
    "list = [25 , 10.8 , 'Hyd' ,  True]\n",
    "a , *b , c = list\n",
    "print('a : ' , a)  #  a :  25\n",
    "print('b : ' , b) #  b : [10.8 , 'Hyd']\n",
    "print('c : ' , c) #  c :  True\n",
    "print(type(b))#<class list>\n",
    "x , *y = list\n",
    "print('x : ' , x)#25\n",
    "print('y : ' , y)#[10.8,'Hyd',True]\n",
    "*p , q = list\n",
    "print('p : ' , p)#[25,10.8,'Hyd']\n",
    "print('q : ' , q)#True"
   ]
  },
  {
   "cell_type": "code",
   "execution_count": null,
   "id": "4b3b31d8",
   "metadata": {},
   "outputs": [
    {
     "ename": "ValueError",
     "evalue": "not enough values to unpack (expected 5, got 4)",
     "output_type": "error",
     "traceback": [
      "\u001b[31m---------------------------------------------------------------------------\u001b[39m",
      "\u001b[31mValueError\u001b[39m                                Traceback (most recent call last)",
      "\u001b[36mCell\u001b[39m\u001b[36m \u001b[39m\u001b[32mIn[10]\u001b[39m\u001b[32m, line 3\u001b[39m\n\u001b[32m      1\u001b[39m \u001b[38;5;66;03m# Find  outputs  (Home  work)\u001b[39;00m\n\u001b[32m      2\u001b[39m \u001b[38;5;28mlist\u001b[39m = [\u001b[32m25\u001b[39m , \u001b[32m10.8\u001b[39m , \u001b[33m'\u001b[39m\u001b[33mHyd\u001b[39m\u001b[33m'\u001b[39m , \u001b[38;5;28;01mTrue\u001b[39;00m]\n\u001b[32m----> \u001b[39m\u001b[32m3\u001b[39m a , b , c , d , e = \u001b[38;5;28mlist\u001b[39m\n\u001b[32m      4\u001b[39m a , b , *c , d , e = \u001b[38;5;28mlist\u001b[39m\n\u001b[32m      5\u001b[39m \u001b[38;5;28mprint\u001b[39m(\u001b[33m'\u001b[39m\u001b[33ma : \u001b[39m\u001b[33m'\u001b[39m , a)\n",
      "\u001b[31mValueError\u001b[39m: not enough values to unpack (expected 5, got 4)"
     ]
    }
   ],
   "source": [
    "# Find  outputs  (Home  work)\n",
    "list = [25 , 10.8 , 'Hyd' , True]\n",
    "a , b , c , d , e = list#Error\n",
    "a , b , *c , d , e = list#Error\n",
    "print('a : ' , a)\n",
    "print('b : ' , b)\n",
    "print('c : ' , c)\n",
    "print('d : ' , d)\n",
    "print('e : ' , e)\n",
    "a , b , *c , d , e , f = list"
   ]
  },
  {
   "cell_type": "code",
   "execution_count": null,
   "id": "64c56cdd",
   "metadata": {},
   "outputs": [
    {
     "name": "stdout",
     "output_type": "stream",
     "text": [
      "a :  25\n",
      "b :  10.8\n",
      "_ :   Hyd\n",
      "d :  True\n"
     ]
    }
   ],
   "source": [
    "# Find  outputs  (Home  work)\n",
    "list = [25 , 10.8 , 'Hyd' , True]\n",
    "a , b , _  , d = list\n",
    "print('a : ' , a)#a: 25\n",
    "print('b : ' , b)#b: 10.8\n",
    "print('_ :  ' , _)#_ :'Hyd'\n",
    "print('d : ' , d)#d: True"
   ]
  },
  {
   "cell_type": "code",
   "execution_count": 12,
   "id": "5be44845",
   "metadata": {},
   "outputs": [
    {
     "name": "stdout",
     "output_type": "stream",
     "text": [
      "a :  (3+4j)\n",
      "b :  10.8\n",
      "d :  True\n"
     ]
    }
   ],
   "source": [
    "# Find  outputs (Home  work)\n",
    "list = [25 , 10.8 , 'Hyd' , True , 3 + 4j]\n",
    "a , b , a , d , a = list\n",
    "print('a : ' , a)#3+4j\n",
    "print('b : ' , b)#10.8\n",
    "print('d : ' , d)#True"
   ]
  },
  {
   "cell_type": "code",
   "execution_count": null,
   "id": "ab2458bb",
   "metadata": {},
   "outputs": [
    {
     "name": "stdout",
     "output_type": "stream",
     "text": [
      "a :  25\n",
      "b :  10.8\n",
      "_ :  (3+4j)\n",
      "d :  True\n",
      "_:  (3+4j)\n"
     ]
    }
   ],
   "source": [
    "#  Tricky  program\n",
    "# Find  outputs (Home  work)\n",
    "list = [25 , 10.8 , 'Hyd' , True , 3 + 4j]\n",
    "a , b ,  _ , d , _  = list\n",
    "print('a : ' , a)#a: 25\n",
    "print('b : ' , b)#b: 10.8\n",
    "print('_ : ' , _)#_ :3_4j\n",
    "print('d : ' , d)#d: True\n",
    "print('_: ' , _)#_: 3+4j"
   ]
  },
  {
   "cell_type": "code",
   "execution_count": null,
   "id": "ba0ce280",
   "metadata": {},
   "outputs": [],
   "source": [
    "# Identify  error (Home  work)\n",
    "list = [25 , 10.8 , 'Hyd' , True , 3 + 4j]\n",
    "a , *b , c , *d , e  = list#Only one unpack can have"
   ]
  },
  {
   "cell_type": "code",
   "execution_count": 14,
   "id": "2ae7877e",
   "metadata": {},
   "outputs": [
    {
     "name": "stdout",
     "output_type": "stream",
     "text": [
      "a :   [25, 10.8]\n",
      "b :   Hyd\n",
      "c :   True\n"
     ]
    }
   ],
   "source": [
    "# Find  outputs  (Home  work)\n",
    "list = [[25 , 10.8] , 'Hyd' , True]   #  Nested  list\n",
    "a , b , c = list\n",
    "print('a :  ' , a)#[25,10.8]\n",
    "print('b :  ' , b)#'Hyd'\n",
    "print('c :  ' , c)#True"
   ]
  },
  {
   "cell_type": "code",
   "execution_count": 17,
   "id": "4e656aab",
   "metadata": {},
   "outputs": [
    {
     "name": "stdout",
     "output_type": "stream",
     "text": [
      "a :  25\n",
      "b :  10.8\n",
      "c :  Hyd\n",
      "d :  True\n"
     ]
    }
   ],
   "source": [
    "# Find  outputs  (Home  work)\n",
    "list = [[25 , 10.8] , 'Hyd' , True]\n",
    "[a , b] , c , d = list\n",
    "print('a : ' , a)#[25]\n",
    "print('b : ' , b)#[10.8]\n",
    "print('c : ' , c)#'Hyd'\n",
    "print('d : ' , d)#True\n",
    "#a , b , c , d = list#Error"
   ]
  },
  {
   "cell_type": "code",
   "execution_count": null,
   "id": "a71e4d66",
   "metadata": {},
   "outputs": [
    {
     "name": "stdout",
     "output_type": "stream",
     "text": [
      "True\n",
      "False\n",
      "True\n",
      "True\n",
      "False\n",
      "False\n",
      "True\n",
      "False\n",
      "False\n"
     ]
    }
   ],
   "source": [
    "# Comparing  Lists\n",
    "a = [10 , 20 , 15 , 18]\n",
    "b = [10 , 20 , 15 , 18]\n",
    "c = [10 , 20 , 25 , 9]\n",
    "d = [10 , 20 , 7 , 22]\n",
    "print(a == b)#True\n",
    "print(a  is   b)#False\n",
    "print(a < c)#True\n",
    "print(a > d)#True\n",
    "print(a >= c)#False\n",
    "print(a <= d)#False\n",
    "print(a != c)#True\n",
    "print(a != b)#False\n",
    "print(a == c)#False"
   ]
  },
  {
   "cell_type": "code",
   "execution_count": 19,
   "id": "67f3b1d8",
   "metadata": {},
   "outputs": [
    {
     "name": "stdout",
     "output_type": "stream",
     "text": [
      "False\n",
      "False\n"
     ]
    }
   ],
   "source": [
    "# Comparing  Lists  (Home  work)\n",
    "a = [10 , 20 , 15 , 18]\n",
    "b = [20 , 18 , 15 , 10]\n",
    "print(a == b)#False\n",
    "print(a  is   b)#False"
   ]
  },
  {
   "cell_type": "code",
   "execution_count": 1,
   "id": "1dd88296",
   "metadata": {},
   "outputs": [
    {
     "name": "stdout",
     "output_type": "stream",
     "text": [
      "4\n",
      "0\n",
      "3\n"
     ]
    },
    {
     "data": {
      "text/plain": [
       "'\\nWhat  does  len(list)  do ?  --->  Returns  number  of  elements  in  the  list\\n'"
      ]
     },
     "execution_count": 1,
     "metadata": {},
     "output_type": "execute_result"
    }
   ],
   "source": [
    "#  len()  function demo   program  (Home  work)\n",
    "a = [ 25, 10.8, 'Hyd', True]\n",
    "print(len(a))#4\n",
    "b = []\n",
    "print(len(b))#0\n",
    "c = [[10 , 20] , 30 , 40]\n",
    "print(len(c))#3\n",
    "\n",
    "\n",
    "'''\n",
    "What  does  len(list)  do ?  --->  Returns  number  of  elements  in  the  list\n",
    "'''"
   ]
  },
  {
   "cell_type": "code",
   "execution_count": 4,
   "id": "5e199bee",
   "metadata": {},
   "outputs": [
    {
     "name": "stdout",
     "output_type": "stream",
     "text": [
      "36.8\n",
      "(8+10j)\n",
      "(39.8+4j)\n",
      "63\n"
     ]
    },
    {
     "data": {
      "text/plain": [
       "'\\nWhat  does  sum(list)  do ?  ---> Returns  sum  of  list  elements\\n'"
      ]
     },
     "execution_count": 4,
     "metadata": {},
     "output_type": "execute_result"
    }
   ],
   "source": [
    "# sum()  function  demo  program  (Home  work)\n",
    "a = [25 , 10.8 , True]\n",
    "print(sum(a))#36.8\n",
    "b= [3 + 4j , 5 + 6j]\n",
    "print(sum(b))#8+10j\n",
    "c = [25 , 10.8 , True , 3 + 4j , False]\n",
    "print(sum(c))#39.8+4j\n",
    "d = [10 , 20 , 15 , 18]\n",
    "print(sum(d))#63\n",
    "e = [25 , 10.8 , 'Hyd' , True]\n",
    "#print(sum(e))#Error bcz str cannot be added\n",
    "\n",
    "\n",
    "'''\n",
    "What  does  sum(list)  do ?  ---> Returns  sum  of  list  elements\n",
    "'''"
   ]
  },
  {
   "cell_type": "code",
   "execution_count": 12,
   "id": "8910d430",
   "metadata": {},
   "outputs": [
    {
     "name": "stdout",
     "output_type": "stream",
     "text": [
      "63\n",
      "63\n"
     ]
    }
   ],
   "source": [
    "#  Find  outputs\n",
    "a = [[10 , 20 , 15 , 18]]\n",
    "#print(sum(a))#Error\n",
    "print(sum(a[0]))#How  to  determine  sum  of  inner  list  elements)\n",
    "sum=0\n",
    "for x in a[0]:\n",
    "    sum+=x\n",
    "print(sum)#print(How  to  determine  sum  of  inner  list  elements  in  another  way)"
   ]
  },
  {
   "cell_type": "code",
   "execution_count": null,
   "id": "faebf45b",
   "metadata": {},
   "outputs": [
    {
     "name": "stdout",
     "output_type": "stream",
     "text": [
      "30\n",
      "5\n",
      "Vamsi\n",
      "Amar\n"
     ]
    },
    {
     "data": {
      "text/plain": [
       "'\\n1) What  does  max(list)  do ?  --->  Returns  largest  element  of  the  list\\n\\n2) What  does  min(list)  do ?  --->  Returns  smallest  element  of  the  list\\n'"
      ]
     },
     "execution_count": 16,
     "metadata": {},
     "output_type": "execute_result"
    }
   ],
   "source": [
    "# max()  and  min()  functions  demo  program  (Home  work)\n",
    "a = [10 , 20 , 15 , 18 , 30, 5 , 12]\n",
    "print(max(a))#30\n",
    "print(min(a))#5\n",
    "b = ['Rama' , 'Sita' , 'Rajesh' , 'Kiran' , 'Amar' , 'Vamsi' , 'Manohar']\n",
    "print(max(b))#Vamsi\n",
    "print(min(b))#Amar\n",
    "c = [25 , 10.8 ,  3 + 4j , True]\n",
    "#print(max(c))#Error cannot comapre\n",
    "d = [25 , '35']\n",
    "#print(max(d))#Cannot commapre\n",
    "#print(max([]))#Error bcz empty cannot compared\n",
    "#print(min([]))#Error bcz empty cannot compared\n",
    "\n",
    "\n",
    "'''\n",
    "1) What  does  max(list)  do ?  --->  Returns  largest  element  of  the  list\n",
    "\n",
    "2) What  does  min(list)  do ?  --->  Returns  smallest  element  of  the  list\n",
    "'''"
   ]
  },
  {
   "cell_type": "code",
   "execution_count": 17,
   "id": "1fbfdd4a",
   "metadata": {},
   "outputs": [
    {
     "name": "stdout",
     "output_type": "stream",
     "text": [
      "[10, 20, 15, 18]\n",
      "<class 'list'>\n",
      "False\n",
      "False\n"
     ]
    }
   ],
   "source": [
    "# list()  function  demo  program\n",
    "a = (10 , 20 , 15, 18)\n",
    "b = list(a)\n",
    "print(b)#[10,20,15,18]\n",
    "print(type(b))#<class list>\n",
    "print(a  is  b)#False\n",
    "print(a == b)#False"
   ]
  },
  {
   "cell_type": "code",
   "execution_count": 21,
   "id": "61e4f0c6",
   "metadata": {},
   "outputs": [
    {
     "name": "stdout",
     "output_type": "stream",
     "text": [
      "[4, 6, 8]\n",
      "<class 'list'>\n",
      "['V', 'a', 'm', 's', 'i']\n",
      "[]\n"
     ]
    },
    {
     "data": {
      "text/plain": [
       "'\\n1) What  does  list(sequence)  do ?  --->  Converts  sequence  to  list  and  returns  list\\n\\n2) What  does  list(no-args)  do ?  ---> Returns  an  empty  list\\n\\n3) What  does  list(non-sequence)  do ?  --->  Throws  error\\n'"
      ]
     },
     "execution_count": 21,
     "metadata": {},
     "output_type": "execute_result"
    }
   ],
   "source": [
    "#  Find  outputs (Home  work)\n",
    "a = range(4 , 10 , 2)#[4,6,8]\n",
    "b = list(a)\n",
    "print(b)#[4,6,8]\n",
    "print(type(b))#<class list>\n",
    "a = list('Vamsi')\n",
    "print(a)#['v','a','m','s','i']\n",
    "a = list()\n",
    "print(a)#[]\n",
    "#print(list(25))#Error agument is not sequence\n",
    "#print(list(10.8))#Error agument is not sequence\n",
    "#print(list(True))#Error agument is not sequence\n",
    "#print(list(None))#Error agument is not sequence\n",
    "\n",
    "\n",
    "'''\n",
    "1) What  does  list(sequence)  do ?  --->  Converts  sequence  to  list  and  returns  list\n",
    "\n",
    "2) What  does  list(no-args)  do ?  ---> Returns  an  empty  list\n",
    "\n",
    "3) What  does  list(non-sequence)  do ?  --->  Throws  error\n",
    "'''"
   ]
  },
  {
   "cell_type": "code",
   "execution_count": 22,
   "id": "264b5fbf",
   "metadata": {},
   "outputs": [
    {
     "name": "stdout",
     "output_type": "stream",
     "text": [
      "[(10, 20), (30, 40, 50), (60, 70, 80, 90)]\n",
      "[(30, 40, 50), (60, 70, 80, 90), (10, 20)]\n",
      "[[10, 20], (30, 40), {50, 60}]\n"
     ]
    }
   ],
   "source": [
    "# Find  outputs (Home  work)\n",
    "a = ((10 , 20) , (30 , 40 , 50) , (60 , 70 , 80 , 90))\n",
    "print(list(a))#[(10 , 20) , (30 , 40 , 50) , (60 , 70 , 80 , 90)]\n",
    "b = { (10 , 20) , (30 , 40 , 50) , (60 , 70 , 80 , 90)}\n",
    "print(list(b))#[(10 , 20) , (30 , 40 , 50) , (60 , 70 , 80 , 90)]\n",
    "c = ([10 , 20] , (30 , 40) , {50 , 60})\n",
    "print(list(c))#[[10 , 20] , (30 , 40) , {50 , 60}]"
   ]
  },
  {
   "cell_type": "code",
   "execution_count": 23,
   "id": "a09060c6",
   "metadata": {},
   "outputs": [
    {
     "name": "stdout",
     "output_type": "stream",
     "text": [
      "[5, 10, 12, 15, 20]\n",
      "<class 'list'>\n",
      "[20, 15, 12, 10, 5]\n",
      "[10, 20, 15, 5, 12]\n"
     ]
    },
    {
     "data": {
      "text/plain": [
       "'\\nsorted()  function\\n----------------------\\n1) What  does  sorted(list)  do  ?  ---> Returns  another  sorted  list\\n\\n2) Is  argument  list  modified ?  --->  No  and  it  remains  unchanged\\n\\n3) How  to  sort  list  in  descending  order ?  --->  sorted(list , reverse = True)\\n\\n4) What  are  the  two  arguments  of  sorted()  function ?  --->  List  to  be  sorted\\n\\t\\t\\t\\t\\t\\t\\t\\t\\t\\t\\t\\t\\t\\t\\t\\t\\t\\t\\t\\t\\t\\t\\t\\t\\t\\t\\t\\tand\\n\\t\\t\\t\\t\\t\\t\\t\\t\\t\\t\\t\\t\\t\\t\\t\\t\\t\\t\\t\\t\\t                  reverse = True  which  is  an  optional  argument\\n'"
      ]
     },
     "execution_count": 23,
     "metadata": {},
     "output_type": "execute_result"
    }
   ],
   "source": [
    "# sorted()  function   demo  program\n",
    "a = [10 , 20 , 15 , 5 , 12]\n",
    "b = sorted(a)#[5,10,12,15,20]\n",
    "print(b)#[5,10,12,15,20]\n",
    "print(type(b))#<class list>\n",
    "c = sorted(a , reverse = True)#[20,15,12,10,5]\n",
    "print(c)#[20,15,12,10,5]\n",
    "print(a)#[10 , 20 , 15 , 5 , 12]\n",
    "\n",
    "\n",
    "'''\n",
    "sorted()  function\n",
    "----------------------\n",
    "1) What  does  sorted(list)  do  ?  ---> Returns  another  sorted  list\n",
    "\n",
    "2) Is  argument  list  modified ?  --->  No  and  it  remains  unchanged\n",
    "\n",
    "3) How  to  sort  list  in  descending  order ?  --->  sorted(list , reverse = True)\n",
    "\n",
    "4) What  are  the  two  arguments  of  sorted()  function ?  --->  List  to  be  sorted\n",
    "\t\t\t\t\t\t\t\t\t\t\t\t\t\t\t\t\t\t\t\t\t\t\t\t\t\t\t\tand\n",
    "\t\t\t\t\t\t\t\t\t\t\t\t\t\t\t\t\t\t\t\t\t                  reverse = True  which  is  an  optional  argument\n",
    "'''"
   ]
  },
  {
   "cell_type": "code",
   "execution_count": 26,
   "id": "14d48923",
   "metadata": {},
   "outputs": [
    {
     "name": "stdout",
     "output_type": "stream",
     "text": [
      "['Amar', 'Kiran', 'Rajesh', 'Rama', 'Rama  Rao', 'Sita', 'Vamsi']\n",
      "['Vamsi', 'Sita', 'Rama  Rao', 'Rama', 'Rajesh', 'Kiran', 'Amar']\n",
      "['Rama', 'Rajesh', 'Amar', 'Sita', 'Vamsi', 'Kiran', 'Rama  Rao']\n"
     ]
    }
   ],
   "source": [
    "# Find  outputs  (Home  work)\n",
    "a = ['Rama',  'Rajesh',  'Amar',  'Sita',  'Vamsi'  ,  'Kiran'  , 'Rama  Rao']\n",
    "b = sorted(a)#['Amar','Kiran','Rajesh','Rama','Rama  Rao','Sita','Vamsi']\n",
    "print(b)#['Amar','Kiran','Rajesh','Rama','Rama  Rao','Sita','Vamsi']\n",
    "c = sorted(a , reverse = True)\n",
    "print(c)#['Vamsi','Sita', 'Rama  Rao', 'Rama', 'Rajesh', 'Kiran', 'Amar']\n",
    "print(a)#['Rama',  'Rajesh',  'Amar',  'Sita',  'Vamsi'  ,  'Kiran'  , 'Rama  Rao']"
   ]
  },
  {
   "cell_type": "code",
   "execution_count": 27,
   "id": "586e9d12",
   "metadata": {},
   "outputs": [
    {
     "name": "stdout",
     "output_type": "stream",
     "text": [
      "True\n",
      "False\n",
      "False\n",
      "False\n",
      "True\n"
     ]
    },
    {
     "data": {
      "text/plain": [
       "'\\nall()  function\\n-----------------\\n1) What  does  all(list)  do ?  --->  Returns  True  when  every  element of  the  list  is  True  and  False  otherwise\\n\\n2) When  does  it  return  False ?  --->  When  at  least  one  element  of  the  list  is  False\\n\\n3) if  cond1  and  cond2  and  cond3  and  cond4:\\n    How  to  reduce  the  four  conditions  to  a  single  condition ?  --->  if  all([cond1 , cond2 , cond3 , cond4]):\\n'"
      ]
     },
     "execution_count": 27,
     "metadata": {},
     "output_type": "execute_result"
    }
   ],
   "source": [
    "# all()  function demo  program  (Home  work)\n",
    "a = [12 > 10 , 5 < 20 , 30 == 30]\n",
    "print(all(a))#True\n",
    "b = [9 >= 6 , 12 <= 9 , 6 == 6]\n",
    "print(all(b))#False\n",
    "c = [25 , 10.8 , '' , True , 3+4j , 'Hyd']\n",
    "print(all(c))#False\n",
    "d = [10 , 0 , 20]\n",
    "print(all(d))#False\n",
    "e = []\n",
    "print(all(e))#False\n",
    "\n",
    "\n",
    "'''\n",
    "all()  function\n",
    "-----------------\n",
    "1) What  does  all(list)  do ?  --->  Returns  True  when  every  element of  the  list  is  True  and  False  otherwise\n",
    "\n",
    "2) When  does  it  return  False ?  --->  When  at  least  one  element  of  the  list  is  False\n",
    "\n",
    "3) if  cond1  and  cond2  and  cond3  and  cond4:\n",
    "    How  to  reduce  the  four  conditions  to  a  single  condition ?  --->  if  all([cond1 , cond2 , cond3 , cond4]):\n",
    "'''"
   ]
  },
  {
   "cell_type": "code",
   "execution_count": 28,
   "id": "9ab0dfe1",
   "metadata": {},
   "outputs": [
    {
     "name": "stdout",
     "output_type": "stream",
     "text": [
      "True\n",
      "False\n",
      "True\n",
      "False\n",
      "False\n"
     ]
    },
    {
     "data": {
      "text/plain": [
       "'\\nany()   function\\n-------------------\\n1) What  does  any(list)  do ?  ---> Returns  True  when  at  least  one  element  of  the  list  is  True  and  False  otherwise\\n\\n2) When  does  it  return  False ?  ---> When  every  element  of  the  list  is  false\\n\\n3) if  cond1  or  cond2  or  cond3  or  cond4:\\n     How  to  reduce  the  four  conditions  to  a  single  condition ?  ---> if  any([cond1 , cond2 , cond3 , cond4]):\\n\\n4) all()  and  any()  functions  are  used  as  an  alternative  when  there  are  too  many  conditions  in  if  and  while\\n'"
      ]
     },
     "execution_count": 28,
     "metadata": {},
     "output_type": "execute_result"
    }
   ],
   "source": [
    "# any()  function demo program  (Home  work)\n",
    "a  = [12 > 18 , 5 < 20 , 35 == 30]\n",
    "print(any(a))#True\n",
    "b = [12 > 18 , 25 < 20 , 35 == 30]\n",
    "print(any(b))#False\n",
    "c = [0 , 0.0 , '' , 25 , 0 + 0j , False]\n",
    "print(any(c))#True\n",
    "d = [0 , 0.0 , '' , 0 + 0j , False]\n",
    "print(any(d))#False\n",
    "e = []\n",
    "print(any(e))#False\n",
    "\n",
    "\n",
    "'''\n",
    "any()   function\n",
    "-------------------\n",
    "1) What  does  any(list)  do ?  ---> Returns  True  when  at  least  one  element  of  the  list  is  True  and  False  otherwise\n",
    "\n",
    "2) When  does  it  return  False ?  ---> When  every  element  of  the  list  is  false\n",
    "\n",
    "3) if  cond1  or  cond2  or  cond3  or  cond4:\n",
    "     How  to  reduce  the  four  conditions  to  a  single  condition ?  ---> if  any([cond1 , cond2 , cond3 , cond4]):\n",
    "\n",
    "4) all()  and  any()  functions  are  used  as  an  alternative  when  there  are  too  many  conditions  in  if  and  while\n",
    "'''"
   ]
  },
  {
   "cell_type": "code",
   "execution_count": 31,
   "id": "3b5580fd",
   "metadata": {},
   "outputs": [
    {
     "name": "stdout",
     "output_type": "stream",
     "text": [
      "[10, 20, 15, 18]\n",
      "[10, 20, 18]\n"
     ]
    }
   ],
   "source": [
    "# del  operator  demo  program (Home  work)\n",
    "a = [10 , 20 , 15 , 18]\n",
    "print(a)#[10 , 20 , 15 , 18]\n",
    "del    a[2]\n",
    "print(a)#[10,20,18]\n",
    "#del  a[3]#Error bcz we dont have a[3]\n",
    "del  a#delete whole a\n",
    "#print(a)#Error as a is already deleted"
   ]
  },
  {
   "cell_type": "code",
   "execution_count": 32,
   "id": "2332f490",
   "metadata": {},
   "outputs": [
    {
     "name": "stdout",
     "output_type": "stream",
     "text": [
      "[10, 20, 15, 18]\n",
      "[10, 20, 15, 18, 19]\n"
     ]
    }
   ],
   "source": [
    "#  append()  method  demo  program (Home  work)\n",
    "list = [10 , 20 , 15 , 18]\n",
    "print(list)#[10 , 20 , 15 , 18]\n",
    "list . append(19)\n",
    "print(list)#[10 , 20 , 15 , 18,19]"
   ]
  },
  {
   "cell_type": "code",
   "execution_count": 33,
   "id": "68f262b2",
   "metadata": {},
   "outputs": [
    {
     "name": "stdout",
     "output_type": "stream",
     "text": [
      "[]\n",
      "[25, 10.8, 'Hyd', True]\n"
     ]
    }
   ],
   "source": [
    "#  Find  outputs (Home  work)\n",
    "list = []\n",
    "print(list)#[]\n",
    "list . append(25)#[25]\n",
    "list . append(10.8)#[25,10.8]\n",
    "list . append('Hyd')#[25,10.8,'Hyd']\n",
    "list . append(True)#[25,10.8,'Hyd',True]\n",
    "print(list)#[25,10.8,'Hyd',True]"
   ]
  },
  {
   "cell_type": "code",
   "execution_count": 34,
   "id": "f5831353",
   "metadata": {},
   "outputs": [
    {
     "name": "stdout",
     "output_type": "stream",
     "text": [
      "[0, 10, 20, 30, 40]\n"
     ]
    }
   ],
   "source": [
    "# Find  outputs  (Home  work)\n",
    "list = []\n",
    "for  x  in   range(0 , 50 , 10):# 0,10,20,30,40\n",
    "\tlist . append(x)\n",
    "print(list)#[0,10,20,30,40]"
   ]
  },
  {
   "cell_type": "code",
   "execution_count": 37,
   "id": "7b95e82d",
   "metadata": {},
   "outputs": [
    {
     "name": "stdout",
     "output_type": "stream",
     "text": [
      "[10, 20, 30, 'Hyd']\n",
      "4\n"
     ]
    }
   ],
   "source": [
    "#  Find  outputs  (Home  work)\n",
    "a = [10 , 20 , 30]\n",
    "a . append('Hyd')\n",
    "print(a)#[10 , 20 , 30 , 'H','y','d']\n",
    "print(len(a))#4\n",
    "#print(a[4])#How  to  print  4th  element  of  list  'a' #Error bcz not 4th element\n",
    "#print(a[5])#How  to  print  'H')#Error bcz not 5th element\n",
    "#print(How  to  print  'y')##Error bcz not 6th element\n",
    "#print(How  to  print  'd')#Error bcz not 7th element"
   ]
  },
  {
   "cell_type": "code",
   "execution_count": 38,
   "id": "f1957486",
   "metadata": {},
   "outputs": [
    {
     "name": "stdout",
     "output_type": "stream",
     "text": [
      "[10, 20, 18, 15, 12, 15, 19]\n",
      "25  is   not  in  the  list\n"
     ]
    },
    {
     "data": {
      "text/plain": [
       "\"\\nremove()   method\\n---------------------\\n1) What  does  remove(x)  do ?  --->  Removes   first  occurance  of  'x'  from  the  list\\n\\n2) What  does  remove()  method  do  if  'x'  is  not   in  the  list ?  --->  Throws  ValueError\\n\\n3) How  to  remove  all  ocurances  of  'x'  from  the  list ?  --->   Call  remove()  method  in  a  loop\\n\""
      ]
     },
     "execution_count": 38,
     "metadata": {},
     "output_type": "execute_result"
    }
   ],
   "source": [
    "# remove()  method  demo  program  (Home  work)\n",
    "try:\n",
    "\tlist = [10 , 20 , 15 , 18 , 15 , 12 , 15 , 19]\n",
    "\tlist . remove(15)\n",
    "\tprint(list)#[10 , 20 ,  18 , 15 , 12 , 15 , 19]\n",
    "\tlist . remove(25)#25  is   not  in  the  list\n",
    "except:\n",
    "\tprint('25  is   not  in  the  list')\n",
    "\n",
    "\n",
    "\n",
    "'''\n",
    "remove()   method\n",
    "---------------------\n",
    "1) What  does  remove(x)  do ?  --->  Removes   first  occurance  of  'x'  from  the  list\n",
    "\n",
    "2) What  does  remove()  method  do  if  'x'  is  not   in  the  list ?  --->  Throws  ValueError\n",
    "\n",
    "3) How  to  remove  all  ocurances  of  'x'  from  the  list ?  --->   Call  remove()  method  in  a  loop\n",
    "'''"
   ]
  },
  {
   "cell_type": "markdown",
   "id": "e2435837",
   "metadata": {},
   "source": [
    "'''\n",
    "Write  a  program  to  delete  'all'  occurences  of  'x'  from  the  list\n",
    "\n",
    "Let  1st  input  be   [10 , 20 , 15 , 18 , 19 , 15 , 17 , 20 , 15 , 14]  and\n",
    "2nd  input  be  15\n",
    "What  is  the  output ?  ---> [10 , 20 ,  18 , 19 , 17 , 20 , 14]\n",
    "'''"
   ]
  },
  {
   "cell_type": "code",
   "execution_count": 51,
   "id": "8ead22a9",
   "metadata": {},
   "outputs": [
    {
     "name": "stdout",
     "output_type": "stream",
     "text": [
      "List  without   15 : [10, 20, 18, 19, 17, 20, 14]\n"
     ]
    }
   ],
   "source": [
    "l=eval(input(\"Enter List  :\"))\n",
    "d=int(input(\"Enter  element  to  be  deleted : \"))\n",
    "while True:\n",
    "    try:\n",
    "        l.remove(d)\n",
    "    except ValueError: \n",
    "        break\n",
    "\n",
    "print(F'List  without   15 : {l}')"
   ]
  },
  {
   "cell_type": "code",
   "execution_count": 44,
   "id": "ec59b8a6",
   "metadata": {},
   "outputs": [
    {
     "name": "stdout",
     "output_type": "stream",
     "text": [
      "[10, 20, 18, 19, 17, 20, 14]\n"
     ]
    }
   ],
   "source": [
    "l=eval(input(\"Enter the list : \"))\n",
    "new=[]\n",
    "for x in l:\n",
    "    if x!=15:\n",
    "        new.append(x)\n",
    "print(new)"
   ]
  },
  {
   "cell_type": "code",
   "execution_count": 52,
   "id": "c76fae12",
   "metadata": {},
   "outputs": [
    {
     "name": "stdout",
     "output_type": "stream",
     "text": [
      "[10, 20, 15, 18]\n",
      "[]\n"
     ]
    },
    {
     "data": {
      "text/plain": [
       "'\\nclear()  method\\n------------------\\n1) What  does  clear()  method  do ?  --->  Removes  all  the  elements  of  the  list  and  list  becomes  empty\\n\\n2) What  about  remove()  and  pop()  methods  ?  ---> They  remove  single  element  of  the  list\\n'"
      ]
     },
     "execution_count": 52,
     "metadata": {},
     "output_type": "execute_result"
    }
   ],
   "source": [
    "# clear() method  demo program  (Home  work)\n",
    "list = [10 , 20 , 15 , 18]\n",
    "print(list)# [10 , 20 , 15 , 18]\n",
    "list . clear()\n",
    "print(list)#[]\n",
    "\n",
    "\n",
    "'''\n",
    "clear()  method\n",
    "------------------\n",
    "1) What  does  clear()  method  do ?  --->  Removes  all  the  elements  of  the  list  and  list  becomes  empty\n",
    "\n",
    "2) What  about  remove()  and  pop()  methods  ?  ---> They  remove  single  element  of  the  list\n",
    "'''"
   ]
  },
  {
   "cell_type": "code",
   "execution_count": 53,
   "id": "e06d1a43",
   "metadata": {},
   "outputs": [
    {
     "name": "stdout",
     "output_type": "stream",
     "text": [
      "[10, 20, 15, 18]\n",
      "[18, 15, 20, 10]\n"
     ]
    },
    {
     "data": {
      "text/plain": [
       "'\\nreverse()  method\\n---------------------\\n1) What  does  reverse()  method  do ?  --->  Reverses  all  the  elements  of  list\\n\\n2) Where  are  the  results  stored ?  --->  In  the  same  list  replacing  existing  elements (List  is  mutable)\\n'"
      ]
     },
     "execution_count": 53,
     "metadata": {},
     "output_type": "execute_result"
    }
   ],
   "source": [
    "# reverse()  method  demo  program (Home  work)\n",
    "a = [10 , 20 , 15 , 18]\n",
    "print(a)#[10 , 20 , 15 , 18]\n",
    "a . reverse()\n",
    "print(a)#[18,15,20,10]\n",
    "\n",
    "\n",
    "'''\n",
    "reverse()  method\n",
    "---------------------\n",
    "1) What  does  reverse()  method  do ?  --->  Reverses  all  the  elements  of  list\n",
    "\n",
    "2) Where  are  the  results  stored ?  --->  In  the  same  list  replacing  existing  elements (List  is  mutable)\n",
    "'''"
   ]
  },
  {
   "cell_type": "code",
   "execution_count": 54,
   "id": "40790ab5",
   "metadata": {},
   "outputs": [
    {
     "name": "stdout",
     "output_type": "stream",
     "text": [
      "[10, 20, 15, 18, 5]\n",
      "[5, 10, 15, 18, 20]\n",
      "[20, 18, 15, 10, 5]\n"
     ]
    }
   ],
   "source": [
    "#  sort()  method  demo  program (Home  work)\n",
    "list = [10 , 20 , 15 , 18 , 5]\n",
    "print(list)#[10 , 20 , 15 , 18 , 5]\n",
    "list . sort()\n",
    "print(list)#[5,10,15,18,20]\n",
    "list . sort(reverse = True)\n",
    "print(list)#[20,18,15,10,5]"
   ]
  },
  {
   "cell_type": "code",
   "execution_count": 55,
   "id": "55258e8e",
   "metadata": {},
   "outputs": [
    {
     "name": "stdout",
     "output_type": "stream",
     "text": [
      "['Rama', 'Rajesh', 'Amar', 'Sita', 'Vamsi', 'Kiran', 'Rama  Rao']\n",
      "['Amar', 'Kiran', 'Rajesh', 'Rama', 'Rama  Rao', 'Sita', 'Vamsi']\n",
      "['Vamsi', 'Sita', 'Rama  Rao', 'Rama', 'Rajesh', 'Kiran', 'Amar']\n"
     ]
    }
   ],
   "source": [
    "# Find  outputs (Home  work)\n",
    "a = ['Rama' , 'Rajesh' , 'Amar' ,  'Sita' ,  'Vamsi' , 'Kiran' , 'Rama  Rao']\n",
    "print(a)#['Rama' , 'Rajesh' , 'Amar' ,  'Sita' ,  'Vamsi' , 'Kiran' , 'Rama  Rao']\n",
    "a . sort()\n",
    "print(a)#['Amar','Kiran','Rajesh','Rama','Rama  Rao','Sita','Vamsi']\n",
    "a . sort(reverse = True)\n",
    "print(a)#['Vamsi','Sita', 'Rama  Rao', 'Rama', 'Rajesh', 'Kiran', 'Amar']"
   ]
  },
  {
   "cell_type": "code",
   "execution_count": 57,
   "id": "b68b29d6",
   "metadata": {},
   "outputs": [],
   "source": [
    "# Identify  error (Home  work)\n",
    "a = [25 , 10.8 ,  'Hyd' ,  True]\n",
    "#a . sort()#Error we cannot sort with different types"
   ]
  },
  {
   "cell_type": "code",
   "execution_count": 58,
   "id": "f7cee1a7",
   "metadata": {},
   "outputs": [
    {
     "name": "stdout",
     "output_type": "stream",
     "text": [
      "3\n",
      "0\n",
      "9\n"
     ]
    },
    {
     "data": {
      "text/plain": [
       "\"\\nWhat  does  list . count(x)  do ?  ---> Returns  number  of  times  'x'  is  in  the  list\\n\""
      ]
     },
     "execution_count": 58,
     "metadata": {},
     "output_type": "execute_result"
    }
   ],
   "source": [
    "#  count()  method  demo    program (Home  work)\n",
    "a = [10 , 20 , 15 , 18 , 15 , 12 , 14 , 15 , 19]\n",
    "print(a . count(15))#3\n",
    "print(a . count(25))#0\n",
    "print(len(a))#9\n",
    "\n",
    "\n",
    "'''\n",
    "What  does  list . count(x)  do ?  ---> Returns  number  of  times  'x'  is  in  the  list\n",
    "'''"
   ]
  },
  {
   "cell_type": "code",
   "execution_count": null,
   "id": "43afa38d",
   "metadata": {},
   "outputs": [],
   "source": [
    "'''\n",
    "Tricky  program\n",
    "Write  a  program  to  remove  all  duplicate  elements  of  the  list  (Not  even  single  occurance)\n",
    "Let  input  be  [10 , 20 , 15 , 10 , 14 , 10 , 18 , 20 , 19]\n",
    "What  is  the  output ?  ---> [15 , 14 , 18 , 19]\n",
    "\n",
    "Hint:  Use  count()  and  append()  methods\n",
    "'''"
   ]
  },
  {
   "cell_type": "code",
   "execution_count": null,
   "id": "e9a5632d",
   "metadata": {},
   "outputs": [
    {
     "name": "stdout",
     "output_type": "stream",
     "text": [
      "[15, 14, 18, 19]\n"
     ]
    }
   ],
   "source": [
    "l=eval(input(\"Enter the list :\"))\n",
    "New=[]\n",
    "for i in l:\n",
    "    if l.count(i)==1:\n",
    "        New.append(i)\n",
    "    else:\n",
    "        pass\n",
    "print(New)"
   ]
  },
  {
   "cell_type": "markdown",
   "id": "b5f43b64",
   "metadata": {},
   "source": [
    "'''\n",
    "Write  a  program  to  determine  all  the  list  elements  are  identical  or  not\n",
    "\n",
    "1) Let  input  be  [25 , 25 , 25 , 25]\n",
    "    What  is  the  output ?  ---> All  the  elements  are  identical\n",
    "    How  many  elements  are  in  the  list ?  --->  4\n",
    "    How  many  times  is  first  element  repeated ?  ---> 4\n",
    "\n",
    "2) Let  input  be  [10 , 10 , 20 ,  10]\n",
    "    What  is  the  output ?  --->All  the  elements  are  not  identical\n",
    "    How  many  elements  are  in  the  list ?  ---> 4\n",
    "    How  many  times  is  first  element  repeated ? --->  3\n",
    "\n",
    "3) Hint: Use  len()  and  count()\n",
    "'''\n",
    "\n",
    "Enter  any  list  :  [25,25,25,25]\n",
    "All  the  list  elements  are  identical\n",
    "\n",
    "Enter  any  list  :  [10,10,20,10]\n",
    "List   elements  are  not  identical"
   ]
  },
  {
   "cell_type": "code",
   "execution_count": 62,
   "id": "807c7c71",
   "metadata": {},
   "outputs": [
    {
     "name": "stdout",
     "output_type": "stream",
     "text": [
      "List   elements  are  not  identical\n"
     ]
    }
   ],
   "source": [
    "l=eval(input(\"Enter any list :\"))\n",
    "c=l.count(l[0])\n",
    "if len(l)==c:\n",
    "    print(F'All  the  list  elements  are  identical')\n",
    "else:\n",
    "    print(F'List   elements  are  not  identical')"
   ]
  },
  {
   "cell_type": "code",
   "execution_count": null,
   "id": "532defbc",
   "metadata": {},
   "outputs": [
    {
     "name": "stdout",
     "output_type": "stream",
     "text": [
      "2\n",
      "5\n",
      "8\n",
      "15  is  found  3  times \n"
     ]
    },
    {
     "data": {
      "text/plain": [
       "\"\\nindex()  method\\n-------------------\\n1) What  does  index(x)  do ?  --->  Returns  index  of  first  'x'  in  the  list\\n\\n2) What  does  index(invalid-element)  do  ?  --->  Throws  error\\n\\n3) list . index(x , i)\\n    list . index(x)\\n    What  is  the  difference  between  the  two  statements ?  --->\\n\\t\\t\\t\\t\\t\\t\\t\\t\\t\\tlist . index(x , i)  searches  for  'x'  from   index  'i'  of  the  list  but\\n\\t\\t\\t\\t\\t\\t\\t\\t\\t\\tlist . index(x)   searches  for  for  'x'  from   index  0  of  the  list\\n\\nNote:\\n1) What  are  the  four  search  methods  in  str  class  --->  find() , rfind() , index() , rindex()\\n\\n2) What  is  the  only  search  method  in  list  class  ---> index()\\n\""
      ]
     },
     "execution_count": 63,
     "metadata": {},
     "output_type": "execute_result"
    }
   ],
   "source": [
    "# index()  method  demo  program  (Home  work)\n",
    "a = [10 , 20 , 15 , 12 , 14 , 15 , 18 , 19 , 15 , 12 , 25]\n",
    "#     0   1     2    3    4   5    6    7     8    9    10\n",
    "try:\n",
    "\ti = a . index(15)\n",
    "\twhile  True:\n",
    "\t\tprint(i)#2,5,8\n",
    "\t\ti = a . index(15 , i + 1)\n",
    "except:\n",
    "\tprint(F'15  is  found  {a . count(15)}  times ')# 15 is found 3 times\n",
    "\n",
    "\n",
    "'''\n",
    "index()  method\n",
    "-------------------\n",
    "1) What  does  index(x)  do ?  --->  Returns  index  of  first  'x'  in  the  list\n",
    "\n",
    "2) What  does  index(invalid-element)  do  ?  --->  Throws  error\n",
    "\n",
    "3) list . index(x , i)\n",
    "    list . index(x)\n",
    "    What  is  the  difference  between  the  two  statements ?  --->\n",
    "\t\t\t\t\t\t\t\t\t\tlist . index(x , i)  searches  for  'x'  from   index  'i'  of  the  list  but\n",
    "\t\t\t\t\t\t\t\t\t\tlist . index(x)   searches  for  for  'x'  from   index  0  of  the  list\n",
    "\n",
    "Note:\n",
    "1) What  are  the  four  search  methods  in  str  class  --->  find() , rfind() , index() , rindex()\n",
    "\n",
    "2) What  is  the  only  search  method  in  list  class  ---> index()\n",
    "'''"
   ]
  },
  {
   "cell_type": "markdown",
   "id": "721dd8e1",
   "metadata": {},
   "source": [
    "'''\n",
    "Modify  the  following  program  with  walrus  operator\n",
    "\n",
    "Hint:  Call  index()  method  only  once\n",
    "'''\n",
    "a = [10 , 20 , 15 , 12 , 14 , 15 , 18 , 19 , 15 , 12 , 25]\n",
    "try:\n",
    "\ti = a . index(15)\n",
    "\twhile  True:\n",
    "\t\tprint(i)\n",
    "\t\ti = a . index(15 , i + 1)\n",
    "except:\n",
    "\tprint(F'15  is  found  {a . count(15)}  times ')"
   ]
  },
  {
   "cell_type": "code",
   "execution_count": 11,
   "id": "10ad0650",
   "metadata": {},
   "outputs": [
    {
     "name": "stdout",
     "output_type": "stream",
     "text": [
      "2\n",
      "5\n",
      "8\n",
      "15  is  found  3  times \n"
     ]
    }
   ],
   "source": [
    "a = [10 , 20 , 15 , 12 , 14 , 15 , 18 , 19 , 15 , 12 , 25]\n",
    "i=0\n",
    "try:\n",
    "    while i:=a.index(15,i+1):\n",
    "        print(i)\n",
    "except:\n",
    "    print(F'15  is  found  {a . count(15)}  times ')"
   ]
  },
  {
   "cell_type": "markdown",
   "id": "532f8244",
   "metadata": {},
   "source": [
    "'''\n",
    "Most   tricky  program\n",
    "Write  a  program  to  determine  first  list  is  a  sublist  of  2nd  list  or  not.\n",
    "Print  True  if  it  is  a  sublist  and  False  otherwise\n",
    "\n",
    "1) First  list :  [10 , 20 , 30]\n",
    "    Second  list :  [15 , 18 , 10 ,  12 ,  19 , 20 , 14 , 12 , 30 , 25 ,  16]\n",
    "    What  is  the  output ?  --->  True  becoz  elements  10 , 20 , 30  are  in  2nd  list  in  same  order\n",
    "\n",
    "2) First  list :  [10 , 20 , 20]\n",
    "    Second  list :  [15 , 18 , 10 ,  12 ,  19 , 20 , 14 , 12 , 30 , 25 ,  16]\n",
    "    What  is  the  output ?  ---> False  becoz   elements  10 , 20 , 30  are  not  in  2nd  list\n",
    "\n",
    "3) First  list :  [2 , 2 , 5]\n",
    "    Second  list :  [2 , 2 , 3 , 4 , 5]\n",
    "    What  is  the  output ?  --->  True  becoz   elements  2 , 2 , 5  are  in  [2 , 2 , 3 , 4 , 5]\n",
    "\n",
    "4) First  list :  [2 , 4 , 3]\n",
    "    Second  list :  [2 , 2 , 3 , 4 , 5]\n",
    "    What  is  the  output ?  --->  False  becoz   elements  2 , 4 , 3   are  not  in  [2 , 2 , 3 , 4 , 5]\n",
    "\n",
    "5) Hint:  Use  index()  method\n",
    "'''\n",
    "Enter  the  first  list :  [10 , 20 , 30]\n",
    "Enter  the  second  list : [15 , 18 , 10 ,  12 ,  19 , 20 , 14 , 12 , 30 , 25 ,  16]\n",
    "True\n",
    "\n",
    "Enter  the  first  list : [10 , 20 , 20]\n",
    "Enter  the  second  list : [15 , 18 , 10 ,  12 ,  19 , 20 , 14 , 12 , 30 , 25 ,  16]\n",
    "False"
   ]
  },
  {
   "cell_type": "code",
   "execution_count": 33,
   "id": "9cc81a11",
   "metadata": {},
   "outputs": [
    {
     "name": "stdout",
     "output_type": "stream",
     "text": [
      "False\n"
     ]
    }
   ],
   "source": [
    "a = eval(input(\"Enter  the  first  list :  \"))\n",
    "b= eval(input(\"Enter  the  second  list :\"))\n",
    "i = b . index(a[0])\n",
    "try:\n",
    "\tfor j in range(1,len(b)):\n",
    "\t\ti = b . index( a[j], i + 1)\n",
    "except IndexError:\n",
    "\tprint(True)\n",
    "except ValueError:\n",
    "\tprint(False)"
   ]
  },
  {
   "cell_type": "code",
   "execution_count": 34,
   "id": "d0a197e8",
   "metadata": {},
   "outputs": [
    {
     "name": "stdout",
     "output_type": "stream",
     "text": [
      "[10, 20, 15, 18]\n",
      "False\n",
      "True\n",
      "[10, 20, 15, 18]\n",
      "False\n",
      "True\n",
      "[10, 20, 15, 18]\n",
      "True\n",
      "True\n"
     ]
    },
    {
     "data": {
      "text/plain": [
       "'\\ncopy()  method\\n------------------\\n1) What  does  copy()  method  do ? --->  Returns  a  new  list  with  same  elements\\n\\n2) b = a . copy()\\n    What  is  another  way  to  copy  list  elements  to  another list ?  --->  b = a[:]\\n'"
      ]
     },
     "execution_count": 34,
     "metadata": {},
     "output_type": "execute_result"
    }
   ],
   "source": [
    "# copy()  method  demo program  (Home  work)\n",
    "a = [10 , 20 , 15 , 18]\n",
    "b = a . copy()\n",
    "print(b)#[10,20,15,18]\n",
    "print(a  is  b)#False\n",
    "print(a  ==  b)#True\n",
    "c = a[:]\n",
    "print(c)#[10,20,15,18]\n",
    "print(a  is  c)#False\n",
    "print(a  ==  c)#True\n",
    "d = a\n",
    "print(d)#[10,20,15,18]\n",
    "print(a  is  d)#True\n",
    "print(a  ==  d)#True\n",
    "\n",
    "\n",
    "'''\n",
    "copy()  method\n",
    "------------------\n",
    "1) What  does  copy()  method  do ? --->  Returns  a  new  list  with  same  elements\n",
    "\n",
    "2) b = a . copy()\n",
    "    What  is  another  way  to  copy  list  elements  to  another list ?  --->  b = a[:]\n",
    "'''"
   ]
  },
  {
   "cell_type": "markdown",
   "id": "62394c09",
   "metadata": {},
   "source": [
    "'''\n",
    "Tricky  program\n",
    "Write  a  program  to  determine  mode\n",
    "\n",
    "1) What  is  mode ?  ---> The  element  which  is  repeated  maximum  number  of  times  in  the  list\n",
    "\n",
    "2) Let  input  be  [12 , 20 , 18 , 15 , 10 ,  15 , 10 ,  15 ,  20 , 18 , 15 , 10 , 20 , 15 , 10]\n",
    "    What  is  set(list) ?  ---> {12 , 20 , 18 , 15 , 10}\n",
    "    How  many  times  is  first  element  12  repeated  in  the  list  ?  --->  1\n",
    "    How  many  times  is  2nd  element  20  repeated  in  the  list  ?  --->  3\n",
    "    How  many  times  is  3rd  element  18  repeated  in  the  list  ?  --->  2\n",
    "    How  many  times  is  4th  element  15  repeated  in  the  list  ?  --->  5\n",
    "    How  many  times  is  last  element  10  repeated  in  the  list  ?  --->  4\n",
    "    What  is  the  mode  ?  --->\t15  becoz  it  is  repeated  max  number  of  times  i.e.  5\n",
    "\n",
    "3) mode = 15\n",
    "    ctr = 5\n",
    "'''\n",
    "Enter  List  :   [12 , 20 , 18 , 15 , 10 ,  15 , 10 ,  15 ,  20 , 18 , 15 , 10 , 20 , 15 , 10]\n",
    "Mode :  15"
   ]
  },
  {
   "cell_type": "code",
   "execution_count": null,
   "id": "066c58da",
   "metadata": {},
   "outputs": [
    {
     "name": "stdout",
     "output_type": "stream",
     "text": [
      "Mode :15\n"
     ]
    }
   ],
   "source": [
    "a = eval(input(\"Enter  the  first  list :  \"))\n",
    "d={}\n",
    "for x in a:\n",
    "    ctr=a.count(x)\n",
    "    mode=x\n",
    "    d[x]=ctr\n",
    "result=max(d,key=d.get)   \n",
    "print(F'Mode : {result}') \n"
   ]
  },
  {
   "cell_type": "code",
   "execution_count": 44,
   "id": "1ebda4db",
   "metadata": {},
   "outputs": [
    {
     "name": "stdout",
     "output_type": "stream",
     "text": [
      "[[10, 20, 30, 40], [50, 60, 70, 80], [90, 100, 110, 120]]\n",
      "3\n",
      "[10, 20, 30, 40]\n",
      "[50, 60, 70, 80]\n",
      "[90, 100, 110, 120]\n",
      "30\n",
      "80\n",
      "100\n"
     ]
    },
    {
     "data": {
      "text/plain": [
       "'\\nWhat  is  a  nested  list ?  --->  A  list  in  another  list\\n'"
      ]
     },
     "execution_count": 44,
     "metadata": {},
     "output_type": "execute_result"
    }
   ],
   "source": [
    "#  Nested  List  demo  program  (Home  work)\n",
    "a = [[10 , 20 , 30 ,  40]  ,  [50 , 60 ,  70 , 80]  ,  [90 , 100 , 110 , 120] ]\n",
    "print(a)#[[10 , 20 , 30 ,  40]  ,  [50 , 60 ,  70 , 80]  ,  [90 , 100 , 110 , 120] ]\n",
    "print(len(a))#3\n",
    "print(a[0])#How  to  print  1st  inner  list)\n",
    "print(a[1])#How  to  print  2nd  inner  list)\n",
    "print(a[2])#How  to  print  3rd  inner  list)\n",
    "print(a[0][2])#How  to  print  30)\n",
    "print(a[1][3])#How  to  print  80)\n",
    "print(a[2][1])#How  to  print  100)\n",
    "\n",
    "\n",
    "'''\n",
    "What  is  a  nested  list ?  --->  A  list  in  another  list\n",
    "'''"
   ]
  },
  {
   "cell_type": "code",
   "execution_count": 45,
   "id": "1c15558e",
   "metadata": {},
   "outputs": [
    {
     "name": "stdout",
     "output_type": "stream",
     "text": [
      "[10, 20]\n",
      "[30, 40, 50]\n",
      "[60, 70, 80, 90]\n",
      "10 20\n",
      "30 40 50\n",
      "60 70 80 90\n"
     ]
    }
   ],
   "source": [
    "#  Find  outputs  (Home  work)\n",
    "a=[ [10 , 20] , [30 , 40 , 50] , [60 , 70 , 80 , 90]]\n",
    "print(a[0])#How  to  print  1st   inner  list)\n",
    "print(a[1])#How  to  print  2nd   inner  list)\n",
    "print(a[2])#How  to  print  3rd   inner  list)\n",
    "print(*a[0])#How  to  print  number  of  elements  in  1st  inner  list)\n",
    "print(*a[1])#How  to  print  number  of  elements  in  2nd  inner  list)\n",
    "print(*a[2])#How  to  print  number  of  elements  in  3rd  inner  list)"
   ]
  },
  {
   "cell_type": "code",
   "execution_count": 46,
   "id": "4d5aa234",
   "metadata": {},
   "outputs": [
    {
     "name": "stdout",
     "output_type": "stream",
     "text": [
      "[[10, 20], [30, 40, 50], [60, 70, 80, 90]]\n",
      "[10, 20] [30, 40, 50] [60, 70, 80, 90]\n",
      "[10, 20]\n",
      "[30, 40, 50]\n",
      "[60, 70, 80, 90]\n",
      "Elements  in  the  form   of  matrix   without  using  indexes\n",
      "10 20\n",
      "30 40 50\n",
      "60 70 80 90\n",
      "Elements  in  the  form   of  matrix  using  indexes\n",
      "10\n",
      "20\n",
      "30\n",
      "40\n",
      "50\n",
      "60\n",
      "70\n",
      "80\n",
      "90\n"
     ]
    },
    {
     "data": {
      "text/plain": [
       "'\\nmatrix   style\\n----------------\\n10    20\\n30    40   50\\n60    70   80   90\\n'"
      ]
     },
     "execution_count": 46,
     "metadata": {},
     "output_type": "execute_result"
    }
   ],
   "source": [
    "#  How  to  print  nested  list  in  differnent  ways\n",
    "a = [[10 , 20] , [30 , 40 ,  50] , [60 , 70 , 80 , 90]]\n",
    "print(a)#'Nested list  with  print function')\n",
    "#print(???)\n",
    "print(*a)#'Each  inner  list   of   outer  list  without  indexes')\n",
    "for i in a:\n",
    "    print(i)#How  to  print  each  inner  list  of  list  'a'  without  using  indexes  (use  for  loop)\n",
    "print('Elements  in  the  form   of  matrix   without  using  indexes')\n",
    "for i in a:\n",
    "    print(*i)#How  to   print  elements  of  each  inner  list  without  using  indexes  in  matrix style  (use  nested  loop)\n",
    "print('Elements  in  the  form   of  matrix  using  indexes')\n",
    "for i in a:\n",
    "    for j in i:\n",
    "        print(j)#How  to   print  elements  of  each  inner  list  using  indexes  in  matrix style (use  nested  loop)\n",
    "\n",
    "\n",
    "\n",
    "'''\n",
    "matrix   style\n",
    "----------------\n",
    "10    20\n",
    "30    40   50\n",
    "60    70   80   90\n",
    "'''"
   ]
  },
  {
   "cell_type": "code",
   "execution_count": 47,
   "id": "2b1f1e2e",
   "metadata": {},
   "outputs": [
    {
     "name": "stdout",
     "output_type": "stream",
     "text": [
      "[10, 20]\n",
      "[30, 40]\n",
      "[50, 60]\n",
      "[70, 80]\n",
      "\n",
      "10...20\n",
      "30...40\n",
      "50...60\n",
      "70...80\n"
     ]
    }
   ],
   "source": [
    "#  Find  outputs (Home  work)\n",
    "a = [[10 , 20] , [30 , 40] , [50 , 60] , [70 , 80]]\n",
    "for  x  in  a:\n",
    "    print(x)#[10,20]\n",
    "    #[30,40]\n",
    "    #[50,60]\n",
    "    #[70,80]\n",
    "print()#''\n",
    "for  x , y  in  a:\n",
    "\tprint(x , y , sep = '...')#10...20\n",
    "      #30...40\n",
    "      #50...60\n",
    "      #70...80"
   ]
  },
  {
   "cell_type": "code",
   "execution_count": null,
   "id": "88b15e41",
   "metadata": {},
   "outputs": [
    {
     "name": "stdout",
     "output_type": "stream",
     "text": [
      "[10, 20, 30]\n",
      "[40, 50, 60]\n",
      "[70, 80, 90]\n",
      "\n",
      "10...20...30\n",
      "40...50...60\n",
      "70...80...90\n"
     ]
    }
   ],
   "source": [
    "#  Find  outputs (Home  work)\n",
    "a = [[10 , 20 , 30] , [40 , 50 , 60] , [70 , 80 , 90]]\n",
    "for  x  in  a:\n",
    "    print(x)#[10 , 20 , 30]\n",
    "    #[40 , 50 , 60]\n",
    "    #[70 , 80 , 90]\n",
    "print()\n",
    "for  x , y ,  z  in   a:\n",
    "\tprint(x , y , z , sep = '...')\n",
    "      #10...20...30\n",
    "#40...50...60\n",
    "#70...80...90"
   ]
  },
  {
   "cell_type": "code",
   "execution_count": null,
   "id": "b3bfb8e6",
   "metadata": {},
   "outputs": [
    {
     "name": "stdout",
     "output_type": "stream",
     "text": [
      "[10, 20]\n",
      "[30, 40, 50]\n",
      "[60, 70, 80, 90]\n",
      "10...20\n"
     ]
    },
    {
     "ename": "ValueError",
     "evalue": "too many values to unpack (expected 2)",
     "output_type": "error",
     "traceback": [
      "\u001b[31m---------------------------------------------------------------------------\u001b[39m",
      "\u001b[31mValueError\u001b[39m                                Traceback (most recent call last)",
      "\u001b[36mCell\u001b[39m\u001b[36m \u001b[39m\u001b[32mIn[49]\u001b[39m\u001b[32m, line 5\u001b[39m\n\u001b[32m      3\u001b[39m \u001b[38;5;28;01mfor\u001b[39;00m  x  \u001b[38;5;129;01min\u001b[39;00m  a:\n\u001b[32m      4\u001b[39m \t\u001b[38;5;28mprint\u001b[39m(x)\n\u001b[32m----> \u001b[39m\u001b[32m5\u001b[39m \u001b[38;5;28;01mfor\u001b[39;00m  x , y  \u001b[38;5;129;01min\u001b[39;00m  a:\n\u001b[32m      6\u001b[39m \t\u001b[38;5;28mprint\u001b[39m(x , y ,\tsep = \u001b[33m'\u001b[39m\u001b[33m...\u001b[39m\u001b[33m'\u001b[39m)\n",
      "\u001b[31mValueError\u001b[39m: too many values to unpack (expected 2)"
     ]
    }
   ],
   "source": [
    "#  Find  outputs (Home  work)\n",
    "a = [[10 , 20] , [30 , 40 , 50] , [60 , 70 , 80 , 90]]\n",
    "for  x  in  a:\n",
    "\tprint(x)#[10, 20]\n",
    "#[30, 40, 50]\n",
    "#[60, 70, 80, 90]\n",
    "for  x , y  in  a:\n",
    "\tprint(x , y ,\tsep = '...')#10...20 next error"
   ]
  },
  {
   "cell_type": "code",
   "execution_count": 50,
   "id": "8172b5ca",
   "metadata": {},
   "outputs": [
    {
     "name": "stdout",
     "output_type": "stream",
     "text": [
      "[]\n",
      "[]\n"
     ]
    }
   ],
   "source": [
    "#  Find  outputs  (Home  work)\n",
    "a = [[]]\n",
    "print(*a)#How  to  print  inner  list)\n",
    "print(a[0])#How  to  print  inner  list  in  another  way)"
   ]
  },
  {
   "cell_type": "code",
   "execution_count": null,
   "id": "f52db84a",
   "metadata": {},
   "outputs": [
    {
     "name": "stdout",
     "output_type": "stream",
     "text": [
      "[[5, 'Amar', 5000.0], [10, 'Rama', 1000.0], [15, 'Rajesh', 3500.0], [18, 'Kiran', 2800.0], [20, 'Sita', 2000.0]]\n",
      "[[20, 'Sita', 2000.0], [18, 'Kiran', 2800.0], [15, 'Rajesh', 3500.0], [10, 'Rama', 1000.0], [5, 'Amar', 5000.0]]\n",
      "[[10, 'Rama', 1000.0], [20, 'Sita', 2000.0], [15, 'Rajesh', 3500.0], [18, 'Kiran', 2800.0], [5, 'Amar', 5000.0]]\n"
     ]
    }
   ],
   "source": [
    "#  Find  outputs  (Home  work)\n",
    "a = [[10 , 'Rama' , 1000.0] , [20 , 'Sita' , 2000.0] , [15 , 'Rajesh' , 3500.0] , [18 , 'Kiran' , 2800.0] , [5 , 'Amar'  ,5000.0] ]\n",
    "print(sorted(a))#[[5, 'Amar', 5000.0], [10, 'Rama', 1000.0], [15, 'Rajesh', 3500.0], [18, 'Kiran', 2800.0], [20, 'Sita', 2000.0]]\n",
    "print(sorted(a , reverse = True))#[[20, 'Sita', 2000.0], [18, 'Kiran', 2800.0], [15, 'Rajesh', 3500.0], [10, 'Rama', 1000.0], [5, 'Amar', 5000.0]]\n",
    "print(a)#[[10, 'Rama', 1000.0], [20, 'Sita', 2000.0], [15, 'Rajesh', 3500.0], [18, 'Kiran', 2800.0], [5, 'Amar', 5000.0]]"
   ]
  },
  {
   "cell_type": "code",
   "execution_count": 3,
   "id": "97974e74",
   "metadata": {},
   "outputs": [
    {
     "name": "stdout",
     "output_type": "stream",
     "text": [
      "(25, 10.8, (3+4j), 'Hyd', True, None, 'Hyd', 25)\n",
      "<class 'tuple'>\n"
     ]
    }
   ],
   "source": [
    "# Find  outputs   (Home  work)\n",
    "a = 25 , 10.8 , 3 + 4j , 'Hyd' , True , None , 'Hyd' , 25\n",
    "print(a)#(25 , 10.8 , 3 + 4j , 'Hyd' , True , None , 'Hyd' , 25)\n",
    "print(type(a))#<class 'tuple'>\n",
    "#a[3] = 'Sec'#Error bcz tuples are immutable\n",
    "#a[3 : 6] = 60 , 70 , 80#Error bcz tuples are immutable"
   ]
  },
  {
   "cell_type": "code",
   "execution_count": null,
   "id": "b7211488",
   "metadata": {},
   "outputs": [
    {
     "name": "stdout",
     "output_type": "stream",
     "text": [
      "(1, 2, 3) 2753948104320\n",
      "(1, 2, 3, 4, 5, 6) 2753948163072\n"
     ]
    }
   ],
   "source": [
    "#  Find  outputs\n",
    "a = (1,2,3)\n",
    "b = (4,5,6)\n",
    "print(a , id(a))#(1, 2, 3) address of a\n",
    "a += b\n",
    "print(a , id(a))#(1, 2, 3, 4, 5, 6) address of new tuple"
   ]
  },
  {
   "cell_type": "code",
   "execution_count": null,
   "id": "ffe8a7e2",
   "metadata": {},
   "outputs": [],
   "source": [
    "#  Find  outputs\n",
    "a = (1,2,3)\n",
    "b = (4,5,6)\n",
    "print(a , id(a))#(1, 2, 3) address of a\n",
    "a = a + b\n",
    "print(a , id(a))#(1, 2, 3, 4, 5, 6) address of new tuple"
   ]
  },
  {
   "cell_type": "code",
   "execution_count": null,
   "id": "a8057c18",
   "metadata": {},
   "outputs": [
    {
     "name": "stdout",
     "output_type": "stream",
     "text": [
      "(10 , 20 , 30 , 40)\n",
      "<class 'str'>\n",
      "(10, 20, 30, 40)\n",
      "<class 'tuple'>\n",
      "4\n"
     ]
    }
   ],
   "source": [
    "#  What   are  the  outputs  if  input  is  (10 , 20 , 30 , 40) ?   (Home  work)\n",
    "a = input('Enter  Tuple  :  ')\n",
    "print(a)#(10 , 20 , 30 , 40)\n",
    "print(type(a))#<class 'str'>\n",
    "b = eval(a)\n",
    "print(b)#(10 , 20 , 30 , 40)\n",
    "print(type(b))#<class 'tuple'>\n",
    "print(len(b))#4"
   ]
  },
  {
   "cell_type": "code",
   "execution_count": 8,
   "id": "3386cd90",
   "metadata": {},
   "outputs": [
    {
     "name": "stdout",
     "output_type": "stream",
     "text": [
      "(10, [70, 30, 40], 50, 60)\n"
     ]
    }
   ],
   "source": [
    "# Find  outputs  (Home  work)\n",
    "a = (10 , [20 , 30 , 40] , 50 , 60)\n",
    "a[1][0] = 70\n",
    "print(a)#(10 , [70 , 30 , 40] , 50 , 60)\n",
    "#a[1] = [80 , 90 , 100]\n",
    "#print(a)#Error bcz tuples are immutable"
   ]
  },
  {
   "cell_type": "code",
   "execution_count": 10,
   "id": "586c7b48",
   "metadata": {},
   "outputs": [
    {
     "name": "stdout",
     "output_type": "stream",
     "text": [
      "[10, [80, 90], 50, 60]\n"
     ]
    }
   ],
   "source": [
    "# Find  outputs  (Home  work)\n",
    "a = [10 , (20 , 30 , 40) , 50 , 60]\n",
    "#a[1][0] = 70\n",
    "#print(a)#Error bcz tuples are immutable\n",
    "a[1] = [80 , 90]\n",
    "print(a)#(10 , [80 , 90] , 50 , 60)"
   ]
  },
  {
   "cell_type": "code",
   "execution_count": 11,
   "id": "2288eb43",
   "metadata": {},
   "outputs": [
    {
     "name": "stdout",
     "output_type": "stream",
     "text": [
      "(25, 10.8, 'Hyd', True)\n",
      "<class 'tuple'>\n"
     ]
    }
   ],
   "source": [
    "# Find  outputs   (Home  work)\n",
    "a = 25\n",
    "b = 10.8\n",
    "c = 'Hyd'\n",
    "d = True\n",
    "x = a , b , c , d\n",
    "print(x)#(25,10.8,'Hyd',True)\n",
    "print(type(x))#<class 'tuple'>"
   ]
  },
  {
   "cell_type": "code",
   "execution_count": 14,
   "id": "cb7a75fc",
   "metadata": {},
   "outputs": [
    {
     "name": "stdout",
     "output_type": "stream",
     "text": [
      "25\n",
      "10.8\n",
      "Hyd\n",
      "True\n"
     ]
    }
   ],
   "source": [
    "# Find  outputs   (Home  work)\n",
    "x = 25 , 10.8 , 'Hyd' , True\n",
    "a , b , c , d = x\n",
    "print(a)#25\n",
    "print(b)#10.8\n",
    "print(c)#'Hyd'\n",
    "print(d)#True\n",
    "#p , q , r =  x#Error\n",
    "#a , b , c , d  , e = x#Error\n"
   ]
  },
  {
   "cell_type": "code",
   "execution_count": 15,
   "id": "48d5b9c1",
   "metadata": {},
   "outputs": [
    {
     "name": "stdout",
     "output_type": "stream",
     "text": [
      "25\n",
      "[10.8, 'Hyd']\n",
      "True\n"
     ]
    }
   ],
   "source": [
    "# Find  outputs   (Home  work)\n",
    "x = 25 , 10.8 , 'Hyd' , True\n",
    "a , *b , c = x\n",
    "print(a)#25\n",
    "print(b)#[10.8,'Hyd']\n",
    "print(c)#True"
   ]
  },
  {
   "cell_type": "code",
   "execution_count": 17,
   "id": "8dd78d37",
   "metadata": {},
   "outputs": [
    {
     "name": "stdout",
     "output_type": "stream",
     "text": [
      "25\n",
      "10.8\n",
      "[]\n",
      "Hyd\n",
      "True\n"
     ]
    }
   ],
   "source": [
    "# Find  outputs   (Home  work)\n",
    "tpl = 25 , 10.8 , 'Hyd' , True\n",
    "a , b , *c , d , e = tpl\n",
    "print(a)#25\n",
    "print(b)#10.8\n",
    "print(c)#[]\n",
    "print(d)#'Hyd'\n",
    "print(e)#True"
   ]
  },
  {
   "cell_type": "code",
   "execution_count": 18,
   "id": "48470534",
   "metadata": {},
   "outputs": [
    {
     "name": "stdout",
     "output_type": "stream",
     "text": [
      "25\n",
      "10.8\n",
      "(3+4j)\n",
      "True\n",
      "(3+4j)\n"
     ]
    }
   ],
   "source": [
    "# Find  outputs   (Home  work)\n",
    "x = 25 , 10.8 , 'Hyd' , True , 3 + 4j\n",
    "a , b , _ , d , _= x\n",
    "print(a)#25\n",
    "print(b)#10.8\n",
    "print(_)#3+4j\n",
    "print(d)#True\n",
    "print(_)#3+4j"
   ]
  },
  {
   "cell_type": "code",
   "execution_count": 21,
   "id": "6ba94222",
   "metadata": {},
   "outputs": [
    {
     "name": "stdout",
     "output_type": "stream",
     "text": [
      "(100, 110, 120, 130, 140)\n",
      "<class 'tuple'>\n",
      "(10, 20, 15, 18)\n",
      "('V', 'a', 'm', 's', 'i')\n",
      "()\n"
     ]
    },
    {
     "data": {
      "text/plain": [
       "'\\ntuple()  function\\n--------------------\\n1) What  does  tuple(sequence)  do  ?  --->  Converts  sequence  to  tuple\\n\\n2) What  does  tuple(No-args)  do  ?  ---> Returns  an  empty  tuple\\n\\n3) Is  tuple(non-sequence)  valid ?  --->  No  becoz  argument  should  be  sequence  only\\n\\n4) How  many  arguments  can  tuple()  function  take ?  --->  1 (or)  none  but  not  more  than  one\\n'"
      ]
     },
     "execution_count": 21,
     "metadata": {},
     "output_type": "execute_result"
    }
   ],
   "source": [
    "# tuple()  function  demo  program   (Home  work)\n",
    "a = range(100 , 150 , 10)#(100, 110, 120, 130, 140)\n",
    "b = tuple(a)#(100, 110, 120, 130, 140)\n",
    "print(b)#(100, 110, 120, 130, 140)\n",
    "print(type(b))#<class 'tuple'>\n",
    "c = [10 , 20 , 15, 18]\n",
    "d = tuple(c)\n",
    "print(d)#(10, 20, 15, 18)\n",
    "e = tuple('Vamsi')\n",
    "print(e)#('V', 'a', 'm', 's', 'i')\n",
    "#print(tuple(25))#Error bcz 25 is non-sequence\n",
    "print(tuple())#()\n",
    "\n",
    "\n",
    "'''\n",
    "tuple()  function\n",
    "--------------------\n",
    "1) What  does  tuple(sequence)  do  ?  --->  Converts  sequence  to  tuple\n",
    "\n",
    "2) What  does  tuple(No-args)  do  ?  ---> Returns  an  empty  tuple\n",
    "\n",
    "3) Is  tuple(non-sequence)  valid ?  --->  No  becoz  argument  should  be  sequence  only\n",
    "\n",
    "4) How  many  arguments  can  tuple()  function  take ?  --->  1 (or)  none  but  not  more  than  one\n",
    "'''"
   ]
  },
  {
   "cell_type": "code",
   "execution_count": null,
   "id": "1ca31f7e",
   "metadata": {},
   "outputs": [
    {
     "name": "stdout",
     "output_type": "stream",
     "text": [
      "15 is found at index :  2\n",
      "15 is found at index :  5\n",
      "15 is found at index :  8\n",
      "15  is  found  3  times\n"
     ]
    }
   ],
   "source": [
    "#index()  and  count()  methods  demo  program   (Home  work)\n",
    "a = (10 , 20 , 15 , 12 , 14 , 15 , 18 , 19 , 15 , 12 , 25)\n",
    "#     0    1      2     3    4     5     6    7     8    9    10\n",
    "try:\n",
    "\ti = a . index(15)\n",
    "\twhile  True:\n",
    "\t\tprint('15 is found at index : ' , i)\n",
    "\t\ti = a . index(15 , i + 1)\n",
    "except:\n",
    "\t\tprint(F'15  is  found  {a . count(15)}  times')#15 is found at index :  2\n",
    "#15 is found at index :  5\n",
    "#15 is found at index :  8\n",
    "#15  is  found  3  times"
   ]
  },
  {
   "cell_type": "code",
   "execution_count": null,
   "id": "54a700d7",
   "metadata": {},
   "outputs": [
    {
     "name": "stdout",
     "output_type": "stream",
     "text": [
      "(10, 20, 30, 40, 50)\n",
      "1585321104688\n",
      "(30, 40, 50, 35, 40, 50)\n",
      "1585321164960\n"
     ]
    }
   ],
   "source": [
    "#  How  to  modify  an  element  of  tuple ?    (Home  work)\n",
    "a  =  10 ,  20 ,  30 ,   40 ,  50\n",
    "#     0      1       2       3      4\n",
    "#a[2] = 35#Error bcz tuple is immutable\n",
    "print(a)#(10,20,30,40,50)\n",
    "print(id(a))#address of a\n",
    "a=a[2:]+(35,)+a[3:]#How  to  modify  30  in  tuple  to  35\n",
    "print(a)#(30, 40, 50, 35, 40, 50)\n",
    "print(id(a))#address updated a"
   ]
  },
  {
   "cell_type": "code",
   "execution_count": 6,
   "id": "d081fa88",
   "metadata": {},
   "outputs": [
    {
     "name": "stdout",
     "output_type": "stream",
     "text": [
      "(10, 20, 30, 40, 50)\n",
      "1585321616032\n",
      "(10, 20, 40, 50)\n",
      "1585321616192\n"
     ]
    }
   ],
   "source": [
    "# How  to  delete  an  element  of  tuple ?   (Home  work)\n",
    "a  = 10 , 20 , 30 , 40 , 50\n",
    "#    0     1      2     3      4\n",
    "#a . remove(30)#Error bcz tuple dont have remove method\n",
    "#del  a[2]#Error bcz tuple is immutable\n",
    "#a . pop(2)#Error bcz tuple is immutable\n",
    "print(a)#(10, 20, 30, 40, 50)\n",
    "print(id(a))#Address of a\n",
    "a=a[0:2]+a[3:]#How  to  remove  30  from  tuple  'a'\n",
    "print(a)#(10, 20, 40, 50)\n",
    "print(id(a))#Address updated a"
   ]
  },
  {
   "cell_type": "code",
   "execution_count": 7,
   "id": "68d6c62b",
   "metadata": {},
   "outputs": [
    {
     "name": "stdout",
     "output_type": "stream",
     "text": [
      "((10, 20), (30, 40, 50), (60, 70, 80, 90))\n",
      "<class 'tuple'>\n",
      "3\n",
      "(10, 20)\n",
      "(30, 40, 50)\n",
      "(60, 70, 80, 90)\n",
      "20\n",
      "50\n",
      "90\n"
     ]
    }
   ],
   "source": [
    "#  Nested   tuple  (Home  work)\n",
    "a = ( (10 , 20)  ,  (30 , 40 , 50)  ,  (60 , 70 , 80 , 90) )\n",
    "print(a)#( (10 , 20)  ,  (30 , 40 , 50)  ,  (60 , 70 , 80 , 90) )\n",
    "print(type(a))#<class 'tuple'>\n",
    "print(len(a))#3\n",
    "print(a[0])#(10, 20)\n",
    "print(a[1])#(30, 40, 50)\n",
    "print(a[2])#(60, 70, 80, 90)\n",
    "print(a[0][1])#20\n",
    "print(a[1][2])#50\n",
    "print(a[2][3])#90"
   ]
  },
  {
   "cell_type": "code",
   "execution_count": 9,
   "id": "88e6ff8d",
   "metadata": {},
   "outputs": [
    {
     "name": "stdout",
     "output_type": "stream",
     "text": [
      "(10, 20, 30)\n",
      "(10, 20, 30)\n",
      "10\n",
      "20\n",
      "30\n",
      "()\n"
     ]
    }
   ],
   "source": [
    "# Find  outputs  (Home  work)\n",
    "a = ((10 , 20 , 30),)\n",
    "print(a[0])#(10, 20, 30)\n",
    "print(a[0])#(10, 20, 30)\n",
    "print(a[0][0])#10\n",
    "print(a[0][1])#20\n",
    "print(a[0][2])#30\n",
    "b = ((),)\n",
    "print(b[0])#()\n",
    "#print(b[0][0])#Error bcz inner tuple is empty"
   ]
  },
  {
   "cell_type": "code",
   "execution_count": null,
   "id": "a45ca0aa",
   "metadata": {},
   "outputs": [
    {
     "name": "stdout",
     "output_type": "stream",
     "text": [
      "(10, 20, 30)\n",
      "10 20 30\n",
      "()\n",
      "\n"
     ]
    }
   ],
   "source": [
    "#  Find  outputs (Home  work)\n",
    "a = ((10 , 20 , 30))\n",
    "print(a)#(10, 20, 30)\n",
    "print(*a)#10 20 30\n",
    "b = (())\n",
    "print(b)#()\n",
    "#print(*b)#Error bcz inner tuple is empty"
   ]
  },
  {
   "cell_type": "code",
   "execution_count": null,
   "id": "0af408a4",
   "metadata": {},
   "outputs": [
    {
     "name": "stdout",
     "output_type": "stream",
     "text": [
      "{10 , 20 , 15 , 18 , 20 , 12 , 18}\n",
      "<class 'str'>\n",
      "{18, 20, 10, 12, 15}\n",
      "<class 'set'>\n"
     ]
    }
   ],
   "source": [
    "# What  are  the  outputs  if  input  is  {10 , 20 , 15 , 18 , 20 , 12 , 18}\n",
    "a = input('Enter  Set  :  ')\n",
    "print(a)#{10 , 20 , 15 , 18 , 20 , 12 , 18}\n",
    "print(type(a))#<class 'str'>\n",
    "b = eval(a)\n",
    "print(b)#{10, 12, 15, 18, 20}\n",
    "print(type(b))#<class 'set'>"
   ]
  },
  {
   "cell_type": "code",
   "execution_count": 14,
   "id": "ad645497",
   "metadata": {},
   "outputs": [
    {
     "name": "stdout",
     "output_type": "stream",
     "text": [
      "{(10, 20, 30)}\n"
     ]
    }
   ],
   "source": [
    "#  Find  outputs  (Home  work)\n",
    "print({(10 , 20 , 30)})#{(10, 20, 30)}\n",
    "#print({[10 , 20 , 30]})#Error bcz list is unhashable\n",
    "#print({{10 , 20 , 30}})#Error bcz set is unhashable\n",
    "#print({{}})#Error bcz set is unhashable"
   ]
  },
  {
   "cell_type": "code",
   "execution_count": null,
   "id": "b25c92f6",
   "metadata": {},
   "outputs": [
    {
     "name": "stdout",
     "output_type": "stream",
     "text": [
      "set  with  print  function\n",
      "{25, 10.8, 'Hyd', True}\n",
      "Iterate  elements  of  set  with  for  loop\n",
      "25\n",
      "10.8\n",
      "Hyd\n",
      "True\n"
     ]
    }
   ],
   "source": [
    "# How  to  print  set  in  differnet ways  (Home  work)\n",
    "a = {25 , True , 'Hyd' , 10.8}\n",
    "print('set  with  print  function')#set  with  print  function\n",
    "print(a)#{25, 10.8, 'Hyd', True}\n",
    "print('Iterate  elements  of  set  with  for  loop')#Iterate  elements  of  set  with  for  loop\n",
    "for i in a:\n",
    "    print(i)#25, True, 'Hyd', 10.8"
   ]
  },
  {
   "cell_type": "code",
   "execution_count": 16,
   "id": "ac4f41cf",
   "metadata": {},
   "outputs": [
    {
     "name": "stdout",
     "output_type": "stream",
     "text": [
      "{True, 'Hyd', 25}\n",
      "3\n",
      "<class 'set'>\n"
     ]
    }
   ],
   "source": [
    "# Find  outputs  (Home  work)\n",
    "a = 'Hyd'\n",
    "b = True\n",
    "c = 25\n",
    "d = 1\n",
    "e = 'Hyd'\n",
    "s = {a , b , c , d , e}\n",
    "print(s)#{1, 25, True, 'Hyd'}\n",
    "print(len(s))#4\n",
    "print(type(s))#<class 'set'>"
   ]
  },
  {
   "cell_type": "code",
   "execution_count": null,
   "id": "0ae8cdf4",
   "metadata": {},
   "outputs": [
    {
     "name": "stdout",
     "output_type": "stream",
     "text": [
      "{25, 10.8, 'Hyd', True}\n",
      "25\n",
      "10.8\n",
      "Hyd\n",
      "True\n"
     ]
    }
   ],
   "source": [
    "# Find  outputs  (Home  work)\n",
    "s = {'Hyd',  25,  True,  10.8 }\n",
    "print(s)#{True, 10.8, 'Hyd', 25}\n",
    "a , b , c , d = s\n",
    "print(a)#25\n",
    "print(b)#True\n",
    "print(c)#10.8\n",
    "print(d)#'Hyd'"
   ]
  },
  {
   "cell_type": "code",
   "execution_count": 18,
   "id": "4b6512e2",
   "metadata": {},
   "outputs": [
    {
     "name": "stdout",
     "output_type": "stream",
     "text": [
      "{25, 10.8, 'Hyd', True}\n",
      "25\n",
      "[10.8, 'Hyd', True]\n",
      "<class 'list'>\n"
     ]
    }
   ],
   "source": [
    "# Find  outputs  (Home  work)\n",
    "s = {'Hyd',  25,  True,  10.8 }\n",
    "print(s)#{True, 10.8, 'Hyd', 25}\n",
    "a , *b = s\n",
    "print(a)#25\n",
    "print(b)#[True, 10.8, 'Hyd']\n",
    "print(type(b))#<class 'list'>"
   ]
  },
  {
   "cell_type": "code",
   "execution_count": null,
   "id": "d792a8bf",
   "metadata": {},
   "outputs": [
    {
     "name": "stdout",
     "output_type": "stream",
     "text": [
      "{25, 10.8, 'Hyd', True}\n",
      "25\n",
      "[10.8, 'Hyd']\n",
      "True\n"
     ]
    }
   ],
   "source": [
    "# Find  outputs  (Home  work)\n",
    "s = {'Hyd',  25,  True,  10.8 }\n",
    "print(s)#{True, 10.8, 'Hyd', 25}\n",
    "a , *b , c = s\n",
    "print(a)#25\n",
    "print(b)#[True, 10.8, 'Hyd']\n",
    "print(c)#'Hyd'"
   ]
  },
  {
   "cell_type": "code",
   "execution_count": 20,
   "id": "8cad6191",
   "metadata": {},
   "outputs": [
    {
     "name": "stdout",
     "output_type": "stream",
     "text": [
      "{10, 20}\n",
      "10\n",
      "20\n"
     ]
    }
   ],
   "source": [
    "# Find  outputs  (Home  work)\n",
    "s = {20 , 10 , 20 , 10}\n",
    "print(s)#{10, 20}\n",
    "x , y = s\n",
    "print(x)#10\n",
    "print(y)#20"
   ]
  },
  {
   "cell_type": "code",
   "execution_count": 22,
   "id": "a75eaf9b",
   "metadata": {},
   "outputs": [
    {
     "name": "stdout",
     "output_type": "stream",
     "text": [
      "{130, 100, 140, 110, 150, 120}\n",
      "{10, 12, 15, 18, 50, 20}\n",
      "{'a', 'R', 'm', 'A', ' ', 'o', 'r'}\n",
      "set()\n"
     ]
    },
    {
     "data": {
      "text/plain": [
       "'\\nset()  function\\n-----------------\\n1) What  does  set(sequence)  do ?  ---> Converts  sequence  to  set\\n\\n2) What  does  set(No-args)  do ?  --->  Returns  an  empty  set\\n\\n3) How  many  arguments  can  set()  function  take ?  ---> Zero  (or) One  but  not  more  than  one\\n\\n4) Is  set(non-sequence)  valid ?  --->  No  becoz  argument  should  be  sequence\\n'"
      ]
     },
     "execution_count": 22,
     "metadata": {},
     "output_type": "execute_result"
    }
   ],
   "source": [
    "# set()  function  demo  program  (Home  work)\n",
    "a = range(100 , 151 , 10)\n",
    "b = set(a)\n",
    "print(b)#{100, 110, 120, 130, 140, 150}\n",
    "c = [10 , 20 , 15 , 18 , 10 , 50 , 20 , 12 , 18]\n",
    "d = set(c)\n",
    "print(d)#{10, 12, 15, 18, 20, 50}\n",
    "e = set('Rama  rAo')\n",
    "print(e)#{' ', 'A', 'a', 'm', 'o', 'r'}     \n",
    "#print(set(25))#TypeError: 'int' object is not iterable\n",
    "print(set())#set()\n",
    "\n",
    "\n",
    "'''\n",
    "set()  function\n",
    "-----------------\n",
    "1) What  does  set(sequence)  do ?  ---> Converts  sequence  to  set\n",
    "\n",
    "2) What  does  set(No-args)  do ?  --->  Returns  an  empty  set\n",
    "\n",
    "3) How  many  arguments  can  set()  function  take ?  ---> Zero  (or) One  but  not  more  than  one\n",
    "\n",
    "4) Is  set(non-sequence)  valid ?  --->  No  becoz  argument  should  be  sequence\n",
    "'''"
   ]
  },
  {
   "cell_type": "code",
   "execution_count": 24,
   "id": "70d48cd1",
   "metadata": {},
   "outputs": [
    {
     "name": "stdout",
     "output_type": "stream",
     "text": [
      "{None, True, 10.8, 25, 'Hyd'}\n"
     ]
    },
    {
     "data": {
      "text/plain": [
       "\"\\nadd()   method\\n-----------------\\n1) What  does  add(x)  do ?  --->  Inserts   'x'  any  where  in  the  set  becoz  set  is  unordered\\n\\n2) How  many  arguments  can  add()  method  take ?  --->  Single\\n\\n3) Is  set . add(mutable-object)  valid ? ---> No  becoz  set  can  not  hold  mutable  element\\n\\n4) In  other  words,  argument  of  add()  method  should  be  immutable  object  only\\n\\n5) What  does  set .  add(sequence)  do  ?  --->\\n\\t\\t\\t\\t\\t\\t\\t\\t\\t\\t\\t\\t\\t\\t\\tInserts  sequence  any  where  in  the  set  but  not  elements  of  sequence\\n\\t\\t\\t\\t\\t\\t\\t\\t\\t\\t\\t\\t\\t\\t\\t(Like  append()  method  of  list  class)\\n\""
      ]
     },
     "execution_count": 24,
     "metadata": {},
     "output_type": "execute_result"
    }
   ],
   "source": [
    "# add()  method  demo  program  (Home  work)\n",
    "a = set()\n",
    "a . add(True)#{True}\n",
    "a . add(25)#{True, 25}\n",
    "a . add(10.8)#{True, 25, 10.8}\n",
    "a . add(1)#{True, 25, 10.8, 1}\n",
    "a . add('Hyd')#{True, 25, 10.8, 1, 'Hyd'}\n",
    "a . add(25)#{True, 25, 10.8, 1, 'Hyd'}\n",
    "a . add(None)#{True, 25, 10.8, 1, 'Hyd', None}\n",
    "a . add('Hyd')#{True, 25, 10.8, 1, 'Hyd', None}\n",
    "a . add(1.0)#{True, 25, 10.8, 1, 'Hyd', None}\n",
    "print(a)#{True, 25, 10.8, 1, 'Hyd', None}\n",
    "#a . add(10 , 20 , 30)#Error bcz set can only take one argument\n",
    "#a . add([10,20,30])#Error bcz set can only take one argument\n",
    "\n",
    "\n",
    "'''\n",
    "add()   method\n",
    "-----------------\n",
    "1) What  does  add(x)  do ?  --->  Inserts   'x'  any  where  in  the  set  becoz  set  is  unordered\n",
    "\n",
    "2) How  many  arguments  can  add()  method  take ?  --->  Single\n",
    "\n",
    "3) Is  set . add(mutable-object)  valid ? ---> No  becoz  set  can  not  hold  mutable  element\n",
    "\n",
    "4) In  other  words,  argument  of  add()  method  should  be  immutable  object  only\n",
    "\n",
    "5) What  does  set .  add(sequence)  do  ?  --->\n",
    "\t\t\t\t\t\t\t\t\t\t\t\t\t\t\tInserts  sequence  any  where  in  the  set  but  not  elements  of  sequence\n",
    "\t\t\t\t\t\t\t\t\t\t\t\t\t\t\t(Like  append()  method  of  list  class)\n",
    "'''"
   ]
  },
  {
   "cell_type": "code",
   "execution_count": 28,
   "id": "284df7b6",
   "metadata": {},
   "outputs": [
    {
     "name": "stdout",
     "output_type": "stream",
     "text": [
      "{25, 10.8, 'Hyd', True}\n",
      "1585320749632\n",
      "{True, 10.8, (10, 20, 30), 'Sec', 25, 'Hyd'}\n",
      "1585320749632\n",
      "6\n"
     ]
    }
   ],
   "source": [
    "# Find  outputs  (Home  work)\n",
    "a = {25 , 10.8 , 'Hyd' , True}\n",
    "tpl = (10 , 20 , 30)\n",
    "print(a)#{True, 10.8, 'Hyd', 25}\n",
    "print(id(a))#address of set 'a'\n",
    "a . add(tpl)#{True, 10.8, (10, 20, 30), 'Sec', 25, 'Hyd'}\n",
    "a . add('Sec')\n",
    "print(a)#{True, 10.8, 'Hyd', 25, 'Sec'}\n",
    "print(id(a))#address of updated set 'a'\n",
    "print(len(a))#6\n",
    "#a . add([100 , 200 , 300])#Error bcz set can only take one argument\n",
    "#a . add(set())#Error bcz set cannot hold set objects\n",
    "#a . add({ })#Error bcz set cannot hold dict objects"
   ]
  },
  {
   "cell_type": "code",
   "execution_count": 29,
   "id": "66eb9924",
   "metadata": {},
   "outputs": [
    {
     "name": "stdout",
     "output_type": "stream",
     "text": [
      "{(10, 20, 15, 18)}\n",
      "1\n"
     ]
    }
   ],
   "source": [
    "# Find  outputs (Home  work)\n",
    "s = set()\n",
    "tpl = (10 , 20 , 15 , 18)\n",
    "s . add(tpl)\n",
    "print(s)#{(10, 20, 15, 18)}\n",
    "print(len(s))#1 "
   ]
  },
  {
   "cell_type": "code",
   "execution_count": 31,
   "id": "9e932706",
   "metadata": {},
   "outputs": [
    {
     "name": "stdout",
     "output_type": "stream",
     "text": [
      "4\n",
      "{10, 18, 20, 15}\n"
     ]
    },
    {
     "data": {
      "text/plain": [
       "'\\nupdate()  method\\n--------------------\\n1) What  does  update(sequence)  do ?  ---> Inserts  elements  of  sequence  anywhere  in  the  set  but  not  sequence\\n\\t\\t\\t\\t\\t\\t\\t\\t\\t\\t\\t                         (Like  extend()  method  of  list  class)\\n\\n2) Is  update(non-sequnece)  valid ?   --->  No  becoz  agument  should  be  sequence  only\\n\\n3) How  many  arguments  can  update()  method  take ?  --->  One  (or)  more\\n'"
      ]
     },
     "execution_count": 31,
     "metadata": {},
     "output_type": "execute_result"
    }
   ],
   "source": [
    "# update()  method  demo program  (Home  work)\n",
    "tpl = (10 , 20 , 15, 18 , 10 , 20)\n",
    "s = set()\n",
    "s . update(tpl)\n",
    "print(len(s))#4\n",
    "print(s)#{10, 15, 18, 20}\n",
    "#s . update(25)#Error bcz arguments should be sequence only\n",
    "\n",
    "'''\n",
    "update()  method\n",
    "--------------------\n",
    "1) What  does  update(sequence)  do ?  ---> Inserts  elements  of  sequence  anywhere  in  the  set  but  not  sequence\n",
    "\t\t\t\t\t\t\t\t\t\t\t                         (Like  extend()  method  of  list  class)\n",
    "\n",
    "2) Is  update(non-sequnece)  valid ?   --->  No  becoz  agument  should  be  sequence  only\n",
    "\n",
    "3) How  many  arguments  can  update()  method  take ?  --->  One  (or)  more\n",
    "'''"
   ]
  },
  {
   "cell_type": "code",
   "execution_count": null,
   "id": "5610bf43",
   "metadata": {},
   "outputs": [
    {
     "name": "stdout",
     "output_type": "stream",
     "text": [
      "{50, 20, 70, 40, 10, 60, 30}\n",
      "7\n"
     ]
    }
   ],
   "source": [
    "# Find  outputs  (Home  work)\n",
    "a = [10 , 20 , 30]\n",
    "b = {30 , 40,50 }\n",
    "c = (50 , 60 , 70)\n",
    "s = set()\n",
    "s . update(a , b , c)\n",
    "print(s)#{40, 50, 60, 70, 10, 20, 30}\n",
    "print(len(s))#7\n",
    "#s . add(a , b , c)#Error bcz add() method can take only one argument"
   ]
  },
  {
   "cell_type": "code",
   "execution_count": 35,
   "id": "6c7ed8e8",
   "metadata": {},
   "outputs": [
    {
     "name": "stdout",
     "output_type": "stream",
     "text": [
      "{'a', 'R', 'm', ' ', 'o'}\n",
      "5\n"
     ]
    }
   ],
   "source": [
    "# Find  outputs  (Home  work)\n",
    "a = set()\n",
    "a . update('Rama Rao')\n",
    "print(a)#{'R', 'a', 'm', 'o', ' ', 'R', 'a', 'o'}\n",
    "print(len(a))#8\n",
    "#a . update(3 + 4j , 10.8 , True)#Error bcz arguments should be sequence only"
   ]
  },
  {
   "cell_type": "code",
   "execution_count": 36,
   "id": "8b0c8d1b",
   "metadata": {},
   "outputs": [
    {
     "name": "stdout",
     "output_type": "stream",
     "text": [
      "{10, 18, 20, 15}\n",
      "{10, 18, 20, 15}\n",
      "False\n",
      "True\n",
      "True\n"
     ]
    },
    {
     "data": {
      "text/plain": [
       "'\\ncopy()  method\\n------------------\\n1) What  does  copy()  method  do ?  --->  Returns  a  new  set  with  same  elements\\n\\n2) a = b\\n    What  does  the  statement  do ?  --->  Reference  copy\\n\\t\\t\\t\\t\\t\\t\\t\\t\\t\\t\\t\\t\\t\\t\\t\\t  i.e.  id  is  copied\\n\\n3) What  is  shallow  clone ?  --->  Reference  copy\\n     What  is  deep  clone ?  ---> Object  copy\\n'"
      ]
     },
     "execution_count": 36,
     "metadata": {},
     "output_type": "execute_result"
    }
   ],
   "source": [
    "# copy()  method  demo  program  (Home  work)\n",
    "a = {10 , 20 , 15 , 18}\n",
    "print(a)#{10, 15, 18, 20}\n",
    "b = a . copy()\n",
    "print(b)#{10, 15, 18, 20}\n",
    "print(a  is  b) #False\n",
    "print(a  ==  b) #True\n",
    "c = a\n",
    "print(a  is  c) #True\n",
    "\n",
    "\n",
    "'''\n",
    "copy()  method\n",
    "------------------\n",
    "1) What  does  copy()  method  do ?  --->  Returns  a  new  set  with  same  elements\n",
    "\n",
    "2) a = b\n",
    "    What  does  the  statement  do ?  --->  Reference  copy\n",
    "\t\t\t\t\t\t\t\t\t\t\t\t\t\t\t\t  i.e.  id  is  copied\n",
    "\n",
    "3) What  is  shallow  clone ?  --->  Reference  copy\n",
    "     What  is  deep  clone ?  ---> Object  copy\n",
    "'''"
   ]
  },
  {
   "cell_type": "code",
   "execution_count": 39,
   "id": "b4c51fce",
   "metadata": {},
   "outputs": [
    {
     "name": "stdout",
     "output_type": "stream",
     "text": [
      "{25, 10.8, 'Hyd', True}\n",
      "25\n",
      "10.8\n",
      "Hyd\n",
      "True\n",
      "set()\n"
     ]
    },
    {
     "data": {
      "text/plain": [
       "'\\npop()  method\\n----------------\\n1) What  does  pop(No-args)  method  do ?  --->  Removes  first  element  of  the  set  and  returns  the  deleted  element\\n\\n2) What  does  emptyset . pop()  do ?  --->  Throws  error\\n\\n3) Is  set . pop(index)  valid ?  --->  No  becoz  set  is  not  indexed\\n\\n4) How  many  arguments  can  pop()  method  take  ?  --->  Zero\\n'"
      ]
     },
     "execution_count": 39,
     "metadata": {},
     "output_type": "execute_result"
    }
   ],
   "source": [
    "# pop()  method  demo  program  (Home  work)\n",
    "a = {25 , 10.8 , 'Hyd' , True}\n",
    "print(a)#{25, 10.8, 'Hyd', True}\n",
    "print(a . pop())\n",
    "print(a . pop())\n",
    "print(a . pop())\n",
    "print(a . pop())\n",
    "#print(a . pop())#Error bcz elements in set has been deleted\n",
    "print(a)#set()\n",
    "b = {10 , 20 , 30 , 40}\n",
    "#print(b . pop(2))#Error bcz pop does not take any arguments\n",
    "\n",
    "\n",
    "'''\n",
    "pop()  method\n",
    "----------------\n",
    "1) What  does  pop(No-args)  method  do ?  --->  Removes  first  element  of  the  set  and  returns  the  deleted  element\n",
    "\n",
    "2) What  does  emptyset . pop()  do ?  --->  Throws  error\n",
    "\n",
    "3) Is  set . pop(index)  valid ?  --->  No  becoz  set  is  not  indexed\n",
    "\n",
    "4) How  many  arguments  can  pop()  method  take  ?  --->  Zero\n",
    "'''"
   ]
  },
  {
   "cell_type": "code",
   "execution_count": 41,
   "id": "31e07810",
   "metadata": {},
   "outputs": [
    {
     "name": "stdout",
     "output_type": "stream",
     "text": [
      "{25, 10.8, 'Hyd', True}\n",
      "{25, 10.8, True}\n"
     ]
    },
    {
     "data": {
      "text/plain": [
       "\"\\nremove()   method\\n----------------------\\n1) What  does  remove(x)  do ?  --->  Removes  'x'  from  the   set\\n\\n2) What  does  remove(Invalid-element)  do ?  --->  Throws  error\\n\\n3) What  is  the  argument  of  remove()  method ?  --->  Element  to  be  removed\\n\""
      ]
     },
     "execution_count": 41,
     "metadata": {},
     "output_type": "execute_result"
    }
   ],
   "source": [
    "# remove()  method  demo  program  (Home  work)\n",
    "a = {25 , 10.8 , 'Hyd' , True}\n",
    "print(a)#{25, 10.8, 'Hyd', True}\n",
    "a . remove('Hyd')\n",
    "print(a)#{25, 10.8, True}\n",
    "#a . remove('Sec')#Error bcz 'Sec' is not present in the set\n",
    "\n",
    "\n",
    "'''\n",
    "remove()   method\n",
    "----------------------\n",
    "1) What  does  remove(x)  do ?  --->  Removes  'x'  from  the   set\n",
    "\n",
    "2) What  does  remove(Invalid-element)  do ?  --->  Throws  error\n",
    "\n",
    "3) What  is  the  argument  of  remove()  method ?  --->  Element  to  be  removed\n",
    "'''"
   ]
  },
  {
   "cell_type": "code",
   "execution_count": 42,
   "id": "175f5e21",
   "metadata": {},
   "outputs": [
    {
     "name": "stdout",
     "output_type": "stream",
     "text": [
      "{25, 10.8, 'Hyd', True}\n",
      "{25, 10.8, True}\n",
      "{25, 10.8, True}\n"
     ]
    },
    {
     "data": {
      "text/plain": [
       "\"\\ndiscard()  method\\n---------------------\\n1) What  does  discard(x)  do ?  --->  Removes  'x'  from  the  set\\n\\n2) What  does  discard(Invalid-element)  do ?  --->  Nothing\\n\\n3) In  other  words,  discard(invalid-element)  does  not  raise  error  nor  deletion\\n\""
      ]
     },
     "execution_count": 42,
     "metadata": {},
     "output_type": "execute_result"
    }
   ],
   "source": [
    "# discard()  method  demo  program (Home  work)\n",
    "a = {25 , 10.8 , 'Hyd' , True}\n",
    "print(a)#{25, 10.8, 'Hyd', True}\n",
    "a . discard('Hyd')\n",
    "print(a)#{25, 10.8, True}\n",
    "a . discard('Sec')\n",
    "print(a)#{25, 10.8, True}\n",
    "#a . remove('Sec')#Error bcz 'Sec' is not present in the set\n",
    "\n",
    "\n",
    "'''\n",
    "discard()  method\n",
    "---------------------\n",
    "1) What  does  discard(x)  do ?  --->  Removes  'x'  from  the  set\n",
    "\n",
    "2) What  does  discard(Invalid-element)  do ?  --->  Nothing\n",
    "\n",
    "3) In  other  words,  discard(invalid-element)  does  not  raise  error  nor  deletion\n",
    "'''"
   ]
  },
  {
   "cell_type": "code",
   "execution_count": 43,
   "id": "eac4be97",
   "metadata": {},
   "outputs": [
    {
     "name": "stdout",
     "output_type": "stream",
     "text": [
      "{10, 18, 20, 15}\n",
      "set()\n",
      "0\n"
     ]
    },
    {
     "data": {
      "text/plain": [
       "'\\nclear()  method\\n------------------\\nWhat  does  clear()  method  do ?  --->  Removes  all  the  elements  of  set  and  set  becomes  empty\\n'"
      ]
     },
     "execution_count": 43,
     "metadata": {},
     "output_type": "execute_result"
    }
   ],
   "source": [
    "# clear()  method  demo  program (Home  work)\n",
    "a = {10 , 20 , 15 , 18}\n",
    "print(a)#{10, 15, 18, 20}\n",
    "a . clear()\n",
    "print(a)#{}\n",
    "print(len(a))#0\n",
    "\n",
    "\n",
    "'''\n",
    "clear()  method\n",
    "------------------\n",
    "What  does  clear()  method  do ?  --->  Removes  all  the  elements  of  set  and  set  becomes  empty\n",
    "'''"
   ]
  },
  {
   "cell_type": "code",
   "execution_count": 47,
   "id": "b1d22d84",
   "metadata": {},
   "outputs": [
    {
     "name": "stdout",
     "output_type": "stream",
     "text": [
      "{40, 10, 50, 20, 60, 30}\n"
     ]
    }
   ],
   "source": [
    "# Find  outputs  (Home work)\n",
    "a = {10 , 20 , 30 , 40}\n",
    "b = [30 , 40 , 50 , 60]\n",
    "print(a . union(b))#{40, 10, 50, 20, 30, 60}\n",
    "#print(a | b)#error bcz set and list cannot be merged\n",
    "#print(b . union(a))#list has no union method\n",
    "#print(a + b)#Error bcz set and list cannot be merged with +"
   ]
  }
 ],
 "metadata": {
  "kernelspec": {
   "display_name": "Python 3",
   "language": "python",
   "name": "python3"
  },
  "language_info": {
   "codemirror_mode": {
    "name": "ipython",
    "version": 3
   },
   "file_extension": ".py",
   "mimetype": "text/x-python",
   "name": "python",
   "nbconvert_exporter": "python",
   "pygments_lexer": "ipython3",
   "version": "3.12.6"
  }
 },
 "nbformat": 4,
 "nbformat_minor": 5
}

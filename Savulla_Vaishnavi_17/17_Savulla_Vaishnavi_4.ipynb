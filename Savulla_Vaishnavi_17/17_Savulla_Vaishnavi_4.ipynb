{
 "cells": [
  {
   "cell_type": "code",
   "execution_count": 1,
   "id": "5b5d450c",
   "metadata": {},
   "outputs": [
    {
     "name": "stdout",
     "output_type": "stream",
     "text": [
      "1\n",
      "Sec\n",
      "Hello\n",
      "2\n",
      "Sec\n",
      "Hello\n",
      "3\n",
      "4\n",
      "Sec\n",
      "Hello\n",
      "5\n",
      "Sec\n",
      "Hello\n",
      "6\n",
      "7\n",
      "Sec\n",
      "Hello\n",
      "Outside loop\n"
     ]
    }
   ],
   "source": [
    "# Find  outputs  (Home  work)\n",
    "for  i   in   range(1 , 8):\n",
    "\tprint(i)\n",
    "\tif  i % 3  == 0:\n",
    "\t\t\tcontinue\n",
    "\telse:\n",
    "\t\t\tprint('Sec')\n",
    "\tprint('Hello')\n",
    "# End of loop\n",
    "print('Outside loop')"
   ]
  },
  {
   "cell_type": "markdown",
   "id": "1cddf6be",
   "metadata": {},
   "source": [
    "#1<next line>Sec<next line>2<next line>Sec<next line>Hello<next line>3<next line>4<next line>Sec<next line>Hello<next tine>5<next line>Sec<next line>Hello<next line>6<next line>7<next line>Hello<next line>Outside loop"
   ]
  },
  {
   "cell_type": "code",
   "execution_count": 2,
   "id": "c82805bb",
   "metadata": {},
   "outputs": [],
   "source": [
    "# Identify Error  (Home  work)\n",
    "if ():\n",
    "\tprint('Hyd')\n",
    "\t#continue\n",
    "\tprint('Sec')"
   ]
  },
  {
   "cell_type": "code",
   "execution_count": 3,
   "id": "a733466f",
   "metadata": {},
   "outputs": [
    {
     "name": "stdout",
     "output_type": "stream",
     "text": [
      "1\n",
      "Sec\n",
      "Hello\n",
      "2\n",
      "Sec\n",
      "Hello\n",
      "3\n",
      "Outside loop\n"
     ]
    }
   ],
   "source": [
    "# Find outputs (Home  work)\n",
    "for  i   in   range(1 , 8):\n",
    "\tprint(i)\n",
    "\tif   i % 3 == 0:\n",
    "\t\tbreak\n",
    "\telse:\n",
    "\t\tprint('Sec')\n",
    "\tprint('Hello')\n",
    "# End  of  the  loop\n",
    "print('Outside loop')"
   ]
  },
  {
   "cell_type": "code",
   "execution_count": null,
   "id": "39de7afa",
   "metadata": {},
   "outputs": [],
   "source": [
    "# Identify Error  (Home  work)\n",
    "if(10 , 20 , 30):\n",
    "\tprint('Hyd')\n",
    "\t#break\n",
    "\tprint('Sec')"
   ]
  },
  {
   "cell_type": "code",
   "execution_count": 4,
   "id": "4f998f83",
   "metadata": {},
   "outputs": [
    {
     "name": "stdout",
     "output_type": "stream",
     "text": [
      "1\n",
      "Sec\n",
      "Hello\n",
      "2\n",
      "Sec\n",
      "Hello\n",
      "3\n",
      "Hyd\n",
      "Hello\n",
      "4\n",
      "Sec\n",
      "Hello\n",
      "5\n",
      "Sec\n",
      "Hello\n",
      "6\n",
      "Hyd\n",
      "Hello\n",
      "7\n",
      "Sec\n",
      "Hello\n",
      "Outside loop\n"
     ]
    }
   ],
   "source": [
    "# Find  outputs  (Home  work)\n",
    "for  i   in   range(1 , 8):\n",
    "\tprint(i)\n",
    "\tif   i % 3 == 0:\n",
    "\t\tpass\n",
    "\t\tprint('Hyd')\n",
    "\telse:\n",
    "\t\tprint('Sec')\n",
    "\tprint('Hello')\n",
    "# End  of  the  loop\n",
    "print('Outside loop')"
   ]
  },
  {
   "cell_type": "code",
   "execution_count": null,
   "id": "a3519736",
   "metadata": {},
   "outputs": [
    {
     "name": "stdout",
     "output_type": "stream",
     "text": [
      "1\n",
      "Sec\n",
      "Hello\n",
      "2\n",
      "Sec\n",
      "Hello\n",
      "3\n",
      "Hello\n",
      "4\n",
      "Sec\n",
      "Hello\n",
      "5\n",
      "Sec\n",
      "Hello\n",
      "6\n",
      "Hello\n",
      "7\n",
      "Sec\n",
      "Hello\n",
      "Outside loop\n"
     ]
    },
    {
     "ename": "",
     "evalue": "",
     "output_type": "error",
     "traceback": [
      "\u001b[1;31mThe Kernel crashed while executing code in the current cell or a previous cell. \n",
      "\u001b[1;31mPlease review the code in the cell(s) to identify a possible cause of the failure. \n",
      "\u001b[1;31mClick <a href='https://aka.ms/vscodeJupyterKernelCrash'>here</a> for more info. \n",
      "\u001b[1;31mView Jupyter <a href='command:jupyter.viewOutput'>log</a> for further details."
     ]
    }
   ],
   "source": [
    "# Find  outputs  (Home  work)\n",
    "for  i   in   range(1 , 8):\n",
    "\tprint(i)\n",
    "\tif   i % 3 == 0:\n",
    "\t\texit()\n",
    "\telse:\n",
    "\t\tprint('Sec')\n",
    "\tprint('Hello')\n",
    "# End  of  the  loop\n",
    "print('Outside loop')"
   ]
  },
  {
   "cell_type": "code",
   "execution_count": 1,
   "id": "5e425715",
   "metadata": {},
   "outputs": [
    {
     "name": "stdout",
     "output_type": "stream",
     "text": [
      "1\n",
      "Sec\n",
      "Hello\n",
      "2\n",
      "Sec\n",
      "Hello\n",
      "3\n",
      "4\n",
      "Sec\n",
      "Hello\n",
      "5\n",
      "Sec\n",
      "Hello\n",
      "6\n",
      "7\n",
      "Sec\n",
      "Hello\n",
      "else  suite\n",
      "Outside  loop\n"
     ]
    }
   ],
   "source": [
    "# Find  outputs  (Home  work)\n",
    "for  i  in  range(1 , 8):\n",
    "\tprint(i)\n",
    "\tif   i % 3 == 0:\n",
    "\t\tcontinue\n",
    "\telse:\n",
    "\t\tprint('Sec')\n",
    "\tprint('Hello')\n",
    "else:\n",
    "\tprint('else  suite')\n",
    "# End  of  the  loop\n",
    "print('Outside  loop')"
   ]
  },
  {
   "cell_type": "code",
   "execution_count": 2,
   "id": "fc45f414",
   "metadata": {},
   "outputs": [
    {
     "name": "stdout",
     "output_type": "stream",
     "text": [
      "1\n",
      "Sec\n",
      "Hello\n",
      "2\n",
      "Sec\n",
      "Hello\n",
      "3\n",
      "Outside  loop\n"
     ]
    }
   ],
   "source": [
    "# Find  outputs  (Home  work)\n",
    "for  i  in  range(1 , 8):\n",
    "\tprint(i)\n",
    "\tif  i % 3 == 0:\n",
    "\t\tbreak\n",
    "\telse:\n",
    "\t\tprint('Sec')\n",
    "\tprint('Hello')\n",
    "else:\n",
    "\tprint('else  suite')\n",
    "#End   of  the  loop\n",
    "print('Outside  loop')"
   ]
  },
  {
   "cell_type": "code",
   "execution_count": 3,
   "id": "a7cda3fe",
   "metadata": {},
   "outputs": [
    {
     "name": "stdout",
     "output_type": "stream",
     "text": [
      "1\n",
      "Sec\n",
      "Hello\n",
      "2\n",
      "Sec\n",
      "Hello\n",
      "3\n",
      "Sec\n",
      "Hello\n",
      "4\n",
      "Sec\n",
      "Hello\n",
      "5\n",
      "Sec\n",
      "Hello\n",
      "6\n",
      "Sec\n",
      "Hello\n",
      "7\n",
      "Sec\n",
      "Hello\n",
      "else  suite\n",
      "Outside loop\n"
     ]
    }
   ],
   "source": [
    "# Find  outputs  (Home  work)\n",
    "for  i  in  range(1 , 8):\n",
    "\tprint(i)\n",
    "\tif  i == 8:\n",
    "\t\tbreak\n",
    "\telse:\n",
    "\t\tprint('Sec')\n",
    "\tprint('Hello')\n",
    "else:\n",
    "\tprint('else  suite')\n",
    "# End  of  the  loop\n",
    "print('Outside loop')"
   ]
  },
  {
   "cell_type": "markdown",
   "id": "d72d66be",
   "metadata": {},
   "source": [
    "'''\n",
    "Write  a  program  to  search  for  an  element  in  the  list  without  using  in  operator  and\n",
    "print  Found  or  Not  Found  message  (Assume  that  there  are  no  duplicates)\n",
    "\n",
    "Let  list  be   [10 , 20 , 15 , 12 , 18]\n",
    "1) What  is  the  output  if  15  is  seacrhed ?  --->  Found  at  index  2\n",
    "\n",
    "2) What  is  the  output  if  19  is  seacrhed ?  --->  Not  found\n",
    "\n",
    "3) What  action  to  be  made  when  'x'  does  not  match  with  the  current  element  of  list ?  --->\n",
    "\t\t\t\t\t\t\t\t\t\t\t\t\t\t\t\t\t\t\t\t\t\tCompare  'x'  with  next  element  of  list\n",
    "\n",
    "4) What  action  to  be  made  when  'x'  matches   with  list  element ?  --->\n",
    "\t\t\t\t\t\t\t\t\t\t\t\t\t\t\t\t\t\t\t\tPrint  found   message  along  with  index  and\n",
    "\t\t\t\t\t\t\t\t\t\t\t\t\t\t\t\t\t\t\t\tdo  not  search  for  'x'  in  rest  of  the  list\n",
    "\n",
    "5) What  action  to  be  made  when  'x'   does  not  match  with  all  the  elements  of  list ?  --->\n",
    "\t\t\t\t\t\t\t\t\t\t\t\t\t\t\t\t\t\t\t\t\t\t\t\t\t\tPrint  not  found   message\n",
    "\n",
    "6) Hint: Use  for  loop\n",
    "'''"
   ]
  },
  {
   "cell_type": "code",
   "execution_count": 8,
   "id": "b8e0451a",
   "metadata": {},
   "outputs": [
    {
     "name": "stdout",
     "output_type": "stream",
     "text": [
      "Not found\n"
     ]
    }
   ],
   "source": [
    "list1=eval(input('Enter  a  list: '))\n",
    "n=eval(input('Enter the element to be searched : '))\n",
    "for i in range(len(list1)):\n",
    "    if list1[i] == n:\n",
    "        print(F'Found  at   index  :{i}')\n",
    "        break\n",
    "else:\n",
    "    print('Not found')"
   ]
  },
  {
   "cell_type": "markdown",
   "id": "6cb62a8c",
   "metadata": {},
   "source": [
    "'''\n",
    "Write  a  program  to  search  for  an  element  in  the  list  and  print  index  of  each  element\n",
    "and  also  number  of  times  it  is  found (Assume  that  list  may  contain  duplicate  elements)\n",
    "\n",
    "List :   [10 , 20 , 15 , 12 , 18 , 15 , 19 , 14 , 15 , 14]\n",
    "\n",
    "Search  for  15\n",
    "\n",
    "Outputs :  15  is  found  at  index  2\n",
    "                 15  is  found  at  index  5\n",
    "                 15  is  found  at  index  8\n",
    "                 15  is  found   3  times\n",
    "'''"
   ]
  },
  {
   "cell_type": "code",
   "execution_count": 14,
   "id": "3b722549",
   "metadata": {},
   "outputs": [
    {
     "name": "stdout",
     "output_type": "stream",
     "text": [
      "Found  at   index  :2\n",
      "Found  at   index  :5\n",
      "Found  at   index  :8\n",
      "15  is  found  3 times\n"
     ]
    }
   ],
   "source": [
    "list1=eval(input('Enter  a  list: '))\n",
    "n=eval(input('Enter the element to be searched : '))\n",
    "c=0\n",
    "for i in range(len(list1)):\n",
    "    if list1[i] == n:\n",
    "        print(F'Found  at   index  :{i}')\n",
    "        c+=1\n",
    "if c > 0:\n",
    "    print(F'{n}  is  found  {c} times')\n",
    "else:\n",
    "    print('Not found')"
   ]
  },
  {
   "cell_type": "code",
   "execution_count": null,
   "id": "dc3a7b67",
   "metadata": {},
   "outputs": [
    {
     "name": "stdout",
     "output_type": "stream",
     "text": [
      "25\n",
      "25\n",
      "13\n",
      "13\n",
      "13\n",
      "6\n"
     ]
    }
   ],
   "source": [
    "#  Walrus   operator (:=)  demo  program\n",
    "print(a := 25)#25\n",
    "#print(a = 25)#Error nothing return\n",
    "print(a)#25\n",
    "print(a := 6 + 7)#13\n",
    "print(a)#13\n",
    "print((a := 6) + 7)#13\n",
    "print(a)#6\n",
    "#print((a = 6) + 7)#Error\n"
   ]
  },
  {
   "cell_type": "code",
   "execution_count": 18,
   "id": "46fa9125",
   "metadata": {},
   "outputs": [
    {
     "name": "stdout",
     "output_type": "stream",
     "text": [
      "Hyd\n",
      "Sec :  0\n"
     ]
    }
   ],
   "source": [
    "# Find  outputs  (Home  work)\n",
    "a = 0\n",
    "if  a == 0:\n",
    "\tprint('Hyd')\n",
    "else:\n",
    "\tprint('Sec')\n",
    "if  b := 0:\n",
    "\tprint('Hyd')\n",
    "else:\n",
    "\tprint('Sec : ' , b)\n",
    "#if  c = 0:#Error bcz no c value\n",
    "\t#print('Hyd')\n",
    "#else:\n",
    "\t#print('Sec')"
   ]
  },
  {
   "cell_type": "markdown",
   "id": "0deb59fa",
   "metadata": {},
   "source": [
    "Hyd\n",
    "Hyd"
   ]
  },
  {
   "cell_type": "markdown",
   "id": "943bc45f",
   "metadata": {},
   "source": [
    "'''\n",
    "(Home  work)\n",
    "Write  a  program to  determine  average  of  inputs  which  are  terminated  with  ctrl + z\n",
    "(without  walrus  operator)\n",
    "\n",
    "Let  inputs  be  25 , 10.8 , True ,  ctrl + z\n",
    "\n",
    "sum = 0 + 25 + 10.8 + True = 36.8\n",
    "ctr = 0 + 1 + 1 + 1 = 3\n",
    "\n",
    "1) What  is  ctrl + z ?  ---> End  of  inputs  i.e.  No  more  inputs\n",
    "\n",
    "2) What  does  input()  function  do  when  input  is  ctrl + z ?  ---> Throws  EOFError\n",
    "\n",
    "3) How  is   end  of  inputs  denoted  in  unix ?  ---> ctrl + d\n",
    "'''"
   ]
  },
  {
   "cell_type": "code",
   "execution_count": 19,
   "id": "925a3a75",
   "metadata": {},
   "outputs": [
    {
     "name": "stdout",
     "output_type": "stream",
     "text": [
      "25\n"
     ]
    },
    {
     "ename": "NameError",
     "evalue": "name 'a' is not defined",
     "output_type": "error",
     "traceback": [
      "\u001b[31m---------------------------------------------------------------------------\u001b[39m",
      "\u001b[31mNameError\u001b[39m                                 Traceback (most recent call last)",
      "\u001b[36mCell\u001b[39m\u001b[36m \u001b[39m\u001b[32mIn[19]\u001b[39m\u001b[32m, line 5\u001b[39m\n\u001b[32m      3\u001b[39m \u001b[38;5;28mprint\u001b[39m(a)\u001b[38;5;66;03m#25\u001b[39;00m\n\u001b[32m      4\u001b[39m \u001b[38;5;28;01mdel\u001b[39;00m   a\n\u001b[32m----> \u001b[39m\u001b[32m5\u001b[39m \u001b[38;5;28mprint\u001b[39m(\u001b[43ma\u001b[49m)\u001b[38;5;66;03m#Error: NameError: name 'a' is not defined\u001b[39;00m\n",
      "\u001b[31mNameError\u001b[39m: name 'a' is not defined"
     ]
    }
   ],
   "source": [
    "#  del  operator  demo program  (Home  work)\n",
    "a = 25\n",
    "print(a)#25\n",
    "del   a\n",
    "print(a)#Error: NameError: name 'a' is not defined"
   ]
  },
  {
   "cell_type": "code",
   "execution_count": null,
   "id": "f3dc3bf6",
   "metadata": {},
   "outputs": [
    {
     "name": "stdout",
     "output_type": "stream",
     "text": [
      "25 25 25\n",
      "25 25\n",
      "25\n"
     ]
    },
    {
     "ename": "NameError",
     "evalue": "name 'c' is not defined",
     "output_type": "error",
     "traceback": [
      "\u001b[31m---------------------------------------------------------------------------\u001b[39m",
      "\u001b[31mNameError\u001b[39m                                 Traceback (most recent call last)",
      "\u001b[36mCell\u001b[39m\u001b[36m \u001b[39m\u001b[32mIn[22]\u001b[39m\u001b[32m, line 11\u001b[39m\n\u001b[32m      9\u001b[39m \u001b[38;5;66;03m#print(b)##Error: NameError: name 'b' is not defined\u001b[39;00m\n\u001b[32m     10\u001b[39m \u001b[38;5;28;01mdel\u001b[39;00m   c\n\u001b[32m---> \u001b[39m\u001b[32m11\u001b[39m \u001b[38;5;28mprint\u001b[39m(\u001b[43mc\u001b[49m)\u001b[38;5;66;03m##Error: NameError: name 'c' is not defined\u001b[39;00m\n",
      "\u001b[31mNameError\u001b[39m: name 'c' is not defined"
     ]
    }
   ],
   "source": [
    "# Find  outputs  (Home  work)\n",
    "a = b = c = 25\n",
    "print(a , b , c)#25 25 25\n",
    "del   a\n",
    "print(b , c)#25 25\n",
    "#print(a)#Error: NameError: name 'a' is not defined\n",
    "del   b\n",
    "print(c)#25\n",
    "#print(b)##Error: NameError: name 'b' is not defined\n",
    "del   c\n",
    "#print(c)##Error: NameError: name 'c' is not defined"
   ]
  },
  {
   "cell_type": "code",
   "execution_count": 25,
   "id": "86c9ac98",
   "metadata": {},
   "outputs": [
    {
     "name": "stdout",
     "output_type": "stream",
     "text": [
      "25 10.8 Hyd\n"
     ]
    },
    {
     "ename": "NameError",
     "evalue": "name 'c' is not defined",
     "output_type": "error",
     "traceback": [
      "\u001b[31m---------------------------------------------------------------------------\u001b[39m",
      "\u001b[31mNameError\u001b[39m                                 Traceback (most recent call last)",
      "\u001b[36mCell\u001b[39m\u001b[36m \u001b[39m\u001b[32mIn[25]\u001b[39m\u001b[32m, line 7\u001b[39m\n\u001b[32m      4\u001b[39m \u001b[38;5;28;01mdel\u001b[39;00m   a , b , c\n\u001b[32m      5\u001b[39m \u001b[38;5;66;03m#print(a)\u001b[39;00m\n\u001b[32m      6\u001b[39m \u001b[38;5;66;03m#print(b)\u001b[39;00m\n\u001b[32m----> \u001b[39m\u001b[32m7\u001b[39m \u001b[38;5;28mprint\u001b[39m(\u001b[43mc\u001b[49m)\n\u001b[32m      8\u001b[39m \u001b[38;5;66;03m# print(a)#Error: NameError: name 'a' is not defined\u001b[39;00m\n\u001b[32m      9\u001b[39m \u001b[38;5;66;03m# print(b)#Error: NameError: name 'b' is not defined\u001b[39;00m\n\u001b[32m     10\u001b[39m \u001b[38;5;66;03m# print(c)#Error: NameError: name 'c' is not defined\u001b[39;00m\n",
      "\u001b[31mNameError\u001b[39m: name 'c' is not defined"
     ]
    }
   ],
   "source": [
    "#  Can  multiple  objects  be  deleted  with  same  del  operator ?\n",
    "a , b , c = 25 , 10.8 , 'Hyd'\n",
    "print(a , b , c)#25 10.8 Hyd\n",
    "del   a , b , c\n",
    "#print(a)\n",
    "#print(b)\n",
    "print(c)\n",
    "# print(a)#Error: NameError: name 'a' is not defined\n",
    "# print(b)#Error: NameError: name 'b' is not defined\n",
    "# print(c)#Error: NameError: name 'c' is not defined"
   ]
  },
  {
   "cell_type": "code",
   "execution_count": null,
   "id": "631e5da0",
   "metadata": {},
   "outputs": [],
   "source": [
    "# Find outputs  (Home  work)\n",
    "a = [10 , 20 , 15 , 18]\n",
    "print(a)#[10, 20, 15, 18]\n",
    "del  a[2]\n",
    "print(a)#[10, 20, 18]\n",
    "del  a\n",
    "print(a)#Error: NameError: name 'a' is not defined\n",
    "print(a[0])#Error: NameError: name 'a' is not defined"
   ]
  },
  {
   "cell_type": "code",
   "execution_count": null,
   "id": "fc929196",
   "metadata": {},
   "outputs": [],
   "source": [
    "# Find outputs  (Home work)\n",
    "a = (10 , 20 , 15 , 18)\n",
    "print(a)#(10, 20, 15, 18)\n",
    "print(a[0])#10\n",
    "del  a[2]\n",
    "del  a\n",
    "print(a)#Error: NameError: name 'a' is not defined\n",
    "print(a[0])#Error: NameError: name 'a' is not defined"
   ]
  },
  {
   "cell_type": "markdown",
   "id": "9ab00888",
   "metadata": {},
   "source": [
    "'''\n",
    "Modify  following   program  with  walrus  operator\n",
    "Hint:  Combine  lines  7   and   8  to a  single  line  with   walrus  operator\n",
    "'''\n",
    "try:\n",
    "\tsum =  ctr = 0\n",
    "\twhile  True:\n",
    "\t\tx = eval(input('Enter input  (ctrl + z  to  stop)  :  '))\n",
    "\t\tsum += x\n",
    "\t\tctr +=1\n",
    "except  EOFError:\n",
    "\ttry:\n",
    "\t\tprint(F'Average :   {sum / ctr}')\n",
    "\texcept  ZeroDivisionError:\n",
    "\t\tprint('Enter  at  least  one  input')\n",
    "except  (NameError , TypeError):\n",
    "\tprint('Input  can  not  be  string')"
   ]
  },
  {
   "cell_type": "code",
   "execution_count": 1,
   "id": "0b664842",
   "metadata": {},
   "outputs": [
    {
     "ename": "SyntaxError",
     "evalue": "invalid syntax (<string>, line 1)",
     "output_type": "error",
     "traceback": [
      "Traceback \u001b[36m(most recent call last)\u001b[39m:\n",
      "  File \u001b[92m~\\AppData\\Roaming\\Python\\Python312\\site-packages\\IPython\\core\\interactiveshell.py:3699\u001b[39m in \u001b[95mrun_code\u001b[39m\n    exec(code_obj, self.user_global_ns, self.user_ns)\n",
      "\u001b[36m  \u001b[39m\u001b[36mCell\u001b[39m\u001b[36m \u001b[39m\u001b[32mIn[1]\u001b[39m\u001b[32m, line 5\u001b[39m\n\u001b[31m    \u001b[39m\u001b[31msum += (x :=eval(input('Enter input  (ctrl + z  to  stop)  :  ')))\u001b[39m\n",
      "  \u001b[36mFile \u001b[39m\u001b[32m<string>:1\u001b[39m\n\u001b[31m    \u001b[39m\u001b[31m^Z\u001b[39m\n    ^\n\u001b[31mSyntaxError\u001b[39m\u001b[31m:\u001b[39m invalid syntax\n"
     ]
    }
   ],
   "source": [
    "try:\n",
    "\tsum =  ctr = 0\n",
    "\twhile  True:\n",
    "\t\t#x = eval(input('Enter input  (ctrl + z  to  stop)  :  '))\n",
    "\t\tsum += (x :=eval(input('Enter input  (ctrl + z  to  stop)  :  ')))\n",
    "\t\tctr +=1\n",
    "except  EOFError:\n",
    "\ttry:\n",
    "\t\tprint(F'Average :   {sum / ctr}')\n",
    "\texcept  ZeroDivisionError:\n",
    "\t\tprint('Enter  at  least  one  input')\n",
    "except  (NameError , TypeError):\n",
    "\tprint('Input  can  not  be  string')"
   ]
  }
 ],
 "metadata": {
  "kernelspec": {
   "display_name": "Python 3",
   "language": "python",
   "name": "python3"
  },
  "language_info": {
   "codemirror_mode": {
    "name": "ipython",
    "version": 3
   },
   "file_extension": ".py",
   "mimetype": "text/x-python",
   "name": "python",
   "nbconvert_exporter": "python",
   "pygments_lexer": "ipython3",
   "version": "3.12.6"
  }
 },
 "nbformat": 4,
 "nbformat_minor": 5
}

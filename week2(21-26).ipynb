{
 "cells": [
  {
   "cell_type": "markdown",
   "id": "9783b58a",
   "metadata": {},
   "source": [
    "### 21/08/25"
   ]
  },
  {
   "cell_type": "code",
   "execution_count": 1,
   "id": "fc22bb4f",
   "metadata": {},
   "outputs": [
    {
     "name": "stdout",
     "output_type": "stream",
     "text": [
      "Dictionary  with  print  function\n",
      "{10: 'Ramesh', 20: 'Kiran', 15: 'Amar', 18: 'Sita'}\n",
      "Keys  of  dictionary\n",
      "dict_keys([10, 20, 15, 18])\n",
      "Values  of  dictionary\n",
      "dict_values(['Ramesh', 'Kiran', 'Amar', 'Sita'])\n",
      "All  the  tuples  of  dict_items   object\n",
      "dict_items([(10, 'Ramesh'), (20, 'Kiran'), (15, 'Amar'), (18, 'Sita')])\n",
      "Elements  of  each   tuple\n",
      "dict_items([(10, 'Ramesh'), (20, 'Kiran'), (15, 'Amar'), (18, 'Sita')])\n",
      "Keys  and  values  of  dictionary\n",
      "{10: 'Ramesh', 20: 'Kiran', 15: 'Amar', 18: 'Sita'}\n"
     ]
    }
   ],
   "source": [
    "# How  to  print  dictionary  in  different  ways\n",
    "a  =  {10 : 'Ramesh' ,  20 : 'Kiran' , 15 : 'Amar' , 18 : 'Sita'}\n",
    "print('Dictionary  with  print  function')\n",
    "print(a)    #How  to  print  dictionary  with  print()  function\n",
    "print('Keys  of  dictionary')\n",
    "print(a.keys())    #How  to  print  each  key  of  dict  'a'\n",
    "print('Values  of  dictionary')\n",
    "print(a.values())    #How  to  print  each  value  of  dict  'a'\n",
    "print('All  the  tuples  of  dict_items   object')\n",
    "print(a.items()) #(How  to  print  each  tuple  of  the  list  in  dict_items  object\n",
    "print('Elements  of  each   tuple')\n",
    "print(a.items())    #How  to  print  elements  of  each  tuple  in  the  list  of  dict_items  object\n",
    "print('Keys  and  values  of  dictionary')\n",
    "print(a)    #How  to  print  each  key  and  corresponding  value  in  dict  'a'"
   ]
  },
  {
   "cell_type": "code",
   "execution_count": 2,
   "id": "c2c66819",
   "metadata": {},
   "outputs": [
    {
     "name": "stdout",
     "output_type": "stream",
     "text": [
      "Hyd\n",
      "Sec\n",
      "Cyb\n",
      "<class 'set'>\n",
      "{None}\n",
      "1\n"
     ]
    }
   ],
   "source": [
    "#  Find  outputs (Home  work)\n",
    "a = {\n",
    "\t\tprint('Hyd') ,\n",
    "\t\tprint('Sec') ,\n",
    "\t\tprint('Cyb')\n",
    "\t}\n",
    "print(type(a))\t# <class set>\n",
    "print(a)\t# {None}\n",
    "print(len(a))\t#1\n"
   ]
  },
  {
   "cell_type": "code",
   "execution_count": 3,
   "id": "f58eedc2",
   "metadata": {},
   "outputs": [
    {
     "name": "stdout",
     "output_type": "stream",
     "text": [
      "25\n",
      "<class 'int'>\n",
      "10\n",
      "20\n",
      "30\n",
      "0 Hello\n",
      "1 Hello\n",
      "2 Hello\n",
      "3 Hello\n",
      "4 Hello\n"
     ]
    },
    {
     "data": {
      "text/plain": [
       "'\\n1) What  is   _   called ?   --->  Anonymous  object  (or) Nameless  object\\n\\n2) How  many  nameless  objects  can  be  a  program ?  --->  Just  one  (or)  zero\\n\\n3) What  happens  when  another  nameless  object  is  created ?  --->  Existing  nameless  object  gets  deleted\\n\\n4) Can  there  be  multiple  nameless  objects  in  a  program ?  --->  No\\n\\n5) _ = 10\\n    _ = 20\\n   What  happens  when  _ = 20  is  executed ?  --->  A  new  nameless  object  is  created  with  value  20  and\\n\\t\\t\\t\\t\\t\\t\\t\\t\\t\\t\\t\\t\\t\\t\\t\\t\\t\\t\\t\\t  old  nameless  object  with  10  is  lost\\n'"
      ]
     },
     "execution_count": 3,
     "metadata": {},
     "output_type": "execute_result"
    }
   ],
   "source": [
    "#  Anonymous  object  demo  program\n",
    "_ = 25\n",
    "print(_)    # 25\n",
    "print(type(_))  #<class int>\n",
    "a , _ , c = 10 , 20 , 30\n",
    "print(a)    # 10\n",
    "print(_)    # 20\n",
    "print(c)    # 30\n",
    "for  _  in  range(5):\n",
    "\tprint(_ , 'Hello')  # 0 Hello 1 Hello 2 Hello 3 Hello 4 Hello\n",
    "\n",
    "\n",
    "'''\n",
    "1) What  is   _   called ?   --->  Anonymous  object  (or) Nameless  object\n",
    "\n",
    "2) How  many  nameless  objects  can  be  a  program ?  --->  Just  one  (or)  zero\n",
    "\n",
    "3) What  happens  when  another  nameless  object  is  created ?  --->  Existing  nameless  object  gets  deleted\n",
    "\n",
    "4) Can  there  be  multiple  nameless  objects  in  a  program ?  --->  No\n",
    "\n",
    "5) _ = 10\n",
    "    _ = 20\n",
    "   What  happens  when  _ = 20  is  executed ?  --->  A  new  nameless  object  is  created  with  value  20  and\n",
    "\t\t\t\t\t\t\t\t\t\t\t\t\t\t\t\t\t\t\t\t  old  nameless  object  with  10  is  lost\n",
    "'''\n"
   ]
  },
  {
   "cell_type": "code",
   "execution_count": 4,
   "id": "4c856044",
   "metadata": {},
   "outputs": [
    {
     "name": "stdout",
     "output_type": "stream",
     "text": [
      "140730492865720\n",
      "140730492866040\n"
     ]
    }
   ],
   "source": [
    "#  Find  outputs\n",
    "a = 25\n",
    "print(id(a))    # some 1000\n",
    "a = 35\n",
    "print(id(a))    # some 2000\n"
   ]
  },
  {
   "cell_type": "code",
   "execution_count": 5,
   "id": "d8f70c4d",
   "metadata": {},
   "outputs": [
    {
     "name": "stdout",
     "output_type": "stream",
     "text": [
      "2260210383024\n",
      "25.7\n",
      "2260210382992\n",
      "35.6\n",
      "140730491869200\n",
      "140730491869232\n",
      "140730491869264\n",
      "140730491869264\n"
     ]
    }
   ],
   "source": [
    "# Find  outputs (Home  work)\n",
    "a = 25.7\n",
    "print(id(a))    #may be 1000(diff)\n",
    "print(a)    # 25.7\n",
    "a = 35.6\n",
    "print(id(a))    #may be2000(diff)\n",
    "print(a)    # 35.6\n",
    "b = True\n",
    "print(id(b))    # may be 100076(diff)\n",
    "b = False\n",
    "print(id(b))    # may be 200045(diff)\n",
    "c = None\n",
    "print(id(c))    # may be 20088(diff)\n",
    "c = None\n",
    "print(id(c))    # same address"
   ]
  },
  {
   "cell_type": "code",
   "execution_count": 6,
   "id": "f229fa59",
   "metadata": {},
   "outputs": [
    {
     "name": "stdout",
     "output_type": "stream",
     "text": [
      "2260234932880\n",
      "2260234938112\n",
      "2260235043040\n",
      "2260235043200\n",
      "2260234928752\n",
      "2260234928464\n"
     ]
    }
   ],
   "source": [
    "#  Find  outputs  (Home  work)\n",
    "a = 'Hyd'\n",
    "print(id(a))    # may be 1200\n",
    "#a[1] = 'e'  # Error\n",
    "a = 'Sec'   \n",
    "print(id(a))    # diff address 23456\n",
    "b = (10 , 20 , 15 , 18)\n",
    "print(id(b))        # 234567 diff address\n",
    "#b[2] = 19   #error\n",
    "b = (30 , 40 , 35 , 32)\n",
    "print(id(b))    # diff address\n",
    "c = range(5)\n",
    "print(id(c))    # diff adress 2345698\n",
    "#c[3] = 10   # error\n",
    "c = range(5)\n",
    "print(id(c))    # diff address"
   ]
  },
  {
   "cell_type": "code",
   "execution_count": 7,
   "id": "f3829c50",
   "metadata": {},
   "outputs": [
    {
     "name": "stdout",
     "output_type": "stream",
     "text": [
      "True\n",
      "True\n",
      "True\n",
      "False\n"
     ]
    }
   ],
   "source": [
    "# Find  outputs  (Home  work)\n",
    "a = 25\n",
    "b = 25\n",
    "print(a  is  b) # True\n",
    "c = 'Hyd'\n",
    "d = 'Hyd'\n",
    "print(c  is  d) # True\n",
    "e = False\n",
    "f = False\n",
    "print(e  is  f) # True\n",
    "g = range(10)\n",
    "h = range(10)\n",
    "print(g  is  h) # False"
   ]
  },
  {
   "cell_type": "code",
   "execution_count": 8,
   "id": "25c84889",
   "metadata": {},
   "outputs": [
    {
     "name": "stdout",
     "output_type": "stream",
     "text": [
      "False\n",
      "False\n",
      "False\n",
      "False\n"
     ]
    }
   ],
   "source": [
    "#Find  outputs(Home  work)\n",
    "a = [10 , 20 , 15 , 18]\n",
    "b = [10 , 20 , 15 , 18]\n",
    "print(a  is  b) # False\n",
    "c =  {10 : 20, 30 : 40}\n",
    "d =  {10 : 20, 30 : 40}\n",
    "print(c  is  d) # False\n",
    "e = (10 , 20 , 15 , 18)\n",
    "f = (10 , 20 , 15 , 18)\n",
    "print(e  is  f) # False\n",
    "g = {10 , 20 , 15 , 18}\n",
    "h = {10 , 20 , 15 , 18}\n",
    "print(g  is  h) # False"
   ]
  },
  {
   "cell_type": "code",
   "execution_count": null,
   "id": "1e42bba0",
   "metadata": {},
   "outputs": [
    {
     "name": "stdout",
     "output_type": "stream",
     "text": [
      "30\n",
      "31.400000000000002\n",
      "(8+10j)\n",
      "1\n",
      "Hyderabad\n",
      "SankarDayalSarma\n",
      "1020\n",
      "[10, 20, 30, 1, 2, 3]\n",
      "(25, 10.8, 'Hyd', (3+4j), True, None)\n"
     ]
    }
   ],
   "source": [
    "# Find outputs (Home work)\n",
    "print(10 + 20)  # 30\n",
    "print(10.8 + 20.6)  # 31.4\n",
    "print(3 + 4j + 5 + 6j)  # 8+10j\n",
    "print(True + False) # 1\n",
    "print('Hyder' + 'abad') # Hyderabad\n",
    "print('Sankar' + 'Dayal' + 'Sarma') # Sankar Dayal Sarma\n",
    "print('10' + '20')  #1020\n",
    "print([10 , 20 , 30] + [1 , 2 , 3]) # [10,20,30,1,2,3]\n",
    "print((25 , 10.8 , 'Hyd') + (3 + 4j , True , None)) #(25 , 10.8 , 'Hyd', 3 + 4j , True , None)\n",
    "print({10 , 20} + {30 , 40})    # Error second ope must be int\n",
    "print({10 : 'Hyd'} + {20 : 'Sec'})  # Error\n",
    "print(range(4) + range(5))  # error\n",
    "print(10 + '20')    # Error\n",
    "print([10 , 20 , 30] + 5)   # Error\n",
    "print([10 , 20 , 30] + (40 , 50 , 60))  # Error"
   ]
  },
  {
   "cell_type": "code",
   "execution_count": null,
   "id": "a1e92c31",
   "metadata": {},
   "outputs": [
    {
     "name": "stdout",
     "output_type": "stream",
     "text": [
      "75\n",
      "276.48\n",
      "0\n",
      "(-9+38j)\n",
      "(3+26j)\n",
      "252525\n",
      "252525\n",
      "HydHydHydHyd\n",
      "[10, 20, 15, 10, 20, 15]\n",
      "(25, 10.8, 'Hyd', True, 25, 10.8, 'Hyd', True, 25, 10.8, 'Hyd', True)\n"
     ]
    }
   ],
   "source": [
    "# Find outputs (Home work)\n",
    "print(25 * 3)   # 75\n",
    "print(10.8 * 25.6)  # 276.48\n",
    "print(True * False) # 0\n",
    "print((3 + 4j) * (5 + 6j))  # -9+38j  ((a+bj)(c+dj)=(ac−bd)+(ad+bc)j)\n",
    "print(3 + 4j * 5 + 6j)  #3+326j  ((a+bj)(c+dj)=(ac−bd)+(ad+bc)j)\n",
    "print('25' * 3) # 252525\n",
    "print(3 * '25') # 252525\n",
    "print('Hyd' * 4)    # HydHydHydHyd\n",
    "print([10 , 20 , 15] * 2)   #[10 , 20 , 15,10 , 20 , 15]\n",
    "print((25, 10.8, 'Hyd', True) * 3)  #(25, 10.8, 'Hyd', True,25, 10.8, 'Hyd', True,25, 10.8, 'Hyd', True)\n",
    "print([10 , 20 , 15] * 3.0) # error\n",
    "print({10 , 20 , 15} * 2)   # error\n",
    "print({10 : 20 , 30 : 40} * 2)  # error\n",
    "print([10] * [20])  # error"
   ]
  },
  {
   "cell_type": "code",
   "execution_count": 12,
   "id": "25f4d29f",
   "metadata": {},
   "outputs": [
    {
     "name": "stdout",
     "output_type": "stream",
     "text": [
      "4.5\n",
      "4.5\n",
      "4.5\n",
      "4.5\n",
      "5.25\n",
      "3.3333333333333335\n",
      "5.0\n"
     ]
    },
    {
     "data": {
      "text/plain": [
       "'\\nWhat  does  /  operator  do  ?  --->  Peforms  division   and  returns  float  quotient\\n'"
      ]
     },
     "execution_count": 12,
     "metadata": {},
     "output_type": "execute_result"
    }
   ],
   "source": [
    "#  /  operator  demo  program\n",
    "print(9.0 / 2)  # 4.5\n",
    "print(9 / 2.0)  # 4.5\n",
    "print(9.0 / 2.0) # 4.5\n",
    "print(9 / 2)  #  4.5\n",
    "print(10.5 / 2) #5.25\n",
    "print(10 / 3)   # 3.33\n",
    "print(10 / 2)   # 5.0\n",
    "\n",
    "\n",
    "'''\n",
    "What  does  /  operator  do  ?  --->  Peforms  division   and  returns  float  quotient\n",
    "'''"
   ]
  },
  {
   "cell_type": "code",
   "execution_count": 13,
   "id": "385056c6",
   "metadata": {},
   "outputs": [
    {
     "name": "stdout",
     "output_type": "stream",
     "text": [
      "4\n",
      "4.0\n",
      "4.0\n",
      "4.0\n",
      "5.0\n",
      "3\n",
      "3.0\n",
      "2.0\n",
      "4\n",
      "-5\n",
      "-4\n"
     ]
    },
    {
     "data": {
      "text/plain": [
       "'\\n//  operator\\n--------------\\n1) What  does  //  operator do ?  --->  Same  as  /  operator  but  returns  previous  integer  of  /  result\\n\\n2) What  is  the  result  of  integer // integer ?  --->  Integer  quotient\\n    What  is  the  result  of  integer // float ?  ---> Float  quotient  with  .0\\n    What  is  the  result  of  float // integer ?  ---> Float  quotient  with  .0\\n    What  is  the  result  of  float // float ?  ---> Float  quotient  with  .0\\n\\n3) What  is  the  result  of  integer / integer ?  ---> Float  quotient\\n    What  is  the  result  of  integer / float ?  ---> Float  quotient\\n    What  is  the  result  of  float / integer ?  ---> Float  quotient\\n    What  is  the  result  of  float / float ?  ---> Float  quotient\\n\\n4) When  is  the  result  of  //  operator  integer ?  ---> When  both  the  operands  are  integers\\n    When  is  the  result  of   //  operator  float  with  .0 ?  ---> When  at  least  one  operand  is  float\\n'"
      ]
     },
     "execution_count": 13,
     "metadata": {},
     "output_type": "execute_result"
    }
   ],
   "source": [
    "#  //  operator  demo  program\n",
    "print(9 // 2)  #   prev  integer  of (4.5) = 4\n",
    "print(9.0 // 2) # 4.0\n",
    "print(9 // 2.0) # 4.0\n",
    "print(9.0 // 2.0)   # 4.0\n",
    "print(10.5 // 2)    #5.0\n",
    "print(10 // 3)  #3\n",
    "print(10.0 // 3)  #    prev  integer  of  3.33 = 3.0\n",
    "print(8.5 // 3) #2.0\n",
    "print(18 // 4)  # 4\n",
    "print(-18 // 4) # -5\n",
    "print(-(18 // 4))   # -4\n",
    "\n",
    "\n",
    "\n",
    "'''\n",
    "//  operator\n",
    "--------------\n",
    "1) What  does  //  operator do ?  --->  Same  as  /  operator  but  returns  previous  integer  of  /  result\n",
    "\n",
    "2) What  is  the  result  of  integer // integer ?  --->  Integer  quotient\n",
    "    What  is  the  result  of  integer // float ?  ---> Float  quotient  with  .0\n",
    "    What  is  the  result  of  float // integer ?  ---> Float  quotient  with  .0\n",
    "    What  is  the  result  of  float // float ?  ---> Float  quotient  with  .0\n",
    "\n",
    "3) What  is  the  result  of  integer / integer ?  ---> Float  quotient\n",
    "    What  is  the  result  of  integer / float ?  ---> Float  quotient\n",
    "    What  is  the  result  of  float / integer ?  ---> Float  quotient\n",
    "    What  is  the  result  of  float / float ?  ---> Float  quotient\n",
    "\n",
    "4) When  is  the  result  of  //  operator  integer ?  ---> When  both  the  operands  are  integers\n",
    "    When  is  the  result  of   //  operator  float  with  .0 ?  ---> When  at  least  one  operand  is  float\n",
    "'''"
   ]
  },
  {
   "cell_type": "code",
   "execution_count": 14,
   "id": "f6a3d871",
   "metadata": {},
   "outputs": [
    {
     "name": "stdout",
     "output_type": "stream",
     "text": [
      "4\n",
      "4.0\n",
      "4.0\n",
      "4.0\n",
      "0.5\n",
      "2.9000000000000004\n"
     ]
    },
    {
     "data": {
      "text/plain": [
       "'\\n%   operator\\n---------------\\n1) What  does  %  operator  do ?  ---> Performs  division  and  returns  remainder\\n\\n2) When  is  the  result  of  %  operator  integer ?  ---> When  both  the  operands  are  integers\\n    When  is  the  result  of  %  operator  float ?  ---> When  at  least  one  operand  is  float\\n'"
      ]
     },
     "execution_count": 14,
     "metadata": {},
     "output_type": "execute_result"
    }
   ],
   "source": [
    "# % operator demo program\n",
    "print(9 % 5)    # 4\n",
    "print(9.0 % 5)  #4.0\n",
    "print(9 % 5.0)  # 4.0\n",
    "print(9.0 % 5.0)    # 4.0\n",
    "print(10.5 % 2)  #   0.5\n",
    "print(8.9 % 3)  # 2.900\n",
    "\n",
    "\n",
    "'''\n",
    "%   operator\n",
    "---------------\n",
    "1) What  does  %  operator  do ?  ---> Performs  division  and  returns  remainder\n",
    "\n",
    "2) When  is  the  result  of  %  operator  integer ?  ---> When  both  the  operands  are  integers\n",
    "    When  is  the  result  of  %  operator  float ?  ---> When  at  least  one  operand  is  float\n",
    "'''"
   ]
  },
  {
   "cell_type": "code",
   "execution_count": null,
   "id": "719e5259",
   "metadata": {},
   "outputs": [],
   "source": [
    "# Find outputs\n",
    "print(7 / 0)    # error we cant division by zero\n",
    "print(7 // 0)   #error\n",
    "print(7 % 0)    #error"
   ]
  },
  {
   "cell_type": "code",
   "execution_count": 15,
   "id": "946ed777",
   "metadata": {},
   "outputs": [
    {
     "name": "stdout",
     "output_type": "stream",
     "text": [
      "81\n",
      "0.01\n",
      "262144\n",
      "19.0\n"
     ]
    },
    {
     "data": {
      "text/plain": [
       "'\\n**  operator\\n---------------\\n1) What  is  **  operator  called ?  --->  Exponential  operator\\n\\n2) What  is  the  result  of  a ** b ?  ---> a ^ b\\n\\n3) What  is  the  result  of  a ** b  ** c ?   --->  a ^ b ^ c\\n\\n4) What  is  the  associativity  of  **  operator ?  ---> Right  to  left\\n    What  is  the  associativity  of  remaining  arithmetic  operators ?  ---> Left  to  right'"
      ]
     },
     "execution_count": 15,
     "metadata": {},
     "output_type": "execute_result"
    }
   ],
   "source": [
    "# ** operator demo program\n",
    "print(3 ** 4)   # 81\n",
    "print(10 ** -2) # 0.01\n",
    "print(4 ** 3 ** 2)  #  (4 ** 9 ) 262144  \n",
    "print(3 + 4 * 5 - 32 / 2 ** 3)  # 19.0\n",
    "\n",
    "\n",
    "\n",
    "\n",
    "'''\n",
    "**  operator\n",
    "---------------\n",
    "1) What  is  **  operator  called ?  --->  Exponential  operator\n",
    "\n",
    "2) What  is  the  result  of  a ** b ?  ---> a ^ b\n",
    "\n",
    "3) What  is  the  result  of  a ** b  ** c ?   --->  a ^ b ^ c\n",
    "\n",
    "4) What  is  the  associativity  of  **  operator ?  ---> Right  to  left\n",
    "    What  is  the  associativity  of  remaining  arithmetic  operators ?  ---> Left  to  right'''"
   ]
  },
  {
   "cell_type": "code",
   "execution_count": null,
   "id": "d7ef6562",
   "metadata": {},
   "outputs": [
    {
     "name": "stdout",
     "output_type": "stream",
     "text": [
      "True\n",
      "True\n",
      "False\n",
      "True\n",
      "True\n",
      "False\n",
      "True\n",
      "False\n",
      "True\n",
      "True\n",
      "False\n",
      "True\n",
      "True\n"
     ]
    },
    {
     "data": {
      "text/plain": [
       "'\\n1) Can  complex  numbers   be  compared ?   ---> Yes  with  ==  and  !=\\n\\n2) When  can  complex  numbers   be  not  compared  ?  ---> Wiith  > , <  , >=  and  <=\\n'"
      ]
     },
     "execution_count": 17,
     "metadata": {},
     "output_type": "execute_result"
    }
   ],
   "source": [
    "#  Relational  operators  demo  program (Home  work)\n",
    "print(9 >= 5)  #   True :  >  is  satisfied\n",
    "print(9 >= 9)   #   True :  =  is  satisfied\n",
    "print(9 >= 12)   #  False :  Both  are  not  satisfied\n",
    "print(6 <= 8)   #True\n",
    "print(6 <= 6)   # TRUE\n",
    "print(6 <= 4)   # False\n",
    "print(9 != 7)   # True\n",
    "print(6 == 8)   # False\n",
    "print(True  >  False)   #True\n",
    "print(3 + 4j == 3 + 4j) # True\n",
    "print(3 + 4j == 5 + 6j) # False\n",
    "print(3 + 4j != 5 + 6j) # True\n",
    "print(10 == 10.0)   # True\n",
    "print(3 + 4j >  3 + 4j) # error\n",
    "\n",
    "\n",
    "'''\n",
    "1) Can  complex  numbers   be  compared ?   ---> Yes  with  ==  and  !=\n",
    "\n",
    "2) When  can  complex  numbers   be  not  compared  ?  ---> Wiith  > , <  , >=  and  <=\n",
    "'''"
   ]
  },
  {
   "cell_type": "code",
   "execution_count": 18,
   "id": "eb14d0f3",
   "metadata": {},
   "outputs": [
    {
     "name": "stdout",
     "output_type": "stream",
     "text": [
      "True\n",
      "True\n",
      "True\n",
      "True\n",
      "True\n",
      "True\n",
      "True\n"
     ]
    },
    {
     "data": {
      "text/plain": [
       "\"\\n1) Can  strings  be  compared  with  > ,  < , == ,  >= , <=  and  != ?  --->  Yes  only  in  python  but  not  in  other  languages\\n\\n2) What  are  compared  internally  when  strings  are  compared ? --->  1st  non-matching  characters\\n\\n3) Are  characters  compared  (or)  their  unicode  values ?  --->  Unicode  values\\n\\n4) How  many  unicode  values  exist ?  ---> 512\\n\\n5) What  is  the  range  of  unicode  values ?  ---> 0  to  511\\n\\n6) What  are  the  unicode  values  of  'A'  to  'Z'  ?  ---> 65  to  90\\n     What  are  the  unicode  values  of  'a'  to   'z'  ?  --->  97  to  122\\n     What  are  the  unicode  values  of   '0'  to  '9' ?  ---> 48  to  57\\n     What  is  the  unicode  value  of   '$' ?  --->  36\\n     What  is  the  unicode  value  of  space ?  ---> 32\\n\\n7) What  is  another  name  of  unicode ?  --->  Extended  Ascii (American  standard  code  for  information  and  interchange)\\n\""
      ]
     },
     "execution_count": 18,
     "metadata": {},
     "output_type": "execute_result"
    }
   ],
   "source": [
    "#  Find  outputs  (Home  work)\n",
    "print('Rama'   >  'Rajesh')  #   True :  'm' > 'j'\n",
    "print('Rama'  <  'Sita') #  True : 'R' < 'S'\n",
    "print('Hyd'  ==  'Hyd')  # True\n",
    "print('Rama'  <=   'Ramana')  # True ''<='n'\n",
    "print('Rama  Rao'  >=  'Rama')     # True    space>=''\n",
    "print('Hyd'  != 'Sec')   # True\n",
    "print('HYD'  <   'hyd')  # True\n",
    "\n",
    "\n",
    "'''\n",
    "1) Can  strings  be  compared  with  > ,  < , == ,  >= , <=  and  != ?  --->  Yes  only  in  python  but  not  in  other  languages\n",
    "\n",
    "2) What  are  compared  internally  when  strings  are  compared ? --->  1st  non-matching  characters\n",
    "\n",
    "3) Are  characters  compared  (or)  their  unicode  values ?  --->  Unicode  values\n",
    "\n",
    "4) How  many  unicode  values  exist ?  ---> 512\n",
    "\n",
    "5) What  is  the  range  of  unicode  values ?  ---> 0  to  511\n",
    "\n",
    "6) What  are  the  unicode  values  of  'A'  to  'Z'  ?  ---> 65  to  90\n",
    "     What  are  the  unicode  values  of  'a'  to   'z'  ?  --->  97  to  122\n",
    "     What  are  the  unicode  values  of   '0'  to  '9' ?  ---> 48  to  57\n",
    "     What  is  the  unicode  value  of   '$' ?  --->  36\n",
    "     What  is  the  unicode  value  of  space ?  ---> 32\n",
    "\n",
    "7) What  is  another  name  of  unicode ?  --->  Extended  Ascii (American  standard  code  for  information  and  interchange)\n",
    "'''"
   ]
  },
  {
   "cell_type": "code",
   "execution_count": 19,
   "id": "6139f287",
   "metadata": {},
   "outputs": [
    {
     "name": "stdout",
     "output_type": "stream",
     "text": [
      "True\n",
      "False\n",
      "False\n",
      "True\n",
      "False\n",
      "True\n"
     ]
    }
   ],
   "source": [
    "# Chaining  relational  opeartors  (Home work)\n",
    "print(10 < 20 < 30)  #   True\n",
    "print(10 >= 20 < 30)  #   False : 10  is  not  >= 20\n",
    "print(10 < 20 > 30) # False\n",
    "print(1 < 2 < 3 < 4)    # True\n",
    "print(1 < 2 > 3 > 1)    # False\n",
    "print(4 > 3 >= 3 > 2)   # True"
   ]
  },
  {
   "cell_type": "code",
   "execution_count": 20,
   "id": "38e886a9",
   "metadata": {},
   "outputs": [
    {
     "name": "stdout",
     "output_type": "stream",
     "text": [
      "True\n",
      "True\n"
     ]
    }
   ],
   "source": [
    "#  Find   outputs (Home work)\n",
    "i = 10\n",
    "i = not  i > 14\n",
    "print(i)    #True\n",
    "print(not(6 < 4  or  9 >= 5  and  6 != 6))  # True"
   ]
  },
  {
   "cell_type": "markdown",
   "id": "6c2ba069",
   "metadata": {},
   "source": [
    "### 22/07/25"
   ]
  },
  {
   "cell_type": "code",
   "execution_count": null,
   "id": "c40cb5fe",
   "metadata": {},
   "outputs": [
    {
     "name": "stdout",
     "output_type": "stream",
     "text": [
      "{10, 20, 30}\n",
      "{10: 'Hyd', 20: 'Vja', 30: 'Cyb'}\n"
     ]
    }
   ],
   "source": [
    "#  Find  outputs\n",
    "print({10 , 20}  |  {30 , 20})  # {10,20,30,40}\n",
    "print({10 : 'Hyd' , 20 : 'Sec'} |  {30 : 'Cyb' , 20 : 'Vja'})   # {10 : 'Hyd' ,  20 : 'Vja', 30 : 'Cyb' }\n",
    "print(range(4) | range(5))  # Error\n",
    "print([10 , 20]  |  [30 , 20])  # error"
   ]
  },
  {
   "cell_type": "code",
   "execution_count": null,
   "id": "c23fbbf9",
   "metadata": {},
   "outputs": [
    {
     "name": "stdout",
     "output_type": "stream",
     "text": [
      "25\n",
      "25\n",
      "True\n",
      "34\n"
     ]
    }
   ],
   "source": [
    "#  Assignment  operators  demo  program  (Home  work)\n",
    "a = 25\n",
    "print(a)    # 25\n",
    "b =  a\n",
    "print(b)    # 25\n",
    "print(a  is  b) # True\n",
    "x = 4\n",
    "y = 5\n",
    "z = x + y * 6  \n",
    "print(z)    #34\n",
    "25 = a  # error\n",
    "a + b = x + y   # error"
   ]
  },
  {
   "cell_type": "code",
   "execution_count": 24,
   "id": "df3acfe6",
   "metadata": {},
   "outputs": [
    {
     "name": "stdout",
     "output_type": "stream",
     "text": [
      "140730492865720\n",
      "140730492865720\n",
      "140730492865720\n",
      "25 25 25\n"
     ]
    }
   ],
   "source": [
    "# Find outputs (Home work)\n",
    "a = b = c = 25\n",
    "print(id(a))    # may be some 23456\n",
    "print(id(b))    # same address\n",
    "print(id(c))    # same address\n",
    "print(a , b , c)    # 25 25 25"
   ]
  },
  {
   "cell_type": "code",
   "execution_count": 25,
   "id": "8de2754b",
   "metadata": {},
   "outputs": [
    {
     "name": "stdout",
     "output_type": "stream",
     "text": [
      "25\n",
      "10.8\n",
      "Hyd\n"
     ]
    }
   ],
   "source": [
    "# Multiple  Assignment (Home work)\n",
    "x , y , z = 25 , 10.8 , 'Hyd'\n",
    "print(x)    # 25\n",
    "print(y)    # 10.8\n",
    "print(z)    # Hyd"
   ]
  },
  {
   "cell_type": "code",
   "execution_count": 26,
   "id": "9ede63b0",
   "metadata": {},
   "outputs": [
    {
     "name": "stdout",
     "output_type": "stream",
     "text": [
      "27\n"
     ]
    }
   ],
   "source": [
    "# Find outputs (Home work)\n",
    "a , b , c = 3 , 4 , 5\n",
    "a *= b + c  # a=a*(b+c) 3*9\n",
    "print(a)    #27"
   ]
  },
  {
   "cell_type": "code",
   "execution_count": 27,
   "id": "6e378004",
   "metadata": {},
   "outputs": [
    {
     "name": "stdout",
     "output_type": "stream",
     "text": [
      "9\n"
     ]
    }
   ],
   "source": [
    "# Find outputs (Home work)\n",
    "a = 20\n",
    "a %= 3 + 2 * 4  # a=20%(3+2*4)-->20%11\n",
    "print(a)    # 9"
   ]
  },
  {
   "cell_type": "code",
   "execution_count": 28,
   "id": "3dfc6602",
   "metadata": {},
   "outputs": [
    {
     "name": "stdout",
     "output_type": "stream",
     "text": [
      "81\n"
     ]
    }
   ],
   "source": [
    "# Find outputs (Home work)\n",
    "a = 3\n",
    "a **= 4 # 3**4\n",
    "print(a)    # 81"
   ]
  },
  {
   "cell_type": "code",
   "execution_count": 29,
   "id": "9772c7b5",
   "metadata": {},
   "outputs": [
    {
     "name": "stdout",
     "output_type": "stream",
     "text": [
      "True\n",
      "False\n",
      "True\n"
     ]
    }
   ],
   "source": [
    "# Identity operators demo program\n",
    "a = 25\n",
    "b = 25\n",
    "print(a  is  b) # True\n",
    "print(a  is  not  b)    # False\n",
    "print(a == b)   # True"
   ]
  },
  {
   "cell_type": "code",
   "execution_count": 30,
   "id": "710c1363",
   "metadata": {},
   "outputs": [
    {
     "name": "stdout",
     "output_type": "stream",
     "text": [
      "False\n",
      "True\n",
      "True\n"
     ]
    }
   ],
   "source": [
    "# Find outputs (Home work)\n",
    "a = 25\n",
    "b = 25.0\n",
    "print(a  is  b) # Flase\n",
    "print(a  is  not  b)    # True\n",
    "print(a == b)   # True"
   ]
  },
  {
   "cell_type": "code",
   "execution_count": 31,
   "id": "bdf42c7a",
   "metadata": {},
   "outputs": [
    {
     "name": "stdout",
     "output_type": "stream",
     "text": [
      "True\n",
      "False\n",
      "True\n",
      "\n",
      "False\n",
      "True\n",
      "True\n",
      "\n",
      "False\n",
      "True\n",
      "True\n",
      "False\n"
     ]
    }
   ],
   "source": [
    "# Find outputs (Home work)\n",
    "a = 'Hyd'\n",
    "b = 'Hyd'\n",
    "print(a  is  b) # True\n",
    "print(a  is  not  b)    # False\n",
    "print(a == b)   # True\n",
    "print() # <space>\n",
    "x = [1 , 2 , 3 , 4]\n",
    "y = [1 , 2 , 3 , 4]\n",
    "print(x is y)   # False\n",
    "print(x  is  not  y)    # True\n",
    "print(x == y)   # True\n",
    "print()     # <space>\n",
    "m = (1 , 2 , 3 , 4)\n",
    "n = (1 , 2 , 3 , 4)\n",
    "print(m  is  n) # False\n",
    "print(m  is  not  n)    # True\n",
    "print(m == n)   # True\n",
    "print(x == m)   # False"
   ]
  },
  {
   "cell_type": "code",
   "execution_count": 32,
   "id": "b4ad1e10",
   "metadata": {},
   "outputs": [
    {
     "name": "stdout",
     "output_type": "stream",
     "text": [
      "True\n",
      "False\n",
      "True\n",
      "False\n",
      "True\n",
      "False\n",
      "True\n",
      "False\n",
      "True\n",
      "True\n",
      "True\n",
      "True\n",
      "False\n"
     ]
    }
   ],
   "source": [
    "# Membership operators demo program (Home work)\n",
    "list = [10 , 20 , 15 , 12 , 18]\n",
    "print(15 in list)   # True\n",
    "print(19 in list)   # False\n",
    "print(14 not in list)   # True\n",
    "print(15 not in list)   # False\n",
    "s = 'Hyd is green city'\n",
    "print( 'is' in s)   # True\n",
    "print('was' in s)   # False\n",
    "print('g' in s) # True\n",
    "print('z' in s) # False\n",
    "print(' ' in s) # True\n",
    "print('gre' in s)   # True\n",
    "print('yd i' in s)  # True\n",
    "print('' in s)  # True\n",
    "print('' not in s)  # False"
   ]
  },
  {
   "cell_type": "code",
   "execution_count": 33,
   "id": "9ee2d260",
   "metadata": {},
   "outputs": [
    {
     "name": "stdout",
     "output_type": "stream",
     "text": [
      "False\n",
      "False\n",
      "True\n",
      "True\n"
     ]
    }
   ],
   "source": [
    "# Find outputs (Home work)\n",
    "x = [1 , 2 , 3 , 4]\n",
    "y = [1 , 2 , 4 , 3]\n",
    "print(x == y)   # False\n",
    "a = (4 , 1 , 3 , 2)\n",
    "b = (4 , 2 , 3 , 1)\n",
    "print(a == b)   # False\n",
    "p = {1 , 2 , 3 , 4}\n",
    "q = {4 , 1 , 3 , 2}\n",
    "print(p == q)   # True\n",
    "m = range(5)\n",
    "n = range(5)\n",
    "print(m == n)   # True"
   ]
  },
  {
   "cell_type": "code",
   "execution_count": 34,
   "id": "8bc8661f",
   "metadata": {},
   "outputs": [
    {
     "name": "stdout",
     "output_type": "stream",
     "text": [
      "False\n",
      "False\n"
     ]
    }
   ],
   "source": [
    "# Find outputs (Home work)\n",
    "a = [10,20,30]\n",
    "b = (10,20,30)\n",
    "print(a  is  b) # False\n",
    "print(a  ==  b) # False"
   ]
  },
  {
   "cell_type": "markdown",
   "id": "990df4de",
   "metadata": {},
   "source": [
    "### 23/07/25"
   ]
  },
  {
   "cell_type": "code",
   "execution_count": null,
   "id": "e9d373bc",
   "metadata": {},
   "outputs": [
    {
     "name": "stdout",
     "output_type": "stream",
     "text": [
      "25\n",
      "26\n",
      "25\n",
      "26\n",
      "-25\n",
      "-25\n",
      "-25\n"
     ]
    }
   ],
   "source": [
    "#  ++  and  --  operators  demo  program\n",
    "a = 25\n",
    "print(++a)  #  +(+a) = +a  =  25\n",
    "print(a++)   #  (a+)+  =  a+ =  25+  throws   error\n",
    "print(a++1)  #  a + (+1)  =  a +  1 = 25 + 1  = 26\n",
    "print(--a)  #-(-a) = +a=25\n",
    "print(a--)  # a-(-) = a+ = 25+ Error\n",
    "print(a--1) # a-(-1) = a+1 =25+1= 26\n",
    "print(-a)   # -25\n",
    "print(+-a)  # +(-a)= -a = -25\n",
    "print(-+a)  # -(+a)= -a = -25"
   ]
  },
  {
   "cell_type": "code",
   "execution_count": 36,
   "id": "ecc07d7f",
   "metadata": {},
   "outputs": [
    {
     "name": "stdout",
     "output_type": "stream",
     "text": [
      "One\n",
      "Two\n",
      "Three\n",
      "Hyd\n",
      "Sec\n",
      "Cyb\n"
     ]
    }
   ],
   "source": [
    "#  Semicolon  demo  program\n",
    "print('One');   # One\n",
    "print('Two');   # Two\n",
    "print('Three'); # Three\n",
    "print('Hyd')  ;   print('Sec')  ;  print('Cyb')\n",
    "# Hyd\n",
    "# Sec\n",
    "# Cyb"
   ]
  },
  {
   "cell_type": "code",
   "execution_count": null,
   "id": "e03a61c6",
   "metadata": {},
   "outputs": [
    {
     "name": "stdout",
     "output_type": "stream",
     "text": [
      "10\n",
      "11\n",
      "25\n",
      "25\n",
      "-4\n",
      "-3\n",
      "-9\n",
      "-9\n",
      "25\n",
      "26\n"
     ]
    },
    {
     "data": {
      "text/plain": [
       "\"\\n1) What  does  floor(x)  do ?  --->  Returns  nearest  previous  integer  of  'x'\\n\\n2) What  does  ceil(x)  do ?  --->  Returns  nearest  next  integer  of  'x'\\n\""
      ]
     },
     "execution_count": 37,
     "metadata": {},
     "output_type": "execute_result"
    }
   ],
   "source": [
    "#  floor()  and  ceil()  functions  demo  program\n",
    "import  math\n",
    "print(math . floor(10.8))  #10\n",
    "print(math . ceil(10.8)) #  11\n",
    "print(math . floor(25.0))   # 25\n",
    "print(math . ceil(25.0))    # 25\n",
    "print(math . floor(-3.5))   # -4\n",
    "print(math . ceil(-3.5))    # -3\n",
    "print(math . floor(-9.0))   # -9\n",
    "print(math . ceil(-9.0))    # -9\n",
    "print(math . floor(25.1))   # 25\n",
    "print(math . ceil(25.1))    #26\n",
    "print(floor(3.5))   # Error bcz we r not using math module and it search the floor func in current program/module\n",
    "print(ceil(3.5))    # Error \n",
    "\n",
    "\n",
    "'''\n",
    "1) What  does  floor(x)  do ?  --->  Returns  nearest  previous  integer  of  'x'\n",
    "\n",
    "2) What  does  ceil(x)  do ?  --->  Returns  nearest  next  integer  of  'x'\n",
    "'''"
   ]
  },
  {
   "cell_type": "code",
   "execution_count": null,
   "id": "178da832",
   "metadata": {},
   "outputs": [
    {
     "name": "stdout",
     "output_type": "stream",
     "text": [
      "3\n",
      "6\n",
      "1\n",
      "7\n",
      "9\n",
      "2\n",
      "7\n",
      "3\n",
      "0\n"
     ]
    }
   ],
   "source": [
    "# gcd()  function  demo  program\n",
    "import  math\n",
    "print(math . gcd(12 , 15)) #    3\n",
    "print(math . gcd(12 , 18))  #  6\n",
    "print(math . gcd(4 , 7)) #   1\n",
    "print(math . gcd(7 , 7))    # 7\n",
    "print(math . gcd(-18 , -27))  # 9  \n",
    "print(math . gcd(-4 , 6))   # 2\n",
    "print(math . gcd(0 , 7))    # 7\n",
    "print(math . gcd(3 , 0))    # 3\n",
    "print(math . gcd(0 , 0))    # 0\n",
    "print(gcd(5 , 15))  # error"
   ]
  },
  {
   "cell_type": "code",
   "execution_count": 39,
   "id": "14b0914b",
   "metadata": {},
   "outputs": [
    {
     "name": "stdout",
     "output_type": "stream",
     "text": [
      "35.8\n",
      "27\n",
      "29.5\n",
      "32\n",
      "25\n"
     ]
    }
   ],
   "source": [
    "#  abs()  function  demo  program\n",
    "from  builtins  import  abs\n",
    "print(abs(-35.8))   # 35.8\n",
    "print(abs(-27)) # 27\n",
    "print(abs(29.5))    # 29.5\n",
    "print(abs(32))  # 32\n",
    "import  builtins\n",
    "print(builtins . abs(-25))  #25"
   ]
  },
  {
   "cell_type": "code",
   "execution_count": 40,
   "id": "97126add",
   "metadata": {},
   "outputs": [
    {
     "name": "stdout",
     "output_type": "stream",
     "text": [
      "20.6\n",
      "5.9\n",
      "25\n",
      "30\n",
      "5\n"
     ]
    }
   ],
   "source": [
    "#  max()  and  min()   functions  demo  program\n",
    "from  builtins  import   max , min\n",
    "print(max(10.8 , 20.6)) # 20.6\n",
    "print(min(10.8 , 20.6 , 5.9 , 12.3))    # 5.9\n",
    "print(max(25 , 10.8))   # 25\n",
    "import  builtins\n",
    "print(builtins . max(10 , 20 , 30)) # 30\n",
    "print(builtins . min(10 , 20 , 15 , 5 , 12))    # 5"
   ]
  },
  {
   "cell_type": "code",
   "execution_count": 41,
   "id": "c87a029a",
   "metadata": {},
   "outputs": [
    {
     "name": "stdout",
     "output_type": "stream",
     "text": [
      "0.01\n",
      "262144\n",
      "8\n",
      "-0.125\n"
     ]
    }
   ],
   "source": [
    "# pow()  function  demo  program\n",
    "from  builtins  import  pow\n",
    "print(pow(10 , -2)) # 0.01\n",
    "print(pow(4 , pow(3 , 2)))  #4^3^2\n",
    "import  builtins\n",
    "print(builtins . pow(2 , 3))    # 2^3 = 8\n",
    "print(builtins . pow(-2 , -3))  # -2^-3"
   ]
  },
  {
   "cell_type": "code",
   "execution_count": null,
   "id": "cacdc061",
   "metadata": {},
   "outputs": [
    {
     "name": "stdout",
     "output_type": "stream",
     "text": [
      "['False', 'None', 'True', 'and', 'as', 'assert', 'async', 'await', 'break', 'class', 'continue', 'def', 'del', 'elif', 'else', 'except', 'finally', 'for', 'from', 'global', 'if', 'import', 'in', 'is', 'lambda', 'nonlocal', 'not', 'or', 'pass', 'raise', 'return', 'try', 'while', 'with', 'yield']\n",
      "35\n",
      "<class 'list'>\n"
     ]
    }
   ],
   "source": [
    "# Find  outputs\n",
    "from keyword import kwlist #How  to  import   kw  list\n",
    "print(kwlist) #How  to  print  kwlist\n",
    "print(len(kwlist)) #How  to  print  number  of  keywords\n",
    "print(type(kwlist)) #How  to  print  type  of kwlist\n",
    "print(keyword . kwlist)"
   ]
  },
  {
   "cell_type": "code",
   "execution_count": null,
   "id": "cb026d3c",
   "metadata": {},
   "outputs": [
    {
     "name": "stdout",
     "output_type": "stream",
     "text": [
      "['False', 'None', 'True', 'and', 'as', 'assert', 'async', 'await', 'break', 'class', 'continue', 'def', 'del', 'elif', 'else', 'except', 'finally', 'for', 'from', 'global', 'if', 'import', 'in', 'is', 'lambda', 'nonlocal', 'not', 'or', 'pass', 'raise', 'return', 'try', 'while', 'with', 'yield']\n",
      "35\n",
      "<class 'list'>\n"
     ]
    }
   ],
   "source": [
    "#  Find  outputs  (Home  work)\n",
    "import keyword #How  to  import   keyword  module\n",
    "print(keyword.kwlist) #How  to  print  kwlist\n",
    "print(len(keyword.kwlist)) #How  to  print  number  of  keywords\n",
    "print(type(keyword . kwlist)) #How  to  print  type  of kwlist\n",
    "print(kwlist)   # error"
   ]
  },
  {
   "cell_type": "markdown",
   "id": "3a6060b4",
   "metadata": {},
   "source": [
    "### 24/07/25"
   ]
  },
  {
   "cell_type": "code",
   "execution_count": null,
   "id": "18190492",
   "metadata": {},
   "outputs": [
    {
     "name": "stdout",
     "output_type": "stream",
     "text": [
      "25\n",
      "10.8\n",
      "False\n",
      "(3+4j)\n",
      "Hyd\n",
      "23\n",
      "[10, 20, 15, 18]\n",
      "{18, 20, 10, 12, 15}\n",
      "(10, 20, 30)\n",
      "{10: 'Sec'}\n"
     ]
    }
   ],
   "source": [
    "# eval()  function  demo  program\n",
    "print(eval('25'))   # 25\n",
    "print(eval('10.8')) # 10.8\n",
    "print(eval('False'))    # False\n",
    "print(eval('3+4j')) # 3+4j\n",
    "print(eval('Hyd'))  # Error\n",
    "print(eval(\"    'Hyd'   \")) # Hyd\n",
    "print(eval('3 + 4 * 5'))    # 23\n",
    "print(eval('[10 , 20 , 15 , 18]'))  # [10 , 20 , 15 , 18]\n",
    "print(eval('{10,20,15,18,20,12,18}'))   # {10,20,15,18,12}\n",
    "print(eval('(10 , 20 , 30)'))   # (10 , 20 , 30)\n",
    "print(eval(\"{10 : 'Hyd' , 10 : 'Sec'}\"))    #{10:\"Sec\"}\n",
    "print(eval(4 + 5))  # error"
   ]
  },
  {
   "cell_type": "code",
   "execution_count": null,
   "id": "cf463ac9",
   "metadata": {},
   "outputs": [
    {
     "name": "stdout",
     "output_type": "stream",
     "text": [
      "hyd\n",
      "Sec\n",
      "25\n",
      "25\n",
      "10.8\n"
     ]
    }
   ],
   "source": [
    "#  Tricky  program\n",
    "# Find  outputs  (Home  work)\n",
    "print(eval(\"    'hyd'   \")) # hyd\n",
    "hyd = 'Sec'\n",
    "print(eval('hyd'))  # Sec\n",
    "sec = '25'\n",
    "print(eval('sec'))  # 25\n",
    "print(eval(sec))    # 25\n",
    "cyb = 10.8\n",
    "print(eval('cyb'))  # 10.8\n",
    "print(eval(cyb))    # Error"
   ]
  },
  {
   "cell_type": "code",
   "execution_count": 47,
   "id": "d5545c17",
   "metadata": {},
   "outputs": [
    {
     "name": "stdout",
     "output_type": "stream",
     "text": [
      "Hyd\n",
      "None\n"
     ]
    }
   ],
   "source": [
    "#  Tricky  program\n",
    "#  Find  output  (Home  work)\n",
    "print(eval('print(\"Hyd\")')) # Hyd  None"
   ]
  },
  {
   "cell_type": "code",
   "execution_count": null,
   "id": "304c9ba0",
   "metadata": {},
   "outputs": [
    {
     "name": "stdout",
     "output_type": "stream",
     "text": [
      "True\n",
      "False\n",
      "False\n",
      "\n",
      " \n"
     ]
    }
   ],
   "source": [
    "#  Find  outputs  (Home  work)\n",
    "print(bool('False'))    # True\n",
    "print(eval('False'))    # False\n",
    "print(bool('')) # False\n",
    "print(eval('  \"\"  '))   # empty\n",
    "print(eval(''))    # Error\n",
    "print(eval('  \" \"   ')) # empty\n",
    "print(eval(' '))   # Error"
   ]
  },
  {
   "cell_type": "code",
   "execution_count": 49,
   "id": "e3437876",
   "metadata": {},
   "outputs": [
    {
     "name": "stdout",
     "output_type": "stream",
     "text": [
      "<class 'int'>\n",
      "25\n"
     ]
    }
   ],
   "source": [
    "# What  is  the  advantage  of  eval(input()) ?\n",
    "x = eval(input('Enter  any  input  :  '))   # what input the user enters it will give that output\n",
    "print(type(x))  # if i/p is 25 i.e <class int>\n",
    "print(x)    # 25"
   ]
  },
  {
   "cell_type": "code",
   "execution_count": 51,
   "id": "21132188",
   "metadata": {},
   "outputs": [
    {
     "name": "stdout",
     "output_type": "stream",
     "text": [
      "5\n",
      "Hello\n",
      "5\n",
      "Hello\n"
     ]
    }
   ],
   "source": [
    "# What  is  a  better  approach  to  read  string  input ?\n",
    "a = input('Enter  any  string  :  ')\n",
    "print(len(a))   # no.of characters will be printed\n",
    "print(a)    # string of object a will be printed \n",
    "b = eval(input('Enter   any  string  : '))\n",
    "print(len(b))   # no.of characters will be printed (if input is string)\n",
    "print(b)     # string of object a will be printed "
   ]
  },
  {
   "cell_type": "code",
   "execution_count": 52,
   "id": "1d00eb74",
   "metadata": {},
   "outputs": [
    {
     "name": "stdout",
     "output_type": "stream",
     "text": [
      "25,10.8,Hyd\n",
      "25\t10.8\tHyd\n",
      "25---10.8---Hyd\n",
      "25\n",
      "10.8\n",
      "Hyd\n",
      "25 10.8 Hyd\n"
     ]
    }
   ],
   "source": [
    "# sep  argument  demo  program  (Home  work)\n",
    "a , b , c = 25 , 10.8 , 'Hyd'\n",
    "print(a , b , c , sep = ',')   #   25 , 10.8 , Hyd\n",
    "print(a , b , c , sep = '\\t')   # 25    10.8    Hyd\n",
    "print(a , b , c , sep = '---')  # 25 --- 10.8 --- Hyd\n",
    "print(a , b , c , sep = '\\n')   # 25 <next line> 10.8 <next line> Hyd\n",
    "print(a , b , c)    # 25 10.8 Hyd\n",
    "#print(a , b , c , separator = ':')  #   Error due to seperator"
   ]
  },
  {
   "cell_type": "code",
   "execution_count": 53,
   "id": "85332193",
   "metadata": {},
   "outputs": [
    {
     "name": "stdout",
     "output_type": "stream",
     "text": [
      "25 10.8 Hyd---25,,,10.8,,,Hyd\n",
      "25:::10.8:::Hyd\t\t\t25 10.8 Hyd\n"
     ]
    }
   ],
   "source": [
    "# Find  outputs  (Home  work)\n",
    "a , b , c = 25 , 10.8 , 'Hyd'\n",
    "print(a , b , c , end = '---')  #  25 --- 10.8 --- Hyd\n",
    "print(a , b , c , sep = ',,,')  #   25 ,,, 10.8 ,,, Hyd\n",
    "print(a , b , c , sep = ':::' , end = '\\t\\t\\t') #25:::10.8:::Hyd\t\n",
    "print(a , b , c)    # 25 10.8 Hyd ( it will be printed in the above statemnet bcz of tab)"
   ]
  },
  {
   "cell_type": "code",
   "execution_count": 54,
   "id": "c95bda74",
   "metadata": {},
   "outputs": [
    {
     "name": "stdout",
     "output_type": "stream",
     "text": [
      "Hyd\n",
      "\n",
      "Sec\n",
      "\n",
      "Cyb\n"
     ]
    }
   ],
   "source": [
    "# Find outputs  (Home  work)\n",
    "print('Hyd')    # Hyd\n",
    "print() # empty\n",
    "print('Sec')    # Sec\n",
    "print() # empty\n",
    "print('Cyb')    # Cyb"
   ]
  },
  {
   "cell_type": "code",
   "execution_count": 55,
   "id": "7e19dd91",
   "metadata": {},
   "outputs": [
    {
     "name": "stdout",
     "output_type": "stream",
     "text": [
      "[10, 20, 30, 40] (10, 20, 30, 40) {40, 10, 20, 30}\n"
     ]
    }
   ],
   "source": [
    "# Find  outputs  (Home  work)\n",
    "l = [10 , 20 , 30 , 40]\n",
    "t = (10 , 20 , 30 , 40)\n",
    "s = {10 , 20 , 30 , 40}\n",
    "print(l , t , s)    # [10, 20, 30, 40] (10, 20, 30, 40) {40, 10, 20, 30}"
   ]
  },
  {
   "cell_type": "code",
   "execution_count": 56,
   "id": "13bc1c2a",
   "metadata": {},
   "outputs": [
    {
     "name": "stdout",
     "output_type": "stream",
     "text": [
      "25.000000\n",
      "<class 'str'>\n",
      "10\n",
      "<class 'str'>\n",
      "[10, 20, 15, 18]\n",
      "<class 'str'>\n"
     ]
    }
   ],
   "source": [
    "#  Find  outputs (Home  work)\n",
    "a = 25\n",
    "b = '%f'  %a    \n",
    "print(b)    # 25.000000\n",
    "print(type(b))  # <class 'str'>\n",
    "x = 10.8\n",
    "y = '%d'  %x\n",
    "print(y)    # 10\n",
    "print(type(y))  #< class 'str'>\n",
    "m = [10 , 20 , 15 , 18]\n",
    "n = '%s'  %m\n",
    "print(n)    # [10 , 20 , 15 , 18]\n",
    "print(type(n))  # <class 'str'>"
   ]
  },
  {
   "cell_type": "code",
   "execution_count": 57,
   "id": "37c3b762",
   "metadata": {},
   "outputs": [
    {
     "name": "stdout",
     "output_type": "stream",
     "text": [
      "   10.93\n",
      "     10.9\n",
      "    10.927\n",
      "10.93\n",
      "10.927400\n",
      "10.927400\n"
     ]
    }
   ],
   "source": [
    "# Find  Outputs  (Home  work)\n",
    "a = 10.9274\n",
    "print('%8.2f'  %a)  #  <3  spaces>10.93\n",
    "print('%9.1f'  %a)  # <5 spaces>10.9\n",
    "print('%10.3f'  %a) # <4 spaces>10.927\n",
    "print('%.2f'  %a)   #10.93\n",
    "print('%.6f'  %a)   # 10.927400\n",
    "print('%f'  %a) # 10.927400"
   ]
  },
  {
   "cell_type": "code",
   "execution_count": null,
   "id": "94da171d",
   "metadata": {},
   "outputs": [
    {
     "name": "stdout",
     "output_type": "stream",
     "text": [
      "    Hyd\n",
      "Hyd    \n",
      "Hyd\n",
      "Hyd\n",
      "%s Hyd\n",
      "Hyd\n"
     ]
    }
   ],
   "source": [
    "# Find  outputs (Home  work)\n",
    "a = 'Hyd'\n",
    "print('%7s'  %a)   #  <4  spaces>Hyd\n",
    "print('%-7s'  %a)  #  Hyd<4   spaces>\n",
    "print('%2s'  %a)   #  Hyd  and  ignores  smaller width\n",
    "print('%s'  %a) #  Hyd\n",
    "print('%s' , a) # %s Hyd\n",
    "print('%s'  a)  # Error due to format syntax or comma\n",
    "print('%s' , %a)    # error due to comma\n",
    "print(a)    # Hyd"
   ]
  },
  {
   "cell_type": "code",
   "execution_count": null,
   "id": "0d848f9d",
   "metadata": {},
   "outputs": [
    {
     "name": "stdout",
     "output_type": "stream",
     "text": [
      "[10, 20, 30, 40]\n",
      "%s [10, 20, 30, 40]\n",
      "[10, 20, 30, 40]\n"
     ]
    }
   ],
   "source": [
    "# Find  outputs  (Home  work)\n",
    "a = [10 , 20 , 30 , 40]\n",
    "print('%s'  %a)     # [10 , 20 , 30 , 40]\n",
    "print('%s' , a) # %s [10 , 20 , 30 , 40]\n",
    "print('%s'  a)  # Error due to not provided comma or format syntax\n",
    "print('%s' , %a)    # Eror due to comma\n",
    "print('%l'  %a) # Error\n",
    "print(a)    # [10 , 20 , 30 , 40]"
   ]
  },
  {
   "cell_type": "code",
   "execution_count": null,
   "id": "07d8ef1a",
   "metadata": {},
   "outputs": [
    {
     "name": "stdout",
     "output_type": "stream",
     "text": [
      "25    10.927400    Hyd\n",
      "25    10.9274    Hyd\n",
      "25    10.9274    Hyd\n",
      "%d    %g    %s 25 10.9274 Hyd\n",
      "25 10.927400 Hyd\n"
     ]
    }
   ],
   "source": [
    "#Find outputs  (Home  work)\n",
    "a = 25\n",
    "b = 10.9274\n",
    "c = 'Hyd'\n",
    "print('%d    %f    %s'  %(a , b , c))   # 25    10.927400   Hyd\n",
    "print('%i    %g    %s'    %(a , b , c)) # 25    10.9274     Hyd\n",
    "print('%s    %s    %s'  %(a , b , c))   # 25    10.9274     Hyd\n",
    "print('%d    %g    %s'  , a , b , c)    # %d    %g  %s 25 10.9274 Hyd\n",
    "print('%d    %g      %s'   a , b , c)   #Error Due forget comma\n",
    "print('%d    %g    %s'  ,  %(a , b , c))   # Error due to comma\n",
    "print('%d    %g    %s'    %a%b%c)   # 25 10.9274 Hyd\n",
    "print('%d'    %a  ,  '%f'     %b  ,  '%s'   %c) # 25    10.927400   Hyd"
   ]
  },
  {
   "cell_type": "markdown",
   "id": "5931e726",
   "metadata": {},
   "source": [
    "### 26/07/25"
   ]
  },
  {
   "cell_type": "code",
   "execution_count": 62,
   "id": "917d60f8",
   "metadata": {},
   "outputs": [
    {
     "name": "stdout",
     "output_type": "stream",
     "text": [
      "25\n",
      "<class 'str'>\n",
      "10.8\n",
      "<class 'str'>\n",
      "[10, 20, 30, 40]\n",
      "<class 'str'>\n"
     ]
    }
   ],
   "source": [
    "#  Find  outputs  (Home  work)\n",
    "x = 25\n",
    "y = F'{x}'\n",
    "print(y)    # 25\n",
    "print(type(y))  # <class str>\n",
    "x = 10.8\n",
    "y = F'{x}'  \n",
    "print(y)    # 10.8\n",
    "print(type(y))  # <class str>\n",
    "x = [10,20,30,40]\n",
    "y = F'{x}'\n",
    "print(y)    #[10,20,30,40]\n",
    "print(type(y))   # <class str>"
   ]
  },
  {
   "cell_type": "code",
   "execution_count": 64,
   "id": "b951916d",
   "metadata": {},
   "outputs": [
    {
     "name": "stdout",
     "output_type": "stream",
     "text": [
      "25  \t   10.8   \t  Hyd\n",
      "a = 25  \t  b  =  10.8  \t  c  =  Hyd\n",
      "a=25  \t   b=10.8   \t  c='Hyd'\n",
      "25  \t   10.8   \t  Hyd\n",
      "a  =  {a}  \t  b  =  {b}  \t  c  =   {c}\n",
      "a  =  a  \t  b  =  b  \t  c  =  c\n",
      "x =[10, 20, 30, 40]  \t   y ='[10, 20, 30, 40]'   \t  z ='Hyd'\n"
     ]
    }
   ],
   "source": [
    "#Find  outputs  (Home  work)\n",
    "a ,  b , c = 25 , 10.8 , 'Hyd'\n",
    "print(F'{a}  \\t   {b}   \\t  {c}')   # 25    10.8      Hyd\n",
    "print(F'a = {a}  \\t  b  =  {b}  \\t  c  =  {c}') #a = 25     b = 10.8    c = Hyd\n",
    "print(F'{a=}  \\t   {b=}   \\t  {c=}')    #a=25     b=10.8    c=Hyd\n",
    "print(F'{a:}  \\t   {b:}   \\t  {c:}')    # 25    10.8    Hyd\n",
    "print('a  =  {a}  \\t  b  =  {b}  \\t  c  =   {c}')   # a  =  {a}    b  =  {b}    c  =   {c}\n",
    "print(F'a  =  a  \\t  b  =  b  \\t  c  =  c') # a  =  a     b  =  b      c  =  c\n",
    "print(F'{x =}  \\t   {y =}   \\t  {z =}') # Error"
   ]
  },
  {
   "cell_type": "code",
   "execution_count": 65,
   "id": "18b2ff12",
   "metadata": {},
   "outputs": [
    {
     "name": "stdout",
     "output_type": "stream",
     "text": [
      "25\n",
      "{x}\n",
      "{25}\n",
      "{{x}}\n",
      "{{25}}\n",
      "{{{x}}}\n",
      "{{{25}}}\n",
      "{{{{x}}}}\n"
     ]
    },
    {
     "data": {
      "text/plain": [
       "\"\\n1) What  is  printed  when  'x'  is  in  even  number  of  braces ?  --->  'x'  itself\\n\\n2) What  is  printed  when  'x'  is  in  odd  number  of  braces ?  --->  Value   of  'x'  in  the  form  of  string\\n\\n3) How  many  braces  are  printed  in  the  output ?  --->  Number  of  braces  //  2\\n\""
      ]
     },
     "execution_count": 65,
     "metadata": {},
     "output_type": "execute_result"
    }
   ],
   "source": [
    "#  Find  outputs  (Home  work)\n",
    "x = 25\n",
    "print(F'{x}')  #  25\n",
    "print(F'{{x}}')   #  {x}\n",
    "print(F'{{{x}}}')  #   {25}\n",
    "print(F'{{{{x}}}}') #   {{x}}\n",
    "print(F'{{{{{x}}}}}')   # {{25}}\n",
    "print(F'{{{{{{x}}}}}}') # {{{x}}}\n",
    "print(F'{{{{{{{x}}}}}}}')   # {{{25}}}\n",
    "print(F'{{{{{{{{x}}}}}}}}') # {{{{x}}}}\n",
    "\n",
    "\n",
    "\n",
    "'''\n",
    "1) What  is  printed  when  'x'  is  in  even  number  of  braces ?  --->  'x'  itself\n",
    "\n",
    "2) What  is  printed  when  'x'  is  in  odd  number  of  braces ?  --->  Value   of  'x'  in  the  form  of  string\n",
    "\n",
    "3) How  many  braces  are  printed  in  the  output ?  --->  Number  of  braces  //  2\n",
    "'''"
   ]
  },
  {
   "cell_type": "code",
   "execution_count": 66,
   "id": "ed02615a",
   "metadata": {},
   "outputs": [
    {
     "name": "stdout",
     "output_type": "stream",
     "text": [
      "10 + 7 = 17\n",
      "10 - 7 = 3\n",
      "10 * 7 = 70\n",
      "10 / 7 = 1.4285714285714286\n",
      "10 % 7 = 3\n",
      "max(10 , 7) =  10\n",
      "min(10 , 7) = 7\n",
      "10^7= 10000000\n",
      "sqrt(10) = 3.1622776601683795\n",
      "gcd(10,7)= 1\n",
      "Fact(10) = 3628800\n"
     ]
    }
   ],
   "source": [
    "'''\n",
    "Write  a  program  to  determine  sum , difference , product , quotient , largest  and  smallest  of  two  numbers.\n",
    "Also  find  remainder,  sqrt  of  first  input , power, gcd  and  factorial  of  first  input\n",
    "\n",
    "Hint:  Use  F  string  to  print  results\n",
    "\n",
    "Let  inputs  be  10  and  7,\n",
    "What  is  the  sum ?  --->  17\n",
    "What  is  the  difference ?  --->  3\n",
    "What  is  the  product ?  ---> 70\n",
    "What  is  the  quotient ?  --->  1.42\n",
    "What  is  the  remainder ?  --->  3\n",
    "What  is  the  largest  number ?  ---> 10\n",
    "What  is  the  smallest  number ?  --->  7\n",
    "What  is  the  sqrt  of  1st  input ?  --->  3.16\n",
    "What  is  the  result  of  power?  --->  10000000\n",
    "What  is  the  gcd  of  2  numbers ?  ---> 1\n",
    "What  is  the  factorial   of  1st  input ?  ---> 10!\n",
    "'''\n",
    "''' \n",
    "Enter 1st  integer  number :  10\n",
    "Enter 2nd  integer  number :  7\n",
    "10 + 7 = 17\n",
    "10 - 7 = 3\n",
    "10 * 7 = 70\n",
    "10 / 7 = 1.4285714285714286\n",
    "10 % 7 = 3\n",
    "max(10 , 7) = 10\n",
    "min(10 , 7) = 7\n",
    "10 ^ 7 = 10000000\n",
    "sqrt(10) = 3.1622776601683795\n",
    "gcd(10 , 7) = 1\n",
    "fact(10) = 3628800\n",
    "'''\n",
    "import math\n",
    "a=int(input('Enter 1st integer number: '))\n",
    "b=int(input('Enter 2nd integer number: '))\n",
    "print(f'{a} + {b} =', a+b)\n",
    "print(f'{a} - {b} =', a-b)\n",
    "print(f'{a} * {b} =', a*b)\n",
    "print(f'{a} / {b} =', a/b)\n",
    "print(f'{a} % {b} =', a%b)\n",
    "print(f'max({a} , {b}) = ', max(a,b))\n",
    "print(f'min({a} , {b}) =', min(a,b))\n",
    "print(f'{a}^{b}=',a**b)\n",
    "print(f'sqrt({a}) =', math.sqrt(a))\n",
    "print(f'gcd({a},{b})=',math.gcd(a,b))\n",
    "print(f'Fact({a}) =', math.factorial(a))"
   ]
  },
  {
   "cell_type": "code",
   "execution_count": 67,
   "id": "8d9895af",
   "metadata": {},
   "outputs": [
    {
     "name": "stdout",
     "output_type": "stream",
     "text": [
      "Before swap: x='25'    y='Hyd'\n",
      "After swap: x='Hyd'   y='25'\n"
     ]
    }
   ],
   "source": [
    "'''\n",
    "Write  a  program  to  swap  values  of  any  two  objects  in  a  single  statement  without  using  3rd  object\n",
    "\n",
    "Let  'x'  be  25  and  'y'  be   'Hyd'\n",
    "What  are  'x'  and  'y'  after  swap ?  ---> Hyd  and  25\n",
    "\n",
    "Hint:  Swap  references  but  not  objects\n",
    "\n",
    "Enter  1st  input :  25\n",
    "Enter  2nd  input : Hyd\n",
    "Before  swap :  x='25'            y='Hyd'\n",
    "After  swap :  x='Hyd'            y='25'\n",
    "'''\n",
    "x=eval(input('Enter 1st input: '))\n",
    "y=eval(input('Enter 2nd input: '))\n",
    "print(f\"Before swap: x='{x}'    y='{y}'\")\n",
    "print(f\"After swap: x='{y}'   y='{x}'\")\n"
   ]
  },
  {
   "cell_type": "code",
   "execution_count": 68,
   "id": "fc3cbbc4",
   "metadata": {},
   "outputs": [
    {
     "name": "stdout",
     "output_type": "stream",
     "text": [
      "Largest Input: 20\n"
     ]
    }
   ],
   "source": [
    "'''\n",
    "Write  a  program  to  determine  largest  of  three  inputs  without  using  max()  function\n",
    "\n",
    "1) What  is  the  output  if  inputs  are  10 , 20  and  15 ?   --->  20\n",
    "\n",
    "2) What  is  the  output  if  inputs  are  35.8 , 42.8  and  27.9 ?   --->  42.8\n",
    "\n",
    "3) What  is  the  output  if  inputs  are  'RAMA'  , 'RAKESH'  and  'RAJESH' ?   --->  'RAMA'\n",
    "\n",
    "4) What  is   the  output  if  inputs  are  [10 , 20 , 15 , 18]  , [10 , 20 , 32, 19]  and  [10 , 20 , 25, 17] ?  ---> [10 , 20 , 32 , 19]\n",
    "\n",
    "5) Inputs  can  be  integers , floats , strings  and  so  on\n",
    "\n",
    "6) Use  nested  ternary  operator\n",
    "\n",
    "Enter 1st input : 10\n",
    "Enter 2nd input : 20\n",
    "Enter 3rd input : 15.8\n",
    "Largest  Input  :  20\n",
    "'''\n",
    "\n",
    "a=eval(input('Enter 1st input: '))\n",
    "b=eval(input('Enter 2nd input: '))\n",
    "c=eval(input(\"Enter 3rd input: \"))\n",
    "largest=a if a>b and a>c else (b if b>c else c)\n",
    "print(\"Largest Input:\", largest)"
   ]
  },
  {
   "cell_type": "code",
   "execution_count": 69,
   "id": "01140c3a",
   "metadata": {},
   "outputs": [
    {
     "name": "stdout",
     "output_type": "stream",
     "text": [
      "Result:  <\n"
     ]
    }
   ],
   "source": [
    "'''\n",
    "Write  a  program  to  print   '>'  if  1st  input  >  2nd  input,\n",
    "                                               '<'  if  1st  input  <  2nd  input  and\n",
    "                                                                                                                                           '='  if  inputs  are  same\n",
    "\n",
    "1) What  is  the  result  if  inputs  are  10  and  20 ?  ---> <\n",
    "\n",
    "2) What  is  the  result  if  inputs  are  70  and  60 ?  --->  >\n",
    "\n",
    "3) What  is  the  result  if  inputs  are  25  and  25 ?  ---> =\n",
    "\n",
    "4) Inputs  can  be  integers , floats , strings  and  so  on\n",
    "\n",
    "5) Use  ternary  operator: value_if_true if condition else value_if_false\n",
    "\n",
    "\n",
    "Enter 1st input : 10\n",
    "Enter 2nd input : 20\n",
    "Result :   <\n",
    "'''\n",
    "a=eval(input('Enter 1st input: '))\n",
    "b=eval(input('Enter 2nd input: '))\n",
    "result= '>' if a>b else '<'\n",
    "print(\"Result: \" ,result)"
   ]
  },
  {
   "cell_type": "code",
   "execution_count": 70,
   "id": "0d6a9f4d",
   "metadata": {},
   "outputs": [
    {
     "name": "stdout",
     "output_type": "stream",
     "text": [
      "Result:  -1\n"
     ]
    }
   ],
   "source": [
    "'''\n",
    "Write  a  program  to  print  1  if  input  is  +ve  ,  -1    if  input  is  -ve  and  0  if  input  is  0\n",
    "\n",
    "1) What  is  the  result  if  input  is  -25 ?  --->  -1\n",
    "\n",
    "2) What  is  the  result  if  input  is  75 ?  --->  1\n",
    "\n",
    "3) What  is  the  result  if  input  is  0 ?  --->  0\n",
    "\n",
    "4) Use  nested  ternary  operator\n",
    "\n",
    "Enter any number : -25\n",
    "Result :  -1\n",
    "'''\n",
    "a=int(input('Enter any number'))\n",
    "result=1 if a>0 else(-1 if a<0 else 0) \n",
    "print(\"Result: \", result)"
   ]
  },
  {
   "cell_type": "code",
   "execution_count": 71,
   "id": "2e370c7a",
   "metadata": {},
   "outputs": [
    {
     "name": "stdout",
     "output_type": "stream",
     "text": [
      "Odd Number\n"
     ]
    }
   ],
   "source": [
    "'''\n",
    "Write  a  program  to  test  input  is  even  number  or  odd  number\n",
    "\n",
    "1) What  is  an  even  number  ?  --->  Divisible  by  2\n",
    "\n",
    "2) What  is  an  odd  number  ?  --->  Not  divisible  by  2\n",
    "\n",
    "3) Use  ternary  operator\n",
    "Enter  any  +ve  integer : 45\n",
    "Odd  number\n",
    "'''\n",
    "a=int(input(\"Enter any +ve integer \"))\n",
    "result='Odd Number' if a%2==1 else 'Even Number'\n",
    "print(result)"
   ]
  },
  {
   "cell_type": "code",
   "execution_count": 72,
   "id": "0beab1c2",
   "metadata": {},
   "outputs": [
    {
     "name": "stdout",
     "output_type": "stream",
     "text": [
      "Area of Rectangle= 6\n",
      "Perimeter of Rectangle= 10\n"
     ]
    }
   ],
   "source": [
    "'''\n",
    "(Home  work)\n",
    "Write  a  program  to  determine  area  and  perimeter  of  rectangle\n",
    "\n",
    "1) What  are  the  inputs ?  ---> length  and   breadth\n",
    "\n",
    "2) What  are  the  outputs  ?  --->  area  and  perimeter\n",
    "\n",
    "3) What  is  the  area  of  rectangle  ?  --->  length * breadth\n",
    "\n",
    "4) What  is  the  perimeter  of  rectangle ?  --->  2 * (length + breadth)\n",
    "'''\n",
    "a=int(input('Enter Length'))\n",
    "b=int(input(\"Enter Breadth\"))\n",
    "print('Area of Rectangle=', a*b)\n",
    "print('Perimeter of Rectangle=',2*(a+b))"
   ]
  },
  {
   "cell_type": "code",
   "execution_count": 73,
   "id": "7ed147b3",
   "metadata": {},
   "outputs": [
    {
     "name": "stdout",
     "output_type": "stream",
     "text": [
      "Volume of Shpere= 113.09723999999999\n"
     ]
    }
   ],
   "source": [
    "'''\n",
    "(Home  work)\n",
    "Write  a  program  to  determine  volume  of  a  sphere\n",
    "\n",
    "1) What  is  the  input ?  --->  radius\n",
    "\n",
    "2) What  is  the  output ?  --->  volume\n",
    "\n",
    "3) What  is  the  volume  of  sphere  ?  --->  4 / 3  * pi *  r ^ 3\n",
    "'''\n",
    "r=int(input('Enter radius'))\n",
    "output=4 / 3  * 3.14159 *  r ** 3\n",
    "print('Volume of Shpere=',output)"
   ]
  },
  {
   "cell_type": "code",
   "execution_count": 74,
   "id": "ac5f836a",
   "metadata": {},
   "outputs": [
    {
     "name": "stdout",
     "output_type": "stream",
     "text": [
      "Simple Interest= 0.4\n",
      "Compound Interest= 0.4039999999999999\n"
     ]
    }
   ],
   "source": [
    "'''\n",
    "(Home  work)\n",
    "Write  a  program  to  determine  simple  interest  and  compound  interest\n",
    "\n",
    "1) What  are  the  inputs  ?  --->  principle , time  and   rate  of  interest\n",
    "\n",
    "2) What  are  the  outputs ? --->  Simple  interest   and   compound  interest\n",
    "\n",
    "3) What  is  simple  interest formula ?  ---> ptr / 100\n",
    "\n",
    "4) What  is  compound  interest formula ?  --->  p * (1  +  r  /  100) ^  t  -  p\n",
    "'''\n",
    "p=float(input(\"Enter Principal amount: \"))\n",
    "t=float(input(\"Enter Time in years: \"))\n",
    "r=float(input(\"Enter Rate of Interest per annum: \"))\n",
    "simple_interest=(p*t*r)/100\n",
    "compound_interest=p * (1  +  r  /  100) **  t  -  p\n",
    "print(\"Simple Interest=\", simple_interest)\n",
    "print(\"Compound Interest=\",compound_interest)"
   ]
  },
  {
   "cell_type": "code",
   "execution_count": 75,
   "id": "598a3f5f",
   "metadata": {},
   "outputs": [
    {
     "name": "stdout",
     "output_type": "stream",
     "text": [
      "After swap:x= 25 y= 10\n"
     ]
    }
   ],
   "source": [
    "'''\n",
    "(Home  work)\n",
    "Write  a  program to swap values  of two objects using  3rd   object\n",
    "\n",
    "Let  x = 10  and  y = 25\n",
    "What  are  the  values  of  x  and  y  after  swap ?  --->  x = 25  and   y = 10\n",
    "'''\n",
    "x=int(input('Enter number'))\n",
    "y=int(input('Enter number'))\n",
    "temp=x\n",
    "x=y\n",
    "y=temp\n",
    "print(\"After swap:x=\",x, \"y=\",y)\n"
   ]
  },
  {
   "cell_type": "code",
   "execution_count": 76,
   "id": "ffd4b52e",
   "metadata": {},
   "outputs": [
    {
     "name": "stdout",
     "output_type": "stream",
     "text": [
      "x= 10 y= 25\n"
     ]
    }
   ],
   "source": [
    "'''\n",
    "(Home  work)\n",
    "Write  a  program  to  swap  values  of  two  objects  without  using  3rd  object\n",
    "\n",
    "Hint: One  addition  and  two  subtractions\n",
    "\n",
    "x = 25\n",
    "y =  10\n",
    "'''\n",
    "x=int(input('Enter number:'))\n",
    "y=int(input('Enter number:'))\n",
    "x=x+y\n",
    "y=x-y\n",
    "x=x-y\n",
    "print('x=',x , 'y=',y)\n"
   ]
  },
  {
   "cell_type": "code",
   "execution_count": 77,
   "id": "fbced9fd",
   "metadata": {},
   "outputs": [
    {
     "name": "stdout",
     "output_type": "stream",
     "text": [
      "x= 100.0 y= -200.0\n"
     ]
    }
   ],
   "source": [
    "'''\n",
    "(Home  work)\n",
    "Write  a  program  to  swap  values  of  two  objects  without  using  3rd  object\n",
    "\n",
    "Hint: One  multiplication  and  two  divisions\n",
    "\n",
    "x =  -200\n",
    "y =  100\n",
    "'''\n",
    "x=int(input('Enter number:'))\n",
    "y=int(input('Enter number:'))\n",
    "x=x*y\n",
    "y=x/y\n",
    "x=x/y\n",
    "print('x=',x , 'y=',y)\n"
   ]
  }
 ],
 "metadata": {
  "kernelspec": {
   "display_name": "Python 3",
   "language": "python",
   "name": "python3"
  },
  "language_info": {
   "codemirror_mode": {
    "name": "ipython",
    "version": 3
   },
   "file_extension": ".py",
   "mimetype": "text/x-python",
   "name": "python",
   "nbconvert_exporter": "python",
   "pygments_lexer": "ipython3",
   "version": "3.12.10"
  }
 },
 "nbformat": 4,
 "nbformat_minor": 5
}

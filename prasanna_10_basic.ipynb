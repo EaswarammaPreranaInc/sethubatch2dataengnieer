{
 "cells": [
  {
   "cell_type": "markdown",
   "id": "69c2490b",
   "metadata": {},
   "source": [
    "# 15/07/25\n"
   ]
  },
  {
   "cell_type": "code",
   "execution_count": null,
   "id": "80ef6456",
   "metadata": {},
   "outputs": [
    {
     "name": "stdout",
     "output_type": "stream",
     "text": [
      "10.8\n",
      "<class 'float'>\n",
      "2533675330736\n",
      "25.0\n",
      "<class 'float'>\n",
      "0.689\n",
      "340.0\n",
      "<class 'float'>\n",
      "0.0962\n"
     ]
    }
   ],
   "source": [
    "# float  object  demo  program (Home  work)\n",
    "a = 10.8\n",
    "print(a)         # 10.8\n",
    "print(type(a))  #<class float>\n",
    "print(id(a))    # may be 1231200\n",
    "b = 25.        \n",
    "print(b)        #25.0\n",
    "print(type(b))  #<class float>\n",
    "c = .689       \n",
    "print(c)        #0.689\n",
    "d = 3.4E2       \n",
    "print(d)        #3.4*10^2\n",
    "print(type(d))  #<class float>\n",
    "e = 9.62e-2\n",
    "print(e)        # 9.62*10^-2\n",
    "print(9.8.2)    # Error"
   ]
  },
  {
   "cell_type": "code",
   "execution_count": 4,
   "id": "8632ea3f",
   "metadata": {},
   "outputs": [
    {
     "name": "stdout",
     "output_type": "stream",
     "text": [
      "(3+4j)\n",
      "<class 'complex'>\n",
      "2446328820944\n",
      "3.0\n",
      "4.0\n",
      "<class 'float'>\n",
      "<class 'float'>\n"
     ]
    }
   ],
   "source": [
    "# complex object demo program\n",
    "a = 3 + 4j\n",
    "print(a)            #3+4j\n",
    "print(type(a))      #<class complex>\n",
    "print(id(a))        # may be 102101\n",
    "print(a . real)     # 3.0\n",
    "print(a . imag)     # 4.0\n",
    "print(type(a . real))   # <class float>\n",
    "print(type(a . imag))   # <class float>"
   ]
  },
  {
   "cell_type": "code",
   "execution_count": null,
   "id": "f3b9648c",
   "metadata": {},
   "outputs": [
    {
     "name": "stdout",
     "output_type": "stream",
     "text": [
      "6j\n",
      "<class 'complex'>\n",
      "0.0\n",
      "6.0\n",
      "(4+1j)\n",
      "(4+0j)\n"
     ]
    }
   ],
   "source": [
    "# Find outputs (Home work)\n",
    "a = 6j\n",
    "print(a)        # 6j\n",
    "print(type(a))  # <class complex>\n",
    "print(a.real)   # 0.0\n",
    "print(a.imag)   # 6.0\n",
    "print(5 + j6)  # Error due to 'j' is before 6\n",
    "print(3 + 4i)  # Error due to  'i'\n",
    "print(4+j)     # Error- we need to write at least '1' before 'j'\n",
    "print(4 + 1j)   # 4+1j\n",
    "print(4 + 0j)   #4+0j"
   ]
  },
  {
   "cell_type": "code",
   "execution_count": null,
   "id": "5e2a5372",
   "metadata": {},
   "outputs": [
    {
     "name": "stdout",
     "output_type": "stream",
     "text": [
      "True\n",
      "<class 'bool'>\n",
      "140706418268176\n",
      "False\n",
      "<class 'bool'>\n",
      "2\n",
      "1\n",
      "1\n",
      "0\n",
      "3\n",
      "36.8\n",
      "True\n",
      "True\n",
      "False\n"
     ]
    }
   ],
   "source": [
    "# bool object demo program  (Home  work)\n",
    "a = True\n",
    "print(a)        # True\n",
    "print(type(a))  # <class bool>\n",
    "print(id(a))    # may be 1000\n",
    "b = False       \n",
    "print(b)        # False\n",
    "print(type(b))  # <class bool>\n",
    "print(True + True)  # 2\n",
    "print(True + False) # 1\n",
    "print(False + True) # 1\n",
    "print(False + False)    # 0\n",
    "print(True + True + True)   # 3\n",
    "print(25 + 10.8 + True) # 36.8\n",
    "print(True > False)     # True\n",
    "print(True)         # True\n",
    "print(False)        # False\n",
    "print(true)         # error due to 't'\n",
    "print(false)        # error dut to 'f'"
   ]
  },
  {
   "cell_type": "code",
   "execution_count": null,
   "id": "067a2498",
   "metadata": {},
   "outputs": [
    {
     "name": "stdout",
     "output_type": "stream",
     "text": [
      "3239\n",
      "<class 'int'>\n",
      "2056685792240\n",
      "2056685790576\n",
      "3239\n",
      "3239\n",
      "2056685791792\n"
     ]
    }
   ],
   "source": [
    "# Find  outputs (Home  work)\n",
    "a = 0O6247\n",
    "print(a)        # 3249\n",
    "print(type(a))  #<class int>\n",
    "print(id(a))    # may be 2108210\n",
    "b = 0o6247      \n",
    "print(id(b))    #same address\n",
    "print(b)        #3249  \n",
    "c = 3239\n",
    "print(c)        # 3239\n",
    "print(id(c))    #same address\n",
    "#print(0o9248)   # error due to '9' - octal int contain 0-7"
   ]
  },
  {
   "cell_type": "code",
   "execution_count": null,
   "id": "c4fb101f",
   "metadata": {},
   "outputs": [
    {
     "name": "stdout",
     "output_type": "stream",
     "text": [
      "42937\n",
      "<class 'int'>\n",
      "48879\n",
      "A7B9\n"
     ]
    }
   ],
   "source": [
    "# Find  outputs  (Home  work)\n",
    "a = 0XA7B9\n",
    "print(a) # 42937\n",
    "print(type(a))  #<classs int>\n",
    "b = 0xBEEF \n",
    "print(b)    #48879\n",
    "print(A7B9) # error due to 'A7B9'\n",
    "print('A7B9')   # Error due to A7B9\n"
   ]
  },
  {
   "cell_type": "code",
   "execution_count": 12,
   "id": "a8b404c3",
   "metadata": {},
   "outputs": [
    {
     "name": "stdout",
     "output_type": "stream",
     "text": [
      "9248\n",
      "<class 'int'>\n"
     ]
    }
   ],
   "source": [
    "# Find outputs (Home  work)\n",
    "a = 9248\n",
    "print(a) # 9248\n",
    "print(type(a)) # <class int>"
   ]
  },
  {
   "cell_type": "markdown",
   "id": "b7032b40",
   "metadata": {},
   "source": [
    "16/07/25--- sequence"
   ]
  },
  {
   "cell_type": "code",
   "execution_count": null,
   "id": "f1f2ad8c",
   "metadata": {},
   "outputs": [
    {
     "name": "stdout",
     "output_type": "stream",
     "text": [
      "Rama Rao\n",
      "<class 'str'>\n",
      "2681571989488\n",
      "Hyd\n",
      "Hyd is green city.\n",
      "Hyd is hitec city.\n",
      "Hyd is beautiful city.\n"
     ]
    }
   ],
   "source": [
    "#  Find  outputs  (Home  work)\n",
    "a = \"Rama Rao\"\n",
    "print(a)    # Rama Rao\n",
    "print(type(a))  # <class 'str'>\n",
    "print(id(a))    # may be 2108310\n",
    "b = 'Hyd'\n",
    "print(b)        # Hyd\n",
    "c = '''Hyd is green city.\n",
    "Hyd is hitec city.\n",
    "Hyd is beautiful city.'''\n",
    "print(c) #Hyd is green city.\n",
    "        # Hyd is hitec city.\n",
    "        # Hyd is beautiful city."
   ]
  },
  {
   "cell_type": "code",
   "execution_count": null,
   "id": "8010daf5",
   "metadata": {},
   "outputs": [
    {
     "name": "stdout",
     "output_type": "stream",
     "text": [
      "2\n",
      "r\n"
     ]
    }
   ],
   "source": [
    "# Index   demo  program  (Home  work)\n",
    "a = 'Hyd'\n",
    "print(How  to  print  'H'  of  object  'a')   #print(a[0])\n",
    "print(How  to  print  'y'  of  object  'a')   # print(a[1]) \n",
    "print(How  to  print  'd'  of  object  'a')     #print(a[2])\n",
    "print(a[3]) # error\n",
    "print(How  to  print  'd'  of  object  'a')     # print(a[-1])\n",
    "print(How  to  print  'y'  of  object  'a')     #print(a[-2])\n",
    "print(How  to  print  'H'  of  object  'a')     #print(a[-3])\n",
    "print(a[-4])    # error\n",
    "print(a[0] ==  a[-3])   # True\n",
    "a[2] = 'c'      \n",
    "print(25[0])       #error due to 'int'\n",
    "print('25'[0])      # 2\n",
    "print(True[1])     # error due to 'bool'\n",
    "print('True'[1])    # r"
   ]
  },
  {
   "cell_type": "code",
   "execution_count": null,
   "id": "95f476af",
   "metadata": {},
   "outputs": [
    {
     "name": "stdout",
     "output_type": "stream",
     "text": [
      "HydHydHyd\n",
      "HydHyd\n",
      "Hyd\n",
      "\n",
      "\n",
      "75\n",
      "252525\n",
      "HydHydHyd\n",
      "25\n"
     ]
    }
   ],
   "source": [
    "#  Find  outputs  (Home work)\n",
    "a = 'Hyd'\n",
    "print(a * 3)    # HydHydHyd\n",
    "print(a * 2)    # HydHyd\n",
    "print(a * 1)    # Hyd\n",
    "print(a * 0)    # empty ''\n",
    "print(a * -1)   # empty ''\n",
    "print(25 * 3)   # 75\n",
    "print('25' * 3) # 252525\n",
    "#print('25' * 4.0)   # error due to 'float'\n",
    "print(3 * 'Hyd')    # HydHydHyd\n",
    "print('25' * True)  # 25"
   ]
  },
  {
   "cell_type": "code",
   "execution_count": null,
   "id": "35be9c22",
   "metadata": {},
   "outputs": [
    {
     "name": "stdout",
     "output_type": "stream",
     "text": [
      "Hyd 2681571880384\n",
      "HydHydHyd 2681578346864\n"
     ]
    }
   ],
   "source": [
    "#  Find  outputs  (Home work)\n",
    "a = 'Hyd'\n",
    "print(a , id(a))    # Hyd 2134576\n",
    "a = a * 3\n",
    "print(a , id(a))    # HydHydHyd 12345098"
   ]
  },
  {
   "cell_type": "code",
   "execution_count": null,
   "id": "8ef3e52f",
   "metadata": {},
   "outputs": [
    {
     "name": "stdout",
     "output_type": "stream",
     "text": [
      "3\n",
      "8\n",
      "4\n",
      "0\n",
      "1\n"
     ]
    }
   ],
   "source": [
    "# len()  function  (Home  work)\n",
    "print(len('Hyd'))       # 3\n",
    "print(len('Rama Rao'))  # 8\n",
    "print(len('9247'))  # 4\n",
    "print(len(''))  # 0\n",
    "print(len(' ')) # 1\n",
    "print(len(689)) # error due to 'int'"
   ]
  },
  {
   "cell_type": "code",
   "execution_count": null,
   "id": "830abed2",
   "metadata": {},
   "outputs": [
    {
     "name": "stdout",
     "output_type": "stream",
     "text": [
      "4\n",
      "\"\n",
      "\"\"Hyd\n",
      "5\n"
     ]
    }
   ],
   "source": [
    "# Find  outputs  (Home  work)\n",
    "a = \"\"\"\"Hyd\"\"\"\n",
    "print(a)    #Error \n",
    "print(len(a))   # 4\n",
    "print(a[0]) # \"\n",
    "print(\"\"\"Hyd\"\"\"\")  # error\n",
    "b = \"\"\"\"\"Hyd\"\"\"\n",
    "print(b)    # \"\"Hyd\n",
    "print(len(b))   # 5"
   ]
  },
  {
   "cell_type": "code",
   "execution_count": null,
   "id": "c962a11b",
   "metadata": {},
   "outputs": [
    {
     "name": "stdout",
     "output_type": "stream",
     "text": [
      "Dayal\n",
      "Dayal Sarma\n",
      "Sankar\n",
      "Sankar Dayal Sarma\n",
      "Sankar Dayal Sarma\n",
      "akrDy\n",
      "Sna aa am\n",
      "akrDylSra\n",
      "Sarm\n",
      "amraS layaD raknaS\n",
      "amra\n",
      "arSlyDrka\n",
      "kar Dayal Sa\n",
      "nkar Dayal \n",
      "\n",
      "\n"
     ]
    }
   ],
   "source": [
    "# Find  outputs\n",
    "a = 'Sankar Dayal Sarma'\n",
    "print(a[7 : 12])    # Dayal\n",
    "print(a[7 : ])  #Dayal Sarma\n",
    "print(a[ : 6])  #Sankar\n",
    "print(a[ : ])  #  a[ 0 :  18  : 1]  --->   string  from  indexes  0  to  17  in  steps  of   1  i.e.  Sankar<space>Dayal<space>Sarma\n",
    "print(a[:  : ]) # Sankar Dayal Sarma\n",
    "print(a[1 : 10 : 2])    # akrdy\n",
    "print(a[0 : : 2])       #sna aa am\n",
    "print(a[1 : : 2])   # akrDylsra\n",
    "print(a[-5 : -1])   # Sarm\n",
    "print(a[::-1])  #amraS layaD raknaS\n",
    "print(a[-1:-5:-1])  # amra\n",
    "print(a[ : : -2]) #   a[-1 :  -19 : -2]  --->  string  from  indexes  -1  to  -18  in  steps  of   -2  i.e.  arSlyDrka\n",
    "print(a[3 : -3])    #kar Dayal Sa\n",
    "print(a[2 : -5])    #nkar Dayal \n",
    "print(a[-1:-5])     # ''\n",
    "print(a[3 : 3])     # ''\n",
    "\n",
    "\n",
    "#   0      1      2      3      4       5       6           7       8       9     10     11     12           13     14       15      16     17\n",
    "#   S      a      n      k      a       r                    D       a      y     a       l                  S       a         r       m       a\n",
    "#  -18   -17   -16      -15    -14     -13      -12        -11     -10    -9     -8    -7      -6            -5      -4       -3      -2      -1"
   ]
  },
  {
   "cell_type": "code",
   "execution_count": null,
   "id": "5587ecb4",
   "metadata": {},
   "outputs": [
    {
     "name": "stdout",
     "output_type": "stream",
     "text": [
      "\n"
     ]
    }
   ],
   "source": [
    "#  Find  outputs  (Home  work)\n",
    "a =  'A'\n",
    "#print(a[1]) # error\n",
    "print(a[1:])    # ''"
   ]
  },
  {
   "cell_type": "code",
   "execution_count": null,
   "id": "f1a15a7a",
   "metadata": {},
   "outputs": [
    {
     "name": "stdout",
     "output_type": "stream",
     "text": [
      "10\n",
      "1\n",
      "0\n",
      "25\n",
      "75\n",
      "26\n",
      "26\n",
      "3239\n",
      "3239\n",
      "42937\n",
      "42937\n"
     ]
    },
    {
     "data": {
      "text/plain": [
       "\"\\nint()  function\\n----------------\\n1) What  does  int(x)  do  ?  --->  Converts  object  'x'  to  integer\""
      ]
     },
     "execution_count": 4,
     "metadata": {},
     "output_type": "execute_result"
    }
   ],
   "source": [
    "# int()  function  demo  program\n",
    "print(int(10.8))  #  Converts  float   object  10.8  to  int  object  10\n",
    "print(int(True))  #  Converts  bool   object    True  to  int  object 1\n",
    "print(int(False))   # Converts  bool   object    Flase  to  int  object 0\n",
    "print(int('25'))  # converts string object '25' to int object 25\n",
    "print(int('0075')) #75\n",
    "print(int(0B11010)) # 26\n",
    "print(0B11010)  #26\n",
    "print(int(0O6247))  # 3239\n",
    "print(0O6247)    # 3239\n",
    "print(int(0XA7B9))  # 42937\n",
    "print(0XA7B9)   # 42937\n",
    "print(int(3 + 4j))  # error due to complex\n",
    "print(int('25.4'))  # Error \n",
    "print(int('Ten'))   # error\n",
    "\n",
    "\n",
    "\n",
    "'''\n",
    "int()  function\n",
    "----------------\n",
    "1) What  does  int(x)  do  ?  --->  Converts  object  'x'  to  integer'''"
   ]
  },
  {
   "cell_type": "code",
   "execution_count": null,
   "id": "f953cf5e",
   "metadata": {},
   "outputs": [
    {
     "name": "stdout",
     "output_type": "stream",
     "text": [
      "25.0\n",
      "1.0\n",
      "0.0\n",
      "92.0\n",
      "36.4\n",
      "75.0\n",
      "85.0\n",
      "3239.0\n",
      "42937.0\n"
     ]
    },
    {
     "data": {
      "text/plain": [
       "\"\\nfloat()   function\\n--------------------\\n1) What  does  float(x)  do  ?  --->  Converts  object  'x'  to  float\""
      ]
     },
     "execution_count": 5,
     "metadata": {},
     "output_type": "execute_result"
    }
   ],
   "source": [
    "# float()  function  demo  program\n",
    "print(float(25))  #  Converts  int  object  25  to  float  object   25.0\n",
    "print(float(True))   #  Converts  bool  object   True   to  float  object   1.0\n",
    "print(float(False)) # 0.0\n",
    "print(float('92'))  # 92.0\n",
    "print(float('36.4')) #36.4\n",
    "print(float('0075'))    #75.0\n",
    "print(float(0B1010101)) # 85.0\n",
    "print(float(0O6247))    # 3239.0\n",
    "print(float(0XA7B9))    # 42937.0\n",
    "print(float(3 + 4j))    # error due to complex\n",
    "print(float('Ten'))     #error due to str\n",
    "\n",
    "\n",
    "\n",
    "\n",
    "\n",
    "'''\n",
    "float()   function\n",
    "--------------------\n",
    "1) What  does  float(x)  do  ?  --->  Converts  object  'x'  to  float'''"
   ]
  },
  {
   "cell_type": "code",
   "execution_count": null,
   "id": "272a20a4",
   "metadata": {},
   "outputs": [
    {
     "name": "stdout",
     "output_type": "stream",
     "text": [
      "(3+4j)\n",
      "4j\n",
      "(3+0j)\n",
      "(3.8+4.6j)\n",
      "(3.8+0j)\n",
      "(3+4.5j)\n",
      "(1+0j)\n",
      "(1+0j)\n",
      "0j\n",
      "(1+4j)\n",
      "(3+0j)\n",
      "(3.8+0j)\n"
     ]
    },
    {
     "data": {
      "text/plain": [
       "\"print(complex(3 , '4')) # error due to 'str'\\nprint(complex('3' , 4)) # error due to second arg\\nprint(complex('3' , '4')) # error due to second arg\\nprint(complex('Ten'))   # error\""
      ]
     },
     "execution_count": 6,
     "metadata": {},
     "output_type": "execute_result"
    }
   ],
   "source": [
    "# complex()  function  demo  program\n",
    "print(complex(3 , 4))   # (3+4j)\n",
    "print(complex(0 , 4))   #  4j\n",
    "print(complex(3))   #(3+0j)\n",
    "print(complex(3.8 , 4.6))   # (3.8+4.6j)\n",
    "print(complex(3.8)) #(3.8+0j)\n",
    "print(complex(3 , 4.5)) # (3+4.5j)\n",
    "print(complex(True , False)) # (1+0j)\n",
    "print(complex(True))    # (1+0j)\n",
    "print(complex(False))   #0j\n",
    "print(complex(True , 4))    # (1+4j)\n",
    "print(complex('3')) #(3+0j)\n",
    "print(complex('3.8'))   #(3.8+0j)\n",
    "print(complex(3 , '4')) # error due to 'str'\n",
    "print(complex('3' , 4)) # error due to second arg\n",
    "print(complex('3' , '4')) # error due to second arg\n",
    "print(complex('Ten'))   # error"
   ]
  },
  {
   "cell_type": "code",
   "execution_count": null,
   "id": "5841a5cb",
   "metadata": {},
   "outputs": [
    {
     "name": "stdout",
     "output_type": "stream",
     "text": [
      "False\n",
      "True\n",
      "True\n",
      "True\n",
      "True\n",
      "False\n",
      "True\n",
      "False\n",
      "True\n",
      "True\n",
      "True\n",
      "False\n",
      "True\n",
      "True\n",
      "True\n"
     ]
    },
    {
     "data": {
      "text/plain": [
       "\"\\nbool()  function\\n------------------\\n1) What  does  bool(x)  do  ?  --->  Converts  object  'x'  to  True / False\\n\\n2) Is  0  True  (or)  False ? --->  False\\n    What  about  non-zero ?  --->  True\\n\\n3) Is  ''(i.e.  Empty  string)  True  (or) False ?  --->  False\\n    What  about  non-empty  string ?  --->\\tTrue\\n\\n4) When  is  x + yj  treated  as  False ?  --->  When  both  'x'  and  'y'  are  zeroes\\n     When  is  x + yj  treated  as  True ?  --->  When  either  'x'  is   non-zero  (or)  'y'  is  non-zero\\n\""
      ]
     },
     "execution_count": 8,
     "metadata": {},
     "output_type": "execute_result"
    }
   ],
   "source": [
    "#  bool()  function  demo  program\n",
    "print(bool(0))  # False\n",
    "print(bool(10))     # True :  10  is  non-zero\n",
    "print(bool(-25))    # True\n",
    "print(bool(-25))    # True\n",
    "print(bool(-25))    # True\n",
    "print(bool(0.0))    #True\n",
    "print(bool(0.1))    #False\n",
    "print(bool(0 + 0j)) #True\n",
    "print(bool(10 + 20j))#True\n",
    "print(bool(-15j)) # False\n",
    "print(bool('False')) # True\n",
    "print(bool('')) # False\n",
    "print(bool('Hyd'))  # True\n",
    "print(bool(' ')) # True\n",
    "print(bool('True'))# True\n",
    "'''\n",
    "bool()  function\n",
    "------------------\n",
    "1) What  does  bool(x)  do  ?  --->  Converts  object  'x'  to  True / False\n",
    "\n",
    "2) Is  0  True  (or)  False ? --->  False\n",
    "    What  about  non-zero ?  --->  True\n",
    "\n",
    "3) Is  ''(i.e.  Empty  string)  True  (or) False ?  --->  False\n",
    "    What  about  non-empty  string ?  --->\tTrue\n",
    "\n",
    "4) When  is  x + yj  treated  as  False ?  --->  When  both  'x'  and  'y'  are  zeroes\n",
    "     When  is  x + yj  treated  as  True ?  --->  When  either  'x'  is   non-zero  (or)  'y'  is  non-zero\n",
    "'''"
   ]
  },
  {
   "cell_type": "code",
   "execution_count": null,
   "id": "d81185c6",
   "metadata": {},
   "outputs": [
    {
     "name": "stdout",
     "output_type": "stream",
     "text": [
      "25\n",
      "10.8\n",
      "(3+4j)\n",
      "True\n",
      "False\n",
      "None\n"
     ]
    },
    {
     "data": {
      "text/plain": [
       "\"\\nWhat  does  str(x)  do ?  --->  Converts  object  'x'  to  string\\n\""
      ]
     },
     "execution_count": 9,
     "metadata": {},
     "output_type": "execute_result"
    }
   ],
   "source": [
    "# str()  function  demo  program\n",
    "print(str(25))  #  Converts   25  to  '25'\n",
    "print(str(10.8)) # 10.8\n",
    "print(str(3 + 4j)) # (3+4j)\n",
    "print(str(True))# True\n",
    "print(str(False))#False\n",
    "print(str(None)) # None\n",
    "\n",
    "\n",
    "'''\n",
    "What  does  str(x)  do ?  --->  Converts  object  'x'  to  string\n",
    "'''"
   ]
  },
  {
   "cell_type": "code",
   "execution_count": null,
   "id": "c99a06ac",
   "metadata": {},
   "outputs": [
    {
     "name": "stdout",
     "output_type": "stream",
     "text": [
      "0o303\n",
      "0o2562\n",
      "0o123671\n"
     ]
    },
    {
     "data": {
      "text/plain": [
       "\"\\noct()  function\\n-----------------\\n1) What  does  oct(x)  do ?  --->  Converts  object  'x'  to  octal  number  where\\n\\t\\t\\t\\t\\t\\t\\t\\t                    'x'  can  be  binary / decimal / hexa-decimal  number\""
      ]
     },
     "execution_count": 10,
     "metadata": {},
     "output_type": "execute_result"
    }
   ],
   "source": [
    "# oct()  function  demo  program\n",
    "print(oct(195)) #0o303\n",
    "print(oct(0B10101110010)) # 0o2562\n",
    "print(oct(0xA7B9))\t# 0o123671\n",
    "'''\n",
    "oct()  function\n",
    "-----------------\n",
    "1) What  does  oct(x)  do ?  --->  Converts  object  'x'  to  octal  number  where\n",
    "\t\t\t\t\t\t\t\t                    'x'  can  be  binary / decimal / hexa-decimal  number'''"
   ]
  },
  {
   "cell_type": "code",
   "execution_count": null,
   "id": "b560dc54",
   "metadata": {},
   "outputs": [
    {
     "name": "stdout",
     "output_type": "stream",
     "text": [
      "0x19\n",
      "0x2bd7\n",
      "0xca7\n"
     ]
    },
    {
     "data": {
      "text/plain": [
       "\"\\nhex()  function\\n------------------\\n1) What  does  hex(x)  do ?  --->  Converts  object  'x'  to  hexa-decimal  number  where\\n\\t\\t\\t\\t\\t\\t\\t\\t                     'x'  can  be  binary / decimal / octal  number\""
      ]
     },
     "execution_count": 12,
     "metadata": {},
     "output_type": "execute_result"
    }
   ],
   "source": [
    "# hex()  function  demo  program\n",
    "print(hex(25)) #0x19\n",
    "print(hex(0B10101111010111)) #(11223)0x2bd7\n",
    "print(hex(0O6247)) # (3239) 0xca7\n",
    "\n",
    "'''\n",
    "hex()  function\n",
    "------------------\n",
    "1) What  does  hex(x)  do ?  --->  Converts  object  'x'  to  hexa-decimal  number  where\n",
    "\t\t\t\t\t\t\t\t                     'x'  can  be  binary / decimal / octal  number'''"
   ]
  },
  {
   "cell_type": "markdown",
   "id": "e9bd9a91",
   "metadata": {},
   "source": [
    "17/07/25"
   ]
  },
  {
   "cell_type": "code",
   "execution_count": null,
   "id": "164732d1",
   "metadata": {},
   "outputs": [
    {
     "name": "stdout",
     "output_type": "stream",
     "text": [
      "<class 'range'>\n",
      "range(10, 50, 5)\n",
      "10 15 20 25 30 35 40 45\n",
      "2533699917872\n",
      "8\n",
      "20 , 25 , 30 , 35 , 40\n",
      "45 40 35 30 25 20 15 10\n"
     ]
    }
   ],
   "source": [
    "# Find  outputs    (Home  work)\n",
    "\n",
    "a = range(10 , 50 , 5)\n",
    "\n",
    "print(type(a)) # <class 'range'>\n",
    "\n",
    "print(a)    #range(10,50,5)\n",
    "\n",
    "print(*a)   # 10 15 20 25 30 35 40 45\n",
    "\n",
    "print(id(a))    # may be 23456\n",
    "\n",
    "print(len(a))   # 8\n",
    "\n",
    "print(*a[2 : 7] , sep = ' , ')  # 20,25,30,35,40\n",
    "\n",
    "print(*a[ : : -1])  # 45 40 35 30 25 20 15 10\n",
    "\n",
    "a[4] = 32   #   error due to immutable\n",
    "\n",
    "print(a * 2)    # error due to int"
   ]
  },
  {
   "cell_type": "code",
   "execution_count": null,
   "id": "32d5ee91",
   "metadata": {},
   "outputs": [
    {
     "name": "stdout",
     "output_type": "stream",
     "text": [
      "10,11,12,13,14,15,16,17,18,19\n",
      "0 1 2 3 4\n",
      "10...9...8...7...6...5...4...3...2\n",
      "-10 -9 -8 -7 -6 -5 -4 -3 -2 -1\n",
      "\n",
      "\n"
     ]
    }
   ],
   "source": [
    "#  Find  outputs  (Home  work)\n",
    "a = range(10 , 20)\n",
    "print(*a , sep = ',')   # 10,11,12,13,14,15,16,17,18,19\n",
    "b = range(5)    \n",
    "print(*b)   # 0 1 2 3 4\n",
    "c = range(10 , 1 , -1)\n",
    "print(*c , sep = '...') # 10...9...8...7...6...5...4...3...2\n",
    "d = range(-10 , 0)\n",
    "print(*d)   #   -10 -9 -8 -7 -6 -5 -4 -3 -2 -1\n",
    "e = range(-10)\n",
    "print(*e)   # empty\n",
    "f = range(2 , 2)\n",
    "print(*f)   # empty\n",
    "g = range(10 , 11 , 0.1) # error due to 'float'\n",
    "h = range('A' , 'F')    # error due to 'str'"
   ]
  },
  {
   "cell_type": "code",
   "execution_count": null,
   "id": "5c78500b",
   "metadata": {},
   "outputs": [
    {
     "name": "stdout",
     "output_type": "stream",
     "text": [
      "10 13 16\n"
     ]
    }
   ],
   "source": [
    "#  Find  outputs  (Home  work)\n",
    "r = range(10 ,  17 , 3)\n",
    "a , b , c = r\n",
    "print(a , b , c)    # 10 13 16\n",
    "r = range(3)\n",
    "x , y = r   # error\n",
    "p , q  , r , s = r  # error\n",
    "a , b , c = *r  # error"
   ]
  },
  {
   "cell_type": "markdown",
   "id": "35d93986",
   "metadata": {},
   "source": [
    "18/07/2025"
   ]
  },
  {
   "cell_type": "code",
   "execution_count": null,
   "id": "0cc20c0b",
   "metadata": {},
   "outputs": [
    {
     "name": "stdout",
     "output_type": "stream",
     "text": [
      "[25, 10.8, 'Hyd', True, (3+4j), None, 'Hyd', 25]\n",
      "25 10.8 Hyd True (3+4j) None Hyd 25\n",
      "<class 'list'>\n",
      "2036889237376\n",
      "8\n",
      "[25, 10.8, 'Sec', True, (3+4j), None, 'Hyd', 25]\n",
      "['Sec', True, (3+4j)]\n"
     ]
    }
   ],
   "source": [
    "#  Find  outputs  (Home  Work)\n",
    "a = [25 , 10.8 , 'Hyd' , True , 3 + 4j , None , 'Hyd' , 25]\n",
    "print(a)    # [25 , 10.8 , 'Hyd' , True , 3 + 4j , None , 'Hyd' , 25]\n",
    "print(*a)   # 25 , 10.8 , 'Hyd' , True , 3 + 4j , None , 'Hyd' , 25\n",
    "print(type(a))  # <class 'list'>\n",
    "print(id(a))    # may be 123456\n",
    "print(len(a))   #8\n",
    "a[2] = 'Sec'\n",
    "print(a)    # [25 , 10.8 , 'sec' , True , 3 + 4j , None , 'Hyd' , 25] \n",
    "print(a[2 : 5]) # ['sec' , True , 3 + 4j]"
   ]
  },
  {
   "cell_type": "code",
   "execution_count": null,
   "id": "78c02644",
   "metadata": {},
   "outputs": [
    {
     "name": "stdout",
     "output_type": "stream",
     "text": [
      "[]\n",
      "[25, 10.8, 'Hyd', True]\n",
      "[25, 10.8, True]\n"
     ]
    }
   ],
   "source": [
    "# append()  and  remove()  methods  (Home  work)\n",
    "a = [ ]\n",
    "print(a)    #[]\n",
    "a . append(25)\n",
    "a . append(10.8)\n",
    "a . append('Hyd')\n",
    "a . append(True)\n",
    "print(a)    #[25,10.8,'Hyd',True]\n",
    "a . remove('Hyd')   \n",
    "print(a)    # [25,10.8,True]\n",
    "a . remove('25')\n",
    "print(a)    # error due to '25'"
   ]
  },
  {
   "cell_type": "code",
   "execution_count": null,
   "id": "0f123747",
   "metadata": {},
   "outputs": [
    {
     "name": "stdout",
     "output_type": "stream",
     "text": [
      "[25, 10.8, 'Hyd']\n",
      "2533706343744\n",
      "[25, 10.8, 'Hyd', 25, 10.8, 'Hyd', 25, 10.8, 'Hyd']\n",
      "[25, 10.8, 'Hyd', 25, 10.8, 'Hyd']\n",
      "[25, 10.8, 'Hyd']\n",
      "[]\n",
      "[]\n",
      "[25, 10.8, 'Hyd', 25, 10.8, 'Hyd', 25, 10.8, 'Hyd']\n",
      "2533706204288\n"
     ]
    }
   ],
   "source": [
    "#  Find  outputs  (Home  work)\n",
    "a = [25 , 10.8 , 'Hyd']\n",
    "print(a)    # [25 , 10.8 , 'Hyd']\n",
    "print(id(a))    # 12345987654\n",
    "print(a * 3)    #[25 , 10.8 , 'Hyd',25 , 10.8 , 'Hyd',25 , 10.8 , 'Hyd']\n",
    "print(a * 2)    # [25 , 10.8 , 'Hyd',25 , 10.8 , 'Hyd']\n",
    "print(a * 1)    # [25 , 10.8 , 'Hyd']\n",
    "print(a * 0)    # []\n",
    "print(a * -1)   # []\n",
    "print(a * 4.0)  # error\n",
    "a = a * 3\n",
    "print(a)      # [25 , 10.8 , 'Hyd',25 , 10.8 , 'Hyd',25 , 10.8 , 'Hyd']\n",
    "print(id(a))    # 12345876\n",
    "a = [25]\n",
    "print(a * a) # Error"
   ]
  },
  {
   "cell_type": "code",
   "execution_count": null,
   "id": "fb92b6c9",
   "metadata": {},
   "outputs": [
    {
     "name": "stdout",
     "output_type": "stream",
     "text": [
      "['H', 'y', 'd']\n",
      "<class 'list'>\n",
      "3\n",
      "[10, 20, 15, 18]\n",
      "[0, 1, 2, 3, 4]\n"
     ]
    },
    {
     "data": {
      "text/plain": [
       "'\\nlist()  function\\n-----------------\\n1) What  does  list(sequence)  do ?  --->  Converts  sequence  to  list\\n\\n2) Is  list(non-sequence)  valid ?  --->   No  becoz  argument  should  be  sequence  only\\n\\n3) What  does  list(No-args)  do ?  ---> Returns  an  empty  list  i.e.  []\\n\\n4) Finally  list()  function  does  typecasting\\n'"
      ]
     },
     "execution_count": 13,
     "metadata": {},
     "output_type": "execute_result"
    }
   ],
   "source": [
    "# list()  function  demo  program\n",
    "a = list('Hyd')\n",
    "print(a)    # ['H','y','d']\n",
    "print(type(a))  # <class 'list'>\n",
    "print(len(a))   # 09873456745\n",
    "b = (10 , 20 , 15 , 18)\n",
    "print(list(b))  # [10 , 20 , 15 , 18]\n",
    "print(list(range(5)))   # [0,1,2,3,4]\n",
    "print(list(25)) # Error\n",
    "\n",
    "\n",
    "'''\n",
    "list()  function\n",
    "-----------------\n",
    "1) What  does  list(sequence)  do ?  --->  Converts  sequence  to  list\n",
    "\n",
    "2) Is  list(non-sequence)  valid ?  --->   No  becoz  argument  should  be  sequence  only\n",
    "\n",
    "3) What  does  list(No-args)  do ?  ---> Returns  an  empty  list  i.e.  []\n",
    "\n",
    "4) Finally  list()  function  does  typecasting\n",
    "'''"
   ]
  },
  {
   "cell_type": "code",
   "execution_count": null,
   "id": "74733136",
   "metadata": {},
   "outputs": [
    {
     "name": "stdout",
     "output_type": "stream",
     "text": [
      "<class 'list'>\n",
      "[]\n",
      "0\n",
      "[]\n",
      "0\n"
     ]
    }
   ],
   "source": [
    "# Find  outputs\n",
    "a = [ ]\n",
    "print(type(a))  # <class 'list'>\n",
    "print(a)    # []\n",
    "print(len(a)) # 0\n",
    "b = list()\n",
    "print(b)     # []\n",
    "print(len(b))   # 0"
   ]
  },
  {
   "cell_type": "code",
   "execution_count": null,
   "id": "3cb35d9f",
   "metadata": {},
   "outputs": [
    {
     "name": "stdout",
     "output_type": "stream",
     "text": [
      "[(3+4j), 'Hyd', True, None, 10.8]\n",
      "[25, 10.8, (3+4j), 'Hyd', True, None, 10.8, 'Hyd']\n",
      "[25, 10.8, (3+4j), 'Hyd', True, None, 10.8, 'Hyd']\n",
      "['Hyd', 10.8, None, True, 'Hyd', (3+4j), 10.8, 25]\n",
      "[25, (3+4j), True, 10.8]\n",
      "[10.8, 'Hyd', None, 'Hyd']\n",
      "['Hyd', None, 'Hyd', 10.8]\n",
      "[10.8, True, (3+4j), 25]\n",
      "[10.8, (3+4j), 'Hyd']\n",
      "[True, None, 10.8]\n",
      "['Hyd', True]\n",
      "[(3+4j)]\n",
      "[]\n"
     ]
    }
   ],
   "source": [
    "# Slice  demo  program (Home  work)\n",
    "#        0      1    2        3      4      5       6      7\n",
    "list = [25 , 10.8 , 3 + 4j , 'Hyd' , True , None , 10.8 , 'Hyd']\n",
    "#       -8     -7   -6        -5     -4     -3      -2      -1\n",
    "print(list[2 : 7])  # [ 3 + 4j , 'Hyd' , True , None , 10.8 ]\n",
    "print(list[ : : ])  # [25 , 10.8 , 3 + 4j , 'Hyd' , True , None , 10.8 , 'Hyd']\n",
    "print(list[:]) #  list[0 :  8 :  1]  --->  List  from  indexes  0  to  7  in  steps  of  1  i.e.  [25 , 10.8 , 3 + 4j , 'Hyd' , True , None , 10.8 , 'Hyd']\n",
    "print(list[ : : -1])    # ['Hyd',10.8,None,True,'Hyd',3+4j,10.8,25]\n",
    "print(list[ : : 2])     # [25 , 3 + 4j ,  True ,  10.8 ]\n",
    "print(list[1 : : 2])    # [10.8, 'Hyd', None, 'Hyd']\n",
    "print(list[ : : -2]) #  list[-1 :  -9 : -2]  --->  List  from  indexes   -1  to  -8  in  steps  of   -2   i.e.  ['Hyd' , None , 'Hyd' , 10.8]\n",
    "print(list[-2 : : -2])  # [10.8, True, 3+4j, 25]\n",
    "print(list[1 : 4])  # [10.8 , 3 + 4j , 'Hyd' ]\n",
    "print(list[-4 : -1])    #[True , None , 10.8]\n",
    "print(list[3 : -3]) # ['Hyd' , True]\n",
    "print(list[2 : -5]) # [3 + 4j , 'Hyd' ]\n",
    "print(list[-1:-5])  # []"
   ]
  },
  {
   "cell_type": "code",
   "execution_count": null,
   "id": "d2e89df3",
   "metadata": {},
   "outputs": [
    {
     "name": "stdout",
     "output_type": "stream",
     "text": [
      "x :  Hyd\n",
      "y :  True\n",
      "(3+4j)\n",
      "Hyd\n",
      "True\n",
      "None\n",
      "10.8\n"
     ]
    }
   ],
   "source": [
    "#  Find  outputs  (Home  work)\n",
    "#        0    1      2      3       4      5     6        7\n",
    "list = [25 , 10.8 , 3+4j , 'Hyd' , True , None , 10.8 , 'Hyd']\n",
    "x ,  y = list[3 : 5]\n",
    "print('x : ' , x) # x: Hyd\n",
    "print('y : ' , y)\t# y:  True \n",
    "for  x  in  list[2:7]:\n",
    "\tprint(x)\t#3+4j  Hyd  True  None  10.8 "
   ]
  },
  {
   "cell_type": "code",
   "execution_count": null,
   "id": "0f47011f",
   "metadata": {},
   "outputs": [
    {
     "name": "stdout",
     "output_type": "stream",
     "text": [
      "[10, 20, 30, 40, 50] 2036889334272\n",
      "[10, 60, 70, 50] 2036889334272\n",
      "[10, 60, 100, 200, 300] 2036889334272\n"
     ]
    }
   ],
   "source": [
    "#  Find  outputs  (Home  work)\n",
    "#     0   1    2    3     4\n",
    "a = [10 , 20 , 30 , 40 , 50]\n",
    "print(a , id(a))    # [10 , 20 , 30 , 40 , 50] 23456787654\n",
    "a[1 : 4] = [60 , 70]   \n",
    "print(a , id(a))     # [10, 60, 70, 50]  same address\n",
    "a[2: 4] = [100 , 200 ,  300]\n",
    "print(a , id(a))    #[10, 60, 100, 200, 300] same address"
   ]
  },
  {
   "cell_type": "code",
   "execution_count": null,
   "id": "a88962f5",
   "metadata": {},
   "outputs": [
    {
     "name": "stdout",
     "output_type": "stream",
     "text": [
      "[]\n"
     ]
    }
   ],
   "source": [
    "#  Find  outputs  (Home  work)\n",
    "a =  [25]\n",
    "print(a[1]) # error\n",
    "print(a[1:])    #[]"
   ]
  },
  {
   "cell_type": "code",
   "execution_count": null,
   "id": "15594074",
   "metadata": {},
   "outputs": [
    {
     "name": "stdout",
     "output_type": "stream",
     "text": [
      "<class 'int'>\n",
      "<class 'tuple'>\n",
      "<class 'int'>\n",
      "<class 'tuple'>\n",
      "100\n",
      "(25, 25, 25, 25)\n",
      "100\n",
      "(25, 25, 25, 25)\n"
     ]
    }
   ],
   "source": [
    "# Find  outputs  (Home  work)\n",
    "a = (25)\n",
    "b = 25,\n",
    "c = 25\n",
    "d = (25,)\n",
    "print(type(a))  # <class 'int'>\n",
    "print(type(b))  # <class 'tuple'>\n",
    "print(type(c))  # <class 'int'>\n",
    "print(type(d))  # <class 'tuple'>\n",
    "print(a * 4)    # 100\n",
    "print(b * 4)    # (25,25,25,25)\n",
    "print(c * 4)    # 100\n",
    "print(d * 4)    # (25,25,25,25)"
   ]
  },
  {
   "cell_type": "code",
   "execution_count": null,
   "id": "e6ffb5e9",
   "metadata": {},
   "outputs": [
    {
     "name": "stdout",
     "output_type": "stream",
     "text": [
      "('H', 'y', 'd')\n",
      "<class 'tuple'>\n",
      "3\n",
      "(10, 20, 15, 18)\n",
      "(0, 1, 2, 3, 4)\n"
     ]
    },
    {
     "data": {
      "text/plain": [
       "'\\ntuple()  function\\n-------------------\\n1) What  does  tuple(sequence)  do ?  --->  Converts  sequence  to  tuple\\n\\n2) Is  tuple(non-sequence)  valid ?  ---> No  becoz  argument  should  be  sequence  only\\n\\n3) What  does  tuple(No-args)  do ?  ---> Returns  an  empty  tuple\\n'"
      ]
     },
     "execution_count": 14,
     "metadata": {},
     "output_type": "execute_result"
    }
   ],
   "source": [
    "# tuple()  function  demo  program  (Home  work)\n",
    "a = tuple('Hyd')\n",
    "print(a)    # ('H','y','d')\n",
    "print(type(a))  # <class 'tuple'>\n",
    "print(len(a))   # 3\n",
    "b = [10 , 20 , 15 , 18]\n",
    "print(tuple(b)) # (10 , 20 , 15 , 18)\n",
    "print(tuple(range(5)))  # (0,1,2,3,4)\n",
    "print(tuple(25))    # Error\n",
    "\n",
    "\n",
    "\n",
    "'''\n",
    "tuple()  function\n",
    "-------------------\n",
    "1) What  does  tuple(sequence)  do ?  --->  Converts  sequence  to  tuple\n",
    "\n",
    "2) Is  tuple(non-sequence)  valid ?  ---> No  becoz  argument  should  be  sequence  only\n",
    "\n",
    "3) What  does  tuple(No-args)  do ?  ---> Returns  an  empty  tuple\n",
    "'''"
   ]
  },
  {
   "cell_type": "code",
   "execution_count": null,
   "id": "061a3352",
   "metadata": {},
   "outputs": [
    {
     "name": "stdout",
     "output_type": "stream",
     "text": [
      "<class 'tuple'>\n",
      "()\n",
      "0\n",
      "()\n",
      "0\n"
     ]
    }
   ],
   "source": [
    "# Find  outputs (Home  work)\n",
    "a = ()\n",
    "print(type(a))  # <class 'tuple'>\n",
    "print(a)    # ()\n",
    "print(len(a))   # 0\n",
    "b = tuple()\n",
    "print(b)    # ()\n",
    "print(len(b))   # 0"
   ]
  },
  {
   "cell_type": "code",
   "execution_count": 15,
   "id": "96a60bec",
   "metadata": {},
   "outputs": [
    {
     "name": "stdout",
     "output_type": "stream",
     "text": [
      "(10, 20, 30)\n",
      "2036895897344\n",
      "(10, 20, 30, 10, 20, 30)\n",
      "2036896751168\n"
     ]
    }
   ],
   "source": [
    "# Tricky program\n",
    "# Find  outputs (Home  work)\n",
    "a = (10 , 20 , 30)\n",
    "print(a)    # (10 , 20 , 30)\n",
    "print(id(a))    # 4321234567\n",
    "a = a * 2\n",
    "print(a)    # (10 , 20 , 30, 10 , 20 , 30)\n",
    "print(id(a))    # 1234567876"
   ]
  },
  {
   "cell_type": "code",
   "execution_count": null,
   "id": "cf07a403",
   "metadata": {},
   "outputs": [
    {
     "name": "stdout",
     "output_type": "stream",
     "text": [
      "{None, True, 25, 10.8, 'Hyd', (3+4j)}\n",
      "<class 'set'>\n",
      "6\n"
     ]
    }
   ],
   "source": [
    "#  set  object  demo  program  (Home  work)\n",
    "a = {25 , 10.8 , 'Hyd' , True , 3+4j , None , 25 , 'Hyd'}\n",
    "print(a)    # { 10.8 , True , 3+4j , None , 25 , 'Hyd'}\n",
    "print(type(a))  # <class 'set'>\n",
    "print(len(a))   # 6\n",
    "print(a[2]) # Error\n",
    "print(a[1 : 4]) # error\n",
    "a[2] = 'Sec'    # error\n",
    "print(a * 2)    # error\n",
    "print(a * a)    # Error"
   ]
  },
  {
   "cell_type": "code",
   "execution_count": null,
   "id": "e724402d",
   "metadata": {},
   "outputs": [
    {
     "name": "stdout",
     "output_type": "stream",
     "text": [
      "{False, 1, 'Hyd', ''}\n",
      "4\n",
      "<class 'set'>\n"
     ]
    }
   ],
   "source": [
    "# Tricky  program\n",
    "# Find  outputs (Home  work)\n",
    "a = {1 , 'Hyd' , False , True , 0.0 , '' , 1.0 ,  0}\n",
    "print(a)    # {False, 1, 'Hyd', ''}\n",
    "print(len(a))   # 4\n",
    "print(type(a))  # <class 'set'>"
   ]
  },
  {
   "cell_type": "code",
   "execution_count": null,
   "id": "9e3b20a4",
   "metadata": {},
   "outputs": [
    {
     "name": "stdout",
     "output_type": "stream",
     "text": [
      "{'m', ' ', 'R', 'r', 'a', 'A', 'o'}\n",
      "7\n",
      "{10, 20, 15}\n",
      "{25, 10.8, 'Hyd'}\n"
     ]
    },
    {
     "data": {
      "text/plain": [
       "'\\nset()  function\\n-----------------\\n1) What  does  set(sequence)  do ?  --->  Converts  sequence  to  set\\n\\n2) Is  set(non-sequence)  valid ?  ---> No  becoz  argument  should  be  sequence  only\\n\\n3) What  does  set(No-args)  do ?  ---> Returns  an  empty  set\\n'"
      ]
     },
     "execution_count": 16,
     "metadata": {},
     "output_type": "execute_result"
    }
   ],
   "source": [
    "#  set()  function demo  program\n",
    "a = set('Rama rAo')\n",
    "print(a)    # {'A', 'a', 'R', 'r', 'o', ' ', 'm'}\n",
    "print(len(a))   # 7\n",
    "print(set([10 , 20 , 15 , 20])) # {10,20,15}\n",
    "print(set((25 , 10.8 , 'Hyd' , 10.8)))  # (25 , 10.8 , 'Hyd')\n",
    "print(set(range(10 , 20 , 3)))  # Error\n",
    "print(set(25))  # Error\n",
    "print(set([25 , 10.8 , [] , 'Hyd']))    # error\n",
    "\n",
    "\n",
    "'''\n",
    "set()  function\n",
    "-----------------\n",
    "1) What  does  set(sequence)  do ?  --->  Converts  sequence  to  set\n",
    "\n",
    "2) Is  set(non-sequence)  valid ?  ---> No  becoz  argument  should  be  sequence  only\n",
    "\n",
    "3) What  does  set(No-args)  do ?  ---> Returns  an  empty  set\n",
    "'''"
   ]
  },
  {
   "cell_type": "code",
   "execution_count": null,
   "id": "ff091b2f",
   "metadata": {},
   "outputs": [
    {
     "name": "stdout",
     "output_type": "stream",
     "text": [
      "<class 'list'>\n",
      "<class 'tuple'>\n",
      "<class 'dict'>\n",
      "<class 'set'>\n",
      "[]\n",
      "()\n",
      "{}\n",
      "set()\n"
     ]
    }
   ],
   "source": [
    "# Find  outputs  (Home  work)\n",
    "a =   [ ]\n",
    "b =   ( )\n",
    "c =   {}\n",
    "d =   set()\n",
    "print(type(a))  # <class 'list'>\n",
    "print(type(b))  # <class 'tuple'>\n",
    "print(type(c))  # <class 'dict'>\n",
    "print(type(d))  #<class 'set'>\n",
    "print(a)    #[]\n",
    "print(b)    #()\n",
    "print(c)    #{}\n",
    "print(d)    #set()"
   ]
  },
  {
   "cell_type": "code",
   "execution_count": null,
   "id": "e906ae9f",
   "metadata": {},
   "outputs": [
    {
     "name": "stdout",
     "output_type": "stream",
     "text": [
      "{None, True, 10.8, 'Hyd', 25}\n",
      "5\n",
      "{None, True, 10.8, 'Hyd'}\n",
      "{None, True, 10.8, 'Hyd'}\n"
     ]
    }
   ],
   "source": [
    "# Tricky  program\n",
    "# add()  and  remove()  methods  (Home  work)\n",
    "a = set()\n",
    "a . add(25)\n",
    "a . add(10.8)\n",
    "a . add('Hyd')\n",
    "a . add(True)\n",
    "a . add(None)\n",
    "a . add('Hyd')\n",
    "a . add(1)\n",
    "print(a)    # (25, 'Hyd', 10.8, True, None)\n",
    "print(len(a))   # 5\n",
    "a . remove(25)\n",
    "print(a)    # {None, 'Hyd', 10.8, True}\n",
    "a . append(100) # Error\n",
    "a . add(set())  # Error\n",
    "a . add(())    # Error\n",
    "a . add([])    # Error\n",
    "print(a)    # {None, 'Hyd', 10.8, True}\n",
    "a . add({})    # Error"
   ]
  },
  {
   "cell_type": "code",
   "execution_count": null,
   "id": "49daf35f",
   "metadata": {},
   "outputs": [],
   "source": [
    "# How  to  print  set  in  two  differnet ways  (Home  work)\n",
    "a = {25 , True , 'Hyd' , 10.8}\n",
    "print('set  with  print  function') # 'set  with  print  function'\n",
    "print(How  to  print  set)  # Print(a)\n",
    "print('Iterate  thru  set  with  for  loop')    # 'Iterate  thru  set  with  for  loop'\n",
    "How  to  iterate  thru  set  with  for  loop    # for i in a:\n",
    "                                                    #print(a)"
   ]
  },
  {
   "cell_type": "markdown",
   "id": "652cf91d",
   "metadata": {},
   "source": [
    "19/07/2025"
   ]
  },
  {
   "cell_type": "code",
   "execution_count": null,
   "id": "accc1003",
   "metadata": {},
   "outputs": [
    {
     "name": "stdout",
     "output_type": "stream",
     "text": [
      "{10: 'Ramesh', 20: 'Kiran', 15: 'Amar', 18: 'Sita'}\n",
      "<class 'dict'>\n",
      "Ramesh\n",
      "Kiran\n",
      "Kiran\n",
      "Sita\n",
      "{10: 'Ramesh', 15: 'Krishna', 18: 'Sita', 25: 'Vamsi'}\n",
      "4\n"
     ]
    }
   ],
   "source": [
    "# Find  outputs  (Home  work)\n",
    "a = {10 : 'Ramesh' , 20 : 'Kiran' , 15 : 'Amar' , 18 : 'Sita'}\n",
    "print(a)    # {10 : 'Ramesh' , 20 : 'Kiran' , 15 : 'Amar' , 18 : 'Sita'}\n",
    "print(type(a)) # <class 'dict'>\n",
    "print(a[10])   #(How  to  obtain  value  key  10) \n",
    "print(a[20])   #(How  to  obtain  value  key  20)\n",
    "print(a[20])   #(How  to  obtain  value  key  15)\n",
    "print(a[18])   #(How  to  obtain  value  key  18)\n",
    "print(a[19])    # Error\n",
    "print(a[0]) # Error\n",
    "print(a['Amar'])    # Error\n",
    "a[15]='Krishna'    #How  to  modify  value  of   key  15  to  'Krishna'\n",
    "del a[20]   #How  to  remove  20 :  'Kiran'  from  dict  'a'\n",
    "a[25]='Vamsi'   # How  to  append  25 : 'Vamsi'  to  dict  'a'\n",
    "print(a)    #{10 : 'Ramesh' , 15 : 'Krishna' , 18 : 'Sita', 25:'Vamsi'}\n",
    "print(len(a))   # 4\n",
    "print(a * 2)    # Error"
   ]
  },
  {
   "cell_type": "code",
   "execution_count": null,
   "id": "10a9e01c",
   "metadata": {},
   "outputs": [
    {
     "name": "stdout",
     "output_type": "stream",
     "text": [
      "{10: 'Sec'}\n",
      "1\n",
      "{'R': 'Red', 'G': 'Gray', 'B': 'Black', 'Y': 'Yellow'}\n",
      "4\n"
     ]
    }
   ],
   "source": [
    "# Find  outputs  (Home  work)\n",
    "a = {10 : 'Hyd' , 10 : 'Sec'}\n",
    "print(a)    #{10 : 'Sec'}\n",
    "print(len(a))   #1\n",
    "b = {'R' : 'Red' , 'G' : 'Green' , 'B' : 'Blue' , 'Y' : 'Yellow' , 'G' : 'Gray' , 'B' : 'Black'}\n",
    "print(b)    # {'R' : 'Red', 'G' : 'Gray' , 'B' : 'Black','Y' : 'Yellow' }\n",
    "print(len(b)) # 4"
   ]
  },
  {
   "cell_type": "code",
   "execution_count": null,
   "id": "c45077dc",
   "metadata": {},
   "outputs": [
    {
     "name": "stdout",
     "output_type": "stream",
     "text": [
      "{True: 'May  be'}\n",
      "1\n"
     ]
    }
   ],
   "source": [
    "#  Tricky  program\n",
    "# Find output  (Home  work)\n",
    "a = {True : 'Yes' , 1 : 'No' , 1.0 : 'May  be'}\n",
    "print(a)    # {True: 'may be}\n",
    "print(len(a))   #1"
   ]
  },
  {
   "cell_type": "code",
   "execution_count": null,
   "id": "ddf80b2e",
   "metadata": {},
   "outputs": [
    {
     "name": "stdout",
     "output_type": "stream",
     "text": [
      "{'Ramesh': [9948250500, 9848565090, 9440250404]}\n",
      "1\n"
     ]
    }
   ],
   "source": [
    "# Find  outputs\n",
    "a = { [ ] : 25} # error\n",
    "b = { ( ) : 25}\n",
    "print(b)    # error\n",
    "c = { { } : 25} # error\n",
    "d = {'Ramesh' : [9948250500, 9848565090, 9440250404]}\n",
    "print(d)    #{'Ramesh' : [9948250500, 9848565090, 9440250404]}\n",
    "print(len(d))   # 1\n",
    "e = {set() : 10.8}  # error"
   ]
  },
  {
   "cell_type": "code",
   "execution_count": null,
   "id": "67448916",
   "metadata": {},
   "outputs": [
    {
     "name": "stdout",
     "output_type": "stream",
     "text": [
      "<class 'dict'>\n",
      "0\n",
      "{}\n",
      "<class 'dict'>\n",
      "0\n",
      "{}\n"
     ]
    }
   ],
   "source": [
    "# Find  outputs\n",
    "a = {}\n",
    "print(type(a))  # <class 'dict'>\n",
    "print(len(a))   # 0\n",
    "print(a)    #{}\n",
    "b = dict()  \n",
    "print(type(b))   # <class 'dict'>\n",
    "print(len(b))   #0\n",
    "print(b)    # {}"
   ]
  },
  {
   "cell_type": "markdown",
   "id": "501becde",
   "metadata": {},
   "source": [
    "21/7/25"
   ]
  },
  {
   "cell_type": "code",
   "execution_count": 3,
   "id": "f6482822",
   "metadata": {},
   "outputs": [
    {
     "name": "stdout",
     "output_type": "stream",
     "text": [
      "Dictionary  with  print  function\n",
      "{10: 'Ramesh', 20: 'Kiran', 15: 'Amar', 18: 'Sita'}\n",
      "Keys  of  dictionary\n",
      "dict_keys([10, 20, 15, 18])\n",
      "Values  of  dictionary\n",
      "dict_values(['Ramesh', 'Kiran', 'Amar', 'Sita'])\n",
      "All  the  tuples  of  dict_items   object\n",
      "dict_items([(10, 'Ramesh'), (20, 'Kiran'), (15, 'Amar'), (18, 'Sita')])\n",
      "Elements  of  each   tuple\n",
      "dict_items([(10, 'Ramesh'), (20, 'Kiran'), (15, 'Amar'), (18, 'Sita')])\n",
      "Keys  and  values  of  dictionary\n",
      "{10: 'Ramesh', 20: 'Kiran', 15: 'Amar', 18: 'Sita'}\n"
     ]
    }
   ],
   "source": [
    "# How  to  print  dictionary  in  different  ways\n",
    "a  =  {10 : 'Ramesh' ,  20 : 'Kiran' , 15 : 'Amar' , 18 : 'Sita'}\n",
    "print('Dictionary  with  print  function')\n",
    "print(a)    #How  to  print  dictionary  with  print()  function\n",
    "print('Keys  of  dictionary')\n",
    "print(a.keys())    #How  to  print  each  key  of  dict  'a'\n",
    "print('Values  of  dictionary')\n",
    "print(a.values())    #How  to  print  each  value  of  dict  'a'\n",
    "print('All  the  tuples  of  dict_items   object')\n",
    "print(a.items()) #(How  to  print  each  tuple  of  the  list  in  dict_items  object\n",
    "print('Elements  of  each   tuple')\n",
    "print(a.items())    #How  to  print  elements  of  each  tuple  in  the  list  of  dict_items  object\n",
    "print('Keys  and  values  of  dictionary')\n",
    "print(a)    #How  to  print  each  key  and  corresponding  value  in  dict  'a'"
   ]
  },
  {
   "cell_type": "code",
   "execution_count": null,
   "id": "8c205982",
   "metadata": {},
   "outputs": [
    {
     "name": "stdout",
     "output_type": "stream",
     "text": [
      "Hyd\n",
      "Sec\n",
      "Cyb\n",
      "<class 'set'>\n",
      "{None}\n",
      "1\n"
     ]
    }
   ],
   "source": [
    "#  Find  outputs (Home  work)\n",
    "a = {\n",
    "\t\tprint('Hyd') ,\n",
    "\t\tprint('Sec') ,\n",
    "\t\tprint('Cyb')\n",
    "\t}\n",
    "print(type(a))\t# <class set>\n",
    "print(a)\t# {None}\n",
    "print(len(a))\t#1\n"
   ]
  },
  {
   "cell_type": "code",
   "execution_count": null,
   "id": "fde5d9d7",
   "metadata": {},
   "outputs": [
    {
     "name": "stdout",
     "output_type": "stream",
     "text": [
      "25\n",
      "<class 'int'>\n",
      "10\n",
      "20\n",
      "30\n",
      "0 Hello\n",
      "1 Hello\n",
      "2 Hello\n",
      "3 Hello\n",
      "4 Hello\n"
     ]
    },
    {
     "data": {
      "text/plain": [
       "'\\n1) What  is   _   called ?   --->  Anonymous  object  (or) Nameless  object\\n\\n2) How  many  nameless  objects  can  be  a  program ?  --->  Just  one  (or)  zero\\n\\n3) What  happens  when  another  nameless  object  is  created ?  --->  Existing  nameless  object  gets  deleted\\n\\n4) Can  there  be  multiple  nameless  objects  in  a  program ?  --->  No\\n\\n5) _ = 10\\n    _ = 20\\n   What  happens  when  _ = 20  is  executed ?  --->  A  new  nameless  object  is  created  with  value  20  and\\n\\t\\t\\t\\t\\t\\t\\t\\t\\t\\t\\t\\t\\t\\t\\t\\t\\t\\t\\t\\t  old  nameless  object  with  10  is  lost\\n'"
      ]
     },
     "execution_count": 5,
     "metadata": {},
     "output_type": "execute_result"
    }
   ],
   "source": [
    "#  Anonymous  object  demo  program\n",
    "_ = 25\n",
    "print(_)    # 25\n",
    "print(type(_))  #<class int>\n",
    "a , _ , c = 10 , 20 , 30\n",
    "print(a)    # 10\n",
    "print(_)    # 20\n",
    "print(c)    # 30\n",
    "for  _  in  range(5):\n",
    "\tprint(_ , 'Hello')  # 0 Hello 1 Hello 2 Hello 3 Hello 4 Hello\n",
    "\n",
    "\n",
    "'''\n",
    "1) What  is   _   called ?   --->  Anonymous  object  (or) Nameless  object\n",
    "\n",
    "2) How  many  nameless  objects  can  be  a  program ?  --->  Just  one  (or)  zero\n",
    "\n",
    "3) What  happens  when  another  nameless  object  is  created ?  --->  Existing  nameless  object  gets  deleted\n",
    "\n",
    "4) Can  there  be  multiple  nameless  objects  in  a  program ?  --->  No\n",
    "\n",
    "5) _ = 10\n",
    "    _ = 20\n",
    "   What  happens  when  _ = 20  is  executed ?  --->  A  new  nameless  object  is  created  with  value  20  and\n",
    "\t\t\t\t\t\t\t\t\t\t\t\t\t\t\t\t\t\t\t\t  old  nameless  object  with  10  is  lost\n",
    "'''\n"
   ]
  },
  {
   "cell_type": "code",
   "execution_count": null,
   "id": "08f9e45f",
   "metadata": {},
   "outputs": [
    {
     "name": "stdout",
     "output_type": "stream",
     "text": [
      "140720153578680\n",
      "140720153579000\n"
     ]
    }
   ],
   "source": [
    "#  Find  outputs\n",
    "a = 25\n",
    "print(id(a))    # some 1000\n",
    "a = 35\n",
    "print(id(a))    # some 2000\n"
   ]
  },
  {
   "cell_type": "code",
   "execution_count": null,
   "id": "ae169aad",
   "metadata": {},
   "outputs": [
    {
     "name": "stdout",
     "output_type": "stream",
     "text": [
      "1956669700016\n",
      "25.7\n",
      "1956700068208\n",
      "35.6\n",
      "140720152582160\n",
      "140720152582192\n",
      "140720152582224\n",
      "140720152582224\n"
     ]
    }
   ],
   "source": [
    "# Find  outputs (Home  work)\n",
    "a = 25.7\n",
    "print(id(a))    #may be 1000(diff)\n",
    "print(a)    # 25.7\n",
    "a = 35.6\n",
    "print(id(a))    #may be2000(diff)\n",
    "print(a)    # 35.6\n",
    "b = True\n",
    "print(id(b))    # may be 100076(diff)\n",
    "b = False\n",
    "print(id(b))    # may be 200045(diff)\n",
    "c = None\n",
    "print(id(c))    # may be 20088(diff)\n",
    "c = None\n",
    "print(id(c))    # same address"
   ]
  },
  {
   "cell_type": "code",
   "execution_count": null,
   "id": "9fd63ad4",
   "metadata": {},
   "outputs": [
    {
     "name": "stdout",
     "output_type": "stream",
     "text": [
      "1956695768592\n",
      "1956695583712\n",
      "1956700354928\n",
      "1956701247008\n",
      "1956695496176\n",
      "1956695767248\n"
     ]
    }
   ],
   "source": [
    "#  Find  outputs  (Home  work)\n",
    "a = 'Hyd'\n",
    "print(id(a))    # may be 1200\n",
    "#a[1] = 'e'  # Error\n",
    "a = 'Sec'   \n",
    "print(id(a))    # diff address 23456\n",
    "b = (10 , 20 , 15 , 18)\n",
    "print(id(b))        # 234567 diff address\n",
    "#b[2] = 19   #error\n",
    "b = (30 , 40 , 35 , 32)\n",
    "print(id(b))    # diff address\n",
    "c = range(5)\n",
    "print(id(c))    # diff adress 2345698\n",
    "#c[3] = 10   # error\n",
    "c = range(5)\n",
    "print(id(c))    # diff address"
   ]
  },
  {
   "cell_type": "code",
   "execution_count": null,
   "id": "4c04ce79",
   "metadata": {},
   "outputs": [
    {
     "name": "stdout",
     "output_type": "stream",
     "text": [
      "True\n",
      "True\n",
      "True\n",
      "False\n"
     ]
    }
   ],
   "source": [
    "# Find  outputs  (Home  work)\n",
    "a = 25\n",
    "b = 25\n",
    "print(a  is  b) # True\n",
    "c = 'Hyd'\n",
    "d = 'Hyd'\n",
    "print(c  is  d) # True\n",
    "e = False\n",
    "f = False\n",
    "print(e  is  f) # True\n",
    "g = range(10)\n",
    "h = range(10)\n",
    "print(g  is  h) # False"
   ]
  },
  {
   "cell_type": "code",
   "execution_count": null,
   "id": "97bdb4cd",
   "metadata": {},
   "outputs": [
    {
     "name": "stdout",
     "output_type": "stream",
     "text": [
      "False\n",
      "False\n",
      "False\n",
      "False\n"
     ]
    }
   ],
   "source": [
    "#Find  outputs(Home  work)\n",
    "a = [10 , 20 , 15 , 18]\n",
    "b = [10 , 20 , 15 , 18]\n",
    "print(a  is  b) # False\n",
    "c =  {10 : 20, 30 : 40}\n",
    "d =  {10 : 20, 30 : 40}\n",
    "print(c  is  d) # False\n",
    "e = (10 , 20 , 15 , 18)\n",
    "f = (10 , 20 , 15 , 18)\n",
    "print(e  is  f) # False\n",
    "g = {10 , 20 , 15 , 18}\n",
    "h = {10 , 20 , 15 , 18}\n",
    "print(g  is  h) # False"
   ]
  },
  {
   "cell_type": "code",
   "execution_count": null,
   "id": "f45a624f",
   "metadata": {},
   "outputs": [
    {
     "name": "stdout",
     "output_type": "stream",
     "text": [
      "30\n",
      "31.400000000000002\n",
      "(8+10j)\n",
      "1\n",
      "Hyderabad\n",
      "SankarDayalSarma\n",
      "1020\n",
      "[10, 20, 30, 1, 2, 3]\n",
      "(25, 10.8, 'Hyd', (3+4j), True, None)\n"
     ]
    }
   ],
   "source": [
    "# Find outputs (Home work)\n",
    "print(10 + 20)  # 30\n",
    "print(10.8 + 20.6)  # 31.4\n",
    "print(3 + 4j + 5 + 6j)  # 8+10j\n",
    "print(True + False) # 1\n",
    "print('Hyder' + 'abad') # Hyderabad\n",
    "print('Sankar' + 'Dayal' + 'Sarma') # Sankar Dayal Sarma\n",
    "print('10' + '20')  #1020\n",
    "print([10 , 20 , 30] + [1 , 2 , 3]) # [10,20,30,1,2,3]\n",
    "print((25 , 10.8 , 'Hyd') + (3 + 4j , True , None)) #(25 , 10.8 , 'Hyd', 3 + 4j , True , None)\n",
    "print({10 , 20} + {30 , 40})    # Error second ope must be int\n",
    "print({10 : 'Hyd'} + {20 : 'Sec'})  # Error\n",
    "print(range(4) + range(5))  # error\n",
    "print(10 + '20')    # Error\n",
    "print([10 , 20 , 30] + 5)   # Error\n",
    "print([10 , 20 , 30] + (40 , 50 , 60))  # Error"
   ]
  },
  {
   "cell_type": "code",
   "execution_count": null,
   "id": "db2eb4bb",
   "metadata": {},
   "outputs": [
    {
     "name": "stdout",
     "output_type": "stream",
     "text": [
      "75\n",
      "276.48\n",
      "0\n",
      "(-9+38j)\n",
      "(3+26j)\n",
      "252525\n",
      "252525\n",
      "HydHydHydHyd\n",
      "[10, 20, 15, 10, 20, 15]\n",
      "(25, 10.8, 'Hyd', True, 25, 10.8, 'Hyd', True, 25, 10.8, 'Hyd', True)\n"
     ]
    }
   ],
   "source": [
    "# Find outputs (Home work)\n",
    "print(25 * 3)   # 75\n",
    "print(10.8 * 25.6)  # 276.48\n",
    "print(True * False) # 0\n",
    "print((3 + 4j) * (5 + 6j))  # -9+38j  ((a+bj)(c+dj)=(ac−bd)+(ad+bc)j)\n",
    "print(3 + 4j * 5 + 6j)  #3+326j  ((a+bj)(c+dj)=(ac−bd)+(ad+bc)j)\n",
    "print('25' * 3) # 252525\n",
    "print(3 * '25') # 252525\n",
    "print('Hyd' * 4)    # HydHydHydHyd\n",
    "print([10 , 20 , 15] * 2)   #[10 , 20 , 15,10 , 20 , 15]\n",
    "print((25, 10.8, 'Hyd', True) * 3)  #(25, 10.8, 'Hyd', True,25, 10.8, 'Hyd', True,25, 10.8, 'Hyd', True)\n",
    "print([10 , 20 , 15] * 3.0) # error\n",
    "print({10 , 20 , 15} * 2)   # error\n",
    "print({10 : 20 , 30 : 40} * 2)  # error\n",
    "print([10] * [20])  # error"
   ]
  },
  {
   "cell_type": "code",
   "execution_count": null,
   "id": "995aa0f0",
   "metadata": {},
   "outputs": [
    {
     "name": "stdout",
     "output_type": "stream",
     "text": [
      "4.5\n",
      "4.5\n",
      "4.5\n",
      "4.5\n",
      "5.25\n",
      "3.3333333333333335\n",
      "5.0\n"
     ]
    },
    {
     "data": {
      "text/plain": [
       "'\\nWhat  does  /  operator  do  ?  --->  Peforms  division   and  returns  float  quotient\\n'"
      ]
     },
     "execution_count": 22,
     "metadata": {},
     "output_type": "execute_result"
    }
   ],
   "source": [
    "#  /  operator  demo  program\n",
    "print(9.0 / 2)  # 4.5\n",
    "print(9 / 2.0)  # 4.5\n",
    "print(9.0 / 2.0) # 4.5\n",
    "print(9 / 2)  #  4.5\n",
    "print(10.5 / 2) #5.25\n",
    "print(10 / 3)   # 3.33\n",
    "print(10 / 2)   # 5.0\n",
    "\n",
    "\n",
    "'''\n",
    "What  does  /  operator  do  ?  --->  Peforms  division   and  returns  float  quotient\n",
    "'''"
   ]
  },
  {
   "cell_type": "code",
   "execution_count": null,
   "id": "3b9d2dbe",
   "metadata": {},
   "outputs": [
    {
     "name": "stdout",
     "output_type": "stream",
     "text": [
      "4\n",
      "4.0\n",
      "4.0\n",
      "4.0\n",
      "5.0\n",
      "3\n",
      "3.0\n",
      "2.0\n",
      "4\n",
      "-5\n",
      "-4\n"
     ]
    },
    {
     "data": {
      "text/plain": [
       "'\\n//  operator\\n--------------\\n1) What  does  //  operator do ?  --->  Same  as  /  operator  but  returns  previous  integer  of  /  result\\n\\n2) What  is  the  result  of  integer // integer ?  --->  Integer  quotient\\n    What  is  the  result  of  integer // float ?  ---> Float  quotient  with  .0\\n    What  is  the  result  of  float // integer ?  ---> Float  quotient  with  .0\\n    What  is  the  result  of  float // float ?  ---> Float  quotient  with  .0\\n\\n3) What  is  the  result  of  integer / integer ?  ---> Float  quotient\\n    What  is  the  result  of  integer / float ?  ---> Float  quotient\\n    What  is  the  result  of  float / integer ?  ---> Float  quotient\\n    What  is  the  result  of  float / float ?  ---> Float  quotient\\n\\n4) When  is  the  result  of  //  operator  integer ?  ---> When  both  the  operands  are  integers\\n    When  is  the  result  of   //  operator  float  with  .0 ?  ---> When  at  least  one  operand  is  float\\n'"
      ]
     },
     "execution_count": 23,
     "metadata": {},
     "output_type": "execute_result"
    }
   ],
   "source": [
    "#  //  operator  demo  program\n",
    "print(9 // 2)  #   prev  integer  of (4.5) = 4\n",
    "print(9.0 // 2) # 4.0\n",
    "print(9 // 2.0) # 4.0\n",
    "print(9.0 // 2.0)   # 4.0\n",
    "print(10.5 // 2)    #5.0\n",
    "print(10 // 3)  #3\n",
    "print(10.0 // 3)  #    prev  integer  of  3.33 = 3.0\n",
    "print(8.5 // 3) #2.0\n",
    "print(18 // 4)  # 4\n",
    "print(-18 // 4) # -5\n",
    "print(-(18 // 4))   # -4\n",
    "\n",
    "\n",
    "\n",
    "'''\n",
    "//  operator\n",
    "--------------\n",
    "1) What  does  //  operator do ?  --->  Same  as  /  operator  but  returns  previous  integer  of  /  result\n",
    "\n",
    "2) What  is  the  result  of  integer // integer ?  --->  Integer  quotient\n",
    "    What  is  the  result  of  integer // float ?  ---> Float  quotient  with  .0\n",
    "    What  is  the  result  of  float // integer ?  ---> Float  quotient  with  .0\n",
    "    What  is  the  result  of  float // float ?  ---> Float  quotient  with  .0\n",
    "\n",
    "3) What  is  the  result  of  integer / integer ?  ---> Float  quotient\n",
    "    What  is  the  result  of  integer / float ?  ---> Float  quotient\n",
    "    What  is  the  result  of  float / integer ?  ---> Float  quotient\n",
    "    What  is  the  result  of  float / float ?  ---> Float  quotient\n",
    "\n",
    "4) When  is  the  result  of  //  operator  integer ?  ---> When  both  the  operands  are  integers\n",
    "    When  is  the  result  of   //  operator  float  with  .0 ?  ---> When  at  least  one  operand  is  float\n",
    "'''"
   ]
  },
  {
   "cell_type": "code",
   "execution_count": null,
   "id": "64517c90",
   "metadata": {},
   "outputs": [
    {
     "name": "stdout",
     "output_type": "stream",
     "text": [
      "4\n",
      "4.0\n",
      "4.0\n",
      "4.0\n",
      "0.5\n",
      "2.9000000000000004\n"
     ]
    },
    {
     "data": {
      "text/plain": [
       "'\\n%   operator\\n---------------\\n1) What  does  %  operator  do ?  ---> Performs  division  and  returns  remainder\\n\\n2) When  is  the  result  of  %  operator  integer ?  ---> When  both  the  operands  are  integers\\n    When  is  the  result  of  %  operator  float ?  ---> When  at  least  one  operand  is  float\\n'"
      ]
     },
     "execution_count": 24,
     "metadata": {},
     "output_type": "execute_result"
    }
   ],
   "source": [
    "# % operator demo program\n",
    "print(9 % 5)    # 4\n",
    "print(9.0 % 5)  #4.0\n",
    "print(9 % 5.0)  # 4.0\n",
    "print(9.0 % 5.0)    # 4.0\n",
    "print(10.5 % 2)  #   0.5\n",
    "print(8.9 % 3)  # 2.900\n",
    "\n",
    "\n",
    "'''\n",
    "%   operator\n",
    "---------------\n",
    "1) What  does  %  operator  do ?  ---> Performs  division  and  returns  remainder\n",
    "\n",
    "2) When  is  the  result  of  %  operator  integer ?  ---> When  both  the  operands  are  integers\n",
    "    When  is  the  result  of  %  operator  float ?  ---> When  at  least  one  operand  is  float\n",
    "'''"
   ]
  },
  {
   "cell_type": "code",
   "execution_count": null,
   "id": "f627b4da",
   "metadata": {},
   "outputs": [],
   "source": [
    "# Find outputs\n",
    "print(7 / 0)    # error we cant do division by zero\n",
    "print(7 // 0)   #error\n",
    "print(7 % 0)    #error"
   ]
  },
  {
   "cell_type": "code",
   "execution_count": null,
   "id": "5e84a4a1",
   "metadata": {},
   "outputs": [
    {
     "name": "stdout",
     "output_type": "stream",
     "text": [
      "81\n",
      "0.01\n",
      "262144\n",
      "19.0\n"
     ]
    },
    {
     "data": {
      "text/plain": [
       "'\\n**  operator\\n---------------\\n1) What  is  **  operator  called ?  --->  Exponential  operator\\n\\n2) What  is  the  result  of  a ** b ?  ---> a ^ b\\n\\n3) What  is  the  result  of  a ** b  ** c ?   --->  a ^ b ^ c\\n\\n4) What  is  the  associativity  of  **  operator ?  ---> Right  to  left\\n    What  is  the  associativity  of  remaining  arithmetic  operators ?  ---> Left  to  right'"
      ]
     },
     "execution_count": 30,
     "metadata": {},
     "output_type": "execute_result"
    }
   ],
   "source": [
    "# ** operator demo program\n",
    "print(3 ** 4)   # 81\n",
    "print(10 ** -2) # 0.01\n",
    "print(4 ** 3 ** 2)  #  (4 ** 9 ) 262144  \n",
    "print(3 + 4 * 5 - 32 / 2 ** 3)  # 19.0\n",
    "\n",
    "\n",
    "\n",
    "\n",
    "'''\n",
    "**  operator\n",
    "---------------\n",
    "1) What  is  **  operator  called ?  --->  Exponential  operator\n",
    "\n",
    "2) What  is  the  result  of  a ** b ?  ---> a ^ b\n",
    "\n",
    "3) What  is  the  result  of  a ** b  ** c ?   --->  a ^ b ^ c\n",
    "\n",
    "4) What  is  the  associativity  of  **  operator ?  ---> Right  to  left\n",
    "    What  is  the  associativity  of  remaining  arithmetic  operators ?  ---> Left  to  right'''"
   ]
  },
  {
   "cell_type": "code",
   "execution_count": null,
   "id": "d907b97c",
   "metadata": {},
   "outputs": [
    {
     "name": "stdout",
     "output_type": "stream",
     "text": [
      "True\n",
      "True\n",
      "False\n",
      "True\n",
      "True\n",
      "False\n",
      "True\n",
      "False\n",
      "True\n",
      "True\n",
      "False\n",
      "True\n",
      "True\n"
     ]
    },
    {
     "data": {
      "text/plain": [
       "'\\n1) Can  complex  numbers   be  compared ?   ---> Yes  with  ==  and  !=\\n\\n2) When  can  complex  numbers   be  not  compared  ?  ---> Wiith  > , <  , >=  and  <=\\n'"
      ]
     },
     "execution_count": 23,
     "metadata": {},
     "output_type": "execute_result"
    }
   ],
   "source": [
    "#  Relational  operators  demo  program (Home  work)\n",
    "print(9 >= 5)  #   True :  >  is  satisfied\n",
    "print(9 >= 9)   #   True :  =  is  satisfied\n",
    "print(9 >= 12)   #  False :  Both  are  not  satisfied\n",
    "print(6 <= 8)   #True\n",
    "print(6 <= 6)   # TRUE\n",
    "print(6 <= 4)   # False\n",
    "print(9 != 7)   # True\n",
    "print(6 == 8)   # False\n",
    "print(True  >  False)   #True\n",
    "print(3 + 4j == 3 + 4j) # True\n",
    "print(3 + 4j == 5 + 6j) # False\n",
    "print(3 + 4j != 5 + 6j) # True\n",
    "print(10 == 10.0)   # True\n",
    "print(3 + 4j >  3 + 4j) # error\n",
    "\n",
    "\n",
    "'''\n",
    "1) Can  complex  numbers   be  compared ?   ---> Yes  with  ==  and  !=\n",
    "\n",
    "2) When  can  complex  numbers   be  not  compared  ?  ---> Wiith  > , <  , >=  and  <=\n",
    "'''"
   ]
  },
  {
   "cell_type": "code",
   "execution_count": null,
   "id": "6098c96a",
   "metadata": {},
   "outputs": [
    {
     "name": "stdout",
     "output_type": "stream",
     "text": [
      "True\n",
      "True\n",
      "True\n",
      "True\n",
      "True\n",
      "True\n",
      "True\n"
     ]
    },
    {
     "data": {
      "text/plain": [
       "\"\\n1) Can  strings  be  compared  with  > ,  < , == ,  >= , <=  and  != ?  --->  Yes  only  in  python  but  not  in  other  languages\\n\\n2) What  are  compared  internally  when  strings  are  compared ? --->  1st  non-matching  characters\\n\\n3) Are  characters  compared  (or)  their  unicode  values ?  --->  Unicode  values\\n\\n4) How  many  unicode  values  exist ?  ---> 512\\n\\n5) What  is  the  range  of  unicode  values ?  ---> 0  to  511\\n\\n6) What  are  the  unicode  values  of  'A'  to  'Z'  ?  ---> 65  to  90\\n     What  are  the  unicode  values  of  'a'  to   'z'  ?  --->  97  to  122\\n     What  are  the  unicode  values  of   '0'  to  '9' ?  ---> 48  to  57\\n     What  is  the  unicode  value  of   '$' ?  --->  36\\n     What  is  the  unicode  value  of  space ?  ---> 32\\n\\n7) What  is  another  name  of  unicode ?  --->  Extended  Ascii (American  standard  code  for  information  and  interchange)\\n\""
      ]
     },
     "execution_count": 33,
     "metadata": {},
     "output_type": "execute_result"
    }
   ],
   "source": [
    "#  Find  outputs  (Home  work)\n",
    "print('Rama'   >  'Rajesh')  #   True :  'm' > 'j'\n",
    "print('Rama'  <  'Sita') #  True : 'R' < 'S'\n",
    "print('Hyd'  ==  'Hyd')  # True\n",
    "print('Rama'  <=   'Ramana')  # True ''<='n'\n",
    "print('Rama  Rao'  >=  'Rama')     # True    space>=''\n",
    "print('Hyd'  != 'Sec')   # True\n",
    "print('HYD'  <   'hyd')  # True\n",
    "\n",
    "\n",
    "'''\n",
    "1) Can  strings  be  compared  with  > ,  < , == ,  >= , <=  and  != ?  --->  Yes  only  in  python  but  not  in  other  languages\n",
    "\n",
    "2) What  are  compared  internally  when  strings  are  compared ? --->  1st  non-matching  characters\n",
    "\n",
    "3) Are  characters  compared  (or)  their  unicode  values ?  --->  Unicode  values\n",
    "\n",
    "4) How  many  unicode  values  exist ?  ---> 512\n",
    "\n",
    "5) What  is  the  range  of  unicode  values ?  ---> 0  to  511\n",
    "\n",
    "6) What  are  the  unicode  values  of  'A'  to  'Z'  ?  ---> 65  to  90\n",
    "     What  are  the  unicode  values  of  'a'  to   'z'  ?  --->  97  to  122\n",
    "     What  are  the  unicode  values  of   '0'  to  '9' ?  ---> 48  to  57\n",
    "     What  is  the  unicode  value  of   '$' ?  --->  36\n",
    "     What  is  the  unicode  value  of  space ?  ---> 32\n",
    "\n",
    "7) What  is  another  name  of  unicode ?  --->  Extended  Ascii (American  standard  code  for  information  and  interchange)\n",
    "'''"
   ]
  },
  {
   "cell_type": "code",
   "execution_count": null,
   "id": "8eaa4273",
   "metadata": {},
   "outputs": [
    {
     "name": "stdout",
     "output_type": "stream",
     "text": [
      "True\n",
      "False\n",
      "False\n",
      "True\n",
      "False\n",
      "True\n"
     ]
    }
   ],
   "source": [
    "# Chaining  relational  opeartors  (Home work)\n",
    "print(10 < 20 < 30)  #   True\n",
    "print(10 >= 20 < 30)  #   False : 10  is  not  >= 20\n",
    "print(10 < 20 > 30) # False\n",
    "print(1 < 2 < 3 < 4)    # True\n",
    "print(1 < 2 > 3 > 1)    # False\n",
    "print(4 > 3 >= 3 > 2)   # True"
   ]
  },
  {
   "cell_type": "code",
   "execution_count": null,
   "id": "0a9caa3d",
   "metadata": {},
   "outputs": [
    {
     "name": "stdout",
     "output_type": "stream",
     "text": [
      "True\n",
      "True\n",
      "True\n",
      "False\n",
      "10\n",
      "20\n",
      "-25\n",
      "35\n",
      "6j\n",
      "(3+4j)\n",
      "Hyd\n"
     ]
    },
    {
     "data": {
      "text/plain": [
       "'\\nor  operator\\n--------------\\n1) When  is  the  result  of  or  operator  True ?  ---> When  at  least  one  operand  is  True\\n    When  is  the  result  of  or  operator  False ?  ---> When  both  the  operands  are  False\\n\\n2) What  is  the  result  of  op1  or  op2  when  op1  is  False ?  ---> op2\\n    What  is  the  result  of  op1  or  op2  when  op1  is  True ?  ---> op1\\n\\n3) and ,  or  operators  are  quite  opposite\\n'"
      ]
     },
     "execution_count": 35,
     "metadata": {},
     "output_type": "execute_result"
    }
   ],
   "source": [
    "#  or  operator  demo program\n",
    "print(True  or  False) #  True\n",
    "print(False  or  True) #   True\n",
    "print(True  or  True) #  True\n",
    "print(False  or   False)   #  False\n",
    "print(10  or  20)#  10\n",
    "print(0   or  20)  #  20\n",
    "print(-25  or  0)   # -25\n",
    "print(''  or  35)   # 35  bcz empty string\n",
    "print(6j  or  'Hyd')    #6j bcz non int true\n",
    "print(0.0  or  3 + 4j)  # 3+4j bcz 0.0 false\n",
    "print('Hyd'   or   10.8)    # 'Hyd' bcz non empty string\n",
    "\n",
    "\n",
    "'''\n",
    "or  operator\n",
    "--------------\n",
    "1) When  is  the  result  of  or  operator  True ?  ---> When  at  least  one  operand  is  True\n",
    "    When  is  the  result  of  or  operator  False ?  ---> When  both  the  operands  are  False\n",
    "\n",
    "2) What  is  the  result  of  op1  or  op2  when  op1  is  False ?  ---> op2\n",
    "    What  is  the  result  of  op1  or  op2  when  op1  is  True ?  ---> op1\n",
    "\n",
    "3) and ,  or  operators  are  quite  opposite\n",
    "'''"
   ]
  },
  {
   "cell_type": "code",
   "execution_count": null,
   "id": "deaa5df2",
   "metadata": {},
   "outputs": [
    {
     "name": "stdout",
     "output_type": "stream",
     "text": [
      "False\n",
      "True\n",
      "False\n",
      "True\n",
      "False\n",
      "True\n",
      "False\n",
      "True\n"
     ]
    },
    {
     "data": {
      "text/plain": [
       "'\\nnot  operator\\n----------------\\n1) What  does  not  operator  do ?  ---> Complement  operation\\n\\n2) Is  not  a  unary  operator  ?  ---> Yes  due  to  single  operand\\n    What  about  and ,  or ? ---> Binary  operators  due  to  two  operands\\n\\n3) What  is  the  associativity  of  unary  operators ?  --->  Right  to  Left\\n    What  is  the  associativity  of  binary  operators ?  --->  Left  to  Right  except  for  **\\n'"
      ]
     },
     "execution_count": 36,
     "metadata": {},
     "output_type": "execute_result"
    }
   ],
   "source": [
    "# not  operator  demo  program\n",
    "print(not  True) #   False\n",
    "print(not  False) #  True\n",
    "print(not  25)  # False\n",
    "print(not  0)   # True\n",
    "print(not  'Hyd')   # False\n",
    "print(not  '')  # True\n",
    "print(not  -10) # False\n",
    "print(not  not  'Hyd')  # True\n",
    "\n",
    "\n",
    "'''\n",
    "not  operator\n",
    "----------------\n",
    "1) What  does  not  operator  do ?  ---> Complement  operation\n",
    "\n",
    "2) Is  not  a  unary  operator  ?  ---> Yes  due  to  single  operand\n",
    "    What  about  and ,  or ? ---> Binary  operators  due  to  two  operands\n",
    "\n",
    "3) What  is  the  associativity  of  unary  operators ?  --->  Right  to  Left\n",
    "    What  is  the  associativity  of  binary  operators ?  --->  Left  to  Right  except  for  **\n",
    "'''"
   ]
  },
  {
   "cell_type": "code",
   "execution_count": null,
   "id": "1dad3ae4",
   "metadata": {},
   "outputs": [
    {
     "name": "stdout",
     "output_type": "stream",
     "text": [
      "True\n",
      "True\n"
     ]
    }
   ],
   "source": [
    "#  Find   outputs (Home work)\n",
    "i = 10\n",
    "i = not  i > 14\n",
    "print(i)    #True\n",
    "print(not(6 < 4  or  9 >= 5  and  6 != 6))  # True"
   ]
  },
  {
   "cell_type": "markdown",
   "id": "9f1763b6",
   "metadata": {},
   "source": [
    "22/07/2025"
   ]
  },
  {
   "cell_type": "code",
   "execution_count": null,
   "id": "61ee83e4",
   "metadata": {},
   "outputs": [
    {
     "name": "stdout",
     "output_type": "stream",
     "text": [
      "{10, 20, 30}\n",
      "{10: 'Hyd', 20: 'Vja', 30: 'Cyb'}\n"
     ]
    }
   ],
   "source": [
    "#  Find  outputs\n",
    "print({10 , 20}  |  {30 , 20})  # {10,20,30,40}\n",
    "print({10 : 'Hyd' , 20 : 'Sec'} |  {30 : 'Cyb' , 20 : 'Vja'})   # {10 : 'Hyd' ,  20 : 'Vja', 30 : 'Cyb' }\n",
    "print(range(4) | range(5))  # Error\n",
    "print([10 , 20]  |  [30 , 20])  # error"
   ]
  },
  {
   "cell_type": "code",
   "execution_count": null,
   "id": "fd601791",
   "metadata": {},
   "outputs": [
    {
     "name": "stdout",
     "output_type": "stream",
     "text": [
      "25\n",
      "25\n",
      "True\n",
      "34\n"
     ]
    }
   ],
   "source": [
    "#  Assignment  operators  demo  program  (Home  work)\n",
    "a = 25\n",
    "print(a)    # 25\n",
    "b =  a\n",
    "print(b)    # 25\n",
    "print(a  is  b) # True\n",
    "x = 4\n",
    "y = 5\n",
    "z = x + y * 6  \n",
    "print(z)    #34\n",
    "25 = a  # error\n",
    "a + b = x + y   # error"
   ]
  },
  {
   "cell_type": "code",
   "execution_count": null,
   "id": "bf7bf829",
   "metadata": {},
   "outputs": [
    {
     "name": "stdout",
     "output_type": "stream",
     "text": [
      "140718117244088\n",
      "140718117244088\n",
      "140718117244088\n",
      "25 25 25\n"
     ]
    }
   ],
   "source": [
    "# Find outputs (Home work)\n",
    "a = b = c = 25\n",
    "print(id(a))    # may be some 23456\n",
    "print(id(b))    # same address\n",
    "print(id(c))    # same address\n",
    "print(a , b , c)    # 25 25 25"
   ]
  },
  {
   "cell_type": "code",
   "execution_count": 7,
   "id": "558c608b",
   "metadata": {},
   "outputs": [
    {
     "name": "stdout",
     "output_type": "stream",
     "text": [
      "25\n",
      "10.8\n",
      "Hyd\n"
     ]
    }
   ],
   "source": [
    "# Multiple  Assignment (Home work)\n",
    "x , y , z = 25 , 10.8 , 'Hyd'\n",
    "print(x)    # 25\n",
    "print(y)    # 10.8\n",
    "print(z)    # Hyd"
   ]
  },
  {
   "cell_type": "code",
   "execution_count": null,
   "id": "7e0265ef",
   "metadata": {},
   "outputs": [
    {
     "name": "stdout",
     "output_type": "stream",
     "text": [
      "27\n"
     ]
    }
   ],
   "source": [
    "# Find outputs (Home work)\n",
    "a , b , c = 3 , 4 , 5\n",
    "a *= b + c  # a=a*(b+c) 3*9\n",
    "print(a)    #27"
   ]
  },
  {
   "cell_type": "code",
   "execution_count": null,
   "id": "03e448ff",
   "metadata": {},
   "outputs": [
    {
     "name": "stdout",
     "output_type": "stream",
     "text": [
      "9\n"
     ]
    }
   ],
   "source": [
    "# Find outputs (Home work)\n",
    "a = 20\n",
    "a %= 3 + 2 * 4  # a=20%(3+2*4)-->20%11\n",
    "print(a)    # 9"
   ]
  },
  {
   "cell_type": "code",
   "execution_count": 10,
   "id": "e664b2a0",
   "metadata": {},
   "outputs": [
    {
     "name": "stdout",
     "output_type": "stream",
     "text": [
      "81\n"
     ]
    }
   ],
   "source": [
    "# Find outputs (Home work)\n",
    "a = 3\n",
    "a **= 4 # 3**4\n",
    "print(a)    # 81"
   ]
  },
  {
   "cell_type": "code",
   "execution_count": 11,
   "id": "eab29aba",
   "metadata": {},
   "outputs": [
    {
     "name": "stdout",
     "output_type": "stream",
     "text": [
      "True\n",
      "False\n",
      "True\n"
     ]
    }
   ],
   "source": [
    "# Identity operators demo program\n",
    "a = 25\n",
    "b = 25\n",
    "print(a  is  b) # True\n",
    "print(a  is  not  b)    # False\n",
    "print(a == b)   # True"
   ]
  },
  {
   "cell_type": "code",
   "execution_count": 12,
   "id": "27a6f391",
   "metadata": {},
   "outputs": [
    {
     "name": "stdout",
     "output_type": "stream",
     "text": [
      "False\n",
      "True\n",
      "True\n"
     ]
    }
   ],
   "source": [
    "# Find outputs (Home work)\n",
    "a = 25\n",
    "b = 25.0\n",
    "print(a  is  b) # Flase\n",
    "print(a  is  not  b)    # True\n",
    "print(a == b)   # True"
   ]
  },
  {
   "cell_type": "code",
   "execution_count": null,
   "id": "901da0fd",
   "metadata": {},
   "outputs": [
    {
     "name": "stdout",
     "output_type": "stream",
     "text": [
      "True\n",
      "False\n",
      "True\n",
      "\n",
      "False\n",
      "True\n",
      "True\n",
      "\n",
      "False\n",
      "True\n",
      "True\n",
      "False\n"
     ]
    }
   ],
   "source": [
    "# Find outputs (Home work)\n",
    "a = 'Hyd'\n",
    "b = 'Hyd'\n",
    "print(a  is  b) # True\n",
    "print(a  is  not  b)    # False\n",
    "print(a == b)   # True\n",
    "print() # <space>\n",
    "x = [1 , 2 , 3 , 4]\n",
    "y = [1 , 2 , 3 , 4]\n",
    "print(x is y)   # False\n",
    "print(x  is  not  y)    # True\n",
    "print(x == y)   # True\n",
    "print()     # <space>\n",
    "m = (1 , 2 , 3 , 4)\n",
    "n = (1 , 2 , 3 , 4)\n",
    "print(m  is  n) # False\n",
    "print(m  is  not  n)    # True\n",
    "print(m == n)   # True\n",
    "print(x == m)   # False"
   ]
  },
  {
   "cell_type": "code",
   "execution_count": null,
   "id": "4f772876",
   "metadata": {},
   "outputs": [
    {
     "name": "stdout",
     "output_type": "stream",
     "text": [
      "True\n",
      "False\n",
      "True\n",
      "False\n",
      "True\n",
      "False\n",
      "True\n",
      "False\n",
      "True\n",
      "True\n",
      "True\n",
      "True\n",
      "False\n"
     ]
    }
   ],
   "source": [
    "# Membership operators demo program (Home work)\n",
    "list = [10 , 20 , 15 , 12 , 18]\n",
    "print(15 in list)   # True\n",
    "print(19 in list)   # False\n",
    "print(14 not in list)   # True\n",
    "print(15 not in list)   # False\n",
    "s = 'Hyd is green city'\n",
    "print( 'is' in s)   # True\n",
    "print('was' in s)   # False\n",
    "print('g' in s) # True\n",
    "print('z' in s) # False\n",
    "print(' ' in s) # True\n",
    "print('gre' in s)   # True\n",
    "print('yd i' in s)  # True\n",
    "print('' in s)  # True\n",
    "print('' not in s)  # False"
   ]
  },
  {
   "cell_type": "code",
   "execution_count": null,
   "id": "17a648d8",
   "metadata": {},
   "outputs": [
    {
     "name": "stdout",
     "output_type": "stream",
     "text": [
      "False\n",
      "False\n",
      "True\n",
      "True\n"
     ]
    }
   ],
   "source": [
    "# Find outputs (Home work)\n",
    "x = [1 , 2 , 3 , 4]\n",
    "y = [1 , 2 , 4 , 3]\n",
    "print(x == y)   # False\n",
    "a = (4 , 1 , 3 , 2)\n",
    "b = (4 , 2 , 3 , 1)\n",
    "print(a == b)   # False\n",
    "p = {1 , 2 , 3 , 4}\n",
    "q = {4 , 1 , 3 , 2}\n",
    "print(p == q)   # True\n",
    "m = range(5)\n",
    "n = range(5)\n",
    "print(m == n)   # True"
   ]
  },
  {
   "cell_type": "code",
   "execution_count": null,
   "id": "054be6a0",
   "metadata": {},
   "outputs": [
    {
     "name": "stdout",
     "output_type": "stream",
     "text": [
      "False\n",
      "False\n"
     ]
    }
   ],
   "source": [
    "# Find outputs (Home work)\n",
    "a = [10,20,30]\n",
    "b = (10,20,30)\n",
    "print(a  is  b) # False\n",
    "print(a  ==  b) # False"
   ]
  },
  {
   "cell_type": "markdown",
   "id": "b1c494a2",
   "metadata": {},
   "source": [
    "23/07/25"
   ]
  },
  {
   "cell_type": "code",
   "execution_count": null,
   "id": "f95d3cfd",
   "metadata": {},
   "outputs": [
    {
     "name": "stdout",
     "output_type": "stream",
     "text": [
      "25\n",
      "26\n",
      "25\n",
      "26\n",
      "-25\n",
      "-25\n",
      "-25\n"
     ]
    }
   ],
   "source": [
    "#  ++  and  --  operators  demo  program\n",
    "a = 25\n",
    "print(++a)  #  +(+a) = +a  =  25\n",
    "print(a++)   #  (a+)+  =  a+ =  25+  throws   error\n",
    "print(a++1)  #  a + (+1)  =  a +  1 = 25 + 1  = 26\n",
    "print(--a)  #-(-a) = +a=25\n",
    "print(a--)  # a-(-) = a+ = 25+ Error\n",
    "print(a--1) # a-(-1) = a+1 =25+1= 26\n",
    "print(-a)   # -25\n",
    "print(+-a)  # +(-a)= -a = -25\n",
    "print(-+a)  # -(+a)= -a = -25"
   ]
  },
  {
   "cell_type": "code",
   "execution_count": null,
   "id": "d4e783a0",
   "metadata": {},
   "outputs": [
    {
     "name": "stdout",
     "output_type": "stream",
     "text": [
      "One\n",
      "Two\n",
      "Three\n",
      "Hyd\n",
      "Sec\n",
      "Cyb\n"
     ]
    }
   ],
   "source": [
    "#  Semicolon  demo  program\n",
    "print('One');   # One\n",
    "print('Two');   # Two\n",
    "print('Three'); # Three\n",
    "print('Hyd')  ;   print('Sec')  ;  print('Cyb')\n",
    "# Hyd\n",
    "# Sec\n",
    "# Cyb"
   ]
  },
  {
   "cell_type": "code",
   "execution_count": null,
   "id": "2a310a7d",
   "metadata": {},
   "outputs": [
    {
     "name": "stdout",
     "output_type": "stream",
     "text": [
      "10\n",
      "11\n",
      "25\n",
      "25\n",
      "-4\n",
      "-3\n",
      "-9\n",
      "-9\n",
      "25\n",
      "26\n"
     ]
    },
    {
     "data": {
      "text/plain": [
       "\"\\n1) What  does  floor(x)  do ?  --->  Returns  nearest  previous  integer  of  'x'\\n\\n2) What  does  ceil(x)  do ?  --->  Returns  nearest  next  integer  of  'x'\\n\""
      ]
     },
     "execution_count": 25,
     "metadata": {},
     "output_type": "execute_result"
    }
   ],
   "source": [
    "#  floor()  and  ceil()  functions  demo  program\n",
    "import  math\n",
    "print(math . floor(10.8))  #10\n",
    "print(math . ceil(10.8)) #  11\n",
    "print(math . floor(25.0))   # 25\n",
    "print(math . ceil(25.0))    # 25\n",
    "print(math . floor(-3.5))   # -4\n",
    "print(math . ceil(-3.5))    # -3\n",
    "print(math . floor(-9.0))   # -9\n",
    "print(math . ceil(-9.0))    # -9\n",
    "print(math . floor(25.1))   # 25\n",
    "print(math . ceil(25.1))    #26\n",
    "print(floor(3.5))   # Error bcz we r not using math module and it search the floor func in current program/module\n",
    "print(ceil(3.5))    # Error \n",
    "\n",
    "\n",
    "'''\n",
    "1) What  does  floor(x)  do ?  --->  Returns  nearest  previous  integer  of  'x'\n",
    "\n",
    "2) What  does  ceil(x)  do ?  --->  Returns  nearest  next  integer  of  'x'\n",
    "'''"
   ]
  },
  {
   "cell_type": "code",
   "execution_count": null,
   "id": "93bcf7bc",
   "metadata": {},
   "outputs": [
    {
     "name": "stdout",
     "output_type": "stream",
     "text": [
      "3\n",
      "6\n",
      "1\n",
      "7\n",
      "9\n",
      "2\n",
      "7\n",
      "3\n",
      "0\n"
     ]
    }
   ],
   "source": [
    "# gcd()  function  demo  program\n",
    "import  math\n",
    "print(math . gcd(12 , 15)) #    3\n",
    "print(math . gcd(12 , 18))  #  6\n",
    "print(math . gcd(4 , 7)) #   1\n",
    "print(math . gcd(7 , 7))    # 7\n",
    "print(math . gcd(-18 , -27))  # 9  \n",
    "print(math . gcd(-4 , 6))   # 2\n",
    "print(math . gcd(0 , 7))    # 7\n",
    "print(math . gcd(3 , 0))    # 3\n",
    "print(math . gcd(0 , 0))    # 0\n",
    "print(gcd(5 , 15))  # error"
   ]
  },
  {
   "cell_type": "code",
   "execution_count": 6,
   "id": "3fa51f0c",
   "metadata": {},
   "outputs": [
    {
     "name": "stdout",
     "output_type": "stream",
     "text": [
      "35.8\n",
      "27\n",
      "29.5\n",
      "32\n",
      "25\n"
     ]
    }
   ],
   "source": [
    "#  abs()  function  demo  program\n",
    "from  builtins  import  abs\n",
    "print(abs(-35.8))   # 35.8\n",
    "print(abs(-27)) # 27\n",
    "print(abs(29.5))    # 29.5\n",
    "print(abs(32))  # 32\n",
    "import  builtins\n",
    "print(builtins . abs(-25))  #25"
   ]
  },
  {
   "cell_type": "code",
   "execution_count": 7,
   "id": "a5886aa0",
   "metadata": {},
   "outputs": [
    {
     "name": "stdout",
     "output_type": "stream",
     "text": [
      "20.6\n",
      "5.9\n",
      "25\n",
      "30\n",
      "5\n"
     ]
    }
   ],
   "source": [
    "#  max()  and  min()   functions  demo  program\n",
    "from  builtins  import   max , min\n",
    "print(max(10.8 , 20.6)) # 20.6\n",
    "print(min(10.8 , 20.6 , 5.9 , 12.3))    # 5.9\n",
    "print(max(25 , 10.8))   # 25\n",
    "import  builtins\n",
    "print(builtins . max(10 , 20 , 30)) # 30\n",
    "print(builtins . min(10 , 20 , 15 , 5 , 12))    # 5"
   ]
  },
  {
   "cell_type": "code",
   "execution_count": 8,
   "id": "62f9aeba",
   "metadata": {},
   "outputs": [
    {
     "name": "stdout",
     "output_type": "stream",
     "text": [
      "0.01\n",
      "262144\n",
      "8\n",
      "-0.125\n"
     ]
    }
   ],
   "source": [
    "# pow()  function  demo  program\n",
    "from  builtins  import  pow\n",
    "print(pow(10 , -2)) # 0.01\n",
    "print(pow(4 , pow(3 , 2)))  #4^3^2\n",
    "import  builtins\n",
    "print(builtins . pow(2 , 3))    # 2^3 = 8\n",
    "print(builtins . pow(-2 , -3))  # -2^-3"
   ]
  },
  {
   "cell_type": "code",
   "execution_count": null,
   "id": "c115ab4e",
   "metadata": {},
   "outputs": [
    {
     "name": "stdout",
     "output_type": "stream",
     "text": [
      "['False', 'None', 'True', 'and', 'as', 'assert', 'async', 'await', 'break', 'class', 'continue', 'def', 'del', 'elif', 'else', 'except', 'finally', 'for', 'from', 'global', 'if', 'import', 'in', 'is', 'lambda', 'nonlocal', 'not', 'or', 'pass', 'raise', 'return', 'try', 'while', 'with', 'yield']\n",
      "35\n",
      "<class 'list'>\n"
     ]
    }
   ],
   "source": [
    "# Find  outputs\n",
    "from keyword import kwlist #How  to  import   kw  list\n",
    "print(kwlist) #How  to  print  kwlist\n",
    "print(len(kwlist)) #How  to  print  number  of  keywords\n",
    "print(type(kwlist)) #How  to  print  type  of kwlist\n",
    "print(keyword . kwlist)"
   ]
  },
  {
   "cell_type": "code",
   "execution_count": null,
   "id": "20af6337",
   "metadata": {},
   "outputs": [],
   "source": [
    "#  Find  outputs  (Home  work)\n",
    "import keyword #How  to  import   keyword  module\n",
    "print(keyword.kwlist) #How  to  print  kwlist\n",
    "print(len(keyword.kwlist)) #How  to  print  number  of  keywords\n",
    "print(type(keyword . kwlist)) #How  to  print  type  of kwlist\n",
    "print(kwlist)   # error"
   ]
  },
  {
   "cell_type": "markdown",
   "id": "b9eef163",
   "metadata": {},
   "source": [
    "24/07/25\n"
   ]
  },
  {
   "cell_type": "code",
   "execution_count": null,
   "id": "24d5f68d",
   "metadata": {},
   "outputs": [
    {
     "name": "stdout",
     "output_type": "stream",
     "text": [
      "25\n",
      "10.8\n",
      "False\n",
      "(3+4j)\n",
      "Hyd\n",
      "23\n",
      "[10, 20, 15, 18]\n",
      "{18, 20, 10, 12, 15}\n",
      "(10, 20, 30)\n",
      "{10: 'Sec'}\n"
     ]
    }
   ],
   "source": [
    "# eval()  function  demo  program\n",
    "print(eval('25'))   # 25\n",
    "print(eval('10.8')) # 10.8\n",
    "print(eval('False'))    # False\n",
    "print(eval('3+4j')) # 3+4j\n",
    "print(eval('Hyd'))  # Error\n",
    "print(eval(\"    'Hyd'   \")) # Hyd\n",
    "print(eval('3 + 4 * 5'))    # 23\n",
    "print(eval('[10 , 20 , 15 , 18]'))  # [10 , 20 , 15 , 18]\n",
    "print(eval('{10,20,15,18,20,12,18}'))   # {10,20,15,18,12}\n",
    "print(eval('(10 , 20 , 30)'))   # (10 , 20 , 30)\n",
    "print(eval(\"{10 : 'Hyd' , 10 : 'Sec'}\"))    #{10:\"Sec\"}\n",
    "print(eval(4 + 5))  # error"
   ]
  },
  {
   "cell_type": "code",
   "execution_count": null,
   "id": "0be36cae",
   "metadata": {},
   "outputs": [
    {
     "name": "stdout",
     "output_type": "stream",
     "text": [
      "hyd\n",
      "Sec\n",
      "25\n",
      "25\n",
      "10.8\n"
     ]
    }
   ],
   "source": [
    "#  Tricky  program\n",
    "# Find  outputs  (Home  work)\n",
    "print(eval(\"    'hyd'   \")) # hyd\n",
    "hyd = 'Sec'\n",
    "print(eval('hyd'))  # Sec\n",
    "sec = '25'\n",
    "print(eval('sec'))  # 25\n",
    "print(eval(sec))    # 25\n",
    "cyb = 10.8\n",
    "print(eval('cyb'))  # 10.8\n",
    "print(eval(cyb))    # Error"
   ]
  },
  {
   "cell_type": "code",
   "execution_count": null,
   "id": "0c54b002",
   "metadata": {},
   "outputs": [
    {
     "name": "stdout",
     "output_type": "stream",
     "text": [
      "Hyd\n",
      "None\n"
     ]
    }
   ],
   "source": [
    "#  Tricky  program\n",
    "#  Find  output  (Home  work)\n",
    "print(eval('print(\"Hyd\")')) # Hyd  None"
   ]
  },
  {
   "cell_type": "code",
   "execution_count": null,
   "id": "8a4c6879",
   "metadata": {},
   "outputs": [
    {
     "name": "stdout",
     "output_type": "stream",
     "text": [
      "True\n",
      "False\n",
      "False\n",
      "\n",
      " \n"
     ]
    }
   ],
   "source": [
    "#  Find  outputs  (Home  work)\n",
    "print(bool('False'))    # True\n",
    "print(eval('False'))    # False\n",
    "print(bool('')) # False\n",
    "print(eval('  \"\"  '))   # empty\n",
    "print(eval(''))    # Error\n",
    "print(eval('  \" \"   ')) # empty\n",
    "print(eval(' '))   # Error"
   ]
  },
  {
   "cell_type": "code",
   "execution_count": null,
   "id": "3778cfcf",
   "metadata": {},
   "outputs": [
    {
     "name": "stdout",
     "output_type": "stream",
     "text": [
      "<class 'int'>\n",
      "25\n"
     ]
    }
   ],
   "source": [
    "# What  is  the  advantage  of  eval(input()) ?\n",
    "x = eval(input('Enter  any  input  :  '))   # what input the user enters it will give that output\n",
    "print(type(x))  # if i/p is 25 i.e <class int>\n",
    "print(x)    # 25"
   ]
  },
  {
   "cell_type": "code",
   "execution_count": null,
   "id": "58f9d827",
   "metadata": {},
   "outputs": [],
   "source": [
    "# What  is  a  better  approach  to  read  string  input ?\n",
    "a = input('Enter  any  string  :  ')\n",
    "print(len(a))   # no.of characters will be printed\n",
    "print(a)    # string of object a will be printed \n",
    "b = eval(input('Enter   any  string  : '))\n",
    "print(len(b))   # no.of characters will be printed (if input is string)\n",
    "print(b)     # string of object a will be printed "
   ]
  },
  {
   "cell_type": "code",
   "execution_count": null,
   "id": "2beca52c",
   "metadata": {},
   "outputs": [
    {
     "name": "stdout",
     "output_type": "stream",
     "text": [
      "25,10.8,Hyd\n",
      "25\t10.8\tHyd\n",
      "25---10.8---Hyd\n",
      "25\n",
      "10.8\n",
      "Hyd\n",
      "25 10.8 Hyd\n"
     ]
    }
   ],
   "source": [
    "# sep  argument  demo  program  (Home  work)\n",
    "a , b , c = 25 , 10.8 , 'Hyd'\n",
    "print(a , b , c , sep = ',')   #   25 , 10.8 , Hyd\n",
    "print(a , b , c , sep = '\\t')   # 25    10.8    Hyd\n",
    "print(a , b , c , sep = '---')  # 25 --- 10.8 --- Hyd\n",
    "print(a , b , c , sep = '\\n')   # 25 <next line> 10.8 <next line> Hyd\n",
    "print(a , b , c)    # 25 10.8 Hyd\n",
    "print(a , b , c , separator = ':')  #   Error due to seperator"
   ]
  },
  {
   "cell_type": "code",
   "execution_count": null,
   "id": "4bd0e58a",
   "metadata": {},
   "outputs": [
    {
     "name": "stdout",
     "output_type": "stream",
     "text": [
      "25 10.8 Hyd---25,,,10.8,,,Hyd\n",
      "25:::10.8:::Hyd\t\t\t25 10.8 Hyd\n"
     ]
    }
   ],
   "source": [
    "# Find  outputs  (Home  work)\n",
    "a , b , c = 25 , 10.8 , 'Hyd'\n",
    "print(a , b , c , end = '---')  #  25 --- 10.8 --- Hyd\n",
    "print(a , b , c , sep = ',,,')  #   25 ,,, 10.8 ,,, Hyd\n",
    "print(a , b , c , sep = ':::' , end = '\\t\\t\\t') #25:::10.8:::Hyd\t\n",
    "print(a , b , c)    # 25 10.8 Hyd ( it will be printed in the above statemnet bcz of tab)"
   ]
  },
  {
   "cell_type": "code",
   "execution_count": 9,
   "id": "b7397dd6",
   "metadata": {},
   "outputs": [
    {
     "name": "stdout",
     "output_type": "stream",
     "text": [
      "Hyd\n",
      "\n",
      "Sec\n",
      "\n",
      "Cyb\n"
     ]
    }
   ],
   "source": [
    "# Find outputs  (Home  work)\n",
    "print('Hyd')    # Hyd\n",
    "print() # empty\n",
    "print('Sec')    # Sec\n",
    "print() # empty\n",
    "print('Cyb')    # Cyb"
   ]
  },
  {
   "cell_type": "code",
   "execution_count": null,
   "id": "3ae024d4",
   "metadata": {},
   "outputs": [
    {
     "name": "stdout",
     "output_type": "stream",
     "text": [
      "[10, 20, 30, 40] (10, 20, 30, 40) {40, 10, 20, 30}\n"
     ]
    }
   ],
   "source": [
    "# Find  outputs  (Home  work)\n",
    "l = [10 , 20 , 30 , 40]\n",
    "t = (10 , 20 , 30 , 40)\n",
    "s = {10 , 20 , 30 , 40}\n",
    "print(l , t , s)    # [10, 20, 30, 40] (10, 20, 30, 40) {40, 10, 20, 30}"
   ]
  },
  {
   "cell_type": "code",
   "execution_count": null,
   "id": "b6b2d3fc",
   "metadata": {},
   "outputs": [
    {
     "name": "stdout",
     "output_type": "stream",
     "text": [
      "25.000000\n",
      "<class 'str'>\n",
      "10\n",
      "<class 'str'>\n",
      "[10, 20, 15, 18]\n",
      "<class 'str'>\n"
     ]
    }
   ],
   "source": [
    "#  Find  outputs (Home  work)\n",
    "a = 25\n",
    "b = '%f'  %a    \n",
    "print(b)    # 25.000000\n",
    "print(type(b))  # <class 'str'>\n",
    "x = 10.8\n",
    "y = '%d'  %x\n",
    "print(y)    # 10\n",
    "print(type(y))  #< class 'str'>\n",
    "m = [10 , 20 , 15 , 18]\n",
    "n = '%s'  %m\n",
    "print(n)    # [10 , 20 , 15 , 18]\n",
    "print(type(n))  # <class 'str'>"
   ]
  },
  {
   "cell_type": "code",
   "execution_count": null,
   "id": "b1e4f991",
   "metadata": {},
   "outputs": [
    {
     "name": "stdout",
     "output_type": "stream",
     "text": [
      "   10.93\n",
      "     10.9\n",
      "    10.927\n",
      "10.93\n",
      "10.927400\n",
      "10.927400\n"
     ]
    }
   ],
   "source": [
    "# Find  Outputs  (Home  work)\n",
    "a = 10.9274\n",
    "print('%8.2f'  %a)  #  <3  spaces>10.93\n",
    "print('%9.1f'  %a)  # <5 spaces>10.9\n",
    "print('%10.3f'  %a) # <4 spaces>10.927\n",
    "print('%.2f'  %a)   #10.93\n",
    "print('%.6f'  %a)   # 10.927400\n",
    "print('%f'  %a) # 10.927400"
   ]
  },
  {
   "cell_type": "code",
   "execution_count": null,
   "id": "bf307f4a",
   "metadata": {},
   "outputs": [
    {
     "name": "stdout",
     "output_type": "stream",
     "text": [
      "    Hyd\n",
      "Hyd    \n",
      "Hyd\n",
      "Hyd\n",
      "%s Hyd\n",
      "Hyd\n"
     ]
    }
   ],
   "source": [
    "# Find  outputs (Home  work)\n",
    "a = 'Hyd'\n",
    "print('%7s'  %a)   #  <4  spaces>Hyd\n",
    "print('%-7s'  %a)  #  Hyd<4   spaces>\n",
    "print('%2s'  %a)   #  Hyd  and  ignores  smaller width\n",
    "print('%s'  %a) #  Hyd\n",
    "print('%s' , a) # %s Hyd\n",
    "print('%s'  a)  # Error due to format syntax or comma\n",
    "print('%s' , %a)    # error due to comma\n",
    "print(a)    # Hyd"
   ]
  },
  {
   "cell_type": "code",
   "execution_count": null,
   "id": "095a9438",
   "metadata": {},
   "outputs": [
    {
     "name": "stdout",
     "output_type": "stream",
     "text": [
      "[10, 20, 30, 40]\n",
      "%s [10, 20, 30, 40]\n",
      "[10, 20, 30, 40]\n"
     ]
    }
   ],
   "source": [
    "# Find  outputs  (Home  work)\n",
    "a = [10 , 20 , 30 , 40]\n",
    "print('%s'  %a)     # [10 , 20 , 30 , 40]\n",
    "print('%s' , a) # %s [10 , 20 , 30 , 40]\n",
    "print('%s'  a)  # Error due to not provided comma or format syntax\n",
    "print('%s' , %a)    # Eror due to comma\n",
    "print('%l'  %a) # Error\n",
    "print(a)    # [10 , 20 , 30 , 40]"
   ]
  },
  {
   "cell_type": "code",
   "execution_count": null,
   "id": "0ac406ad",
   "metadata": {},
   "outputs": [
    {
     "name": "stdout",
     "output_type": "stream",
     "text": [
      "25    10.927400    Hyd\n",
      "25    10.9274    Hyd\n",
      "25    10.9274    Hyd\n",
      "%d    %g    %s 25 10.9274 Hyd\n",
      "25 10.927400 Hyd\n"
     ]
    }
   ],
   "source": [
    "#Find outputs  (Home  work)\n",
    "a = 25\n",
    "b = 10.9274\n",
    "c = 'Hyd'\n",
    "print('%d    %f    %s'  %(a , b , c))   # 25    10.927400   Hyd\n",
    "print('%i    %g    %s'    %(a , b , c)) # 25    10.9274     Hyd\n",
    "print('%s    %s    %s'  %(a , b , c))   # 25    10.9274     Hyd\n",
    "print('%d    %g    %s'  , a , b , c)    # %d    %g  %s 25 10.9274 Hyd\n",
    "print('%d    %g      %s'   a , b , c)   #Error Due forget comma\n",
    "print('%d    %g    %s'  ,  %(a , b , c))   # Error due to comma\n",
    "print('%d    %g    %s'    %a%b%c)   # error\n",
    "print('%d'    %a  ,  '%f'     %b  ,  '%s'   %c) # 25    10.927400   Hyd"
   ]
  },
  {
   "cell_type": "markdown",
   "id": "1490544c",
   "metadata": {},
   "source": [
    "26/07/25\n"
   ]
  },
  {
   "cell_type": "code",
   "execution_count": null,
   "id": "64de3f86",
   "metadata": {},
   "outputs": [
    {
     "name": "stdout",
     "output_type": "stream",
     "text": [
      "25\n",
      "<class 'str'>\n",
      "10.8\n",
      "<class 'str'>\n",
      "[10, 20, 30, 40]\n",
      "<class 'str'>\n"
     ]
    }
   ],
   "source": [
    "#  Find  outputs  (Home  work)\n",
    "x = 25\n",
    "y = F'{x}'\n",
    "print(y)    # 25\n",
    "print(type(y))  # <class str>\n",
    "x = 10.8\n",
    "y = F'{x}'  \n",
    "print(y)    # 10.8\n",
    "print(type(y))  # <class str>\n",
    "x = [10,20,30,40]\n",
    "y = F'{x}'\n",
    "print(y)    #[10,20,30,40]\n",
    "print(type(y))   # <class str>"
   ]
  },
  {
   "cell_type": "code",
   "execution_count": null,
   "id": "08d22353",
   "metadata": {},
   "outputs": [
    {
     "name": "stdout",
     "output_type": "stream",
     "text": [
      "25  \t   10.8   \t  Hyd\n",
      "a = 25  \t  b  =  10.8  \t  c  =  Hyd\n",
      "a=25  \t   b=10.8   \t  c='Hyd'\n",
      "25  \t   10.8   \t  Hyd\n",
      "a  =  {a}  \t  b  =  {b}  \t  c  =   {c}\n",
      "a  =  a  \t  b  =  b  \t  c  =  c\n"
     ]
    }
   ],
   "source": [
    "#Find  outputs  (Home  work)\n",
    "a ,  b , c = 25 , 10.8 , 'Hyd'\n",
    "print(F'{a}  \\t   {b}   \\t  {c}')   # 25    10.8      Hyd\n",
    "print(F'a = {a}  \\t  b  =  {b}  \\t  c  =  {c}') #a = 25     b = 10.8    c = Hyd\n",
    "print(F'{a=}  \\t   {b=}   \\t  {c=}')    #a=25     b=10.8    c=Hyd\n",
    "print(F'{a:}  \\t   {b:}   \\t  {c:}')    # 25    10.8    Hyd\n",
    "print('a  =  {a}  \\t  b  =  {b}  \\t  c  =   {c}')   # a  =  {a}    b  =  {b}    c  =   {c}\n",
    "print(F'a  =  a  \\t  b  =  b  \\t  c  =  c') # a  =  a     b  =  b      c  =  c\n",
    "print(F'{x =}  \\t   {y =}   \\t  {z =}') # Error"
   ]
  },
  {
   "cell_type": "code",
   "execution_count": null,
   "id": "9540dbf8",
   "metadata": {},
   "outputs": [
    {
     "name": "stdout",
     "output_type": "stream",
     "text": [
      "25\n",
      "{x}\n",
      "{25}\n",
      "{{x}}\n",
      "{{25}}\n",
      "{{{x}}}\n",
      "{{{25}}}\n",
      "{{{{x}}}}\n"
     ]
    },
    {
     "data": {
      "text/plain": [
       "\"\\n1) What  is  printed  when  'x'  is  in  even  number  of  braces ?  --->  'x'  itself\\n\\n2) What  is  printed  when  'x'  is  in  odd  number  of  braces ?  --->  Value   of  'x'  in  the  form  of  string\\n\\n3) How  many  braces  are  printed  in  the  output ?  --->  Number  of  braces  //  2\\n\""
      ]
     },
     "execution_count": 4,
     "metadata": {},
     "output_type": "execute_result"
    }
   ],
   "source": [
    "#  Find  outputs  (Home  work)\n",
    "x = 25\n",
    "print(F'{x}')  #  25\n",
    "print(F'{{x}}')   #  {x}\n",
    "print(F'{{{x}}}')  #   {25}\n",
    "print(F'{{{{x}}}}') #   {{x}}\n",
    "print(F'{{{{{x}}}}}')   # {{25}}\n",
    "print(F'{{{{{{x}}}}}}') # {{{x}}}\n",
    "print(F'{{{{{{{x}}}}}}}')   # {{{25}}}\n",
    "print(F'{{{{{{{{x}}}}}}}}') # {{{{x}}}}\n",
    "\n",
    "\n",
    "\n",
    "'''\n",
    "1) What  is  printed  when  'x'  is  in  even  number  of  braces ?  --->  'x'  itself\n",
    "\n",
    "2) What  is  printed  when  'x'  is  in  odd  number  of  braces ?  --->  Value   of  'x'  in  the  form  of  string\n",
    "\n",
    "3) How  many  braces  are  printed  in  the  output ?  --->  Number  of  braces  //  2\n",
    "'''"
   ]
  },
  {
   "cell_type": "code",
   "execution_count": 12,
   "id": "4d00493a",
   "metadata": {},
   "outputs": [
    {
     "name": "stdout",
     "output_type": "stream",
     "text": [
      "10 + 7 = 17\n",
      "10 - 7 = 3\n",
      "10 * 7 = 70\n",
      "10 / 7 = 1.4285714285714286\n",
      "10 % 7 = 3\n",
      "max(10 , 7) =  10\n",
      "min(10 , 7) = 7\n",
      "10^7= 10000000\n",
      "sqrt(10) = 3.1622776601683795\n",
      "gcd(10,7)= 1\n",
      "Fact(10) = 3628800\n"
     ]
    }
   ],
   "source": [
    "'''\n",
    "Write  a  program  to  determine  sum , difference , product , quotient , largest  and  smallest  of  two  numbers.\n",
    "Also  find  remainder,  sqrt  of  first  input , power, gcd  and  factorial  of  first  input\n",
    "\n",
    "Hint:  Use  F  string  to  print  results\n",
    "\n",
    "Let  inputs  be  10  and  7,\n",
    "What  is  the  sum ?  --->  17\n",
    "What  is  the  difference ?  --->  3\n",
    "What  is  the  product ?  ---> 70\n",
    "What  is  the  quotient ?  --->  1.42\n",
    "What  is  the  remainder ?  --->  3\n",
    "What  is  the  largest  number ?  ---> 10\n",
    "What  is  the  smallest  number ?  --->  7\n",
    "What  is  the  sqrt  of  1st  input ?  --->  3.16\n",
    "What  is  the  result  of  power?  --->  10000000\n",
    "What  is  the  gcd  of  2  numbers ?  ---> 1\n",
    "What  is  the  factorial   of  1st  input ?  ---> 10!\n",
    "'''\n",
    "''' \n",
    "Enter 1st  integer  number :  10\n",
    "Enter 2nd  integer  number :  7\n",
    "10 + 7 = 17\n",
    "10 - 7 = 3\n",
    "10 * 7 = 70\n",
    "10 / 7 = 1.4285714285714286\n",
    "10 % 7 = 3\n",
    "max(10 , 7) = 10\n",
    "min(10 , 7) = 7\n",
    "10 ^ 7 = 10000000\n",
    "sqrt(10) = 3.1622776601683795\n",
    "gcd(10 , 7) = 1\n",
    "fact(10) = 3628800\n",
    "'''\n",
    "import math\n",
    "a=int(input('Enter 1st integer number: '))\n",
    "b=int(input('Enter 2nd integer number: '))\n",
    "print(f'{a} + {b} =', a+b)\n",
    "print(f'{a} - {b} =', a-b)\n",
    "print(f'{a} * {b} =', a*b)\n",
    "print(f'{a} / {b} =', a/b)\n",
    "print(f'{a} % {b} =', a%b)\n",
    "print(f'max({a} , {b}) = ', max(a,b))\n",
    "print(f'min({a} , {b}) =', min(a,b))\n",
    "print(f'{a}^{b}=',a**b)\n",
    "print(f'sqrt({a}) =', math.sqrt(a))\n",
    "print(f'gcd({a},{b})=',math.gcd(a,b))\n",
    "print(f'Fact({a}) =', math.factorial(a))"
   ]
  },
  {
   "cell_type": "code",
   "execution_count": null,
   "id": "3563bea7",
   "metadata": {},
   "outputs": [
    {
     "name": "stdout",
     "output_type": "stream",
     "text": [
      "Before swap: x='25'  y='Hyd'\n",
      "After swap: x='Hyd' y='25'\n"
     ]
    }
   ],
   "source": [
    "'''\n",
    "Write  a  program  to  swap  values  of  any  two  objects  in  a  single  statement  without  using  3rd  object\n",
    "\n",
    "Let  'x'  be  25  and  'y'  be   'Hyd'\n",
    "What  are  'x'  and  'y'  after  swap ?  ---> Hyd  and  25\n",
    "\n",
    "Hint:  Swap  references  but  not  objects\n",
    "\n",
    "Enter  1st  input :  25\n",
    "Enter  2nd  input : Hyd\n",
    "Before  swap :  x='25'            y='Hyd'\n",
    "After  swap :  x='Hyd'            y='25'\n",
    "'''\n",
    "x=eval(input('Enter 1st input: '))\n",
    "y=eval(input('Enter 2nd input: '))\n",
    "print(f\"Before swap: x='{x}'    y='{y}'\")\n",
    "print(f\"After swap: x='{y}'   y='{x}'\")\n"
   ]
  },
  {
   "cell_type": "code",
   "execution_count": 21,
   "id": "0e9fda14",
   "metadata": {},
   "outputs": [
    {
     "name": "stdout",
     "output_type": "stream",
     "text": [
      "Largest Input: rama\n"
     ]
    }
   ],
   "source": [
    "'''\n",
    "Write  a  program  to  determine  largest  of  three  inputs  without  using  max()  function\n",
    "\n",
    "1) What  is  the  output  if  inputs  are  10 , 20  and  15 ?   --->  20\n",
    "\n",
    "2) What  is  the  output  if  inputs  are  35.8 , 42.8  and  27.9 ?   --->  42.8\n",
    "\n",
    "3) What  is  the  output  if  inputs  are  'RAMA'  , 'RAKESH'  and  'RAJESH' ?   --->  'RAMA'\n",
    "\n",
    "4) What  is   the  output  if  inputs  are  [10 , 20 , 15 , 18]  , [10 , 20 , 32, 19]  and  [10 , 20 , 25, 17] ?  ---> [10 , 20 , 32 , 19]\n",
    "\n",
    "5) Inputs  can  be  integers , floats , strings  and  so  on\n",
    "\n",
    "6) Use  nested  ternary  operator\n",
    "\n",
    "Enter 1st input : 10\n",
    "Enter 2nd input : 20\n",
    "Enter 3rd input : 15.8\n",
    "Largest  Input  :  20\n",
    "'''\n",
    "\n",
    "a=eval(input('Enter 1st input: '))\n",
    "b=eval(input('Enter 2nd input: '))\n",
    "c=eval(input(\"Enter 3rd input: \"))\n",
    "largest=a if a>b and a>c else (b if b>c else c)\n",
    "print(\"Largest Input:\", largest)"
   ]
  },
  {
   "cell_type": "code",
   "execution_count": null,
   "id": "a4b64a14",
   "metadata": {},
   "outputs": [
    {
     "name": "stdout",
     "output_type": "stream",
     "text": [
      "Result:  >\n"
     ]
    }
   ],
   "source": [
    "'''\n",
    "Write  a  program  to  print   '>'  if  1st  input  >  2nd  input,\n",
    "                                               '<'  if  1st  input  <  2nd  input  and\n",
    "                                                                                                                                           '='  if  inputs  are  same\n",
    "\n",
    "1) What  is  the  result  if  inputs  are  10  and  20 ?  ---> <\n",
    "\n",
    "2) What  is  the  result  if  inputs  are  70  and  60 ?  --->  >\n",
    "\n",
    "3) What  is  the  result  if  inputs  are  25  and  25 ?  ---> =\n",
    "\n",
    "4) Inputs  can  be  integers , floats , strings  and  so  on\n",
    "\n",
    "5) Use  ternary  operator: value_if_true if condition else value_if_false\n",
    "\n",
    "\n",
    "Enter 1st input : 10\n",
    "Enter 2nd input : 20\n",
    "Result :   <\n",
    "'''\n",
    "a=eval(input('Enter 1st input: '))\n",
    "b=eval(input('Enter 2nd input: '))\n",
    "result= '>' if a>b else '<'\n",
    "print(\"Result: \" ,result)"
   ]
  },
  {
   "cell_type": "code",
   "execution_count": 29,
   "id": "910e66cd",
   "metadata": {},
   "outputs": [
    {
     "name": "stdout",
     "output_type": "stream",
     "text": [
      "Result:  1\n"
     ]
    }
   ],
   "source": [
    "'''\n",
    "Write  a  program  to  print  1  if  input  is  +ve  ,  -1    if  input  is  -ve  and  0  if  input  is  0\n",
    "\n",
    "1) What  is  the  result  if  input  is  -25 ?  --->  -1\n",
    "\n",
    "2) What  is  the  result  if  input  is  75 ?  --->  1\n",
    "\n",
    "3) What  is  the  result  if  input  is  0 ?  --->  0\n",
    "\n",
    "4) Use  nested  ternary  operator\n",
    "\n",
    "Enter any number : -25\n",
    "Result :  -1\n",
    "'''\n",
    "a=int(input('Enter any number'))\n",
    "result=1 if a>0 else(-1 if a<0 else 0) \n",
    "print(\"Result: \", result)"
   ]
  },
  {
   "cell_type": "code",
   "execution_count": null,
   "id": "f836e5e4",
   "metadata": {},
   "outputs": [
    {
     "name": "stdout",
     "output_type": "stream",
     "text": [
      "Odd Number\n"
     ]
    }
   ],
   "source": [
    "'''\n",
    "Write  a  program  to  test  input  is  even  number  or  odd  number\n",
    "\n",
    "1) What  is  an  even  number  ?  --->  Divisible  by  2\n",
    "\n",
    "2) What  is  an  odd  number  ?  --->  Not  divisible  by  2\n",
    "\n",
    "3) Use  ternary  operator\n",
    "Enter  any  +ve  integer : 45\n",
    "Odd  number\n",
    "'''\n",
    "a=int(input(\"Enter any +ve integer \"))\n",
    "result='Odd Number' if a%2==1 else 'Even Number'\n",
    "print(result)"
   ]
  },
  {
   "cell_type": "code",
   "execution_count": null,
   "id": "85884aba",
   "metadata": {},
   "outputs": [
    {
     "name": "stdout",
     "output_type": "stream",
     "text": [
      "Area of Rectangle= 10\n",
      "Perimeter of Rectangle= 14\n"
     ]
    }
   ],
   "source": [
    "'''\n",
    "(Home  work)\n",
    "Write  a  program  to  determine  area  and  perimeter  of  rectangle\n",
    "\n",
    "1) What  are  the  inputs ?  ---> length  and   breadth\n",
    "\n",
    "2) What  are  the  outputs  ?  --->  area  and  perimeter\n",
    "\n",
    "3) What  is  the  area  of  rectangle  ?  --->  length * breadth\n",
    "\n",
    "4) What  is  the  perimeter  of  rectangle ?  --->  2 * (length + breadth)\n",
    "'''\n",
    "a=int(input('Enter Length'))\n",
    "b=int(input(\"Enter Breadth\"))\n",
    "print('Area of Rectangle=', a*b)\n",
    "print('Perimeter of Rectangle=',2*(a+b))"
   ]
  },
  {
   "cell_type": "code",
   "execution_count": 36,
   "id": "5f7d0f89",
   "metadata": {},
   "outputs": [
    {
     "name": "stdout",
     "output_type": "stream",
     "text": [
      "Volume of Shpere= 4188.786666666666\n"
     ]
    }
   ],
   "source": [
    "'''\n",
    "(Home  work)\n",
    "Write  a  program  to  determine  volume  of  a  sphere\n",
    "\n",
    "1) What  is  the  input ?  --->  radius\n",
    "\n",
    "2) What  is  the  output ?  --->  volume\n",
    "\n",
    "3) What  is  the  volume  of  sphere  ?  --->  4 / 3  * pi *  r ^ 3\n",
    "'''\n",
    "r=int(input('Enter radius'))\n",
    "output=4 / 3  * 3.14159 *  r ** 3\n",
    "print('Volume of Shpere=',output)"
   ]
  },
  {
   "cell_type": "code",
   "execution_count": 37,
   "id": "3b00b462",
   "metadata": {},
   "outputs": [
    {
     "name": "stdout",
     "output_type": "stream",
     "text": [
      "Simple Interest= 10.0\n",
      "Compound Interest= 10.25\n"
     ]
    }
   ],
   "source": [
    "'''\n",
    "(Home  work)\n",
    "Write  a  program  to  determine  simple  interest  and  compound  interest\n",
    "\n",
    "1) What  are  the  inputs  ?  --->  principle , time  and   rate  of  interest\n",
    "\n",
    "2) What  are  the  outputs ? --->  Simple  interest   and   compound  interest\n",
    "\n",
    "3) What  is  simple  interest formula ?  ---> ptr / 100\n",
    "\n",
    "4) What  is  compound  interest formula ?  --->  p * (1  +  r  /  100) ^  t  -  p\n",
    "'''\n",
    "p=float(input(\"Enter Principal amount: \"))\n",
    "t=float(input(\"Enter Time in years: \"))\n",
    "r=float(input(\"Enter Rate of Interest per annum: \"))\n",
    "simple_interest=(p*t*r)/100\n",
    "compound_interest=p * (1  +  r  /  100) **  t  -  p\n",
    "print(\"Simple Interest=\", simple_interest)\n",
    "print(\"Compound Interest=\",compound_interest)"
   ]
  },
  {
   "cell_type": "code",
   "execution_count": 38,
   "id": "93f14ae7",
   "metadata": {},
   "outputs": [
    {
     "name": "stdout",
     "output_type": "stream",
     "text": [
      "After swap:x= 25 y= 10\n"
     ]
    }
   ],
   "source": [
    "'''\n",
    "(Home  work)\n",
    "Write  a  program to swap values  of two objects using  3rd   object\n",
    "\n",
    "Let  x = 10  and  y = 25\n",
    "What  are  the  values  of  x  and  y  after  swap ?  --->  x = 25  and   y = 10\n",
    "'''\n",
    "x=int(input('Enter number'))\n",
    "y=int(input('Enter number'))\n",
    "temp=x\n",
    "x=y\n",
    "y=temp\n",
    "print(\"After swap:x=\",x, \"y=\",y)\n"
   ]
  },
  {
   "cell_type": "code",
   "execution_count": 41,
   "id": "9c55dad5",
   "metadata": {},
   "outputs": [
    {
     "name": "stdout",
     "output_type": "stream",
     "text": [
      "x= 10 y= 25\n"
     ]
    }
   ],
   "source": [
    "'''\n",
    "(Home  work)\n",
    "Write  a  program  to  swap  values  of  two  objects  without  using  3rd  object\n",
    "\n",
    "Hint: One  addition  and  two  subtractions\n",
    "\n",
    "x = 25\n",
    "y =  10\n",
    "'''\n",
    "x=int(input('Enter number:'))\n",
    "y=int(input('Enter number:'))\n",
    "x=x+y\n",
    "y=x-y\n",
    "x=x-y\n",
    "print('x=',x , 'y=',y)\n"
   ]
  },
  {
   "cell_type": "code",
   "execution_count": 43,
   "id": "00b2c651",
   "metadata": {},
   "outputs": [
    {
     "name": "stdout",
     "output_type": "stream",
     "text": [
      "x= 100.0 y= -200.0\n"
     ]
    }
   ],
   "source": [
    "'''\n",
    "(Home  work)\n",
    "Write  a  program  to  swap  values  of  two  objects  without  using  3rd  object\n",
    "\n",
    "Hint: One  multiplication  and  two  divisions\n",
    "\n",
    "x =  -200\n",
    "y =  100\n",
    "'''\n",
    "x=int(input('Enter number:'))\n",
    "y=int(input('Enter number:'))\n",
    "x=x*y\n",
    "y=x/y\n",
    "x=x/y\n",
    "print('x=',x , 'y=',y)\n"
   ]
  },
  {
   "cell_type": "markdown",
   "id": "06fbde08",
   "metadata": {},
   "source": [
    "28/07/25"
   ]
  },
  {
   "cell_type": "code",
   "execution_count": null,
   "id": "dac4f944",
   "metadata": {},
   "outputs": [],
   "source": [
    "'''\n",
    "Write  a  program  to  add ,  subtract , multiply  and  divide  two  complex  numbers\n",
    "\n",
    "First  complex  number   --->  3 + 4j\n",
    "2nd   complex  number   --->  5 + 6j\n",
    "What  is  the  sum ? ---> (3 + 4j) + (5 + 6j) = 8 + 10j\n",
    "What  is  the  difference ?  ---> (3 + 4j) - (5 + 6j) =  -2 - 2j\n",
    "What  is  the  product ?  ---> (3 + 4j) * (5 + 6j) =  15 + 18j + 20j - 24 =  -9 + 38j\n",
    "\n",
    "\n",
    "What  is  the  division ?  ---> (3 + 4j) / (5 + 6j) = (3 + 4j) * (5 - 6j) / (5 + 6j) * (5 -6j)\n",
    "                                                                         =   (15 - 18j + 20j + 24) / (25 + 36)\n",
    "Enter first complex number : 3+4j\n",
    "Enter second complex number: 5+6j\n",
    "Sum :  (8+10j)\n",
    "Difference :  (-2-2j)\n",
    "Product:  (-9+38j)\n",
    "Division :  (0.6393442622950819+0.03278688524590165j)\t\t\t\t\t\t\t\t\t\t\t\t\t\t\t\t\t = 39 / 61 + 2j / 61\t\t\t\t\t\t\t\t\t\t\t   \n",
    "'''\n",
    "a=complex(input('Enter first complex number:'))\n",
    "b=complex(input('Enter second complex number:'))\n",
    "print(f'Sum:',a+b)\n",
    "print(f'Difference:',a-b)\n",
    "print(f'Product:',a*b)\n",
    "print(f'Division:',a/b)"
   ]
  },
  {
   "cell_type": "code",
   "execution_count": null,
   "id": "5b901803",
   "metadata": {},
   "outputs": [],
   "source": [
    "# Identify  error\n",
    "else:\n",
    "\t\tprint('else  suite')\n",
    "print('Outside')# Syntax Error because there is no if condition"
   ]
  },
  {
   "cell_type": "code",
   "execution_count": null,
   "id": "bfbcf8f2",
   "metadata": {},
   "outputs": [],
   "source": [
    "# Identify  error\n",
    "if  9 > 12:\n",
    "\tprint('Hyd')\n",
    "else\n",
    "\tprint('Sec')# semicolon missed for else"
   ]
  },
  {
   "cell_type": "code",
   "execution_count": null,
   "id": "8c17a142",
   "metadata": {},
   "outputs": [],
   "source": [
    "# Identify  error\n",
    "if  9 > 5\n",
    "\tprint('Hello')\n",
    "print('Bye')# semicolon missed after if condition"
   ]
  },
  {
   "cell_type": "code",
   "execution_count": null,
   "id": "a5847241",
   "metadata": {},
   "outputs": [],
   "source": [
    "# Identify  error\n",
    "if  (10,20,15):\n",
    "print('Hyd')\n",
    "else:\n",
    "print('Sec') # indentation error"
   ]
  },
  {
   "cell_type": "code",
   "execution_count": null,
   "id": "88f2fb62",
   "metadata": {},
   "outputs": [],
   "source": [
    "# Identify  error\n",
    "if  ():\n",
    "\t\t\tprint('Hyd')\n",
    "\telse:\n",
    "\t\t\t\t\tprint('Sec')\n",
    "print('Bye') # if and else should be in same column"
   ]
  },
  {
   "cell_type": "code",
   "execution_count": null,
   "id": "1f3f2027",
   "metadata": {},
   "outputs": [],
   "source": [
    "# Identify  error\n",
    "if  { }:\n",
    "{\n",
    "\tprint('One')\n",
    "\tprint('Two')\n",
    "\tprint('Three')\n",
    "}\n",
    "else:\n",
    "{\n",
    "\tprint('Four')\n",
    "\tprint('Five')\n",
    "\tprint('Six')\n",
    "}\n",
    "print('Bye') # braces are used for code block"
   ]
  },
  {
   "cell_type": "code",
   "execution_count": null,
   "id": "40ddca9d",
   "metadata": {},
   "outputs": [],
   "source": [
    "# Identify  error\n",
    "if  ():\n",
    "\tprint('One')\n",
    "\tprint('Two')\n",
    "\tprint('Three')\n",
    "else:\n",
    "if  []:\n",
    "\tprint('Four')\n",
    "\tprint('Five')\n",
    "\tprint('Six')\n",
    "else:\n",
    "if  {}:\n",
    "\tprint('Seven')\n",
    "\tprint('Eight')\n",
    "\tprint('Nine')\n",
    "else:\n",
    "\tprint('Hyd')\n",
    "\tprint('Sec')\n",
    "\tprint('Cyb')\n",
    "print('Bye') # when else and if are used the code will shift right side with indentation"
   ]
  },
  {
   "cell_type": "code",
   "execution_count": null,
   "id": "d330f97b",
   "metadata": {},
   "outputs": [],
   "source": [
    "# Write  a  program  to  determine  a  number  is  even  or  odd  with   if  statement\n",
    "''' # Write  a  program  to  determine  a  number  is  even  or  odd  with   if  statement '''\n",
    "a=int(input('Enter an integer number:'))\n",
    "if(a%2==0):\n",
    "    print('Even number')\n",
    "else:\n",
    "    print('Odd number')"
   ]
  },
  {
   "cell_type": "code",
   "execution_count": null,
   "id": "c9280cb1",
   "metadata": {},
   "outputs": [
    {
     "name": "stdout",
     "output_type": "stream",
     "text": [
      "One\n",
      "Two\n",
      "Three\n",
      "Bye\n"
     ]
    }
   ],
   "source": [
    "# Find outputs  (Home  work)\n",
    "if():\n",
    "        print('Hyd')\n",
    "        print('Sec')\n",
    "        print('Cyb')\n",
    "else:\n",
    "        print('One')\n",
    "        print('Two')\n",
    "        print('Three')\n",
    "print('Bye')\n",
    "#One\n",
    "#Two\n",
    "#Three\n",
    "#Bye"
   ]
  },
  {
   "cell_type": "code",
   "execution_count": null,
   "id": "d89cdf9c",
   "metadata": {},
   "outputs": [
    {
     "name": "stdout",
     "output_type": "stream",
     "text": [
      "Hyd\n",
      "Sec\n",
      "Cyb\n",
      "Bye\n"
     ]
    }
   ],
   "source": [
    "# Find  outputs  (Home  work)\n",
    "if{10 : 20 , 30 : 40}:\n",
    "        print('Hyd')\n",
    "        print('Sec')\n",
    "        print('Cyb')\n",
    "print('Bye')\n",
    "\n",
    "# Hyd\n",
    "#Sec\n",
    "# Cyb\n",
    "# Bye"
   ]
  },
  {
   "cell_type": "code",
   "execution_count": null,
   "id": "a1a75714",
   "metadata": {},
   "outputs": [
    {
     "name": "stdout",
     "output_type": "stream",
     "text": [
      "Bye\n"
     ]
    }
   ],
   "source": [
    "# Find outputs  (Home  work)\n",
    "if { }:\n",
    "\tprint('Hyd')\n",
    "\tprint('Sec')\n",
    "\tprint('Cyb')\n",
    "print('Bye')\t# bye"
   ]
  },
  {
   "cell_type": "code",
   "execution_count": null,
   "id": "ddb70ee4",
   "metadata": {},
   "outputs": [],
   "source": [
    "# Write   a  program  to  print  month  name  for  input  month  number  by  using  if  and  elif  (Home  work)\n",
    "\n",
    "'''\n",
    "Enter month number (1 - 12): 6\n",
    "June \n",
    "\n",
    "Enter month number (1 - 12): 13\n",
    "Input  should  be  between  1  and   12\n",
    "\n",
    "Enter month number (1 - 12): 10.8\n",
    "Input  should  be  an  integer\n",
    "'''\n",
    "try:\n",
    "    import calendar\n",
    "    a=int(input('Enter month number:'))\n",
    "    print(calendar.month_name[a])\n",
    "except IndexError:\n",
    "    print('Input should be from 1-12')\n",
    "except ValueError:\n",
    "    print('Input should be an integer')"
   ]
  },
  {
   "cell_type": "code",
   "execution_count": null,
   "id": "95179f0b",
   "metadata": {},
   "outputs": [],
   "source": [
    "'''\n",
    "Write  a  program  to  print  digit  in  words  with  else  and  if  (do  not  use  elif)\n",
    "0 - Zero\n",
    "1 - One\n",
    "2 - Two\n",
    "....\n",
    "9 - Nine\n",
    "10 - Invalid\n",
    "'''\n",
    "\n",
    "a=int(input('Enter a digit from 0-9'))\n",
    "if a==0:\n",
    "    print(\"Zero\")\n",
    "else:\n",
    "    if a==1:\n",
    "        print(\"One\")\n",
    "    else:\n",
    "        if a==2:\n",
    "            print(\"Two\")\n",
    "        else:\n",
    "            if a==3:\n",
    "                print(\"Three\")\n",
    "            else:\n",
    "                if a==4:\n",
    "                    print(\"Four\")\n",
    "                else:\n",
    "                    if a==5:\n",
    "                        print(\"Five\")\n",
    "                    else:\n",
    "                        if a==6:\n",
    "                            print(\"Six\")\n",
    "                        else:\n",
    "                            if a==7:\n",
    "                                print(\"Seven\")\n",
    "                            else:\n",
    "                                if a==8:\n",
    "                                    print(\"Eight\")\n",
    "                                else:\n",
    "                                    if a==9:\n",
    "                                        print(\"Nine\")\n",
    "                                    else:\n",
    "                                        print(\"Invalid\")"
   ]
  }
 ],
 "metadata": {
  "kernelspec": {
   "display_name": "Python 3",
   "language": "python",
   "name": "python3"
  },
  "language_info": {
   "codemirror_mode": {
    "name": "ipython",
    "version": 3
   },
   "file_extension": ".py",
   "mimetype": "text/x-python",
   "name": "python",
   "nbconvert_exporter": "python",
   "pygments_lexer": "ipython3",
   "version": "3.12.10"
  }
 },
 "nbformat": 4,
 "nbformat_minor": 5
}

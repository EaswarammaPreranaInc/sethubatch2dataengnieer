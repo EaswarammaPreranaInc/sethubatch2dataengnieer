{
 "cells": [
  {
   "cell_type": "code",
   "execution_count": null,
   "id": "7a881c88",
   "metadata": {},
   "outputs": [
    {
     "name": "stdout",
     "output_type": "stream",
     "text": [
      "[10, 20, 15, 18]\n",
      "[10, 17, 18, 25]\n"
     ]
    },
    {
     "data": {
      "text/plain": [
       "\"\\n1)  a = [10 , 20 , 15 , 18]\\n    change(a)\\n    What  is   passed  to  change()  function ? --->List  itself  but  not  elements  of  list\\n\\n2) Modifying  list  'b' is  as  good  as  modifying  list  'a'  becoz  'a'  and  'b'  point  to  same  list\\n\""
      ]
     },
     "execution_count": 1,
     "metadata": {},
     "output_type": "execute_result"
    }
   ],
   "source": [
    "#  Find  outputs  (Home  work)\n",
    "def  change(b):\n",
    "\tb . append(25)\n",
    "\tb[2] = 17\n",
    "\tdel  b[1]\n",
    "# End  of  the  function\n",
    "a = [10 , 20 , 15 , 18]\n",
    "print(a)\t# [10 , 20 , 15 , 18]\n",
    "change(a)\n",
    "print(a)\t# [10 , 17, 15 , 25]\n",
    "\n",
    "'''\n",
    "output:\n",
    "[10, 20, 15, 18]\n",
    "[10, 17, 18, 25]\n",
    "\n",
    "1)  a = [10 , 20 , 15 , 18]\n",
    "    change(a)\n",
    "    What  is   passed  to  change()  function ? --->List  itself  but  not  elements  of  list\n",
    "\n",
    "2) Modifying  list  'b' is  as  good  as  modifying  list  'a'  becoz  'a'  and  'b'  point  to  same  list\n",
    "'''"
   ]
  },
  {
   "cell_type": "code",
   "execution_count": null,
   "id": "6d67ab0d",
   "metadata": {},
   "outputs": [
    {
     "name": "stdout",
     "output_type": "stream",
     "text": [
      "[10, 20, 30, 40]\n",
      "[50, 60, 70, 80]\n",
      "[10, 20, 30, 40]\n"
     ]
    }
   ],
   "source": [
    "# Find  outputs  (Home  work)\n",
    "def  change(b):\n",
    "\tb  = [50 , 60 , 70 , 80]\n",
    "\tprint(b)\t# [50 , 60 , 70 , 80]\n",
    "# End  of  the  function\n",
    "a = [10 , 20 , 30 , 40]\n",
    "print(a)\t# [10 , 20 , 30 , 40]\n",
    "change(a)\n",
    "print(a)\t# [10 , 20 , 30 , 40]\n",
    "''' \n",
    "[10, 20, 30, 40]\n",
    "[50, 60, 70, 80]\n",
    "[10, 20, 30, 40]'''"
   ]
  },
  {
   "cell_type": "code",
   "execution_count": null,
   "id": "1ea21a8c",
   "metadata": {},
   "outputs": [
    {
     "name": "stdout",
     "output_type": "stream",
     "text": [
      "10\n",
      "20\n",
      "10\n"
     ]
    }
   ],
   "source": [
    "#  Find  outputs  (Home  work)\n",
    "def   f1(x):\n",
    "\tx = 20\n",
    "\tprint(x)\t# 20\n",
    "# End  of   the   function\n",
    "x = 10\n",
    "print(x)\t# 10\n",
    "f1(x)\n",
    "print(x)\t# 10\n",
    "''' 10\n",
    "20\n",
    "10'''"
   ]
  },
  {
   "cell_type": "code",
   "execution_count": null,
   "id": "1d0a3d91",
   "metadata": {},
   "outputs": [
    {
     "name": "stdout",
     "output_type": "stream",
     "text": [
      "(10, 20, 15, 18)\n",
      "(10, 20, 15, 18)\n"
     ]
    }
   ],
   "source": [
    "#  Find  outputs  (Home  work)\n",
    "def  f1(b):\n",
    "\tb[2] = 25 # error bcz tuple is immutable\n",
    "    #pass\n",
    "#end  of  the  function\n",
    "a = (10 , 20 , 15 , 18)\n",
    "print(a)\t# (10 , 20 , 15 , 18)\n",
    "f1(a)\n",
    "print(a)\t# (10 , 20 , 15 , 18)"
   ]
  },
  {
   "cell_type": "code",
   "execution_count": 6,
   "id": "5ae90091",
   "metadata": {},
   "outputs": [
    {
     "name": "stdout",
     "output_type": "stream",
     "text": [
      "25\n",
      "100\n"
     ]
    }
   ],
   "source": [
    "# Find  outputs (Home  work)\n",
    "square = lambda  x = 10  :   x * x\n",
    "print(square(5))    # 25\n",
    "print(square()) # 100"
   ]
  },
  {
   "cell_type": "code",
   "execution_count": null,
   "id": "9688fb65",
   "metadata": {},
   "outputs": [
    {
     "name": "stdout",
     "output_type": "stream",
     "text": [
      "49\n",
      "<function <lambda> at 0x00000160C1DBD8A0>\n",
      "<function <lambda> at 0x00000160C1DBD8A0>\n",
      "625\n",
      "25\n"
     ]
    }
   ],
   "source": [
    "# Find  outputs  (Home  work)\n",
    "print((lambda   x  :   x * x) (7))  # 49\n",
    "print( lambda   x  :  x * x(7)) #  <lambda func> address of function\n",
    "print( lambda   x  :   x * x)   # <lambda func> address of function\n",
    "print( (lambda  x = 25 :  x * x) () )   # 625\n",
    "square = lambda  x :  x  *  x\n",
    "print(square(5))    # 25"
   ]
  },
  {
   "cell_type": "code",
   "execution_count": null,
   "id": "fe248a94",
   "metadata": {},
   "outputs": [
    {
     "name": "stdout",
     "output_type": "stream",
     "text": [
      "<class 'function'>\n",
      "30\n",
      "31.4\n",
      "Hyderabad\n",
      "1\n",
      "35.8\n",
      "(8+10j)\n",
      "<function <lambda> at 0x00000160C244AFC0>\n"
     ]
    }
   ],
   "source": [
    "# Find  output (Home  work)\n",
    "#How  to  define  lambda  function   to  return  sum   of  two  arguments\n",
    "add=lambda a,b:a+b\n",
    "print(type(add))    # <class function>\n",
    "print(add(10 , 20)) # 30\n",
    "print(add(10.6 , 20.8)) # 31.4\n",
    "print(add('Hyder' , 'abad'))    # Hyderabad\n",
    "print(add(True , False))    # 1\n",
    "print(add(25 , 10.8))   # 35.8\n",
    "print(add(3 + 4j , 5 + 6j)) # 8+10j\n",
    "print(add(10 , '20'))   # error bcz can not concatenate string and int\n",
    "print(add())    # error bcz not sending a,b values\n",
    "print(add)  # <lambda function> address of function"
   ]
  },
  {
   "cell_type": "code",
   "execution_count": 12,
   "id": "be70219c",
   "metadata": {},
   "outputs": [
    {
     "name": "stdout",
     "output_type": "stream",
     "text": [
      "30\n",
      "3\n"
     ]
    }
   ],
   "source": [
    "#  Find  outputs (Home  work)\n",
    "add = lambda  a = 1 , b = 2 :  a + b\n",
    "print(add(10 , 20)) # 30\n",
    "print(add())    # 3"
   ]
  },
  {
   "cell_type": "code",
   "execution_count": null,
   "id": "943e300d",
   "metadata": {},
   "outputs": [
    {
     "name": "stdout",
     "output_type": "stream",
     "text": [
      "30\n",
      "31.400000000000002\n",
      "Hyderabad\n",
      "<function <lambda> at 0x00000160C244AB60>\n"
     ]
    }
   ],
   "source": [
    "#  Find  outputs (Home work)\n",
    "print((lambda  x , y : x + y) (10 , 20) )       #30\n",
    "print((lambda  x , y : x + y) (10.8 , 20.6))    # 31.4\n",
    "print((lambda  x , y : x + y) ('Hyder' , 'abad'))   # Hyderabad\n",
    "print(lambda  x , y : x + y  ('Hyder','abad'))  # <lambda func> address of function bcz there is no seperate paranthesis for func"
   ]
  },
  {
   "cell_type": "code",
   "execution_count": null,
   "id": "93b00646",
   "metadata": {},
   "outputs": [
    {
     "name": "stdout",
     "output_type": "stream",
     "text": [
      "20\n",
      "10.7\n",
      "s\n",
      "Rama\n",
      "True\n"
     ]
    }
   ],
   "source": [
    "#  Find  outputs (Home  work)\n",
    "#How  to  define  lambda  to  detrmine  largest  of  two  arguments\n",
    "large=lambda a,b: a if a>b else b \n",
    "print(large(10  ,  20)) # 20\n",
    "print(large(10.7  ,  5.6))  # 10.7\n",
    "print(large('g'  ,  's'))   # s\n",
    "print(large('Rama'  ,  'Rajesh'))   # Rama\n",
    "print(large(True  ,  False))    # True"
   ]
  },
  {
   "cell_type": "code",
   "execution_count": null,
   "id": "9ff1582d",
   "metadata": {},
   "outputs": [
    {
     "name": "stdout",
     "output_type": "stream",
     "text": [
      "8\n",
      "410.0625\n",
      "12.25\n",
      "81\n"
     ]
    }
   ],
   "source": [
    "#Find  outputs (Home  work)\n",
    "power = lambda  a = 3.5 , b = 2  :  a ** b\n",
    "print(power(2 , 3)) # 2^3=8\n",
    "print(power(4.5 , 4))   # 4.5^4= 410.06\n",
    "print(power())  # 3.5^2=12.25\n",
    "print(power(9)) # 9^2= 81"
   ]
  },
  {
   "cell_type": "code",
   "execution_count": null,
   "id": "92770ead",
   "metadata": {},
   "outputs": [
    {
     "name": "stdout",
     "output_type": "stream",
     "text": [
      "<class 'tuple'>\n",
      "(17, 3, 70, 1.4285714285714286)\n",
      "11\n",
      "7\n",
      "18\n",
      "4.5\n"
     ]
    }
   ],
   "source": [
    "# Find  outputs\n",
    "all = lambda  a , b :  (a + b ,  a - b , a * b , a / b)\n",
    "x = all(10 , 7)\n",
    "print(type(x))  # <class tuple>\n",
    "print(x)    # (17    3   70  1.42)\n",
    "p , q , r , s = all(9 , 2)\n",
    "print(p)    # 11\n",
    "print(q)    # 7\n",
    "print(r)    # 18\n",
    "print(s)    # 4.5"
   ]
  },
  {
   "cell_type": "code",
   "execution_count": null,
   "id": "1790793b",
   "metadata": {},
   "outputs": [
    {
     "name": "stdout",
     "output_type": "stream",
     "text": [
      "Hyd\n",
      "<function <lambda> at 0x00000160C239A520>\n"
     ]
    }
   ],
   "source": [
    "#  Find  outputs\n",
    "a  =  lambda  :  'Hyd'\n",
    "print(a())  # Hyd\n",
    "print(a)    # <lambda func> address of func"
   ]
  },
  {
   "cell_type": "code",
   "execution_count": 21,
   "id": "dadea1d6",
   "metadata": {},
   "outputs": [
    {
     "name": "stdout",
     "output_type": "stream",
     "text": [
      "Sec\n",
      "Cyb\n",
      "Hyd\n",
      "None\n"
     ]
    }
   ],
   "source": [
    "# Find  outputs\n",
    "a  =  lambda  :  print('Hyd')  ;  print('Sec');  print('Cyb')\n",
    "print(a())  # Sec < nextline> Cyb <nextline> Hyd"
   ]
  },
  {
   "cell_type": "code",
   "execution_count": null,
   "id": "398a8b5d",
   "metadata": {},
   "outputs": [
    {
     "name": "stdout",
     "output_type": "stream",
     "text": [
      "Sec\n",
      "Cyb\n",
      "<class 'tuple'>\n",
      "(<function <lambda> at 0x00000160C2508400>, None, None)\n",
      "<function <lambda> at 0x00000160C2508400>\n",
      "None\n",
      "None\n",
      "Hyd\n",
      "None\n"
     ]
    }
   ],
   "source": [
    "# Find  outputs   (Home  work)\n",
    "a  =  lambda  :  print('Hyd')  , print('Sec')  , print('Cyb')\n",
    "print(type(a)) #<class tuple>\n",
    "print(a) # func lambda and adress of func \n",
    "for  x  in  a:\n",
    "\tprint(x) #<function <lambda> address of func <nextline> None <nextline> None)\n",
    "# a() # error\n",
    "print(a[0]())\t# Hyd and None"
   ]
  },
  {
   "cell_type": "code",
   "execution_count": null,
   "id": "747c4aac",
   "metadata": {},
   "outputs": [
    {
     "name": "stdout",
     "output_type": "stream",
     "text": [
      "<function <lambda> at 0x00000160C239A520>\n",
      "<function <lambda> at 0x00000160C239A520>\n",
      "Hyd\n",
      "None\n",
      "Hyd\n"
     ]
    }
   ],
   "source": [
    "#  Find  outputs  (Home  work)\n",
    "s = 'Hyd'\n",
    "print(lambda  s  :  print(s))   # func lambda and address of func\n",
    "print(lambda  x  :  print(x) (s)) # func lambda and address of func\n",
    "print((lambda  x  :  print(x)) (s)) # Hyd and None\n",
    "(lambda  x  :  print(x)) (s)    #   # Hyd"
   ]
  },
  {
   "cell_type": "code",
   "execution_count": null,
   "id": "76752603",
   "metadata": {},
   "outputs": [
    {
     "name": "stdout",
     "output_type": "stream",
     "text": [
      "105\n",
      "210\n",
      "700\n"
     ]
    }
   ],
   "source": [
    "# Find outputs  (Home  work)\n",
    "x = 5\n",
    "adder1 = lambda  y , x = x  : x + y\n",
    "x = 10\n",
    "adder2 = lambda  y , x = x : x + y\n",
    "x = 20\n",
    "print(adder1(100))  # 105\n",
    "print(adder2(200))  # 210\n",
    "print(adder1(300 , 400))    # 700"
   ]
  },
  {
   "cell_type": "code",
   "execution_count": null,
   "id": "ac8eaa69",
   "metadata": {},
   "outputs": [
    {
     "name": "stdout",
     "output_type": "stream",
     "text": [
      "25\n",
      "125\n",
      "625\n"
     ]
    }
   ],
   "source": [
    "#Find  outputs  (Home  work)\n",
    "a = [lambda   x  :  x ** 2 , lambda   x  :  x ** 3 ,  lambda   x  :  x ** 4]\n",
    "for   fun   in   a:\n",
    "        print(fun(5))   #  25 <next line> 125 <next line> 625"
   ]
  },
  {
   "cell_type": "code",
   "execution_count": null,
   "id": "fe86650f",
   "metadata": {},
   "outputs": [
    {
     "name": "stdout",
     "output_type": "stream",
     "text": [
      "Hyd\n",
      "Sec\n",
      "[<function f1 at 0x00000160C2508400>, <function f2 at 0x00000160C2509080>]\n"
     ]
    }
   ],
   "source": [
    "#  Find  outputs\n",
    "def   f1():\n",
    "\tprint('Hyd')\n",
    "def   f2():\n",
    "\tprint('Sec')\n",
    "a = [f1 , f2]\n",
    "for  x  in  a:\n",
    "\t     x() # Hyd <next line> Sec\n",
    "a = [def   f1():  print('Hyd') ,  def   f2():  print('Sec')] \t# error\n",
    "print(a)\t#[<function f1 at 0x00000160C1E3DE40>, <function f2 at 0x00000160C1E3FF60>]"
   ]
  },
  {
   "cell_type": "code",
   "execution_count": 30,
   "id": "d6f84836",
   "metadata": {},
   "outputs": [
    {
     "name": "stdout",
     "output_type": "stream",
     "text": [
      "<function <lambda> at 0x00000160C2508F40>\n",
      "125\n"
     ]
    }
   ],
   "source": [
    "# Find output  (Home  work)\n",
    "a = {'power_2'  :  lambda   x  :  x ** 2 ,\n",
    "       'power_3'  :  lambda   x  :  x ** 3 ,\n",
    "  \t   'power_4'  :  lambda   x  :  x ** 4}\n",
    "key = 'power_3'\n",
    "print(a[key]) # <func lambda > and address of func\n",
    "print(a[key](5))     # 5^3= 125"
   ]
  },
  {
   "cell_type": "code",
   "execution_count": null,
   "id": "a5cb790b",
   "metadata": {},
   "outputs": [
    {
     "name": "stdout",
     "output_type": "stream",
     "text": [
      "<class 'function'>\n",
      "<class 'function'>\n",
      "9\n",
      "243\n",
      "<function f1.<locals>.<lambda> at 0x00000160C1E3DE40>\n"
     ]
    }
   ],
   "source": [
    "# Find  outputs  (Home  work)\n",
    "def   f1(x):\n",
    "        return  lambda  n  :  x ** n\n",
    "lamb = f1(3)\n",
    "print(type(f1)) # <class func>\n",
    "print(type(lamb))       # # <class func>\n",
    "print(lamb(2))  # 3^2=9\n",
    "print(lamb(5))# 3^5 =243\n",
    "print(lamb)     # <func lamda> address of func\n",
    "print(lamb())   # error bcz not sending the value"
   ]
  },
  {
   "cell_type": "code",
   "execution_count": null,
   "id": "61464731",
   "metadata": {},
   "outputs": [
    {
     "name": "stdout",
     "output_type": "stream",
     "text": [
      "25\n",
      "33.75\n",
      "69\n"
     ]
    }
   ],
   "source": [
    "# Find  outputs   (Home  work)\n",
    "def   eval(a , b , c):\n",
    "        return   lambda    x  :    a *   x **  2  +   b * x  +  c\n",
    "lam  = eval(3 , 4 , 5)\n",
    "print(lam(2))   # 3 * 2 ** 2 + 4 * 2 + 5=> 3 *4 + 8 + 5=> 12+13 =25\n",
    "print(lam(2.5)) # 33.75\n",
    "print(lam(4))   # 69"
   ]
  },
  {
   "cell_type": "code",
   "execution_count": 34,
   "id": "94c29816",
   "metadata": {},
   "outputs": [
    {
     "name": "stdout",
     "output_type": "stream",
     "text": [
      "30\n",
      "70\n"
     ]
    }
   ],
   "source": [
    "#Nested  lambda  function  (Home  work)\n",
    "add  =  lambda    x = 10   :    lambda   y  :  x  +  y\n",
    "a = add()\n",
    "print(a(20))    # 30\n",
    "print(add(30)(40))  # 70"
   ]
  },
  {
   "cell_type": "code",
   "execution_count": null,
   "id": "56130954",
   "metadata": {},
   "outputs": [
    {
     "name": "stdout",
     "output_type": "stream",
     "text": [
      "[(5, 'Amar', 1300.0), (10, 'Rama', 1000.0), (15, 'Rajesh', 500.0), (18, 'Kiran', 2800.0), (20, 'Sita', 2000.0)]\n",
      "\n",
      "[(20, 'Sita', 2000.0), (18, 'Kiran', 2800.0), (15, 'Rajesh', 500.0), (10, 'Rama', 1000.0), (5, 'Amar', 1300.0)]\n",
      "\n",
      "[(5, 'Amar', 1300.0), (18, 'Kiran', 2800.0), (15, 'Rajesh', 500.0), (10, 'Rama', 1000.0), (20, 'Sita', 2000.0)]\n",
      "\n",
      "[(15, 'Rajesh', 500.0), (10, 'Rama', 1000.0), (5, 'Amar', 1300.0), (20, 'Sita', 2000.0), (18, 'Kiran', 2800.0)]\n",
      "\n",
      "[(5, 'Amar', 1300.0), (10, 'Rama', 1000.0), (15, 'Rajesh', 500.0), (18, 'Kiran', 2800.0), (20, 'Sita', 2000.0)]\n",
      "\n",
      "[(20, 'Sita', 2000.0), (10, 'Rama', 1000.0), (15, 'Rajesh', 500.0), (18, 'Kiran', 2800.0), (5, 'Amar', 1300.0)]\n"
     ]
    }
   ],
   "source": [
    "# Find  outputs\n",
    "a= ((10 , 'Rama' , 1000.0) , (20 , 'Sita' , 2000.0) , (15 ,'Rajesh' , 500.0) ,  (18 , 'Kiran' , 2800.0) , (5 , 'Amar' , 1300.0))\n",
    "b = sorted(a)\n",
    "print(b)    # [(5 , 'Amar' , 1300.0), (10 , 'Rama' , 1000.0), (15 ,'Rajesh' , 500.0) ,  (18 , 'Kiran' , 2800.0) , (20 , 'Sita' , 2000.0) )]\n",
    "print()\n",
    "c = sorted(a , reverse = True)\n",
    "print(c)    #[(20 , 'Sita' , 2000.0), (18 , 'Kiran' , 2800.0), (15 ,'Rajesh' , 500.0), , (10 , 'Rama' , 1000.0), (5 , 'Amar' , 1300.0))]\n",
    "print()\n",
    "d = sorted(a ,  key =  lambda   x  :  x[1])\n",
    "print(d)   # [(5 , 'Amar' , 1300.0), (18 , 'Kiran' , 2800.0), (15 ,'Rajesh' , 500.0), (10 , 'Rama' , 1000.0) , (20 , 'Sita' , 2000.0))]\n",
    "print()\n",
    "e = sorted(a , key =  lambda   x  :  x[2])\n",
    "print(e)    # [(15 ,'Rajesh' , 500.0) , (10 , 'Rama' , 1000.0) ,(5 , 'Amar' , 1300.0), (20 , 'Sita' , 2000.0), (18 , 'Kiran' , 2800.0) )]\n",
    "print()\n",
    "f = sorted(a , key = lambda   x  :  x[0])\n",
    "print(f)    # [(5 , 'Amar' , 1300.0), (10 , 'Rama' , 1000.0), (15 ,'Rajesh' , 500.0) ,  (18 , 'Kiran' , 2800.0) , (20 , 'Sita' , 2000.0) )]\n",
    "print()\n",
    "g = sorted(a , key = lambda  x : x[1] , reverse = True) \n",
    "print(g) #[(20 , 'Sita' , 2000.0) , (10 , 'Rama' , 1000.0), (15 ,'Rajesh' , 500.0), (18 , 'Kiran' , 2800.0), (5 , 'Amar' , 1300.0))]\n",
    "print(sorted(a , key = x[1])) # error"
   ]
  },
  {
   "cell_type": "code",
   "execution_count": null,
   "id": "559f9698",
   "metadata": {},
   "outputs": [
    {
     "name": "stdout",
     "output_type": "stream",
     "text": [
      "[{'Make': 'Tesla', 'Model': 'X', 'Year': 1999}, {'Make': 'Mercedes', 'Model': 'C350E', 'Year': 2008}, {'Make': 'Ford', 'Model': 'Focus', 'Year': 2013}]\n"
     ]
    }
   ],
   "source": [
    "# Find outputs  (Home  work)\n",
    "a = [ {'Make' : 'Ford' , 'Model' : 'Focus' , 'Year' : 2013} ,\n",
    "        {'Make' : 'Tesla' , 'Model' : 'X' , 'Year' : 1999} ,\n",
    "        {'Make' : 'Mercedes' , 'Model' : 'C350E' , 'Year' : 2008} ]\n",
    "b = sorted(a , key = lambda  x  :  x['Year'])\n",
    "print(b)        # [{'Make' : 'Tesla' , 'Model' : 'X' , 'Year' : 1999},{'Make' : 'Mercedes' , 'Model' : 'C350E' , 'Year' : 2008}, {'Make' : 'Ford' , 'Model' : 'Focus' , 'Year' : 2013}]\n",
    "print(sorted(a))        # error"
   ]
  },
  {
   "cell_type": "code",
   "execution_count": null,
   "id": "446e5d09",
   "metadata": {},
   "outputs": [
    {
     "name": "stdout",
     "output_type": "stream",
     "text": [
      "(25, 'Kiran', 1500.0)\n",
      "(15, 'Vamsi', 2000.0)\n",
      "(20, 'Sita', 2800.0)\n",
      "(25, 'Kiran', 1500.0)\n"
     ]
    }
   ],
   "source": [
    "# Find outputs  (Home  work)\n",
    "a = ((10 , 'Rama' , 1000.0) , (20 , 'Sita' , 2800.0) , (15 , 'Vamsi' , 2000.0) , (25 , 'Kiran' , 1500.0) ,  (5 , 'Amar' , 1300.0))\n",
    "print(max(a , key = lambda  x  :  x[0] ))   # (25 , 'Kiran' , 1500.0)\n",
    "print(max(a , key = lambda  x  :  x[1] ))   # (15 , 'Vamsi' , 2000.0)\n",
    "print(max(a , key = lambda  x  :  x[2] ))   # (20 , 'Sita' , 2800.0) \n",
    "print(max(a))   # (25 , 'Kiran' , 1500.0) "
   ]
  },
  {
   "cell_type": "code",
   "execution_count": null,
   "id": "106c403c",
   "metadata": {},
   "outputs": [
    {
     "name": "stdout",
     "output_type": "stream",
     "text": [
      "False\n",
      "False\n"
     ]
    }
   ],
   "source": [
    "# Find  output  (Home  work)\n",
    "add = lambda  x  :   x == 25\n",
    "print(add(10))  # False\n",
    "add = lambda  x = 25 :   x == 35\n",
    "print(add())    # False\n",
    "add = lambda  x  :   x = 25 # Error\n",
    "add = lambda  x  :   x := 25    # error"
   ]
  }
 ],
 "metadata": {
  "kernelspec": {
   "display_name": "Python 3",
   "language": "python",
   "name": "python3"
  },
  "language_info": {
   "codemirror_mode": {
    "name": "ipython",
    "version": 3
   },
   "file_extension": ".py",
   "mimetype": "text/x-python",
   "name": "python",
   "nbconvert_exporter": "python",
   "pygments_lexer": "ipython3",
   "version": "3.12.10"
  }
 },
 "nbformat": 4,
 "nbformat_minor": 5
}

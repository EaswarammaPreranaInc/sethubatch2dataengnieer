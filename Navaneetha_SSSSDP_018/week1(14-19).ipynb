{
 "cells": [
  {
   "cell_type": "markdown",
   "id": "f1c93a94",
   "metadata": {},
   "source": [
    "### 15/07/25"
   ]
  },
  {
   "cell_type": "code",
   "execution_count": null,
   "id": "80ef6456",
   "metadata": {},
   "outputs": [
    {
     "name": "stdout",
     "output_type": "stream",
     "text": [
      "10.8\n",
      "<class 'float'>\n",
      "2081342648112\n",
      "25.0\n",
      "<class 'float'>\n",
      "0.689\n",
      "340.0\n",
      "<class 'float'>\n",
      "0.0962\n"
     ]
    }
   ],
   "source": [
    "# float  object  demo  program (Home  work)\n",
    "a = 10.8\n",
    "print(a)         # 10.8\n",
    "print(type(a))  #<class float>\n",
    "print(id(a))    # may be 1231200\n",
    "b = 25.        \n",
    "print(b)        #25.0\n",
    "print(type(b))  #<class float>\n",
    "c = .689       \n",
    "print(c)        #0.689\n",
    "d = 3.4E2       \n",
    "print(d)        #3.4*10^2\n",
    "print(type(d))  #<class float>\n",
    "e = 9.62e-2\n",
    "print(e)        # 9.62*10^-2\n",
    "print(9.8.2)    # Error"
   ]
  },
  {
   "cell_type": "code",
   "execution_count": 4,
   "id": "8632ea3f",
   "metadata": {},
   "outputs": [
    {
     "name": "stdout",
     "output_type": "stream",
     "text": [
      "(3+4j)\n",
      "<class 'complex'>\n",
      "2446328820944\n",
      "3.0\n",
      "4.0\n",
      "<class 'float'>\n",
      "<class 'float'>\n"
     ]
    }
   ],
   "source": [
    "# complex object demo program\n",
    "a = 3 + 4j\n",
    "print(a)            #3+4j\n",
    "print(type(a))      #<class complex>\n",
    "print(id(a))        # may be 102101\n",
    "print(a . real)     # 3.0\n",
    "print(a . imag)     # 4.0\n",
    "print(type(a . real))   # <class float>\n",
    "print(type(a . imag))   # <class float>"
   ]
  },
  {
   "cell_type": "code",
   "execution_count": null,
   "id": "f3b9648c",
   "metadata": {},
   "outputs": [
    {
     "name": "stdout",
     "output_type": "stream",
     "text": [
      "6j\n",
      "<class 'complex'>\n",
      "0.0\n",
      "6.0\n",
      "(4+1j)\n",
      "(4+0j)\n"
     ]
    }
   ],
   "source": [
    "# Find outputs (Home work)\n",
    "a = 6j\n",
    "print(a)        # 6j\n",
    "print(type(a))  # <class complex>\n",
    "print(a.real)   # 0.0\n",
    "print(a.imag)   # 6.0\n",
    "print(5 + j6)  # Error due to 'j' is before 6\n",
    "print(3 + 4i)  # Error due to  'i'\n",
    "print(4+j)     # Error- we need to write at least '1' before 'j'\n",
    "print(4 + 1j)   # 4+1j\n",
    "print(4 + 0j)   #4+0j"
   ]
  },
  {
   "cell_type": "code",
   "execution_count": null,
   "id": "5e2a5372",
   "metadata": {},
   "outputs": [
    {
     "name": "stdout",
     "output_type": "stream",
     "text": [
      "True\n",
      "<class 'bool'>\n",
      "140706418268176\n",
      "False\n",
      "<class 'bool'>\n",
      "2\n",
      "1\n",
      "1\n",
      "0\n",
      "3\n",
      "36.8\n",
      "True\n",
      "True\n",
      "False\n"
     ]
    }
   ],
   "source": [
    "# bool object demo program  (Home  work)\n",
    "a = True\n",
    "print(a)        # True\n",
    "print(type(a))  # <class bool>\n",
    "print(id(a))    # may be 1000\n",
    "b = False       \n",
    "print(b)        # False\n",
    "print(type(b))  # <class bool>\n",
    "print(True + True)  # 2\n",
    "print(True + False) # 1\n",
    "print(False + True) # 1\n",
    "print(False + False)    # 0\n",
    "print(True + True + True)   # 3\n",
    "print(25 + 10.8 + True) # 36.8\n",
    "print(True > False)     # True\n",
    "print(True)         # True\n",
    "print(False)        # False\n",
    "print(true)         # error due to 't'\n",
    "print(false)        # error dut to 'f'"
   ]
  },
  {
   "cell_type": "code",
   "execution_count": null,
   "id": "067a2498",
   "metadata": {},
   "outputs": [
    {
     "name": "stdout",
     "output_type": "stream",
     "text": [
      "3239\n",
      "<class 'int'>\n",
      "2056685792240\n",
      "2056685790576\n",
      "3239\n",
      "3239\n",
      "2056685791792\n"
     ]
    }
   ],
   "source": [
    "# Find  outputs (Home  work)\n",
    "a = 0O6247\n",
    "print(a)        # 3249\n",
    "print(type(a))  #<class int>\n",
    "print(id(a))    # may be 2108210\n",
    "b = 0o6247      \n",
    "print(id(b))    #same address\n",
    "print(b)        #3249  \n",
    "c = 3239\n",
    "print(c)        # 3239\n",
    "print(id(c))    #same address\n",
    "#print(0o9248)   # error due to '9' - octal int contain 0-7"
   ]
  },
  {
   "cell_type": "code",
   "execution_count": null,
   "id": "c4fb101f",
   "metadata": {},
   "outputs": [
    {
     "name": "stdout",
     "output_type": "stream",
     "text": [
      "42937\n",
      "<class 'int'>\n",
      "48879\n",
      "A7B9\n"
     ]
    }
   ],
   "source": [
    "# Find  outputs  (Home  work)\n",
    "a = 0XA7B9\n",
    "print(a) # 42937\n",
    "print(type(a))  #<classs int>\n",
    "b = 0xBEEF \n",
    "print(b)    #48879\n",
    "print(A7B9) # error due to 'A7B9'\n",
    "print('A7B9')   # Error due to A7B9\n"
   ]
  },
  {
   "cell_type": "code",
   "execution_count": 12,
   "id": "a8b404c3",
   "metadata": {},
   "outputs": [
    {
     "name": "stdout",
     "output_type": "stream",
     "text": [
      "9248\n",
      "<class 'int'>\n"
     ]
    }
   ],
   "source": [
    "# Find outputs (Home  work)\n",
    "a = 9248\n",
    "print(a) # 9248\n",
    "print(type(a)) # <class int>"
   ]
  },
  {
   "cell_type": "markdown",
   "id": "b7032b40",
   "metadata": {},
   "source": [
    "16/07/25--- sequence"
   ]
  },
  {
   "cell_type": "code",
   "execution_count": null,
   "id": "f1f2ad8c",
   "metadata": {},
   "outputs": [
    {
     "name": "stdout",
     "output_type": "stream",
     "text": [
      "Rama Rao\n",
      "<class 'str'>\n",
      "2681571989488\n",
      "Hyd\n",
      "Hyd is green city.\n",
      "Hyd is hitec city.\n",
      "Hyd is beautiful city.\n"
     ]
    }
   ],
   "source": [
    "#  Find  outputs  (Home  work)\n",
    "a = \"Rama Rao\"\n",
    "print(a)    # Rama Rao\n",
    "print(type(a))  # <class 'str'>\n",
    "print(id(a))    # may be 2108310\n",
    "b = 'Hyd'\n",
    "print(b)        # Hyd\n",
    "c = '''Hyd is green city.\n",
    "Hyd is hitec city.\n",
    "Hyd is beautiful city.'''\n",
    "print(c) #Hyd is green city.\n",
    "        # Hyd is hitec city.\n",
    "        # Hyd is beautiful city."
   ]
  },
  {
   "cell_type": "code",
   "execution_count": null,
   "id": "8010daf5",
   "metadata": {},
   "outputs": [
    {
     "name": "stdout",
     "output_type": "stream",
     "text": [
      "2\n",
      "r\n"
     ]
    }
   ],
   "source": [
    "# Index   demo  program  (Home  work)\n",
    "a = 'Hyd'\n",
    "print(a[0])#(How  to  print  'H'  of  object  'a')   \n",
    "print(a[1]) #(How  to  print  'y'  of  object  'a')    \n",
    "print(a[2]) #(How  to  print  'd'  of  object  'a')     \n",
    "print(a[3]) # error\n",
    "print(a[-1])#(How  to  print  'd'  of  object  'a')     \n",
    "print(a[-2]) #(How  to  print  'y'  of  object  'a')     \n",
    "print(a[-3]) #(How  to  print  'H'  of  object  'a')     \n",
    "print(a[-4])    # error\n",
    "print(a[0] ==  a[-3])   # True\n",
    "a[2] = 'c'      \n",
    "print(25[0])       #error due to 'int'\n",
    "print('25'[0])      # 2\n",
    "print(True[1])     # error due to 'bool'\n",
    "print('True'[1])    # r"
   ]
  },
  {
   "cell_type": "code",
   "execution_count": null,
   "id": "95f476af",
   "metadata": {},
   "outputs": [
    {
     "name": "stdout",
     "output_type": "stream",
     "text": [
      "HydHydHyd\n",
      "HydHyd\n",
      "Hyd\n",
      "\n",
      "\n",
      "75\n",
      "252525\n",
      "HydHydHyd\n",
      "25\n"
     ]
    }
   ],
   "source": [
    "#  Find  outputs  (Home work)\n",
    "a = 'Hyd'\n",
    "print(a * 3)    # HydHydHyd\n",
    "print(a * 2)    # HydHyd\n",
    "print(a * 1)    # Hyd\n",
    "print(a * 0)    # empty ''\n",
    "print(a * -1)   # empty ''\n",
    "print(25 * 3)   # 75\n",
    "print('25' * 3) # 252525\n",
    "#print('25' * 4.0)   # error due to 'float'\n",
    "print(3 * 'Hyd')    # HydHydHyd\n",
    "print('25' * True)  # 25"
   ]
  },
  {
   "cell_type": "code",
   "execution_count": null,
   "id": "35be9c22",
   "metadata": {},
   "outputs": [
    {
     "name": "stdout",
     "output_type": "stream",
     "text": [
      "Hyd 2681571880384\n",
      "HydHydHyd 2681578346864\n"
     ]
    }
   ],
   "source": [
    "#  Find  outputs  (Home work)\n",
    "a = 'Hyd'\n",
    "print(a , id(a))    # Hyd 2134576\n",
    "a = a * 3\n",
    "print(a , id(a))    # HydHydHyd 12345098"
   ]
  },
  {
   "cell_type": "code",
   "execution_count": null,
   "id": "8ef3e52f",
   "metadata": {},
   "outputs": [
    {
     "name": "stdout",
     "output_type": "stream",
     "text": [
      "3\n",
      "8\n",
      "4\n",
      "0\n",
      "1\n"
     ]
    },
    {
     "ename": "TypeError",
     "evalue": "object of type 'int' has no len()",
     "output_type": "error",
     "traceback": [
      "\u001b[31m---------------------------------------------------------------------------\u001b[39m",
      "\u001b[31mTypeError\u001b[39m                                 Traceback (most recent call last)",
      "\u001b[36mCell\u001b[39m\u001b[36m \u001b[39m\u001b[32mIn[13]\u001b[39m\u001b[32m, line 7\u001b[39m\n\u001b[32m      5\u001b[39m \u001b[38;5;28mprint\u001b[39m(\u001b[38;5;28mlen\u001b[39m(\u001b[33m'\u001b[39m\u001b[33m'\u001b[39m))  \u001b[38;5;66;03m# 0\u001b[39;00m\n\u001b[32m      6\u001b[39m \u001b[38;5;28mprint\u001b[39m(\u001b[38;5;28mlen\u001b[39m(\u001b[33m'\u001b[39m\u001b[33m \u001b[39m\u001b[33m'\u001b[39m)) \u001b[38;5;66;03m# 1\u001b[39;00m\n\u001b[32m----> \u001b[39m\u001b[32m7\u001b[39m \u001b[38;5;28mprint\u001b[39m(\u001b[38;5;28;43mlen\u001b[39;49m\u001b[43m(\u001b[49m\u001b[32;43m689\u001b[39;49m\u001b[43m)\u001b[49m) \u001b[38;5;66;03m# 3\u001b[39;00m\n",
      "\u001b[31mTypeError\u001b[39m: object of type 'int' has no len()"
     ]
    }
   ],
   "source": [
    "# len()  function  (Home  work)\n",
    "print(len('Hyd'))       # 3\n",
    "print(len('Rama Rao'))  # 8\n",
    "print(len('9247'))  # 4\n",
    "print(len(''))  # 0\n",
    "print(len(' ')) # 1\n",
    "print(len(689)) # error due to 'int'"
   ]
  },
  {
   "cell_type": "code",
   "execution_count": null,
   "id": "830abed2",
   "metadata": {},
   "outputs": [
    {
     "name": "stdout",
     "output_type": "stream",
     "text": [
      "4\n",
      "\"\n",
      "\"\"Hyd\n",
      "5\n"
     ]
    }
   ],
   "source": [
    "# Find  outputs  (Home  work)\n",
    "a = \"\"\"\"Hyd\"\"\"\n",
    "print(a)    #Error \n",
    "print(len(a))   # 4\n",
    "print(a[0]) # \"\n",
    "print(\"\"\"Hyd\"\"\"\")  # error\n",
    "b = \"\"\"\"\"Hyd\"\"\"\n",
    "print(b)    # \"\"Hyd\n",
    "print(len(b))   # 5"
   ]
  },
  {
   "cell_type": "code",
   "execution_count": null,
   "id": "c962a11b",
   "metadata": {},
   "outputs": [
    {
     "name": "stdout",
     "output_type": "stream",
     "text": [
      "Dayal\n",
      "Dayal Sarma\n",
      "Sankar\n",
      "Sankar Dayal Sarma\n",
      "Sankar Dayal Sarma\n",
      "akrDy\n",
      "Sna aa am\n",
      "akrDylSra\n",
      "Sarm\n",
      "amraS layaD raknaS\n",
      "amra\n",
      "arSlyDrka\n",
      "kar Dayal Sa\n",
      "nkar Dayal \n",
      "\n",
      "\n"
     ]
    }
   ],
   "source": [
    "# Find  outputs\n",
    "a = 'Sankar Dayal Sarma'\n",
    "print(a[7 : 12])    # Dayal\n",
    "print(a[7 : ])  #Dayal Sarma\n",
    "print(a[ : 6])  #Sankar\n",
    "print(a[ : ])  #  a[ 0 :  18  : 1]  --->   string  from  indexes  0  to  17  in  steps  of   1  i.e.  Sankar<space>Dayal<space>Sarma\n",
    "print(a[:  : ]) # Sankar Dayal Sarma\n",
    "print(a[1 : 10 : 2])    # akrdy\n",
    "print(a[0 : : 2])       #sna aa am\n",
    "print(a[1 : : 2])   # akrDylsra\n",
    "print(a[-5 : -1])   # Sarm\n",
    "print(a[::-1])  #amraS layaD raknaS\n",
    "print(a[-1:-5:-1])  # amra\n",
    "print(a[ : : -2]) #   a[-1 :  -19 : -2]  --->  string  from  indexes  -1  to  -18  in  steps  of   -2  i.e.  arSlyDrka\n",
    "print(a[3 : -3])    #kar Dayal Sa\n",
    "print(a[2 : -5])    #nkar Dayal \n",
    "print(a[-1:-5])     # ''\n",
    "print(a[3 : 3])     # ''\n",
    "\n",
    "\n",
    "#   0      1      2      3      4       5       6           7       8       9     10     11     12           13     14       15      16     17\n",
    "#   S      a      n      k      a       r                    D       a      y     a       l                  S       a         r       m       a\n",
    "#  -18   -17   -16      -15    -14     -13      -12        -11     -10    -9     -8    -7      -6            -5      -4       -3      -2      -1"
   ]
  },
  {
   "cell_type": "code",
   "execution_count": null,
   "id": "5587ecb4",
   "metadata": {},
   "outputs": [
    {
     "name": "stdout",
     "output_type": "stream",
     "text": [
      "\n"
     ]
    }
   ],
   "source": [
    "#  Find  outputs  (Home  work)\n",
    "a =  'A'\n",
    "#print(a[1]) # error\n",
    "print(a[1:])    # ''"
   ]
  },
  {
   "cell_type": "code",
   "execution_count": null,
   "id": "f1a15a7a",
   "metadata": {},
   "outputs": [
    {
     "name": "stdout",
     "output_type": "stream",
     "text": [
      "10\n",
      "1\n",
      "0\n",
      "25\n",
      "75\n",
      "26\n",
      "26\n",
      "3239\n",
      "3239\n",
      "42937\n",
      "42937\n"
     ]
    },
    {
     "ename": "ValueError",
     "evalue": "invalid literal for int() with base 10: 'Ten'",
     "output_type": "error",
     "traceback": [
      "\u001b[31m---------------------------------------------------------------------------\u001b[39m",
      "\u001b[31mValueError\u001b[39m                                Traceback (most recent call last)",
      "\u001b[36mCell\u001b[39m\u001b[36m \u001b[39m\u001b[32mIn[24]\u001b[39m\u001b[32m, line 15\u001b[39m\n\u001b[32m     12\u001b[39m \u001b[38;5;28mprint\u001b[39m(\u001b[32m0XA7B9\u001b[39m)   \u001b[38;5;66;03m# 42937\u001b[39;00m\n\u001b[32m     13\u001b[39m \u001b[38;5;66;03m#print(int(3 + 4j))  # error due to complex\u001b[39;00m\n\u001b[32m     14\u001b[39m \u001b[38;5;66;03m#print(int('25.4'))  # Error \u001b[39;00m\n\u001b[32m---> \u001b[39m\u001b[32m15\u001b[39m \u001b[38;5;28mprint\u001b[39m(\u001b[38;5;28;43mint\u001b[39;49m\u001b[43m(\u001b[49m\u001b[33;43m'\u001b[39;49m\u001b[33;43mTen\u001b[39;49m\u001b[33;43m'\u001b[39;49m\u001b[43m)\u001b[49m)\n\u001b[32m     19\u001b[39m \u001b[33;03m'''\u001b[39;00m\n\u001b[32m     20\u001b[39m \u001b[33;03mint()  function\u001b[39;00m\n\u001b[32m     21\u001b[39m \u001b[33;03m----------------\u001b[39;00m\n\u001b[32m     22\u001b[39m \u001b[33;03m1) What  does  int(x)  do  ?  --->  Converts  object  'x'  to  integer'''\u001b[39;00m\n",
      "\u001b[31mValueError\u001b[39m: invalid literal for int() with base 10: 'Ten'"
     ]
    }
   ],
   "source": [
    "# int()  function  demo  program\n",
    "print(int(10.8))  #  Converts  float   object  10.8  to  int  object  10\n",
    "print(int(True))  #  Converts  bool   object    True  to  int  object 1\n",
    "print(int(False))   # Converts  bool   object    Flase  to  int  object 0\n",
    "print(int('25'))  # converts string object '25' to int object 25\n",
    "print(int('0075')) #75\n",
    "print(int(0B11010)) # 26\n",
    "print(0B11010)  #26\n",
    "print(int(0O6247))  # 3239\n",
    "print(0O6247)    # 3239\n",
    "print(int(0XA7B9))  # 42937\n",
    "print(0XA7B9)   # 42937\n",
    "print(int(3 + 4j))  # error due to complex\n",
    "print(int('25.4'))  # Error \n",
    "print(int('Ten'))   # error\n",
    "\n",
    "\n",
    "\n",
    "'''\n",
    "int()  function\n",
    "----------------\n",
    "1) What  does  int(x)  do  ?  --->  Converts  object  'x'  to  integer'''"
   ]
  },
  {
   "cell_type": "code",
   "execution_count": null,
   "id": "f953cf5e",
   "metadata": {},
   "outputs": [
    {
     "name": "stdout",
     "output_type": "stream",
     "text": [
      "25.0\n",
      "1.0\n",
      "0.0\n",
      "92.0\n",
      "36.4\n",
      "75.0\n",
      "85.0\n",
      "3239.0\n",
      "42937.0\n"
     ]
    },
    {
     "ename": "ValueError",
     "evalue": "could not convert string to float: 'Ten'",
     "output_type": "error",
     "traceback": [
      "\u001b[31m---------------------------------------------------------------------------\u001b[39m",
      "\u001b[31mValueError\u001b[39m                                Traceback (most recent call last)",
      "\u001b[36mCell\u001b[39m\u001b[36m \u001b[39m\u001b[32mIn[27]\u001b[39m\u001b[32m, line 12\u001b[39m\n\u001b[32m     10\u001b[39m \u001b[38;5;28mprint\u001b[39m(\u001b[38;5;28mfloat\u001b[39m(\u001b[32m0XA7B9\u001b[39m))    \u001b[38;5;66;03m# 42937.0\u001b[39;00m\n\u001b[32m     11\u001b[39m \u001b[38;5;66;03m#print(float(3 + 4j))    # error\u001b[39;00m\n\u001b[32m---> \u001b[39m\u001b[32m12\u001b[39m \u001b[38;5;28mprint\u001b[39m(\u001b[38;5;28;43mfloat\u001b[39;49m\u001b[43m(\u001b[49m\u001b[33;43m'\u001b[39;49m\u001b[33;43mTen\u001b[39;49m\u001b[33;43m'\u001b[39;49m\u001b[43m)\u001b[49m)     \u001b[38;5;66;03m#error\u001b[39;00m\n\u001b[32m     18\u001b[39m \u001b[33;03m'''\u001b[39;00m\n\u001b[32m     19\u001b[39m \u001b[33;03mfloat()   function\u001b[39;00m\n\u001b[32m     20\u001b[39m \u001b[33;03m--------------------\u001b[39;00m\n\u001b[32m     21\u001b[39m \u001b[33;03m1) What  does  float(x)  do  ?  --->  Converts  object  'x'  to  float'''\u001b[39;00m\n",
      "\u001b[31mValueError\u001b[39m: could not convert string to float: 'Ten'"
     ]
    }
   ],
   "source": [
    "# float()  function  demo  program\n",
    "print(float(25))  #  Converts  int  object  25  to  float  object   25.0\n",
    "print(float(True))   #  Converts  bool  object   True   to  float  object   1.0\n",
    "print(float(False)) # 0.0\n",
    "print(float('92'))  # 92.0\n",
    "print(float('36.4')) #36.4\n",
    "print(float('0075'))    #75.0\n",
    "print(float(0B1010101)) # 85.0\n",
    "print(float(0O6247))    # 3239.0\n",
    "print(float(0XA7B9))    # 42937.0\n",
    "#print(float(3 + 4j))    # error due to complex\n",
    "print(float('Ten'))     #error due to str\n",
    "\n",
    "\n",
    "\n",
    "\n",
    "\n",
    "'''\n",
    "float()   function\n",
    "--------------------\n",
    "1) What  does  float(x)  do  ?  --->  Converts  object  'x'  to  float'''"
   ]
  },
  {
   "cell_type": "code",
   "execution_count": null,
   "id": "272a20a4",
   "metadata": {},
   "outputs": [
    {
     "name": "stdout",
     "output_type": "stream",
     "text": [
      "(3+4j)\n",
      "4j\n",
      "(3+0j)\n",
      "(3.8+4.6j)\n",
      "(3.8+0j)\n",
      "(3+4.5j)\n",
      "(1+0j)\n",
      "(1+0j)\n",
      "0j\n",
      "(1+4j)\n",
      "(3+0j)\n",
      "(3.8+0j)\n"
     ]
    },
    {
     "ename": "ValueError",
     "evalue": "complex() arg is a malformed string",
     "output_type": "error",
     "traceback": [
      "\u001b[31m---------------------------------------------------------------------------\u001b[39m",
      "\u001b[31mValueError\u001b[39m                                Traceback (most recent call last)",
      "\u001b[36mCell\u001b[39m\u001b[36m \u001b[39m\u001b[32mIn[4]\u001b[39m\u001b[32m, line 17\u001b[39m\n\u001b[32m     13\u001b[39m \u001b[38;5;28mprint\u001b[39m(\u001b[38;5;28mcomplex\u001b[39m(\u001b[33m'\u001b[39m\u001b[33m3.8\u001b[39m\u001b[33m'\u001b[39m))   \u001b[38;5;66;03m#(3.8+0j)\u001b[39;00m\n\u001b[32m     14\u001b[39m \u001b[38;5;66;03m#print(complex(3 , '4')) # error due to 'str'\u001b[39;00m\n\u001b[32m     15\u001b[39m \u001b[38;5;66;03m#print(complex('3' , 4)) # error due to second arg\u001b[39;00m\n\u001b[32m     16\u001b[39m \u001b[38;5;66;03m#print(complex('3' , '4')) # error due to second arg\u001b[39;00m\n\u001b[32m---> \u001b[39m\u001b[32m17\u001b[39m \u001b[38;5;28mprint\u001b[39m(\u001b[38;5;28;43mcomplex\u001b[39;49m\u001b[43m(\u001b[49m\u001b[33;43m'\u001b[39;49m\u001b[33;43mTen\u001b[39;49m\u001b[33;43m'\u001b[39;49m\u001b[43m)\u001b[49m)   \n",
      "\u001b[31mValueError\u001b[39m: complex() arg is a malformed string"
     ]
    }
   ],
   "source": [
    "# complex()  function  demo  program\n",
    "print(complex(3 , 4))   # (3+4j)\n",
    "print(complex(0 , 4))   #  4j\n",
    "print(complex(3))   #(3+0j)\n",
    "print(complex(3.8 , 4.6))   # (3.8+4.6j)\n",
    "print(complex(3.8)) #(3.8+0j)\n",
    "print(complex(3 , 4.5)) # (3+4.5j)\n",
    "print(complex(True , False)) # (1+0j)\n",
    "print(complex(True))    # (1+0j)\n",
    "print(complex(False))   #0j\n",
    "print(complex(True , 4))    # (1+4j)\n",
    "print(complex('3')) #(3+0j)\n",
    "print(complex('3.8'))   #(3.8+0j)\n",
    "print(complex(3 , '4')) # error due to 'str'\n",
    "print(complex('3' , 4)) # error due to second arg\n",
    "print(complex('3' , '4')) # error due to second arg\n",
    "print(complex('Ten'))   # error"
   ]
  },
  {
   "cell_type": "code",
   "execution_count": null,
   "id": "5841a5cb",
   "metadata": {},
   "outputs": [
    {
     "name": "stdout",
     "output_type": "stream",
     "text": [
      "False\n",
      "True\n",
      "True\n",
      "True\n",
      "True\n",
      "False\n",
      "True\n",
      "False\n",
      "True\n",
      "True\n",
      "True\n",
      "False\n",
      "True\n",
      "True\n",
      "True\n"
     ]
    },
    {
     "data": {
      "text/plain": [
       "\"\\nbool()  function\\n------------------\\n1) What  does  bool(x)  do  ?  --->  Converts  object  'x'  to  True / False\\n\\n2) Is  0  True  (or)  False ? --->  False\\n    What  about  non-zero ?  --->  True\\n\\n3) Is  ''(i.e.  Empty  string)  True  (or) False ?  --->  False\\n    What  about  non-empty  string ?  --->\\tTrue\\n\\n4) When  is  x + yj  treated  as  False ?  --->  When  both  'x'  and  'y'  are  zeroes\\n     When  is  x + yj  treated  as  True ?  --->  When  either  'x'  is   non-zero  (or)  'y'  is  non-zero\\n\""
      ]
     },
     "execution_count": 8,
     "metadata": {},
     "output_type": "execute_result"
    }
   ],
   "source": [
    "#  bool()  function  demo  program\n",
    "print(bool(0))  # False\n",
    "print(bool(10))     # True :  10  is  non-zero\n",
    "print(bool(-25))    # True\n",
    "print(bool(-25))    # True\n",
    "print(bool(-25))    # True\n",
    "print(bool(0.0))    #True\n",
    "print(bool(0.1))    #False\n",
    "print(bool(0 + 0j)) #True\n",
    "print(bool(10 + 20j))#True\n",
    "print(bool(-15j)) # False\n",
    "print(bool('False')) # True\n",
    "print(bool('')) # False\n",
    "print(bool('Hyd'))  # True\n",
    "print(bool(' ')) # True\n",
    "print(bool('True'))# True\n",
    "'''\n",
    "bool()  function\n",
    "------------------\n",
    "1) What  does  bool(x)  do  ?  --->  Converts  object  'x'  to  True / False\n",
    "\n",
    "2) Is  0  True  (or)  False ? --->  False\n",
    "    What  about  non-zero ?  --->  True\n",
    "\n",
    "3) Is  ''(i.e.  Empty  string)  True  (or) False ?  --->  False\n",
    "    What  about  non-empty  string ?  --->\tTrue\n",
    "\n",
    "4) When  is  x + yj  treated  as  False ?  --->  When  both  'x'  and  'y'  are  zeroes\n",
    "     When  is  x + yj  treated  as  True ?  --->  When  either  'x'  is   non-zero  (or)  'y'  is  non-zero\n",
    "'''"
   ]
  },
  {
   "cell_type": "code",
   "execution_count": null,
   "id": "d81185c6",
   "metadata": {},
   "outputs": [
    {
     "name": "stdout",
     "output_type": "stream",
     "text": [
      "25\n",
      "10.8\n",
      "(3+4j)\n",
      "True\n",
      "False\n",
      "None\n"
     ]
    },
    {
     "data": {
      "text/plain": [
       "\"\\nWhat  does  str(x)  do ?  --->  Converts  object  'x'  to  string\\n\""
      ]
     },
     "execution_count": 9,
     "metadata": {},
     "output_type": "execute_result"
    }
   ],
   "source": [
    "# str()  function  demo  program\n",
    "print(str(25))  #  Converts   25  to  '25'\n",
    "print(str(10.8)) # 10.8\n",
    "print(str(3 + 4j)) # (3+4j)\n",
    "print(str(True))# True\n",
    "print(str(False))#False\n",
    "print(str(None)) # None\n",
    "\n",
    "\n",
    "'''\n",
    "What  does  str(x)  do ?  --->  Converts  object  'x'  to  string\n",
    "'''"
   ]
  },
  {
   "cell_type": "code",
   "execution_count": null,
   "id": "c99a06ac",
   "metadata": {},
   "outputs": [
    {
     "name": "stdout",
     "output_type": "stream",
     "text": [
      "0o303\n",
      "0o2562\n",
      "0o123671\n"
     ]
    },
    {
     "data": {
      "text/plain": [
       "\"\\noct()  function\\n-----------------\\n1) What  does  oct(x)  do ?  --->  Converts  object  'x'  to  octal  number  where\\n\\t\\t\\t\\t\\t\\t\\t\\t                    'x'  can  be  binary / decimal / hexa-decimal  number\""
      ]
     },
     "execution_count": 10,
     "metadata": {},
     "output_type": "execute_result"
    }
   ],
   "source": [
    "# oct()  function  demo  program\n",
    "print(oct(195)) #0o303\n",
    "print(oct(0B10101110010)) # 0o2562\n",
    "print(oct(0xA7B9))\t# 0o123671\n",
    "'''\n",
    "oct()  function\n",
    "-----------------\n",
    "1) What  does  oct(x)  do ?  --->  Converts  object  'x'  to  octal  number  where\n",
    "\t\t\t\t\t\t\t\t                    'x'  can  be  binary / decimal / hexa-decimal  number'''"
   ]
  },
  {
   "cell_type": "code",
   "execution_count": null,
   "id": "b560dc54",
   "metadata": {},
   "outputs": [
    {
     "name": "stdout",
     "output_type": "stream",
     "text": [
      "0x19\n",
      "0x2bd7\n",
      "0xca7\n"
     ]
    },
    {
     "data": {
      "text/plain": [
       "\"\\nhex()  function\\n------------------\\n1) What  does  hex(x)  do ?  --->  Converts  object  'x'  to  hexa-decimal  number  where\\n\\t\\t\\t\\t\\t\\t\\t\\t                     'x'  can  be  binary / decimal / octal  number\""
      ]
     },
     "execution_count": 12,
     "metadata": {},
     "output_type": "execute_result"
    }
   ],
   "source": [
    "# hex()  function  demo  program\n",
    "print(hex(25)) #0x19\n",
    "print(hex(0B10101111010111)) #(11223)0x2bd7\n",
    "print(hex(0O6247)) # (3239) 0xca7\n",
    "\n",
    "'''\n",
    "hex()  function\n",
    "------------------\n",
    "1) What  does  hex(x)  do ?  --->  Converts  object  'x'  to  hexa-decimal  number  where\n",
    "\t\t\t\t\t\t\t\t                     'x'  can  be  binary / decimal / octal  number'''"
   ]
  },
  {
   "cell_type": "markdown",
   "id": "e9bd9a91",
   "metadata": {},
   "source": [
    "17/07/25"
   ]
  },
  {
   "cell_type": "code",
   "execution_count": null,
   "id": "164732d1",
   "metadata": {},
   "outputs": [
    {
     "name": "stdout",
     "output_type": "stream",
     "text": [
      "<class 'range'>\n",
      "range(10, 50, 5)\n",
      "10 15 20 25 30 35 40 45\n",
      "2549895699248\n",
      "8\n",
      "20 , 25 , 30 , 35 , 40\n",
      "45 40 35 30 25 20 15 10\n"
     ]
    },
    {
     "ename": "TypeError",
     "evalue": "unsupported operand type(s) for *: 'range' and 'int'",
     "output_type": "error",
     "traceback": [
      "\u001b[31m---------------------------------------------------------------------------\u001b[39m",
      "\u001b[31mTypeError\u001b[39m                                 Traceback (most recent call last)",
      "\u001b[36mCell\u001b[39m\u001b[36m \u001b[39m\u001b[32mIn[2]\u001b[39m\u001b[32m, line 21\u001b[39m\n\u001b[32m     17\u001b[39m \u001b[38;5;28mprint\u001b[39m(*a[ : : -\u001b[32m1\u001b[39m])  \u001b[38;5;66;03m# 45 40 35 30 25 20 15 10\u001b[39;00m\n\u001b[32m     19\u001b[39m \u001b[38;5;66;03m#a[4] = 32   #   error due to immutable\u001b[39;00m\n\u001b[32m---> \u001b[39m\u001b[32m21\u001b[39m \u001b[38;5;28mprint\u001b[39m(\u001b[43ma\u001b[49m\u001b[43m \u001b[49m\u001b[43m*\u001b[49m\u001b[43m \u001b[49m\u001b[32;43m2\u001b[39;49m)\n",
      "\u001b[31mTypeError\u001b[39m: unsupported operand type(s) for *: 'range' and 'int'"
     ]
    }
   ],
   "source": [
    "# Find  outputs    (Home  work)\n",
    "\n",
    "a = range(10 , 50 , 5)\n",
    "\n",
    "print(type(a)) # <class 'range'>\n",
    "\n",
    "print(a)    #range(10,50,5)\n",
    "\n",
    "print(*a)   # 10 15 20 25 30 35 40 45\n",
    "\n",
    "print(id(a))    # may be 23456\n",
    "\n",
    "print(len(a))   # 8\n",
    "\n",
    "print(*a[2 : 7] , sep = ' , ')  # 20,25,30,35,40\n",
    "\n",
    "print(*a[ : : -1])  # 45 40 35 30 25 20 15 10\n",
    "\n",
    "a[4] = 32   #   error due to immutable\n",
    "\n",
    "print(a * 2)    # error due to int"
   ]
  },
  {
   "cell_type": "code",
   "execution_count": 2,
   "id": "32d5ee91",
   "metadata": {},
   "outputs": [
    {
     "name": "stdout",
     "output_type": "stream",
     "text": [
      "10,11,12,13,14,15,16,17,18,19\n",
      "0 1 2 3 4\n",
      "10...9...8...7...6...5...4...3...2\n",
      "-10 -9 -8 -7 -6 -5 -4 -3 -2 -1\n",
      "\n",
      "\n"
     ]
    }
   ],
   "source": [
    "#  Find  outputs  (Home  work)\n",
    "a = range(10 , 20)\n",
    "print(*a , sep = ',')   # 10,11,12,13,14,15,16,17,18,19\n",
    "b = range(5)    \n",
    "print(*b)   # 0 1 2 3 4\n",
    "c = range(10 , 1 , -1)\n",
    "print(*c , sep = '...') # 10...9...8...7...6...5...4...3...2\n",
    "d = range(-10 , 0)\n",
    "print(*d)   #   -10 -9 -8 -7 -6 -5 -4 -3 -2 -1\n",
    "e = range(-10)\n",
    "print(*e)   # empty\n",
    "f = range(2 , 2)\n",
    "print(*f)   # empty\n",
    "g = range(10 , 11 , 0.1) # error due to 'float'\n",
    "h = range('A' , 'F')    # error due to 'str'"
   ]
  },
  {
   "cell_type": "code",
   "execution_count": 1,
   "id": "5c78500b",
   "metadata": {},
   "outputs": [
    {
     "name": "stdout",
     "output_type": "stream",
     "text": [
      "10 13 16\n"
     ]
    }
   ],
   "source": [
    "#  Find  outputs  (Home  work)\n",
    "r = range(10 ,  17 , 3)\n",
    "a , b , c = r\n",
    "print(a , b , c)    # 10 13 16\n",
    "r = range(3)\n",
    "x , y = r   # error\n",
    "p , q  , r , s = r  # error\n",
    "a , b , c = *r  # error"
   ]
  },
  {
   "cell_type": "markdown",
   "id": "35d93986",
   "metadata": {},
   "source": [
    "18/07/2025"
   ]
  },
  {
   "cell_type": "code",
   "execution_count": null,
   "id": "0cc20c0b",
   "metadata": {},
   "outputs": [
    {
     "name": "stdout",
     "output_type": "stream",
     "text": [
      "[25, 10.8, 'Hyd', True, (3+4j), None, 'Hyd', 25]\n",
      "25 10.8 Hyd True (3+4j) None Hyd 25\n",
      "<class 'list'>\n",
      "2036889237376\n",
      "8\n",
      "[25, 10.8, 'Sec', True, (3+4j), None, 'Hyd', 25]\n",
      "['Sec', True, (3+4j)]\n"
     ]
    }
   ],
   "source": [
    "#  Find  outputs  (Home  Work)\n",
    "a = [25 , 10.8 , 'Hyd' , True , 3 + 4j , None , 'Hyd' , 25]\n",
    "print(a)    # [25 , 10.8 , 'Hyd' , True , 3 + 4j , None , 'Hyd' , 25]\n",
    "print(*a)   # 25 , 10.8 , 'Hyd' , True , 3 + 4j , None , 'Hyd' , 25\n",
    "print(type(a))  # <class 'list'>\n",
    "print(id(a))    # may be 123456\n",
    "print(len(a))   #8\n",
    "a[2] = 'Sec'\n",
    "print(a)    # [25 , 10.8 , 'sec' , True , 3 + 4j , None , 'Hyd' , 25] \n",
    "print(a[2 : 5]) # ['sec' , True , 3 + 4j]"
   ]
  },
  {
   "cell_type": "code",
   "execution_count": 4,
   "id": "78c02644",
   "metadata": {},
   "outputs": [
    {
     "name": "stdout",
     "output_type": "stream",
     "text": [
      "[]\n",
      "[25, 10.8, 'Hyd', True]\n",
      "[25, 10.8, True]\n"
     ]
    }
   ],
   "source": [
    "# append()  and  remove()  methods  (Home  work)\n",
    "a = [ ]\n",
    "print(a)    #[]\n",
    "a . append(25)\n",
    "a . append(10.8)\n",
    "a . append('Hyd')\n",
    "a . append(True)\n",
    "print(a)    #[25,10.8,'Hyd',True]\n",
    "a . remove('Hyd')   \n",
    "print(a)    # [25,10.8,True]\n",
    "a . remove('25')\n",
    "print(a)    # error due to '25'"
   ]
  },
  {
   "cell_type": "code",
   "execution_count": 5,
   "id": "0f123747",
   "metadata": {},
   "outputs": [
    {
     "name": "stdout",
     "output_type": "stream",
     "text": [
      "[25, 10.8, 'Hyd']\n",
      "2202739341824\n",
      "[25, 10.8, 'Hyd', 25, 10.8, 'Hyd', 25, 10.8, 'Hyd']\n",
      "[25, 10.8, 'Hyd', 25, 10.8, 'Hyd']\n",
      "[25, 10.8, 'Hyd']\n",
      "[]\n",
      "[]\n",
      "[25, 10.8, 'Hyd', 25, 10.8, 'Hyd', 25, 10.8, 'Hyd']\n",
      "2202739196480\n"
     ]
    }
   ],
   "source": [
    "#  Find  outputs  (Home  work)\n",
    "a = [25 , 10.8 , 'Hyd']\n",
    "print(a)    # [25 , 10.8 , 'Hyd']\n",
    "print(id(a))    # 12345987654\n",
    "print(a * 3)    #[25 , 10.8 , 'Hyd',25 , 10.8 , 'Hyd',25 , 10.8 , 'Hyd']\n",
    "print(a * 2)    # [25 , 10.8 , 'Hyd',25 , 10.8 , 'Hyd']\n",
    "print(a * 1)    # [25 , 10.8 , 'Hyd']\n",
    "print(a * 0)    # []\n",
    "print(a * -1)   # []\n",
    "#print(a * 4.0)  # error\n",
    "a = a * 3\n",
    "print(a)      # [25 , 10.8 , 'Hyd',25 , 10.8 , 'Hyd',25 , 10.8 , 'Hyd']\n",
    "print(id(a))    # 12345876\n",
    "a = [25]\n",
    "print(a * a) # Error"
   ]
  },
  {
   "cell_type": "code",
   "execution_count": 6,
   "id": "fb92b6c9",
   "metadata": {},
   "outputs": [
    {
     "name": "stdout",
     "output_type": "stream",
     "text": [
      "['H', 'y', 'd']\n",
      "<class 'list'>\n",
      "3\n",
      "[10, 20, 15, 18]\n",
      "[0, 1, 2, 3, 4]\n"
     ]
    },
    {
     "data": {
      "text/plain": [
       "'\\nlist()  function\\n-----------------\\n1) What  does  list(sequence)  do ?  --->  Converts  sequence  to  list\\n\\n2) Is  list(non-sequence)  valid ?  --->   No  becoz  argument  should  be  sequence  only\\n\\n3) What  does  list(No-args)  do ?  ---> Returns  an  empty  list  i.e.  []\\n\\n4) Finally  list()  function  does  typecasting\\n'"
      ]
     },
     "execution_count": 6,
     "metadata": {},
     "output_type": "execute_result"
    }
   ],
   "source": [
    "# list()  function  demo  program\n",
    "a = list('Hyd')\n",
    "print(a)    # ['H','y','d']\n",
    "print(type(a))  # <class 'list'>\n",
    "print(len(a))   # 09873456745\n",
    "b = (10 , 20 , 15 , 18)\n",
    "print(list(b))  # [10 , 20 , 15 , 18]\n",
    "print(list(range(5)))   # [0,1,2,3,4]\n",
    "print(list(25)) # Error\n",
    "\n",
    "\n",
    "'''\n",
    "list()  function\n",
    "-----------------\n",
    "1) What  does  list(sequence)  do ?  --->  Converts  sequence  to  list\n",
    "\n",
    "2) Is  list(non-sequence)  valid ?  --->   No  becoz  argument  should  be  sequence  only\n",
    "\n",
    "3) What  does  list(No-args)  do ?  ---> Returns  an  empty  list  i.e.  []\n",
    "\n",
    "4) Finally  list()  function  does  typecasting\n",
    "'''"
   ]
  },
  {
   "cell_type": "code",
   "execution_count": null,
   "id": "74733136",
   "metadata": {},
   "outputs": [
    {
     "name": "stdout",
     "output_type": "stream",
     "text": [
      "<class 'list'>\n",
      "[]\n",
      "0\n",
      "[]\n",
      "0\n"
     ]
    }
   ],
   "source": [
    "# Find  outputs\n",
    "a = [ ]\n",
    "print(type(a))  # <class 'list'>\n",
    "print(a)    # []\n",
    "print(len(a)) # 0\n",
    "b = list()\n",
    "print(b)     # []\n",
    "print(len(b))   # 0"
   ]
  },
  {
   "cell_type": "code",
   "execution_count": null,
   "id": "3cb35d9f",
   "metadata": {},
   "outputs": [
    {
     "name": "stdout",
     "output_type": "stream",
     "text": [
      "[(3+4j), 'Hyd', True, None, 10.8]\n",
      "[25, 10.8, (3+4j), 'Hyd', True, None, 10.8, 'Hyd']\n",
      "[25, 10.8, (3+4j), 'Hyd', True, None, 10.8, 'Hyd']\n",
      "['Hyd', 10.8, None, True, 'Hyd', (3+4j), 10.8, 25]\n",
      "[25, (3+4j), True, 10.8]\n",
      "[10.8, 'Hyd', None, 'Hyd']\n",
      "['Hyd', None, 'Hyd', 10.8]\n",
      "[10.8, True, (3+4j), 25]\n",
      "[10.8, (3+4j), 'Hyd']\n",
      "[True, None, 10.8]\n",
      "['Hyd', True]\n",
      "[(3+4j)]\n",
      "[]\n"
     ]
    }
   ],
   "source": [
    "# Slice  demo  program (Home  work)\n",
    "#        0      1    2        3      4      5       6      7\n",
    "list = [25 , 10.8 , 3 + 4j , 'Hyd' , True , None , 10.8 , 'Hyd']\n",
    "#       -8     -7   -6        -5     -4     -3      -2      -1\n",
    "print(list[2 : 7])  # [ 3 + 4j , 'Hyd' , True , None , 10.8 ]\n",
    "print(list[ : : ])  # [25 , 10.8 , 3 + 4j , 'Hyd' , True , None , 10.8 , 'Hyd']\n",
    "print(list[:]) #  list[0 :  8 :  1]  --->  List  from  indexes  0  to  7  in  steps  of  1  i.e.  [25 , 10.8 , 3 + 4j , 'Hyd' , True , None , 10.8 , 'Hyd']\n",
    "print(list[ : : -1])    # ['Hyd',10.8,None,True,'Hyd',3+4j,10.8,25]\n",
    "print(list[ : : 2])     # [25 , 3 + 4j ,  True ,  10.8 ]\n",
    "print(list[1 : : 2])    # [10.8, 'Hyd', None, 'Hyd']\n",
    "print(list[ : : -2]) #  list[-1 :  -9 : -2]  --->  List  from  indexes   -1  to  -8  in  steps  of   -2   i.e.  ['Hyd' , None , 'Hyd' , 10.8]\n",
    "print(list[-2 : : -2])  # [10.8, True, 3+4j, 25]\n",
    "print(list[1 : 4])  # [10.8 , 3 + 4j , 'Hyd' ]\n",
    "print(list[-4 : -1])    #[True , None , 10.8]\n",
    "print(list[3 : -3]) # ['Hyd' , True]\n",
    "print(list[2 : -5]) # [3 + 4j , 'Hyd' ]\n",
    "print(list[-1:-5])  # []"
   ]
  },
  {
   "cell_type": "code",
   "execution_count": null,
   "id": "d2e89df3",
   "metadata": {},
   "outputs": [
    {
     "name": "stdout",
     "output_type": "stream",
     "text": [
      "x :  Hyd\n",
      "y :  True\n",
      "(3+4j)\n",
      "Hyd\n",
      "True\n",
      "None\n",
      "10.8\n"
     ]
    }
   ],
   "source": [
    "#  Find  outputs  (Home  work)\n",
    "#        0    1      2      3       4      5     6        7\n",
    "list = [25 , 10.8 , 3+4j , 'Hyd' , True , None , 10.8 , 'Hyd']\n",
    "x ,  y = list[3 : 5]\n",
    "print('x : ' , x) # x: Hyd\n",
    "print('y : ' , y)\t# y:  True \n",
    "for  x  in  list[2:7]:\n",
    "\tprint(x)\t#3+4j  Hyd  True  None  10.8 "
   ]
  },
  {
   "cell_type": "code",
   "execution_count": null,
   "id": "0f47011f",
   "metadata": {},
   "outputs": [
    {
     "name": "stdout",
     "output_type": "stream",
     "text": [
      "[10, 20, 30, 40, 50] 2036889334272\n",
      "[10, 60, 70, 50] 2036889334272\n",
      "[10, 60, 100, 200, 300] 2036889334272\n"
     ]
    }
   ],
   "source": [
    "#  Find  outputs  (Home  work)\n",
    "#     0   1    2    3     4\n",
    "a = [10 , 20 , 30 , 40 , 50]\n",
    "print(a , id(a))    # [10 , 20 , 30 , 40 , 50] 23456787654\n",
    "a[1 : 4] = [60 , 70]   \n",
    "print(a , id(a))     # [10, 60, 70, 50]  same address\n",
    "a[2: 4] = [100 , 200 ,  300]\n",
    "print(a , id(a))    #[10, 60, 100, 200, 300] same address"
   ]
  },
  {
   "cell_type": "code",
   "execution_count": null,
   "id": "a88962f5",
   "metadata": {},
   "outputs": [
    {
     "name": "stdout",
     "output_type": "stream",
     "text": [
      "[]\n"
     ]
    }
   ],
   "source": [
    "#  Find  outputs  (Home  work)\n",
    "a =  [25]\n",
    "print(a[1]) # error\n",
    "print(a[1:])    #[]"
   ]
  },
  {
   "cell_type": "code",
   "execution_count": null,
   "id": "15594074",
   "metadata": {},
   "outputs": [
    {
     "name": "stdout",
     "output_type": "stream",
     "text": [
      "<class 'int'>\n",
      "<class 'tuple'>\n",
      "<class 'int'>\n",
      "<class 'tuple'>\n",
      "100\n",
      "(25, 25, 25, 25)\n",
      "100\n",
      "(25, 25, 25, 25)\n"
     ]
    }
   ],
   "source": [
    "# Find  outputs  (Home  work)\n",
    "a = (25)\n",
    "b = 25,\n",
    "c = 25\n",
    "d = (25,)\n",
    "print(type(a))  # <class 'int'>\n",
    "print(type(b))  # <class 'tuple'>\n",
    "print(type(c))  # <class 'int'>\n",
    "print(type(d))  # <class 'tuple'>\n",
    "print(a * 4)    # 100\n",
    "print(b * 4)    # (25,25,25,25)\n",
    "print(c * 4)    # 100\n",
    "print(d * 4)    # (25,25,25,25)"
   ]
  },
  {
   "cell_type": "code",
   "execution_count": 7,
   "id": "e6ffb5e9",
   "metadata": {},
   "outputs": [
    {
     "name": "stdout",
     "output_type": "stream",
     "text": [
      "('H', 'y', 'd')\n",
      "<class 'tuple'>\n",
      "3\n",
      "(10, 20, 15, 18)\n",
      "(0, 1, 2, 3, 4)\n"
     ]
    },
    {
     "data": {
      "text/plain": [
       "'\\ntuple()  function\\n-------------------\\n1) What  does  tuple(sequence)  do ?  --->  Converts  sequence  to  tuple\\n\\n2) Is  tuple(non-sequence)  valid ?  ---> No  becoz  argument  should  be  sequence  only\\n\\n3) What  does  tuple(No-args)  do ?  ---> Returns  an  empty  tuple\\n'"
      ]
     },
     "execution_count": 7,
     "metadata": {},
     "output_type": "execute_result"
    }
   ],
   "source": [
    "# tuple()  function  demo  program  (Home  work)\n",
    "a = tuple('Hyd')\n",
    "print(a)    # ('H','y','d')\n",
    "print(type(a))  # <class 'tuple'>\n",
    "print(len(a))   # 3\n",
    "b = [10 , 20 , 15 , 18]\n",
    "print(tuple(b)) # (10 , 20 , 15 , 18)\n",
    "print(tuple(range(5)))  # (0,1,2,3,4)\n",
    "print(tuple(25))    # Error\n",
    "\n",
    "\n",
    "\n",
    "'''\n",
    "tuple()  function\n",
    "-------------------\n",
    "1) What  does  tuple(sequence)  do ?  --->  Converts  sequence  to  tuple\n",
    "\n",
    "2) Is  tuple(non-sequence)  valid ?  ---> No  becoz  argument  should  be  sequence  only\n",
    "\n",
    "3) What  does  tuple(No-args)  do ?  ---> Returns  an  empty  tuple\n",
    "'''"
   ]
  },
  {
   "cell_type": "code",
   "execution_count": null,
   "id": "061a3352",
   "metadata": {},
   "outputs": [
    {
     "name": "stdout",
     "output_type": "stream",
     "text": [
      "<class 'tuple'>\n",
      "()\n",
      "0\n",
      "()\n",
      "0\n"
     ]
    }
   ],
   "source": [
    "# Find  outputs (Home  work)\n",
    "a = ()\n",
    "print(type(a))  # <class 'tuple'>\n",
    "print(a)    # ()\n",
    "print(len(a))   # 0\n",
    "b = tuple()\n",
    "print(b)    # ()\n",
    "print(len(b))   # 0"
   ]
  },
  {
   "cell_type": "code",
   "execution_count": 15,
   "id": "96a60bec",
   "metadata": {},
   "outputs": [
    {
     "name": "stdout",
     "output_type": "stream",
     "text": [
      "(10, 20, 30)\n",
      "2036895897344\n",
      "(10, 20, 30, 10, 20, 30)\n",
      "2036896751168\n"
     ]
    }
   ],
   "source": [
    "# Tricky program\n",
    "# Find  outputs (Home  work)\n",
    "a = (10 , 20 , 30)\n",
    "print(a)    # (10 , 20 , 30)\n",
    "print(id(a))    # 4321234567\n",
    "a = a * 2\n",
    "print(a)    # (10 , 20 , 30, 10 , 20 , 30)\n",
    "print(id(a))    # 1234567876"
   ]
  },
  {
   "cell_type": "code",
   "execution_count": 9,
   "id": "cf07a403",
   "metadata": {},
   "outputs": [
    {
     "name": "stdout",
     "output_type": "stream",
     "text": [
      "{None, True, 25, 10.8, 'Hyd', (3+4j)}\n",
      "<class 'set'>\n",
      "6\n"
     ]
    }
   ],
   "source": [
    "#  set  object  demo  program  (Home  work)\n",
    "a = {25 , 10.8 , 'Hyd' , True , 3+4j , None , 25 , 'Hyd'}\n",
    "print(a)    # { 10.8 , True , 3+4j , None , 25 , 'Hyd'}\n",
    "print(type(a))  # <class 'set'>\n",
    "print(len(a))   # 6\n",
    "print(a[2]) # Error\n",
    "print(a[1 : 4]) # error\n",
    "a[2] = 'Sec'    # error\n",
    "print(a * 2)    # error\n",
    "print(a * a)    # Error"
   ]
  },
  {
   "cell_type": "code",
   "execution_count": null,
   "id": "e724402d",
   "metadata": {},
   "outputs": [
    {
     "name": "stdout",
     "output_type": "stream",
     "text": [
      "{False, 1, 'Hyd', ''}\n",
      "4\n",
      "<class 'set'>\n"
     ]
    }
   ],
   "source": [
    "# Tricky  program\n",
    "# Find  outputs (Home  work)\n",
    "a = {1 , 'Hyd' , False , True , 0.0 , '' , 1.0 ,  0}\n",
    "print(a)    # {False, 1, 'Hyd', ''}\n",
    "print(len(a))   # 4\n",
    "print(type(a))  # <class 'set'>"
   ]
  },
  {
   "cell_type": "code",
   "execution_count": 10,
   "id": "9e3b20a4",
   "metadata": {},
   "outputs": [
    {
     "name": "stdout",
     "output_type": "stream",
     "text": [
      "{'a', 'o', 'm', 'A', 'R', 'r', ' '}\n",
      "7\n",
      "{10, 20, 15}\n",
      "{25, 10.8, 'Hyd'}\n"
     ]
    },
    {
     "data": {
      "text/plain": [
       "'\\nset()  function\\n-----------------\\n1) What  does  set(sequence)  do ?  --->  Converts  sequence  to  set\\n\\n2) Is  set(non-sequence)  valid ?  ---> No  becoz  argument  should  be  sequence  only\\n\\n3) What  does  set(No-args)  do ?  ---> Returns  an  empty  set\\n'"
      ]
     },
     "execution_count": 10,
     "metadata": {},
     "output_type": "execute_result"
    }
   ],
   "source": [
    "#  set()  function demo  program\n",
    "a = set('Rama rAo')\n",
    "print(a)    # {'A', 'a', 'R', 'r', 'o', ' ', 'm'}\n",
    "print(len(a))   # 7\n",
    "print(set([10 , 20 , 15 , 20])) # {10,20,15}\n",
    "print(set((25 , 10.8 , 'Hyd' , 10.8)))  # (25 , 10.8 , 'Hyd')\n",
    "print(set(range(10 , 20 , 3)))  # Error\n",
    "print(set(25))  # Error\n",
    "print(set([25 , 10.8 , [] , 'Hyd']))    # error\n",
    "\n",
    "\n",
    "'''\n",
    "set()  function\n",
    "-----------------\n",
    "1) What  does  set(sequence)  do ?  --->  Converts  sequence  to  set\n",
    "\n",
    "2) Is  set(non-sequence)  valid ?  ---> No  becoz  argument  should  be  sequence  only\n",
    "\n",
    "3) What  does  set(No-args)  do ?  ---> Returns  an  empty  set\n",
    "'''"
   ]
  },
  {
   "cell_type": "code",
   "execution_count": null,
   "id": "ff091b2f",
   "metadata": {},
   "outputs": [
    {
     "name": "stdout",
     "output_type": "stream",
     "text": [
      "<class 'list'>\n",
      "<class 'tuple'>\n",
      "<class 'dict'>\n",
      "<class 'set'>\n",
      "[]\n",
      "()\n",
      "{}\n",
      "set()\n"
     ]
    }
   ],
   "source": [
    "# Find  outputs  (Home  work)\n",
    "a =   [ ]\n",
    "b =   ( )\n",
    "c =   {}\n",
    "d =   set()\n",
    "print(type(a))  # <class 'list'>\n",
    "print(type(b))  # <class 'tuple'>\n",
    "print(type(c))  # <class 'dict'>\n",
    "print(type(d))  #<class 'set'>\n",
    "print(a)    #[]\n",
    "print(b)    #()\n",
    "print(c)    #{}\n",
    "print(d)    #set()"
   ]
  },
  {
   "cell_type": "code",
   "execution_count": null,
   "id": "e906ae9f",
   "metadata": {},
   "outputs": [
    {
     "name": "stdout",
     "output_type": "stream",
     "text": [
      "{None, True, 10.8, 'Hyd', 25}\n",
      "5\n",
      "{None, True, 10.8, 'Hyd'}\n",
      "{None, True, 10.8, 'Hyd'}\n"
     ]
    }
   ],
   "source": [
    "# Tricky  program\n",
    "# add()  and  remove()  methods  (Home  work)\n",
    "a = set()\n",
    "a . add(25)\n",
    "a . add(10.8)\n",
    "a . add('Hyd')\n",
    "a . add(True)\n",
    "a . add(None)\n",
    "a . add('Hyd')\n",
    "a . add(1)\n",
    "print(a)    # (25, 'Hyd', 10.8, True, None)\n",
    "print(len(a))   # 5\n",
    "a . remove(25)\n",
    "print(a)    # {None, 'Hyd', 10.8, True}\n",
    "a . append(100) # Error\n",
    "a . add(set())  # Error\n",
    "a . add(())    # Error\n",
    "a . add([])    # Error\n",
    "print(a)    # {None, 'Hyd', 10.8, True}\n",
    "a . add({})    # Error"
   ]
  },
  {
   "cell_type": "code",
   "execution_count": null,
   "id": "49daf35f",
   "metadata": {},
   "outputs": [],
   "source": [
    "# How  to  print  set  in  two  differnet ways  (Home  work)\n",
    "a = {25 , True , 'Hyd' , 10.8}\n",
    "print('set  with  print  function') # 'set  with  print  function'\n",
    "print(How  to  print  set)  # Print(a)\n",
    "print('Iterate  thru  set  with  for  loop')    # 'Iterate  thru  set  with  for  loop'\n",
    "How  to  iterate  thru  set  with  for  loop    # for i in a:\n",
    "                                                    #print(a)"
   ]
  },
  {
   "cell_type": "markdown",
   "id": "652cf91d",
   "metadata": {},
   "source": [
    "19/07/2025"
   ]
  },
  {
   "cell_type": "code",
   "execution_count": 12,
   "id": "accc1003",
   "metadata": {},
   "outputs": [
    {
     "name": "stdout",
     "output_type": "stream",
     "text": [
      "{10: 'Ramesh', 20: 'Kiran', 15: 'Amar', 18: 'Sita'}\n",
      "<class 'dict'>\n",
      "Ramesh\n",
      "Kiran\n",
      "Kiran\n",
      "Sita\n",
      "{10: 'Ramesh', 15: 'Krishna', 18: 'Sita', 25: 'Vamsi'}\n",
      "4\n"
     ]
    }
   ],
   "source": [
    "# Find  outputs  (Home  work)\n",
    "a = {10 : 'Ramesh' , 20 : 'Kiran' , 15 : 'Amar' , 18 : 'Sita'}\n",
    "print(a)    # {10 : 'Ramesh' , 20 : 'Kiran' , 15 : 'Amar' , 18 : 'Sita'}\n",
    "print(type(a)) # <class 'dict'>\n",
    "print(a[10])   #(How  to  obtain  value  key  10) \n",
    "print(a[20])   #(How  to  obtain  value  key  20)\n",
    "print(a[20])   #(How  to  obtain  value  key  15)\n",
    "print(a[18])   #(How  to  obtain  value  key  18)\n",
    "print(a[19])    # Error\n",
    "print(a[0]) # Error\n",
    "print(a['Amar'])    # Error\n",
    "a[15]='Krishna'    #How  to  modify  value  of   key  15  to  'Krishna'\n",
    "del a[20]   #How  to  remove  20 :  'Kiran'  from  dict  'a'\n",
    "a[25]='Vamsi'   # How  to  append  25 : 'Vamsi'  to  dict  'a'\n",
    "print(a)    #{10 : 'Ramesh' , 15 : 'Krishna' , 18 : 'Sita', 25:'Vamsi'}\n",
    "print(len(a))   # 4\n",
    "print(a * 2)    # Error"
   ]
  },
  {
   "cell_type": "code",
   "execution_count": null,
   "id": "10a9e01c",
   "metadata": {},
   "outputs": [
    {
     "name": "stdout",
     "output_type": "stream",
     "text": [
      "{10: 'Sec'}\n",
      "1\n",
      "{'R': 'Red', 'G': 'Gray', 'B': 'Black', 'Y': 'Yellow'}\n",
      "4\n"
     ]
    }
   ],
   "source": [
    "# Find  outputs  (Home  work)\n",
    "a = {10 : 'Hyd' , 10 : 'Sec'}\n",
    "print(a)    #{10 : 'Sec'}\n",
    "print(len(a))   #1\n",
    "b = {'R' : 'Red' , 'G' : 'Green' , 'B' : 'Blue' , 'Y' : 'Yellow' , 'G' : 'Gray' , 'B' : 'Black'}\n",
    "print(b)    # {'R' : 'Red', 'G' : 'Gray' , 'B' : 'Black','Y' : 'Yellow' }\n",
    "print(len(b)) # 4"
   ]
  },
  {
   "cell_type": "code",
   "execution_count": null,
   "id": "c45077dc",
   "metadata": {},
   "outputs": [
    {
     "name": "stdout",
     "output_type": "stream",
     "text": [
      "{True: 'May  be'}\n",
      "1\n"
     ]
    }
   ],
   "source": [
    "#  Tricky  program\n",
    "# Find output  (Home  work)\n",
    "a = {True : 'Yes' , 1 : 'No' , 1.0 : 'May  be'}\n",
    "print(a)    # {True: 'may be}\n",
    "print(len(a))   #1"
   ]
  },
  {
   "cell_type": "code",
   "execution_count": 13,
   "id": "ddf80b2e",
   "metadata": {},
   "outputs": [
    {
     "name": "stdout",
     "output_type": "stream",
     "text": [
      "{'Ramesh': [9948250500, 9848565090, 9440250404]}\n",
      "1\n"
     ]
    }
   ],
   "source": [
    "# Find  outputs\n",
    "a = { [ ] : 25} # error\n",
    "b = { ( ) : 25}\n",
    "print(b)    # error\n",
    "c = { { } : 25} # error\n",
    "d = {'Ramesh' : [9948250500, 9848565090, 9440250404]}\n",
    "print(d)    #{'Ramesh' : [9948250500, 9848565090, 9440250404]}\n",
    "print(len(d))   # 1\n",
    "e = {set() : 10.8}  # error"
   ]
  },
  {
   "cell_type": "code",
   "execution_count": null,
   "id": "67448916",
   "metadata": {},
   "outputs": [
    {
     "name": "stdout",
     "output_type": "stream",
     "text": [
      "<class 'dict'>\n",
      "0\n",
      "{}\n",
      "<class 'dict'>\n",
      "0\n",
      "{}\n"
     ]
    }
   ],
   "source": [
    "# Find  outputs\n",
    "a = {}\n",
    "print(type(a))  # <class 'dict'>\n",
    "print(len(a))   # 0\n",
    "print(a)    #{}\n",
    "b = dict()  \n",
    "print(type(b))   # <class 'dict'>\n",
    "print(len(b))   #0\n",
    "print(b)    # {}"
   ]
  }
 ],
 "metadata": {
  "kernelspec": {
   "display_name": "Python 3",
   "language": "python",
   "name": "python3"
  },
  "language_info": {
   "codemirror_mode": {
    "name": "ipython",
    "version": 3
   },
   "file_extension": ".py",
   "mimetype": "text/x-python",
   "name": "python",
   "nbconvert_exporter": "python",
   "pygments_lexer": "ipython3",
   "version": "3.12.10"
  }
 },
 "nbformat": 4,
 "nbformat_minor": 5
}

{
 "cells": [
  {
   "cell_type": "code",
   "execution_count": null,
   "id": "b06439a0",
   "metadata": {},
   "outputs": [
    {
     "name": "stdout",
     "output_type": "stream",
     "text": [
      "([],)\n"
     ]
    }
   ],
   "source": [
    "# Find  output (Home  work)\n",
    "def   f1(a = []):\n",
    "        pass\n",
    "print(f1 . __defaults__)        # ([],)"
   ]
  },
  {
   "cell_type": "code",
   "execution_count": null,
   "id": "93558fb5",
   "metadata": {},
   "outputs": [
    {
     "name": "stdout",
     "output_type": "stream",
     "text": [
      "__defaults__  :   ([],)\n",
      "List :   [3]\n",
      "__defaults__  :   ([3],)\n",
      "List :   [1, 2, 3, 4]\n",
      "__defaults__  :   ([3],)\n",
      "List :   [3, 9]\n",
      "__defaults__  :   ([3, 9],)\n",
      "List :   [10, 20, 30, 40]\n",
      "__defaults__  :   ([3, 9],)\n",
      "List :   [3, 9, 5]\n",
      "__defaults__  :   ([3, 9, 5],)\n",
      "List :   [3, 9, 5, [6, 7, 8]]\n",
      "__defaults__  :   ([3, 9, 5, [6, 7, 8]],)\n"
     ]
    }
   ],
   "source": [
    "# Find  outputs (Home  work)\n",
    "def   f1(x , a = []):\n",
    "\ta . append(x)\n",
    "\tprint('List :  ' ,  a)\n",
    "#end  of  the  function\n",
    "print('__defaults__  :  ' , f1.__defaults__)\t# __defaults__  :   ([],)\n",
    "f1(3)\t# List :   [3]\n",
    "print('__defaults__  :  ' , f1.__defaults__)\t# __defaults__  :   ([3],)\n",
    "f1(4 , [1 , 2 , 3])\t# List :   [1, 2, 3, 4]\n",
    "print('__defaults__  :  ' , f1.__defaults__)\t# __defaults__  :   ([3],)\n",
    "f1(9)\t# List :   [3, 9]\n",
    "print('__defaults__  :  ' , f1.__defaults__)\t# __defaults__  :   ([3, 9],)\n",
    "f1(40 , [10 , 20 , 30])\t# List :   [10, 20, 30, 40]\n",
    "print('__defaults__  :  ' , f1.__defaults__)\t# __defaults__  :   ([3, 9],)\n",
    "f1(5)\t# List :   [3, 9, 5]\n",
    "print('__defaults__  :  ' , f1.__defaults__)\t# __defaults__  :   ([3, 9, 5],)\n",
    "f1([6 , 7 , 8])\t# List :   [3, 9, 5, [6, 7, 8]]\n",
    "print('__defaults__  :  ' , f1.__defaults__)\t# __defaults__  :   ([3, 9, 5, [6, 7, 8]],)"
   ]
  },
  {
   "cell_type": "code",
   "execution_count": null,
   "id": "cb7ee5df",
   "metadata": {},
   "outputs": [
    {
     "name": "stdout",
     "output_type": "stream",
     "text": [
      "__defaults__  :   ([],)\n",
      "[3]\n",
      "__defaults__  :   ([],)\n",
      "[1, 2, 3, 4]\n",
      "__defaults__  :   ([],)\n",
      "[4]\n",
      "__defaults__  :   ([],)\n",
      "[10, 20, 30, 40]\n",
      "__defaults__  :   ([],)\n",
      "[5]\n",
      "__defaults__  :   ([],)\n",
      "[[6, 7, 8]]\n",
      "__defaults__  :   ([],)\n"
     ]
    }
   ],
   "source": [
    "#  Find  outputs (Home  work)\n",
    "def   f1(x , a = []):\n",
    "        if  a  ==  []:\n",
    "                a = []\n",
    "        a . append(x)\n",
    "        print(a)\n",
    "#end  of  the  function\n",
    "print('__defaults__  :  ' , f1.__defaults__)    # __defaults__ : ([],)\n",
    "f1(3) #[3]\n",
    "print('__defaults__  :  ' , f1.__defaults__)    # __defaults__ : ([],)\n",
    "f1(4 , [1 , 2 , 3])     # [1,2,3,4]\n",
    "print('__defaults__  :  ' , f1.__defaults__)    # __defaults__ : ([],)\n",
    "f1(4)   # [4]\n",
    "print('__defaults__  :  ' , f1.__defaults__)    # __defaults__ : ([],)\n",
    "f1(40 , [10 , 20 , 30]) # [10,20,30,40]\n",
    "print('__defaults__  :  ' , f1.__defaults__)    # __defaults__ : ([],)\n",
    "f1(5)   # [5]\n",
    "print('__defaults__  :  ' , f1.__defaults__)    # __defaults__ : ([],)\n",
    "f1([6 , 7 , 8]) #[[6,7,8]]\n",
    "print('__defaults__  :  ' , f1.__defaults__)    # __defaults__ : ([],)"
   ]
  },
  {
   "cell_type": "code",
   "execution_count": null,
   "id": "4decd265",
   "metadata": {},
   "outputs": [
    {
     "name": "stdout",
     "output_type": "stream",
     "text": [
      "__defaults_  :   ([],)\n",
      "[0, 1, 4]\n",
      "__defaults_  :   ([0, 1, 4],)\n",
      "[10, 20, 15, 18, 0, 1, 4, 9]\n",
      "__defaults_  :   ([0, 1, 4],)\n",
      "[0, 1, 4, 0, 1, 4, 9, 16]\n",
      "__defaults_  :   ([0, 1, 4, 0, 1, 4, 9, 16],)\n",
      "[100, 200, 300, 0, 1, 4, 9, 16, 25]\n",
      "__defaults_  :   ([0, 1, 4, 0, 1, 4, 9, 16],)\n",
      "[0, 1, 4, 0, 1, 4, 9, 16, 0, 1, 4, 9, 16, 25]\n",
      "__defaults_  :   ([0, 1, 4, 0, 1, 4, 9, 16, 0, 1, 4, 9, 16, 25],)\n"
     ]
    }
   ],
   "source": [
    "# Find  outputs(Home  work)\n",
    "def     f1(x , a = []):\n",
    "\tfor  i  in  range(x):\n",
    "\t\ta . append(i * i)\n",
    "\treturn  a\n",
    "# End  of  the  function\n",
    "print('__defaults_  :  ' , f1.__defaults__)\t# __defaults__ : ([],)\n",
    "\n",
    "print(f1(3))\t# 0,1,2 => [0,1,4]\n",
    "print('__defaults_  :  ' , f1.__defaults__)\t# ([0,1,4],)\n",
    "\n",
    "print(f1(4 , [10 , 20 , 15 , 18]))\t# 0,1,2,3 => [10,20,15,18,0,1,4,9]\n",
    "print('__defaults_  :  ' , f1.__defaults__)\t# __defaults__ :([0,1,4],)\n",
    "\n",
    "print(f1(5))\t# 0,1,2,3,4 => [0,1,4,0,1,4,9,16]\n",
    "print('__defaults_  :  ' , f1.__defaults__) # __defaults__ : ([0,1,4,0,1,4,9,16],)\n",
    "\n",
    "print(f1(a = [100 , 200 , 300],   x = 6 ))\t# [100,200,300,0,1,4,9,16,25]\n",
    "print('__defaults_  :  ' , f1.__defaults__) # __defaults__ : [0,1,4,0,1,4,9,16]\n",
    "\n",
    "print(f1(6)) # [0,1,4,0,1,4,9,16,0,1,4,9,16,25]\n",
    "print('__defaults_  :  ' , f1.__defaults__)\t# __defaults__ : [0,1,4,0,1,4,9,16,0,1,4,9,16,25]"
   ]
  },
  {
   "cell_type": "code",
   "execution_count": 6,
   "id": "7c51a30e",
   "metadata": {},
   "outputs": [
    {
     "name": "stdout",
     "output_type": "stream",
     "text": [
      "[0, 1, 4]\n",
      "[10, 20, 15, 18, 0, 1, 4, 9]\n",
      "[0, 1, 4, 9, 16]\n",
      "[100, 200, 300, 0, 1, 4, 9, 16, 25]\n",
      "[0, 1, 4, 9, 16, 25]\n"
     ]
    }
   ],
   "source": [
    "# Find  output (Home  work)\n",
    "def     f1(x , a = []):\n",
    "        if   a == []:\n",
    "                a = []\n",
    "        for  i   in   range(x):\n",
    "                a . append(i * i)\n",
    "        return  a\n",
    "# End  of  the  function\n",
    "print(f1(3))    # [0,1,4]\n",
    "print(f1(4 , [10 , 20 , 15 , 18]))      # [10,20,15,18,0,1,4,9]\n",
    "print(f1(5))    # [0,1,4,9,16]\n",
    "print(f1(a = [100 , 200 , 300],   x = 6 ))      # [100,200,300,0,1,4,9,16,25]\n",
    "print(f1(6)) # [0,1,4,9,16,25]"
   ]
  },
  {
   "cell_type": "code",
   "execution_count": null,
   "id": "35109c75",
   "metadata": {},
   "outputs": [
    {
     "name": "stdout",
     "output_type": "stream",
     "text": [
      "Default Values  :   ('Hyd', [])\n",
      "a :   HydSec\n",
      "b :   [1, 2, 3]\n",
      "Default Values  :   ('Hyd', [1, 2, 3])\n",
      "a :   HydSec\n",
      "b :   [1, 2, 3, 1, 2, 3]\n",
      "Default Values  :   ('Hyd', [1, 2, 3, 1, 2, 3])\n",
      "a :   HydSec\n",
      "b :   [1, 2, 3, 1, 2, 3, 1, 2, 3]\n"
     ]
    }
   ],
   "source": [
    "# Find  outputs\n",
    "def   f1(a = 'Hyd' , b = []):\n",
    "\ta += \"Sec\"\n",
    "\tb += [1 , 2 , 3]\n",
    "\tprint('a :  ' , a)\t# a : HydSec\n",
    "\tprint('b :  ' , b)\t# b : [1,2,3]\n",
    "# End of the function\n",
    "print('Default Values  :  ' , f1 . __defaults__)\t# Default Values : ('Hyd', []) \n",
    "f1()\t# a : HydSec <nextline> b : [1,2,3]\n",
    "print('Default Values  :  ' , f1 . __defaults__) # Default Values : ('Hyd', [1,2,3]) \n",
    "f1()\t# a : HydSec <nextline> b : [1,2,3,1,2,3]\n",
    "print('Default Values  :  ' , f1 . __defaults__)\t# Default Values : ('Hyd', [1,2,3,1,2,3])\n",
    "f1()\t# a : HydSec <nextline> b : [1,2,3,1,2,3,1,2,3]"
   ]
  },
  {
   "cell_type": "code",
   "execution_count": null,
   "id": "23b84ea6",
   "metadata": {},
   "outputs": [],
   "source": []
  }
 ],
 "metadata": {
  "kernelspec": {
   "display_name": "Python 3",
   "language": "python",
   "name": "python3"
  },
  "language_info": {
   "codemirror_mode": {
    "name": "ipython",
    "version": 3
   },
   "file_extension": ".py",
   "mimetype": "text/x-python",
   "name": "python",
   "nbconvert_exporter": "python",
   "pygments_lexer": "ipython3",
   "version": "3.12.10"
  }
 },
 "nbformat": 4,
 "nbformat_minor": 5
}

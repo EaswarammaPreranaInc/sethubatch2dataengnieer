{
 "cells": [
  {
   "cell_type": "code",
   "execution_count": 5,
   "id": "293c737b",
   "metadata": {},
   "outputs": [
    {
     "name": "stdout",
     "output_type": "stream",
     "text": [
      "10\n",
      "20\n",
      "11\n",
      "40\n"
     ]
    },
    {
     "data": {
      "text/plain": [
       "' Output:\\n10\\n20\\n11\\n40'"
      ]
     },
     "execution_count": 5,
     "metadata": {},
     "output_type": "execute_result"
    }
   ],
   "source": [
    "# Find  outputs  (Home  work)\n",
    "def   f1():\n",
    "\ta = 20\n",
    "\tprint(a)\n",
    "\tdict = globals()\n",
    "\tprint(dict['a'])\n",
    "\ta = 30\n",
    "\tdict['a'] = 40\n",
    "#  End  of  f1()  function\n",
    "a = 10\n",
    "print(a)\t# 10\n",
    "a += 1\t# 11\n",
    "f1()\t# 10 <nextline>20\n",
    "print(a)\t# 40\n",
    "''' Output:\n",
    "10\n",
    "20\n",
    "11\n",
    "40'''"
   ]
  },
  {
   "cell_type": "code",
   "execution_count": 4,
   "id": "e298d9bd",
   "metadata": {},
   "outputs": [
    {
     "name": "stdout",
     "output_type": "stream",
     "text": [
      "10\n",
      "10\n"
     ]
    },
    {
     "data": {
      "text/plain": [
       "' \\noutput:\\n10\\n10'"
      ]
     },
     "execution_count": 4,
     "metadata": {},
     "output_type": "execute_result"
    }
   ],
   "source": [
    "# Find  outputs (Home  work)\n",
    "x = 10\n",
    "def   f1():\n",
    "\tprint(x)\n",
    "\tprint(globals()['x'])\n",
    "# End of the function\n",
    "f1()\n",
    "''' \n",
    "output:\n",
    "10\n",
    "10'''"
   ]
  },
  {
   "cell_type": "code",
   "execution_count": null,
   "id": "cef513c6",
   "metadata": {},
   "outputs": [
    {
     "name": "stdout",
     "output_type": "stream",
     "text": [
      "20\n"
     ]
    },
    {
     "data": {
      "text/plain": [
       "\"output:\\n20\\nerror bcz local var 'x' is already defined\""
      ]
     },
     "execution_count": 3,
     "metadata": {},
     "output_type": "execute_result"
    }
   ],
   "source": [
    "# Find  outputs (Home  work)\n",
    "def  f1():\n",
    "\tx = 20\n",
    "\tprint(x)\n",
    "\tprint(globals()['x'])\t# error\n",
    "# End  of  the  function\n",
    "f1()\n",
    "'''output:\n",
    "20\n",
    "error bcz local var 'x' is already defined'''"
   ]
  },
  {
   "cell_type": "code",
   "execution_count": 5,
   "id": "4c87daba",
   "metadata": {},
   "outputs": [
    {
     "name": "stdout",
     "output_type": "stream",
     "text": [
      "40 50 60\n",
      "10 20 30\n",
      "100 200 300\n"
     ]
    },
    {
     "data": {
      "text/plain": [
       "'output:\\n40 50 60\\n10 20 30\\n100 200 300'"
      ]
     },
     "execution_count": 5,
     "metadata": {},
     "output_type": "execute_result"
    }
   ],
   "source": [
    "# Find outputs (Home  work)\n",
    "def  f1():\n",
    "\ta = 40\n",
    "\tb = 50\n",
    "\tc = 60\n",
    "\tprint(a , b , c)\n",
    "\tdict = globals()\n",
    "\tprint(dict['a'] , dict['b'] , dict['c'])\n",
    "\tdict['a'] = 100\n",
    "\tdict['b'] = 200\n",
    "\tdict['c'] = 300\n",
    "def  f2():\n",
    "\tprint(a , b , c)\n",
    "# End  of  f2  function\n",
    "a = 10\n",
    "b = 20\n",
    "c = 30\n",
    "f1()\n",
    "f2()\n",
    "'''output:\n",
    "40 50 60\n",
    "10 20 30\n",
    "100 200 300'''"
   ]
  },
  {
   "cell_type": "code",
   "execution_count": null,
   "id": "cd74b8a8",
   "metadata": {},
   "outputs": [
    {
     "name": "stdout",
     "output_type": "stream",
     "text": [
      "10\n",
      "20\n",
      "11\n",
      "30\n",
      "31\n",
      "40\n",
      "41\n",
      "32\n"
     ]
    },
    {
     "data": {
      "text/plain": [
       "'output:\\n10\\n20\\n11\\n30\\n31\\n40\\n41\\nerror\\n32'"
      ]
     },
     "execution_count": 6,
     "metadata": {},
     "output_type": "execute_result"
    }
   ],
   "source": [
    "# global  keyword  demo  program (Home  work)\n",
    "def    f1():\n",
    "\tx = 20\n",
    "\tprint(x)\n",
    "def   f2():\n",
    "\tglobal  x\n",
    "\tx = 30\n",
    "\tprint(x)\n",
    "\tx += 1\n",
    "def   f3():\n",
    "\tglobal  y\n",
    "\ty = 40\n",
    "\tprint(y)\n",
    "\ty += 1\n",
    "def   f4():\n",
    "\tx = 50\n",
    "\tglobal   x\t# error bcz x cant be treated as GV bcz x as LV is already created\n",
    "#  End  of  the  functions\n",
    "x = 10\n",
    "print(x)\n",
    "x += 1\n",
    "f1()\n",
    "print(x)\n",
    "f2()\n",
    "print(x)\n",
    "x += 1 #32\n",
    "f3()\n",
    "print(y)\n",
    "f4()\n",
    "print(x)\n",
    "'''output:\n",
    "10\n",
    "20\n",
    "11\n",
    "30\n",
    "31\n",
    "40\n",
    "41\n",
    "32'''"
   ]
  },
  {
   "cell_type": "code",
   "execution_count": 5,
   "id": "38b97f6f",
   "metadata": {},
   "outputs": [
    {
     "name": "stdout",
     "output_type": "stream",
     "text": [
      "10\n",
      "20\n",
      "20\n",
      "30\n"
     ]
    },
    {
     "data": {
      "text/plain": [
       "'output:\\n10\\n20\\n20\\n30\\n'"
      ]
     },
     "execution_count": 5,
     "metadata": {},
     "output_type": "execute_result"
    }
   ],
   "source": [
    "# Find outputs (Home  work)\n",
    "def  f1():\n",
    "\tglobal  a\n",
    "\ta = 20\n",
    "\tprint(a)\n",
    "\tprint(globals()['a'])\n",
    "\ta = 30\n",
    "# End of the function\n",
    "a = 10\n",
    "print(a)\n",
    "f1()\n",
    "print(a)\n",
    "'''output:\n",
    "10\n",
    "20\n",
    "20\n",
    "30\n",
    "'''"
   ]
  },
  {
   "cell_type": "code",
   "execution_count": null,
   "id": "b210df4c",
   "metadata": {},
   "outputs": [
    {
     "name": "stdout",
     "output_type": "stream",
     "text": [
      "10\n",
      "20\n",
      "30\n",
      "30\n"
     ]
    },
    {
     "data": {
      "text/plain": [
       "'output:\\n30\\n10\\n20\\n30\\n30'"
      ]
     },
     "execution_count": 19,
     "metadata": {},
     "output_type": "execute_result"
    }
   ],
   "source": [
    "# Find  outputs(Home  work)\n",
    "def  f1():\n",
    "\tglobal  a\n",
    "\t#print(a)\t# error bcz GV is not there\n",
    "\ta = 10\n",
    "\tprint(globals()['a'])\t# 10\n",
    "\ta = 20\n",
    "\tprint(a)\t# 20\n",
    "\ta = 30\n",
    "def  f2():\n",
    "\tprint(a)\t# 30\n",
    "# End  of   f2   function\n",
    "f1()\n",
    "f2()\n",
    "print(a)\n",
    "\n",
    "'''output:\n",
    "10\n",
    "20\n",
    "30\n",
    "30'''"
   ]
  },
  {
   "cell_type": "code",
   "execution_count": 7,
   "id": "4043dab0",
   "metadata": {},
   "outputs": [
    {
     "name": "stdout",
     "output_type": "stream",
     "text": [
      "10\n",
      "20\n",
      "30\n",
      "40\n"
     ]
    },
    {
     "data": {
      "text/plain": [
       "'output:\\n10\\n20\\n30\\n40'"
      ]
     },
     "execution_count": 7,
     "metadata": {},
     "output_type": "execute_result"
    }
   ],
   "source": [
    "# Find outputs (Home  work)\n",
    "def  f1():\n",
    "\tglobal   a\n",
    "\ta = 10\n",
    "\tprint(a)\n",
    "\ta = 20\n",
    "def  f2():\n",
    "\tglobal  a\n",
    "\tprint(a)\n",
    "\ta = 30\n",
    "def  f3():\n",
    "\tprint(a)\n",
    "\tglobals()['a'] = 40\n",
    "# End  of  the  function\n",
    "f1()\n",
    "f2()\n",
    "f3()\n",
    "print(a)\n",
    "'''output:\n",
    "10\n",
    "20\n",
    "30\n",
    "40'''"
   ]
  },
  {
   "cell_type": "code",
   "execution_count": null,
   "id": "09643715",
   "metadata": {},
   "outputs": [
    {
     "name": "stdout",
     "output_type": "stream",
     "text": [
      "10\n",
      "30\n",
      "20\n",
      "40\n"
     ]
    }
   ],
   "source": [
    "# Find outputs (Home  work)\n",
    "def  f1():\n",
    "\tglobal   a\n",
    "\ta = 10\n",
    "\tprint(a)\t# 10\n",
    "\ta = 20\n",
    "def  f2():\n",
    "\t#print(a)\t# Error : LV is not defined\n",
    "\ta = 30\n",
    "\tprint(a)\t# 30\n",
    "def  f3():\n",
    "\tprint(a)\t# 20\n",
    "\tglobals()['a'] = 40\n",
    "# End  of  the  function\n",
    "f1()\n",
    "f2()\n",
    "f3()\n",
    "print(a)\t# 40\n",
    "''' \n",
    "10\n",
    "30\n",
    "20\n",
    "40'''"
   ]
  },
  {
   "cell_type": "code",
   "execution_count": null,
   "id": "e6312fa3",
   "metadata": {},
   "outputs": [
    {
     "name": "stdout",
     "output_type": "stream",
     "text": [
      "10\n",
      "20\n"
     ]
    }
   ],
   "source": [
    "#  Find  outputs (Home  work)\n",
    "def  f6():\n",
    "        e= 10\n",
    "        #global  a       # error\n",
    "        print(e)        # 10\n",
    "        global  b\n",
    "        b = 20\n",
    "# End  of  f1()  function\n",
    "f6()\n",
    "#print(e)        # error : GV is not defined\n",
    "print(b)        # 20\n",
    "'''10 \n",
    "20'''"
   ]
  },
  {
   "cell_type": "code",
   "execution_count": null,
   "id": "7f778da1",
   "metadata": {},
   "outputs": [
    {
     "name": "stdout",
     "output_type": "stream",
     "text": [
      "10\n",
      "11\n",
      "12\n",
      "13\n",
      "14\n"
     ]
    },
    {
     "data": {
      "text/plain": [
       "'\\noutput:\\n10\\n11\\n12\\n13\\n14'"
      ]
     },
     "execution_count": 12,
     "metadata": {},
     "output_type": "execute_result"
    }
   ],
   "source": [
    "# Find outputs (Home  work)\n",
    "def  f1():\n",
    "        global  a\n",
    "        print(a)\n",
    "        a += 1\n",
    "def  f2():\n",
    "        global  a\n",
    "        print(a)\n",
    "        a += 1\n",
    "# End  of  the  function\n",
    "a = 10\n",
    "print(a)# 10\n",
    "a += 1  # 11\n",
    "f1()\n",
    "print(a)\n",
    "a += 1\n",
    "f2()\n",
    "print(a)\n",
    "'''\n",
    "output:\n",
    "10\n",
    "11\n",
    "12\n",
    "13\n",
    "14'''"
   ]
  },
  {
   "cell_type": "code",
   "execution_count": null,
   "id": "8d86a4ea",
   "metadata": {},
   "outputs": [
    {
     "name": "stdout",
     "output_type": "stream",
     "text": [
      "10\n",
      "20\n",
      "11\n"
     ]
    },
    {
     "data": {
      "text/plain": [
       "'output:\\n10\\n20\\nerror'"
      ]
     },
     "execution_count": 33,
     "metadata": {},
     "output_type": "execute_result"
    }
   ],
   "source": [
    "# Find  outputs (Home  work)\n",
    "def   f1():\n",
    "\ta = 20\n",
    "\tprint(a)\n",
    "def  f2():\n",
    "\tprint(a)\t# error: LV is not defined\n",
    "\ta += 1\t# we can not be increment bcz LV is not yet Defined\n",
    "\t#pass\n",
    "# End of the function\n",
    "a = 10\n",
    "print(a)\n",
    "f1()\n",
    "a += 1\n",
    "f2()\n",
    "print(a)\n",
    "'''output:\n",
    "10\n",
    "20\n",
    "11'''"
   ]
  },
  {
   "cell_type": "code",
   "execution_count": 35,
   "id": "ecf188dc",
   "metadata": {},
   "outputs": [
    {
     "name": "stdout",
     "output_type": "stream",
     "text": [
      "10\n",
      "20\n",
      "11\n",
      "40\n"
     ]
    },
    {
     "data": {
      "text/plain": [
       "'output:\\n10\\n20\\n11\\n40\\n'"
      ]
     },
     "execution_count": 35,
     "metadata": {},
     "output_type": "execute_result"
    }
   ],
   "source": [
    "# Find outputs (Home  work)\n",
    "def  f1():\n",
    "\ta = 20\n",
    "\t#global   a # error \n",
    "\tprint(a)\n",
    "\tprint(globals()['a'])\n",
    "\ta = 30\n",
    "\tglobals()['a'] = 40\n",
    "#  End  of  f1()   function\n",
    "a = 10\n",
    "print(a)\n",
    "a += 1\n",
    "f1()\n",
    "print(a)\n",
    "'''output:\n",
    "10\n",
    "20\n",
    "11\n",
    "40\n",
    "'''"
   ]
  },
  {
   "cell_type": "code",
   "execution_count": null,
   "id": "fa8ce4cc",
   "metadata": {},
   "outputs": [
    {
     "name": "stdout",
     "output_type": "stream",
     "text": [
      "15\n",
      "10\n"
     ]
    },
    {
     "data": {
      "text/plain": [
       "'output:\\nerror'"
      ]
     },
     "execution_count": 36,
     "metadata": {},
     "output_type": "execute_result"
    }
   ],
   "source": [
    "#  Find   outputs\n",
    "def   f1():\n",
    "\tx = x + 5 # Error LV is not initialized\n",
    "\t#pass\n",
    "# End  of  f1  function\n",
    "def  f2():\n",
    "\tx = globals()['x'] + 5\n",
    "\tprint(x)\n",
    "# End of f2  function\n",
    "x = 10\n",
    "f1()\n",
    "f2()\n",
    "print(x)\n",
    "'''output:\n",
    "15\n",
    "10'''"
   ]
  }
 ],
 "metadata": {
  "kernelspec": {
   "display_name": "Python 3",
   "language": "python",
   "name": "python3"
  },
  "language_info": {
   "codemirror_mode": {
    "name": "ipython",
    "version": 3
   },
   "file_extension": ".py",
   "mimetype": "text/x-python",
   "name": "python",
   "nbconvert_exporter": "python",
   "pygments_lexer": "ipython3",
   "version": "3.12.10"
  }
 },
 "nbformat": 4,
 "nbformat_minor": 5
}

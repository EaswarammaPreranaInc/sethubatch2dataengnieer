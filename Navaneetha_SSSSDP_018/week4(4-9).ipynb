{
 "cells": [
  {
   "cell_type": "markdown",
   "id": "ec7edbbb",
   "metadata": {},
   "source": [
    "### 4/08/25"
   ]
  },
  {
   "cell_type": "code",
   "execution_count": 1,
   "id": "e39d5dfc",
   "metadata": {},
   "outputs": [
    {
     "name": "stdout",
     "output_type": "stream",
     "text": [
      "1\n",
      "Sec\n",
      "Hello\n",
      "2\n",
      "Sec\n",
      "Hello\n",
      "3\n",
      "4\n",
      "Sec\n",
      "Hello\n",
      "5\n",
      "Sec\n",
      "Hello\n",
      "6\n",
      "7\n",
      "Sec\n",
      "Hello\n",
      "Outside loop\n"
     ]
    }
   ],
   "source": [
    "# Find  outputs  (Home  work)\n",
    "for  i   in   range(1 , 8):\n",
    "\tprint(i)\t\n",
    "\tif  i % 3  == 0:\n",
    "\t\t\tcontinue\n",
    "\telse:\n",
    "\t\t\tprint('Sec')\n",
    "\tprint('Hello')\n",
    "# End of loop\n",
    "print('Outside loop')\n",
    "\n",
    "# output:  1 Sec Hello 2 Sec Hello 3 4 Sec Hello 5 Sec Hello 6 7 Sec Hello  Outside loop"
   ]
  },
  {
   "cell_type": "code",
   "execution_count": null,
   "id": "4ee4a722",
   "metadata": {},
   "outputs": [],
   "source": [
    "# Identify Error  (Home  work)\n",
    "if ():\n",
    "\tprint('Hyd')\n",
    "\tcontinue\t# continue is used inside the while or for loop only\n",
    "\tprint('Sec')"
   ]
  },
  {
   "cell_type": "code",
   "execution_count": 2,
   "id": "68c7aada",
   "metadata": {},
   "outputs": [
    {
     "name": "stdout",
     "output_type": "stream",
     "text": [
      "1\n",
      "Sec\n",
      "Hello\n",
      "2\n",
      "Sec\n",
      "Hello\n",
      "3\n",
      "Outside loop\n"
     ]
    }
   ],
   "source": [
    "# Find outputs (Home  work)\n",
    "for  i   in   range(1 , 8):\n",
    "\tprint(i)\n",
    "\tif   i % 3 == 0:\n",
    "\t\tbreak\n",
    "\telse:\n",
    "\t\tprint('Sec')\n",
    "\tprint('Hello')\n",
    "# End  of  the  loop\n",
    "print('Outside loop')\n",
    "\n",
    "# output : 1 Sec Hello 2 Sec Hello 3 Outside loop"
   ]
  },
  {
   "cell_type": "code",
   "execution_count": null,
   "id": "ba68d58a",
   "metadata": {},
   "outputs": [],
   "source": [
    "# Identify Error  (Home  work)\n",
    "if(10 , 20 , 30):\n",
    "\tprint('Hyd')\n",
    "\tbreak\t# break statement is used in only while or for loop\n",
    "\tprint('Sec')"
   ]
  },
  {
   "cell_type": "code",
   "execution_count": 3,
   "id": "446796df",
   "metadata": {},
   "outputs": [
    {
     "name": "stdout",
     "output_type": "stream",
     "text": [
      "1\n",
      "Sec\n",
      "Hello\n",
      "2\n",
      "Sec\n",
      "Hello\n",
      "3\n",
      "Hyd\n",
      "Hello\n",
      "4\n",
      "Sec\n",
      "Hello\n",
      "5\n",
      "Sec\n",
      "Hello\n",
      "6\n",
      "Hyd\n",
      "Hello\n",
      "7\n",
      "Sec\n",
      "Hello\n",
      "Outside loop\n"
     ]
    }
   ],
   "source": [
    "# Find  outputs  (Home  work)\n",
    "for  i   in   range(1 , 8):\n",
    "\tprint(i)\n",
    "\tif   i % 3 == 0:\n",
    "\t\tpass\n",
    "\t\tprint('Hyd')\n",
    "\telse:\n",
    "\t\tprint('Sec')\n",
    "\tprint('Hello')\n",
    "# End  of  the  loop\n",
    "print('Outside loop')\n",
    "\n",
    "#output: 1 Sec Hello 2 Sec Hello 3 Sec Hello  4 Sec Hello 5 Sec Hello 6 Sec Hello  7 Sec Hello  Outside loop"
   ]
  },
  {
   "cell_type": "code",
   "execution_count": null,
   "id": "39a718b4",
   "metadata": {},
   "outputs": [],
   "source": [
    "\n",
    "# Find  outputs  (Home  work)\n",
    "for  i   in   range(1 , 8):\n",
    "\tprint(i)\n",
    "\tif   i % 3 == 0:\n",
    "\t\texit()\n",
    "\telse:\n",
    "\t\tprint('Sec')\n",
    "\tprint('Hello')\n",
    "# End  of  the  loop\n",
    "print('Outside loop')\n",
    "\n",
    "# output: 1  Sec Hello 2 Sec Hello 3 Hello  4 Sec Hello 5 Sec Hello 6 Hello  7 Sec Hello Outside loop\n"
   ]
  },
  {
   "cell_type": "code",
   "execution_count": 1,
   "id": "c8c2cff3",
   "metadata": {},
   "outputs": [
    {
     "name": "stdout",
     "output_type": "stream",
     "text": [
      "1\n",
      "Sec\n",
      "Hello\n",
      "2\n",
      "Sec\n",
      "Hello\n",
      "3\n",
      "4\n",
      "Sec\n",
      "Hello\n",
      "5\n",
      "Sec\n",
      "Hello\n",
      "6\n",
      "7\n",
      "Sec\n",
      "Hello\n",
      "else  suite\n",
      "Outside  loop\n"
     ]
    }
   ],
   "source": [
    "# Find  outputs  (Home  work)\n",
    "for  i  in  range(1 , 8):\n",
    "\tprint(i)\n",
    "\tif   i % 3 == 0:\n",
    "\t\tcontinue\n",
    "\telse:\n",
    "\t\tprint('Sec')\n",
    "\tprint('Hello')\n",
    "else:\n",
    "\tprint('else  suite')\n",
    "# End  of  the  loop\n",
    "print('Outside  loop')\n",
    "# output: 1 Sec Hello 2 Sec Hello 3 4 Sec Hello 5 Sec Hello 6 7 Sec Hello else suite  Outside loop"
   ]
  },
  {
   "cell_type": "code",
   "execution_count": 2,
   "id": "65bd1521",
   "metadata": {},
   "outputs": [
    {
     "name": "stdout",
     "output_type": "stream",
     "text": [
      "1\n",
      "Sec\n",
      "Hello\n",
      "2\n",
      "Sec\n",
      "Hello\n",
      "3\n",
      "Outside  loop\n"
     ]
    }
   ],
   "source": [
    "# Find  outputs  (Home  work)\n",
    "for  i  in  range(1 , 8):\n",
    "\tprint(i)\n",
    "\tif  i % 3 == 0:\n",
    "\t\tbreak\n",
    "\telse:\n",
    "\t\tprint('Sec')\n",
    "\tprint('Hello')\n",
    "else:\n",
    "\tprint('else  suite')\n",
    "#End   of  the  loop\n",
    "print('Outside  loop')\n",
    "# 1 Sec Hello  2 Sec Hello 3 Outside loop"
   ]
  },
  {
   "cell_type": "code",
   "execution_count": 3,
   "id": "caa64bd4",
   "metadata": {},
   "outputs": [
    {
     "name": "stdout",
     "output_type": "stream",
     "text": [
      "1\n",
      "Sec\n",
      "Hello\n",
      "2\n",
      "Sec\n",
      "Hello\n",
      "3\n",
      "Sec\n",
      "Hello\n",
      "4\n",
      "Sec\n",
      "Hello\n",
      "5\n",
      "Sec\n",
      "Hello\n",
      "6\n",
      "Sec\n",
      "Hello\n",
      "7\n",
      "Sec\n",
      "Hello\n",
      "else  suite\n",
      "Outside loop\n"
     ]
    }
   ],
   "source": [
    "# Find  outputs  (Home  work)\n",
    "for  i  in  range(1 , 8):\n",
    "\tprint(i)\n",
    "\tif  i == 8:\n",
    "\t\tbreak\n",
    "\telse:\n",
    "\t\tprint('Sec')\n",
    "\tprint('Hello')\n",
    "else:\n",
    "\tprint('else  suite')\n",
    "# End  of  the  loop\n",
    "print('Outside loop')\n",
    "# 1 Sec Hello  2 Sec Hello  3 Sec Hello 4 Sec Hello 5 Sec Hello  6 Sec Hello  7 Sec Hello   else suite  Outside loop"
   ]
  },
  {
   "cell_type": "code",
   "execution_count": 4,
   "id": "41ebd004",
   "metadata": {},
   "outputs": [
    {
     "name": "stdout",
     "output_type": "stream",
     "text": [
      "Found at index 2\n"
     ]
    }
   ],
   "source": [
    "'''\n",
    "Write  a  program  to  search  for  an  element  in  the  list  without  using  in  operator  and\n",
    "print  Found  or  Not  Found  message  (Assume  that  there  are  no  duplicates)\n",
    "\n",
    "Let  list  be   [10 , 20 , 15 , 12 , 18]\n",
    "1) What  is  the  output  if  15  is  seacrhed ?  --->  Found  at  index  2\n",
    "\n",
    "2) What  is  the  output  if  19  is  seacrhed ?  --->  Not  found\n",
    "\n",
    "3) What  action  to  be  made  when  'x'  does  not  match  with  the  current  element  of  list ?  --->\n",
    "\t\t\t\t\t\t\t\t\t\t\t\t\t\t\t\t\t\t\t\t\t\tCompare  'x'  with  next  element  of  list\n",
    "\n",
    "4) What  action  to  be  made  when  'x'  matches   with  list  element ?  --->\n",
    "\t\t\t\t\t\t\t\t\t\t\t\t\t\t\t\t\t\t\t\tPrint  found   message  along  with  index  and\n",
    "\t\t\t\t\t\t\t\t\t\t\t\t\t\t\t\t\t\t\t\tdo  not  search  for  'x'  in  rest  of  the  list\n",
    "\n",
    "5) What  action  to  be  made  when  'x'   does  not  match  with  all  the  elements  of  list ?  --->\n",
    "\t\t\t\t\t\t\t\t\t\t\t\t\t\t\t\t\t\t\t\t\t\t\t\t\t\tPrint  not  found   message\n",
    "\n",
    "6) Hint: Use  for  loop\n",
    "\n",
    "Enter any list: [10,20,15,12,18]\n",
    "Enter the element to be searched : 15\n",
    "Found  at   index  :   2\n",
    "\n",
    "Enter any list: [25,10.8,'Hyd',True]\n",
    "Enter the element to be searched : 3+4j\n",
    "Not  Found\n",
    "'''\n",
    "list=eval(input(\"enter any list: \"))\n",
    "\n",
    "x= eval(input(\"enter the element to be serached\"))\n",
    "for i in range(len(list)):\n",
    "    if list[i]==x:\n",
    "        print(\"Found at index\", i)\n",
    "        break\n",
    "else:\n",
    "    print(\"Not found\")\n",
    "    "
   ]
  },
  {
   "cell_type": "code",
   "execution_count": 5,
   "id": "877894b2",
   "metadata": {},
   "outputs": [
    {
     "name": "stdout",
     "output_type": "stream",
     "text": [
      "6 Found at index 2\n",
      "6 Found at index 4\n",
      "6 is found 2 times\n"
     ]
    }
   ],
   "source": [
    "'''\n",
    "Write  a  program  to  search  for  an  element  in  the  list  and  print  index  of  each  element\n",
    "and  also  number  of  times  it  is  found (Assume  that  list  may  contain  duplicate  elements)\n",
    "\n",
    "List :   [10 , 20 , 15 , 12 , 18 , 15 , 19 , 14 , 15 , 14]\n",
    "\n",
    "Search  for  15\n",
    "\n",
    "Outputs :  15  is  found  at  index  2\n",
    "                 15  is  found  at  index  5\n",
    "                 15  is  found  at  index  8\n",
    "                 15  is  found   3  times\n",
    "'''\n",
    "list=eval(input(\"enter any list: \"))    # [3,2,6,4,6,4,2,1]\n",
    "x= eval(input(\"enter the element to be serached\"))  # 6\n",
    "count=0 # 2\n",
    "\n",
    "for i in range(len(list)):\n",
    "    if list[i]==x:\n",
    "        print(x,\"Found at index\", i)\n",
    "        count+=1\n",
    "        continue\n",
    "print(x, f'is found {count} times')    "
   ]
  },
  {
   "cell_type": "code",
   "execution_count": 6,
   "id": "b1d6c698",
   "metadata": {},
   "outputs": [
    {
     "name": "stdout",
     "output_type": "stream",
     "text": [
      "25\n",
      "25\n",
      "13\n",
      "13\n",
      "13\n",
      "6\n"
     ]
    }
   ],
   "source": [
    "#  Walrus   operator (:=)  demo  program\n",
    "print(a := 25)  # 25\n",
    "#print(a = 25)   # Assigns object 25 to reference a\n",
    "print(a)    # 25\n",
    "print(a := 6 + 7)   # 13\n",
    "print(a)    # 13\n",
    "print((a := 6) + 7) # 13\n",
    "print(a)    # 6\n",
    "#print((a = 6) + 7)  # error "
   ]
  },
  {
   "cell_type": "code",
   "execution_count": null,
   "id": "cbafbff1",
   "metadata": {},
   "outputs": [
    {
     "name": "stdout",
     "output_type": "stream",
     "text": [
      "Hyd\n",
      "Sec :  0\n",
      "Hyd\n",
      "Sec\n"
     ]
    }
   ],
   "source": [
    "# Find  outputs  (Home  work)\n",
    "a = 0\n",
    "if  a == 0:\n",
    "\tprint('Hyd')\t# Hyd\n",
    "else:\n",
    "\tprint('Sec')\t# sec\n",
    "if  b := 0:\n",
    "\tprint('Hyd')\t# hyd\n",
    "else:\n",
    "\tprint('Sec : ' , b)\t# sec: 0\n",
    "if  c = 0:\t# assign obj 25 to reference a\n",
    "\tprint('Hyd')\n",
    "else:\n",
    "\tprint('Sec')"
   ]
  },
  {
   "cell_type": "code",
   "execution_count": null,
   "id": "aba2e7c7",
   "metadata": {},
   "outputs": [],
   "source": [
    "'''\n",
    "(Home  work)\n",
    "Write  a  program to  determine  average  of  inputs  which  are  terminated  with  ctrl + z\n",
    "(without  walrus  operator)\n",
    "\n",
    "Let  inputs  be  25 , 10.8 , True ,  ctrl + z\n",
    "\n",
    "sum = 0 + 25 + 10.8 + True = 36.8\n",
    "ctr = 0 + 1 + 1 + 1 = 3\n",
    "\n",
    "1) What  is  ctrl + z ?  ---> End  of  inputs  i.e.  No  more  inputs\n",
    "\n",
    "2) What  does  input()  function  do  when  input  is  ctrl + z ?  ---> Throws  EOFError\n",
    "\n",
    "3) How  is   end  of  inputs  denoted  in  unix ?  ---> ctrl + d\n",
    "\n",
    "Enter input  (ctrl + z  to  stop)  :  25\n",
    "Enter input  (ctrl + z  to  stop)  :  10.8\n",
    "Enter input  (ctrl + z  to  stop)  :  True\n",
    "Enter input  (ctrl + z  to  stop)  :  36.9\n",
    "Enter input  (ctrl + z  to  stop)  :  45\n",
    "Enter input  (ctrl + z  to  stop)  :  False\n",
    "Enter input  (ctrl + z  to  stop)  :  92.8\n",
    "Enter input  (ctrl + z  to  stop)  :  ^Z\n",
    "Average :   30.214285714285715\n",
    "'''\n",
    "\n",
    "total = 0\n",
    "count = 0\n",
    "\n",
    "print(\"Enter input (Ctrl + Z to stop):\")\n",
    "\n",
    "while True:\n",
    "    try:\n",
    "        value = input()\n",
    "        # Evaluate the input to handle numbers, booleans, etc.\n",
    "        value = eval(value)\n",
    "        total += value\n",
    "        count += 1\n",
    "    except EOFError:\n",
    "        break\n",
    "    except:\n",
    "        print(\"Invalid input. Please enter a valid number or boolean.\")\n",
    "\n",
    "# Check if at least one value was entered\n",
    "if count > 0:\n",
    "    average = total / count\n",
    "    print(\"Average:\", average)\n",
    "else:\n",
    "    print(\"No valid inputs entered.\")"
   ]
  },
  {
   "cell_type": "code",
   "execution_count": null,
   "id": "5b55604a",
   "metadata": {},
   "outputs": [
    {
     "name": "stdout",
     "output_type": "stream",
     "text": [
      "25\n"
     ]
    }
   ],
   "source": [
    "#  del  operator  demo program  (Home  work)\n",
    "a = 25\n",
    "print(a)    # 25\n",
    "del   a\n",
    "print(a)    # error"
   ]
  },
  {
   "cell_type": "code",
   "execution_count": null,
   "id": "7a30546d",
   "metadata": {},
   "outputs": [
    {
     "name": "stdout",
     "output_type": "stream",
     "text": [
      "25 25 25\n",
      "25 25\n",
      "25\n"
     ]
    }
   ],
   "source": [
    "# Find  outputs  (Home  work)\n",
    "a = b = c = 25\n",
    "print(a , b , c)    # 25 25 25\n",
    "del   a\n",
    "print(b , c)    # 25 25\n",
    "print(a)    # error\n",
    "del   b\n",
    "print(c)    # 25\n",
    "print(b)    # error\n",
    "del   c\n",
    "print(c)    # error"
   ]
  },
  {
   "cell_type": "code",
   "execution_count": null,
   "id": "565deaf5",
   "metadata": {},
   "outputs": [
    {
     "name": "stdout",
     "output_type": "stream",
     "text": [
      "25 10.8 Hyd\n"
     ]
    }
   ],
   "source": [
    "#  Can  multiple  objects  be  deleted  with  same  del  operator ?\n",
    "a , b , c = 25 , 10.8 , 'Hyd'\n",
    "print(a , b , c)    # 25  10.8  'Hyd'\n",
    "del   a , b , c \n",
    "print(a)    # error\n",
    "print(b)    # error\n",
    "print(c)    # error"
   ]
  },
  {
   "cell_type": "code",
   "execution_count": null,
   "id": "464c69da",
   "metadata": {},
   "outputs": [
    {
     "name": "stdout",
     "output_type": "stream",
     "text": [
      "[10, 20, 15, 18]\n",
      "[10, 20, 18]\n"
     ]
    }
   ],
   "source": [
    "# Find outputs  (Home  work)\n",
    "a = [10 , 20 , 15 , 18]\n",
    "print(a)    # [10 , 20 , 15 , 18]\n",
    "del  a[2]   # 15 is deleted\n",
    "print(a)    #  [10 , 20 , 18]\n",
    "del  a  #  entire list will be deleted\n",
    "print(a)    # error\n",
    "print(a[0]) # error"
   ]
  },
  {
   "cell_type": "code",
   "execution_count": null,
   "id": "da52e39e",
   "metadata": {},
   "outputs": [
    {
     "name": "stdout",
     "output_type": "stream",
     "text": [
      "(10, 20, 15, 18)\n",
      "10\n"
     ]
    }
   ],
   "source": [
    "# Find outputs  (Home work)\n",
    "a = (10 , 20 , 15 , 18)\n",
    "print(a)    # (10 , 20 , 15 , 18)\n",
    "print(a[0]) # 10\n",
    "#del  a[2]   # Error bcz tuple doesnt support single element deletion\n",
    "del  a  # whole tuple is deleted\n",
    "print(a)    # error\n",
    "print(a[0]) # error"
   ]
  },
  {
   "cell_type": "markdown",
   "id": "5198c0c3",
   "metadata": {},
   "source": [
    "### 6/08/25"
   ]
  },
  {
   "cell_type": "code",
   "execution_count": null,
   "id": "748aea3d",
   "metadata": {},
   "outputs": [],
   "source": [
    "try:\n",
    "    sum = ctr = 0\n",
    "    while True:\n",
    "        sum += (x := eval(input('Enter input (ctrl + z to stop): ')))\n",
    "        ctr += 1\n",
    "except EOFError:\n",
    "    try:\n",
    "        print(f'Average : {sum / ctr}')\n",
    "    except ZeroDivisionError:\n",
    "        print('Enter at least one input')\n",
    "except (NameError, TypeError):\n",
    "    print('Input cannot be string')\n"
   ]
  },
  {
   "cell_type": "markdown",
   "id": "2c72acbe",
   "metadata": {},
   "source": [
    "### 7/08/25"
   ]
  },
  {
   "cell_type": "code",
   "execution_count": null,
   "id": "7d187b74",
   "metadata": {},
   "outputs": [],
   "source": [
    "'''\n",
    "Write  a  program  to  determine  largest  command  line  input\n",
    "\n",
    "1) py   prog2.py   10     20     30.8   7  40    35.6\n",
    "    What  is  the  largest  command  line  input ?  ---> 40\n",
    "    What  is  argv ?  --->  ['prog2.py' , '10' , '20' , '30.8' , '7' , '40' , '35.6']\n",
    "    What  is  list  'a' ?  --->  [10 , 20 , 30.8 , 7 , 40 , 35.6]\n",
    "    How  to  determine  largest  element  of  list  'a' ?   ---> max(a)  i.e.  40\n",
    "    What  is  the  result  of  max(argv[1:]) ?  ---> '7'\n",
    "    What  is  the  issue  with  max(argv[1:])) ?  --->\n",
    "\t\t\t\t\t\t\t\t\t\t\tLargest  string  is  obtained  but  not  largest  number\n",
    "\n",
    "2) py  prog2.py\n",
    "    What  is  the  output ?  ---> Pls  send  inputs\n",
    "\n",
    "3) py   prog2.py   'Rama'   'Sita'   'Rajesh'   'Manohar'   'Vamsi'   'Amar'\n",
    "    What  is  the  largest  command  line  input ?  --->  'Vamsi'\n",
    "\n",
    "4) py   prog2.py   25   'Ten'\n",
    "    What  is  the  output ?  --->  Inputs  can  not  be  number  and  string\n",
    "\n",
    "5) Hint1: Use  for  loop\n",
    "\n",
    "6) Hint2: Use  try  and  except\n",
    "'''\n",
    "import sys\n",
    "\n",
    "a = sys.argv[1:]  # command line inputs\n",
    "\n",
    "if len(a) == 0:\n",
    "    print(\"Pls send inputs\")\n",
    "elif all(x.replace('.', '', 1).isdigit() for x in a):  # all numbers\n",
    "    largest = float(a[0])\n",
    "    for val in a[1:]:\n",
    "        if float(val) > largest:\n",
    "            largest = float(val)\n",
    "    print(\"Largest command line input:\", largest)\n",
    "elif all(x.isalpha() for x in a):  # all words\n",
    "    largest = a[0]\n",
    "    for val in a[1:]:\n",
    "        if val > largest:\n",
    "            largest = val\n",
    "    print(\"Largest command line input:\", largest)\n",
    "else:\n",
    "    print(\"Inputs can not be number and string\")\n"
   ]
  },
  {
   "cell_type": "code",
   "execution_count": null,
   "id": "65ee909a",
   "metadata": {},
   "outputs": [],
   "source": [
    "'''\n",
    "Write  a  program  to  determine  command  line  input  is  even  number  or  odd  number\n",
    "\n",
    "1) py  prog3.py  26\n",
    "    What  is  the  output ?  ---> Even  number\n",
    "\n",
    "2) py  prog3.py  45\n",
    "    What  is  the  output ?  ---> Odd  number\n",
    "\n",
    "3) py  prog3.py\n",
    "    What  is  the  output  ?  ---> Pls  send  an  integer  input\n",
    "\n",
    "4) py  prog3.py  10.8\n",
    "    What  is  the  output ?  --->  Pls  send   an  integer  input\n",
    "\n",
    "5) py  prog3.py  Ten\n",
    "    What  is  the  output  ?  --->  Pls  send   an  integer  input\n",
    "'''\n",
    "import sys\n",
    "\n",
    "if len(sys.argv) != 2:\n",
    "    print(\"Pls send an integer input\")\n",
    "else:\n",
    "    try:\n",
    "        n = int(sys.argv[1])\n",
    "        print(\"Even number\" if n % 2 == 0 else \"Odd number\")\n",
    "    except ValueError:\n",
    "        print(\"Pls send an integer input\")\n"
   ]
  },
  {
   "cell_type": "code",
   "execution_count": null,
   "id": "ce142dba",
   "metadata": {},
   "outputs": [],
   "source": [
    "'''\n",
    "Write  a  program  to  determine  average  of  command  line  inputs\n",
    "\n",
    "1) py   prog4.py   10.8   25   True   14.6   19   False   7.4\n",
    "    What  is  argv ?  --->['prog4.py' , '10.8' , '25' , 'True' , '14.6' , '19' , 'False' , '7.4']\n",
    "    What  is  list  'a'  ?  ---> \t[10.8 , 25 , True , 14.6 , 19 , False , 7.4]\n",
    "\tHow  to  determine  sum  of  list  elements ?  ---> sum(a)\n",
    "    How  to  determine  number  of  list  elements ?  ---> len(a)\n",
    "\n",
    "2) py   prog4.py\n",
    "    What  is  the  output ?  ---> Pls  send  number  inputs\n",
    "\n",
    "3) py   prog4.py  25   'Ten'\n",
    "    What  is  the  output  ?  --->  Pls  send  number  inputs\n",
    "'''\n",
    "import sys\n",
    "\n",
    "args = sys.argv[1:]  # skip script name\n",
    "\n",
    "if len(args) == 0:\n",
    "    print(\"Pls send number inputs\")\n",
    "else:\n",
    "    try:\n",
    "        nums = [float(x) for x in args]  # convert all to numbers\n",
    "        avg = sum(nums) / len(nums)\n",
    "        print(\"Average:\", avg)\n",
    "    except ValueError:\n",
    "        print(\"Pls send number inputs\")\n"
   ]
  },
  {
   "cell_type": "code",
   "execution_count": null,
   "id": "17487ae1",
   "metadata": {},
   "outputs": [],
   "source": [
    "'''\n",
    "Write  a  program  to  sort  command  line  inputs  in  ascending  order  and  descending  order\n",
    "\n",
    "1) py  prog5.py  10   20    15.8   5   12.6\n",
    "    What  is  argv ?  ---> ['prog5.py' , '10' , '20' , '15.8' , '5' , '12.6']\n",
    "    What  is  list  'a' ?  --->  [10 , 20 , 15.8 , 5 , 12.6]\n",
    "    How  to  sort  list  'a' ?  --->  sorted(a)\n",
    "    How  to  sort  list  'a'  in  descending  order  ?  ---> sorted(a , reverse = True)\n",
    "\n",
    "2) py  prog5.py   25   'Ten'\n",
    "    What  is  the  output ?  --->  Pls  don't  send  number  and  string  inputs  together\n",
    "'''\n",
    "import sys\n",
    "\n",
    "args = sys.argv[1:]\n",
    "\n",
    "if not args:\n",
    "    print(\"Pls send number inputs\")\n",
    "else:\n",
    "    try:\n",
    "        nums = [float(x) for x in args]\n",
    "        print(\"Ascending:\", sorted(nums))\n",
    "        print(\"Descending:\", sorted(nums, reverse=True))\n",
    "    except ValueError:\n",
    "        if all(x.isalpha() for x in args):\n",
    "            print(\"Ascending:\", sorted(args))\n",
    "            print(\"Descending:\", sorted(args, reverse=True))\n",
    "        else:\n",
    "            print(\"Pls don't send number and string inputs together\")\n"
   ]
  },
  {
   "cell_type": "code",
   "execution_count": 14,
   "id": "6b88f565",
   "metadata": {},
   "outputs": [
    {
     "name": "stdout",
     "output_type": "stream",
     "text": [
      "True\n",
      "True\n",
      "False\n",
      "True\n",
      "False\n",
      "True\n",
      "False\n"
     ]
    }
   ],
   "source": [
    "# Find outputs  (Home  work)\n",
    "print( 'green'   in   'Hyd  is  green  city')   #True\n",
    "print('day'   in   'Sankar  dayal  sarma')  # True\n",
    "print('Green'   in   'Hyd  is  green  city')    # False\n",
    "print('d  is'   in   'Hyd  is  green  city')    # True\n",
    "print('dis'   in   'Hyd  is  green  city')  # False\n",
    "print('iniv'   in   'Srinivas') # True\n",
    "print('iniv'   not   in   'Srinivas')   # False"
   ]
  },
  {
   "cell_type": "code",
   "execution_count": 15,
   "id": "2d83db7e",
   "metadata": {},
   "outputs": [
    {
     "name": "stdout",
     "output_type": "stream",
     "text": [
      "Rm a\n",
      "Rama Ra\n",
      "ma\n",
      "ma Rao\n",
      "Rama\n",
      "Rm a\n",
      "ma Ra\n",
      "ma Rao\n",
      "oaR\n",
      "Ra\n",
      "Rao\n",
      "Rama Rao\n",
      "Rama Rao\n",
      "oaR amaR\n",
      "oRaa\n",
      "a mR\n",
      "ma Rao\n",
      "\n",
      "oaR a\n",
      "ma \n",
      "aaR\n",
      "o\n",
      "m\n",
      "m\n",
      "oaR ama\n",
      "aa\n"
     ]
    }
   ],
   "source": [
    "'''  (Home  work)\n",
    "Slice  demo  program\n",
    "0      1       2        3      4       5       6       7\n",
    "R      a      m        a               R       a       o\n",
    "-8    -7     -6      -5     -4      -3     -2      -1\n",
    "'''\n",
    "a = 'Rama Rao'\n",
    "print(a [ : 7 : 2]) #Rm a\n",
    "print(a [ : 7]) # RAMA Ra\n",
    "print(a [2 : 4])    # ma\n",
    "print(a [2 : ]) # ma Rao\n",
    "print(a [ : 4 ])    # Rama\n",
    "print(a [ : : 2])   # Rm a\n",
    "print(a [-6 : -1])  # ma ra\n",
    "print(a [-6 : ])    #ma Rao\n",
    "print(a [: -4 : -1])    # oaR\n",
    "print(a [-3 : -1]) #  a[-3 : -1 : 1]  --->  string  from  indexes  -3  to  -2  in  steps  of  1  i.e.  Ra\n",
    "print(a [-3 : ])    # Rao\n",
    "print(a [ : : ])    # Rama Rao\n",
    "print(a [ : ])  # Rama Rao\n",
    "print(a [ : : -1])  # oaR amaR\n",
    "print(a [ : : -2])  # oRaa\n",
    "print(a [ -2 : : -2])  #  a[-2 : -9 : -2]  --->  string  from  indexes  -2  to  -8  in  steps  of  -2  i.e.  a<space>mR\n",
    "print(a [2 : 8])    #ma Rao\n",
    "print(a [2 : 8 : -1])   # nothing\n",
    "print(a [ : -6 : -1])   #oaR a\n",
    "print(a [2 : -3])   # ma \n",
    "print(a [1 : 6 : 2])    # aaR\n",
    "print(a [ : -5 : -5])   # 9\n",
    "print(a [2 : -5])   # m\n",
    "print(a [2 : -5 : 2])   # m\n",
    "print(a [ : 0 : -1])    # oaR ama\n",
    "print(a [-5 : 0 : -2])  # aa"
   ]
  },
  {
   "cell_type": "code",
   "execution_count": 16,
   "id": "042bd9eb",
   "metadata": {},
   "outputs": [
    {
     "name": "stdout",
     "output_type": "stream",
     "text": [
      "Result: Pyva Jathon\n"
     ]
    },
    {
     "data": {
      "text/plain": [
       "' \\nst1=input(\"Enter first string: \")\\nst2=input(\"Enter second string: \")\\nif len(st1)<2 or len(st2)<2:\\n    print(\"Input should be a min of 2-char string\")\\nelse:\\n    st3=st2[:2]+st1[2:]\\n    st4=st1[:2]+st2[2:]\\n    print(f\\'Result: {st3} {st4}\\')\\n'"
      ]
     },
     "execution_count": 16,
     "metadata": {},
     "output_type": "execute_result"
    }
   ],
   "source": [
    "'''\n",
    "Write  a  program  to  concatenate  two  strings  separated  by  space  but  swap  first  two\n",
    "characters  of  the  two  strings.\n",
    "Assume  that  each  string  has  a   minimum  of  two  characters\n",
    "\n",
    "Let  inputs  be  Java  and  Python\n",
    "What  are  the  outputs ?  --->  Pyva<space>Jathon\n",
    "\n",
    "Hint:  Use  slice\n",
    "\n",
    "Enter first string: Java\n",
    "Enter second string: Python\n",
    "Result  :   Pyva Jathon\n",
    "\n",
    "Enter first string: A\n",
    "Enter second string: HYD\n",
    "Input  should  be  a  min  of  2-char  string\n",
    "'''\n",
    "try:\n",
    "    st1=input(\"Enter first string: \")\n",
    "    st2=input(\"Enter second string: \")\n",
    "    st3=st2[:2]+st1[2:]\n",
    "    st4=st1[:2]+st2[2:]\n",
    "    print(f'Result: {st3} {st4}')\n",
    "except:\n",
    "    print(\"Input should be a min of 2-char string\")\n",
    "\n",
    "    ## OR\n",
    "''' \n",
    "st1=input(\"Enter first string: \")\n",
    "st2=input(\"Enter second string: \")\n",
    "if len(st1)<2 or len(st2)<2:\n",
    "    print(\"Input should be a min of 2-char string\")\n",
    "else:\n",
    "    st3=st2[:2]+st1[2:]\n",
    "    st4=st1[:2]+st2[2:]\n",
    "    print(f'Result: {st3} {st4}')\n",
    "'''\n"
   ]
  },
  {
   "cell_type": "code",
   "execution_count": 17,
   "id": "0551dba9",
   "metadata": {},
   "outputs": [
    {
     "name": "stdout",
     "output_type": "stream",
     "text": [
      "PYON\n"
     ]
    }
   ],
   "source": [
    "'''\n",
    "Write  a  program  to  print  first  two  and  the  last  two  characters  of  the  string\n",
    "Print  an  empty  string  if  string  has  less  than  four  characters\n",
    "\n",
    "1) Let  input  be  PYTHON\n",
    "    What  is  the  output ?  ---> PYON\n",
    "\n",
    "2) Let  input  be  Hyd\n",
    "    What  is  the  output ?  --->  Nothing\n",
    "'''\n",
    "st=input(\" Enter first string: \")\n",
    "if len(st)<4 :\n",
    "    print()\n",
    "else:\n",
    "    print(st[:2]+st[-2:])\n"
   ]
  },
  {
   "cell_type": "code",
   "execution_count": 18,
   "id": "567c71fe",
   "metadata": {},
   "outputs": [
    {
     "name": "stdout",
     "output_type": "stream",
     "text": [
      "Character at index 0: V\n",
      "Character at index 1: A\n",
      "Character at index 2: M\n",
      "Character at index 3: S\n",
      "Character at index 4: I\n",
      "\n",
      "Character at index -1: I \n",
      "Character at index -2: S \n",
      "Character at index -3: M \n",
      "Character at index -4: A \n",
      "Character at index -5: V \n"
     ]
    }
   ],
   "source": [
    "'''\n",
    "Write  a  program  to  print  characters  of  the  string  in  forward  and  reverse\n",
    "directions  without  slice\n",
    "\n",
    "       \t     \t\t 0      1     2      3     4\n",
    "Let  input  be\t\t  V     A     M     S     I\n",
    "\t\t\t         -5    -4    -3    -2    -1\n",
    "\n",
    "What  are  the  outputs ?  --->  Character  at  index  0  :  V\n",
    "\t\t\t\t\t\t\t\t                 Character  at  index  1  :  A\n",
    "\t\t\t\t\t\t\t\t                 Character  at  index  2  :  M\n",
    "\t\t\t\t\t\t\t                     Character  at  index  3  :  S\n",
    "\t\t\t\t\t\t\t\t                 Character  at  index  4  :  I\n",
    "\n",
    "\t\t\t\t\t\t\t\t                 Character  at  index  -1  :  I\n",
    "\t\t\t\t\t\t\t\t                 Character  at  index  -2  :  S\n",
    "\t\t\t\t\t\t\t\t                 Character  at  index  -3  :  M\n",
    "\t\t\t\t\t\t\t\t                 Character  at  index  -4  :  A\n",
    "\t\t\t\t\t\t\t\t                 Character  at  index  -5  :  V\n",
    "\n",
    "Hint:  Use  two  for  loops\n",
    "'''\n",
    "st=input(\"Enter a string: \")\n",
    "for i in range(len(st)):\n",
    "    print(f'Character at index {i}: {st[i]}')\n",
    "print()\n",
    "for i in range(-1, -len(st)-1,-1):\n",
    "    print(f'Character at index {i}: {st[i]} ')\n"
   ]
  },
  {
   "cell_type": "code",
   "execution_count": 19,
   "id": "a8590a6c",
   "metadata": {},
   "outputs": [
    {
     "name": "stdout",
     "output_type": "stream",
     "text": [
      "String at even indexes: RM A\n",
      "String at odd indexes: AARO\n"
     ]
    }
   ],
   "source": [
    "'''\n",
    "Write  a  program  to  print  characters  at  even  and  odd  indexes  without  slice\n",
    "\n",
    "\t\t\t\t\t  0      1     2      3     4       5     6      7\n",
    "Let  input  be        R      a     m      a             R     a      o\n",
    "\n",
    "odd =  '' + 'a' + 'a' + 'R' + 'o' = 'aaRo'\n",
    "even =   '' + 'R' + 'm' + ' '  + 'a' = 'Rm a'\n",
    "\n",
    "1) What  action  to  be  made  when  index  is  even ?  --->\n",
    "\t\t\t\t\t\t\t\tConcatenate  the  character  to  even  object\n",
    "\n",
    "2) What  action  to  be  made  when  index  is  odd ?  --->\n",
    "\t\t\t\t\t\t\t\tConcatenate  the  characeter  to  odd  object\n",
    "\n",
    "3) Hint: Use  single  for  loop\n",
    "\n",
    "Enter  any  string  :  RAMA RAO\n",
    "String  at  even  indexes  : RM A\n",
    "String  at  odd  indexes  : AARO\n",
    "'''\n",
    "st=input(\"Enter string: \")\n",
    "even=''\n",
    "odd=''\n",
    "for i in range(len(st)):\n",
    "    if i%2==0:\n",
    "        even+=(st[i])\n",
    "    else:\n",
    "        odd+=(st[i])\n",
    "        \n",
    "print(f'String at even indexes: {even}')\n",
    "print(f'String at odd indexes: {odd}')\n",
    "        \n",
    "\n"
   ]
  },
  {
   "cell_type": "code",
   "execution_count": 20,
   "id": "7785dfcc",
   "metadata": {},
   "outputs": [
    {
     "name": "stdout",
     "output_type": "stream",
     "text": [
      "Result:  AAAABBBCC$$$$$\n"
     ]
    }
   ],
   "source": [
    "'''\n",
    "Let  input  be    A   4   B   3   C   2   $   5\n",
    "                         0   1    2   3   4   5   6   7\n",
    "\n",
    "What  is  the  output ?  --->  AAAABBBCC$$$$$\n",
    "\n",
    "1) What  is  the  result  of  'A' * 4  ?  ---> 'AAAA'\n",
    "\n",
    "2)  i        a[i]       a[i + 1]          out\n",
    "   -------------------------------------------------------\n",
    "                                               ''\n",
    "     0        'A'          '4'            '' + 'A' * 4 = 'AAAA'\n",
    "\n",
    "\t 2        'B'          '3'            'AAAA' + 'B' * 3 = 'AAAA' + 'BBB' = 'AAAABBB'\n",
    "\n",
    "\t 4        'C'          '2'            'AAAABBB' + 'C' * 2 = 'AAAABBB' + 'CC' = 'AAAABBBCC'\n",
    "\n",
    "\t 6        '$'          '5'            'AAAABBBCC' + '$' * 5 = 'AAAABBBCC' + '$$$$$' = 'AAAABBBCC$$$$$'\n",
    "   -------------------------------------------------------\n",
    "What  is  the  difference  between  a[i]   and  a[i + 1] ?  --->\n",
    "\t\t\t\t\t\t\t\ta[i]  is  ith  char  of  string  and  a[i + 1]  is  (i + 1)th  char  of  string\n",
    "\n",
    "Enter  any  string  with  alternate  character  and  digit :  A4B3C2$5\n",
    "Result :   AAAABBBCC$$$$$\n",
    "\n",
    "Enter  any  string  with  alternate  character  and  digit :  HYD\n",
    "String   should  have  alternate  character  and  digit\n",
    "'''\n",
    "#st=input(\"Enter  any  string  with  alternate  character  and  digit : \")\n",
    "st='A4B3C2$5'\n",
    "res=''\n",
    "p='' \n",
    "i=0\n",
    "while i<len(st):\n",
    "   if st[i]>='0' and st[i]<='9':\n",
    "      res+=p*int(st[i])\n",
    "   else:\n",
    "      p=st[i]\n",
    "   i+=1\n",
    "print('Result: ',res)"
   ]
  },
  {
   "cell_type": "code",
   "execution_count": 21,
   "id": "5818ab32",
   "metadata": {},
   "outputs": [
    {
     "name": "stdout",
     "output_type": "stream",
     "text": [
      "Result: HVYADMSI\n"
     ]
    }
   ],
   "source": [
    "'''\n",
    "Write  a  program  to  merge  two  strings  to  form  a  new  string\n",
    "\n",
    "1) Let  inputs  be    HYD   and   VAMSI\n",
    "   What  is  the  output  ?  --->  HVYADMSI\n",
    "\n",
    "         0     1    2\n",
    "a  --->   H     Y    D\n",
    "\n",
    "           0    1     2     3    4\n",
    "b  --->    V    A    M    S    I\n",
    "\n",
    "\n",
    "i       a[i]        b[i]          c\n",
    "--------------------------------------------------------\n",
    "                                    ''\n",
    "0      'H'        'V'          '' + 'H' + 'V' = 'HV'\n",
    "\n",
    "1      'Y'        'A'          'HV' + 'Y' + 'A' = 'HVYA'\n",
    "\n",
    "2      'D'       'M'          'HVYA' + 'D' + 'M' = 'HVYADM'\n",
    "--------------------------------------------------------\n",
    "Concatenate  remainging  characters   of  the  other  string  to  object  'c'\n",
    "What  is  the  final  result ?  --->  'HVYADMSI'\n",
    "\n",
    "Hint:  Use  single  while  loop  and  slice\n",
    "\n",
    "Enter  first  string  :  HYD\n",
    "Enter  second  string  :  VAMSI\n",
    "Result  :   HVYADMSI\n",
    "\n",
    "Enter  first  string  :  SAIRAM\n",
    "Enter  second  string  :  HYD\n",
    "Result  :   SHAYIDRAM\n",
    "'''\n",
    "\n",
    "st1=input(\"Enter first string: \")\n",
    "st2=input(\"Enter second string: \")\n",
    "res=''\n",
    "i=0\n",
    "while i<len(st1) or i<len(st2):\n",
    "   if i<len(st1) and i<len(st2):\n",
    "      res+=st1[i]+st2[i]\n",
    "   elif i<len(st1):\n",
    "      res+=st1[i]\n",
    "   elif i<len(st2):\n",
    "      res+=st2[i] \n",
    "   i+=1 \n",
    "print(f'Result: {res}')       \n",
    "    "
   ]
  },
  {
   "cell_type": "code",
   "execution_count": 22,
   "id": "b8ca0cdb",
   "metadata": {},
   "outputs": [
    {
     "name": "stdout",
     "output_type": "stream",
     "text": [
      "String without duplicates: MISP\n"
     ]
    }
   ],
   "source": [
    "'''\n",
    "Write  a  program  to  remove  duplicate  characters  of  the  string  without  using  set\n",
    "\n",
    "1) Let  input  be   RAMA  RAO\n",
    "   What  is  the  output ? ---> RAM<space>O\n",
    "\n",
    "2) out = '' + 'R' = 'R' + 'A' = 'RA' + 'M' = 'RAM' + ' ' = 'RAM ' + 'O' = 'RAM O'\n",
    "\n",
    "3) What  action  to  be  made  if  the  character  is  not  in  out  object ?  --->\n",
    "\t\t\t\t\t\t\t\t\t\t\t\t\t\t\t\t\tConcatenate  the  character  to  out  object\n",
    "\n",
    "4) What  action  to  be  made  if  the  character  is  already  in  out  object ?  --->\n",
    "\t\t\t\t\t\t\t\t\t\t\t\t\t\t\t\t\t\t\t\t\t\t\tIgnore  the  character\n",
    "\n",
    "5) Hint:  Use  not  in   operator\n",
    "\n",
    "Enter  any  string  :  MISSISIPI\n",
    "String  without  duplicates  :    MISP\n",
    "'''\n",
    "st=input(\"Enter any string: \")\n",
    "res=''\n",
    "for i in st:\n",
    "    if i not in res:\n",
    "        res+=i\n",
    "print(f'String without duplicates: {res}')"
   ]
  },
  {
   "cell_type": "code",
   "execution_count": null,
   "id": "004ec9ea",
   "metadata": {},
   "outputs": [
    {
     "name": "stdout",
     "output_type": "stream",
     "text": [
      "3\n",
      "8\n",
      "4\n",
      "3\n",
      "0\n",
      "1\n",
      "3\n"
     ]
    },
    {
     "data": {
      "text/plain": [
       "'\\nWhat  does  len(str)  do  ?  --->  Returns  number  of  characters  in  the  string\\n'"
      ]
     },
     "execution_count": 24,
     "metadata": {},
     "output_type": "execute_result"
    }
   ],
   "source": [
    "# len()  function  demo  program  (Home  work)\n",
    "print(len('Hyd'))  #  3\n",
    "print(len('Rama Rao'))  # 8\n",
    "print(len('9247'))  # 4\n",
    "print(len('+-$'))   # 3\n",
    "print(len(''))  #0\n",
    "print(len(' ')) # 1\n",
    "print(len('A2#'))   # 3\n",
    "print(len(3456))    # error\n",
    "print('Sec'. len()) # error\n",
    "\n",
    "\n",
    "'''\n",
    "What  does  len(str)  do  ?  --->  Returns  number  of  characters  in  the  string\n",
    "'''"
   ]
  },
  {
   "cell_type": "code",
   "execution_count": 25,
   "id": "fb4e10f2",
   "metadata": {},
   "outputs": [
    {
     "name": "stdout",
     "output_type": "stream",
     "text": [
      "A\n",
      "Z\n",
      "a\n",
      "z\n",
      "0\n",
      "9\n",
      "$\n",
      " \n"
     ]
    },
    {
     "data": {
      "text/plain": [
       "'\\nWhat  does  chr()  function  do ?  --->  Converts  unicode  value  to  character\\n'"
      ]
     },
     "execution_count": 25,
     "metadata": {},
     "output_type": "execute_result"
    }
   ],
   "source": [
    "# chr()  function  demo  program\n",
    "print(chr(65))  #   Converts  unicode  value  65  to  'A'\n",
    "print(chr(90))  # Z\n",
    "print(chr(97))  # a\n",
    "print(chr(122)) # z\n",
    "print(chr(48))  # 0\n",
    "print(chr(57))  # 9\n",
    "print(chr(36))  # $\n",
    "print(chr(32))  # <space>\n",
    "\n",
    "'''\n",
    "What  does  chr()  function  do ?  --->  Converts  unicode  value  to  character\n",
    "'''"
   ]
  },
  {
   "cell_type": "code",
   "execution_count": 26,
   "id": "c9d98193",
   "metadata": {},
   "outputs": [
    {
     "name": "stdout",
     "output_type": "stream",
     "text": [
      "65\n",
      "90\n",
      "97\n",
      "122\n",
      "48\n",
      "57\n",
      "36\n",
      "32\n"
     ]
    },
    {
     "data": {
      "text/plain": [
       "\"\\nord()  function\\n------------------\\n1) What  does  ord()  function  do ?  ---> Converts  character  to  unicode  value\\n\\n2) How  many  unicode  values  exist ?  ---> 512\\n\\n3) What  is  the  range  of  unicode  values ?  ---> 0  to  511\\n\\n4) What  are  the  unicode  values  of  'A'  -  'Z' ?  ---> 65  to  90\\n     What  are  the  unicode  values  of  'a'  -  'z' ?  ---> 97  to  122\\n     What  are  the  unicode  values  of  '0'  -  '9' ?  ---> 48  to  57\\n\\n5) What  is  another  name  of  unicode ?  ---> Extended  Ascii\\n\\nNote:  chr()  and  ord()  are  quite  opposite  functions\\n\""
      ]
     },
     "execution_count": 26,
     "metadata": {},
     "output_type": "execute_result"
    }
   ],
   "source": [
    "# ord()  function  demo  program\n",
    "print(ord('A'))  #  Converts  'A'  to  unicode  value  65\n",
    "print(ord('Z'))     #  90\n",
    "print(ord('a'))     # 97\n",
    "print(ord('z'))     # 122\n",
    "print(ord('0'))     # 48\n",
    "print(ord('9'))     #57\n",
    "print(ord('$'))     # 36\n",
    "print(ord(' '))     # 32\n",
    "\n",
    "\n",
    "\n",
    "'''\n",
    "ord()  function\n",
    "------------------\n",
    "1) What  does  ord()  function  do ?  ---> Converts  character  to  unicode  value\n",
    "\n",
    "2) How  many  unicode  values  exist ?  ---> 512\n",
    "\n",
    "3) What  is  the  range  of  unicode  values ?  ---> 0  to  511\n",
    "\n",
    "4) What  are  the  unicode  values  of  'A'  -  'Z' ?  ---> 65  to  90\n",
    "     What  are  the  unicode  values  of  'a'  -  'z' ?  ---> 97  to  122\n",
    "     What  are  the  unicode  values  of  '0'  -  '9' ?  ---> 48  to  57\n",
    "\n",
    "5) What  is  another  name  of  unicode ?  ---> Extended  Ascii\n",
    "\n",
    "Note:  chr()  and  ord()  are  quite  opposite  functions\n",
    "'''"
   ]
  },
  {
   "cell_type": "code",
   "execution_count": 29,
   "id": "f85b0513",
   "metadata": {},
   "outputs": [
    {
     "name": "stdout",
     "output_type": "stream",
     "text": [
      "Result: AEMPZ_DF\n"
     ]
    }
   ],
   "source": [
    "'''\n",
    "Let  input  be  A4M3Z5D2\n",
    "\n",
    "What  is  the  output ?  --->  AEMPZ_DF\n",
    "\n",
    " 0     1     2     3    4    5    6     7\n",
    " A    4     M    3    Z    5    D     2\n",
    "\n",
    "\n",
    "   i       a[i]      a[i + 1]         out\n",
    "--------------------------------------------------------------------------------\n",
    "                                          ''\n",
    "  0       'A'           '4'          '' + 'A' + chr(65 + 4) = '' + 'A' + 'E' = 'AE'\n",
    "\n",
    "  2       'M'           '3'          'AE' + 'M' + chr(77 + 3) = 'AE' + 'M' + 'P' = 'AEMP'\n",
    "\n",
    "  4       'Z'           '5'          'AEMP' + 'Z' + chr(90 + 5) = 'AEMP' + 'Z' + '_' = 'AEMPZ_'\n",
    "\n",
    "  6       'D'           '2'          'AEMPZ_' + 'D' + chr(68 + 2) = 'AEMPZ_' + 'D' + 'F' = 'AEMPZ_DF'\n",
    "-----------------------------------------------------------------------------------\n",
    "Hint: Use  chr()  and  ord()  functions\n",
    "\n",
    "Enter  any  string  with  alternate  character  and  digit  :  A4M3Z5D2\n",
    "Result  :   AEMPZ_DF\n",
    "\n",
    "Enter  any  string  with  alternate  character  and  digit  :  HYD\n",
    "Pls  enter  string  with  alternate  char  and  digit\n",
    "'''\n",
    "st = input(\"Enter any string with alternate character and digit: \")\n",
    "\n",
    "if len(st) % 2 != 0:   # check even length\n",
    "    print(\"Pls enter string with alternate char and digit\")\n",
    "else:\n",
    "    i = 0\n",
    "    res = ''\n",
    "    while i < len(st):\n",
    "        if not st[i+1].isdigit():   # check if next is a digit\n",
    "            print(\"Pls enter string with alternate char and digit\")\n",
    "            break\n",
    "        res += st[i] + chr(ord(st[i]) + int(st[i+1]))\n",
    "        i += 2\n",
    "    else:   # runs only if while loop finished normally\n",
    "        print(f'Result: {res}')\n"
   ]
  }
 ],
 "metadata": {
  "kernelspec": {
   "display_name": "Python 3",
   "language": "python",
   "name": "python3"
  },
  "language_info": {
   "codemirror_mode": {
    "name": "ipython",
    "version": 3
   },
   "file_extension": ".py",
   "mimetype": "text/x-python",
   "name": "python",
   "nbconvert_exporter": "python",
   "pygments_lexer": "ipython3",
   "version": "3.12.10"
  }
 },
 "nbformat": 4,
 "nbformat_minor": 5
}

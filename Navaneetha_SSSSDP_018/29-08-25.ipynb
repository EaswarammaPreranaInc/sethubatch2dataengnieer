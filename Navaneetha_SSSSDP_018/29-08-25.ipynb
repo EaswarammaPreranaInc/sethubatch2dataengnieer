{
 "cells": [
  {
   "cell_type": "code",
   "execution_count": 2,
   "id": "1dda3bfa",
   "metadata": {},
   "outputs": [
    {
     "name": "stdout",
     "output_type": "stream",
     "text": [
      "No-argument  function\n",
      "Single  argument  function  :  10\n",
      "Two  argument  function :  20 30\n",
      "Three  argument  function :  40 50 60\n"
     ]
    }
   ],
   "source": [
    "# Modify  following  program  such  that  every  function  should  be  executed\n",
    "def  f1():\n",
    "\tprint('No-argument  function')\n",
    "f1()\n",
    "def  f1(x):\n",
    "\tprint('Single  argument  function  : ' , x)\n",
    "f1(10)\n",
    "\n",
    "def  f1(x , y):\n",
    "\tprint('Two  argument  function : ' , x , y)\n",
    "f1(20,30)\n",
    "def  f1(x , y , z):\n",
    "\tprint('Three  argument  function : ' , x , y , z)\n",
    "f1(40,50,60)"
   ]
  },
  {
   "cell_type": "code",
   "execution_count": 7,
   "id": "c266f157",
   "metadata": {},
   "outputs": [
    {
     "name": "stdout",
     "output_type": "stream",
     "text": [
      "2\n",
      "3\n",
      "5\n",
      "7\n",
      "11\n",
      "Number  of  prime numbers  :   5\n"
     ]
    }
   ],
   "source": [
    "'''\n",
    "Write  a  program  to  generate  all   prime  numbers  between  2  and  n   and\n",
    "also  print  how  many  prime  numbers  are  existing\n",
    "\n",
    "Hint:  Use  the  prime()  function  defined  in   prog3a(prime).py  but  do  not  rewrite\n",
    "\n",
    "What  are  the  outputs  if  input  is  10  ?  --->  Prime   numbers\n",
    "\t\t\t\t\t\t\t\t\t\t\t\t\t\t\t\t\t\t   2\n",
    "\t\t\t\t\t\t\t\t\t\t\t\t\t\t\t\t\t\t   3\n",
    "\t\t\t\t\t\t\t\t\t\t\t\t\t\t\t\t\t\t   5\n",
    "\t\t\t\t\t\t\t\t\t\t\t\t\t\t\t\t\t\t   7\n",
    "\t\t\t\t\t\t\t\t\t\t\t\t\t\t\t\t\t\t  Number  of   prime  numbers : 4\n",
    "'''\n",
    "def prime(n):\n",
    "\tc1=0\n",
    "\tfor i in range(2,n+1):\n",
    "\t\tj=1\n",
    "\t\tc=0\n",
    "\t\twhile j<=i:\n",
    "\t\t\tif i%j==0:\n",
    "\t\t\t\tc+=1\n",
    "\t\t\tj+=1\n",
    "\t\tif c==2:\n",
    "\t\t\tc1+=1\n",
    "\t\t\tprint(i) \n",
    "\treturn c1\n",
    "n=int(input(\"Entera int number: \")) #How  to  read  a  number\n",
    "count=prime(n)\n",
    "print('Number  of  prime numbers  :  ',count)"
   ]
  },
  {
   "cell_type": "code",
   "execution_count": null,
   "id": "02de59c2",
   "metadata": {},
   "outputs": [
    {
     "name": "stdout",
     "output_type": "stream",
     "text": [
      "a  :  10    \t  b  :  20  \t  c :  30\n",
      "a  :  25    \t  b  :  10.8  \t  c :  Hyd\n",
      "a  :  50.2    \t  b  :  40.7  \t  c :  60.5\n",
      "a  :  Cyb    \t  b  :  Sec  \t  c :  Hyd\n",
      "a  :  True    \t  b  :  None  \t  c :  (3+4j)\n",
      "a  :  25    \t  b  :  Hyd  \t  c :  10.8\n"
     ]
    }
   ],
   "source": [
    "# Find  outputs  (Home  work)\n",
    "def    f1(a , b , c):\n",
    "          print(F'a  :  {a}    \\t  b  :  {b}  \\t  c :  {c}')\n",
    "# End  of  the  function\n",
    "f1(a = 10 , b = 20 , c = 30)    # a:10  b:20    c:30\n",
    "f1(25 , 10.8 , 'Hyd')   # a:25  b:10.8   c:Hyd\n",
    "f1(b = 40.7 , a = 50.2 , c = 60.5)  # a  :  50.2    \t  b  :  40.7  \t  c :  60.5\n",
    "f1(c = 'Hyd' , b = 'Sec' , a = 'Cyb')# a  :  Cyb    \t  b  :  Sec  \t  c :  Hyd\n",
    "f1(c = 3 + 4j , a = True , b = None)   # a  :  True    \t  b  :  None  \t  c :  (3+4j)\n",
    "f1(25 , c = 10.8 , b = 'Hyd')   # a  :  25    \t  b  :  Hyd  \t  c :  10.8\n",
    "f1(a= 100 , 200 , 300)  #  Error\n",
    "f1(True , None , b = 'Hyd')#  Error\n",
    "f1(10,20 , x = 30)#  Error\n",
    "f1(10 , 20)#  Error"
   ]
  },
  {
   "cell_type": "code",
   "execution_count": null,
   "id": "927b4da5",
   "metadata": {},
   "outputs": [
    {
     "name": "stdout",
     "output_type": "stream",
     "text": [
      "Emp  Number :   25  \t  Emp  Name : Rama Rao         \t  Salary : 10000.0\n",
      "Emp  Number :   35  \t  Emp  Name : Sita             \t  Salary : 20000.0\n",
      "Emp  Number : Rama  Rao  \t  Emp  Name :         30000.0  \t  Salary : 20\n"
     ]
    }
   ],
   "source": [
    "# Find  outputs (Home  work)\n",
    "def    disp(empno , ename , sal):\n",
    "        print(F'Emp  Number : {empno:4}  \\t  Emp  Name : {ename:15}  \\t  Salary : {sal}')\n",
    "# End  of  the  function\n",
    "disp(25 , 'Rama Rao' , 10000.0) # Emp  Number :   25  \t  Emp  Name : Rama Rao         \t  Salary : 10000.0\n",
    "disp(ename = 'Sita' , sal = 20000.0 , empno = 35)#Emp  Number :   35  \t  Emp  Name : Sita             \t  Salary : 20000.0\n",
    "x = 'Rama  Rao'\n",
    "y = 30000.0\n",
    "z = 20\n",
    "disp(x , y , z)# Emp  Number : Rama  Rao  \t  Emp  Name :         30000.0  \t  Salary : 20"
   ]
  },
  {
   "cell_type": "code",
   "execution_count": null,
   "id": "fa9d2dbd",
   "metadata": {},
   "outputs": [
    {
     "name": "stdout",
     "output_type": "stream",
     "text": [
      "23\n",
      "62\n",
      "16\n",
      "14\n",
      "{'c': 2, 'b': 4, 'a': 6}\n"
     ]
    }
   ],
   "source": [
    "#  Tricky  program\n",
    "# Find  outputs (Home  work)\n",
    "def    f1(a , b , c):\n",
    "\treturn  a + b * c\n",
    "#end  of  the  function\n",
    "print(f1(3 , 4 , 5))\t# 3+4*5= 23\n",
    "print(f1(*[6 , 7 , 8]))\t#6+7*8= 62\n",
    "print(f1([6 , 7 , 8]))\t# Error bcz passing single arg\n",
    "print(f1(*{1 : 2 , 3 : 4 , 5 : 6}))\t# 1+3*5= 1+15=16\n",
    "print(f1(**{'c' : 2 , 'b' :  4 , 'a' : 6}))\t# 14\n",
    "print(f1({'c' : 2 , 'b' :  4 , 'a' : 6}))\t# Error\n",
    "print({**{'c' : 2 , 'b' :  4 , 'a' : 6}})\t# {'c' : 2 , 'b' :  4 , 'a' : 6}\n",
    "print(f1(**{'c' : 2 , 'a' : 4 , 'x' : 6}))\t# Error bcz x is not defined"
   ]
  },
  {
   "cell_type": "code",
   "execution_count": null,
   "id": "e3070d62",
   "metadata": {},
   "outputs": [],
   "source": [
    "# Identify  Error (Home  work)\n",
    "a = [10 , 20 , 15 , 5 , 12]\n",
    "print(sorted(reverse = True , a))   # Error bcz we cant use positional arg after the KW arg\n",
    "print(sorted(a , rev = True))   # Error bcz the kw arg is reverse not rev\n",
    "print(25 , 10.8 , 'Hyd' , separator = '\\t') # Error due to seperator, it should be 'sep' \n",
    "print(25 , 10.8 , 'Hyd' , endofline = '\\t') # Error due to endofline, it should be 'end'\n",
    "print(25 ,  sep = '\\t' , 10.8 , end = '\\t' , 'Hyd') # Error bcz we cant use PA after the KA "
   ]
  },
  {
   "cell_type": "code",
   "execution_count": null,
   "id": "f4f8c74a",
   "metadata": {},
   "outputs": [],
   "source": [
    "# Keyword  only   arguments  demo  program\n",
    "def   f1(* , a , b):\n",
    "        print(F'a  :  {a}  \\t  b :  {b}')\n",
    "# End  of  the  function\n",
    "f1(a = 10 , b = 20)     # a: 10    b:20\n",
    "f1(b = 30 , a = 40)     # a:40    b:30\n",
    "f1(50 , 60)     # Error bcz we can pass only KA after *\n",
    "f1(70 , b = 80) # Error bcz we can pass only KA after *\n",
    "f1(a = 15 , 25) # Error"
   ]
  },
  {
   "cell_type": "code",
   "execution_count": null,
   "id": "f471a136",
   "metadata": {},
   "outputs": [
    {
     "name": "stdout",
     "output_type": "stream",
     "text": [
      "a  :  10  \t  b :  20  \t  c  :  30 \n",
      "a  :  40  \t  b :  50  \t  c  :  60 \n",
      "a  :  80  \t  b :  90  \t  c  :  100 \n"
     ]
    }
   ],
   "source": [
    "#Find  outputs (Home  work)\n",
    "def  f1(a , * , b , c):\n",
    "        print(F'a  :  {a}  \\t  b :  {b}  \\t  c  :  {c} ')\n",
    "# End  of  function\n",
    "f1(10 , b = 20 , c = 30)        # a:10  b:20    c:30\n",
    "f1(a = 40 , b = 50 , c = 60)    # a  :  40  \t  b :  50  \t  c  :  60 \n",
    "f1(c = 100 , b = 90 , a = 80)   # a  :  80  \t  b :  90  \t  c  :  100 \n",
    "f1(70 , 80 , c = 90)    # error\n",
    "f1(70 , 80 , 90)        # error\n",
    "f1(c = 15 , b = 25 , 35)        # Error"
   ]
  },
  {
   "cell_type": "code",
   "execution_count": null,
   "id": "02ab0a67",
   "metadata": {},
   "outputs": [],
   "source": [
    "# Identify error (Home  work)\n",
    "def   f1(a  , b , *):\n",
    "        pass # error bcz we cant use * at end"
   ]
  },
  {
   "cell_type": "code",
   "execution_count": null,
   "id": "956a5bec",
   "metadata": {},
   "outputs": [
    {
     "name": "stdout",
     "output_type": "stream",
     "text": [
      "a  :  10  \t  b  :  20\n"
     ]
    }
   ],
   "source": [
    "#  Positional  only  arguments  demo  program\n",
    "def   f1(a , b , /):\n",
    "        print(F'a  :  {a}  \\t  b  :  {b}')\n",
    "# End  of   the  function\n",
    "f1(10 , 20)     # a  :  10  \t  b  :  20\n",
    "f1(a = 30 ,  b = 40) # error in function we used only PA but we are passing the KA \n",
    "f1(50 , b = 60) # error in function we used only PA but we are passing the KA \n",
    "f1(a = 70 , 80) # error due to PA after KA"
   ]
  },
  {
   "cell_type": "code",
   "execution_count": null,
   "id": "4330fc84",
   "metadata": {},
   "outputs": [
    {
     "name": "stdout",
     "output_type": "stream",
     "text": [
      "a  :  10  \t  b :  20  \t  c  :  30 \n",
      "a  :  40  \t  b :  50  \t  c  :  60 \n"
     ]
    }
   ],
   "source": [
    "# Find  outputs (Home  work)\n",
    "def  f1(a , b , / , c):\n",
    "        print(F'a  :  {a}  \\t  b :  {b}  \\t  c  :  {c} ')\n",
    "# End  of  function\n",
    "f1(10 , 20 , 30) # a  :  10  \t  b :  20  \t  c  :  30 \n",
    "f1(40 , 50 , c = 60)    # a  :  40  \t  b :  50  \t  c  :  60 \n",
    "f1(a = 70 , b = 80 , c = 90)    # Error\n",
    "f1(a = 100 , b = 110 , 120)     # Error\n",
    "f1(a = 130 , 140 , c = 150)     # Error\n",
    "f1(160 , b = 170 , 180) # Error\n",
    "f1(190 , b = 200 , c = 210)     # Error"
   ]
  },
  {
   "cell_type": "code",
   "execution_count": null,
   "id": "d9202b99",
   "metadata": {},
   "outputs": [
    {
     "name": "stdout",
     "output_type": "stream",
     "text": [
      "a  :  10  \t  b  :  20  \t  c  :  30  \t  d  :  40  \t  e  :  50  \t  f  :  60\n",
      "a  :  10  \t  b  :  20  \t  c  :  30  \t  d  :  40  \t  e  :  50  \t  f  :  60\n"
     ]
    }
   ],
   "source": [
    "# Find outputs(Home  work)\n",
    "def  f1(a , b , / , c , d , * , e  , f):\n",
    "        print(F'a  :  {a}  \\t  b  :  {b}  \\t  c  :  {c}  \\t  d  :  {d}  \\t  e  :  {e}  \\t  f  :  {f}')\n",
    "# End of the function\n",
    "f1(10 , 20 , 30 , d = 40 , e = 50 , f = 60)     # a  :  10  \t  b  :  20  \t  c  :  30  \t  d  :  40  \t  e  :  50  \t  f  :  60\n",
    "f1(1 , b = 2 , c = 3 , d = 4 , e = 5 , f = 6)   # error bcz we passed KA for positonal only args\n",
    "f1(1 , 2 , 3 , 4 , 5 , f = 6)   # error\n",
    "f1(10 , 20 , c = 30 , 40 , e = 50 , f = 60)\n",
    "f1(10 , 20 , 30 , 40 , e = 50 , f = 60) # a  :  10  \t  b  :  20  \t  c  :  30  \t  d  :  40  \t  e  :  50  \t  f  :  60"
   ]
  },
  {
   "cell_type": "code",
   "execution_count": null,
   "id": "4c47eb91",
   "metadata": {},
   "outputs": [],
   "source": [
    "# Identify error (Home  work)\n",
    "def  f1(/ , a , b ,  c):        # error\n",
    "        pass\n",
    "def   f2(a , b , c , *):        # error\n",
    "        pass"
   ]
  },
  {
   "cell_type": "code",
   "execution_count": null,
   "id": "e9f8d8b2",
   "metadata": {},
   "outputs": [],
   "source": [
    "# Identify  error  (Home  work)\n",
    "def  f4(* , a , b , c , /):\t# error\n",
    "\t        pass"
   ]
  },
  {
   "cell_type": "code",
   "execution_count": null,
   "id": "2d5e6b16",
   "metadata": {},
   "outputs": [
    {
     "name": "stdout",
     "output_type": "stream",
     "text": [
      "3rd  function :  10\n"
     ]
    }
   ],
   "source": [
    "# Find  outputs  (Home  work)\n",
    "def  f1(x):\n",
    "\tprint('1st  function : ' , x)\n",
    "def  f1(y):\n",
    "\tprint('2nd  function : ' , y)\n",
    "def  f1(z):\n",
    "\tprint('3rd  function : ' , z)\n",
    "f1(z = 10) #3rd  function :  10\n",
    "f1(y = 20) # error\n",
    "f1(x = 30) # error"
   ]
  },
  {
   "cell_type": "code",
   "execution_count": null,
   "id": "ef8f43db",
   "metadata": {},
   "outputs": [
    {
     "name": "stdout",
     "output_type": "stream",
     "text": [
      "150\n",
      "330\n",
      "600\n",
      "320\n",
      "600\n",
      "320\n"
     ]
    }
   ],
   "source": [
    "# Default  arguments  demo  program\n",
    "def   add(a  , b = 20 , c = 30):\n",
    "        return   a + b + c\n",
    "#end  of  the  functiom\n",
    "print(add(100)) # 150\n",
    "print(add(100 , 200))   #330\n",
    "print(add(100 , 200 , 300))     # 600\n",
    "print(add(100 , c = 200))       # 320\n",
    "print(add(c = 100 , b = 200 , a = 300)) # 600\n",
    "print(add(c = 100 , a = 200))   # 320\n",
    "print(add())    # error\n",
    "print(add(a = 100 , 200)) # error\n",
    "print(add(100 ,  , 300)) # error\n",
    "print(add(100 ,  b , 300)) # error"
   ]
  },
  {
   "cell_type": "code",
   "execution_count": null,
   "id": "93f58ea3",
   "metadata": {},
   "outputs": [],
   "source": [
    "# Identify  Error\n",
    "def   f1(a = 10 ,  b ,  c = 20 ,  d):\t# error we cant use PA after KA\n",
    "\tpass\n",
    "def   f2(b , d , a = 10 , c = 20):\n",
    "\tpass\t# nothing will be printed"
   ]
  },
  {
   "cell_type": "code",
   "execution_count": null,
   "id": "5994b5ed",
   "metadata": {},
   "outputs": [
    {
     "name": "stdout",
     "output_type": "stream",
     "text": [
      "20\n",
      "10\n",
      "30\n"
     ]
    }
   ],
   "source": [
    "#  Find  outputs (Home  work)\n",
    "def   f1(a = 10):\n",
    "        print(a)\n",
    "# End  of  the  function\n",
    "f1(20)  # 20\n",
    "f1()# 10\n",
    "f1(a = 30) # 30"
   ]
  },
  {
   "cell_type": "code",
   "execution_count": null,
   "id": "0b62e705",
   "metadata": {},
   "outputs": [
    {
     "name": "stdout",
     "output_type": "stream",
     "text": [
      "330\n",
      "620\n",
      "1000\n",
      "330\n",
      "610\n",
      "610\n"
     ]
    }
   ],
   "source": [
    "# Find  outputs (Home  work)\n",
    "def  add(a , b , c = 10 , d = 20):\n",
    "        return  a + b + c + d\n",
    "# End  of  the  function\n",
    "print(add(100 , 200))   # 330\n",
    "print(add(100 , 200 , 300))     # 620\n",
    "print(add(100 , 200 , 300 , 400))       # 1000\n",
    "print(add(b = 100 , a = 200))   # 330\n",
    "print(add(100 , 200 , d = 300)) # 610\n",
    "print(add(d = 100 , a = 200 , b = 300)) # 610\n",
    "print(add(c = 100 , d = 200 , 300 , 400))      # error\n",
    "print(add(100 , 200 , c = 300 , x = 400))       # error\n",
    "print(add()) # error"
   ]
  },
  {
   "cell_type": "code",
   "execution_count": null,
   "id": "e0222f72",
   "metadata": {},
   "outputs": [
    {
     "name": "stdout",
     "output_type": "stream",
     "text": [
      "10\n",
      "25\n",
      "20\n"
     ]
    }
   ],
   "source": [
    "#  Find  outputs (Home  work)\n",
    "def    f1(x = 25):\n",
    "        return  x\n",
    "def   f2(x):\n",
    "        return  x\n",
    "# End  of  the  function\n",
    "print(f1(10))   # 10\n",
    "print(f1())     #15\n",
    "print(f2(20))   # 20\n",
    "print(f2())    # errror bcz we are not passing the value"
   ]
  },
  {
   "cell_type": "code",
   "execution_count": null,
   "id": "c53addee",
   "metadata": {},
   "outputs": [
    {
     "name": "stdout",
     "output_type": "stream",
     "text": [
      "------\n",
      "$$$$\n",
      "****\n",
      "*****\n",
      "20\n",
      "%%%%%%%\n",
      "@@@@@@@\n",
      "42\n"
     ]
    }
   ],
   "source": [
    "# Find  outputs (Home  work)\n",
    "def   disp(ch = '*' , n = 4):\n",
    "        print(ch *  n)\n",
    "# End of the function\n",
    "disp('-' , 6)# ------\n",
    "disp('$')       # $$$$\n",
    "disp()  # ****\n",
    "disp(n = 5)     # *****\n",
    "disp(5) # 20\n",
    "disp(n = 7 , ch = '%')  # %%%%%%%\n",
    "disp(7 , '@')   # @@@@@@@\n",
    "disp(7 , n = 6)# 42\n",
    "#disp(ch = '!' ,  5)     # Error"
   ]
  },
  {
   "cell_type": "code",
   "execution_count": null,
   "id": "8223a03b",
   "metadata": {},
   "outputs": [
    {
     "name": "stdout",
     "output_type": "stream",
     "text": [
      "64\n",
      "25\n",
      "91.125\n",
      "(-7+24j)\n",
      "1\n"
     ]
    }
   ],
   "source": [
    "# Find  outputs (Home  work)\n",
    "def  power(a , b  =  2):\n",
    "        return  a ** b\n",
    "#end of the function\n",
    "print(power(2 , 6))     # 64\n",
    "print(power(5)) # 25\n",
    "print(power(b = 3 , a = 4.5))   # 91.12\n",
    "print(power(3 + 4j))    # (-7+24j)\n",
    "print(power(True))      # 1\n",
    "def   power(b = 2 , a): # error bcz we cant use PA after KA\n",
    " \tpass"
   ]
  },
  {
   "cell_type": "code",
   "execution_count": null,
   "id": "4cffa695",
   "metadata": {},
   "outputs": [
    {
     "name": "stdout",
     "output_type": "stream",
     "text": [
      "4-argument  function\n",
      "100\n",
      "4-argument  function\n",
      "184\n",
      "4-argument  function\n",
      "177\n",
      "4-argument  function\n",
      "109\n",
      "4-argument  function\n",
      "10\n"
     ]
    }
   ],
   "source": [
    "# Find outputs  (Home  work)\n",
    "def   add(a , b):\n",
    "\tprint('2-argument  function')\n",
    "\treturn a + b\n",
    "def  add(a , b , c):\n",
    "\tprint('3-argument  function')\n",
    "\treturn a + b + c\n",
    "def  add(a  = 1 , b  = 2 , c   = 3 , d = 4):\n",
    "\tprint('4-argument  function')\n",
    "\treturn a + b  + c + d\n",
    "# End  of  the  function\n",
    "# last function will be called\n",
    "print(add(10 , 20 , 30 , 40))\t# 100\n",
    "print(add(50 , 60 , 70))\t# 184\n",
    "print(add(80 , 90))\t# 177\n",
    "print(add(100))\t# 109\n",
    "print(add())\t# 10"
   ]
  },
  {
   "cell_type": "code",
   "execution_count": null,
   "id": "9b2921bf",
   "metadata": {},
   "outputs": [
    {
     "name": "stdout",
     "output_type": "stream",
     "text": [
      "3-argument  function  :   10 20 30\n"
     ]
    }
   ],
   "source": [
    "# Find outputs  (Home  work)\n",
    "def  disp(a , b):\n",
    "        print('2-argument function  :  ' , a , b)\n",
    "def  disp(a , b , c , d):\n",
    "        print('4-argument  function  :  ' , a , b , c , d)\n",
    "def disp(a , b , c = 25):\n",
    "        print('3-argument  function  :  ' , a , b , c)\n",
    "#end\n",
    "disp(10 , 20 , 30)      # 3-argument  function  :   10 20 30\n",
    "disp(40 , 50 , 60 , 70) # error \n",
    "disp(80 , 90)   # error"
   ]
  },
  {
   "cell_type": "code",
   "execution_count": null,
   "id": "db4e5f35",
   "metadata": {},
   "outputs": [
    {
     "name": "stdout",
     "output_type": "stream",
     "text": [
      "70\n",
      "30\n",
      "70\n",
      "130\n"
     ]
    }
   ],
   "source": [
    "# Find outputs(Home  work)\n",
    "def   add(* , a = 10 , b = 20):\n",
    "        return  a + b\n",
    "# End of  the  function\n",
    "print(add(a = 30 , b = 40))     # 70\n",
    "print(add())    # 30\n",
    "print(add(a = 50))      # 70\n",
    "print(add(b = 60 , a = 70))     # 130\n",
    "print(add(80 , 90))     # Error "
   ]
  },
  {
   "cell_type": "code",
   "execution_count": null,
   "id": "07ee3eee",
   "metadata": {},
   "outputs": [
    {
     "name": "stdout",
     "output_type": "stream",
     "text": [
      "120\n",
      "140\n",
      "270\n"
     ]
    }
   ],
   "source": [
    "# Find  outputs(Home  work)\n",
    "#def   add(a = 10 , b , c):      # error we cant use positional arg  after default arg\n",
    "      #  pass\n",
    "def   add( * , a = 10 , b , c ):\n",
    "        return  a + b + c\n",
    "# End  of  the  function\n",
    "print(add(a = 30 , b = 40 , c = 50))    # 30+40+50=120\n",
    "print(add(b = 60 , c = 70))     # 10+60+70=140\n",
    "print(add(c = 80 , b = 90 , a = 100))   # 270\n",
    "print(add(c = 25 , a = 43))     # error missing another arg\n",
    "print(add(1 , 2 , 3))   # error bcz we should use all KA\n",
    "def   add(a , b = 10 ,  c ,  * , d  , e = 20 , f):      # error\n",
    "\t\t#pass"
   ]
  }
 ],
 "metadata": {
  "kernelspec": {
   "display_name": "Python 3",
   "language": "python",
   "name": "python3"
  },
  "language_info": {
   "codemirror_mode": {
    "name": "ipython",
    "version": 3
   },
   "file_extension": ".py",
   "mimetype": "text/x-python",
   "name": "python",
   "nbconvert_exporter": "python",
   "pygments_lexer": "ipython3",
   "version": "3.12.10"
  }
 },
 "nbformat": 4,
 "nbformat_minor": 5
}

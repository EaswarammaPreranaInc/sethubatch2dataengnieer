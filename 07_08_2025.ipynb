{
 "cells": [
  {
   "cell_type": "code",
   "execution_count": 17,
   "id": "fca0162d",
   "metadata": {},
   "outputs": [
    {
     "name": "stdout",
     "output_type": "stream",
     "text": [
      "Enter first Stringsai\n",
      "Enter Second Stringhello\n",
      "hei sallo\n"
     ]
    }
   ],
   "source": [
    "\n",
    "a=input(\"Enter first String\")\n",
    "b=input(\"Enter Second String\")\n",
    "if len(a)<2 and len(b)<2:\n",
    "    print(\"Input  should  be  a  min  of  2-char  string\")\n",
    "else:\n",
    "    c=a[:2]+b[2:]\n",
    "    d=b[:2]+a[2:]\n",
    "    print(d,c)\n"
   ]
  },
  {
   "cell_type": "code",
   "execution_count": 19,
   "id": "6c74b0e9",
   "metadata": {},
   "outputs": [
    {
     "name": "stdout",
     "output_type": "stream",
     "text": [
      "Enter strings\n",
      "\n"
     ]
    }
   ],
   "source": [
    "a=input(\"Enter string\")\n",
    "if len(a)>4:\n",
    "    print(a[:2]+a[-2:])\n",
    "else:\n",
    "    print()"
   ]
  },
  {
   "cell_type": "code",
   "execution_count": 22,
   "id": "7948b1f8",
   "metadata": {},
   "outputs": [
    {
     "name": "stdout",
     "output_type": "stream",
     "text": [
      "enter stringsai\n",
      "forward direction\n",
      "Character  at  index  0  :  s\n",
      "Character  at  index  1  :  a\n",
      "Character  at  index  2  :  i\n",
      "reverse directions\n",
      "Character  at  index  -1  :  i\n",
      "Character  at  index  -2  :  a\n",
      "Character  at  index  -3  :  s\n"
     ]
    }
   ],
   "source": [
    "a=input(\"enter string\")\n",
    "print(\"forward direction\")\n",
    "for i in range(len(a)):\n",
    "    print(f'Character  at  index  {i}  :  {a[i]}')\n",
    "print(\"reverse directions\")\n",
    "for i in range(len(a)):\n",
    "    print(f'Character  at  index  {-i-1}  :  {a[-1-i]}')\n",
    "    "
   ]
  },
  {
   "cell_type": "code",
   "execution_count": 24,
   "id": "40a2627e",
   "metadata": {},
   "outputs": [
    {
     "name": "stdout",
     "output_type": "stream",
     "text": [
      "enter stringsai\n",
      "String  at  even  indexes  :  a\n",
      "String  at  odd  indexes  :  si\n"
     ]
    }
   ],
   "source": [
    "#even and odd index\n",
    "a=input(\"enter string\")\n",
    "even=''\n",
    "odd=''\n",
    "for i in range(len(a)):\n",
    "    if i%2:\n",
    "        even+=a[i]\n",
    "    else:\n",
    "        odd+=a[i]\n",
    "print(\"String  at  even  indexes  : \",even)\n",
    "print('String  at  odd  indexes  : ',odd)"
   ]
  },
  {
   "cell_type": "code",
   "execution_count": 29,
   "id": "64d84937",
   "metadata": {},
   "outputs": [
    {
     "name": "stdout",
     "output_type": "stream",
     "text": [
      "Enter  any  string  with  alternate  character  and  digit : ndkjs\n",
      "String   should  have  alternate  character  and  digit\n"
     ]
    }
   ],
   "source": [
    "try:    \n",
    "    t=input('Enter  any  string  with  alternate  character  and  digit : ')\n",
    "    a=''\n",
    "    for i in range(0,len(t),2):\n",
    "        a+=t[i]*int(t[i+1])\n",
    "    print(a)\n",
    "except:\n",
    "    print(\"String   should  have  alternate  character  and  digit\")\n",
    "    "
   ]
  },
  {
   "cell_type": "code",
   "execution_count": 5,
   "id": "c2fd9394",
   "metadata": {},
   "outputs": [
    {
     "name": "stdout",
     "output_type": "stream",
     "text": [
      "Enter first stringsai\n",
      "enter second stringprashanth\n",
      "spariashanth\n"
     ]
    }
   ],
   "source": [
    "a=input(\"Enter first string\")\n",
    "b=input(\"enter second string\")\n",
    "c=''\n",
    "i=0\n",
    "while i<min(len(a),len(b)):\n",
    "    c+=a[i]+b[i]\n",
    "    i+=1\n",
    "c += a[len(b):] if len(a) > len(b) else b[len(a):]\n",
    "print(c)"
   ]
  },
  {
   "cell_type": "code",
   "execution_count": 8,
   "id": "950aceb5",
   "metadata": {},
   "outputs": [
    {
     "name": "stdout",
     "output_type": "stream",
     "text": [
      "enter string: sai prashanth\n",
      "sai prhnt\n"
     ]
    }
   ],
   "source": [
    "#duplicate\n",
    "a=input(\"enter string: \")\n",
    "b=''\n",
    "for i in a:\n",
    "    if i not in b:\n",
    "        b+=i\n",
    "print(b)"
   ]
  },
  {
   "cell_type": "code",
   "execution_count": null,
   "id": "4032da02",
   "metadata": {},
   "outputs": [],
   "source": [
    "a=input(\"Enter  any  string  with  alternate  character  and  digit : \")\n",
    "b=''\n",
    "for i in range(len(a),2):\n",
    "    c=ord(a[i])\n",
    "    b+=a[i]+chr(c+int())"
   ]
  }
 ],
 "metadata": {
  "kernelspec": {
   "display_name": "Python 3 (ipykernel)",
   "language": "python",
   "name": "python3"
  },
  "language_info": {
   "codemirror_mode": {
    "name": "ipython",
    "version": 3
   },
   "file_extension": ".py",
   "mimetype": "text/x-python",
   "name": "python",
   "nbconvert_exporter": "python",
   "pygments_lexer": "ipython3",
   "version": "3.11.5"
  }
 },
 "nbformat": 4,
 "nbformat_minor": 5
}

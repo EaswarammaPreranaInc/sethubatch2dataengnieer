{
 "cells": [
  {
   "cell_type": "raw",
   "id": "428b865d",
   "metadata": {},
   "source": [
    "Write  a  program  to  determine  sum , difference , product , quotient , largest  and  smallest  of  two  numbers.\n",
    "Also  find  remainder,  sqrt  of  first  input , power, gcd  and  factorial  of  first  input\n",
    "\n",
    "Hint:  Use  F  string  to  print  results\n",
    "\n",
    "Let  inputs  be  10  and  7,\n",
    "What  is  the  sum ?  --->  17\n",
    "What  is  the  difference ?  --->  3\n",
    "What  is  the  product ?  ---> 70\n",
    "What  is  the  quotient ?  --->  1.42\n",
    "What  is  the  remainder ?  --->  3\n",
    "What  is  the  largest  number ?  ---> 10\n",
    "What  is  the  smallest  number ?  --->  7\n",
    "What  is  the  sqrt  of  1st  input ?  --->  3.16\n",
    "What  is  the  result  of  power?  --->  10000000\n",
    "What  is  the  gcd  of  2  numbers ?  ---> 1\n",
    "What  is  the  factorial   of  1st  input ?  ---> 10!\n"
   ]
  },
  {
   "cell_type": "code",
   "execution_count": 20,
   "id": "4456c559",
   "metadata": {},
   "outputs": [
    {
     "name": "stdout",
     "output_type": "stream",
     "text": [
      "Enter 1st integer number:10\n",
      "Enter 2st integer number:7\n",
      "sum of 2 numbers\n",
      "10 + 7 = 17\n",
      "diff of 2 numbers\n",
      "10 - 7 = 3\n",
      "product of 2 numbers\n",
      "10 * 7 = 70\n",
      "quotient of 2 numbers\n",
      "10 / 7 = 1.4285714285714286\n",
      "remainder of 2 numbers\n",
      "10 % 7 = 3\n",
      "largest of 2 numbers\n",
      "max(10,7) = 10\n",
      "smallest of 2 numbers\n",
      "min(10,7) = 7\n",
      "power of 2 numbers\n",
      "10^7 = 10000000\n",
      "sqrt of 1st number\n",
      "sqrt(10) = 3.1622776601683795\n",
      "gcd of 2 number\n",
      "gcd((10, 7)) = 1\n",
      "factorial of 1st number\n",
      "fact(10) = 3628800\n"
     ]
    }
   ],
   "source": [
    "import math\n",
    "try :\n",
    "    a=int(input('Enter 1st integer number:'))\n",
    "    b=int(input('Enter 2st integer number:'))\n",
    "except:\n",
    "    print(\"input should be int only\")\n",
    "#sum of no\n",
    "print('sum of 2 numbers')\n",
    "print(f'{a} + {b} = {a+b}')\n",
    "\n",
    "#difference of nos\n",
    "print('diff of 2 numbers')\n",
    "print(f'{a} - {b} = {a-b}')\n",
    "\n",
    "#product  of 2 nos\n",
    "print('product of 2 numbers')\n",
    "print(f'{a} * {b} = {a*b}')\n",
    "\n",
    "#quotient  of 2 nos\n",
    "print('quotient of 2 numbers')\n",
    "print(f'{a} / {b} = {a/b}')\n",
    "\n",
    "#remainder  of 2 nos\n",
    "print('remainder of 2 numbers')\n",
    "print(f'{a} % {b} = {a%b}')\n",
    "\n",
    "#largest numbers of 2 nos\n",
    "print('largest of 2 numbers')\n",
    "print(f'max({a},{b}) = {max(a,b)}')\n",
    "\n",
    "#smallest  of 2 nos\n",
    "print('smallest of 2 numbers')\n",
    "print(f'min({a},{b}) = {min(a,b)}')\n",
    "\n",
    "#pow  of 2 nos\n",
    "print('power of 2 numbers')\n",
    "print(f'{a}^{b} = {pow(a,b)}')\n",
    "\n",
    "#sqrt  of  no\n",
    "print('sqrt of 1st number')\n",
    "print(f'sqrt({a}) = {math.sqrt(a)}')\n",
    "\n",
    "#gcd  of  2 nos\n",
    "print('gcd of 2 number')\n",
    "print(f'gcd({a,b}) = {math.gcd(a,b)}')\n",
    "\n",
    "#factorial  of  no\n",
    "print('factorial of 1st number')\n",
    "print(f'fact({a}) = {math.factorial(a)}')"
   ]
  },
  {
   "cell_type": "raw",
   "id": "18fbdb6c",
   "metadata": {},
   "source": [
    "Write  a  program  to  swap  values  of  any  two  objects  in  a  single  statement  without  using  3rd  object\n"
   ]
  },
  {
   "cell_type": "code",
   "execution_count": 30,
   "id": "e45e3a16",
   "metadata": {},
   "outputs": [
    {
     "name": "stdout",
     "output_type": "stream",
     "text": [
      "Enter element:'hyd'\n",
      "Enter element:6\n",
      "elements before swaping\n",
      "x = 'hyd' \t y = '6' \n",
      "elements after swaping\n",
      "x = '6' \t y = 'hyd' \n"
     ]
    }
   ],
   "source": [
    "try :\n",
    "    x=eval(input('Enter element:'))\n",
    "    y=eval(input('Enter element:'))\n",
    "    print('elements before swaping')\n",
    "    print(f'x = \\'{x}\\' \\t y = \\'{y}\\' ')\n",
    "    x,y=y,x\n",
    "    print('elements after swaping' )\n",
    "    print(f'x = \\'{x}\\' \\t y = \\'{y}\\' ')\n",
    "except:\n",
    "    print(\"enter string in quotes\")\n",
    "\n"
   ]
  },
  {
   "cell_type": "raw",
   "id": "37977bfb",
   "metadata": {},
   "source": [
    "Write  a  program  to  determine  largest  of  three  inputs  without  using  max()  function"
   ]
  },
  {
   "cell_type": "code",
   "execution_count": 1,
   "id": "18b1f310",
   "metadata": {},
   "outputs": [
    {
     "name": "stdout",
     "output_type": "stream",
     "text": [
      "enter 1st input:6\n",
      "enter 2nd input:5\n",
      "enter 3rd input:9\n",
      "9\n"
     ]
    }
   ],
   "source": [
    "try :\n",
    "    m=eval(input('enter 1st input:'))\n",
    "    n=eval(input('enter 2nd input:'))\n",
    "    o=eval(input('enter 3rd input:'))\n",
    "    print(m if m>n and m>o  else n if n>o else o) \n",
    "except:\n",
    "    print('enter string in quotes')"
   ]
  },
  {
   "cell_type": "raw",
   "id": "e9efe9d8",
   "metadata": {},
   "source": [
    "Write  a  program  to  print   '>'  if  1st  input  >  2nd  input,'<'  if  1st  input  <  2nd  input  and '='  if  inputs  are  same"
   ]
  },
  {
   "cell_type": "code",
   "execution_count": 36,
   "id": "bf8703f4",
   "metadata": {},
   "outputs": [
    {
     "name": "stdout",
     "output_type": "stream",
     "text": [
      "enter 1st input:6\n",
      "enter 2nd input:6\n",
      "=\n"
     ]
    }
   ],
   "source": [
    "try:\n",
    "    ele1=eval(input('enter 1st input:'))\n",
    "    ele2=eval(input('enter 2nd input:'))\n",
    "    print('>' if ele1>ele2 else '<' if ele2>ele1 else '=')\n",
    "except:\n",
    "    print('enter string in quotes')"
   ]
  },
  {
   "cell_type": "raw",
   "id": "79d47fbf",
   "metadata": {},
   "source": [
    "Write  a  program  to  print  1  if  input  is  +ve  ,  -1    if  input  is  -ve  and  0  if  input  is  0"
   ]
  },
  {
   "cell_type": "code",
   "execution_count": 40,
   "id": "85b85c8a",
   "metadata": {},
   "outputs": [
    {
     "name": "stdout",
     "output_type": "stream",
     "text": [
      "enter any number-9\n",
      "-1\n"
     ]
    }
   ],
   "source": [
    "try :\n",
    "    n1=int(input('enter any number'))\n",
    "    print(1 if n1>0 else -1 if n1<0 else 0)\n",
    "except:\n",
    "    print('enter integer value only')"
   ]
  },
  {
   "cell_type": "code",
   "execution_count": 41,
   "id": "ee1976ed",
   "metadata": {},
   "outputs": [
    {
     "name": "stdout",
     "output_type": "stream",
     "text": [
      "enter any +ve number6\n",
      "even number\n"
     ]
    }
   ],
   "source": [
    "try :\n",
    "    n1=int(input('enter any +ve number'))\n",
    "    print('Odd number' if n1%2!=0 else 'even number')\n",
    "except:\n",
    "    print('enter integer value only')"
   ]
  },
  {
   "cell_type": "raw",
   "id": "a72f1080",
   "metadata": {},
   "source": [
    "(Home  work)\n",
    "Write  a  program  to  determine  area  and  perimeter  of  rectangle\n",
    "\n",
    "1) What  are  the  inputs ?  ---> length  and   breadth\n",
    "\n",
    "2) What  are  the  outputs  ?  --->  area  and  perimeter\n",
    "\n",
    "3) What  is  the  area  of  rectangle  ?  --->  length * breadth\n",
    "\n",
    "4) What  is  the  perimeter  of  rectangle ?  --->  2 * (length + breadth)\n"
   ]
  },
  {
   "cell_type": "code",
   "execution_count": 2,
   "id": "e21dd177",
   "metadata": {},
   "outputs": [
    {
     "name": "stdout",
     "output_type": "stream",
     "text": [
      "enter len of rectangle:9\n",
      "enter breadth of rectangle:6\n",
      "length = 9.0, breadth = 6.0\n",
      "area = 54.0\n",
      "perimeter = 30.0\n"
     ]
    }
   ],
   "source": [
    "try :\n",
    "    length=float(input('enter len of rectangle:'))\n",
    "    breadth=float(input('enter breadth of rectangle:'))\n",
    "    print(f'length = {length}, breadth = {breadth}')\n",
    "    area=length*breadth\n",
    "    print(f'area = {area}')\n",
    "    peri=2*(length+breadth)\n",
    "    print(f'perimeter = {peri}')\n",
    "except:\n",
    "    print('enter float or integer value only')"
   ]
  },
  {
   "cell_type": "raw",
   "id": "5f2ee6c4",
   "metadata": {},
   "source": [
    "(Home  work)\n",
    "Write  a  program  to  determine  volume  of  a  sphere\n",
    "\n",
    "1) What  is  the  input ?  --->  radius\n",
    "\n",
    "2) What  is  the  output ?  --->  volume\n",
    "\n",
    "3) What  is  the  volume  of  sphere  ?  --->  4 / 3  * pi *  r ^ 3\n"
   ]
  },
  {
   "cell_type": "code",
   "execution_count": 3,
   "id": "ee5123cf",
   "metadata": {},
   "outputs": [
    {
     "name": "stdout",
     "output_type": "stream",
     "text": [
      "enter radius9\n",
      "volume = 3053.6280592892786\n"
     ]
    }
   ],
   "source": [
    "import math\n",
    "try:\n",
    "    r1=float(input('enter radius'))\n",
    "    volume=(4/3)*math.pi*(r1**3)\n",
    "    print(f'volume = {volume}')\n",
    "except:\n",
    "    print('enter float or integer value only')"
   ]
  },
  {
   "cell_type": "raw",
   "id": "6edf3dba",
   "metadata": {},
   "source": [
    "(Home  work)\n",
    "Write  a  program  to  determine  simple  interest  and  compound  interest\n",
    "\n",
    "1) What  are  the  inputs  ?  --->  principle , time  and   rate  of  interest\n",
    "\n",
    "2) What  are  the  outputs ? --->  Simple  interest   and   compound  interest\n",
    "\n",
    "3) What  is  simple  interest  formula ?  ---> ptr / 100\n",
    "\n",
    "4) What  is  compound  interest  formula ?  --->  p * (1  +  r  /  100) ^  t  -  p\n",
    "'''"
   ]
  },
  {
   "cell_type": "code",
   "execution_count": 61,
   "id": "1435483c",
   "metadata": {},
   "outputs": [
    {
     "name": "stdout",
     "output_type": "stream",
     "text": [
      "enter priciple:6000\n",
      "enter time :3\n",
      "enter interest5\n",
      "simple interest =900.0\n",
      "compound interest=945.7500000000009\n"
     ]
    }
   ],
   "source": [
    "try:\n",
    "    pri=float(input('enter priciple:'))\n",
    "    time=float(input('enter time :'))\n",
    "    interest=float(input('enter interest'))\n",
    "    si=pri*time*interest/100\n",
    "    print(f'simple interest ={si}')\n",
    "    ci = pri * (1 + (interest / 100)) ** time - pri\n",
    "    print(f'compound interest={ci}')\n",
    "except:\n",
    "    print('enter integer or float value only')"
   ]
  },
  {
   "cell_type": "raw",
   "id": "66ac35b6",
   "metadata": {},
   "source": [
    "(Home  work)\n",
    "Write  a  program  to  swap  values  of  two  objects  using  3rd   object\n",
    "\n",
    "Let  x = 10  and  y = 25\n",
    "What  are  the  values  of  x  and  y  after  swap ?  --->  x = 25  and   y = 10\n"
   ]
  },
  {
   "cell_type": "code",
   "execution_count": 64,
   "id": "61b908c0",
   "metadata": {},
   "outputs": [
    {
     "name": "stdout",
     "output_type": "stream",
     "text": [
      "enter number:6\n",
      "enter number:8\n",
      "int1 = 8 and int2 = 6\n"
     ]
    }
   ],
   "source": [
    "try:\n",
    "    int1=eval(input('enter number:'))\n",
    "    int2=eval(input('enter number:'))\n",
    "    temp=int1\n",
    "    int1=int2\n",
    "    int2=temp\n",
    "    print(f'{int1 = } and {int2 = }')\n",
    "except:\n",
    "    print('enter integer only')"
   ]
  },
  {
   "cell_type": "raw",
   "id": "7c5cf8a9",
   "metadata": {},
   "source": [
    "(Home  work)\n",
    "Write  a  program  to  swap  values  of  two  objects  without  using  3rd  object\n",
    "\n",
    "Hint: One  addition  and  two  subtractions\n",
    "\n",
    "x = 25\n",
    "y =  10"
   ]
  },
  {
   "cell_type": "code",
   "execution_count": 69,
   "id": "19eefef5",
   "metadata": {},
   "outputs": [
    {
     "name": "stdout",
     "output_type": "stream",
     "text": [
      "5\n",
      "9\n",
      "x = 9 y = 5\n"
     ]
    }
   ],
   "source": [
    "try:\n",
    "    i1=int(input())\n",
    "    i2=int(input())\n",
    "    i1=i1+i2\n",
    "    i2=i1-i2\n",
    "    i1=i1-i2\n",
    "    print(f'x = {i1} y = {i2}')\n",
    "except:\n",
    "    print('enter integer values only')"
   ]
  },
  {
   "cell_type": "raw",
   "id": "bcc871dd",
   "metadata": {},
   "source": [
    "(Home  work)\n",
    "Write  a  program  to  swap  values  of  two  objects  without  using  3rd  object\n",
    "\n",
    "Hint: One  multiplication  and  two  divisions\n",
    "\n",
    "x =  -200\n",
    "y =  100\n"
   ]
  },
  {
   "cell_type": "code",
   "execution_count": 72,
   "id": "f7922b67",
   "metadata": {},
   "outputs": [
    {
     "name": "stdout",
     "output_type": "stream",
     "text": [
      "69\n",
      "36\n",
      "x = 36 y = 69\n"
     ]
    }
   ],
   "source": [
    "try:\n",
    "    i1=int(input())\n",
    "    i2=int(input())\n",
    "    i1=i1*i2\n",
    "    i2=i1//i2\n",
    "    i1=i1//i2\n",
    "    print(f'x = {i1} y = {i2}')\n",
    "except:\n",
    "    print('enter integer values only')"
   ]
  },
  {
   "cell_type": "code",
   "execution_count": null,
   "id": "ab843682",
   "metadata": {},
   "outputs": [],
   "source": []
  }
 ],
 "metadata": {
  "kernelspec": {
   "display_name": "Python 3 (ipykernel)",
   "language": "python",
   "name": "python3"
  },
  "language_info": {
   "codemirror_mode": {
    "name": "ipython",
    "version": 3
   },
   "file_extension": ".py",
   "mimetype": "text/x-python",
   "name": "python",
   "nbconvert_exporter": "python",
   "pygments_lexer": "ipython3",
   "version": "3.11.5"
  }
 },
 "nbformat": 4,
 "nbformat_minor": 5
}

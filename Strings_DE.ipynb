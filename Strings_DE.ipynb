{
  "nbformat": 4,
  "nbformat_minor": 0,
  "metadata": {
    "colab": {
      "provenance": [],
      "include_colab_link": true
    },
    "kernelspec": {
      "name": "python3",
      "display_name": "Python 3"
    },
    "language_info": {
      "name": "python"
    }
  },
  "cells": [
    {
      "cell_type": "markdown",
      "metadata": {
        "id": "view-in-github",
        "colab_type": "text"
      },
      "source": [
        "<a href=\"https://colab.research.google.com/github/Addakularanjith123/DE-SSO/blob/main/Strings_DE.ipynb\" target=\"_parent\"><img src=\"https://colab.research.google.com/assets/colab-badge.svg\" alt=\"Open In Colab\"/></a>"
      ]
    },
    {
      "cell_type": "code",
      "source": [
        "(07-08-2025)\n",
        "\n",
        "\n",
        "'''\n",
        "Write  a  program  to  determine  largest  command  line  input\n",
        "\n",
        "1) py   prog2.py   10     20     30.8   7  40    35.6\n",
        "    What  is  the  largest  command  line  input ?  ---> 40\n",
        "    What  is  argv ?  --->  ['prog2.py' , '10' , '20' , '30.8' , '7' , '40' , '35.6']\n",
        "    What  is  list  'a' ?  --->  [10 , 20 , 30.8 , 7 , 40 , 35.6]\n",
        "    How  to  determine  largest  element  of  list  'a' ?   ---> max(a)  i.e.  40\n",
        "    What  is  the  result  of  max(argv[1:]) ?  ---> '7'\n",
        "    What  is  the  issue  with  max(argv[1:])) ?  --->\n",
        "\t\t\t\tLargest  string  is  obtained  but  not  largest  number\n",
        "\n",
        "2) py  prog2.py\n",
        "    What  is  the  output ?  ---> Pls  send  inputs\n",
        "\n",
        "3) py   prog2.py   'Rama'   'Sita'   'Rajesh'   'Manohar'   'Vamsi'   'Amar'\n",
        "    What  is  the  largest  command  line  input ?  --->  'Vamsi'\n",
        "\n",
        "4) py   prog2.py   25   'Ten'\n",
        "    What  is  the  output ?  --->  Inputs  can  not  be  number  and  string\n",
        "\n",
        "5) Hint1: Use  for  loop\n",
        "\n",
        "6) Hint2: Use  try  and  except\n",
        "\n",
        "'''\n",
        "\n",
        "from sys import argv\n",
        "\n",
        "if len(argv) == 1:\n",
        "    print('Please send inputs')\n",
        "else:\n",
        "    a = [ ]\n",
        "    num = str = False\n",
        "\n",
        "          for i in argv[1:]:\n",
        "                   try:\n",
        "           \t      num = a.append(float(i))\n",
        "            \t      num = True\n",
        "     \texcept:\n",
        "                          a.append(i)\n",
        "                          str = True\n",
        "\n",
        "    if num and str:\n",
        "        print('Inputs can not be number and string')\n",
        "    else:\n",
        "        print('List:', a)\n",
        "        print('Largest:', max(a))\n",
        "\n",
        "#output:\n",
        "\n",
        "List: [10.0, 20.0, 30.8, 7.0, 40.0, 35.6]\n",
        "Largest: 40.0\n",
        "\n",
        "List: ['Rama', 'Sita', 'Rajesh', 'Manohar', 'Vamshi', 'Amar']\n",
        "Largest: Vamshi\n",
        "\n",
        "\n",
        "\n",
        "\n",
        "\n",
        "'''\n",
        "Write  a  program  to  determine  command  line  input  is  even  number  or  odd  number\n",
        "\n",
        "1) py  prog3.py  26\n",
        "    What  is  the  output ?  ---> Even  number\n",
        "\n",
        "2) py  prog3.py  45\n",
        "    What  is  the  output ?  ---> Odd  number\n",
        "\n",
        "3) py  prog3.py\n",
        "    What  is  the  output  ?  ---> Pls  send  an  integer  input\n",
        "\n",
        "4) py  prog3.py  10.8\n",
        "    What  is  the  output ?  --->  Pls  send   an  integer  input\n",
        "\n",
        "5) py  prog3.py  Ten\n",
        "    What  is  the  output  ?  --->  Pls  send   an  integer  input\n",
        " '''\n",
        "\n",
        "from sys import argv\n",
        "print(argv)\n",
        "\n",
        "try:\n",
        "        if int(argv[1])%2==0:\n",
        "                  print('Even Number')\n",
        "        else:\n",
        "                  print('Odd Number')\n",
        "except:\n",
        "         print('Please Send an integer input')\n",
        "\n",
        "#output:\n",
        "\n",
        "['dict.py', '26']\n",
        "Even Number\n",
        "\n",
        "['dict.py', '45']\n",
        "Odd Number\n",
        "\n",
        "\n",
        "\n",
        "\n",
        "\n",
        "'''\n",
        "Write  a  program  to  determine  average  of  command  line  inputs\n",
        "\n",
        "1) py   prog4.py   10.8   25   True   14.6   19   False   7.4\n",
        "    What  is  argv ?  --->['prog4.py' , '10.8' , '25' , 'True' , '14.6' , '19' , 'False' , '7.4']\n",
        "    What  is  list  'a'  ?  ---> \t[10.8 , 25 , True , 14.6 , 19 , False , 7.4]\n",
        "\tHow  to  determine  sum  of  list  elements ?  ---> sum(a)\n",
        "    \tHow  to  determine  number  of  list  elements ?  ---> len(a)\n",
        "\n",
        "2) py   prog4.py\n",
        "    What  is  the  output ?  ---> Pls  send  number  inputs\n",
        "\n",
        "3) py   prog4.py  25   'Ten'\n",
        "    What  is  the  output  ?  --->  Pls  send  number  inputs\n",
        "'''\n",
        "\n",
        "\n",
        "from sys import argv\n",
        "print(argv)\n",
        "\n",
        "if len(argv) == 1:\n",
        "\tprint('Pls send number inputs')\n",
        "else:\n",
        "    \ttry:\n",
        "        \t   nums = []\n",
        "        \t       for x in argv[1:]:\n",
        "            \t\tnums.append(eval(x))\n",
        "         \t   print(f'Average: {sum(nums) // len(nums)}')\n",
        "\texcept:\n",
        "        \t        print('Pls send number inputs')\n",
        "\n",
        "#output:\n",
        "\n",
        "['dict.py', '10.8', '25', 'True', '14.6', '19', 'False', '7.4']\n",
        "Average: 11.0\n",
        "\n",
        "\n",
        "\n",
        "\n",
        "'''\n",
        "Write  a  program  to  sort  command  line  inputs  in  ascending  order  and  descending  order\n",
        "\n",
        "1) py  prog5.py  10   20    15.8   5   12.6\n",
        "    What  is  argv ?  ---> ['prog5.py' , '10' , '20' , '15.8' , '5' , '12.6']\n",
        "    What  is  list  'a' ?  --->  [10 , 20 , 15.8 , 5 , 12.6]\n",
        "    How  to  sort  list  'a' ?  --->  sorted(a)\n",
        "    How  to  sort  list  'a'  in  descending  order  ?  ---> sorted(a , reverse = True)\n",
        "\n",
        "2) py  prog5.py   25   'Ten'\n",
        "    What  is  the  output ?  --->  Pls  don't  send  number  and  string  inputs  together\n",
        "'''\n",
        "\n",
        "from sys import argv\n",
        "print(argv)\n",
        "\n",
        "try:\n",
        "   a = []\n",
        "        for i in argv[1:]:\n",
        "                a.append(eval(i))\n",
        "        print('Ascending order sort:', sorted(a))\n",
        "        print('Descending order sort:', sorted(a, reverse=True))\n",
        "except:\n",
        "        print(\"Please don't send number and string inputs together\")\n",
        "\n",
        "\n",
        "#output:\n",
        "\n",
        "['dict.py', '10.8', '25', 'True', '14.6', '19', 'False', '7.4']\n",
        "Ascending order sort: [False, True, 7.4, 10.8, 14.6, 19, 25]\n",
        "Descending order sort: [25, 19, 14.6, 10.8, 7.4, True, False]\n",
        "\n",
        "\n",
        "\n",
        "\n",
        "# Find outputs  (Home  work)\n",
        "\n",
        "print( 'green'   in   'Hyd  is  green  city')\t#True\n",
        "print('day'   in   'Sankar  dayal  sarma')\t#True\n",
        "print('Green'   in   'Hyd  is  green  city')\t#False\n",
        "print('d  is'   in   'Hyd  is  green  city')\t#True\n",
        "print('dis'   in   'Hyd  is  green  city')\t#False\n",
        "print('iniv'   in   'Srinivas')\t\t#True\n",
        "print('iniv'   not   in   'Srinivas')\t\t#False\n",
        "\n",
        "\n",
        "\n",
        "\n",
        "\n",
        "'''  (Home  work)\n",
        "Slice  demo  program\n",
        "0      1      2       3        4       5       6       7\n",
        "R      a      m       a                R       a       o\n",
        "-8    -7     -6      -5       -4      -3      -2      -1\n",
        "'''\n",
        "a = 'Rama Rao'\n",
        "print(a [ : 7 : 2])\t#  a[ 0 :  7 : 2]   --->  string  from  indexes   0  to   6  in  steps  of  2  \ti.e.  Rm<space>a\n",
        "print(a [ : 7])\t#  a[ 0 :  7 : 1]   --->  string  from  indexes   0  to   6  in  steps  of  1  \ti.e.  Rama<space>Ra\n",
        "print(a [2 : 4])\t#  a[ 2 :  4 : 1]   --->  string  from  indexes   2  to   3  in  steps  of  1  \ti.e.  ma\n",
        "print(a [2 : ])\t#  a[ 2 :  8 : 1]   --->  string  from  indexes   2  to   7  in  steps  of  1  \ti.e.  ma<space>Rao\n",
        "print(a [ : 4 ])\t#  a[ 0 :  4 : 1]   --->  string  from  indexes   0  to   3  in  steps  of  1  \ti.e.  Rama\n",
        "print(a [ : : 2])\t#  a[ 0 :  8 : 2]   --->  string  from  indexes   0  to   7  in  steps  of  2  \ti.e.  Rm<space>a\n",
        "print(a [-6 : -1])\t#  a[-6 : -1 : -1] --->  string  from  indexes  -6  to  -2  in  steps  of -1  i.e.  ma<space>Ra\n",
        "print(a [-6 : ])\t#  a[-6 :  8 : 1]   --->  string  from  indexes  -6  to   7  in  steps  of  1  \ti.e.  ma<space>Rao\n",
        "print(a [: -4 : -1])\t#  a[-1 : -4 : -1] --->  string  from  indexes  -1  to  -3  in  steps  of -1  i.e.  oaR\n",
        "print(a [-3 : -1])\t#  a[-3 : -1 :  1] --->  string  from  indexes  -3  to  -2  in  steps  of -1  i.e.  Ra\n",
        "print(a [-3 : ])\t#  a[-3 :  8 : 1]   --->  string  from  indexes  -3  to   7  in  steps  of  1  \ti.e.  Rao\n",
        "print(a [ : : ])\t#  a[ 0 :  8 : 1]   --->  string  from  indexes   0  to   7  in  steps  of  1  \ti.e.  Rama<space>Rao\n",
        "print(a [ : ])\t#  a[ 0 :  8 : 1]   --->  string  from  indexes   0  to   7  in  steps  of  1  \ti.e.  Rama<space>Rao\n",
        "print(a [ : : -1])\t#  a[-1 : -9 : -1] --->  string  from  indexes  -1  to  -8  in  steps  of -1  i.e.  oaR<space>amaR\n",
        "print(a [ : : -2])\t#  a[-1 : -9 : -2] --->  string  from  indexes  -1  to  -8  in  steps  of -2  i.e.  oRaa\n",
        "print(a [ -2 : : -2])\t#  a[-2 : -9 : -2] --->  string  from  indexes  -2  to  -8  in  steps  of -2  i.e.  a<space>mR\n",
        "print(a [2 : 8])\t#  a[ 2 :  8 : 1]   --->  string  from  indexes   2  to   7  in  steps  of  1  \ti.e.  ma<space>Rao\n",
        "print(a [2 : 8 : -1])\t#  a[ 2 :  8 :-1]   --->  string  from  indexes   2  to   7  in  steps  of -1  \ti.e.  (empty)  as step is negative\n",
        "print(a [ : -6 : -1])\t#  a[-1 : -6 :-1]  --->  string  from  indexes  -1  to  -5  in  steps  of -1 \ti.e.  oaR<space>a\n",
        "print(a [2 : -3])\t#  a[ 2 : -3 : 1]   --->  string  from  indexes   2  to  -4  in  steps  of  1  \ti.e.  ma\n",
        "print(a [1 : 6 : 2])\t#  a[ 1 :  6 : 1]   --->  string  from  indexes   1  to   5  in  steps  of  2  \ti.e.  aaR\n",
        "print(a [ : -5 : -5])\t#  a[-1 : -5 : -5] --->  string  from  indexes  -1  to  -4  in  steps  of -5 \ti.e.  o\n",
        "print(a [2 : -5])\t#  a[ 2 : -5 : 1]   --->  string  from  indexes   2  to  -6  in  steps  of  1  \ti.e.  m\n",
        "print(a [2 : -5 : 2])\t#  a[ 2 : -5 : 2]   --->  string  from  indexes   2  to  -6  in  steps  of  2  \ti.e.  m\n",
        "print(a [ : 0 : -1])\t#  a[-1 :  0 : -1] --->  string  from  indexes  -1  to   1  in  steps  of -1  \ti.e.  oaR<space>ama\n",
        "print(a [-5 : 0 : -2])#  a[-5 :  0 : -2] --->  string  from  indexes  -5  to   1  in  steps  of -2  i.e.  aa\n",
        "\n",
        "\n",
        "\n",
        "\n",
        "\n",
        "\n",
        "'''\n",
        "Write  a  program  to  concatenate  two  strings  separated  by  space  but  swap  first  two\n",
        "characters  of  the  two  strings.\n",
        "Assume  that  each  string  has  a   minimum  of  two  characters\n",
        "\n",
        "Let  inputs  be  Java  and  Python\n",
        "What  are  the  outputs ?  --->  Pyva<space>Jathon\n",
        "\n",
        "Hint:  Use  slice\n",
        "'''\n",
        "\n",
        "s1 = input('Enter first string: ')\n",
        "s2 = input('Enter second string: ')\n",
        "\n",
        "if len(s1) < 2 or len(s2) < 2:\n",
        "\tprint('Input should be a min of 2-char string')\n",
        "else:\n",
        "    \tout = s2[:2] + s1[2:] + \" \" + s1[:2] + s2[2:]\n",
        "   \tprint(\"Result:\", out)\n",
        "\n",
        "#output:\n",
        "\n",
        "Enter first string: Java\n",
        "Enter second string: Python\n",
        "Result  :   Pyva Jathon\n",
        "\n",
        "Enter first string: A\n",
        "Enter second string: HYD\n",
        "Input  should  be  a  min  of  2-char  string\n",
        "\n",
        "\n",
        "\n",
        "\n",
        "\n",
        "\n",
        "'''\n",
        "Write  a  program  to  print  first  two  and  the  last  two  characters  of  the  string\n",
        "Print  an  empty  string  if  string  has  less  than  four  characters\n",
        "\n",
        "1) Let  input  be  PYTHON\n",
        "    What  is  the  output ?  ---> PYON\n",
        "\n",
        "2) Let  input  be  Hyd\n",
        "    What  is  the  output ?  --->  Nothing\n",
        "'''\n",
        "\n",
        "a = input('Enter any string: ')\n",
        "\n",
        "if len(a) < 4:\n",
        "\tprint(\"\")\n",
        "else:\n",
        "   \tprint(a[:2] + a[-2:])\n",
        "\n",
        "#output:\n",
        "\n",
        "Enter any string: PYTHON\n",
        "PYON\n",
        "\n",
        "\n",
        "\n",
        "'''\n",
        "Write  a  program  to  print  characters  of  the  string  in  forward  and  reverse\n",
        "directions  without  slice\n",
        "\n",
        "       \t     \t\t 0      1     2      3     4\n",
        "Let  input  be\t\t  V     A     M     S     I\n",
        "\t\t\t -5    -4    -3    -2    -1\n",
        "\n",
        "What  are  the  outputs ?  --->  Character  at  index  0  :  V\n",
        "\t\t\t\t\t\t\t\t                 Character  at  index  1   :  A\n",
        "\t\t\t\t\t\t\t\t                 Character  at  index  2   :  M\n",
        "\t\t\t\t\t\t\t              \t                 Character  at  index  3   :  S\n",
        "\t\t\t\t\t\t\t\t                 Character  at  index  4   :  I\n",
        "\t\t\t\t\t\t\t\t                 Character  at  index  -1  :  I\n",
        "\t\t\t\t\t\t\t\t                 Character  at  index  -2  :  S\n",
        "\t\t\t\t\t\t\t\t                 Character  at  index  -3  :  M\n",
        "\t\t\t\t\t\t\t\t                 Character  at  index  -4  :  A\n",
        "\t\t\t\t\t\t\t\t                 Character  at  index  -5  :  V\n",
        "\n",
        "Hint:  Use  two  for  loops\n",
        "'''\n",
        "\n",
        "a = input(\"Enter any string: \")\n",
        "\n",
        "print(\"Forward direction:\")\n",
        "for i in range(len(s)):\n",
        "\tprint(f\"Character at index {i} : {a[i]}\")\n",
        "\n",
        "print(\"\\nReverse direction:\")\n",
        "for i in range(-1, -len(a)-1, -1):\n",
        "    \tprint(f\"Character at index {i} : {a[i]}\")\n",
        "\n",
        "#output:\n",
        "\n",
        "Enter any string: VAMSHI\n",
        "Forward direction:\n",
        "Character at index 0 : V\n",
        "Character at index 1 : A\n",
        "Character at index 2 : M\n",
        "Character at index 3 : S\n",
        "Character at index 4 : H\n",
        "Character at index 5 : I\n",
        "\n",
        "Reverse direction:\n",
        "Character at index -1 : I\n",
        "Character at index -2 : H\n",
        "Character at index -3 : S\n",
        "Character at index -4 : M\n",
        "Character at index -5 : A\n",
        "Character at index -6 : V\n",
        "\n",
        "\n",
        "\n",
        "\n",
        "\n",
        "'''\n",
        "Write  a  program  to  print  characters  at  even  and  odd  indexes  without  slice\n",
        "\n",
        "\t\t0      1      2      3     4     5     6      7\n",
        "Let  input  be           R      a     m      a             R     a      o\n",
        "\n",
        "odd =  '' + 'a' + 'a' + 'R' + 'o' = 'aaRo'\n",
        "even =   '' + 'R' + 'm' + ' '  + 'a' = 'Rm a'\n",
        "\n",
        "1) What  action  to  be  made  when  index  is  even ?  --->\n",
        "\t\t\t\tConcatenate  the  character  to  even  object\n",
        "\n",
        "2) What  action  to  be  made  when  index  is  odd ?  --->\n",
        "\t\t\t\tConcatenate  the  characeter  to  odd  object\n",
        "\n",
        "3) Hint: Use  single  for  loop\n",
        "'''\n",
        "\n",
        "a = input(\"Enter any string: \")\n",
        "\n",
        "even = \"\"\n",
        "odd = \"\"\n",
        "\n",
        "for i in range(len(a)):\n",
        " \tif i % 2 == 0:\n",
        "        \t\teven += a[i]\n",
        "    \telse:\n",
        "        \t\todd += a[i]\n",
        "\n",
        "print(\"String at even indexes:\", even)\n",
        "print(\"String at odd indexes:\", odd)\n",
        "\n",
        "#output:\n",
        "\n",
        "Enter  any  string  :  RAMA RAO\n",
        "String  at  even  indexes  : RM A\n",
        "String  at  odd  indexes  : AARO\n",
        "\n",
        "\n",
        "\n",
        "\n",
        "'''\n",
        "Let  input  be    A   4   B   3   C   2   $   5\n",
        "                                 0   1    2   3   4   5   6   7\n",
        "\n",
        "What  is  the  output ?  --->  AAAABBBCC$$$$$\n",
        "\n",
        "1) What  is  the  result  of  'A' * 4  ?  ---> 'AAAA'\n",
        "\n",
        "2)  i        a[i]       a[i + 1]          out\n",
        "   -------------------------------------------------------\n",
        "                                               ''\n",
        "     0        'A'          '4'            '' + 'A' * 4 = 'AAAA'\n",
        "\n",
        "\t 2        'B'          '3'            'AAAA' + 'B' * 3 = 'AAAA' + 'BBB' = 'AAAABBB'\n",
        "\n",
        "\t 4        'C'          '2'            'AAAABBB' + 'C' * 2 = 'AAAABBB' + 'CC' = 'AAAABBBCC'\n",
        "\n",
        "\t 6        '$'          '5'            'AAAABBBCC' + '$' * 5 = 'AAAABBBCC' + '$$$$$' = 'AAAABBBCC$$$$$'\n",
        "   -------------------------------------------------------\n",
        "What  is  the  difference  between  a[i]   and  a[i + 1] ?  --->\n",
        "\ta[i]  is  ith  char  of  string  and  a[i + 1]  is  (i + 1)th  char  of  string\n",
        "'''\n",
        "\n",
        "a = input(\"Enter any string with alternate character and digit: \")\n",
        "\n",
        "if len(a) % 2 != 0:\n",
        "\tprint(\"String should have alternate character 😘 and digit\")\n",
        "\n",
        "else:\n",
        "    \tout = \"\"\n",
        "    \tfor i in range(0, len(a), 2):\n",
        "        \t\tout += a[i] * int(a[i+1])\n",
        "   \t print(\"Result:\", out)\n",
        "\n",
        "#output:\n",
        "\n",
        "Enter  any  string  with  alternate  character  and  digit :  A4B3C2$5\n",
        "Result :   AAAABBBCC$$$$$\n",
        "\n",
        "Enter  any  string  with  alternate  character  and  digit :  HYD\n",
        "String   should  have  alternate  character  and  digit\n",
        "\n",
        "\n",
        "\n",
        "\n",
        "\n",
        "'''\n",
        "Write  a  program  to  merge  two  strings  to  form  a  new  string\n",
        "\n",
        "1) Let  inputs  be    HYD   and   VAMSI\n",
        "   What  is  the  output  ?  --->  HVYADMSI\n",
        "\n",
        "             0     1    2\n",
        "a  --->   H     Y    D\n",
        "\n",
        "              0    1     2     3    4\n",
        "b  --->    V    A    M    S    I\n",
        "\n",
        "\n",
        "i       a[i]        b[i]          c\n",
        "--------------------------------------------------------\n",
        "                                    ''\n",
        "0      'H'        'V'          '' + 'H' + 'V' = 'HV'\n",
        "\n",
        "1      'Y'        'A'          'HV' + 'Y' + 'A' = 'HVYA'\n",
        "\n",
        "2      'D'       'M'          'HVYA' + 'D' + 'M' = 'HVYADM'\n",
        "--------------------------------------------------------\n",
        "Concatenate  remainging  characters   of  the  other  string  to  object  'c'\n",
        "What  is  the  final  result ?  --->  'HVYADMSI'\n",
        "\n",
        "Hint:  Use  single  while  loop  and  slice\n",
        "'''\n",
        "\n",
        "a = input(\"Enter first string: \")\n",
        "b = input(\"Enter second string: \")\n",
        "\n",
        "i = 0\n",
        "c = \"\"\n",
        "while i < len(a) and i < len(b):\n",
        "    c += a[i] + b[i]\n",
        "    i += 1\n",
        "\n",
        "c += a[i:] + b[i:]\n",
        "print(\"Result:\", c)\n",
        "\n",
        "\n",
        "#output:\n",
        "\n",
        "Enter  first  string  :  HYD\n",
        "Enter  second  string  :  VAMSI\n",
        "Result  :   HVYADMSI\n",
        "\n",
        "Enter  first  string  :  SAIRAM\n",
        "Enter  second  string  :  HYD\n",
        "Result  :   SHAYIDRAM\n",
        "\n",
        "\n",
        "\n",
        "\n",
        "'''\n",
        "Write  a  program  to  remove  duplicate  characters  of  the  string  without  using  set\n",
        "\n",
        "1) Let  input  be   RAMA  RAO\n",
        "   What  is  the  output ? ---> RAM<space>O\n",
        "\n",
        "2) out = '' + 'R' = 'R' + 'A' = 'RA' + 'M' = 'RAM' + ' ' = 'RAM ' + 'O' = 'RAM O'\n",
        "\n",
        "3) What  action  to  be  made  if  the  character  is  not  in  out  object ?  --->\n",
        "\t\tConcatenate  the  character  to  out  object\n",
        "\n",
        "4) What  action  to  be  made  if  the  character  is  already  in  out  object ?  --->\n",
        "\t\tIgnore  the  character\n",
        "\n",
        "5) Hint:  Use  not  in   operator\n",
        "'''\n",
        "\n",
        "s = input(\"Enter any string: \")\n",
        "out = \"\"\n",
        "\n",
        "for ch in s:\n",
        "    if ch not in out:\n",
        "        out += ch\n",
        "\n",
        "print(\"String without duplicates:\", out)\n",
        "\n",
        "#output:\n",
        "\n",
        "Enter  any  string  :  MISSISIPI\n",
        "String  without  duplicates  :    MISP\n",
        "\n",
        "\n",
        "\n",
        "\n",
        "\n",
        "# len()  function  demo  program  (Home  work)\n",
        "\n",
        "print(len('Hyd'))\t# 3\n",
        "print(len('Rama Rao'))\t# 8\n",
        "print(len('9247'))\t# 4\n",
        "print(len('+-$'))\t# 3\n",
        "print(len(''))\t\t# 0\n",
        "print(len(' '))\t\t# 1\n",
        "print(len('A2#'))\t# 3\n",
        "print(len(3456))\t\t# error as we can't use len for int\n",
        "print('Sec'. len('12'))\t# error as syntax for str len is not valid\n",
        "\n",
        "\n",
        "\n",
        "\n",
        "# chr()  function  demo  program\n",
        "\n",
        "print(chr(65))\t#   Converts  unicode  value  65  to  'A'\n",
        "print(chr(90))\t#   Converts  unicode  value  90  to  'Z'\n",
        "print(chr(97))\t#   Converts  unicode  value  97  to  'a'\n",
        "print(chr(122))\t#   Converts  unicode  value  122 to  'z'\n",
        "print(chr(48))\t#   Converts  unicode  value  48  to  '0'\n",
        "print(chr(57))\t#   Converts  unicode  value  57  to  '9'\n",
        "print(chr(36))\t#   Converts  unicode  value  36  to  '$'\n",
        "print(chr(32))\t#   Converts  unicode  value  32  to  'space'\n",
        "\n",
        "\n",
        "\n",
        "\n",
        "# ord()  function  demo  program\n",
        "\n",
        "print(ord('A'))\t#  Converts  'A'  to  unicode  value  65\n",
        "print(ord('Z'))\t#  Converts  'Z'  to  unicode  value  90\n",
        "print(ord('a'))\t#  Converts  'a'  to  unicode  value  97\n",
        "print(ord('z'))\t#  Converts  'z'  to  unicode  value  122\n",
        "print(ord('0'))\t#  Converts  '0'  to  unicode  value  48\n",
        "print(ord('9'))\t#  Converts  '9'  to  unicode  value  57\n",
        "print(ord('$'))\t#  Converts  '$'  to  unicode  value  36\n",
        "print(ord(' '))\t#  Converts  ' '  to  unicode  value  32\n",
        "\n",
        "\n",
        "\n",
        "'''\n",
        "Let  input  be  A4M3Z5D2\n",
        "\n",
        "What  is  the  output ?  --->  AEMPZ_DF\n",
        "\n",
        " 0     1     2     3    4    5    6     7\n",
        " A     4     M     3    Z    5    D     2\n",
        "\n",
        "\n",
        "   i       a[i]      a[i + 1]         out\n",
        "--------------------------------------------------------------------------------\n",
        "                                          ''\n",
        "  0       'A'           '4'          '' + 'A' + chr(65 + 4) = '' + 'A' + 'E' = 'AE'\n",
        "\n",
        "  2       'M'           '3'          'AE' + 'M' + chr(77 + 3) = 'AE' + 'M' + 'P' = 'AEMP'\n",
        "\n",
        "  4       'Z'           '5'          'AEMP' + 'Z' + chr(90 + 5) = 'AEMP' + 'Z' + '' = 'AEMPZ'\n",
        "\n",
        "  6       'D'           '2'          'AEMPZ_' + 'D' + chr(68 + 2) = 'AEMPZ_' + 'D' + 'F' = 'AEMPZ_DF'\n",
        "-----------------------------------------------------------------------------------\n",
        "Hint: Use  chr()  and  ord()  functions\n",
        "\n",
        "'''\n",
        "\n",
        "s = input(\"Enter any string with alternate character and digit: \")\n",
        "\n",
        "if len(s) % 2 != 0:\n",
        "    print(\"Pls enter string with alternate char and digit\")\n",
        "else:\n",
        "    out = \"\"\n",
        "    for i in range(0, len(s), 2):\n",
        "        out += s[i] + chr(ord(s[i]) + int(s[i+1]))\n",
        "    print(\"Result:\", out)\n",
        "\n",
        "\n",
        "#output:\n",
        "\n",
        "Enter  any  string  with  alternate  character  and  digit  :  A4M3Z5D2\n",
        "Result  :   AEMPZ_DF\n",
        "\n",
        "Enter  any  string  with  alternate  character  and  digit  :  HYD\n",
        "Pls  enter  string  with  alternate  char and digit"
      ],
      "metadata": {
        "id": "a143PdVdBP7F"
      },
      "execution_count": null,
      "outputs": []
    },
    {
      "cell_type": "code",
      "source": [],
      "metadata": {
        "id": "yMC9eAC_Vvt6"
      },
      "execution_count": null,
      "outputs": []
    },
    {
      "cell_type": "code",
      "source": [],
      "metadata": {
        "id": "XtHS_kyUVvqj"
      },
      "execution_count": null,
      "outputs": []
    },
    {
      "cell_type": "code",
      "source": [
        "#find demo\n",
        "a = 'Hyd is green city. Hyd is hitec city. Hyd is his cityi'\n",
        "index =a.find('is')\n",
        "while  index != -1:\n",
        "  print(index)\n",
        "  index = a . find('is' , index +1)\n",
        "print('End')"
      ],
      "metadata": {
        "colab": {
          "base_uri": "https://localhost:8080/"
        },
        "id": "wZl84a-zJjI0",
        "outputId": "f634ef7b-ecfd-4c21-f322-2e9a8e772801"
      },
      "execution_count": null,
      "outputs": [
        {
          "output_type": "stream",
          "name": "stdout",
          "text": [
            "4\n",
            "23\n",
            "42\n",
            "46\n",
            "End\n"
          ]
        }
      ]
    },
    {
      "cell_type": "code",
      "source": [
        "'''\n",
        "Modify  following  program  with  walrus  operator\n",
        "\n",
        "Hint:  Combine  lines  7 , 8  and  10  to  a  single  line  with  walrus  operator\n",
        "'''\n",
        "a = 'Hyd is green city. Hyd is hitec city. Hyd is his cityi'\n",
        "index = -1\n",
        "while (index := a . find('is' , index +1)) != -1:\n",
        "  print(index)\n",
        "print('End')"
      ],
      "metadata": {
        "colab": {
          "base_uri": "https://localhost:8080/"
        },
        "id": "9iUWkRmRIvV9",
        "outputId": "b7bfe59c-60a6-4fdc-db65-479627a74087"
      },
      "execution_count": null,
      "outputs": [
        {
          "output_type": "stream",
          "name": "stdout",
          "text": [
            "4\n",
            "23\n",
            "42\n",
            "46\n",
            "End\n"
          ]
        }
      ]
    },
    {
      "cell_type": "code",
      "source": [
        "'''  (Home  work)\n",
        "index()  method  demo  program\n",
        "\n",
        "Modify  the  following  program  with  index()  method\n",
        "'''\n",
        "a = 'Hyd is green city. Hyd is hitec city. Hyd is his cityi'\n",
        "index = a . index('is')\n",
        "while  index != -1:\n",
        "\tprint(index)\n",
        "\tindex = a . index('is' , index + 1)\n",
        "print('End')\n",
        "\n",
        "\n",
        "\n",
        "'''\n",
        "index()  method\n",
        "-------------------\n",
        "It  is  same  as  find()  method  except  that  it  throws   error (but  not  -1) when  string  is  not  found\n",
        "\n",
        "Syntax :  Same  as   find()  method\n",
        "'''"
      ],
      "metadata": {
        "colab": {
          "base_uri": "https://localhost:8080/",
          "height": 292
        },
        "id": "ENf8XKwLIvSj",
        "outputId": "5f549864-e2c2-4c55-e3fc-8c0e10a2046a"
      },
      "execution_count": null,
      "outputs": [
        {
          "output_type": "stream",
          "name": "stdout",
          "text": [
            "4\n",
            "23\n",
            "42\n",
            "46\n"
          ]
        },
        {
          "output_type": "error",
          "ename": "ValueError",
          "evalue": "substring not found",
          "traceback": [
            "\u001b[0;31m---------------------------------------------------------------------------\u001b[0m",
            "\u001b[0;31mValueError\u001b[0m                                Traceback (most recent call last)",
            "\u001b[0;32m/tmp/ipython-input-2355061596.py\u001b[0m in \u001b[0;36m<cell line: 0>\u001b[0;34m()\u001b[0m\n\u001b[1;32m      8\u001b[0m \u001b[0;32mwhile\u001b[0m  \u001b[0mindex\u001b[0m \u001b[0;34m!=\u001b[0m \u001b[0;34m-\u001b[0m\u001b[0;36m1\u001b[0m\u001b[0;34m:\u001b[0m\u001b[0;34m\u001b[0m\u001b[0;34m\u001b[0m\u001b[0m\n\u001b[1;32m      9\u001b[0m         \u001b[0mprint\u001b[0m\u001b[0;34m(\u001b[0m\u001b[0mindex\u001b[0m\u001b[0;34m)\u001b[0m\u001b[0;34m\u001b[0m\u001b[0;34m\u001b[0m\u001b[0m\n\u001b[0;32m---> 10\u001b[0;31m         \u001b[0mindex\u001b[0m \u001b[0;34m=\u001b[0m \u001b[0ma\u001b[0m \u001b[0;34m.\u001b[0m \u001b[0mindex\u001b[0m\u001b[0;34m(\u001b[0m\u001b[0;34m'is'\u001b[0m \u001b[0;34m,\u001b[0m \u001b[0mindex\u001b[0m \u001b[0;34m+\u001b[0m \u001b[0;36m1\u001b[0m\u001b[0;34m)\u001b[0m\u001b[0;34m\u001b[0m\u001b[0;34m\u001b[0m\u001b[0m\n\u001b[0m\u001b[1;32m     11\u001b[0m \u001b[0mprint\u001b[0m\u001b[0;34m(\u001b[0m\u001b[0;34m'End'\u001b[0m\u001b[0;34m)\u001b[0m\u001b[0;34m\u001b[0m\u001b[0;34m\u001b[0m\u001b[0m\n\u001b[1;32m     12\u001b[0m \u001b[0;34m\u001b[0m\u001b[0m\n",
            "\u001b[0;31mValueError\u001b[0m: substring not found"
          ]
        }
      ]
    },
    {
      "cell_type": "code",
      "source": [
        "#find()\n",
        "a = 'Hyd is green city. Hyd is hitec city. Hyd is his cityi'\n",
        "index =a.find('ranjith')\n",
        "while index!=-1:\n",
        "  print(index)\n",
        "  index=a.find('ranjith' , index +1)\n",
        "print('End') # it does not throws error because it is find method"
      ],
      "metadata": {
        "colab": {
          "base_uri": "https://localhost:8080/"
        },
        "id": "nqDnOrykhi-m",
        "outputId": "2ced7723-e06f-4758-e09a-8b0213720196"
      },
      "execution_count": null,
      "outputs": [
        {
          "output_type": "stream",
          "name": "stdout",
          "text": [
            "End\n"
          ]
        }
      ]
    },
    {
      "cell_type": "code",
      "source": [
        "#index()\n",
        "try:\n",
        "  a = 'Hyd is green city. Hyd is hitec city. Hyd is his cityi'\n",
        "  index =a.index('is')\n",
        "  while True:\n",
        "      print(index)\n",
        "      index=a.index('is' , index +1)\n",
        "except:\n",
        "  print('End')"
      ],
      "metadata": {
        "colab": {
          "base_uri": "https://localhost:8080/"
        },
        "id": "Y0phMqSVKsa0",
        "outputId": "2cb8fe7d-d737-4497-db82-b076ffeba9af"
      },
      "execution_count": null,
      "outputs": [
        {
          "output_type": "stream",
          "name": "stdout",
          "text": [
            "End\n"
          ]
        }
      ]
    },
    {
      "cell_type": "code",
      "source": [
        "#index() another way\n",
        "a = 'Hyd is green city. Hyd is hitec city. Hyd is his cityi'\n",
        "index =a.index('is')\n",
        "try:\n",
        "  while index!=-1:\n",
        "    print(index)\n",
        "    index=a.index('is' , index +1)\n",
        "except ValueError:\n",
        "  pass #for not printing anything\n",
        "print('End')\n",
        "\n",
        "# a = 'Hyd is green city. Hyd is hitec city. Hyd is his cityi'\n",
        "# index = a . index('is')\n",
        "# try:\n",
        "#     while  index != -1:\n",
        "#         print(index)\n",
        "#         index = a . index('is' , index + 1)\n",
        "# except ValueError:\n",
        "#     print('End')\n"
      ],
      "metadata": {
        "colab": {
          "base_uri": "https://localhost:8080/"
        },
        "id": "bW5wY6GUipfv",
        "outputId": "539fddbc-f70b-48b7-f491-38fb46286ad0"
      },
      "execution_count": null,
      "outputs": [
        {
          "output_type": "stream",
          "name": "stdout",
          "text": [
            "4\n",
            "23\n",
            "42\n",
            "46\n",
            "End\n"
          ]
        }
      ]
    },
    {
      "cell_type": "code",
      "source": [
        "'''(Home  work)\n",
        "rfind()  method  demo  program\n",
        "\n",
        "Modify  following  program  with  rfind()  method\n",
        "'''\n",
        "a = 'Hyd is green city. Hyd is hitec city. Hyd is his cityi'\n",
        "index = a . rfind('is')\n",
        "while  index != -1:\n",
        "\tprint(index)\n",
        "\tindex = a . rfind('is' ,0, index)#if we have str1 . rfind(str2 , x) two argument it will seach from left to right better to use 1 or 3 aguments.\n",
        "print('End')\n",
        "\n",
        "\n",
        "\n",
        "'''\n",
        "rfind()  method\n",
        "-------------------\n",
        "1) What  does  str1 . rfind(str2 , x , y)  do ?  --->   Returns  index  of  str2  in  str1   between  indexes  y - 1  downto  x\n",
        "\t\t\t\t\t\t\t\t\t\t\t\t\t\t\t\t\t\t\t  i.e. right  to  left\n",
        "\n",
        "2) What  does  str1 . rfind(str2)  do ?  --->  Returns index  of  str2  in  str1   between  indexes  len(str1) - 1  downto  0\n",
        "\t\t\t\t\t\t\t\t\t\t\t\t\t\t\t\t     i.e. right  to  left\n",
        "\n",
        "3) What  does  str1 . rfind(str2 , x)  do ?  --->  Returns  index  of  str2  in  str1   between  indexes  x  to  len(str1) - 1\n",
        "\t\t\t\t\t\t\t\t\t\t\t\t\t\t                  i.e.  left  to  right\n",
        "\n",
        "4) How  many  arguments  can  rfind()  method  take ?  --->  1 (or) 3  but  not  2\n",
        "\n",
        "5) What  is  the  issue  with  two  arguments ?  --->  Method  searches  from  left  to  right  even  though  it  is  rfind()  method\n",
        "\n",
        "6) What  does  rfind()  method  return  (+ve  (or)  -ve  index) ?  --->  +ve  index  even  though  search  is  from  right  to  left\n",
        "\n",
        "7) What  does  rfind()  method  do  if  str2  is  not  in  str1 ?  --->  Returns  -1\n",
        "'''"
      ],
      "metadata": {
        "colab": {
          "base_uri": "https://localhost:8080/",
          "height": 200
        },
        "id": "Wnco3XZOMWb2",
        "outputId": "9da3aca3-ef7b-4a72-f6bf-47d971fcde03"
      },
      "execution_count": null,
      "outputs": [
        {
          "output_type": "stream",
          "name": "stdout",
          "text": [
            "46\n",
            "42\n",
            "23\n",
            "4\n",
            "End\n"
          ]
        },
        {
          "output_type": "execute_result",
          "data": {
            "text/plain": [
              "'\\nrfind()  method\\n-------------------\\n1) What  does  str1 . rfind(str2 , x , y)  do ?  --->   Returns  index  of  str2  in  str1   between  indexes  y - 1  downto  x\\n\\t\\t\\t\\t\\t\\t\\t\\t\\t\\t\\t\\t\\t\\t\\t\\t\\t\\t\\t  i.e. right  to  left\\n\\n2) What  does  str1 . rfind(str2)  do ?  --->  Returns index  of  str2  in  str1   between  indexes  len(str1) - 1  downto  0\\n\\t\\t\\t\\t\\t\\t\\t\\t\\t\\t\\t\\t\\t\\t\\t\\t     i.e. right  to  left\\n\\n3) What  does  str1 . rfind(str2 , x)  do ?  --->  Returns  index  of  str2  in  str1   between  indexes  x  to  len(str1) - 1\\n\\t\\t\\t\\t\\t\\t\\t\\t\\t\\t\\t\\t\\t\\t                  i.e.  left  to  right\\n\\n4) How  many  arguments  can  rfind()  method  take ?  --->  1 (or) 3  but  not  2\\n\\n5) What  is  the  issue  with  two  arguments ?  --->  Method  searches  from  left  to  right  even  though  it  is  rfind()  method\\n\\n6) What  does  rfind()  method  return  (+ve  (or)  -ve  index) ?  --->  +ve  index  even  though  search  is  from  right  to  left\\n\\n7) What  does  rfind()  method  do  if  str2  is  not  in  str1 ?  --->\\xa0\\xa0Returns\\xa0\\xa0-1\\n'"
            ],
            "application/vnd.google.colaboratory.intrinsic+json": {
              "type": "string"
            }
          },
          "metadata": {},
          "execution_count": 4
        }
      ]
    },
    {
      "cell_type": "code",
      "source": [
        "'''  (Home  work)\n",
        "rindex()   method  demo  program\n",
        "\n",
        "Modify  following  program  with  rindex()  method\n",
        "\n",
        "Hint: Use   try  and  except\n",
        "'''\n",
        "\n",
        "try:\n",
        "  a = 'Hyd is green city. Hyd is hitec city. Hyd is his cityi'\n",
        "  index = a . rindex('is')\n",
        "  while True:\n",
        "    print(index)\n",
        "    index = a . rindex('is' ,0, index )\n",
        "except:\n",
        "  print('End')\n",
        "\n",
        "\n",
        "'''\n",
        "rindex()  method\n",
        "--------------------\n",
        "It  is  same  as   rfind()  method  except  that  it  throws  error  but  not  -1  when  string  is  not  found\n",
        "'''"
      ],
      "metadata": {
        "colab": {
          "base_uri": "https://localhost:8080/",
          "height": 127
        },
        "id": "P8DPhXT2MWZP",
        "outputId": "47b24a72-3567-4889-b600-f23b470c8391"
      },
      "execution_count": null,
      "outputs": [
        {
          "output_type": "stream",
          "name": "stdout",
          "text": [
            "46\n",
            "42\n",
            "23\n",
            "4\n",
            "End\n"
          ]
        },
        {
          "output_type": "execute_result",
          "data": {
            "text/plain": [
              "'\\nrindex()  method\\n--------------------\\nIt  is  same  as   rfind()  method  except  that  it  throws  error  but  not  -1  when  string  is\\xa0\\xa0not\\xa0\\xa0found\\n'"
            ],
            "application/vnd.google.colaboratory.intrinsic+json": {
              "type": "string"
            }
          },
          "metadata": {},
          "execution_count": 5
        }
      ]
    },
    {
      "cell_type": "code",
      "source": [],
      "metadata": {
        "id": "RQ4pNuaHMWOP"
      },
      "execution_count": null,
      "outputs": []
    },
    {
      "cell_type": "code",
      "source": [
        "#  count()  method  demo  program (Home  work)\n",
        "a = 'Hyd is green city. Hyd is hitec city. Hyd is his city'\n",
        "print(a . count('is')) #4\n",
        "print(a . count('is' , 19 , 48)) #counting 'is' from 19 to 47 indexes of the sting.\n",
        "print(a . count('was')) #0\n",
        "'''\n",
        "count()\n",
        "---------\n",
        "1) What  does  str1 . count(str2)  do ? --->  Returns  number  of  times  str2  is  found  in  str1\n",
        "\n",
        "2) What  does  str1 . count(str2 , x , y)  do ? --->\n",
        "\t\t\t\t\t\t\t\t\t\t\t\t\t\tReturns  number  of  times  str2  is  found  in  str1  between  indexes  x  and  y - 1\n",
        "'''"
      ],
      "metadata": {
        "colab": {
          "base_uri": "https://localhost:8080/",
          "height": 109
        },
        "id": "jfer_avDKsGe",
        "outputId": "2f1caeba-9f30-4902-eedf-173f9c768984"
      },
      "execution_count": null,
      "outputs": [
        {
          "output_type": "stream",
          "name": "stdout",
          "text": [
            "4\n",
            "3\n",
            "0\n"
          ]
        },
        {
          "output_type": "execute_result",
          "data": {
            "text/plain": [
              "'\\ncount()\\n---------\\n1) What  does  str1 . count(str2)  do ? --->  Returns  number  of  times  str2  is  found  in  str1\\n\\n2) What  does  str1 . count(str2 , x , y)  do ? --->\\n\\t\\t\\t\\t\\t\\t\\t\\t\\t\\t\\t\\t\\t\\tReturns  number  of  times  str2  is  found  in  str1  between  indexes  x\\xa0\\xa0and\\xa0\\xa0y\\xa0-\\xa01\\n'"
            ],
            "application/vnd.google.colaboratory.intrinsic+json": {
              "type": "string"
            }
          },
          "metadata": {},
          "execution_count": 6
        }
      ]
    },
    {
      "cell_type": "code",
      "source": [
        "#  Find  outputs  (Home  work)\n",
        "a = 'Hyd is\\tgreen\\ncity.Hyd is\\thitec\\ncity.Hyd is\\this\\ncity'\n",
        "print(a . count(' '))#3\n",
        "print(a . count('\\t'))#3\n",
        "print(a.count('\\n'))#3"
      ],
      "metadata": {
        "colab": {
          "base_uri": "https://localhost:8080/"
        },
        "id": "QuwB04I3Kr1g",
        "outputId": "3d2219e6-b0f9-4dc3-9e5d-12907bee1c86"
      },
      "execution_count": null,
      "outputs": [
        {
          "output_type": "stream",
          "name": "stdout",
          "text": [
            "3\n",
            "3\n",
            "3\n"
          ]
        }
      ]
    },
    {
      "cell_type": "code",
      "source": [
        "'''\n",
        "Write  a  program  to  replace  every  occurance  of  first  character  in  the  string  with  '*'  except  first  character\n",
        "\n",
        "Let  input  be  'babble'\n",
        "What  is  the  output ?  ---> ba**le\n",
        "'''\n",
        "\n",
        "\n",
        "a=input(\"enter the string\")\n",
        "b=a[:1]\n",
        "c=b+a[1:].replace(b,'*')\n",
        "print(c)"
      ],
      "metadata": {
        "id": "v-t-VB5CqxoU",
        "colab": {
          "base_uri": "https://localhost:8080/"
        },
        "outputId": "80a75eb9-08be-48da-a0bf-970f2e7ebf17"
      },
      "execution_count": null,
      "outputs": [
        {
          "output_type": "stream",
          "name": "stdout",
          "text": [
            "enter the stringbabble\n",
            "ba**le\n"
          ]
        }
      ]
    },
    {
      "cell_type": "code",
      "source": [
        "#  Find  outputs  (Home  work)\n",
        "a = '15:36:48'\n",
        "print(a . split(':'))#[15,36,48]\n",
        "print(a)#15:36:48"
      ],
      "metadata": {
        "id": "oKxGuCyyKrRL",
        "colab": {
          "base_uri": "https://localhost:8080/"
        },
        "outputId": "68d29bee-91cc-4604-d396-3c29413c7457"
      },
      "execution_count": null,
      "outputs": [
        {
          "output_type": "stream",
          "name": "stdout",
          "text": [
            "['15', '36', '48']\n",
            "15:36:48\n"
          ]
        }
      ]
    },
    {
      "cell_type": "code",
      "execution_count": null,
      "metadata": {
        "id": "3eO10lv7-t6m",
        "colab": {
          "base_uri": "https://localhost:8080/"
        },
        "outputId": "509758c3-b10f-4102-a4d2-298207918594"
      },
      "outputs": [
        {
          "output_type": "stream",
          "name": "stdout",
          "text": [
            "['Hyd\\nis', 'green\\tcity']\n",
            "['Hyd', 'is', 'green', 'city']\n",
            "['Hyd\\nis ', '\\tcity']\n"
          ]
        }
      ],
      "source": [
        "# Find  outputs  (Home  work)\n",
        "a = 'Hyd\\nis green\\tcity'\n",
        "print(a . split(' '))#['Hyd\\nis','green\\tcity']\n",
        "print(a . split())#it is default white space operator i.e \\t,\\n,\\r and space therefore o/p:-['Hyd','is','green','city']\n",
        "print(a . split('green')) #['Hyd\\nis','green\\tcity']\n",
        "# print(a.split(''))#spliting with the empty string therefore it through error"
      ]
    },
    {
      "cell_type": "code",
      "source": [
        "# Find  outputs  (Home  work)\n",
        "a = 'Hyd\tis\tgreen\tcity' #  There  is  tab  between  the  words\n",
        "print(a . split('\\t'))#the input(a) is tab not space and it is also spliting with the tab so the o/p:-[\"Hyd\",\"is\",\"green\",\"city\"]\n",
        "print(a . split())# the default whitespace operators therefore the o/p:-[\"Hyd\",\"is\",\"green\",\"city\"]\n",
        "print(a.split(' '))#it spliting with the space not with the tab therefore the o/p:-['Hyd\tis\tgreen\tcity']"
      ],
      "metadata": {
        "colab": {
          "base_uri": "https://localhost:8080/"
        },
        "id": "_jfsNWMNW1t_",
        "outputId": "6c7e6e65-ce80-4d52-88df-a0b60171f326"
      },
      "execution_count": null,
      "outputs": [
        {
          "output_type": "stream",
          "name": "stdout",
          "text": [
            "['Hyd', 'is', 'green', 'city']\n",
            "['Hyd', 'is', 'green', 'city']\n",
            "['Hyd\\tis\\tgreen\\tcity']\n"
          ]
        }
      ]
    },
    {
      "cell_type": "code",
      "source": [
        "# Find  outputs (Home  work)\n",
        "a = 'Hyd   is   green   city'  #  There  are  3  spaces  between  the  words\n",
        "#if is space in the input then it gives the empty string ex:\"Ranjith<space><space>Addakula\" then the o/p:-[\"Ranjith\",\"\",\"Addakula\"] insted of space it gives empty string you can see in the list\n",
        "print(a . split())#\n",
        "print(a.split(' '))"
      ],
      "metadata": {
        "colab": {
          "base_uri": "https://localhost:8080/"
        },
        "id": "WR6SbFrYW1qq",
        "outputId": "7caf54ea-11f6-45ca-c6e1-6e7074a2f3c9"
      },
      "execution_count": null,
      "outputs": [
        {
          "output_type": "stream",
          "name": "stdout",
          "text": [
            "['Hyd', 'is', 'green', 'city']\n",
            "['Hyd', '', '', 'is', '', '', 'green', '', '', 'city']\n"
          ]
        }
      ]
    },
    {
      "cell_type": "code",
      "source": [
        "# Find  outputs  (Home  work)\n",
        "a = 'www.gmail.com'\n",
        "print(a.split('.'))#splitting with the dot(.) so o/p:-['www', 'gmail', 'com']"
      ],
      "metadata": {
        "colab": {
          "base_uri": "https://localhost:8080/"
        },
        "id": "uwvhKDxdW1os",
        "outputId": "105f2d32-6649-4f35-bf01-4fb531107029"
      },
      "execution_count": null,
      "outputs": [
        {
          "output_type": "stream",
          "name": "stdout",
          "text": [
            "['www', 'gmail', 'com']\n"
          ]
        }
      ]
    },
    {
      "cell_type": "code",
      "source": [
        "'''\n",
        "Write  a  program  to  evaluate  an  expression  which  contains  only  +  symbols\n",
        "Let  input  be  123+45+6+789\n",
        "Print  the  sum  result\n",
        "'''\n",
        "\n",
        "#this is only work for the integes not for the float or strings or complex and bool inputs\n",
        "a=input(\"enter input:\")\n",
        "b=a.split('+')\n",
        "d=0\n",
        "for i in b:\n",
        "  c=eval(i)\n",
        "  d=d+c\n",
        "print(d)\n"
      ],
      "metadata": {
        "colab": {
          "base_uri": "https://localhost:8080/",
          "height": 274
        },
        "id": "v2yd0UuSW1mO",
        "outputId": "780f207a-6857-4092-c47f-7bef2497b67f"
      },
      "execution_count": null,
      "outputs": [
        {
          "name": "stdout",
          "output_type": "stream",
          "text": [
            "enter input:5+(3+2j)\n"
          ]
        },
        {
          "output_type": "error",
          "ename": "SyntaxError",
          "evalue": "'(' was never closed (<string>, line 1)",
          "traceback": [
            "Traceback \u001b[0;36m(most recent call last)\u001b[0m:\n",
            "  File \u001b[1;32m\"/usr/local/lib/python3.11/dist-packages/IPython/core/interactiveshell.py\"\u001b[0m, line \u001b[1;32m3553\u001b[0m, in \u001b[1;35mrun_code\u001b[0m\n    exec(code_obj, self.user_global_ns, self.user_ns)\n",
            "\u001b[0;36m  File \u001b[0;32m\"/tmp/ipython-input-987117017.py\"\u001b[0;36m, line \u001b[0;32m12\u001b[0;36m, in \u001b[0;35m<cell line: 0>\u001b[0;36m\u001b[0m\n\u001b[0;31m    c=eval(i)\u001b[0m\n",
            "\u001b[0;36m  File \u001b[0;32m\"<string>\"\u001b[0;36m, line \u001b[0;32m1\u001b[0m\n\u001b[0;31m    (3\u001b[0m\n\u001b[0m    ^\u001b[0m\n\u001b[0;31mSyntaxError\u001b[0m\u001b[0;31m:\u001b[0m '(' was never closed\n"
          ]
        }
      ]
    },
    {
      "cell_type": "code",
      "source": [
        "try:\n",
        "  a=input(\"enter input:\")\n",
        "  b=a.split('+')\n",
        "  sum=0\n",
        "  for i in b:\n",
        "    sum=sum+eval(i)\n",
        "  print(sum)\n",
        "except TypeError:#it will execute when the input is string\n",
        "  print(\"the input should not be string\")\n",
        "except:# it will execute when the input is with complex.\n",
        "  print(\"invalid expression\")\n"
      ],
      "metadata": {
        "colab": {
          "base_uri": "https://localhost:8080/"
        },
        "id": "kcgC7ATFW1jz",
        "outputId": "386a026c-997a-473b-9c3e-e796db552dec"
      },
      "execution_count": null,
      "outputs": [
        {
          "output_type": "stream",
          "name": "stdout",
          "text": [
            "enter input:5+\"ranjith\"\n",
            "the input should not be string\n"
          ]
        }
      ]
    },
    {
      "cell_type": "code",
      "source": [
        "#  Find  outputs  (Home  work)\n",
        "a = ['15' , '36' , '48']\n",
        "print(':' . join(a))#15:36:48\n",
        "b = ('Hyd' , 'is' , 'green' , 'city')\n",
        "print(' ' . join(b))#Hyd is green city\n",
        "c = {'10' , '20' , '15' , '25' , '52'}\n",
        "print(',' . join(c))#10,20,15,25,52\n",
        "d = ['www' , 'gmail', 'com']\n",
        "print('.' . join(d))#www.gmail.com\n",
        "e = [15 , 36 , 48]#error because only strings has join method\n",
        "# print(':' . join(e))\n",
        "f = ['Sankar' , 'Dayal' , 'Sarma']\n",
        "print('' . join(f))#SankarDayalSarma\n",
        "g = range(5)\n",
        "# print('-'.join(g))#error because only strings has join method"
      ],
      "metadata": {
        "colab": {
          "base_uri": "https://localhost:8080/"
        },
        "id": "0xZG79-cW1hR",
        "outputId": "d6acbbac-2dc2-45dd-e735-d4c46e4a0c35"
      },
      "execution_count": null,
      "outputs": [
        {
          "output_type": "stream",
          "name": "stdout",
          "text": [
            "15:36:48\n",
            "Hyd is green city\n",
            "10,15,25,20,52\n",
            "www.gmail.com\n",
            "SankarDayalSarma\n"
          ]
        }
      ]
    },
    {
      "cell_type": "code",
      "source": [
        "# endswith()  method  demo  progrram (Home  work)\n",
        "a = 'Hyd is green city'\n",
        "print(a . endswith('city'))#True\n",
        "print(a . endswith('town'))#False\n",
        "print(a . endswith('green' , 3 , 12))#True\n",
        "print(a . endswith('green' , 3 , 13))#False\n",
        "print(a . endswith(' ',3,13))#false"
      ],
      "metadata": {
        "id": "Ow8foa5OW1ev",
        "colab": {
          "base_uri": "https://localhost:8080/"
        },
        "outputId": "ecea3454-1572-4e20-d95e-94238a55193e"
      },
      "execution_count": null,
      "outputs": [
        {
          "output_type": "stream",
          "name": "stdout",
          "text": [
            "True\n",
            "False\n",
            "True\n",
            "False\n",
            "False\n"
          ]
        }
      ]
    },
    {
      "cell_type": "code",
      "source": [],
      "metadata": {
        "id": "QZjidol3W1ca"
      },
      "execution_count": null,
      "outputs": []
    },
    {
      "cell_type": "markdown",
      "source": [
        "## **for the below programs just excepting the output**"
      ],
      "metadata": {
        "id": "ULCdwOYwiX-f"
      }
    },
    {
      "cell_type": "code",
      "source": [
        "# What  are  the  outputs  if  input  is   [25 , 10.8 , 'Hyd' , True]   (Home  work)\n",
        "a = input('Enter  list  :  ')\n",
        "print(type(a))#list\n",
        "print(a)#[25 , 10.8 , 'Hyd' , True]\n",
        "b = eval(a)\n",
        "print(b)#[25 , 10.8 , 'Hyd' , True]\n",
        "print(type(b))#<class list>"
      ],
      "metadata": {
        "colab": {
          "base_uri": "https://localhost:8080/"
        },
        "id": "qWLti9AtW1XE",
        "outputId": "152e464b-1d5a-40bc-bd4c-7b881c31b430"
      },
      "execution_count": null,
      "outputs": [
        {
          "output_type": "stream",
          "name": "stdout",
          "text": [
            "Enter  list  :  [25 , 10.8 , 'Hyd' , True]\n",
            "<class 'str'>\n",
            "[25 , 10.8 , 'Hyd' , True]\n",
            "[25, 10.8, 'Hyd', True]\n",
            "<class 'list'>\n"
          ]
        }
      ]
    },
    {
      "cell_type": "code",
      "source": [
        "#  Find  outputs (Home  work)\n",
        "a = [10, 20, 15, 18]\n",
        "b = a\n",
        "print(a  is  b)#False\n",
        "print(a  ==  b)#True\n",
        "b[2]=12#[10, 20, 12, 18]\n",
        "# print(b)\n",
        "print(a)#[10, 20, 15, 18]"
      ],
      "metadata": {
        "colab": {
          "base_uri": "https://localhost:8080/"
        },
        "id": "nsJkoUQMW1Uf",
        "outputId": "5583eae2-7741-4913-a9cd-4696f0d3954b"
      },
      "execution_count": null,
      "outputs": [
        {
          "output_type": "stream",
          "name": "stdout",
          "text": [
            "True\n",
            "True\n",
            "[10, 20, 12, 18]\n"
          ]
        }
      ]
    },
    {
      "cell_type": "code",
      "source": [
        "#  Find  outputs  (Home  work)\n",
        "a = [10 , 20 , 15 , 18]\n",
        "b = [100 , 200 , 150]\n",
        "print(a + b)#[110,220,165,18] or error\n",
        "print(a + 5)#error\n",
        "print(a + '5')#error\n",
        "print([10 , 20]+(30,40))#error"
      ],
      "metadata": {
        "colab": {
          "base_uri": "https://localhost:8080/"
        },
        "id": "oBqJgXLji3U5",
        "outputId": "6bb97c37-72c8-4f30-8c6b-7747e236a127"
      },
      "execution_count": null,
      "outputs": [
        {
          "output_type": "stream",
          "name": "stdout",
          "text": [
            "[10, 20, 15, 18, 100, 200, 150, 5]\n"
          ]
        }
      ]
    },
    {
      "cell_type": "code",
      "source": [
        "#  Tricky  program\n",
        "#  Find  outputs\n",
        "a = [1,2,3]\n",
        "b = [4,5,6]\n",
        "print(a , id(a))#[1,2,3] say 1000\n",
        "a += b #[1,2,3,4,5,6]\n",
        "print(a,id(a)) #[1,2,3,4,5,6] same 1000"
      ],
      "metadata": {
        "colab": {
          "base_uri": "https://localhost:8080/"
        },
        "id": "_hi8NsM4i3R5",
        "outputId": "cb962976-9da0-49aa-d896-6d66d8d6c0c7"
      },
      "execution_count": null,
      "outputs": [
        {
          "output_type": "stream",
          "name": "stdout",
          "text": [
            "[1, 2, 3] 137344771468992\n",
            "[1, 2, 3, 4, 5, 6] 137344771468992\n"
          ]
        }
      ]
    },
    {
      "cell_type": "code",
      "source": [
        "#  Tricky  program\n",
        "#  Find  outputs\n",
        "a = [1,2,3]\n",
        "b = [4,5,6]\n",
        "print(a , id(a))#[1,2,3] say 1000\n",
        "a  = a + b #[1,2,3,4,5,6]\n",
        "print(a,id(a)) #[1,2,3,4,5,6] same 1000"
      ],
      "metadata": {
        "colab": {
          "base_uri": "https://localhost:8080/"
        },
        "id": "sIyzKQhZi3QF",
        "outputId": "006b6ef8-9282-45b8-efbf-99ede8b7eac2"
      },
      "execution_count": null,
      "outputs": [
        {
          "output_type": "stream",
          "name": "stdout",
          "text": [
            "[1, 2, 3] 137344771019904\n",
            "[1, 2, 3, 4, 5, 6] 137344783938944\n"
          ]
        }
      ]
    },
    {
      "cell_type": "code",
      "source": [
        "# List  packing\n",
        "a = 25\n",
        "b = 10.8\n",
        "c = 'Hyd'\n",
        "d = True\n",
        "e = [a , b , c , d]\n",
        "print(e)#[25,10.8,'Hyd',True]\n",
        "print(type(e))#<class list>"
      ],
      "metadata": {
        "colab": {
          "base_uri": "https://localhost:8080/"
        },
        "id": "U4Y_KMJli3Nl",
        "outputId": "959e2f58-d219-4b50-be93-ce173e9432e1"
      },
      "execution_count": null,
      "outputs": [
        {
          "output_type": "stream",
          "name": "stdout",
          "text": [
            "[25, 10.8, 'Hyd', True]\n",
            "<class 'list'>\n"
          ]
        }
      ]
    },
    {
      "cell_type": "code",
      "source": [
        "# Find  outputs\n",
        "list = [25 , 10.8 , 'Hyd' ,  True]\n",
        "a , *b , c = list\n",
        "print('a : ' , a)  #  a :  25\n",
        "print('b : ' , b) #  b : [10.8 , 'Hyd']\n",
        "print('c : ' , c) #  c :  True\n",
        "print(type(b))#<class list>\n",
        "x , *y = list\n",
        "print('x : ' , x)#25\n",
        "print('y : ' , y)#[10.8,\"Hyd\",True]\n",
        "*p , q = list\n",
        "print('p : ' , p)#[25,10.8,\"Hyd\"]\n",
        "print('q : ',q)#True or 1.0"
      ],
      "metadata": {
        "colab": {
          "base_uri": "https://localhost:8080/"
        },
        "id": "cKHT_ur0i3LC",
        "outputId": "b7b16664-dd97-4684-ec1c-071f1a2cce47"
      },
      "execution_count": null,
      "outputs": [
        {
          "output_type": "stream",
          "name": "stdout",
          "text": [
            "a :  25\n",
            "b :  [10.8, 'Hyd']\n",
            "c :  True\n",
            "<class 'list'>\n",
            "x :  25\n",
            "y :  [10.8, 'Hyd', True]\n",
            "p :  [25, 10.8, 'Hyd']\n",
            "q :  True\n"
          ]
        }
      ]
    },
    {
      "cell_type": "code",
      "source": [
        "list = [25 , 10.8 , 'Hyd' ,  True,\"ranjith\",33,3+4j,\"addakula\"]\n",
        "a , *b[1:4] , c = list\n",
        "print('a : ' , a)  #  a :  25\n",
        "print('b : ' , b) #  b : [10.8 , 'Hyd']\n",
        "print('c : ' , c) #  c :  True"
      ],
      "metadata": {
        "colab": {
          "base_uri": "https://localhost:8080/"
        },
        "id": "GjWfoSmui3Ij",
        "outputId": "071e0bcf-8cea-41e2-b5ac-b6e7118c3316"
      },
      "execution_count": null,
      "outputs": [
        {
          "output_type": "stream",
          "name": "stdout",
          "text": [
            "a :  25\n",
            "b :  [10.8, 10.8, 'Hyd', True, 'ranjith', 33, (3+4j), 'ranjith', 33, (3+4j), 'Hyd', True, 'ranjith', 33, (3+4j), 'Hyd', True, 'ranjith', 33, (3+4j), 'Hyd', True, 'ranjith', 33, (3+4j), 33, (3+4j), (3+4j), (3+4j)]\n",
            "c :  addakula\n"
          ]
        }
      ]
    },
    {
      "cell_type": "code",
      "source": [
        "# Find  outputs  (Home  work)\n",
        "list = [25 , 10.8 , 'Hyd' , True]\n",
        "a , b , c , d , e = list#error\n",
        "a , b , *c , d , e = list#error\n",
        "print('a : ' , a)\n",
        "print('b : ' , b)\n",
        "print('c : ' , c)\n",
        "print('d : ' , d)\n",
        "print('e : ' , e)\n",
        "a , b , *c , d,e,f=list#error"
      ],
      "metadata": {
        "colab": {
          "base_uri": "https://localhost:8080/"
        },
        "id": "9ukIsCvoitqX",
        "outputId": "86581f1d-728b-4acc-adc6-ab9bab1ecd41"
      },
      "execution_count": null,
      "outputs": [
        {
          "output_type": "stream",
          "name": "stdout",
          "text": [
            "a :  25\n",
            "b :  [10.8, 10.8, 'Hyd', True, 'ranjith', 33, (3+4j), 'ranjith', 33, (3+4j), 'Hyd', True, 'ranjith', 33, (3+4j), 'Hyd', True, 'ranjith', 33, (3+4j), 'Hyd', True, 'ranjith', 33, (3+4j), 33, (3+4j), (3+4j), (3+4j)]\n",
            "c :  addakula\n",
            "d :  True\n",
            "e :  [25, 10.8, 'Hyd', True]\n",
            "nothing\n"
          ]
        }
      ]
    },
    {
      "cell_type": "code",
      "source": [
        "# Find  outputs  (Home  work)\n",
        "list = [25 , 10.8 , 'Hyd' , True]\n",
        "a , b , _  , d = list\n",
        "print('a : ' , a)#25\n",
        "print('b : ' , b)#10.8\n",
        "print('_ :  ' , _)#\"Hyd\"\n",
        "print('d : ',d)#True"
      ],
      "metadata": {
        "colab": {
          "base_uri": "https://localhost:8080/"
        },
        "id": "L8Kyx2A_qlAQ",
        "outputId": "70ac689e-2d2f-4bc6-fc45-3ce4ce7ea785"
      },
      "execution_count": null,
      "outputs": [
        {
          "output_type": "stream",
          "name": "stdout",
          "text": [
            "a :  25\n",
            "b :  10.8\n",
            "_ :   Hyd\n",
            "d :  True\n"
          ]
        }
      ]
    },
    {
      "cell_type": "code",
      "source": [
        "# Find  outputs (Home  work)\n",
        "list = [25 , 10.8 , 'Hyd' , True , 3 + 4j]\n",
        "a , b , a , d , a = list\n",
        "print('a : ' , a)\n",
        "print('b : ' , b)\n",
        "print('d : ',d)"
      ],
      "metadata": {
        "colab": {
          "base_uri": "https://localhost:8080/"
        },
        "id": "Z6N_Q68fqk8P",
        "outputId": "17ab938b-136d-46db-f7bd-2b1068c270c0"
      },
      "execution_count": null,
      "outputs": [
        {
          "output_type": "stream",
          "name": "stdout",
          "text": [
            "a :  (3+4j)\n",
            "b :  10.8\n",
            "d :  True\n"
          ]
        }
      ]
    },
    {
      "cell_type": "markdown",
      "source": [
        "# List functions and methods"
      ],
      "metadata": {
        "id": "tQPQGgYvZdTq"
      }
    },
    {
      "cell_type": "code",
      "source": [
        "#  len()  function demo   program  (Home  work)\n",
        "a = [ 25, 10.8, 'Hyd', True]\n",
        "print(len(a))#4\n",
        "b = []\n",
        "print(len(b))#empty list(0)\n",
        "c = [[10 , 20] , 30 , 40]\n",
        "print(len(c))#3\n",
        "\n",
        "\n",
        "'''\n",
        "What  does  len(list)  do ?  --->  Returns  number  of  elements  in  the  list\n",
        "'''"
      ],
      "metadata": {
        "id": "8M6MCg4hqk5z",
        "colab": {
          "base_uri": "https://localhost:8080/",
          "height": 87
        },
        "outputId": "638e9477-032c-4371-fd48-a3ece2e8d052"
      },
      "execution_count": null,
      "outputs": [
        {
          "output_type": "stream",
          "name": "stdout",
          "text": [
            "4\n",
            "0\n",
            "3\n"
          ]
        },
        {
          "output_type": "execute_result",
          "data": {
            "text/plain": [
              "'\\nWhat  does  len(list)  do ?  --->  Returns  number  of  elements  in  the  list\\n'"
            ],
            "application/vnd.google.colaboratory.intrinsic+json": {
              "type": "string"
            }
          },
          "metadata": {},
          "execution_count": 1
        }
      ]
    },
    {
      "cell_type": "code",
      "source": [
        "# sum()  function  demo  program  (Home  work)\n",
        "a = [25 , 10.8 , True]\n",
        "print(sum(a))#36.8\n",
        "b= [3 + 4j , 5 + 6j]\n",
        "print(sum(b))#[8+10j]\n",
        "c = [25 , 10.8 , True , 3 + 4j , False]\n",
        "print(sum(c))#39.8+4j\n",
        "d = [10 , 20 , 15 , 18]\n",
        "print(sum(d))#53\n",
        "e = [25 , 10.8 , 'Hyd' , True]\n",
        "# print(sum(e))#error\n",
        "\n",
        "\n",
        "'''\n",
        "What  does  sum(list)  do ?  ---> Returns  sum  of  list  elements\n",
        "'''"
      ],
      "metadata": {
        "colab": {
          "base_uri": "https://localhost:8080/",
          "height": 105
        },
        "id": "0Pbk0ITGZcJJ",
        "outputId": "7417d4c6-c422-46cf-c6c5-aae8b476959d"
      },
      "execution_count": null,
      "outputs": [
        {
          "output_type": "stream",
          "name": "stdout",
          "text": [
            "36.8\n",
            "(8+10j)\n",
            "(39.8+4j)\n",
            "63\n"
          ]
        },
        {
          "output_type": "execute_result",
          "data": {
            "text/plain": [
              "'\\nWhat  does  sum(list)  do ?  ---> Returns  sum  of  list  elements\\n'"
            ],
            "application/vnd.google.colaboratory.intrinsic+json": {
              "type": "string"
            }
          },
          "metadata": {},
          "execution_count": 3
        }
      ]
    },
    {
      "cell_type": "code",
      "source": [
        "#  Find  outputs\n",
        "a = [[10 , 20 , 15 , 18]]\n",
        "# print(sum(a))\n",
        "b=a[0]\n",
        "print(sum(b))\n",
        "# print(How  to  determine  sum  of  inner  list  elements)\n",
        "# print(How  to  determine  sum  of  inner  list  elements  in  another  way)"
      ],
      "metadata": {
        "colab": {
          "base_uri": "https://localhost:8080/"
        },
        "id": "PwJzwEH5ZcGS",
        "outputId": "65ca026f-27e2-484c-e940-0cbea2e29c10"
      },
      "execution_count": null,
      "outputs": [
        {
          "output_type": "stream",
          "name": "stdout",
          "text": [
            "63\n"
          ]
        }
      ]
    },
    {
      "cell_type": "code",
      "source": [
        "# max()  and  min()  functions  demo  program  (Home  work)\n",
        "a = [10 , 20 , 15 , 18 , 30, 5 , 12]\n",
        "print(max(a))#30\n",
        "print(min(a))#5\n",
        "b = ['Rama' , 'Sita' , 'Rajesh' , 'Kiran' , 'Amar' , 'Vamsi' , 'Manohar']\n",
        "print(max(b))#vamsi\n",
        "print(min(b))#Amar\n",
        "c = [25 , 10.8 ,  3 + 4j , True]\n",
        "# print(max(c))#10.8 or o/p:- error\n",
        "d = [25 , '35']\n",
        "# print(max(d))#error\n",
        "# print(max([]))#error\n",
        "# print(min([]))#error"
      ],
      "metadata": {
        "colab": {
          "base_uri": "https://localhost:8080/"
        },
        "id": "gpZKyMguZcDJ",
        "outputId": "64643031-5101-4417-8b05-9797e007a55a"
      },
      "execution_count": null,
      "outputs": [
        {
          "output_type": "stream",
          "name": "stdout",
          "text": [
            "30\n",
            "5\n",
            "Vamsi\n",
            "Amar\n"
          ]
        }
      ]
    },
    {
      "cell_type": "code",
      "source": [
        "# list()  function  demo  program\n",
        "a = (10 , 20 , 15, 18)\n",
        "b = list(a)\n",
        "print(b)#[10 , 20 , 15, 18]\n",
        "print(type(b))#class list>\n",
        "print(a  is  b)#False\n",
        "print(a == b)#False"
      ],
      "metadata": {
        "colab": {
          "base_uri": "https://localhost:8080/"
        },
        "id": "k5ywMgKXZcAx",
        "outputId": "7135028d-4b83-413d-dc77-d04675031be3"
      },
      "execution_count": null,
      "outputs": [
        {
          "output_type": "stream",
          "name": "stdout",
          "text": [
            "[10, 20, 15, 18]\n",
            "<class 'list'>\n",
            "False\n",
            "False\n"
          ]
        }
      ]
    },
    {
      "cell_type": "code",
      "source": [
        "#  Find  outputs (Home  work)\n",
        "a = range(4 , 10 , 2)#(4,6,8)\n",
        "b = list(a)#[4,6,8]\n",
        "print(b)#[4,6,8]\n",
        "print(type(b))#<class list>\n",
        "a = list('Vamsi')\n",
        "print(a)#[\"vamsi\"] or o/p:-[\"v\",\"a\",\"m\",\"s\",\"i\"]\n",
        "a = list()#[\"vamsi\"] o/p:-or another empty list is created with the reference 'a'\n",
        "print(a)#[\"vamsi\"] o/p:- []\n",
        "# print(list(25))#[25] o/p:-Error ('int' object is not iterable)\n",
        "# print(list(10.8))#[10.8] o/p:-Error ('float' object is not iterable)\n",
        "# print(list(True))#[1.0] o/p:-Error ('bool' object is not iterable)\n",
        "# print(list(None))#[] o/p:-Error ('NoneType' object is not iterable)\n",
        "\n",
        "\n",
        "'''\n",
        "1) What  does  list(sequence)  do ?  --->  Converts  sequence  to  list  and  returns  list\n",
        "\n",
        "2) What  does  list(no-args)  do ?  ---> Returns  an  empty  list\n",
        "\n",
        "3) What  does  list(non-sequence)  do ?  --->  Throws  error\n",
        "'''"
      ],
      "metadata": {
        "id": "2zTuZ-_Aqk3D",
        "colab": {
          "base_uri": "https://localhost:8080/",
          "height": 105
        },
        "outputId": "2955e282-0897-421e-ff29-1fa15573f0ab"
      },
      "execution_count": null,
      "outputs": [
        {
          "output_type": "stream",
          "name": "stdout",
          "text": [
            "[4, 6, 8]\n",
            "<class 'list'>\n",
            "['V', 'a', 'm', 's', 'i']\n",
            "[]\n"
          ]
        },
        {
          "output_type": "execute_result",
          "data": {
            "text/plain": [
              "'\\n1) What  does  list(sequence)  do ?  --->  Converts  sequence  to  list  and  returns  list\\n\\n2) What  does  list(no-args)  do ?  ---> Returns  an  empty  list\\n\\n3) What  does  list(non-sequence)  do ?  --->  Throws  error\\n'"
            ],
            "application/vnd.google.colaboratory.intrinsic+json": {
              "type": "string"
            }
          },
          "metadata": {},
          "execution_count": 23
        }
      ]
    },
    {
      "cell_type": "code",
      "source": [
        "# Find  outputs (Home  work)\n",
        "a = ((10 , 20) , (30 , 40 , 50) , (60 , 70 , 80 , 90))\n",
        "print(list(a))#[(10 , 20) , (30 , 40 , 50) , (60 , 70 , 80 , 90)]\n",
        "b = { (10 , 20) , (30 , 40 , 50) , (60 , 70 , 80 , 90)}\n",
        "print(list(b))#[(10 , 20) , (30 , 40 , 50) , (60 , 70 , 80 , 90)]\n",
        "c = ([10 , 20] , (30 , 40) , {50 , 60})\n",
        "print(list(c))#[[10 , 20] , (30 , 40) , {50 , 60}]"
      ],
      "metadata": {
        "id": "V1s_LmZIqk0X",
        "colab": {
          "base_uri": "https://localhost:8080/"
        },
        "outputId": "c37ac402-7284-4c7e-af47-8798bf9b14ab"
      },
      "execution_count": null,
      "outputs": [
        {
          "output_type": "stream",
          "name": "stdout",
          "text": [
            "[(10, 20), (30, 40, 50), (60, 70, 80, 90)]\n",
            "[(30, 40, 50), (60, 70, 80, 90), (10, 20)]\n",
            "[[10, 20], (30, 40), {50, 60}]\n"
          ]
        }
      ]
    },
    {
      "cell_type": "code",
      "source": [
        "# sorted()  function   demo  program\n",
        "a = [10 , 20 , 15 , 5 , 12]\n",
        "b = sorted(a)#[5,10,12,15,20]\n",
        "print(b)#[5,10,12,15,20]\n",
        "print(type(b))#<class list>\n",
        "c = sorted(a , reverse = True)\n",
        "print(c)#[20,15,12,10,5]\n",
        "print(a)#[10 , 20 , 15 , 5 , 12]\n",
        "\n",
        "\n",
        "'''\n",
        "sorted()  function\n",
        "----------------------\n",
        "1) What  does  sorted(list)  do  ?  ---> Returns  another  sorted  list\n",
        "\n",
        "2) Is  argument  list  modified ?  --->  No  and  it  remains  unchanged\n",
        "\n",
        "3) How  to  sort  list  in  descending  order ?  --->  sorted(list , reverse = True)\n",
        "\n",
        "4) What  are  the  two  arguments  of  sorted()  function ?  --->  List  to  be  sorted\n",
        "\t\t\t\t\t\t\t\t\t\t\t\t\t\t\t\t\t\t\t\t\t\t\t\t\t\t\t\tand\n",
        "\t\t\t\t\t\t\t\t\t\t\t\t\t\t\t\t\t\t\t\t\t                  reverse = True  which  is  an  optional  argument\n",
        "'''"
      ],
      "metadata": {
        "id": "XKyx_bVtqkxX",
        "colab": {
          "base_uri": "https://localhost:8080/",
          "height": 140
        },
        "outputId": "56e5be23-22ce-4acf-b259-083313d70f41"
      },
      "execution_count": null,
      "outputs": [
        {
          "output_type": "stream",
          "name": "stdout",
          "text": [
            "[5, 10, 12, 15, 20]\n",
            "<class 'list'>\n",
            "[20, 15, 12, 10, 5]\n",
            "[10, 20, 15, 5, 12]\n"
          ]
        },
        {
          "output_type": "execute_result",
          "data": {
            "text/plain": [
              "'\\nsorted()  function\\n----------------------\\n1) What  does  sorted(list)  do  ?  ---> Returns  another  sorted  list\\n\\n2) Is  argument  list  modified ?  --->  No  and  it  remains  unchanged\\n\\n3) How  to  sort  list  in  descending  order ?  --->  sorted(list , reverse = True)\\n\\n4) What  are  the  two  arguments  of  sorted()  function ?  --->  List  to  be  sorted\\n\\t\\t\\t\\t\\t\\t\\t\\t\\t\\t\\t\\t\\t\\t\\t\\t\\t\\t\\t\\t\\t\\t\\t\\t\\t\\t\\t\\tand\\n\\t\\t\\t\\t\\t\\t\\t\\t\\t\\t\\t\\t\\t\\t\\t\\t\\t\\t\\t\\t\\t                  reverse = True  which  is  an  optional  argument\\n'"
            ],
            "application/vnd.google.colaboratory.intrinsic+json": {
              "type": "string"
            }
          },
          "metadata": {},
          "execution_count": 26
        }
      ]
    },
    {
      "cell_type": "code",
      "source": [
        "# Find  outputs  (Home  work)\n",
        "a = ['Rama',  'Rajesh',  'Amar',  'Sita',  'Vamsi'  ,  'Kiran'  , 'Rama  Rao']\n",
        "b = sorted(a)\n",
        "print(b)#[\"Amar\",\"Kiran\",\"Rajesh\",\"Rama\",\"Rama Rao\",\"Sita\",\"Vamsi\"]\n",
        "c = sorted(a , reverse = True)\n",
        "print(c)#[\"Vamsi\",\"Sita\",\"Rama Rao\",\"Rama\",\"Rajesh\",\"kiran\",\"Amar\"]\n",
        "print(a)#['Rama',  'Rajesh',  'Amar',  'Sita',  'Vamsi'  ,  'Kiran'  , 'Rama  Rao']\n"
      ],
      "metadata": {
        "colab": {
          "base_uri": "https://localhost:8080/"
        },
        "id": "7aeWhC3eVO9F",
        "outputId": "dc72ae6f-f149-49cb-ffef-7a74c304e355"
      },
      "execution_count": null,
      "outputs": [
        {
          "output_type": "stream",
          "name": "stdout",
          "text": [
            "['Amar', 'Kiran', 'Rajesh', 'Rama', 'Rama  Rao', 'Sita', 'Vamsi']\n",
            "['Vamsi', 'Sita', 'Rama  Rao', 'Rama', 'Rajesh', 'Kiran', 'Amar']\n",
            "['Rama', 'Rajesh', 'Amar', 'Sita', 'Vamsi', 'Kiran', 'Rama  Rao']\n"
          ]
        }
      ]
    },
    {
      "cell_type": "code",
      "source": [
        " #all()  function demo  program  (Home  work)\n",
        "a = [12 > 10 , 5 < 20 , 30 == 30]\n",
        "print(all(a))#True\n",
        "b = [9 >= 6 , 12 <= 9 , 6 == 6]\n",
        "print(all(b))#False\n",
        "c = [25 , 10.8 , '' , True , 3+4j , 'Hyd']\n",
        "print(all(c))#False\n",
        "d = [10 , 0 , 20]\n",
        "print(all(d))#False\n",
        "e = []\n",
        "print(all(e))#True\n",
        "\n",
        "\n",
        "'''\n",
        "all()  function\n",
        "-----------------\n",
        "1) What  does  all(list)  do ?  --->  Returns  True  when  every  element of  the  list  is  True  and  False  otherwise\n",
        "\n",
        "2) When  does  it  return  False ?  --->  When  at  least  one  element  of  the  list  is  False\n",
        "\n",
        "3) if  cond1  and  cond2  and  cond3  and  cond4:\n",
        "    How  to  reduce  the  four  conditions  to  a  single  condition ?  --->  if  all([cond1 , cond2 , cond3 , cond4]):\n",
        "'''"
      ],
      "metadata": {
        "colab": {
          "base_uri": "https://localhost:8080/",
          "height": 140
        },
        "id": "nwncSF1YVO57",
        "outputId": "86e53b37-92fa-4e92-936e-b1ba310293d1"
      },
      "execution_count": null,
      "outputs": [
        {
          "output_type": "stream",
          "name": "stdout",
          "text": [
            "True\n",
            "False\n",
            "False\n",
            "False\n",
            "True\n"
          ]
        },
        {
          "output_type": "execute_result",
          "data": {
            "text/plain": [
              "'\\nall()  function\\n-----------------\\n1) What  does  all(list)  do ?  --->  Returns  True  when  every  element of  the  list  is  True  and  False  otherwise\\n\\n2) When  does  it  return  False ?  --->  When  at  least  one  element  of  the  list  is  False\\n\\n3) if  cond1  and  cond2  and  cond3  and  cond4:\\n   How  to  reduce  the  four  conditions  to  a  single  condition ?  --->  if  all([cond1 , cond2 , cond3 , cond4]):\\n'"
            ],
            "application/vnd.google.colaboratory.intrinsic+json": {
              "type": "string"
            }
          },
          "metadata": {},
          "execution_count": 29
        }
      ]
    },
    {
      "cell_type": "code",
      "source": [
        "# any()  function demo program  (Home  work)\n",
        "a  = [12 > 18 , 5 < 20 , 35 == 30]\n",
        "print(any(a))#True\n",
        "b = [12 > 18 , 25 < 20 , 35 == 30]\n",
        "print(any(b))#False\n",
        "c = [0 , 0.0 , '' , 25 , 0 + 0j , False]\n",
        "print(any(c))#True\n",
        "d = [0 , 0.0 , '' , 0 + 0j , False]\n",
        "print(any(d))#False\n",
        "e = []\n",
        "print(any(e))#False\n",
        "\n",
        "\n",
        "'''\n",
        "any()   function\n",
        "-------------------\n",
        "1) What  does  any(list)  do ?  ---> Returns  True  when  at  least  one  element  of  the  list  is  True  and  False  otherwise\n",
        "\n",
        "2) When  does  it  return  False ?  ---> When  every  element  of  the  list  is  false\n",
        "\n",
        "3) if  cond1  or  cond2  or  cond3  or  cond4:\n",
        "     How  to  reduce  the  four  conditions  to  a  single  condition ?  ---> if  any([cond1 , cond2 , cond3 , cond4]):\n",
        "\n",
        "4) all()  and  any()  functions  are  used  as  an  alternative  when  there  are  too  many  conditions  in  if  and  while\n",
        "'''\n"
      ],
      "metadata": {
        "colab": {
          "base_uri": "https://localhost:8080/",
          "height": 157
        },
        "id": "8Fa1DpdoVO27",
        "outputId": "411c237b-ee9d-4a90-f1d8-f58d2565f57d"
      },
      "execution_count": null,
      "outputs": [
        {
          "output_type": "stream",
          "name": "stdout",
          "text": [
            "True\n",
            "False\n",
            "True\n",
            "False\n",
            "False\n"
          ]
        },
        {
          "output_type": "execute_result",
          "data": {
            "text/plain": [
              "'\\nany()   function\\n-------------------\\n1) What  does  any(list)  do ?  ---> Returns  True  when  at  least  one  element  of  the  list  is  True  and  False  otherwise\\n\\n2) When  does  it  return  False ?  ---> When  every  element  of  the  list  is  false\\n\\n3) if  cond1  or  cond2  or  cond3  or  cond4:\\n     How  to  reduce  the  four  conditions  to  a  single  condition ?  ---> if  any([cond1 , cond2 , cond3 , cond4]):\\n\\n4) all()  and  any()  functions  are  used  as  an  alternative  when  there  are  too  many  conditions  in  if  and  while\\n'"
            ],
            "application/vnd.google.colaboratory.intrinsic+json": {
              "type": "string"
            }
          },
          "metadata": {},
          "execution_count": 30
        }
      ]
    },
    {
      "cell_type": "code",
      "source": [
        "# del  operator  demo  program (Home  work)\n",
        "a = [10 , 20 , 15 , 18]\n",
        "print(a)#[10 , 20 , 15 , 18]\n",
        "del    a[2] #15 will be deleted\n",
        "print(a)#[10 , 20 , 18]\n",
        "# del  a[3]#Error in the above 'a' there is no 3rd index element it gives error\n",
        "del  a #reference 'a' will be deleted\n",
        "# print(a) #error because there is no reference 'a'"
      ],
      "metadata": {
        "colab": {
          "base_uri": "https://localhost:8080/"
        },
        "id": "TXUZGx3gVOz5",
        "outputId": "9f39892d-57de-4b84-d3da-6b33235136d3"
      },
      "execution_count": null,
      "outputs": [
        {
          "output_type": "stream",
          "name": "stdout",
          "text": [
            "[10, 20, 15, 18]\n",
            "[10, 20, 18]\n"
          ]
        }
      ]
    },
    {
      "cell_type": "code",
      "source": [
        "#  append()  method  demo  program (Home  work)\n",
        "list = [10 , 20 , 15 , 18]\n",
        "print(list)#[10 , 20 , 15 , 18]\n",
        "list . append(19) #19 will be added at the end of the list\n",
        "print(list)#[10 , 20 , 15 , 18,19]"
      ],
      "metadata": {
        "id": "X2jH-eGBm1sK"
      },
      "execution_count": null,
      "outputs": []
    },
    {
      "cell_type": "code",
      "source": [
        "#  Find  outputs (Home  work)\n",
        "list = []\n",
        "print(list)#empty list\n",
        "list . append(25)\n",
        "list . append(10.8)\n",
        "list . append('Hyd')\n",
        "list . append(True)\n",
        "print(list)#[25,10.8,'Hyd',True]"
      ],
      "metadata": {
        "colab": {
          "base_uri": "https://localhost:8080/"
        },
        "id": "2dw8z2fQm1oo",
        "outputId": "1a9dd670-2afd-4b8a-f08c-730738392953"
      },
      "execution_count": null,
      "outputs": [
        {
          "output_type": "stream",
          "name": "stdout",
          "text": [
            "[]\n",
            "[25, 10.8, 'Hyd', True]\n"
          ]
        }
      ]
    },
    {
      "cell_type": "code",
      "source": [
        "# Find  outputs  (Home  work)\n",
        "list = []\n",
        "for  x  in   range(0 , 50 , 10):\n",
        "\tlist . append(x)\n",
        "print(list)#[0,10,20,30,40]"
      ],
      "metadata": {
        "colab": {
          "base_uri": "https://localhost:8080/"
        },
        "id": "EhFHbe-xm1m3",
        "outputId": "f8bcfbec-c32c-44d6-d367-f3ea3a50bc2d"
      },
      "execution_count": null,
      "outputs": [
        {
          "output_type": "stream",
          "name": "stdout",
          "text": [
            "[0, 10, 20, 30, 40]\n"
          ]
        }
      ]
    },
    {
      "cell_type": "code",
      "source": [
        "#  Find  outputs  (Home  work)\n",
        "a = [10 , 20 , 30]\n",
        "a . append('Hyd')\n",
        "print(a)#[10 , 20 , 30,\"Hyd\"]\n",
        "print(len(a))#4\n",
        "print(a[3])   # print(How  to  print  4th  element  of  list  'a')\n",
        "print(a[3][0])  #print(How  to  print  'H')\n",
        "print(a[3][1])   #print(How  to  print  'y')\n",
        "print(a[3][2])   #print(How  to  print  'd')"
      ],
      "metadata": {
        "colab": {
          "base_uri": "https://localhost:8080/"
        },
        "id": "k2tuIXbom1kc",
        "outputId": "3b518920-0033-4244-80f6-7feb79c0708d"
      },
      "execution_count": null,
      "outputs": [
        {
          "output_type": "stream",
          "name": "stdout",
          "text": [
            "[10, 20, 30, 'Hyd']\n",
            "4\n",
            "Hyd\n",
            "H\n",
            "y\n",
            "d\n"
          ]
        }
      ]
    },
    {
      "cell_type": "code",
      "source": [
        "list = [10 , 20 , 15 , 18 , 15 , 12 , 15 , 19]\n",
        "list . remove(15)\n",
        "print(list) #[10 , 20 , 18 , 15 , 12 , 15 , 19]\n",
        "# list . remove(25) #it is not present in the list so it throughs value error\n",
        "print(list) #error"
      ],
      "metadata": {
        "id": "PW95uGursmpB",
        "outputId": "e537b76e-60a6-4d7f-e620-58710332b447",
        "colab": {
          "base_uri": "https://localhost:8080/"
        }
      },
      "execution_count": null,
      "outputs": [
        {
          "output_type": "stream",
          "name": "stdout",
          "text": [
            "[10, 20, 18, 15, 12, 15, 19]\n",
            "[10, 20, 18, 15, 12, 15, 19]\n"
          ]
        }
      ]
    },
    {
      "cell_type": "code",
      "source": [
        "# remove()  method  demo  program  (Home  work)\n",
        "try:\n",
        "\tlist = [10 , 20 , 15 , 18 , 15 , 12 , 15 , 19]\n",
        "\tlist . remove(15)\n",
        "\tprint(list) #[10 , 20 , 18 , 15 , 12 , 15 , 19]\n",
        "\tlist . remove(25)\n",
        "except:\n",
        "\tprint('25  is   not  in  the  list')\n",
        "\n",
        "\n",
        "\n",
        "'''\n",
        "remove()   method\n",
        "---------------------\n",
        "1) What  does  remove(x)  do ?  --->  Removes   first  occurance  of  'x'  from  the  list\n",
        "\n",
        "2) What  does  remove()  method  do  if  'x'  is  not   in  the  list ?  --->  Throws  ValueError\n",
        "\n",
        "3) How  to  remove  all  ocurances  of  'x'  from  the  list ?  --->   Call  remove()  method  in  a  loop\n",
        "'''"
      ],
      "metadata": {
        "colab": {
          "base_uri": "https://localhost:8080/",
          "height": 87
        },
        "id": "um_TGqiKm1hp",
        "outputId": "b0d9f77b-da3b-467e-95e2-a59be228e070"
      },
      "execution_count": null,
      "outputs": [
        {
          "output_type": "stream",
          "name": "stdout",
          "text": [
            "[10, 20, 18, 15, 12, 15, 19]\n",
            "25  is   not  in  the  list\n"
          ]
        },
        {
          "output_type": "execute_result",
          "data": {
            "text/plain": [
              "\"\\nremove()   method\\n---------------------\\n1) What  does  remove(x)  do ?  --->  Removes   first  occurance  of  'x'  from  the  list\\n\\n2) What  does  remove()  method  do  if  'x'  is  not   in  the  list ?  --->  Throws  ValueError\\n\\n3) How  to  remove  all  ocurances  of  'x'  from  the  list ?  --->   Call  remove()  method  in  a  loop\\n\""
            ],
            "application/vnd.google.colaboratory.intrinsic+json": {
              "type": "string"
            }
          },
          "metadata": {},
          "execution_count": 43
        }
      ]
    },
    {
      "cell_type": "code",
      "source": [
        "'''\n",
        "Write  a  program  to  delete  'all'  occurences  of  'x'  from  the  list\n",
        "\n",
        "Let  1st  input  be   [10 , 20 , 15 , 18 , 19 , 15 , 17 , 20 , 15 , 14]  and\n",
        "2nd  input  be  15\n",
        "What  is  the  output ?  ---> [10 , 20 ,  18 , 19 , 17 , 20 , 14]\n",
        "'''\n",
        "\n",
        "a=eval(input(\"enter list elements\"))\n",
        "b=eval(input(\"enter input to be deleted\"))\n",
        "for b in a:\n",
        "    a.remove(b)\n",
        "print(a)\n",
        "\n",
        "\n",
        "# n = eval(input(\"Enter any list: \"))\n",
        "# b = eval(input(\"Enter the element to be deleted: \"))\n",
        "# while b in n:\n",
        "#     n.remove(b) #Modifies the existing list by removing the 1st occurance of the desired element\n",
        "# print(f\"List without {b}'s: {n}\")"
      ],
      "metadata": {
        "colab": {
          "base_uri": "https://localhost:8080/"
        },
        "id": "ckB0wTl-m1fG",
        "outputId": "e04cce33-fd8b-429f-add3-e79979fe6a85"
      },
      "execution_count": null,
      "outputs": [
        {
          "output_type": "stream",
          "name": "stdout",
          "text": [
            "enter list elements[10 , 20 , 15 , 18 , 19 , 15 , 17 , 20 , 15 , 14]\n",
            "enter input to be deleted15\n",
            "[20, 18, 20, 15, 14]\n"
          ]
        }
      ]
    },
    {
      "cell_type": "code",
      "source": [
        "# clear() method  demo program  (Home  work)\n",
        "list = [10 , 20 , 15 , 18]\n",
        "print(list)#[10 , 20 , 15 , 18]\n",
        "list . clear()\n",
        "print(list)#[]\n",
        "\n",
        "\n",
        "'''\n",
        "clear()  method\n",
        "------------------\n",
        "1) What  does  clear()  method  do ?  --->  Removes  all  the  elements  of  the  list  and  list  becomes  empty\n",
        "\n",
        "2) What  about  remove()  and  pop()  methods  ?  ---> They  remove  single  element  of  the  list\n",
        "'''"
      ],
      "metadata": {
        "colab": {
          "base_uri": "https://localhost:8080/",
          "height": 87
        },
        "id": "hta6muCdm1cE",
        "outputId": "c3dd7c9d-2f25-4cf7-f598-9e4874c41ca5"
      },
      "execution_count": null,
      "outputs": [
        {
          "output_type": "stream",
          "name": "stdout",
          "text": [
            "[10, 20, 15, 18]\n",
            "[]\n"
          ]
        },
        {
          "output_type": "execute_result",
          "data": {
            "text/plain": [
              "'\\nclear()  method\\n------------------\\n1) What  does  clear()  method  do ?  --->  Removes  all  the  elements  of  the  list  and  list  becomes  empty\\n\\n2) What  about  remove()  and  pop()  methods  ?  ---> They  remove  single  element  of  the  list\\n'"
            ],
            "application/vnd.google.colaboratory.intrinsic+json": {
              "type": "string"
            }
          },
          "metadata": {},
          "execution_count": 47
        }
      ]
    },
    {
      "cell_type": "code",
      "source": [
        "# reverse()  method  demo  program (Home  work)\n",
        "a = [10 , 20 , 15 , 18]\n",
        "print(a)#[10 , 20 , 15 , 18]\n",
        "a . reverse()\n",
        "print(a)#[18,15,20,10]\n",
        "\n",
        "\n",
        "'''\n",
        "reverse()  method\n",
        "---------------------\n",
        "1) What  does  reverse()  method  do ?  --->  Reverses  all  the  elements  of  list\n",
        "\n",
        "2) Where  are  the  results  stored ?  --->  In  the  same  list  replacing  existing  elements (List  is  mutable)\n",
        "'''"
      ],
      "metadata": {
        "colab": {
          "base_uri": "https://localhost:8080/",
          "height": 87
        },
        "id": "1sTyVu6GVOwk",
        "outputId": "164e350d-d1bf-4c2e-d9d5-43b7b6feef06"
      },
      "execution_count": null,
      "outputs": [
        {
          "output_type": "stream",
          "name": "stdout",
          "text": [
            "[10, 20, 15, 18]\n",
            "[18, 15, 20, 10]\n"
          ]
        },
        {
          "output_type": "execute_result",
          "data": {
            "text/plain": [
              "'\\nreverse()  method\\n---------------------\\n1) What  does  reverse()  method  do ?  --->  Reverses  all  the  elements  of  list\\n\\n2) Where  are  the  results  stored ?  --->  In  the  same  list  replacing  existing  elements (List  is  mutable)\\n'"
            ],
            "application/vnd.google.colaboratory.intrinsic+json": {
              "type": "string"
            }
          },
          "metadata": {},
          "execution_count": 48
        }
      ]
    },
    {
      "cell_type": "code",
      "source": [
        "#  sort()  method  demo  program (Home  work)\n",
        "list = [10 , 20 , 15 , 18 , 5]\n",
        "print(list)#[10 , 20 , 15 , 18 , 5]\n",
        "list . sort()\n",
        "print(list)##[5,10,15,18,20]\n",
        "list . sort(reverse = True)\n",
        "print(list)#[20,18,15,10,5]"
      ],
      "metadata": {
        "id": "W1U1wBLCqkud",
        "colab": {
          "base_uri": "https://localhost:8080/"
        },
        "outputId": "17a477ef-cf65-489f-87ad-0561cd0a98db"
      },
      "execution_count": null,
      "outputs": [
        {
          "output_type": "stream",
          "name": "stdout",
          "text": [
            "[10, 20, 15, 18, 5]\n",
            "[5, 10, 15, 18, 20]\n",
            "[20, 18, 15, 10, 5]\n"
          ]
        }
      ]
    },
    {
      "cell_type": "code",
      "source": [
        " # Find  outputs (Home  work)\n",
        "a = ['Rama' , 'Rajesh' , 'Amar' ,  'Sita' ,  'Vamsi' , 'Kiran' , 'Rama  Rao']\n",
        "print(a)#['Rama' , 'Rajesh' , 'Amar' ,  'Sita' ,  'Vamsi' , 'Kiran' , 'Rama  Rao']\n",
        "a . sort()\n",
        "print(a)#['Amar', 'Kiran', 'Rajesh', 'Rama', 'Rama  Rao', 'Sita', 'Vamsi']\n",
        "a . sort(reverse = True)\n",
        "print(a)#['Vamsi', 'Sita', 'Rama  Rao', 'Rama', 'Rajesh', 'Kiran', 'Amar']\n"
      ],
      "metadata": {
        "id": "E9U2zOmL-dAI",
        "outputId": "bcbb444c-a5f1-462f-b3ec-ee105bd69f3e",
        "colab": {
          "base_uri": "https://localhost:8080/"
        }
      },
      "execution_count": null,
      "outputs": [
        {
          "output_type": "stream",
          "name": "stdout",
          "text": [
            "['Rama', 'Rajesh', 'Amar', 'Sita', 'Vamsi', 'Kiran', 'Rama  Rao']\n",
            "['Amar', 'Kiran', 'Rajesh', 'Rama', 'Rama  Rao', 'Sita', 'Vamsi']\n",
            "['Vamsi', 'Sita', 'Rama  Rao', 'Rama', 'Rajesh', 'Kiran', 'Amar']\n"
          ]
        }
      ]
    },
    {
      "cell_type": "code",
      "source": [
        "# Identify  error (Home  work)\n",
        "a = [25 , 10.8 ,  'Hyd' ,  True]\n",
        "a . sort()#error because sequence and non sequence cann't be sorted"
      ],
      "metadata": {
        "id": "_4hL4Mlg-c0f",
        "outputId": "fa3fbfd2-eb69-46f8-a210-f8a5dc54960b",
        "colab": {
          "base_uri": "https://localhost:8080/",
          "height": 176
        }
      },
      "execution_count": null,
      "outputs": [
        {
          "output_type": "error",
          "ename": "TypeError",
          "evalue": "'<' not supported between instances of 'str' and 'float'",
          "traceback": [
            "\u001b[0;31m---------------------------------------------------------------------------\u001b[0m",
            "\u001b[0;31mTypeError\u001b[0m                                 Traceback (most recent call last)",
            "\u001b[0;32m/tmp/ipython-input-1525596508.py\u001b[0m in \u001b[0;36m<cell line: 0>\u001b[0;34m()\u001b[0m\n\u001b[1;32m      1\u001b[0m \u001b[0;31m# Identify  error (Home  work)\u001b[0m\u001b[0;34m\u001b[0m\u001b[0;34m\u001b[0m\u001b[0m\n\u001b[1;32m      2\u001b[0m \u001b[0ma\u001b[0m \u001b[0;34m=\u001b[0m \u001b[0;34m[\u001b[0m\u001b[0;36m25\u001b[0m \u001b[0;34m,\u001b[0m \u001b[0;36m10.8\u001b[0m \u001b[0;34m,\u001b[0m  \u001b[0;34m'Hyd'\u001b[0m \u001b[0;34m,\u001b[0m  \u001b[0;32mTrue\u001b[0m\u001b[0;34m]\u001b[0m\u001b[0;34m\u001b[0m\u001b[0;34m\u001b[0m\u001b[0m\n\u001b[0;32m----> 3\u001b[0;31m \u001b[0ma\u001b[0m \u001b[0;34m.\u001b[0m \u001b[0msort\u001b[0m\u001b[0;34m(\u001b[0m\u001b[0;34m)\u001b[0m\u001b[0;31m#error because sequence and non sequence cann't be sorted\u001b[0m\u001b[0;34m\u001b[0m\u001b[0;34m\u001b[0m\u001b[0m\n\u001b[0m",
            "\u001b[0;31mTypeError\u001b[0m: '<' not supported between instances of 'str' and 'float'"
          ]
        }
      ]
    },
    {
      "cell_type": "code",
      "source": [
        "#  count()  method  demo    program (Home  work)\n",
        "a = [10 , 20 , 15 , 18 , 15 , 12 , 14 , 15 , 19]\n",
        "print(a . count(15))#3\n",
        "print(a . count(25))#0\n",
        "print(len(a))#9\n",
        "\n",
        "'''\n",
        "What  does  list . count(x)  do ?  ---> Returns  number  of  times  'x'  is  in  the  list\n",
        "'''"
      ],
      "metadata": {
        "id": "K-SaqjPa-cw2",
        "outputId": "41e24c71-3b05-48a1-c5dd-9bb4cfabdd58",
        "colab": {
          "base_uri": "https://localhost:8080/"
        }
      },
      "execution_count": null,
      "outputs": [
        {
          "output_type": "stream",
          "name": "stdout",
          "text": [
            "3\n",
            "0\n",
            "9\n"
          ]
        }
      ]
    },
    {
      "cell_type": "code",
      "source": [
        "'''\n",
        "Tricky  program\n",
        "Write  a  program  to  remove  all  duplicate  elements  of  the  list  (Not  even  single  occurance)\n",
        "Let  input  be  [10 , 20 , 15 , 10 , 14 , 10 , 18 , 20 , 19]\n",
        "What  is  the  output ?  ---> [15 , 14 , 18 , 19]\n",
        "\n",
        "Hint:  Use  count()  and  append()  methods\n",
        "\n",
        "'''\n",
        "\n",
        "a=eval(input(\"enter input values\"))\n",
        "b=[]\n",
        "# count=0\n",
        "for i in a:\n",
        "  if a.count(i)==1:\n",
        "    b.append(i)\n",
        "print(b)\n"
      ],
      "metadata": {
        "id": "jMP3WoOZ-cuV",
        "outputId": "8c2e51b2-de31-4336-9d2a-c9f139121a9f",
        "colab": {
          "base_uri": "https://localhost:8080/"
        }
      },
      "execution_count": null,
      "outputs": [
        {
          "output_type": "stream",
          "name": "stdout",
          "text": [
            "enter input values[10 , 20 , 15 , 10 , 14 , 10 , 18 , 20 , 19]\n",
            "[15, 14, 18, 19]\n"
          ]
        }
      ]
    },
    {
      "cell_type": "code",
      "source": [],
      "metadata": {
        "id": "1w14p1TtCj06"
      },
      "execution_count": null,
      "outputs": []
    },
    {
      "cell_type": "code",
      "source": [
        "'''\n",
        "Write  a  program  to  determine  all  the  list  elements  are  identical  or  not\n",
        "\n",
        "1) Let  input  be  [25 , 25 , 25 , 25]\n",
        "    What  is  the  output ?  ---> All  the  elements  are  identical\n",
        "    How  many  elements  are  in  the  list ?  --->  4\n",
        "    How  many  times  is  first  element  repeated ?  ---> 4\n",
        "\n",
        "2) Let  input  be  [10 , 10 , 20 ,  10]\n",
        "    What  is  the  output ?  --->All  the  elements  are  not  identical\n",
        "    How  many  elements  are  in  the  list ?  ---> 4\n",
        "    How  many  times  is  first  element  repeated ? --->  3\n",
        "\n",
        "3) Hint: Use  len()  and  count()\n",
        "'''\n",
        "a=eval(input(\"enter input values\"))\n",
        "if a.count(a[0])==len(a):\n",
        "  print(\"Identical\")\n",
        "else:\n",
        "  print(\"not Identical\")\n",
        "# output:-\n",
        "\n",
        "# Enter  any  list  :  [25,25,25,25]\n",
        "# All  the  list  elements  are  identical\n",
        "# Enter  any  list  :  [10,10,20,10]\n",
        "# List   elements  are  not  identical"
      ],
      "metadata": {
        "id": "O0Mrke0E_tGT",
        "colab": {
          "base_uri": "https://localhost:8080/"
        },
        "outputId": "a37ff7cd-e375-4d68-c000-0d5666e0a0ac"
      },
      "execution_count": null,
      "outputs": [
        {
          "output_type": "stream",
          "name": "stdout",
          "text": [
            "enter input values[10 , 10 , 20 ,  10]\n",
            "not Identical\n"
          ]
        }
      ]
    },
    {
      "cell_type": "code",
      "source": [],
      "metadata": {
        "id": "KHQl-R-Ax5rf"
      },
      "execution_count": null,
      "outputs": []
    },
    {
      "cell_type": "code",
      "source": [
        "# index()  method  demo  program  (Home  work)\n",
        "a = [10 , 20 , 15 , 12 , 14 , 15 , 18 , 19 , 15 , 12 , 25]\n",
        "#     0     1     2    3    4     5    6    7     8    9    10\n",
        "try:\n",
        "\ti = a . index(15)\n",
        "\twhile  True:\n",
        "\t\tprint(i)\n",
        "\t\ti = a . index(15 , i + 1)\n",
        "except:\n",
        "\tprint(F'15  is  found  {a . count(15)}  times ')\n",
        "\n",
        "\n",
        "'''\n",
        "index()  method\n",
        "-------------------\n",
        "1) What  does  index(x)  do ?  --->  Returns  index  of  first  'x'  in  the  list\n",
        "\n",
        "2) What  does  index(invalid-element)  do  ?  --->  Throws  error\n",
        "\n",
        "3) list . index(x , i)\n",
        "    list . index(x)\n",
        "    What  is  the  difference  between  the  two  statements ?  --->\n",
        "\t\t\t\t\t\t\t\t\t\tlist . index(x , i)  searches  for  'x'  from   index  'i'  of  the  list  but\n",
        "\t\t\t\t\t\t\t\t\t\tlist . index(x)   searches  for  for  'x'  from   index  0  of  the  list\n",
        "\n",
        "Note:\n",
        "1) What  are  the  four  search  methods  in  str  class  --->  find() , rfind() , index() , rindex()\n",
        "\n",
        "2) What  is  the  only  search  method  in  list  class  ---> index()\n",
        "'''"
      ],
      "metadata": {
        "id": "YDRbP-_s_tDC",
        "colab": {
          "base_uri": "https://localhost:8080/",
          "height": 109
        },
        "outputId": "36abf2d9-0db5-46f5-da6a-eca670794e37"
      },
      "execution_count": null,
      "outputs": [
        {
          "output_type": "stream",
          "name": "stdout",
          "text": [
            "15  is  found  3  times \n"
          ]
        },
        {
          "output_type": "execute_result",
          "data": {
            "text/plain": [
              "\"\\nindex()  method\\n-------------------\\n1) What  does  index(x)  do ?  --->  Returns  index  of  first  'x'  in  the  list\\n\\n2) What  does  index(invalid-element)  do  ?  --->  Throws  error\\n\\n3) list . index(x , i)\\n    list . index(x)\\n    What  is  the  difference  between  the  two  statements ?  --->\\n\\t\\t\\t\\t\\t\\t\\t\\t\\t\\tlist . index(x , i)  searches  for  'x'  from   index  'i'  of  the  list  but\\n\\t\\t\\t\\t\\t\\t\\t\\t\\t\\tlist . index(x)   searches  for  for  'x'  from   index  0  of  the  list\\n\\nNote:\\n1) What  are  the  four  search  methods  in  str  class  --->  find() , rfind() , index() , rindex()\\n\\n2) What  is  the  only  search  method  in  list  class  ---> index()\\n\""
            ],
            "application/vnd.google.colaboratory.intrinsic+json": {
              "type": "string"
            }
          },
          "metadata": {},
          "execution_count": 20
        }
      ]
    },
    {
      "cell_type": "code",
      "source": [],
      "metadata": {
        "id": "zYUGB1Yw-crj"
      },
      "execution_count": null,
      "outputs": []
    },
    {
      "cell_type": "code",
      "source": [
        "'''\n",
        "Modify  the  following  program  with  walrus  operator\n",
        "\n",
        "Hint:  Call  index()  method  only  once\n",
        "'''\n",
        "a = [10 , 20 , 15 , 12 , 14 , 15 , 18 , 19 , 15 , 12 , 25]\n",
        "i=-1 #'-1' because in while condition i+1=>-1+1=0 it will start searching from the 0 index so for that reason i=-1\n",
        "try:\n",
        "\twhile (i := a . index(15 , i + 1)) :\n",
        "\t\tprint(i)\n",
        "except:\n",
        "\tprint(F'15  is  found  {a . count(15)}  times ')"
      ],
      "metadata": {
        "colab": {
          "base_uri": "https://localhost:8080/"
        },
        "id": "fVGQVdWwupgO",
        "outputId": "73bc63b0-60ca-40e3-c5e3-333863b3a9f4"
      },
      "execution_count": null,
      "outputs": [
        {
          "output_type": "stream",
          "name": "stdout",
          "text": [
            "2\n",
            "5\n",
            "8\n",
            "15  is  found  3  times \n"
          ]
        }
      ]
    },
    {
      "cell_type": "markdown",
      "source": [
        "# **20/08/2025**"
      ],
      "metadata": {
        "id": "ZrHAevOD4TIk"
      }
    },
    {
      "cell_type": "code",
      "source": [
        "# fruits = [\"apple\", \"banana\", \"cherry\", \"kiwi\", \"mango\"]\n",
        "\n",
        "# newlist = [x for x in fruits if \"a\" in x]\n",
        "\n",
        "# print(newlist)"
      ],
      "metadata": {
        "id": "kQ_oP37vupdU"
      },
      "execution_count": null,
      "outputs": []
    },
    {
      "cell_type": "code",
      "source": [
        "# Write  a  program  to  create  a  list  with  cubes  of  2 , 4 , 6 , 8 , 10  with  list  comprehension (Home  work)\n",
        "lst=eval(input(\"enter list with elements:\"))\n",
        "# lst=[2,4,6,8,10]\n",
        "list1=[x**3 for x in lst]\n",
        "print(list1)"
      ],
      "metadata": {
        "id": "ZhEgDUBCupaU",
        "outputId": "8ae5811d-f922-4e13-fdd2-72e34b4885a4",
        "colab": {
          "base_uri": "https://localhost:8080/"
        }
      },
      "execution_count": null,
      "outputs": [
        {
          "output_type": "stream",
          "name": "stdout",
          "text": [
            "enter list with elements[2 , 4 , 6 , 8 , 10]\n",
            "[8, 64, 216, 512, 1000]\n"
          ]
        }
      ]
    },
    {
      "cell_type": "code",
      "source": [
        "'''\n",
        "(Home  work)\n",
        "Write  a  program  to  extract  1st  character  of  each  string  in  capital  letters  in  a  list  of  srings  without  comprehension\n",
        "\n",
        "Let  input  be   ['hyd' , 'pune' , 'chennai' , 'vijayawada']\n",
        "What  is  the  output ?  ---> ['H' , 'P' , 'C' , 'V']\n",
        "'''\n",
        "lst=['hyd' , 'pune' , 'chennai' , 'vijayawada']\n",
        "b=[]\n",
        "for i in lst:\n",
        "  b.append(i[0].upper())\n",
        "print(b)"
      ],
      "metadata": {
        "id": "Hw7IoHTSupXr",
        "outputId": "756e912f-5583-4a14-d6c5-1b76d48828ae",
        "colab": {
          "base_uri": "https://localhost:8080/"
        }
      },
      "execution_count": null,
      "outputs": [
        {
          "output_type": "stream",
          "name": "stdout",
          "text": [
            "['H', 'P', 'C', 'V']\n"
          ]
        }
      ]
    },
    {
      "cell_type": "code",
      "source": [
        "# dir(list)"
      ],
      "metadata": {
        "id": "PgxlxXiZupUs"
      },
      "execution_count": null,
      "outputs": []
    },
    {
      "cell_type": "code",
      "source": [
        "from os import sep\n",
        "'''\n",
        "Write  a  program  to  append  each  word  of  the  sentence  and  its  length  to  a  list\n",
        "(word  should  be  in  capital  letters)  without  comprehension\n",
        "\n",
        "Let  input  be   hyd  is  green  city\n",
        "What  is  the  output ?  --->  [['HYD' , 3] , ['IS' , 2] , ['GREEN' , 5] , ['CITY', 3]]\n",
        "'''\n",
        "\n",
        "lst=input(\"enter the sentence:\")\n",
        "b=lst.split()\n",
        "c=[]\n",
        "for i in b:\n",
        "  c.append([i.upper(),len(i)])\n",
        "print(c)"
      ],
      "metadata": {
        "id": "2BUeW0N5upRl",
        "outputId": "10913510-ff1e-4405-87c4-38af133f27ea",
        "colab": {
          "base_uri": "https://localhost:8080/"
        }
      },
      "execution_count": null,
      "outputs": [
        {
          "output_type": "stream",
          "name": "stdout",
          "text": [
            "enter the sentence:Students are getting bored\n",
            "[['STUDENTS', 8], ['ARE', 3], ['GETTING', 7], ['BORED', 5]]\n"
          ]
        }
      ]
    },
    {
      "cell_type": "code",
      "source": [
        "'''\n",
        "(Home  work)\n",
        "Repeat   previous  program  with  comprehension\n",
        "\n",
        "Input :  hyd  is  green  city\n",
        "\n",
        "Output :  [['HYD' , 3] , ['IS' , 2] , ['GREEN' , 5] , ['CITY' , 4]]\n",
        "'''\n",
        "\n",
        "lst=input(\"enter the sentence:\")\n",
        "c=[[i.upper(),len(i)] for i in lst.split()]\n",
        "print(c)\n",
        "\n",
        "#the below code is not working\n",
        "# b=lst.split()\n",
        "# c=[[c for i in b[c.append([i.upper(),len(i)])]]\n",
        "# for i in b:\n",
        "#   c.append([i.upper(),len(i)])\n",
        "# print(c)\n",
        "\n",
        "\n"
      ],
      "metadata": {
        "id": "UguFbd8xoUuz",
        "outputId": "03036594-c616-47e9-ed34-60922d9b31ed",
        "colab": {
          "base_uri": "https://localhost:8080/"
        }
      },
      "execution_count": null,
      "outputs": [
        {
          "output_type": "stream",
          "name": "stdout",
          "text": [
            "enter the sentence:hyd  is  green  city\n",
            "[['HYD', 3], ['IS', 2], ['GREEN', 5], ['CITY', 4]]\n"
          ]
        }
      ]
    },
    {
      "cell_type": "code",
      "source": [
        "'''\n",
        "Write  a  program  to  add  two  lists  of  unequal  length  without  comprehension\n",
        "\n",
        "Let  1st  list  be  [10 , 20 , 30 , 40 , 50 , 60 , 70]  and  2nd  list  be  [100 , 200 , 300 , 400]\n",
        "What  is   the  result ?  ---> [10 + 100 , 20 + 200 , 30 + 300 , 40 + 400]\n",
        "'''\n",
        "# lst1=[10 , 20 , 30 , 40 , 50 , 60 , 70]\n",
        "# lst2=[100 , 200 , 300 , 400]\n",
        "# res=[]\n",
        "# for i in\n",
        "\n",
        "\n",
        "\n",
        "lst1=[10 , 20 , 30 , 40 , 50 , 60 , 70]\n",
        "lst2=[100 , 200 , 300 , 400]\n",
        "res=[]\n",
        "\n",
        "# loop until the smaller length\n",
        "for i in range(min(len(lst1), len(lst2))):\n",
        "    if i < len(lst1) and i < len(lst2):\n",
        "        res.append(lst1[i] + lst2[i])\n",
        "\n",
        "print(res)"
      ],
      "metadata": {
        "id": "2D-efvCI-Ybz",
        "outputId": "87e7af48-6152-4183-967f-8886911c2d2e",
        "colab": {
          "base_uri": "https://localhost:8080/"
        }
      },
      "execution_count": null,
      "outputs": [
        {
          "output_type": "stream",
          "name": "stdout",
          "text": [
            "[110, 220, 330, 440]\n"
          ]
        }
      ]
    },
    {
      "cell_type": "code",
      "source": [
        "'''\n",
        "(Home  work)\n",
        "Repeat   previous  program  with  comprehension\n",
        "\n",
        "Input1 : [10 , 20 , 30 , 40 , 50 , 60 , 70]\n",
        "Input2 :  [100 , 200 , 300 , 400]\n",
        "Output :  [110 , 220 , 330 , 440]\n",
        "'''\n",
        "lst1=[100 , 200 , 300 , 400]\n",
        "lst2=[10 , 20 , 30 , 40 , 50 , 60 , 70]\n",
        "res=[lst1[i]+lst2[i] for i in range(min(len(lst1), len(lst2)))]\n",
        "print(res)\n"
      ],
      "metadata": {
        "id": "tUSjMXKKQV2o",
        "outputId": "03995b88-3739-4fe7-e0bc-8e9d3c3a0b66",
        "colab": {
          "base_uri": "https://localhost:8080/"
        }
      },
      "execution_count": null,
      "outputs": [
        {
          "output_type": "stream",
          "name": "stdout",
          "text": [
            "[110, 220, 330, 440]\n"
          ]
        }
      ]
    },
    {
      "cell_type": "code",
      "source": [
        "'''\n",
        "Write   a  program  to  initialize  a  nested  list  with  zeroes  without  comprehension\n",
        "\n",
        "Let inputs  be  3  and  4\n",
        "What  is  the  output ?  --->  [[0 , 0 , 0 , 0] , [0 , 0 , 0 , 0] , [0 , 0 , 0 , 0]]\n",
        "\n",
        "Hint:  Use  repetition  operator  *\n",
        "'''\n",
        "input1=eval(input(\"enter no of list\"))\n",
        "input2=eval(input(\"enter no of elements in the list\"))\n",
        "result=[]\n",
        "for i in range(input1):\n",
        "  result.append([0]*input2)\n",
        "print(result)"
      ],
      "metadata": {
        "id": "VXqTprjNQVzA",
        "outputId": "fb988fdb-9c1b-42a7-80fa-72566026ed53",
        "colab": {
          "base_uri": "https://localhost:8080/"
        }
      },
      "execution_count": null,
      "outputs": [
        {
          "output_type": "stream",
          "name": "stdout",
          "text": [
            "enter no of list5\n",
            "enter no of elements in the list2\n",
            "[[0, 0], [0, 0], [0, 0], [0, 0], [0, 0]]\n"
          ]
        }
      ]
    },
    {
      "cell_type": "code",
      "source": [
        "'''\n",
        "(Home  work)\n",
        "Repeat   previous  program  with  comprehension\n",
        "\n",
        "Inputs :  3  and  4\n",
        "\n",
        "Output :  [[0 , 0 , 0 , 0] , [0 , 0 , 0 , 0] , [0 , 0 , 0 , 0]]\n",
        "'''\n",
        "input1=eval(input(\"enter no of list\"))\n",
        "input2=eval(input(\"enter no of elements in the list\"))\n",
        "result=[([0]*input2) for i in range(input1)]\n",
        "print(result)\n"
      ],
      "metadata": {
        "id": "POIQqb7sQVw8",
        "outputId": "a896e6bf-fc3d-4dea-d9a5-a358fc9bcf2f",
        "colab": {
          "base_uri": "https://localhost:8080/"
        }
      },
      "execution_count": null,
      "outputs": [
        {
          "output_type": "stream",
          "name": "stdout",
          "text": [
            "enter no of list2\n",
            "enter no of elements in the list6\n",
            "[[0, 0, 0, 0, 0, 0], [0, 0, 0, 0, 0, 0]]\n"
          ]
        }
      ]
    },
    {
      "cell_type": "code",
      "source": [
        "#WAP to print even numbers between 1 to 20 with comprehension\n",
        "a=[x for x in range(1,21) if x%2==0]\n",
        "print(a)"
      ],
      "metadata": {
        "id": "_aquPQxOZf0v",
        "outputId": "d2593c63-2ab8-4c12-a338-201095a76434",
        "colab": {
          "base_uri": "https://localhost:8080/"
        }
      },
      "execution_count": null,
      "outputs": [
        {
          "output_type": "stream",
          "name": "stdout",
          "text": [
            "[2, 4, 6, 8, 10, 12, 14, 16, 18, 20]\n"
          ]
        }
      ]
    },
    {
      "cell_type": "code",
      "source": [
        "#WAP to print even numbers between 1 to 20 without comprehesion\n",
        "a=[x for x in range(2,21,2)]\n",
        "print(a)\n"
      ],
      "metadata": {
        "id": "_zGVVZ6nZ9Z6",
        "outputId": "2753c34b-25fc-4d3f-ba44-e54749281f58",
        "colab": {
          "base_uri": "https://localhost:8080/"
        }
      },
      "execution_count": null,
      "outputs": [
        {
          "output_type": "stream",
          "name": "stdout",
          "text": [
            "[2, 4, 6, 8, 10, 12, 14, 16, 18, 20]\n"
          ]
        }
      ]
    },
    {
      "cell_type": "code",
      "source": [
        "'''\n",
        "Write  a  program  to  extract  those  elements  of  1st  list  which  are  not  in  2nd  list   without  comprehension\n",
        "\n",
        "Let  1st  list  be  [10 , 20 , 15 , 18 , 25 , 32]  and  2nd  list  be  [30 , 40 , 10 , 25 , 15]\n",
        "What  is  the  output ?  --->  [20 , 18 ,  32]\n",
        "'''\n",
        "\n",
        "a=eval(input(\"enter list1:\")) #[10 , 20 , 15 , 18 , 25 , 32]\n",
        "b=eval(input(\"enter list2:\")) #[30 , 40 , 10 , 25 , 15]\n",
        "c=[]\n",
        "for i in set(a):\n",
        "  if i not in set(b):\n",
        "    c.append(i)\n",
        "print(c)"
      ],
      "metadata": {
        "id": "LXLFrV-e-YYf",
        "outputId": "54012104-1d66-4bd9-8d11-b9952189a811",
        "colab": {
          "base_uri": "https://localhost:8080/"
        }
      },
      "execution_count": null,
      "outputs": [
        {
          "output_type": "stream",
          "name": "stdout",
          "text": [
            "enter list1:[10 , 20 , 15 , 18 , 25 , 32]\n",
            "enter list2:[10 , 20 , 15 , 18 , 25 , 32]\n",
            "[]\n"
          ]
        }
      ]
    },
    {
      "cell_type": "code",
      "source": [
        "'''\n",
        "(Home  work)\n",
        "Repeat   previous  program  with  comprehension\n",
        "\n",
        "Input1 :   [10 , 20 , 15 , 18 , 25 , 32]\n",
        "Input2 :  [30 , 40 , 10 , 25 , 15]\n",
        "Output :  [20 , 18 , 32]\n",
        "'''\n",
        "\n",
        "a=eval(input(\"enter list1:\")) #[10 , 20 , 15 , 18 , 25 , 32]\n",
        "b=eval(input(\"enter list2:\")) #[30 , 40 , 10 , 25 , 15]\n",
        "c=[[i if i not in b] for i in set(a)]"
      ],
      "metadata": {
        "id": "eTd7B7oF-YWg",
        "colab": {
          "base_uri": "https://localhost:8080/",
          "height": 106
        },
        "outputId": "d6f7ac7c-6cd6-4752-8538-30f6b24cc439"
      },
      "execution_count": null,
      "outputs": [
        {
          "output_type": "error",
          "ename": "SyntaxError",
          "evalue": "expected 'else' after 'if' expression (ipython-input-2405927110.py, line 12)",
          "traceback": [
            "\u001b[0;36m  File \u001b[0;32m\"/tmp/ipython-input-2405927110.py\"\u001b[0;36m, line \u001b[0;32m12\u001b[0m\n\u001b[0;31m    c=[[i if i not in b] for i in set(a)]\u001b[0m\n\u001b[0m        ^\u001b[0m\n\u001b[0;31mSyntaxError\u001b[0m\u001b[0;31m:\u001b[0m expected 'else' after 'if' expression\n"
          ]
        }
      ]
    },
    {
      "cell_type": "code",
      "source": [],
      "metadata": {
        "id": "lJhInbNl-YUE"
      },
      "execution_count": null,
      "outputs": []
    },
    {
      "cell_type": "markdown",
      "source": [
        "# 21-08-25"
      ],
      "metadata": {
        "id": "jeQVxfmYsj8p"
      }
    },
    {
      "cell_type": "code",
      "source": [
        "# Find  outputs   (Home  work)\n",
        "a = 25 , 10.8 , 3 + 4j , 'Hyd' , True , None , 'Hyd' , 25\n",
        "print(a)#(25 , 10.8 , (3 + 4j) , 'Hyd' , True , None , 'Hyd' , 25)\n",
        "print(type(a))#<class tuple>\n",
        "# a[3] = 'Sec'#error\n",
        "# a[3 : 6] = 60 , 70 , 80 #error"
      ],
      "metadata": {
        "id": "uFGyzgoH-YR-",
        "colab": {
          "base_uri": "https://localhost:8080/"
        },
        "outputId": "f62012c6-d88d-498e-92e9-c28306a930fe"
      },
      "execution_count": null,
      "outputs": [
        {
          "output_type": "stream",
          "name": "stdout",
          "text": [
            "(25, 10.8, (3+4j), 'Hyd', True, None, 'Hyd', 25)\n",
            "<class 'tuple'>\n"
          ]
        }
      ]
    },
    {
      "cell_type": "code",
      "source": [
        "#  Find  outputs\n",
        "a = (1,2,3)\n",
        "b = (4,5,6)\n",
        "print(a , id(a))#(1,2,3) say 1000\n",
        "a += b\n",
        "print(a , id(a))#(1,2,3,4,5,6) say 20000"
      ],
      "metadata": {
        "id": "HX2yJHUm-YPv",
        "colab": {
          "base_uri": "https://localhost:8080/"
        },
        "outputId": "ce2ffefe-43a5-4114-d9b9-4fc663018cac"
      },
      "execution_count": null,
      "outputs": [
        {
          "output_type": "stream",
          "name": "stdout",
          "text": [
            "(1, 2, 3) 136530807860096\n",
            "(1, 2, 3, 4, 5, 6) 136530821062880\n"
          ]
        }
      ]
    },
    {
      "cell_type": "code",
      "source": [
        "#  Find  outputs\n",
        "a = (1,2,3)\n",
        "b = (4,5,6)\n",
        "print(a , id(a)) ##(1,2,3) say 1000\n",
        "a = a + b\n",
        "print(a , id(a)) #(1,2,3,4,5,6) say 9000"
      ],
      "metadata": {
        "id": "A7AaM8Qt-YNF",
        "colab": {
          "base_uri": "https://localhost:8080/"
        },
        "outputId": "b7908afb-0174-4b53-ae9e-83afe94f8341"
      },
      "execution_count": null,
      "outputs": [
        {
          "output_type": "stream",
          "name": "stdout",
          "text": [
            "(1, 2, 3) 136530807721920\n",
            "(1, 2, 3, 4, 5, 6) 136530821062880\n"
          ]
        }
      ]
    },
    {
      "cell_type": "code",
      "source": [
        "#  What   are  the  outputs  if  input  is  (10 , 20 , 30 , 40) ?   (Home  work)\n",
        "a = input('Enter  Tuple  :  ')#(10 , 20 , 30 , 40)\n",
        "print(a) #(10 , 20 , 30 , 40)\n",
        "print(type(a)) #<class str>\n",
        "b = eval(a)\n",
        "print(b)#(#10,20,30,40)\n",
        "print(type(b))#<class tuple>\n",
        "print(len(b))#4"
      ],
      "metadata": {
        "colab": {
          "base_uri": "https://localhost:8080/"
        },
        "id": "TwHhgifmvGVB",
        "outputId": "e5546693-1c8e-4074-c5a7-ea20ad97579d"
      },
      "execution_count": null,
      "outputs": [
        {
          "output_type": "stream",
          "name": "stdout",
          "text": [
            "Enter  Tuple  :  (10,20,30,40)\n",
            "(10,20,30,40)\n",
            "<class 'str'>\n",
            "(10, 20, 30, 40)\n",
            "<class 'tuple'>\n",
            "4\n"
          ]
        }
      ]
    },
    {
      "cell_type": "code",
      "source": [
        "# Find  outputs  (Home  work)\n",
        "a = (10 , [20 , 30 , 40] , 50 , 60)\n",
        "a[1][0]=80\n",
        "a[1].append(70)#= 70 #no error because it is list\n",
        "print(a)#(10 , [20 , 30 , 70] , 50 , 60)\n",
        "print(type(a))\n",
        "# a[1] = [80 , 90 , 100]#error because of updating the 1st element of the tuple class\n",
        "print(a)#(10 , [20 , 30 , 40] , 50 , 60)"
      ],
      "metadata": {
        "colab": {
          "base_uri": "https://localhost:8080/"
        },
        "id": "Yhxta0WPvGRi",
        "outputId": "c17ed252-b561-47e0-bca5-6955a864d8f6"
      },
      "execution_count": null,
      "outputs": [
        {
          "output_type": "stream",
          "name": "stdout",
          "text": [
            "(10, [80, 30, 40, 70], 50, 60)\n",
            "<class 'tuple'>\n",
            "(10, [80, 30, 40, 70], 50, 60)\n"
          ]
        }
      ]
    },
    {
      "cell_type": "code",
      "source": [
        "# Find  outputs  (Home  work)\n",
        "a = [10 , (20 , 30 , 40) , 50 , 60]\n",
        "# a[1][0] = 70 #error because it is tuple element\n",
        "print(a) #[10 , (20 , 30 , 40) , 50 , 60]\n",
        "a[1] = [80 , 90] #modifing the list of index '1' because list is mutable in index 1 it is tuple but you're modifing the list.\n",
        "print(a)"
      ],
      "metadata": {
        "colab": {
          "base_uri": "https://localhost:8080/"
        },
        "id": "wdzPEJsIvGPT",
        "outputId": "6182d07b-936d-40a4-a87d-f47f39bf3a59"
      },
      "execution_count": null,
      "outputs": [
        {
          "output_type": "stream",
          "name": "stdout",
          "text": [
            "[10, (20, 30, 40), 50, 60]\n",
            "[10, [80, 90], 50, 60]\n"
          ]
        }
      ]
    },
    {
      "cell_type": "code",
      "source": [
        "# Find  outputs   (Home  work)\n",
        "a = 25\n",
        "b = 10.8\n",
        "c = 'Hyd'\n",
        "d = True\n",
        "x = a , b , c , d\n",
        "print(x) #(25,10.8,'Hyd',True)\n",
        "print(type(x)) #<class tuple>"
      ],
      "metadata": {
        "colab": {
          "base_uri": "https://localhost:8080/"
        },
        "id": "xt2vB5_zvGM1",
        "outputId": "08b3ef05-a4a3-4d8d-ec12-d8c00863953e"
      },
      "execution_count": null,
      "outputs": [
        {
          "output_type": "stream",
          "name": "stdout",
          "text": [
            "(25, 10.8, 'Hyd', True)\n",
            "<class 'tuple'>\n"
          ]
        }
      ]
    },
    {
      "cell_type": "code",
      "source": [
        "# Find  outputs   (Home  work)\n",
        "x = 25 , 10.8 , 'Hyd' , True\n",
        "a , b , c , d = x\n",
        "print(a)\n",
        "print(b)\n",
        "print(c)\n",
        "print(d)\n",
        "# p , q , r =  x #error\n",
        "# a , b , c , d  , e = x #erro"
      ],
      "metadata": {
        "colab": {
          "base_uri": "https://localhost:8080/"
        },
        "id": "e20qE1lNvGKo",
        "outputId": "1febfc64-1f10-4bda-d5cf-bbf464f716b3"
      },
      "execution_count": null,
      "outputs": [
        {
          "output_type": "stream",
          "name": "stdout",
          "text": [
            "25\n",
            "10.8\n",
            "Hyd\n",
            "True\n"
          ]
        }
      ]
    },
    {
      "cell_type": "code",
      "source": [
        "# Find  outputs   (Home  work)\n",
        "tpl = 25 , 10.8 , 'Hyd' , True\n",
        "a , b , *c , d , e = tpl\n",
        "print(a) #25\n",
        "print(b) #10.8\n",
        "print(c) #[]\n",
        "print(d) #\"Hyd\"\n",
        "print(e) #True"
      ],
      "metadata": {
        "colab": {
          "base_uri": "https://localhost:8080/"
        },
        "id": "oGS9udJTvGIB",
        "outputId": "9bbaf8f9-bd92-45fd-b497-7198394ec8f7"
      },
      "execution_count": null,
      "outputs": [
        {
          "output_type": "stream",
          "name": "stdout",
          "text": [
            "25\n",
            "10.8\n",
            "[]\n",
            "Hyd\n",
            "True\n"
          ]
        }
      ]
    },
    {
      "cell_type": "code",
      "source": [
        "# Find  outputs   (Home  work)\n",
        "x = 25 , 10.8 , 'Hyd' , True , 3 + 4j\n",
        "a , b , _ , d , _= x\n",
        "print(a) #25\n",
        "print(b) #10.8\n",
        "print(_) #(3+4j) overwrite the object '_'\n",
        "print(d) #True\n",
        "print(_) #(3+4j) reassigned to the object '_'"
      ],
      "metadata": {
        "colab": {
          "base_uri": "https://localhost:8080/"
        },
        "id": "fls3hgbEvGFn",
        "outputId": "c553abbb-d071-4d7f-a5ae-2dcef3a57b16"
      },
      "execution_count": null,
      "outputs": [
        {
          "output_type": "stream",
          "name": "stdout",
          "text": [
            "25\n",
            "10.8\n",
            "(3+4j)\n",
            "True\n",
            "(3+4j)\n"
          ]
        }
      ]
    },
    {
      "cell_type": "code",
      "source": [
        "# tuple()  function  demo  program   (Home  work)\n",
        "a = range(100 , 150 , 10)\n",
        "b = tuple(a)\n",
        "print(b) #(100,110,120,130,140)\n",
        "print(type(b)) #<class tuple\n",
        "c = [10 , 20 , 15, 18]\n",
        "d = tuple(c)\n",
        "print(d) #(10,20,15,18)\n",
        "e = tuple('Vamsi')\n",
        "print(e) #('v','a','m','s','i')\n",
        "# print(tuple(25)) #error because non sequence\n",
        "print(tuple()) #empty tuple\n",
        "\n",
        "\n",
        "\n",
        "\n",
        "\n",
        "'''\n",
        "tuple()  function\n",
        "--------------------\n",
        "1) What  does  tuple(sequence)  do  ?  --->  Converts  sequence  to  tuple\n",
        "\n",
        "2) What  does  tuple(No-args)  do  ?  ---> Returns  an  empty  tuple\n",
        "\n",
        "3) Is  tuple(non-sequence)  valid ?  --->  No  becoz  argument  should  be  sequence  only\n",
        "\n",
        "4) How  many  arguments  can  tuple()  function  take ?  --->  1 (or)  none  but  not  more  than  one\n",
        "'''"
      ],
      "metadata": {
        "id": "XwfjCfnm-YI0",
        "colab": {
          "base_uri": "https://localhost:8080/",
          "height": 140
        },
        "outputId": "e45a991b-58ed-49f2-8184-bf436b553e12"
      },
      "execution_count": null,
      "outputs": [
        {
          "output_type": "stream",
          "name": "stdout",
          "text": [
            "(100, 110, 120, 130, 140)\n",
            "<class 'tuple'>\n",
            "(10, 20, 15, 18)\n",
            "('V', 'a', 'm', 's', 'i')\n",
            "()\n"
          ]
        },
        {
          "output_type": "execute_result",
          "data": {
            "text/plain": [
              "'\\ntuple()  function\\n--------------------\\n1) What  does  tuple(sequence)  do  ?  --->  Converts  sequence  to  tuple\\n\\n2) What  does  tuple(No-args)  do  ?  ---> Returns  an  empty  tuple\\n\\n3) Is  tuple(non-sequence)  valid ?  --->  No  becoz  argument  should  be  sequence  only\\n\\n4) How  many  arguments  can  tuple()  function  take ?  --->  1 (or)  none  but  not  more  than  one\\n'"
            ],
            "application/vnd.google.colaboratory.intrinsic+json": {
              "type": "string"
            }
          },
          "metadata": {},
          "execution_count": 49
        }
      ]
    },
    {
      "cell_type": "markdown",
      "source": [
        "# **22-08-25**"
      ],
      "metadata": {
        "id": "jLe-6sCwJ5oe"
      }
    },
    {
      "cell_type": "code",
      "source": [
        "#index()  and  count()  methods  demo  program   (Home  work)\n",
        "a = (10 , 20 , 15 , 12 , 14 , 15 , 18 , 19 , 15 , 12 , 25)\n",
        "#    0    1      2     3    4     5     6    7     8    9    10\n",
        "ele=int(input(\"enter element to be search:\"))\n",
        "try:\n",
        "\ti = a . index(ele) #2 5 8\n",
        "\twhile  True: # after 8th index index() method through error so it will false so excepet will execute\n",
        "\t\tprint('15 is found at index : ' , i)\n",
        "\t\ti = a . index(ele , i + 1)\n",
        "except:\n",
        "\t\tprint(F'{ele}  is  found  {a . count(ele)}  times')"
      ],
      "metadata": {
        "id": "2nSG6KHjJ4tH",
        "outputId": "0a734591-f88f-4045-d6e5-c60c3b17519a",
        "colab": {
          "base_uri": "https://localhost:8080/"
        }
      },
      "execution_count": 13,
      "outputs": [
        {
          "output_type": "stream",
          "name": "stdout",
          "text": [
            "enter element to be search:15\n",
            "15 is found at index :  2\n",
            "15 is found at index :  5\n",
            "15 is found at index :  8\n",
            "15  is  found  3  times\n"
          ]
        }
      ]
    },
    {
      "cell_type": "code",
      "source": [
        "#  How  to  modify  an  element  of  tuple ?    (Home  work)\n",
        "a  =  10 ,  20 ,  30 ,   40 ,  50\n",
        "#     0      1    2       3     4\n",
        "# a[2] = 35  # Error #tulple immutable so cann't be changed if we want then convert into list then modify\n",
        "print(a)\n",
        "print(id(a))\n",
        "a=list(a)\n",
        "print(a,id(a))\n",
        "a[2]=35\n",
        "a=tuple(a) #How  to  modify  30  in  tuple  to  35 #first tuple should convert into the list then modify afterthat modified list convert into tuple again\n",
        "print(a)\n",
        "print(id(a))"
      ],
      "metadata": {
        "id": "ZJk9nbNCiwHz",
        "outputId": "c20caee2-ed68-482d-8b63-cfc7e1b8d727",
        "colab": {
          "base_uri": "https://localhost:8080/"
        }
      },
      "execution_count": 20,
      "outputs": [
        {
          "output_type": "stream",
          "name": "stdout",
          "text": [
            "(10, 20, 30, 40, 50)\n",
            "134041394705600\n",
            "[10, 20, 30, 40, 50] 134041396045952\n",
            "(10, 20, 35, 40, 50)\n",
            "134041394705600\n"
          ]
        }
      ]
    },
    {
      "cell_type": "code",
      "source": [
        "# How  to  delete  an  element  of  tuple ?   (Home  work)\n",
        "a  = 10 , 20 , 30 , 40 , 50\n",
        "#    0     1      2     3      4\n",
        "a . remove(30) #Error #tuple is immutable\n",
        "del  a[2] #cann't delete the element of the tuple you can delete the\n",
        "a . pop(2)\n",
        "print(a)\n",
        "print(id(a))\n",
        "How  to  remove  30  from  tuple  'a'\n",
        "print(a)\n",
        "print(id(a))"
      ],
      "metadata": {
        "id": "dFSMFXtaneGv"
      },
      "execution_count": null,
      "outputs": []
    },
    {
      "cell_type": "code",
      "source": [],
      "metadata": {
        "id": "wdUdVDMEneEI"
      },
      "execution_count": null,
      "outputs": []
    },
    {
      "cell_type": "code",
      "source": [],
      "metadata": {
        "id": "WrTKehdineBZ"
      },
      "execution_count": null,
      "outputs": []
    },
    {
      "cell_type": "code",
      "source": [],
      "metadata": {
        "id": "9ER4Cqmend-0"
      },
      "execution_count": null,
      "outputs": []
    },
    {
      "cell_type": "code",
      "source": [],
      "metadata": {
        "id": "JOTgdMrBnd8Y"
      },
      "execution_count": null,
      "outputs": []
    },
    {
      "cell_type": "code",
      "source": [],
      "metadata": {
        "id": "AY51GwE_nd56"
      },
      "execution_count": null,
      "outputs": []
    },
    {
      "cell_type": "code",
      "source": [],
      "metadata": {
        "id": "4AAoaV58nd24"
      },
      "execution_count": null,
      "outputs": []
    }
  ]
}
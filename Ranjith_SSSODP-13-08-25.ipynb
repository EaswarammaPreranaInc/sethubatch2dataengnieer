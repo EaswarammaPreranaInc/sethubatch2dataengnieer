{
  "nbformat": 4,
  "nbformat_minor": 0,
  "metadata": {
    "colab": {
      "provenance": [],
      "include_colab_link": true
    },
    "kernelspec": {
      "name": "python3",
      "display_name": "Python 3"
    },
    "language_info": {
      "name": "python"
    }
  },
  "cells": [
    {
      "cell_type": "markdown",
      "metadata": {
        "id": "view-in-github",
        "colab_type": "text"
      },
      "source": [
        "<a href=\"https://colab.research.google.com/github/Addakularanjith123/DE-SSO/blob/main/Copy_of_DE_SSO_Programs.ipynb\" target=\"_parent\"><img src=\"https://colab.research.google.com/assets/colab-badge.svg\" alt=\"Open In Colab\"/></a>"
      ]
    },
    {
      "cell_type": "code",
      "execution_count": null,
      "metadata": {
        "colab": {
          "base_uri": "https://localhost:8080/"
        },
        "id": "z5c4EtZr1ia9",
        "outputId": "3bee24c6-9c8c-41cc-fd9d-e9dedc609eee"
      },
      "outputs": [
        {
          "output_type": "stream",
          "name": "stdout",
          "text": [
            "Enter a:5\n",
            "Enter b:\"Ranjith\"\n",
            "values before swapping a=5 b=Ranjith\n",
            "values after swapping a=Ranjith b=5\n"
          ]
        }
      ],
      "source": [
        "a=eval(input(\"Enter a:\"))\n",
        "b=eval(input(\"Enter b:\"))\n",
        "print(f'values before swapping a={a} b={b}')\n",
        "# a=b\n",
        "# b=a\n",
        "a,b=b,a\n",
        "print(f'values after swapping a={a} b={b}')"
      ]
    },
    {
      "cell_type": "code",
      "source": [
        "#  Find  outputs  (Home  work)\n",
        "x = 25\n",
        "y = F'{x}'\n",
        "print(y) #25\n",
        "print(type(y)) #<class str>\n",
        "x = 10.8\n",
        "y = F'{x}'\n",
        "print(y) #10.8\n",
        "print(type(y)) #<class str>\n",
        "x = [10,20,30,40]\n",
        "y = F'{x}'\n",
        "print(y) #[10,20,30,40]\n",
        "print(type(y)) ##<class str>"
      ],
      "metadata": {
        "colab": {
          "base_uri": "https://localhost:8080/"
        },
        "id": "8WU9fQnl4eqf",
        "outputId": "a58261e4-ecf3-4f66-df98-21b226354cb8"
      },
      "execution_count": null,
      "outputs": [
        {
          "output_type": "stream",
          "name": "stdout",
          "text": [
            "25\n",
            "<class 'str'>\n",
            "10.8\n",
            "<class 'str'>\n",
            "[10, 20, 30, 40]\n",
            "<class 'str'>\n"
          ]
        }
      ]
    },
    {
      "cell_type": "code",
      "source": [
        "#Find  outputs  (Home  work)\n",
        "a ,  b , c = 25 , 10.8 , 'Hyd'\n",
        "print(F'{a}  \\t   {b}   \\t  {c}') #25 10.8  'Hyd'\n",
        "print(F'a = {a}  \\t  b  =  {b}  \\t  c  =  {c}') # a=25  b=10.8  c='Hyd'\n",
        "print(F'{a=}  \\t   {b=}   \\t  {c=}') #25 10.8  'Hyd'\n",
        "print(F'{a:}  \\t   {b:.6f}   \\t  {c:}') #a  =  {a}  \t  b  =  {b}  \t  c  =   {c}\n",
        "print('a  =  {a}  \\t  b  =  {b}  \\t  c  =   {c}') # a=25  b=10.8  c='Hyd'\n",
        "print(F'a  =  a  \\t  b  =  b  \\t  c  =  c') # a  =  a  \t  b  =  b  \t  c  =  c\n",
        "# print(F'{x =}  \\t   {y =}   \\t  {z=}') #Error"
      ],
      "metadata": {
        "colab": {
          "base_uri": "https://localhost:8080/"
        },
        "id": "Z_1gmtM84flf",
        "outputId": "68d6a568-2673-48c8-ef4b-de5731f5776e"
      },
      "execution_count": null,
      "outputs": [
        {
          "output_type": "stream",
          "name": "stdout",
          "text": [
            "25  \t   10.8   \t  Hyd\n",
            "a = 25  \t  b  =  10.8  \t  c  =  Hyd\n",
            "a=25  \t   b=10.8   \t  c='Hyd'\n",
            "25  \t   10.800000   \t  Hyd\n",
            "a  =  {a}  \t  b  =  {b}  \t  c  =   {c}\n",
            "a  =  a  \t  b  =  b  \t  c  =  c\n"
          ]
        }
      ]
    },
    {
      "cell_type": "code",
      "source": [
        "x = 25\n",
        "print(F'{x}')  #  25\n",
        "print(F'{{x}}')   #  {x}\n",
        "print(F'{{{x}}}')  #   {25}\n",
        "print(F'{{{{x}}}}') # {{x}}\n",
        "print(F'{{{{{x}}}}}') #{{25}}\n",
        "print(F'{{{{{{x}}}}}}') # {{{x}}}\n",
        "print(F'{{{{{{{x}}}}}}}') # {{{25}}}\n",
        "print(F'{{{{{{{{x}}}}}}}}') #{{{{x}}}}\n",
        "\n",
        "\n",
        "'''\n",
        "1) What  is  printed  when  'x'  is  in  even  number  of  braces ?  --->  'x'  itself\n",
        "\n",
        "2) What  is  printed  when  'x'  is  in  odd  number  of  braces ?  --->  Value   of  'x'  in  the  form  of  string\n",
        "\n",
        "3) How  many  braces  are  printed  in  the  output ?  --->  Number  of  braces  //  2\n",
        "'''\n"
      ],
      "metadata": {
        "colab": {
          "base_uri": "https://localhost:8080/",
          "height": 192
        },
        "id": "T8_ydPbw4fn9",
        "outputId": "cf4583c4-3c9b-4808-f1d7-03b78f340575"
      },
      "execution_count": null,
      "outputs": [
        {
          "output_type": "stream",
          "name": "stdout",
          "text": [
            "25\n",
            "{x}\n",
            "{25}\n",
            "{{x}}\n",
            "{{25}}\n",
            "{{{x}}}\n",
            "{{{25}}}\n",
            "{{{{x}}}}\n"
          ]
        },
        {
          "output_type": "execute_result",
          "data": {
            "text/plain": [
              "\"\\n1) What  is  printed  when  'x'  is  in  even  number  of  braces ?  --->  'x'  itself\\n\\n2) What  is  printed  when  'x'  is  in  odd  number  of  braces ?  --->  Value   of  'x'  in  the  form  of  string\\n\\n3) How  many  braces  are  printed  in  the  output ?  --->  Number  of  braces\\xa0\\xa0//\\xa0\\xa02\\n\""
            ],
            "application/vnd.google.colaboratory.intrinsic+json": {
              "type": "string"
            }
          },
          "metadata": {},
          "execution_count": 21
        }
      ]
    },
    {
      "cell_type": "code",
      "source": [
        "'''Hint:  Use  F  string  to  print  results\n",
        "\n",
        "Let  inputs  be  10  and  7,\n",
        "What  is  the  sum ?  --->  17\n",
        "What  is  the  difference ?  --->  3\n",
        "What  is  the  product ?  ---> 70\n",
        "What  is  the  quotient ?  --->  1.42\n",
        "What  is  the  remainder ?  --->  3\n",
        "What  is  the  largest  number ?  ---> 10\n",
        "What  is  the  smallest  number ?  --->  7\n",
        "What  is  the  sqrt  of  1st  input ?  --->  3.16\n",
        "What  is  the  result  of  power?  --->  10000000\n",
        "What  is  the  gcd  of  2  numbers ?  ---> 1\n",
        "What  is  the  factorial   of  1st  input ?  ---> 10!\n",
        "'''\n",
        "import builtins\n",
        "import math\n",
        "intput1=eval(input(\"enter input1 value\"))\n",
        "input2=eval(input(\"enter input2 value\"))\n",
        "print(f'sum of {intput1} and {input2} is {intput1+input2}')\n",
        "print(f'difference of {intput1} and {input2} is {intput1-input2}')\n",
        "print(f'product of {intput1} and {input2} is {intput1*input2}')\n",
        "print(f'quotient of {intput1} and {input2} is {intput1/input2}')\n",
        "print(f'remainder of {intput1} and {input2} is {intput1%input2}')\n",
        "print(f'largest of {intput1} and {input2} is {max(intput1,input2)}')\n",
        "print(f'smallest of {intput1} and {input2} is {min(intput1,input2)}')\n",
        "print(f'sqrt of {intput1} is {intput1**0.5}')\n",
        "print(f'{intput1} power {input2} is {intput1**input2}')\n",
        "print(f'gcd of {intput1} and {input2} is {math.gcd(intput1,input2)}')\n",
        "print(f'factorial of {intput1} is {math.factorial(intput1)}')"
      ],
      "metadata": {
        "id": "0LaI36QP4fqZ"
      },
      "execution_count": null,
      "outputs": []
    },
    {
      "cell_type": "code",
      "source": [],
      "metadata": {
        "id": "RzhvHds74fs2"
      },
      "execution_count": null,
      "outputs": []
    },
    {
      "cell_type": "code",
      "source": [],
      "metadata": {
        "id": "OHQyCyhUAN_P"
      },
      "execution_count": null,
      "outputs": []
    },
    {
      "cell_type": "code",
      "source": [],
      "metadata": {
        "id": "09dnqksiAOB0"
      },
      "execution_count": null,
      "outputs": []
    },
    {
      "cell_type": "code",
      "source": [],
      "metadata": {
        "id": "5yHTMeXGAOEl"
      },
      "execution_count": null,
      "outputs": []
    },
    {
      "cell_type": "code",
      "source": [],
      "metadata": {
        "id": "8FuPtocpAOHS"
      },
      "execution_count": null,
      "outputs": []
    },
    {
      "cell_type": "code",
      "source": [],
      "metadata": {
        "id": "08rcLBqGAOKD"
      },
      "execution_count": null,
      "outputs": []
    },
    {
      "cell_type": "code",
      "source": [],
      "metadata": {
        "id": "Mf7YIiq6AOM4"
      },
      "execution_count": null,
      "outputs": []
    },
    {
      "cell_type": "code",
      "source": [],
      "metadata": {
        "id": "SjT-l72NAOPp"
      },
      "execution_count": null,
      "outputs": []
    },
    {
      "cell_type": "code",
      "source": [],
      "metadata": {
        "id": "Ya2iojB4AOSs"
      },
      "execution_count": null,
      "outputs": []
    },
    {
      "cell_type": "code",
      "source": [],
      "metadata": {
        "id": "dqP5RDr4AOVp"
      },
      "execution_count": null,
      "outputs": []
    },
    {
      "cell_type": "code",
      "source": [],
      "metadata": {
        "id": "Fu6QMRQlAOYa"
      },
      "execution_count": null,
      "outputs": []
    },
    {
      "cell_type": "code",
      "source": [],
      "metadata": {
        "id": "SeIbN3AKAObt"
      },
      "execution_count": null,
      "outputs": []
    },
    {
      "cell_type": "code",
      "source": [],
      "metadata": {
        "id": "VSip5j7u4fva"
      },
      "execution_count": null,
      "outputs": []
    },
    {
      "cell_type": "code",
      "source": [],
      "metadata": {
        "id": "sp1Ym_g34fzF"
      },
      "execution_count": null,
      "outputs": []
    },
    {
      "cell_type": "code",
      "source": [],
      "metadata": {
        "id": "X1JDW-dp4f1_"
      },
      "execution_count": null,
      "outputs": []
    },
    {
      "cell_type": "code",
      "source": [],
      "metadata": {
        "id": "ftv6gJ9y4f4i"
      },
      "execution_count": null,
      "outputs": []
    },
    {
      "cell_type": "code",
      "source": [
        "'''Hint:  Use  F  string  to  print  results\n",
        "\n",
        "Let  inputs  be  10  and  7,\n",
        "What  is  the  sum ?  --->  17\n",
        "What  is  the  difference ?  --->  3\n",
        "What  is  the  product ?  ---> 70\n",
        "What  is  the  quotient ?  --->  1.42\n",
        "What  is  the  remainder ?  --->  3\n",
        "What  is  the  largest  number ?  ---> 10\n",
        "What  is  the  smallest  number ?  --->  7\n",
        "What  is  the  sqrt  of  1st  input ?  --->  3.16\n",
        "What  is  the  result  of  power?  --->  10000000\n",
        "What  is  the  gcd  of  2  numbers ?  ---> 1\n",
        "What  is  the  factorial   of  1st  input ?  ---> 10!\n",
        "'''\n",
        "import builtins\n",
        "import math\n",
        "intput1=eval(input(\"enter input1 value\"))\n",
        "input2=eval(input(\"enter input2 value\"))\n",
        "\n",
        "\n",
        "\n",
        "\n",
        "\n",
        "\n",
        "\n",
        "\n",
        "\n",
        "\n",
        "\n",
        "\n",
        "\n",
        "\n",
        "\n",
        "\n",
        "\n",
        "\n",
        "\n",
        "\n",
        "a=eval(input(\"Enter a:\"))\n",
        "b=eval(input(\"Enter b:\"))\n",
        "print(f'values before swapping a={a} b={b}')\n",
        "# a=b\n",
        "# b=a\n",
        "a,b=b,a\n",
        "print(f'values after swapping a={a} b={b}')\n"
      ],
      "metadata": {
        "colab": {
          "base_uri": "https://localhost:8080/"
        },
        "id": "yV1w93Fx4f7x",
        "outputId": "e02c1a00-9730-441a-e0e5-c18058688970"
      },
      "execution_count": null,
      "outputs": [
        {
          "name": "stdout",
          "output_type": "stream",
          "text": [
            "enter input1 value55\n",
            "enter input2 value44\n"
          ]
        }
      ]
    },
    {
      "cell_type": "code",
      "source": [
        "'''Hint:  Use  F  string  to  print  results\n",
        "\n",
        "Let  inputs  be  10  and  7,\n",
        "What  is  the  sum ?  --->  17\n",
        "What  is  the  difference ?  --->  3\n",
        "What  is  the  product ?  ---> 70\n",
        "What  is  the  quotient ?  --->  1.42\n",
        "What  is  the  remainder ?  --->  3\n",
        "What  is  the  largest  number ?  ---> 10\n",
        "What  is  the  smallest  number ?  --->  7\n",
        "What  is  the  sqrt  of  1st  input ?  --->  3.16\n",
        "What  is  the  result  of  power?  --->  10000000\n",
        "What  is  the  gcd  of  2  numbers ?  ---> 1\n",
        "What  is  the  factorial   of  1st  input ?  ---> 10!\n",
        "'''\n",
        "import builtins\n",
        "import math\n",
        "input1=eval(input(\"enter input1 value:\"))\n",
        "input2=eval(input(\"enter input2 value:\"))\n",
        "print(f'the sum of {input1} and {input2} is {input1+input2}')\n",
        "print(f'the difference of {input1} and {input2} is {input1-input2}')\n",
        "print(f'the product of {input1} and {input2} is {input1*input2}')\n",
        "print(f'the quotient of {input1} and {input2} is {input1/input2:.2f}')\n",
        "print(f'the remainder of {input1} and {input2} is {input1%input2}')\n",
        "print(f'the maximum of {input1} and {input2} is {builtins.max(input1,input2)}')\n",
        "print(f'the minimum of {input1} and {input2} is {builtins.min(input1,input2)}')\n",
        "print(f'the square root of {input1} is {math.sqrt(input1):.2f}')\n",
        "print(f'the power of {input1} and {input2} is {builtins.pow(input1,input2)}')\n",
        "print(f'the gcd of {input1} and {input2} is {math.gcd(input1,input2)}')\n",
        "print(f'the factorial of {input1} and {input2} is {math.factorial(input1)}')"
      ],
      "metadata": {
        "colab": {
          "base_uri": "https://localhost:8080/"
        },
        "id": "vb22FmOX4f_M",
        "outputId": "2ed75153-31e3-4220-8730-476398042c8b"
      },
      "execution_count": null,
      "outputs": [
        {
          "output_type": "stream",
          "name": "stdout",
          "text": [
            "enter input1 value:10\n",
            "enter input2 value:7\n",
            "the sum of 10 and 7 is 17\n",
            "the difference of 10 and 7 is 3\n",
            "the product of 10 and 7 is 70\n",
            "the quotient of 10 and 7 is 1.43\n",
            "the remainder of 10 and 7 is 3\n",
            "the maximum of 10 and 7 is 10\n",
            "the square root of 10 is 3.16\n",
            "the power of 10 and 7 is 10000000\n",
            "the gcd of 10 and 7 is 1\n",
            "the gcd of 10 and 7 is 3628800\n"
          ]
        }
      ]
    },
    {
      "cell_type": "code",
      "source": [
        "import builtins\n",
        "import math\n",
        "input1=eval(input(\"enter input1 value:\"))\n",
        "input2=eval(input(\"enter input2 value:\"))\n",
        "print(f'{input1} + {input2} = {input1+input2}')\n",
        "print(f'{input1} - {input2} = {input1-input2}')\n",
        "print(f'{input1} * {input2} = {input1*input2}')\n",
        "print(f'{input1} / {input2} = {input1/input2}')\n",
        "print(f'{input1} % {input2} = {input1%input2}')\n",
        "print(f'max({input1},{input2})={builtins.max(input1,input2)}')\n",
        "print(f'min({input1},{input2})={builtins.min(input1,input2)}')\n",
        "print(f'{input1}^{input2}={builtins.pow(input1,input2)}')\n",
        "print(f'sqrt({input1})={math.sqrt(input1)}')\n",
        "print(f'gcd({input1},{input2})={math.gcd(input1,input2)}')\n",
        "print(f'fact({input1})={math.factorial(input1)}')"
      ],
      "metadata": {
        "colab": {
          "base_uri": "https://localhost:8080/"
        },
        "id": "vl1R6G9D3v-r",
        "outputId": "b669d428-b59a-4553-822d-0ce3e4c483ea"
      },
      "execution_count": null,
      "outputs": [
        {
          "output_type": "stream",
          "name": "stdout",
          "text": [
            "enter input1 value:10\n",
            "enter input2 value:7\n",
            "10 + 7 = 17\n",
            "10 - 7 = 3\n",
            "10 * 7 = 70\n",
            "10 / 7 = 1.4285714285714286\n",
            "10 % 7 = 3\n",
            "max(10,7)=10\n",
            "min(10,7)=7\n",
            "10^7=10000000\n",
            "sqrt(10)=3.1622776601683795\n",
            "gcd(10,7)=1\n",
            "fact(10)=3628800\n"
          ]
        }
      ]
    },
    {
      "cell_type": "code",
      "source": [
        "'''\n",
        "Write  a  program  to  swap  values  of  any  two  objects  in  a  single  statement  without  using  3rd  object\n",
        "\n",
        "Let  'x'  be  25  and  'y'  be   'Hyd'\n",
        "What  are  'x'  and  'y'  after  swap ?  ---> Hyd  and  25\n",
        "\n",
        "Hint:  Swap  references  but  not  objects\n",
        "\n",
        "\n",
        "Enter  1st  input :  25\n",
        "Enter  2nd  input : Hyd\n",
        "Before  swap :  x='25'            y='Hyd'\n",
        "After  swap :  x='Hyd'            y='25'\n",
        "'''\n",
        "x=input(f'{\"Enter x value\"}')\n",
        "y=input(f'{\"Enter y value\"}')\n",
        "print(f\" Before swap x= '{x}'    y= '{y}' \") #print(f' Before swap x= '{x}'    y= '{y}' ) the comment print gives error because interpreter upto(f'.....swap x=') as fstringend {x}' for this it gives error\n",
        "x,y=y,x\n",
        "print(f\"After swap:x='{x}'    y='{y}'\")"
      ],
      "metadata": {
        "colab": {
          "base_uri": "https://localhost:8080/"
        },
        "id": "-mBxQd1hE8w5",
        "outputId": "bac35ed4-558e-433e-b01e-580914d22cb1"
      },
      "execution_count": null,
      "outputs": [
        {
          "output_type": "stream",
          "name": "stdout",
          "text": [
            "Enter x value25\n",
            "Enter y valueHyd\n",
            " Before swap x= '25'    y= 'Hyd' \n",
            "After swap:x='Hyd'    y='25'\n"
          ]
        }
      ]
    },
    {
      "cell_type": "code",
      "source": [
        "'''\n",
        "Write  a  program  to  print   '>'  if  1st  input  >  2nd  input,\n",
        "                                               '<'  if  1st  input  <  2nd  input  and\n",
        "                                               '='  if  inputs  are  same\n",
        "\n",
        "1) What  is  the  result  if  inputs  are  10  and  20 ?  ---> <\n",
        "\n",
        "2) What  is  the  result  if  inputs  are  70  and  60 ?  --->  >\n",
        "\n",
        "3) What  is  the  result  if  inputs  are  25  and  25 ?  ---> =\n",
        "\n",
        "4) Inputs  can  be  integers , floats , strings  and  so  on\n",
        "\n",
        "5) Use  ternary  operator\n",
        "'''\n",
        "x=eval(input(\"enter x value:\"))\n",
        "y=eval(input(\"enter y value:\"))\n",
        "if x>y:\n",
        "  print('>')\n",
        "else:\n",
        "  if x<y:\n",
        "    print('<')\n",
        "  else:\n",
        "    print('=')\n",
        "print()\n",
        "#printing in a single line\n",
        "print('>' if x>y else '<' if  x<y else '=')"
      ],
      "metadata": {
        "colab": {
          "base_uri": "https://localhost:8080/"
        },
        "id": "1EKzkdevCOkn",
        "outputId": "71b6d9d7-c601-44db-df2b-b841e18338b3"
      },
      "execution_count": null,
      "outputs": [
        {
          "output_type": "stream",
          "name": "stdout",
          "text": [
            "enter x value:\"Ranjith\"\n",
            "enter y value:\"Ranjithadda\"\n",
            "<\n",
            "\n",
            "<\n"
          ]
        }
      ]
    },
    {
      "cell_type": "code",
      "source": [
        "'''\n",
        "Write  a  program  to  determine  largest  of  three  inputs  without  using  max()  function\n",
        "\n",
        "1) What  is  the  output  if  inputs  are  10 , 20  and  15 ?   --->  20\n",
        "\n",
        "2) What  is  the  output  if  inputs  are  35.8 , 42.8  and  27.9 ?   --->  42.8\n",
        "\n",
        "3) What  is  the  output  if  inputs  are  'RAMA'  , 'RAKESH'  and  'RAJESH' ?   --->  'RAMA'\n",
        "\n",
        "4) What  is   the  output  if  inputs  are  [10 , 20 , 15 , 18]  , [10 , 20 , 32, 19]  and  [10 , 20 , 25, 17] ?  ---> [10 , 20 , 32 , 19]\n",
        "\n",
        "5) Inputs  can  be  integers , floats , strings  and  so  on\n",
        "\n",
        "6) Use  nested  ternary  operator\n",
        "'''\n",
        "x=eval(input(\"enter x value:\"))\n",
        "y=eval(input(\"enter y value:\"))\n",
        "z=eval(input(\"enter z value:\"))\n",
        "if x>=y and x>=z:\n",
        "  print(x)\n",
        "elif y>=z and y>=x:\n",
        "  print(y)\n",
        "else:\n",
        "  print(z)\n",
        "\n",
        "\n"
      ],
      "metadata": {
        "colab": {
          "base_uri": "https://localhost:8080/"
        },
        "id": "j70eaqVXzfeI",
        "outputId": "52c765f9-b15e-4d5b-d04a-99e1519046a5"
      },
      "execution_count": null,
      "outputs": [
        {
          "output_type": "stream",
          "name": "stdout",
          "text": [
            "enter x value:'RAMA'\n",
            "enter y value:'RAKESH'\n",
            "enter z value:'RAJESH'\n",
            "RAMA\n"
          ]
        }
      ]
    },
    {
      "cell_type": "code",
      "source": [
        "'''\n",
        "Write  a  program  to  print  1  if  input  is  +ve  ,  -1    if  input  is  -ve  and  0  if  input  is  0\n",
        "\n",
        "1) What  is  the  result  if  input  is  -25 ?  --->  -1\n",
        "\n",
        "2) What  is  the  result  if  input  is  75 ?  --->  1\n",
        "\n",
        "3) What  is  the  result  if  input  is  0 ?  --->  0\n",
        "\n",
        "4) Use  nested  ternary  operator\n",
        "'''\n",
        "input1=int(input(\"enter input:\"))\n",
        "if input1>0:\n",
        "  print(1)\n",
        "else:\n",
        "  if input1 <0:\n",
        "    print(-1)\n",
        "  else:\n",
        "    print(0)\n",
        "print(\"printing in a single statement\")\n",
        "print('1' if input1>0 else '-1' if input1<0 else '0')"
      ],
      "metadata": {
        "colab": {
          "base_uri": "https://localhost:8080/"
        },
        "id": "1nRD-_882w3p",
        "outputId": "8f5b4cfe-9313-4e31-a118-b28405014155"
      },
      "execution_count": null,
      "outputs": [
        {
          "output_type": "stream",
          "name": "stdout",
          "text": [
            "enter input:-25\n",
            "-1\n",
            "printing in a single statement\n",
            "-1\n"
          ]
        }
      ]
    },
    {
      "cell_type": "code",
      "source": [
        "'''\n",
        "Write  a  program  to  test  input  is  even  number  or  odd  number\n",
        "\n",
        "1) What  is  an  even  number  ?  --->  Divisible  by  2\n",
        "\n",
        "2) What  is  an  odd  number  ?  --->  Not  divisible  by  2\n",
        "\n",
        "3) Use  ternary  operator\n",
        "\n",
        "\n",
        "Enter  any  +ve  integer : 45\n",
        "Odd  number\n",
        "'''\n",
        "x=int(input(\"Enter any +ve integer:\"))\n",
        "if x%2==0:\n",
        "  print()\n",
        "else:\n",
        "  print(\"Odd number\")\n",
        "print(\"in a single line\")\n",
        "print(\"Odd number\" if x%2==1 else \"\")"
      ],
      "metadata": {
        "colab": {
          "base_uri": "https://localhost:8080/"
        },
        "id": "L6-qCbTCafvP",
        "outputId": "ba210761-1e92-4f01-d446-4551cc806fc2"
      },
      "execution_count": null,
      "outputs": [
        {
          "output_type": "stream",
          "name": "stdout",
          "text": [
            "Enter any +ve integer:45\n",
            "Odd number\n",
            "in a single line\n",
            "Odd number\n"
          ]
        }
      ]
    },
    {
      "cell_type": "code",
      "source": [],
      "metadata": {
        "id": "043F-8gJ37Un"
      },
      "execution_count": null,
      "outputs": []
    },
    {
      "cell_type": "code",
      "source": [
        "x=eval(input(\"enter x value:\"))\n",
        "y=eval(input(\"enter y value:\"))\n",
        "print(f'{x}')\n",
        "print(f'{y}')"
      ],
      "metadata": {
        "colab": {
          "base_uri": "https://localhost:8080/"
        },
        "id": "W-cK-_4932ov",
        "outputId": "0160d7e1-bcb9-4b58-b122-f741afbb1aa6"
      },
      "execution_count": null,
      "outputs": [
        {
          "output_type": "stream",
          "name": "stdout",
          "text": [
            "enter x value4\n",
            "enter y value\"ranjith\"\n",
            "4\n",
            "ranjith\n"
          ]
        }
      ]
    },
    {
      "cell_type": "code",
      "source": [
        "'''\n",
        "(Home  work)\n",
        "Write  a  program  to  swap  values  of  two  objects  using  3rd   object\n",
        "\n",
        "Let  x = 10  and  y = 25\n",
        "What  are  the  values  of  x  and  y  after  swap ?  --->  x = 25  and   y = 10\n",
        "'''\n",
        "\n",
        "\n",
        "x=eval(input(\"enter x value:\"))\n",
        "y=eval(input(\"enter y value:\"))\n",
        "print(f\" Before swap x= {x}    y= {y} \")\n",
        "temp=x\n",
        "x=y\n",
        "y=temp\n",
        "print(f\" After swap x= {x}    y= {y} \")\n"
      ],
      "metadata": {
        "colab": {
          "base_uri": "https://localhost:8080/"
        },
        "id": "U3W1WPq15VRK",
        "outputId": "6b154de6-41d7-450f-b889-e57dc2c459f2"
      },
      "execution_count": null,
      "outputs": [
        {
          "output_type": "stream",
          "name": "stdout",
          "text": [
            "enter x value20\n",
            "enter y value30\n",
            " Before swap x= '20'    y= '30' \n",
            " After swap x= '30'    y= '20' \n"
          ]
        }
      ]
    },
    {
      "cell_type": "code",
      "source": [
        "'''\n",
        "(Home  work)\n",
        "Write  a  program  to  swap  values  of  two  objects  without  using  3rd  object\n",
        "\n",
        "Hint: One  addition  and  two  subtractions\n",
        "\n",
        "x = 25\n",
        "y =  10\n",
        "'''\n",
        "\n",
        "\n",
        "x=eval(input(\"enter x value:\"))\n",
        "y=eval(input(\"enter y value:\"))\n",
        "print(f\" Before swap x= {x}    y= {y} \")\n",
        "x=x+y\n",
        "y=x-y\n",
        "x=x-y\n",
        "print(f\" After swap x= {x}    y= {y} \")"
      ],
      "metadata": {
        "colab": {
          "base_uri": "https://localhost:8080/"
        },
        "id": "OKiT4SLJ2xoN",
        "outputId": "fd4b5c02-d204-45a8-cca9-7ee7733ee4d7"
      },
      "execution_count": null,
      "outputs": [
        {
          "output_type": "stream",
          "name": "stdout",
          "text": [
            "enter x value50\n",
            "enter y value100\n",
            " Before swap x= 50    y= 100 \n",
            " After swap x= 100    y= 50 \n"
          ]
        }
      ]
    },
    {
      "cell_type": "code",
      "source": [
        "'''\n",
        "(Home  work)\n",
        "Write  a  program  to  swap  values  of  two  objects  without  using  3rd  object\n",
        "\n",
        "Hint: One  multiplication  and  two  divisions\n",
        "\n",
        "x =  -200\n",
        "y =  100\n",
        "'''\n",
        "\n",
        "\n",
        "\n",
        "x=eval(input(\"enter x value:\"))\n",
        "y=eval(input(\"enter y value:\"))\n",
        "print(f\" Before swap x= {x}    y= {y} \")\n",
        "x=x*y\n",
        "y=x//y\n",
        "x=x//y\n",
        "print(f\" After swap x= {x}    y= {y} \")\n",
        "\n",
        "\n",
        "\n"
      ],
      "metadata": {
        "colab": {
          "base_uri": "https://localhost:8080/"
        },
        "id": "0aDPnqcR2xyW",
        "outputId": "8ce20f3b-da65-4b2c-d07f-cbb1a9215ecc"
      },
      "execution_count": null,
      "outputs": [
        {
          "output_type": "stream",
          "name": "stdout",
          "text": [
            "enter x value:44\n",
            "enter y value:55\n",
            " Before swap x= 44    y= 55 \n",
            " After swap x= 55    y= 44 \n"
          ]
        }
      ]
    },
    {
      "cell_type": "code",
      "source": [],
      "metadata": {
        "id": "T3UCgKBx2x7q"
      },
      "execution_count": null,
      "outputs": []
    },
    {
      "cell_type": "code",
      "source": [],
      "metadata": {
        "id": "Dladasr-2yEA"
      },
      "execution_count": null,
      "outputs": []
    },
    {
      "cell_type": "code",
      "source": [],
      "metadata": {
        "id": "v20y09ox2yNR"
      },
      "execution_count": null,
      "outputs": []
    },
    {
      "cell_type": "code",
      "source": [],
      "metadata": {
        "id": "qYKyt4RjSar4"
      },
      "execution_count": null,
      "outputs": []
    },
    {
      "cell_type": "code",
      "source": [],
      "metadata": {
        "id": "uma4wlskSaoi"
      },
      "execution_count": null,
      "outputs": []
    },
    {
      "cell_type": "code",
      "source": [
        "# Find  outputs  (Home  work)\n",
        "for  i   in   range(1 , 8):\n",
        "\tprint(i)\n",
        "\tif  i % 3  == 0:\n",
        "\t\t\tcontinue\n",
        "\telse:\n",
        "\t\t\tprint('Sec')\n",
        "\tprint('Hello')\n",
        "# End of loop\n",
        "print('Outside loop')"
      ],
      "metadata": {
        "colab": {
          "base_uri": "https://localhost:8080/"
        },
        "id": "RtxR8od0Sal6",
        "outputId": "770bb3f1-6e3c-4cb8-bbee-a4df4975bbd9"
      },
      "execution_count": null,
      "outputs": [
        {
          "output_type": "stream",
          "name": "stdout",
          "text": [
            "1\n",
            "Sec\n",
            "Hello\n",
            "2\n",
            "Sec\n",
            "Hello\n",
            "3\n",
            "4\n",
            "Sec\n",
            "Hello\n",
            "5\n",
            "Sec\n",
            "Hello\n",
            "6\n",
            "7\n",
            "Sec\n",
            "Hello\n",
            "Outside loop\n"
          ]
        }
      ]
    },
    {
      "cell_type": "code",
      "source": [
        "# Find outputs (Home  work)\n",
        "for  i   in   range(1 , 8):\n",
        "\tprint(i)\n",
        "\tif   i % 3 == 0:\n",
        "\t\tbreak\n",
        "\telse:\n",
        "\t\tprint('Sec')\n",
        "\tprint('Hello')\n",
        "# End  of  the  loop\n",
        "print('Outside loop')"
      ],
      "metadata": {
        "colab": {
          "base_uri": "https://localhost:8080/"
        },
        "id": "DC1qkJJlvKEl",
        "outputId": "9be01e11-6662-4393-ede4-c1621373d5b5"
      },
      "execution_count": null,
      "outputs": [
        {
          "output_type": "stream",
          "name": "stdout",
          "text": [
            "1\n",
            "Sec\n",
            "Hello\n",
            "2\n",
            "Sec\n",
            "Hello\n",
            "3\n",
            "Outside loop\n"
          ]
        }
      ]
    },
    {
      "cell_type": "code",
      "source": [
        "# Find  outputs  (Home  work)\n",
        "for  i   in   range(1 , 8):\n",
        "\tprint(i)\n",
        "\tif   i % 3 == 0:\n",
        "\t\tpass\n",
        "\t\tprint('Hyd')\n",
        "\telse:\n",
        "\t\tprint('Sec')\n",
        "\tprint('Hello')\n",
        "# End  of  the  loop\n",
        "print('Outside loop')"
      ],
      "metadata": {
        "colab": {
          "base_uri": "https://localhost:8080/"
        },
        "id": "asD-HiMNvJ0Q",
        "outputId": "4f1084c4-44cc-46a5-96a6-54cddbf8696c"
      },
      "execution_count": null,
      "outputs": [
        {
          "output_type": "stream",
          "name": "stdout",
          "text": [
            "1\n",
            "Sec\n",
            "Hello\n",
            "2\n",
            "Sec\n",
            "Hello\n",
            "3\n",
            "Hyd\n",
            "Hello\n",
            "4\n",
            "Sec\n",
            "Hello\n",
            "5\n",
            "Sec\n",
            "Hello\n",
            "6\n",
            "Hyd\n",
            "Hello\n",
            "7\n",
            "Sec\n",
            "Hello\n",
            "Outside loop\n"
          ]
        }
      ]
    },
    {
      "cell_type": "code",
      "source": [
        "# Find  outputs  (Home  work)\n",
        "for  i   in   range(1 , 8):\n",
        "\tprint(i)\n",
        "\tif   i % 3 == 0:\n",
        "\t\texit()\n",
        "\telse:\n",
        "\t\tprint('Sec')\n",
        "\tprint('Hello')\n",
        "# End  of  the  loop\n",
        "print('Outside loop')"
      ],
      "metadata": {
        "colab": {
          "base_uri": "https://localhost:8080/"
        },
        "id": "H3mDXyeQvgwt",
        "outputId": "c6b8f258-7bce-42b6-e86d-2fb788ec9f8e"
      },
      "execution_count": null,
      "outputs": [
        {
          "output_type": "stream",
          "name": "stdout",
          "text": [
            "1\n",
            "Sec\n",
            "Hello\n",
            "2\n",
            "Sec\n",
            "Hello\n",
            "3\n",
            "Hello\n",
            "4\n",
            "Sec\n",
            "Hello\n",
            "5\n",
            "Sec\n",
            "Hello\n",
            "6\n",
            "Hello\n",
            "7\n",
            "Sec\n",
            "Hello\n",
            "Outside loop\n"
          ]
        }
      ]
    },
    {
      "cell_type": "code",
      "source": [
        "# Find  outputs  (Home  work)\n",
        "for  i  in  range(1 , 8):\n",
        "\tprint(i)\n",
        "\tif   i % 3 == 0:\n",
        "\t\tcontinue\n",
        "\telse:\n",
        "\t\tprint('Sec')\n",
        "\tprint('Hello')\n",
        "else:\n",
        "\tprint('else  suite')\n",
        "# End  of  the  loop\n",
        "print('Outside  loop')"
      ],
      "metadata": {
        "colab": {
          "base_uri": "https://localhost:8080/"
        },
        "id": "PIgOlchHSajj",
        "outputId": "1967a9a3-59f5-4644-bac6-b37c1ddea7d0"
      },
      "execution_count": null,
      "outputs": [
        {
          "output_type": "stream",
          "name": "stdout",
          "text": [
            "1\n",
            "Sec\n",
            "Hello\n",
            "2\n",
            "Sec\n",
            "Hello\n",
            "3\n",
            "4\n",
            "Sec\n",
            "Hello\n",
            "5\n",
            "Sec\n",
            "Hello\n",
            "6\n",
            "7\n",
            "Sec\n",
            "Hello\n",
            "else  suite\n",
            "Outside  loop\n"
          ]
        }
      ]
    },
    {
      "cell_type": "code",
      "source": [
        "# Find  outputs  (Home  work)\n",
        "for  i  in  range(1 , 8):\n",
        "\tprint(i)\n",
        "\tif  i % 3 == 0:\n",
        "\t\tbreak\n",
        "\telse:\n",
        "\t\tprint('Sec')\n",
        "\tprint('Hello')\n",
        "else:\n",
        "\tprint('else  suite')\n",
        "#End   of  the  loop\n",
        "print('Outside  loop')"
      ],
      "metadata": {
        "colab": {
          "base_uri": "https://localhost:8080/"
        },
        "id": "4q1UAsVN7lEB",
        "outputId": "b5e19860-7e0a-455b-c86f-d067fe5d4595"
      },
      "execution_count": null,
      "outputs": [
        {
          "output_type": "stream",
          "name": "stdout",
          "text": [
            "1\n",
            "Sec\n",
            "Hello\n",
            "2\n",
            "Sec\n",
            "Hello\n",
            "3\n",
            "Outside  loop\n"
          ]
        }
      ]
    },
    {
      "cell_type": "code",
      "source": [
        "# Find  outputs  (Home  work)\n",
        "for  i  in  range(1 , 8):\n",
        "\tprint(i)\n",
        "\tif  i == 8:\n",
        "\t\tbreak\n",
        "\telse:\n",
        "\t\tprint('Sec')\n",
        "\tprint('Hello')\n",
        "else:\n",
        "\tprint('else  suite')\n",
        "# End  of  the  loop\n",
        "print('Outside loop')"
      ],
      "metadata": {
        "colab": {
          "base_uri": "https://localhost:8080/"
        },
        "id": "3TLzDO177k26",
        "outputId": "c93f936a-c69b-4c04-e3db-14972c5b62ab"
      },
      "execution_count": null,
      "outputs": [
        {
          "output_type": "stream",
          "name": "stdout",
          "text": [
            "1\n",
            "Sec\n",
            "Hello\n",
            "2\n",
            "Sec\n",
            "Hello\n",
            "3\n",
            "Sec\n",
            "Hello\n",
            "4\n",
            "Sec\n",
            "Hello\n",
            "5\n",
            "Sec\n",
            "Hello\n",
            "6\n",
            "Sec\n",
            "Hello\n",
            "7\n",
            "Sec\n",
            "Hello\n",
            "else  suite\n",
            "Outside loop\n"
          ]
        }
      ]
    },
    {
      "cell_type": "code",
      "source": [],
      "metadata": {
        "id": "1IuHh49MAtJo"
      },
      "execution_count": null,
      "outputs": []
    },
    {
      "cell_type": "code",
      "source": [],
      "metadata": {
        "id": "jzQwBlELVMUI"
      },
      "execution_count": null,
      "outputs": []
    },
    {
      "cell_type": "markdown",
      "source": [
        "Errors\n"
      ],
      "metadata": {
        "id": "cEm2HSbpVKyS"
      }
    },
    {
      "cell_type": "code",
      "source": [
        "# Identify Error  (Home  work)\n",
        "if ():\n",
        "\tprint('Hyd')\n",
        "\tcontinue #without for or while loops\n",
        "\tprint('Sec')"
      ],
      "metadata": {
        "id": "Vf2g0y9CVON1"
      },
      "execution_count": null,
      "outputs": []
    },
    {
      "cell_type": "code",
      "source": [
        "# Identify Error  (Home  work)\n",
        "if(10 , 20 , 30):\n",
        "\tprint('Hyd')\n",
        "\tbreak #without for or while loops\n",
        "\tprint('Sec')"
      ],
      "metadata": {
        "id": "Gf4wJXGhSahF"
      },
      "execution_count": null,
      "outputs": []
    },
    {
      "cell_type": "code",
      "source": [
        "#  Walrus   operator (:=)  demo  program\n",
        "print(a := 25) #25\n",
        "print(a = 25) #Error or a=25\n",
        "print(a) #25\n",
        "print(a := 6 + 7) #13\n",
        "print(a) #13\n",
        "print((a := 6) + 7)#13\n",
        "print(a) #13\n",
        "print((a=6)+7)#Error"
      ],
      "metadata": {
        "colab": {
          "base_uri": "https://localhost:8080/"
        },
        "id": "wldqgTmOSac0",
        "outputId": "81a7d3e9-d51b-4957-d331-dcb2836c1176"
      },
      "execution_count": null,
      "outputs": [
        {
          "output_type": "stream",
          "name": "stdout",
          "text": [
            "25\n",
            "25\n",
            "13\n",
            "13\n",
            "13\n",
            "6\n"
          ]
        }
      ]
    },
    {
      "cell_type": "code",
      "source": [
        "# Find  outputs  (Home  work)\n",
        "a = 0\n",
        "if  a == 0:\n",
        "\tprint('Hyd') #Hyd\n",
        "else:\n",
        "\tprint('Sec')\n",
        "if  b := 0:\n",
        "\tprint('Hyd')\n",
        "else:\n",
        "\tprint('Sec : ' , b) #Sec:\n",
        "if  c = 0: #Syntax Error\n",
        "\tprint('Hyd')\n",
        "else:\n",
        "\tprint('Sec') #Sec"
      ],
      "metadata": {
        "colab": {
          "base_uri": "https://localhost:8080/",
          "height": 106
        },
        "id": "zUdB96sqSaQF",
        "outputId": "c31a9acd-23af-4899-9d2d-c80075c1ebf7"
      },
      "execution_count": null,
      "outputs": [
        {
          "output_type": "error",
          "ename": "SyntaxError",
          "evalue": "invalid syntax. Maybe you meant '==' or ':=' instead of '='? (ipython-input-2100912604.py, line 11)",
          "traceback": [
            "\u001b[0;36m  File \u001b[0;32m\"/tmp/ipython-input-2100912604.py\"\u001b[0;36m, line \u001b[0;32m11\u001b[0m\n\u001b[0;31m    if  c = 0: #Error\u001b[0m\n\u001b[0m        ^\u001b[0m\n\u001b[0;31mSyntaxError\u001b[0m\u001b[0;31m:\u001b[0m invalid syntax. Maybe you meant '==' or ':=' instead of '='?\n"
          ]
        }
      ]
    },
    {
      "cell_type": "code",
      "source": [
        "#  del  operator  demo program  (Home  work)\n",
        "a = 25\n",
        "print(a) #25\n",
        "del a\n",
        "# print(a) #Error"
      ],
      "metadata": {
        "colab": {
          "base_uri": "https://localhost:8080/"
        },
        "id": "D4O6pLqRdOlV",
        "outputId": "b962330c-e077-454f-96b8-175d59f60b34"
      },
      "execution_count": null,
      "outputs": [
        {
          "output_type": "stream",
          "name": "stdout",
          "text": [
            "25\n"
          ]
        }
      ]
    },
    {
      "cell_type": "code",
      "source": [
        "# Find  outputs  (Home  work)\n",
        "a = b = c = 25\n",
        "print(a , b , c) #25,25,25\n",
        "del   a\n",
        "print(b , c) #25,25\n",
        "print(a) #Error\n",
        "del   b\n",
        "print(c) #25\n",
        "print(b)#Error\n",
        "del c\n",
        "print(c) #Error"
      ],
      "metadata": {
        "colab": {
          "base_uri": "https://localhost:8080/"
        },
        "id": "_ACqH4YXdOhr",
        "outputId": "a7b39441-5bf7-4098-d3e6-8218edbb8265"
      },
      "execution_count": null,
      "outputs": [
        {
          "output_type": "stream",
          "name": "stdout",
          "text": [
            "25 25 25\n",
            "25 25\n",
            "25\n"
          ]
        }
      ]
    },
    {
      "cell_type": "code",
      "source": [
        "#  Can  multiple  objects  be  deleted  with  same  del  operator ?\n",
        "a , b , c = 25 , 10.8 , 'Hyd'\n",
        "print(a , b , c) #(25 10.8 'Hyd')\n",
        "del   a , b , c\n",
        "print(a)#Error\n",
        "print(b)#Error\n",
        "print(c)#Error"
      ],
      "metadata": {
        "colab": {
          "base_uri": "https://localhost:8080/"
        },
        "id": "F7L5H5IQdOfK",
        "outputId": "543deb7c-fd39-46ef-bfce-afdb33d2c85e"
      },
      "execution_count": null,
      "outputs": [
        {
          "output_type": "stream",
          "name": "stdout",
          "text": [
            "25 10.8 Hyd\n"
          ]
        }
      ]
    },
    {
      "cell_type": "code",
      "source": [
        "# Find outputs  (Home  work)\n",
        "a = [10 , 20 , 15 , 18]\n",
        "print(a) #[10 20 15 18]\n",
        "del  a[2]\n",
        "print(a) #[10 20 18]\n",
        "del  a\n",
        "print(a) #Error\n",
        "print(a[0])#Error"
      ],
      "metadata": {
        "colab": {
          "base_uri": "https://localhost:8080/"
        },
        "id": "gVVWR_4qdOcv",
        "outputId": "870e590e-67af-4a0f-cc97-9ca3f14712dd"
      },
      "execution_count": null,
      "outputs": [
        {
          "output_type": "stream",
          "name": "stdout",
          "text": [
            "[10, 20, 15, 18]\n",
            "[10, 20, 18]\n"
          ]
        }
      ]
    },
    {
      "cell_type": "code",
      "source": [
        "# Find outputs  (Home work)\n",
        "a = (10 , 20 , 15 , 18)\n",
        "print(a) #(10 20 15 18)\n",
        "print(a[0]) # 10\n",
        "del  a[2] #(10 20 18)\n",
        "del  a\n",
        "print(a) #Error\n",
        "print(a[0]) #Error"
      ],
      "metadata": {
        "colab": {
          "base_uri": "https://localhost:8080/"
        },
        "id": "bHKoMgAFdOaG",
        "outputId": "e1706d4f-b5e3-4f8e-a920-c026ad56c20b"
      },
      "execution_count": null,
      "outputs": [
        {
          "output_type": "stream",
          "name": "stdout",
          "text": [
            "(10, 20, 15, 18)\n",
            "10\n"
          ]
        }
      ]
    },
    {
      "cell_type": "code",
      "source": [],
      "metadata": {
        "id": "bofHDsT2dOXf"
      },
      "execution_count": null,
      "outputs": []
    },
    {
      "cell_type": "code",
      "source": [],
      "metadata": {
        "id": "39YZyTQ-dOVA"
      },
      "execution_count": null,
      "outputs": []
    },
    {
      "cell_type": "code",
      "source": [
        "'''\n",
        "Write  a  program  to  search  for  an  element  in  the  list  and  print  index  of  each  element\n",
        "and  also  number  of  times  it  is  found (Assume  that  list  may  contain  duplicate  elements)\n",
        "\n",
        "List :   [10 , 20 , 15 , 12 , 18 , 15 , 19 , 14 , 15 , 14]\n",
        "\n",
        "Search  for  15\n",
        "\n",
        "Outputs :  15  is  found  at  index  2\n",
        "                 15  is  found  at  index  5\n",
        "                 15  is  found  at  index  8\n",
        "                 15  is  found   3  times\n",
        "'''\n",
        "\n",
        "\n",
        "lst=[10 , 20 , 15 , 12 , 18 , 15 , 19 , 14 , 15 , 14]\n",
        "search_element=eval(input(\"enter search element\"))\n",
        "count=0\n",
        "for i in range(len(lst)):\n",
        "  if search_element==lst[i]:\n",
        "    print(\"search element at index\"+lst[i])\n",
        "    count=count+1\n",
        "print(\"the element\"+search_element+\"is repeted times is\"+count)"
      ],
      "metadata": {
        "id": "y738Us24ZL-T"
      },
      "execution_count": null,
      "outputs": []
    },
    {
      "cell_type": "code",
      "source": [
        "# Define the list\n",
        "lst = [10, 20, 15, 12, 18, 15, 19, 14, 15, 14]\n",
        "\n",
        "# Element to search\n",
        "search_element = 15\n",
        "\n",
        "# Initialize count\n",
        "count = 0\n",
        "\n",
        "# Loop through the list with index\n",
        "for index in range(len(lst)):\n",
        "    if lst[index] == search_element:\n",
        "        print(f\"{search_element} is found at index {index}\")\n",
        "        count += 1\n",
        "\n",
        "# Print total count\n",
        "print(f\"{search_element} is found {count} times\")\n"
      ],
      "metadata": {
        "id": "x08WYgjQdOSr"
      },
      "execution_count": null,
      "outputs": []
    },
    {
      "cell_type": "code",
      "source": [
        "n=eval(input(\"enter no of elements in the list\"))\n",
        "lst=[]\n",
        "for i in range(1,n+1):\n",
        "  ele=eval(input(f\"enter {i} element:\"))\n",
        "  lst.append(ele)\n",
        "search=eval(input(\"enter element you want to seach:\"))\n",
        "c=0\n",
        "for j in range(len(lst)):\n",
        "  if search==lst[j]:\n",
        "    print(f\"seach element is found at {j} index.\")\n",
        "    c=c+1\n",
        "print(f\"the {search} element is found {c} times.\")"
      ],
      "metadata": {
        "colab": {
          "base_uri": "https://localhost:8080/"
        },
        "id": "XscPliFLdOQK",
        "outputId": "89351f4e-8101-4808-a378-d981b591a7f2"
      },
      "execution_count": null,
      "outputs": [
        {
          "output_type": "stream",
          "name": "stdout",
          "text": [
            "enter no of elements in the list5\n",
            "enter 1 element11\n",
            "enter 2 element22\n",
            "enter 3 element11\n",
            "enter 4 element33\n",
            "enter 5 element22\n",
            "enter element you want to seach11\n",
            "seach element is found at 0 index\n",
            "seach element is found at 2 index\n",
            "the 11 search element is found 2 times\n"
          ]
        }
      ]
    },
    {
      "cell_type": "code",
      "source": [],
      "metadata": {
        "id": "bQlu37ibdONM"
      },
      "execution_count": null,
      "outputs": []
    },
    {
      "cell_type": "code",
      "source": [],
      "metadata": {
        "id": "CqbYpyAIdOKw"
      },
      "execution_count": null,
      "outputs": []
    },
    {
      "cell_type": "code",
      "source": [
        "import numpy as np\n",
        "n=eval(input(\"enter no of elements in the arry\"))\n",
        "arr=[]\n",
        "for r in range(1,n+1):\n",
        "  ele=eval(input(f\"enter {r} th element\"))\n",
        "  arr.append(ele)\n",
        "arr=np.array(arr)\n",
        "print(arr)\n",
        "# L=len(arr)\n",
        "# print(arr[2])\n",
        "for i in range(len(arr)):\n",
        "  for j in range(len(arr)-i-1):\n",
        "    if arr[j] > arr[j + 1]:\n",
        "      temp=arr[j]\n",
        "      arr[j]=arr[j+1]\n",
        "      arr[j+1]=temp\n",
        "      # arr[j], arr[j + 1] = arr[j + 1], arr[j]\n",
        "print(arr)"
      ],
      "metadata": {
        "id": "knfjA9twdOIU"
      },
      "execution_count": null,
      "outputs": []
    },
    {
      "cell_type": "code",
      "source": [
        "n=eval(input(\"enter no of elements in the list\"))\n",
        "lst=[]\n",
        "for i in range(1,n+1):\n",
        "  ele=eval(input(f\"enter {i} element\"))\n",
        "  lst.append(ele)\n",
        "print(lst)\n"
      ],
      "metadata": {
        "id": "0E1axEhWdOGH",
        "colab": {
          "base_uri": "https://localhost:8080/"
        },
        "outputId": "a6fe945c-6317-4a11-cc60-6b311a5995a2"
      },
      "execution_count": null,
      "outputs": [
        {
          "output_type": "stream",
          "name": "stdout",
          "text": [
            "enter no of elements in the list3\n",
            "enter 1 element10\n",
            "enter 2 element20\n",
            "enter 3 element30\n",
            "[10, 20, 30]\n"
          ]
        }
      ]
    },
    {
      "cell_type": "code",
      "source": [
        "n=eval(input(\"enter no of elements in the list\"))\n",
        "lst=[]\n",
        "for i in range(1,n+1):\n",
        "  ele=eval(input(f\"enter {i} element\"))\n",
        "  lst.append(ele)\n",
        "print(lst)\n",
        "search_element=eval(input(\"enter element you want to search\"))\n",
        "if j in range(len(lst)):\n",
        "  if search_element==lst[j]:\n",
        "    print(f\"the element found at {}\")"
      ],
      "metadata": {
        "id": "PP4ESSLldODn",
        "colab": {
          "base_uri": "https://localhost:8080/",
          "height": 315
        },
        "outputId": "2ad29543-872b-4533-e2e2-ac31f9b2f28f"
      },
      "execution_count": null,
      "outputs": [
        {
          "name": "stdout",
          "output_type": "stream",
          "text": [
            "enter no of elements in the list3\n",
            "enter 1 element11\n",
            "enter 2 element10.8\n",
            "enter 3 element66\n",
            "[11, 10.8, 66]\n",
            "enter element you want to search66\n"
          ]
        },
        {
          "output_type": "error",
          "ename": "NameError",
          "evalue": "name 'j' is not defined",
          "traceback": [
            "\u001b[0;31m---------------------------------------------------------------------------\u001b[0m",
            "\u001b[0;31mNameError\u001b[0m                                 Traceback (most recent call last)",
            "\u001b[0;32m/tmp/ipython-input-4117181399.py\u001b[0m in \u001b[0;36m<cell line: 0>\u001b[0;34m()\u001b[0m\n\u001b[1;32m      6\u001b[0m \u001b[0mprint\u001b[0m\u001b[0;34m(\u001b[0m\u001b[0mlst\u001b[0m\u001b[0;34m)\u001b[0m\u001b[0;34m\u001b[0m\u001b[0;34m\u001b[0m\u001b[0m\n\u001b[1;32m      7\u001b[0m \u001b[0msearch_element\u001b[0m\u001b[0;34m=\u001b[0m\u001b[0meval\u001b[0m\u001b[0;34m(\u001b[0m\u001b[0minput\u001b[0m\u001b[0;34m(\u001b[0m\u001b[0;34m\"enter element you want to search\"\u001b[0m\u001b[0;34m)\u001b[0m\u001b[0;34m)\u001b[0m\u001b[0;34m\u001b[0m\u001b[0;34m\u001b[0m\u001b[0m\n\u001b[0;32m----> 8\u001b[0;31m \u001b[0;32mif\u001b[0m \u001b[0mj\u001b[0m \u001b[0;32min\u001b[0m \u001b[0mrange\u001b[0m\u001b[0;34m(\u001b[0m\u001b[0mlen\u001b[0m\u001b[0;34m(\u001b[0m\u001b[0mlst\u001b[0m\u001b[0;34m)\u001b[0m\u001b[0;34m)\u001b[0m\u001b[0;34m:\u001b[0m\u001b[0;34m\u001b[0m\u001b[0;34m\u001b[0m\u001b[0m\n\u001b[0m\u001b[1;32m      9\u001b[0m   \u001b[0;32mif\u001b[0m \u001b[0msearch_element\u001b[0m\u001b[0;34m==\u001b[0m\u001b[0mlst\u001b[0m\u001b[0;34m[\u001b[0m\u001b[0mj\u001b[0m\u001b[0;34m]\u001b[0m\u001b[0;34m:\u001b[0m\u001b[0;34m\u001b[0m\u001b[0;34m\u001b[0m\u001b[0m\n\u001b[1;32m     10\u001b[0m     \u001b[0mprint\u001b[0m\u001b[0;34m(\u001b[0m\u001b[0;34mf\"the element found at {j}\"\u001b[0m\u001b[0;34m)\u001b[0m\u001b[0;34m\u001b[0m\u001b[0;34m\u001b[0m\u001b[0m\n",
            "\u001b[0;31mNameError\u001b[0m: name 'j' is not defined"
          ]
        }
      ]
    },
    {
      "cell_type": "code",
      "source": [],
      "metadata": {
        "id": "Blx3K042dOBM"
      },
      "execution_count": null,
      "outputs": []
    },
    {
      "cell_type": "code",
      "source": [],
      "metadata": {
        "id": "OnGCkyOjdN-s"
      },
      "execution_count": null,
      "outputs": []
    },
    {
      "cell_type": "code",
      "source": [],
      "metadata": {
        "id": "nIptzwI7dNzL"
      },
      "execution_count": null,
      "outputs": []
    },
    {
      "cell_type": "code",
      "source": [
        "import numpy as np\n",
        "n=eval(input(\"enter no of elements in the list\"))\n",
        "lst=[]\n",
        "for i in range(1,n+1):\n",
        "  ele=eval(input(f\"enter {i} element\"))\n",
        "  lst.append(ele)\n",
        "print(lst)\n",
        "# arr = np.array(elements)\n",
        "a=np.array(lst)\n",
        "print(a)\n",
        "print(a,id(a))\n",
        "print(lst,id(lst))"
      ],
      "metadata": {
        "id": "o0P4OtxT2yVb"
      },
      "execution_count": null,
      "outputs": []
    },
    {
      "cell_type": "code",
      "source": [],
      "metadata": {
        "id": "ffOJqEyz_4IW"
      },
      "execution_count": null,
      "outputs": []
    },
    {
      "cell_type": "markdown",
      "source": [
        "Command Line Argument"
      ],
      "metadata": {
        "id": "EZRlcsIIo0OZ"
      }
    },
    {
      "cell_type": "code",
      "source": [
        "#In this program sting inputs are not allowed con't cancatinate int and str i.e (int+str)\n",
        "sum=ctr=0\n",
        "while True:\n",
        "  x = eval(input('Enter input  (ctrl + z  to  stop)  :  '))\n",
        "  sum += x\n",
        "  ctr +=1\n",
        "print(f\"average:{sum/ctr}\")"
      ],
      "metadata": {
        "id": "AanLhRl1pW0K",
        "outputId": "fc253f53-1890-407d-f6bf-c0ee89c27937",
        "colab": {
          "base_uri": "https://localhost:8080/",
          "height": 444
        }
      },
      "execution_count": null,
      "outputs": [
        {
          "name": "stdout",
          "output_type": "stream",
          "text": [
            "Enter input  (ctrl + z  to  stop)  :  5\n",
            "Enter input  (ctrl + z  to  stop)  :  1\n",
            "Enter input  (ctrl + z  to  stop)  :  6\n",
            "Enter input  (ctrl + z  to  stop)  :  \u0004\n"
          ]
        },
        {
          "output_type": "error",
          "ename": "EOFError",
          "evalue": "",
          "traceback": [
            "\u001b[0;31m---------------------------------------------------------------------------\u001b[0m",
            "\u001b[0;31mEOFError\u001b[0m                                  Traceback (most recent call last)",
            "\u001b[0;32m/tmp/ipython-input-2157308395.py\u001b[0m in \u001b[0;36m<cell line: 0>\u001b[0;34m()\u001b[0m\n\u001b[1;32m      2\u001b[0m \u001b[0msum\u001b[0m\u001b[0;34m=\u001b[0m\u001b[0mctr\u001b[0m\u001b[0;34m=\u001b[0m\u001b[0;36m0\u001b[0m\u001b[0;34m\u001b[0m\u001b[0;34m\u001b[0m\u001b[0m\n\u001b[1;32m      3\u001b[0m \u001b[0;32mwhile\u001b[0m \u001b[0;32mTrue\u001b[0m\u001b[0;34m:\u001b[0m\u001b[0;34m\u001b[0m\u001b[0;34m\u001b[0m\u001b[0m\n\u001b[0;32m----> 4\u001b[0;31m   \u001b[0mx\u001b[0m \u001b[0;34m=\u001b[0m \u001b[0meval\u001b[0m\u001b[0;34m(\u001b[0m\u001b[0minput\u001b[0m\u001b[0;34m(\u001b[0m\u001b[0;34m'Enter input  (ctrl + z  to  stop)  :  '\u001b[0m\u001b[0;34m)\u001b[0m\u001b[0;34m)\u001b[0m\u001b[0;34m\u001b[0m\u001b[0;34m\u001b[0m\u001b[0m\n\u001b[0m\u001b[1;32m      5\u001b[0m   \u001b[0msum\u001b[0m \u001b[0;34m+=\u001b[0m \u001b[0mx\u001b[0m\u001b[0;34m\u001b[0m\u001b[0;34m\u001b[0m\u001b[0m\n\u001b[1;32m      6\u001b[0m   \u001b[0mctr\u001b[0m \u001b[0;34m+=\u001b[0m\u001b[0;36m1\u001b[0m\u001b[0;34m\u001b[0m\u001b[0;34m\u001b[0m\u001b[0m\n",
            "\u001b[0;32m/usr/local/lib/python3.11/dist-packages/ipykernel/kernelbase.py\u001b[0m in \u001b[0;36mraw_input\u001b[0;34m(self, prompt)\u001b[0m\n\u001b[1;32m   1175\u001b[0m                 \u001b[0;34m\"raw_input was called, but this frontend does not support input requests.\"\u001b[0m\u001b[0;34m\u001b[0m\u001b[0;34m\u001b[0m\u001b[0m\n\u001b[1;32m   1176\u001b[0m             )\n\u001b[0;32m-> 1177\u001b[0;31m         return self._input_request(\n\u001b[0m\u001b[1;32m   1178\u001b[0m             \u001b[0mstr\u001b[0m\u001b[0;34m(\u001b[0m\u001b[0mprompt\u001b[0m\u001b[0;34m)\u001b[0m\u001b[0;34m,\u001b[0m\u001b[0;34m\u001b[0m\u001b[0;34m\u001b[0m\u001b[0m\n\u001b[1;32m   1179\u001b[0m             \u001b[0mself\u001b[0m\u001b[0;34m.\u001b[0m\u001b[0m_parent_ident\u001b[0m\u001b[0;34m[\u001b[0m\u001b[0;34m\"shell\"\u001b[0m\u001b[0;34m]\u001b[0m\u001b[0;34m,\u001b[0m\u001b[0;34m\u001b[0m\u001b[0;34m\u001b[0m\u001b[0m\n",
            "\u001b[0;32m/usr/local/lib/python3.11/dist-packages/ipykernel/kernelbase.py\u001b[0m in \u001b[0;36m_input_request\u001b[0;34m(self, prompt, ident, parent, password)\u001b[0m\n\u001b[1;32m   1228\u001b[0m         \u001b[0;32mif\u001b[0m \u001b[0mvalue\u001b[0m \u001b[0;34m==\u001b[0m \u001b[0;34m\"\\x04\"\u001b[0m\u001b[0;34m:\u001b[0m\u001b[0;34m\u001b[0m\u001b[0;34m\u001b[0m\u001b[0m\n\u001b[1;32m   1229\u001b[0m             \u001b[0;31m# EOF\u001b[0m\u001b[0;34m\u001b[0m\u001b[0;34m\u001b[0m\u001b[0m\n\u001b[0;32m-> 1230\u001b[0;31m             \u001b[0;32mraise\u001b[0m \u001b[0mEOFError\u001b[0m\u001b[0;34m\u001b[0m\u001b[0;34m\u001b[0m\u001b[0m\n\u001b[0m\u001b[1;32m   1231\u001b[0m         \u001b[0;32mreturn\u001b[0m \u001b[0mvalue\u001b[0m\u001b[0;34m\u001b[0m\u001b[0;34m\u001b[0m\u001b[0m\n\u001b[1;32m   1232\u001b[0m \u001b[0;34m\u001b[0m\u001b[0m\n",
            "\u001b[0;31mEOFError\u001b[0m: "
          ]
        }
      ]
    },
    {
      "cell_type": "code",
      "source": [
        "'''\n",
        "Modify  following   program  with  walrus  operator\n",
        "Hint:  Combine  lines  7   and   8  to a  single  line  with   walrus  operator\n",
        "'''\n",
        "try:\n",
        "\tsum =  ctr = 0\n",
        "\twhile  True:\n",
        "\t\tx = eval(input('Enter input  (ctrl + z  to  stop)  :  '))\n",
        "\t\tsum += x\n",
        "\t\tctr +=1\n",
        "except  EOFError:\n",
        "\ttry:\n",
        "\t\tprint(F'Average :   {sum / ctr}')\n",
        "\texcept  ZeroDivisionError:\n",
        "\t\tprint('Enter  at  least  one  input')\n",
        "except  (NameError , TypeError):\n",
        "\tprint('Input  can  not  be  string')"
      ],
      "metadata": {
        "id": "9XvPHRhXpRDO"
      },
      "execution_count": null,
      "outputs": []
    },
    {
      "cell_type": "code",
      "source": [
        "'''\n",
        "Modify  following   program  with  walrus  operator\n",
        "Hint:  Combine  lines  7   and   8  to a  single  line  with   walrus  operator\n",
        "'''\n",
        "\n",
        "\n",
        "\ttry:\n",
        "\t\tprint(F'Average :   {sum / ctr}')\n",
        "\texcept  ZeroDivisionError:8\n",
        "\t\tprint('Enter  at  least  one  input')\n",
        "except  (NameError , TypeError):\n",
        "\tprint('Input  can  not  be  string')"
      ],
      "metadata": {
        "id": "qVZFRIdRozPW",
        "outputId": "b05e52c3-8d49-4d2d-e2e2-b6b3b84c6afd",
        "colab": {
          "base_uri": "https://localhost:8080/",
          "height": 365
        }
      },
      "execution_count": null,
      "outputs": [
        {
          "name": "stdout",
          "output_type": "stream",
          "text": [
            "Enter input  (ctrl + z  to  stop)  :  5\n",
            "Enter input  (ctrl + z  to  stop)  :  1\n",
            "Enter input  (ctrl + z  to  stop)  :  22\n",
            "Enter input  (ctrl + z  to  stop)  :  55\n",
            "Enter input  (ctrl + z  to  stop)  :  8\n",
            "Enter input  (ctrl + z  to  stop)  :  \n"
          ]
        },
        {
          "output_type": "error",
          "ename": "SyntaxError",
          "evalue": "invalid syntax (<string>, line 0)",
          "traceback": [
            "Traceback \u001b[0;36m(most recent call last)\u001b[0m:\n",
            "  File \u001b[1;32m\"/usr/local/lib/python3.11/dist-packages/IPython/core/interactiveshell.py\"\u001b[0m, line \u001b[1;32m3553\u001b[0m, in \u001b[1;35mrun_code\u001b[0m\n    exec(code_obj, self.user_global_ns, self.user_ns)\n",
            "\u001b[0;36m  File \u001b[0;32m\"/tmp/ipython-input-3412832024.py\"\u001b[0;36m, line \u001b[0;32m8\u001b[0;36m, in \u001b[0;35m<cell line: 0>\u001b[0;36m\u001b[0m\n\u001b[0;31m    x = eval(input('Enter input  (ctrl + z  to  stop)  :  '))\u001b[0m\n",
            "\u001b[0;36m  File \u001b[0;32m\"<string>\"\u001b[0;36m, line \u001b[0;32munknown\u001b[0m\n\u001b[0;31m    \u001b[0m\n\u001b[0m    ^\u001b[0m\n\u001b[0;31mSyntaxError\u001b[0m\u001b[0;31m:\u001b[0m invalid syntax\n"
          ]
        }
      ]
    },
    {
      "cell_type": "code",
      "source": [
        "ihsefkjdnslkdjakshfskjflksjfaskdfhskfhns"
      ],
      "metadata": {
        "id": "a5esQm7Ioy96"
      },
      "execution_count": null,
      "outputs": []
    }
  ]
}
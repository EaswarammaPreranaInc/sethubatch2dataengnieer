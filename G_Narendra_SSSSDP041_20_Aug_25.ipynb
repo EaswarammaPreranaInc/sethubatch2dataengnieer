{
 "cells": [
  {
   "cell_type": "code",
   "execution_count": 2,
   "id": "329db64b-af6d-4f59-bab2-cd5663d79760",
   "metadata": {},
   "outputs": [
    {
     "name": "stdout",
     "output_type": "stream",
     "text": [
      "8 64 216 512 1000\n"
     ]
    }
   ],
   "source": [
    "# Write  a  program  to  create  a  list  with  cubes  of  2 , 4 , 6 , 8 , 10  with  list  comprehension (Home  work)\n",
    "\n",
    "l = [x**3 for x in range(2,12,2)]\n",
    "print(*l)"
   ]
  },
  {
   "cell_type": "code",
   "execution_count": 5,
   "id": "a5b80459-a0fe-4645-a789-352a8aa06789",
   "metadata": {},
   "outputs": [
    {
     "name": "stdin",
     "output_type": "stream",
     "text": [
      "Enter list :  ['hyd' , 'pune' , 'chennai' , 'vijayawada']\n"
     ]
    },
    {
     "name": "stdout",
     "output_type": "stream",
     "text": [
      "['H', 'P', 'C', 'V']\n"
     ]
    }
   ],
   "source": [
    "'''\n",
    "(Home  work)\n",
    "Write  a  program  to  extract  1st  character  of  each  string  in  capital  letters  in  a  list  of  srings  without  comprehension\n",
    "\n",
    "Let  input  be   ['hyd' , 'pune' , 'chennai' , 'vijayawada']\n",
    "What  is  the  output ?  ---> ['H' , 'P' , 'C' , 'V']\n",
    "'''\n",
    "\n",
    "lt = eval(input('Enter list : '))\n",
    "output = []\n",
    "for i in lt:\n",
    "    ch = i[0].upper()\n",
    "    output.append(ch)\n",
    "print(output)"
   ]
  },
  {
   "cell_type": "code",
   "execution_count": 6,
   "id": "47cbb2be-abe0-4439-b6ad-8335baedf411",
   "metadata": {},
   "outputs": [
    {
     "name": "stdin",
     "output_type": "stream",
     "text": [
      "Enter list :  ['hyd' , 'pune' , 'chennai' , 'vijayawada']\n"
     ]
    },
    {
     "name": "stdout",
     "output_type": "stream",
     "text": [
      "['H', 'P', 'C', 'V']\n"
     ]
    }
   ],
   "source": [
    "'''\n",
    "(Home  work)\n",
    "Repeat   previous  program  with  comprehension\n",
    "\n",
    "Input :  ['hyd' , 'pune' , 'chennai' , 'vijayawada']\n",
    "\n",
    "Output :  ['H' , 'P' , 'C' , 'V']\n",
    "'''\n",
    "\n",
    "lt = eval(input('Enter list : '))\n",
    "output = [i[0].upper() for i in lt]\n",
    "print(output)"
   ]
  },
  {
   "cell_type": "code",
   "execution_count": 8,
   "id": "6fcd7960-7e17-4c68-a4f1-70ff66cd1baf",
   "metadata": {},
   "outputs": [
    {
     "name": "stdin",
     "output_type": "stream",
     "text": [
      "Enter list :  hyd is green city\n"
     ]
    },
    {
     "name": "stdout",
     "output_type": "stream",
     "text": [
      "[['HYD', 3], ['IS', 2], ['GREEN', 5], ['CITY', 4]]\n"
     ]
    }
   ],
   "source": [
    "'''\n",
    "Write  a  program  to  append  each  word  of  the  sentence  and  its  length  to  a  list\n",
    "(word  should  be  in  capital  letters)  without  comprehension\n",
    "\n",
    "Let  input  be   hyd  is  green  city\n",
    "What  is  the  output ?  --->  [['HYD' , 3] , ['IS' , 2] , ['GREEN' , 5] , ['CITY', 3]]\n",
    "'''\n",
    "\n",
    "s = input('Enter list : ')\n",
    "s = s.split()\n",
    "output = []\n",
    "\n",
    "for i in s:\n",
    "    iList = []\n",
    "    iList.append(i.upper())\n",
    "    iList.append(len(i))\n",
    "    output.append(iList)\n",
    "print(output)\n"
   ]
  },
  {
   "cell_type": "code",
   "execution_count": 9,
   "id": "89b49fe7-07af-427f-9382-1d9b71360a5b",
   "metadata": {},
   "outputs": [
    {
     "name": "stdin",
     "output_type": "stream",
     "text": [
      "Enter string :  hyd is greeen city\n"
     ]
    },
    {
     "name": "stdout",
     "output_type": "stream",
     "text": [
      "[['HYD', 3], ['IS', 2], ['GREEEN', 6], ['CITY', 4]]\n"
     ]
    }
   ],
   "source": [
    "'''\n",
    "(Home  work)\n",
    "Repeat   previous  program  with  comprehension\n",
    "\n",
    "Input :  hyd  is  green  city\n",
    "\n",
    "Output :  [['HYD' , 3] , ['IS' , 2] , ['GREEN' , 5] , ['CITY' , 4]]\n",
    "'''\n",
    "\n",
    "s = input('Enter string : ')\n",
    "s = s.split()\n",
    "\n",
    "output = [[i.upper(),len(i)] for i in s]\n",
    "\n",
    "print(output)"
   ]
  },
  {
   "cell_type": "code",
   "execution_count": 14,
   "id": "0f63cb55-3a13-473c-bf7e-7b8960779b79",
   "metadata": {},
   "outputs": [
    {
     "name": "stdin",
     "output_type": "stream",
     "text": [
      "Enter 1st list :  [100 , 200 , 300 , 400]\n",
      "Enter 2st list :  [10 , 20 , 30 , 40 , 50 , 60 , 70]\n"
     ]
    },
    {
     "name": "stdout",
     "output_type": "stream",
     "text": [
      "[110, 220, 330, 440]\n"
     ]
    }
   ],
   "source": [
    "'''\n",
    "Write  a  program  to  add  two  lists  of  unequal  length  without  comprehension\n",
    "\n",
    "Let  1st  list  be  [10 , 20 , 30 , 40 , 50 , 60 , 70]  and  2nd  list  be  [100 , 200 , 300 , 400]\n",
    "What  is   the  result ?  ---> [10 + 100 , 20 + 200 , 30 + 300 , 40 + 400]\n",
    "'''\n",
    "l1=eval(input('Enter 1st list : '))\n",
    "l2=eval(input('Enter 2st list : '))\n",
    "\n",
    "length=min(len(l1),len(l2))\n",
    "i=0\n",
    "output = []\n",
    "while(i<length):\n",
    "    output.append(l1[i]+l2[i])\n",
    "    i+=1\n",
    "\n",
    "print(output)\n"
   ]
  },
  {
   "cell_type": "code",
   "execution_count": 17,
   "id": "3d07dab8-8676-4555-bcf3-090342fc3316",
   "metadata": {},
   "outputs": [
    {
     "name": "stdin",
     "output_type": "stream",
     "text": [
      "Enter 1st list :  [10 , 20 , 30 , 40 , 50 , 60 , 70]\n",
      "Enter 2st list :  [100 , 200 , 300 , 400]\n"
     ]
    },
    {
     "name": "stdout",
     "output_type": "stream",
     "text": [
      "[110, 220, 330, 440]\n"
     ]
    }
   ],
   "source": [
    "'''\n",
    "(Home  work)\n",
    "Repeat   previous  program  with  comprehension\n",
    "\n",
    "Input1 : [10 , 20 , 30 , 40 , 50 , 60 , 70]\n",
    "Input2 :  [100 , 200 , 300 , 400]\n",
    "Output :  [110 , 220 , 330 , 440]\n",
    "'''\n",
    "\n",
    "\n",
    "l1=eval(input('Enter 1st list : '))\n",
    "l2=eval(input('Enter 2st list : '))\n",
    "\n",
    "length=min(len(l1),len(l2))\n",
    "\n",
    "output = [l1[i]+l2[i] for i in range(length)]\n",
    "\n",
    "print(output)"
   ]
  },
  {
   "cell_type": "code",
   "execution_count": 24,
   "id": "2e809cbc-c214-437d-b5de-25c89b2ab2d3",
   "metadata": {},
   "outputs": [
    {
     "name": "stdin",
     "output_type": "stream",
     "text": [
      "Enter len of list :  3\n",
      "Enter ele in inner list :  4\n"
     ]
    },
    {
     "name": "stdout",
     "output_type": "stream",
     "text": [
      "['0000', '0000', '0000']\n"
     ]
    }
   ],
   "source": [
    "'''\n",
    "Write   a  program  to  initialize  a  nested  list  with  zeroes  without  comprehension\n",
    "\n",
    "Let inputs  be  3  and  4\n",
    "What  is  the  output ?  --->  [[0 , 0 , 0 , 0] , [0 , 0 , 0 , 0] , [0 , 0 , 0 , 0]]\n",
    "\n",
    "Hint:  Use  repetition  operator  *\n",
    "'''\n",
    "n = int(input('Enter len of list : '))\n",
    "m = int(input('Enter ele in inner list : '))\n",
    "zero = '0'\n",
    "output = []\n",
    "\n",
    "for i in range(n):\n",
    "    output.append(zero*m)\n",
    "\n",
    "print(output)\n"
   ]
  },
  {
   "cell_type": "code",
   "execution_count": 22,
   "id": "be50a7dc-aa6d-4521-8b7f-3aba9a9653c3",
   "metadata": {},
   "outputs": [
    {
     "name": "stdin",
     "output_type": "stream",
     "text": [
      "Enter len of list :  3\n",
      "Enter ele in inner list :  4\n"
     ]
    },
    {
     "name": "stdout",
     "output_type": "stream",
     "text": [
      "[['0000'], ['0000'], ['0000']]\n"
     ]
    }
   ],
   "source": [
    "'''\n",
    "(Home  work)\n",
    "Repeat   previous  program  with  comprehension\n",
    "\n",
    "Inputs :  3  and  4\n",
    "\n",
    "Output :  [[0 , 0 , 0 , 0] , [0 , 0 , 0 , 0] , [0 , 0 , 0 , 0]]\n",
    "'''\n",
    "\n",
    "n = int(input('Enter len of list : '))\n",
    "m = int(input('Enter ele in inner list : '))\n",
    "zero = '0'\n",
    "output = [[zero*m] for i in range(n)]\n",
    "\n",
    "print(output)\n"
   ]
  },
  {
   "cell_type": "code",
   "execution_count": 26,
   "id": "a21487b9-213b-4b41-ab2f-378ed68851ea",
   "metadata": {},
   "outputs": [
    {
     "name": "stdin",
     "output_type": "stream",
     "text": [
      "Enter list1 :  [10 , 20 , 15 , 18 , 25 , 32]\n",
      "Enter list2 :  [30 , 40 , 10 , 25 , 15]\n"
     ]
    },
    {
     "name": "stdout",
     "output_type": "stream",
     "text": [
      "[20, 18, 32]\n"
     ]
    }
   ],
   "source": [
    "'''\n",
    "Write  a  program  to  extract  those  elements  of  1st  list  which  are  not  in  2nd  list   without  comprehension\n",
    "\n",
    "Let  1st  list  be  [10 , 20 , 15 , 18 , 25 , 32]  and  2nd  list  be  [30 , 40 , 10 , 25 , 15]\n",
    "What  is  the  output ?  --->  [20 , 18 ,  32]\n",
    "'''\n",
    "\n",
    "lt1 = eval(input('Enter list1 : '))\n",
    "lt2 = eval(input('Enter list2 : '))\n",
    "output = []\n",
    "for i in lt1:\n",
    "    if i in lt1 and i not in lt2:\n",
    "        output.append(i)\n",
    "\n",
    "print(output)"
   ]
  },
  {
   "cell_type": "code",
   "execution_count": 28,
   "id": "e0064a17-7d1c-4e83-ac59-d714b5b8729a",
   "metadata": {},
   "outputs": [
    {
     "name": "stdin",
     "output_type": "stream",
     "text": [
      "Enter list1 :  [10 , 20 , 15 , 18 , 25 , 32]\n",
      "Enter list2 :  [30 , 40 , 10 , 25 , 15]\n"
     ]
    },
    {
     "name": "stdout",
     "output_type": "stream",
     "text": [
      "[20, 18, 32]\n"
     ]
    }
   ],
   "source": [
    "'''\n",
    "(Home  work)\n",
    "Repeat   previous  program  with  comprehension\n",
    "\n",
    "Input1 :   [10 , 20 , 15 , 18 , 25 , 32]\n",
    "Input2 :  [30 , 40 , 10 , 25 , 15]\n",
    "Output :  [20 , 18 , 32]\n",
    "'''\n",
    "\n",
    "lt1 = eval(input('Enter list1 : '))\n",
    "lt2 = eval(input('Enter list2 : '))\n",
    "output = [i for i in lt1 if i in lt1 and i not in lt2]\n",
    "\n",
    "print(output)\n",
    "\n"
   ]
  },
  {
   "cell_type": "code",
   "execution_count": 29,
   "id": "00573638-9171-4ca2-acf4-211ba223a195",
   "metadata": {},
   "outputs": [
    {
     "name": "stdout",
     "output_type": "stream",
     "text": [
      "2 4 6 8 10 12 14 16 18 20\n"
     ]
    }
   ],
   "source": [
    "#  Write   a  program  to  print  even  numbers  between  1  and  20  with  comprehension\n",
    "\n",
    "output = [i for i in range(2,21,2)]\n",
    "\n",
    "print(*output)"
   ]
  },
  {
   "cell_type": "code",
   "execution_count": 30,
   "id": "1a4202f0-70cc-44e0-a463-34a579ab103e",
   "metadata": {},
   "outputs": [
    {
     "name": "stdout",
     "output_type": "stream",
     "text": [
      "2 4 6 8 10 12 14 16 18 20\n"
     ]
    }
   ],
   "source": [
    "'''\n",
    "Repeat  previous  program  with  comprehension  and  without  using  if\n",
    "\n",
    "Output: [Even  numbers  between  1  and  20]\n",
    "'''\n",
    "\n",
    "output = [i for i in range(2,21) if i%2==0]\n",
    "\n",
    "print(*output)"
   ]
  },
  {
   "cell_type": "code",
   "execution_count": 34,
   "id": "0bfce0de-653d-4f79-9f6e-d572ef4f31e9",
   "metadata": {},
   "outputs": [
    {
     "name": "stdout",
     "output_type": "stream",
     "text": [
      "4 16 36 64 100 144 196 256 324 400\n"
     ]
    }
   ],
   "source": [
    "'''\n",
    "Write  a  program  to  print  those  squares  of  1 , 2 , 3 , 4 , ... 20  which  are  divisible   by  2  with  comprehension\n",
    "\n",
    "What  is  the  output ?  ---> [4 , 16 , 36 , ... ,  400]\n",
    "'''\n",
    "\n",
    "output = [i**2 for i in range(1,21) if i**2%2==0]\n",
    "\n",
    "print(*output)"
   ]
  },
  {
   "cell_type": "code",
   "execution_count": 35,
   "id": "002099c5-bf02-4a12-a1ba-a1895b7b6c07",
   "metadata": {},
   "outputs": [
    {
     "name": "stdout",
     "output_type": "stream",
     "text": [
      "4 16 36 64 100 144 196 256 324 400\n"
     ]
    }
   ],
   "source": [
    "#  Repeat  previous  program  with  comprehension  and  without  using  if\n",
    "\n",
    "\n",
    "output = [i**2 for i in range(1,21) if i**2%2==0]\n",
    "\n",
    "print(*output)"
   ]
  },
  {
   "cell_type": "code",
   "execution_count": 36,
   "id": "d8f65b3b-3170-407d-a54b-8705aa13c0c8",
   "metadata": {},
   "outputs": [
    {
     "name": "stdin",
     "output_type": "stream",
     "text": [
      "Enter list1 :  [10 , 20 , 15]\n",
      "Enter list2 :  [30 , 40 , 35 , 32]\n"
     ]
    },
    {
     "name": "stdout",
     "output_type": "stream",
     "text": [
      "[40, 50, 45, 42, 50, 60, 55, 52, 45, 55, 50, 47]\n"
     ]
    }
   ],
   "source": [
    "'''\n",
    "Write  a  program  to  add  each  element  of  1st  list  with  all  the  elements  of  2nd  list  without  comprehension\n",
    "\n",
    "Let  1st  list  be  [10 , 20 , 15]  and  2nd  list  be  [30 , 40 , 35 , 32]\n",
    "What  is  the  result ?  --->\n",
    "\t\t\t\t\t[10 + 30 , 10 + 40 , 10 + 35 , 10 + 32 , 20 + 30 , 20 + 40 , 20 + 35 , 20 + 32 , 15 + 30 , 15 + 40 , 15 + 35 , 15 + 32]\n",
    "\n",
    "Hint : Nested  for  loops\n",
    "'''\n",
    "\n",
    "lt1 = eval(input('Enter list1 : '))\n",
    "lt2 = eval(input('Enter list2 : '))\n",
    "output = []\n",
    "\n",
    "for i in lt1:\n",
    "    for j in lt2:\n",
    "        output.append(i+j)\n",
    "\n",
    "print(output)"
   ]
  },
  {
   "cell_type": "code",
   "execution_count": 37,
   "id": "5c66102d-3cee-4254-a60f-b51aae66bbc5",
   "metadata": {},
   "outputs": [
    {
     "name": "stdin",
     "output_type": "stream",
     "text": [
      "Enter list1 :  [10 , 20 , 15]\n",
      "Enter list2 :  [30 , 40 , 35 , 32]\n"
     ]
    },
    {
     "name": "stdout",
     "output_type": "stream",
     "text": [
      "[40, 50, 45, 42, 50, 60, 55, 52, 45, 55, 50, 47]\n"
     ]
    }
   ],
   "source": [
    "'''\n",
    "(Home  work)\n",
    "Repeat   previous  program  with  comprehension\n",
    "\n",
    "Input1 :  [10 , 20 , 15]\n",
    "Input2 :  [30 , 40 , 35 , 32]\n",
    "Output :  [10 + 30 , 10 + 40 , 10 + 35 , 10 + 32 , 20 + 30 , 20 + 40 , 20 + 35 , 20 + 32 , 15 + 30 , 15 + 40 , 15 + 35 , 15 + 32]\n",
    "'''\n",
    "\n",
    "\n",
    "lt1 = eval(input('Enter list1 : '))\n",
    "lt2 = eval(input('Enter list2 : '))\n",
    "output = [i+j for i in lt1 for j in lt2]\n",
    "\n",
    "print(output)"
   ]
  },
  {
   "cell_type": "code",
   "execution_count": 38,
   "id": "8bc35ce2-59bc-41d1-98eb-b9b87ba7c65a",
   "metadata": {},
   "outputs": [
    {
     "name": "stdin",
     "output_type": "stream",
     "text": [
      "Enter 1st  string :  HYD\n",
      "Enter 2nd stinring :  PUNE\n"
     ]
    },
    {
     "name": "stdout",
     "output_type": "stream",
     "text": [
      "['HP', 'HU', 'HN', 'HE', 'YP', 'YU', 'YN', 'YE', 'DP', 'DU', 'DN', 'DE']\n"
     ]
    }
   ],
   "source": [
    "'''\n",
    "Write  a  program  to  concatenate  each  character  of  1st  string  with  every  character  of   2nd  string  with  comprehension\n",
    "\n",
    "Let  1st string  be  HYD  and   2nd string  be   PUNE\n",
    "What  is  the  result  ?  --->  ['HP' , 'HU' , 'HN' , 'HE' , 'YP' , 'YU' , 'YN' , 'YE' , 'DP' , 'DU' , 'DN' , 'DE']\n",
    "\n",
    "Hint: Same  as  previous  program\n",
    "'''\n",
    "\n",
    "str1 = input('Enter 1st  string : ')\n",
    "str2 = input('Enter 2nd stinring : ')\n",
    "\n",
    "output  = [i+j for i in str1 for j in str2]\n",
    "\n",
    "print(output)\n"
   ]
  },
  {
   "cell_type": "code",
   "execution_count": 39,
   "id": "3cab6309-3e55-4b7d-b15b-1c4dff3faffa",
   "metadata": {},
   "outputs": [
    {
     "name": "stdin",
     "output_type": "stream",
     "text": [
      "Enter 1st  string :  HYD\n",
      "Enter 2nd stinring :  PUNE\n"
     ]
    },
    {
     "name": "stdout",
     "output_type": "stream",
     "text": [
      "['HP', 'HU', 'HN', 'HE', 'YP', 'YU', 'YN', 'YE', 'DP', 'DU', 'DN', 'DE']\n"
     ]
    }
   ],
   "source": [
    "'''\n",
    "Write  a  program  to  convert  a  nested  list  to  list  without  comprehension\n",
    "\n",
    "Let  input  be  [ [10 , 20] , [30 , 40 , 50] , [60 , 70 , 80 , 90]]\n",
    "What  is  the  output ?  --->  [10 , 20 , 30 , 40 , 50 , 60 , 70 , 80 , 90]\n",
    "'''\n",
    "\n",
    "str1 = input('Enter 1st  string : ')\n",
    "str2 = input('Enter 2nd stinring : ')\n",
    "\n",
    "output  = []\n",
    "\n",
    "for i in str1:\n",
    "     for j in str2:\n",
    "         output.append(i+j)\n",
    "\n",
    "print(output)"
   ]
  },
  {
   "cell_type": "code",
   "execution_count": 46,
   "id": "c7333575-51b1-4f78-92f3-471c0e903111",
   "metadata": {},
   "outputs": [
    {
     "name": "stdin",
     "output_type": "stream",
     "text": [
      "Enter list :  [ [10 , 20] , [30 , 40 , 50] , [60 , 70 , 80 , 90]]\n"
     ]
    },
    {
     "name": "stdout",
     "output_type": "stream",
     "text": [
      "[10, 20, 30, 40, 50, 60, 70, 80, 90]\n"
     ]
    }
   ],
   "source": [
    "'''\n",
    "Write  a  program  to  convert  a  nested  list  to  list  without  comprehension\n",
    "\n",
    "Let  input  be  [ [10 , 20] , [30 , 40 , 50] , [60 , 70 , 80 , 90]]\n",
    "What  is  the  output ?  --->  [10 , 20 , 30 , 40 , 50 , 60 , 70 , 80 , 90]\n",
    "'''\n",
    "lt = eval(input('Enter list : '))\n",
    "output = []\n",
    "for i in lt:\n",
    "    for j in i:\n",
    "        output.append(j)\n",
    "print(output)"
   ]
  },
  {
   "cell_type": "code",
   "execution_count": 47,
   "id": "b7fcb038-b123-4e61-b1a7-3c17357a5eb7",
   "metadata": {},
   "outputs": [
    {
     "name": "stdin",
     "output_type": "stream",
     "text": [
      "Enter list :  [ [10 , 20] , [30 , 40 , 50] , [60 , 70 , 80 , 90]]\n"
     ]
    },
    {
     "name": "stdout",
     "output_type": "stream",
     "text": [
      "[10, 20, 30, 40, 50, 60, 70, 80, 90]\n"
     ]
    }
   ],
   "source": [
    "'''\n",
    "Write  a  program  to  convert  a  nested  list  to  list  with  comprehension\n",
    "\n",
    "Let  input  be  [ [10 , 20] , [30 , 40 , 50] , [60 , 70 , 80 , 90]]\n",
    "\n",
    "What  is  the  output ?  --->  [10 , 20 , 30 , 40 , 50 , 60 , 70 , 80 , 90]\n",
    "'''\n",
    "\n",
    "lt = eval(input('Enter list : '))\n",
    "output = [j for i in lt for j in i]\n",
    "\n",
    "print(output)"
   ]
  },
  {
   "cell_type": "code",
   "execution_count": null,
   "id": "b951febe-080b-4034-a22b-81581823ca46",
   "metadata": {},
   "outputs": [],
   "source": [
    "# Find  outputs (Home  work)\n",
    "a = [[10 , 20] , [30 , 40 , 50] , [60 , 70 , 80 , 90]]\n",
    "b = [ x  for  x  in  a  for  y  in  x]\n",
    "print(b) #[10, 20, 30, 40, 50, 60, 70, 80, 90]"
   ]
  },
  {
   "cell_type": "code",
   "execution_count": null,
   "id": "0dccf142-71d8-4e77-bc9b-44fc45eee0f0",
   "metadata": {},
   "outputs": [],
   "source": [
    "#  Nested  comprehension  demo  program (Home  work)\n",
    "a = [[j for j in range(i)] for i in range(5)]\n",
    "print(a)   # [[], [0], [0, 1], [0, 1, 2], [0, 1, 2, 3]]\n"
   ]
  },
  {
   "cell_type": "code",
   "execution_count": 48,
   "id": "8f303989-e6d6-4d2a-bcba-8b0a5d1d4c8e",
   "metadata": {},
   "outputs": [
    {
     "name": "stdout",
     "output_type": "stream",
     "text": [
      "[['Swathi', 'Srinivas'], ['Anand', 'Amar'], ['Zebra'], ['King']]\n"
     ]
    }
   ],
   "source": [
    "'''\n",
    "Most  tricky  program\n",
    "Input :   List  of  strings\n",
    "              Eg: ['Swathi' , 'Anand' , 'Srinivas' , 'Zebra' , 'King' , 'Amar' ]\n",
    "Output :  Nested  list\n",
    "\t\t        i.e.  [['Swathi' , 'Srinivas'] , ['Anand' , 'Amar'] , ['Zebra'] , ['King']]\n",
    "\n",
    "Hint: Do  not  sort  the  lists\n",
    "\n",
    "1) b = ['S' , 'A' ,  , 'Z' , 'K' ]\n",
    "\n",
    "2) c = []\n",
    "\n",
    "3) Iteartion  1 :  d  = ['Swathi' , 'Srinivas']\n",
    "                           c =  [['Swathi' , 'Srinivas']]\n",
    "\n",
    "4) Iteartion  2 :  d  =  ['Anand' , 'Amar']\n",
    "                           c =   [['Swathi' , 'Srinivas'] , ['Anand' , 'Amar']]\n",
    "\n",
    "5) Iteartion  3 :  d  =  ['Zebra']\n",
    "                           c =   [['Swathi' , 'Srinivas'] , ['Anand' , 'Amar'] , ['Zebra']]\n",
    "\n",
    "6) Iteartion  4 :  d  =  ['King']\n",
    "                           c =   [['Swathi' , 'Srinivas'] , ['Anand' , 'Amar'] , ['Zebra'] , ['King']]\n",
    "'''\n",
    "\n",
    "names = ['Swathi', 'Anand', 'Srinivas', 'Zebra', 'King', 'Amar']\n",
    "output = []\n",
    "\n",
    "for name in names:\n",
    "    placed = False\n",
    "    for group in output:\n",
    "        if group[0][0] == name[0]:   # check first letter\n",
    "            group.append(name)\n",
    "            placed = True\n",
    "            break\n",
    "    if not placed:\n",
    "        output.append([name])\n",
    "\n",
    "print(output)\n"
   ]
  },
  {
   "cell_type": "code",
   "execution_count": 49,
   "id": "c9cb6fe9-6541-4757-b2f1-ca46e18c3555",
   "metadata": {},
   "outputs": [
    {
     "name": "stdin",
     "output_type": "stream",
     "text": [
      "Enter list1 :   [10  ,  20  , 30   ,  40   ,  50]\n",
      "Enter 2nd list :  [5  ,  12  , 20   ,  37]\n"
     ]
    },
    {
     "name": "stdout",
     "output_type": "stream",
     "text": [
      "[5, 10, 12, 20, 20, 30, 37, 40, 50]\n"
     ]
    }
   ],
   "source": [
    "'''\n",
    "Write  a  program  to  merge  two  sorted  lists  to  produce  another  sorted  list\n",
    "\n",
    "\n",
    "                                0      1      2       3         4\n",
    "Eg:  List  'a'   --->  [10  ,  20  , 30   ,  40   ,  50]\n",
    "       List  'b'   --->  [5  ,  12  , 20   ,  37]\n",
    "\t                            0     1       2       3\n",
    "\t   List  'c' --->  [5 , 10 , 12 , 20 , 20 , 30 , 37 , 40 , 50]\n",
    "\n",
    "Hint1 :  Unsorted  lists  can  not  be  merged\n",
    "\n",
    "Hint2 :  Use  single  while  loop\n",
    "'''\n",
    "\n",
    "a = eval(input('Enter list1 : '))\n",
    "b = eval(input('Enter 2nd list : '))\n",
    "c = []\n",
    "\n",
    "i = j = 0\n",
    "\n",
    "while i < len(a) and j < len(b):\n",
    "    if a[i] <= b[j]:\n",
    "        c.append(a[i])\n",
    "        i += 1\n",
    "    else:\n",
    "        c.append(b[j])\n",
    "        j += 1\n",
    "\n",
    "\n",
    "while i < len(a):\n",
    "    c.append(a[i])\n",
    "    i += 1\n",
    "\n",
    "while j < len(b):\n",
    "    c.append(b[j])\n",
    "    j += 1\n",
    "\n",
    "print(c)"
   ]
  },
  {
   "cell_type": "code",
   "execution_count": 50,
   "id": "97396078-46c2-489e-ada0-9ef207481eff",
   "metadata": {},
   "outputs": [
    {
     "name": "stdin",
     "output_type": "stream",
     "text": [
      "Enter list:   [5  ,  12  , 20   ,  37]\n",
      "Enter n (to find n-th largest):  3\n"
     ]
    },
    {
     "name": "stdout",
     "output_type": "stream",
     "text": [
      "12\n"
     ]
    }
   ],
   "source": [
    "'''\n",
    "Write  a  program  to  determine  n-th  largest  element   of   a   list\n",
    "\n",
    "Input1 :  [10,20,30,25,40,35,12,5]\n",
    "Input2 :  3  (3rd  largest)\n",
    "Output :  30\n",
    "'''\n",
    "lt = eval(input(\"Enter list: \"))\n",
    "n = int(input(\"Enter n (to find n-th largest): \"))\n",
    "\n",
    "lt.sort(reverse=True)   \n",
    "print(lt[n-1])\n"
   ]
  },
  {
   "cell_type": "code",
   "execution_count": 51,
   "id": "64313a55-a7b5-4e50-8b2c-d7d98db28e1d",
   "metadata": {},
   "outputs": [
    {
     "name": "stdin",
     "output_type": "stream",
     "text": [
      "Enter list:  [40, 50, 45, 42, 50, 60, 55, 52, 45, 55, 50, 47]\n"
     ]
    },
    {
     "name": "stdout",
     "output_type": "stream",
     "text": [
      "[40, 42, 45, 45, 47, 50, 50, 50, 52, 55, 55, 60]\n"
     ]
    }
   ],
   "source": [
    "'''\n",
    "Write  a  program  to  sort a  list  without  using  sorted()  function  and  sort()  method\n",
    "\n",
    "Input :  [10,20,30,25,40,35,12,5]\n",
    "Output :  [5,10,12,20,25,30,35,40]\n",
    "'''\n",
    "\n",
    "lt = eval(input(\"Enter list: \"))\n",
    "\n",
    "n = len(lt)\n",
    "for i in range(n):\n",
    "    for j in range(0, n-i-1):\n",
    "        if lt[j] > lt[j+1]:\n",
    "            lt[j], lt[j+1] = lt[j+1], lt[j]\n",
    "\n",
    "print(lt)\n"
   ]
  },
  {
   "cell_type": "code",
   "execution_count": null,
   "id": "f7f19686-5f8c-41bf-9dc4-6121fbf17f25",
   "metadata": {},
   "outputs": [],
   "source": []
  }
 ],
 "metadata": {
  "kernelspec": {
   "display_name": "Python 3 (ipykernel)",
   "language": "python",
   "name": "python3"
  },
  "language_info": {
   "codemirror_mode": {
    "name": "ipython",
    "version": 3
   },
   "file_extension": ".py",
   "mimetype": "text/x-python",
   "name": "python",
   "nbconvert_exporter": "python",
   "pygments_lexer": "ipython3",
   "version": "3.13.5"
  }
 },
 "nbformat": 4,
 "nbformat_minor": 5
}

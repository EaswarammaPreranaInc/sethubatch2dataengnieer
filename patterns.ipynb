{
 "cells": [
  {
   "cell_type": "code",
   "execution_count": 35,
   "id": "4dbec2da",
   "metadata": {},
   "outputs": [
    {
     "name": "stdout",
     "output_type": "stream",
     "text": [
      "\n",
      "* \n",
      "* * \n",
      "* * * \n",
      "* * * * \n",
      "* * * * * \n"
     ]
    }
   ],
   "source": [
    "''' \n",
    "(A) simple half pyramid\n",
    "\n",
    "*\n",
    "* *\n",
    "* * *\n",
    "* * * *\n",
    "* * * * *\n",
    "\n",
    "'''\n",
    "n=5\n",
    "for i in range(n+1):\n",
    "    \n",
    "    for j in range(i):\n",
    "        print('*',end=' ')\n",
    "    print()"
   ]
  },
  {
   "cell_type": "code",
   "execution_count": 33,
   "id": "3401fd2d",
   "metadata": {},
   "outputs": [
    {
     "name": "stdout",
     "output_type": "stream",
     "text": [
      "* * * * * \n",
      "* * * * \n",
      "* * * \n",
      "* * \n",
      "* \n",
      "\n"
     ]
    }
   ],
   "source": [
    "''' \n",
    "b) inverted half pyramid\n",
    "\n",
    "* * * * *\n",
    "* * * *\n",
    "* * *\n",
    "* *\n",
    "*\n",
    "'''\n",
    "n=5\n",
    "for i in range(n+1):\n",
    "    for j in range(n-i):\n",
    "        print('*', end=' ')\n",
    "    print()"
   ]
  },
  {
   "cell_type": "code",
   "execution_count": 59,
   "id": "86d7f57a",
   "metadata": {},
   "outputs": [
    {
     "name": "stdout",
     "output_type": "stream",
     "text": [
      "     \n",
      "    * \n",
      "   * * \n",
      "  * * * \n",
      " * * * * \n",
      "* * * * * \n"
     ]
    }
   ],
   "source": [
    "''' \n",
    "c)Full pyramid\n",
    "\n",
    "    *\n",
    "   * *\n",
    "  * * *\n",
    " * * * *\n",
    "* * * * *\n",
    "\n",
    "\n",
    "'''\n",
    "n=5\n",
    "for i in range(n+1):\n",
    "    print(' '*(n-i),end='')\n",
    "    for j in range(i):\n",
    "        print('*',end=' ')\n",
    "    print()\n"
   ]
  },
  {
   "cell_type": "code",
   "execution_count": null,
   "id": "a9603a50",
   "metadata": {},
   "outputs": [
    {
     "name": "stdout",
     "output_type": "stream",
     "text": [
      "* * * * * \n",
      " * * * * \n",
      "  * * * \n",
      "   * * \n",
      "    * \n",
      "     \n"
     ]
    }
   ],
   "source": [
    "''' \n",
    "d)inverted full pyramid\n",
    "* * * * *\n",
    " * * * *\n",
    "  * * *\n",
    "   * *\n",
    "    *\n",
    "'''\n",
    "n=5\n",
    "for i in range(n+1):\n",
    "    print(' '*i,end='')\n",
    "    for j in range(n-i):\n",
    "        print('*',end=' ')\n",
    "    print()"
   ]
  },
  {
   "cell_type": "code",
   "execution_count": 62,
   "id": "00964063",
   "metadata": {},
   "outputs": [
    {
     "name": "stdout",
     "output_type": "stream",
     "text": [
      "     \n",
      "    * \n",
      "   * * \n",
      "  * * * \n",
      " * * * * \n",
      "* * * * * \n",
      " * * * * \n",
      "  * * * \n",
      "   * * \n",
      "    * \n"
     ]
    }
   ],
   "source": [
    "''' \n",
    "e) diamond pyramid\n",
    "\n",
    "    *\n",
    "   * *\n",
    "  * * *\n",
    " * * * *\n",
    "* * * * *\n",
    " * * * *\n",
    "  * * *\n",
    "   * *\n",
    "    *\n",
    "'''\n",
    "n=5\n",
    "for i in range(n+1):\n",
    "    print(' '*(n-i),end='')\n",
    "    print('* '*i)\n",
    "for i in range(n-1,0,-1):\n",
    "    print(' '*(n-i),end='')\n",
    "    print('* '*i)"
   ]
  },
  {
   "cell_type": "markdown",
   "id": "95b33421",
   "metadata": {},
   "source": [
    "### 2. Number Pyramids"
   ]
  },
  {
   "cell_type": "code",
   "execution_count": 64,
   "id": "57e3d57f",
   "metadata": {},
   "outputs": [
    {
     "name": "stdout",
     "output_type": "stream",
     "text": [
      "\n",
      "1 \n",
      "1 2 \n",
      "1 2 3 \n",
      "1 2 3 4 \n",
      "1 2 3 4 5 \n"
     ]
    }
   ],
   "source": [
    "''' \n",
    "a) simple number pyramid\n",
    "\n",
    "1\n",
    "1 2\n",
    "1 2 3\n",
    "1 2 3 4\n",
    "1 2 3 4 5\n",
    "\n",
    "'''\n",
    "n=5\n",
    "for i in range(n+1):\n",
    "    for j in range(i):\n",
    "        print(j+1,end=' ')\n",
    "    print()"
   ]
  },
  {
   "cell_type": "code",
   "execution_count": 27,
   "id": "61d16bd9",
   "metadata": {},
   "outputs": [
    {
     "name": "stdout",
     "output_type": "stream",
     "text": [
      "\n",
      "1 \n",
      "2 2 \n",
      "3 3 3 \n",
      "4 4 4 4 \n",
      "5 5 5 5 5 \n"
     ]
    }
   ],
   "source": [
    "'''\n",
    "b)Repeated number pyramid\n",
    "\n",
    "1\n",
    "2 2\n",
    "3 3 3\n",
    "4 4 4 4\n",
    "5 5 5 5 5\n",
    "\n",
    "'''\n",
    "n=5\n",
    "for i in range(n+1):\n",
    "    for j in range(i):\n",
    "        print(i,end=' ')\n",
    "    print()"
   ]
  },
  {
   "cell_type": "code",
   "execution_count": 72,
   "id": "87fc99d5",
   "metadata": {},
   "outputs": [
    {
     "name": "stdout",
     "output_type": "stream",
     "text": [
      "     \n",
      "    1 \n",
      "   1 2 \n",
      "  1 2 3 \n",
      " 1 2 3 4 \n",
      "1 2 3 4 5 \n"
     ]
    }
   ],
   "source": [
    "'''\n",
    "c) centered number pyramid\n",
    "\n",
    "    1\n",
    "   1 2\n",
    "  1 2 3\n",
    " 1 2 3 4\n",
    "1 2 3 4 5\n",
    "\n",
    "'''\n",
    "n=5\n",
    "for i in range(n+1):\n",
    "    print(' '*(n-i),end='')\n",
    "    for j in range(i):\n",
    "        print(j+1,end=' ')\n",
    "    print()\n"
   ]
  },
  {
   "cell_type": "code",
   "execution_count": 77,
   "id": "6db35d0a",
   "metadata": {},
   "outputs": [
    {
     "name": "stdout",
     "output_type": "stream",
     "text": [
      "1 2 3 4 5 \n",
      "1 2 3 4 \n",
      "1 2 3 \n",
      "1 2 \n",
      "1 \n",
      "\n"
     ]
    }
   ],
   "source": [
    "''' \n",
    "(d) Inverted Number Pyramid\n",
    "\n",
    "1 2 3 4 5\n",
    "1 2 3 4\n",
    "1 2 3\n",
    "1 2\n",
    "1\n",
    "\n",
    "'''\n",
    "n=5\n",
    "for i in range(n+1):\n",
    "    for j in range(n-i):\n",
    "        print(j+1,end=' ')\n",
    "    print()"
   ]
  },
  {
   "cell_type": "code",
   "execution_count": 79,
   "id": "860c6375",
   "metadata": {},
   "outputs": [
    {
     "name": "stdout",
     "output_type": "stream",
     "text": [
      "\n",
      "1 \n",
      "2 3 \n",
      "4 5 6 \n",
      "7 8 9 10 \n"
     ]
    }
   ],
   "source": [
    "'''\n",
    "e) continuous numbers\n",
    "\n",
    "1\n",
    "2 3\n",
    "4 5 6\n",
    "7 8 9 10\n",
    "\n",
    "'''\n",
    "n=5\n",
    "num=1\n",
    "for i in range(n):\n",
    "    for j in range(i):\n",
    "        print(num,end=' ')\n",
    "        num+=1\n",
    "    print()"
   ]
  },
  {
   "cell_type": "markdown",
   "id": "fb019f0d",
   "metadata": {},
   "source": [
    "### 3. Alphabet Pyramids"
   ]
  },
  {
   "cell_type": "code",
   "execution_count": 84,
   "id": "6b407db4",
   "metadata": {},
   "outputs": [
    {
     "name": "stdout",
     "output_type": "stream",
     "text": [
      "\n",
      "A \n",
      "A B \n",
      "A B C \n",
      "A B C D \n",
      "A B C D E \n"
     ]
    }
   ],
   "source": [
    "'''\n",
    "(a) Simple Alphabet Pyramid\n",
    "A\n",
    "A B\n",
    "A B C\n",
    "A B C D\n",
    "A B C D E\n",
    "\n",
    "'''\n",
    "n=5\n",
    "for i in range(n+1):\n",
    "    for j in range(i):\n",
    "        print(chr(65+j),end=' ')\n",
    "    print()"
   ]
  },
  {
   "cell_type": "code",
   "execution_count": 93,
   "id": "053fa6e9",
   "metadata": {},
   "outputs": [
    {
     "name": "stdout",
     "output_type": "stream",
     "text": [
      "\n",
      "A \n",
      "B B \n",
      "C C C \n",
      "D D D D \n"
     ]
    }
   ],
   "source": [
    "'''\n",
    "(b) Repeated Alphabet Pyramid\n",
    "A\n",
    "B B\n",
    "C C C\n",
    "D D D D\n",
    "'''\n",
    "n=5\n",
    "for i in range(n):\n",
    "    for j in range(i):\n",
    "        print(chr(64+i),end=' ')\n",
    "    print()"
   ]
  },
  {
   "cell_type": "code",
   "execution_count": 94,
   "id": "fd07c37c",
   "metadata": {},
   "outputs": [
    {
     "name": "stdout",
     "output_type": "stream",
     "text": [
      "     \n",
      "    A \n",
      "   A B \n",
      "  A B C \n",
      " A B C D \n",
      "A B C D E \n"
     ]
    }
   ],
   "source": [
    "'''\n",
    "(c) Centered Alphabet Pyramid\n",
    "    A\n",
    "   A B\n",
    "  A B C\n",
    " A B C D\n",
    "A B C D E\n",
    "'''\n",
    "n=5\n",
    "for i in range(n+1):\n",
    "    print(' '*(n-i),end='')\n",
    "    for j in range(i):\n",
    "        print(chr(65+j),end=' ')\n",
    "    print()"
   ]
  },
  {
   "cell_type": "markdown",
   "id": "cae8837a",
   "metadata": {},
   "source": [
    "### 4. Special Patterns"
   ]
  },
  {
   "cell_type": "code",
   "execution_count": 99,
   "id": "948c4687",
   "metadata": {},
   "outputs": [
    {
     "name": "stdout",
     "output_type": "stream",
     "text": [
      "\n",
      "1 \n",
      "2 3 \n",
      "4 5 6 \n",
      "7 8 9 10 \n"
     ]
    }
   ],
   "source": [
    "''' \n",
    "(a) Floyd’s Triangle\n",
    "\n",
    "1\n",
    "2 3\n",
    "4 5 6\n",
    "7 8 9 10\n",
    "'''\n",
    "n=5\n",
    "num=1\n",
    "for i in range(n):\n",
    "    for j in range(i):\n",
    "        print(num,end=' ')\n",
    "        num+=1\n",
    "    print()"
   ]
  },
  {
   "cell_type": "code",
   "execution_count": 14,
   "id": "966b0e2b",
   "metadata": {},
   "outputs": [
    {
     "name": "stdout",
     "output_type": "stream",
     "text": [
      "    1 \n",
      "   1 1 \n",
      "  1 2 1 \n",
      " 1 3 3 1 \n"
     ]
    }
   ],
   "source": [
    "'''\n",
    "(b) Pascal’s Triangle\n",
    "\n",
    "      1\n",
    "    1   1\n",
    "  1   2   1\n",
    "1   3   3   1\n",
    "'''\n",
    "n=4\n",
    "for i in range(n):\n",
    "    print(\" \"*(n-i),end='')\n",
    "    num=1\n",
    "    for j in range(i+1):\n",
    "        print(num,end=' ')\n",
    "        num=num*(i-j)//(j+1)\n",
    "    print()\n"
   ]
  },
  {
   "cell_type": "code",
   "execution_count": 103,
   "id": "92ea7edb",
   "metadata": {},
   "outputs": [
    {
     "name": "stdout",
     "output_type": "stream",
     "text": [
      "     \n",
      "    * \n",
      "   * * \n",
      "  *   * \n",
      " *     * \n",
      "* * * * * \n"
     ]
    }
   ],
   "source": [
    "'''\n",
    "(c) Hollow Pyramid\n",
    "\n",
    "    *\n",
    "   * *\n",
    "  *   *\n",
    " *     *\n",
    "* * * * *\n",
    "'''\n",
    "for i in range(n+1):\n",
    "    print(' '*(n-i),end='')\n",
    "    for j in range(i):\n",
    "        if j==0 or j==i-1 or i==n:\n",
    "            print('*',end=' ')\n",
    "\n",
    "        else:\n",
    "            print(' ',end=' ')\n",
    "    print()"
   ]
  },
  {
   "cell_type": "markdown",
   "id": "929b9131",
   "metadata": {},
   "source": [
    "#### square"
   ]
  },
  {
   "cell_type": "code",
   "execution_count": 1,
   "id": "e96a84c7",
   "metadata": {},
   "outputs": [
    {
     "name": "stdout",
     "output_type": "stream",
     "text": [
      "* * * * \n",
      "* * * * \n",
      "* * * * \n",
      "* * * * \n"
     ]
    }
   ],
   "source": [
    "n=4\n",
    "for i in range(n):\n",
    "    for j in range(n):\n",
    "        print('*',end=' ')\n",
    "    print()\n",
    "    "
   ]
  },
  {
   "cell_type": "markdown",
   "id": "3b79c320",
   "metadata": {},
   "source": [
    "### Hollow square"
   ]
  },
  {
   "cell_type": "code",
   "execution_count": 2,
   "id": "48246638",
   "metadata": {},
   "outputs": [
    {
     "name": "stdout",
     "output_type": "stream",
     "text": [
      "* * * * * \n",
      "*       * \n",
      "*       * \n",
      "*       * \n",
      "* * * * * \n"
     ]
    }
   ],
   "source": [
    "size=5\n",
    "for i in range(size):\n",
    "    for j in range(size):\n",
    "        if i==0 or i==size-1 or j==0 or j==size-1:\n",
    "            print('*',end=' ')\n",
    "        else:\n",
    "            print(' ',end=' ')\n",
    "    print()"
   ]
  },
  {
   "cell_type": "markdown",
   "id": "6a3f3945",
   "metadata": {},
   "source": [
    "#### Hollow right angle triangle"
   ]
  },
  {
   "cell_type": "code",
   "execution_count": 3,
   "id": "a116aeaf",
   "metadata": {},
   "outputs": [
    {
     "name": "stdout",
     "output_type": "stream",
     "text": [
      "* \n",
      "* * \n",
      "*   * \n",
      "*     * \n",
      "* * * * * \n"
     ]
    }
   ],
   "source": [
    "n=5\n",
    "for i in range(1,n+1):\n",
    "    for j in range(i):\n",
    "        if j==0 or j==i-1 or i==n:\n",
    "            print(\"*\",end=' ')\n",
    "        else:\n",
    "            print(\" \",end=' ')\n",
    "    print()\n",
    "    \n"
   ]
  },
  {
   "cell_type": "code",
   "execution_count": 1,
   "id": "dd685293",
   "metadata": {},
   "outputs": [
    {
     "name": "stdout",
     "output_type": "stream",
     "text": [
      "ABCDEFGGFEDCBA\n",
      "ABCDEF FEDCBA\n",
      "ABCDE   EDCBA\n",
      "ABCD     DCBA\n",
      "ABC       CBA\n",
      "AB         BA\n",
      "A           A\n"
     ]
    }
   ],
   "source": [
    "'''  Write a python program to print the pattern. Number of rowa will be the input parameter.\n",
    "ABCDEFGFEDCBA\n",
    "ABCDEF FEDCBA\n",
    "ABCDE   EDCBA\n",
    "ABCD     DCBA\n",
    "ABC       CBA\n",
    "AB         BA\n",
    "A           A\n",
    "'''\n",
    "def print_pattern(n):\n",
    "    for i in range(n, 0, -1):\n",
    "        left = \"\"\n",
    "        for j in range(i):\n",
    "            left += chr(65 + j)\n",
    "        spaces = \" \" * ((n - i) * 2 - 1)\n",
    "\n",
    "        # Right side \n",
    "        right = \"\"\n",
    "        for j in range(i - 1, -1, -1):\n",
    "            right += chr(65 + j)\n",
    "\n",
    "        print(left + spaces + right)\n",
    "rows = int(input(\"Enter number of rows: \"))\n",
    "print_pattern(rows)\n",
    "\n"
   ]
  }
 ],
 "metadata": {
  "kernelspec": {
   "display_name": "Python 3",
   "language": "python",
   "name": "python3"
  },
  "language_info": {
   "codemirror_mode": {
    "name": "ipython",
    "version": 3
   },
   "file_extension": ".py",
   "mimetype": "text/x-python",
   "name": "python",
   "nbconvert_exporter": "python",
   "pygments_lexer": "ipython3",
   "version": "3.12.10"
  }
 },
 "nbformat": 4,
 "nbformat_minor": 5
}

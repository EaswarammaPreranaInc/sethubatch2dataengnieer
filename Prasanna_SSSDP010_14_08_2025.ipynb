{
 "cells": [
  {
   "cell_type": "code",
   "execution_count": null,
   "id": "d8548f11",
   "metadata": {},
   "outputs": [
    {
     "name": "stdout",
     "output_type": "stream",
     "text": [
      "4\n",
      "23\n",
      "42\n",
      "46\n",
      "End\n"
     ]
    }
   ],
   "source": [
    "'''\n",
    "Modify  following  program  with  walrus  operator\n",
    "\n",
    "Hint:  Combine  lines  7 , 8  and  10  to  a  single  line  with  walrus  operator\n",
    "'''\n",
    "a = 'Hyd is green city. Hyd is hitec city. Hyd is his city'\n",
    "index = -1\n",
    "\n",
    "while (index := a.find('is', index + 1)) != -1:\n",
    "    print(index)\n",
    "\n",
    "print('End')\n",
    "\n"
   ]
  },
  {
   "cell_type": "code",
   "execution_count": null,
   "id": "386544d9",
   "metadata": {},
   "outputs": [
    {
     "name": "stdout",
     "output_type": "stream",
     "text": [
      "4\n",
      "23\n",
      "42\n",
      "46\n",
      "End\n"
     ]
    }
   ],
   "source": [
    "'''  (Home  work)\n",
    "index()  method  demo  program\n",
    "\n",
    "Modify  the  following  program  with  index()  method\n",
    "'''\n",
    "\n",
    "a = 'Hyd is green city. Hyd is hitec city. Hyd is his city'\n",
    "index = -1\n",
    "\n",
    "try:\n",
    "    while True:\n",
    "        index = a.index('is', index + 1)\n",
    "        print(index)\n",
    "except ValueError:\n",
    "    print('End')\n"
   ]
  },
  {
   "cell_type": "code",
   "execution_count": null,
   "id": "2e913350",
   "metadata": {},
   "outputs": [
    {
     "name": "stdout",
     "output_type": "stream",
     "text": [
      "46\n",
      "42\n",
      "23\n",
      "4\n",
      "End\n"
     ]
    }
   ],
   "source": [
    "'''(Home  work)\n",
    "rfind()  method  demo  program\n",
    "\n",
    "Modify  following  program  with  rfind()  method\n",
    "'''\n",
    "\n",
    "a = 'Hyd is green city. Hyd is hitec city. Hyd is his city'\n",
    "index = a.rfind('is')  \n",
    "\n",
    "while index != -1:\n",
    "    print(index)\n",
    "    index = a.rfind('is', 0, index)  \n",
    "\n",
    "print('End')\n"
   ]
  },
  {
   "cell_type": "code",
   "execution_count": 5,
   "id": "248fb5db",
   "metadata": {},
   "outputs": [
    {
     "name": "stdout",
     "output_type": "stream",
     "text": [
      "46\n",
      "42\n",
      "23\n",
      "4\n",
      "End\n"
     ]
    }
   ],
   "source": [
    "'''  (Home  work)\n",
    "rindex()   method  demo  program\n",
    "\n",
    "Modify  following  program  with  rindex()  method\n",
    "\n",
    "Hint: Use   try  and  except\n",
    "'''\n",
    "a = 'Hyd is green city. Hyd is hitec city. Hyd is his city'\n",
    "\n",
    "try:\n",
    "    index = a.rindex('is')  # first search from the end\n",
    "    while True:\n",
    "        print(index)\n",
    "        index = a.rindex('is', 0, index)  # search to the left of the previous match\n",
    "except ValueError:\n",
    "    print('End')\n"
   ]
  },
  {
   "cell_type": "code",
   "execution_count": null,
   "id": "fffb0ab0",
   "metadata": {},
   "outputs": [],
   "source": [
    "#  count()  method  demo  program (Home  work)\n",
    "a = 'Hyd is green city. Hyd is hitec city. Hyd is his city'\n",
    "print(a . count('is')) #4\n",
    "print(a . count('is' , 19 , 48))#3\n",
    "print(a . count('was'))#0\n"
   ]
  },
  {
   "cell_type": "code",
   "execution_count": null,
   "id": "8bd1f84b",
   "metadata": {},
   "outputs": [],
   "source": [
    "#  Find  outputs  (Home  work)\n",
    "a = 'Hyd is\\tgreen\\ncity.Hyd is\\thitec\\ncity.Hyd is\\this\\ncity'\n",
    "print(a . count(' '))#3\n",
    "print(a . count('\\t'))#3\n",
    "print(a . count('\\n'))#3"
   ]
  },
  {
   "cell_type": "code",
   "execution_count": 9,
   "id": "f1aa87d0",
   "metadata": {},
   "outputs": [
    {
     "name": "stdout",
     "output_type": "stream",
     "text": [
      "ba**le\n"
     ]
    }
   ],
   "source": [
    "'''\n",
    "Write  a  program  to  replace  every  occurance  of  first  character  in  the  string  with  '*'  except  first  character\n",
    "\n",
    "Let  input  be  'babble'\n",
    "What  is  the  output ?  ---> ba**le\n",
    "'''\n",
    "a = 'babble'\n",
    "result = a[0] + a[1:].replace(a[0], '*')\n",
    "print(result)\n"
   ]
  },
  {
   "cell_type": "code",
   "execution_count": null,
   "id": "ab541f42",
   "metadata": {},
   "outputs": [],
   "source": [
    "#  Find  outputs  (Home  work)\n",
    "a = '15:36:48'\n",
    "print(a . split(':'))#['15','36','48']\n",
    "print(a)# 15:36:48"
   ]
  },
  {
   "cell_type": "code",
   "execution_count": null,
   "id": "e463a987",
   "metadata": {},
   "outputs": [],
   "source": [
    "# Find  outputs  (Home  work)\n",
    "a = 'Hyd\\nis green\\tcity'\n",
    "print(a . split(' '))#['Hyd\\nis', 'green\\tcity']\n",
    "print(a . split())#['Hyd', 'is', 'green', 'city']\n",
    "print(a . split('green'))#['Hyd\\nis ', '\\tcity']\n",
    "print(a . split(''))#Error "
   ]
  },
  {
   "cell_type": "code",
   "execution_count": null,
   "id": "6cd7ff12",
   "metadata": {},
   "outputs": [],
   "source": [
    "# Find  outputs  (Home  work)\n",
    "a = 'Hyd\tis\tgreen\tcity' #  There  is  tab  between  the  words\n",
    "print(a . split('\\t'))#['Hyd', 'is', 'green', 'city']\n",
    "print(a . split())#['Hyd', 'is', 'green', 'city']\n",
    "print(a . split(' '))#['Hyd\\tis\\tgreen\\tcity']"
   ]
  },
  {
   "cell_type": "code",
   "execution_count": null,
   "id": "be876db8",
   "metadata": {},
   "outputs": [],
   "source": [
    "# Find  outputs (Home  work)\n",
    "a = 'Hyd   is   green   city'  #  There  are  3  spaces  between  the  words\n",
    "print(a . split())#['Hyd', 'is', 'green', 'city']\n",
    "print(a . split(' '))#['Hyd', '', '','','is', '', '','', 'green', '', '','', 'city']"
   ]
  },
  {
   "cell_type": "code",
   "execution_count": null,
   "id": "730b14e3",
   "metadata": {},
   "outputs": [],
   "source": [
    "# Find  outputs  (Home  work)\n",
    "a = 'www.gmail.com'\n",
    "print(a . split('.'))#['www', 'gmail', 'com']"
   ]
  },
  {
   "cell_type": "code",
   "execution_count": 18,
   "id": "daec50da",
   "metadata": {},
   "outputs": [
    {
     "name": "stdout",
     "output_type": "stream",
     "text": [
      "Sum: 963\n"
     ]
    }
   ],
   "source": [
    "'''\n",
    "Write  a  program  to  evaluate  an  expression  which  contains  only  +  symbols\n",
    "Let  input  be  123+45+6+789\n",
    "Print  the  sum  result\n",
    "'''\n",
    "a = input(\"Enter the expression:\")\n",
    "b = a.split('+')  \n",
    "sum = 0\n",
    "for i in b:\n",
    "    sum += int(i) \n",
    "print('Sum:',sum)\n"
   ]
  },
  {
   "cell_type": "code",
   "execution_count": null,
   "id": "3d600684",
   "metadata": {},
   "outputs": [],
   "source": [
    "#  Find  outputs  (Home  work)\n",
    "a = ['15' , '36' , '48']\n",
    "print(':' . join(a))#15:36:48\n",
    "b = ('Hyd' , 'is' , 'green' , 'city')\n",
    "print(' ' . join(b))# Hyd is green city\n",
    "c = {'10' , '20' , '15' , '25' , '52'}\n",
    "print(',' . join(c))#10,20,15,25,52\n",
    "d = ['www' , 'gmail', 'com']\n",
    "print('.' . join(d))#www.gmail.com\n",
    "e = [15 , 36 , 48]\n",
    "print(':' . join(e))#15:36:48\n",
    "f = ['Sankar' , 'Dayal' , 'Sarma']\n",
    "print('' . join(f))#SankarDayalSarma\n",
    "g = range(5)\n",
    "print('-' . join(g))#0-1-2-3-4"
   ]
  },
  {
   "cell_type": "code",
   "execution_count": null,
   "id": "97eacf9b",
   "metadata": {},
   "outputs": [],
   "source": [
    "# endswith()  method  demo  progrram (Home  work)\n",
    "a = 'Hyd is green city'\n",
    "print(a . endswith('city'))#True\n",
    "print(a . endswith('town'))#False\n",
    "print(a . endswith('green' , 3 , 12))#True\n",
    "print(a . endswith('green' , 3 , 13))#False\n",
    "print(a . endswith(' ' , 3 , 13))#True"
   ]
  },
  {
   "cell_type": "code",
   "execution_count": 22,
   "id": "747ebcfb",
   "metadata": {},
   "outputs": [
    {
     "name": "stdout",
     "output_type": "stream",
     "text": [
      "interestingly\n"
     ]
    }
   ],
   "source": [
    "'''\n",
    "Write  a  program  to  append  'ing'  to  input  string.\n",
    "Append  'ly'  to  the  string  if  the  string  already  ends  with  'ing'.\n",
    "Leave  the  string  unchanged  if  string  has  lessthan  three  characters\n",
    "\n",
    "1) What  is  the  output  if  input  is  'interest' ?  ---> interesting\n",
    "\n",
    "2) What  is  the  output  if  input  is  'interesting' ? --->  interestingly\n",
    "\n",
    "3) What  is  the  output  if  input  is  Hi ?  --->  Hi  itself\n",
    "'''\n",
    "a = input(\"Enter a string: \")\n",
    "\n",
    "if len(a) < 3:\n",
    "    result = a\n",
    "elif a.endswith('ing'):\n",
    "    result = a + 'ly'\n",
    "else:\n",
    "    result = a + 'ing'\n",
    "\n",
    "print(result)\n"
   ]
  },
  {
   "cell_type": "code",
   "execution_count": null,
   "id": "3f4798c2",
   "metadata": {},
   "outputs": [],
   "source": [
    "#  isalpha()  method  demo  program (Home  work)\n",
    "print('Hyd'  . isalpha())  #   True\n",
    "print('Rama  Rao'  . isalpha()) #   False\n",
    "print('Hyd4'  . isalpha())#False\n",
    "print('Hyd$'  . isalpha())#False\n",
    "print('9247'  .  isalpha())#False\n",
    "print('+-$'    .  isalpha())#False\n",
    "print('A2#'  .   isalpha())#False\n",
    "print(''  .  isalpha())#False\n",
    "print(' '  .  isalpha())#False\n"
   ]
  },
  {
   "cell_type": "code",
   "execution_count": null,
   "id": "34d0c950",
   "metadata": {},
   "outputs": [],
   "source": [
    "# isdigit()  method  demo  program  (Home  work)\n",
    "print('9247' . isdigit())  # True\n",
    "print('92a47' . isdigit())  # False\n",
    "print('92$47' . isdigit())#False\n",
    "print('Hyd' . isdigit())#False\n",
    "print('+-$' . isdigit())#False\n",
    "print('A2#' . isdigit())#False\n",
    "print('' . isdigit())#False\n",
    "print(' ' . isdigit())#False\n",
    "print(9247 . isdigit())#Error due to not present in string"
   ]
  },
  {
   "cell_type": "code",
   "execution_count": null,
   "id": "a4259a85",
   "metadata": {},
   "outputs": [],
   "source": [
    "# isupper()  method  demo  program  (Home  work)\n",
    "print('HYd' . isupper())  #   False\n",
    "print('HYD' . isupper()) #   True\n",
    "print('9247' . isupper())  #   False\n",
    "print('RAMA  RAO' . isupper())#True\n",
    "print('+-$' . isupper())#False\n",
    "print('HYD123' . isupper())#True\n",
    "print('HYD+-$' . isupper())#True\n",
    "print('' . isupper())#False\n",
    "print('A2#' . isupper())#True\n"
   ]
  },
  {
   "cell_type": "code",
   "execution_count": null,
   "id": "920e06e0",
   "metadata": {},
   "outputs": [],
   "source": [
    "# islower()  method  demo  program  (Home  work)\n",
    "print('hyD' . islower())  #  False\n",
    "print('hyd' . islower())  #  True\n",
    "print('9247' . islower())  #  False\n",
    "print('rama  rao' . islower())#True\n",
    "print('+-$' . islower())#False\n",
    "print('hyd+-$' . islower())#True\n",
    "print('abc123' . islower())#True\n",
    "print('' . islower())#False\n",
    "print('a2#' . islower())#True\n"
   ]
  },
  {
   "cell_type": "code",
   "execution_count": null,
   "id": "3a6f6815",
   "metadata": {},
   "outputs": [],
   "source": [
    "# isalnum()  method  demo  program  (Home  work)\n",
    "print('A7$g'  . isalnum())  #  False\n",
    "print('HYD' . isalnum())  #  True\n",
    "print('+-$' . isalnum())#False\n",
    "print('hyd' . isalnum())#True\n",
    "print('hYd' . isalnum())#True\n",
    "print('9247' . isalnum())#True\n",
    "print('' . isalnum())#False\n",
    "print('A7g9'  . isalnum())#True"
   ]
  },
  {
   "cell_type": "code",
   "execution_count": null,
   "id": "1dcacb21",
   "metadata": {},
   "outputs": [],
   "source": [
    "# isspace()  method  demo  program  (Home  work)\n",
    "print('\\n  A\\t' . isspace())  #  False\n",
    "print('\\n  \\t' . isspace()) #  True\n",
    "print('\\n  7\\t' . isspace())#False\n",
    "print('\\n' . isspace())#True\n",
    "print('\\n  $\\t' . isspace())#False\n",
    "print('\\t' . isspace())#True\n",
    "print('' . isspace())#False\n",
    "print(' ' . isspace())#True\n"
   ]
  },
  {
   "cell_type": "code",
   "execution_count": null,
   "id": "7999418a",
   "metadata": {},
   "outputs": [],
   "source": [
    "# Find  outputs  (Home  work)\n",
    "a , b , c = 25 , 10.8 , 'Hyd'\n",
    "print('a  :  {}  \\t  b  :  {}  \\t  c  :  {}  '  .  format(a , b , c))#a  :  25  \t  b  :  10.8  \t  c  :  Hyd\n",
    "print('a  :  {0}  \\t  b  :  {1}  \\t  c  :  {2}  ' . format(a , b , c))#a  :  25  \t  b  :  10.8  \t  c  :  Hyd\n",
    "print('a  :  {2}  \\t  b  :  {1}  \\t  c  :  {0}  ' . format(a , b , c))#a  :  Hyd  \t  b  :  10.8  \t  c  :  25\n",
    "print('a  :  {2}  \\t  b  :  {2}  \\t  c  :  {2}  ' . format(a , b , c))#a  :  Hyd  \t  b  :  Hyd  \t  c  :  Hyd\n",
    "print('a  :  {x}  \\t  b  :  {y}  \\t  c  :  {z}  ' . format(x = a , y = b , z = c))#a  :  25  \t  b  :  10.8  \t  c  :  Hyd\n",
    "print('a  :  {x}  \\t  b  :  {y}  \\t  c  :  {z}  ' . format(z = a , y = b , x = c))#a  :  Hyd  \t  b  :  10.8  \t  c  :  25\n",
    "print('a  :  {z}  \\t  b  :  {z}  \\t  c  :  {z}  ' . format(z = a , y = b , x = c))#a  :  25  \t  b  :  25  \t  c  :  25"
   ]
  },
  {
   "cell_type": "code",
   "execution_count": 2,
   "id": "ae241e8c",
   "metadata": {},
   "outputs": [
    {
     "name": "stdout",
     "output_type": "stream",
     "text": [
      "Alpha Numeric character\n",
      "Alphabet character\n",
      "Upper case Alphabet\n"
     ]
    }
   ],
   "source": [
    "'''\n",
    "Write  a  program  to  determine  user  input  is  alphabet , digit , white space  or  special  character\n",
    "\n",
    "1) What  are  the  three  outputs  if  input  is  'A' ?  --->  Alphanumeric  character , Alphabet character , Upper case  alphabet\n",
    "\n",
    "2) What  are  the  three  outputs  if  input  is  'a' ?  ---> Alphanumeric  character , Alphabet character , lower case  alphabet\n",
    "\n",
    "3) What  are  the  two  outputs  if  input  is  '7' ?  ---> Alphanumeric  character , digit  character\n",
    "\n",
    "4) What  is  the  output  if  input  is  '$' ?  ---> Special  character\n",
    "\n",
    "5) What  is  the  output  if  input  is  <spacebar> ?  --->  White  space\n",
    "\n",
    "6) What  is  the  output  if  input  is  <tab>  key ?  --->  White  space\n",
    "\n",
    "7) What  is  the  output  if  input   is   <enter>   key ?  ---> White  space\n",
    "\n",
    "8) Hint2:  Use  nested  if  and   elif\n",
    "'''\n",
    "ch = input(\"Enter any character: \")\n",
    "\n",
    "if ch.isalnum(): \n",
    "    print(\"Alpha Numeric character\")\n",
    "    if ch.isalpha():  \n",
    "        print(\"Alphabet character\")\n",
    "        if ch.isupper():\n",
    "            print(\"Upper case Alphabet\")\n",
    "        elif ch.islower():\n",
    "            print(\"Lower case Alphabet\")\n",
    "    elif ch.isdigit():  \n",
    "        print(\"Digit character\")\n",
    "\n",
    "elif ch.isspace():  \n",
    "    print(\"White space\")\n",
    "\n",
    "else:  \n",
    "    print(\"Special character\")\n"
   ]
  },
  {
   "cell_type": "code",
   "execution_count": 4,
   "id": "62dbc014",
   "metadata": {},
   "outputs": [
    {
     "name": "stdout",
     "output_type": "stream",
     "text": [
      "Reverse String: oaR amaR\n"
     ]
    }
   ],
   "source": [
    "'''\n",
    "Write  a  program  to  reverse  a  string  without  slice\n",
    "\n",
    "1) Let  input  be   Hyd\n",
    "    What  is  the  output ?  --->  dyH\n",
    "\n",
    "2)   H       y      d\n",
    "      -3     -2     -1\n",
    "\n",
    "      i       a[-i]            b\n",
    "    ---------------------------------------\n",
    "                                ''\n",
    "     1        'd'             '' + 'd' = 'd'\n",
    "     2       'y'             'd' + 'y' = 'dy'\n",
    "     3       'H'            'dy' + 'H' = 'dyH'\n",
    "  ---------------------------------------------\n",
    "'''\n",
    "a = input(\"Enter a string: \")\n",
    "b = '' \n",
    "\n",
    "for i in range(1, len(a) + 1):  \n",
    "    b = b + a[-i] \n",
    "\n",
    "print(\"Reverse String:\", b)\n"
   ]
  },
  {
   "cell_type": "code",
   "execution_count": 5,
   "id": "a5c98334",
   "metadata": {},
   "outputs": [
    {
     "name": "stdout",
     "output_type": "stream",
     "text": [
      "Reversed order of words: city green is Hyd\n"
     ]
    }
   ],
   "source": [
    "'''\n",
    "Write  a  program  to  reverse  order  of  words  in  the  sentence  without  slice\n",
    "\n",
    "1) Let  input  be  Hyd  is  green  city\n",
    "    What  is  the  output ?  ---> city   green   is   Hyd\n",
    "\n",
    "2) What  is  the  result  of  input . split() ?  --->  ['Hyd' , 'is' , 'green' , 'city']   --->   Assume  that  it  is  'b'\n",
    "\n",
    "3) i        b[-i]           c\n",
    "   ---------------------------------------------\n",
    "                              ''\n",
    "   1        'city'         '' + 'city' + ' '=  'city '\n",
    "   2        'green'     'city ' + 'green' + ' ' = 'city green '\n",
    "   3        'is'            'city green ' + 'is' + ' ' =  'city green is '\n",
    "   4        'Hyd'        'city green is ' + 'Hyd' + ' ' = 'city green is Hyd '\n",
    "   --------------------------------------------------------\n",
    "'''\n",
    "\n",
    "a = input(\"Enter a sentence: \")\n",
    "b = a.split()  \n",
    "c = ''         \n",
    "\n",
    "for i in range(1, len(b) + 1):  \n",
    "    c = c + b[-i] + ' '\n",
    "\n",
    "print(\"Reversed order of words:\", c.strip())\n"
   ]
  },
  {
   "cell_type": "code",
   "execution_count": 6,
   "id": "6ee27f2b",
   "metadata": {},
   "outputs": [
    {
     "name": "stdout",
     "output_type": "stream",
     "text": [
      "dyH si neerg ytic\n"
     ]
    }
   ],
   "source": [
    "'''\n",
    "Write  a  program  to  reverse  each  word  of  the  sentence\n",
    "\n",
    "1) Let  input  be  Hyd  is  green  city\n",
    "    What  is  the  output ?  ---> dyH si neerg ytic\n",
    "\n",
    "2) Hint: Use  for  each  loop  and  also  slice\n",
    "'''\n",
    "a = input(\"Enter a sentence: \")\n",
    "b = a.split()  \n",
    "c = ''         \n",
    "\n",
    "for word in b:               \n",
    "    c = c + word[::-1] + ' '  \n",
    "\n",
    "print(c.strip())\n"
   ]
  },
  {
   "cell_type": "code",
   "execution_count": 7,
   "id": "33735c5d",
   "metadata": {},
   "outputs": [
    {
     "name": "stdout",
     "output_type": "stream",
     "text": [
      "AEHJRS\n"
     ]
    }
   ],
   "source": [
    "'''\n",
    "Write  a  program  to  sort  string  in  alphabetical  order\n",
    "\n",
    "Let  input  be  RAJESH\n",
    "What  is  the  output ?  --->  AEHJRS\n",
    "'''\n",
    "a = input(\"Enter a string: \")\n",
    "b = ''.join(sorted(a)) \n",
    "print(b)\n"
   ]
  },
  {
   "cell_type": "code",
   "execution_count": 8,
   "id": "6307d21b",
   "metadata": {},
   "outputs": [
    {
     "name": "stdout",
     "output_type": "stream",
     "text": [
      "ADKPZ13579\n"
     ]
    }
   ],
   "source": [
    "'''\n",
    "Write  a  program  to  sort  string  such  that  alphabets  in  alphabetical  order  and  digits  in  ascending  order\n",
    "\n",
    "Let  input  be  Z9K3PA7D51\n",
    "What  is  the  output ?  --->  ADKPZ13579\n",
    "\n",
    "1)What  is  the  result  after  input  is  sorted ?  --->  '13579ADKPZ'\n",
    "\n",
    "2) alpha = '' + 'A' + 'D' + 'K' + 'P' + 'Z'\n",
    "    digit = '' + '1' + '3' + '5' + '7' + '9'\n",
    "\n",
    "3) What  is  the  result  after  alpha  and  digit  are  concatenated ?  --->  'ADKPZ13579'\n",
    "'''\n",
    "a = input(\"Enter a string: \")\n",
    "sorted_str = ''.join(sorted(a))\n",
    "alpha = ''\n",
    "digit = ''\n",
    "for ch in sorted_str:\n",
    "    if ch.isalpha():\n",
    "        alpha += ch\n",
    "    elif ch.isdigit():\n",
    "        digit += ch\n",
    "result = alpha + digit\n",
    "print(result)\n"
   ]
  }
 ],
 "metadata": {
  "kernelspec": {
   "display_name": "Python 3",
   "language": "python",
   "name": "python3"
  },
  "language_info": {
   "codemirror_mode": {
    "name": "ipython",
    "version": 3
   },
   "file_extension": ".py",
   "mimetype": "text/x-python",
   "name": "python",
   "nbconvert_exporter": "python",
   "pygments_lexer": "ipython3",
   "version": "3.13.2"
  }
 },
 "nbformat": 4,
 "nbformat_minor": 5
}

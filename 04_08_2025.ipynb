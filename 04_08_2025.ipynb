{
 "cells": [
  {
   "cell_type": "code",
   "execution_count": 10,
   "id": "6c334663",
   "metadata": {},
   "outputs": [
    {
     "name": "stdout",
     "output_type": "stream",
     "text": [
      "enter any list: [10,20,15,12,18]\n",
      "Enter the element to be searched : 3+4j\n",
      "Not  Found\n"
     ]
    }
   ],
   "source": [
    "'''\n",
    "Write  a  program  to  search  for  an  element  in  the  list  without  using  in  operator  and\n",
    "print  Found  or  Not  Found  message  (Assume  that  there  are  no  duplicates)\n",
    "\n",
    "Let  list  be   [10 , 20 , 15 , 12 , 18]\n",
    "1) What  is  the  output  if  15  is  seacrhed ?  --->  Found  at  index  2\n",
    "\n",
    "2) What  is  the  output  if  19  is  seacrhed ?  --->  Not  found\n",
    "\n",
    "3) What  action  to  be  made  when  'x'  does  not  match  with  the  current  element  of  list ?  --->\n",
    "\t\t\t\t\t\t\t\t\t\t\t\t\t\t\t\t\t\t\t\t\t\tCompare  'x'  with  next  element  of  list\n",
    "\n",
    "4) What  action  to  be  made  when  'x'  matches   with  list  element ?  --->\n",
    "\t\t\t\t\t\t\t\t\t\t\t\t\t\t\t\t\t\t\t\tPrint  found   message  along  with  index  and\n",
    "\t\t\t\t\t\t\t\t\t\t\t\t\t\t\t\t\t\t\t\tdo  not  search  for  'x'  in  rest  of  the  list\n",
    "\n",
    "5) What  action  to  be  made  when  'x'   does  not  match  with  all  the  elements  of  list ?  --->\n",
    "\t\t\t\t\t\t\t\t\t\t\t\t\t\t\t\t\t\t\t\t\t\t\t\t\t\tPrint  not  found   message\n",
    "\n",
    "6) Hint: Use  for  loop\n",
    "'''\n",
    "try:\n",
    "    a=eval(input(\"enter any list: \"))\n",
    "    b=eval(input(\"Enter the element to be searched : \"))\n",
    "    for i in range(len(a)):\n",
    "        if a[i]==b:\n",
    "            print(f'Found  at   index  :   {i}')\n",
    "            break\n",
    "    else:\n",
    "        print(\"Not  Found\")\n",
    "except:\n",
    "    print(\"enter list values only\")"
   ]
  },
  {
   "cell_type": "code",
   "execution_count": 13,
   "id": "a0cbf3c1",
   "metadata": {},
   "outputs": [
    {
     "name": "stdout",
     "output_type": "stream",
     "text": [
      "enter any list: [10 , 20 , 15 , 12 , 18 , 15 , 19 , 14 , 15 , 14]\n",
      "Enter the element to be searched : 15\n",
      "Found  at   index  :   2\n",
      "Found  at   index  :   5\n",
      "Found  at   index  :   8\n",
      "15 is found 3 times\n"
     ]
    }
   ],
   "source": [
    "'''\n",
    "Write  a  program  to  search  for  an  element  in  the  list  and  print  index  of  each  element\n",
    "and  also  number  of  times  it  is  found (Assume  that  list  may  contain  duplicate  elements)\n",
    "\n",
    "List :   [10 , 20 , 15 , 12 , 18 , 15 , 19 , 14 , 15 , 14]\n",
    "\n",
    "Search  for  15\n",
    "\n",
    "Outputs :  15  is  found  at  index  2\n",
    "                 15  is  found  at  index  5\n",
    "                 15  is  found  at  index  8\n",
    "                 15  is  found   3  times\n",
    "'''\n",
    "\n",
    "try:\n",
    "    a=eval(input(\"enter any list: \"))\n",
    "    b=eval(input(\"Enter the element to be searched : \"))\n",
    "    c=0\n",
    "    for i in range(len(a)):\n",
    "        if a[i]==b:\n",
    "            print(f'Found  at   index  :   {i}')\n",
    "            c+=1\n",
    "    if c>0:\n",
    "        print(f'{b} is found {c} times')\n",
    "    else:\n",
    "        print(\"Not  Found\")\n",
    "except:\n",
    "    print(\"enter list values only\")"
   ]
  },
  {
   "cell_type": "code",
   "execution_count": 18,
   "id": "46931777",
   "metadata": {},
   "outputs": [
    {
     "name": "stdout",
     "output_type": "stream",
     "text": [
      "Enter input  (ctrl + z  to  stop) : 3\n",
      "Enter input  (ctrl + z  to  stop) : 5\n",
      "Enter input  (ctrl + z  to  stop) : 6\n",
      "Enter input  (ctrl + z  to  stop) : 9\n",
      "Enter input  (ctrl + z  to  stop) : 4\n",
      "Enter input  (ctrl + z  to  stop) : \n",
      "27\n"
     ]
    }
   ],
   "source": [
    "'''\n",
    "(Home  work)\n",
    "Write  a  program to  determine  average  of  inputs  which  are  terminated  with  ctrl + z\n",
    "(without  walrus  operator)\n",
    "\n",
    "Let  inputs  be  25 , 10.8 , True ,  ctrl + z\n",
    "\n",
    "sum = 0 + 25 + 10.8 + True = 36.8\n",
    "ctr = 0 + 1 + 1 + 1 = 3\n",
    "\n",
    "1) What  is  ctrl + z ?  ---> End  of  inputs  i.e.  No  more  inputs\n",
    "\n",
    "2) What  does  input()  function  do  when  input  is  ctrl + z ?  ---> Throws  EOFError\n",
    "\n",
    "3) How  is   end  of  inputs  denoted  in  unix ?  ---> ctrl + d\n",
    "'''\n",
    "try:\n",
    "    a=0\n",
    "    while True:\n",
    "        b=eval(input(\"Enter input  (ctrl + z  to  stop) : \"))\n",
    "        a+=b\n",
    "except:\n",
    "    print(a)"
   ]
  },
  {
   "cell_type": "code",
   "execution_count": null,
   "id": "ad9cb27c",
   "metadata": {},
   "outputs": [],
   "source": []
  }
 ],
 "metadata": {
  "kernelspec": {
   "display_name": "Python 3 (ipykernel)",
   "language": "python",
   "name": "python3"
  },
  "language_info": {
   "codemirror_mode": {
    "name": "ipython",
    "version": 3
   },
   "file_extension": ".py",
   "mimetype": "text/x-python",
   "name": "python",
   "nbconvert_exporter": "python",
   "pygments_lexer": "ipython3",
   "version": "3.11.5"
  }
 },
 "nbformat": 4,
 "nbformat_minor": 5
}

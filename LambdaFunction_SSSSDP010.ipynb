{
 "cells": [
  {
   "cell_type": "code",
   "execution_count": null,
   "id": "aa63a1db",
   "metadata": {},
   "outputs": [],
   "source": [
    "#  Find  outputs  (Home  work)\n",
    "def  change(b):\n",
    "\tb . append(25)#[10,20,15,18,25]\n",
    "\tb[2] = 17#[10,20,17,18,25]\n",
    "\tdel  b[1]#[10,17,18,25]\n",
    "# End  of  the  function\n",
    "a = [10 , 20 , 15 , 18]\n",
    "print(a)#[10,20,15,18]\n",
    "change(a)\n",
    "print(a)#[10,17,18,25]"
   ]
  },
  {
   "cell_type": "code",
   "execution_count": null,
   "id": "3d66ab09",
   "metadata": {},
   "outputs": [],
   "source": [
    "# Find  outputs  (Home  work)\n",
    "def  change(b):\n",
    "\tb  = [50 , 60 , 70 , 80]\n",
    "\tprint(b)#[50,60,70,80]\n",
    "# End  of  the  function\n",
    "a = [10 , 20 , 30 , 40]\n",
    "print(a)#[10,20,30,40]\n",
    "change(a)\n",
    "print(a)#[10,20,30,40]"
   ]
  },
  {
   "cell_type": "code",
   "execution_count": null,
   "id": "f5259ddb",
   "metadata": {},
   "outputs": [],
   "source": [
    "#  Find  outputs  (Home  work)\n",
    "def   f1(x):\n",
    "\tx = 20\n",
    "\tprint(x)#20\n",
    "# End  of   the   function\n",
    "x = 10\n",
    "print(x)#10\n",
    "f1(x)\n",
    "print(x)#10"
   ]
  },
  {
   "cell_type": "code",
   "execution_count": null,
   "id": "c1392a9d",
   "metadata": {},
   "outputs": [],
   "source": [
    "#  Find  outputs  (Home  work)\n",
    "def  f1(b):\n",
    "\tb[2] = 25#Error\n",
    "#end  of  the  function\n",
    "a = (10 , 20 , 15 , 18)\n",
    "print(a)#(10,20,15,18)\n",
    "f1(a)\n",
    "print(a)#(10,20,15,18)"
   ]
  },
  {
   "cell_type": "code",
   "execution_count": null,
   "id": "c461a86b",
   "metadata": {},
   "outputs": [],
   "source": [
    "# Find  outputs (Home  work)\n",
    "square = lambda  x = 10  :   x * x\n",
    "print(square(5))#25\n",
    "print(square())#100"
   ]
  },
  {
   "cell_type": "code",
   "execution_count": null,
   "id": "22dfe7e3",
   "metadata": {},
   "outputs": [],
   "source": [
    "# Find  outputs  (Home  work)\n",
    "print((lambda   x  :   x * x) (7))#49\n",
    "print( lambda   x  :  x * x(7))#Type and address of function \n",
    "print( lambda   x  :   x * x)#type and address of function\n",
    "print( (lambda  x = 25 :  x * x) () )#625\n",
    "square = lambda  x :  x  *  x\n",
    "print(square(5))#25"
   ]
  },
  {
   "cell_type": "code",
   "execution_count": null,
   "id": "88bde8d2",
   "metadata": {},
   "outputs": [],
   "source": [
    "# Find  output (Home  work)\n",
    "add=lambda a,b: a+b#How  to  define  lambda  function   to  return  sum   of  two  arguments\n",
    "print(type(add))#class function\n",
    "print(add(10 , 20))#30\n",
    "print(add(10.6 , 20.8))#31.4\n",
    "print(add('Hyder' , 'abad'))#Hyderabad\n",
    "print(add(True , False))#1\n",
    "print(add(25 , 10.8))#35.8\n",
    "print(add(3 + 4j , 5 + 6j))#8+10j\n",
    "print(add(10 , '20'))#Error due to int and str cannot add\n",
    "print(add())#Error function is expecting 2 arguments\n",
    "print(add)#Type and address of function"
   ]
  },
  {
   "cell_type": "code",
   "execution_count": null,
   "id": "21638d0c",
   "metadata": {},
   "outputs": [],
   "source": [
    "#  Find  outputs (Home  work)\n",
    "add = lambda  a = 1 , b = 2 :  a + b\n",
    "print(add(10 , 20))#30\n",
    "print(add())#3"
   ]
  },
  {
   "cell_type": "code",
   "execution_count": null,
   "id": "47449329",
   "metadata": {},
   "outputs": [],
   "source": [
    "#  Find  outputs (Home work)\n",
    "print((lambda  x , y : x + y) (10 , 20) )#30\n",
    "print((lambda  x , y : x + y) (10.8 , 20.6))#31.5\n",
    "print((lambda  x , y : x + y) ('Hyder' , 'abad'))#Hyderabad\n",
    "print(lambda  x , y : x + y  ('Hyder'  ,  'abad'))#type and address"
   ]
  },
  {
   "cell_type": "code",
   "execution_count": null,
   "id": "af2c59ee",
   "metadata": {},
   "outputs": [],
   "source": [
    "#  Find  outputs (Home  work)\n",
    "large=lambda x,y: max(x,y)#How  to  define  lambda  to  detrmine  largest  of  two  arguments\n",
    "print(large(10  ,  20))#20\n",
    "print(large(10.7  ,  5.6))#10.7\n",
    "print(large('g'  ,  's'))#s\n",
    "print(large('Rama'  ,  'Rajesh'))#Rama\n",
    "print(large(True  ,  False))#True"
   ]
  },
  {
   "cell_type": "code",
   "execution_count": null,
   "id": "5295b941",
   "metadata": {},
   "outputs": [],
   "source": [
    "#Find  outputs (Home  work)\n",
    "power = lambda  a = 3.5 , b = 2  :  a ** b\n",
    "print(power(2 , 3))#8\n",
    "print(power(4.5 , 4))#410.0625\n",
    "print(power())#12.25\n",
    "print(power(9))#81"
   ]
  },
  {
   "cell_type": "code",
   "execution_count": null,
   "id": "922ca45e",
   "metadata": {},
   "outputs": [],
   "source": [
    "# Find  outputs\n",
    "all = lambda  a , b :  (a + b ,  a - b , a * b , a / b)\n",
    "x = all(10 , 7)\n",
    "print(type(x))#class tuple\n",
    "print(x)#(17,3,70,1.42)\n",
    "p , q , r , s = all(9 , 2)\n",
    "print(p)#11\n",
    "print(q)#7\n",
    "print(r)#18\n",
    "print(s)#4.5"
   ]
  },
  {
   "cell_type": "code",
   "execution_count": null,
   "id": "91c3b3ba",
   "metadata": {},
   "outputs": [],
   "source": [
    "#  Find  outputs\n",
    "a  =  lambda  :  'Hyd'\n",
    "print(a())#Hyd\n",
    "print(a)#Type and address of function"
   ]
  },
  {
   "cell_type": "code",
   "execution_count": null,
   "id": "74c3691f",
   "metadata": {},
   "outputs": [],
   "source": [
    "# Find  outputs\n",
    "a  =  lambda  :  print('Hyd')  ;  print('Sec');  print('Cyb')\n",
    "print(a())#Sec Cyb Hyd None"
   ]
  },
  {
   "cell_type": "code",
   "execution_count": null,
   "id": "ee2d3c0d",
   "metadata": {},
   "outputs": [],
   "source": [
    "# Find  outputs   (Home  work)\n",
    "a  =  lambda  :  print('Hyd')  , print('Sec')  , print('Cyb')#Sec Cyb\n",
    "print(type(a))# class tuple\n",
    "print(a) #(type and address,None,None)\n",
    "for  x  in  a:\n",
    "\tprint(x)#Type and address  None  None\n",
    "a()#Error \n",
    "print(a[0]())#Hyd None"
   ]
  },
  {
   "cell_type": "code",
   "execution_count": null,
   "id": "c66ee610",
   "metadata": {},
   "outputs": [],
   "source": [
    "#  Find  outputs  (Home  work)\n",
    "s = 'Hyd'\n",
    "print(lambda  s  :  print(s))#Type and address\n",
    "print(lambda  x  :  print(x) (s))#type and address\n",
    "print((lambda  x  :  print(x)) (s))#Hyd\n",
    "(lambda  x  :  print(x)) (s)#Hyd None"
   ]
  },
  {
   "cell_type": "code",
   "execution_count": null,
   "id": "46c5ebb5",
   "metadata": {},
   "outputs": [],
   "source": [
    "# Find outputs  (Home  work)\n",
    "x = 5\n",
    "adder1 = lambda  y , x = x  : x + y\n",
    "x = 10\n",
    "adder2 = lambda  y , x = x : x + y\n",
    "x = 20\n",
    "print(adder1(100))#105\n",
    "print(adder2(200))#210\n",
    "print(adder1(300 , 400))#700"
   ]
  },
  {
   "cell_type": "code",
   "execution_count": null,
   "id": "765b0963",
   "metadata": {},
   "outputs": [],
   "source": [
    "#Find  outputs  (Home  work)\n",
    "a = [lambda   x  :  x ** 2 , lambda   x  :  x ** 3 ,  lambda   x  :  x ** 4]\n",
    "for   fun   in   a:\n",
    "        print(fun(5))#25 125 625"
   ]
  },
  {
   "cell_type": "code",
   "execution_count": null,
   "id": "8aa28811",
   "metadata": {},
   "outputs": [],
   "source": [
    "#  Find  outputs\n",
    "def   f1():\n",
    "\tprint('Hyd')#Hyd\n",
    "def   f2():\n",
    "\tprint('Sec')#Sec\n",
    "a = [f1 , f2]\n",
    "for  x  in  a:\n",
    "\t     x()\n",
    "#a = [def   f1():  print('Hyd') ,  def   f2():  print('Sec')]\n",
    "print(a)#[Type and address of f1, type and address of f2]"
   ]
  },
  {
   "cell_type": "code",
   "execution_count": null,
   "id": "e727cc22",
   "metadata": {},
   "outputs": [],
   "source": [
    "# Find output  (Home  work)\n",
    "a = {'power_2'  :  lambda   x  :  x ** 2 ,\n",
    "       'power_3'  :  lambda   x  :  x ** 3 ,\n",
    "  \t   'power_4'  :  lambda   x  :  x ** 4}\n",
    "key = 'power_3'\n",
    "print(a[key])#Type and address \n",
    "print(a[key](5))#125"
   ]
  },
  {
   "cell_type": "code",
   "execution_count": null,
   "id": "f35ef505",
   "metadata": {},
   "outputs": [],
   "source": [
    "# Find  outputs  (Home  work)\n",
    "def   f1(x):\n",
    "        return  lambda  n  :  x ** n\n",
    "lamb = f1(3)\n",
    "print(type(f1))#class function\n",
    "print(type(lamb))#class function\n",
    "print(lamb(2))#9\n",
    "print(lamb(5))#243\n",
    "print(lamb)#Type and address\n",
    "print(lamb())#error due to function requires one argument"
   ]
  },
  {
   "cell_type": "code",
   "execution_count": null,
   "id": "739f4eec",
   "metadata": {},
   "outputs": [],
   "source": [
    "# Find  outputs   (Home  work)\n",
    "def   eval(a , b , c):\n",
    "        return   lambda    x  :    a *   x **  2  +   b * x  +  c\n",
    "lam  = eval(3 , 4 , 5)\n",
    "print(lam(2))#25\n",
    "print(lam(2.5))#33.75\n",
    "print(lam(4))#69"
   ]
  },
  {
   "cell_type": "code",
   "execution_count": null,
   "id": "aed4b4e5",
   "metadata": {},
   "outputs": [],
   "source": [
    "#Nested  lambda  function  (Home  work)\n",
    "add  =  lambda    x = 10   :    lambda   y  :  x  +  y\n",
    "a = add()\n",
    "print(a(20))#30\n",
    "print(add(30)(40))#70"
   ]
  },
  {
   "cell_type": "code",
   "execution_count": null,
   "id": "1de3755a",
   "metadata": {},
   "outputs": [],
   "source": [
    "# Find  outputs\n",
    "a= ((10 , 'Rama' , 1000.0) , (20 , 'Sita' , 2000.0) , (15 ,'Rajesh' , 500.0) ,  (18 , 'Kiran' , 2800.0) , (5 , 'Amar' , 1300.0))\n",
    "b = sorted(a)\n",
    "print(b)#((5,'Amar',1300.0),(10 , 'Rama' , 1000.0),(15 ,'Rajesh' , 500.0),(18 , 'Kiran' , 2800.0),(20 , 'Sita' , 2000.0))\n",
    "print()\n",
    "c = sorted(a , reverse = True)\n",
    "print(c)#((20 , 'Sita' , 2000.0),(18 , 'Kiran' , 2800.0),(15 ,'Rajesh' , 500.0),(10 , 'Rama' , 1000.0),(5,'Amar',1300.0))\n",
    "print()\n",
    "d = sorted(a ,  key =  lambda   x  :  x[1])\n",
    "print(d)#((5,'Amar',1300.0),(18 , 'Kiran' , 2800.0),(15 ,'Rajesh' , 500.0),(10 , 'Rama' , 1000.0),(20 , 'Sita' , 2000.0))\n",
    "print()\n",
    "e = sorted(a , key =  lambda   x  :  x[2])\n",
    "print(e)#[(15, 'Rajesh', 500.0), (10, 'Rama', 1000.0), (5, 'Amar', 1300.0), (20, 'Sita', 2000.0), (18, 'Kiran', 2800.0\n",
    "print()\n",
    "f = sorted(a , key = lambda   x  :  x[0])\n",
    "print(f)#[(5, 'Amar', 1300.0), (10, 'Rama', 1000.0), (15, 'Rajesh', 500.0), (18, 'Kiran', 2800.0), (20, 'Sita', 2000.0)]\n",
    "print()\n",
    "g = sorted(a , key = lambda  x : x[1] , reverse = True)\n",
    "print(g)#[(20, 'Sita', 2000.0), (10, 'Rama', 1000.0), (15, 'Rajesh', 500.0), (18, 'Kiran', 2800.0), (5, 'Amar', 1300.0)]\n",
    "print(sorted(a , key = x[1]))#Error due to no function call "
   ]
  },
  {
   "cell_type": "code",
   "execution_count": null,
   "id": "f36be40b",
   "metadata": {},
   "outputs": [],
   "source": [
    "# Find outputs  (Home  work)\n",
    "a = [ {'Make' : 'Ford' , 'Model' : 'Focus' , 'Year' : 2013} ,\n",
    "        {'Make' : 'Tesla' , 'Model' : 'X' , 'Year' : 1999} ,\n",
    "        {'Make' : 'Mercedes' , 'Model' : 'C350E' , 'Year' : 2008} ]\n",
    "b = sorted(a , key = lambda  x  :  x['Year'])\n",
    "print(b)##[{'Make' : 'Tesla' , 'Model' : 'X' , 'Year' : 1999,{'Make' : 'Mercedes' , 'Model' : 'C350E' , 'Year' : 2008},{'Make' : 'Ford' , 'Model' : 'Focus' , 'Year' : 2013}]\n",
    "print(sorted(a))#Error due to dict cannot sort"
   ]
  },
  {
   "cell_type": "code",
   "execution_count": null,
   "id": "16d93dd9",
   "metadata": {},
   "outputs": [],
   "source": [
    "# Find outputs  (Home  work)\n",
    "a = ((10 , 'Rama' , 1000.0) , (20 , 'Sita' , 2800.0) , (15 , 'Vamsi' , 2000.0) , (25 , 'Kiran' , 1500.0) ,  (5 , 'Amar' , 1300.0))\n",
    "print(max(a , key = lambda  x  :  x[0] ))#(25 , 'Kiran' , 1500.0)\n",
    "print(max(a , key = lambda  x  :  x[1] ))#(15 , 'Vamsi' , 2000.0)\n",
    "print(max(a , key = lambda  x  :  x[2] ))#(20 , 'Sita' , 2800.0)\n",
    "print(max(a))#(25, 'Kiran', 1500.0)"
   ]
  },
  {
   "cell_type": "code",
   "execution_count": null,
   "id": "f005c228",
   "metadata": {},
   "outputs": [],
   "source": [
    "# Find  output  (Home  work)\n",
    "add = lambda  x  :   x == 25\n",
    "print(add(10))#False\n",
    "add = lambda  x = 25 :   x == 35\n",
    "print(add())#False\n",
    "add = lambda  x  :   x = 25#Error due to x cannot be modified \n",
    "add = lambda  x  :   x := 25#Error due to x cannot be modified "
   ]
  }
 ],
 "metadata": {
  "kernelspec": {
   "display_name": "Python 3",
   "language": "python",
   "name": "python3"
  },
  "language_info": {
   "codemirror_mode": {
    "name": "ipython",
    "version": 3
   },
   "file_extension": ".py",
   "mimetype": "text/x-python",
   "name": "python",
   "nbconvert_exporter": "python",
   "pygments_lexer": "ipython3",
   "version": "3.13.2"
  }
 },
 "nbformat": 4,
 "nbformat_minor": 5
}

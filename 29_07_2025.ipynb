{
 "cells": [
  {
   "cell_type": "code",
   "execution_count": 5,
   "id": "3d3df3ed",
   "metadata": {},
   "outputs": [
    {
     "name": "stdout",
     "output_type": "stream",
     "text": [
      "enter year400\n",
      "Leap Year\n"
     ]
    }
   ],
   "source": [
    "'''\n",
    "Write  a  program  to  test  year  is  leap  year  or  not\n",
    "\n",
    "1) What  is  leap  year ?  --->  Divisible  by  4  but  not  by  100   (or)  divisble  by  400\n",
    "\n",
    "2) Are  2016 , 2020 , 2024  leap  years ? --->  Yes  becoz  leap  year  for  every  4  yearrs\n",
    "\n",
    "3) Are  1700 , 1800 , 1900  leap  years ? --->  No  becoz  no  leap  year  for  every  100  years\n",
    "\n",
    "4) Are  1600 , 2000 , 2400  leap  years ?  --->  Yes  becoz  leap  year  for  every  400  years\n",
    "\n",
    "5) Hint:  single  if  with  3  conditions  and  else\n",
    "'''\n",
    "\n",
    "\n",
    "try:\n",
    "    l=int(input('enter year'))\n",
    "    if l%4==0 and l%100!=0 or l%400==0:\n",
    "        print(\"Leap Year\")\n",
    "    else:\n",
    "        print(\"Not a Leap Year\")\n",
    "except:\n",
    "    print(\"enter integer only\")"
   ]
  },
  {
   "cell_type": "code",
   "execution_count": 7,
   "id": "30020f77",
   "metadata": {},
   "outputs": [
    {
     "name": "stdout",
     "output_type": "stream",
     "text": [
      "enter 1st nof'\n",
      "enter integer values only\n"
     ]
    }
   ],
   "source": [
    "'''\n",
    "Write  a  program  to  determine  largest  of  three  numbers  with  if  and  else\n",
    "\n",
    "Hint:  Write  multiple  conditions\n",
    "'''\n",
    "\n",
    "try:\n",
    "    a=int(input(\"enter 1st no\"))\n",
    "    b=int(input(\"enter 1st no\"))\n",
    "    c=int(input(\"enter 1st no\"))\n",
    "    if a>b and a>c:\n",
    "        print(a)\n",
    "    elif b>c:\n",
    "        print(b)\n",
    "    else:\n",
    "        pritn(c)\n",
    "except:\n",
    "    print(\"enter integer values only\")"
   ]
  },
  {
   "cell_type": "code",
   "execution_count": 17,
   "id": "28beaa78",
   "metadata": {},
   "outputs": [
    {
     "name": "stdout",
     "output_type": "stream",
     "text": [
      "Enter  1  to  convert  celsius  to  farenheit  and  2  to  convert  fahrenheit  to  celsius : 1\n",
      "Enter  celsius  temperature :  18\n",
      "64.4\n"
     ]
    }
   ],
   "source": [
    "'''\n",
    "Write  a  program  to  convert  celsius  temperature  to  farenheit  and  vice-versa\n",
    "\n",
    "1) What  is  the  formula  to  convert  celsius  to  farenheit ? --->  1.8 * temp + 32\n",
    "\n",
    "2) What  is  the  formula  to  convert  farenheit  to  celsius ?  --->  (temp - 32) / 1.8\n",
    "'''\n",
    "\n",
    "try:\n",
    "    a=int(input('Enter  1  to  convert  celsius  to  farenheit  and  2  to  convert  fahrenheit  to  celsius : '))\n",
    "    if a==1:\n",
    "        temp=float(input(\"Enter  celsius  temperature :  \"))\n",
    "        print(1.8* temp +32)\n",
    "    elif a==2:\n",
    "        temp=float(input(\"Enter  fahrenheit  temperature : \"))\n",
    "        print((temp-32)/1.8)\n",
    "    else:\n",
    "        print(\"Invalid input\")\n",
    "except:\n",
    "    print(\"enter float or int value only\")"
   ]
  },
  {
   "cell_type": "raw",
   "id": "e951485e",
   "metadata": {},
   "source": [
    "# Find  outputs  (Home  work)\n",
    "m = 4\n",
    "match  m:\n",
    "\tcase  1:\n",
    "\t\tprint('One')\n",
    "\tcase  2:\n",
    "\t\tprint('Two')\n",
    "\tcase  3:\n",
    "\t\tprint('Three')\n",
    "print('Bye')\n",
    "#output\n",
    "Bye"
   ]
  },
  {
   "cell_type": "raw",
   "id": "92bce140",
   "metadata": {},
   "source": [
    "# Identify  Error\n",
    "i = 2\n",
    "match  i:\n",
    "\tcase  1:\n",
    "\t\tprint('One')\n",
    "\tcase  _:           # _ should be last case\n",
    "\t\tprint('None of   the  above')\n",
    "\tcase  2:\n",
    "\t\tprint('Two')\n",
    "print('Bye')"
   ]
  },
  {
   "cell_type": "raw",
   "id": "99d914c2",
   "metadata": {},
   "source": [
    "# Find  outputs  (Home  work)\n",
    "m = 2\n",
    "match  m:\n",
    "\tcase  1:\n",
    "\t\tprint('One')\n",
    "\tcase  _:     # _ should be last case\n",
    "\t\tprint('Hello')\n",
    "\tcase  _:     # _ should be last case and only one _ should be use in one program\n",
    "\t\tprint('Bye')\n",
    "print('End')"
   ]
  },
  {
   "cell_type": "raw",
   "id": "c11c38ff",
   "metadata": {},
   "source": [
    "#  Find  outputs  (Home  work)\n",
    "m = 1\n",
    "match  m:\n",
    "\tcase  1:\n",
    "\t\tprint('Hyd')\n",
    "\tcase  1:\n",
    "\t\tprint('Sec')\n",
    "\tcase  1:\n",
    "\t\tprint('Cyb')\n",
    "print('Bye')\n",
    "\n",
    "#output\n",
    "Hyd\n",
    "Bye"
   ]
  },
  {
   "cell_type": "raw",
   "id": "fdc7251a",
   "metadata": {},
   "source": [
    "# Find  outputs  (Home  work)\n",
    "ch = 'B'\n",
    "match  ch:\n",
    "\tcase   'A':\n",
    "\t\tprint('Apple')\n",
    "\tcase  'B':\n",
    "\t\tprint('Book')\n",
    "\tcase  'C':\n",
    "\t\tprint('Cafe')\n",
    "\tcase  _:\n",
    "\t\tprint('None of  the  above')\n",
    "print('Bye')\n",
    "\n",
    "\n",
    "#output\n",
    "Book\n",
    "Bye"
   ]
  },
  {
   "cell_type": "raw",
   "id": "47b05a2c",
   "metadata": {},
   "source": [
    "'''\n",
    "1) What  are  the  outputs  if  input  is  -6 ? --->     #Hyd <nextline>Sec <nextline>Cyd<nextline>Bye\n",
    "2) What  are  the  outputs  if  input  is  15  ?  --->   #One <nextline>Two<nextline>Three<nextline>Bye\n",
    "3) What  are  the  outputs  if  input  is  10.8  ?  ---> #India<nextline>China<nextline>Usa<nextline>Bye\n",
    "4) What  are  the  outputs  if  input  is  0  ?  --->    #Hyd <nextline>Sec <nextline>Cyd<nextline>Bye\n",
    "5) What  are  the  outputs  if  input  is  -10  ?  ---> #One <nextline>Two<nextline>Three<nextline>Bye\n",
    "6) What  are  the  outputs  if  input  is  7  ?  --->#Hyd <nextline>Sec <nextline>Cyd<nextline>Bye\n",
    "'''\n",
    "x = eval(input('Enter any  number :  '))\n",
    "match  x:\n",
    "\tcase  7 |  -6  |  0:\n",
    "\t\tprint('Hyd')\n",
    "\t\tprint('Sec')\n",
    "\t\tprint('Cyb')\n",
    "\tcase  -10 | 15:\n",
    "\t\tprint('One')\n",
    "\t\tprint('Two')\n",
    "\t\tprint('Three')\n",
    "\tcase  _:\n",
    "\t\tprint('India')\n",
    "\t\tprint('China')\n",
    "\t\tprint('Usa')\n",
    "# End  of  match\n",
    "print('Bye')"
   ]
  },
  {
   "cell_type": "raw",
   "id": "337885cb",
   "metadata": {},
   "source": [
    "'''\n",
    "1) What  is  the  output  when  input  is  (-10 , -20) ?  --->  Quadrant\n",
    "2) What  is  the  output  when  input  is  (10 , 0) ?  --->  x - axis\n",
    "3) What  is  the  output  when  input  is  (0 , -20) ?  --->y - axis\n",
    "4) What  is  the  output  when  input  is  (0 , 0) ?  --->Origin\n",
    "5) What  is  the  output  when  input  is  (10 , 20 , 30) ?  --->Not  a  point\n",
    "6) What  is  the  output  when  input  is  [10 , 20]  ?  --->Quadrant\n",
    "7) What  is  the  output  when  input  is  [0 , -25]  ?  --->y - axis\n",
    "8) What  is  the  output  when  input  is  ()  ?  --->Not  a  point\n",
    "9) What  is  the  output  when  input  is  {10 , 20} ?  --->Not  a  point\n",
    "10) What  is  the  output  when  input  is  (25,) ?  --->Not  a  point\n",
    "11) What  is  the  output  when  input  is  {10 : 20} ?  --->Error\n",
    "'''\n",
    "tpl = eval(input('Enter  any  point  in  the  form  of  (x , y) :  '))\n",
    "match  tpl:\n",
    "\tcase  (0 , 0):\n",
    "\t\tprint('Origin')\n",
    "\tcase   (0 , y):\n",
    "\t\tprint('y - axis')\n",
    "\tcase   (x , 0):\n",
    "\t\tprint('x - axis')\n",
    "\tcase   (x , y):\n",
    "\t\tprint('Quadrant')\n",
    "\tcase  _:\n",
    "\t\tprint('Not  a  point')"
   ]
  },
  {
   "cell_type": "code",
   "execution_count": 4,
   "id": "8131e46e",
   "metadata": {},
   "outputs": [
    {
     "name": "stdout",
     "output_type": "stream",
     "text": [
      "Enter  1st  list  :  [10 , 20 , 15 , 18]\n",
      "Enter  2nd  list  :  [30 , 40 , 35 , 12 , 100 , 200 , 300]\n",
      "[40, 60, 50, 30]\n"
     ]
    }
   ],
   "source": [
    "'''\n",
    "Write  a  program  to  add  two  lists  and  store  results  in  3rd  list\n",
    "\n",
    "1st  list  --->  [10 , 20 , 15 , 18]\n",
    "\n",
    "2nd  list  --->  [30 , 40 , 35 , 12 , 100 , 200 , 300]\n",
    "\n",
    "3rd  list ?  ---> [10 + 30 , 20 + 40 , 15 + 35 , 18 + 12]  =  [40 , 60 , 50 , 30]\n",
    "\n",
    "Hint:  Use  append()  method\n",
    "'''\n",
    "a = eval(input('Enter  1st  list  :  '))\n",
    "b = eval(input('Enter  2nd  list  :  '))\n",
    "c = []\n",
    "for i in range(min(len(a),len(b))):\n",
    "    c.append(a[i]+b[i])\n",
    "print(c)\n",
    "for i in a:\n",
    "    for j in b:\n",
    "        c.append(i+j)"
   ]
  },
  {
   "cell_type": "code",
   "execution_count": 9,
   "id": "27347005",
   "metadata": {},
   "outputs": [
    {
     "name": "stdout",
     "output_type": "stream",
     "text": [
      "Indexed for loop\n",
      "Hyd\n",
      "True\n",
      "Hyd\n",
      "True\n"
     ]
    }
   ],
   "source": [
    "#  How  to  print  list  elements  from  indexes  2  to  4  without  slice\n",
    "a = [25 , 10.8 , 'Hyd' , True , 3 + 4j , None , 'Sec']\n",
    "print('Indexed for loop')\n",
    "#How  to  print  elements  from  indexes  2  to  4  of  list  'a'  with  indexed  based  for  loop\n",
    "for i in range(2,4):\n",
    "    print(a[i])\n",
    "#How  to  print  elements  from  indexes  2  to  4  of  list  'a'  with  for  each  loop   without  using  2nd  variable  and  slice\n",
    "for i in a[2:4]:\n",
    "    print(i)"
   ]
  },
  {
   "cell_type": "raw",
   "id": "64a20195",
   "metadata": {},
   "source": [
    "#  Tricky  program\n",
    "#  Find  outputs  (Home  work)\n",
    "a = [10 , 20 , 15 , 18]\n",
    "for  i  in  range(len(a)):\n",
    "\ta[i] +=  1\n",
    "print('a :  ' , a)      #[11, 21, 16, 19]\n",
    "b = [10 , 20 , 15 , 18]\n",
    "for  x  in   b:\n",
    "\tx += 1\n",
    "print('b :',b)          #[10, 20, 15, 18]"
   ]
  },
  {
   "cell_type": "code",
   "execution_count": null,
   "id": "ec4fa336",
   "metadata": {},
   "outputs": [],
   "source": []
  }
 ],
 "metadata": {
  "kernelspec": {
   "display_name": "Python 3 (ipykernel)",
   "language": "python",
   "name": "python3"
  },
  "language_info": {
   "codemirror_mode": {
    "name": "ipython",
    "version": 3
   },
   "file_extension": ".py",
   "mimetype": "text/x-python",
   "name": "python",
   "nbconvert_exporter": "python",
   "pygments_lexer": "ipython3",
   "version": "3.11.5"
  }
 },
 "nbformat": 4,
 "nbformat_minor": 5
}

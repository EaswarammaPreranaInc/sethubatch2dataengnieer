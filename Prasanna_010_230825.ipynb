{
 "cells": [
  {
   "cell_type": "code",
   "execution_count": null,
   "id": "b6decf48",
   "metadata": {},
   "outputs": [],
   "source": [
    "# add()  method  demo  program  (Home  work)\n",
    "a = set()\n",
    "a . add(True)\n",
    "a . add(25)\n",
    "a . add(10.8)\n",
    "a . add(1)\n",
    "a . add('Hyd')\n",
    "a . add(25)\n",
    "a . add(None)\n",
    "a . add('Hyd')\n",
    "a . add(1.0)\n",
    "print(a)#{None,True,10.8,'Hyd',25}\n",
    "#a . add(10 , 20 , 30)#error due to 3 arguments\n",
    "a . add([10,20,30])#Error\n"
   ]
  },
  {
   "cell_type": "code",
   "execution_count": null,
   "id": "eb99cc48",
   "metadata": {},
   "outputs": [],
   "source": [
    "# Find  outputs  (Home  work)\n",
    "a = {25 , 10.8 , 'Hyd' , True}\n",
    "tpl = (10 , 20 , 30)\n",
    "print(a)#{25,10.8,'Hyd',True}\n",
    "print(id(a))#address of set a\n",
    "a . add(tpl)\n",
    "a . add('Sec')\n",
    "print(a)#{10.8,'Hyd',True,(10,20,30),'Sec',25}\n",
    "print(id(a))#address of set a\n",
    "print(len(a))#6\n",
    "#a . add([100 , 200 , 300])#Error\n",
    "#a . add(set())#Error\n",
    "a . add({ })#Error"
   ]
  },
  {
   "cell_type": "code",
   "execution_count": null,
   "id": "24b10840",
   "metadata": {},
   "outputs": [],
   "source": [
    "# Find  outputs (Home  work)\n",
    "s = set()\n",
    "tpl = (10 , 20 , 15 , 18)\n",
    "s . add(tpl)\n",
    "print(s)#{(10,20,15,18)}\n",
    "print(len(s))#1"
   ]
  },
  {
   "cell_type": "code",
   "execution_count": null,
   "id": "f34d8e90",
   "metadata": {},
   "outputs": [],
   "source": [
    "# update()  method  demo program  (Home  work)\n",
    "tpl = (10 , 20 , 15, 18 , 10 , 20)\n",
    "s = set()\n",
    "s . update(tpl)\n",
    "print(len(s))#4\n",
    "print(s)#{10,18,20,15}\n",
    "s . update(25)#Error due to non sequence"
   ]
  },
  {
   "cell_type": "code",
   "execution_count": null,
   "id": "a1aa867e",
   "metadata": {},
   "outputs": [],
   "source": [
    "# Find  outputs  (Home  work)\n",
    "a = [10 , 20 , 30]\n",
    "b = {30 , 40,50 }\n",
    "c = (50 , 60 , 70)\n",
    "s = set()\n",
    "s . update(a , b , c)\n",
    "print(s)#{50,70,20,10,40,60,30}\n",
    "print(len(s))#7\n",
    "s . add(a , b , c)#Error due to 3 arguments"
   ]
  },
  {
   "cell_type": "code",
   "execution_count": null,
   "id": "922b2f35",
   "metadata": {},
   "outputs": [],
   "source": [
    "# Find  outputs  (Home  work)\n",
    "a = set()\n",
    "a . update('Rama Rao')\n",
    "print(a)#{'R'.'o','m','','a'}\n",
    "print(len(a))#5\n",
    "a . update(3 + 4j , 10.8 , True)#Error"
   ]
  },
  {
   "cell_type": "code",
   "execution_count": null,
   "id": "70b3ee0b",
   "metadata": {},
   "outputs": [],
   "source": [
    "# copy()  method  demo  program  (Home  work)\n",
    "a = {10 , 20 , 15 , 18}\n",
    "print(a)#{10,15,20,18}\n",
    "b = a . copy()\n",
    "print(b)#{10,15,20,18}\n",
    "print(a  is  b)#False\n",
    "print(a  ==  b)#True\n",
    "c = a\n",
    "print(a  is  c)#True"
   ]
  },
  {
   "cell_type": "code",
   "execution_count": null,
   "id": "0b3e990d",
   "metadata": {},
   "outputs": [],
   "source": [
    "# pop()  method  demo  program  (Home  work)\n",
    "a = {25 , 10.8 , 'Hyd' , True}\n",
    "print(a)#{25,10.8,'Hyd',True}\n",
    "print(a . pop())#25\n",
    "print(a . pop())#10.8\n",
    "print(a . pop())#Hyd\n",
    "print(a . pop())#True\n",
    "print(a . pop())#Error\n",
    "print(a)#set()\n",
    "b = {10 , 20 , 30 , 40}\n",
    "print(b . pop(2))#error"
   ]
  },
  {
   "cell_type": "code",
   "execution_count": null,
   "id": "597c7dbf",
   "metadata": {},
   "outputs": [],
   "source": [
    "# remove()  method  demo  program  (Home  work)\n",
    "a = {25 , 10.8 , 'Hyd' , True}\n",
    "print(a)#{25,10.8,'Hyd',True}\n",
    "a . remove('Hyd')\n",
    "print(a)#{25,10.8,'Hyd'}\n",
    "a . remove('Sec')#error "
   ]
  },
  {
   "cell_type": "code",
   "execution_count": null,
   "id": "153ab529",
   "metadata": {},
   "outputs": [],
   "source": [
    "# discard()  method  demo  program (Home  work)\n",
    "a = {25 , 10.8 , 'Hyd' , True}\n",
    "print(a)#{25,10.8,'Hyd',True}\n",
    "a . discard('Hyd')\n",
    "print(a)#{25,10.8,True}\n",
    "a . discard('Sec')\n",
    "print(a)#{25,10.8,True}\n",
    "a . remove('Sec')#Error"
   ]
  },
  {
   "cell_type": "code",
   "execution_count": null,
   "id": "386f4fda",
   "metadata": {},
   "outputs": [],
   "source": [
    "# clear()  method  demo  program (Home  work)\n",
    "a = {10 , 20 , 15 , 18}\n",
    "print(a)#{10,18,15,20}\n",
    "a . clear()\n",
    "print(a)#set()\n",
    "print(len(a))#0"
   ]
  },
  {
   "cell_type": "code",
   "execution_count": null,
   "id": "54e24ccf",
   "metadata": {},
   "outputs": [],
   "source": [
    "# Find  outputs  (Home work)\n",
    "a = {10 , 20 , 30 , 40}\n",
    "b = [30 , 40 , 50 , 60]\n",
    "print(a . union(b))#{40,10,50,20,60,30}\n",
    "print(a | b)#error\n",
    "print(b . union(a))#error due to there is no union method in list\n",
    "print(a + b)#error due to + operator is not support "
   ]
  }
 ],
 "metadata": {
  "kernelspec": {
   "display_name": "Python 3",
   "language": "python",
   "name": "python3"
  },
  "language_info": {
   "codemirror_mode": {
    "name": "ipython",
    "version": 3
   },
   "file_extension": ".py",
   "mimetype": "text/x-python",
   "name": "python",
   "nbconvert_exporter": "python",
   "pygments_lexer": "ipython3",
   "version": "3.13.2"
  }
 },
 "nbformat": 4,
 "nbformat_minor": 5
}

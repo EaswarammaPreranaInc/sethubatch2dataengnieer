{
 "cells": [
  {
   "cell_type": "code",
   "execution_count": null,
   "id": "7c7fa84c",
   "metadata": {},
   "outputs": [],
   "source": [
    "#index()  and  count()  methods  demo  program   (Home  work)\n",
    "a = (10 , 20 , 15 , 12 , 14 , 15 , 18 , 19 , 15 , 12 , 25)\n",
    "#     0    1      2     3    4     5     6    7     8    9    10\n",
    "try:\n",
    "\ti = a . index(15)\n",
    "\twhile  True:\n",
    "\t\tprint('15 is found at index : ' , i)#15 is found at index:2  15 is found at index:5  15 is found at index:8\n",
    "\t\ti = a . index(15 , i + 1)\n",
    "except:\n",
    "\t\tprint(F'15  is  found  {a . count(15)}  times')# 15 is found 3 times"
   ]
  },
  {
   "cell_type": "code",
   "execution_count": null,
   "id": "da7cd504",
   "metadata": {},
   "outputs": [],
   "source": [
    "#  How  to  modify  an  element  of  tuple ?    (Home  work)\n",
    "a  =  10 ,  20 ,  30 ,   40 ,  50\n",
    "#     0      1       2       3      4\n",
    "#a[2] = 35#Error due to tuple is immutuable \n",
    "print(a)#(10,20,30,40,50)\n",
    "print(id(a))#Address of tuple a\n",
    "a=a[:2]+(35,)+a[3:]#How  to  modify  30  in  tuple  to  35\n",
    "print(a)#(10,20,35,40,50)\n",
    "print(id(a))#Address of different tuple a"
   ]
  },
  {
   "cell_type": "code",
   "execution_count": null,
   "id": "4cace7ab",
   "metadata": {},
   "outputs": [],
   "source": [
    "# How  to  delete  an  element  of  tuple ?   (Home  work)\n",
    "a  = 10 , 20 , 30 , 40 , 50\n",
    "#    0     1      2     3      4\n",
    "a . remove(30)#error due to there is no remove() method in tuple\n",
    "del  a[2]#error due to there is no del operator\n",
    "a . pop(2)#error due to there is no pop() method\n",
    "print(a)#(10,20,30,40,50)\n",
    "print(id(a))#Address of tuple a\n",
    "a=a[:2]+a[3:]#How  to  remove  30  from  tuple  'a'\n",
    "print(a)#(10,20,40,50)\n",
    "print(id(a))#Address of different tuple a"
   ]
  },
  {
   "cell_type": "code",
   "execution_count": null,
   "id": "cdd0acd8",
   "metadata": {},
   "outputs": [],
   "source": [
    "#  Nested   tuple  (Home  work)\n",
    "a = ( (10 , 20)  ,  (30 , 40 , 50)  ,  (60 , 70 , 80 , 90) )\n",
    "print(a)#( (10 , 20)  ,  (30 , 40 , 50)  ,  (60 , 70 , 80 , 90) )\n",
    "print(type(a))#class tuple\n",
    "print(len(a))#3\n",
    "print(a[0])#How  to  print  1st  inner  tuple\n",
    "print(a[1])#How  to  print  2nd  inner  tuple\n",
    "print(a[2])#How  to  print  3rd  inner  tuple\n",
    "print(a[0][1])#How  to  print  20\n",
    "print(a[1][2])#How  to  print  50\n",
    "print(a[2][3])#How  to  print  90"
   ]
  },
  {
   "cell_type": "code",
   "execution_count": null,
   "id": "8e2d1cba",
   "metadata": {},
   "outputs": [],
   "source": [
    "# Find  outputs  (Home  work)\n",
    "a = ((10 , 20 , 30),)\n",
    "print(a[0])#How  to   print  inner  tuple\n",
    "for x in a[0]:\n",
    "    print(x)#How  to   print  inner  tuple  in  another  way\n",
    "print(a[0][0])#How   to  print   10\n",
    "print(a[0][1])#How   to  print   20\n",
    "print(a[0][2])#How   to  print   30\n",
    "b = ((),)\n",
    "print(b[0])#How  to   print  inner  tuple  of  tuple  'b'\n",
    "for x in b[0]:\n",
    "    print(x)#How  to   print  inner  tuple  of  tuple  'b'  in  another  way"
   ]
  },
  {
   "cell_type": "code",
   "execution_count": null,
   "id": "046dca2f",
   "metadata": {},
   "outputs": [],
   "source": [
    "#  Find  outputs (Home  work)\n",
    "a = ((10 , 20 , 30))\n",
    "print(a)#(?(10,20,30))\n",
    "print(*a)#10 20 30\n",
    "b = (())\n",
    "print(b)#()\n",
    "print(*b)#Nothing "
   ]
  },
  {
   "cell_type": "code",
   "execution_count": null,
   "id": "9f4832aa",
   "metadata": {},
   "outputs": [],
   "source": [
    "# What  are  the  outputs  if  input  is  {10 , 20 , 15 , 18 , 20 , 12 , 18}\n",
    "a = input('Enter  Set  :  ')#{10 , 20 , 15 , 18 , 20 , 12 , 18}\n",
    "print(a)#{10 , 20 , 15 , 18 , 20 , 12 , 18}\n",
    "print(type(a))#class str\n",
    "b = eval(a)\n",
    "print(b)#{10 , 20 , 15 , 18 ,12 }\n",
    "print(type(b))#class set"
   ]
  },
  {
   "cell_type": "code",
   "execution_count": null,
   "id": "3772c778",
   "metadata": {},
   "outputs": [],
   "source": [
    "#  Find  outputs  (Home  work)\n",
    "print({(10 , 20 , 30)})#{(10 , 20 , 30)}\n",
    "print({[10 , 20 , 30]})#error due to list in set \n",
    "print({{10 , 20 , 30}})#error due to set in set \n",
    "print({{}})# error due to empty dict in set"
   ]
  },
  {
   "cell_type": "code",
   "execution_count": null,
   "id": "29cc6140",
   "metadata": {},
   "outputs": [],
   "source": [
    "# How  to  print  set  in  differnet ways  (Home  work)\n",
    "a = {25 , True , 'Hyd' , 10.8}\n",
    "print('set  with  print  function')\n",
    "print(a){25 ,10.8, True , 'Hyd'}\n",
    "print('Iterate  elements  of  set  with  for  loop')\n",
    "for x in set(a):\n",
    "    print(x)#How  to  iterate  set  with  for  loop"
   ]
  },
  {
   "cell_type": "code",
   "execution_count": null,
   "id": "9a2a9b5a",
   "metadata": {},
   "outputs": [],
   "source": [
    "# Find  outputs  (Home  work)\n",
    "a = 'Hyd'\n",
    "b = True\n",
    "c = 25\n",
    "d = 1\n",
    "e = 'Hyd'\n",
    "s = {a , b , c , d , e}\n",
    "print(s)#{'Hyd',True,25}\n",
    "print(len(s))#3\n",
    "print(type(s))#class set"
   ]
  },
  {
   "cell_type": "code",
   "execution_count": null,
   "id": "0763d680",
   "metadata": {},
   "outputs": [],
   "source": [
    "# Find  outputs  (Home  work)\n",
    "s = {'Hyd',  25,  True,  10.8 }\n",
    "print(s)#{'Hyd',  10.8,  True,  25 }\n",
    "a , b , c , d = s\n",
    "print(a)#Hyd\n",
    "print(b)#10.8\n",
    "print(c)#True\n",
    "print(d)#25"
   ]
  },
  {
   "cell_type": "code",
   "execution_count": null,
   "id": "7a944044",
   "metadata": {},
   "outputs": [],
   "source": [
    "# Find  outputs  (Home  work)\n",
    "s = {'Hyd',  25,  True,  10.8 }\n",
    "print(s)#{25,True,10.8,'Hyd'}\n",
    "a , *b = s\n",
    "print(a)#25\n",
    "print(b)#[True,10.8,'Hyd']\n",
    "print(type(b))#class list"
   ]
  },
  {
   "cell_type": "code",
   "execution_count": null,
   "id": "92d4d4eb",
   "metadata": {},
   "outputs": [],
   "source": [
    "# Find  outputs  (Home  work)\n",
    "s = {'Hyd',  25,  True,  10.8 }\n",
    "print(s)#{25,True,10.8,'Hyd'}\n",
    "a , *b , c = s\n",
    "print(a)#25\n",
    "print(b)#[True,10.8]\n",
    "print(c)#Hyd"
   ]
  },
  {
   "cell_type": "code",
   "execution_count": null,
   "id": "511d5376",
   "metadata": {},
   "outputs": [],
   "source": [
    "# Find  outputs  (Home  work)\n",
    "s = {20 , 10 , 20 , 10}\n",
    "print(s)#{10,20}\n",
    "x , y = s\n",
    "print(x)#10\n",
    "print(y)#20"
   ]
  },
  {
   "cell_type": "code",
   "execution_count": null,
   "id": "c5349b0f",
   "metadata": {},
   "outputs": [],
   "source": [
    "# set()  function  demo  program  (Home  work)\n",
    "a = range(100 , 151 , 10)\n",
    "b = set(a)#{100,110,120,130,140,150}\n",
    "print(b)#{120,150,110,140,130,100}\n",
    "c = [10 , 20 , 15 , 18 , 10 , 50 , 20 , 12 , 18]\n",
    "d = set(c)#{10 , 20 , 15 , 18 , 50 , 12}\n",
    "print(d)#{10,12,20,50,15,18}\n",
    "e = set('Rama  rAo')\n",
    "print(e)#{'o', 'A', 'r', 'a', 'm', ' ', 'R'}\n",
    "print(set(25))#error due to argument should be in sequence\n",
    "print(set())#set()\n",
    "\n",
    "\n",
    "'''\n",
    "set()  function\n",
    "-----------------\n",
    "1) What  does  set(sequence)  do ?  ---> Converts  sequence  to  set\n",
    "\n",
    "2) What  does  set(No-args)  do ?  --->  Returns  an  empty  set\n",
    "\n",
    "3) How  many  arguments  can  set()  function  take ?  ---> Zero  (or) One  but  not  more  than  one\n",
    "\n",
    "4) Is  set(non-sequence)  valid ?  --->  No  becoz  argument  should  be  sequence\n",
    "'''"
   ]
  }
 ],
 "metadata": {
  "kernelspec": {
   "display_name": "Python 3",
   "language": "python",
   "name": "python3"
  },
  "language_info": {
   "codemirror_mode": {
    "name": "ipython",
    "version": 3
   },
   "file_extension": ".py",
   "mimetype": "text/x-python",
   "name": "python",
   "nbconvert_exporter": "python",
   "pygments_lexer": "ipython3",
   "version": "3.13.2"
  }
 },
 "nbformat": 4,
 "nbformat_minor": 5
}

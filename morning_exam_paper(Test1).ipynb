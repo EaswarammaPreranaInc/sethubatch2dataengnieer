{
 "cells": [
  {
   "cell_type": "code",
   "execution_count": 8,
   "id": "49e1442e",
   "metadata": {},
   "outputs": [
    {
     "name": "stdout",
     "output_type": "stream",
     "text": [
      "Result:  14.5\n"
     ]
    }
   ],
   "source": [
    "'''\n",
    "1. Write  a  program  to  evaluate  expression  like  calculator\n",
    "\n",
    "Let  input  be  3 + 4 * 5 - 6 / 2 =\n",
    "What  is  the  output ? --->  14.5\n",
    "\n",
    "Hint:  Use  while  loop\n",
    "\n",
    "Iteration         a          op        b        result\n",
    "------------------------------------------------------\n",
    "       1         3          +          4           7   --->  'a'\n",
    "\n",
    "\t   2         7          *          5           35   --->  'a'\n",
    "\n",
    "\t   3        35         -           6            29   --->  'a'\n",
    "\n",
    "\t   4        29         /           2           14.5   --->  'a'\n",
    "\n",
    "\t   5       14.5       \t=          ---           ----\n",
    "\n",
    "\n",
    "Enter  any  expression  terminated  by  =  :  3+4*5-6/2=\n",
    "Result :  14.5\n",
    "'''\n",
    "\n",
    "s=input('Enter expression terminated by = : ')\n",
    "a=eval(s[0])\n",
    "op=s[1]\n",
    "i=2\n",
    "while op!='=':\n",
    "    b=eval(s[i])\n",
    "    i+=1\n",
    "    match op:\n",
    "        case '+' : a+=b\n",
    "        case '-': a-=b\n",
    "        case'*': a*=b\n",
    "        case'/': a/=b\n",
    "    op=s[i]\n",
    "    i+=1\n",
    "print('Result: ',a)\n"
   ]
  },
  {
   "cell_type": "code",
   "execution_count": null,
   "id": "5cb7297b",
   "metadata": {},
   "outputs": [
    {
     "name": "stdout",
     "output_type": "stream",
     "text": [
      "MMMDCCCLXXVIII\n"
     ]
    }
   ],
   "source": [
    "'''\n",
    "2.Write  a   program  to  print  roman  equivalent  of  a  number\n",
    "1000 -  M\n",
    "900  -  CM\n",
    "500 -  D\n",
    "400 - CD\n",
    "100 -   C\n",
    "90  -  XC\n",
    "50  -  L\n",
    "40  -  XL\n",
    "10  -  X\n",
    "9  -  IX\n",
    "5  -  V\n",
    "4  -  IV\n",
    "1  -  I\n",
    "\n",
    "1) What  is  the  output  if  input  is  3878 ? ---> MMMDCCCLXXVIII\n",
    "\n",
    "2) What  is  the  result  of  3878 // 1000 ?  --->  3\n",
    "    How  many  M's  are  concatenated  to  the  sting ?  --->  Three  becoz  3878 / 1000  is  3\n",
    "    What  is  the  result  of  3878 % 1000 ?  --->  878\n",
    "\n",
    "3) What  is  the  result  of  878 // 900 ?  --->  0\n",
    "    How  many  CM's  are  concatenated  to  the  string ?  ---> Zero  becoz  878 / 900  is  0\n",
    "    What  is  the  result  of  878 % 900 ?  --->  878\n",
    "\n",
    "4) What  is  the  result  of  878 // 500 ?  ---> 1\n",
    "     How  many  D's  are  concatenated  to  the  string ?  ---> One  becoz  878 / 500  is  1\n",
    "     What  is  the  result  of  878 % 500 ?  ---> 378\n",
    "      and  so  on\n",
    "\n",
    "Enter  any  number :  3878\n",
    "Roman  Equivalent :   MMMDCCCLXXVIII\n",
    "'''\n",
    "n=int(input(\"Enter a number: \"))\n",
    "values=['M','CM','D','CD','C','XC','L','XL','X','IX','V','IV','I']\n",
    "num=[1000,900,500,400,100,90,50,40,10,9,5,4,1]\n",
    "roman=''\n",
    "i=0\n",
    "while n>0:\n",
    "    d=n//num[i]\n",
    "    roman+=values[i]*d\n",
    "    n=n%num[i]\n",
    "    i+=1\n",
    "print(roman)"
   ]
  },
  {
   "cell_type": "code",
   "execution_count": null,
   "id": "e5f90ebc",
   "metadata": {},
   "outputs": [
    {
     "name": "stdout",
     "output_type": "stream",
     "text": [
      "MMMDCCCLXXVIII\n"
     ]
    }
   ],
   "source": [
    "n=int(input('Enter a number: '))\n",
    "a=[(1000,'M'),(900,'CM'),(500,'D'),(400,'CD'),(100,'C'),(90,'XC'),(50,'L'),(40,'XL'),(10,'X'),(9,'IX'),(5,'V'),(4,'IV'),(1,'I')]\n",
    "roman=''\n",
    "for k,v in a:\n",
    "    d=n//k\n",
    "    roman+=v*d\n",
    "    n%=k\n",
    "print(roman)"
   ]
  },
  {
   "cell_type": "code",
   "execution_count": null,
   "id": "8818ddd7",
   "metadata": {},
   "outputs": [
    {
     "name": "stdout",
     "output_type": "stream",
     "text": [
      "Nine Two Four Seven \n"
     ]
    }
   ],
   "source": [
    "'''\n",
    "3. Write  a  program  to  print  each  digit  of  the  number  in  words\n",
    "\n",
    "Let  input  be  9247\n",
    "What  is  the  output  ?  ---> Nine  Two  Four  Seven\n",
    "\n",
    "a = ['Zero' , 'One' , 'Two' ,....  'Nine']\n",
    "\n",
    "Iteration     ch     int(ch)       a[int(ch)]         s\n",
    "--------------------------------------------------------\n",
    "                                                                     ''\n",
    "     1              '9'       9               'Nine'          '' + 'Nine' + ' '\n",
    "\n",
    "\t 2             '2'       2               'Two'          'Nine ' + 'Two' + ' '\n",
    "\n",
    "\t 3             '4'       4               'Four'          'Nine Two ' + 'Four' + ' '\n",
    "\n",
    "\t 4             '7'       7               'Seven'        'Nine Two Four ' + 'Seven' + ' '\n",
    "\n",
    "\n",
    "Enter  any   number :  9247\n",
    "Nine Two Four Seven\n",
    "'''\n",
    "n=input('Enter a Number: ')\n",
    "a = ['Zero' , 'One' , 'Two', 'Three','Four','Five','Six','Seven', 'Eight','Nine']\n",
    "s=''\n",
    "for ch in n:\n",
    "    s+=a[int(ch)]+\" \"\n",
    "print(s)"
   ]
  },
  {
   "cell_type": "code",
   "execution_count": 1,
   "id": "0d85e7a9",
   "metadata": {},
   "outputs": [
    {
     "name": "stdout",
     "output_type": "stream",
     "text": [
      "Nine Two Four Seven \n"
     ]
    }
   ],
   "source": [
    "n='9247'\n",
    "a={\n",
    "    '0':'ZERo','1':'One','2':'Two','3':'Three','4':'Four','5':'Five','6':'Six','7':'Seven','8':'Eight','9':'Nine'\n",
    "}\n",
    "res=''\n",
    "for i in n:\n",
    "    #res+=a[i]+' '\n",
    "    res+=''.join(a[i])+\" \"\n",
    "print(res)\n"
   ]
  },
  {
   "cell_type": "code",
   "execution_count": null,
   "id": "3340c41b",
   "metadata": {},
   "outputs": [],
   "source": [
    "'''4.Write a program to determine Transpose of a matrix.\n",
    "input: 10 20 30 40\n",
    "       50 60 70 80\n",
    "       90 100 110 120\n",
    "o/p:  10 50 90\n",
    "      20 60 100\n",
    "      30 70 110\n",
    "      40 80 120\n",
    "hint: use nested list'''\n",
    "try:\n",
    "      a=[]\n",
    "      print('Enter matrix until ctrl+z')\n",
    "      while True:\n",
    "            line=input()\n",
    "            row=[]\n",
    "            for x in line.split():\n",
    "                  row.append(int(x))\n",
    "            a.append(row)\n",
    "except:\n",
    "      b=[]\n",
    "      for i in range(len(a[0])):\n",
    "            c=[]\n",
    "            for row in a:\n",
    "                  c.append(row[i])\n",
    "            b.append(c)\n",
    "      for row in b:\n",
    "            print(*row)\n",
    "\n",
    "\n",
    "'''OUTPUT:\n",
    "10 50 90\n",
    "20 60 100\n",
    "30 70 110\n",
    "40 80 120\n",
    "'''"
   ]
  },
  {
   "cell_type": "code",
   "execution_count": null,
   "id": "259bcd7e",
   "metadata": {},
   "outputs": [
    {
     "name": "stdout",
     "output_type": "stream",
     "text": [
      "SPACE\n",
      "PACES\n",
      "ACESP\n",
      "CESPA\n",
      "ESPAC\n"
     ]
    }
   ],
   "source": [
    "'''\n",
    "5. Write  a  program  to  print  all  the  rotations  of  the  string\n",
    "\n",
    " 1) Let  input  be     S   P  A   C   E\n",
    "                       0   1   2   3   4\n",
    "    What  are  the  outputs ?  --->  SPACE\n",
    "\t                                PACES\n",
    "\t\t\t\t\t\t\t  ACESP\n",
    "\t\t\t\t\t\t\t  CESPA\n",
    "\t\t\t\t\t\t\t  ESPAC\n",
    "\n",
    "2) What  are  the  indexes  of  SPACE ?  ---> 0  to  4\n",
    "     What  are  the  indexes  of  PACES ?  ---> 1  to  4 , 0  to  0\n",
    "     What  are  the  indexes  of  ACESP ?  ---> 2  to  4 , 0  to  1\n",
    "     What  are  the  indexes  of  CESPA ?  ---> 3  to  4 , 0  to  2\n",
    "     What  are  the  indexes  of  ESPAC ?  ---> 4  to  4 , 0  to  3\n",
    "\n",
    "3) What  are  the  indexes  in  general ?  --->  i  to  length - 1   and   0  to  i - 1\n",
    "\n",
    "Enter any string :  SPACE\n",
    "Rotations\n",
    "SPACE\n",
    "PACES\n",
    "ACESP\n",
    "CESPA\n",
    "ESPAC\n",
    "'''\n",
    "s= input('Enter a string: ')\n",
    "for i in range(len(s)):\n",
    "    print(s[i:len(s)]+s[0:i])"
   ]
  },
  {
   "cell_type": "code",
   "execution_count": 34,
   "id": "e2a1973b",
   "metadata": {},
   "outputs": [
    {
     "name": "stdout",
     "output_type": "stream",
     "text": [
      "SPACE\n",
      "PACES\n",
      "ACESP\n",
      "CESPA\n",
      "ESPAC\n"
     ]
    }
   ],
   "source": [
    "s='SPACE'\n",
    "print(s)\n",
    "res=[]\n",
    "for i in range(len(s)-1): \n",
    "    a=s[0]  # s         p           a           c\n",
    "    b=s[1:] # pace      acesp       cespa       espac\n",
    "    s=b+a   # s=paces   s=acesp    s=cespa      s=espac\n",
    "    res.append(s) #['SPACE','PACES','ACESP','CESPA','ESPAC']\n",
    "for i in res:\n",
    "    print(i)\n"
   ]
  },
  {
   "cell_type": "code",
   "execution_count": null,
   "id": "5f5d7d4e",
   "metadata": {},
   "outputs": [
    {
     "name": "stdout",
     "output_type": "stream",
     "text": [
      "7 * 1 = 7\n",
      "7 * 2 = 14\n",
      "7 * 3 = 21\n",
      "7 * 4 = 28\n",
      "7 * 5 = 35\n",
      "7 * 6 = 42\n",
      "7 * 7 = 49\n",
      "7 * 8 = 56\n",
      "7 * 9 = 63\n",
      "7 * 10 = 70\n"
     ]
    }
   ],
   "source": [
    "'''\n",
    "5. Write  a  program  to  print  mathematical  table  of  a  number\n",
    "\n",
    "Let  input  be  7,\n",
    "What  is  the  output ?  --->  7 * 1 = 7\n",
    "                       \t\t\t\t\t\t 7 * 2 = 14\n",
    "\t\t\t  \t\t\t\t\t\t\t\t 7 * 3 = 21\n",
    "\t\t\t\t\t\t\t\t\t\t\t\t .....\n",
    "\t\t\t\t\t\t\t\t\t\t\t 7 * 10 = 70\n",
    "\n",
    "Enter  table  number :  7\n",
    "7 * 1 = 7\n",
    "7 * 2 = 14\n",
    "7 * 3 = 21\n",
    "7 * 4 = 28\n",
    "7 * 5 = 35\n",
    "7 * 6 = 42\n",
    "7 * 7 = 49\n",
    "7 * 8 = 56\n",
    "7 * 9 = 63\n",
    "7 * 10 = 70\n",
    "'''\n",
    "n=int(input(\"Enter a number: \"))\n",
    "for i in range(1,11):\n",
    "    print(f'{n} * {i} = {n*i}')"
   ]
  },
  {
   "cell_type": "code",
   "execution_count": null,
   "id": "973b661d",
   "metadata": {},
   "outputs": [
    {
     "name": "stdout",
     "output_type": "stream",
     "text": [
      "         A \n",
      "        A B \n",
      "       A B C \n",
      "      A B C D \n",
      "     A B C D E \n",
      "    A B C D E F \n",
      "   A B C D E F G \n",
      "  A B C D E F G H \n",
      " A B C D E F G H I \n",
      "A B C D E F G H I J \n"
     ]
    }
   ],
   "source": [
    "'''\n",
    "6.Write a  program to print following pyramid\n",
    "Input: 5\n",
    "\n",
    "             A\n",
    "            A B\n",
    "           A B C\n",
    "          A B C D\n",
    "         A B C D E\n",
    "\n",
    "\n",
    "\t   i         ch\n",
    "---------------------\n",
    "       1         'A'\n",
    "\n",
    "\t2         'A'  to  'B'\n",
    "\n",
    "\t3         'A'  to  'C'\n",
    "\n",
    "\t4         'A'  to  'D'\n",
    "\n",
    "\t5         'A'  to  'E'\n",
    "\n",
    "\n",
    "How  many  lines ?  :  7\n",
    "       A\n",
    "      A B\n",
    "     A B C\n",
    "    A B C D\n",
    "   A B C D E\n",
    "  A B C D E F\n",
    " A B C D E F G\n",
    "'''\n",
    "n=int(input('Enter a number: '))                 #5\n",
    "for i in range(1,n+1):                    # 1-8                          # 1                  \n",
    "       print(\" \"*(n-i),end='')            # ' '*7-1=' '*6               ' '*7-2= 5spaces \n",
    "       for j in range(i):                 # 1, j=0                        2,j=0,1\n",
    "              print(chr(65+j),end=' ')    #65+0=65 i.e, 'A'              65+0=65 i.e, 'A'\n",
    "              # print('*',end=' ')\n",
    "       print()                                                           # 65+1=66 i.e, 'B'"
   ]
  }
 ],
 "metadata": {
  "kernelspec": {
   "display_name": "Python 3",
   "language": "python",
   "name": "python3"
  },
  "language_info": {
   "codemirror_mode": {
    "name": "ipython",
    "version": 3
   },
   "file_extension": ".py",
   "mimetype": "text/x-python",
   "name": "python",
   "nbconvert_exporter": "python",
   "pygments_lexer": "ipython3",
   "version": "3.12.10"
  }
 },
 "nbformat": 4,
 "nbformat_minor": 5
}

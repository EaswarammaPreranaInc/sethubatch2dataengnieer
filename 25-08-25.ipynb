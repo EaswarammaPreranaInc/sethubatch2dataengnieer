{
 "cells": [
  {
   "cell_type": "code",
   "execution_count": 1,
   "id": "3d508cc3",
   "metadata": {},
   "outputs": [
    {
     "name": "stdout",
     "output_type": "stream",
     "text": [
      "{40, 30}\n",
      "<class 'set'>\n",
      "{40, 30}\n",
      "<class 'set'>\n",
      "False\n",
      "True\n"
     ]
    },
    {
     "data": {
      "text/plain": [
       "\"\\nintersection()  method\\n---------------------------\\n1) What  does  a . intersection(b)  do ?  --->  Returns  a  set  with  common  elements  of  sets   'a'  and  'b'\\n\\n2) Is  set . intersection(list)  valid  ?  --->\\n\\t\\t\\t\\t\\t\\t\\t\\tYes  becoz  argument  of  intersection()  method  can  be  any  sequence  but  not  necessarily  set\\n\\n3) What  is  another  way  to  obtain  common  elements ?  --->  a & b\\n\\n4) Is  set & list  valid ?  --->  No  becoz  operands  of  &  operator  should  be  sets  only\\n\\n5) Is  list . intersection(set)  valid ?  --->  No  becoz  there  is  no  intersection()  method  in  list  class\\n\""
      ]
     },
     "execution_count": 1,
     "metadata": {},
     "output_type": "execute_result"
    }
   ],
   "source": [
    "#  intersection()   method  demo  program (Home  work)\n",
    "a = {10 , 20 , 30 , 40}\n",
    "b = {30 , 40 , 50 , 60}\n",
    "c = a . intersection(b)\n",
    "print(c)\t# {30,40}\n",
    "print(type(c))\t# <class set>\n",
    "d = a & b\n",
    "print(d) #{30,40}\n",
    "print(type(d)) # <class set>\n",
    "print(c  is  d)\t# False\n",
    "print(c  ==  d)\t# True\n",
    "\n",
    "\n",
    "'''\n",
    "intersection()  method\n",
    "---------------------------\n",
    "1) What  does  a . intersection(b)  do ?  --->  Returns  a  set  with  common  elements  of  sets   'a'  and  'b'\n",
    "\n",
    "2) Is  set . intersection(list)  valid  ?  --->\n",
    "\t\t\t\t\t\t\t\tYes  becoz  argument  of  intersection()  method  can  be  any  sequence  but  not  necessarily  set\n",
    "\n",
    "3) What  is  another  way  to  obtain  common  elements ?  --->  a & b\n",
    "\n",
    "4) Is  set & list  valid ?  --->  No  becoz  operands  of  &  operator  should  be  sets  only\n",
    "\n",
    "5) Is  list . intersection(set)  valid ?  --->  No  becoz  there  is  no  intersection()  method  in  list  class\n",
    "'''"
   ]
  },
  {
   "cell_type": "code",
   "execution_count": 2,
   "id": "885c0fef",
   "metadata": {},
   "outputs": [
    {
     "name": "stdout",
     "output_type": "stream",
     "text": [
      "{10, 20}\n",
      "<class 'set'>\n",
      "{10, 20}\n",
      "<class 'set'>\n",
      "False\n",
      "True\n"
     ]
    },
    {
     "data": {
      "text/plain": [
       "\"\\ndifference()  method\\n------------------------\\n1) What  does  a . difference(b)  do ? --->  Returns  a  set  with  those  elements  of  set  'a'  which  are  not  in  'b'\\n\\n2) Is  set . difference(list)  valid  ?  --->\\n\\t\\t\\t\\t\\t\\t\\tYes  becoz  argument  of  difference()  method  can  be  any  sequence  but  not  necessarily  set\\n\\n3) What  is  the  alternative  to  a . difference(b) ?  --->  a - b\\n\\n4) Is  set - list  valid ?  --->  No  becoz  operands  of  -  operator  should  be  sets  only\\n\""
      ]
     },
     "execution_count": 2,
     "metadata": {},
     "output_type": "execute_result"
    }
   ],
   "source": [
    "# difference()   method  demo  program  (Home  work)\n",
    "a = {10 , 20 , 30 , 40}\n",
    "b = {30 , 40 , 50 , 60}\n",
    "c = a . difference(b)\n",
    "print(c)\t# {10,20}in any order\n",
    "print(type(c))\t# <class set>\n",
    "d = a - b\t\n",
    "print(d) #{10,20}\n",
    "print(type(d)) # <class set>\n",
    "print(c  is  d)\t# Flase\n",
    "print(c  ==  d)\t# True\n",
    "\n",
    "\n",
    "'''\n",
    "difference()  method\n",
    "------------------------\n",
    "1) What  does  a . difference(b)  do ? --->  Returns  a  set  with  those  elements  of  set  'a'  which  are  not  in  'b'\n",
    "\n",
    "2) Is  set . difference(list)  valid  ?  --->\n",
    "\t\t\t\t\t\t\tYes  becoz  argument  of  difference()  method  can  be  any  sequence  but  not  necessarily  set\n",
    "\n",
    "3) What  is  the  alternative  to  a . difference(b) ?  --->  a - b\n",
    "\n",
    "4) Is  set - list  valid ?  --->  No  becoz  operands  of  -  operator  should  be  sets  only\n",
    "'''"
   ]
  },
  {
   "cell_type": "code",
   "execution_count": null,
   "id": "94272439",
   "metadata": {},
   "outputs": [
    {
     "name": "stdout",
     "output_type": "stream",
     "text": [
      "{10, 50, 20, 60}\n",
      "<class 'set'>\n",
      "{10, 50, 20, 60}\n",
      "<class 'set'>\n",
      "False\n",
      "True\n"
     ]
    },
    {
     "data": {
      "text/plain": [
       "\"\\nsymmetric_difference()  method\\n---------------------------------------\\n1) What  does  a . symmetric_difference(b)  do ? --->  Returns  a  set  with  all  the  elements  of  sets   'a'  and  'b'  but\\n\\t\\t\\t\\t\\t\\t                                                              without  common  elements\\n\\t\\t\\t\\t\\t\\t\\t\\t\\t\\t\\t\\t\\t\\t\\t\\t\\t\\t\\t\\t\\t  i.e.  Union  -  Intersection\\n\\n2) Is  set . symmetric_difference(list)  valid  ?  --->  Yes  becoz  argument  can  be  any  sequence  but  not  necessarily  set\\n\\n3) What  is  the  alternative  to  a . symmetric_difference(b) ?  --->  a ^ b\\n\\n4) Is  set ^ list  valid ?  --->  No  becoz  operands  of  ^  operator  should  be  sets  only\\n\""
      ]
     },
     "execution_count": 3,
     "metadata": {},
     "output_type": "execute_result"
    }
   ],
   "source": [
    "# symmetric_difference()   method  demo  program  (Home  work)\n",
    "a = {10 , 20 , 30 , 40}\n",
    "b = {30 , 40 , 50 , 60}\n",
    "c = a . symmetric_difference(b)\n",
    "print(c)\t# {10,20,50,60} in any order\n",
    "print(type(c)) # class set>\n",
    "d = a ^ b\t# ^- carrot\n",
    "print(d)\t# {10,20,50,60} in any order\n",
    "print(type(d))\t# # class set>\n",
    "print(c   is   d)\t# False\n",
    "print(c  ==   d)\t# True\n",
    "\n",
    "\n",
    "'''\n",
    "symmetric_difference()  method\n",
    "---------------------------------------\n",
    "1) What  does  a . symmetric_difference(b)  do ? --->  Returns  a  set  with  all  the  elements  of  sets   'a'  and  'b'  but\n",
    "\t\t\t\t\t\t                                                              without  common  elements\n",
    "\t\t\t\t\t\t\t\t\t\t\t\t\t\t\t\t\t\t\t\t\t  i.e.  Union  -  Intersection\n",
    "\n",
    "2) Is  set . symmetric_difference(list)  valid  ?  --->  Yes  becoz  argument  can  be  any  sequence  but  not  necessarily  set\n",
    "\n",
    "3) What  is  the  alternative  to  a . symmetric_difference(b) ?  --->  a ^ b\n",
    "\n",
    "4) Is  set ^ list  valid ?  --->  No  becoz  operands  of  ^  operator  should  be  sets  only\n",
    "'''"
   ]
  },
  {
   "cell_type": "code",
   "execution_count": null,
   "id": "fe69f663",
   "metadata": {},
   "outputs": [
    {
     "name": "stdout",
     "output_type": "stream",
     "text": [
      "{0, 1, 64, 4, 36, 9, 16, 49, 81, 25}\n",
      "<class 'set'>\n"
     ]
    }
   ],
   "source": [
    "# Find  outputs  (Home  work)\n",
    "a = {x * x  for   x   in   range(10)}\n",
    "print(a)    # {0,1,4,9,16,25,36,49,64,81} in nay order\n",
    "print(type(a))  # <class set>"
   ]
  },
  {
   "cell_type": "code",
   "execution_count": 25,
   "id": "7106c6d6",
   "metadata": {},
   "outputs": [
    {
     "name": "stdout",
     "output_type": "stream",
     "text": [
      "Rom a\n"
     ]
    }
   ],
   "source": [
    "'''\n",
    "(Home  work)\n",
    "Write  a  program  to  remove  duplicate  characters  of  the  string  using  set\n",
    "\n",
    "1) Let  input  be   Rama  Rao\n",
    "    What  is  the  output  ? --->  Ram<space>o\n",
    "\n",
    "2) Both  input  and  output  are  strings\n",
    "\n",
    "3) How  to  convert  string  to  set  ?  --->  set(string)\n",
    "    How  to  convert  set  to  string ?  --->  '' . join(set)\n",
    "\n",
    "4) What  is  the  result  of  str({'H' , 'y' , 'd'})  ? --->  \"{'H' , 'y' , 'd'}\"  but  not  'Hyd'\n",
    "\n",
    "Enter  input  string :  Rama Rao\n",
    "String  without  duplicates  :   ao mR\n",
    "'''\n",
    "s=input(\"Enter a string: \")\n",
    "s1=set(s)\n",
    "print(''.join(s1))\n"
   ]
  },
  {
   "cell_type": "code",
   "execution_count": null,
   "id": "8293d605",
   "metadata": {},
   "outputs": [
    {
     "name": "stdout",
     "output_type": "stream",
     "text": [
      "List  without  duplicates :  [False, 1, None, 10.8, 'Sec', 25, 'Hyd']\n"
     ]
    }
   ],
   "source": [
    "'''\n",
    "Write  a  program  to  remove  duplicate  elements  of   list  using  set\n",
    "\n",
    "1) Let  input  be  [False , 25 , 10.8 , 1  , 25 , 0 , 'Hyd' ,  10.8 , 1.0 , None , 'Sec' , 'Hyd' , True  ]\n",
    "    What  is  the  output ?  ---> [False , 25 , 10.8 , 1 , 'Hyd' , None , 'Sec']\n",
    "\n",
    "2) Both  input  and  output  are  lists\n",
    "\n",
    "Enter  list  with  duplicates :  [False , 25 , 10.8 , 1  , 25 , 0 , 'Hyd' ,  10.8 , 1.0 , None , 'Sec' , 'Hyd' , True]\n",
    "List  without  duplicates :   [False, 1, None, 'Sec', 10.8, 25, 'Hyd']\n",
    "'''\n",
    "l=eval(input('Enter  list  with  duplicates : '))\n",
    "l1=set(l)\n",
    "l2=[]\n",
    "for i in l1:\n",
    "    l2.append(i)\n",
    "print('List  without  duplicates : ', l2)"
   ]
  },
  {
   "cell_type": "code",
   "execution_count": 13,
   "id": "0005810a",
   "metadata": {},
   "outputs": [
    {
     "name": "stdout",
     "output_type": "stream",
     "text": [
      "[20, 30, 40]\n"
     ]
    }
   ],
   "source": [
    "'''\n",
    "Write  a  program  to   obtain  common  elements  between  two  lists  using  sets\n",
    "\n",
    "1) Let  1st  list  be  [10 , 20 , 30 , 40 , 50 , 60]  and  2nd  list  be  [30 , 40 , 70 , 80 , 20]\n",
    "    What  is  the  output ?  --->  [20 , 30 , 40]\n",
    "\n",
    "2) Both  input  and  output  are  lists\n",
    "\n",
    "Enter  1st  list  :  [10,20,30,40,50,60]\n",
    "Enter  2nd  list  :  [30,40,70,80,20]\n",
    "Common  elements  between  the  2  lists :   [40, 20, 30]\n",
    "'''\n",
    "l1=eval(input('Enter 1st list: '))\n",
    "l2=eval(input('Enter 2nd list: '))\n",
    "l3=[]\n",
    "for i in l1:\n",
    "    for j in l2:\n",
    "        if i==j:\n",
    "            l3.append(i)\n",
    "print(l3)\n"
   ]
  },
  {
   "cell_type": "code",
   "execution_count": 15,
   "id": "ceb0f86a",
   "metadata": {},
   "outputs": [
    {
     "name": "stdout",
     "output_type": "stream",
     "text": [
      "[20, 30, 40]\n",
      "Common  elements  between  the  2  lists :  [40, 20, 30]\n"
     ]
    }
   ],
   "source": [
    "l1=[10,20,30,40,50,60]\n",
    "l2=[30,40,70,80,20]\n",
    "common=list(set(l1)&set(l2))\n",
    "c1=sorted(list(set(l1)&set(l2)))\n",
    "print(c1)\n",
    "print(\"Common  elements  between  the  2  lists : \",common)"
   ]
  },
  {
   "cell_type": "code",
   "execution_count": 16,
   "id": "70c82204",
   "metadata": {},
   "outputs": [
    {
     "name": "stdout",
     "output_type": "stream",
     "text": [
      "25\n",
      "Rama  Rao\n",
      "1000.65\n"
     ]
    }
   ],
   "source": [
    "#  How  to  access  values  of  dictionary (Home  work)\n",
    "a  =  {'Empno'  :  25 ,  'Ename'  :  'Rama  Rao'  ,  'Sal'  :  1000.65  }\n",
    "print(a['Empno']) #(How  to  print  value  25  in  dict  'a')\n",
    "print(a['Ename']) #(How  to  print  'Rama Rao'  in  dict  'a')\n",
    "print(a['Sal'])  #(How  to  print  value  1000.65   in  dict  'a')"
   ]
  },
  {
   "cell_type": "code",
   "execution_count": null,
   "id": "b937fdb0",
   "metadata": {},
   "outputs": [
    {
     "name": "stdout",
     "output_type": "stream",
     "text": [
      "{'Empno': 25, 'Ename': 'Rama  Rao', 'Sal': 1000.65}\n",
      "1561750947776\n",
      "{'Empno': 35, 'Ename': 'Sita', 'Sal': 1000.65, 'sal': 2000}\n",
      "1561750947776\n"
     ]
    }
   ],
   "source": [
    "# How  to  modify  values  of  dictionary  (Home  work)\n",
    "a  =  {'Empno'  :  25,  'Ename'  :  'Rama  Rao'  ,  'Sal'  :  1000.65  }\n",
    "print(a)    # {'Empno'  :  25,  'Ename'  :  'Rama  Rao'  ,  'Sal'  :  1000.65  }\n",
    "print(id(a))    # address of dict\n",
    "a['sal']=2000 #How  to  modify  1000.65  to  2000\n",
    "a['Ename']='Sita' #How  to  modify  'Rama  Rao'  to  'Sita'\n",
    "a['Empno']=35 #How  to  modify  25   to  35\n",
    "print(a)    # {'Empno': 35, 'Ename': 'Sita', 'Sal': 1000.65, 'sal': 2000}\n",
    "print(id(a))    # address of modified dict"
   ]
  },
  {
   "cell_type": "code",
   "execution_count": null,
   "id": "ca219aff",
   "metadata": {},
   "outputs": [
    {
     "name": "stdout",
     "output_type": "stream",
     "text": [
      "{'Empno': 25, 'Ename': 'Rama  Rao', 'Sal': 1000.65}\n",
      "{'Empno': 25, 'Ename': 'Rama  Rao', 'Sal': 1000.65, 'Gender': 'M', 'Married': True}\n"
     ]
    }
   ],
   "source": [
    "#  How  to  append  key : value  pairs  to dictionary  (Home  work)\n",
    "a  =  {'Empno'  :  25,  'Ename'  :  'Rama  Rao'  ,  'Sal'  :  1000.65  }\n",
    "print(a)    # {'Empno'  :  25,  'Ename'  :  'Rama  Rao'  ,  'Sal'  :  1000.65  }\n",
    "a['Gender']='M' #How  to  append  'Gender' : 'M'  to  dictionary  'a'\n",
    "a['Married']=True #How  to  append  'Married' :  True  to  dictionary  'a'\n",
    "print(a)    # {'Empno': 25, 'Ename': 'Rama  Rao', 'Sal': 1000.65, 'Gender': 'M', 'Married': True"
   ]
  },
  {
   "cell_type": "code",
   "execution_count": null,
   "id": "dc3596b5",
   "metadata": {},
   "outputs": [
    {
     "name": "stdout",
     "output_type": "stream",
     "text": [
      "{10: 'Rama', 20: 'Sita', 15: 'Rajesh', 18: 'Kiran'}\n"
     ]
    }
   ],
   "source": [
    "# Find  outputs (Home  work)\n",
    "a = { }\n",
    "a[10]='Rama' #How  to  append  10 : 'Rama'  to  dictionary  'a'\n",
    "a[20]='Sita' #How  to  append  20 : 'Sita'  to  dictionary  'a'\n",
    "a[15]='Rajesh' #How  to  append  15 : 'Rajesh'  to  dictionary  'a'\n",
    "a[18]='Kiran' #How  to  append  18 : 'Kiran'  to  dictionary  'a'\n",
    "print(a) #{10: 'Rama', 20: 'Sita', 15: 'Rajesh', 18: 'Kiran'}"
   ]
  },
  {
   "cell_type": "code",
   "execution_count": null,
   "id": "fae3c762",
   "metadata": {},
   "outputs": [
    {
     "name": "stdout",
     "output_type": "stream",
     "text": [
      "{'Empno': 25, 'Ename': 'Rama  Rao', 'Sal': 1000.65}\n",
      "{'Empno': 25, 'Ename': 'Rama  Rao'}\n"
     ]
    }
   ],
   "source": [
    "#  How  to  remove  key : value  pairs  of  dictionary  (Home  work)\n",
    "a =  {'Empno'  :  25,  'Ename'  :  'Rama  Rao'  ,  'Sal'  :  1000.65  }\n",
    "print(a)    # {'Empno'  :  25,  'Ename'  :  'Rama  Rao'  ,  'Sal'  :  1000.65  }\n",
    "a.pop('Sal') #How  to  remove  'Sal' : 1000.65  from  dictionary  'a'\n",
    "print(a)    # {'Empno': 25, 'Ename': 'Rama  Rao'}"
   ]
  },
  {
   "cell_type": "code",
   "execution_count": null,
   "id": "0e75439b",
   "metadata": {},
   "outputs": [
    {
     "name": "stdout",
     "output_type": "stream",
     "text": [
      "True\n",
      "False\n",
      "True\n",
      "False\n",
      "True\n",
      "False\n",
      "False\n",
      "False\n",
      "True\n"
     ]
    }
   ],
   "source": [
    "#  in  and  not  in  operators  (Home  work)\n",
    "a =  {10 : 20 , 30 : 40 , 50 : 60 , 70 : 80}\n",
    "print(30  in  a . keys())   # True\n",
    "print(60  in  a . keys()) # False\n",
    "print(60  in  a . values()) # True\n",
    "print(30  in  a . values()) # False\n",
    "print(50  in  a)    # True\n",
    "print(20  in  a)    # False\n",
    "print(70  not  in  a . keys())  #False\n",
    "print(40  not  in  a . values())    # False\n",
    "print(25  not  in  a)   # True"
   ]
  },
  {
   "cell_type": "code",
   "execution_count": null,
   "id": "5fae3706",
   "metadata": {},
   "outputs": [
    {
     "name": "stdout",
     "output_type": "stream",
     "text": [
      "{10:300, 20:400}\n",
      "<class 'str'>\n",
      "{10: 300, 20: 400}\n",
      "<class 'dict'>\n"
     ]
    }
   ],
   "source": [
    "#  What  are  the  outputs  if  input  is  {10: 'A', 20: 'B', 15: 'C' , 20 : 'D'}\n",
    "a = input('Enter  dictionary  :  ')\n",
    "print(a)    # {10:300, 20:400}\n",
    "print(type(a))  # <class 'str'>\n",
    "b = eval(a)\n",
    "print(b) #{10: 300, 20: 400}\n",
    "print(type(b)) # <class 'dict'>"
   ]
  },
  {
   "cell_type": "code",
   "execution_count": null,
   "id": "9da7b6b2",
   "metadata": {},
   "outputs": [
    {
     "name": "stdout",
     "output_type": "stream",
     "text": [
      "{10: 'Rama', 20: 'Sita', 15: 'Rajesh', 18: 'Kiran'}\n",
      "False\n",
      "True\n",
      "True\n",
      "True\n"
     ]
    }
   ],
   "source": [
    "#  Find  outputs  (Home  work)\n",
    "a = {10 : 'Rama' , 20 : 'Sita' , 15 : 'Rajesh' , 18 : 'Kiran'}\n",
    "b = {**a}\n",
    "print(b)    #  {10 : 'Rama' , 20 : 'Sita' , 15 : 'Rajesh' , 18 : 'Kiran'}\n",
    "print(a  is  b) # False\n",
    "print(a  ==  b) # True\n",
    "c = a\n",
    "print(a  is   c) # True\n",
    "print(a  ==  c) # True"
   ]
  },
  {
   "cell_type": "code",
   "execution_count": null,
   "id": "d4249a71",
   "metadata": {},
   "outputs": [
    {
     "name": "stdout",
     "output_type": "stream",
     "text": [
      "{10, 14, 15, 18, 19, 20, 25}\n",
      "<class 'set'>\n",
      "{10: 'Rama', 20: 'Manohar', 15: 'Radha', 18: 'Kiran', 14: 'Srinivas', 25: 'Ramesh', 19: 'Krishna'}\n",
      "<class 'dict'>\n"
     ]
    }
   ],
   "source": [
    "#Find  outputs  (Home  work)\n",
    "a = {10 : 'Rama' , 20 : 'Sita' , 15 : 'Rajesh'}\n",
    "b = {18 : 'Kiran' , 14 : 'Amar' , 20  : 'Manohar'}\n",
    "c = {25 : 'Ramesh' , 19 : 'Krishna' , 15 : 'Radha' , 14 : 'Srinivas'}\n",
    "d = {*a , *b , *c}\n",
    "print(d)    #{10, 14, 15, 18, 19, 20, 25}\n",
    "print(type(d))  # <class 'set'>\n",
    "e = {**a , **b , **c}   \n",
    "print(e)    # {10: 'Rama', 20: 'Manohar', 15: 'Radha', 18: 'Kiran', 14: 'Srinivas', 25: 'Ramesh', 19: 'Krishna'} \n",
    "print(type(e)) # <class 'dict'>"
   ]
  },
  {
   "cell_type": "code",
   "execution_count": null,
   "id": "e92aa88c",
   "metadata": {},
   "outputs": [
    {
     "name": "stdout",
     "output_type": "stream",
     "text": [
      "{10: 60, 30: 50}\n",
      "{10: 60, 30: 50}\n"
     ]
    }
   ],
   "source": [
    "#  Find  outputs  (Home  work)\n",
    "a = {10 : 20 , 30 : 40}\n",
    "b = {30 : 50 , 10 : 60}\n",
    "#print(a + b)    #Error we cant concatenate using + operator\n",
    "c = {**a , **b}\n",
    "print(c)    # {10: 60, 30: 50}\n",
    "d = a | b\n",
    "print(d) # {10: 60, 30: 50}"
   ]
  },
  {
   "cell_type": "code",
   "execution_count": null,
   "id": "eb6bc82e",
   "metadata": {},
   "outputs": [
    {
     "name": "stdout",
     "output_type": "stream",
     "text": [
      "{'AAAA': 100000, 'BBBB': 200000, 'CCCC': 30000, 'DDDD': 400000}\n"
     ]
    }
   ],
   "source": [
    "'''\n",
    "(Home  work)\n",
    "Write  a  program  to  create  a  dictionary  with  emp  names  and  salaries\n",
    "\n",
    "Hint:  Append  each  emp  name  and  salary  to  dictionary  'a'\n",
    "\n",
    "How many Employees ? : 4\n",
    "Enter Emp Name : AAA\n",
    "Enter Salary : 100000\n",
    "Enter Emp Name : BBB\n",
    "Enter Salary : 200000\n",
    "Enter Emp Name : CCC\n",
    "Enter Salary : 150000\n",
    "Enter Emp Name : DDD\n",
    "Enter Salary : 175000\n",
    "{'AAA': 100000.0, 'BBB': 200000.0, 'CCC': 150000.0, 'DDD': 175000.0}\n",
    "'''\n",
    "n=int(input(\"How many Employess? : \"))\n",
    "dict={}\n",
    "for i in range(n):\n",
    "    a=input(\"Enter Emp Name: \")\n",
    "    b=int(input(\"Enter Salary: \"))\n",
    "    dict[a]=b\n",
    "print(dict)"
   ]
  },
  {
   "cell_type": "code",
   "execution_count": 38,
   "id": "3f498c98",
   "metadata": {},
   "outputs": [
    {
     "name": "stdout",
     "output_type": "stream",
     "text": [
      "['Emp no = 25 ', ' Emp name = Rama  Rao ', ' sal = 10000.0 ', ' gender = m']\n",
      "{'Emp no': '25 ', ' Emp name': 'Rama  Rao ', ' sal': '10000.0 ', ' gender': 'm'}\n"
     ]
    }
   ],
   "source": [
    "''' (Home  work)\n",
    "Write  a  program  to  convert  a  string  to  dictionary\n",
    "\n",
    "Let  input  be   \"Emp no = 25 , Emp name = Rama  Rao , sal = 10000.0 , gender = m\"\n",
    "\n",
    "What  is  the  output ?  --->  {Emp no : 25 , Emp name  :  Rama Rao , sal : 10000.0 , gender : m}\n",
    "\n",
    "Hint :  Use  split()  method  twice\n",
    "'''\n",
    "a=input(\"Enter a string: \")\n",
    "b=a.split(',')\n",
    "print(b)\n",
    "d={}\n",
    "for i in b:\n",
    "    key,value=i.split(' = ')\n",
    "    d[key]=value\n",
    "print(d)"
   ]
  },
  {
   "cell_type": "code",
   "execution_count": 39,
   "id": "cfd6cc38",
   "metadata": {},
   "outputs": [
    {
     "name": "stdout",
     "output_type": "stream",
     "text": [
      "3\n",
      "0\n"
     ]
    },
    {
     "data": {
      "text/plain": [
       "'\\nWhat  does  len(dict)  do ?  --->  Returns  number  of  key : value  pairs  in  the  dictionary\\n'"
      ]
     },
     "execution_count": 39,
     "metadata": {},
     "output_type": "execute_result"
    }
   ],
   "source": [
    "# len()  function  demo  program  (Home  work)\n",
    "a  =  {'Empno'  :  25,  'Ename'  :  'Rama  Rao'  ,  'Sal'  :  1000.65  }\n",
    "print(len(a))   # 3\n",
    "b = {}\n",
    "print(len(b))   # 0\n",
    "\n",
    "\n",
    "'''\n",
    "What  does  len(dict)  do ?  --->  Returns  number  of  key : value  pairs  in  the  dictionary\n",
    "'''"
   ]
  },
  {
   "cell_type": "code",
   "execution_count": null,
   "id": "e2100e28",
   "metadata": {},
   "outputs": [
    {
     "name": "stdout",
     "output_type": "stream",
     "text": [
      "90\n",
      "120\n",
      "90\n"
     ]
    }
   ],
   "source": [
    "#  sum()  function demo  program  (Home  work)\n",
    "a = {10 : 20 , 30 : 40 , 50 : 60}\n",
    "print(sum(a . keys()))  #  90\n",
    "print(sum(a . values()))    # 120\n",
    "print(sum(a))   # 90 bcz (default is keys) sum of keys\n",
    "print(sum(a . items())) #  Error"
   ]
  },
  {
   "cell_type": "code",
   "execution_count": null,
   "id": "3e791a42",
   "metadata": {},
   "outputs": [
    {
     "name": "stdout",
     "output_type": "stream",
     "text": [
      "40\n",
      "7\n",
      "50\n",
      "5\n",
      "(40, 5)\n",
      "(7, 28)\n",
      "40\n",
      "7\n"
     ]
    }
   ],
   "source": [
    "# max()  and  min()   functions  demo  program  (Home  work)\n",
    "a = {10 : 20 , 30 : 25 , 40 : 5 , 7 : 28 , 9 : 50}\n",
    "print(max(a . keys()))  # 40\n",
    "print(min(a . keys()))  # 7\n",
    "print(max(a . values()))    # 50\n",
    "print(min(a . values()))    # 5\n",
    "print(max(a . items())) # (40, 5)\n",
    "print(min(a . items())) # (7, 28)\n",
    "print(max(a))   # 40\n",
    "print(min(a))   # 7"
   ]
  },
  {
   "cell_type": "code",
   "execution_count": null,
   "id": "a7234444",
   "metadata": {},
   "outputs": [
    {
     "data": {
      "text/plain": [
       "'\\ndict()  function\\n------------------\\n1) What  is  the  argument  of  dict()  function ?  --->\\n\\t\\t\\t\\t\\t\\t\\t\\t\\t\\t\\tNested  sequence  such  as  list  of  tuples , list  of  lists , tuple  of  tuples , tuple  of  lists,\\n\\t\\t\\t\\t\\t\\t\\t\\t\\t\\t\\tset  of  tuples  and  so  on\\n\\n2) What  does  dict(nested-sequence)  do ?  --->  Converts  nested  sequence  to  dictionary\\n\\n3) How  many  elements  can  be  in  each  inner  sequence ?  --->  Exactly  two  elements\\n    What  are  the  two  elements  of   each  inner  sequence ?  ---> key  and   value\\n\\n4) Is  dict(sequence)  valid ?  --->  No  becoz  argument  is  not  a  nested  sequence\\n'"
      ]
     },
     "execution_count": 70,
     "metadata": {},
     "output_type": "execute_result"
    }
   ],
   "source": [
    "#  dict()  function  demo program (Home  work))\n",
    "a = [ (10 , 'Hyd') , (20 , 'Sec') , (15 , 'Cyb') , (20 , 'Pune')]\n",
    "b = dict(a)\n",
    "print(b) # {10: 'Hyd', 20: 'Pune', 15: 'Cyb'}\n",
    "c = ( ['R' , 'Red'] , ['G' , 'Green'] , ['B' , 'Blue'] , ['G' , 'Gray'])\n",
    "d = dict(c)\n",
    "print(d)\t# {'R': 'Red', 'G': 'Gray', 'B': 'Blue'}\n",
    "e = [[10 , 20 , 30] , [40 , 50 , 60] , [70 , 80 , 90]]\n",
    "print(dict(e))\t# error\n",
    "f = [[10] , [20] , [30]]\n",
    "print(dict(f))\t# error\n",
    "print(dict([10 , 20]))\t# error\n",
    "g = [[10 , [20 , 30]] , [40 , [50 , 60]] , [70 , [80 , 90]]]\n",
    "print(dict(g))\t#{10: [20, 30], 40: [50, 60], 70: [80, 90]}\n",
    "h = [[[10 , 20] , 30] , [[40 , 50] , 60] , [[70 , 80] , 90]]\n",
    "print(dict(h))\t# Error\n",
    "i = [[(10 , 20) , 30] , [(40 , 50) , 60] , [(70 , 80) , 90]]\n",
    "print(dict(i))\t# {(10, 20): 30, (40, 50): 60, (70, 80): 90}\n",
    "\n",
    "\n",
    "'''\n",
    "dict()  function\n",
    "------------------\n",
    "1) What  is  the  argument  of  dict()  function ?  --->\n",
    "\t\t\t\t\t\t\t\t\t\t\tNested  sequence  such  as  list  of  tuples , list  of  lists , tuple  of  tuples , tuple  of  lists,\n",
    "\t\t\t\t\t\t\t\t\t\t\tset  of  tuples  and  so  on\n",
    "\n",
    "2) What  does  dict(nested-sequence)  do ?  --->  Converts  nested  sequence  to  dictionary\n",
    "\n",
    "3) How  many  elements  can  be  in  each  inner  sequence ?  --->  Exactly  two  elements\n",
    "    What  are  the  two  elements  of   each  inner  sequence ?  ---> key  and   value\n",
    "\n",
    "4) Is  dict(sequence)  valid ?  --->  No  becoz  argument  is  not  a  nested  sequence\n",
    "'''"
   ]
  },
  {
   "cell_type": "code",
   "execution_count": null,
   "id": "13274a5b",
   "metadata": {},
   "outputs": [
    {
     "name": "stdout",
     "output_type": "stream",
     "text": [
      "[5, 10, 15, 18, 20]\n",
      "['Blue', 'Green', 'Red', 'White', 'Yellow']\n",
      "[(5, 'White'), (10, 'Red'), (15, 'Blue'), (18, 'Yellow'), (20, 'Green')]\n",
      "[20, 18, 15, 10, 5]\n",
      "{10: 'Red', 20: 'Green', 15: 'Blue', 18: 'Yellow', 5: 'White'}\n"
     ]
    }
   ],
   "source": [
    "# sorted()  function  (Home  work)\n",
    "a = {10 : 'Red' , 20 : 'Green' , 15 : 'Blue' , 18 : 'Yellow' , 5 : 'White'}\n",
    "b = sorted(a . keys())\n",
    "print(b)    #[5, 10, 15, 18, 20]\n",
    "c = sorted(a . values())\n",
    "print(c)    # ['Blue', 'Green', 'Red', 'White', 'Yellow']\n",
    "d = sorted(a . items())\n",
    "print(d)    # [(5, 'White'), (10, 'Red'), (15, 'Blue'), (18, 'Yellow'), (20, 'Green')]\n",
    "f  = sorted(a  , reverse = True)\n",
    "print(f)    # [20, 18, 15, 10, 5]\n",
    "print(a)    # {10: 'Red', 20: 'Green', 15: 'Blue', 18: 'Yellow', 5: 'White'}"
   ]
  },
  {
   "cell_type": "code",
   "execution_count": null,
   "id": "43d9ffe7",
   "metadata": {},
   "outputs": [
    {
     "data": {
      "text/plain": [
       "\"\\nTricky  program\\nWrite  a  program  to  sort  dictionary  wrt  keys  (Home  work)\\n\\n1) Let  input  be   {10 : 'A' , 20 : 'B' , 15 : 'C' , 5 : 'D' , 12 : 'E'}\\n    What  is  the  output ?  ---> {5 : 'D' , 10 : 'A' ,  12 : 'E' ,  15 : 'C' , 20 : 'B'}\\n\\n2) Both  input  and  output  are  dictionaries\\n\\n3) Hint:  Use  sorted()  function\\n\\nEnter  dictionary  :  {10 : 'A' , 20 : 'B' , 15 : 'C' , 5 : 'D' , 12 : 'E'}\\n{5: 'D', 10: 'A', 12: 'E', 15: 'C', 20: 'B'}\\n\""
      ]
     },
     "execution_count": 69,
     "metadata": {},
     "output_type": "execute_result"
    }
   ],
   "source": [
    "'''\n",
    "Tricky  program\n",
    "Write  a  program  to  sort  dictionary  wrt  keys  (Home  work)\n",
    "\n",
    "1) Let  input  be   {10 : 'A' , 20 : 'B' , 15 : 'C' , 5 : 'D' , 12 : 'E'}\n",
    "    What  is  the  output ?  ---> {5 : 'D' , 10 : 'A' ,  12 : 'E' ,  15 : 'C' , 20 : 'B'}\n",
    "\n",
    "2) Both  input  and  output  are  dictionaries\n",
    "\n",
    "3) Hint:  Use  sorted()  function\n",
    "\n",
    "Enter  dictionary  :  {10 : 'A' , 20 : 'B' , 15 : 'C' , 5 : 'D' , 12 : 'E'}\n",
    "{5: 'D', 10: 'A', 12: 'E', 15: 'C', 20: 'B'}\n",
    "'''\n",
    "a=eval(input('Enter dictionary: '))\n",
    "b=sorted(a.items())\n",
    "sorted_dict= dict(b)\n",
    "print(sorted_dict)"
   ]
  },
  {
   "cell_type": "code",
   "execution_count": null,
   "id": "97b5f27a",
   "metadata": {},
   "outputs": [
    {
     "name": "stdout",
     "output_type": "stream",
     "text": [
      "{10: 20, 30: 40, 50: 60}\n",
      "{}\n"
     ]
    }
   ],
   "source": [
    "# clear()  method  demo  program (Home  work)\n",
    "a = {10 : 20 , 30 : 40 , 50 : 60}\n",
    "print(a)    # {10 : 20 , 30 : 40 , 50 : 60}\n",
    "a . clear()\n",
    "print(a)    #{}\n",
    "del  a\n",
    "print(a)    # error"
   ]
  },
  {
   "cell_type": "code",
   "execution_count": 58,
   "id": "438909a6",
   "metadata": {},
   "outputs": [
    {
     "name": "stdout",
     "output_type": "stream",
     "text": [
      "{'R': 'Red', 'G': 'Green', 'B': 'Blue'}\n",
      "False\n",
      "True\n"
     ]
    }
   ],
   "source": [
    "# copy()  method demo  program  (Home  work)\n",
    "a = {'R' : 'Red' , 'G' : 'Green' , 'B' : 'Blue'}\n",
    "b = a . copy()\n",
    "print(b)    # {'R': 'Red', 'G': 'Green', 'B': 'Blue'}\n",
    "print(a  is  b) # False\n",
    "print(a  ==  b) # True"
   ]
  },
  {
   "cell_type": "code",
   "execution_count": null,
   "id": "556677b6",
   "metadata": {},
   "outputs": [
    {
     "name": "stdout",
     "output_type": "stream",
     "text": [
      "dict_keys([10, 20, 15, 18])\n",
      "<class 'dict_keys'>\n",
      "10\n",
      "20\n",
      "15\n",
      "18\n"
     ]
    },
    {
     "data": {
      "text/plain": [
       "'\\nWhat  does  keys()  method  do  --->  Returns  dict_keys  object  which  has  list  of  all  the  dictionary  keys\\n'"
      ]
     },
     "execution_count": 56,
     "metadata": {},
     "output_type": "execute_result"
    }
   ],
   "source": [
    "#  keys()  method  demo  program\n",
    "a = {10 : 'Hyd' , 20 : 'Sec' , 15 : 'Cyb' , 18 : 'Pune'}\n",
    "b = a . keys()\n",
    "print(b)        # dict_keys([10, 20, 15, 18])\n",
    "print(type(b)) #<class 'dict_keys'>\n",
    "for  x  in   b:\n",
    "        print(x) # 10 <next line> 20 <next line> 15 <next line> 18\n",
    "\n",
    "\n",
    "'''\n",
    "What  does  keys()  method  do  --->  Returns  dict_keys  object  which  has  list  of  all  the  dictionary  keys\n",
    "'''"
   ]
  },
  {
   "cell_type": "code",
   "execution_count": null,
   "id": "d6a5047d",
   "metadata": {},
   "outputs": [
    {
     "name": "stdout",
     "output_type": "stream",
     "text": [
      "dict_values(['Hyd', 'Sec', 'Cyb', 'Pune'])\n",
      "<class 'dict_values'>\n",
      "Hyd\n",
      "Sec\n",
      "Cyb\n",
      "Pune\n"
     ]
    },
    {
     "data": {
      "text/plain": [
       "'\\nWhat  does  values()  method  do  --->  Returns  dict_values  object  which  has  list  of  all  the  dictionary  values\\n'"
      ]
     },
     "execution_count": 55,
     "metadata": {},
     "output_type": "execute_result"
    }
   ],
   "source": [
    "# values()  method  demo  program\n",
    "a = {10 : 'Hyd' , 20 : 'Sec' , 15 : 'Cyb' , 18 : 'Pune'}\n",
    "b = a . values()\n",
    "print(b)\t#dict_values(['Hyd', 'Sec', 'Cyb', 'Pune'])\n",
    "print(type(b)) #<class 'dict_values'>\n",
    "for  x   in   b:\n",
    "\tprint(x) # Hyd <next line> Sec <next line> Cyb <next line> Pune \n",
    "\n",
    "\n",
    "'''\n",
    "What  does  values()  method  do  --->  Returns  dict_values  object  which  has  list  of  all  the  dictionary  values\n",
    "'''"
   ]
  },
  {
   "cell_type": "code",
   "execution_count": null,
   "id": "b69b7974",
   "metadata": {},
   "outputs": [
    {
     "name": "stdout",
     "output_type": "stream",
     "text": [
      "dict_items([(10, 'Hyd'), (20, 'Sec'), (15, 'Cyb'), (18, 'Pune')])\n",
      "<class 'dict_items'>\n",
      "(10, 'Hyd')\n",
      "(20, 'Sec')\n",
      "(15, 'Cyb')\n",
      "(18, 'Pune')\n",
      "10 ... Hyd\n",
      "20 ... Sec\n",
      "15 ... Cyb\n",
      "18 ... Pune\n"
     ]
    },
    {
     "data": {
      "text/plain": [
       "'\\n1) What  does  items()  method  do  --->  Returns  dict_items  object  which  has  list  of  tuples\\n\\n2) What  are  the  two  elements  of  each  tuple ?  ---> (key , value)\\n'"
      ]
     },
     "execution_count": 54,
     "metadata": {},
     "output_type": "execute_result"
    }
   ],
   "source": [
    "#  items()  method  demo  program\n",
    "a = {10 : 'Hyd' , 20 : 'Sec' , 15 : 'Cyb' , 18 : 'Pune'}\n",
    "b = a . items()\n",
    "print(b)        # dict_items([(10, 'Hyd'), (20, 'Sec'), (15, 'Cyb'), (18, 'Pune')])\n",
    "print(type(b)) #<class dict_items>\n",
    "for  x   in   b:\n",
    "        print(x)        # (10, 'Hyd')<next line>(20, 'Sec')<next line>(15, 'Cyb')<next line>(18, 'Pune')\n",
    "for  x , y   in  b:\n",
    "        print(x , y , sep = ' ... ') #10...Hyd <next line> 20 ... Sec <next line> 15 ... Cyb <next line> 18 ... Pune\n",
    "\n",
    "'''\n",
    "1) What  does  items()  method  do  --->  Returns  dict_items  object  which  has  list  of  tuples\n",
    "\n",
    "2) What  are  the  two  elements  of  each  tuple ?  ---> (key , value)\n",
    "'''"
   ]
  },
  {
   "cell_type": "code",
   "execution_count": null,
   "id": "7097350b",
   "metadata": {},
   "outputs": [
    {
     "name": "stdout",
     "output_type": "stream",
     "text": [
      "10 ... Hyd\n",
      "20 ... Sec\n",
      "15 ... Cyb\n",
      "18 ... Pune\n"
     ]
    }
   ],
   "source": [
    "# Find  outputs (Home  work)\n",
    "a = {10 : 'Hyd' , 20 : 'Sec' , 15 : 'Cyb' , 18 : 'Pune'}\n",
    "for  x , y   in  a . items():\n",
    "       print(x , y , sep = ' ... ')       #10...Hyd <next line> 20 ... Sec <next line> 15 ... Cyb <next line> 18 ... Pune\n",
    "for  x , y   in  a . keys():\n",
    "       print(x , y , sep = ' ... ')       # error\n",
    "for  x , y   in  a . values():\n",
    "       print(x , y , sep = ' ... ')       # error\n",
    "for  x , y   in  a:\n",
    "       print(x , y , sep = ' ... ')       # error"
   ]
  },
  {
   "cell_type": "code",
   "execution_count": null,
   "id": "ea46df78",
   "metadata": {},
   "outputs": [
    {
     "name": "stdout",
     "output_type": "stream",
     "text": [
      "10\n",
      "20\n",
      "15\n",
      "\n",
      "Rama\n",
      "Sita\n",
      "Rajesh\n",
      "\n",
      "(10, 'Rama')\n",
      "(20, 'Sita')\n",
      "(15, 'Rajesh')\n",
      "\n",
      "10 Rama\n",
      "20 Sita\n",
      "15 Rajesh\n"
     ]
    }
   ],
   "source": [
    "#  Find  outputs  (Home  work)\n",
    "a = {10 : 'Rama' , 20 : 'Sita' , 15 : 'Rajesh'}\n",
    "x , y , z = a . keys()\n",
    "print(x)    # 10\n",
    "print(y)    # 20\n",
    "print(z)    # 15\n",
    "print() # nothing\n",
    "x , y , z = a . values()\n",
    "print(x)    # Rama\n",
    "print(y)    # Sita\n",
    "print(z)    # Rajesh\n",
    "print()\n",
    "x , y ,  z = a . items()\n",
    "print(x)    # (10, 'Rama')\n",
    "print(y)    # (20, 'Sita')\n",
    "print(z)    # (15, 'Rajesh')\n",
    "print()\n",
    "(rno1 , sname1) , (rno2 , sname2) , (rno3 , sname3) = a . items()\n",
    "print(rno1 , sname1)    # 10 Rama\n",
    "print(rno2 , sname2)    # 20 Sita\n",
    "print(rno3 , sname3)    # 15 Rajesh"
   ]
  },
  {
   "cell_type": "code",
   "execution_count": null,
   "id": "c8171463",
   "metadata": {},
   "outputs": [
    {
     "name": "stdout",
     "output_type": "stream",
     "text": [
      "{'A': 3, 'M': 1, 'O': 1, 'R': 2}\n"
     ]
    }
   ],
   "source": [
    "'''\n",
    "Tricky  program\n",
    "(Home  work)\n",
    "Write  a program  to  determine  frequency  of  each  alphabet  in  the  string   in   alphabetical  order\n",
    "(ignoring  the  case)\n",
    "\n",
    "Let  input  be   RamA raO\n",
    "What  is  the  output ?  ---> {'A' : 3 , 'M' : 1 , 'O' : 1 , 'R' : 2}  in  alphabetical  order\n",
    "\n",
    "1) What  is  the  string  after  it  is  converted  to  uppercase ?  --->  'RAMA RAO'\n",
    "\n",
    "2) What  is  the  result  of  sorted('RAMA RAO') ?  --->  [' ' , 'A' , 'A' , 'A' , 'M' , 'O' , 'R' , 'R']\n",
    "\n",
    "3) What  is  dictionary  'a'  initially ?  --->  { }\n",
    "\n",
    "4) What  is  the  first  element  in  list ?  --->  ' '\n",
    "    What  action  to  be  made  for  ' ' ?  --->  Ignore  becoz  it  is  not  an  alphabet\n",
    "\n",
    "5) What  is  the  2nd  element  in  list ?  ---> 'A'\n",
    "    What  is  a['A']  ?  --->  a . get('A' , 0) + 1 = 0 + 1 = 1\n",
    "    What  does  a['A']  =  1  do ?  --->  Appends  'A' : 1  to  dict  'a'\n",
    "    What  is  dictionary  'a' ?  --->  {'A' : 1}\n",
    "\n",
    "6) What  is  the  3rd  element  in  list ?  --->  'A'\n",
    "    What  is  a['A']  ?  --->  a . get('A' , 0) + 1 =  1 + 1 = 2\n",
    "    What  does  a['A']  =  2  do ?  --->  Modifies  value  of  'A'  to  2  in dict  'a'\n",
    "    What  is  dictionary  'a' ?  --->  {'A' : 2}\n",
    "\n",
    "7) What  is  the  4th  element  in  list ?  --->  'A'\n",
    "    What  is  a['A']  ?  --->  a . get('A' , 0) + 1 =  2 + 1 = 3\n",
    "    What  does  a['A'] = 3  do ?  --->  Modifies  value  of  'A'  to  3  in dict  'a'\n",
    "    What  is  dictionary  'a' ?  ---> {'A' : 3}\n",
    "\n",
    "8) What  is  the  5th  element  in  list ?  --->  'M'\n",
    "     What  is  a['M']  ?  --->  \t a . get('M' , 0) + 1 =  0 + 1 = 1\n",
    "    What  does  a['M'] = 1  do ?  --->  Appends  'M' : 1  to  dict  'a'\n",
    "    What  is  dictionary  'a' ?  ---> {'A' : 3 , 'M' : 1}\n",
    "\n",
    "9) What  is  the  6th  element  in  list ?  ---> 'O'\n",
    "     What  is  a['O']  ?  --->  a . get('O' , 0) + 1 =  0 + 1 = 1\n",
    "     What  does  a['O'] = 1  do ?  ---> Appends  'O' : 1  to  dict  'a'\n",
    "     What  is  dictionary  'a' ?  --->  {'A' : 3 , 'M' : 1 , 'O' : 1}\n",
    "\n",
    "10) What  is  the  7th  element  in  list ?  ---> 'R'\n",
    "      What  is  a['R']  ?  --->  a . get('R' , 0) + 1 =  0 + 1 = 1\n",
    "       What  does  a['R'] = 1  do ?  --->  Appends  'R' : 1  to  dict  'a'\n",
    "\t  What  is  dictionary  'a' ?  ---> {'A' : 3 , 'M' : 1 , 'O' : 1 , 'R' : 1}\n",
    "\n",
    "11) What  is  the  last  element  in  list ?  --->  'R'\n",
    "      What  is  a['R']  ?  --->  a . get('R' , 0) + 1 =  1 + 1 = 2\n",
    "      What  does  a['R'] = 2  do ?  ---> Modifies  value  of  'R'  to  2  in dict  'a'\n",
    "      What  is  dictionary  'a' ?  --->  \t{'A' : 3 , 'M' : 1 , 'O' : 1 , 'R' : 2}\n",
    "\n",
    "11) Finally  what   is  dict  'a' ?  ---> {'R' : 2 , 'A' : 3 , 'M' : 1 , 'O' : 1}\n",
    "\n",
    "Enter  mixed  case  string : RamA raO\n",
    "{'A': 3, 'M': 1, 'O': 1, 'R': 2}\n",
    "'''\n",
    "\n",
    "s=input('Enter a mixed case string: ')\n",
    "b=s.upper()\n",
    "a={}\n",
    "c=sorted(b)\n",
    "for ch in c:\n",
    "    if ch.isalpha():\n",
    "        a[ch]=a.get(ch,0)+1\n",
    "print(a)"
   ]
  }
 ],
 "metadata": {
  "kernelspec": {
   "display_name": "Python 3",
   "language": "python",
   "name": "python3"
  },
  "language_info": {
   "codemirror_mode": {
    "name": "ipython",
    "version": 3
   },
   "file_extension": ".py",
   "mimetype": "text/x-python",
   "name": "python",
   "nbconvert_exporter": "python",
   "pygments_lexer": "ipython3",
   "version": "3.12.10"
  }
 },
 "nbformat": 4,
 "nbformat_minor": 5
}

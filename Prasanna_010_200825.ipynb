{
 "cells": [
  {
   "cell_type": "code",
   "execution_count": 2,
   "id": "999d10c3",
   "metadata": {},
   "outputs": [
    {
     "name": "stdout",
     "output_type": "stream",
     "text": [
      "[8, 64, 216, 512, 1000]\n"
     ]
    }
   ],
   "source": [
    "# Write  a  program  to  create  a  list  with  cubes  of  2 , 4 , 6 , 8 , 10  with  list  comprehension (Home  work)\n",
    "\n",
    "a=[x**3 for x in range(2,11,2)]\n",
    "print(a)"
   ]
  },
  {
   "cell_type": "code",
   "execution_count": 1,
   "id": "fde4bb5b",
   "metadata": {},
   "outputs": [
    {
     "name": "stdout",
     "output_type": "stream",
     "text": [
      "['H', 'P', 'C', 'V']\n"
     ]
    }
   ],
   "source": [
    "'''\n",
    "(Home  work)\n",
    "Write  a  program  to  extract  1st  character  of  each  string  in  capital  letters  in  a  list  of  srings  without  comprehension\n",
    "\n",
    "Let  input  be   ['hyd' , 'pune' , 'chennai' , 'vijayawada']\n",
    "What  is  the  output ?  ---> ['H' , 'P' , 'C' , 'V']\n",
    "Enter  list  of  lower  case  strings :  ['hyd' , 'pune' , 'chennai' , 'vijayawada']\n",
    "['H', 'P', 'C', 'V']\n",
    "'''\n",
    "a=eval(input(\"Enter list of lower case strings:\"))\n",
    "b=[]\n",
    "for i in a:\n",
    "    b.append(i[0].upper())\n",
    "print(b)"
   ]
  },
  {
   "cell_type": "code",
   "execution_count": 2,
   "id": "1d57c2ab",
   "metadata": {},
   "outputs": [
    {
     "name": "stdout",
     "output_type": "stream",
     "text": [
      "['H', 'P', 'C', 'V']\n"
     ]
    }
   ],
   "source": [
    "'''\n",
    "(Home  work)\n",
    "Repeat   previous  program  with  comprehension\n",
    "\n",
    "Input :  ['hyd' , 'pune' , 'chennai' , 'vijayawada']\n",
    "\n",
    "Output :  ['H' , 'P' , 'C' , 'V']\n",
    "'''\n",
    "a=eval(input(\"Enter list of lower case strings:\"))\n",
    "b=[i[0].upper() for i in a]\n",
    "print(b)"
   ]
  },
  {
   "cell_type": "code",
   "execution_count": 8,
   "id": "0ca4a780",
   "metadata": {},
   "outputs": [
    {
     "name": "stdout",
     "output_type": "stream",
     "text": [
      "[['HYD', 3], ['IS', 2], ['GREEN', 5], ['CITY', 4]]\n"
     ]
    }
   ],
   "source": [
    "'''\n",
    "Write  a  program  to  append  each  word  of  the  sentence  and  its  length  to  a  list\n",
    "(word  should  be  in  capital  letters)  without  comprehension\n",
    "\n",
    "Let  input  be   Write  a  program  to  append  each  word  of  the  sentence  and  its  length  to  a  list\n",
    "(word  should  be  in  capital  letters)  without  comprehension\n",
    "\n",
    "Let  input  be   hyd  is  green  city\n",
    "What  is  the  output ?  --->  [['HYD' , 3] , ['IS' , 2] , ['GREEN' , 5] , ['CITY', 3]]\n",
    "Enter  any  sentence :  Students are getting bored\n",
    "[['STUDENTS', 8], ['ARE', 3], ['GETTING', 7], ['BORED', 5]]\n",
    "What  is  the  output ?  --->  [['HYD' , 3] , ['IS' , 2] , ['GREEN' , 5] , ['CITY', 3]]\n",
    "Enter  any  sentence :  Students are getting bored\n",
    "[['STUDENTS', 8], ['ARE', 3], ['GETTING', 7], ['BORED', 5]]\n",
    "'''\n",
    "a=input(\"Enter any sentence:\")\n",
    "b=a.split()\n",
    "c=[]\n",
    "for i in b:\n",
    "    c.append([i.upper(),len(i)])\n",
    "print(c)\n"
   ]
  },
  {
   "cell_type": "code",
   "execution_count": 9,
   "id": "1dbd44d7",
   "metadata": {},
   "outputs": [
    {
     "name": "stdout",
     "output_type": "stream",
     "text": [
      "[['HYD', 3], ['IS', 2], ['GREEN', 5], ['CITY', 4]]\n"
     ]
    }
   ],
   "source": [
    "'''\n",
    "(Home  work)\n",
    "Repeat   previous  program  with  comprehension\n",
    "\n",
    "Input :  hyd  is  green  city\n",
    "\n",
    "Output :  [['HYD' , 3] , ['IS' , 2] , ['GREEN' , 5] , ['CITY' , 4]]\n",
    "'''\n",
    "a=input(\"Enter any sentence:\")\n",
    "b=a.split()\n",
    "c=[[i.upper(),len(i)] for i in b]\n",
    "print(c)"
   ]
  },
  {
   "cell_type": "code",
   "execution_count": 2,
   "id": "deff3530",
   "metadata": {},
   "outputs": [
    {
     "name": "stdout",
     "output_type": "stream",
     "text": [
      "[11, 22, 33, 44]\n"
     ]
    }
   ],
   "source": [
    "'''\n",
    "Write  a  program  to  add  two  lists  of  unequal  length  without  comprehension\n",
    "\n",
    "Let  1st  list  be  [10 , 20 , 30 , 40 , 50 , 60 , 70]  and  2nd  list  be  [100 , 200 , 300 , 400]\n",
    "What  is   the  result ?  ---> [10 + 100 , 20 + 200 , 30 + 300 , 40 + 400]\n",
    "Enter  1st  list  :  [10,20,30,40,50,60,70]\n",
    "Enter  2nd  list  :  [1,2,3,4]\n",
    "[11, 22, 33, 44]'''\n",
    "\n",
    "a=eval(input(\"Enter  1st  list  : \"))\n",
    "b=eval(input(\"Enter  2nd  list  : \"))\n",
    "i=min(len(a),len(b))\n",
    "new=[]\n",
    "for j in range(i):\n",
    "    new.append(a[j]+b[j])\n",
    "print(new)"
   ]
  },
  {
   "cell_type": "code",
   "execution_count": 3,
   "id": "a9ba8391",
   "metadata": {},
   "outputs": [
    {
     "name": "stdout",
     "output_type": "stream",
     "text": [
      "[110, 220, 330, 440]\n"
     ]
    }
   ],
   "source": [
    "\n",
    "'''\n",
    "(Home  work)\n",
    "Repeat   previous  program  with  comprehension\n",
    "\n",
    "Input1 : [10 , 20 , 30 , 40 , 50 , 60 , 70]\n",
    "Input2 :  [100 , 200 , 300 , 400]\n",
    "Output :  [110 , 220 , 330 , 440]\n",
    "'''\n",
    "a=eval(input(\"Enter  1st  list  : \"))\n",
    "b=eval(input(\"Enter  2nd  list  : \"))\n",
    "new=[a[j]+b[j] for j in range(min(len(a),len(b)))]\n",
    "print(new)"
   ]
  },
  {
   "cell_type": "code",
   "execution_count": 4,
   "id": "2bead3e7",
   "metadata": {},
   "outputs": [
    {
     "name": "stdout",
     "output_type": "stream",
     "text": [
      "[[0, 0, 0, 0, 0], [0, 0, 0, 0, 0], [0, 0, 0, 0, 0]]\n"
     ]
    }
   ],
   "source": [
    "'''\n",
    "Write   a  program  to  initialize  a  nested  list  with  zeroes  without  comprehension\n",
    "\n",
    "Let inputs  be  3  and  4\n",
    "What  is  the  output ?  --->  [[0 , 0 , 0 , 0] , [0 , 0 , 0 , 0] , [0 , 0 , 0 , 0]]\n",
    "\n",
    "Hint:  Use  repetition  operator  *\n",
    "How  many  lists  ?  :  3\n",
    "How  many  elements  in  each  list ?  :  5\n",
    "[[0, 0, 0, 0, 0], [0, 0, 0, 0, 0], [0, 0, 0, 0, 0]]'''\n",
    "\n",
    "a=int(input(\"How  many  lists  ?  : \"))\n",
    "b=int(input(\"How  many  elements  in  each  list ?  :  \"))\n",
    "new=[]\n",
    "for i in range(a):\n",
    "    new.append([0]*b)\n",
    "print(new)"
   ]
  },
  {
   "cell_type": "code",
   "execution_count": 5,
   "id": "d63cf77d",
   "metadata": {},
   "outputs": [
    {
     "name": "stdout",
     "output_type": "stream",
     "text": [
      "[[0, 0, 0, 0], [0, 0, 0, 0], [0, 0, 0, 0]]\n"
     ]
    }
   ],
   "source": [
    "'''\n",
    "(Home  work)\n",
    "Repeat   previous  program  with  comprehension\n",
    "\n",
    "Inputs :  3  and  4\n",
    "\n",
    "Output :  [[0 , 0 , 0 , 0] , [0 , 0 , 0 , 0] , [0 , 0 , 0 , 0]]\n",
    "'''\n",
    "a=int(input(\"How  many  lists  ?  : \"))\n",
    "b=int(input(\"How  many  elements  in  each  list ?  :  \"))\n",
    "new=[[0]*b for i in range(a)]\n",
    "print(new)"
   ]
  },
  {
   "cell_type": "code",
   "execution_count": 6,
   "id": "5097ac75",
   "metadata": {},
   "outputs": [
    {
     "name": "stdout",
     "output_type": "stream",
     "text": [
      "[20, 18, 32]\n"
     ]
    }
   ],
   "source": [
    "\n",
    "'''\n",
    "Write  a  program  to  extract  those  elements  of  1st  list  which  are  not  in  2nd  list   without  comprehension\n",
    "\n",
    "Let  1st  list  be  [10 , 20 , 15 , 18 , 25 , 32]  and  2nd  list  be  [30 , 40 , 10 , 25 , 15]\n",
    "What  is  the  output ?  --->  [20 , 18 ,  32]\n",
    "Enter 1st  list  :  [10,20,15,18,25,32]\n",
    "Enter 2nd  list  :  [30,40,10,25,15]\n",
    "Elements  of  1st  list  which  are  not  in  2nd  list  :   [20, 18, 32]'''\n",
    "a=eval(input(\"Enter  1st  list  : \"))\n",
    "b=eval(input(\"Enter  2nd  list  : \"))\n",
    "new=[]\n",
    "for j in range(len(b)+1):\n",
    "    if a[j] not in b:\n",
    "        new.append(a[j])\n",
    "print(new)"
   ]
  },
  {
   "cell_type": "code",
   "execution_count": 7,
   "id": "1ab587eb",
   "metadata": {},
   "outputs": [
    {
     "name": "stdout",
     "output_type": "stream",
     "text": [
      "[10, 15, 25]\n"
     ]
    }
   ],
   "source": [
    "'''\n",
    "(Home  work)\n",
    "Repeat   previous  program  with  comprehension\n",
    "\n",
    "Input1 :   [10 , 20 , 15 , 18 , 25 , 32]\n",
    "Input2 :  [30 , 40 , 10 , 25 , 15]\n",
    "Output :  [20 , 18 , 32]\n",
    "'''\n",
    "a=eval(input(\"Enter  1st  list  : \"))\n",
    "b=eval(input(\"Enter  2nd  list  : \"))\n",
    "new=[a[j] for j in range(len(a)) if a[j] in b]\n",
    "print(new)"
   ]
  },
  {
   "cell_type": "code",
   "execution_count": 8,
   "id": "4411d416",
   "metadata": {},
   "outputs": [
    {
     "name": "stdout",
     "output_type": "stream",
     "text": [
      "Even numbers  between  1  and  20 :  [2, 4, 6, 8, 10, 12, 14, 16, 18, 20]\n"
     ]
    }
   ],
   "source": [
    "#  Write   a  program  to  print  even  numbers  between  1  and  20  with  comprehension\n",
    "#Even numbers  between  1  and  20 :   [2, 4, 6, 8, 10, 12, 14, 16, 18, 20]\n",
    "a=int(input(\"Enter  1st  num  : \"))\n",
    "b=int(input(\"Enter  2nd  num  : \"))\n",
    "new=[j for j in range(a,b+1) if j%2==0]\n",
    "print(F\"Even numbers  between  {a}  and  {b} :  {new}\")"
   ]
  },
  {
   "cell_type": "code",
   "execution_count": 9,
   "id": "9539b4fa",
   "metadata": {},
   "outputs": [
    {
     "name": "stdout",
     "output_type": "stream",
     "text": [
      "Even numbers  between  1  and  20 :  [2, 4, 6, 8, 10, 12, 14, 16, 18, 20]\n"
     ]
    }
   ],
   "source": [
    "'''\n",
    "Repeat  previous  program  with  comprehension  and  without  using  if\n",
    "\n",
    "Output: [Even  numbers  between  1  and  20]\n",
    "'''\n",
    "a=int(input(\"Enter  1st  num  : \"))\n",
    "b=int(input(\"Enter  2nd  num  : \"))\n",
    "new=[]\n",
    "for i in range(a,b+1):\n",
    "    if i%2==0:\n",
    "        new.append(i)\n",
    "print(F\"Even numbers  between  {a}  and  {b} :  {new}\")"
   ]
  },
  {
   "cell_type": "code",
   "execution_count": 10,
   "id": "9e7868ee",
   "metadata": {},
   "outputs": [
    {
     "name": "stdout",
     "output_type": "stream",
     "text": [
      "Even numbers  between  1  and  20 :  [4, 16, 36, 64, 100, 144, 196, 256, 324, 400]\n",
      "Even numbers between 1 and 20 : [4, 16, 36, 64, 100, 144, 196, 256, 324, 400]\n"
     ]
    }
   ],
   "source": [
    "'''\n",
    "Write  a  program  to  print  those  squares  of  1 , 2 , 3 , 4 , ... 20  which  are  divisible   by  2  with  comprehension\n",
    "\n",
    "What  is  the  output ?  ---> [4 , 16 , 36 , ... ,  400]\n",
    "Squares  of  1  to  20  which  are  divisible  by   2 :   [4, 16, 36, 64, 100, 144, 196, 256, 324, 400]'''\n",
    "a=int(input(\"Enter  1st  num  : \"))\n",
    "b=int(input(\"Enter  2nd  num  : \"))\n",
    "new=[j**2 for j in range(a,b+1) if j%2==0]\n",
    "print(F\"Even numbers  between  {a}  and  {b} :  {new}\")\n",
    "\n",
    "a = int(input(\"Enter 1st num: \"))\n",
    "b = int(input(\"Enter 2nd num: \"))\n",
    "\n",
    "# Adjust 'a' to be an even number if it's odd\n",
    "start_even = a if a % 2 == 0 else a + 1 \n",
    "\n",
    "new = [j**2 for j in range(start_even, b + 1, 2)]\n",
    "\n",
    "print(f\"Even numbers between {a} and {b} : {new}\")"
   ]
  },
  {
   "cell_type": "code",
   "execution_count": 12,
   "id": "8d86f877",
   "metadata": {},
   "outputs": [
    {
     "name": "stdout",
     "output_type": "stream",
     "text": [
      "[40, 50, 45, 50, 60, 55, 45, 55, 50, 42, 52, 47]\n"
     ]
    }
   ],
   "source": [
    "'''\n",
    "Write  a  program  to  add  each  element  of  1st  list  with  all  the  elements  of  2nd  list  without  comprehension\n",
    "\n",
    "Let  1st  list  be  [10 , 20 , 15]  and  2nd  list  be  [30 , 40 , 35 , 32]\n",
    "What  is  the  result ?  --->\n",
    "                    [10 + 30 , 10 + 40 , 10 + 35 , 10 + 32 , 20 + 30 , 20 + 40 , 20 + 35 , 20 + 32 , 15 + 30 , 15 + 40 , 15 + 35 , 15 + 32]\n",
    "\n",
    "Hint : Nested  for  loops\n",
    "'''\n",
    "a=eval(input(\"Enter  1st  list  : \"))\n",
    "b=eval(input(\"Enter  2nd  list  : \"))\n",
    "new=[]\n",
    "for i in range(len(b)):\n",
    "    for j in range(len(a)):\n",
    "        new.append(b[i]+a[j])\n",
    "print(new)"
   ]
  },
  {
   "cell_type": "code",
   "execution_count": 13,
   "id": "a14eef12",
   "metadata": {},
   "outputs": [
    {
     "name": "stdout",
     "output_type": "stream",
     "text": [
      "[40, 50, 45, 50, 60, 55, 45, 55, 50, 42, 52, 47]\n"
     ]
    }
   ],
   "source": [
    "'''\n",
    "(Home  work)\n",
    "Repeat   previous  program  with  comprehension\n",
    "\n",
    "Input1 :  [10 , 20 , 15]\n",
    "Input2 :  [30 , 40 , 35 , 32]\n",
    "Output :  [10 + 30 , 10 + 40 , 10 + 35 , 10 + 32 , 20 + 30 , 20 + 40 , 20 + 35 , 20 + 32 , 15 + 30 , 15 + 40 , 15 + 35 , 15 + 32]\n",
    "'''\n",
    "a=eval(input(\"Enter  1st  list  : \"))\n",
    "b=eval(input(\"Enter  2nd  list  : \"))\n",
    "new=[b[i]+a[j] for i in range(len(b)) for j in range(len(a))]\n",
    "print(new)"
   ]
  },
  {
   "cell_type": "code",
   "execution_count": 14,
   "id": "17bc3dc4",
   "metadata": {},
   "outputs": [
    {
     "name": "stdout",
     "output_type": "stream",
     "text": [
      "['HP', 'YP', 'DP', ' P', 'HU', 'YU', 'DU', ' U', 'HN', 'YN', 'DN', ' N', 'HE', 'YE', 'DE', ' E']\n"
     ]
    }
   ],
   "source": [
    "'''\n",
    "Write  a  program  to  concatenate  each  character  of  1st  string  with  every  character  of   2nd  string  with  comprehension\n",
    "\n",
    "Let  1st string  be  HYD  and   2nd string  be   PUNE\n",
    "What  is  the  result  ?  --->  ['HP' , 'HU' , 'HN' , 'HE' , 'YP' , 'YU' , 'YN' , 'YE' , 'DP' , 'DU' , 'DN' , 'DE']\n",
    "\n",
    "Hint: Same  as  previous  program\n",
    "'''\n",
    "a=input(\"Enter  1st  string  : \")\n",
    "b=input(\"Enter  2nd  string  : \")\n",
    "new=[a[j]+b[i] for i in range(len(b)) for j in range(len(a))]\n",
    "print(new)"
   ]
  },
  {
   "cell_type": "code",
   "execution_count": 15,
   "id": "0b4858ec",
   "metadata": {},
   "outputs": [
    {
     "name": "stdout",
     "output_type": "stream",
     "text": [
      "[10, 20, 30, 40, 50, 60, 70, 80, 90]\n"
     ]
    }
   ],
   "source": [
    "'''\n",
    "Write  a  program  to  convert  a  nested  list  to  list  without  comprehension\n",
    "\n",
    "Let  input  be  [ [10 , 20] , [30 , 40 , 50] , [60 , 70 , 80 , 90]]\n",
    "What  is  the  output ?  --->  [10 , 20 , 30 , 40 , 50 , 60 , 70 , 80 , 90]\n",
    "'''\n",
    "a=eval(input(\"Enter  1st  list  : \"))\n",
    "new=[]\n",
    "for i in a:\n",
    "    for j in i:\n",
    "        new.append(j)\n",
    "print(new)"
   ]
  },
  {
   "cell_type": "code",
   "execution_count": 16,
   "id": "c264d64d",
   "metadata": {},
   "outputs": [
    {
     "name": "stdout",
     "output_type": "stream",
     "text": [
      "[10, 20, 30, 40, 50, 60, 70, 80, 90]\n"
     ]
    }
   ],
   "source": [
    "'''\n",
    "Write  a  program  to  convert  a  nested  list  to  list  with  comprehension\n",
    "\n",
    "Let  input  be  [ [10 , 20] , [30 , 40 , 50] , [60 , 70 , 80 , 90]]'''\n",
    "a=eval(input(\"Enter  1st  list  : \"))\n",
    "a=[j for i in a for j in i]\n",
    "print(a)"
   ]
  },
  {
   "cell_type": "code",
   "execution_count": null,
   "id": "f79b5e61",
   "metadata": {},
   "outputs": [],
   "source": [
    "# Find  outputs (Home  work)\n",
    "a = [[10 , 20] , [30 , 40 , 50] , [60 , 70 , 80 , 90]]\n",
    "b = [ x  for  x  in  a  for  y  in  x]\n",
    "print(b)#[[10, 20], [10, 20], [30, 40, 50], [30, 40, 50], [30, 40, 50], [60, 70, 80, 90], [60, 70, 80, 90], [60, 70, 80, 90], [60, 70, 80, 90]]\n",
    "#  Nested  comprehension  demo  program (Home  work)\n",
    "a = [ [ j  for   j  in   range(i)]   for   i   in   range(5)]\n",
    "print(a)#[[], [0], [0, 1], [0, 1, 2], [0, 1, 2, 3]]"
   ]
  },
  {
   "cell_type": "code",
   "execution_count": 18,
   "id": "0e3e1bdf",
   "metadata": {},
   "outputs": [
    {
     "name": "stdout",
     "output_type": "stream",
     "text": [
      "[['Swathi', 'Srinivas'], ['Anand', 'Amar'], ['Zebra'], ['King']]\n"
     ]
    }
   ],
   "source": [
    "'''\n",
    "Most  tricky  program\n",
    "Input :   List  of  strings\n",
    "              Eg: ['Swathi' , 'Anand' , 'Srinivas' , 'Zebra' , 'King' , 'Amar' ]\n",
    "Output :  Nested  list\n",
    "                i.e.  [['Swathi' , 'Srinivas'] , ['Anand' , 'Amar'] , ['Zebra'] , ['King']]\n",
    "\n",
    "Hint: Do  not  sort  the  lists\n",
    "\n",
    "1) b = ['S' , 'A' ,  , 'Z' , 'K' ]\n",
    "\n",
    "2) c = []\n",
    "\n",
    "3) Iteartion  1 :  d  = ['Swathi' , 'Srinivas']\n",
    "                           c =  [['Swathi' , 'Srinivas']]\n",
    "\n",
    "4) Iteartion  2 :  d  =  ['Anand' , 'Amar']\n",
    "                           c =   [['Swathi' , 'Srinivas'] , ['Anand' , 'Amar']]\n",
    "\n",
    "5) Iteartion  3 :  d  =  ['Zebra']\n",
    "                           c =   [['Swathi' , 'Srinivas'] , ['Anand' , 'Amar'] , ['Zebra']]\n",
    "\n",
    "6) Iteartion  4 :  d  =  ['King']\n",
    "                           c =   [['Swathi' , 'Srinivas'] , ['Anand' , 'Amar'] , ['Zebra'] , ['King']]\n",
    "Enter  list  of  strings :  ['Swathi' , 'Anand' , 'Srinivas' , 'Zebra' , 'King' , 'Amar' ]\n",
    "[['Swathi', 'Srinivas'], ['Anand', 'Amar'], ['Zebra'], ['King']]'''\n",
    "names=eval(input(\"Enter  1st  list  : \"))\n",
    "groups = {}\n",
    "\n",
    "for name in names:\n",
    "    first_char = name[0]   # take first letter\n",
    "    if first_char not in groups:\n",
    "        groups[first_char] = []   # create new group\n",
    "    groups[first_char].append(name)\n",
    "result = []\n",
    "seen = set()\n",
    "for name in names:\n",
    "    first_char = name[0]\n",
    "    if first_char not in seen:\n",
    "        result.append(groups[first_char])\n",
    "        seen.add(first_char)\n",
    "\n",
    "print(result)"
   ]
  },
  {
   "cell_type": "code",
   "execution_count": 19,
   "id": "d4d27701",
   "metadata": {},
   "outputs": [
    {
     "name": "stdout",
     "output_type": "stream",
     "text": [
      "[5, 10, 12, 20, 20, 30, 37, 40, 50]\n"
     ]
    }
   ],
   "source": [
    "'''\n",
    "Write  a  program  to  merge  two  sorted  lists  to  produce  another  sorted  list\n",
    "\n",
    "                                0      1      2       3         4\n",
    "Eg:  List  'a'   --->  [10  ,  20  , 30   ,  40   ,  50]\n",
    "       List  'b'   --->  [5  ,  12  , 20   ,  37]\n",
    "                                   0     1       2       3\n",
    "          List  'c' --->  [5 , 10 , 12 , 20 , 20 , 30 , 37 , 40 , 50]\n",
    "\n",
    "Hint1 :  Unsorted  lists  can  not  be  merged\n",
    "\n",
    "Hint2 :  Use  single  while  loop\n",
    "'''\n",
    "a=eval(input(\"Enter  1st  list  : \"))\n",
    "b=eval(input(\"Enter  2nd  list  : \"))\n",
    "new=a+b\n",
    "print(sorted(new))"
   ]
  },
  {
   "cell_type": "code",
   "execution_count": 20,
   "id": "e0e7324f",
   "metadata": {},
   "outputs": [
    {
     "name": "stdout",
     "output_type": "stream",
     "text": [
      "30\n"
     ]
    }
   ],
   "source": [
    "'''\n",
    "Write  a  program  to  determine  n-th  largest  element   of   a   list\n",
    "\n",
    "Input1 :  [10,20,30,25,40,35,12,5]\n",
    "Input2 :  3  (3rd  largest)\n",
    "Output :  30\n",
    "'''\n",
    "a=eval(input(\"Enter  1st  list  : \"))\n",
    "n=int(input(\"Enter the number\"))\n",
    "b=sorted(a)\n",
    "print(b[-n])"
   ]
  },
  {
   "cell_type": "code",
   "execution_count": 21,
   "id": "672a2b87",
   "metadata": {},
   "outputs": [
    {
     "name": "stdout",
     "output_type": "stream",
     "text": [
      "[5, 10, 12, 20, 25, 30, 35, 40]\n"
     ]
    }
   ],
   "source": [
    "'''\n",
    "Write  a  program  to  sort a  list  without  using  sorted()  function  and  sort()  method\n",
    "\n",
    "Input :  [10,20,30,25,40,35,12,5]\n",
    "Output :  [5,10,12,20,25,30,35,40]\n",
    "'''\n",
    "\n",
    "arr=eval(input(\"Enter  1st  list  : \"))\n",
    "n = len(arr)\n",
    "for i in range(n):\n",
    "        for j in range(0, n - i - 1):\n",
    "            if arr[j] > arr[j + 1]:\n",
    "                arr[j], arr[j + 1] = arr[j + 1], arr[j]\n",
    "print(arr)"
   ]
  }
 ],
 "metadata": {
  "kernelspec": {
   "display_name": "Python 3",
   "language": "python",
   "name": "python3"
  },
  "language_info": {
   "codemirror_mode": {
    "name": "ipython",
    "version": 3
   },
   "file_extension": ".py",
   "mimetype": "text/x-python",
   "name": "python",
   "nbconvert_exporter": "python",
   "pygments_lexer": "ipython3",
   "version": "3.13.2"
  }
 },
 "nbformat": 4,
 "nbformat_minor": 5
}

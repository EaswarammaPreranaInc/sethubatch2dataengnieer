{
 "cells": [
  {
   "cell_type": "code",
   "execution_count": null,
   "id": "473d9e38",
   "metadata": {},
   "outputs": [],
   "source": [
    "#  Variable  number  of  arguments  demo  program\n",
    "def   f1(*t):\n",
    "\tprint(t)\n",
    "\tprint(type(t))\n",
    "\tprint(len(t))\n",
    "\tprint()\n",
    "# End  of  the  function\n",
    "f1(10 , 20 , 15 , 18)  #  Tuple  of  4  elements  (or)  args  are  passed  to  the  function\n",
    "f1()\n",
    "f1([10 , 20] , (30 , 40 , 50) , {60 , 70 , 80 , 90})\n",
    "f1('Hyd')\n",
    "tpl = (100 , 200 , 150)\n",
    "f1(tpl)\n",
    "f1(t = (10 , 20 , 30))#error due to t is undefined keyword arg\n",
    "\n",
    "'''\n",
    "(10,20,15,18)\n",
    "<class 'tuple'>\n",
    "4\n",
    "\n",
    "()\n",
    "<class 'tuple'>\n",
    "0\n",
    "\n",
    "([10, 20], (30, 40, 50), {80, 90, 60, 70})\n",
    "<class 'tuple'>\n",
    "3\n",
    "\n",
    "('Hyd',)\n",
    "<class 'tuple'>\n",
    "1\n",
    "\n",
    "((100, 200, 150),)\n",
    "<class 'tuple'>\n",
    "1\n",
    "\n",
    "\n",
    "'''"
   ]
  },
  {
   "cell_type": "code",
   "execution_count": null,
   "id": "eb9007da",
   "metadata": {},
   "outputs": [],
   "source": [
    "#  Write  a  function  to  determine  average  of  arguments  passed  to  the  function  (Home  work)\n",
    "def  avg(*a):\n",
    "\treturn sum(a)/len(a) if a else 0 #Write  code  to  return  average  of  arguments  passed  from  the  function  call  (single  line)\n",
    "# End  of  the  function\n",
    "print(avg(10 , 20 , 15 , 18))\n",
    "print(avg(25 , 10.8 , True))\n",
    "print(avg(10.8 , 20.6 , 15.2 , 14.9 , 9.8))\n",
    "print(avg())\n",
    "print(avg(25))\n",
    "print(avg(3 + 4j , 5 + 6j))\n",
    "tpl = (10 , 20 , 15 , 18)\n",
    "print(avg(tpl))"
   ]
  },
  {
   "cell_type": "code",
   "execution_count": 18,
   "id": "3913fa5b",
   "metadata": {},
   "outputs": [
    {
     "name": "stdout",
     "output_type": "stream",
     "text": [
      "Sankar Dayal Sarma\n",
      "Hyd Is Green City\n",
      "Python Is A Great Language\n",
      "\n",
      "Python\n",
      "1 2 3\n"
     ]
    }
   ],
   "source": [
    "#  Write  a  function  to  concatenate  strings  passed  to  the  function  (Home  work)\n",
    "def  concat(*a):\n",
    "\treturn \" \".join(str(x) for x in a ) #Write  code  to  return  join  of  all  the  strings  passed  from  the  function  call  (1  line)\n",
    "# End   of  the   function\n",
    "print(concat('Sankar', 'Dayal', 'Sarma'))\n",
    "print(concat('Hyd', 'Is', 'Green', 'City'))\n",
    "print(concat('Python', 'Is', 'A', 'Great', 'Language'))\n",
    "print(concat())\n",
    "print(concat('Python'))\n",
    "print(concat(1, 2, 3))"
   ]
  },
  {
   "cell_type": "code",
   "execution_count": null,
   "id": "32799a4a",
   "metadata": {},
   "outputs": [],
   "source": [
    "#Find  outputs (Home  work)\n",
    "def   f1(a = 25  , *b):\n",
    "        print(F'a : {a}  \\t   b  :  {b} ')\n",
    "# End  of  the  function\n",
    "f1(10 , 20 , 30 , 40)#a:10 b:(20,30,40)\n",
    "f1(50 , 60)#a:50 b:(60,)\n",
    "f1(70)#a:70 b:()\n",
    "f1(a = 80)#a:80 b:()\n",
    "f1(b = (10 , 20 , 30) , a = 40)# Error due to arg b\n",
    "f1()#a:25 b:()\n",
    "f1(a = 10 , (20 , 30 , 40))#error due to PA follows KA\n",
    "f1(25 , b = (10 , 20 , 30))#Error due to arg b\n",
    "f1(25 , a = (10 , 20 , 30))#Error\n",
    "f1((10 , 20 , 30) , 10 , 20 , 30)#a:(10,20,30) b:(10,20,30)\n",
    "f1(a = (10 , 20 , 30) , 10 , 20 , 30)#Error due to PA follows KA"
   ]
  },
  {
   "cell_type": "code",
   "execution_count": null,
   "id": "8b2e5e03",
   "metadata": {},
   "outputs": [],
   "source": [
    "#Find  outputs (Home  work)\n",
    "def    f1(*a , b):\n",
    "\tprint(F'a  :  {a}   \\t   b  :  {b}')\n",
    "# End  of  the  function\n",
    "f1(10 , 20 , 30 , b = 40)#a:(10,20,30) b:40\n",
    "f1(50 , b = 60)#a:(50,) b:60\n",
    "f1(b = 70)#a:() b:70\n",
    "f1(b = 10 , a = (20 , 30 , 40))#Error \n",
    "f1(b = 10 , (20 , 30 , 40))#Error due to PA follows KA\n",
    "f1()#Error\n",
    "f1(10 , 20 , 30 , (10 , 20 , 30))#Error \n",
    "f1(10 , 20 , 30 , 40)#Error \n",
    "f1(25)#Error\n",
    "f1(10 , 20 , 30 , b = (10 , 20 , 30))#a:(10,20,30) b:(10,20,30)"
   ]
  },
  {
   "cell_type": "code",
   "execution_count": null,
   "id": "538983b7",
   "metadata": {},
   "outputs": [],
   "source": [
    "#Find  outputs (Home  work)\n",
    "def   f1(a , *b , c):\n",
    "        print(F'a  :  {a}  \\t  b  :  {b}  \\t  c  :  {c}')\n",
    "# End  of  the  function\n",
    "f1(10 , 20 , 30 , 40 , c = 50)#a:10 b:(20,30,40) c:50\n",
    "f1(60 , 70 , c = 80)#a:60 b:(70,) c:80\n",
    "f1(90 , c = 100)#a:90 b=() c:100\n",
    "f1(a = 1 , 2 , c = 3)#Error due to PA follows KA \n",
    "f1(1 , 2 , 3)#Error due to arg c\n",
    "f1(a = 1 , b = 2 , c = 3)#Error\n",
    "f1(a = 25 , 100 , 200 , 300 , c = 35)#Error due to PA follows KA "
   ]
  },
  {
   "cell_type": "code",
   "execution_count": null,
   "id": "5d9a0a10",
   "metadata": {},
   "outputs": [],
   "source": [
    "# Which  of  the  following  are  valid  ?  (Home  work)\n",
    "def   f1(*a , *b):\n",
    "        pass\n",
    "def  f2(*a , b):\n",
    "        pass#Valid\n",
    "def  f3(a , *b):\n",
    "        pass#Valid\n",
    "def  f4(a , b):\n",
    "        pass#Valid\n",
    "def    f5(a , *b , c):\n",
    "        pass#Valid\n",
    "def   f6( * , a , *b , c):\n",
    "       pass\n",
    "def   f7(a , *b , c ,  /):\n",
    "       pass"
   ]
  },
  {
   "cell_type": "code",
   "execution_count": null,
   "id": "d119f960",
   "metadata": {},
   "outputs": [],
   "source": [
    "# Find  outputs  (Home  work)\n",
    "def   f1(*a):\n",
    "\tprint(a)# ([10, 20], {40, 30}, (50, 60))\n",
    "\tprint(type(a))#class tuple\n",
    "\tfor  x  in  a:\n",
    "\t\tprint(x)# [10,20] {40,30} (50,60)\n",
    "\t\tprint(type(x))#Class List Class set Class tuple \n",
    "# End  of  the  function\n",
    "f1([10 , 20] , {30 , 40} , (50 , 60))"
   ]
  },
  {
   "cell_type": "code",
   "execution_count": null,
   "id": "343e43a4",
   "metadata": {},
   "outputs": [],
   "source": [
    "# Variable  number  of  keyword  arguments  demo  program\n",
    "def   disp(**a):\n",
    "\tprint('Results')\n",
    "\tprint(type(a))\n",
    "\tprint(a)\n",
    "\tprint()\n",
    "#End  of  the  function\n",
    "disp(RollNo = 10 , StudName = 'Rama  Rao')   #  Dictionary  is  passed  to  the  function\n",
    "disp(EmpNo = 25 , EmpName = 'Sita' , Salary = 10000.0)\n",
    "disp(AcNo = 30 , CustName = 'Kiran' , Balance = 20000.0 , Gender = 'm')\n",
    "disp()\n",
    "\n",
    "'''\n",
    "<class  'dict'>\n",
    "{'RollNo' : 10 , 'StudName' : 'Rama Rao'}\n",
    "\n",
    "Class dict\n",
    "{'EmpNo' : 25 , 'EmpName' : 'Sita' , 'Salary' : 10000.0}\n",
    "\n",
    "Class dict\n",
    "{'AcNo' : 30 , 'CustName' : 'Kiran' , 'Balance' : 20000.0 , 'Gender' : 'm'}\n",
    "\n",
    "'''"
   ]
  },
  {
   "cell_type": "code",
   "execution_count": null,
   "id": "e76b495d",
   "metadata": {},
   "outputs": [],
   "source": [
    "# Find  outputs  (Home  work)\n",
    "def  f1(**a):\n",
    "\tprint('Results')#Results\n",
    "\tfor  k , v   in   a . items():\n",
    "\t\tprint(k , v , sep = ' ... ')# Empno...25 Empname...Rama Rao Salary...10000.0 Gender...m\n",
    "# End  of  the  function\n",
    "f1(Empno = 25 , Empname = 'Rama  Rao' , Salary = 10000.0 , Gender = 'm')\n",
    "f1()#Results"
   ]
  },
  {
   "cell_type": "code",
   "execution_count": null,
   "id": "6abddc16",
   "metadata": {},
   "outputs": [],
   "source": [
    "# Find  outputs (Home  work)\n",
    "def   f1(*a):\n",
    "\tprint(type(a))#class tuple \n",
    "\tprint(a)#(25,10.8,'Hyd',True)\n",
    "def   f2(**a):\n",
    "\tprint(type(a))#class dict\n",
    "\tprint(a)#{'EmpNum': 25, 'EmpName': 'Sita', 'Salary': 10000.0}\n",
    "# End  of  the  function\n",
    "f1(25 , 10.8 , 'Hyd' , True)\n",
    "print()#nothing \n",
    "f2(EmpNum = 25 , EmpName =  'Sita' , Salary = 10000.0)"
   ]
  },
  {
   "cell_type": "code",
   "execution_count": null,
   "id": "ad4488e0",
   "metadata": {},
   "outputs": [],
   "source": [
    "#  Find  outputs (Home work)\n",
    "def   f1(empno , ename , sal):\n",
    "\tprint(F'Emp  Number  :  {empno}  \\t  Emp  Name  :  {ename}  \\t  Salary  :\t{sal}')#Emp  Number  :  25  \t  Emp  Name  :  Sita  \t  Salary  :\t10000.0\n",
    "def   f2(**a):\n",
    "\tprint(a)#{'empno': 25, 'ename': 'Sita', 'sal': 10000.0}  {'eno': 25, 'empname': 'Sita', 'salary': 10000.0}\n",
    "# End  of  the  function\n",
    "f1(empno = 25 , ename = 'Sita' , sal = 10000.0)\n",
    "f1(eno = 25 , empname = 'Sita' , salary = 10000.0)#Error due to incorrect keywords \n",
    "f2(empno = 25 , ename = 'Sita' , sal = 10000.0)\n",
    "f2(eno = 25 , empname = 'Sita' , salary = 10000.0)"
   ]
  },
  {
   "cell_type": "code",
   "execution_count": null,
   "id": "3784fb80",
   "metadata": {},
   "outputs": [],
   "source": [
    "# Find  outputs   (Home  work)\n",
    "def    f1(a ,  *b , **c):\n",
    "\tprint(a)\n",
    "\tif   b:\n",
    "\t\tprint(b)\n",
    "\tif  c:\n",
    "\t\tprint(c)\n",
    "# End  of  the  function\n",
    "f1(25)#25 \n",
    "print()#Nothing\n",
    "f1('Hyd' , 10 , 20 , 30)# Hyd (10,20,30)\n",
    "print()#Nothing \n",
    "f1(10.8 , 25 , 'Hyd' , True , EmpNo = 12 , EmpName = 'Rama  Rao' , Salary = 10000.0)#10.8 (25, 'Hyd', True) {'EmpNo': 12, 'EmpName': 'Rama  Rao', 'Salary': 10000.0}"
   ]
  }
 ],
 "metadata": {
  "kernelspec": {
   "display_name": "Python 3",
   "language": "python",
   "name": "python3"
  },
  "language_info": {
   "codemirror_mode": {
    "name": "ipython",
    "version": 3
   },
   "file_extension": ".py",
   "mimetype": "text/x-python",
   "name": "python",
   "nbconvert_exporter": "python",
   "pygments_lexer": "ipython3",
   "version": "3.13.2"
  }
 },
 "nbformat": 4,
 "nbformat_minor": 5
}

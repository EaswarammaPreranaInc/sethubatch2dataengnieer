{
 "cells": [
  {
   "cell_type": "markdown",
   "id": "b34440cc",
   "metadata": {},
   "source": [
    "18/08/25"
   ]
  },
  {
   "cell_type": "code",
   "execution_count": null,
   "id": "1b06b823",
   "metadata": {},
   "outputs": [],
   "source": [
    "#  len()  function demo   program  (Home  work)\n",
    "a = [ 25, 10.8, 'Hyd', True]\n",
    "print(len(a))\n",
    "b = []\n",
    "print(len(b))\n",
    "c = [[10 , 20] , 30 , 40]\n",
    "print(len(c))\n",
    "\n",
    "\n",
    "'''\n",
    "What  does  len(list)  do ?  --->  Returns  number  of  elements  in  the  list\n",
    "'''"
   ]
  },
  {
   "cell_type": "code",
   "execution_count": null,
   "id": "0353cccc",
   "metadata": {},
   "outputs": [],
   "source": [
    "# sum()  function  demo  program  (Home  work)\n",
    "a = [25 , 10.8 , True]\n",
    "print(sum(a))\n",
    "b= [3 + 4j , 5 + 6j]\n",
    "print(sum(b))\n",
    "c = [25 , 10.8 , True , 3 + 4j , False]\n",
    "print(sum(c))\n",
    "d = [10 , 20 , 15 , 18]\n",
    "print(sum(d))\n",
    "e = [25 , 10.8 , 'Hyd' , True]\n",
    "print(sum(e))\n",
    "\n",
    "\n",
    "'''\n",
    "What  does  sum(list)  do ?  ---> Returns  sum  of  list  elements\n",
    "'''"
   ]
  },
  {
   "cell_type": "code",
   "execution_count": null,
   "id": "13dd82e8",
   "metadata": {},
   "outputs": [],
   "source": [
    "#  Find  outputs\n",
    "a = [[10 , 20 , 15 , 18]]\n",
    "print(sum(a))\n",
    "print(How  to  determine  sum  of  inner  list  elements)\n",
    "print(How  to  determine  sum  of  inner  list  elements  in  another  way)"
   ]
  },
  {
   "cell_type": "code",
   "execution_count": null,
   "id": "3a7f06cd",
   "metadata": {},
   "outputs": [],
   "source": [
    "# max()  and  min()  functions  demo  program  (Home  work)\n",
    "a = [10 , 20 , 15 , 18 , 30, 5 , 12]\n",
    "print(max(a))\n",
    "print(min(a))\n",
    "b = ['Rama' , 'Sita' , 'Rajesh' , 'Kiran' , 'Amar' , 'Vamsi' , 'Manohar']\n",
    "print(max(b))\n",
    "print(min(b))\n",
    "c = [25 , 10.8 ,  3 + 4j , True]\n",
    "print(max(c))\n",
    "d = [25 , '35']\n",
    "print(max(d))\n",
    "print(max([]))\n",
    "print(min([]))\n",
    "\n",
    "\n",
    "'''\n",
    "1) What  does  max(list)  do ?  --->  Returns  largest  element  of  the  list\n",
    "\n",
    "2) What  does  min(list)  do ?  --->  Returns  smallest  element  of  the  list\n",
    "'''"
   ]
  },
  {
   "cell_type": "code",
   "execution_count": null,
   "id": "f506cb76",
   "metadata": {},
   "outputs": [],
   "source": [
    "# list()  function  demo  program\n",
    "a = (10 , 20 , 15, 18)\n",
    "b = list(a)\n",
    "print(b)\n",
    "print(type(b))\n",
    "print(a  is  b)\n",
    "print(a == b)"
   ]
  },
  {
   "cell_type": "code",
   "execution_count": null,
   "id": "5ebe6046",
   "metadata": {},
   "outputs": [],
   "source": [
    "#  Find  outputs (Home  work)\n",
    "a = range(4 , 10 , 2)\n",
    "b = list(a)\n",
    "print(b)\n",
    "print(type(b))\n",
    "a = list('Vamsi')\n",
    "print(a)\n",
    "a = list()\n",
    "print(a)\n",
    "print(list(25))\n",
    "print(list(10.8))\n",
    "print(list(True))\n",
    "print(list(None))\n",
    "\n",
    "\n",
    "'''\n",
    "1) What  does  list(sequence)  do ?  --->  Converts  sequence  to  list  and  returns  list\n",
    "\n",
    "2) What  does  list(no-args)  do ?  ---> Returns  an  empty  list\n",
    "\n",
    "3) What  does  list(non-sequence)  do ?  --->  Throws  error\n",
    "'''"
   ]
  },
  {
   "cell_type": "code",
   "execution_count": null,
   "id": "d5feb56d",
   "metadata": {},
   "outputs": [],
   "source": [
    "# Find  outputs (Home  work)\n",
    "a = ((10 , 20) , (30 , 40 , 50) , (60 , 70 , 80 , 90))\n",
    "print(list(a))\n",
    "b = { (10 , 20) , (30 , 40 , 50) , (60 , 70 , 80 , 90)}\n",
    "print(list(b))\n",
    "c = ([10 , 20] , (30 , 40) , {50 , 60})\n",
    "print(list(c))"
   ]
  },
  {
   "cell_type": "code",
   "execution_count": null,
   "id": "63e7a79e",
   "metadata": {},
   "outputs": [],
   "source": [
    "# sorted()  function   demo  program\n",
    "a = [10 , 20 , 15 , 5 , 12]\n",
    "b = sorted(a)\n",
    "print(b)\n",
    "print(type(b))\n",
    "c = sorted(a , reverse = True)\n",
    "print(c)\n",
    "print(a)\n",
    "\n",
    "\n",
    "'''\n",
    "sorted()  function\n",
    "----------------------\n",
    "1) What  does  sorted(list)  do  ?  ---> Returns  another  sorted  list\n",
    "\n",
    "2) Is  argument  list  modified ?  --->  No  and  it  remains  unchanged\n",
    "\n",
    "3) How  to  sort  list  in  descending  order ?  --->  sorted(list , reverse = True)\n",
    "\n",
    "4) What  are  the  two  arguments  of  sorted()  function ?  --->  List  to  be  sorted\n",
    "\t\t\t\t\t\t\t\t\t\t\t\t\t\t\t\t\t\t\t\t\t\t\t\t\t\t\t\tand\n",
    "\t\t\t\t\t\t\t\t\t\t\t\t\t\t\t\t\t\t\t\t\t                  reverse = True  which  is  an  optional  argument\n",
    "'''"
   ]
  },
  {
   "cell_type": "code",
   "execution_count": null,
   "id": "89cd4a56",
   "metadata": {},
   "outputs": [],
   "source": [
    "# Find  outputs  (Home  work)\n",
    "a = ['Rama',  'Rajesh',  'Amar',  'Sita',  'Vamsi'  ,  'Kiran'  , 'Rama  Rao']\n",
    "b = sorted(a)\n",
    "print(b)\n",
    "c = sorted(a , reverse = True)\n",
    "print(c)\n",
    "print(a)"
   ]
  },
  {
   "cell_type": "code",
   "execution_count": null,
   "id": "12a83d9b",
   "metadata": {},
   "outputs": [],
   "source": [
    "# all()  function demo  program  (Home  work)\n",
    "a = [12 > 10 , 5 < 20 , 30 == 30]\n",
    "print(all(a))\n",
    "b = [9 >= 6 , 12 <= 9 , 6 == 6]\n",
    "print(all(b))\n",
    "c = [25 , 10.8 , '' , True , 3+4j , 'Hyd']\n",
    "print(all(c))\n",
    "d = [10 , 0 , 20]\n",
    "print(all(d))\n",
    "e = []\n",
    "print(all(e))\n",
    "\n",
    "\n",
    "'''\n",
    "all()  function\n",
    "-----------------\n",
    "1) What  does  all(list)  do ?  --->  Returns  True  when  every  element of  the  list  is  True  and  False  otherwise\n",
    "\n",
    "2) When  does  it  return  False ?  --->  When  at  least  one  element  of  the  list  is  False\n",
    "\n",
    "3) if  cond1  and  cond2  and  cond3  and  cond4:\n",
    "    How  to  reduce  the  four  conditions  to  a  single  condition ?  --->  if  all([cond1 , cond2 , cond3 , cond4]):\n",
    "'''"
   ]
  },
  {
   "cell_type": "code",
   "execution_count": null,
   "id": "299ff7a0",
   "metadata": {},
   "outputs": [],
   "source": [
    "# any()  function demo program  (Home  work)\n",
    "a  = [12 > 18 , 5 < 20 , 35 == 30]\n",
    "print(any(a))\n",
    "b = [12 > 18 , 25 < 20 , 35 == 30]\n",
    "print(any(b))\n",
    "c = [0 , 0.0 , '' , 25 , 0 + 0j , False]\n",
    "print(any(c))\n",
    "d = [0 , 0.0 , '' , 0 + 0j , False]\n",
    "print(any(d))\n",
    "e = []\n",
    "print(any(e))\n",
    "\n",
    "\n",
    "'''\n",
    "any()   function\n",
    "-------------------\n",
    "1) What  does  any(list)  do ?  ---> Returns  True  when  at  least  one  element  of  the  list  is  True  and  False  otherwise\n",
    "\n",
    "2) When  does  it  return  False ?  ---> When  every  element  of  the  list  is  false\n",
    "\n",
    "3) if  cond1  or  cond2  or  cond3  or  cond4:\n",
    "     How  to  reduce  the  four  conditions  to  a  single  condition ?  ---> if  any([cond1 , cond2 , cond3 , cond4]):\n",
    "\n",
    "4) all()  and  any()  functions  are  used  as  an  alternative  when  there  are  too  many  conditions  in  if  and  while\n",
    "'''"
   ]
  },
  {
   "cell_type": "code",
   "execution_count": null,
   "id": "696de2a5",
   "metadata": {},
   "outputs": [],
   "source": [
    "# del  operator  demo  program (Home  work)\n",
    "a = [10 , 20 , 15 , 18]\n",
    "print(a)\n",
    "del    a[2]\n",
    "print(a)\n",
    "del  a[3]\n",
    "del  a\n",
    "print(a)"
   ]
  },
  {
   "cell_type": "code",
   "execution_count": null,
   "id": "421cd697",
   "metadata": {},
   "outputs": [],
   "source": [
    "#  append()  method  demo  program (Home  work)\n",
    "list = [10 , 20 , 15 , 18]\n",
    "print(list)\n",
    "list . append(19)\n",
    "print(list)"
   ]
  },
  {
   "cell_type": "code",
   "execution_count": null,
   "id": "737d5f94",
   "metadata": {},
   "outputs": [],
   "source": [
    "#  Find  outputs (Home  work)\n",
    "list = []\n",
    "print(list)\n",
    "list . append(25)\n",
    "list . append(10.8)\n",
    "list . append('Hyd')\n",
    "list . append(True)\n",
    "print(list)"
   ]
  },
  {
   "cell_type": "code",
   "execution_count": null,
   "id": "1c128398",
   "metadata": {},
   "outputs": [],
   "source": [
    "# Find  outputs  (Home  work)\n",
    "list = []\n",
    "for  x  in   range(0 , 50 , 10):\n",
    "\tlist . append(x)\n",
    "print(list)"
   ]
  },
  {
   "cell_type": "code",
   "execution_count": null,
   "id": "cd66bda1",
   "metadata": {},
   "outputs": [],
   "source": [
    "#  Find  outputs  (Home  work)\n",
    "a = [10 , 20 , 30]\n",
    "a . append('Hyd')\n",
    "print(a)\n",
    "print(len(a))\n",
    "print(How  to  print  4th  element  of  list  'a')\n",
    "print(How  to  print  'H')\n",
    "print(How  to  print  'y')\n",
    "print(How  to  print  'd')"
   ]
  },
  {
   "cell_type": "code",
   "execution_count": null,
   "id": "781a7353",
   "metadata": {},
   "outputs": [],
   "source": [
    "# remove()  method  demo  program  (Home  work)\n",
    "try:\n",
    "\tlist = [10 , 20 , 15 , 18 , 15 , 12 , 15 , 19]\n",
    "\tlist . remove(15)\n",
    "\tprint(list)\n",
    "\tlist . remove(25)\n",
    "except:\n",
    "\tprint('25  is   not  in  the  list')\n",
    "\n",
    "\n",
    "\n",
    "'''\n",
    "remove()   method\n",
    "---------------------\n",
    "1) What  does  remove(x)  do ?  --->  Removes   first  occurance  of  'x'  from  the  list\n",
    "\n",
    "2) What  does  remove()  method  do  if  'x'  is  not   in  the  list ?  --->  Throws  ValueError\n",
    "\n",
    "3) How  to  remove  all  ocurances  of  'x'  from  the  list ?  --->   Call  remove()  method  in  a  loop\n",
    "'''"
   ]
  },
  {
   "cell_type": "code",
   "execution_count": null,
   "id": "fc04e637",
   "metadata": {},
   "outputs": [],
   "source": [
    "'''\n",
    "Write  a  program  to  delete  'all'  occurences  of  'x'  from  the  list\n",
    "\n",
    "Let  1st  input  be   [10 , 20 , 15 , 18 , 19 , 15 , 17 , 20 , 15 , 14]  and\n",
    "2nd  input  be  15\n",
    "What  is  the  output ?  ---> [10 , 20 ,  18 , 19 , 17 , 20 , 14]\n",
    "\n",
    "Enter List  :  [10 , 20 , 15 , 18 , 19 , 15 , 17 , 20 , 15 , 14]\n",
    "Enter  element  to  be  deleted : 15\n",
    "List  without   15's :  [10, 20, 18, 19, 17, 20, 14]\n",
    "'''"
   ]
  },
  {
   "cell_type": "code",
   "execution_count": null,
   "id": "139b6793",
   "metadata": {},
   "outputs": [],
   "source": [
    "# clear() method  demo program  (Home  work)\n",
    "list = [10 , 20 , 15 , 18]\n",
    "print(list)\n",
    "list . clear()\n",
    "print(list)\n",
    "\n",
    "\n",
    "'''\n",
    "clear()  method\n",
    "------------------\n",
    "1) What  does  clear()  method  do ?  --->  Removes  all  the  elements  of  the  list  and  list  becomes  empty\n",
    "\n",
    "2) What  about  remove()  and  pop()  methods  ?  ---> They  remove  single  element  of  the  list\n",
    "'''"
   ]
  },
  {
   "cell_type": "code",
   "execution_count": null,
   "id": "07cec6cf",
   "metadata": {},
   "outputs": [],
   "source": [
    "# reverse()  method  demo  program (Home  work)\n",
    "a = [10 , 20 , 15 , 18]\n",
    "print(a)\n",
    "a . reverse()\n",
    "print(a)\n",
    "\n",
    "\n",
    "'''\n",
    "reverse()  method\n",
    "---------------------\n",
    "1) What  does  reverse()  method  do ?  --->  Reverses  all  the  elements  of  list\n",
    "\n",
    "2) Where  are  the  results  stored ?  --->  In  the  same  list  replacing  existing  elements (List  is  mutable)\n",
    "'''"
   ]
  },
  {
   "cell_type": "code",
   "execution_count": null,
   "id": "ebff51f1",
   "metadata": {},
   "outputs": [],
   "source": [
    "#  sort()  method  demo  program (Home  work)\n",
    "list = [10 , 20 , 15 , 18 , 5]\n",
    "print(list)\n",
    "list . sort()\n",
    "print(list)\n",
    "list . sort(reverse = True)\n",
    "print(list)"
   ]
  },
  {
   "cell_type": "code",
   "execution_count": null,
   "id": "90da8bc6",
   "metadata": {},
   "outputs": [],
   "source": [
    "# Find  outputs (Home  work)\n",
    "a = ['Rama' , 'Rajesh' , 'Amar' ,  'Sita' ,  'Vamsi' , 'Kiran' , 'Rama  Rao']\n",
    "print(a)\n",
    "a . sort()\n",
    "print(a)\n",
    "a . sort(reverse = True)\n",
    "print(a)"
   ]
  },
  {
   "cell_type": "code",
   "execution_count": null,
   "id": "031eb09a",
   "metadata": {},
   "outputs": [],
   "source": [
    "# Identify  error (Home  work)\n",
    "a = [25 , 10.8 ,  'Hyd' ,  True]\n",
    "a . sort()"
   ]
  },
  {
   "cell_type": "code",
   "execution_count": null,
   "id": "09a95205",
   "metadata": {},
   "outputs": [],
   "source": [
    "#  count()  method  demo    program (Home  work)\n",
    "a = [10 , 20 , 15 , 18 , 15 , 12 , 14 , 15 , 19]\n",
    "print(a . count(15))\n",
    "print(a . count(25))\n",
    "print(len(a))\n",
    "\n",
    "\n",
    "'''\n",
    "What  does  list . count(x)  do ?  ---> Returns  number  of  times  'x'  is  in  the  list\n",
    "'''"
   ]
  },
  {
   "cell_type": "code",
   "execution_count": null,
   "id": "c48d736e",
   "metadata": {},
   "outputs": [],
   "source": [
    "'''\n",
    "Tricky  program\n",
    "Write  a  program  to  remove  all  duplicate  elements  of  the  list  (Not  even  single  occurance)\n",
    "Let  input  be  [10 , 20 , 15 , 10 , 14 , 10 , 18 , 20 , 19]\n",
    "What  is  the  output ?  ---> [15 , 14 , 18 , 19]\n",
    "\n",
    "Hint:  Use  count()  and  append()  methods\n",
    "'''"
   ]
  },
  {
   "cell_type": "code",
   "execution_count": null,
   "id": "3cfac528",
   "metadata": {},
   "outputs": [],
   "source": [
    "'''\n",
    "Write  a  program  to  determine  all  the  list  elements  are  identical  or  not\n",
    "\n",
    "1) Let  input  be  [25 , 25 , 25 , 25]\n",
    "    What  is  the  output ?  ---> All  the  elements  are  identical\n",
    "    How  many  elements  are  in  the  list ?  --->  4\n",
    "    How  many  times  is  first  element  repeated ?  ---> 4\n",
    "\n",
    "2) Let  input  be  [10 , 10 , 20 ,  10]\n",
    "    What  is  the  output ?  --->All  the  elements  are  not  identical\n",
    "    How  many  elements  are  in  the  list ?  ---> 4\n",
    "    How  many  times  is  first  element  repeated ? --->  3\n",
    "\n",
    "3) Hint: Use  len()  and  count()\n",
    "\n",
    "Enter  any  list  :  [25,25,25,25]\n",
    "All  the  list  elements  are  identical\n",
    "\n",
    "Enter  any  list  :  [10,10,20,10]\n",
    "List   elements  are  not  identical\n",
    "'''"
   ]
  },
  {
   "cell_type": "code",
   "execution_count": null,
   "id": "cd11b31b",
   "metadata": {},
   "outputs": [
    {
     "name": "stdout",
     "output_type": "stream",
     "text": [
      "2\n",
      "5\n",
      "8\n",
      "15  is  found  3  times \n"
     ]
    },
    {
     "data": {
      "text/plain": [
       "\"\\nindex()  method\\n-------------------\\n1) What  does  index(x)  do ?  --->  Returns  index  of  first  'x'  in  the  list\\n\\n2) What  does  index(invalid-element)  do  ?  --->  Throws  error\\n\\n3) list . index(x , i)\\n    list . index(x)\\n    What  is  the  difference  between  the  two  statements ?  --->\\n\\t\\t\\t\\t\\t\\t\\t\\t\\t\\tlist . index(x , i)  searches  for  'x'  from   index  'i'  of  the  list  but\\n\\t\\t\\t\\t\\t\\t\\t\\t\\t\\tlist . index(x)   searches  for  for  'x'  from   index  0  of  the  list\\n\\nNote:\\n1) What  are  the  four  search  methods  in  str  class  --->  find() , rfind() , index() , rindex()\\n\\n2) What  is  the  only  search  method  in  list  class  ---> index()\\n\""
      ]
     },
     "execution_count": 1,
     "metadata": {},
     "output_type": "execute_result"
    }
   ],
   "source": [
    "# index()  method  demo  program  (Home  work)\n",
    "a = [10 , 20 , 15 , 12 , 14 , 15 , 18 , 19 , 15 , 12 , 25]\n",
    "#     0     1     2    3    4     5    6    7     8    9    10\n",
    "try:\n",
    "\ti = a . index(15)\n",
    "\twhile  True:\n",
    "\t\tprint(i)\t# 2 <next line> 5 <next line> 8\n",
    "\t\ti = a . index(15 , i + 1)\n",
    "except:\n",
    "\tprint(F'15  is  found  {a . count(15)}  times ')\t# 15 is found 3 times\n",
    "\n",
    "\n",
    "'''\n",
    "index()  method\n",
    "-------------------\n",
    "1) What  does  index(x)  do ?  --->  Returns  index  of  first  'x'  in  the  list\n",
    "\n",
    "2) What  does  index(invalid-element)  do  ?  --->  Throws  error\n",
    "\n",
    "3) list . index(x , i)\n",
    "    list . index(x)\n",
    "    What  is  the  difference  between  the  two  statements ?  --->\n",
    "\t\t\t\t\t\t\t\t\t\tlist . index(x , i)  searches  for  'x'  from   index  'i'  of  the  list  but\n",
    "\t\t\t\t\t\t\t\t\t\tlist . index(x)   searches  for  for  'x'  from   index  0  of  the  list\n",
    "\n",
    "Note:\n",
    "1) What  are  the  four  search  methods  in  str  class  --->  find() , rfind() , index() , rindex()\n",
    "\n",
    "2) What  is  the  only  search  method  in  list  class  ---> index()\n",
    "'''"
   ]
  },
  {
   "cell_type": "markdown",
   "id": "3eb83da4",
   "metadata": {},
   "source": [
    "### 19/08/25"
   ]
  },
  {
   "cell_type": "code",
   "execution_count": 41,
   "id": "6bfb3f8b",
   "metadata": {},
   "outputs": [
    {
     "name": "stdout",
     "output_type": "stream",
     "text": [
      "2\n",
      "5\n",
      "8\n",
      "15  is  found  3  times \n"
     ]
    }
   ],
   "source": [
    "'''\n",
    "Modify  the  following  program  with  walrus  operator\n",
    "\n",
    "Hint:  Call  index()  method  only  once\n",
    "'''\n",
    "a = [10 , 20 , 15 , 12 , 14 , 15 , 18 , 19 , 15 , 12 , 25]\n",
    "try:\n",
    "\ti =-1\n",
    "\twhile (i := a . index(15 , i + 1)):\n",
    "\t\tprint(i)\n",
    "\t\t\n",
    "except:\n",
    "\tprint(F'15  is  found  {a . count(15)}  times ')"
   ]
  },
  {
   "cell_type": "code",
   "execution_count": 40,
   "id": "a5519072",
   "metadata": {},
   "outputs": [
    {
     "name": "stdout",
     "output_type": "stream",
     "text": [
      "False\n"
     ]
    }
   ],
   "source": [
    "'''\n",
    "Most   tricky  program\n",
    "Write  a  program  to  determine  first  list  is  a  sublist  of  2nd  list  or  not.\n",
    "Print  True  if  it  is  a  sublist  and  False  otherwise\n",
    "\n",
    "1) First  list :  [10 , 20 , 30]\n",
    "    Second  list :  [15 , 18 , 10 ,  12 ,  19 , 20 , 14 , 12 , 30 , 25 ,  16]\n",
    "    What  is  the  output ?  --->  True  becoz  elements  10 , 20 , 30  are  in  2nd  list  in  same  order\n",
    "\n",
    "2) First  list :  [10 , 20 , 20]\n",
    "    Second  list :  [15 , 18 , 10 ,  12 ,  19 , 20 , 14 , 12 , 30 , 25 ,  16]\n",
    "    What  is  the  output ?  ---> False  becoz   elements  10 , 20 , 30  are  not  in  2nd  list\n",
    "\n",
    "3) First  list :  [2 , 2 , 5]\n",
    "    Second  list :  [2 , 2 , 3 , 4 , 5]\n",
    "    What  is  the  output ?  --->  True  becoz   elements  2 , 2 , 5  are  in  [2 , 2 , 3 , 4 , 5]\n",
    "\n",
    "4) First  list :  [2 , 4 , 3]\n",
    "    Second  list :  [2 , 2 , 3 , 4 , 5]\n",
    "    What  is  the  output ?  --->  False  becoz   elements  2 , 4 , 3   are  not  in  [2 , 2 , 3 , 4 , 5]\n",
    "\n",
    "5) Hint:  Use  index()  method\n",
    "\n",
    "Enter  the  first  list :  [10 , 20 , 30]\n",
    "Enter  the  second  list : [15 , 18 , 10 ,  12 ,  19 , 20 , 14 , 12 , 30 , 25 ,  16]\n",
    "True\n",
    "\n",
    "Enter  the  first  list : [10 , 20 , 20]\n",
    "Enter  the  second  list : [15 , 18 , 10 ,  12 ,  19 , 20 , 14 , 12 , 30 , 25 ,  16]\n",
    "False\n",
    "'''\n",
    "a=eval(input(\"Enter First List: \"))\n",
    "b=eval(input(\"Enter Second List: \"))\n",
    "res=0\n",
    "found = True\n",
    "for i in a:\n",
    "    try:\n",
    "        res=b.index(i,res)+1\n",
    "     \n",
    "    except ValueError:\n",
    "        found = False\n",
    "        break\n",
    "print(found)\n"
   ]
  },
  {
   "cell_type": "code",
   "execution_count": null,
   "id": "8b177389",
   "metadata": {},
   "outputs": [
    {
     "name": "stdout",
     "output_type": "stream",
     "text": [
      "[10, 20, 15, 18]\n",
      "False\n",
      "True\n",
      "[10, 20, 15, 18]\n",
      "False\n",
      "True\n",
      "[10, 20, 15, 18]\n",
      "True\n",
      "True\n"
     ]
    },
    {
     "data": {
      "text/plain": [
       "'\\ncopy()  method\\n------------------\\n1) What  does  copy()  method  do ? --->  Returns  a  new  list  with  same  elements\\n\\n2) b = a . copy()\\n    What  is  another  way  to  copy  list  elements  to  another list ?  --->  b = a[:]\\n'"
      ]
     },
     "execution_count": 29,
     "metadata": {},
     "output_type": "execute_result"
    }
   ],
   "source": [
    "# copy()  method  demo program  (Home  work)\n",
    "a = [10 , 20 , 15 , 18]\n",
    "b = a . copy()\n",
    "print(b)    # [10 , 20 , 15 , 18]\n",
    "print(a  is  b) # False\n",
    "print(a  ==  b) # True\n",
    "c = a[:]\n",
    "print(c)    # [10 , 20 , 15 , 18]\n",
    "print(a  is  c) # False\n",
    "print(a  ==  c) # True\n",
    "d = a\n",
    "print(d)    # [10 , 20 , 15 , 18]\n",
    "print(a  is  d) # True\n",
    "print(a  ==  d) #True\n",
    "\n",
    "\n",
    "'''\n",
    "copy()  method\n",
    "------------------\n",
    "1) What  does  copy()  method  do ? --->  Returns  a  new  list  with  same  elements\n",
    "\n",
    "2) b = a . copy()\n",
    "    What  is  another  way  to  copy  list  elements  to  another list ?  --->  b = a[:]\n",
    "'''"
   ]
  },
  {
   "cell_type": "code",
   "execution_count": null,
   "id": "dd49665e",
   "metadata": {},
   "outputs": [
    {
     "name": "stdout",
     "output_type": "stream",
     "text": [
      "Mode : 15\n"
     ]
    }
   ],
   "source": [
    "'''\n",
    "Tricky  program\n",
    "Write  a  program  to  determine  mode\n",
    "\n",
    "1) What  is  mode ?  ---> The  element  which  is  repeated  maximum  number  of  times  in  the  list\n",
    "\n",
    "2) Let  input  be  [12 , 20 , 18 , 15 , 10 ,  15 , 10 ,  15 ,  20 , 18 , 15 , 10 , 20 , 15 , 10]\n",
    "    What  is  set(list) ?  ---> {12 , 20 , 18 , 15 , 10}\n",
    "    How  many  times  is  first  element  12  repeated  in  the  list  ?  --->  1\n",
    "    How  many  times  is  2nd  element  20  repeated  in  the  list  ?  --->  3\n",
    "    How  many  times  is  3rd  element  18  repeated  in  the  list  ?  --->  2\n",
    "    How  many  times  is  4th  element  15  repeated  in  the  list  ?  --->  5\n",
    "    How  many  times  is  last  element  10  repeated  in  the  list  ?  --->  4\n",
    "    What  is  the  mode  ?  --->\t15  becoz  it  is  repeated  max  number  of  times  i.e.  5\n",
    "\n",
    "3) mode = 15\n",
    "    ctr = 5\n",
    "\n",
    "Enter  List  :   [12 , 20 , 18 , 15 , 10 ,  15 , 10 ,  15 ,  20 , 18 , 15 , 10 , 20 , 15 , 10]\n",
    "Mode :  15\n",
    "'''\n",
    "\n",
    "a=eval(input(\"Enter list: \"))\n",
    "ctr=0\n",
    "mode=a[0]\n",
    "for i in a:\n",
    "    if a.count(i)>ctr:\n",
    "        ctr=a.count(i)\n",
    "        mode=i\n",
    "print(\"Mode :\" ,mode)"
   ]
  },
  {
   "cell_type": "code",
   "execution_count": 22,
   "id": "7fea92e1",
   "metadata": {},
   "outputs": [
    {
     "name": "stdout",
     "output_type": "stream",
     "text": [
      "[[10, 20, 30, 40], [50, 60, 70, 80], [90, 100, 110, 120]]\n",
      "3\n",
      "[10, 20, 30, 40]\n",
      "[50, 60, 70, 80]\n",
      "[90, 100, 110, 120]\n",
      "30\n",
      "80\n",
      "100\n"
     ]
    },
    {
     "data": {
      "text/plain": [
       "'\\nWhat  is  a  nested  list ?  --->  A  list  in  another  list\\n'"
      ]
     },
     "execution_count": 22,
     "metadata": {},
     "output_type": "execute_result"
    }
   ],
   "source": [
    "#  Nested  List  demo  program  (Home  work)\n",
    "a = [[10 , 20 , 30 ,  40]  ,  [50 , 60 ,  70 , 80]  ,  [90 , 100 , 110 , 120] ]\n",
    "print(a)    # [[10 , 20 , 30 ,  40]  ,  [50 , 60 ,  70 , 80]  ,  [90 , 100 , 110 , 120] ]\n",
    "print(len(a))   # 3\n",
    "print(a[0]) #(How  to  print  1st  inner  list)\n",
    "print(a[1])  #(How  to  print  2nd  inner  list)\n",
    "print(a[2])  #(How  to  print  3rd  inner  list)\n",
    "print(a[0][2]) #(How  to  print  30)\n",
    "print(a[1][3]) #How  to  print  80)\n",
    "print(a[2][1]) #How  to  print  100)\n",
    "\n",
    "\n",
    "'''\n",
    "What  is  a  nested  list ?  --->  A  list  in  another  list\n",
    "'''"
   ]
  },
  {
   "cell_type": "code",
   "execution_count": 21,
   "id": "834df24f",
   "metadata": {},
   "outputs": [
    {
     "name": "stdout",
     "output_type": "stream",
     "text": [
      "[10, 20]\n",
      "[30, 40, 50]\n",
      "[60, 70, 80, 90]\n",
      "2\n",
      "3\n",
      "4\n"
     ]
    }
   ],
   "source": [
    "#  Find  outputs  (Home  work)\n",
    "a=[ [10 , 20] , [30 , 40 , 50] , [60 , 70 , 80 , 90]]\n",
    "print(a[0]) #(How  to  print  1st   inner  list)\n",
    "print(a[1]) #(How  to  print  2nd   inner  list)\n",
    "print(a[2]) #How  to  print  3rd   inner  list)\n",
    "print(len(a[0])) #(How  to  print  number  of  elements  in  1st  inner  list)\n",
    "print(len(a[1])) #How  to  print  number  of  elements  in  2nd  inner  list)\n",
    "print(len(a[2])) #How  to  print  number  of  elements  in  3rd  inner  list)"
   ]
  },
  {
   "cell_type": "code",
   "execution_count": 19,
   "id": "b03ecf93",
   "metadata": {},
   "outputs": [
    {
     "name": "stdout",
     "output_type": "stream",
     "text": [
      "Nested list  with  print function\n",
      "Each  inner  list   of   outer  list  without  indexes\n",
      "[10, 20]\n",
      "[30, 40, 50]\n",
      "[60, 70, 80, 90]\n",
      "Elements  in  the  form   of  matrix   without  using  indexes\n",
      "10 20 \n",
      "30 40 50 \n",
      "60 70 80 90 \n",
      "Elements  in  the  form   of  matrix  using  indexes\n",
      "10 20 \n",
      "30 40 50 \n",
      "60 70 80 90 \n"
     ]
    },
    {
     "data": {
      "text/plain": [
       "'\\nmatrix   style\\n----------------\\n10    20\\n30    40   50\\n60    70   80   90\\n'"
      ]
     },
     "execution_count": 19,
     "metadata": {},
     "output_type": "execute_result"
    }
   ],
   "source": [
    "#  How  to  print  nested  list  in  differnent  ways\n",
    "a = [[10 , 20] , [30 , 40 ,  50] , [60 , 70 , 80 , 90]]\n",
    "print('Nested list  with  print function')\n",
    "#print(???)\n",
    "print('Each  inner  list   of   outer  list  without  indexes')\n",
    "for x in a:\n",
    "    print(x)    #How  to  print  each  inner  list  of  list  'a'  without  using  indexes  (use  for  loop)\n",
    "print('Elements  in  the  form   of  matrix   without  using  indexes')\n",
    "for  x in a: #How  to   print  elements  of  each  inner  list  without  using  indexes  in  matrix style  (use  nested  loop)\n",
    "    for i in x:\n",
    "        print(i, end=' ')\n",
    "    print()\n",
    "print('Elements  in  the  form   of  matrix  using  indexes')\n",
    "#How  to   print  elements  of  each  inner  list  using  indexes  in  matrix style (use  nested  loop)\n",
    "for i in range(len(a)):\n",
    "    for j in range(len(a[i])):\n",
    "        print(a[i][j], end=' ')\n",
    "\n",
    "    print()\n",
    "\n",
    "\n",
    "'''\n",
    "matrix   style\n",
    "----------------\n",
    "10    20\n",
    "30    40   50\n",
    "60    70   80   90\n",
    "'''"
   ]
  },
  {
   "cell_type": "code",
   "execution_count": 9,
   "id": "0e11327a",
   "metadata": {},
   "outputs": [
    {
     "name": "stdout",
     "output_type": "stream",
     "text": [
      "[10, 20]\n",
      "[30, 40]\n",
      "[50, 60]\n",
      "[70, 80]\n",
      "\n",
      "10...20\n",
      "30...40\n",
      "50...60\n",
      "70...80\n"
     ]
    }
   ],
   "source": [
    "#  Find  outputs (Home  work)\n",
    "a = [[10 , 20] , [30 , 40] , [50 , 60] , [70 , 80]]\n",
    "for  x  in  a:\n",
    "    print(x)    # [10,20] <next line> [30,40] <next line> [50,60] <next line> [70,80]\n",
    "print() # empty\n",
    "for  x , y  in  a:\n",
    "\tprint(x , y , sep = '...')  # 10...20 <next line> 30...40 <next line> 50...60 <next line> 70...80"
   ]
  },
  {
   "cell_type": "code",
   "execution_count": 8,
   "id": "a2438aa7",
   "metadata": {},
   "outputs": [
    {
     "name": "stdout",
     "output_type": "stream",
     "text": [
      "[10, 20, 30]\n",
      "[40, 50, 60]\n",
      "[70, 80, 90]\n",
      "\n",
      "10...20...30\n",
      "40...50...60\n",
      "70...80...90\n"
     ]
    }
   ],
   "source": [
    "#  Find  outputs (Home  work)\n",
    "a = [[10 , 20 , 30] , [40 , 50 , 60] , [70 , 80 , 90]]\n",
    "for  x  in  a:\n",
    "    print(x)    # [10,20,30] <next line> [40,50,60] <next line> [70,80,90]\n",
    "print() # empty\n",
    "for  x , y ,  z  in   a:\n",
    "\tprint(x , y , z , sep = '...')  # 10...20...30 <next line> 40...50...60 <next line> 70...80...90"
   ]
  },
  {
   "cell_type": "code",
   "execution_count": null,
   "id": "fe28f2bd",
   "metadata": {},
   "outputs": [
    {
     "name": "stdout",
     "output_type": "stream",
     "text": [
      "[10, 20]\n",
      "[30, 40, 50]\n",
      "[60, 70, 80, 90]\n"
     ]
    }
   ],
   "source": [
    "#  Find  outputs (Home  work)\n",
    "a = [[10 , 20] , [30 , 40 , 50] , [60 , 70 , 80 , 90]]\n",
    "for  x  in  a:\n",
    "\tprint(x)\t#[10,20]<next line> [30,40,50]<next line> [60,70,80,90]\n",
    "for  x , y  in  a:\n",
    "\tprint(x , y ,\tsep = '...') # for 1st iteration we get 10...20 and from 2nd iteration we get error bczz many values in list"
   ]
  },
  {
   "cell_type": "code",
   "execution_count": 4,
   "id": "32f1b655",
   "metadata": {},
   "outputs": [
    {
     "name": "stdout",
     "output_type": "stream",
     "text": [
      "[]\n",
      "[]\n"
     ]
    }
   ],
   "source": [
    "#  Find  outputs  (Home  work)\n",
    "a = [[]]\n",
    "print(a[0]) #(How  to  print  inner  list)\n",
    "print(*a) #(How  to  print  inner  list  in  another  way)"
   ]
  },
  {
   "cell_type": "code",
   "execution_count": null,
   "id": "826c5648",
   "metadata": {},
   "outputs": [
    {
     "name": "stdout",
     "output_type": "stream",
     "text": [
      "[[5, 'Amar', 5000.0], [10, 'Rama', 1000.0], [15, 'Rajesh', 3500.0], [18, 'Kiran', 2800.0], [20, 'Sita', 2000.0]]\n",
      "[[20, 'Sita', 2000.0], [18, 'Kiran', 2800.0], [15, 'Rajesh', 3500.0], [10, 'Rama', 1000.0], [5, 'Amar', 5000.0]]\n",
      "[[10, 'Rama', 1000.0], [20, 'Sita', 2000.0], [15, 'Rajesh', 3500.0], [18, 'Kiran', 2800.0], [5, 'Amar', 5000.0]]\n"
     ]
    }
   ],
   "source": [
    "#  Find  outputs  (Home  work)\n",
    "a = [[10 , 'Rama' , 1000.0] , [20 , 'Sita' , 2000.0] , [15 , 'Rajesh' , 3500.0] , [18 , 'Kiran' , 2800.0] , [5 , 'Amar'  ,5000.0] ]\n",
    "print(sorted(a))    # [[5 , 'Amar'  ,5000.0], [10 , 'Rama' , 1000.0] , [15 , 'Rajesh' , 3500.0] ,[18 , 'Kiran' , 2800.0],  [20 , 'Sita' , 2000.0]]\n",
    "print(sorted(a , reverse = True))   # [ [20 , 'Sita' , 2000.0], [18 , 'Kiran' , 2800.0],[15 , 'Rajesh' , 3500.0] ,[10 , 'Rama' , 1000.0] ,[5 , 'Amar'  ,5000.0]]\n",
    "print(a)    # [[10 , 'Rama' , 1000.0] , [20 , 'Sita' , 2000.0] , [15 , 'Rajesh' , 3500.0] , [18 , 'Kiran' , 2800.0] , [5 , 'Amar'  ,5000.0] ]"
   ]
  },
  {
   "cell_type": "markdown",
   "id": "79e343c4",
   "metadata": {},
   "source": [
    "### 20/08/25"
   ]
  },
  {
   "cell_type": "code",
   "execution_count": 2,
   "id": "f9ecbd7e",
   "metadata": {},
   "outputs": [
    {
     "name": "stdout",
     "output_type": "stream",
     "text": [
      "[8, 64, 216, 512, 1000]\n"
     ]
    }
   ],
   "source": [
    "# Write  a  program  to  create  a  list  with  cubes  of  2 , 4 , 6 , 8 , 10  with  list  comprehension (Home  work)\n",
    "\n",
    "s=[x**3 for x in range(2,11,2)]\n",
    "print(s)"
   ]
  },
  {
   "cell_type": "code",
   "execution_count": 6,
   "id": "79ec0a11",
   "metadata": {},
   "outputs": [
    {
     "name": "stdout",
     "output_type": "stream",
     "text": [
      "['H', 'P', 'C', 'V']\n"
     ]
    }
   ],
   "source": [
    "'''\n",
    "(Home  work)\n",
    "Write  a  program  to  extract  1st  character  of  each  string  in  capital  letters  in  a  list  of  srings  without  comprehension\n",
    "\n",
    "Let  input  be   ['hyd' , 'pune' , 'chennai' , 'vijayawada']\n",
    "What  is  the  output ?  ---> ['H' , 'P' , 'C' , 'V']\n",
    "\n",
    "Enter  list  of  lower  case  strings :  ['hyd' , 'pune' , 'chennai' , 'vijayawada']\n",
    "['H', 'P', 'C', 'V']\n",
    "'''\n",
    "\n",
    "st=eval(input(\"Enter list of lower case strings: \"))\n",
    "res=[]\n",
    "for i in st:\n",
    "    res.append(i[0].upper())\n",
    "print(res)"
   ]
  },
  {
   "cell_type": "code",
   "execution_count": 9,
   "id": "ac89b69e",
   "metadata": {},
   "outputs": [
    {
     "name": "stdout",
     "output_type": "stream",
     "text": [
      "['H', 'P', 'C', 'V']\n"
     ]
    }
   ],
   "source": [
    "'''\n",
    "(Home  work)\n",
    "Repeat   previous  program  with  comprehension\n",
    "\n",
    "Input :  ['hyd' , 'pune' , 'chennai' , 'vijayawada']\n",
    "\n",
    "Output :  ['H' , 'P' , 'C' , 'V']\n",
    "'''\n",
    "st=eval(input(\"Enter list of lower case strings: \"))\n",
    "res=[(i[0].upper()) for i in st]\n",
    "print(res)\n"
   ]
  },
  {
   "cell_type": "code",
   "execution_count": 20,
   "id": "59ff77be",
   "metadata": {},
   "outputs": [
    {
     "name": "stdout",
     "output_type": "stream",
     "text": [
      "[['HYD', 3], ['IS', 2], ['GREEN', 5], ['CITY', 4]]\n"
     ]
    }
   ],
   "source": [
    "'''\n",
    "Write  a  program  to  append  each  word  of  the  sentence  and  its  length  to  a  list\n",
    "(word  should  be  in  capital  letters)  without  comprehension\n",
    "\n",
    "Let  input  be   'hyd  is  green  city'\n",
    "What  is  the  output ?  --->  [['HYD' , 3] , ['IS' , 2] , ['GREEN' , 5] , ['CITY', 3]]\n",
    "\n",
    "Enter  any  sentence :  'Students are getting bored'\n",
    "[['STUDENTS', 8], ['ARE', 3], ['GETTING', 7], ['BORED', 5]]\n",
    "'''\n",
    "\n",
    "st=eval(input(\"Enter any sentence: \"))\n",
    "res=[]\n",
    "word=''\n",
    "for i in st:\n",
    "    if i!=' ':\n",
    "        word+=i\n",
    "    elif word:\n",
    "        res.append([(word.upper()),len(word)])\n",
    "        word=''\n",
    "if word:\n",
    "    res.append([(word.upper()),len(word)])\n",
    "print(res)  \n"
   ]
  },
  {
   "cell_type": "code",
   "execution_count": 21,
   "id": "1f79ec23",
   "metadata": {},
   "outputs": [
    {
     "name": "stdout",
     "output_type": "stream",
     "text": [
      "[['HYD', 3], ['IS', 2], ['GREEN', 5], ['CITY', 4]]\n"
     ]
    }
   ],
   "source": [
    "'''\n",
    "(Home  work)\n",
    "Repeat   previous  program  with  comprehension\n",
    "\n",
    "Input :  hyd  is  green  city\n",
    "\n",
    "Output :  [['HYD' , 3] , ['IS' , 2] , ['GREEN' , 5] , ['CITY' , 4]]\n",
    "'''\n",
    "st=eval(input(\"Enter any sentence: \"))\n",
    "res=[[word.upper(),len(word)] for word in st.split()]\n",
    "print(res)"
   ]
  },
  {
   "cell_type": "code",
   "execution_count": 24,
   "id": "0cf8d6df",
   "metadata": {},
   "outputs": [
    {
     "name": "stdout",
     "output_type": "stream",
     "text": [
      "[11, 22, 33, 44]\n"
     ]
    }
   ],
   "source": [
    "'''\n",
    "Write  a  program  to  add  two  lists  of  unequal  length  without  comprehension\n",
    "\n",
    "Let  1st  list  be  [10 , 20 , 30 , 40 , 50 , 60 , 70]  and  2nd  list  be  [100 , 200 , 300 , 400]\n",
    "What  is   the  result ?  ---> [10 + 100 , 20 + 200 , 30 + 300 , 40 + 400]\n",
    "\n",
    "Enter  1st  list  :  [10,20,30,40,50,60,70]\n",
    "Enter  2nd  list  :  [1,2,3,4]\n",
    "[11, 22, 33, 44]\n",
    "'''\n",
    "l1=eval(input(\"Enter 1st list: \"))\n",
    "l2=eval(input(\"Enter 2nd list: \"))\n",
    "res=[]\n",
    "min_length=min(len(l1),len(l2))\n",
    "for i in range(min_length):\n",
    "    res.append(l1[i]+l2[i])\n",
    "print(res)"
   ]
  },
  {
   "cell_type": "code",
   "execution_count": 25,
   "id": "45e81f88",
   "metadata": {},
   "outputs": [
    {
     "name": "stdout",
     "output_type": "stream",
     "text": [
      "[110, 220, 330, 440]\n"
     ]
    }
   ],
   "source": [
    "'''\n",
    "(Home  work)\n",
    "Repeat   previous  progra\n",
    "m  with  comprehension\n",
    "\n",
    "Input1 : [10 , 20 , 30 , 40 , 50 , 60 , 70]\n",
    "Input2 :  [100 , 200 , 300 , 400]\n",
    "Output :  [110 , 220 , 330 , 440]\n",
    "'''\n",
    "l1=eval(input(\"Enter 1st list: \"))\n",
    "l2=eval(input(\"Enter 2nd list: \"))\n",
    "res=[l1[i]+l2[i] for i in range(min(len(l1),len(l2)))]\n",
    "print(res)"
   ]
  },
  {
   "cell_type": "code",
   "execution_count": 28,
   "id": "d817a308",
   "metadata": {},
   "outputs": [
    {
     "name": "stdout",
     "output_type": "stream",
     "text": [
      "[[0, 0, 0, 0], [0, 0, 0, 0], [0, 0, 0, 0]]\n"
     ]
    }
   ],
   "source": [
    "'''\n",
    "Write   a  program  to  initialize  a  nested  list  with  zeroes  without  comprehension\n",
    "\n",
    "Let inputs  be  3  and  4\n",
    "What  is  the  output ?  --->  [[0 , 0 , 0 , 0] , [0 , 0 , 0 , 0] , [0 , 0 , 0 , 0]]\n",
    "\n",
    "Hint:  Use  repetition  operator  *\n",
    "\n",
    "How  many  lists  ?  :  3\n",
    "How  many  elements  in  each  list ?  :  5\n",
    "[[0, 0, 0, 0, 0], [0, 0, 0, 0, 0], [0, 0, 0, 0, 0]]\n",
    "'''\n",
    "\n",
    "n1=int(input(\"How  many  lists  ?  : \"))\n",
    "n2=int(input(\"How  many  elements  in  each  list ?  : \"))\n",
    "res=[]\n",
    "for i in range(n1):\n",
    "    res.append([0]*n2)\n",
    "print(res)"
   ]
  },
  {
   "cell_type": "code",
   "execution_count": 29,
   "id": "7d5e997d",
   "metadata": {},
   "outputs": [
    {
     "name": "stdout",
     "output_type": "stream",
     "text": [
      "[[0, 0, 0, 0], [0, 0, 0, 0], [0, 0, 0, 0]]\n"
     ]
    }
   ],
   "source": [
    "'''\n",
    "(Home  work)\n",
    "Repeat   previous  program  with  comprehension\n",
    "\n",
    "Inputs :  3  and  4\n",
    "\n",
    "Output :  [[0 , 0 , 0 , 0] , [0 , 0 , 0 , 0] , [0 , 0 , 0 , 0]]\n",
    "'''\n",
    "n1=int(input(\"How  many  lists  ?  : \"))\n",
    "n2=int(input(\"How  many  elements  in  each  list ?  : \"))\n",
    "res=[[0]*n2 for i in range(n1)]\n",
    "print(res)"
   ]
  },
  {
   "cell_type": "code",
   "execution_count": 32,
   "id": "93a143a2",
   "metadata": {},
   "outputs": [
    {
     "name": "stdout",
     "output_type": "stream",
     "text": [
      "[20, 18, 32]\n"
     ]
    }
   ],
   "source": [
    "'''\n",
    "Write  a  program  to  extract  those  elements  of  1st  list  which  are  not  in  2nd  list   without  comprehension\n",
    "\n",
    "Let  1st  list  be  [10 , 20 , 15 , 18 , 25 , 32]  and  2nd  list  be  [30 , 40 , 10 , 25 , 15]\n",
    "What  is  the  output ?  --->  [20 , 18 ,  32]\n",
    "\n",
    "Enter 1st  list  :  [10,20,15,18,25,32]\n",
    "Enter 2nd  list  :  [30,40,10,25,15]\n",
    "Elements  of  1st  list  which  are  not  in  2nd  list  :   [20, 18, 32]\n",
    "'''\n",
    "l1=eval(input(\"Enter 1st list: \"))\n",
    "l2=eval(input(\"Enter 2nd list: \"))\n",
    "l3=[]\n",
    "for i in l1:\n",
    "    if i not in l2:\n",
    "        l3.append(i)\n",
    "print(l3)"
   ]
  },
  {
   "cell_type": "code",
   "execution_count": 33,
   "id": "63820476",
   "metadata": {},
   "outputs": [
    {
     "name": "stdout",
     "output_type": "stream",
     "text": [
      "[20, 18, 32]\n"
     ]
    }
   ],
   "source": [
    "'''\n",
    "(Home  work)\n",
    "Repeat   previous  program  with  comprehension\n",
    "\n",
    "Input1 :   [10 , 20 , 15 , 18 , 25 , 32]\n",
    "Input2 :  [30 , 40 , 10 , 25 , 15]\n",
    "Output :  [20 , 18 , 32]\n",
    "'''\n",
    "l1=eval(input(\"Enter 1st list: \"))\n",
    "l2=eval(input(\"Enter 2nd list: \"))\n",
    "l3=[i for i in l1 if i not in l2]\n",
    "print(l3)"
   ]
  },
  {
   "cell_type": "code",
   "execution_count": null,
   "id": "b94a0082",
   "metadata": {},
   "outputs": [
    {
     "name": "stdout",
     "output_type": "stream",
     "text": [
      "Even numbers  between  1  and  20 : [2, 4, 6, 8, 10, 12, 14, 16, 18, 20]\n"
     ]
    }
   ],
   "source": [
    "#  Write   a  program  to  print  even  numbers  between  1  and  20  with  comprehension\n",
    "\n",
    "#Even numbers  between  1  and  20 :   [2, 4, 6, 8, 10, 12, 14, 16, 18, 20]\n",
    "\n",
    "n1=int(input(\"Enter a Number: \"))\n",
    "n2=int(input(\"Enter a Number: \"))\n",
    "n=[i for i in range(n1,n2+1) if i%2==0 ]\n",
    "print(f'Even numbers  between  {n1}  and  {n2} : {n}')"
   ]
  },
  {
   "cell_type": "code",
   "execution_count": 36,
   "id": "35a92d09",
   "metadata": {},
   "outputs": [
    {
     "name": "stdout",
     "output_type": "stream",
     "text": [
      "Even numbers  between  2  and  20 : [2, 4, 6, 8, 10, 12, 14, 16, 18, 20]\n"
     ]
    }
   ],
   "source": [
    "'''\n",
    "Repeat  previous  program  with  comprehension  and  without  using  if\n",
    "\n",
    "Output: [Even  numbers  between  1  and  20]\n",
    "'''\n",
    "n1=int(input(\"Enter a Number: \"))\n",
    "n2=int(input(\"Enter a Number: \"))\n",
    "if n1%2!=0:\n",
    "    n1+=1\n",
    "n=[i for i in range(n1,n2+1,2)]\n",
    "print(f'Even numbers  between  {n1}  and  {n2} : {n}')"
   ]
  },
  {
   "cell_type": "code",
   "execution_count": 37,
   "id": "d54c49a3",
   "metadata": {},
   "outputs": [
    {
     "name": "stdout",
     "output_type": "stream",
     "text": [
      "Squares  of 1 to 20 which  are  divisible  by   2 : [4, 16, 36, 64, 100, 144, 196, 256, 324, 400]\n"
     ]
    }
   ],
   "source": [
    "'''\n",
    "Write  a  program  to  print  those  squares  of  1 , 2 , 3 , 4 , ... 20  which  are  divisible   by  2  with  comprehension\n",
    "\n",
    "What  is  the  output ?  ---> [4 , 16 , 36 , ... ,  400]\n",
    "\n",
    "Squares  of  1  to  20  which  are  divisible  by   2 :   [4, 16, 36, 64, 100, 144, 196, 256, 324, 400]\n",
    "'''\n",
    "n1=int(input(\"Enter a Number: \"))\n",
    "n2=int(input(\"Enter a Number: \"))\n",
    "n=[i**2 for i in range(n1,n2+1) if i%2==0 ]\n",
    "print(f'Squares  of {n1} to {n2} which  are  divisible  by   2 : {n}')\n"
   ]
  },
  {
   "cell_type": "code",
   "execution_count": 38,
   "id": "6748a488",
   "metadata": {},
   "outputs": [
    {
     "name": "stdout",
     "output_type": "stream",
     "text": [
      "Squares  of 2 to 20 which  are  divisible  by   2 : [4, 16, 36, 64, 100, 144, 196, 256, 324, 400]\n"
     ]
    }
   ],
   "source": [
    "#  Repeat  previous  program  with  comprehension  and  without  using  if\n",
    "n1=int(input(\"Enter a Number: \"))\n",
    "n2=int(input(\"Enter a Number: \"))\n",
    "if n1%2!=0:\n",
    "    n1+=1\n",
    "n=[i**2 for i in range(n1,n2+1,2)]\n",
    "print(f'Squares  of {n1} to {n2} which  are  divisible  by   2 : {n}')"
   ]
  },
  {
   "cell_type": "code",
   "execution_count": 39,
   "id": "f16932a7",
   "metadata": {},
   "outputs": [
    {
     "name": "stdout",
     "output_type": "stream",
     "text": [
      "[40, 50, 45, 22, 50, 60, 55, 32, 45, 55, 50, 27]\n"
     ]
    }
   ],
   "source": [
    "'''\n",
    "Write  a  program  to  add  each  element  of  1st  list  with  all  the  elements  of  2nd  list  without  comprehension\n",
    "\n",
    "Let  1st  list  be  [10 , 20 , 15]  and  2nd  list  be  [30 , 40 , 35 , 32]\n",
    "What  is  the  result ?  --->\n",
    "\t\t\t\t\t[10 + 30 , 10 + 40 , 10 + 35 , 10 + 32 , 20 + 30 , 20 + 40 , 20 + 35 , 20 + 32 , 15 + 30 , 15 + 40 , 15 + 35 , 15 + 32]\n",
    "\n",
    "Hint : Nested  for  loops\n",
    "\n",
    "Enter 1st list : [10,20,15]\n",
    "Enter 2nd list : [30,40,35,12]\n",
    "[40, 50, 45, 22, 50, 60, 55, 32, 45, 55, 50, 27]\n",
    "'''\n",
    "l1=eval(input(\"Enter 1st list: \"))\n",
    "l2=eval(input(\"Enter 2nd list: \"))\n",
    "res=[]\n",
    "for i in l1:\n",
    "    for j in l2:\n",
    "        res.append(i+j)\n",
    "print(res)"
   ]
  },
  {
   "cell_type": "code",
   "execution_count": 40,
   "id": "a4c38d3a",
   "metadata": {},
   "outputs": [
    {
     "name": "stdout",
     "output_type": "stream",
     "text": [
      "[40, 50, 45, 42, 50, 60, 55, 52, 45, 55, 50, 47]\n"
     ]
    }
   ],
   "source": [
    "'''\n",
    "(Home  work)\n",
    "Repeat   previous  program  with  comprehension\n",
    "\n",
    "Input1 :  [10 , 20 , 15]\n",
    "Input2 :  [30 , 40 , 35 , 32]\n",
    "Output :  [10 + 30 , 10 + 40 , 10 + 35 , 10 + 32 , 20 + 30 , 20 + 40 , 20 + 35 , 20 + 32 , 15 + 30 , 15 + 40 , 15 + 35 , 15 + 32]\n",
    "'''\n",
    "l1=eval(input(\"Enter 1st list: \"))\n",
    "l2=eval(input(\"Enter 2nd list: \"))\n",
    "res=[(i+j) for i in l1 for j in l2 ]\n",
    "print(res)"
   ]
  },
  {
   "cell_type": "code",
   "execution_count": 42,
   "id": "aac253b3",
   "metadata": {},
   "outputs": [
    {
     "name": "stdout",
     "output_type": "stream",
     "text": [
      "['HP', 'HU', 'HN', 'HE', 'YP', 'YU', 'YN', 'YE', 'DP', 'DU', 'DN', 'DE']\n"
     ]
    }
   ],
   "source": [
    "'''\n",
    "Write  a  program  to  concatenate  each  character  of  1st  string  with  every  character  of   2nd  string  with  comprehension\n",
    "\n",
    "Let  1st string  be  HYD  and   2nd string  be   PUNE\n",
    "What  is  the  result  ?  --->  ['HP' , 'HU' , 'HN' , 'HE' , 'YP' , 'YU' , 'YN' , 'YE' , 'DP' , 'DU' , 'DN' , 'DE']\n",
    "\n",
    "Hint: Same  as  previous  program\n",
    "'''\n",
    "s1=input(\"Enter a string: \")\n",
    "s2=input(\"Enter a string: \")\n",
    "s=[(i+j) for i in s1 for j in s2]\n",
    "print(s)"
   ]
  },
  {
   "cell_type": "code",
   "execution_count": 45,
   "id": "23920065",
   "metadata": {},
   "outputs": [
    {
     "name": "stdout",
     "output_type": "stream",
     "text": [
      "[10, 20, 30, 40, 50, 60, 70, 80, 90]\n"
     ]
    }
   ],
   "source": [
    "'''\n",
    "Write  a  program  to  convert  a  nested  list  to  list  without  comprehension\n",
    "\n",
    "Let  input  be  [ [10 , 20] , [30 , 40 , 50] , [60 , 70 , 80 , 90]]\n",
    "What  is  the  output ?  --->  [10 , 20 , 30 , 40 , 50 , 60 , 70 , 80 , 90]\n",
    "\n",
    "Enter nested list : [ [10 , 20] , [30 , 40 , 50] , [60 , 70 , 80 , 90]]\n",
    "[10, 20, 30, 40, 50, 60, 70, 80, 90]\n",
    "'''\n",
    "l=eval(input(\"Enter a nested list: \"))\n",
    "res=[]\n",
    "for i in l:\n",
    "    for j in i:\n",
    "        res.append(j)\n",
    "    \n",
    "print(res)\n"
   ]
  },
  {
   "cell_type": "code",
   "execution_count": 46,
   "id": "b4728b97",
   "metadata": {},
   "outputs": [
    {
     "name": "stdout",
     "output_type": "stream",
     "text": [
      "[10, 20, 30, 40, 50, 60, 70, 80, 90]\n"
     ]
    }
   ],
   "source": [
    "'''\n",
    "Write  a  program  to  convert  a  nested  list  to  list  with  comprehension\n",
    "\n",
    "Let  input  be  [ [10 , 20] , [30 , 40 , 50] , [60 , 70 , 80 , 90]]\n",
    "\n",
    "What  is  the  output ?  --->  [10 , 20 , 30 , 40 , 50 , 60 , 70 , 80 , 90]\n",
    "'''\n",
    "l=eval(input(\"Enter a nested list: \"))\n",
    "res=[j for i in l for j in i]\n",
    "print(res)"
   ]
  },
  {
   "cell_type": "code",
   "execution_count": null,
   "id": "9f3d262e",
   "metadata": {},
   "outputs": [
    {
     "name": "stdout",
     "output_type": "stream",
     "text": [
      "[[10, 20], [10, 20], [30, 40, 50], [30, 40, 50], [30, 40, 50], [60, 70, 80, 90], [60, 70, 80, 90], [60, 70, 80, 90], [60, 70, 80, 90]]\n"
     ]
    }
   ],
   "source": [
    "# Find  outputs (Home  work)\n",
    "a = [[10 , 20] , [30 , 40 , 50] , [60 , 70 , 80 , 90]]\n",
    "b = [ x  for  x  in  a  for  y  in  x]\n",
    "print(b)    # [[10, 20], [10, 20], [30, 40, 50], [30, 40, 50], [30, 40, 50], [60, 70, 80, 90], [60, 70, 80, 90], [60, 70, 80, 90], [60, 70, 80, 90]]"
   ]
  },
  {
   "cell_type": "code",
   "execution_count": null,
   "id": "e62f0b46",
   "metadata": {},
   "outputs": [
    {
     "name": "stdout",
     "output_type": "stream",
     "text": [
      "[[], [0], [0, 1], [0, 1, 2], [0, 1, 2, 3]]\n"
     ]
    }
   ],
   "source": [
    "#  Nested  comprehension  demo  program (Home  work)\n",
    "a = [ [ j  for   j  in   range(i)]   for   i   in   range(5)]\n",
    "print(a) # [[], [0], [0, 1], [0, 1, 2], [0, 1, 2, 3]]"
   ]
  },
  {
   "cell_type": "code",
   "execution_count": 1,
   "id": "f69043ed",
   "metadata": {},
   "outputs": [
    {
     "name": "stdout",
     "output_type": "stream",
     "text": [
      "[['Swathi', 'Srinivas'], ['Anand', 'Amar'], ['Zebra'], ['King']]\n"
     ]
    }
   ],
   "source": [
    "'''\n",
    "Most  tricky  program\n",
    "Input :   List  of  strings\n",
    "              Eg: ['Swathi' , 'Anand' , 'Srinivas' , 'Zebra' , 'King' , 'Amar' ]\n",
    "Output :  Nested  list\n",
    "\t\t        i.e.  [['Swathi' , 'Srinivas'] , ['Anand' , 'Amar'] , ['Zebra'] , ['King']]\n",
    "\n",
    "Hint: Do  not  sort  the  lists\n",
    "\n",
    "1) b = ['S' , 'A' ,  , 'Z' , 'K' ]\n",
    "\n",
    "2) c = []\n",
    "\n",
    "3) Iteartion  1 :  d  = ['Swathi' , 'Srinivas']\n",
    "                           c =  [['Swathi' , 'Srinivas']]\n",
    "\n",
    "4) Iteartion  2 :  d  =  ['Anand' , 'Amar']\n",
    "                           c =   [['Swathi' , 'Srinivas'] , ['Anand' , 'Amar']]\n",
    "\n",
    "5) Iteartion  3 :  d  =  ['Zebra']\n",
    "                           c =   [['Swathi' , 'Srinivas'] , ['Anand' , 'Amar'] , ['Zebra']]\n",
    "\n",
    "6) Iteartion  4 :  d  =  ['King']\n",
    "                           c =   [['Swathi' , 'Srinivas'] , ['Anand' , 'Amar'] , ['Zebra'] , ['King']]\n",
    "\n",
    "\n",
    "Enter  list  of  strings :  ['Swathi' , 'Anand' , 'Srinivas' , 'Zebra' , 'King' , 'Amar' ]\n",
    "[['Swathi', 'Srinivas'], ['Anand', 'Amar'], ['Zebra'], ['King']]\n",
    "'''\n",
    "\n",
    "# Input list\n",
    "names = ['Swathi', 'Anand', 'Srinivas', 'Zebra', 'King', 'Amar']\n",
    "\n",
    "c = []       \n",
    "seen = []     \n",
    "\n",
    "for name in names:\n",
    "    first = name[0]   \n",
    "    \n",
    "    if first not in seen:\n",
    "        \n",
    "        d = [n for n in names if n[0] == first]\n",
    "        c.append(d)\n",
    "        seen.append(first)\n",
    "\n",
    "print(c)\n"
   ]
  },
  {
   "cell_type": "code",
   "execution_count": 47,
   "id": "9805fe47",
   "metadata": {},
   "outputs": [
    {
     "name": "stdout",
     "output_type": "stream",
     "text": [
      "Merged sorted list: [5, 10, 12, 20, 20, 30, 37, 40, 50]\n"
     ]
    }
   ],
   "source": [
    "'''\n",
    "Write  a  program  to  merge  two  sorted  lists  to  produce  another  sorted  list\n",
    "\n",
    "\n",
    "                          0      1      2       3       4\n",
    "Eg:    List  'a'   --->  [10  ,  20  , 30   ,  40   ,  50]\n",
    "       List  'b'   --->  [5  ,  12  , 20   ,  37]\n",
    "\t                   0     1      2      3\n",
    "                       \n",
    "\tList  'c' --->  [5 , 10 , 12 , 20 , 20 , 30 , 37 , 40 , 50]\n",
    "\n",
    "Hint1 :  Unsorted  lists  can  not  be  merged\n",
    "\n",
    "Hint2 :  Use  single  while  loop\n",
    "'''\n",
    "l1=eval(input(\"Enter a list1: \"))\n",
    "l2=eval(input(\"Enter a list2: \"))\n",
    "i, j = 0, 0\n",
    "l3 = []\n",
    "\n",
    "while i < len(l1) or j < len(l2):\n",
    "    if i < len(l1) and (j == len(l2) or l1[i] <= l2[j]):\n",
    "        l3.append(l1[i])\n",
    "        i += 1\n",
    "    else:\n",
    "        l3.append(l2[j])\n",
    "        j += 1\n",
    "\n",
    "print(\"Merged sorted list:\", l3)\n"
   ]
  },
  {
   "cell_type": "code",
   "execution_count": 2,
   "id": "e56d7445",
   "metadata": {},
   "outputs": [
    {
     "name": "stdout",
     "output_type": "stream",
     "text": [
      "4th largest element : 25\n"
     ]
    }
   ],
   "source": [
    "'''\n",
    "Write  a  program  to  determine  n-th  largest  element   of   a   list\n",
    "\n",
    "Input1 :  [10,20,30,25,40,35,12,5]\n",
    "Input2 :  3  (3rd  largest)\n",
    "Output :  30\n",
    "\n",
    "Enter list:[10,20,30,25,40,35,12,5]\n",
    "Enter which largest which to be shown:4\n",
    "4th  largest  element  :  25\n",
    "'''\n",
    "lst = [10, 20, 30, 25, 40, 35, 12, 5]\n",
    "n = int(input(\"Enter which largest which to be shown: \"))\n",
    "\n",
    "# Sort in descending order\n",
    "sorted_lst = sorted(lst, reverse=True)\n",
    "print(f\"{n}th largest element : {sorted_lst[n-1]}\")\n"
   ]
  },
  {
   "cell_type": "code",
   "execution_count": 3,
   "id": "cdae6b05",
   "metadata": {},
   "outputs": [
    {
     "name": "stdout",
     "output_type": "stream",
     "text": [
      "[5, 10, 12, 15, 20]\n"
     ]
    }
   ],
   "source": [
    "'''\n",
    "Write  a  program  to  sort a  list  without  using  sorted()  function  and  sort()  method\n",
    "\n",
    "Input :  [10,20,30,25,40,35,12,5]\n",
    "Output :  [5,10,12,20,25,30,35,40]\n",
    "\n",
    "Enter list:[10,20,15,12,5]\n",
    "[5, 10, 12, 15, 20]\n",
    "'''\n",
    "lst = [10, 20, 15, 12, 5]\n",
    "\n",
    "# Bubble Sort\n",
    "n = len(lst)\n",
    "for i in range(n):\n",
    "    for j in range(0, n-i-1):\n",
    "        if lst[j] > lst[j+1]:\n",
    "            # swap\n",
    "            lst[j], lst[j+1] = lst[j+1], lst[j]\n",
    "\n",
    "print(lst)\n"
   ]
  },
  {
   "cell_type": "markdown",
   "id": "5edc856a",
   "metadata": {},
   "source": [
    "### 21/08/25"
   ]
  },
  {
   "cell_type": "code",
   "execution_count": null,
   "id": "5672bc49",
   "metadata": {},
   "outputs": [
    {
     "name": "stdout",
     "output_type": "stream",
     "text": [
      "(25, 10.8, (3+4j), 'Hyd', True, None, 'Hyd', 25)\n",
      "<class 'tuple'>\n"
     ]
    }
   ],
   "source": [
    "# Find  outputs   (Home  work)\n",
    "a = 25 , 10.8 , 3 + 4j , 'Hyd' , True , None , 'Hyd' , 25\n",
    "print(a)    # (25, 10.8, (3+4j), 'Hyd', True, None, 'Hyd', 25)\n",
    "print(type(a))  # <class 'tuple'>\n",
    "a[3] = 'Sec'    # error\n",
    "a[3 : 6] = 60 , 70 , 80 # error"
   ]
  },
  {
   "cell_type": "code",
   "execution_count": null,
   "id": "6180e367",
   "metadata": {},
   "outputs": [
    {
     "name": "stdout",
     "output_type": "stream",
     "text": [
      "(1, 2, 3) 1879065125760\n",
      "(1, 2, 3, 4, 5, 6) 1879065026304\n"
     ]
    }
   ],
   "source": [
    "#  Find  outputs\n",
    "a = (1,2,3)\n",
    "b = (4,5,6)\n",
    "print(a , id(a))    # (1, 2, 3) 1879065125760\n",
    "a += b\n",
    "print(a , id(a))    # (1, 2, 3, 4, 5, 6) 1879065026304"
   ]
  },
  {
   "cell_type": "code",
   "execution_count": null,
   "id": "db4eff41",
   "metadata": {},
   "outputs": [
    {
     "name": "stdout",
     "output_type": "stream",
     "text": [
      "(1, 2, 3) 1879064981440\n",
      "(1, 2, 3, 4, 5, 6) 1879065026304\n"
     ]
    }
   ],
   "source": [
    "#  Find  outputs\n",
    "a = (1,2,3)\n",
    "b = (4,5,6)\n",
    "print(a , id(a))    # (1, 2, 3) 1879064981440\n",
    "a = a + b\n",
    "print(a , id(a))    # (1, 2, 3, 4, 5, 6) 1879065026304"
   ]
  },
  {
   "cell_type": "code",
   "execution_count": null,
   "id": "076b4094",
   "metadata": {},
   "outputs": [
    {
     "name": "stdout",
     "output_type": "stream",
     "text": [
      "(10 , 20 , 30 , 40)\n",
      "<class 'str'>\n",
      "(10, 20, 30, 40)\n",
      "<class 'tuple'>\n",
      "4\n"
     ]
    }
   ],
   "source": [
    "#  What   are  the  outputs  if  input  is  (10 , 20 , 30 , 40) ?   (Home  work)\n",
    "a = input('Enter  Tuple  :  ')\n",
    "print(a)    # (10 , 20 , 30 , 40)\n",
    "print(type(a))  # <class 'str'>\n",
    "b = eval(a)\n",
    "print(b)    # (10, 20, 30, 40)\n",
    "\n",
    "print(type(b))  # <class 'tuple'>\n",
    "print(len(b))   # 4"
   ]
  },
  {
   "cell_type": "code",
   "execution_count": null,
   "id": "9e29078e",
   "metadata": {},
   "outputs": [
    {
     "name": "stdout",
     "output_type": "stream",
     "text": [
      "(10, [70, 30, 40], 50, 60)\n",
      "(10, [70, 30, 40], 50, 60)\n"
     ]
    }
   ],
   "source": [
    "# Find  outputs  (Home  work)\n",
    "a = (10 , [20 , 30 , 40] , 50 , 60)\n",
    "a[1][0] = 70\n",
    "print(a)    # (10, [70, 30, 40], 50, 60)\n",
    "a[1] = [80 , 90 , 100]  # error\n",
    "print(a)    # (10, [70, 30, 40], 50, 60)"
   ]
  },
  {
   "cell_type": "code",
   "execution_count": null,
   "id": "44004631",
   "metadata": {},
   "outputs": [
    {
     "name": "stdout",
     "output_type": "stream",
     "text": [
      "[10, (20, 30, 40), 50, 60]\n",
      "[10, [80, 90], 50, 60]\n"
     ]
    }
   ],
   "source": [
    "# Find  outputs  (Home  work)\n",
    "a = [10 , (20 , 30 , 40) , 50 , 60]\n",
    "#a[1][0] = 70    # error\n",
    "print(a)    #[10, (20, 30, 40), 50, 60]\n",
    "a[1] = [80 , 90]\n",
    "print(a)    # [10, [80, 90], 50, 60]"
   ]
  },
  {
   "cell_type": "code",
   "execution_count": null,
   "id": "e2a4b9cd",
   "metadata": {},
   "outputs": [
    {
     "name": "stdout",
     "output_type": "stream",
     "text": [
      "(25, 10.8, 'Hyd', True)\n",
      "<class 'tuple'>\n"
     ]
    }
   ],
   "source": [
    "# Find  outputs   (Home  work)\n",
    "a = 25\n",
    "b = 10.8\n",
    "c = 'Hyd'\n",
    "d = True\n",
    "x = a , b , c , d\n",
    "print(x)    # (25, 10.8, 'Hyd', True)\n",
    "print(type(x))  # <class 'tuple'>"
   ]
  },
  {
   "cell_type": "code",
   "execution_count": null,
   "id": "bf6670c4",
   "metadata": {},
   "outputs": [
    {
     "name": "stdout",
     "output_type": "stream",
     "text": [
      "25\n",
      "10.8\n",
      "Hyd\n",
      "True\n"
     ]
    }
   ],
   "source": [
    "# Find  outputs   (Home  work)\n",
    "x = 25 , 10.8 , 'Hyd' , True\n",
    "a , b , c , d = x\n",
    "print(a)    # 25\n",
    "print(b)    # 10.8\n",
    "print(c)    # Hyd\n",
    "print(d)    # True\n",
    "p , q , r =  x  # error\n",
    "a , b , c , d  , e = x  # error"
   ]
  },
  {
   "cell_type": "code",
   "execution_count": null,
   "id": "0a0639c9",
   "metadata": {},
   "outputs": [
    {
     "name": "stdout",
     "output_type": "stream",
     "text": [
      "25\n",
      "[10.8, 'Hyd']\n",
      "True\n"
     ]
    }
   ],
   "source": [
    "# Find  outputs   (Home  work)\n",
    "x = 25 , 10.8 , 'Hyd' , True\n",
    "a , *b , c = x\n",
    "print(a)    # 25\n",
    "print(b)    # [10.8, 'Hyd']\n",
    "print(c)    # True"
   ]
  },
  {
   "cell_type": "code",
   "execution_count": null,
   "id": "7b8f80cf",
   "metadata": {},
   "outputs": [
    {
     "name": "stdout",
     "output_type": "stream",
     "text": [
      "25\n",
      "10.8\n",
      "[]\n",
      "Hyd\n",
      "True\n"
     ]
    }
   ],
   "source": [
    "# Find  outputs   (Home  work)\n",
    "tpl = 25 , 10.8 , 'Hyd' , True\n",
    "a , b , *c , d , e = tpl\n",
    "print(a)    # 25\n",
    "print(b)    # 10.8\n",
    "print(c)    # []\n",
    "print(d)    # Hyd\n",
    "print(e)    # True"
   ]
  },
  {
   "cell_type": "code",
   "execution_count": null,
   "id": "85ee268b",
   "metadata": {},
   "outputs": [
    {
     "name": "stdout",
     "output_type": "stream",
     "text": [
      "25\n",
      "10.8\n",
      "(3+4j)\n",
      "True\n",
      "(3+4j)\n"
     ]
    }
   ],
   "source": [
    "# Find  outputs   (Home  work)\n",
    "x = 25 , 10.8 , 'Hyd' , True , 3 + 4j\n",
    "a , b , _ , d , _= x\n",
    "print(a)    # 25\n",
    "print(b)    # 10.8\n",
    "print(_)    # (3+4j)\n",
    "print(d)    # True\n",
    "print(_)    # (3+4j)"
   ]
  },
  {
   "cell_type": "code",
   "execution_count": null,
   "id": "dfee3278",
   "metadata": {},
   "outputs": [
    {
     "name": "stdout",
     "output_type": "stream",
     "text": [
      "(100, 110, 120, 130, 140)\n",
      "<class 'tuple'>\n",
      "(10, 20, 15, 18)\n",
      "('V', 'a', 'm', 's', 'i')\n",
      "()\n"
     ]
    },
    {
     "data": {
      "text/plain": [
       "'\\ntuple()  function\\n--------------------\\n1) What  does  tuple(sequence)  do  ?  --->  Converts  sequence  to  tuple\\n\\n2) What  does  tuple(No-args)  do  ?  ---> Returns  an  empty  tuple\\n\\n3) Is  tuple(non-sequence)  valid ?  --->  No  becoz  argument  should  be  sequence  only\\n\\n4) How  many  arguments  can  tuple()  function  take ?  --->  1 (or)  none  but  not  more  than  one\\n'"
      ]
     },
     "execution_count": 19,
     "metadata": {},
     "output_type": "execute_result"
    }
   ],
   "source": [
    "# tuple()  function  demo  program   (Home  work)\n",
    "a = range(100 , 150 , 10)\n",
    "b = tuple(a)\n",
    "print(b)    # (100, 110, 120, 130, 140)\n",
    "print(type(b))  # <class 'tuple'>\n",
    "c = [10 , 20 , 15, 18]\n",
    "d = tuple(c)\n",
    "print(d)    # (10, 20, 15, 18)\n",
    "e = tuple('Vamsi')\n",
    "print(e)    # ('V', 'a', 'm', 's', 'i')\n",
    "print(tuple(25))    # error\n",
    "print(tuple())  # ()\n",
    "\n",
    "\n",
    "'''\n",
    "tuple()  function\n",
    "--------------------\n",
    "1) What  does  tuple(sequence)  do  ?  --->  Converts  sequence  to  tuple\n",
    "\n",
    "2) What  does  tuple(No-args)  do  ?  ---> Returns  an  empty  tuple\n",
    "\n",
    "3) Is  tuple(non-sequence)  valid ?  --->  No  becoz  argument  should  be  sequence  only\n",
    "\n",
    "4) How  many  arguments  can  tuple()  function  take ?  --->  1 (or)  none  but  not  more  than  one\n",
    "'''"
   ]
  },
  {
   "cell_type": "markdown",
   "id": "1e1ab673",
   "metadata": {},
   "source": [
    "### 22/08/25"
   ]
  },
  {
   "cell_type": "code",
   "execution_count": 1,
   "id": "a5a509f8",
   "metadata": {},
   "outputs": [
    {
     "name": "stdout",
     "output_type": "stream",
     "text": [
      "15 is found at index :  2\n",
      "15 is found at index :  5\n",
      "15 is found at index :  8\n",
      "15  is  found  3  times\n"
     ]
    }
   ],
   "source": [
    "#index()  and  count()  methods  demo  program   (Home  work)\n",
    "a = (10 , 20 , 15 , 12 , 14 , 15 , 18 , 19 , 15 , 12 , 25)\n",
    "#     0   1    2     3   4    5    6   7   8    9    10\n",
    "try:\n",
    "\ti = a . index(15)\n",
    "\twhile  True:\n",
    "\t\tprint('15 is found at index : ' , i)\t# 2 <next line> 5 <next line>8\n",
    "\t\ti = a . index(15 , i + 1)\n",
    "except:\n",
    "\t\tprint(F'15  is  found  {a . count(15)}  times')\t# 15 found 3 times"
   ]
  },
  {
   "cell_type": "code",
   "execution_count": null,
   "id": "38b42195",
   "metadata": {},
   "outputs": [
    {
     "name": "stdout",
     "output_type": "stream",
     "text": [
      "(10, 20, 30, 40, 50)\n",
      "2346254984080\n",
      "(10, 20, 35, 40, 50)\n",
      "2346248849344\n"
     ]
    }
   ],
   "source": [
    "#  How  to  modify  an  element  of  tuple ?    (Home  work)\n",
    "a  =  10 ,  20 ,  30 ,   40 ,  50\n",
    "#     0     1     2       3      4\n",
    "a[2] = 35   # error\n",
    "print(a)    # (10 ,  20 ,  30 ,   40 ,  50)\n",
    "print(id(a))    # address of the object\n",
    "b=a[:2]+(35,)+a[3:]#How  to  modify  30  in  tuple  to  35\n",
    "print(b)    #(10, 20, 35, 40, 50)\n",
    "print(id(b))    # address of new obj"
   ]
  },
  {
   "cell_type": "code",
   "execution_count": null,
   "id": "8d1928a5",
   "metadata": {},
   "outputs": [
    {
     "name": "stdout",
     "output_type": "stream",
     "text": [
      "(10, 20, 30, 40, 50)\n",
      "2346223505696\n",
      "(10, 20, 40, 50)\n",
      "2346256045280\n"
     ]
    }
   ],
   "source": [
    "# How  to  delete  an  element  of  tuple ?   (Home  work)\n",
    "a  = 10 , 20 , 30 , 40 , 50\n",
    "#    0     1      2     3      4\n",
    "a . remove(30)  # error\n",
    "del  a[2]   # error\n",
    "a . pop(2)  # error\n",
    "print(a)    # (10 , 20 , 30 , 40 , 50)\n",
    "print(id(a))    # address of the obj\n",
    "b=a[:2]+a[3:]#How  to  remove  30  from  tuple  'a'\n",
    "print(b)    # (10, 20, 40, 50)\n",
    "print(id(b))    # 2346256045280\n"
   ]
  },
  {
   "cell_type": "code",
   "execution_count": 10,
   "id": "db24f408",
   "metadata": {},
   "outputs": [
    {
     "name": "stdout",
     "output_type": "stream",
     "text": [
      "((10, 20), (30, 40, 50), (60, 70, 80, 90))\n",
      "<class 'tuple'>\n",
      "3\n",
      "(10, 20)\n",
      "(30, 40, 50)\n",
      "(60, 70, 80, 90)\n",
      "20\n",
      "50\n",
      "90\n"
     ]
    }
   ],
   "source": [
    "#  Nested   tuple  (Home  work)\n",
    "a = ( (10 , 20)  ,  (30 , 40 , 50)  ,  (60 , 70 , 80 , 90) )\n",
    "print(a)    # ( (10 , 20)  ,  (30 , 40 , 50)  ,  (60 , 70 , 80 , 90) )\n",
    "print(type(a))  # <class tuple>\n",
    "print(len(a))   # 3\n",
    "print(a[0]) #(How  to  print  1st  inner  tuple)\n",
    "print(a[1]) #(How  to  print  2nd  inner  tuple)\n",
    "print(a[2]) #(How  to  print  3rd  inner  tuple)\n",
    "print(a[0][1]) #(How  to  print  20)\n",
    "print(a[1][2]) #(How  to  print  50)\n",
    "print(a[2][3]) #(How  to  print  90)"
   ]
  },
  {
   "cell_type": "code",
   "execution_count": 12,
   "id": "da2bcafe",
   "metadata": {},
   "outputs": [
    {
     "name": "stdout",
     "output_type": "stream",
     "text": [
      "(10, 20, 30)\n",
      "(10, 20, 30)\n",
      "10\n",
      "20\n",
      "30\n",
      "()\n",
      "()\n"
     ]
    }
   ],
   "source": [
    "# Find  outputs  (Home  work)\n",
    "a = ((10 , 20 , 30),)\n",
    "print(a[0]) #(How  to   print  inner  tuple)\n",
    "print(*a) #(How  to   print  inner  tuple  in  another  way)\n",
    "print(a[0][0]) #(How   to  print   10)\n",
    "print(a[0][1]) #(How   to  print   20)\n",
    "print(a[0][2]) #(How   to  print   30)\n",
    "b = ((),)\n",
    "print(b[0]) #(How  to   print  inner  tuple  of  tuple  'b')\n",
    "print(*b) #(How  to   print  inner  tuple  of  tuple  'b'  in  another  way)"
   ]
  },
  {
   "cell_type": "code",
   "execution_count": null,
   "id": "025885a3",
   "metadata": {},
   "outputs": [
    {
     "name": "stdout",
     "output_type": "stream",
     "text": [
      "(10, 20, 30)\n",
      "10 20 30\n",
      "()\n",
      "\n"
     ]
    }
   ],
   "source": [
    "#  Find  outputs (Home  work)\n",
    "a = ((10 , 20 , 30))\n",
    "print(a)    # (10 , 20 , 30)\n",
    "print(*a)   # 10 , 20 , 30\n",
    "b = (())\n",
    "print(b)    # ()\n",
    "print(*b)   # empty"
   ]
  },
  {
   "cell_type": "code",
   "execution_count": null,
   "id": "70c7f074",
   "metadata": {},
   "outputs": [
    {
     "name": "stdout",
     "output_type": "stream",
     "text": [
      " {10 , 20 , 15 , 18 , 20 , 12 , 18}\n",
      "<class 'str'>\n",
      "{18, 20, 10, 12, 15}\n",
      "<class 'set'>\n"
     ]
    }
   ],
   "source": [
    "# What  are  the  outputs  if  input  is  {10 , 20 , 15 , 18 , 20 , 12 , 18}\n",
    "a = input('Enter  Set  :  ')\n",
    "print(a)    #  {10 , 20 , 15 , 18 , 20 , 12 , 18} \n",
    "print(type(a))  # <class str>\n",
    "b = eval(a)\n",
    "print(b)     #{10 , 20 , 15 , 18 , 12 } in any order\n",
    "print(type(b))  # <class set>"
   ]
  },
  {
   "cell_type": "markdown",
   "id": "6bd9be9a",
   "metadata": {},
   "source": [
    "#### set()"
   ]
  },
  {
   "cell_type": "code",
   "execution_count": null,
   "id": "621b9663",
   "metadata": {},
   "outputs": [
    {
     "name": "stdout",
     "output_type": "stream",
     "text": [
      "{(10, 20, 30)}\n"
     ]
    }
   ],
   "source": [
    "#  Find  outputs  (Home  work)\n",
    "print({(10 , 20 , 30)}) # {(10 , 20 , 30)}\n",
    "print({[10 , 20 , 30]}) # error\n",
    "print({{10 , 20 , 30}}) # error\n",
    "print({{}}) # error"
   ]
  },
  {
   "cell_type": "code",
   "execution_count": 26,
   "id": "01065d1c",
   "metadata": {},
   "outputs": [
    {
     "name": "stdout",
     "output_type": "stream",
     "text": [
      "set  with  print  function\n",
      "{25, 10.8, 'Hyd', True}\n",
      "Iterate  elements  of  set  with  for  loop\n",
      "25\n",
      "10.8\n",
      "Hyd\n",
      "True\n",
      "{25, 10.8, 'Hyd', True}\n",
      "using unpacking:  25 10.8 Hyd True\n",
      "Using join: 25, 10.8, Hyd, True\n"
     ]
    }
   ],
   "source": [
    "# How  to  print  set  in  differnet ways  (Home  work)\n",
    "a = {25 , True , 'Hyd' , 10.8}\n",
    "print('set  with  print  function')\n",
    "print(a)    # {25 , True , 'Hyd' , 10.8}\n",
    "print('Iterate  elements  of  set  with  for  loop')\n",
    "b=set()\n",
    "for i in a: #How  to  iterate  set  with  for  loop\n",
    "    print(i)\n",
    "    b.add(i)\n",
    "print(b)\n",
    "# 2 way\n",
    "print(\"using unpacking: \" ,*a)\n",
    "# 3way\n",
    "print(\"Using join:\", \", \".join(map(str,a)))"
   ]
  },
  {
   "cell_type": "code",
   "execution_count": null,
   "id": "3f66d890",
   "metadata": {},
   "outputs": [
    {
     "name": "stdout",
     "output_type": "stream",
     "text": [
      "{True, 'Hyd', 25}\n",
      "3\n",
      "<class 'set'>\n"
     ]
    }
   ],
   "source": [
    "# Find  outputs  (Home  work)\n",
    "a = 'Hyd'\n",
    "b = True\n",
    "c = 25\n",
    "d = 1\n",
    "e = 'Hyd'\n",
    "s = {a , b , c , d , e}\n",
    "print(s)    # {'Hyd',True, 25}\n",
    "print(len(s))   # 3\n",
    "print(type(s))  # <class set>"
   ]
  },
  {
   "cell_type": "code",
   "execution_count": 31,
   "id": "154e8c6b",
   "metadata": {},
   "outputs": [
    {
     "name": "stdout",
     "output_type": "stream",
     "text": [
      "{25, 10.8, 'Hyd', True}\n",
      "25\n",
      "10.8\n",
      "Hyd\n",
      "True\n"
     ]
    }
   ],
   "source": [
    "# Find  outputs  (Home  work)\n",
    "s = {'Hyd',  25,  True,  10.8 }\n",
    "print(s)    # {'Hyd',  25,  True,  10.8 }\n",
    "a , b , c , d = s\n",
    "print(a)    # 'Hyd'\n",
    "print(b)    # 25\n",
    "print(c)    # True\n",
    "print(d)    # 10.8"
   ]
  },
  {
   "cell_type": "code",
   "execution_count": null,
   "id": "a76cc10f",
   "metadata": {},
   "outputs": [
    {
     "name": "stdout",
     "output_type": "stream",
     "text": [
      "{25, 10.8, 'Hyd', True}\n",
      "25\n",
      "[10.8, 'Hyd', True]\n",
      "<class 'list'>\n"
     ]
    }
   ],
   "source": [
    "# Find  outputs  (Home  work)\n",
    "s = {'Hyd',  25,  True,  10.8 }\n",
    "print(s)    # {'Hyd',  25,  True,  10.8 } in any order\n",
    "a , *b = s\n",
    "print(a)    # 'Hyd'\n",
    "print(b)    # [25, True, 10.8]\n",
    "print(type(b))  # <class list>"
   ]
  },
  {
   "cell_type": "code",
   "execution_count": 29,
   "id": "bec49e5c",
   "metadata": {},
   "outputs": [
    {
     "name": "stdout",
     "output_type": "stream",
     "text": [
      "{25, 10.8, 'Hyd', True}\n",
      "25\n",
      "[10.8, 'Hyd']\n",
      "True\n"
     ]
    }
   ],
   "source": [
    "# Find  outputs  (Home  work)\n",
    "s = {'Hyd',  25,  True,  10.8 }\n",
    "print(s)    # {'Hyd',  25,  True,  10.8 }\n",
    "a , *b , c = s\n",
    "print(a)    # 'Hyd'\n",
    "print(b)    # [25, True]\n",
    "print(c)    # 10.8"
   ]
  },
  {
   "cell_type": "code",
   "execution_count": 30,
   "id": "dade7a51",
   "metadata": {},
   "outputs": [
    {
     "name": "stdout",
     "output_type": "stream",
     "text": [
      "{10, 20}\n",
      "10\n",
      "20\n"
     ]
    }
   ],
   "source": [
    "# Find  outputs  (Home  work)\n",
    "s = {20 , 10 , 20 , 10}\n",
    "print(s)    # {10,20}\n",
    "x , y = s\n",
    "print(x)    # 10\n",
    "print(y)    # 20"
   ]
  },
  {
   "cell_type": "code",
   "execution_count": null,
   "id": "839a6788",
   "metadata": {},
   "outputs": [
    {
     "name": "stdout",
     "output_type": "stream",
     "text": [
      "{130, 100, 140, 110, 150, 120}\n",
      "{10, 12, 15, 18, 50, 20}\n",
      "{'R', 'r', 'a', 'A', 'o', ' ', 'm'}\n",
      "set()\n"
     ]
    },
    {
     "data": {
      "text/plain": [
       "'\\nset()  function\\n-----------------\\n1) What  does  set(sequence)  do ?  ---> Converts  sequence  to  set\\n\\n2) What  does  set(No-args)  do ?  --->  Returns  an  empty  set\\n\\n3) How  many  arguments  can  set()  function  take ?  ---> Zero  (or) One  but  not  more  than  one\\n\\n4) Is  set(non-sequence)  valid ?  --->  No  becoz  argument  should  be  sequence\\n'"
      ]
     },
     "execution_count": 34,
     "metadata": {},
     "output_type": "execute_result"
    }
   ],
   "source": [
    "# set()  function  demo  program  (Home  work)\n",
    "a = range(100 , 151 , 10)\n",
    "b = set(a)\n",
    "print(b)    # {100,110,120,130,140}\n",
    "c = [10 , 20 , 15 , 18 , 10 , 50 , 20 , 12 , 18]\n",
    "d = set(c)  \n",
    "print(d)    # {10,20,15,18,50,12}\n",
    "e = set('Rama  rAo')\n",
    "print(e)    #{'R','a','m',' ', 'r','A','o'}\n",
    "print(set(25))  # error\n",
    "print(set())    # ()\n",
    "\n",
    "\n",
    "'''\n",
    "set()  function\n",
    "-----------------\n",
    "1) What  does  set(sequence)  do ?  ---> Converts  sequence  to  set\n",
    "\n",
    "2) What  does  set(No-args)  do ?  --->  Returns  an  empty  set\n",
    "\n",
    "3) How  many  arguments  can  set()  function  take ?  ---> Zero  (or) One  but  not  more  than  one\n",
    "\n",
    "4) Is  set(non-sequence)  valid ?  --->  No  becoz  argument  should  be  sequence\n",
    "'''"
   ]
  }
 ],
 "metadata": {
  "kernelspec": {
   "display_name": "Python 3",
   "language": "python",
   "name": "python3"
  },
  "language_info": {
   "codemirror_mode": {
    "name": "ipython",
    "version": 3
   },
   "file_extension": ".py",
   "mimetype": "text/x-python",
   "name": "python",
   "nbconvert_exporter": "python",
   "pygments_lexer": "ipython3",
   "version": "3.12.10"
  }
 },
 "nbformat": 4,
 "nbformat_minor": 5
}

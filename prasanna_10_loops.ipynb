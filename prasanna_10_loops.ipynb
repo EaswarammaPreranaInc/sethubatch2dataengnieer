{
 "cells": [
  {
   "cell_type": "markdown",
   "id": "b96456fc",
   "metadata": {},
   "source": [
    "29/07/25"
   ]
  },
  {
   "cell_type": "code",
   "execution_count": 14,
   "id": "19f081fb",
   "metadata": {},
   "outputs": [
    {
     "name": "stdout",
     "output_type": "stream",
     "text": [
      "Leap year\n"
     ]
    }
   ],
   "source": [
    "'''\n",
    "Write  a  program  to  test  year  is  leap  year  or  not\n",
    "\n",
    "1) What  is  leap  year ?  --->  Divisible  by  4  but  not  by  100   (or)  divisble  by  400\n",
    "\n",
    "2) Are  2016 , 2020 , 2024  leap  years ? --->  Yes  becoz  leap  year  for  every  4  yearrs\n",
    "\n",
    "3) Are  1700 , 1800 , 1900  leap  years ? --->  No  becoz  no  leap  year  for  every  100  years\n",
    "\n",
    "4) Are  1600 , 2000 , 2400  leap  years ?  --->  Yes  becoz  leap  year  for  every  400  years\n",
    "\n",
    "5) Hint:  single  if  with  3  conditions  and  else\n",
    "'''\n",
    "a=int(input(\"Enter year\"))\n",
    "if (a%4==0 and a%100!=0) or (a%400==0):\n",
    "    print(\"Leap year\")\n",
    "else:\n",
    "    print(\"not a leap year\") "
   ]
  },
  {
   "cell_type": "code",
   "execution_count": 17,
   "id": "0dfa44c2",
   "metadata": {},
   "outputs": [
    {
     "name": "stdout",
     "output_type": "stream",
     "text": [
      "40\n"
     ]
    }
   ],
   "source": [
    "'''\n",
    "Write  a  program  to  determine  largest  of  three  numbers  with  if  and  else\n",
    "\n",
    "Hint:  Write  multiple  conditions\n",
    "'''\n",
    "\n",
    "a=int(input(\"Enter 1st number\"))    # 10\n",
    "b=int(input(\"Enter 2nd number\"))    # 20\n",
    "c=int(input(\"Enter 3rd number\"))    # 30\n",
    "if a>b and a>c:\n",
    "    print(a)\n",
    "elif b>c:\n",
    "    print(b)\n",
    "else:\n",
    "    print(c)"
   ]
  },
  {
   "cell_type": "code",
   "execution_count": null,
   "id": "5927d837",
   "metadata": {},
   "outputs": [
    {
     "name": "stdout",
     "output_type": "stream",
     "text": [
      "37.78\n"
     ]
    }
   ],
   "source": [
    "'''\n",
    "Write  a  program  to  convert  celsius  temperature  to  farenheit  and  vice-versa\n",
    "\n",
    "1) What  is  the  formula  to  convert  celsius  to  farenheit ? --->  1.8 * temp + 32\n",
    "\n",
    "2) What  is  the  formula  to  convert  farenheit  to  celsius ?  --->  (temp - 32) / 1.8\n",
    "\n",
    "Enter  1  to  convert  celsius  to  farenheit  and  2  to  convert  fahrenheit  to  celsius :  1\n",
    "Enter  celsius  temperature :  30\n",
    "Fahrenheit  Equivalent  :  86.0\n",
    "\n",
    "Enter  1  to  convert  celsius  to  farenheit  and  2  to  convert  fahrenheit  to  celsius :  2\n",
    "Enter  fahrenheit  temperature : 100\n",
    "celsius   equivalent :  37.78\n",
    "\n",
    "Enter  1  to  convert  celsius  to  farenheit  and  2  to  convert  fahrenheit  to  celsius :  3\n",
    "Invalid input  \n",
    "'''\n",
    "try:\n",
    "    a=int(input(\"Enter  1  to  convert  celsius  to  farenheit  and  2  to  convert  fahrenheit  to  celsius :\"))\n",
    "    if a==1:\n",
    "        b=int(input(\"Enter  celsius  temperature : \"))\n",
    "        f=(1.8 * b + 32)\n",
    "        print('%.2f' %f)\n",
    "    elif a==2:\n",
    "        b=int(input(\"Enter  fahrenheit  temperature :\"))\n",
    "        c=((b - 32) / 1.8)\n",
    "        print('%.2f' %c)\n",
    "    else:\n",
    "        print(\"Invalid input\")\n",
    "except:\n",
    "    print(\"Invalid input. Please enter integer numbers\")\n",
    "\n"
   ]
  },
  {
   "cell_type": "code",
   "execution_count": null,
   "id": "d6e7adb8",
   "metadata": {},
   "outputs": [
    {
     "name": "stdout",
     "output_type": "stream",
     "text": [
      "'x'  is   +ve  and  'y'  is  -ve  and x  and  y  in  4th  quadrant\n"
     ]
    }
   ],
   "source": [
    "'''\n",
    "Write  a  program  to  test  a  point  (x , y)  lies  in  1st  quadrant , 2nd  quadrant , 3rd  quadrant ,\n",
    "4th  quadrant , x - axis , y - axis   or  origin\n",
    "\n",
    "1) What  are  the  values  of  x  and  y  in  1st  quadrant ?  --->  Both  are  +ve\n",
    "\n",
    "2) What  are  the  values  of  x  and  y  in  2nd  quadrant ?  --->  'x'  is  -ve  and  'y'  is  +ve\n",
    "\n",
    "3) What  are  the  values  of  x  and  y  in  3rd  quadrant ?  ---> Both   are  -ve\n",
    "\n",
    "4) What  are  the  values  of  x  and  y  in  4th  quadrant ?  --->  'x'  is   +ve  and  'y'  is  -ve\n",
    "\n",
    "5) What  are  the  values  of  x  and  y  on  x - axis ?  ---> 'x'  is  non-zero  and  'y'  is  0\n",
    "\n",
    "6) What  are  the  values  of  x  and  y  on  y - axis ?  --->  'x'  is  0  and  'y'  is  non-zero\n",
    "\n",
    "7) What  are  the  values  of  x  and  y  if  point  is  origin ?  --->  Both  are  zeroes\n",
    "\n",
    "8) Hint:  Use  if  ..   elif\n",
    "'''\n",
    "x=float(input('Enter x co-ordinate '))\n",
    "y=float(input('enter y co-ordinate'))\n",
    "if x>0 and y>0:\n",
    "    print(\"Both  are  +ve and x, y  in  1st  quadrant\")\n",
    "elif x<0 and y>0:\n",
    "    print(\" 'x'  is  -ve  and  'y'  is  +ve and x ,y  in  2nd  quadrant\")\n",
    "elif x<0 and y<0:\n",
    "    print(\"Both   are  -ve and x, y  in  3rd  quadrant\")\n",
    "elif x>0 and y<0:\n",
    "    print(\"'x'  is   +ve  and  'y'  is  -ve  and x, y  in  4th  quadrant\")\n",
    "elif x!=0 and y==0:\n",
    "    print(\" the  values  of  x  and  y  on  x - axis -'x'  is  non-zero  and  'y'  is  0\")\n",
    "elif x==0 and y!=0:\n",
    "    print(\"the  values  of  x  and  y  on  y - axis --  'x'  is  0  and  'y'  is  non-zero\")\n",
    "elif x==0 and y==0:\n",
    "    print(\"x  and  y values are  point at he  origin\")"
   ]
  },
  {
   "cell_type": "code",
   "execution_count": 25,
   "id": "f4217889",
   "metadata": {},
   "outputs": [
    {
     "name": "stdout",
     "output_type": "stream",
     "text": [
      "Largest number : 20.0\n",
      "Smallest number : 7.0\n",
      "Middle number : 10.0\n"
     ]
    }
   ],
   "source": [
    "'''\n",
    "Write  a  program  to  determine  largest , smallest  and  middle  of  three  numbers\n",
    "\n",
    "a = 10\n",
    "b = 20\n",
    "c = 7\n",
    "max =  20\n",
    "min =  7\n",
    "mid =  (10 + 20 + 7) - (20 + 7) = 10\n",
    "\n",
    "1) What  is  the  initial  value  of  max  ?  --->  a\n",
    "\n",
    "2) Whichever  input >  max,  assign  that  input  to  max\n",
    "\n",
    "3) What  is  the  initial  value  of  min  ?  --->  'a'\n",
    "\n",
    "4) Whichever  input  <  min,  assign  that  input  to  min\n",
    "\n",
    "5) How  to  obtain  middle  number ?  ---> Eliminate  max  and  min  from  a , b , c\n",
    "\n",
    "6) Hint : Do  not  use  else  in  the  program\n",
    "\n",
    "Enter  first  input   :  10\n",
    "Enter  second  input   :  20\n",
    "Enter  third  input   :  7\n",
    "Largest number :  20.0\n",
    "Smallest number :  7.0\n",
    "Middle number :  10.0\n",
    "'''\n",
    "\n",
    "a= float(input(\"Enter 1st number\"))\n",
    "b= float(input(\"Enter 2nd number\"))\n",
    "c= float(input(\"Enter 3rd number\"))\n",
    "max=a\n",
    "min=a\n",
    "if b>max:\n",
    "    max=b\n",
    "if c>max:\n",
    "    max=c\n",
    "if b<min:\n",
    "    min=b\n",
    "if c<min:\n",
    "    min=c\n",
    "mid=(a+b+c)-(max+min)\n",
    "print(\"Largest number :\", max)\n",
    "print(\"Smallest number :\", min)\n",
    "print(\"Middle number :\", mid)\n"
   ]
  },
  {
   "cell_type": "code",
   "execution_count": null,
   "id": "f442a0d4",
   "metadata": {},
   "outputs": [],
   "source": [
    "'''\n",
    "Write  a  program  to  determine  three  sides  form  a  triangle  or  not\n",
    "1) Find  area  if  it  is  an  equilateral  triangle\n",
    "    What  is  an  equilateral  triangle ?  ---> All  the  three  sides  should  be  same\n",
    "    What  is  the  area  of  equilateral  triangle ?  --->  sqrt(3) / 4 * a ^ 2\n",
    "\n",
    "2) Find  perimeter  if  it  is  an  isosceles  triangle\n",
    "    What  is  an  isoscles  triangle ?  ---> Any  two  sides  are  same\n",
    "    What   is  the  perimeter  of  isoscles  triangle ?  ---> a + b + c\n",
    "\n",
    "3) Find  both  if  it  is  scalene  triangle\n",
    "    What  is  a  scalene  triangle ?  ---> All  the  three  sides  are  different\n",
    "    What  is  the  area  of  scalene  triangle ?  ---> sqrt(s * (s - a) * (s - b) * (s - c))\n",
    "\tWhat  is  the  value  of  's'  ?  --->  \t(a + b + c) / 2\n",
    "    What   is  the  perimeter  of  scalene  triangle ?  --->  a + b + c\n",
    "\n",
    "4) What  is  the  qualification  of  triangle  ?  --->  Sum  of  every  two  sides  should  be  >  3rd  side\n",
    "\n",
    "5) Hint: Use  nested  if\n",
    "'''\n",
    "import math\n",
    "a=float(input(\"Enter 1st side\"))\n",
    "b=float(input(\"Enter 2nd side\"))\n",
    "c=float(input(\"Enter 3rd side\"))\n",
    "\n",
    "if a+b>c and a+c>b and b+c>a:\n",
    "    print(\" qualification of triangle\")\n",
    "    if a==b==c:\n",
    "        area=math.sqrt(3) / 4 * a ** 2\n",
    "        print(area)\n",
    "    elif a==b or b==c or a==c:\n",
    "        print('perimeter: ' ,a+b+c)\n",
    "    else:\n",
    "        perimeter=a+b+c\n",
    "        s=perimeter/2\n",
    "        area=math.sqrt(s * (s - a) * (s - b) * (s - c))\n",
    "        print('area:',area, 'perimeter:', perimeter)\n"
   ]
  },
  {
   "cell_type": "code",
   "execution_count": null,
   "id": "59d8111e",
   "metadata": {},
   "outputs": [],
   "source": [
    "'''\n",
    "Write  a  program  to  determine  roots  of  a  quadtratic  equation  a * x ^ 2 + b * x + c = 0  where  a  ! = 0\n",
    "\n",
    "1) What  is  the  value  of  discriminant ?  --->  b ^ 2 - 4ac\n",
    "\n",
    "2) What  are  the  roots  called  if  disc > 0 ?  --->  Real  and  distinct\n",
    "     What  is  the  formula  for  root1  ?  ---> (-b + sqrt(disc)) / 2a\n",
    "     What  is  the  formula  for  root2 ?  ---> (-b - sqrt(disc)) / 2a\n",
    "\n",
    "3) What  are  the  roots  called  if  disc  is  0 ?  --->  Real  and  same\n",
    "     What  is  the  formula  for  root  ?  --->  -b / 2a\n",
    "\n",
    "4) What  are  the  roots  called  if  disc < 0 ?  --->  Complex  (or)  Imaginary  roots\n",
    "     What  is  the  formula  for  real  part ?  --->  -b / 2a\n",
    "\t What  is  the  formula  for  imag  part ?  --->  sqrt(-disc) / 2a\n",
    "\t What  is  root1  if  real  part  is  3  and  imag  part  is  4 ?  ---> 3 + 4j\n",
    "\t What  is  root2  if  real  part  is  3  and  imag  part  is  4 ?  --->  3 - 4j\n",
    "'''\n",
    "import math\n",
    "a=float(input(\"Enter coefficient a(a!=0):\"))\n",
    "b=float(input(\"Enter coefficient b:\"))\n",
    "c=float(input(\"Enter coefficient c:\"))\n",
    "if a==0:\n",
    "    print(\"Invalid input 'a' must not be a 0 for quadratic equation\")\n",
    "else:\n",
    "    discriminant=b**2-4*a*c\n",
    "    print(\"Discriminant:\",discriminant)\n",
    "    if discriminant>0:\n",
    "        print(\"Roots are real and distinct\")\n",
    "        root1=(-b+math.sqrt(discriminant))/(2*a)\n",
    "        root2=(-b-math.sqrt(discriminant))/(2*a)\n",
    "        print(\"Root1:\",root1)\n",
    "        print(\"Root2:\",root2)\n",
    "    elif discriminant==0:\n",
    "        print(\"Roots are real and same\")\n",
    "        root=-b/(2*a)\n",
    "        print(\"Root:\",root)\n",
    "    else:\n",
    "        print(\"Roots are complex or Imaginary\")\n",
    "        real=-b/(2*a)\n",
    "        imag=math.sqrt(-discriminant)/(2*a)\n",
    "        print(\"Root1={:.2f}+{:.2f}j\".format(real,imag))\n",
    "        print(\"Root2={:.2f}+{:.2f}j\".format(real,imag))"
   ]
  },
  {
   "cell_type": "code",
   "execution_count": null,
   "id": "272d6b6b",
   "metadata": {},
   "outputs": [],
   "source": [
    "'''\n",
    "Write  a  program   to  determine  a  point (x , y)  lies  inside , outside  or  on  the  circle.\n",
    "Center  is  origin  and  radius  is  'r'\n",
    "\n",
    "1) What  is  the  distance  between  origin  and  point (x , y) ?  --->  sqrt(x ^ 2 + y ^ 2)\n",
    "\n",
    "2) Where  is  the  point  if  distance >  raidus ?  --->  Outside  the  circle\n",
    "\n",
    "3) Where  is  the  point  if  distance < raidus ?  --->  Inside  the  circle\n",
    "\n",
    "4) Where  is  the  point  if  distance  and  raidus   are  same ?  ---> On  the  circle\n",
    "'''\n",
    "import math\n",
    "r=float(input(\"Enter radius of circle:\"))\n",
    "x=float(input(\"Enter x-coordinate:\"))\n",
    "y=float(input(\"Enter y-coordinate:\"))\n",
    "distance=math.sqrt(x**2+y**2)\n",
    "print(\"Distance from origin:\",distance)\n",
    "if distance>r:\n",
    "    print(\"Point lies outside the circle\")\n",
    "elif distance<r:\n",
    "    print(\"Point lies inside the circle\")\n",
    "else:\n",
    "    print(\"Point lies on the circle\")"
   ]
  },
  {
   "cell_type": "code",
   "execution_count": null,
   "id": "08f9d196",
   "metadata": {},
   "outputs": [],
   "source": [
    "# Find  outputs  (Home  work)\n",
    "m = 4\n",
    "match  m:\n",
    "\tcase  1:\n",
    "\t\tprint('One')\n",
    "\tcase  2:\n",
    "\t\tprint('Two')\n",
    "\tcase  3:\n",
    "\t\tprint('Three')\n",
    "print('Bye')\t# Bye"
   ]
  },
  {
   "cell_type": "code",
   "execution_count": null,
   "id": "976af554",
   "metadata": {},
   "outputs": [
    {
     "name": "stdout",
     "output_type": "stream",
     "text": [
      "Two\n",
      "Bye\n"
     ]
    }
   ],
   "source": [
    "# Identify  Error\n",
    "i = 2\n",
    "match  i:\n",
    "\tcase  1:\n",
    "\t\tprint('One')\n",
    "\tcase  _:\t# error we cant use _ in the middle\n",
    "\t\tprint('None of   the  above')\n",
    "\tcase  2:\n",
    "\t\tprint('Two')\n",
    "print('Bye')\t# anonymous label must be at end of all cases"
   ]
  },
  {
   "cell_type": "code",
   "execution_count": null,
   "id": "33a2e88e",
   "metadata": {},
   "outputs": [],
   "source": [
    "# Find  outputs  (Home  work)\n",
    "m = 2\n",
    "match  m:\n",
    "\tcase  1:\n",
    "\t\tprint('One')\n",
    "\tcase  _:\n",
    "\t\tprint('Hello')\n",
    "\tcase  _:\n",
    "\t\tprint('Bye')\n",
    "print('End') # error due to two anonymous label and also 2 label not exist"
   ]
  },
  {
   "cell_type": "code",
   "execution_count": null,
   "id": "2e12fa61",
   "metadata": {},
   "outputs": [],
   "source": [
    "#  Find  outputs  (Home  work)\n",
    "m = 1\n",
    "match  m:\n",
    "\tcase  1:\n",
    "\t\tprint('Hyd')\n",
    "\tcase  1:\n",
    "\t\tprint('Sec')\n",
    "\tcase  1:\n",
    "\t\tprint('Cyb')\n",
    "print('Bye')# Hyd<nextline> Bye"
   ]
  },
  {
   "cell_type": "code",
   "execution_count": null,
   "id": "c0ad8267",
   "metadata": {},
   "outputs": [],
   "source": [
    "# Find  outputs  (Home  work)\n",
    "ch = 'B'\n",
    "match  ch:\n",
    "\tcase   'A':\n",
    "\t\tprint('Apple')\n",
    "\tcase  'B':\n",
    "\t\tprint('Book')\n",
    "\tcase  'C':\n",
    "\t\tprint('Cafe')\n",
    "\tcase  _:\n",
    "\t\tprint('None of  the  above')\n",
    "print('Bye') # Book\n",
    "            #Bye"
   ]
  },
  {
   "cell_type": "code",
   "execution_count": null,
   "id": "47e6c84c",
   "metadata": {},
   "outputs": [],
   "source": [
    "'''\n",
    "1) What  are  the  outputs  if  input  is  -6 ? --->\n",
    "2) What  are  the  outputs  if  input  is  15  ?  --->\n",
    "3) What  are  the  outputs  if  input  is  10.8  ?  --->\n",
    "4) What  are  the  outputs  if  input  is  0  ?  --->\n",
    "5) What  are  the  outputs  if  input  is  -10  ?  --->\n",
    "6) What  are  the  outputs  if  input  is  7  ?  --->\n",
    "'''\n",
    "x = eval(input('Enter any  number :  '))\n",
    "match  x:\n",
    "\tcase  7 |  -6  |  0:\n",
    "\t\tprint('Hyd')\n",
    "\t\tprint('Sec')\n",
    "\t\tprint('Cyb')\n",
    "\tcase  -10 | 15:\n",
    "\t\tprint('One')\n",
    "\t\tprint('Two')\n",
    "\t\tprint('Three')\n",
    "\tcase  _:\n",
    "\t\tprint('India')\n",
    "\t\tprint('China')\n",
    "\t\tprint('Usa')\n",
    "# End  of  match\n",
    "print('Bye')\n",
    "#outputs:\n",
    "# 1.Hyd Sec Cyb Bye\n",
    "#2.One Two Three\n",
    "#3. India China Usa Bye\n",
    "#4. Hyd Sec Cyb Bye\n",
    "#5. One Two Three Bye\n",
    "#6. Hyd Sec Cyb Bye"
   ]
  },
  {
   "cell_type": "code",
   "execution_count": null,
   "id": "e13dfc68",
   "metadata": {},
   "outputs": [],
   "source": [
    "'''\n",
    "1) What  is  the  output  when  input  is  (-10 , -20) ?  --->\n",
    "2) What  is  the  output  when  input  is  (10 , 0) ?  --->\n",
    "3) What  is  the  output  when  input  is  (0 , -20) ?  --->\n",
    "4) What  is  the  output  when  input  is  (0 , 0) ?  --->\n",
    "5) What  is  the  output  when  input  is  (10 , 20 , 30) ?  --->\n",
    "6) What  is  the  output  when  input  is  [10 , 20]  ?  --->\n",
    "7) What  is  the  output  when  input  is  [0 , -25]  ?  --->\n",
    "8) What  is  the  output  when  input  is  ()  ?  --->\n",
    "9) What  is  the  output  when  input  is  {10 , 20} ?  --->\n",
    "10) What  is  the  output  when  input  is  (25,) ?  --->\n",
    "11) What  is  the  output  when  input  is  {10 : 20} ?  --->\n",
    "'''\n",
    "tpl = eval(input('Enter  any  point  in  the  form  of  (x , y) :  '))\n",
    "match  tpl:\n",
    "\tcase  (0 , 0):\n",
    "\t\tprint('Origin')\n",
    "\tcase   (0 , y):\n",
    "\t\tprint('y - axis')\n",
    "\tcase   (x , 0):\n",
    "\t\tprint('x - axis')\n",
    "\tcase   (x , y):\n",
    "\t\tprint('Quadrant')\n",
    "\tcase  _:\n",
    "\t\tprint('Not  a  point')\n",
    "#outputs: \n",
    "# 1. Quadrant\n",
    "#2. x-axis\n",
    "#3. y-axis\n",
    "#4. Origin\n",
    "#5. Error due to more inputs\n",
    "#6. Quadrant\n",
    "#7. y-axis\n",
    "#8. Not a point\n",
    "#9. Not a point\n",
    "#10. Not a point\n",
    "#11. Not a point"
   ]
  },
  {
   "cell_type": "code",
   "execution_count": null,
   "id": "88fe3b6c",
   "metadata": {},
   "outputs": [],
   "source": [
    "'''\n",
    "Write  a  program  to  determine  bill  amount  and  input  is  units\n",
    "\n",
    "Units                                                      Cost\n",
    "------------------------------------------------------------\n",
    "First  100  units(0 - 99)\t\t\t\t\tRs. 3.00 / unit\n",
    "\n",
    "Next  100  units(100 - 199)\t\t\t\tRs. 3.50 / unit\n",
    "\n",
    "Next  200  units(200 - 399)\t\t    \tRs. 4.00 / unit\n",
    "\n",
    "Next  300  units(400 - 699)\t\t\t\tRs. 4.50 / unit\n",
    "\n",
    "Above  700  units(>= 700)\t\t\t\tRs. 5.00 / unit\n",
    "---------------------------------------------------------------\n",
    "Let  units  be  1200\n",
    "What  is  the  bill  amount ? --->  100 * 3.00 + 100 * 3.50 + 200 * 4.00 + 300 * 4.50 + 500 * 5.00\n",
    "\n",
    "Hint:  Use  match  ...  case   but  not  if ... else\n",
    "'''\n",
    "\n",
    "units = int(input(\"Enter units: \"))\n",
    "\n",
    "match units // 100:\n",
    "    case 0:\n",
    "        cost = units * 3.00\n",
    "\n",
    "    case 1:\n",
    "        cost = 100 * 3.00 + (units - 100) * 3.50\n",
    "\n",
    "    case 2 | 3:\n",
    "        cost = 100 * 3.00 + 100 * 3.50 + (units - 200) * 4.00\n",
    "\n",
    "    case 4 | 5 | 6:\n",
    "        cost = 100 * 3.00 + 100 * 3.50 + 200 * 4.00 + (units - 400) * 4.50\n",
    "\n",
    "    case _:\n",
    "        cost = 100 * 3.00 + 100 * 3.50 + 200 * 4.00 + 300 * 4.50 + (units - 700) * 5.00\n",
    "\n",
    "print(\"Bill Amount: Rs.\", cost)"
   ]
  },
  {
   "cell_type": "code",
   "execution_count": null,
   "id": "c52a7390",
   "metadata": {},
   "outputs": [],
   "source": [
    "'''\n",
    "Write  a  program  to  print  fibonacci  series  upto   x\n",
    "\n",
    "Let  input  be   10\n",
    "What  are  the  outputs  ?  --->   0 , 1 ,  1 , 2 ,  3 ,5 , 8\n",
    "\n",
    "\n",
    "1) What  is  the  formula  for  10th  term ?  ---> 9th  term + 8th  term\n",
    "    What  is  the  formula  for   3rd  term ?  ---> \t2nd  term + 1st  term\n",
    "    What  is  the  formual  for  ith  term ?  --->  (i - 1)th  term +  (i - 2)  term\n",
    "\n",
    "2) What  are  the  first  two  terms ?  --->  0  and  1  (No  formula)\n",
    "\n",
    "3) Hint:  Use  while  loop\n",
    "'''\n",
    "\n",
    "x=int(input(\"Enter value of x:\"))\n",
    "a=0\n",
    "b=1\n",
    "print(\"Fibonacci series\")\n",
    "if x>=0:\n",
    "    print(a)\n",
    "if x>=1:\n",
    "    print(b)\n",
    "c=a+b\n",
    "while c<=x:\n",
    "    print(c)\n",
    "    a=b\n",
    "    b=c\n",
    "    c=a+b"
   ]
  },
  {
   "cell_type": "code",
   "execution_count": null,
   "id": "7b8be7d6",
   "metadata": {},
   "outputs": [],
   "source": [
    "#  Find  outputs\n",
    "while  True:\n",
    "\tprint('Hello')\n",
    "print('Bye') # Hello....infinity time"
   ]
  },
  {
   "cell_type": "code",
   "execution_count": null,
   "id": "740d720a",
   "metadata": {},
   "outputs": [],
   "source": [
    "#  Find  outputs\n",
    "while  False:\n",
    "\tprint('Hello')\n",
    "print('Bye') # Bye"
   ]
  },
  {
   "cell_type": "code",
   "execution_count": null,
   "id": "bdc96859",
   "metadata": {},
   "outputs": [],
   "source": [
    "# Find  outputs  (Home  work)\n",
    "for x in [10,20,15,18]:#How  to  print  each  element  of  list  [10 , 20 , 15 , 18]  with  for  loop\n",
    "    print(x)\n",
    "for x in 'Hyd':#How  to  print  each  character  of   string  'Hyd'  with  for  loop\n",
    "    print(x)\n",
    "for x in range(5):\n",
    "    print(x)     #How  to  print  each  element  of   range(5)  with  for  loop"
   ]
  },
  {
   "cell_type": "code",
   "execution_count": null,
   "id": "2ff64fef",
   "metadata": {},
   "outputs": [],
   "source": [
    "# Find  outputs  (Home  work)\n",
    "for  x  in  {10 : 20 , 30 : 40 , 50 : 60} . keys():\n",
    "\tprint(x)# 10 30 50 \n",
    "print()# empty line\n",
    "for  x  in  {10 : 20 , 30 : 40 , 50 : 60} . values():\n",
    "\tprint(x)# 20 40 60 \n",
    "print()# Empty line\n",
    "for  x  in  {10 : 20 , 30 : 40 , 50 : 60} . items():\n",
    "\tprint(x)# (10,20) (30,40) (50,60)\n",
    "print()# Empty line\n",
    "for  x  in  {10 : 20 , 30 : 40 , 50 : 60}:\n",
    "\tprint(x)# 10 30 50"
   ]
  },
  {
   "cell_type": "code",
   "execution_count": null,
   "id": "e6eecd29",
   "metadata": {},
   "outputs": [],
   "source": [
    "# Find outputs  (Home  work)\n",
    "a = {10 : 20 , 30 : 40 , 50 : 60}\n",
    "for  x , y  in   a . items():\n",
    "\tprint(x , y , sep = '...')# 10...20  30...40   50...60\n",
    "for  x ,  y  in   a:\n",
    "\tprint(x , y)# Error \n",
    "for  x , y  in  {10 : 20 , 30 : 40 , 50 : 60}:\n",
    "\tprint(x , y , sep = '...')# Error"
   ]
  },
  {
   "cell_type": "code",
   "execution_count": null,
   "id": "59c8b001",
   "metadata": {},
   "outputs": [],
   "source": [
    "# Identify  error  (Home  work)\n",
    "for  x  in   123:\n",
    "        print(x)# Error due to no iterate for non sequence"
   ]
  },
  {
   "cell_type": "code",
   "execution_count": null,
   "id": "91c88c7d",
   "metadata": {},
   "outputs": [],
   "source": [
    "# Find  outputs  (Home  work)\n",
    "for  x   in   ():\n",
    "        print(x)# Empty line\n",
    "for  x   in  []:\n",
    "        print(x)# Empty line\n",
    "for  x   in   {}:\n",
    "        print(x)# Empty line\n",
    "for  x   in   set():\n",
    "        print(x)# Empty line\n",
    "for  x   in   '':\n",
    "        print(x)# Empty line\n",
    "for  x  in  range(10 , 10):\n",
    "\tprint(x)# Empty \n",
    "for  x  in   range():\n",
    "\tprint(x)# Error\n",
    "for  x  in   (25):\n",
    "\tprint(x)# Error"
   ]
  },
  {
   "cell_type": "code",
   "execution_count": null,
   "id": "02825cc3",
   "metadata": {},
   "outputs": [],
   "source": [
    "#  Nested  Loop  demo  program\n",
    "for  i  in  range(1 , 4):\n",
    "\tfor  j  in  range(1 , 5):\n",
    "\t\t\tprint(i ,  j)  #\n",
    "\tprint('Hello')\n",
    "print('Bye')\n",
    "#outputs:\n",
    "#1 1\n",
    "#1 2\n",
    "#1 3\n",
    "#1 4\n",
    "#Hello\n",
    "#2 1\n",
    "#2 2\n",
    "#2 3\n",
    "#2 4\n",
    "#Hello\n",
    "#3 1\n",
    "#3 2\n",
    "#3 3\n",
    "#3 4\n",
    "#Hello\n",
    "#Bye"
   ]
  },
  {
   "cell_type": "code",
   "execution_count": null,
   "id": "237347cb",
   "metadata": {},
   "outputs": [],
   "source": [
    "# How  to  print  each  element  and  the  corresponding  index\n",
    "a = [25 , 10.8 , 'Hyd' , True]\n",
    "for x in range(len(a)):\n",
    "    print(a[x])\n",
    " #How  to  print  each  element  and  the  corresponding  index  with  index  based  for  loop\n",
    "for x in a:\n",
    "    print(x)\n",
    "#How  to  print  each  element  and  the  corresponding  index  with  for  ...  each  loop (Do  not  use  2nd  variable)"
   ]
  },
  {
   "cell_type": "code",
   "execution_count": null,
   "id": "ee49e0ba",
   "metadata": {},
   "outputs": [],
   "source": [
    "'''\n",
    "Write  a  program  to  add  two  lists  and  store  results  in  3rd  list\n",
    "\n",
    "1st  list  --->  [10 , 20 , 15 , 18]\n",
    "\n",
    "2nd  list  --->  [30 , 40 , 35 , 12 , 100 , 200 , 300]\n",
    "\n",
    "3rd  list ?  ---> [10 + 30 , 20 + 40 , 15 + 35 , 18 + 12]  =  [40 , 60 , 50 , 30]\n",
    "\n",
    "Hint:  Use  append()  method\n",
    "'''\n",
    "a = eval(input('Enter  1st  list  :  '))\n",
    "b = eval(input('Enter  2nd  list  :  '))\n",
    "c = []\n",
    "#How  to  add  lists  'a'  and  'b'  and  store  results  in  list  'c'  with  indexed  based   for  loop\n",
    "\n",
    "# Index-based loop\n",
    "for i in range(len(a)):\n",
    "    c.append(a[i] + b[i])\n",
    "\n",
    "print('3rd list:', c)\n",
    "# How  to  add  lists  'a'  and  'b'  and  store  results  in  list  'c'  with  for  each  loop (Do  not  use  2nd  variable)\n",
    "\n",
    "# for each loop\n",
    "index = 0\n",
    "for x in a:\n",
    "    c.append(x + b[index])\n",
    "    index += 1\n",
    "\n",
    "print('3rd list:', c)"
   ]
  },
  {
   "cell_type": "code",
   "execution_count": null,
   "id": "bc4b65f3",
   "metadata": {},
   "outputs": [],
   "source": [
    "#  How  to  print  list  elements  from  indexes  2  to  4  without  slice\n",
    "a = [25 , 10.8 , 'Hyd' , True , 3 + 4j , None , 'Sec']\n",
    "print('Indexed for loop')\n",
    "#How  to  print  elements  from  indexes  2  to  4  of  list  'a'  with  indexed  based  for  loop\n",
    "#How  to  print  elements  from  indexes  2  to  4  of  list  'a'  with  for  each  loop   without  using  2nd  variable  and  slice\n",
    "a = [25, 10.8, 'Hyd', True, 3 + 4j, None, 'Sec']\n",
    "print('Indexed for loop')\n",
    "\n",
    "for i in range(2, 5):\n",
    "    print(a[i])\n",
    "a = [25, 10.8, 'Hyd', True, 3 + 4j, None, 'Sec']\n",
    "print('For-each loop')\n",
    "\n",
    "i = 0\n",
    "for x in a:\n",
    "    if 2 <= i <= 4:\n",
    "        print(x)\n",
    "    i += 1"
   ]
  },
  {
   "cell_type": "code",
   "execution_count": null,
   "id": "fb70ebd1",
   "metadata": {},
   "outputs": [
    {
     "name": "stdout",
     "output_type": "stream",
     "text": [
      "a :   [11, 21, 16, 19]\n",
      "b :   [10, 20, 15, 18]\n"
     ]
    }
   ],
   "source": [
    "#  Tricky  program\n",
    "#  Find  outputs  (Home  work)\n",
    "a = [10 , 20 , 15 , 18]\n",
    "for  i  in  range(len(a)):\n",
    "\ta[i] +=  1\n",
    "print('a :  ' , a)\t#a :   [11, 21, 16, 19]\n",
    "b = [10 , 20 , 15 , 18]\n",
    "for  x  in   b:\n",
    "\tx += 1\n",
    "print('b :  ' ,  b)\t#b :   [10, 20, 15, 18]"
   ]
  },
  {
   "cell_type": "code",
   "execution_count": null,
   "id": "bd0a440d",
   "metadata": {},
   "outputs": [
    {
     "name": "stdout",
     "output_type": "stream",
     "text": [
      "    *\n",
      "   ***\n",
      "  *****\n",
      " *******\n",
      "*********\n"
     ]
    }
   ],
   "source": [
    "# Full Pyramid Program\n",
    "\n",
    "n = int(input(\"Enter number of lines: \"))\n",
    "\n",
    "for i in range(1, n + 1):       # if user enter 5 - (1,6)\n",
    "    spaces = n - i        # spaces decrease each line\n",
    "    stars = 2 * i - 1      # stars increase as 1, 3, 5, 7, ...\n",
    "    \n",
    "    print(\" \" * spaces + \"*\" * stars)"
   ]
  },
  {
   "cell_type": "code",
   "execution_count": null,
   "id": "af9f4447",
   "metadata": {},
   "outputs": [
    {
     "name": "stdout",
     "output_type": "stream",
     "text": [
      "2\n",
      "3\n",
      "5\n",
      "7\n",
      "11\n",
      "13\n"
     ]
    }
   ],
   "source": [
    "# prime numbers in a given range of numbers\n",
    "n1=int(input())\n",
    "n2=int(input())\n",
    "for i in range(n1,n2+1):\n",
    "    j=1\n",
    "    c=0\n",
    "    while j<=i:\n",
    "        if i%j==0:\n",
    "            c+=1\n",
    "        j+=1\n",
    "    if c==2:\n",
    "        print(i)\n",
    "\n"
   ]
  },
  {
   "cell_type": "markdown",
   "id": "26b72f56",
   "metadata": {},
   "source": [
    "4/08/25"
   ]
  },
  {
   "cell_type": "code",
   "execution_count": null,
   "id": "12f06cd7",
   "metadata": {},
   "outputs": [
    {
     "name": "stdout",
     "output_type": "stream",
     "text": [
      "1\n",
      "Sec\n",
      "Hello\n",
      "2\n",
      "Sec\n",
      "Hello\n",
      "3\n",
      "4\n",
      "Sec\n",
      "Hello\n",
      "5\n",
      "Sec\n",
      "Hello\n",
      "6\n",
      "7\n",
      "Sec\n",
      "Hello\n",
      "Outside loop\n"
     ]
    }
   ],
   "source": [
    "# Find  outputs  (Home  work)\n",
    "for  i   in   range(1 , 8):\n",
    "\tprint(i)\t\n",
    "\tif  i % 3  == 0:\n",
    "\t\t\tcontinue\n",
    "\telse:\n",
    "\t\t\tprint('Sec')\n",
    "\tprint('Hello')\n",
    "# End of loop\n",
    "print('Outside loop')\n",
    "\n",
    "# output:  1 Sec Hello 2 Sec Hello 3 4 Sec Hello 5 Sec Hello 6 7 Sec Hello  Outside loop"
   ]
  },
  {
   "cell_type": "code",
   "execution_count": 2,
   "id": "777bac7f",
   "metadata": {},
   "outputs": [],
   "source": [
    "# Identify Error  (Home  work)\n",
    "if ():\n",
    "\tprint('Hyd')\n",
    "\t#continue\t# continue is used inside the while or for loop only\n",
    "\tprint('Sec')"
   ]
  },
  {
   "cell_type": "code",
   "execution_count": null,
   "id": "ce0652be",
   "metadata": {},
   "outputs": [
    {
     "name": "stdout",
     "output_type": "stream",
     "text": [
      "1\n",
      "Sec\n",
      "Hello\n",
      "2\n",
      "Sec\n",
      "Hello\n",
      "3\n",
      "Outside loop\n"
     ]
    }
   ],
   "source": [
    "# Find outputs (Home  work)\n",
    "for  i   in   range(1 , 8):\n",
    "\tprint(i)\n",
    "\tif   i % 3 == 0:\n",
    "\t\tbreak\n",
    "\telse:\n",
    "\t\tprint('Sec')\n",
    "\tprint('Hello')\n",
    "# End  of  the  loop\n",
    "print('Outside loop')\n",
    "\n",
    "# output : 1 Sec Hello 2 Sec Hello 3 Outside loop"
   ]
  },
  {
   "cell_type": "code",
   "execution_count": null,
   "id": "37561d69",
   "metadata": {},
   "outputs": [],
   "source": [
    "# Identify Error  (Home  work)\n",
    "if(10 , 20 , 30):\n",
    "\tprint('Hyd')\n",
    "\tbreak\t# break statement is used in only while or for loop\n",
    "\tprint('Sec')"
   ]
  },
  {
   "cell_type": "code",
   "execution_count": null,
   "id": "4b3adaf2",
   "metadata": {},
   "outputs": [
    {
     "name": "stdout",
     "output_type": "stream",
     "text": [
      "1\n",
      "Sec\n",
      "Hello\n",
      "2\n",
      "Sec\n",
      "Hello\n",
      "3\n",
      "Hyd\n",
      "Hello\n",
      "4\n",
      "Sec\n",
      "Hello\n",
      "5\n",
      "Sec\n",
      "Hello\n",
      "6\n",
      "Hyd\n",
      "Hello\n",
      "7\n",
      "Sec\n",
      "Hello\n",
      "Outside loop\n"
     ]
    }
   ],
   "source": [
    "# Find  outputs  (Home  work)\n",
    "for  i   in   range(1 , 8):\n",
    "\tprint(i)\n",
    "\tif   i % 3 == 0:\n",
    "\t\tpass\n",
    "\t\tprint('Hyd')\n",
    "\telse:\n",
    "\t\tprint('Sec')\n",
    "\tprint('Hello')\n",
    "# End  of  the  loop\n",
    "print('Outside loop')\n",
    "\n",
    "#output: 1 Sec Hello 2 Sec Hello 3 Sec Hello  4 Sec Hello 5 Sec Hello 6 Sec Hello  7 Sec Hello  Outside loop"
   ]
  },
  {
   "cell_type": "code",
   "execution_count": null,
   "id": "cbd2c1d9",
   "metadata": {},
   "outputs": [
    {
     "data": {
      "text/plain": [
       "\"for  i   in   range(1 , 8):\\n\\tprint(i)\\n\\tif   i % 3 == 0:\\n\\t\\texit()\\n\\telse:\\n\\t\\tprint('Sec')\\n\\tprint('Hello')\\n# End  of  the  loop\\nprint('Outside loop')\""
      ]
     },
     "execution_count": 2,
     "metadata": {},
     "output_type": "execute_result"
    }
   ],
   "source": [
    "\n",
    "# Find  outputs  (Home  work)\n",
    "for  i   in   range(1 , 8):\n",
    "\tprint(i)\n",
    "\tif   i % 3 == 0:\n",
    "\t\texit()\n",
    "\telse:\n",
    "\t\tprint('Sec')\n",
    "\tprint('Hello')\n",
    "# End  of  the  loop\n",
    "print('Outside loop')\n",
    "\n",
    "# output: 1  Sec Hello 2 Sec Hello 3 Hello  4 Sec Hello 5 Sec Hello 6 Hello  7 Sec Hello Outside loop\n"
   ]
  },
  {
   "cell_type": "code",
   "execution_count": 2,
   "id": "fd12aa06",
   "metadata": {},
   "outputs": [
    {
     "name": "stdout",
     "output_type": "stream",
     "text": [
      "1\n",
      "Sec\n",
      "Hello\n",
      "2\n",
      "Sec\n",
      "Hello\n",
      "3\n",
      "4\n",
      "Sec\n",
      "Hello\n",
      "5\n",
      "Sec\n",
      "Hello\n",
      "6\n",
      "7\n",
      "Sec\n",
      "Hello\n",
      "else  suite\n",
      "Outside  loop\n"
     ]
    }
   ],
   "source": [
    "# Find  outputs  (Home  work)\n",
    "for  i  in  range(1 , 8):\n",
    "\tprint(i)\n",
    "\tif   i % 3 == 0:\n",
    "\t\tcontinue\n",
    "\telse:\n",
    "\t\tprint('Sec')\n",
    "\tprint('Hello')\n",
    "else:\n",
    "\tprint('else  suite')\n",
    "# End  of  the  loop\n",
    "print('Outside  loop')\n",
    "# output: 1 Sec Hello 2 Sec Hello 3 4 Sec Hello 5 Sec Hello 6 7 Sec Hello else suite  Outside loop"
   ]
  },
  {
   "cell_type": "code",
   "execution_count": null,
   "id": "b8855ec7",
   "metadata": {},
   "outputs": [
    {
     "name": "stdout",
     "output_type": "stream",
     "text": [
      "1\n",
      "Sec\n",
      "Hello\n",
      "2\n",
      "Sec\n",
      "Hello\n",
      "3\n",
      "Outside  loop\n"
     ]
    }
   ],
   "source": [
    "# Find  outputs  (Home  work)\n",
    "for  i  in  range(1 , 8):\n",
    "\tprint(i)\n",
    "\tif  i % 3 == 0:\n",
    "\t\tbreak\n",
    "\telse:\n",
    "\t\tprint('Sec')\n",
    "\tprint('Hello')\n",
    "else:\n",
    "\tprint('else  suite')\n",
    "#End   of  the  loop\n",
    "print('Outside  loop')\n",
    "# 1 Sec Hello  2 Sec Hello 3 Outside loop"
   ]
  },
  {
   "cell_type": "code",
   "execution_count": 5,
   "id": "50e3ad18",
   "metadata": {},
   "outputs": [
    {
     "name": "stdout",
     "output_type": "stream",
     "text": [
      "1\n",
      "Sec\n",
      "Hello\n",
      "2\n",
      "Sec\n",
      "Hello\n",
      "3\n",
      "Sec\n",
      "Hello\n",
      "4\n",
      "Sec\n",
      "Hello\n",
      "5\n",
      "Sec\n",
      "Hello\n",
      "6\n",
      "Sec\n",
      "Hello\n",
      "7\n",
      "Sec\n",
      "Hello\n",
      "else  suite\n",
      "Outside loop\n"
     ]
    }
   ],
   "source": [
    "# Find  outputs  (Home  work)\n",
    "for  i  in  range(1 , 8):\n",
    "\tprint(i)\n",
    "\tif  i == 8:\n",
    "\t\tbreak\n",
    "\telse:\n",
    "\t\tprint('Sec')\n",
    "\tprint('Hello')\n",
    "else:\n",
    "\tprint('else  suite')\n",
    "# End  of  the  loop\n",
    "print('Outside loop')\n",
    "# 1 Sec Hello  2 Sec Hello  3 Sec Hello 4 Sec Hello 5 Sec Hello  6 Sec Hello  7 Sec Hello   else suite  Outside loop"
   ]
  },
  {
   "cell_type": "code",
   "execution_count": 10,
   "id": "703ee550",
   "metadata": {},
   "outputs": [
    {
     "name": "stdout",
     "output_type": "stream",
     "text": [
      "Found at index 5\n"
     ]
    }
   ],
   "source": [
    "'''\n",
    "Write  a  program  to  search  for  an  element  in  the  list  without  using  in  operator  and\n",
    "print  Found  or  Not  Found  message  (Assume  that  there  are  no  duplicates)\n",
    "\n",
    "Let  list  be   [10 , 20 , 15 , 12 , 18]\n",
    "1) What  is  the  output  if  15  is  seacrhed ?  --->  Found  at  index  2\n",
    "\n",
    "2) What  is  the  output  if  19  is  seacrhed ?  --->  Not  found\n",
    "\n",
    "3) What  action  to  be  made  when  'x'  does  not  match  with  the  current  element  of  list ?  --->\n",
    "\t\t\t\t\t\t\t\t\t\t\t\t\t\t\t\t\t\t\t\t\t\tCompare  'x'  with  next  element  of  list\n",
    "\n",
    "4) What  action  to  be  made  when  'x'  matches   with  list  element ?  --->\n",
    "\t\t\t\t\t\t\t\t\t\t\t\t\t\t\t\t\t\t\t\tPrint  found   message  along  with  index  and\n",
    "\t\t\t\t\t\t\t\t\t\t\t\t\t\t\t\t\t\t\t\tdo  not  search  for  'x'  in  rest  of  the  list\n",
    "\n",
    "5) What  action  to  be  made  when  'x'   does  not  match  with  all  the  elements  of  list ?  --->\n",
    "\t\t\t\t\t\t\t\t\t\t\t\t\t\t\t\t\t\t\t\t\t\t\t\t\t\tPrint  not  found   message\n",
    "\n",
    "6) Hint: Use  for  loop\n",
    "\n",
    "Enter any list: [10,20,15,12,18]\n",
    "Enter the element to be searched : 15\n",
    "Found  at   index  :   2\n",
    "\n",
    "Enter any list: [25,10.8,'Hyd',True]\n",
    "Enter the element to be searched : 3+4j\n",
    "Not  Found\n",
    "'''\n",
    "list=eval(input(\"enter any list: \"))\n",
    "\n",
    "x= eval(input(\"enter the element to be serached\"))\n",
    "for i in range(len(list)):\n",
    "    if list[i]==x:\n",
    "        print(\"Found at index\", i)\n",
    "        break\n",
    "else:\n",
    "    print(\"Not found\")\n",
    "    "
   ]
  },
  {
   "cell_type": "code",
   "execution_count": null,
   "id": "e2a909ba",
   "metadata": {},
   "outputs": [
    {
     "name": "stdout",
     "output_type": "stream",
     "text": [
      "6 Found at index 2\n",
      "6 Found at index 4\n",
      "6 is found 2 times\n"
     ]
    }
   ],
   "source": [
    "'''\n",
    "Write  a  program  to  search  for  an  element  in  the  list  and  print  index  of  each  element\n",
    "and  also  number  of  times  it  is  found (Assume  that  list  may  contain  duplicate  elements)\n",
    "\n",
    "List :   [10 , 20 , 15 , 12 , 18 , 15 , 19 , 14 , 15 , 14]\n",
    "\n",
    "Search  for  15\n",
    "\n",
    "Outputs :  15  is  found  at  index  2\n",
    "                 15  is  found  at  index  5\n",
    "                 15  is  found  at  index  8\n",
    "                 15  is  found   3  times\n",
    "'''\n",
    "list=eval(input(\"enter any list: \"))    # [3,2,6,4,6,4,2,1]\n",
    "x= eval(input(\"enter the element to be serached\"))  # 6\n",
    "count=0 # 2\n",
    "\n",
    "for i in range(len(list)):\n",
    "    if list[i]==x:\n",
    "        print(x,\"Found at index\", i)\n",
    "        count+=1\n",
    "        continue\n",
    "print(x, f'is found {count} times')    "
   ]
  },
  {
   "cell_type": "code",
   "execution_count": null,
   "id": "d56ffa9c",
   "metadata": {},
   "outputs": [
    {
     "name": "stdout",
     "output_type": "stream",
     "text": [
      "25\n",
      "25\n",
      "13\n",
      "13\n",
      "13\n",
      "6\n"
     ]
    }
   ],
   "source": [
    "#  Walrus   operator (:=)  demo  program\n",
    "print(a := 25)  # 25\n",
    "#print(a = 25)   # Assigns object 25 to reference a\n",
    "print(a)    # 25\n",
    "print(a := 6 + 7)   # 13\n",
    "print(a)    # 13\n",
    "print((a := 6) + 7) # 13\n",
    "print(a)    # 6\n",
    "print((a = 6) + 7)  # error "
   ]
  },
  {
   "cell_type": "code",
   "execution_count": null,
   "id": "cdb070f9",
   "metadata": {},
   "outputs": [
    {
     "name": "stdout",
     "output_type": "stream",
     "text": [
      "Hyd\n",
      "Sec :  0\n",
      "Hyd\n",
      "Sec\n"
     ]
    }
   ],
   "source": [
    "# Find  outputs  (Home  work)\n",
    "a = 0\n",
    "if  a == 0:\n",
    "\tprint('Hyd')\t# Hyd\n",
    "else:\n",
    "\tprint('Sec')\t# sec\n",
    "if  b := 0:\n",
    "\tprint('Hyd')\t# hyd\n",
    "else:\n",
    "\tprint('Sec : ' , b)\t# sec: 0\n",
    "if  c = 0:\t# assign obj 25 to reference a\n",
    "\tprint('Hyd')\n",
    "else:\n",
    "\tprint('Sec')"
   ]
  },
  {
   "cell_type": "code",
   "execution_count": null,
   "id": "2a6ae7c3",
   "metadata": {},
   "outputs": [
    {
     "name": "stdout",
     "output_type": "stream",
     "text": [
      "Enter input (Ctrl + Z to stop):\n",
      "Invalid input. Please enter a valid number or boolean.\n",
      "Invalid input. Please enter a valid number or boolean.\n"
     ]
    }
   ],
   "source": [
    "'''\n",
    "(Home  work)\n",
    "Write  a  program to  determine  average  of  inputs  which  are  terminated  with  ctrl + z\n",
    "(without  walrus  operator)\n",
    "\n",
    "Let  inputs  be  25 , 10.8 , True ,  ctrl + z\n",
    "\n",
    "sum = 0 + 25 + 10.8 + True = 36.8\n",
    "ctr = 0 + 1 + 1 + 1 = 3\n",
    "\n",
    "1) What  is  ctrl + z ?  ---> End  of  inputs  i.e.  No  more  inputs\n",
    "\n",
    "2) What  does  input()  function  do  when  input  is  ctrl + z ?  ---> Throws  EOFError\n",
    "\n",
    "3) How  is   end  of  inputs  denoted  in  unix ?  ---> ctrl + d\n",
    "\n",
    "Enter input  (ctrl + z  to  stop)  :  25\n",
    "Enter input  (ctrl + z  to  stop)  :  10.8\n",
    "Enter input  (ctrl + z  to  stop)  :  True\n",
    "Enter input  (ctrl + z  to  stop)  :  36.9\n",
    "Enter input  (ctrl + z  to  stop)  :  45\n",
    "Enter input  (ctrl + z  to  stop)  :  False\n",
    "Enter input  (ctrl + z  to  stop)  :  92.8\n",
    "Enter input  (ctrl + z  to  stop)  :  ^Z\n",
    "Average :   30.214285714285715\n",
    "'''\n",
    "\n",
    "total = 0\n",
    "count = 0\n",
    "\n",
    "print(\"Enter input (Ctrl + Z to stop):\")\n",
    "\n",
    "while True:\n",
    "    try:\n",
    "        value = input()\n",
    "        # Evaluate the input to handle numbers, booleans, etc.\n",
    "        value = eval(value)\n",
    "        total += value\n",
    "        count += 1\n",
    "    except EOFError:\n",
    "        break\n",
    "    except:\n",
    "        print(\"Invalid input. Please enter a valid number or boolean.\")\n",
    "\n",
    "# Check if at least one value was entered\n",
    "if count > 0:\n",
    "    average = total / count\n",
    "    print(\"Average:\", average)\n",
    "else:\n",
    "    print(\"No valid inputs entered.\")"
   ]
  },
  {
   "cell_type": "code",
   "execution_count": null,
   "id": "ad2995dc",
   "metadata": {},
   "outputs": [
    {
     "name": "stdout",
     "output_type": "stream",
     "text": [
      "25\n"
     ]
    }
   ],
   "source": [
    "#  del  operator  demo program  (Home  work)\n",
    "a = 25\n",
    "print(a)    # 25\n",
    "del   a\n",
    "print(a)    # error"
   ]
  },
  {
   "cell_type": "code",
   "execution_count": null,
   "id": "6e74ef28",
   "metadata": {},
   "outputs": [
    {
     "name": "stdout",
     "output_type": "stream",
     "text": [
      "25 25 25\n",
      "25 25\n",
      "25\n"
     ]
    }
   ],
   "source": [
    "# Find  outputs  (Home  work)\n",
    "a = b = c = 25\n",
    "print(a , b , c)    # 25 25 25\n",
    "del   a\n",
    "print(b , c)    # 25 25\n",
    "print(a)    # error\n",
    "del   b\n",
    "print(c)    # 25\n",
    "print(b)    # error\n",
    "del   c\n",
    "print(c)    # error"
   ]
  },
  {
   "cell_type": "code",
   "execution_count": null,
   "id": "738bed19",
   "metadata": {},
   "outputs": [
    {
     "name": "stdout",
     "output_type": "stream",
     "text": [
      "25 10.8 Hyd\n"
     ]
    }
   ],
   "source": [
    "#  Can  multiple  objects  be  deleted  with  same  del  operator ?\n",
    "a , b , c = 25 , 10.8 , 'Hyd'\n",
    "print(a , b , c)    # 25  10.8  'Hyd'\n",
    "del   a , b , c \n",
    "print(a)    # error\n",
    "print(b)    # error\n",
    "print(c)    # error"
   ]
  },
  {
   "cell_type": "code",
   "execution_count": null,
   "id": "de8798d1",
   "metadata": {},
   "outputs": [
    {
     "name": "stdout",
     "output_type": "stream",
     "text": [
      "[10, 20, 15, 18]\n",
      "[10, 20, 18]\n"
     ]
    }
   ],
   "source": [
    "# Find outputs  (Home  work)\n",
    "a = [10 , 20 , 15 , 18]\n",
    "print(a)    # [10 , 20 , 15 , 18]\n",
    "del  a[2]   # 15 is deleted\n",
    "print(a)    #  [10 , 20 , 18]\n",
    "del  a  #  entire list will be deleted\n",
    "print(a)    # error\n",
    "print(a[0]) # error"
   ]
  },
  {
   "cell_type": "code",
   "execution_count": null,
   "id": "909ad19c",
   "metadata": {},
   "outputs": [
    {
     "name": "stdout",
     "output_type": "stream",
     "text": [
      "(10, 20, 15, 18)\n",
      "10\n"
     ]
    }
   ],
   "source": [
    "# Find outputs  (Home work)\n",
    "a = (10 , 20 , 15 , 18)\n",
    "print(a)    # (10 , 20 , 15 , 18)\n",
    "print(a[0]) # 10\n",
    "#del  a[2]   # Error bcz tuple doesnt support single element deletion\n",
    "del  a  # whole tuple is deleted\n",
    "print(a)    # error\n",
    "print(a[0]) # error"
   ]
  },
  {
   "cell_type": "markdown",
   "id": "c0559d59",
   "metadata": {},
   "source": [
    "6/08/25\n"
   ]
  },
  {
   "cell_type": "code",
   "execution_count": null,
   "id": "6c9bf9cf",
   "metadata": {},
   "outputs": [
    {
     "data": {
      "text/plain": [
       "\"try:\\n    sum = ctr = 0\\n    while True:\\n        sum += (x := eval(input('Enter input (ctrl + z to stop): ')))\\n        ctr += 1\\nexcept EOFError:\\n    try:\\n        print(f'Average : {sum / ctr}')\\n    except ZeroDivisionError:\\n        print('Enter at least one input')\\nexcept (NameError, TypeError):\\n    print('Input cannot be string')\""
      ]
     },
     "execution_count": 2,
     "metadata": {},
     "output_type": "execute_result"
    }
   ],
   "source": [
    "try:\n",
    "    sum = ctr = 0\n",
    "    while True:\n",
    "        sum += (x := eval(input('Enter input (ctrl + z to stop): ')))\n",
    "        ctr += 1\n",
    "except EOFError:\n",
    "    try:\n",
    "        print(f'Average : {sum / ctr}')\n",
    "    except ZeroDivisionError:\n",
    "        print('Enter at least one input')\n",
    "except (NameError, TypeError):\n",
    "    print('Input cannot be string')\n"
   ]
  },
  {
   "cell_type": "markdown",
   "id": "457917df",
   "metadata": {},
   "source": [
    "7/08/25"
   ]
  },
  {
   "cell_type": "code",
   "execution_count": null,
   "id": "f69041e8",
   "metadata": {},
   "outputs": [],
   "source": [
    "'''\n",
    "Write  a  program  to  determine  largest  command  line  input\n",
    "\n",
    "1) py   prog2.py   10     20     30.8   7  40    35.6\n",
    "    What  is  the  largest  command  line  input ?  ---> 40\n",
    "    What  is  argv ?  --->  ['prog2.py' , '10' , '20' , '30.8' , '7' , '40' , '35.6']\n",
    "    What  is  list  'a' ?  --->  [10 , 20 , 30.8 , 7 , 40 , 35.6]\n",
    "    How  to  determine  largest  element  of  list  'a' ?   ---> max(a)  i.e.  40\n",
    "    What  is  the  result  of  max(argv[1:]) ?  ---> '7'\n",
    "    What  is  the  issue  with  max(argv[1:])) ?  --->\n",
    "\t\t\t\t\t\t\t\t\t\t\tLargest  string  is  obtained  but  not  largest  number\n",
    "\n",
    "2) py  prog2.py\n",
    "    What  is  the  output ?  ---> Pls  send  inputs\n",
    "\n",
    "3) py   prog2.py   'Rama'   'Sita'   'Rajesh'   'Manohar'   'Vamsi'   'Amar'\n",
    "    What  is  the  largest  command  line  input ?  --->  'Vamsi'\n",
    "\n",
    "4) py   prog2.py   25   'Ten'\n",
    "    What  is  the  output ?  --->  Inputs  can  not  be  number  and  string\n",
    "\n",
    "5) Hint1: Use  for  loop\n",
    "\n",
    "6) Hint2: Use  try  and  except\n",
    "'''\n",
    "import sys\n",
    "\n",
    "a = sys.argv[1:]  # command line inputs\n",
    "\n",
    "if len(a) == 0:\n",
    "    print(\"Pls send inputs\")\n",
    "elif all(x.replace('.', '', 1).isdigit() for x in a):  # all numbers\n",
    "    largest = float(a[0])\n",
    "    for val in a[1:]:\n",
    "        if float(val) > largest:\n",
    "            largest = float(val)\n",
    "    print(\"Largest command line input:\", largest)\n",
    "elif all(x.isalpha() for x in a):  # all words\n",
    "    largest = a[0]\n",
    "    for val in a[1:]:\n",
    "        if val > largest:\n",
    "            largest = val\n",
    "    print(\"Largest command line input:\", largest)\n",
    "else:\n",
    "    print(\"Inputs can not be number and string\")\n"
   ]
  },
  {
   "cell_type": "code",
   "execution_count": null,
   "id": "13636915",
   "metadata": {},
   "outputs": [],
   "source": [
    "'''\n",
    "Write  a  program  to  determine  command  line  input  is  even  number  or  odd  number\n",
    "\n",
    "1) py  prog3.py  26\n",
    "    What  is  the  output ?  ---> Even  number\n",
    "\n",
    "2) py  prog3.py  45\n",
    "    What  is  the  output ?  ---> Odd  number\n",
    "\n",
    "3) py  prog3.py\n",
    "    What  is  the  output  ?  ---> Pls  send  an  integer  input\n",
    "\n",
    "4) py  prog3.py  10.8\n",
    "    What  is  the  output ?  --->  Pls  send   an  integer  input\n",
    "\n",
    "5) py  prog3.py  Ten\n",
    "    What  is  the  output  ?  --->  Pls  send   an  integer  input\n",
    "'''\n",
    "import sys\n",
    "\n",
    "if len(sys.argv) != 2:\n",
    "    print(\"Pls send an integer input\")\n",
    "else:\n",
    "    try:\n",
    "        n = int(sys.argv[1])\n",
    "        print(\"Even number\" if n % 2 == 0 else \"Odd number\")\n",
    "    except ValueError:\n",
    "        print(\"Pls send an integer input\")\n"
   ]
  },
  {
   "cell_type": "code",
   "execution_count": null,
   "id": "2414c141",
   "metadata": {},
   "outputs": [],
   "source": [
    "'''\n",
    "Write  a  program  to  determine  average  of  command  line  inputs\n",
    "\n",
    "1) py   prog4.py   10.8   25   True   14.6   19   False   7.4\n",
    "    What  is  argv ?  --->['prog4.py' , '10.8' , '25' , 'True' , '14.6' , '19' , 'False' , '7.4']\n",
    "    What  is  list  'a'  ?  ---> \t[10.8 , 25 , True , 14.6 , 19 , False , 7.4]\n",
    "\tHow  to  determine  sum  of  list  elements ?  ---> sum(a)\n",
    "    How  to  determine  number  of  list  elements ?  ---> len(a)\n",
    "\n",
    "2) py   prog4.py\n",
    "    What  is  the  output ?  ---> Pls  send  number  inputs\n",
    "\n",
    "3) py   prog4.py  25   'Ten'\n",
    "    What  is  the  output  ?  --->  Pls  send  number  inputs\n",
    "'''\n",
    "import sys\n",
    "\n",
    "args = sys.argv[1:]  # skip script name\n",
    "\n",
    "if len(args) == 0:\n",
    "    print(\"Pls send number inputs\")\n",
    "else:\n",
    "    try:\n",
    "        nums = [float(x) for x in args]  # convert all to numbers\n",
    "        avg = sum(nums) / len(nums)\n",
    "        print(\"Average:\", avg)\n",
    "    except ValueError:\n",
    "        print(\"Pls send number inputs\")\n"
   ]
  },
  {
   "cell_type": "code",
   "execution_count": null,
   "id": "c52b7d12",
   "metadata": {},
   "outputs": [],
   "source": [
    "'''\n",
    "Write  a  program  to  sort  command  line  inputs  in  ascending  order  and  descending  order\n",
    "\n",
    "1) py  prog5.py  10   20    15.8   5   12.6\n",
    "    What  is  argv ?  ---> ['prog5.py' , '10' , '20' , '15.8' , '5' , '12.6']\n",
    "    What  is  list  'a' ?  --->  [10 , 20 , 15.8 , 5 , 12.6]\n",
    "    How  to  sort  list  'a' ?  --->  sorted(a)\n",
    "    How  to  sort  list  'a'  in  descending  order  ?  ---> sorted(a , reverse = True)\n",
    "\n",
    "2) py  prog5.py   25   'Ten'\n",
    "    What  is  the  output ?  --->  Pls  don't  send  number  and  string  inputs  together\n",
    "'''\n",
    "import sys\n",
    "\n",
    "args = sys.argv[1:]\n",
    "\n",
    "if not args:\n",
    "    print(\"Pls send number inputs\")\n",
    "else:\n",
    "    try:\n",
    "        nums = [float(x) for x in args]\n",
    "        print(\"Ascending:\", sorted(nums))\n",
    "        print(\"Descending:\", sorted(nums, reverse=True))\n",
    "    except ValueError:\n",
    "        if all(x.isalpha() for x in args):\n",
    "            print(\"Ascending:\", sorted(args))\n",
    "            print(\"Descending:\", sorted(args, reverse=True))\n",
    "        else:\n",
    "            print(\"Pls don't send number and string inputs together\")\n"
   ]
  },
  {
   "cell_type": "code",
   "execution_count": 3,
   "id": "a92d43e1",
   "metadata": {},
   "outputs": [
    {
     "name": "stdout",
     "output_type": "stream",
     "text": [
      "True\n",
      "True\n",
      "False\n",
      "True\n",
      "False\n",
      "True\n",
      "False\n"
     ]
    }
   ],
   "source": [
    "# Find outputs  (Home  work)\n",
    "print( 'green'   in   'Hyd  is  green  city')   #True\n",
    "print('day'   in   'Sankar  dayal  sarma')  # True\n",
    "print('Green'   in   'Hyd  is  green  city')    # False\n",
    "print('d  is'   in   'Hyd  is  green  city')    # True\n",
    "print('dis'   in   'Hyd  is  green  city')  # False\n",
    "print('iniv'   in   'Srinivas') # True\n",
    "print('iniv'   not   in   'Srinivas')   # False"
   ]
  },
  {
   "cell_type": "code",
   "execution_count": null,
   "id": "b7fff427",
   "metadata": {},
   "outputs": [
    {
     "name": "stdout",
     "output_type": "stream",
     "text": [
      "Rm a\n",
      "Rama Ra\n",
      "ma\n",
      "ma Rao\n",
      "Rama\n",
      "Rm a\n",
      "ma Ra\n",
      "ma Rao\n",
      "oaR\n",
      "Ra\n",
      "Rao\n",
      "Rama Rao\n",
      "Rama Rao\n",
      "oaR amaR\n",
      "oRaa\n",
      "a mR\n",
      "ma Rao\n",
      "\n",
      "oaR a\n",
      "ma \n",
      "aaR\n",
      "o\n",
      "m\n",
      "m\n",
      "oaR ama\n",
      "aa\n"
     ]
    }
   ],
   "source": [
    "'''  (Home  work)\n",
    "Slice  demo  program\n",
    "0      1       2        3      4       5       6       7\n",
    "R      a      m        a               R       a       o\n",
    "-8    -7     -6      -5     -4      -3     -2      -1\n",
    "'''\n",
    "a = 'Rama Rao'\n",
    "print(a [ : 7 : 2]) #Rm a\n",
    "print(a [ : 7]) # RAMA Ra\n",
    "print(a [2 : 4])    # ma\n",
    "print(a [2 : ]) # ma Rao\n",
    "print(a [ : 4 ])    # Rama\n",
    "print(a [ : : 2])   # Rm a\n",
    "print(a [-6 : -1])  # ma ra\n",
    "print(a [-6 : ])    #ma Rao\n",
    "print(a [: -4 : -1])    # oaR\n",
    "print(a [-3 : -1]) #  a[-3 : -1 : 1]  --->  string  from  indexes  -3  to  -2  in  steps  of  1  i.e.  Ra\n",
    "print(a [-3 : ])    # Rao\n",
    "print(a [ : : ])    # Rama Rao\n",
    "print(a [ : ])  # Rama Rao\n",
    "print(a [ : : -1])  # oaR amaR\n",
    "print(a [ : : -2])  # oRaa\n",
    "print(a [ -2 : : -2])  #  a[-2 : -9 : -2]  --->  string  from  indexes  -2  to  -8  in  steps  of  -2  i.e.  a<space>mR\n",
    "print(a [2 : 8])    #ma Rao\n",
    "print(a [2 : 8 : -1])   # nothing\n",
    "print(a [ : -6 : -1])   #oaR a\n",
    "print(a [2 : -3])   # ma \n",
    "print(a [1 : 6 : 2])    # aaR\n",
    "print(a [ : -5 : -5])   # 9\n",
    "print(a [2 : -5])   # m\n",
    "print(a [2 : -5 : 2])   # m\n",
    "print(a [ : 0 : -1])    # oaR ama\n",
    "print(a [-5 : 0 : -2])  # aa"
   ]
  },
  {
   "cell_type": "code",
   "execution_count": null,
   "id": "2ab0cefc",
   "metadata": {},
   "outputs": [
    {
     "name": "stdout",
     "output_type": "stream",
     "text": [
      "Input should be a min of 2-char string\n"
     ]
    }
   ],
   "source": [
    "'''\n",
    "Write  a  program  to  concatenate  two  strings  separated  by  space  but  swap  first  two\n",
    "characters  of  the  two  strings.\n",
    "Assume  that  each  string  has  a   minimum  of  two  characters\n",
    "\n",
    "Let  inputs  be  Java  and  Python\n",
    "What  are  the  outputs ?  --->  Pyva<space>Jathon\n",
    "\n",
    "Hint:  Use  slice\n",
    "\n",
    "Enter first string: Java\n",
    "Enter second string: Python\n",
    "Result  :   Pyva Jathon\n",
    "\n",
    "Enter first string: A\n",
    "Enter second string: HYD\n",
    "Input  should  be  a  min  of  2-char  string\n",
    "'''\n",
    "try:\n",
    "    st1=input(\"Enter first string: \")\n",
    "    st2=input(\"Enter second string: \")\n",
    "    st3=st2[:2]+st1[2:]\n",
    "    st4=st1[:2]+st2[2:]\n",
    "    print(f'Result: {st3} {st4}')\n",
    "except:\n",
    "    print(\"Input should be a min of 2-char string\")\n",
    "\n",
    "    ## OR\n",
    "''' \n",
    "st1=input(\"Enter first string: \")\n",
    "st2=input(\"Enter second string: \")\n",
    "if len(st1)<2 or len(st2)<2:\n",
    "    print(\"Input should be a min of 2-char string\")\n",
    "else:\n",
    "    st3=st2[:2]+st1[2:]\n",
    "    st4=st1[:2]+st2[2:]\n",
    "    print(f'Result: {st3} {st4}')\n",
    "'''\n"
   ]
  },
  {
   "cell_type": "code",
   "execution_count": 5,
   "id": "c074e56d",
   "metadata": {},
   "outputs": [
    {
     "name": "stdout",
     "output_type": "stream",
     "text": [
      "Pyon\n"
     ]
    }
   ],
   "source": [
    "'''\n",
    "Write  a  program  to  print  first  two  and  the  last  two  characters  of  the  string\n",
    "Print  an  empty  string  if  string  has  less  than  four  characters\n",
    "\n",
    "1) Let  input  be  PYTHON\n",
    "    What  is  the  output ?  ---> PYON\n",
    "\n",
    "2) Let  input  be  Hyd\n",
    "    What  is  the  output ?  --->  Nothing\n",
    "'''\n",
    "st=input(\" Enter first string: \")\n",
    "if len(st)<4 :\n",
    "    print()\n",
    "else:\n",
    "    print(st[:2]+st[-2:])\n"
   ]
  },
  {
   "cell_type": "code",
   "execution_count": 20,
   "id": "475897dd",
   "metadata": {},
   "outputs": [
    {
     "name": "stdout",
     "output_type": "stream",
     "text": [
      "Character at index 0: V\n",
      "Character at index 1: A\n",
      "Character at index 2: M\n",
      "Character at index 3: S\n",
      "Character at index 4: I\n",
      "\n",
      "Character at index -1: I \n",
      "Character at index -2: S \n",
      "Character at index -3: M \n",
      "Character at index -4: A \n",
      "Character at index -5: V \n"
     ]
    }
   ],
   "source": [
    "'''\n",
    "Write  a  program  to  print  characters  of  the  string  in  forward  and  reverse\n",
    "directions  without  slice\n",
    "\n",
    "       \t     \t\t 0      1     2      3     4\n",
    "Let  input  be\t\t  V     A     M     S     I\n",
    "\t\t\t         -5    -4    -3    -2    -1\n",
    "\n",
    "What  are  the  outputs ?  --->  Character  at  index  0  :  V\n",
    "\t\t\t\t\t\t\t\t                 Character  at  index  1  :  A\n",
    "\t\t\t\t\t\t\t\t                 Character  at  index  2  :  M\n",
    "\t\t\t\t\t\t\t                     Character  at  index  3  :  S\n",
    "\t\t\t\t\t\t\t\t                 Character  at  index  4  :  I\n",
    "\n",
    "\t\t\t\t\t\t\t\t                 Character  at  index  -1  :  I\n",
    "\t\t\t\t\t\t\t\t                 Character  at  index  -2  :  S\n",
    "\t\t\t\t\t\t\t\t                 Character  at  index  -3  :  M\n",
    "\t\t\t\t\t\t\t\t                 Character  at  index  -4  :  A\n",
    "\t\t\t\t\t\t\t\t                 Character  at  index  -5  :  V\n",
    "\n",
    "Hint:  Use  two  for  loops\n",
    "'''\n",
    "st=input(\"Enter a string: \")\n",
    "for i in range(len(st)):\n",
    "    print(f'Character at index {i}: {st[i]}')\n",
    "print()\n",
    "for i in range(-1, -len(st)-1,-1):\n",
    "    print(f'Character at index {i}: {st[i]} ')\n"
   ]
  },
  {
   "cell_type": "code",
   "execution_count": 22,
   "id": "975223ec",
   "metadata": {},
   "outputs": [
    {
     "name": "stdout",
     "output_type": "stream",
     "text": [
      "String at even indexes: RM A\n",
      "String at odd indexes: AARO\n"
     ]
    }
   ],
   "source": [
    "'''\n",
    "Write  a  program  to  print  characters  at  even  and  odd  indexes  without  slice\n",
    "\n",
    "\t\t\t\t\t  0      1     2      3     4       5     6      7\n",
    "Let  input  be        R      a     m      a             R     a      o\n",
    "\n",
    "odd =  '' + 'a' + 'a' + 'R' + 'o' = 'aaRo'\n",
    "even =   '' + 'R' + 'm' + ' '  + 'a' = 'Rm a'\n",
    "\n",
    "1) What  action  to  be  made  when  index  is  even ?  --->\n",
    "\t\t\t\t\t\t\t\tConcatenate  the  character  to  even  object\n",
    "\n",
    "2) What  action  to  be  made  when  index  is  odd ?  --->\n",
    "\t\t\t\t\t\t\t\tConcatenate  the  characeter  to  odd  object\n",
    "\n",
    "3) Hint: Use  single  for  loop\n",
    "\n",
    "Enter  any  string  :  RAMA RAO\n",
    "String  at  even  indexes  : RM A\n",
    "String  at  odd  indexes  : AARO\n",
    "'''\n",
    "st=input(\"Enter string: \")\n",
    "even=''\n",
    "odd=''\n",
    "for i in range(len(st)):\n",
    "    if i%2==0:\n",
    "        even+=(st[i])\n",
    "    else:\n",
    "        odd+=(st[i])\n",
    "        \n",
    "print(f'String at even indexes: {even}')\n",
    "print(f'String at odd indexes: {odd}')\n",
    "        \n",
    "\n"
   ]
  },
  {
   "cell_type": "code",
   "execution_count": 26,
   "id": "cf50c32a",
   "metadata": {},
   "outputs": [
    {
     "name": "stdout",
     "output_type": "stream",
     "text": [
      "Result:  AAAABBBCC$$$$$\n"
     ]
    }
   ],
   "source": [
    "'''\n",
    "Let  input  be    A   4   B   3   C   2   $   5\n",
    "                         0   1    2   3   4   5   6   7\n",
    "\n",
    "What  is  the  output ?  --->  AAAABBBCC$$$$$\n",
    "\n",
    "1) What  is  the  result  of  'A' * 4  ?  ---> 'AAAA'\n",
    "\n",
    "2)  i        a[i]       a[i + 1]          out\n",
    "   -------------------------------------------------------\n",
    "                                               ''\n",
    "     0        'A'          '4'            '' + 'A' * 4 = 'AAAA'\n",
    "\n",
    "\t 2        'B'          '3'            'AAAA' + 'B' * 3 = 'AAAA' + 'BBB' = 'AAAABBB'\n",
    "\n",
    "\t 4        'C'          '2'            'AAAABBB' + 'C' * 2 = 'AAAABBB' + 'CC' = 'AAAABBBCC'\n",
    "\n",
    "\t 6        '$'          '5'            'AAAABBBCC' + '$' * 5 = 'AAAABBBCC' + '$$$$$' = 'AAAABBBCC$$$$$'\n",
    "   -------------------------------------------------------\n",
    "What  is  the  difference  between  a[i]   and  a[i + 1] ?  --->\n",
    "\t\t\t\t\t\t\t\ta[i]  is  ith  char  of  string  and  a[i + 1]  is  (i + 1)th  char  of  string\n",
    "\n",
    "Enter  any  string  with  alternate  character  and  digit :  A4B3C2$5\n",
    "Result :   AAAABBBCC$$$$$\n",
    "\n",
    "Enter  any  string  with  alternate  character  and  digit :  HYD\n",
    "String   should  have  alternate  character  and  digit\n",
    "'''\n",
    "#st=input(\"Enter  any  string  with  alternate  character  and  digit : \")\n",
    "st='A4B3C2$5'\n",
    "res=''\n",
    "p='' \n",
    "i=0\n",
    "while i<len(st):\n",
    "   if st[i]>='0' and st[i]<='9':\n",
    "      res+=p*int(st[i])\n",
    "   else:\n",
    "      p=st[i]\n",
    "   i+=1\n",
    "print('Result: ',res)"
   ]
  },
  {
   "cell_type": "code",
   "execution_count": 3,
   "id": "77a74984",
   "metadata": {},
   "outputs": [
    {
     "name": "stdout",
     "output_type": "stream",
     "text": [
      "Result: SHAYIDRAM\n"
     ]
    }
   ],
   "source": [
    "'''\n",
    "Write  a  program  to  merge  two  strings  to  form  a  new  string\n",
    "\n",
    "1) Let  inputs  be    HYD   and   VAMSI\n",
    "   What  is  the  output  ?  --->  HVYADMSI\n",
    "\n",
    "         0     1    2\n",
    "a  --->   H     Y    D\n",
    "\n",
    "           0    1     2     3    4\n",
    "b  --->    V    A    M    S    I\n",
    "\n",
    "\n",
    "i       a[i]        b[i]          c\n",
    "--------------------------------------------------------\n",
    "                                    ''\n",
    "0      'H'        'V'          '' + 'H' + 'V' = 'HV'\n",
    "\n",
    "1      'Y'        'A'          'HV' + 'Y' + 'A' = 'HVYA'\n",
    "\n",
    "2      'D'       'M'          'HVYA' + 'D' + 'M' = 'HVYADM'\n",
    "--------------------------------------------------------\n",
    "Concatenate  remainging  characters   of  the  other  string  to  object  'c'\n",
    "What  is  the  final  result ?  --->  'HVYADMSI'\n",
    "\n",
    "Hint:  Use  single  while  loop  and  slice\n",
    "\n",
    "Enter  first  string  :  HYD\n",
    "Enter  second  string  :  VAMSI\n",
    "Result  :   HVYADMSI\n",
    "\n",
    "Enter  first  string  :  SAIRAM\n",
    "Enter  second  string  :  HYD\n",
    "Result  :   SHAYIDRAM\n",
    "'''\n",
    "\n",
    "st1=input(\"Enter first string: \")\n",
    "st2=input(\"Enter second string: \")\n",
    "res=''\n",
    "i=0\n",
    "while i<len(st1) or i<len(st2):\n",
    "   if i<len(st1) and i<len(st2):\n",
    "      res+=st1[i]+st2[i]\n",
    "   elif i<len(st1):\n",
    "      res+=st1[i]\n",
    "   elif i<len(st2):\n",
    "      res+=st2[i] \n",
    "   i+=1 \n",
    "print(f'Result: {res}')       \n",
    "    "
   ]
  },
  {
   "cell_type": "code",
   "execution_count": 4,
   "id": "eb865e3b",
   "metadata": {},
   "outputs": [
    {
     "name": "stdout",
     "output_type": "stream",
     "text": [
      "String without duplicates: MISP\n"
     ]
    }
   ],
   "source": [
    "'''\n",
    "Write  a  program  to  remove  duplicate  characters  of  the  string  without  using  set\n",
    "\n",
    "1) Let  input  be   RAMA  RAO\n",
    "   What  is  the  output ? ---> RAM<space>O\n",
    "\n",
    "2) out = '' + 'R' = 'R' + 'A' = 'RA' + 'M' = 'RAM' + ' ' = 'RAM ' + 'O' = 'RAM O'\n",
    "\n",
    "3) What  action  to  be  made  if  the  character  is  not  in  out  object ?  --->\n",
    "\t\t\t\t\t\t\t\t\t\t\t\t\t\t\t\t\tConcatenate  the  character  to  out  object\n",
    "\n",
    "4) What  action  to  be  made  if  the  character  is  already  in  out  object ?  --->\n",
    "\t\t\t\t\t\t\t\t\t\t\t\t\t\t\t\t\t\t\t\t\t\t\tIgnore  the  character\n",
    "\n",
    "5) Hint:  Use  not  in   operator\n",
    "\n",
    "Enter  any  string  :  MISSISIPI\n",
    "String  without  duplicates  :    MISP\n",
    "'''\n",
    "st=input(\"Enter any string: \")\n",
    "res=''\n",
    "for i in st:\n",
    "    if i not in res:\n",
    "        res+=i\n",
    "print(f'String without duplicates: {res}')"
   ]
  },
  {
   "cell_type": "code",
   "execution_count": null,
   "id": "1e198d4f",
   "metadata": {},
   "outputs": [
    {
     "name": "stdout",
     "output_type": "stream",
     "text": [
      "3\n",
      "8\n",
      "4\n",
      "3\n",
      "0\n",
      "1\n",
      "3\n"
     ]
    },
    {
     "data": {
      "text/plain": [
       "'\\nWhat  does  len(str)  do  ?  --->  Returns  number  of  characters  in  the  string\\n'"
      ]
     },
     "execution_count": 7,
     "metadata": {},
     "output_type": "execute_result"
    }
   ],
   "source": [
    "# len()  function  demo  program  (Home  work)\n",
    "print(len('Hyd'))  #  3\n",
    "print(len('Rama Rao'))  # 8\n",
    "print(len('9247'))  # 4\n",
    "print(len('+-$'))   # 3\n",
    "print(len(''))  #0\n",
    "print(len(' ')) # 1\n",
    "print(len('A2#'))   # 3\n",
    "print(len(3456))    # error\n",
    "print('Sec'. len()) # error\n",
    "\n",
    "\n",
    "'''\n",
    "What  does  len(str)  do  ?  --->  Returns  number  of  characters  in  the  string\n",
    "'''"
   ]
  },
  {
   "cell_type": "code",
   "execution_count": null,
   "id": "4578e560",
   "metadata": {},
   "outputs": [
    {
     "name": "stdout",
     "output_type": "stream",
     "text": [
      "A\n",
      "Z\n",
      "a\n",
      "z\n",
      "0\n",
      "9\n",
      "$\n",
      " \n"
     ]
    },
    {
     "data": {
      "text/plain": [
       "'\\nWhat  does  chr()  function  do ?  --->  Converts  unicode  value  to  character\\n'"
      ]
     },
     "execution_count": 8,
     "metadata": {},
     "output_type": "execute_result"
    }
   ],
   "source": [
    "# chr()  function  demo  program\n",
    "print(chr(65))  #   Converts  unicode  value  65  to  'A'\n",
    "print(chr(90))  # Z\n",
    "print(chr(97))  # a\n",
    "print(chr(122)) # z\n",
    "print(chr(48))  # 0\n",
    "print(chr(57))  # 9\n",
    "print(chr(36))  # $\n",
    "print(chr(32))  # <space>\n",
    "\n",
    "'''\n",
    "What  does  chr()  function  do ?  --->  Converts  unicode  value  to  character\n",
    "'''"
   ]
  },
  {
   "cell_type": "code",
   "execution_count": null,
   "id": "3b97c110",
   "metadata": {},
   "outputs": [],
   "source": [
    "# ord()  function  demo  program\n",
    "print(ord('A'))  #  Converts  'A'  to  unicode  value  65\n",
    "print(ord('Z'))     #  90\n",
    "print(ord('a'))     # 97\n",
    "print(ord('z'))     # 122\n",
    "print(ord('0'))     # 48\n",
    "print(ord('9'))     #57\n",
    "print(ord('$'))     # 36\n",
    "print(ord(' '))     # 32\n",
    "\n",
    "\n",
    "\n",
    "'''\n",
    "ord()  function\n",
    "------------------\n",
    "1) What  does  ord()  function  do ?  ---> Converts  character  to  unicode  value\n",
    "\n",
    "2) How  many  unicode  values  exist ?  ---> 512\n",
    "\n",
    "3) What  is  the  range  of  unicode  values ?  ---> 0  to  511\n",
    "\n",
    "4) What  are  the  unicode  values  of  'A'  -  'Z' ?  ---> 65  to  90\n",
    "     What  are  the  unicode  values  of  'a'  -  'z' ?  ---> 97  to  122\n",
    "     What  are  the  unicode  values  of  '0'  -  '9' ?  ---> 48  to  57\n",
    "\n",
    "5) What  is  another  name  of  unicode ?  ---> Extended  Ascii\n",
    "\n",
    "Note:  chr()  and  ord()  are  quite  opposite  functions\n",
    "'''"
   ]
  },
  {
   "cell_type": "code",
   "execution_count": 4,
   "id": "0619f790",
   "metadata": {},
   "outputs": [
    {
     "name": "stdout",
     "output_type": "stream",
     "text": [
      "Result: AEMPZ_DF\n"
     ]
    }
   ],
   "source": [
    "'''\n",
    "Let  input  be  A4M3Z5D2\n",
    "\n",
    "What  is  the  output ?  --->  AEMPZ_DF\n",
    "\n",
    " 0     1     2     3    4    5    6     7\n",
    " A    4     M    3    Z    5    D     2\n",
    "\n",
    "\n",
    "   i       a[i]      a[i + 1]         out\n",
    "--------------------------------------------------------------------------------\n",
    "                                          ''\n",
    "  0       'A'           '4'          '' + 'A' + chr(65 + 4) = '' + 'A' + 'E' = 'AE'\n",
    "\n",
    "  2       'M'           '3'          'AE' + 'M' + chr(77 + 3) = 'AE' + 'M' + 'P' = 'AEMP'\n",
    "\n",
    "  4       'Z'           '5'          'AEMP' + 'Z' + chr(90 + 5) = 'AEMP' + 'Z' + '_' = 'AEMPZ_'\n",
    "\n",
    "  6       'D'           '2'          'AEMPZ_' + 'D' + chr(68 + 2) = 'AEMPZ_' + 'D' + 'F' = 'AEMPZ_DF'\n",
    "-----------------------------------------------------------------------------------\n",
    "Hint: Use  chr()  and  ord()  functions\n",
    "\n",
    "Enter  any  string  with  alternate  character  and  digit  :  A4M3Z5D2\n",
    "Result  :   AEMPZ_DF\n",
    "\n",
    "Enter  any  string  with  alternate  character  and  digit  :  HYD\n",
    "Pls  enter  string  with  alternate  char  and  digit\n",
    "'''\n",
    "st=input(\"Enter any string with alternate character and digit: \")\n",
    "i=0\n",
    "res=''\n",
    "while i<len(st):\n",
    "  res+=st[i]+chr(ord(st[i])+int(st[i+1]))\n",
    "  i+=2\n",
    "print(f'Result: {res}')"
   ]
  },
  {
   "cell_type": "markdown",
   "id": "47b5ee5a",
   "metadata": {},
   "source": [
    "13/08/2025"
   ]
  },
  {
   "cell_type": "code",
   "execution_count": null,
   "id": "b13f85b1",
   "metadata": {},
   "outputs": [],
   "source": [
    "'''\n",
    "Write  a  program  to  print  distinct  vowels  of  the  string  without  using  set\n",
    "\n",
    "1) Let  input  be   RaMA  rAo\n",
    "    What  is  the  output ?  ---> AO\n",
    "\n",
    "2) Hint  1:  Same  as   prog3e  with  minor  changes\n",
    "\n",
    "3) What  does  'hyd' . upper()  do ? --->  Returns  'HYD'\n",
    "'''inp=input(\"Enter an string :\").upper()\n",
    "result=''\n",
    "for i in inp:\n",
    "    if  i=='A' or i=='E' or i=='I' or i=='O' or i=='U':\n",
    "        if i not in result:\n",
    "            result+=i\n",
    "print(result)"
   ]
  }
 ],
 "metadata": {
  "kernelspec": {
   "display_name": "Python 3",
   "language": "python",
   "name": "python3"
  },
  "language_info": {
   "codemirror_mode": {
    "name": "ipython",
    "version": 3
   },
   "file_extension": ".py",
   "mimetype": "text/x-python",
   "name": "python",
   "nbconvert_exporter": "python",
   "pygments_lexer": "ipython3",
   "version": "3.12.10"
  }
 },
 "nbformat": 4,
 "nbformat_minor": 5
}

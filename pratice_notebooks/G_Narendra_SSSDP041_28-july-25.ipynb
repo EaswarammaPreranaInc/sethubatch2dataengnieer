{
 "cells": [
  {
   "cell_type": "raw",
   "id": "c77048a6-e691-4bef-b7ac-3e7359e89e1f",
   "metadata": {},
   "source": [
    "'''\n",
    "## Write  a  program  to  add ,  subtract , multiply  and  divide  two  complex  numbers\n",
    "\n",
    "First  complex  number   --->  3 + 4j /n\n",
    "2nd   complex  number   --->  5 + 6j\n",
    "What  is  the  sum ? ---> (3 + 4j) + (5 + 6j) = 8 + 10j\n",
    "What  is  the  difference ?  ---> (3 + 4j) - (5 + 6j) =  -2 - 2j\n",
    "What  is  the  product ?  ---> (3 + 4j) * (5 + 6j) =  15 + 18j + 20j - 24 =  -9 + 38j\n",
    "\n",
    "\n",
    "What  is  the  division ?  ---> (3 + 4j) / (5 + 6j) = (3 + 4j) * (5 - 6j) / (5 + 6j) * (5 -6j)\n",
    "                                                                         =   (15 - 18j + 20j + 24) / (25 + 36)\n",
    "\t\t\t\t\t\t\t\t\t\t\t\t\t\t\t\t\t\t = 39 / 61 + 2j / 61\t\t\t\t\t\t\t\t\t\t\t   \n",
    "'''"
   ]
  },
  {
   "cell_type": "code",
   "execution_count": 5,
   "id": "458cf036-3c76-4364-81bc-f199f4cbd08a",
   "metadata": {},
   "outputs": [
    {
     "name": "stdin",
     "output_type": "stream",
     "text": [
      "Enter first complex number :  3+4j\n",
      "Enter first complex number :  5+6j\n"
     ]
    },
    {
     "name": "stdout",
     "output_type": "stream",
     "text": [
      "sum : (8+10j)\n",
      "Difference : (-2-2j)\n",
      "Product : (-9+38j)\n",
      "Division : (0.6393442622950819+0.03278688524590165j)\n"
     ]
    }
   ],
   "source": [
    "a = complex(input('Enter first complex number : '))\n",
    "b = complex(input('Enter first complex number : '))\n",
    "\n",
    "print(f'sum : {(a+b)}')\n",
    "print(f'Difference : {(a-b)}')\n",
    "print(f'Product : {(a*b)}')\n",
    "print(f'Division : {(a/b)}')"
   ]
  },
  {
   "cell_type": "code",
   "execution_count": null,
   "id": "73836543-aecb-4b98-8bec-7be68fedc1b9",
   "metadata": {},
   "outputs": [],
   "source": [
    "# Identify  error\n",
    "else:\n",
    "\t\tprint('else  suite')  #if is missing\n",
    "print('Outside')"
   ]
  },
  {
   "cell_type": "code",
   "execution_count": null,
   "id": "c7469716-8c76-4542-a310-cf881ce383d2",
   "metadata": {},
   "outputs": [],
   "source": [
    "# Identify  error\n",
    "if  9 > 5        ## Error due to :  semicolon\n",
    "\tprint('Hello')\n",
    "print('Bye')"
   ]
  },
  {
   "cell_type": "code",
   "execution_count": null,
   "id": "015c14b3-7e8f-4108-b170-995615f9d614",
   "metadata": {},
   "outputs": [],
   "source": [
    "# Identify  error\n",
    "if  9 > 12:\n",
    "\tprint('Hyd')\n",
    "else       ## Error due to :  semicolon\n",
    "\tprint('Sec')"
   ]
  },
  {
   "cell_type": "code",
   "execution_count": null,
   "id": "dd90421d-f474-48ac-bd92-30bbc8d85326",
   "metadata": {},
   "outputs": [],
   "source": [
    "# Identify  error\n",
    "if  (10,20,15):\n",
    "print('Hyd')     # indendation error\n",
    "else:\n",
    "print('Sec')  \n"
   ]
  },
  {
   "cell_type": "code",
   "execution_count": null,
   "id": "6ecbe500-c0dd-4ab7-a60f-6048c35edfa3",
   "metadata": {},
   "outputs": [],
   "source": [
    "# Identify  error\n",
    "if  ():\n",
    "\t\t\tprint('Hyd')\n",
    "\telse:                               # indendation error\n",
    "\t\t\t\t\tprint('Sec')\n",
    "print('Bye')"
   ]
  },
  {
   "cell_type": "code",
   "execution_count": null,
   "id": "14453425-0aef-47e1-8d74-d270e966bea7",
   "metadata": {},
   "outputs": [],
   "source": [
    "# Identify  error\n",
    "if  { }:\n",
    "{                          # error due to braces {}\n",
    "\tprint('One')\n",
    "\tprint('Two')\n",
    "\tprint('Three')\n",
    "}\n",
    "else:\n",
    "{\n",
    "\tprint('Four')\n",
    "\tprint('Five')\n",
    "\tprint('Six')\n",
    "}\n",
    "print('Bye')"
   ]
  },
  {
   "cell_type": "code",
   "execution_count": null,
   "id": "082848db-28e9-48df-abb4-e22677b065c6",
   "metadata": {},
   "outputs": [],
   "source": [
    "# Identify  error\n",
    "if  ():               # error due to condition\n",
    "\tprint('One')\n",
    "\tprint('Two')\n",
    "\tprint('Three')\n",
    "else:\n",
    "if  []:\n",
    "\tprint('Four')\n",
    "\tprint('Five')\n",
    "\tprint('Six')\n",
    "else:\n",
    "if  {}:\n",
    "\tprint('Seven')\n",
    "\tprint('Eight')\n",
    "\tprint('Nine')\n",
    "else:\n",
    "\tprint('Hyd')\n",
    "\tprint('Sec')\n",
    "\tprint('Cyb')\n",
    "print('Bye')"
   ]
  },
  {
   "cell_type": "markdown",
   "id": "791fd67d-24d8-4c85-aca8-113ae6146788",
   "metadata": {},
   "source": [
    "## Write  a  program  to  determine  a  number  is  even  or  odd  with   if  statement"
   ]
  },
  {
   "cell_type": "code",
   "execution_count": 7,
   "id": "afa029fe-33c5-4f8c-8fd5-f49516feb9fa",
   "metadata": {},
   "outputs": [
    {
     "name": "stdin",
     "output_type": "stream",
     "text": [
      "Enter a positive number :  43\n"
     ]
    },
    {
     "name": "stdout",
     "output_type": "stream",
     "text": [
      "43 is odd\n"
     ]
    }
   ],
   "source": [
    "n = int(input('Enter a positive number : '))\n",
    "\n",
    "if n%2==0:\n",
    "    print(f'{n} is even ')\n",
    "else:\n",
    "    print(f'{n} is odd')"
   ]
  },
  {
   "cell_type": "code",
   "execution_count": null,
   "id": "f8664596-c515-41ba-8f22-b023b4acf5de",
   "metadata": {},
   "outputs": [],
   "source": [
    "# Find outputs  (Home  work)\n",
    "if():\n",
    "        print('Hyd')\n",
    "        print('Sec')\n",
    "        print('Cyb')\n",
    "else:\n",
    "        print('One')    #One\n",
    "        print('Two')    #Two\n",
    "        print('Three')  #Three\n",
    "print('Bye')           # Bye\n",
    "\n"
   ]
  },
  {
   "cell_type": "code",
   "execution_count": null,
   "id": "ff2bd54d-413d-4929-bcae-9ba2700f4412",
   "metadata": {},
   "outputs": [],
   "source": [
    "# Find  outputs  (Home  work)\n",
    "if{10 : 20 , 30 : 40}:\n",
    "        print('Hyd')  # Hyd\n",
    "        print('Sec')  # Sec\n",
    "        print('Cyb')  # Cyb\n",
    "print('Bye') # Bye"
   ]
  },
  {
   "cell_type": "code",
   "execution_count": null,
   "id": "d3d2b872-bd56-42d5-a05d-791a1b99a993",
   "metadata": {},
   "outputs": [],
   "source": [
    "# Find outputs  (Home  work)\n",
    "if { }:               #Error\n",
    "\tprint('Hyd')\n",
    "\tprint('Sec')\n",
    "\tprint('Cyb')\n",
    "print('Bye')"
   ]
  },
  {
   "cell_type": "markdown",
   "id": "e117ab59-6125-4d02-a4cf-694244df55b9",
   "metadata": {},
   "source": [
    "## Write   a  program  to  print  month  name  for  input  month  number  by  using  if  and  elif  (Home  work)"
   ]
  },
  {
   "cell_type": "code",
   "execution_count": 6,
   "id": "b6d0d641-d182-43f5-bba0-18e554311d6e",
   "metadata": {},
   "outputs": [
    {
     "name": "stdin",
     "output_type": "stream",
     "text": [
      "Enter month number :  a\n"
     ]
    },
    {
     "name": "stdout",
     "output_type": "stream",
     "text": [
      "Enter only number 1 to 12 \n"
     ]
    }
   ],
   "source": [
    "\n",
    "try:\n",
    "    n =  int(input('Enter month number : '))\n",
    "    if n==1:\n",
    "        print('January')\n",
    "    elif n==2:\n",
    "        print('Febuary')\n",
    "    elif n==3:\n",
    "        print('March')\n",
    "    elif n==4:\n",
    "        print('April')\n",
    "    elif n==5:\n",
    "        print('May')\n",
    "    elif n==6:\n",
    "        print('June')\n",
    "    elif n==7:\n",
    "        print('July')\n",
    "    elif n==8:\n",
    "        print('August')\n",
    "    elif n==9:\n",
    "        print('September')\n",
    "    elif n==10:\n",
    "        print('October')\n",
    "    elif n==11:\n",
    "        print('November')\n",
    "    elif n==12:\n",
    "        print('December')\n",
    "    else:\n",
    "        print('Invalid month .... please enter valid month number ')\n",
    "except ValueError:\n",
    "    print('Enter only number 1 to 12 ')"
   ]
  },
  {
   "cell_type": "raw",
   "id": "b340ecf1-451d-472d-abfe-968c96ed9713",
   "metadata": {},
   "source": [
    "'''\n",
    "Write  a  program  to  print  digit  in  words  with  else  and  if  (do  not  use  elif)\n",
    "0 - Zero\n",
    "1 - One\n",
    "2 - Two\n",
    "....\n",
    "9 - Nine\n",
    "10 - Invalid\n",
    "'''"
   ]
  },
  {
   "cell_type": "code",
   "execution_count": null,
   "id": "c51233f3-238c-4f88-b2ad-1d438cc6200c",
   "metadata": {},
   "outputs": [],
   "source": [
    "n = int(input('Enter number : '))\n"
   ]
  }
 ],
 "metadata": {
  "kernelspec": {
   "display_name": "Python 3 (ipykernel)",
   "language": "python",
   "name": "python3"
  },
  "language_info": {
   "codemirror_mode": {
    "name": "ipython",
    "version": 3
   },
   "file_extension": ".py",
   "mimetype": "text/x-python",
   "name": "python",
   "nbconvert_exporter": "python",
   "pygments_lexer": "ipython3",
   "version": "3.13.5"
  }
 },
 "nbformat": 4,
 "nbformat_minor": 5
}

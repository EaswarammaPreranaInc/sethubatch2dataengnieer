{
 "cells": [
  {
   "cell_type": "code",
   "execution_count": null,
   "id": "0c8c4744-0873-4f08-ab2b-5a5584cbc33d",
   "metadata": {},
   "outputs": [],
   "source": [
    "# Find outputs  (Home  work)\n",
    "print( 'green'   in   'Hyd  is  green  city') # True\n",
    "print('day'   in   'Sankar  dayal  sarma') # True\n",
    "print('Green'   in   'Hyd  is  green  city') # False\n",
    "print('d  is'   in   'Hyd  is  green  city') # True\n",
    "print('dis'   in   'Hyd  is  green  city') # False\n",
    "print('iniv'   in   'Srinivas') # True\n",
    "print('iniv'   not   in   'Srinivas') # True"
   ]
  },
  {
   "cell_type": "code",
   "execution_count": null,
   "id": "e5c54699-47fb-4a0f-9d59-d27d0c250f7b",
   "metadata": {},
   "outputs": [],
   "source": [
    "'''  (Home  work)\n",
    "Slice  demo  program\n",
    "0      1       2        3      4       5       6       7\n",
    "R      a      m        a               R       a       o\n",
    "-8    -7     -6      -5     -4      -3     -2      -1\n",
    "'''\n",
    "a = 'Rama Rao'\n",
    "\n",
    "print(a[:7:2])# RmRo\n",
    "print(a[:7])# Rama Ra\n",
    "print(a[2:4])# ma\n",
    "print(a[2:])# ma Rao\n",
    "print(a[:4])# Rama\n",
    "print(a[::2])# RmRo\n",
    "print(a[-6:-1])# ma Ra\n",
    "print(a[-6:])# ma Rao\n",
    "print(a[:-4:-1])# oa \n",
    "print(a[-3:-1])# Ra\n",
    "print(a[-3:])# Rao\n",
    "print(a[::])# Rama Rao\n",
    "print(a[:])]# Rama Rao\n",
    "print(a[::-1])# oaR amaR\n",
    "print(a[::-2])# oRaR\n",
    "print(a[-2::-2])# a mR\n",
    "print(a[2:8])# ma Rao\n",
    "print(a[2:8:-1])# \n",
    "print(a[:-6:-1])# oaR\n",
    "print(a[2:-3])# ma \n",
    "print(a[1:6:2])# aaR\n",
    "print(a[:-5:-5])# o\n",
    "print(a[2:-5])# m\n",
    "print(a[2:-5:2])# m\n",
    "print(a[:0:-1])# oaR ama\n",
    "print(a[-5:0:-2])# a m"
   ]
  },
  {
   "cell_type": "code",
   "execution_count": 1,
   "id": "cd9c45d2-0e47-49a7-82a1-07ad91afe594",
   "metadata": {},
   "outputs": [
    {
     "name": "stdin",
     "output_type": "stream",
     "text": [
      " Java\n",
      " Python\n"
     ]
    },
    {
     "name": "stdout",
     "output_type": "stream",
     "text": [
      "Pyva Jathon\n"
     ]
    }
   ],
   "source": [
    "'''\n",
    "Write  a  program  to  concatenate  two  strings  separated  by  space  but  swap  first  two\n",
    "characters  of  the  two  strings.\n",
    "Assume  that  each  string  has  a   minimum  of  two  characters\n",
    "\n",
    "Let  inputs  be  Java  and  Python\n",
    "What  are  the  outputs ?  --->  Pyva<space>Jathon\n",
    "\n",
    "Hint:  Use  slice\n",
    "'''\n",
    "\n",
    "s1 = input()\n",
    "s2 = input()\n",
    "print(s2[:2] + s1[2:] + \" \" + s1[:2] + s2[2:])"
   ]
  },
  {
   "cell_type": "code",
   "execution_count": 2,
   "id": "173cbb9a-b480-4958-b823-8bc80cae8505",
   "metadata": {},
   "outputs": [
    {
     "name": "stdin",
     "output_type": "stream",
     "text": [
      " PYTHON\n"
     ]
    },
    {
     "name": "stdout",
     "output_type": "stream",
     "text": [
      "PYON\n"
     ]
    }
   ],
   "source": [
    "'''\n",
    "Write  a  program  to  print  first  two  and  the  last  two  characters  of  the  string\n",
    "Print  an  empty  string  if  string  has  less  than  four  characters\n",
    "\n",
    "1) Let  input  be  PYTHON\n",
    "    What  is  the  output ?  ---> PYON\n",
    "\n",
    "2) Let  input  be  Hyd\n",
    "    What  is  the  output ?  --->  Nothing\n",
    "'''\n",
    "\n",
    "s = input()\n",
    "if len(s) < 4:\n",
    "    print(\"\")\n",
    "else:\n",
    "    print(s[:2] + s[-2:])\n"
   ]
  },
  {
   "cell_type": "code",
   "execution_count": 3,
   "id": "361fcc04-9431-4fc9-a974-78fe3d6fd19e",
   "metadata": {},
   "outputs": [
    {
     "name": "stdin",
     "output_type": "stream",
     "text": [
      " VAMSI\n"
     ]
    },
    {
     "name": "stdout",
     "output_type": "stream",
     "text": [
      "Character at index 0 : V\n",
      "Character at index 1 : A\n",
      "Character at index 2 : M\n",
      "Character at index 3 : S\n",
      "Character at index 4 : I\n",
      "Character at index -1 : I\n",
      "Character at index -2 : S\n",
      "Character at index -3 : M\n",
      "Character at index -4 : A\n",
      "Character at index -5 : V\n"
     ]
    }
   ],
   "source": [
    "'''\n",
    "Write  a  program  to  print  characters  of  the  string  in  forward  and  reverse\n",
    "directions  without  slice\n",
    "\n",
    "       \t     \t\t\t\t  0      1     2      3     4\n",
    "Let  input  be\t\t  V     A     M     S     I\n",
    "\t\t\t        \t\t -5    -4    -3    -2    -1\n",
    "\n",
    "What  are  the  outputs ?  --->  Character  at  index  0  :  V\n",
    "\t\t\t\t\t\t\t\t                 Character  at  index  1  :  A\n",
    "\t\t\t\t\t\t\t\t                 Character  at  index  2  :  M\n",
    "\t\t\t\t\t\t\t                     Character  at  index  3  :  S\n",
    "\t\t\t\t\t\t\t\t                 Character  at  index  4  :  I\n",
    "\n",
    "\t\t\t\t\t\t\t\t                 Character  at  index  -1  :  I\n",
    "\t\t\t\t\t\t\t\t                 Character  at  index  -2  :  S\n",
    "\t\t\t\t\t\t\t\t                 Character  at  index  -3  :  M\n",
    "\t\t\t\t\t\t\t\t                 Character  at  index  -4  :  A\n",
    "\t\t\t\t\t\t\t\t                 Character  at  index  -5  :  V\n",
    "\n",
    "Hint:  Use  two  for  loops\n",
    "'''\n",
    "\n",
    "s = input()\n",
    "for i in range(len(s)):\n",
    "    print(f\"Character at index {i} : {s[i]}\")\n",
    "for i in range(-1, -len(s)-1, -1):\n",
    "    print(f\"Character at index {i} : {s[i]}\")"
   ]
  },
  {
   "cell_type": "code",
   "execution_count": 4,
   "id": "a8768633-ade2-4c11-b803-7489f3784081",
   "metadata": {},
   "outputs": [
    {
     "name": "stdin",
     "output_type": "stream",
     "text": [
      " RAMA RAO\n"
     ]
    },
    {
     "name": "stdout",
     "output_type": "stream",
     "text": [
      "RM A\n",
      "AARO\n"
     ]
    }
   ],
   "source": [
    "'''\n",
    "Write  a  program  to  print  characters  at  even  and  odd  indexes  without  slice\n",
    "\n",
    "\t\t\t\t\t\t\t 0      1      2      3     4     5     6      7\n",
    "Let  input  be        R      a     m      a             R     a      o\n",
    "\n",
    "odd =  '' + 'a' + 'a' + 'R' + 'o' = 'aaRo'\n",
    "even =   '' + 'R' + 'm' + ' '  + 'a' = 'Rm a'\n",
    "\n",
    "1) What  action  to  be  made  when  index  is  even ?  --->\n",
    "\t\t\t\t\t\t\t\t\t\t\t\t\t\t\t\t\tConcatenate  the  character  to  even  object\n",
    "\n",
    "2) What  action  to  be  made  when  index  is  odd ?  --->\n",
    "\t\t\t\t\t\t\t\t\t\t\t\t\t\t\t\t\tConcatenate  the  characeter  to  odd  object\n",
    "\n",
    "3) Hint: Use  single  for  loop\n",
    "'''\n",
    "\n",
    "s = input()\n",
    "even = \"\"\n",
    "odd = \"\"\n",
    "for i in range(len(s)):\n",
    "    if i % 2 == 0:\n",
    "        even += s[i]\n",
    "    else:\n",
    "        odd += s[i]\n",
    "print(even)\n",
    "print(odd)\n",
    "\n"
   ]
  },
  {
   "cell_type": "code",
   "execution_count": 7,
   "id": "0809c255-cd21-4aab-a995-0cbffbd49bc2",
   "metadata": {},
   "outputs": [
    {
     "name": "stdin",
     "output_type": "stream",
     "text": [
      "Enter characters and numbers sep by space :  n 4 s 5\n"
     ]
    },
    {
     "name": "stdout",
     "output_type": "stream",
     "text": [
      "nnnnsssss\n"
     ]
    }
   ],
   "source": [
    "'''\n",
    "Let  input  be    A   4   B   3   C   2   $   5\n",
    "                         0   1    2   3   4   5   6   7\n",
    "\n",
    "What  is  the  output ?  --->  AAAABBBCC$$$$$\n",
    "\n",
    "1) What  is  the  result  of  'A' * 4  ?  ---> 'AAAA'\n",
    "\n",
    "2)  i        a[i]       a[i + 1]          out\n",
    "   -------------------------------------------------------->\n",
    "                                               ''\n",
    "     0        'A'          '4'            '' + 'A' * 4 = 'AAAA'\n",
    "\n",
    "\t 2        'B'          '3'            'AAAA' + 'B' * 3 = 'AAAA' + 'BBB' = 'AAAABBB'\n",
    "\n",
    "\t 4        'C'          '2'            'AAAABBB' + 'C' * 2 = 'AAAABBB' + 'CC' = 'AAAABBBCC'\n",
    "\n",
    "\t 6        '$'          '5'            'AAAABBBCC' + '$' * 5 = 'AAAABBBCC' + '$$$$$' = 'AAAABBBCC$$$$$'\n",
    "   -------------------------------------------------------\n",
    "What  is  the  difference  between  a[i]   and  a[i + 1] ?  --->\n",
    "\t\t\t\t\t\t\t\ta[i]  is  ith  char  of  string  and  a[i + 1]  is  (i + 1)th  char  of  string\n",
    "'''\n",
    "\n",
    "\n",
    "s = input('Enter characters and numbers sep by space : ')\n",
    "s = s.split()\n",
    "out = \"\"\n",
    "for i in range(0, len(s), 2):\n",
    "    out += s[i] * int(s[i+1])   \n",
    "print(out)"
   ]
  },
  {
   "cell_type": "code",
   "execution_count": 9,
   "id": "ea438f04-ea37-47eb-ab66-c6e2f101f7cc",
   "metadata": {},
   "outputs": [
    {
     "name": "stdin",
     "output_type": "stream",
     "text": [
      " HYD\n",
      " VAMSI\n"
     ]
    },
    {
     "name": "stdout",
     "output_type": "stream",
     "text": [
      "HVYADMSI\n"
     ]
    }
   ],
   "source": [
    "'''\n",
    "Write  a  program  to  merge  two  strings  to  form  a  new  string\n",
    "\n",
    "1) Let  inputs  be    HYD   and   VAMSI\n",
    "   What  is  the  output  ?  --->  HVYADMSI\n",
    "\n",
    "             0     1    2\n",
    "a  --->   H     Y    D\n",
    "\n",
    "              0    1     2     3    4\n",
    "b  --->    V    A    M    S    I\n",
    "\n",
    "\n",
    "i       a[i]        b[i]          c\n",
    "--------------------------------------------------------\n",
    "                                    ''\n",
    "0      'H'        'V'          '' + 'H' + 'V' = 'HV'\n",
    "\n",
    "1      'Y'        'A'          'HV' + 'Y' + 'A' = 'HVYA'\n",
    "\n",
    "2      'D'       'M'          'HVYA' + 'D' + 'M' = 'HVYADM'\n",
    "--------------------------------------------------------\n",
    "Concatenate  remainging  characters   of  the  other  string  to  object  'c'\n",
    "What  is  the  final  result ?  --->  'HVYADMSI'\n",
    "\n",
    "Hint:  Use  single  while  loop  and  slice\n",
    "'''\n",
    "\n",
    "\n",
    "a = input()\n",
    "b = input()\n",
    "c = \"\"\n",
    "i = 0\n",
    "while i < len(a) and i < len(b):\n",
    "    c += a[i] + b[i]\n",
    "    i += 1\n",
    "c += a[i:] + b[i:]\n",
    "print(c)"
   ]
  },
  {
   "cell_type": "code",
   "execution_count": 10,
   "id": "7f133685-bbc6-44ed-b01d-fcf7b45a5bb8",
   "metadata": {},
   "outputs": [
    {
     "name": "stdin",
     "output_type": "stream",
     "text": [
      " RAMA RAO\n"
     ]
    },
    {
     "name": "stdout",
     "output_type": "stream",
     "text": [
      "RAM O\n"
     ]
    }
   ],
   "source": [
    "'''\n",
    "Write  a  program  to  remove  duplicate  characters  of  the  string  without  using  set\n",
    "\n",
    "1) Let  input  be   RAMA  RAO\n",
    "   What  is  the  output ? ---> RAM<space>O\n",
    "\n",
    "2) out = '' + 'R' = 'R' + 'A' = 'RA' + 'M' = 'RAM' + ' ' = 'RAM ' + 'O' = 'RAM O'\n",
    "\n",
    "3) What  action  to  be  made  if  the  character  is  not  in  out  object ?  --->\n",
    "\t\t\t\t\t\t\t\t\t\t\t\t\t\t\t\t\tConcatenate  the  character  to  out  object\n",
    "\n",
    "4) What  action  to  be  made  if  the  character  is  already  in  out  object ?  --->\n",
    "\t\t\t\t\t\t\t\t\t\t\t\t\t\t\t\t\t\t\t\t\t\t\tIgnore  the  character\n",
    "\n",
    "5) Hint:  Use  not  in   operator\n",
    "'''\n",
    "\n",
    "s = input()\n",
    "out = \"\"\n",
    "for ch in s:\n",
    "    if ch not in out:\n",
    "        out += ch\n",
    "print(out)"
   ]
  },
  {
   "cell_type": "code",
   "execution_count": null,
   "id": "267d13ab-00b7-4501-b5fe-203d8cb86028",
   "metadata": {},
   "outputs": [],
   "source": [
    "# len() function demo program (Home work)\n",
    "print(len('Hyd'))        # 3\n",
    "print(len('Rama Rao'))   # 8\n",
    "print(len('9247'))       # 4\n",
    "print(len('+-$'))        # 3\n",
    "print(len(''))           # 0\n",
    "print(len(' '))          # 1\n",
    "print(len('A2#'))        # 3\n",
    "\n",
    "\n",
    "# print(len(3456))       # Error\n",
    "# print('Sec'. len())    # Error\n",
    "\n",
    "'''\n",
    "What does len(str) do? ---> Returns number of characters in the string\n",
    "'''\n"
   ]
  },
  {
   "cell_type": "code",
   "execution_count": null,
   "id": "a0cf7424-a691-4c0e-ac98-6d8fbafe084a",
   "metadata": {},
   "outputs": [],
   "source": [
    "# chr() function demo program\n",
    "print(chr(65))   # A\n",
    "print(chr(90))   # Z\n",
    "print(chr(97))   # a\n",
    "print(chr(122))  # z\n",
    "print(chr(48))   # 0\n",
    "print(chr(57))   # 9\n",
    "print(chr(36))   # $\n",
    "print(chr(32))   # (space)\n",
    "\n",
    "'''\n",
    "What does chr() function do? ---> Converts unicode value to character\n",
    "'''\n"
   ]
  },
  {
   "cell_type": "code",
   "execution_count": null,
   "id": "b45f338d-bcbd-49b4-926a-1d5b760b212c",
   "metadata": {},
   "outputs": [],
   "source": [
    "# ord()  function  demo  program\n",
    "print(ord('A'))   # 65\n",
    "print(ord('Z'))   # 90\n",
    "print(ord('a'))   # 97\n",
    "print(ord('z'))   # 122\n",
    "print(ord('0'))   # 48\n",
    "print(ord('9'))   # 57\n",
    "print(ord('$'))   # 36\n",
    "print(ord(' '))   # 32\n",
    "\n",
    "\n",
    "\n",
    "'''\n",
    "ord()  function\n",
    "------------------\n",
    "1) What  does  ord()  function  do ?  ---> Converts  character  to  unicode  value\n",
    "\n",
    "2) How  many  unicode  values  exist ?  ---> 512\n",
    "\n",
    "3) What  is  the  range  of  unicode  values ?  ---> 0  to  511\n",
    "\n",
    "4) What  are  the  unicode  values  of  'A'  -  'Z' ?  ---> 65  to  90\n",
    "     What  are  the  unicode  values  of  'a'  -  'z' ?  ---> 97  to  122\n",
    "     What  are  the  unicode  values  of  '0'  -  '9' ?  ---> 48  to  57\n",
    "\n",
    "5) What  is  another  name  of  unicode ?  ---> Extended  Ascii\n",
    "\n",
    "Note:  chr()  and  ord()  are  quite  opposite  functions\n",
    "'''"
   ]
  },
  {
   "cell_type": "code",
   "execution_count": 12,
   "id": "cb2bae34-9784-44e8-90f3-9a26d920220f",
   "metadata": {},
   "outputs": [
    {
     "name": "stdin",
     "output_type": "stream",
     "text": [
      " A 4 M 3 Z 5 D 2\n"
     ]
    },
    {
     "ename": "ValueError",
     "evalue": "invalid literal for int() with base 10: ' '",
     "output_type": "error",
     "traceback": [
      "\u001b[31m---------------------------------------------------------------------------\u001b[39m",
      "\u001b[31mValueError\u001b[39m                                Traceback (most recent call last)",
      "\u001b[36mCell\u001b[39m\u001b[36m \u001b[39m\u001b[32mIn[12]\u001b[39m\u001b[32m, line 29\u001b[39m\n\u001b[32m     27\u001b[39m out = \u001b[33m\"\u001b[39m\u001b[33m\"\u001b[39m\n\u001b[32m     28\u001b[39m \u001b[38;5;28;01mfor\u001b[39;00m i \u001b[38;5;129;01min\u001b[39;00m \u001b[38;5;28mrange\u001b[39m(\u001b[32m0\u001b[39m, \u001b[38;5;28mlen\u001b[39m(s), \u001b[32m2\u001b[39m):\n\u001b[32m---> \u001b[39m\u001b[32m29\u001b[39m     out += s[i] + \u001b[38;5;28mchr\u001b[39m(\u001b[38;5;28mord\u001b[39m(s[i]) + \u001b[38;5;28;43mint\u001b[39;49m\u001b[43m(\u001b[49m\u001b[43ms\u001b[49m\u001b[43m[\u001b[49m\u001b[43mi\u001b[49m\u001b[43m+\u001b[49m\u001b[32;43m1\u001b[39;49m\u001b[43m]\u001b[49m\u001b[43m)\u001b[49m)\n\u001b[32m     30\u001b[39m \u001b[38;5;28mprint\u001b[39m(out)\n",
      "\u001b[31mValueError\u001b[39m: invalid literal for int() with base 10: ' '"
     ]
    }
   ],
   "source": [
    "'''\n",
    "Let  input  be  A4M3Z5D2\n",
    "\n",
    "What  is  the  output ?  --->  AEMPZ_DF\n",
    "\n",
    " 0     1     2     3    4    5    6     7\n",
    " A    4     M    3    Z    5    D     2\n",
    "\n",
    "\n",
    "   i       a[i]      a[i + 1]         out\n",
    "--------------------------------------------------------------------------------\n",
    "                                          ''\n",
    "  0       'A'           '4'          '' + 'A' + chr(65 + 4) = '' + 'A' + 'E' = 'AE'\n",
    "\n",
    "  2       'M'           '3'          'AE' + 'M' + chr(77 + 3) = 'AE' + 'M' + 'P' = 'AEMP'\n",
    "\n",
    "  4       'Z'           '5'          'AEMP' + 'Z' + chr(90 + 5) = 'AEMP' + 'Z' + '' = 'AEMPZ'\n",
    "\n",
    "  6       'D'           '2'          'AEMPZ_' + 'D' + chr(68 + 2) = 'AEMPZ_' + 'D' + 'F' = 'AEMPZ_DF'\n",
    "-----------------------------------------------------------------------------------\n",
    "Hint: Use  chr()  and  ord()  functions\n",
    "'''\n",
    "\n",
    "\n",
    "# 12. Pattern using chr() and ord()\n",
    "s = input()\n",
    "out = \"\"\n",
    "for i in range(0, len(s), 2):\n",
    "    out += s[i] + chr(ord(s[i]) + int(s[i+1]))\n",
    "print(out)\n"
   ]
  },
  {
   "cell_type": "code",
   "execution_count": null,
   "id": "04abd6d0-ea50-4fc1-aa77-d02767f7a1de",
   "metadata": {},
   "outputs": [],
   "source": []
  },
  {
   "cell_type": "code",
   "execution_count": null,
   "id": "fa2036b5-3722-467c-a42d-4cec54d32934",
   "metadata": {},
   "outputs": [],
   "source": [
    "\n",
    "\n",
    "\n",
    "\n",
    "\n",
    "\n",
    "\n",
    "\n",
    "\n",
    "\n",
    "\n",
    "\n",
    "\n"
   ]
  },
  {
   "cell_type": "code",
   "execution_count": null,
   "id": "45fc3aba-da2b-4d98-aeb3-9360020d87cb",
   "metadata": {},
   "outputs": [],
   "source": []
  },
  {
   "cell_type": "code",
   "execution_count": null,
   "id": "d3cd894c-15a4-4ebb-9e76-38152d421142",
   "metadata": {},
   "outputs": [],
   "source": []
  }
 ],
 "metadata": {
  "kernelspec": {
   "display_name": "Python 3 (ipykernel)",
   "language": "python",
   "name": "python3"
  },
  "language_info": {
   "codemirror_mode": {
    "name": "ipython",
    "version": 3
   },
   "file_extension": ".py",
   "mimetype": "text/x-python",
   "name": "python",
   "nbconvert_exporter": "python",
   "pygments_lexer": "ipython3",
   "version": "3.13.5"
  }
 },
 "nbformat": 4,
 "nbformat_minor": 5
}

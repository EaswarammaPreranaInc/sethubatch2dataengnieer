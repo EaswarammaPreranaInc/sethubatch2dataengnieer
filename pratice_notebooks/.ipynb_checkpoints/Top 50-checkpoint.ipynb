{
 "cells": [
  {
   "cell_type": "code",
   "execution_count": 1,
   "id": "651fecf6-bfcf-4da1-9044-6bebc38db933",
   "metadata": {},
   "outputs": [
    {
     "name": "stdin",
     "output_type": "stream",
     "text": [
      "Enter a integer number :  -786\n"
     ]
    },
    {
     "name": "stdout",
     "output_type": "stream",
     "text": [
      "-687\n"
     ]
    }
   ],
   "source": [
    "#reverse a number with sign\n",
    "\n",
    "def reverse_no(temp):\n",
    "    negitive = False\n",
    "\n",
    "    if temp<0:\n",
    "        negitive = True\n",
    "        temp = -temp\n",
    "        \n",
    "        \n",
    "    rev = 0\n",
    "    while(temp>0):\n",
    "        rem = temp%10\n",
    "        rev = rev*10 + rem\n",
    "        temp //= 10\n",
    "    if negitive:\n",
    "        return -(rev)\n",
    "    return rev\n",
    "    \n",
    "temp = int(input('Enter a integer number : '))\n",
    "print(reverse_no(temp))\n"
   ]
  },
  {
   "cell_type": "code",
   "execution_count": 15,
   "id": "da766a11-9afa-43b3-af73-cb1ed400d929",
   "metadata": {},
   "outputs": [
    {
     "name": "stdin",
     "output_type": "stream",
     "text": [
      "Enter a positive number 20\n"
     ]
    },
    {
     "name": "stdout",
     "output_type": "stream",
     "text": [
      "0 1 1 2 3 5 8 13 21 34 55 89 144 233 377 610 987 1597 2584 4181 6765 "
     ]
    }
   ],
   "source": [
    "# Fibonacci series upto n\n",
    "\n",
    "n = int(input('Enter a positive number'))\n",
    "a = 0\n",
    "b = 1\n",
    "print(a,end=' ')\n",
    "print(b,end=' ')\n",
    "for i in range(2,n+1):\n",
    "    c = a+b\n",
    "    print(c,end=' ')\n",
    "    a = b\n",
    "    b = c\n",
    "    "
   ]
  },
  {
   "cell_type": "code",
   "execution_count": 17,
   "id": "ced3ca0b-45c8-4e52-8ee5-0871541bdfbc",
   "metadata": {},
   "outputs": [
    {
     "name": "stdin",
     "output_type": "stream",
     "text": [
      "Enter +ve number : -656\n"
     ]
    },
    {
     "name": "stdout",
     "output_type": "stream",
     "text": [
      "-656 is palindrome\n"
     ]
    }
   ],
   "source": [
    "# palindrome number \n",
    "\n",
    "n = int(input('Enter +ve number :'))\n",
    "\n",
    "rev = reverse_no(n)\n",
    "\n",
    "if n==rev:\n",
    "    print(f'{n} is palindrome')\n",
    "else:\n",
    "    print(f'{n} is not a palindrome')"
   ]
  },
  {
   "cell_type": "code",
   "execution_count": 20,
   "id": "e9630282-21b1-4d1d-86d2-dc8272c9becf",
   "metadata": {},
   "outputs": [
    {
     "name": "stdin",
     "output_type": "stream",
     "text": [
      "Enter 1st string : listen\n",
      "Enter 2nd string :  silent\n"
     ]
    },
    {
     "name": "stdout",
     "output_type": "stream",
     "text": [
      "listen and silent are anagrams\n"
     ]
    }
   ],
   "source": [
    "# 2 strings are anagram or not\n",
    "\n",
    "s1 = input('Enter 1st string :')\n",
    "s2 = input('Enter 2nd string : ')\n",
    "\n",
    "if sorted(s1)==sorted(s2):\n",
    "    print(f'{s1} and {s2} are anagrams')\n",
    "else:\n",
    "    print(f'{s1} and {s2} not anagrams')"
   ]
  },
  {
   "cell_type": "code",
   "execution_count": 6,
   "id": "96b42604-acd4-4a9d-adec-4920cfedbb49",
   "metadata": {},
   "outputs": [
    {
     "name": "stdin",
     "output_type": "stream",
     "text": [
      "Enter a string :  naran\n"
     ]
    },
    {
     "name": "stdout",
     "output_type": "stream",
     "text": [
      "naran is a palindrome string\n"
     ]
    }
   ],
   "source": [
    "#String palindrome \n",
    "\n",
    "s = input('Enter a string : ')\n",
    "\n",
    "s_list = list(s)\n",
    "i = 0\n",
    "j =len(s)-1\n",
    "is_palin = True\n",
    "while(i<j):\n",
    "    if(s_list[i] != s_list[j]):\n",
    "        is_palin = False       \n",
    "        break\n",
    "    i+=1\n",
    "    j-=1\n",
    "\n",
    "print( f'{s} is a palindrome string') if is_palin else print(f'{s} is not a palindrome string')\n",
    "    "
   ]
  },
  {
   "cell_type": "code",
   "execution_count": 13,
   "id": "c552b2e7-321e-4037-8687-6afa38eda3c0",
   "metadata": {},
   "outputs": [
    {
     "name": "stdin",
     "output_type": "stream",
     "text": [
      "Enter year  3002\n"
     ]
    },
    {
     "name": "stdout",
     "output_type": "stream",
     "text": [
      "3002 is not a leap year\n"
     ]
    }
   ],
   "source": [
    "#leap year or not \n",
    "n = int(input('Enter year '))\n",
    "\n",
    "print(f'{n} is leap year ') if n%400==0 else print(f'{n} is  a leap year ') if n%4==0 and n%100!= 100 else print(f'{n} is not a leap year')"
   ]
  },
  {
   "cell_type": "code",
   "execution_count": 16,
   "id": "179963b1-e057-4b3c-9816-5ed0c3f787d7",
   "metadata": {},
   "outputs": [
    {
     "name": "stdin",
     "output_type": "stream",
     "text": [
      "Enter a string :  naren\n"
     ]
    },
    {
     "name": "stdout",
     "output_type": "stream",
     "text": [
      "{'n': 2, 'a': 1, 'r': 1, 'e': 1}\n"
     ]
    }
   ],
   "source": [
    "# display freqency of  string\n",
    "\n",
    "dic = {}\n",
    "s = input('Enter a string : ')\n",
    "\n",
    "for i in s:\n",
    "    if i not in dic:\n",
    "        dic[i] = 1\n",
    "        \n",
    "    else:\n",
    "        dic[i]+=1\n",
    "print(dic)"
   ]
  },
  {
   "cell_type": "code",
   "execution_count": 23,
   "id": "246bd98f-77d7-44f0-8042-c6b5c0ede049",
   "metadata": {},
   "outputs": [
    {
     "name": "stdin",
     "output_type": "stream",
     "text": [
      "Enter a string  naren\n"
     ]
    },
    {
     "name": "stdout",
     "output_type": "stream",
     "text": [
      "a 1 r 1 e 1 "
     ]
    }
   ],
   "source": [
    "# display non-repeating char in string\n",
    "\n",
    "dic = {}\n",
    "s = input('Enter a string ')\n",
    "for i in s:\n",
    "    if i not in dic:\n",
    "        dic[i] = 1\n",
    "    else:\n",
    "        dic[i] += 1\n",
    "\n",
    "for i in dic:\n",
    "    if dic[i] == 1:\n",
    "        print(i,dic[i],end=' ')"
   ]
  },
  {
   "cell_type": "code",
   "execution_count": 23,
   "id": "3b7bc060-8289-47cb-8de9-1f298eb4ea8f",
   "metadata": {},
   "outputs": [
    {
     "name": "stdin",
     "output_type": "stream",
     "text": [
      "Enter number of lines:  6\n"
     ]
    },
    {
     "name": "stdout",
     "output_type": "stream",
     "text": [
      "     *\n",
      "    ***\n",
      "   *****\n",
      "  *******\n",
      " *********\n",
      "***********\n",
      "  *******\n",
      "   *****\n",
      "    ***\n",
      "     *\n",
      "      \n"
     ]
    }
   ],
   "source": [
    "'''\n",
    "Write  a  program  to  print  full  pyramid\n",
    "\t *\n",
    "   ***\n",
    "  *****\n",
    " *******\n",
    "*********\n",
    "Input  is  number  of  lines\n",
    "'''\n",
    "\n",
    "n = int(input(\"Enter number of lines: \"))\n",
    "\n",
    "for i in range(1, n + 1):\n",
    "    spaces = n - i\n",
    "    stars = 2 * i - 1\n",
    "    print(\" \" * spaces + \"*\" * stars)\n",
    "for i in range(n-2,-1,-1):\n",
    "    spaces = n - i\n",
    "    stars = 2*i-1\n",
    "    print(\" \"*spaces + \"*\" * stars)    "
   ]
  },
  {
   "cell_type": "code",
   "execution_count": 13,
   "id": "c84c92f8-ec1d-470c-9f1e-7dbe993f2a56",
   "metadata": {},
   "outputs": [
    {
     "name": "stdin",
     "output_type": "stream",
     "text": [
      "Enter nth number :  10\n"
     ]
    },
    {
     "name": "stdout",
     "output_type": "stream",
     "text": [
      "2 is prime\n",
      "3 is prime\n",
      "5 is prime\n",
      "7 is prime\n"
     ]
    }
   ],
   "source": [
    "# prime numbers in given range\n",
    "import math\n",
    "n = int(input('Enter nth number : '))\n",
    "def prime(num):\n",
    "    if num<2:\n",
    "        return False\n",
    "    for i in range(2,int(math.sqrt(num)+1)):\n",
    "        if num%i==0:\n",
    "            return False\n",
    "    return True\n",
    "\n",
    "for i in range(2,n+1):\n",
    "    if(prime(i)):\n",
    "        print(i,'is prime')\n",
    "    "
   ]
  },
  {
   "cell_type": "code",
   "execution_count": 14,
   "id": "30db27ff-eb2d-4efd-99d2-a9136e75c175",
   "metadata": {},
   "outputs": [
    {
     "name": "stdin",
     "output_type": "stream",
     "text": [
      "Enter string my hometown is chirala in andrapradesh\n"
     ]
    },
    {
     "name": "stdout",
     "output_type": "stream",
     "text": [
      "andrapradesh length  12\n"
     ]
    }
   ],
   "source": [
    "# string word length\n",
    "\n",
    "s = input('Enter string')\n",
    "\n",
    "s = s.split(' ')\n",
    "l = 0\n",
    "word = ''\n",
    "for i in s:\n",
    "    if len(i)>l:\n",
    "        l = len(i)\n",
    "        word = i\n",
    "\n",
    "print(word,'length ',l)"
   ]
  },
  {
   "cell_type": "code",
   "execution_count": 17,
   "id": "5c3e4133-5148-4835-b4e2-5b87d7efbfa4",
   "metadata": {},
   "outputs": [
    {
     "name": "stdin",
     "output_type": "stream",
     "text": [
      "Enter a number 5\n"
     ]
    },
    {
     "name": "stdout",
     "output_type": "stream",
     "text": [
      "120\n"
     ]
    }
   ],
   "source": [
    "import math\n",
    "\n",
    "n = int(input('Enter a number'))\n",
    "\n",
    "print(math.factorial(n))"
   ]
  },
  {
   "cell_type": "code",
   "execution_count": 24,
   "id": "0ff083ef-48b5-44fd-a232-6d670ccaac63",
   "metadata": {},
   "outputs": [
    {
     "name": "stdin",
     "output_type": "stream",
     "text": [
      "Enter number :  370\n"
     ]
    },
    {
     "name": "stdout",
     "output_type": "stream",
     "text": [
      "370 is armstrong number\n"
     ]
    }
   ],
   "source": [
    "# Armstrong number:\n",
    "import math\n",
    "n = int(input('Enter number : '))\n",
    "temp = n\n",
    "length = len(str(n))\n",
    "sum = 0\n",
    "while(n>0):\n",
    "    rem = n%10\n",
    "    sum += math.pow(rem,length) \n",
    "    n//=10\n",
    "\n",
    "if(temp == int(sum)):\n",
    "    print(temp,'is armstrong number')\n",
    "else:\n",
    "    print(temp,'is not a armstrong number ')"
   ]
  },
  {
   "cell_type": "code",
   "execution_count": 3,
   "id": "399a5223-d87b-4edd-b32a-1a7624f1b23a",
   "metadata": {},
   "outputs": [
    {
     "name": "stdin",
     "output_type": "stream",
     "text": [
      "Enter starting number :  3\n",
      "Enter ending number :  15\n"
     ]
    },
    {
     "name": "stdout",
     "output_type": "stream",
     "text": [
      "3 is prime\n",
      "4 is not prime\n",
      "5 is prime\n",
      "6 is not prime\n",
      "7 is prime\n",
      "8 is not prime\n",
      "9 is not prime\n",
      "10 is not prime\n",
      "11 is prime\n",
      "12 is not prime\n",
      "13 is prime\n",
      "14 is not prime\n",
      "15 is not prime\n"
     ]
    }
   ],
   "source": [
    "#prime in given range\n",
    "\n",
    "import math\n",
    "\n",
    "start = int(input('Enter starting number : '))\n",
    "end = int(input('Enter ending number : '))\n",
    "\n",
    "def prime_no(num):\n",
    "    if num<2:\n",
    "        return False\n",
    "    for i in range(2,int(math.sqrt(num)+1)):\n",
    "        if(num%i==0):\n",
    "            return False\n",
    "    return True\n",
    "\n",
    "for i in range(start,end+1):\n",
    "    if prime_no(i):\n",
    "        print(f'{i} is prime')\n",
    "    else:\n",
    "        print(f'{i} is not prime')"
   ]
  },
  {
   "cell_type": "code",
   "execution_count": 10,
   "id": "5a048a36-1eba-4d9e-a233-63bcce8e3dda",
   "metadata": {},
   "outputs": [
    {
     "name": "stdin",
     "output_type": "stream",
     "text": [
      "Enter a number :  6\n",
      "Enter power :  2\n"
     ]
    },
    {
     "name": "stdout",
     "output_type": "stream",
     "text": [
      "power of given num is :  36.0\n"
     ]
    }
   ],
   "source": [
    "# power of a given no\n",
    "\n",
    "num = float(input('Enter a number : '))\n",
    "power = int(input('Enter power : '))\n",
    "result = 1\n",
    "while(power>=1):\n",
    "    result *= num\n",
    "    power-=1\n",
    "\n",
    "print('power of given num is : ', result)"
   ]
  },
  {
   "cell_type": "code",
   "execution_count": 12,
   "id": "fa8d0f5e-b99c-4b13-b0dc-2a911dcd5185",
   "metadata": {},
   "outputs": [
    {
     "name": "stdin",
     "output_type": "stream",
     "text": [
      "Enter num 12\n"
     ]
    },
    {
     "name": "stdout",
     "output_type": "stream",
     "text": [
      "1 is factor of  12\n",
      "2 is factor of  12\n",
      "3 is factor of  12\n",
      "4 is factor of  12\n",
      "6 is factor of  12\n",
      "12 is factor of  12\n"
     ]
    }
   ],
   "source": [
    "#Factor a num\n",
    "\n",
    "num = int(input('Enter num'))\n",
    "\n",
    "for i in range(1,num+1):\n",
    "    if num%i==0:\n",
    "        print(i,'is factor of ',num)"
   ]
  },
  {
   "cell_type": "code",
   "execution_count": 14,
   "id": "38afbf69-6570-4e0e-bb59-fe7ae7bb6b87",
   "metadata": {},
   "outputs": [
    {
     "name": "stdin",
     "output_type": "stream",
     "text": [
      "Enter num 60\n"
     ]
    },
    {
     "name": "stdout",
     "output_type": "stream",
     "text": [
      "2 is prime factor of  60\n",
      "3 is prime factor of  60\n",
      "5 is prime factor of  60\n"
     ]
    }
   ],
   "source": [
    "#prime factors of given num\n",
    "\n",
    "num = int(input('Enter num'))\n",
    "\n",
    "for i in range(1,num+1):\n",
    "    if num%i==0 and prime_no(i):\n",
    "        print(i,'is prime factor of ',num)\n",
    "        "
   ]
  },
  {
   "cell_type": "code",
   "execution_count": 18,
   "id": "546c1ee9-510c-4ee3-b78e-2427dfba80f5",
   "metadata": {},
   "outputs": [
    {
     "name": "stdin",
     "output_type": "stream",
     "text": [
      "Enter num 145\n"
     ]
    },
    {
     "name": "stdout",
     "output_type": "stream",
     "text": [
      "145 is strong number\n"
     ]
    }
   ],
   "source": [
    "#strong number : A strong number is a number in which the sum of the factorials of its digits is equal to the number itself.\n",
    "\n",
    "import math\n",
    "num = int(input('Enter num'))\n",
    "temp = num\n",
    "sum  = 0\n",
    "while(temp>0):\n",
    "    rem = temp%10\n",
    "    sum += math.factorial(rem)\n",
    "    temp//=10\n",
    "if sum==num:\n",
    "    print(f'{num} is strong number')\n",
    "else:\n",
    "    print(num,'is not a strong number')"
   ]
  },
  {
   "cell_type": "code",
   "execution_count": 21,
   "id": "c2f042dc-eedd-47b8-be34-99600b18ab3c",
   "metadata": {},
   "outputs": [
    {
     "name": "stdin",
     "output_type": "stream",
     "text": [
      "Enter num 28\n"
     ]
    },
    {
     "name": "stdout",
     "output_type": "stream",
     "text": [
      "28 is perfect number\n"
     ]
    }
   ],
   "source": [
    "#perfect number: A perfect number is a number where the sum of all its proper divisors (excluding the number itself) is equal to the number.\n",
    "\n",
    "\n",
    "num = int(input('Enter num'))\n",
    "temp = num\n",
    "sum  = 0\n",
    "for i in range(1,num):\n",
    "    if num%i==0:\n",
    "        sum+=i\n",
    "if sum==num:\n",
    "    print(f'{num} is perfect number')\n",
    "else:\n",
    "    print(num,'is not a perfect number')"
   ]
  },
  {
   "cell_type": "code",
   "execution_count": 9,
   "id": "d680e415-1a4e-4754-978f-4ee5f88c5f92",
   "metadata": {},
   "outputs": [
    {
     "name": "stdin",
     "output_type": "stream",
     "text": [
      "Enter num 5\n"
     ]
    },
    {
     "name": "stdout",
     "output_type": "stream",
     "text": [
      "* * * * * * \n",
      "*         * \n",
      "*         * \n",
      "*         * \n",
      "*         * \n",
      "* * * * * * \n"
     ]
    }
   ],
   "source": [
    "# hallow pattern\n",
    "num = int(input('Enter num'))\n",
    "\n",
    "for i in range(num+1):\n",
    "    for j in range(num+1):\n",
    "        if i==0 or j==0 or j==num or i==num:\n",
    "            print('*',end=' ')\n",
    "        else:\n",
    "            print(' ',end=' ')\n",
    "    print()\n"
   ]
  },
  {
   "cell_type": "code",
   "execution_count": 25,
   "id": "7befe0b3-0838-4a0c-aba3-d385905cc7fb",
   "metadata": {},
   "outputs": [
    {
     "name": "stdin",
     "output_type": "stream",
     "text": [
      "Enter number of rows:  5\n"
     ]
    },
    {
     "name": "stdout",
     "output_type": "stream",
     "text": [
      "        1 \n",
      "      2 2 \n",
      "    3 3 3 \n",
      "  4 4 4 4 \n",
      "5 5 5 5 5 \n"
     ]
    }
   ],
   "source": [
    "num = int(input(\"Enter number of rows: \"))\n",
    "\n",
    "for i in range(1, num + 1):\n",
    "    # Print leading spaces\n",
    "    for j in range(num - i):\n",
    "        print(\" \", end=\" \")\n",
    "\n",
    "    # Print the row number i, i times\n",
    "    for j in range(i):\n",
    "        print(i, end=\" \")\n",
    "\n",
    "    print()\n"
   ]
  },
  {
   "cell_type": "code",
   "execution_count": 8,
   "id": "a3ae8427-6782-4ac6-bf75-c3c6577fece1",
   "metadata": {},
   "outputs": [
    {
     "name": "stdin",
     "output_type": "stream",
     "text": [
      "Enter n value :  5\n"
     ]
    },
    {
     "name": "stdout",
     "output_type": "stream",
     "text": [
      "  * * * * * \n",
      "    * * * * \n",
      "      * * * \n",
      "        * * \n",
      "          * \n",
      "            \n"
     ]
    }
   ],
   "source": [
    "#rhombus patter printting\n",
    "n = int(input('Enter n value : '))\n",
    "for i in range(n+1):\n",
    "    for j in range(n+1):\n",
    "        if j>i or :\n",
    "            print('*',end=' ')\n",
    "        else:\n",
    "            print(' ',end=' ')\n",
    "    print()"
   ]
  },
  {
   "cell_type": "code",
   "execution_count": null,
   "id": "2417211d-d152-4561-9522-f069e6098cc4",
   "metadata": {},
   "outputs": [],
   "source": []
  },
  {
   "cell_type": "code",
   "execution_count": null,
   "id": "96f4268f-229e-4c84-ae38-d6c838f7853b",
   "metadata": {},
   "outputs": [],
   "source": []
  },
  {
   "cell_type": "code",
   "execution_count": null,
   "id": "0c34679a-af6d-4f2a-8ce7-37d00a99b40a",
   "metadata": {},
   "outputs": [],
   "source": []
  },
  {
   "cell_type": "code",
   "execution_count": null,
   "id": "bdf215eb-6a5c-478f-96e6-d020b981dae5",
   "metadata": {},
   "outputs": [],
   "source": []
  }
 ],
 "metadata": {
  "kernelspec": {
   "display_name": "Python 3 (ipykernel)",
   "language": "python",
   "name": "python3"
  },
  "language_info": {
   "codemirror_mode": {
    "name": "ipython",
    "version": 3
   },
   "file_extension": ".py",
   "mimetype": "text/x-python",
   "name": "python",
   "nbconvert_exporter": "python",
   "pygments_lexer": "ipython3",
   "version": "3.13.5"
  }
 },
 "nbformat": 4,
 "nbformat_minor": 5
}

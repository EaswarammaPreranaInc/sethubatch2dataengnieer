{
 "cells": [
  {
   "cell_type": "code",
   "execution_count": null,
   "id": "22a5e8ea-f9a3-493f-9bc8-6a2dc5694906",
   "metadata": {},
   "outputs": [],
   "source": [
    "#[26-07-2025 11:06] +91 99482 50500: #  Find  outputs  (Home  work)\n",
    "x = 25\n",
    "y = F'{x}'\n",
    "print(y)#25\n",
    "print(type(y))#<class 'str'>\n",
    "x = 10.8\n",
    "y = F'{x}'\n",
    "print(y)#10.8\n",
    "print(type(y))#<class 'str'>\n",
    "x = [10,20,30,40]\n",
    "y = F'{x}'\n",
    "print(y)#[10,20,30,40]\n",
    "print(type(y))#<class 'str'>"
   ]
  },
  {
   "cell_type": "code",
   "execution_count": null,
   "id": "2111d2f7-6f35-4668-87ec-072e646756d2",
   "metadata": {},
   "outputs": [],
   "source": [
    "[26-07-2025 11:06] +91 99482 50500: #Find  outputs  (Home  work)\n",
    "a ,  b , c = 25 , 10.8 , 'Hyd'\n",
    "print(F'{a}  \\t   {b}   \\t  {c}')#25    10.8    'Hyd'\n",
    "print(F'a = {a}  \\t  b  =  {b}  \\t  c  =  {c}')#a = 25  \t  b  =  10.8  \t  c  =  Hyd\n",
    "print(F'{a=}  \\t   {b=}   \\t  {c=}')#a=25  \t   b=10.8   \t  c='Hyd'\n",
    "print(F'{a:}  \\t   {b:}   \\t  {c:}')#25  \t   10.8   \t  Hyd\n",
    "print('a  =  {a}  \\t  b  =  {b}  \\t  c  =   {c}')#a  =  {a}  \t  b  =  {b}  \t  c  =   {c}\n",
    "print(F'a  =  a  \\t  b  =  b  \\t  c  =  c')#a  =  a  \t  b  =  b  \t  c  =  c\n",
    "print(F'{x =}  \\t   {y =}   \\t  {z =}')#Error"
   ]
  },
  {
   "cell_type": "code",
   "execution_count": null,
   "id": "7bbaa2f2-c1b4-4e7d-b4e5-7e29173326ce",
   "metadata": {},
   "outputs": [],
   "source": [
    "[26-07-2025 11:09] +91 99482 50500: #  Find  outputs  (Home  work)\n",
    "x = 25\n",
    "print(F'{x}')  #  25\n",
    "print(F'{{x}}')   #  {x}\n",
    "print(F'{{{x}}}')  #   {25}\n",
    "print(F'{{{{x}}}}') # {{x}}\n",
    "print(F'{{{{{x}}}}}') #{{25}}\n",
    "print(F'{{{{{{x}}}}}}')#{{{x}}}\n",
    "print(F'{{{{{{{x}}}}}}}')#{{{25}}}\n",
    "print(F'{{{{{{{{x}}}}}}}}')#{{{{x}}}}\n",
    "\n",
    "'''\n",
    "1)What  is  printed  when  'x'  is  in  even  number  of  braces ?  --->  'x'  itself\n",
    "\n",
    "2) What  is  printed  when  'x'  is  in  odd  number  of  braces ?  --->  Value   of  'x'  in  the  form  of  string\n",
    "\n",
    "3) How  many  braces  are  printed  in  the  output ?  --->  Number  of  braces  //  2\n",
    "'''"
   ]
  },
  {
   "cell_type": "markdown",
   "id": "fcf02115-731c-4cb3-8f0d-9016b22c2a3b",
   "metadata": {},
   "source": [
    "\n",
    "### Write  a  program  to  determine  sum , difference , product , quotient , largest  and  smallest  of  two  numbers.\n",
    "### Also  find  remainder,  sqrt  of  first  input , power, gcd  and  factorial  of  first  input\n",
    "\n",
    "Hint:  Use  F  string  to  print  results\n",
    "\n",
    "Let  inputs  be  10  and  7,\n",
    "What  is  the  sum ?  --->  17\n",
    "What  is  the  difference ?  --->  3\n",
    "What  is  the  product ?  ---> 70\n",
    "What  is  the  quotient ?  --->  1.42\n",
    "What  is  the  remainder ?  --->  3\n",
    "What  is  the  largest  number ?  ---> 10\n",
    "What  is  the  smallest  number ?  --->  7\n",
    "What  is  the  sqrt  of  1st  input ?  --->  3.16\n",
    "What  is  the  result  of  power?  --->  10000000\n",
    "What  is  the  gcd  of  2  numbers ?  ---> 1\n",
    "What  is  the  factorial   of  1st  input ?  ---> 10!\n",
    "[26-07-2025 11:41] +91 99482 50500: Enter 1st  integer  number :  10\n",
    "Enter 2nd  integer  number :  7\n",
    "10 + 7 = 17\n",
    "10 - 7 = 3\n",
    "10 * 7 = 70\n",
    "10 / 7 = 1.4285714285714286\n",
    "10 % 7 = 3\n",
    "max(10 , 7) = 10\n",
    "min(10 , 7) = 7\n",
    "10 ^ 7 = 10000000\n",
    "sqrt(10) = 3.1622776601683795\n",
    "gcd(10 , 7) = 1\n",
    "fact(10) = 3628800\n",
    "[26-07-2025 11:45] +91 99482 50500:'''"
   ]
  },
  {
   "cell_type": "code",
   "execution_count": 23,
   "id": "bb397b8c-15ee-4bad-b42b-799619c7878d",
   "metadata": {},
   "outputs": [
    {
     "name": "stdin",
     "output_type": "stream",
     "text": [
      "Enter 1st integer number :    2\n",
      "Enter 2nd integer number :    3\n"
     ]
    },
    {
     "name": "stdout",
     "output_type": "stream",
     "text": [
      "2 + 3 =  5\n",
      "2 - 3 =  -1\n",
      "2 * 3 =  6\n",
      "2 / 3 =  0.6666666666666666\n",
      "2 % 3 =  2\n",
      "max(2 , 3) =  3\n",
      "min(2 , 3 = ) 2\n",
      "2 ^ 3 = \n",
      "sqrt(2) =  1.4142135623730951\n",
      "gcd(a , b) =  1\n",
      "fact(2) =  2\n"
     ]
    }
   ],
   "source": [
    "\n",
    "import math\n",
    "a = int(input('Enter 1st integer number :   '))\n",
    "b = int(input('Enter 2nd integer number :   '))\n",
    "print(f'{a} + {b} = ',a+b)\n",
    "print(f'{a} - {b} = ', a-b)\n",
    "print(f'{a} * {b} = ', a*b)\n",
    "print(f'{a} / {b} = ',a/b)\n",
    "print(f'{a} % {b} = ',a%b)\n",
    "print(f'max({a} , {b}) = ',max(a,b))\n",
    "print(f'min({a} , {b} = )',min(a,b))\n",
    "print(f'{a} ^ {b} = '),a^b\n",
    "print(f'sqrt({a}) = ',math.sqrt(a))\n",
    "print(f'gcd(a , b) = ',math.gcd(a,b))\n",
    "print(f'fact({a}) = ',math.factorial(a))"
   ]
  },
  {
   "cell_type": "markdown",
   "id": "79b7660f-4f37-48f1-b71e-2a87d0268d13",
   "metadata": {},
   "source": [
    "\n",
    "\n",
    "### Write  a  program  to  swap  values  of  any  two  objects  in  a  single  statement  without  using  3rd  object\n",
    "\n",
    "Let  'x'  be  25  and  'y'  be   'Hyd'\n",
    "What  are  'x'  and  'y'  after  swap ?  ---> Hyd  and  25\n",
    "\n",
    "Hint:  Swap  references  but  not  objects\n",
    "[26-07-2025 11:45] +91 99482 50500: \n",
    "Enter  1st  input :  25\n",
    "Enter  2nd  input : Hyd\n",
    "Before  swap :  x='25'            y='Hyd'\n",
    "After  swap :  x='Hyd'            y='25'\n",
    "[26-07-2025 12:08] +91 99482 50500: '''\n",
    "\n"
   ]
  },
  {
   "cell_type": "code",
   "execution_count": 47,
   "id": "3272e4d1-e10b-4459-917c-ef81a10a8687",
   "metadata": {},
   "outputs": [
    {
     "name": "stdin",
     "output_type": "stream",
     "text": [
      "Enter 1st input :  'hyd'\n",
      "Enter 2nd input :  25\n"
     ]
    },
    {
     "name": "stdout",
     "output_type": "stream",
     "text": [
      "Before swap : x='hyd'  y=25 \n",
      "After swap : x=25  y='hyd'\n"
     ]
    }
   ],
   "source": [
    "\n",
    "x = eval(input('Enter 1st input : '))\n",
    "y = eval(input('Enter 2nd input : '))\n",
    "print(f'Before swap : {x=}  {y=} ')\n",
    "x,y = y,x\n",
    "print(f'After swap : {x=}  {y=}')"
   ]
  },
  {
   "cell_type": "markdown",
   "id": "308cd866-a7bd-4901-9aa6-83ebbcbf8e3b",
   "metadata": {},
   "source": [
    "\n",
    "### Write  a  program  to  determine  largest  of  three  inputs  without  using  max()  function\n",
    "\n",
    "1) What  is  the  output  if  inputs  are  10 , 20  and  15 ?   --->  20\n",
    "\n",
    "2) What  is  the  output  if  inputs  are  35.8 , 42.8  and  27.9 ?   --->  42.8\n",
    "\n",
    "3) What  is  the  output  if  inputs  are  'RAMA'  , 'RAKESH'  and  'RAJESH' ?   --->  'RAMA'\n",
    "\n",
    "4) What  is   the  output  if  inputs  are  [10 , 20 , 15 , 18]  , [10 , 20 , 32, 19]  and  [10 , 20 , 25, 17] ?  ---> [10 , 20 , 32 , 19]\n",
    "\n",
    "5) Inputs  can  be  integers , floats , strings  and  so  on\n",
    "\n",
    "6) Use  nested  ternary  operator\n",
    "\n",
    "[26-07-2025 12:09] +91 99482 50500: Enter 1st input : 10\n",
    "Enter 2nd input : 20\n",
    "Enter 3rd input : 15.8\n",
    "Largest  Input  :  20\n",
    "[26-07-2025 12:10] +91 99482 50500:'''\n",
    "\n",
    "\n",
    "\n"
   ]
  },
  {
   "cell_type": "code",
   "execution_count": 37,
   "id": "138571d9-aea0-479c-bda7-5c8fa0fff1dd",
   "metadata": {},
   "outputs": [
    {
     "name": "stdin",
     "output_type": "stream",
     "text": [
      "Enter 1st input :  10\n",
      "Enter 2nd input :  20\n",
      "Enter 3rd input :  15\n"
     ]
    },
    {
     "name": "stdout",
     "output_type": "stream",
     "text": [
      "Largest Input :  20\n"
     ]
    }
   ],
   "source": [
    "#What is the output if inputs are 10 , 20 and 15\n",
    "\n",
    "a = int(input('Enter 1st input : '))\n",
    "b = int(input('Enter 2nd input : '))\n",
    "c = int(input('Enter 3rd input : '))\n",
    "\n",
    "print(f'Largest Input : ',max(a,b,c))"
   ]
  },
  {
   "cell_type": "code",
   "execution_count": 38,
   "id": "53642695-6b41-474b-ab3d-fdb8db5d00e6",
   "metadata": {},
   "outputs": [
    {
     "name": "stdin",
     "output_type": "stream",
     "text": [
      "Enter 1st input :  35.8\n",
      "Enter 2nd input :  42.8\n",
      "Enter 3rd input :  27.9\n"
     ]
    },
    {
     "name": "stdout",
     "output_type": "stream",
     "text": [
      "Largest Input :  42.8\n"
     ]
    }
   ],
   "source": [
    "#What is the output if inputs are 35.8 , 42.8 and 27.9 \n",
    "\n",
    "a = float(input('Enter 1st input : '))\n",
    "b = float(input('Enter 2nd input : '))\n",
    "c = float(input('Enter 3rd input : '))\n",
    "\n",
    "print(f'Largest Input : ',max(a,b,c))"
   ]
  },
  {
   "cell_type": "code",
   "execution_count": 39,
   "id": "f3fe7a29-0370-4696-8944-0950c2884265",
   "metadata": {},
   "outputs": [
    {
     "name": "stdin",
     "output_type": "stream",
     "text": [
      "Enter 1st input :  Rama\n",
      "Enter 2nd input :  Rakesh\n",
      "Enter 3rd input :  Rajesh\n"
     ]
    },
    {
     "name": "stdout",
     "output_type": "stream",
     "text": [
      "Largest Input :  Rama\n"
     ]
    }
   ],
   "source": [
    "#What is the output if inputs are 'RAMA' , 'RAKESH' and 'RAJESH' \n",
    "\n",
    "a = input('Enter 1st input : ')\n",
    "b = input('Enter 2nd input : ')\n",
    "c = input('Enter 3rd input : ')\n",
    "\n",
    "print(f'Largest Input : ',max(a,b,c))"
   ]
  },
  {
   "cell_type": "code",
   "execution_count": 41,
   "id": "bcb6218d-c37e-4453-bab5-2c2bf19882e1",
   "metadata": {},
   "outputs": [
    {
     "name": "stdin",
     "output_type": "stream",
     "text": [
      "Enter 1st input :  10 12  13\n",
      "Enter 2st input :  12 14 12\n",
      "Enter 3st input :  12 34 21\n"
     ]
    },
    {
     "name": "stdout",
     "output_type": "stream",
     "text": [
      "Largerst input :  ['12', '34', '21']\n"
     ]
    }
   ],
   "source": [
    "#What is the output if inputs are [10 , 20 , 15 , 18] , [10 , 20 , 32, 19] and [10 , 20 , 25, 17] \n",
    "\n",
    "a = list((input('Enter 1st input : ').split()))\n",
    "b = list((input('Enter 2st input : ').split())) \n",
    "c = list((input('Enter 3st input : ').split()))\n",
    "\n",
    "print(f'Largerst input : ',max(a,b,c))"
   ]
  },
  {
   "cell_type": "code",
   "execution_count": 38,
   "id": "0a8a756f-2bc0-4b51-ac0d-9affab646436",
   "metadata": {},
   "outputs": [
    {
     "name": "stdin",
     "output_type": "stream",
     "text": [
      "Enter 1st input :  2\n",
      "Enter 2st input :  4\n",
      "Enter 3st input :  3\n"
     ]
    },
    {
     "name": "stdout",
     "output_type": "stream",
     "text": [
      "Largerst input :  4\n"
     ]
    }
   ],
   "source": [
    "#Inputs can be integers , floats , strings and so on\n",
    "\n",
    "a = eval(input('Enter 1st input : '))\n",
    "b = eval(input('Enter 2st input : '))\n",
    "c = eval(input('Enter 3st input : '))\n",
    "\n",
    "print(f'Largerst input : ',max(a,b,c))"
   ]
  },
  {
   "cell_type": "code",
   "execution_count": 44,
   "id": "80d450a3-26e2-48ee-b090-eda3e138e8c2",
   "metadata": {},
   "outputs": [
    {
     "name": "stdin",
     "output_type": "stream",
     "text": [
      "Enter 1st input :  4\n",
      "Enter 2st input :  2\n",
      "Enter 3st input :  4\n"
     ]
    },
    {
     "name": "stdout",
     "output_type": "stream",
     "text": [
      "Largest input :  4\n"
     ]
    }
   ],
   "source": [
    "#Use nested ternary operator\n",
    "\n",
    "a = eval(input('Enter 1st input : '))\n",
    "b = eval(input('Enter 2st input : '))\n",
    "c = eval(input('Enter 3st input : '))\n",
    "\n",
    "largerst_input = a if a>b else b if a>c else c\n",
    "print(f'Largest input : ',largerst_input)"
   ]
  },
  {
   "cell_type": "markdown",
   "id": "549876d4-dec0-40bf-981b-82a8c2d957e8",
   "metadata": {},
   "source": [
    "### Write  a  program  to  print   '>'  if  1st  input  >  2nd  input,\n",
    "###   '<'  if  1st  input  <  2nd  input  and '='  if  inputs  are  same\n",
    "\n",
    "1) What  is  the  result  if  inputs  are  10  and  20 ?  ---> <\n",
    "\n",
    "2) What  is  the  result  if  inputs  are  70  and  60 ?  --->  >\n",
    "\n",
    "3) What  is  the  result  if  inputs  are  25  and  25 ?  ---> =\n",
    "\n",
    "4) Inputs  can  be  integers , floats , strings  and  so  on\n",
    "\n",
    "5) Use  ternary  operator\n",
    "'''\n",
    "[26-07-2025 12:10] +91 99482 50500: Enter 1st input : 10\n",
    "Enter 2nd input : 20\n",
    "Result :   <\n",
    "[26-07-2025 12:11] +91 99482 50500:"
   ]
  },
  {
   "cell_type": "code",
   "execution_count": 2,
   "id": "95736ac3-50a1-4efc-bdd3-8be0bbd0ae71",
   "metadata": {},
   "outputs": [
    {
     "name": "stdin",
     "output_type": "stream",
     "text": [
      "Enter 1st input :  2\n",
      "Enter 2st input :  3\n"
     ]
    },
    {
     "name": "stdout",
     "output_type": "stream",
     "text": [
      "Result :  <\n"
     ]
    }
   ],
   "source": [
    "#with out ternary operator\n",
    "input1 = int(input('Enter 1st input : '))\n",
    "input2 = int(input('Enter 2st input : '))\n",
    "\n",
    "if input1>input2:\n",
    "    print(f'Result : ','>')\n",
    "elif input1<input2:\n",
    "    print(f'Result : ', '<')\n",
    "else: \n",
    "    print(f'Result : ' , '=')"
   ]
  },
  {
   "cell_type": "code",
   "execution_count": 8,
   "id": "e8c8d132-10a8-46da-b1e4-9c51f1d1eee4",
   "metadata": {},
   "outputs": [
    {
     "name": "stdin",
     "output_type": "stream",
     "text": [
      "Enter 1st input :  3\n",
      "Enter 2st input :  3\n"
     ]
    },
    {
     "name": "stdout",
     "output_type": "stream",
     "text": [
      "=\n"
     ]
    }
   ],
   "source": [
    "#with ternary operator\n",
    "input1 = int(input('Enter 1st input : '))\n",
    "input2 = int(input('Enter 2st input : '))\n",
    "\n",
    "result = '>' if input1>input2 else '<' if input1<input2 else '='\n",
    "print(result)"
   ]
  },
  {
   "cell_type": "markdown",
   "id": "4f1bc2ef-7083-4ffc-a513-b4a207b167dc",
   "metadata": {},
   "source": [
    "\n",
    "### Write  a  program  to  print  1  if  input  is  +ve  ,  -1    if  input  is  -ve  and  0  if  input  is  0\n",
    "\n",
    "1) What  is  the  result  if  input  is  -25 ?  --->  -1\n",
    "\n",
    "2) What  is  the  result  if  input  is  75 ?  --->  1\n",
    "\n",
    "3) What  is  the  result  if  input  is  0 ?  --->  0\n",
    "\n",
    "4) Use  nested  ternary  operator\n",
    "'''\n",
    "[26-07-2025 12:12] +91 99482 50500: Enter any number : -25\n",
    "Result :  -1\n",
    "[26-07-2025 12:12] +91 99482 50500:"
   ]
  },
  {
   "cell_type": "code",
   "execution_count": 5,
   "id": "d05bb813-7688-4429-9301-46ba8d86ff48",
   "metadata": {},
   "outputs": [
    {
     "name": "stdin",
     "output_type": "stream",
     "text": [
      "Enter any number 2\n"
     ]
    },
    {
     "name": "stdout",
     "output_type": "stream",
     "text": [
      "+ve\n"
     ]
    }
   ],
   "source": [
    "#with out ternary operator\n",
    "n = eval(input('Enter any number'))\n",
    "\n",
    "if n>0:\n",
    "    print('+ve')\n",
    "elif n<0:\n",
    "    print('-ve')\n",
    "else:\n",
    "    print('0')"
   ]
  },
  {
   "cell_type": "code",
   "execution_count": 10,
   "id": "744a3343-4fcb-4b6e-b2c2-5f32b40cb531",
   "metadata": {},
   "outputs": [
    {
     "name": "stdin",
     "output_type": "stream",
     "text": [
      "Enter any number -0.0\n"
     ]
    },
    {
     "name": "stdout",
     "output_type": "stream",
     "text": [
      "0\n"
     ]
    }
   ],
   "source": [
    "#with ternary operator\n",
    "n = eval(input('Enter any number'))\n",
    "\n",
    "result = '+ve' if n>0 else '-ve' if n<0 else '0'\n",
    "\n",
    "print(result)"
   ]
  },
  {
   "cell_type": "markdown",
   "id": "71dd7308-00a5-4e19-b71e-c6a5a84dc5eb",
   "metadata": {},
   "source": [
    "\n",
    "### Write  a  program  to  test  input  is  even  number  or  odd  number\n",
    "\n",
    "1) What  is  an  even  number  ?  --->  Divisible  by  2\n",
    "\n",
    "2) What  is  an  odd  number  ?  --->  Not  divisible  by  2\n",
    "\n",
    "3) Use  ternary  operator\n",
    "'''\n",
    "[26-07-2025 12:12] +91 99482 50500: Enter  any  +ve  integer : 45\n",
    "Odd  number\n",
    "[26-07-2025 12:31] +91 99482 50500: "
   ]
  },
  {
   "cell_type": "code",
   "execution_count": 12,
   "id": "6a7e5cfe-6fcc-49df-92ee-c749237df3ad",
   "metadata": {},
   "outputs": [
    {
     "name": "stdin",
     "output_type": "stream",
     "text": [
      "Enter any +ve integer :  31\n"
     ]
    },
    {
     "name": "stdout",
     "output_type": "stream",
     "text": [
      "31 is Odd number \n"
     ]
    }
   ],
   "source": [
    "#without ternary  operator\n",
    "n = int(input('Enter any +ve integer : '))\n",
    "\n",
    "if  n%2==0:\n",
    "    print(f'{n} is Even number ')\n",
    "else:\n",
    "    print(f'{n} is Odd number ')"
   ]
  },
  {
   "cell_type": "code",
   "execution_count": 17,
   "id": "77da7a9d-e95d-47c8-bf37-c106ac154e57",
   "metadata": {},
   "outputs": [
    {
     "name": "stdin",
     "output_type": "stream",
     "text": [
      "Enter any +ve number :  45\n"
     ]
    },
    {
     "name": "stdout",
     "output_type": "stream",
     "text": [
      "45 is Odd number\n"
     ]
    }
   ],
   "source": [
    "#with ternary operator\n",
    "n = int(input('Enter any +ve number : '))\n",
    "\n",
    "print(f'{n} is Even number ') if n%2==0 else print(f'{n} is Odd number')"
   ]
  },
  {
   "cell_type": "markdown",
   "id": "9d37197f-1c0b-4698-a067-eb503bac52c6",
   "metadata": {},
   "source": [
    "\n",
    "\n",
    "### Write  a  program  to  determine  area  and  perimeter  of  rectangle\n",
    "\n",
    "1) What  are  the  inputs ?  ---> length  and   breadth\n",
    "\n",
    "2) What  are  the  outputs  ?  --->  area  and  perimeter\n",
    "\n",
    "3) What  is  the  area  of  rectangle  ?  --->  length * breadth\n",
    "\n",
    "4) What  is  the  perimeter  of  rectangle ?  --->  2 * (length + breadth)\n",
    "'''\n",
    "[26-07-2025 12:31] +91 99482 50500: "
   ]
  },
  {
   "cell_type": "code",
   "execution_count": 19,
   "id": "53c81711-5752-4f0a-ac12-5caaa257d153",
   "metadata": {},
   "outputs": [
    {
     "name": "stdin",
     "output_type": "stream",
     "text": [
      "Enter length :  2\n",
      "Enter breadth :  3\n"
     ]
    },
    {
     "name": "stdout",
     "output_type": "stream",
     "text": [
      "Area of rectangle(length*breadth) is :  6.0\n",
      "Perimeter of rectangle(2*(length+breadth)) is :  10.0\n"
     ]
    }
   ],
   "source": [
    "l = float(input('Enter length : '))\n",
    "b = float(input('Enter breadth : '))\n",
    "\n",
    "print(f'Area of rectangle(length*breadth) is : ' , l*b)\n",
    "print(f'Perimeter of rectangle(2*(length+breadth)) is : ',2*(l+b))"
   ]
  },
  {
   "cell_type": "markdown",
   "id": "81d5c5d7-653f-4c51-8e58-c1a6fe73c2d9",
   "metadata": {},
   "source": [
    "\n",
    "### Write  a  program  to  determine  volume  of  a  sphere\n",
    "\n",
    "1) What  is  the  input ?  --->  radius\n",
    "\n",
    "2) What  is  the  output ?  --->  volume\n",
    "\n",
    "3) What  is  the  volume  of  sphere  ?  --->  4 / 3  * pi *  r ^ 3\n",
    "'''\n",
    "[26-07-2025 12:31] +91 99482 50500:"
   ]
  },
  {
   "cell_type": "code",
   "execution_count": 25,
   "id": "b21ee121-d058-4d6e-9569-d8044a38c42c",
   "metadata": {},
   "outputs": [
    {
     "name": "stdin",
     "output_type": "stream",
     "text": [
      "Enter radius :  3\n"
     ]
    },
    {
     "name": "stdout",
     "output_type": "stream",
     "text": [
      "volume of sphere is :   113.09723999999999\n"
     ]
    }
   ],
   "source": [
    "radius = float(input('Enter radius : '))\n",
    "pi = 3.14159\n",
    "volume = 4/3*pi*(radius**3)\n",
    "print(f'volume of sphere is :  ',volume)"
   ]
  },
  {
   "cell_type": "markdown",
   "id": "d2bc7ccf-8664-418a-97b3-7c89e32d3274",
   "metadata": {},
   "source": [
    "\n",
    "### Write  a  program  to  determine  simple  interest  and  compound  interest\n",
    "\n",
    "1) What  are  the  inputs  ?  --->  principle , time  and   rate  of  interest\n",
    "\n",
    "2) What  are  the  outputs ? --->  Simple  interest   and   compound  interest\n",
    "\n",
    "3) What  is  simple  interest  formula ?  ---> ptr / 100\n",
    "\n",
    "4) What  is  compound  interest  formula ?  --->  p * (1  +  r  /  100) ^  t  -  p\n",
    "'''\n",
    "[26-07-2025 12:31] +91 99482 50500:"
   ]
  },
  {
   "cell_type": "code",
   "execution_count": 33,
   "id": "90b6fd45-4c50-4626-ae02-279a5c483f0f",
   "metadata": {},
   "outputs": [
    {
     "name": "stdin",
     "output_type": "stream",
     "text": [
      "Enter principle amount :  30000\n",
      "Enter time :  1\n",
      "Enter rate of interest :  3\n"
     ]
    },
    {
     "name": "stdout",
     "output_type": "stream",
     "text": [
      "simple interest for 1 years is :  900.0\n",
      "compouand interest for 1 years is :  900.0\n"
     ]
    }
   ],
   "source": [
    "p = int(input('Enter principle amount : '))\n",
    "t = int(input('Enter time : '))\n",
    "r = float(input('Enter rate of interest : '))\n",
    "\n",
    "simple_interest = p*t*r/100\n",
    "compouand_interest =float(p *(1+r/100)**t-p)\n",
    "print(f'simple interest for {t} years is : ', simple_interest)\n",
    "print(f'compouand interest for {t} years is : ', compouand_interest)"
   ]
  },
  {
   "cell_type": "markdown",
   "id": "0d89cd7b-3ac7-4d43-8c05-dc9601d30384",
   "metadata": {},
   "source": [
    "\n",
    "\n",
    "### Write  a  program  to  swap  values  of  two  objects  using  3rd   object\n",
    "\n",
    "Let  x = 10  and  y = 25\n",
    "What  are  the  values  of  x  and  y  after  swap ?  --->  x = 25  and   y = 10\n",
    "'''\n",
    "[26-07-2025 12:33] +91 99482 50500:"
   ]
  },
  {
   "cell_type": "code",
   "execution_count": 34,
   "id": "ba9d5182-9d46-4a62-8a8d-3d9f8f79d1c3",
   "metadata": {},
   "outputs": [
    {
     "name": "stdin",
     "output_type": "stream",
     "text": [
      "Enter a number :  3\n",
      "Enter a number :  2\n"
     ]
    },
    {
     "name": "stdout",
     "output_type": "stream",
     "text": [
      "Before swap x=3 y=2\n",
      "After swap x=2 y=3\n"
     ]
    }
   ],
   "source": [
    "x = int(input('Enter a number : '))\n",
    "y = int(input('Enter a number : '))\n",
    "print(f'Before swap {x=} {y=}')\n",
    "\n",
    "temp = x\n",
    "x = y\n",
    "y = temp\n",
    "\n",
    "print(f'After swap {x=} {y=}')"
   ]
  },
  {
   "cell_type": "markdown",
   "id": "4f37faa4-8724-4b40-a90b-f546d22ae1e1",
   "metadata": {},
   "source": [
    " \n",
    "### Write  a  program  to  swap  values  of  two  objects  without  using  3rd  object\n",
    "### Hint: One  addition  and  two  subtractions\n",
    "\n",
    "x = 25\n",
    "y =  10\n",
    "'''\n",
    "[26-07-2025 12:35] +91 99482 50500:"
   ]
  },
  {
   "cell_type": "code",
   "execution_count": 35,
   "id": "e1ec6c17-30eb-4f41-bb6a-4d1b1eae04de",
   "metadata": {},
   "outputs": [
    {
     "name": "stdin",
     "output_type": "stream",
     "text": [
      "Enter a number :  3\n",
      "Enter a number :  2\n"
     ]
    },
    {
     "name": "stdout",
     "output_type": "stream",
     "text": [
      "Before swap x=3 y=2\n",
      "After swap x=2 y=3\n"
     ]
    }
   ],
   "source": [
    "x = int(input('Enter a number : '))\n",
    "y = int(input('Enter a number : '))\n",
    "print(f'Before swap {x=} {y=}')\n",
    "\n",
    "x = x+y\n",
    "y = x-y\n",
    "x = x-y\n",
    "\n",
    "print(f'After swap {x=} {y=}')"
   ]
  },
  {
   "cell_type": "markdown",
   "id": "daece1b4-2243-43e0-80e4-92c8e427abea",
   "metadata": {},
   "source": [
    "\n",
    "### Write  a  program  to  swap  values  of  two  objects  without  using  3rd  object\n",
    "\n",
    "### Hint: One  multiplication  and  two  divisions\n",
    "\n",
    "x =  -200\n",
    "y =  100\n",
    "'''"
   ]
  },
  {
   "cell_type": "code",
   "execution_count": 36,
   "id": "caccaf10-651d-4c10-b748-086d18ca0f61",
   "metadata": {},
   "outputs": [
    {
     "name": "stdin",
     "output_type": "stream",
     "text": [
      "Enter a number :  3\n",
      "Enter a number :  2\n"
     ]
    },
    {
     "name": "stdout",
     "output_type": "stream",
     "text": [
      "Before swap x=3 y=2\n",
      "After swap x=2 y=3\n"
     ]
    }
   ],
   "source": [
    "x = int(input('Enter a number : '))\n",
    "y = int(input('Enter a number : '))\n",
    "print(f'Before swap {x=} {y=}')\n",
    "\n",
    "x = x*y\n",
    "y = x//y\n",
    "x = x//y\n",
    "\n",
    "print(f'After swap {x=} {y=}')"
   ]
  },
  {
   "cell_type": "code",
   "execution_count": null,
   "id": "ecdcf71a-37b9-44fa-82ae-5c1a7447a068",
   "metadata": {},
   "outputs": [],
   "source": []
  }
 ],
 "metadata": {
  "kernelspec": {
   "display_name": "Python 3 (ipykernel)",
   "language": "python",
   "name": "python3"
  },
  "language_info": {
   "codemirror_mode": {
    "name": "ipython",
    "version": 3
   },
   "file_extension": ".py",
   "mimetype": "text/x-python",
   "name": "python",
   "nbconvert_exporter": "python",
   "pygments_lexer": "ipython3",
   "version": "3.13.5"
  }
 },
 "nbformat": 4,
 "nbformat_minor": 5
}

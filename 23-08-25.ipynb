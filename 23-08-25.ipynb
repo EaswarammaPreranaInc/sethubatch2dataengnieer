{
 "cells": [
  {
   "cell_type": "code",
   "execution_count": null,
   "id": "753cbeac",
   "metadata": {},
   "outputs": [
    {
     "name": "stdout",
     "output_type": "stream",
     "text": [
      "{None, True, 'Hyd', 10.8, 25}\n"
     ]
    },
    {
     "data": {
      "text/plain": [
       "\"\\nadd()   method\\n-----------------\\n1) What  does  add(x)  do ?  --->  Inserts   'x'  any  where  in  the  set  becoz  set  is  unordered\\n\\n2) How  many  arguments  can  add()  method  take ?  --->  Single\\n\\n3) Is  set . add(mutable-object)  valid ? ---> No  becoz  set  can  not  hold  mutable  element\\n\\n4) In  other  words,  argument  of  add()  method  should  be  immutable  object  only\\n\\n5) What  does  set .  add(sequence)  do  ?  --->\\n\\t\\t\\t\\t\\t\\t\\t\\t\\t\\t\\t\\t\\t\\t\\tInserts  sequence  any  where  in  the  set  but  not  elements  of  sequence\\n\\t\\t\\t\\t\\t\\t\\t\\t\\t\\t\\t\\t\\t\\t\\t(Like  append()  method  of  list  class)\\n\""
      ]
     },
     "execution_count": 3,
     "metadata": {},
     "output_type": "execute_result"
    }
   ],
   "source": [
    "# add()  method  demo  program  (Home  work)\n",
    "a = set()\n",
    "a . add(True)\n",
    "a . add(25)\n",
    "a . add(10.8)\n",
    "a . add(1)\n",
    "a . add('Hyd')\n",
    "a . add(25)\n",
    "a . add(None)\n",
    "a . add('Hyd')\n",
    "a . add(1.0)\n",
    "print(a)\t#{True, 25,10.8,'Hyd',None}\n",
    "a . add(10 , 20 , 30) # error bcz it takes only 1 argument\n",
    "a . add([10,20,30]) # error\n",
    "\n",
    "\n",
    "'''\n",
    "add()   method\n",
    "-----------------\n",
    "1) What  does  add(x)  do ?  --->  Inserts   'x'  any  where  in  the  set  becoz  set  is  unordered\n",
    "\n",
    "2) How  many  arguments  can  add()  method  take ?  --->  Single\n",
    "\n",
    "3) Is  set . add(mutable-object)  valid ? ---> No  becoz  set  can  not  hold  mutable  element\n",
    "\n",
    "4) In  other  words,  argument  of  add()  method  should  be  immutable  object  only\n",
    "\n",
    "5) What  does  set .  add(sequence)  do  ?  --->\n",
    "\t\t\t\t\t\t\t\t\t\t\t\t\t\t\tInserts  sequence  any  where  in  the  set  but  not  elements  of  sequence\n",
    "\t\t\t\t\t\t\t\t\t\t\t\t\t\t\t(Like  append()  method  of  list  class)\n",
    "'''"
   ]
  },
  {
   "cell_type": "code",
   "execution_count": null,
   "id": "f8c4d7f9",
   "metadata": {},
   "outputs": [
    {
     "name": "stdout",
     "output_type": "stream",
     "text": [
      "{25, 10.8, 'Hyd', True}\n",
      "1664057292416\n",
      "{True, 'Hyd', 10.8, (10, 20, 30), 25, 'Sec'}\n",
      "1664057292416\n",
      "6\n"
     ]
    }
   ],
   "source": [
    "# Find  outputs  (Home  work)\n",
    "a = {25 , 10.8 , 'Hyd' , True}\n",
    "tpl = (10 , 20 , 30)\n",
    "print(a)    # {25 , 10.8 , 'Hyd' , True}\n",
    "print(id(a))    # address of tuple a\n",
    "a . add(tpl)  \n",
    "a . add('Sec')  \n",
    "print(a)    # {25 , 10.8 , 'Hyd' , True, (10 , 20 , 30), 'sec}\n",
    "print(id(a))    # same address\n",
    "print(len(a))   #6\n",
    "a . add([100 , 200 , 300])  # error\n",
    "a . add(set())  # error\n",
    "a . add({ })    # error"
   ]
  },
  {
   "cell_type": "code",
   "execution_count": null,
   "id": "4f7827b5",
   "metadata": {},
   "outputs": [
    {
     "name": "stdout",
     "output_type": "stream",
     "text": [
      "{(10, 20, 15, 18)}\n",
      "1\n"
     ]
    }
   ],
   "source": [
    "# Find  outputs (Home  work)\n",
    "s = set()\n",
    "tpl = (10 , 20 , 15 , 18)\n",
    "s . add(tpl)    \n",
    "print(s) #{(10 , 20 , 15 , 18)}\n",
    "print(len(s))   # 1"
   ]
  },
  {
   "cell_type": "code",
   "execution_count": null,
   "id": "abbe52ee",
   "metadata": {},
   "outputs": [
    {
     "name": "stdout",
     "output_type": "stream",
     "text": [
      "4\n",
      "{10, 18, 20, 15}\n"
     ]
    },
    {
     "data": {
      "text/plain": [
       "'\\nupdate()  method\\n--------------------\\n1) What  does  update(sequence)  do ?  ---> Inserts  elements  of  sequence  anywhere  in  the  set  but  not  sequence\\n\\t\\t\\t\\t\\t\\t\\t\\t\\t\\t\\t                         (Like  extend()  method  of  list  class)\\n\\n2) Is  update(non-sequnece)  valid ?   --->  No  becoz  agument  should  be  sequence  only\\n\\n3) How  many  arguments  can  update()  method  take ?  --->  One  (or)  more\\n'"
      ]
     },
     "execution_count": 10,
     "metadata": {},
     "output_type": "execute_result"
    }
   ],
   "source": [
    "# update()  method  demo program  (Home  work)\n",
    "tpl = (10 , 20 , 15, 18 , 10 , 20)\n",
    "s = set()\n",
    "s . update(tpl)\n",
    "print(len(s))\t# 4\n",
    "print(s)\t# {10,20,15,18}\n",
    "s . update(25)\t# error\n",
    "\n",
    "\n",
    "\n",
    "'''\n",
    "update()  method\n",
    "--------------------\n",
    "1) What  does  update(sequence)  do ?  ---> Inserts  elements  of  sequence  anywhere  in  the  set  but  not  sequence\n",
    "\t\t\t\t\t\t\t\t\t\t\t                         (Like  extend()  method  of  list  class)\n",
    "\n",
    "2) Is  update(non-sequnece)  valid ?   --->  No  becoz  agument  should  be  sequence  only\n",
    "\n",
    "3) How  many  arguments  can  update()  method  take ?  --->  One  (or)  more\n",
    "'''"
   ]
  },
  {
   "cell_type": "code",
   "execution_count": null,
   "id": "9af85eb3",
   "metadata": {},
   "outputs": [
    {
     "name": "stdout",
     "output_type": "stream",
     "text": [
      "{50, 20, 70, 40, 10, 60, 30}\n",
      "7\n"
     ]
    }
   ],
   "source": [
    "# Find  outputs  (Home  work)\n",
    "a = [10 , 20 , 30]\n",
    "b = {30 , 40,50 }\n",
    "c = (50 , 60 , 70)\n",
    "s = set()\n",
    "s . update(a , b , c)\n",
    "print(s)    #{ 10 , 20 ,30 , 40,50 , 60 , 70} in any order\n",
    "print(len(s))   # 7\n",
    "s . add(a , b , c)  # error"
   ]
  },
  {
   "cell_type": "code",
   "execution_count": null,
   "id": "0a5d9f45",
   "metadata": {},
   "outputs": [
    {
     "name": "stdout",
     "output_type": "stream",
     "text": [
      "{'o', ' ', 'm', 'R', 'a'}\n",
      "5\n"
     ]
    }
   ],
   "source": [
    "# Find  outputs  (Home  work)\n",
    "a = set()\n",
    "a . update('Rama Rao')\n",
    "print(a)    # {'R','a','m', ' ' , 'o'}\n",
    "print(len(a))   # 5\n",
    "a . update(3 + 4j , 10.8 , True)    # error"
   ]
  },
  {
   "cell_type": "code",
   "execution_count": null,
   "id": "0b34267a",
   "metadata": {},
   "outputs": [
    {
     "name": "stdout",
     "output_type": "stream",
     "text": [
      "{10, 18, 20, 15}\n",
      "{10, 18, 20, 15}\n",
      "False\n",
      "True\n",
      "True\n"
     ]
    },
    {
     "data": {
      "text/plain": [
       "'\\ncopy()  method\\n------------------\\n1) What  does  copy()  method  do ?  --->  Returns  a  new  set  with  same  elements\\n\\n2) a = b\\n    What  does  the  statement  do ?  --->  Reference  copy\\n\\t\\t\\t\\t\\t\\t\\t\\t\\t\\t\\t\\t\\t\\t\\t\\t  i.e.  id  is  copied\\n\\n3) What  is  shallow  clone ?  --->  Reference  copy\\n     What  is  deep  clone ?  ---> Object  copy\\n'"
      ]
     },
     "execution_count": 15,
     "metadata": {},
     "output_type": "execute_result"
    }
   ],
   "source": [
    "# copy()  method  demo  program  (Home  work)\n",
    "a = {10 , 20 , 15 , 18}\n",
    "print(a)  # {10 , 20 , 15 , 18} in any order\n",
    "b = a . copy() \n",
    "print(b)  #  {10 , 20 , 15 , 18} same as a\n",
    "print(a  is  b)     # False\n",
    "print(a  ==  b)     # True\n",
    "c = a   \n",
    "print(a  is  c)     # True\n",
    "\n",
    "\n",
    "'''\n",
    "copy()  method\n",
    "------------------\n",
    "1) What  does  copy()  method  do ?  --->  Returns  a  new  set  with  same  elements\n",
    "\n",
    "2) a = b\n",
    "    What  does  the  statement  do ?  --->  Reference  copy\n",
    "\t\t\t\t\t\t\t\t\t\t\t\t\t\t\t\t  i.e.  id  is  copied\n",
    "\n",
    "3) What  is  shallow  clone ?  --->  Reference  copy\n",
    "     What  is  deep  clone ?  ---> Object  copy\n",
    "'''"
   ]
  },
  {
   "cell_type": "code",
   "execution_count": null,
   "id": "23b0fbdd",
   "metadata": {},
   "outputs": [
    {
     "name": "stdout",
     "output_type": "stream",
     "text": [
      "{25, 10.8, 'Hyd', True}\n",
      "25\n",
      "10.8\n",
      "Hyd\n",
      "True\n",
      "set()\n"
     ]
    },
    {
     "data": {
      "text/plain": [
       "'\\npop()  method\\n----------------\\n1) What  does  pop(No-args)  method  do ?  --->  Removes  first  element  of  the  set  and  returns  the  deleted  element\\n\\n2) What  does  emptyset . pop()  do ?  --->  Throws  error\\n\\n3) Is  set . pop(index)  valid ?  --->  No  becoz  set  is  not  indexed\\n\\n4) How  many  arguments  can  pop()  method  take  ?  --->  Zero\\n'"
      ]
     },
     "execution_count": 18,
     "metadata": {},
     "output_type": "execute_result"
    }
   ],
   "source": [
    "# pop()  method  demo  program  (Home  work)\n",
    "a = {25 , 10.8 , 'Hyd' , True}\n",
    "print(a)    # {25 , 10.8 , 'Hyd' , True} in any order\n",
    "print(a . pop())    #25\n",
    "print(a . pop())    # 10.8\n",
    "print(a . pop())    # Hyd\n",
    "print(a . pop())    # True\n",
    "print(a . pop())   # error\n",
    "print(a)    # set()\n",
    "b = {10 , 20 , 30 , 40}\n",
    "print(b . pop(2)) # error bcz it takes only 1 argument\n",
    "\n",
    "\n",
    "'''\n",
    "pop()  method\n",
    "----------------\n",
    "1) What  does  pop(No-args)  method  do ?  --->  Removes  first  element  of  the  set  and  returns  the  deleted  element\n",
    "\n",
    "2) What  does  emptyset . pop()  do ?  --->  Throws  error\n",
    "\n",
    "3) Is  set . pop(index)  valid ?  --->  No  becoz  set  is  not  indexed\n",
    "\n",
    "4) How  many  arguments  can  pop()  method  take  ?  --->  Zero\n",
    "'''"
   ]
  },
  {
   "cell_type": "code",
   "execution_count": null,
   "id": "b61e9b92",
   "metadata": {},
   "outputs": [
    {
     "name": "stdout",
     "output_type": "stream",
     "text": [
      "{25, 10.8, 'Hyd', True}\n",
      "{25, 10.8, True}\n"
     ]
    },
    {
     "data": {
      "text/plain": [
       "\"\\nremove()   method\\n----------------------\\n1) What  does  remove(x)  do ?  --->  Removes  'x'  from  the   set\\n\\n2) What  does  remove(Invalid-element)  do ?  --->  Throws  error\\n\\n3) What  is  the  argument  of  remove()  method ?  --->  Element  to  be  removed\\n\""
      ]
     },
     "execution_count": 20,
     "metadata": {},
     "output_type": "execute_result"
    }
   ],
   "source": [
    "# remove()  method  demo  program  (Home  work)\n",
    "a = {25 , 10.8 , 'Hyd' , True}\n",
    "print(a)    # {25 , 10.8 , 'Hyd' , True} in any order\n",
    "a . remove('Hyd')\n",
    "print(a)    # {25 , 10.8 , True}\n",
    "a . remove('Sec')   # error bcz which is not present in set\n",
    "\n",
    "\n",
    "'''\n",
    "remove()   method\n",
    "----------------------\n",
    "1) What  does  remove(x)  do ?  --->  Removes  'x'  from  the   set\n",
    "\n",
    "2) What  does  remove(Invalid-element)  do ?  --->  Throws  error\n",
    "\n",
    "3) What  is  the  argument  of  remove()  method ?  --->  Element  to  be  removed\n",
    "'''"
   ]
  },
  {
   "cell_type": "code",
   "execution_count": null,
   "id": "5e0297b1",
   "metadata": {},
   "outputs": [
    {
     "name": "stdout",
     "output_type": "stream",
     "text": [
      "{25, 10.8, 'Hyd', True}\n",
      "{25, 10.8, True}\n",
      "{25, 10.8, True}\n"
     ]
    },
    {
     "data": {
      "text/plain": [
       "\"\\ndiscard()  method\\n---------------------\\n1) What  does  discard(x)  do ?  --->  Removes  'x'  from  the  set\\n\\n2) What  does  discard(Invalid-element)  do ?  --->  Nothing\\n\\n3) In  other  words,  discard(invalid-element)  does  not  raise  error  nor  deletion\\n\""
      ]
     },
     "execution_count": 22,
     "metadata": {},
     "output_type": "execute_result"
    }
   ],
   "source": [
    "# discard()  method  demo  program (Home  work)\n",
    "a = {25 , 10.8 , 'Hyd' , True}\n",
    "print(a)    #  {25 , 10.8 , 'Hyd' , True} in any order\n",
    "a . discard('Hyd')  \n",
    "print(a)    #  {25 , 10.8 ,True}\n",
    "a . discard('Sec')\n",
    "print(a)    #  {25 , 10.8 ,True} bcz it not throws any error if the element is not found\n",
    "a . remove('Sec')   # error\n",
    "\n",
    "\n",
    "'''\n",
    "discard()  method\n",
    "---------------------\n",
    "1) What  does  discard(x)  do ?  --->  Removes  'x'  from  the  set\n",
    "\n",
    "2) What  does  discard(Invalid-element)  do ?  --->  Nothing\n",
    "\n",
    "3) In  other  words,  discard(invalid-element)  does  not  raise  error  nor  deletion\n",
    "'''"
   ]
  },
  {
   "cell_type": "code",
   "execution_count": 23,
   "id": "dd42e494",
   "metadata": {},
   "outputs": [
    {
     "name": "stdout",
     "output_type": "stream",
     "text": [
      "{10, 18, 20, 15}\n",
      "set()\n",
      "0\n"
     ]
    },
    {
     "data": {
      "text/plain": [
       "'\\nclear()  method\\n------------------\\nWhat  does  clear()  method  do ?  --->  Removes  all  the  elements  of  set  and  set  becomes  empty\\n'"
      ]
     },
     "execution_count": 23,
     "metadata": {},
     "output_type": "execute_result"
    }
   ],
   "source": [
    "# clear()  method  demo  program (Home  work)\n",
    "a = {10 , 20 , 15 , 18}\n",
    "print(a)    # {10 , 20 , 15 , 18} in any order\n",
    "a . clear()\n",
    "print(a)    # set()\n",
    "print(len(a))   # 0\n",
    "\n",
    "\n",
    "'''\n",
    "clear()  method\n",
    "------------------\n",
    "What  does  clear()  method  do ?  --->  Removes  all  the  elements  of  set  and  set  becomes  empty\n",
    "'''"
   ]
  },
  {
   "cell_type": "code",
   "execution_count": null,
   "id": "c3915047",
   "metadata": {},
   "outputs": [
    {
     "name": "stdout",
     "output_type": "stream",
     "text": [
      "{40, 10, 50, 20, 60, 30}\n"
     ]
    }
   ],
   "source": [
    "# Find  outputs  (Home work)\n",
    "a = {10 , 20 , 30 , 40}\n",
    "b = [30 , 40 , 50 , 60]\n",
    "print(a . union(b)) # {10 , 20 , 30 , 40, 50 , 60} in any order\n",
    "print(a | b) # error bcz we can not concatenate set and list\n",
    "print(b . union(a)) # error bcz list doesnt have union method\n",
    "print(a + b)    # error bcz we can not concatenate set and list"
   ]
  }
 ],
 "metadata": {
  "kernelspec": {
   "display_name": "Python 3",
   "language": "python",
   "name": "python3"
  },
  "language_info": {
   "codemirror_mode": {
    "name": "ipython",
    "version": 3
   },
   "file_extension": ".py",
   "mimetype": "text/x-python",
   "name": "python",
   "nbconvert_exporter": "python",
   "pygments_lexer": "ipython3",
   "version": "3.12.10"
  }
 },
 "nbformat": 4,
 "nbformat_minor": 5
}

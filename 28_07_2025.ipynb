{
 "cells": [
  {
   "cell_type": "raw",
   "id": "c7d03183",
   "metadata": {},
   "source": [
    "Write  a  program  to  add ,  subtract , multiply  and  divide  two  complex  numbers\n",
    "\n",
    "First  complex  number   --->  3 + 4j\n",
    "2nd   complex  number   --->  5 + 6j\n",
    "What  is  the  sum ? ---> (3 + 4j) + (5 + 6j) = 8 + 10j\n",
    "What  is  the  difference ?  ---> (3 + 4j) - (5 + 6j) =  -2 - 2j\n",
    "What  is  the  product ?  ---> (3 + 4j) * (5 + 6j) =  15 + 18j + 20j - 24 =  -9 + 38j\n",
    "\n",
    "\n",
    "What  is  the  division ?  ---> (3 + 4j) / (5 + 6j) = (3 + 4j) * (5 - 6j) / (5 + 6j) * (5 -6j)\n",
    "                                                                         =   (15 - 18j + 20j + 24) / (25 + 36)\n",
    "\t\t\t\t\t\t\t\t\t\t\t\t\t\t\t\t\t\t = 39 / 61 + 2j / 61"
   ]
  },
  {
   "cell_type": "code",
   "execution_count": 15,
   "id": "0f10411e",
   "metadata": {},
   "outputs": [
    {
     "name": "stdout",
     "output_type": "stream",
     "text": [
      "Enter first complex number3+4j\n",
      "Enter second complex number5+6j\n",
      "Sum : (8+10j)\n",
      "Difference : (-2-2j)\n",
      "product : (-9+38j)\n",
      "Division : (0.6393442622950819+0.03278688524590165j)\n"
     ]
    }
   ],
   "source": [
    "try:\n",
    "    a=complex(input('Enter first complex number'))\n",
    "    b=complex(input('Enter second complex number'))\n",
    "    print(f'Sum : {a+b}')\n",
    "    print(f'Difference : {a-b}')\n",
    "    print(f'product : {a*b}')\n",
    "    print(f'Division : {a/b}')\n",
    "except:\n",
    "    print('enter complex no only')"
   ]
  },
  {
   "cell_type": "code",
   "execution_count": 13,
   "id": "fc54818d",
   "metadata": {},
   "outputs": [
    {
     "name": "stdout",
     "output_type": "stream",
     "text": [
      "enter any number: 9\n",
      "odd\n"
     ]
    }
   ],
   "source": [
    "# Write  a  program  to  determine  a  number  is  even  or  odd  with   if  statement\n",
    "try:\n",
    "    n=int(input(\"enter any number: \"))\n",
    "    if n%2==0:\n",
    "        print(\"even\")\n",
    "    else:\n",
    "        print(\"odd\")\n",
    "except:\n",
    "    print(\"enter int value only\")"
   ]
  },
  {
   "cell_type": "code",
   "execution_count": 9,
   "id": "729517bf",
   "metadata": {},
   "outputs": [
    {
     "name": "stdout",
     "output_type": "stream",
     "text": [
      "enter no between 1-129\n",
      "Sec\n"
     ]
    }
   ],
   "source": [
    "# Write   a  program  to  print  month  name  for  input  month  number  by  using  if  and  elif  (Home  work)\n",
    "try:\n",
    "    m=int(input('enter no between (1-12) '))\n",
    "    if m==1:\n",
    "        print('Jan')\n",
    "    elif m==2:\n",
    "        print('Feb')\n",
    "    elif m==3:\n",
    "        print('Mar')\n",
    "    elif m==4:\n",
    "        print('April')\n",
    "    elif m==5:\n",
    "        print('May')\n",
    "    elif m==6:\n",
    "        print('June')\n",
    "    elif m==7:\n",
    "        print('July')\n",
    "    elif m==8:\n",
    "        print('Aug')\n",
    "    elif m==9:\n",
    "        print('Sep')\n",
    "    elif m==10:\n",
    "        print('Oct')\n",
    "    elif m==11:\n",
    "        print('Nov')\n",
    "    elif m==12:\n",
    "        print('Dec')\n",
    "    else:\n",
    "        print('Enter no between (1-12) only')\n",
    "except:\n",
    "    print('Input  should  be  an  integer')\n"
   ]
  },
  {
   "cell_type": "code",
   "execution_count": 19,
   "id": "0d6461f3",
   "metadata": {},
   "outputs": [
    {
     "name": "stdout",
     "output_type": "stream",
     "text": [
      "enter no between 1-9 9\n",
      "Nine\n"
     ]
    }
   ],
   "source": [
    "'''\n",
    "Write  a  program  to  print  digit  in  words  with  else  and  if  (do  not  use  elif)\n",
    "0 - Zero\n",
    "1 - One\n",
    "2 - Two\n",
    "....\n",
    "9 - Nine\n",
    "10 - Invalid\n",
    "'''\n",
    "\n",
    "\n",
    "try:\n",
    "    d=int(input(\"enter no between 1-9 \"))\n",
    "    if d==0:\n",
    "        print('Zero')\n",
    "    else:\n",
    "        if d==1:\n",
    "            print('One')\n",
    "        else:\n",
    "            if d==2:\n",
    "                print('Two')\n",
    "            else:\n",
    "                if d==3:\n",
    "                    print('Three')\n",
    "                else:\n",
    "                    if d==4:\n",
    "                        print('Four')\n",
    "                    else:\n",
    "                        if d==5:\n",
    "                            print('Five')\n",
    "                        else:\n",
    "                            if d==6:\n",
    "                                print('Six')\n",
    "                            else:\n",
    "                                if d==7:\n",
    "                                    print('seven')\n",
    "                                else:\n",
    "                                    if d==8:\n",
    "                                        print('Eight')\n",
    "                                    else:\n",
    "                                        if d==9:\n",
    "                                            print('Nine')\n",
    "                                        else:\n",
    "                                            print('Invalid')\n",
    "except:\n",
    "    print('enter integer value only')"
   ]
  }
 ],
 "metadata": {
  "kernelspec": {
   "display_name": "Python 3 (ipykernel)",
   "language": "python",
   "name": "python3"
  },
  "language_info": {
   "codemirror_mode": {
    "name": "ipython",
    "version": 3
   },
   "file_extension": ".py",
   "mimetype": "text/x-python",
   "name": "python",
   "nbconvert_exporter": "python",
   "pygments_lexer": "ipython3",
   "version": "3.11.5"
  }
 },
 "nbformat": 4,
 "nbformat_minor": 5
}

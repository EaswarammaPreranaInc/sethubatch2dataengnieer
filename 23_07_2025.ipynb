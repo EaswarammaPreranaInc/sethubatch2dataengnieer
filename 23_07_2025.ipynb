{
 "cells": [
  {
   "cell_type": "code",
   "execution_count": 32,
   "id": "181c105b",
   "metadata": {},
   "outputs": [
    {
     "name": "stdout",
     "output_type": "stream",
     "text": [
      "25\n",
      "26\n",
      "25\n",
      "26\n",
      "-25\n",
      "-25\n"
     ]
    }
   ],
   "source": [
    "a = 25\n",
    "print(++a)  #  +(+a) = +a  =  25\n",
    "#print(a++)#  (a+)+  =  a+ =  25+  throws   error\n",
    "print(a++1)  #  a + (+1)  =  a +  1 = 25 + 1  = 26\n",
    "print(--a)\t#-(-a)= +a=25\n",
    "#print(a--)\t#a-(-)=a+=25+ Error\n",
    "print(a--1)\t#a-(-1)=a+1=25+1=26\n",
    "print(-a)\t#-(a)=-a=25\n",
    "print(+-a)\t#+(-a)=-a=-25\n"
   ]
  },
  {
   "cell_type": "code",
   "execution_count": 34,
   "id": "7d89f501",
   "metadata": {},
   "outputs": [
    {
     "name": "stdout",
     "output_type": "stream",
     "text": [
      "One\n",
      "Two\n",
      "Three\n",
      "Hyd\n",
      "Sec\n",
      "Cyb\n"
     ]
    }
   ],
   "source": [
    "print('One');\t\t#One\n",
    "print('Two');\t\t#Two\n",
    "print('Three');\t\t#Three\n",
    "print('Hyd')  ;   print('Sec');print('Cyb')  #Hyd <nextline> Sec <next line> Cyb"
   ]
  },
  {
   "cell_type": "code",
   "execution_count": 37,
   "id": "8286245e",
   "metadata": {},
   "outputs": [
    {
     "name": "stdout",
     "output_type": "stream",
     "text": [
      "10\n",
      "11\n",
      "25\n",
      "25\n",
      "-4\n",
      "-3\n",
      "-9\n",
      "-9\n",
      "25\n",
      "26\n"
     ]
    }
   ],
   "source": [
    "#  floor()  and  ceil()  functions  demo  program\n",
    "import  math\n",
    "print(math . floor(10.8))  #10\n",
    "print(math . ceil(10.8)) #  11\n",
    "print(math . floor(25.0)) #25\n",
    "print(math . ceil(25.0))#25\n",
    "print(math . floor(-3.5))#-4\n",
    "print(math . ceil(-3.5))#-3\n",
    "print(math . floor(-9.0))#-9\n",
    "print(math . ceil(-9.0))#-9\n",
    "print(math . floor(25.1))#25\n",
    "print(math . ceil(25.1))#26\n",
    "#print(floor(3.5)) #Error\n",
    "#print(ceil(3.5))  #Error"
   ]
  },
  {
   "cell_type": "code",
   "execution_count": 39,
   "id": "9ce7fcf5",
   "metadata": {},
   "outputs": [
    {
     "name": "stdout",
     "output_type": "stream",
     "text": [
      "3\n",
      "6\n",
      "1\n",
      "7\n",
      "9\n",
      "2\n",
      "7\n",
      "3\n",
      "0\n"
     ]
    }
   ],
   "source": [
    "# gcd()  function  demo  program\n",
    "import  math\n",
    "print(math . gcd(12 , 15)) #    3\n",
    "print(math . gcd(12 , 18))  #  6\n",
    "print(math . gcd(4 , 7)) #   1\n",
    "print(math . gcd(7 , 7))\t#7\n",
    "print(math . gcd(-18 , -27))#9\n",
    "print(math . gcd(-4 , 6))#2\n",
    "print(math . gcd(0 , 7))#7\n",
    "print(math . gcd(3 , 0))#3\t\n",
    "print(math . gcd(0 , 0)) #0\n",
    "#print(gcd(5 , 15))#Error"
   ]
  },
  {
   "cell_type": "code",
   "execution_count": 41,
   "id": "431e3f01",
   "metadata": {},
   "outputs": [
    {
     "name": "stdout",
     "output_type": "stream",
     "text": [
      "35.8\n",
      "27\n",
      "29.5\n",
      "32\n",
      "25\n"
     ]
    }
   ],
   "source": [
    "#  abs()  function  demo  program\n",
    "from  builtins  import  abs\n",
    "print(abs(-35.8))\t#35.8\n",
    "print(abs(-27))\t\t#27\n",
    "print(abs(29.5))\t#29.5\n",
    "print(abs(32))\t\t#32\n",
    "import  builtins\n",
    "print(builtins.abs(-25))#25"
   ]
  },
  {
   "cell_type": "code",
   "execution_count": 46,
   "id": "b7271b1c",
   "metadata": {},
   "outputs": [
    {
     "name": "stdout",
     "output_type": "stream",
     "text": [
      "20.6\n",
      "5.9\n",
      "25\n",
      "30\n",
      "5\n"
     ]
    }
   ],
   "source": [
    "\n",
    "#  max()  and  min()   functions  demo  program\n",
    "from  builtins  import   max , min\n",
    "print(max(10.8 , 20.6))\t\t#20.6\n",
    "print(min(10.8 , 20.6 , 5.9 , 12.3))#5.9\n",
    "print(max(25 , 10.8))\t\t#25\n",
    "import  builtins\n",
    "print(builtins . max(10 , 20 , 30))#30\n",
    "print(builtins . min(10 ,20,15,5,12))#5\n"
   ]
  },
  {
   "cell_type": "code",
   "execution_count": 49,
   "id": "70150517",
   "metadata": {},
   "outputs": [
    {
     "name": "stdout",
     "output_type": "stream",
     "text": [
      "0.01\n",
      "262144\n",
      "8\n",
      "-0.125\n"
     ]
    }
   ],
   "source": [
    "# pow()  function  demo  program\n",
    "from  builtins  import  pow\n",
    "print(pow(10 , -2))\t\t#0.01\n",
    "print(pow(4 , pow(3 , 2)))\t#pow(4,3^2)=pow(4,9)=4^9\n",
    "import  builtins\n",
    "print(builtins . pow(2 , 3))\t#2^3=8\n",
    "print(builtins.pow(-2,-3))\t#-2^-3=1(-2^3)=-1/8=-0.125"
   ]
  },
  {
   "cell_type": "code",
   "execution_count": 53,
   "id": "65b8d64b",
   "metadata": {},
   "outputs": [
    {
     "name": "stdout",
     "output_type": "stream",
     "text": [
      "['False', 'None', 'True', 'and', 'as', 'assert', 'async', 'await', 'break', 'class', 'continue', 'def', 'del', 'elif', 'else', 'except', 'finally', 'for', 'from', 'global', 'if', 'import', 'in', 'is', 'lambda', 'nonlocal', 'not', 'or', 'pass', 'raise', 'return', 'try', 'while', 'with', 'yield']\n",
      "<class 'list'>\n",
      "['False', 'None', 'True', 'and', 'as', 'assert', 'async', 'await', 'break', 'class', 'continue', 'def', 'del', 'elif', 'else', 'except', 'finally', 'for', 'from', 'global', 'if', 'import', 'in', 'is', 'lambda', 'nonlocal', 'not', 'or', 'pass', 'raise', 'return', 'try', 'while', 'with', 'yield']\n"
     ]
    }
   ],
   "source": [
    "# Find  outputs\n",
    "#How  to  import   kw  list\n",
    "import keyword\n",
    "#How  to  print  kwlist\t\t#\n",
    "print(keyword.kwlist)\n",
    "#How  to  print  number  of  keywords\t#\n",
    "len(keyword.kwlist)\n",
    "#How  to  print  type  of kwlist\t#\n",
    "print(type(kwlist))\n",
    "print(keyword.kwlist)\t#list values will print with 35 elements\n",
    "\n"
   ]
  },
  {
   "cell_type": "code",
   "execution_count": 54,
   "id": "b2dd9f76",
   "metadata": {},
   "outputs": [
    {
     "name": "stdout",
     "output_type": "stream",
     "text": [
      "['False', 'None', 'True', 'and', 'as', 'assert', 'async', 'await', 'break', 'class', 'continue', 'def', 'del', 'elif', 'else', 'except', 'finally', 'for', 'from', 'global', 'if', 'import', 'in', 'is', 'lambda', 'nonlocal', 'not', 'or', 'pass', 'raise', 'return', 'try', 'while', 'with', 'yield']\n",
      "35\n",
      "<class 'list'>\n",
      "['False', 'None', 'True', 'and', 'as', 'assert', 'async', 'await', 'break', 'class', 'continue', 'def', 'del', 'elif', 'else', 'except', 'finally', 'for', 'from', 'global', 'if', 'import', 'in', 'is', 'lambda', 'nonlocal', 'not', 'or', 'pass', 'raise', 'return', 'try', 'while', 'with', 'yield']\n"
     ]
    }
   ],
   "source": [
    "#  Find  outputs  (Home  work)\n",
    "#How  to  import   keyword  module \t#\n",
    "from keyword import kwlist\n",
    "#How  to  print  kwlist\t\t\t#\\\n",
    "print(kwlist)\n",
    "#How  to  print  number  of  keywords\t#\n",
    "print(len(kwlist))\n",
    "#How  to  print  type  of kwlist\t\t#\n",
    "print(type(kwlist))\n",
    "print(kwlist)\t\t\t\t#list elements will printed"
   ]
  },
  {
   "cell_type": "code",
   "execution_count": null,
   "id": "26abbc3e",
   "metadata": {},
   "outputs": [],
   "source": []
  }
 ],
 "metadata": {
  "kernelspec": {
   "display_name": "Python 3 (ipykernel)",
   "language": "python",
   "name": "python3"
  },
  "language_info": {
   "codemirror_mode": {
    "name": "ipython",
    "version": 3
   },
   "file_extension": ".py",
   "mimetype": "text/x-python",
   "name": "python",
   "nbconvert_exporter": "python",
   "pygments_lexer": "ipython3",
   "version": "3.11.5"
  }
 },
 "nbformat": 4,
 "nbformat_minor": 5
}

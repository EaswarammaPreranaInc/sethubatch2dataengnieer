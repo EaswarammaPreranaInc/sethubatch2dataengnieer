{
 "cells": [
  {
   "cell_type": "markdown",
   "id": "09009c40",
   "metadata": {},
   "source": [
    "### 13/08/25"
   ]
  },
  {
   "cell_type": "code",
   "execution_count": 23,
   "id": "c25d7410",
   "metadata": {},
   "outputs": [
    {
     "name": "stdout",
     "output_type": "stream",
     "text": [
      "AO\n"
     ]
    }
   ],
   "source": [
    "'''\n",
    "Write  a  program  to  print  distinct  vowels  of  the  string  without  using  set\n",
    "\n",
    "1) Let  input  be   RaMA  rAo\n",
    "    What  is  the  output ?  ---> AO\n",
    "\n",
    "2) Hint  1:  Same  as   prog3e  with  minor  changes\n",
    "\n",
    "3) What  does  'hyd' . upper()  do ? --->  Returns  'HYD'\n",
    "'''\n",
    "\n",
    "st=input(\"Enter string: \")  # RaMA  rAo\n",
    "s=''\n",
    "for i in st:\n",
    "    if i in 'AEIOUaeiou':\n",
    "        if i not in s:\n",
    "            s+=i.upper()\n",
    "print(s)"
   ]
  },
  {
   "cell_type": "markdown",
   "id": "857cb123",
   "metadata": {},
   "source": [
    "### 14/08/25"
   ]
  },
  {
   "cell_type": "code",
   "execution_count": null,
   "id": "71a64be7",
   "metadata": {},
   "outputs": [
    {
     "name": "stdout",
     "output_type": "stream",
     "text": [
      "4\n",
      "23\n",
      "42\n",
      "46\n",
      "End\n"
     ]
    }
   ],
   "source": [
    "'''\n",
    "Modify  following  program  with  walrus  operator\n",
    "\n",
    "Hint:  Combine  lines  7 , 8  and  10  to  a  single  line  with  walrus  operator\n",
    "'''\n",
    "a = 'Hyd is green city. Hyd is hitec city. Hyd is his cityi'\n",
    "while (index := a . find('is' , index + 1))!=-1:\n",
    "\tprint(index)\n",
    "\n",
    "print('End')"
   ]
  },
  {
   "cell_type": "code",
   "execution_count": null,
   "id": "6cc0c6b7",
   "metadata": {},
   "outputs": [
    {
     "name": "stdout",
     "output_type": "stream",
     "text": [
      "4\n",
      "23\n",
      "42\n",
      "46\n"
     ]
    },
    {
     "ename": "ValueError",
     "evalue": "substring not found",
     "output_type": "error",
     "traceback": [
      "\u001b[31m---------------------------------------------------------------------------\u001b[39m",
      "\u001b[31mValueError\u001b[39m                                Traceback (most recent call last)",
      "\u001b[36mCell\u001b[39m\u001b[36m \u001b[39m\u001b[32mIn[12]\u001b[39m\u001b[32m, line 10\u001b[39m\n\u001b[32m      8\u001b[39m \u001b[38;5;28;01mwhile\u001b[39;00m  index != -\u001b[32m1\u001b[39m:\n\u001b[32m      9\u001b[39m \t\u001b[38;5;28mprint\u001b[39m(index)\n\u001b[32m---> \u001b[39m\u001b[32m10\u001b[39m \tindex = \u001b[43ma\u001b[49m\u001b[43m \u001b[49m\u001b[43m.\u001b[49m\u001b[43m \u001b[49m\u001b[43mindex\u001b[49m\u001b[43m(\u001b[49m\u001b[33;43m'\u001b[39;49m\u001b[33;43mis\u001b[39;49m\u001b[33;43m'\u001b[39;49m\u001b[43m \u001b[49m\u001b[43m,\u001b[49m\u001b[43m \u001b[49m\u001b[43mindex\u001b[49m\u001b[43m \u001b[49m\u001b[43m+\u001b[49m\u001b[43m \u001b[49m\u001b[32;43m1\u001b[39;49m\u001b[43m)\u001b[49m\n\u001b[32m     11\u001b[39m \u001b[38;5;28mprint\u001b[39m(\u001b[33m'\u001b[39m\u001b[33mEnd\u001b[39m\u001b[33m'\u001b[39m)\n\u001b[32m     15\u001b[39m \u001b[33;03m'''\u001b[39;00m\n\u001b[32m     16\u001b[39m \u001b[33;03mindex()  method\u001b[39;00m\n\u001b[32m     17\u001b[39m \u001b[33;03m-------------------\u001b[39;00m\n\u001b[32m   (...)\u001b[39m\u001b[32m     20\u001b[39m \u001b[33;03mSyntax :  Same  as   find()  method\u001b[39;00m\n\u001b[32m     21\u001b[39m \u001b[33;03m'''\u001b[39;00m\n",
      "\u001b[31mValueError\u001b[39m: substring not found"
     ]
    }
   ],
   "source": [
    "'''  (Home  work)\n",
    "index()  method  demo  program\n",
    "\n",
    "Modify  the  following  program  with  index()  method\n",
    "'''\n",
    "a = 'Hyd is green city. Hyd is hitec city. Hyd is his cityi'\n",
    "index = a .index('is')\n",
    "while  index != -1:\n",
    "\tprint(index)\n",
    "\tindex = a . index('is' , index + 1)\n",
    "print('End')\n",
    "\n",
    "'''\n",
    "index()  method\n",
    "-------------------\n",
    "It  is  same  as  find()  method  except  that  it  throws   error (but  not  -1) when  string  is  not  found\n",
    "\n",
    "Syntax :  Same  as   find()  method\n",
    "'''"
   ]
  },
  {
   "cell_type": "code",
   "execution_count": 1,
   "id": "82194b2f",
   "metadata": {},
   "outputs": [
    {
     "name": "stdout",
     "output_type": "stream",
     "text": [
      "4\n",
      "23\n",
      "42\n",
      "46\n",
      "End\n"
     ]
    }
   ],
   "source": [
    "a = 'Hyd is green city. Hyd is hitec city. Hyd is his city'\n",
    "try:\n",
    "    start=0\n",
    "    while True:\n",
    "        b=a.index('is',start)\n",
    "        print(b)\n",
    "        start=b+1\n",
    "except ValueError:\n",
    "    print('End')"
   ]
  },
  {
   "cell_type": "code",
   "execution_count": 3,
   "id": "036e0990",
   "metadata": {},
   "outputs": [
    {
     "name": "stdout",
     "output_type": "stream",
     "text": [
      "46\n",
      "End\n"
     ]
    },
    {
     "data": {
      "text/plain": [
       "'\\nrfind()  method\\n-------------------\\n1) What  does  str1 . rfind(str2 , x , y)  do ?  --->   Returns  index  of  str2  in  str1   between  indexes  y - 1  downto  x\\n\\t\\t\\t\\t\\t\\t\\t\\t\\t\\t\\t\\t\\t\\t\\t\\t\\t\\t\\t  i.e. right  to  left\\n\\n2) What  does  str1 . rfind(str2)  do ?  --->  Returns  index  of  str2  in  str1   between  indexes  len(str1) - 1  downto  0\\n\\t\\t\\t\\t\\t\\t\\t\\t\\t\\t\\t\\t\\t\\t\\t\\t     i.e. right  to  left\\n\\n3) What  does  str1 . rfind(str2 , x)  do ?  --->  Returns  index  of  str2  in  str1   between  indexes  x  to  len(str1) - 1\\n\\t\\t\\t\\t\\t\\t\\t\\t\\t\\t\\t\\t\\t\\t                  i.e.  left  to  right\\n\\n4) How  many  arguments  can  rfind()  method  take ?  --->  1 (or) 3  but  not  2\\n\\n5) What  is  the  issue  with  two  arguments ?  --->  Method  searches  from  left  to  right  even  though  it  is  rfind()  method\\n\\n6) What  does  rfind()  method  return  (+ve  (or)  -ve  index) ?  --->  +ve  index  even  though  search  is  from  right  to  left\\n\\n7) What  does  rfind()  method  do  if  str2  is  not  in  str1 ?  --->  Returns  -1  '"
      ]
     },
     "execution_count": 3,
     "metadata": {},
     "output_type": "execute_result"
    }
   ],
   "source": [
    "'''(Home  work)\n",
    "rfind()  method  demo  program\n",
    "\n",
    "Modify  following  program  with  rfind()  method\n",
    "'''\n",
    "a = 'Hyd is green city. Hyd is hitec city. Hyd is his cityi'\n",
    "index = a . rfind('is')\n",
    "while  index != -1:\n",
    "\tprint(index)\n",
    "\tindex = a . rfind('is' , index + 1)\n",
    "print('End')\n",
    "\n",
    "\n",
    "'''\n",
    "rfind()  method\n",
    "-------------------\n",
    "1) What  does  str1 . rfind(str2 , x , y)  do ?  --->   Returns  index  of  str2  in  str1   between  indexes  y - 1  downto  x\n",
    "\t\t\t\t\t\t\t\t\t\t\t\t\t\t\t\t\t\t\t  i.e. right  to  left\n",
    "\n",
    "2) What  does  str1 . rfind(str2)  do ?  --->  Returns  index  of  str2  in  str1   between  indexes  len(str1) - 1  downto  0\n",
    "\t\t\t\t\t\t\t\t\t\t\t\t\t\t\t\t     i.e. right  to  left\n",
    "\n",
    "3) What  does  str1 . rfind(str2 , x)  do ?  --->  Returns  index  of  str2  in  str1   between  indexes  x  to  len(str1) - 1\n",
    "\t\t\t\t\t\t\t\t\t\t\t\t\t\t                  i.e.  left  to  right\n",
    "\n",
    "4) How  many  arguments  can  rfind()  method  take ?  --->  1 (or) 3  but  not  2\n",
    "\n",
    "5) What  is  the  issue  with  two  arguments ?  --->  Method  searches  from  left  to  right  even  though  it  is  rfind()  method\n",
    "\n",
    "6) What  does  rfind()  method  return  (+ve  (or)  -ve  index) ?  --->  +ve  index  even  though  search  is  from  right  to  left\n",
    "\n",
    "7) What  does  rfind()  method  do  if  str2  is  not  in  str1 ?  --->  Returns  -1  '''"
   ]
  },
  {
   "cell_type": "code",
   "execution_count": 2,
   "id": "2b4118bd",
   "metadata": {},
   "outputs": [
    {
     "name": "stdout",
     "output_type": "stream",
     "text": [
      "46\n",
      "42\n",
      "23\n",
      "4\n",
      "End\n"
     ]
    }
   ],
   "source": [
    "a = 'Hyd is green city. Hyd is hitec city. Hyd is his city'\n",
    "end=len(a)\n",
    "while True:\n",
    "    end=a.rfind('is',0,end)\n",
    "    if end==-1:\n",
    "        break\n",
    "    print(end)\n",
    "print('End')"
   ]
  },
  {
   "cell_type": "code",
   "execution_count": 8,
   "id": "1623070d",
   "metadata": {},
   "outputs": [
    {
     "name": "stdout",
     "output_type": "stream",
     "text": [
      "End\n"
     ]
    },
    {
     "data": {
      "text/plain": [
       "'\\nrindex()  method\\n--------------------\\nIt  is  same  as   rfind()  method  except  that  it  throws  error  but  not  -1  when  string  is  not  found\\n'"
      ]
     },
     "execution_count": 8,
     "metadata": {},
     "output_type": "execute_result"
    }
   ],
   "source": [
    "'''  (Home  work)\n",
    "rindex()   method  demo  program\n",
    "\n",
    "Modify  following  program  with  rindex()  method\n",
    "\n",
    "Hint: Use   try  and  except\n",
    "'''\n",
    "#a = 'Hyd is green city. Hyd is hitec city. Hyd is his cityi'\n",
    "a='Hi sir'\n",
    "index = a . rfind('is')\n",
    "while  index != -1:\n",
    "\tprint(index)\n",
    "\tindex = a . rfind('is' , index + 1)\n",
    "print('End')\n",
    "\n",
    "'''\n",
    "rindex()  method\n",
    "--------------------\n",
    "It  is  same  as   rfind()  method  except  that  it  throws  error  but  not  -1  when  string  is  not  found\n",
    "'''"
   ]
  },
  {
   "cell_type": "code",
   "execution_count": 4,
   "id": "aa0fe502",
   "metadata": {},
   "outputs": [
    {
     "name": "stdout",
     "output_type": "stream",
     "text": [
      "46\n",
      "42\n",
      "23\n",
      "4\n",
      "End\n"
     ]
    }
   ],
   "source": [
    "a = 'Hyd is green city. Hyd is hitec city. Hyd is his city'\n",
    "try:\n",
    "    end=len(a)\n",
    "    while True:\n",
    "        end=a.rindex('is',0,end)\n",
    "        print(end)\n",
    "        if end==-1:\n",
    "            break\n",
    "except ValueError:\n",
    "    print('End')"
   ]
  },
  {
   "cell_type": "code",
   "execution_count": 5,
   "id": "95537fee",
   "metadata": {},
   "outputs": [
    {
     "name": "stdout",
     "output_type": "stream",
     "text": [
      "4\n",
      "3\n",
      "0\n"
     ]
    },
    {
     "data": {
      "text/plain": [
       "'\\ncount()\\n---------\\n1) What  does  str1 . count(str2)  do ? --->  Returns  number  of  times  str2  is  found  in  str1\\n\\n2) What  does  str1 . count(str2 , x , y)  do ? --->\\n\\t\\t\\t\\t\\t\\t\\t\\t\\t\\t\\t\\t\\t\\tReturns  number  of  times  str2  is  found  in  str1  between  indexes  x  and  y - 1\\n'"
      ]
     },
     "execution_count": 5,
     "metadata": {},
     "output_type": "execute_result"
    }
   ],
   "source": [
    "#  count()  method  demo  program (Home  work)\n",
    "a = 'Hyd is green city. Hyd is hitec city. Hyd is his city'\n",
    "print(a . count('is')) #4\n",
    "print(a . count('is' , 19 , 48))\t# 3\n",
    "print(a . count('was'))\t# 0\n",
    "\n",
    "\n",
    "'''\n",
    "count()\n",
    "---------\n",
    "1) What  does  str1 . count(str2)  do ? --->  Returns  number  of  times  str2  is  found  in  str1\n",
    "\n",
    "2) What  does  str1 . count(str2 , x , y)  do ? --->\n",
    "\t\t\t\t\t\t\t\t\t\t\t\t\t\tReturns  number  of  times  str2  is  found  in  str1  between  indexes  x  and  y - 1\n",
    "'''"
   ]
  },
  {
   "cell_type": "code",
   "execution_count": 6,
   "id": "3c8ae6b2",
   "metadata": {},
   "outputs": [
    {
     "name": "stdout",
     "output_type": "stream",
     "text": [
      "3\n",
      "3\n",
      "3\n"
     ]
    }
   ],
   "source": [
    "#  Find  outputs  (Home  work)\n",
    "a = 'Hyd is\\tgreen\\ncity.Hyd is\\thitec\\ncity.Hyd is\\this\\ncity'\n",
    "print(a . count(' '))   # 3\n",
    "print(a . count('\\t'))  # 3\n",
    "print(a . count('\\n'))  # 3"
   ]
  },
  {
   "cell_type": "code",
   "execution_count": 1,
   "id": "69933917",
   "metadata": {},
   "outputs": [
    {
     "name": "stdout",
     "output_type": "stream",
     "text": [
      "ba**le\n"
     ]
    }
   ],
   "source": [
    "'''\n",
    "Write  a  program  to  replace  every  occurance  of  first  character  in  the  string  with  '*'  except  first  character\n",
    "\n",
    "Let  input  be  'babble'\n",
    "What  is  the  output ?  ---> ba**le\n",
    "'''\n",
    "inp=input(\"Enter an string : \")#apple\n",
    "f=inp[0]\n",
    "new=''\n",
    "new+=f\n",
    "for i in range(1,len(inp)):\n",
    "    if inp[i]==f:\n",
    "        new+='*'\n",
    "    else:\n",
    "        new+=inp[i]\n",
    "print(new)"
   ]
  },
  {
   "cell_type": "code",
   "execution_count": 2,
   "id": "38f983c3",
   "metadata": {},
   "outputs": [
    {
     "name": "stdout",
     "output_type": "stream",
     "text": [
      "['15', '36', '48']\n",
      "15:36:48\n"
     ]
    }
   ],
   "source": [
    "#  Find  outputs  (Home  work)\n",
    "a = '15:36:48'\n",
    "print(a . split(':')) # )#['15','36','48']\n",
    "print(a)    # 15:36:48"
   ]
  },
  {
   "cell_type": "code",
   "execution_count": null,
   "id": "5d095c38",
   "metadata": {},
   "outputs": [
    {
     "name": "stdout",
     "output_type": "stream",
     "text": [
      "['Hyd\\nis', 'green\\tcity']\n",
      "['Hyd', 'is', 'green', 'city']\n",
      "['Hyd\\nis ', '\\tcity']\n"
     ]
    }
   ],
   "source": [
    "# Find  outputs  (Home  work)\n",
    "a = 'Hyd\\nis green\\tcity'\n",
    "print(a . split(' '))   # ['Hyd\\nis', 'green\\tcity']\n",
    "print(a . split())  # ['Hyd', 'is', 'green', 'city']\n",
    "print(a . split('green'))   # ['Hyd\\nis ', '\\tcity']\n",
    "print(a . split(''))    # #error bcz split with empty string"
   ]
  },
  {
   "cell_type": "code",
   "execution_count": 9,
   "id": "da35cf40",
   "metadata": {},
   "outputs": [
    {
     "name": "stdout",
     "output_type": "stream",
     "text": [
      "['Hyd', 'is', 'green', 'city']\n",
      "['Hyd', 'is', 'green', 'city']\n",
      "['Hyd\\tis\\tgreen\\tcity']\n"
     ]
    }
   ],
   "source": [
    "# Find  outputs  (Home  work)\n",
    "a = 'Hyd\tis\tgreen\tcity' #  There  is  tab  between  the  words\n",
    "print(a . split('\\t'))  # #['Hyd','is,'green','city']\n",
    "print(a . split())  # #['Hyd', 'is', 'green', 'city']\n",
    "print(a . split(' '))   ##['Hyd\\tis\\tgreen\\tcity']"
   ]
  },
  {
   "cell_type": "code",
   "execution_count": null,
   "id": "47ba51a2",
   "metadata": {},
   "outputs": [
    {
     "name": "stdout",
     "output_type": "stream",
     "text": [
      "['Hyd', 'is', 'green', 'city']\n",
      "['Hyd', '', '', 'is', '', '', 'green', '', '', 'city']\n"
     ]
    }
   ],
   "source": [
    "# Find  outputs (Home  work)\n",
    "a = 'Hyd   is   green   city'  #  There  are  3  spaces  between  the  words\n",
    "print(a . split())  # ['Hyd', 'is', 'green', 'city']\n",
    "print(a . split(' '))   # ['Hyd', '', '', 'is', '', '', 'green', '', '', 'city']"
   ]
  },
  {
   "cell_type": "code",
   "execution_count": null,
   "id": "3a66b3e0",
   "metadata": {},
   "outputs": [
    {
     "name": "stdout",
     "output_type": "stream",
     "text": [
      "['www', 'gmail', 'com']\n"
     ]
    }
   ],
   "source": [
    "# Find  outputs  (Home  work)\n",
    "a = 'www.gmail.com'\n",
    "print(a . split('.'))   # ['www', 'gmail', 'com']"
   ]
  },
  {
   "cell_type": "code",
   "execution_count": 12,
   "id": "253c2e9e",
   "metadata": {},
   "outputs": [
    {
     "name": "stdout",
     "output_type": "stream",
     "text": [
      "963\n"
     ]
    }
   ],
   "source": [
    "'''\n",
    "Write  a  program  to  evaluate  an  expression  which  contains  only  +  symbols\n",
    "Let  input  be  123+45+6+789\n",
    "Print  the  sum  result\n",
    "\n",
    "\n",
    "Enter the expression: 123+45+6+789\n",
    "Sum:  963\n",
    "'''\n",
    "inp=input(\"Enter an expression using + : \")\n",
    "a=inp.split('+')\n",
    "sum=0\n",
    "for i in a:\n",
    "    sum+=int(i)\n",
    "print(sum)"
   ]
  },
  {
   "cell_type": "code",
   "execution_count": null,
   "id": "40ef542b",
   "metadata": {},
   "outputs": [
    {
     "name": "stdout",
     "output_type": "stream",
     "text": [
      "15:36:48\n",
      "Hyd is green city\n",
      "52,10,15,25,20\n",
      "www.gmail.com\n",
      "SankarDayalSarma\n"
     ]
    }
   ],
   "source": [
    "#  Find  outputs  (Home  work)\n",
    "a = ['15' , '36' , '48']\n",
    "print(':' . join(a))    # 15:36:48\n",
    "b = ('Hyd' , 'is' , 'green' , 'city')\n",
    "print(' ' . join(b))    # Hyd is green city\n",
    "c = {'10' , '20' , '15' , '25' , '52'}\n",
    "print(',' . join(c)) # 52,10,15,25,20\n",
    "d = ['www' , 'gmail', 'com']\n",
    "print('.' . join(d)) # www.gmail.com\n",
    "e = [15 , 36 , 48]\n",
    "print(':' . join(e))    # error\n",
    "f = ['Sankar' , 'Dayal' , 'Sarma']\n",
    "print('' . join(f)) # SankarDayalSarma\n",
    "g = range(5)\n",
    "print('-' . join(g))    # error"
   ]
  },
  {
   "cell_type": "code",
   "execution_count": 3,
   "id": "4fefcd11",
   "metadata": {},
   "outputs": [
    {
     "name": "stdout",
     "output_type": "stream",
     "text": [
      "True\n",
      "False\n",
      "True\n",
      "False\n",
      "True\n"
     ]
    }
   ],
   "source": [
    "# endswith()  method  demo  progrram (Home  work)\n",
    "a = 'Hyd is green city'\n",
    "print(a . endswith('city')) #True\n",
    "print(a . endswith('town')) #False\n",
    "print(a . endswith('green' , 3 , 12)) #True\n",
    "print(a . endswith('green' , 3 , 13)) #False\n",
    "print(a . endswith(' ' , 3 , 13))   # True"
   ]
  },
  {
   "cell_type": "code",
   "execution_count": 18,
   "id": "f680d206",
   "metadata": {},
   "outputs": [
    {
     "name": "stdout",
     "output_type": "stream",
     "text": [
      "interesting\n"
     ]
    }
   ],
   "source": [
    "'''\n",
    "Write  a  program  to  append  'ing'  to  input  string.\n",
    "Append  'ly'  to  the  string  if  the  string  already  ends  with  'ing'.\n",
    "Leave  the  string  unchanged  if  string  has  lessthan  three  characters\n",
    "\n",
    "1) What  is  the  output  if  input  is  'interest' ?  ---> interesting\n",
    "\n",
    "2) What  is  the  output  if  input  is  'interesting' ? --->  interestingly\n",
    "\n",
    "3) What  is  the  output  if  input  is  Hi ?  --->  Hi  itself\n",
    "'''\n",
    "inp=input(\"Enter an string at least more than 3 charcters : \")\n",
    "if len(inp)>3 and inp.endswith('ing') :\n",
    "    print(f'{inp}ly')\n",
    "elif len(inp)<3:\n",
    "    print(inp)\n",
    "else:\n",
    "    print(f'{inp}ing')"
   ]
  },
  {
   "cell_type": "code",
   "execution_count": null,
   "id": "01752d11",
   "metadata": {},
   "outputs": [
    {
     "name": "stdout",
     "output_type": "stream",
     "text": [
      "True\n",
      "False\n",
      "False\n",
      "False\n",
      "False\n",
      "False\n",
      "False\n",
      "False\n",
      "False\n"
     ]
    },
    {
     "data": {
      "text/plain": [
       "'\\nisalpha()  method\\n---------------------\\n1) When  does  the  method  return  True ? --->  When  every  character  of  the  string  is  alphabet\\n\\n2) When  does  it  return  False  ?  ---> When  at  least  one  character  of  the  string  is  non-alphabet(i.e. digit (or) special  character)\\n\\t\\t\\t\\t\\t\\t\\t\\t\\t\\t\\t\\t\\t\\t\\t\\t\\t\\t\\t\\t\\t    (or)\\n\\t\\t\\t\\t\\t\\t\\t\\t\\t\\t\\t\\t\\t\\t\\t  When  there  are  no  alphabets  in  the  string\\n'"
      ]
     },
     "execution_count": 19,
     "metadata": {},
     "output_type": "execute_result"
    }
   ],
   "source": [
    "#  isalpha()  method  demo  program (Home  work)\n",
    "print('Hyd'  . isalpha())  #   True\n",
    "print('Rama  Rao'  . isalpha()) #   False\n",
    "print('Hyd4'  . isalpha())\t#   False\n",
    "print('Hyd$'  . isalpha()) #   False\n",
    "print('9247'  .  isalpha()) #   False\n",
    "print('+-$'    .  isalpha()) #   False\n",
    "print('A2#'  .   isalpha()) #   False\n",
    "print(''  .  isalpha()) #   False\n",
    "print(' '  .  isalpha()) #   False\n",
    "\n",
    "\n",
    "\n",
    "'''\n",
    "isalpha()  method\n",
    "---------------------\n",
    "1) When  does  the  method  return  True ? --->  When  every  character  of  the  string  is  alphabet\n",
    "\n",
    "2) When  does  it  return  False  ?  ---> When  at  least  one  character  of  the  string  is  non-alphabet(i.e. digit (or) special  character)\n",
    "\t\t\t\t\t\t\t\t\t\t\t\t\t\t\t\t\t\t\t\t\t    (or)\n",
    "\t\t\t\t\t\t\t\t\t\t\t\t\t\t\t  When  there  are  no  alphabets  in  the  string\n",
    "'''"
   ]
  },
  {
   "cell_type": "code",
   "execution_count": null,
   "id": "73206350",
   "metadata": {},
   "outputs": [
    {
     "name": "stdout",
     "output_type": "stream",
     "text": [
      "True\n",
      "False\n",
      "False\n",
      "False\n",
      "False\n",
      "False\n",
      "False\n",
      "False\n"
     ]
    },
    {
     "data": {
      "text/plain": [
       "'\\nisdigit()  method\\n--------------------\\n1) When  does  the  method  return  True  ?  --->  When  every  character  of  the  string  is  a  digit\\n\\n2) When  does  it  return  False ?  --->  When  at  least  one  character  of  the  string  is  non-digit(i.e. alphabet  (or) special  character)\\n\\t\\t\\t\\t\\t\\t\\t\\t\\t\\t\\t\\t\\t\\t\\t\\t\\t\\t\\t\\t\\t   (or)\\n\\t\\t\\t\\t\\t\\t\\t\\t\\t\\t\\t\\t\\t\\t\\t  When  there  are  no  digits  in  the  string\\n'"
      ]
     },
     "execution_count": 21,
     "metadata": {},
     "output_type": "execute_result"
    }
   ],
   "source": [
    "# isdigit()  method  demo  program  (Home  work)\n",
    "print('9247' . isdigit())  # True\n",
    "print('92a47' . isdigit())  # False\n",
    "print('92$47' . isdigit()) #   False\n",
    "print('Hyd' . isdigit())#   False\n",
    "print('+-$' . isdigit()) #   False\n",
    "print('A2#' . isdigit()) #   False\n",
    "print('' . isdigit()) #   False\n",
    "print(' ' . isdigit()) #   False\n",
    "print(9247 . isdigit()) \t# error\n",
    "\n",
    "\n",
    "'''\n",
    "isdigit()  method\n",
    "--------------------\n",
    "1) When  does  the  method  return  True  ?  --->  When  every  character  of  the  string  is  a  digit\n",
    "\n",
    "2) When  does  it  return  False ?  --->  When  at  least  one  character  of  the  string  is  non-digit(i.e. alphabet  (or) special  character)\n",
    "\t\t\t\t\t\t\t\t\t\t\t\t\t\t\t\t\t\t\t\t\t   (or)\n",
    "\t\t\t\t\t\t\t\t\t\t\t\t\t\t\t  When  there  are  no  digits  in  the  string\n",
    "'''"
   ]
  },
  {
   "cell_type": "code",
   "execution_count": null,
   "id": "eedbe960",
   "metadata": {},
   "outputs": [
    {
     "name": "stdout",
     "output_type": "stream",
     "text": [
      "False\n",
      "True\n",
      "False\n",
      "True\n",
      "False\n",
      "True\n",
      "True\n",
      "False\n",
      "True\n"
     ]
    },
    {
     "data": {
      "text/plain": [
       "'\\nisupper()  method\\n----------------------\\n1) When  does  the  method  return  False ?  --->  When  at  least  one  character  of  the  string  is  lowercase  alphabet\\n\\t\\t\\t\\t\\t\\t\\t\\t\\t\\t\\t\\t\\t\\t\\t\\t\\t\\t\\t\\t\\t\\t\\t\\t(or)\\n\\t\\t\\t\\t\\t\\t\\t\\t\\t\\t\\t\\t\\t\\t\\t                  When  there  are  no  uppercase  alphabets  in  the  string\\n\\n2) When  does  it  return  True ?  ---> When  there  are  no  lowercase  alphabets  in  the  string\\n\\t\\t\\t\\t\\t\\t\\t\\t\\t\\t\\t\\t\\t\\t\\t\\t\\t\\t\\t\\t\\t\\tand\\n\\t\\t\\t\\t\\t\\t\\t\\t\\t\\t\\t\\t\\t\\t\\tat  least  one  character  is  an  uppercase  alphabet\\n'"
      ]
     },
     "execution_count": 22,
     "metadata": {},
     "output_type": "execute_result"
    }
   ],
   "source": [
    "# isupper()  method  demo  program  (Home  work)\n",
    "print('HYd' . isupper())  #   False\n",
    "print('HYD' . isupper()) #   True\n",
    "print('9247' . isupper())  #   False\n",
    "print('RAMA  RAO' . isupper())\t# True\n",
    "print('+-$' . isupper())\t#   False\n",
    "print('HYD123' . isupper())\t# True\n",
    "print('HYD+-$' . isupper())\t# True\n",
    "print('' . isupper())\t#   False\n",
    "print('A2#' . isupper())\t# True\n",
    "\n",
    "\n",
    "'''\n",
    "isupper()  method\n",
    "----------------------\n",
    "1) When  does  the  method  return  False ?  --->  When  at  least  one  character  of  the  string  is  lowercase  alphabet\n",
    "\t\t\t\t\t\t\t\t\t\t\t\t\t\t\t\t\t\t\t\t\t\t\t\t(or)\n",
    "\t\t\t\t\t\t\t\t\t\t\t\t\t\t\t                  When  there  are  no  uppercase  alphabets  in  the  string\n",
    "\n",
    "2) When  does  it  return  True ?  ---> When  there  are  no  lowercase  alphabets  in  the  string\n",
    "\t\t\t\t\t\t\t\t\t\t\t\t\t\t\t\t\t\t\t\t\t\tand\n",
    "\t\t\t\t\t\t\t\t\t\t\t\t\t\t\tat  least  one  character  is  an  uppercase  alphabet\n",
    "'''"
   ]
  },
  {
   "cell_type": "code",
   "execution_count": null,
   "id": "422ff05c",
   "metadata": {},
   "outputs": [
    {
     "name": "stdout",
     "output_type": "stream",
     "text": [
      "False\n",
      "True\n",
      "False\n",
      "True\n",
      "False\n",
      "True\n",
      "True\n",
      "False\n",
      "True\n"
     ]
    },
    {
     "data": {
      "text/plain": [
       "'\\nislower()  method\\n---------------------\\n1) When  does  the  method  return  False ?  --->  When  at  least  one  character  of  the  string  is  uppercase  alphabet\\n\\t\\t\\t\\t\\t\\t\\t\\t\\t\\t\\t\\t\\t\\t\\t\\t\\t\\t\\t\\t\\t\\t\\t\\t(or)\\n\\t\\t\\t\\t\\t\\t\\t\\t\\t\\t\\t\\t\\t\\t\\t\\t\\t\\t\\t  When  there  are  no  lowercase  alphabets  in  the  string\\n\\n2) When  does  it  return  True ?  --->  When  there  are  no  uppercase  alphabets  in  the  string\\n\\t\\t\\t\\t\\t\\t\\t\\t\\t\\t\\t\\t\\t\\t\\t\\t\\t\\t\\t\\t\\t\\tand\\n\\t\\t\\t\\t\\t\\t\\t\\t\\t\\t\\t\\t\\t\\t\\t at  least  one  character  is  an  lowercase  alphabet '"
      ]
     },
     "execution_count": 23,
     "metadata": {},
     "output_type": "execute_result"
    }
   ],
   "source": [
    "# islower()  method  demo  program  (Home  work)\n",
    "print('hyD' . islower())  #  False\n",
    "print('hyd' . islower())  #  True\n",
    "print('9247' . islower())  #  False\n",
    "print('rama  rao' . islower())\t# True\n",
    "print('+-$' . islower()) #   False\n",
    "print('hyd+-$' . islower())\t# True\n",
    "print('abc123' . islower())\t# True\n",
    "print('' . islower()) #   False\n",
    "print('a2#' . islower())\t# True\n",
    "\n",
    "\n",
    "'''\n",
    "islower()  method\n",
    "---------------------\n",
    "1) When  does  the  method  return  False ?  --->  When  at  least  one  character  of  the  string  is  uppercase  alphabet\n",
    "\t\t\t\t\t\t\t\t\t\t\t\t\t\t\t\t\t\t\t\t\t\t\t\t(or)\n",
    "\t\t\t\t\t\t\t\t\t\t\t\t\t\t\t\t\t\t\t  When  there  are  no  lowercase  alphabets  in  the  string\n",
    "\n",
    "2) When  does  it  return  True ?  --->  When  there  are  no  uppercase  alphabets  in  the  string\n",
    "\t\t\t\t\t\t\t\t\t\t\t\t\t\t\t\t\t\t\t\t\t\tand\n",
    "\t\t\t\t\t\t\t\t\t\t\t\t\t\t\t at  least  one  character  is  an  lowercase  alphabet '''"
   ]
  },
  {
   "cell_type": "code",
   "execution_count": null,
   "id": "233f5889",
   "metadata": {},
   "outputs": [
    {
     "name": "stdout",
     "output_type": "stream",
     "text": [
      "False\n",
      "True\n",
      "False\n",
      "True\n",
      "True\n",
      "True\n",
      "False\n",
      "True\n"
     ]
    },
    {
     "data": {
      "text/plain": [
       "'\\nisalnum()  method\\n----------------------\\n1) When  does  it  return  False ?  --->  When  at  least  one  character  of  the  string  is  speical  character\\n\\t\\t\\t\\t\\t\\t\\t\\t\\t\\t\\t\\t\\t\\t\\t\\t\\t\\t\\t\\t\\t\\t(or)\\n\\t\\t\\t\\t\\t\\t\\t\\t\\t\\t\\t\\t\\t\\t\\t when  there  are  no  alphabets  and  digits\\n\\n2) When  does  it  return  True ?  ---> When  there  are  no  special  characters  in  the  string\\n\\t\\t\\t\\t\\t\\t\\t\\t\\t\\t\\t\\t\\t\\t\\t\\t\\t\\t\\t\\t\\t\\tand\\n\\t\\t\\t\\t\\t\\t\\t\\t\\t\\t\\t\\t\\t\\t\\t at  least  one  char  should  be  alphabet  (or)  digit\\n\\n3) What  is  isalpha()  +  isdigit()  called ?  ---> isalnum()\\n'"
      ]
     },
     "execution_count": 24,
     "metadata": {},
     "output_type": "execute_result"
    }
   ],
   "source": [
    "# isalnum()  method  demo  program  (Home  work)\n",
    "print('A7$g'  . isalnum())  #  False\n",
    "print('HYD' . isalnum())  #  True\n",
    "print('+-$' . isalnum())\t#   False\n",
    "print('hyd' . isalnum()) #  True\n",
    "print('hYd' . isalnum()) #  True\n",
    "print('9247' . isalnum()) #  True\n",
    "print('' . isalnum()) #   False\n",
    "print('A7g9'  . isalnum()) #  True\n",
    "\n",
    "\n",
    "'''\n",
    "isalnum()  method\n",
    "----------------------\n",
    "1) When  does  it  return  False ?  --->  When  at  least  one  character  of  the  string  is  speical  character\n",
    "\t\t\t\t\t\t\t\t\t\t\t\t\t\t\t\t\t\t\t\t\t\t(or)\n",
    "\t\t\t\t\t\t\t\t\t\t\t\t\t\t\t when  there  are  no  alphabets  and  digits\n",
    "\n",
    "2) When  does  it  return  True ?  ---> When  there  are  no  special  characters  in  the  string\n",
    "\t\t\t\t\t\t\t\t\t\t\t\t\t\t\t\t\t\t\t\t\t\tand\n",
    "\t\t\t\t\t\t\t\t\t\t\t\t\t\t\t at  least  one  char  should  be  alphabet  (or)  digit\n",
    "\n",
    "3) What  is  isalpha()  +  isdigit()  called ?  ---> isalnum()\n",
    "'''"
   ]
  },
  {
   "cell_type": "code",
   "execution_count": null,
   "id": "5fbf4481",
   "metadata": {},
   "outputs": [
    {
     "name": "stdout",
     "output_type": "stream",
     "text": [
      "False\n",
      "True\n",
      "False\n",
      "True\n",
      "False\n",
      "True\n",
      "False\n",
      "True\n"
     ]
    },
    {
     "data": {
      "text/plain": [
       "'\\nisspace()  method\\n---------------------\\n1) When  does  it  return  True ?  --->  When  every  character  of  the  string  is  white  space  character\\n\\n2) When  does  it  return  False ?  --->  When  at  least  one  character  of  the  string  is  not  a  white  space\\n                                                               i.e.  Alphabet, digit (or)  special  character\\n'"
      ]
     },
     "execution_count": 25,
     "metadata": {},
     "output_type": "execute_result"
    }
   ],
   "source": [
    "# isspace()  method  demo  program  (Home  work)\n",
    "print('\\n  A\\t' . isspace())  #  False\n",
    "print('\\n  \\t' . isspace()) #  True\n",
    "print('\\n  7\\t' . isspace()) #  False\n",
    "print('\\n' . isspace()) #  True\n",
    "print('\\n  $\\t' . isspace()) #  False\n",
    "print('\\t' . isspace()) #  True\n",
    "print('' . isspace()) #  False\n",
    "print(' ' . isspace()) #  True\n",
    "\n",
    "\n",
    "'''\n",
    "isspace()  method\n",
    "---------------------\n",
    "1) When  does  it  return  True ?  --->  When  every  character  of  the  string  is  white  space  character\n",
    "\n",
    "2) When  does  it  return  False ?  --->  When  at  least  one  character  of  the  string  is  not  a  white  space\n",
    "                                                               i.e.  Alphabet, digit (or)  special  character\n",
    "'''"
   ]
  },
  {
   "cell_type": "code",
   "execution_count": 27,
   "id": "b3404849",
   "metadata": {},
   "outputs": [
    {
     "name": "stdout",
     "output_type": "stream",
     "text": [
      "a  :  25  \t  b  :  10.8  \t  c  :  Hyd  \n",
      "a  :  25  \t  b  :  10.8  \t  c  :  Hyd  \n",
      "a  :  Hyd  \t  b  :  10.8  \t  c  :  25  \n",
      "a  :  Hyd  \t  b  :  Hyd  \t  c  :  Hyd  \n",
      "a  :  25  \t  b  :  10.8  \t  c  :  Hyd  \n",
      "a  :  Hyd  \t  b  :  10.8  \t  c  :  25  \n",
      "a  :  25  \t  b  :  25  \t  c  :  25  \n"
     ]
    }
   ],
   "source": [
    "# Find  outputs  (Home  work)\n",
    "a , b , c = 25 , 10.8 , 'Hyd'\n",
    "print('a  :  {}  \\t  b  :  {}  \\t  c  :  {}  '  .  format(a , b , c))#a  :  25        b  :  10.8      c  :  Hyd \n",
    "print('a  :  {0}  \\t  b  :  {1}  \\t  c  :  {2}  ' . format(a , b , c))#a  :  25       b  :  10.8      c  :  Hyd \n",
    "print('a  :  {2}  \\t  b  :  {1}  \\t  c  :  {0}  ' . format(a , b , c))#a  :  Hyd      b  :  10.8      c  :  25 \n",
    "print('a  :  {2}  \\t  b  :  {2}  \\t  c  :  {2}  ' . format(a , b , c))#a  :  Hyd      b  :  Hyd       c  :  Hyd \n",
    "print('a  :  {x}  \\t  b  :  {y}  \\t  c  :  {z}  ' . format(x = a , y = b , z = c))#a  :  25       b  :  10.8      c  :  Hyd \n",
    "print('a  :  {x}  \\t  b  :  {y}  \\t  c  :  {z}  ' . format(z = a , y = b , x = c))#a  :  Hyd      b  :  10.8      c  :  25 \n",
    "print('a  :  {z}  \\t  b  :  {z}  \\t  c  :  {z}  ' . format(z = a , y = b , x = c))#a  :  25       b  :  25        c  :  25 "
   ]
  },
  {
   "cell_type": "code",
   "execution_count": 28,
   "id": "3c32f11d",
   "metadata": {},
   "outputs": [
    {
     "name": "stdout",
     "output_type": "stream",
     "text": [
      "Alphanumeric  character\n",
      "Alphabet character\n",
      "Upper case  alphabet\n"
     ]
    }
   ],
   "source": [
    "'''\n",
    "Write  a  program  to  determine  user  input  is  alphabet , digit , white space  or  special  character\n",
    "\n",
    "1) What  are  the  three  outputs  if  input  is  'A' ?  --->  Alphanumeric  character , Alphabet character , Upper case  alphabet\n",
    "\n",
    "2) What  are  the  three  outputs  if  input  is  'a' ?  ---> Alphanumeric  character , Alphabet character , lower case  alphabet\n",
    "\n",
    "3) What  are  the  two  outputs  if  input  is  '7' ?  ---> Alphanumeric  character , digit  character\n",
    "\n",
    "4) What  is  the  output  if  input  is  '$' ?  ---> Special  character\n",
    "\n",
    "5) What  is  the  output  if  input  is  <spacebar> ?  --->  White  space\n",
    "\n",
    "6) What  is  the  output  if  input  is  <tab>  key ?  --->  White  space\n",
    "\n",
    "7) What  is  the  output  if  input   is   <enter>   key ?  ---> White  space\n",
    "\n",
    "8) Hint2:  Use  nested  if  and   elif\n",
    "\n",
    "Enter  any  character  :  A\n",
    "Alpha  Numeric  Character\n",
    "Alphabet  Character\n",
    "Upper  case  Alphabet\n",
    "\n",
    "Enter  any  character  :  7\n",
    "Alpha  Numeric  Character\n",
    "Digit  character\n",
    "\n",
    "'''\n",
    "a=input(\"Enter any character : \")\n",
    "if a.isalnum():\n",
    "    print(\"Alphanumeric  character\")\n",
    "    if a.isalpha() and a.isupper():\n",
    "        print(\"Alphabet character\")\n",
    "        print(\"Upper case  alphabet\")\n",
    "    elif a.isalpha() and a.islower():\n",
    "        print(\"Alphabet character\")\n",
    "        print(\"lower case  alphabet\")\n",
    "    elif a.isdigit():\n",
    "        print(\"digit  character\")\n",
    "else:\n",
    "    print(\"White  space\")"
   ]
  },
  {
   "cell_type": "code",
   "execution_count": 30,
   "id": "d09808fc",
   "metadata": {},
   "outputs": [
    {
     "name": "stdout",
     "output_type": "stream",
     "text": [
      "Reverse  String : oaR amaR\n"
     ]
    }
   ],
   "source": [
    "'''\n",
    "Write  a  program  to  reverse  a  string  without  slice\n",
    "\n",
    "1) Let  input  be   Hyd\n",
    "    What  is  the  output ?  --->  dyH\n",
    "\n",
    "2)   H       y      d\n",
    "      -3     -2     -1\n",
    "\n",
    "      i       a[-i]            b\n",
    "    ---------------------------------------\n",
    "                                ''\n",
    "     1        'd'             '' + 'd' = 'd'\n",
    "     2       'y'             'd' + 'y' = 'dy'\n",
    "     3       'H'            'dy' + 'H' = 'dyH'\n",
    "  ---------------------------------------------\n",
    "\n",
    "  Enter  any  string : Rama Rao\n",
    "Reverse  String :   oaR amaR\n",
    "'''\n",
    "a=input(\"Enter a string : \")\n",
    "b=''\n",
    "for i in range(1,len(a)+1):\n",
    "    b+=a[-i]\n",
    "print(F'Reverse  String : {b}')"
   ]
  },
  {
   "cell_type": "code",
   "execution_count": 31,
   "id": "9354c24e",
   "metadata": {},
   "outputs": [
    {
     "name": "stdout",
     "output_type": "stream",
     "text": [
      "city green is Hyd \n"
     ]
    }
   ],
   "source": [
    "'''\n",
    "Write  a  program  to  reverse  order  of  words  in  the  sentence  without  slice\n",
    "\n",
    "1) Let  input  be  Hyd  is  green  city\n",
    "    What  is  the  output ?  ---> city   green   is   Hyd\n",
    "\n",
    "2) What  is  the  result  of  input . split() ?  --->  ['Hyd' , 'is' , 'green' , 'city']   --->   Assume  that  it  is  'b'\n",
    "\n",
    "3) i        b[-i]           c\n",
    "   ---------------------------------------------\n",
    "                              ''\n",
    "   1        'city'         '' + 'city' + ' '=  'city '\n",
    "   2        'green'     'city ' + 'green' + ' ' = 'city green '\n",
    "   3        'is'            'city green ' + 'is' + ' ' =  'city green is '\n",
    "   4        'Hyd'        'city green is ' + 'Hyd' + ' ' = 'city green is Hyd '\n",
    "   --------------------------------------------------------\n",
    "'''\n",
    "inp=input(\"Enter an sentence : \")\n",
    "b=inp.split()\n",
    "new=''\n",
    "for i in range(1,len(b)+1):\n",
    "    new+=b[-i]+' '\n",
    "print(new)"
   ]
  },
  {
   "cell_type": "code",
   "execution_count": 32,
   "id": "6a163f1a",
   "metadata": {},
   "outputs": [
    {
     "name": "stdout",
     "output_type": "stream",
     "text": [
      "dyH si neerg ytic \n"
     ]
    }
   ],
   "source": [
    "'''\n",
    "Write  a  program  to  reverse  each  word  of  the  sentence\n",
    "\n",
    "1) Let  input  be  Hyd  is  green  city\n",
    "    What  is  the  output ?  ---> dyH si neerg ytic\n",
    "\n",
    "2) Hint: Use  for  each  loop  and  also  slice\n",
    "'''\n",
    "inp=input(\"Enter an sentence : \")\n",
    "b=inp.split()\n",
    "new=''\n",
    "for i in range(len(b)):\n",
    "    new+=b[i][::-1]+' '\n",
    "print(new)"
   ]
  },
  {
   "cell_type": "code",
   "execution_count": 33,
   "id": "a2bd0d3a",
   "metadata": {},
   "outputs": [
    {
     "name": "stdout",
     "output_type": "stream",
     "text": [
      "AEHJRS\n"
     ]
    }
   ],
   "source": [
    "'''\n",
    "Write  a  program  to  sort  string  in  alphabetical  order\n",
    "\n",
    "Let  input  be  RAJESH\n",
    "What  is  the  output ?  --->  AEHJRS\n",
    "'''\n",
    "inp=input(\"Enter an sentence : \")\n",
    "new=''\n",
    "for i in sorted(inp):\n",
    "    new+=i\n",
    "print(new)"
   ]
  },
  {
   "cell_type": "code",
   "execution_count": 34,
   "id": "69cb2221",
   "metadata": {},
   "outputs": [
    {
     "name": "stdout",
     "output_type": "stream",
     "text": [
      "ADKPZ13579\n"
     ]
    }
   ],
   "source": [
    "'''\n",
    "Write  a  program  to  sort  string  such  that  alphabets  in  alphabetical  order  and  digits  in  ascending  order\n",
    "\n",
    "Let  input  be  Z9K3PA7D51\n",
    "What  is  the  output ?  --->  ADKPZ13579\n",
    "\n",
    "1)What  is  the  result  after  input  is  sorted ?  --->  '13579ADKPZ'\n",
    "\n",
    "2) alpha = '' + 'A' + 'D' + 'K' + 'P' + 'Z'\n",
    "    digit = '' + '1' + '3' + '5' + '7' + '9'\n",
    "\n",
    "3) What  is  the  result  after  alpha  and  digit  are  concatenated ?  --->  'ADKPZ13579'\n",
    "'''\n",
    "inp=input(\"Enter an sentence : \")\n",
    "new=''\n",
    "alpha=''\n",
    "digit=''\n",
    "for i in sorted(inp):\n",
    "    new+=i\n",
    "for j in new:\n",
    "    if j.isalpha():\n",
    "        alpha+=j\n",
    "    elif j.isdigit():\n",
    "        digit+=j\n",
    "print(alpha+digit)"
   ]
  },
  {
   "cell_type": "markdown",
   "id": "00950280",
   "metadata": {},
   "source": [
    "### 16/08/25"
   ]
  },
  {
   "cell_type": "code",
   "execution_count": null,
   "id": "32e3485d",
   "metadata": {},
   "outputs": [
    {
     "name": "stdout",
     "output_type": "stream",
     "text": [
      "<class 'str'>\n",
      "[25 , 10.8 , 'Hyd' , True]\n",
      "[25, 10.8, 'Hyd', True]\n",
      "<class 'list'>\n"
     ]
    }
   ],
   "source": [
    "# What  are  the  outputs  if  input  is   [25 , 10.8 , 'Hyd' , True]   (Home  work)\n",
    "a = input('Enter  list  :  ') # [25 , 10.8 , 'Hyd' , True]\n",
    "print(type(a))  #  <class 'str'>\n",
    "print(a)    # [25 , 10.8 , 'Hyd' , True]\n",
    "b = eval(a)\n",
    "print(b)    # [25, 10.8, 'Hyd', True]\n",
    "print(type(b))  # <class 'list'>"
   ]
  },
  {
   "cell_type": "code",
   "execution_count": 6,
   "id": "75c9baa0",
   "metadata": {},
   "outputs": [
    {
     "name": "stdout",
     "output_type": "stream",
     "text": [
      "True\n",
      "True\n",
      "[10, 20, 12, 18]\n"
     ]
    }
   ],
   "source": [
    "#  Find  outputs (Home  work)\n",
    "a = [10, 20, 15, 18]\n",
    "b = a\n",
    "print(a  is  b) # True\n",
    "print(a  ==  b) #True\n",
    "b[2] = 12\n",
    "print(a) # [10, 20, 12, 18]"
   ]
  },
  {
   "cell_type": "code",
   "execution_count": null,
   "id": "73c4dd67",
   "metadata": {},
   "outputs": [
    {
     "name": "stdout",
     "output_type": "stream",
     "text": [
      "[10, 20, 15, 18, 100, 200, 150]\n"
     ]
    }
   ],
   "source": [
    "#  Find  outputs  (Home  work)\n",
    "a = [10 , 20 , 15 , 18]\n",
    "b = [100 , 200 , 150]\n",
    "print(a + b)    # [10, 20, 15, 18, 100, 200, 150]\n",
    "print(a + 5) # error\n",
    "print(a + '5') # error\n",
    "print([10 , 20] + (30 , 40)) # error"
   ]
  },
  {
   "cell_type": "code",
   "execution_count": null,
   "id": "c22533a0",
   "metadata": {},
   "outputs": [
    {
     "name": "stdout",
     "output_type": "stream",
     "text": [
      "[1, 2, 3] 2827049620800\n",
      "[1, 2, 3, 4, 5, 6] 2827049620800\n"
     ]
    }
   ],
   "source": [
    "#  Tricky  program\n",
    "#  Find  outputs\n",
    "a = [1,2,3]\n",
    "b = [4,5,6]\n",
    "print(a , id(a)) # [1, 2, 3] 2827049620800\n",
    "a += b\n",
    "print(a , id(a)) # [1, 2, 3, 4, 5, 6] 2827049620800"
   ]
  },
  {
   "cell_type": "code",
   "execution_count": null,
   "id": "777edd1e",
   "metadata": {},
   "outputs": [
    {
     "name": "stdout",
     "output_type": "stream",
     "text": [
      "[1, 2, 3] 2827049619968\n",
      "[1, 2, 3, 4, 5, 6] 2827049568640\n"
     ]
    }
   ],
   "source": [
    "#  Tricky  program\n",
    "#  Find  outputs\n",
    "a = [1,2,3]\n",
    "b = [4,5,6]\n",
    "print(a , id(a)) # [1, 2, 3] 2827049619968\n",
    "a  = a + b\n",
    "print(a , id(a)) # [1, 2, 3, 4, 5, 6] 2827049568640"
   ]
  },
  {
   "cell_type": "code",
   "execution_count": null,
   "id": "a700ff72",
   "metadata": {},
   "outputs": [
    {
     "name": "stdout",
     "output_type": "stream",
     "text": [
      "[25, 10.8, 'Hyd', True]\n",
      "<class 'list'>\n"
     ]
    }
   ],
   "source": [
    "# List  packing\n",
    "a = 25\n",
    "b = 10.8\n",
    "c = 'Hyd'\n",
    "d = True\n",
    "e = [a , b , c , d]\n",
    "print(e)    # [25, 10.8, 'Hyd', True]\n",
    "print(type(e)) # <class 'list'>"
   ]
  },
  {
   "cell_type": "code",
   "execution_count": null,
   "id": "335665de",
   "metadata": {},
   "outputs": [
    {
     "name": "stdout",
     "output_type": "stream",
     "text": [
      "a :  25\n",
      "b :  [10.8, 'Hyd']\n",
      "c :  True\n",
      "<class 'list'>\n",
      "x :  25\n",
      "y :  [10.8, 'Hyd', True]\n",
      "p :  [25, 10.8, 'Hyd']\n",
      "q :  True\n"
     ]
    }
   ],
   "source": [
    "# Find  outputs\n",
    "list = [25 , 10.8 , 'Hyd' ,  True]\n",
    "a , *b , c = list\n",
    "print('a : ' , a)  #  a :  25\n",
    "print('b : ' , b) #  b : [10.8 , 'Hyd']\n",
    "print('c : ' , c) #  c :  True\n",
    "print(type(b))  # <class 'list'>\n",
    "x , *y = list\n",
    "print('x : ' , x) # x :  25\n",
    "print('y : ' , y)   # y :  [10.8, 'Hyd', True]\n",
    "*p , q = list\n",
    "print('p : ' , p) # p :  [25, 10.8, 'Hyd']\n",
    "print('q : ' , q) # q :  True"
   ]
  },
  {
   "cell_type": "code",
   "execution_count": null,
   "id": "f334a861",
   "metadata": {},
   "outputs": [
    {
     "name": "stdout",
     "output_type": "stream",
     "text": [
      "a :  25\n",
      "b :  10.8\n",
      "c :  []\n",
      "d :  Hyd\n",
      "e :  True\n"
     ]
    }
   ],
   "source": [
    "# Find  outputs  (Home  work)\n",
    "list = [25 , 10.8 , 'Hyd' , True]\n",
    "#a , b , c , d , e = list # error\n",
    "a , b , *c , d , e = list\n",
    "print('a : ' , a)   # a :  25\n",
    "print('b : ' , b) # b :  10.8\n",
    "print('c : ' , c)   # []\n",
    "print('d : ' , d)   # d :  Hyd\n",
    "print('e : ' , e)   # e :  True\n",
    "a , b , *c , d , e , f = list   # error"
   ]
  },
  {
   "cell_type": "code",
   "execution_count": null,
   "id": "bba1e438",
   "metadata": {},
   "outputs": [
    {
     "name": "stdout",
     "output_type": "stream",
     "text": [
      "a :  25\n",
      "b :  10.8\n",
      "_ :   Hyd\n",
      "d :  True\n"
     ]
    }
   ],
   "source": [
    "# Find  outputs  (Home  work)\n",
    "list = [25 , 10.8 , 'Hyd' , True]\n",
    "a , b , _  , d = list\n",
    "print('a : ' , a)   # a :  25\n",
    "print('b : ' , b)   # b :  10.8\n",
    "print('_ :  ' , _)  #  _ :   Hyd\n",
    "print('d : ' , d)   # d :  True"
   ]
  },
  {
   "cell_type": "code",
   "execution_count": null,
   "id": "c3afc204",
   "metadata": {},
   "outputs": [
    {
     "name": "stdout",
     "output_type": "stream",
     "text": [
      "a :  (3+4j)\n",
      "b :  10.8\n",
      "d :  True\n"
     ]
    }
   ],
   "source": [
    "# Find  outputs (Home  work)\n",
    "list = [25 , 10.8 , 'Hyd' , True , 3 + 4j]\n",
    "a , b , a , d , a = list\n",
    "print('a : ' , a)   # a :  (3+4j)\n",
    "print('b : ' , b)   # b :  10.8\n",
    "print('d : ' , d)   # d :  True"
   ]
  },
  {
   "cell_type": "code",
   "execution_count": null,
   "id": "f87bc698",
   "metadata": {},
   "outputs": [
    {
     "name": "stdout",
     "output_type": "stream",
     "text": [
      "a :  25\n",
      "b :  10.8\n",
      "_ :  (3+4j)\n",
      "d :  True\n",
      "_:  (3+4j)\n"
     ]
    }
   ],
   "source": [
    "#  Tricky  program\n",
    "# Find  outputs (Home  work)\n",
    "list = [25 , 10.8 , 'Hyd' , True , 3 + 4j]\n",
    "a , b ,  _ , d , _  = list\n",
    "print('a : ' , a)   # a :  25\n",
    "print('b : ' , b)   # b :  10.8\n",
    "print('_ : ' , _)   # _ :  (3+4j)\n",
    "print('d : ' , d)   # d :  True\n",
    "print('_: ' , _)    # _:  (3+4j)"
   ]
  },
  {
   "cell_type": "code",
   "execution_count": null,
   "id": "5f32b5b4",
   "metadata": {},
   "outputs": [],
   "source": [
    "# Identify  error (Home  work)\n",
    "list = [25 , 10.8 , 'Hyd' , True , 3 + 4j]\n",
    "a , *b , c , *d , e  = list # #Only one unpack can have"
   ]
  },
  {
   "cell_type": "code",
   "execution_count": null,
   "id": "d1f25bef",
   "metadata": {},
   "outputs": [
    {
     "name": "stdout",
     "output_type": "stream",
     "text": [
      "a :   [25, 10.8]\n",
      "b :   Hyd\n",
      "c :   True\n"
     ]
    }
   ],
   "source": [
    "# Find  outputs  (Home  work)\n",
    "list = [[25 , 10.8] , 'Hyd' , True]   #  Nested  list\n",
    "a , b , c = list\n",
    "print('a :  ' , a)  # a :   [25, 10.8]\n",
    "print('b :  ' , b)  # b :   Hyd\n",
    "print('c :  ' , c)  # c :   True"
   ]
  },
  {
   "cell_type": "code",
   "execution_count": null,
   "id": "5d50521d",
   "metadata": {},
   "outputs": [
    {
     "name": "stdout",
     "output_type": "stream",
     "text": [
      "a :  25\n",
      "b :  10.8\n",
      "c :  Hyd\n",
      "d :  True\n"
     ]
    }
   ],
   "source": [
    "# Find  outputs  (Home  work)\n",
    "list = [[25 , 10.8] , 'Hyd' , True]\n",
    "[a , b] , c , d = list\n",
    "print('a : ' , a)   # a :  25\n",
    "print('b : ' , b)   # b :  10.8\n",
    "print('c : ' , c)   # c :  Hyd\n",
    "print('d : ' , d)   # d :  True\n",
    "a , b , c , d = list  # error"
   ]
  },
  {
   "cell_type": "code",
   "execution_count": null,
   "id": "bebbeec2",
   "metadata": {},
   "outputs": [
    {
     "name": "stdout",
     "output_type": "stream",
     "text": [
      "True\n",
      "False\n",
      "True\n",
      "True\n",
      "False\n",
      "False\n",
      "True\n",
      "False\n",
      "False\n"
     ]
    }
   ],
   "source": [
    "# Comparing  Lists\n",
    "a = [10 , 20 , 15 , 18]\n",
    "b = [10 , 20 , 15 , 18]\n",
    "c = [10 , 20 , 25 , 9]\n",
    "d = [10 , 20 , 7 , 22]\n",
    "print(a == b)   # True\n",
    "print(a  is   b)\n",
    "print(a < c)  # True\n",
    "print(a > d)  # True\n",
    "print(a >= c)   # False\n",
    "print(a <= d) # False\n",
    "print(a != c)  # True\n",
    "print(a != b) # False\n",
    "print(a == c) # False"
   ]
  },
  {
   "cell_type": "code",
   "execution_count": null,
   "id": "1cdbf173",
   "metadata": {},
   "outputs": [],
   "source": [
    "# Comparing  Lists  (Home  work)\n",
    "a = [10 , 20 , 15 , 18]\n",
    "b = [20 , 18 , 15 , 10]\n",
    "print(a == b)   # False\n",
    "print(a  is   b)  # False"
   ]
  }
 ],
 "metadata": {
  "kernelspec": {
   "display_name": "Python 3",
   "language": "python",
   "name": "python3"
  },
  "language_info": {
   "codemirror_mode": {
    "name": "ipython",
    "version": 3
   },
   "file_extension": ".py",
   "mimetype": "text/x-python",
   "name": "python",
   "nbconvert_exporter": "python",
   "pygments_lexer": "ipython3",
   "version": "3.12.10"
  }
 },
 "nbformat": 4,
 "nbformat_minor": 5
}

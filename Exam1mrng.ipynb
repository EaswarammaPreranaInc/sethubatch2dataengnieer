{
 "cells": [
  {
   "cell_type": "code",
   "execution_count": null,
   "id": "49260ac2",
   "metadata": {},
   "outputs": [
    {
     "name": "stdout",
     "output_type": "stream",
     "text": [
      "Result: 14.5\n"
     ]
    }
   ],
   "source": [
    "'''\n",
    "Write  a  program  to  evaluate  expression  like  calculator\n",
    "\n",
    "Let  input  be  3 + 4 * 5 - 6 / 2 =\n",
    "What  is  the  output ? --->  14.5\n",
    "\n",
    "Hint:  Use  while  loop\n",
    "\n",
    "Iteration         a          op        b        result\n",
    "------------------------------------------------------\n",
    "       1               3          +          4           7   --->  'a'\n",
    "\n",
    "\t   2              7          *          5           35   --->  'a'\n",
    "\n",
    "\t   3             35         -          6           29   --->  'a'\n",
    "\n",
    "\t   4             29         /          2           14.5   --->  'a'\n",
    "\n",
    "\t   5            14.5       =          ---           ----\n",
    "Enter  any  expression  terminated  by  =  :  3+4*5-6/2=\n",
    "Result :  14.5\n",
    "'''\n",
    "exp=input('Enter any expression terminated by =:')\n",
    "i=0\n",
    "a=float(exp[i])\n",
    "i+=1\n",
    "while i<len(exp):\n",
    "    op=exp[i]\n",
    "    if op=='=':\n",
    "        break\n",
    "    b=float(exp[i+1])\n",
    "    if op == \"+\":\n",
    "        a=a+b\n",
    "    elif op==\"-\":\n",
    "        a=a-b\n",
    "    elif op==\"*\":\n",
    "        a=a*b\n",
    "    elif op==\"/\":\n",
    "        a=a/b\n",
    "    elif op==\"%\":\n",
    "        a=a%b\n",
    "    i+=2\n",
    "print(\"Result:\",a)"
   ]
  },
  {
   "cell_type": "code",
   "execution_count": 4,
   "id": "675d71e7",
   "metadata": {},
   "outputs": [
    {
     "name": "stdout",
     "output_type": "stream",
     "text": [
      "Roman Equivalent: MMMDCCCLXXVIII\n"
     ]
    }
   ],
   "source": [
    "'''\n",
    "Write  a   program  to  print  roman  equivalent  of  a  number\n",
    "1000 -  M\n",
    "900  -  CM\n",
    "500 -  D\n",
    "400 - CD\n",
    "100 -   C\n",
    "90  -  XC\n",
    "50  -  L\n",
    "40  -  XL\n",
    "10  -  X\n",
    "9  -  IX\n",
    "5  -  V\n",
    "4  -  IV\n",
    "1  -  I\n",
    "\n",
    "1) What  is  the  output  if  input  is  3878 ? ---> MMMDCCCLXXVIII\n",
    "\n",
    "2) What  is  the  result  of  3878 // 1000 ?  --->  3\n",
    "    How  many  M's  are  concatenated  to  the  sting ?  --->  Three  becoz  3878 / 1000  is  3\n",
    "    What  is  the  result  of  3878 % 1000 ?  --->  878\n",
    "\n",
    "3) What  is  the  result  of  878 // 900 ?  --->  0\n",
    "    How  many  CM's  are  concatenated  to  the  string ?  ---> Zero  becoz  878 / 900  is  0\n",
    "    What  is  the  result  of  878 % 900 ?  --->  878\n",
    "\n",
    "4) What  is  the  result  of  878 // 500 ?  ---> 1\n",
    "     How  many  D's  are  concatenated  to  the  string ?  ---> One  becoz  878 / 500  is  1\n",
    "     What  is  the  result  of  878 % 500 ?  ---> 378\n",
    "      and  so  on\n",
    "Enter  any  number :  3878\n",
    "Roman  Equivalent :   MMMDCCCLXXVIII\n",
    "'''\n",
    "a=int(input(\"Enter any number:\"))\n",
    "b=[(1000,\"M\"),(900,\"CM\"),(500,\"D\"),(400,\"CD\"),(100,\"C\"),(90,\"XC\"),(50,\"L\"),(40,\"XL\"),(10,\"X\"),(9,\"IX\"),(5,\"V\"),(4,\"IV\"),(1,\"I\")]\n",
    "res=\"\"\n",
    "for x,y in b:\n",
    "    c=a//x\n",
    "    res+=y*c\n",
    "    a=a%x\n",
    "print(\"Roman Equivalent:\",res)\n"
   ]
  },
  {
   "cell_type": "code",
   "execution_count": 11,
   "id": "6e2aeba0",
   "metadata": {},
   "outputs": [
    {
     "name": "stdout",
     "output_type": "stream",
     "text": [
      "Nine Two Four Seven\n"
     ]
    }
   ],
   "source": [
    "'''\n",
    "Write  a  program  to  print  each  digit  of  the  number  in  words\n",
    "\n",
    "Let  input  be  9247\n",
    "What  is  the  output  ?  ---> Nine  Two  Four  Seven\n",
    "\n",
    "a = ['Zero' , 'One' , 'Two' ,....  'Nine']\n",
    "\n",
    "Iteration     ch     int(ch)       a[int(ch)]         s\n",
    "--------------------------------------------------------\n",
    "                                                                     ''\n",
    "     1              '9'       9               'Nine'          '' + 'Nine' + ' '\n",
    "\n",
    "\t 2             '2'       2               'Two'          'Nine ' + 'Two' + ' '\n",
    "\n",
    "\t 3             '4'       4               'Four'          'Nine Two ' + 'Four' + ' '\n",
    "\n",
    "\t 4             '7'       7               'Seven'        'Nine Two Four ' + 'Seven' + ' '\n",
    "Enter  any   number :  9247\n",
    "Nine Two Four Seven\n",
    "'''\n",
    "a=input(\"Enter any number:\")\n",
    "b=['Zero','One','Two','Three','Four','Five','Six','Seven','Eight','Nine']\n",
    "s=\"\"\n",
    "for ch in a:\n",
    "    c=int(ch)\n",
    "    s=s+b[c]+\" \"\n",
    "print(s.strip())\n",
    "\n",
    "    \n",
    "\n"
   ]
  },
  {
   "cell_type": "code",
   "execution_count": 14,
   "id": "76e29e42",
   "metadata": {},
   "outputs": [
    {
     "name": "stdout",
     "output_type": "stream",
     "text": [
      "Rotations\n",
      "SPACE\n",
      "PACES\n",
      "ACESP\n",
      "CESPA\n",
      "ESPAC\n"
     ]
    }
   ],
   "source": [
    "'''\n",
    "Write  a  program  to  print  all  the  rotations  of  the  string\n",
    "\n",
    " 1) Let  input  be     S   P  A   C   E\n",
    "                               0   1   2   3   4\n",
    "    What  are  the  outputs ?  --->  SPACE\n",
    "\t                                                  PACES\n",
    "\t\t\t\t\t\t\t\t\t                  ACESP\n",
    "\t\t\t\t\t\t\t\t\t\t\t\t      CESPA\n",
    "\t\t\t\t\t\t\t\t\t\t\t\t      ESPAC\n",
    "\n",
    "2) What  are  the  indexes  of  SPACE ?  ---> 0  to  4\n",
    "     What  are  the  indexes  of  PACES ?  ---> 1  to  4 , 0  to  0\n",
    "     What  are  the  indexes  of  ACESP ?  ---> 2  to  4 , 0  to  1\n",
    "     What  are  the  indexes  of  CESPA ?  ---> 3  to  4 , 0  to  2\n",
    "     What  are  the  indexes  of  ESPAC ?  ---> 4  to  4 , 0  to  3\n",
    "\n",
    "3) What  are  the  indexes  in  general ?  --->  i  to  length - 1   and   0  to  i - 1\n",
    "Enter any string :  SPACE\n",
    "Rotations\n",
    "SPACE\n",
    "PACES\n",
    "ACESP\n",
    "CESPA\n",
    "ESPAC\n",
    "'''\n",
    "a=input(\"Enter any string:\")\n",
    "b=len(a)\n",
    "print(\"Rotations\")\n",
    "for i in range(b):\n",
    "    res=a[i:]+a[:i]\n",
    "    print(res)"
   ]
  },
  {
   "cell_type": "code",
   "execution_count": 18,
   "id": "aed3f214",
   "metadata": {},
   "outputs": [
    {
     "name": "stdout",
     "output_type": "stream",
     "text": [
      "7 * 1 = 7\n",
      "7 * 2 = 14\n",
      "7 * 3 = 21\n",
      "7 * 4 = 28\n",
      "7 * 5 = 35\n",
      "7 * 6 = 42\n",
      "7 * 7 = 49\n",
      "7 * 8 = 56\n",
      "7 * 9 = 63\n",
      "7 * 10 = 70\n"
     ]
    }
   ],
   "source": [
    "'''\n",
    "Write  a  program  to  print  mathematical  table  of  a  number\n",
    "\n",
    "Let  input  be  7,\n",
    "What  is  the  output ?  --->  7 * 1 = 7\n",
    "                       \t\t\t\t\t\t 7 * 2 = 14\n",
    "\t\t\t  \t\t\t\t\t\t\t\t 7 * 3 = 21\n",
    "\t\t\t\t\t\t\t\t\t\t\t\t .....\n",
    "\t\t\t\t\t\t\t\t\t\t\t 7 * 10 = 70\n",
    "Enter  table  number :  7\n",
    "7 * 1 = 7\n",
    "7 * 2 = 14\n",
    "7 * 3 = 21\n",
    "7 * 4 = 28\n",
    "7 * 5 = 35\n",
    "7 * 6 = 42\n",
    "7 * 7 = 49\n",
    "7 * 8 = 56\n",
    "7 * 9 = 63\n",
    "7 * 10 = 70\n",
    "'''\n",
    "a=int(input(\"Enter a input:\"))\n",
    "for i in range(1,11):\n",
    "    print(f\"{a} * {i} = {a * i}\")"
   ]
  },
  {
   "cell_type": "code",
   "execution_count": 22,
   "id": "267cef2f",
   "metadata": {},
   "outputs": [
    {
     "name": "stdout",
     "output_type": "stream",
     "text": [
      "      A \n",
      "     A B \n",
      "    A B C \n",
      "   A B C D \n",
      "  A B C D E \n",
      " A B C D E F \n",
      "A B C D E F G \n"
     ]
    }
   ],
   "source": [
    "'''\n",
    "Write a  program to print following pyramid\n",
    "Input: 5\n",
    "\n",
    "             A\n",
    "            A B\n",
    "           A B C\n",
    "          A B C D\n",
    "         A B C D E\n",
    "\n",
    "\n",
    "\t   i         ch\n",
    "---------------------\n",
    "       1         'A'\n",
    "\n",
    "\t   2         'A'  to  'B'\n",
    "\n",
    "\t   3         'A'  to  'C'\n",
    "\n",
    "\t   4         'A'  to  'D'\n",
    "\n",
    "\t   5         'A'  to  'E'\n",
    "How  many  lines ?  :  7\n",
    "       A\n",
    "      A B\n",
    "     A B C\n",
    "    A B C D\n",
    "   A B C D E\n",
    "  A B C D E F\n",
    " A B C D E F G\n",
    "'''\n",
    "a=int(input(\"Enter how many lines:\"))\n",
    "for i in range(1,a+1):\n",
    "    print(\" \"*(a-i),end=\"\")\n",
    "    for j in range(i):\n",
    "        print(chr(65+j),end=\" \")\n",
    "    print()"
   ]
  }
 ],
 "metadata": {
  "kernelspec": {
   "display_name": "Python 3",
   "language": "python",
   "name": "python3"
  },
  "language_info": {
   "codemirror_mode": {
    "name": "ipython",
    "version": 3
   },
   "file_extension": ".py",
   "mimetype": "text/x-python",
   "name": "python",
   "nbconvert_exporter": "python",
   "pygments_lexer": "ipython3",
   "version": "3.13.2"
  }
 },
 "nbformat": 4,
 "nbformat_minor": 5
}

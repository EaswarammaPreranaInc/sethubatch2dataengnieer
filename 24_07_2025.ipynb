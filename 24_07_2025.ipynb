{
 "cells": [
  {
   "cell_type": "code",
   "execution_count": 46,
   "id": "26087db9",
   "metadata": {},
   "outputs": [
    {
     "name": "stdout",
     "output_type": "stream",
     "text": [
      "25\n",
      "10.8\n",
      "False\n",
      "(3+4j)\n",
      "Hyd\n",
      "23\n",
      "[10, 20, 15, 18]\n",
      "{18, 20, 10, 12, 15}\n",
      "(10, 20, 30)\n",
      "{10: 'Sec'}\n"
     ]
    }
   ],
   "source": [
    "# eval()  function  demo  program\n",
    "print(eval('25'))\t#25\n",
    "print(eval('10.8'))\t#10.8\n",
    "print(eval('False'))\t#False\t\n",
    "print(eval('3+4j'))\t#3+4j\n",
    "#print(eval('Hyd'))\t#Hyd\n",
    "print(eval(\"    'Hyd'   \"))\t#Hyd\n",
    "print(eval('3 + 4 * 5'))\t#23\n",
    "print(eval('[10 , 20 , 15 , 18]'))#[10,20,15,18]\n",
    "print(eval('{10,20,15,18,20,12,18}'))#{10,20,15,18,12}\n",
    "print(eval('(10 , 20 , 30)'))\t#(10 , 20 , 30)\n",
    "print(eval(\"{10 : 'Hyd' , 10 : 'Sec'}\"))#{10:'Sec'}\n",
    "#print(eval(4+5))#Error input should be string"
   ]
  },
  {
   "cell_type": "code",
   "execution_count": 48,
   "id": "d9ab816f",
   "metadata": {},
   "outputs": [
    {
     "name": "stdout",
     "output_type": "stream",
     "text": [
      "hyd\n",
      "Sec\n",
      "25\n",
      "25\n",
      "10.8\n"
     ]
    }
   ],
   "source": [
    "#  Tricky  program\n",
    "# Find  outputs  (Home  work)\n",
    "print(eval(\"    'hyd'   \"))\t#Hyd\n",
    "hyd = 'Sec'\n",
    "print(eval('hyd'))\t\t#Sec\n",
    "sec = '25'\n",
    "print(eval('sec'))\t\t#25\n",
    "print(eval(sec))\t\t#Error \n",
    "cyb = 10.8\n",
    "print(eval('cyb'))\t\t#10.8\n",
    "#print(eval(cyb))\t\t##Error input should be string"
   ]
  },
  {
   "cell_type": "code",
   "execution_count": 51,
   "id": "0cf95390",
   "metadata": {},
   "outputs": [
    {
     "name": "stdout",
     "output_type": "stream",
     "text": [
      "Hyd\n",
      "None\n"
     ]
    }
   ],
   "source": [
    "#  Tricky  program\n",
    "#  Find  output  (Home  work)\n",
    "print(eval('print(\"Hyd\")'))\t#Hyd\n",
    "\t\t\t\t#None"
   ]
  },
  {
   "cell_type": "code",
   "execution_count": 59,
   "id": "be663643",
   "metadata": {},
   "outputs": [
    {
     "name": "stdout",
     "output_type": "stream",
     "text": [
      "True\n",
      "False\n",
      "False\n",
      "\n",
      " \n"
     ]
    }
   ],
   "source": [
    "#  Find  outputs  (Home  work)\n",
    "print(bool('False'))\t#True\n",
    "print(eval('False'))\t#False\n",
    "print(bool(''))\t\t#True\n",
    "print(eval('  \"\"  '))\t#''\n",
    "#print(eval(''))\t\t#error\n",
    "print(eval('  \" \"   '))#' '\n",
    "#print(eval(' '))\t#error"
   ]
  },
  {
   "cell_type": "code",
   "execution_count": 60,
   "id": "ef445c21",
   "metadata": {},
   "outputs": [
    {
     "name": "stdout",
     "output_type": "stream",
     "text": [
      "Enter  any  input  :  35\n",
      "<class 'int'>\n",
      "35\n"
     ]
    }
   ],
   "source": [
    "# What  is  the  advantage  of  eval(input()) ?\n",
    "x = eval(input('Enter  any  input  :  '))#Enter any input\n",
    "print(type(x))\t\t#type of input if string 'str' if float 'float'\n",
    "print(x)\t\t#object x"
   ]
  },
  {
   "cell_type": "code",
   "execution_count": 64,
   "id": "362c4964",
   "metadata": {},
   "outputs": [
    {
     "name": "stdout",
     "output_type": "stream",
     "text": [
      "Enter  any  string  :  hgfg\n",
      "4\n",
      "hgfg\n",
      "Enter   any  string  : hhjvgh\n"
     ]
    },
    {
     "ename": "NameError",
     "evalue": "name 'hhjvgh' is not defined",
     "output_type": "error",
     "traceback": [
      "\u001b[1;31m---------------------------------------------------------------------------\u001b[0m",
      "\u001b[1;31mNameError\u001b[0m                                 Traceback (most recent call last)",
      "Cell \u001b[1;32mIn[64], line 5\u001b[0m\n\u001b[0;32m      3\u001b[0m \u001b[38;5;28mprint\u001b[39m(\u001b[38;5;28mlen\u001b[39m(a))\t\t\t\t\u001b[38;5;66;03m#length of input string\u001b[39;00m\n\u001b[0;32m      4\u001b[0m \u001b[38;5;28mprint\u001b[39m(a)\t\t\t\t\u001b[38;5;66;03m#object a\u001b[39;00m\n\u001b[1;32m----> 5\u001b[0m b \u001b[38;5;241m=\u001b[39m \u001b[38;5;28;43meval\u001b[39;49m\u001b[43m(\u001b[49m\u001b[38;5;28;43minput\u001b[39;49m\u001b[43m(\u001b[49m\u001b[38;5;124;43m'\u001b[39;49m\u001b[38;5;124;43mEnter   any  string  : \u001b[39;49m\u001b[38;5;124;43m'\u001b[39;49m\u001b[43m)\u001b[49m\u001b[43m)\u001b[49m\u001b[38;5;66;03m#Enter any string\u001b[39;00m\n\u001b[0;32m      6\u001b[0m \u001b[38;5;28mprint\u001b[39m(\u001b[38;5;28mlen\u001b[39m(b))\t\t\t\t\u001b[38;5;66;03m#len of object b\u001b[39;00m\n\u001b[0;32m      7\u001b[0m \u001b[38;5;28mprint\u001b[39m(b)\t\t\t\t\u001b[38;5;66;03m#print object b\u001b[39;00m\n",
      "File \u001b[1;32m<string>:1\u001b[0m\n",
      "\u001b[1;31mNameError\u001b[0m: name 'hhjvgh' is not defined"
     ]
    }
   ],
   "source": [
    "\n",
    "# What  is  a  better  approach  to  read  string  input ?\n",
    "a = input('Enter  any  string  :  ')\t#Enter any string\n",
    "print(len(a))\t\t\t\t#length of input string\n",
    "print(a)\t\t\t\t#object a\n",
    "b = eval(input('Enter   any  string  : '))#Enter any string\n",
    "print(len(b))\t\t\t\t#len of object b\n",
    "print(b)\t\t\t\t#print object b\n",
    "\n"
   ]
  },
  {
   "cell_type": "code",
   "execution_count": null,
   "id": "e9b8dd85",
   "metadata": {},
   "outputs": [],
   "source": []
  }
 ],
 "metadata": {
  "kernelspec": {
   "display_name": "Python 3 (ipykernel)",
   "language": "python",
   "name": "python3"
  },
  "language_info": {
   "codemirror_mode": {
    "name": "ipython",
    "version": 3
   },
   "file_extension": ".py",
   "mimetype": "text/x-python",
   "name": "python",
   "nbconvert_exporter": "python",
   "pygments_lexer": "ipython3",
   "version": "3.11.5"
  }
 },
 "nbformat": 4,
 "nbformat_minor": 5
}

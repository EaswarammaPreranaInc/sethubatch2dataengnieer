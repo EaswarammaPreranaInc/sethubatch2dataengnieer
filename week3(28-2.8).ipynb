{
 "cells": [
  {
   "cell_type": "markdown",
   "id": "94d84103",
   "metadata": {},
   "source": [
    "### 28/07/25"
   ]
  },
  {
   "cell_type": "code",
   "execution_count": 1,
   "id": "a6523cb4",
   "metadata": {},
   "outputs": [
    {
     "name": "stdout",
     "output_type": "stream",
     "text": [
      "Sum: (8+10j)\n",
      "Difference: (-2-2j)\n",
      "Product: (-9+38j)\n",
      "Division: (0.6393442622950819+0.03278688524590165j)\n"
     ]
    }
   ],
   "source": [
    "'''\n",
    "Write  a  program  to  add ,  subtract , multiply  and  divide  two  complex  numbers\n",
    "\n",
    "First  complex  number   --->  3 + 4j\n",
    "2nd   complex  number   --->  5 + 6j\n",
    "What  is  the  sum ? ---> (3 + 4j) + (5 + 6j) = 8 + 10j\n",
    "What  is  the  difference ?  ---> (3 + 4j) - (5 + 6j) =  -2 - 2j\n",
    "What  is  the  product ?  ---> (3 + 4j) * (5 + 6j) =  15 + 18j + 20j - 24 =  -9 + 38j\n",
    "\n",
    "\n",
    "What  is  the  division ?  ---> (3 + 4j) / (5 + 6j) = (3 + 4j) * (5 - 6j) / (5 + 6j) * (5 -6j)\n",
    "                                                                         =   (15 - 18j + 20j + 24) / (25 + 36)\n",
    "Enter first complex number : 3+4j\n",
    "Enter second complex number: 5+6j\n",
    "Sum :  (8+10j)\n",
    "Difference :  (-2-2j)\n",
    "Product:  (-9+38j)\n",
    "Division :  (0.6393442622950819+0.03278688524590165j)\t\t\t\t\t\t\t\t\t\t\t\t\t\t\t\t\t = 39 / 61 + 2j / 61\t\t\t\t\t\t\t\t\t\t\t   \n",
    "'''\n",
    "a=complex(input('Enter first complex number:'))\n",
    "b=complex(input('Enter second complex number:'))\n",
    "print(f'Sum:',a+b)\n",
    "print(f'Difference:',a-b)\n",
    "print(f'Product:',a*b)\n",
    "print(f'Division:',a/b)"
   ]
  },
  {
   "cell_type": "code",
   "execution_count": null,
   "id": "0df96324",
   "metadata": {},
   "outputs": [],
   "source": [
    "# Identify  error\n",
    "else:\n",
    "\t\tprint('else  suite')\n",
    "print('Outside')# Syntax Error because there is no if condition"
   ]
  },
  {
   "cell_type": "code",
   "execution_count": null,
   "id": "db2e87a4",
   "metadata": {},
   "outputs": [],
   "source": [
    "# Identify  error\n",
    "if  9 > 12:\n",
    "\tprint('Hyd')\n",
    "else\n",
    "\tprint('Sec')# semicolon missed for else"
   ]
  },
  {
   "cell_type": "code",
   "execution_count": null,
   "id": "ece30b74",
   "metadata": {},
   "outputs": [],
   "source": [
    "# Identify  error\n",
    "if  9 > 5\n",
    "\tprint('Hello')\n",
    "print('Bye')# semicolon missed after if condition"
   ]
  },
  {
   "cell_type": "code",
   "execution_count": null,
   "id": "acc43257",
   "metadata": {},
   "outputs": [],
   "source": [
    "# Identify  error\n",
    "if  (10,20,15):\n",
    "print('Hyd')\n",
    "else:\n",
    "print('Sec') # indentation error"
   ]
  },
  {
   "cell_type": "code",
   "execution_count": null,
   "id": "bc95b48a",
   "metadata": {},
   "outputs": [],
   "source": [
    "# Identify  error\n",
    "if  ():\n",
    "\t\t\tprint('Hyd')\n",
    "\telse:\n",
    "\t\t\t\t\tprint('Sec')\n",
    "print('Bye') # if and else should be in same column"
   ]
  },
  {
   "cell_type": "code",
   "execution_count": null,
   "id": "975abbe3",
   "metadata": {},
   "outputs": [],
   "source": [
    "# Identify  error\n",
    "if  { }:\n",
    "{\n",
    "\tprint('One')\n",
    "\tprint('Two')\n",
    "\tprint('Three')\n",
    "}\n",
    "else:\n",
    "{\n",
    "\tprint('Four')\n",
    "\tprint('Five')\n",
    "\tprint('Six')\n",
    "}\n",
    "print('Bye') # braces are used for code block"
   ]
  },
  {
   "cell_type": "code",
   "execution_count": null,
   "id": "9b9e30c1",
   "metadata": {},
   "outputs": [],
   "source": [
    "# Identify  error\n",
    "if  ():\n",
    "\tprint('One')\n",
    "\tprint('Two')\n",
    "\tprint('Three')\n",
    "else:\n",
    "if  []:\n",
    "\tprint('Four')\n",
    "\tprint('Five')\n",
    "\tprint('Six')\n",
    "else:\n",
    "if  {}:\n",
    "\tprint('Seven')\n",
    "\tprint('Eight')\n",
    "\tprint('Nine')\n",
    "else:\n",
    "\tprint('Hyd')\n",
    "\tprint('Sec')\n",
    "\tprint('Cyb')\n",
    "print('Bye') # when else and if are used the code will shift right side with indentation"
   ]
  },
  {
   "cell_type": "code",
   "execution_count": 2,
   "id": "b04259c5",
   "metadata": {},
   "outputs": [
    {
     "name": "stdout",
     "output_type": "stream",
     "text": [
      "Even number\n"
     ]
    }
   ],
   "source": [
    "# Write  a  program  to  determine  a  number  is  even  or  odd  with   if  statement\n",
    "''' # Write  a  program  to  determine  a  number  is  even  or  odd  with   if  statement '''\n",
    "a=int(input('Enter an integer number:'))\n",
    "if(a%2==0):\n",
    "    print('Even number')\n",
    "else:\n",
    "    print('Odd number')"
   ]
  },
  {
   "cell_type": "code",
   "execution_count": 3,
   "id": "3ee2797f",
   "metadata": {},
   "outputs": [
    {
     "name": "stdout",
     "output_type": "stream",
     "text": [
      "One\n",
      "Two\n",
      "Three\n",
      "Bye\n"
     ]
    }
   ],
   "source": [
    "# Find outputs  (Home  work)\n",
    "if():\n",
    "        print('Hyd')\n",
    "        print('Sec')\n",
    "        print('Cyb')\n",
    "else:\n",
    "        print('One')\n",
    "        print('Two')\n",
    "        print('Three')\n",
    "print('Bye')\n",
    "#One\n",
    "#Two\n",
    "#Three\n",
    "#Bye"
   ]
  },
  {
   "cell_type": "code",
   "execution_count": 4,
   "id": "73f91674",
   "metadata": {},
   "outputs": [
    {
     "name": "stdout",
     "output_type": "stream",
     "text": [
      "Hyd\n",
      "Sec\n",
      "Cyb\n",
      "Bye\n"
     ]
    }
   ],
   "source": [
    "# Find  outputs  (Home  work)\n",
    "if{10 : 20 , 30 : 40}:\n",
    "        print('Hyd')\n",
    "        print('Sec')\n",
    "        print('Cyb')\n",
    "print('Bye')\n",
    "\n",
    "# Hyd\n",
    "#Sec\n",
    "# Cyb\n",
    "# Bye"
   ]
  },
  {
   "cell_type": "code",
   "execution_count": 5,
   "id": "d75616f1",
   "metadata": {},
   "outputs": [
    {
     "name": "stdout",
     "output_type": "stream",
     "text": [
      "Bye\n"
     ]
    }
   ],
   "source": [
    "# Find outputs  (Home  work)\n",
    "if { }:\n",
    "\tprint('Hyd')\n",
    "\tprint('Sec')\n",
    "\tprint('Cyb')\n",
    "print('Bye')\t# bye"
   ]
  },
  {
   "cell_type": "code",
   "execution_count": 6,
   "id": "f9e85a74",
   "metadata": {},
   "outputs": [
    {
     "name": "stdout",
     "output_type": "stream",
     "text": [
      "Input should be from 1-12\n"
     ]
    }
   ],
   "source": [
    "# Write   a  program  to  print  month  name  for  input  month  number  by  using  if  and  elif  (Home  work)\n",
    "\n",
    "'''\n",
    "Enter month number (1 - 12): 6\n",
    "June \n",
    "\n",
    "Enter month number (1 - 12): 13\n",
    "Input  should  be  between  1  and   12\n",
    "\n",
    "Enter month number (1 - 12): 10.8\n",
    "Input  should  be  an  integer\n",
    "'''\n",
    "try:\n",
    "    import calendar\n",
    "    a=int(input('Enter month number:'))\n",
    "    print(calendar.month_name[a])\n",
    "except IndexError:\n",
    "    print('Input should be from 1-12')\n",
    "except ValueError:\n",
    "    print('Input should be an integer')"
   ]
  },
  {
   "cell_type": "code",
   "execution_count": 7,
   "id": "dc197888",
   "metadata": {},
   "outputs": [
    {
     "name": "stdout",
     "output_type": "stream",
     "text": [
      "Three\n"
     ]
    }
   ],
   "source": [
    "'''\n",
    "Write  a  program  to  print  digit  in  words  with  else  and  if  (do  not  use  elif)\n",
    "0 - Zero\n",
    "1 - One\n",
    "2 - Two\n",
    "....\n",
    "9 - Nine\n",
    "10 - Invalid\n",
    "'''\n",
    "\n",
    "a=int(input('Enter a digit from 0-9'))\n",
    "if a==0:\n",
    "    print(\"Zero\")\n",
    "else:\n",
    "    if a==1:\n",
    "        print(\"One\")\n",
    "    else:\n",
    "        if a==2:\n",
    "            print(\"Two\")\n",
    "        else:\n",
    "            if a==3:\n",
    "                print(\"Three\")\n",
    "            else:\n",
    "                if a==4:\n",
    "                    print(\"Four\")\n",
    "                else:\n",
    "                    if a==5:\n",
    "                        print(\"Five\")\n",
    "                    else:\n",
    "                        if a==6:\n",
    "                            print(\"Six\")\n",
    "                        else:\n",
    "                            if a==7:\n",
    "                                print(\"Seven\")\n",
    "                            else:\n",
    "                                if a==8:\n",
    "                                    print(\"Eight\")\n",
    "                                else:\n",
    "                                    if a==9:\n",
    "                                        print(\"Nine\")\n",
    "                                    else:\n",
    "                                        print(\"Invalid\")"
   ]
  },
  {
   "cell_type": "markdown",
   "id": "438e3fba",
   "metadata": {},
   "source": [
    "### 29/08/25"
   ]
  },
  {
   "cell_type": "code",
   "execution_count": 1,
   "id": "61823ce5",
   "metadata": {},
   "outputs": [
    {
     "name": "stdout",
     "output_type": "stream",
     "text": [
      "Leap year\n"
     ]
    }
   ],
   "source": [
    "'''\n",
    "Write  a  program  to  test  year  is  leap  year  or  not\n",
    "\n",
    "1) What  is  leap  year ?  --->  Divisible  by  4  but  not  by  100   (or)  divisble  by  400\n",
    "\n",
    "2) Are  2016 , 2020 , 2024  leap  years ? --->  Yes  becoz  leap  year  for  every  4  yearrs\n",
    "\n",
    "3) Are  1700 , 1800 , 1900  leap  years ? --->  No  becoz  no  leap  year  for  every  100  years\n",
    "\n",
    "4) Are  1600 , 2000 , 2400  leap  years ?  --->  Yes  becoz  leap  year  for  every  400  years\n",
    "\n",
    "5) Hint:  single  if  with  3  conditions  and  else\n",
    "'''\n",
    "a=int(input(\"Enter year\"))\n",
    "if (a%4==0 and a%100!=0) or (a%400==0):\n",
    "    print(\"Leap year\")\n",
    "else:\n",
    "    print(\"not a leap year\") "
   ]
  },
  {
   "cell_type": "code",
   "execution_count": 2,
   "id": "13d8e0ed",
   "metadata": {},
   "outputs": [
    {
     "name": "stdout",
     "output_type": "stream",
     "text": [
      "30\n"
     ]
    }
   ],
   "source": [
    "'''\n",
    "Write  a  program  to  determine  largest  of  three  numbers  with  if  and  else\n",
    "\n",
    "Hint:  Write  multiple  conditions\n",
    "'''\n",
    "\n",
    "a=int(input(\"Enter 1st number\"))    # 10\n",
    "b=int(input(\"Enter 2nd number\"))    # 20\n",
    "c=int(input(\"Enter 3rd number\"))    # 30\n",
    "if a>b and a>c:\n",
    "    print(a)\n",
    "elif b>c:\n",
    "    print(b)\n",
    "else:\n",
    "    print(c)"
   ]
  },
  {
   "cell_type": "code",
   "execution_count": 4,
   "id": "0c98bc0c",
   "metadata": {},
   "outputs": [
    {
     "name": "stdout",
     "output_type": "stream",
     "text": [
      "86.00\n"
     ]
    }
   ],
   "source": [
    "'''\n",
    "Write  a  program  to  convert  celsius  temperature  to  farenheit  and  vice-versa\n",
    "\n",
    "1) What  is  the  formula  to  convert  celsius  to  farenheit ? --->  1.8 * temp + 32\n",
    "\n",
    "2) What  is  the  formula  to  convert  farenheit  to  celsius ?  --->  (temp - 32) / 1.8\n",
    "\n",
    "Enter  1  to  convert  celsius  to  farenheit  and  2  to  convert  fahrenheit  to  celsius :  1\n",
    "Enter  celsius  temperature :  30\n",
    "Fahrenheit  Equivalent  :  86.0\n",
    "\n",
    "Enter  1  to  convert  celsius  to  farenheit  and  2  to  convert  fahrenheit  to  celsius :  2\n",
    "Enter  fahrenheit  temperature : 100\n",
    "celsius   equivalent :  37.78\n",
    "\n",
    "Enter  1  to  convert  celsius  to  farenheit  and  2  to  convert  fahrenheit  to  celsius :  3\n",
    "Invalid input  \n",
    "'''\n",
    "try:\n",
    "    a=int(input(\"Enter  1  to  convert  celsius  to  farenheit  and  2  to  convert  fahrenheit  to  celsius :\"))\n",
    "    if a==1:\n",
    "        b=int(input(\"Enter  celsius  temperature : \"))\n",
    "        f=(1.8 * b + 32)\n",
    "        print('%.2f' %f)\n",
    "    elif a==2:\n",
    "        b=int(input(\"Enter  fahrenheit  temperature :\"))\n",
    "        c=((b - 32) / 1.8)\n",
    "        print('%.2f' %c)\n",
    "    else:\n",
    "        print(\"Invalid input\")\n",
    "except:\n",
    "    print(\"Invalid input. Please enter integer numbers\")\n",
    "\n"
   ]
  },
  {
   "cell_type": "code",
   "execution_count": 5,
   "id": "38896590",
   "metadata": {},
   "outputs": [
    {
     "name": "stdout",
     "output_type": "stream",
     "text": [
      "Both  are  +ve and x, y  in  1st  quadrant\n"
     ]
    }
   ],
   "source": [
    "'''\n",
    "Write  a  program  to  test  a  point  (x , y)  lies  in  1st  quadrant , 2nd  quadrant , 3rd  quadrant ,\n",
    "4th  quadrant , x - axis , y - axis   or  origin\n",
    "\n",
    "1) What  are  the  values  of  x  and  y  in  1st  quadrant ?  --->  Both  are  +ve\n",
    "\n",
    "2) What  are  the  values  of  x  and  y  in  2nd  quadrant ?  --->  'x'  is  -ve  and  'y'  is  +ve\n",
    "\n",
    "3) What  are  the  values  of  x  and  y  in  3rd  quadrant ?  ---> Both   are  -ve\n",
    "\n",
    "4) What  are  the  values  of  x  and  y  in  4th  quadrant ?  --->  'x'  is   +ve  and  'y'  is  -ve\n",
    "\n",
    "5) What  are  the  values  of  x  and  y  on  x - axis ?  ---> 'x'  is  non-zero  and  'y'  is  0\n",
    "\n",
    "6) What  are  the  values  of  x  and  y  on  y - axis ?  --->  'x'  is  0  and  'y'  is  non-zero\n",
    "\n",
    "7) What  are  the  values  of  x  and  y  if  point  is  origin ?  --->  Both  are  zeroes\n",
    "\n",
    "8) Hint:  Use  if  ..   elif\n",
    "'''\n",
    "x=float(input('Enter x co-ordinate '))\n",
    "y=float(input('enter y co-ordinate'))\n",
    "if x>0 and y>0:\n",
    "    print(\"Both  are  +ve and x, y  in  1st  quadrant\")\n",
    "elif x<0 and y>0:\n",
    "    print(\" 'x'  is  -ve  and  'y'  is  +ve and x ,y  in  2nd  quadrant\")\n",
    "elif x<0 and y<0:\n",
    "    print(\"Both   are  -ve and x, y  in  3rd  quadrant\")\n",
    "elif x>0 and y<0:\n",
    "    print(\"'x'  is   +ve  and  'y'  is  -ve  and x, y  in  4th  quadrant\")\n",
    "elif x!=0 and y==0:\n",
    "    print(\" the  values  of  x  and  y  on  x - axis -'x'  is  non-zero  and  'y'  is  0\")\n",
    "elif x==0 and y!=0:\n",
    "    print(\"the  values  of  x  and  y  on  y - axis --  'x'  is  0  and  'y'  is  non-zero\")\n",
    "elif x==0 and y==0:\n",
    "    print(\"x  and  y values are  point at he  origin\")"
   ]
  },
  {
   "cell_type": "code",
   "execution_count": 6,
   "id": "49c585e1",
   "metadata": {},
   "outputs": [
    {
     "name": "stdout",
     "output_type": "stream",
     "text": [
      "Largest number : 20.0\n",
      "Smallest number : 7.0\n",
      "Middle number : 10.0\n"
     ]
    }
   ],
   "source": [
    "'''\n",
    "Write  a  program  to  determine  largest , smallest  and  middle  of  three  numbers\n",
    "\n",
    "a = 10\n",
    "b = 20\n",
    "c = 7\n",
    "max =  20\n",
    "min =  7\n",
    "mid =  (10 + 20 + 7) - (20 + 7) = 10\n",
    "\n",
    "1) What  is  the  initial  value  of  max  ?  --->  a\n",
    "\n",
    "2) Whichever  input >  max,  assign  that  input  to  max\n",
    "\n",
    "3) What  is  the  initial  value  of  min  ?  --->  'a'\n",
    "\n",
    "4) Whichever  input  <  min,  assign  that  input  to  min\n",
    "\n",
    "5) How  to  obtain  middle  number ?  ---> Eliminate  max  and  min  from  a , b , c\n",
    "\n",
    "6) Hint : Do  not  use  else  in  the  program\n",
    "\n",
    "Enter  first  input   :  10\n",
    "Enter  second  input   :  20\n",
    "Enter  third  input   :  7\n",
    "Largest number :  20.0\n",
    "Smallest number :  7.0\n",
    "Middle number :  10.0\n",
    "'''\n",
    "\n",
    "a= float(input(\"Enter 1st number\"))\n",
    "b= float(input(\"Enter 2nd number\"))\n",
    "c= float(input(\"Enter 3rd number\"))\n",
    "max=a\n",
    "min=a\n",
    "if b>max:\n",
    "    max=b\n",
    "if c>max:\n",
    "    max=c\n",
    "if b<min:\n",
    "    min=b\n",
    "if c<min:\n",
    "    min=c\n",
    "mid=(a+b+c)-(max+min)\n",
    "print(\"Largest number :\", max)\n",
    "print(\"Smallest number :\", min)\n",
    "print(\"Middle number :\", mid)\n"
   ]
  },
  {
   "cell_type": "code",
   "execution_count": 9,
   "id": "e2cd616b",
   "metadata": {},
   "outputs": [
    {
     "name": "stdout",
     "output_type": "stream",
     "text": [
      "It is a valid triangle\n",
      "Equilateral Triangle\n",
      "Area: 10.825317547305483\n"
     ]
    }
   ],
   "source": [
    "'''\n",
    "Write  a  program  to  determine  three  sides  form  a  triangle  or  not\n",
    "1) Find  area  if  it  is  an  equilateral  triangle\n",
    "    What  is  an  equilateral  triangle ?  ---> All  the  three  sides  should  be  same\n",
    "    What  is  the  area  of  equilateral  triangle ?  --->  sqrt(3) / 4 * a ^ 2\n",
    "\n",
    "2) Find  perimeter  if  it  is  an  isosceles  triangle\n",
    "    What  is  an  isoscles  triangle ?  ---> Any  two  sides  are  same\n",
    "    What   is  the  perimeter  of  isoscles  triangle ?  ---> a + b + c\n",
    "\n",
    "3) Find  both  if  it  is  scalene  triangle\n",
    "    What  is  a  scalene  triangle ?  ---> All  the  three  sides  are  different\n",
    "    What  is  the  area  of  scalene  triangle ?  ---> sqrt(s * (s - a) * (s - b) * (s - c))\n",
    "\tWhat  is  the  value  of  's'  ?  --->  \t(a + b + c) / 2\n",
    "    What   is  the  perimeter  of  scalene  triangle ?  --->  a + b + c\n",
    "\n",
    "4) What  is  the  qualification  of  triangle  ?  --->  Sum  of  every  two  sides  should  be  >  3rd  side\n",
    "\n",
    "5) Hint: Use  nested  if\n",
    "'''\n",
    "import math\n",
    "\n",
    "a = float(input(\"Enter 1st side: \"))\n",
    "b = float(input(\"Enter 2nd side: \"))\n",
    "c = float(input(\"Enter 3rd side: \"))\n",
    "\n",
    "# Step 4: Qualification of triangle\n",
    "if a + b > c and a + c > b and b + c > a:\n",
    "    print(\"It is a valid triangle\")\n",
    "\n",
    "    # 1) Equilateral Triangle\n",
    "    if a == b == c:\n",
    "        area = (math.sqrt(3) / 4) * (a ** 2)\n",
    "        print(\"Equilateral Triangle\")\n",
    "        print(\"Area:\", area)\n",
    "\n",
    "    # 2) Isosceles Triangle\n",
    "    elif a == b or b == c or a == c:\n",
    "        perimeter = a + b + c\n",
    "        print(\"Isosceles Triangle\")\n",
    "        print(\"Perimeter:\", perimeter)\n",
    "\n",
    "    # 3) Scalene Triangle\n",
    "    else:\n",
    "        perimeter = a + b + c\n",
    "        s = perimeter / 2\n",
    "        area = math.sqrt(s * (s - a) * (s - b) * (s - c))\n",
    "        print(\"Scalene Triangle\")\n",
    "        print(\"Area:\", area)\n",
    "        print(\"Perimeter:\", perimeter)\n",
    "\n",
    "else:\n",
    "    print(\"Not a valid triangle\")\n",
    "\n"
   ]
  },
  {
   "cell_type": "code",
   "execution_count": 10,
   "id": "29e37805",
   "metadata": {},
   "outputs": [
    {
     "name": "stdout",
     "output_type": "stream",
     "text": [
      "Discriminant: -12.0\n",
      "Roots are complex or Imaginary\n",
      "Root1=-0.00+1.73j\n",
      "Root2=-0.00+1.73j\n"
     ]
    }
   ],
   "source": [
    "'''\n",
    "Write  a  program  to  determine  roots  of  a  quadtratic  equation  a * x ^ 2 + b * x + c = 0  where  a  ! = 0\n",
    "\n",
    "1) What  is  the  value  of  discriminant ?  --->  b ^ 2 - 4ac\n",
    "\n",
    "2) What  are  the  roots  called  if  disc > 0 ?  --->  Real  and  distinct\n",
    "     What  is  the  formula  for  root1  ?  ---> (-b + sqrt(disc)) / 2a\n",
    "     What  is  the  formula  for  root2 ?  ---> (-b - sqrt(disc)) / 2a\n",
    "\n",
    "3) What  are  the  roots  called  if  disc  is  0 ?  --->  Real  and  same\n",
    "     What  is  the  formula  for  root  ?  --->  -b / 2a\n",
    "\n",
    "4) What  are  the  roots  called  if  disc < 0 ?  --->  Complex  (or)  Imaginary  roots\n",
    "     What  is  the  formula  for  real  part ?  --->  -b / 2a\n",
    "\t What  is  the  formula  for  imag  part ?  --->  sqrt(-disc) / 2a\n",
    "\t What  is  root1  if  real  part  is  3  and  imag  part  is  4 ?  ---> 3 + 4j\n",
    "\t What  is  root2  if  real  part  is  3  and  imag  part  is  4 ?  --->  3 - 4j\n",
    "'''\n",
    "import math\n",
    "a=float(input(\"Enter coefficient a(a!=0):\"))\n",
    "b=float(input(\"Enter coefficient b:\"))\n",
    "c=float(input(\"Enter coefficient c:\"))\n",
    "if a==0:\n",
    "    print(\"Invalid input 'a' must not be a 0 for quadratic equation\")\n",
    "else:\n",
    "    discriminant=b**2-4*a*c\n",
    "    print(\"Discriminant:\",discriminant)\n",
    "    if discriminant>0:\n",
    "        print(\"Roots are real and distinct\")\n",
    "        root1=(-b+math.sqrt(discriminant))/(2*a)\n",
    "        root2=(-b-math.sqrt(discriminant))/(2*a)\n",
    "        print(\"Root1:\",root1)\n",
    "        print(\"Root2:\",root2)\n",
    "    elif discriminant==0:\n",
    "        print(\"Roots are real and same\")\n",
    "        root=-b/(2*a)\n",
    "        print(\"Root:\",root)\n",
    "    else:\n",
    "        print(\"Roots are complex or Imaginary\")\n",
    "        real=-b/(2*a)\n",
    "        imag=math.sqrt(-discriminant)/(2*a)\n",
    "        print(\"Root1={:.2f}+{:.2f}j\".format(real,imag))\n",
    "        print(\"Root2={:.2f}+{:.2f}j\".format(real,imag))"
   ]
  },
  {
   "cell_type": "code",
   "execution_count": 11,
   "id": "22a60784",
   "metadata": {},
   "outputs": [
    {
     "name": "stdout",
     "output_type": "stream",
     "text": [
      "Distance from origin: 31.622776601683793\n",
      "Point lies outside the circle\n"
     ]
    }
   ],
   "source": [
    "'''\n",
    "Write  a  program   to  determine  a  point (x , y)  lies  inside , outside  or  on  the  circle.\n",
    "Center  is  origin  and  radius  is  'r'\n",
    "\n",
    "1) What  is  the  distance  between  origin  and  point (x , y) ?  --->  sqrt(x ^ 2 + y ^ 2)\n",
    "\n",
    "2) Where  is  the  point  if  distance >  raidus ?  --->  Outside  the  circle\n",
    "\n",
    "3) Where  is  the  point  if  distance < raidus ?  --->  Inside  the  circle\n",
    "\n",
    "4) Where  is  the  point  if  distance  and  raidus   are  same ?  ---> On  the  circle\n",
    "'''\n",
    "import math\n",
    "r=float(input(\"Enter radius of circle:\"))\n",
    "x=float(input(\"Enter x-coordinate:\"))\n",
    "y=float(input(\"Enter y-coordinate:\"))\n",
    "distance=math.sqrt(x**2+y**2)\n",
    "print(\"Distance from origin:\",distance)\n",
    "if distance>r:\n",
    "    print(\"Point lies outside the circle\")\n",
    "elif distance<r:\n",
    "    print(\"Point lies inside the circle\")\n",
    "else:\n",
    "    print(\"Point lies on the circle\")"
   ]
  },
  {
   "cell_type": "code",
   "execution_count": 12,
   "id": "739f65d0",
   "metadata": {},
   "outputs": [
    {
     "name": "stdout",
     "output_type": "stream",
     "text": [
      "Bye\n"
     ]
    }
   ],
   "source": [
    "# Find  outputs  (Home  work)\n",
    "m = 4\n",
    "match  m:\n",
    "\tcase  1:\n",
    "\t\tprint('One')\n",
    "\tcase  2:\n",
    "\t\tprint('Two')\n",
    "\tcase  3:\n",
    "\t\tprint('Three')\n",
    "print('Bye')\t# Bye"
   ]
  },
  {
   "cell_type": "code",
   "execution_count": null,
   "id": "54f259a5",
   "metadata": {},
   "outputs": [],
   "source": [
    "# Identify  Error\n",
    "i = 2\n",
    "match  i:\n",
    "\tcase  1:\n",
    "\t\tprint('One')\n",
    "\tcase  _:\t# error we cant use _ in the middle\n",
    "\t\tprint('None of   the  above')\n",
    "\tcase  2:\n",
    "\t\tprint('Two')\n",
    "print('Bye')\t# anonymous label must be at end of all cases"
   ]
  },
  {
   "cell_type": "code",
   "execution_count": null,
   "id": "3e7c0320",
   "metadata": {},
   "outputs": [],
   "source": [
    "# Find  outputs  (Home  work)\n",
    "m = 2\n",
    "match  m:\n",
    "\tcase  1:\n",
    "\t\tprint('One')\n",
    "\tcase  _:\n",
    "\t\tprint('Hello')\n",
    "\tcase  _:\n",
    "\t\tprint('Bye')\n",
    "print('End') # error due to two anonymous label and also 2 label not exist"
   ]
  },
  {
   "cell_type": "code",
   "execution_count": 15,
   "id": "b134f8f1",
   "metadata": {},
   "outputs": [
    {
     "name": "stdout",
     "output_type": "stream",
     "text": [
      "Hyd\n",
      "Bye\n"
     ]
    }
   ],
   "source": [
    "#  Find  outputs  (Home  work)\n",
    "m = 1\n",
    "match  m:\n",
    "\tcase  1:\n",
    "\t\tprint('Hyd')\n",
    "\tcase  1:\n",
    "\t\tprint('Sec')\n",
    "\tcase  1:\n",
    "\t\tprint('Cyb')\n",
    "print('Bye')# Hyd<nextline> Bye"
   ]
  },
  {
   "cell_type": "code",
   "execution_count": 16,
   "id": "c157cc3e",
   "metadata": {},
   "outputs": [
    {
     "name": "stdout",
     "output_type": "stream",
     "text": [
      "Book\n",
      "Bye\n"
     ]
    }
   ],
   "source": [
    "# Find  outputs  (Home  work)\n",
    "ch = 'B'\n",
    "match  ch:\n",
    "\tcase   'A':\n",
    "\t\tprint('Apple')\n",
    "\tcase  'B':\n",
    "\t\tprint('Book')\n",
    "\tcase  'C':\n",
    "\t\tprint('Cafe')\n",
    "\tcase  _:\n",
    "\t\tprint('None of  the  above')\n",
    "print('Bye') # Book\n",
    "            #Bye"
   ]
  },
  {
   "cell_type": "code",
   "execution_count": 18,
   "id": "f6bd07e8",
   "metadata": {},
   "outputs": [
    {
     "name": "stdout",
     "output_type": "stream",
     "text": [
      "Hyd\n",
      "Sec\n",
      "Cyb\n",
      "Bye\n"
     ]
    }
   ],
   "source": [
    "'''\n",
    "1) What  are  the  outputs  if  input  is  -6 ? --->\n",
    "2) What  are  the  outputs  if  input  is  15  ?  --->\n",
    "3) What  are  the  outputs  if  input  is  10.8  ?  --->\n",
    "4) What  are  the  outputs  if  input  is  0  ?  --->\n",
    "5) What  are  the  outputs  if  input  is  -10  ?  --->\n",
    "6) What  are  the  outputs  if  input  is  7  ?  --->\n",
    "'''\n",
    "x = eval(input('Enter any  number :  '))\n",
    "match  x:\n",
    "\tcase  7 |  -6  |  0:\n",
    "\t\tprint('Hyd')\n",
    "\t\tprint('Sec')\n",
    "\t\tprint('Cyb')\n",
    "\tcase  -10 | 15:\n",
    "\t\tprint('One')\n",
    "\t\tprint('Two')\n",
    "\t\tprint('Three')\n",
    "\tcase  _:\n",
    "\t\tprint('India')\n",
    "\t\tprint('China')\n",
    "\t\tprint('Usa')\n",
    "# End  of  match\n",
    "print('Bye')\n",
    "#outputs:\n",
    "# 1.Hyd Sec Cyb Bye\n",
    "#2.One Two Three\n",
    "#3. India China Usa Bye\n",
    "#4. Hyd Sec Cyb Bye\n",
    "#5. One Two Three Bye\n",
    "#6. Hyd Sec Cyb Bye"
   ]
  },
  {
   "cell_type": "code",
   "execution_count": 19,
   "id": "022d9c62",
   "metadata": {},
   "outputs": [
    {
     "name": "stdout",
     "output_type": "stream",
     "text": [
      "Quadrant\n"
     ]
    }
   ],
   "source": [
    "'''\n",
    "1) What  is  the  output  when  input  is  (-10 , -20) ?  --->\n",
    "2) What  is  the  output  when  input  is  (10 , 0) ?  --->\n",
    "3) What  is  the  output  when  input  is  (0 , -20) ?  --->\n",
    "4) What  is  the  output  when  input  is  (0 , 0) ?  --->\n",
    "5) What  is  the  output  when  input  is  (10 , 20 , 30) ?  --->\n",
    "6) What  is  the  output  when  input  is  [10 , 20]  ?  --->\n",
    "7) What  is  the  output  when  input  is  [0 , -25]  ?  --->\n",
    "8) What  is  the  output  when  input  is  ()  ?  --->\n",
    "9) What  is  the  output  when  input  is  {10 , 20} ?  --->\n",
    "10) What  is  the  output  when  input  is  (25,) ?  --->\n",
    "11) What  is  the  output  when  input  is  {10 : 20} ?  --->\n",
    "'''\n",
    "tpl = eval(input('Enter  any  point  in  the  form  of  (x , y) :  '))\n",
    "match  tpl:\n",
    "\tcase  (0 , 0):\n",
    "\t\tprint('Origin')\n",
    "\tcase   (0 , y):\n",
    "\t\tprint('y - axis')\n",
    "\tcase   (x , 0):\n",
    "\t\tprint('x - axis')\n",
    "\tcase   (x , y):\n",
    "\t\tprint('Quadrant')\n",
    "\tcase  _:\n",
    "\t\tprint('Not  a  point')\n",
    "#outputs: \n",
    "# 1. Quadrant\n",
    "#2. x-axis\n",
    "#3. y-axis\n",
    "#4. Origin\n",
    "#5. Error due to more inputs\n",
    "#6. Quadrant\n",
    "#7. y-axis\n",
    "#8. Not a point\n",
    "#9. Not a point\n",
    "#10. Not a point\n",
    "#11. Not a point"
   ]
  },
  {
   "cell_type": "code",
   "execution_count": 20,
   "id": "d710ccaf",
   "metadata": {},
   "outputs": [
    {
     "name": "stdout",
     "output_type": "stream",
     "text": [
      "Bill Amount: Rs. 300.0\n"
     ]
    }
   ],
   "source": [
    "'''\n",
    "Write  a  program  to  determine  bill  amount  and  input  is  units\n",
    "\n",
    "Units                                                      Cost\n",
    "------------------------------------------------------------\n",
    "First  100  units(0 - 99)\t\t\t\t\tRs. 3.00 / unit\n",
    "\n",
    "Next  100  units(100 - 199)\t\t\t\tRs. 3.50 / unit\n",
    "\n",
    "Next  200  units(200 - 399)\t\t    \tRs. 4.00 / unit\n",
    "\n",
    "Next  300  units(400 - 699)\t\t\t\tRs. 4.50 / unit\n",
    "\n",
    "Above  700  units(>= 700)\t\t\t\tRs. 5.00 / unit\n",
    "---------------------------------------------------------------\n",
    "Let  units  be  1200\n",
    "What  is  the  bill  amount ? --->  100 * 3.00 + 100 * 3.50 + 200 * 4.00 + 300 * 4.50 + 500 * 5.00\n",
    "\n",
    "Hint:  Use  match  ...  case   but  not  if ... else\n",
    "'''\n",
    "\n",
    "units = int(input(\"Enter units: \"))\n",
    "\n",
    "match units // 100:\n",
    "    case 0:\n",
    "        cost = units * 3.00\n",
    "\n",
    "    case 1:\n",
    "        cost = 100 * 3.00 + (units - 100) * 3.50\n",
    "\n",
    "    case 2 | 3:\n",
    "        cost = 100 * 3.00 + 100 * 3.50 + (units - 200) * 4.00\n",
    "\n",
    "    case 4 | 5 | 6:\n",
    "        cost = 100 * 3.00 + 100 * 3.50 + 200 * 4.00 + (units - 400) * 4.50\n",
    "\n",
    "    case _:\n",
    "        cost = 100 * 3.00 + 100 * 3.50 + 200 * 4.00 + 300 * 4.50 + (units - 700) * 5.00\n",
    "\n",
    "print(\"Bill Amount: Rs.\", cost)"
   ]
  },
  {
   "cell_type": "code",
   "execution_count": 21,
   "id": "1d8702f8",
   "metadata": {},
   "outputs": [
    {
     "name": "stdout",
     "output_type": "stream",
     "text": [
      "Fibonacci series\n",
      "0\n",
      "1\n",
      "1\n",
      "2\n",
      "3\n",
      "5\n",
      "8\n"
     ]
    }
   ],
   "source": [
    "'''\n",
    "Write  a  program  to  print  fibonacci  series  upto   x\n",
    "\n",
    "Let  input  be   10\n",
    "What  are  the  outputs  ?  --->   0 , 1 ,  1 , 2 ,  3 ,5 , 8\n",
    "\n",
    "\n",
    "1) What  is  the  formula  for  10th  term ?  ---> 9th  term + 8th  term\n",
    "    What  is  the  formula  for   3rd  term ?  ---> \t2nd  term + 1st  term\n",
    "    What  is  the  formual  for  ith  term ?  --->  (i - 1)th  term +  (i - 2)  term\n",
    "\n",
    "2) What  are  the  first  two  terms ?  --->  0  and  1  (No  formula)\n",
    "\n",
    "3) Hint:  Use  while  loop\n",
    "'''\n",
    "\n",
    "x=int(input(\"Enter value of x:\"))\n",
    "a=0\n",
    "b=1\n",
    "print(\"Fibonacci series\")\n",
    "if x>=0:\n",
    "    print(a)\n",
    "if x>=1:\n",
    "    print(b)\n",
    "c=a+b\n",
    "while c<=x:\n",
    "    print(c)\n",
    "    a=b\n",
    "    b=c\n",
    "    c=a+b"
   ]
  },
  {
   "cell_type": "code",
   "execution_count": null,
   "id": "03a3c4b1",
   "metadata": {},
   "outputs": [],
   "source": [
    "#  Find  outputs\n",
    "while  True:\n",
    "\tprint('Hello')\n",
    "print('Bye') # Hello....infinity time"
   ]
  },
  {
   "cell_type": "code",
   "execution_count": null,
   "id": "b06a10a3",
   "metadata": {},
   "outputs": [],
   "source": [
    "#  Find  outputs\n",
    "while  False:\n",
    "\tprint('Hello')\n",
    "print('Bye') # Bye"
   ]
  },
  {
   "cell_type": "code",
   "execution_count": 24,
   "id": "309cea05",
   "metadata": {},
   "outputs": [
    {
     "name": "stdout",
     "output_type": "stream",
     "text": [
      "10\n",
      "20\n",
      "15\n",
      "18\n",
      "H\n",
      "y\n",
      "d\n",
      "0\n",
      "1\n",
      "2\n",
      "3\n",
      "4\n"
     ]
    }
   ],
   "source": [
    "# Find  outputs  (Home  work)\n",
    "for x in [10,20,15,18]:#How  to  print  each  element  of  list  [10 , 20 , 15 , 18]  with  for  loop\n",
    "    print(x)\n",
    "for x in 'Hyd':#How  to  print  each  character  of   string  'Hyd'  with  for  loop\n",
    "    print(x)\n",
    "for x in range(5):\n",
    "    print(x)     #How  to  print  each  element  of   range(5)  with  for  loop"
   ]
  },
  {
   "cell_type": "code",
   "execution_count": 23,
   "id": "5556b2ff",
   "metadata": {},
   "outputs": [
    {
     "name": "stdout",
     "output_type": "stream",
     "text": [
      "10\n",
      "30\n",
      "50\n",
      "\n",
      "20\n",
      "40\n",
      "60\n",
      "\n",
      "(10, 20)\n",
      "(30, 40)\n",
      "(50, 60)\n",
      "\n",
      "10\n",
      "30\n",
      "50\n"
     ]
    }
   ],
   "source": [
    "# Find  outputs  (Home  work)\n",
    "for  x  in  {10 : 20 , 30 : 40 , 50 : 60} . keys():\n",
    "\tprint(x)# 10 30 50 \n",
    "print()# empty line\n",
    "for  x  in  {10 : 20 , 30 : 40 , 50 : 60} . values():\n",
    "\tprint(x)# 20 40 60 \n",
    "print()# Empty line\n",
    "for  x  in  {10 : 20 , 30 : 40 , 50 : 60} . items():\n",
    "\tprint(x)# (10,20) (30,40) (50,60)\n",
    "print()# Empty line\n",
    "for  x  in  {10 : 20 , 30 : 40 , 50 : 60}:\n",
    "\tprint(x)# 10 30 50"
   ]
  },
  {
   "cell_type": "code",
   "execution_count": null,
   "id": "9272bfed",
   "metadata": {},
   "outputs": [
    {
     "name": "stdout",
     "output_type": "stream",
     "text": [
      "10...20\n",
      "30...40\n",
      "50...60\n"
     ]
    }
   ],
   "source": [
    "# Find outputs  (Home  work)\n",
    "a = {10 : 20 , 30 : 40 , 50 : 60}\n",
    "for  x , y  in   a . items():\n",
    "\tprint(x , y , sep = '...')# 10...20  30...40   50...60\n",
    "for  x ,  y  in   a:\n",
    "\tprint(x , y)# Error \n",
    "for  x , y  in  {10 : 20 , 30 : 40 , 50 : 60}:\n",
    "\tprint(x , y , sep = '...')# Error"
   ]
  },
  {
   "cell_type": "code",
   "execution_count": null,
   "id": "155a17cd",
   "metadata": {},
   "outputs": [],
   "source": [
    "# Identify  error  (Home  work)\n",
    "for  x  in   123:\n",
    "        print(x)# Error due to no iterate for non sequence"
   ]
  },
  {
   "cell_type": "code",
   "execution_count": null,
   "id": "1584f164",
   "metadata": {},
   "outputs": [],
   "source": [
    "# Find  outputs  (Home  work)\n",
    "for  x   in   ():\n",
    "        print(x)# Empty line\n",
    "for  x   in  []:\n",
    "        print(x)# Empty line\n",
    "for  x   in   {}:\n",
    "        print(x)# Empty line\n",
    "for  x   in   set():\n",
    "        print(x)# Empty line\n",
    "for  x   in   '':\n",
    "        print(x)# Empty line\n",
    "for  x  in  range(10 , 10):\n",
    "\tprint(x)# Empty \n",
    "for  x  in   range():\n",
    "\tprint(x)# Error\n",
    "for  x  in   (25):\n",
    "\tprint(x)# Error"
   ]
  },
  {
   "cell_type": "code",
   "execution_count": 28,
   "id": "a75c25ac",
   "metadata": {},
   "outputs": [
    {
     "name": "stdout",
     "output_type": "stream",
     "text": [
      "1 1\n",
      "1 2\n",
      "1 3\n",
      "1 4\n",
      "Hello\n",
      "2 1\n",
      "2 2\n",
      "2 3\n",
      "2 4\n",
      "Hello\n",
      "3 1\n",
      "3 2\n",
      "3 3\n",
      "3 4\n",
      "Hello\n",
      "Bye\n"
     ]
    }
   ],
   "source": [
    "#  Nested  Loop  demo  program\n",
    "for  i  in  range(1 , 4):\n",
    "\tfor  j  in  range(1 , 5):\n",
    "\t\t\tprint(i ,  j)  #\n",
    "\tprint('Hello')\n",
    "print('Bye')\n",
    "#outputs:\n",
    "#1 1\n",
    "#1 2\n",
    "#1 3\n",
    "#1 4\n",
    "#Hello\n",
    "#2 1\n",
    "#2 2\n",
    "#2 3\n",
    "#2 4\n",
    "#Hello\n",
    "#3 1\n",
    "#3 2\n",
    "#3 3\n",
    "#3 4\n",
    "#Hello\n",
    "#Bye"
   ]
  },
  {
   "cell_type": "code",
   "execution_count": 29,
   "id": "fd712111",
   "metadata": {},
   "outputs": [
    {
     "name": "stdout",
     "output_type": "stream",
     "text": [
      "25\n",
      "10.8\n",
      "Hyd\n",
      "True\n",
      "25\n",
      "10.8\n",
      "Hyd\n",
      "True\n"
     ]
    }
   ],
   "source": [
    "# How  to  print  each  element  and  the  corresponding  index\n",
    "a = [25 , 10.8 , 'Hyd' , True]\n",
    "for x in range(len(a)):\n",
    "    print(a[x])\n",
    " #How  to  print  each  element  and  the  corresponding  index  with  index  based  for  loop\n",
    "for x in a:\n",
    "    print(x)\n",
    "#How  to  print  each  element  and  the  corresponding  index  with  for  ...  each  loop (Do  not  use  2nd  variable)"
   ]
  },
  {
   "cell_type": "code",
   "execution_count": 30,
   "id": "916fd57f",
   "metadata": {},
   "outputs": [
    {
     "name": "stdout",
     "output_type": "stream",
     "text": [
      "3rd list: [40, 60, 50, 30]\n",
      "3rd list: [40, 60, 50, 30, 40, 60, 50, 30]\n"
     ]
    }
   ],
   "source": [
    "'''\n",
    "Write  a  program  to  add  two  lists  and  store  results  in  3rd  list\n",
    "\n",
    "1st  list  --->  [10 , 20 , 15 , 18]\n",
    "\n",
    "2nd  list  --->  [30 , 40 , 35 , 12 , 100 , 200 , 300]\n",
    "\n",
    "3rd  list ?  ---> [10 + 30 , 20 + 40 , 15 + 35 , 18 + 12]  =  [40 , 60 , 50 , 30]\n",
    "\n",
    "Hint:  Use  append()  method\n",
    "'''\n",
    "a = eval(input('Enter  1st  list  :  '))\n",
    "b = eval(input('Enter  2nd  list  :  '))\n",
    "c = []\n",
    "#How  to  add  lists  'a'  and  'b'  and  store  results  in  list  'c'  with  indexed  based   for  loop\n",
    "\n",
    "# Index-based loop\n",
    "for i in range(len(a)):\n",
    "    c.append(a[i] + b[i])\n",
    "\n",
    "print('3rd list:', c)\n",
    "# How  to  add  lists  'a'  and  'b'  and  store  results  in  list  'c'  with  for  each  loop (Do  not  use  2nd  variable)\n",
    "\n",
    "# for each loop\n",
    "index = 0\n",
    "for x in a:\n",
    "    c.append(x + b[index])\n",
    "    index += 1\n",
    "\n",
    "print('3rd list:', c)"
   ]
  },
  {
   "cell_type": "code",
   "execution_count": 31,
   "id": "2fb2fca3",
   "metadata": {},
   "outputs": [
    {
     "name": "stdout",
     "output_type": "stream",
     "text": [
      "Indexed for loop\n",
      "Indexed for loop\n",
      "Hyd\n",
      "True\n",
      "(3+4j)\n",
      "For-each loop\n",
      "Hyd\n",
      "True\n",
      "(3+4j)\n"
     ]
    }
   ],
   "source": [
    "#  How  to  print  list  elements  from  indexes  2  to  4  without  slice\n",
    "a = [25 , 10.8 , 'Hyd' , True , 3 + 4j , None , 'Sec']\n",
    "print('Indexed for loop')\n",
    "#How  to  print  elements  from  indexes  2  to  4  of  list  'a'  with  indexed  based  for  loop\n",
    "#How  to  print  elements  from  indexes  2  to  4  of  list  'a'  with  for  each  loop   without  using  2nd  variable  and  slice\n",
    "a = [25, 10.8, 'Hyd', True, 3 + 4j, None, 'Sec']\n",
    "print('Indexed for loop')\n",
    "\n",
    "for i in range(2, 5):\n",
    "    print(a[i])\n",
    "a = [25, 10.8, 'Hyd', True, 3 + 4j, None, 'Sec']\n",
    "print('For-each loop')\n",
    "\n",
    "i = 0\n",
    "for x in a:\n",
    "    if 2 <= i <= 4:\n",
    "        print(x)\n",
    "    i += 1"
   ]
  },
  {
   "cell_type": "code",
   "execution_count": 32,
   "id": "b4ca4e17",
   "metadata": {},
   "outputs": [
    {
     "name": "stdout",
     "output_type": "stream",
     "text": [
      "a :   [11, 21, 16, 19]\n",
      "b :   [10, 20, 15, 18]\n"
     ]
    }
   ],
   "source": [
    "#  Tricky  program\n",
    "#  Find  outputs  (Home  work)\n",
    "a = [10 , 20 , 15 , 18]\n",
    "for  i  in  range(len(a)):\n",
    "\ta[i] +=  1\n",
    "print('a :  ' , a)\t#a :   [11, 21, 16, 19]\n",
    "b = [10 , 20 , 15 , 18]\n",
    "for  x  in   b:\n",
    "\tx += 1\n",
    "print('b :  ' ,  b)\t#b :   [10, 20, 15, 18]"
   ]
  },
  {
   "cell_type": "markdown",
   "id": "04afb361",
   "metadata": {},
   "source": [
    "### 30/07/25"
   ]
  },
  {
   "cell_type": "code",
   "execution_count": 25,
   "id": "d3a71e65",
   "metadata": {},
   "outputs": [
    {
     "name": "stdout",
     "output_type": "stream",
     "text": [
      "      *\n",
      "     ***\n",
      "    *****\n",
      "   *******\n",
      "  *********\n",
      " ***********\n",
      "*************\n"
     ]
    }
   ],
   "source": [
    "# Full Pyramid Program\n",
    "\n",
    "n = int(input(\"Enter number of lines: \"))\n",
    "\n",
    "for i in range(1, n + 1):       # if user enter 5 - (1,6)\n",
    "    spaces = n - i        # spaces decrease each line\n",
    "    stars = 2 * i - 1      # stars increase as 1, 3, 5, 7, ...\n",
    "    \n",
    "    print(\" \" * spaces + \"*\" * stars)"
   ]
  }
 ],
 "metadata": {
  "kernelspec": {
   "display_name": "Python 3",
   "language": "python",
   "name": "python3"
  },
  "language_info": {
   "codemirror_mode": {
    "name": "ipython",
    "version": 3
   },
   "file_extension": ".py",
   "mimetype": "text/x-python",
   "name": "python",
   "nbconvert_exporter": "python",
   "pygments_lexer": "ipython3",
   "version": "3.12.10"
  }
 },
 "nbformat": 4,
 "nbformat_minor": 5
}

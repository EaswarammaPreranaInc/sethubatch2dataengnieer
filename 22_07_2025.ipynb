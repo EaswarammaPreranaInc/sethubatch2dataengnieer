{
 "cells": [
  {
   "cell_type": "code",
   "execution_count": 2,
   "id": "eb7c47f6",
   "metadata": {},
   "outputs": [
    {
     "name": "stdout",
     "output_type": "stream",
     "text": [
      "{10, 20, 30}\n",
      "{10: 'Hyd', 20: 'Vja', 30: 'Cyb'}\n"
     ]
    }
   ],
   "source": [
    "#  Find  outputs\n",
    "print({10 , 20}  |  {30 , 20})\t#{10 , 20 , 30}\n",
    "print({10 : 'Hyd' , 20 : 'Sec'} |  {30 : 'Cyb' , 20 : 'Vja'}) #{10:'Hyd' , 20 : 'Vja' , 30 : 'Cyb}\n",
    "#print(range(4) | range(5))\t#error unsupported operand type\n",
    "#print([10 , 20]  |  [30 , 20])\t#error unsupported operand typ"
   ]
  },
  {
   "cell_type": "code",
   "execution_count": 6,
   "id": "c00a30a2",
   "metadata": {},
   "outputs": [
    {
     "name": "stdout",
     "output_type": "stream",
     "text": [
      "25\n",
      "25\n",
      "True\n",
      "34\n"
     ]
    }
   ],
   "source": [
    "#  Assignment  operators  demo  program  (Home  work)\n",
    "a = 25  #Ref a pointed to object 25\n",
    "print(a)\t#25\n",
    "b =  a\t\t#Ref b pointed to ref a\n",
    "print(b)\t#25\n",
    "print(a  is  b)\t#True \n",
    "x = 4\t\t#Ref x pointed to object 4\n",
    "y = 5\t\t#Ref y pointed to object 5\n",
    "z = x + y * 6\t# y*6= 30 x+y=4+30=34\n",
    "print(z)\t#34\n",
    "#25 = a\t\t#error object cant point to ref\n",
    "#a + b = x + y\t#error object cant assess to object"
   ]
  },
  {
   "cell_type": "code",
   "execution_count": 8,
   "id": "fb0d14cf",
   "metadata": {},
   "outputs": [
    {
     "name": "stdout",
     "output_type": "stream",
     "text": [
      "140722776610344\n",
      "140722776610344\n",
      "140722776610344\n",
      "25 25 25\n"
     ]
    }
   ],
   "source": [
    "# Find outputs (Home work)\n",
    "a = b = c = 25\t#ref a is pointed to ref b is pointed to ref c is pointed to object 25\n",
    "print(id(a))\t#addresss of object 25\n",
    "print(id(b))\t#same address of object 25\n",
    "print(id(c))\t#same address of object 25\n",
    "print(a,b,c)#25 25 25\n"
   ]
  },
  {
   "cell_type": "code",
   "execution_count": 9,
   "id": "c9400484",
   "metadata": {},
   "outputs": [
    {
     "name": "stdout",
     "output_type": "stream",
     "text": [
      "25\n",
      "10.8\n",
      "Hyd\n"
     ]
    }
   ],
   "source": [
    "# Multiple  Assignment (Home work)\n",
    "x , y , z = 25 , 10.8 , 'Hyd'\t#ref x is ponited to object 25\n",
    "\t\t\t\t#ref y is pointed to object 10.8\n",
    "\t\t\t\t#ref z is pointed to object 'Hyd'\n",
    "print(x)\t\t\t#25\n",
    "print(y)\t\t\t#10.8\n",
    "print(z)\t\t\t#Hyd\n"
   ]
  },
  {
   "cell_type": "code",
   "execution_count": 11,
   "id": "c243e4b7",
   "metadata": {},
   "outputs": [
    {
     "name": "stdout",
     "output_type": "stream",
     "text": [
      "27\n"
     ]
    }
   ],
   "source": [
    "\n",
    "# Find outputs (Home work)\n",
    "a , b , c = 3 , 4 , 5\t#ref a is ponited to object 3\n",
    "\t\t\t#ref b is pointed to object 4\n",
    "\t\t\t#ref c is pointed to object 5\n",
    "a*=b+c\t\t#a=a*(b+c)=3*(4+5)=3*(9)=27\n",
    "print(a)\t\t#27\n"
   ]
  },
  {
   "cell_type": "code",
   "execution_count": 14,
   "id": "8381dcc4",
   "metadata": {},
   "outputs": [
    {
     "name": "stdout",
     "output_type": "stream",
     "text": [
      "9\n"
     ]
    }
   ],
   "source": [
    "#Find outputs (Home work)\n",
    "a = 20\t\t#ref a is ponited to object 20\n",
    "a %= 3+2*4\t#a=a%(3+2*4)=20%(3+8)=20%11=9\n",
    "print(a)\t#9"
   ]
  },
  {
   "cell_type": "code",
   "execution_count": 15,
   "id": "f83b8b0b",
   "metadata": {},
   "outputs": [
    {
     "name": "stdout",
     "output_type": "stream",
     "text": [
      "81\n"
     ]
    }
   ],
   "source": [
    "# Find outputs (Home work)\n",
    "a = 3\t\t#ref a is ponited to object 3\n",
    "a **= 4\t\t#a=a**(4)=3**(4)=81\n",
    "print(a)\t#81"
   ]
  },
  {
   "cell_type": "code",
   "execution_count": 17,
   "id": "f88e9182",
   "metadata": {},
   "outputs": [
    {
     "name": "stdout",
     "output_type": "stream",
     "text": [
      "True\n",
      "False\n",
      "True\n"
     ]
    }
   ],
   "source": [
    "# Identity operators demo program\n",
    "a = 25\t\t#ref a is ponited to object 25\n",
    "b = 25\t\t#ref b is ponited to same object 25\n",
    "print(a  is  b)\t#True\n",
    "print(a  is  not  b)#False\n",
    "print(a==b)\t#True"
   ]
  },
  {
   "cell_type": "code",
   "execution_count": 19,
   "id": "c1500586",
   "metadata": {},
   "outputs": [
    {
     "name": "stdout",
     "output_type": "stream",
     "text": [
      "False\n",
      "True\n",
      "True\n"
     ]
    }
   ],
   "source": [
    "# Find outputs (Home work)\n",
    "a = 25\t\t#ref a is ponited to object 25\n",
    "b = 25.0\t#ref b is ponited to  object 25.0\n",
    "print(a  is  b)\t#False\n",
    "print(a  is  not  b)\t#True\n",
    "print(a == b)\t#True"
   ]
  },
  {
   "cell_type": "code",
   "execution_count": 21,
   "id": "ae7b8ff7",
   "metadata": {},
   "outputs": [
    {
     "name": "stdout",
     "output_type": "stream",
     "text": [
      "True\n",
      "False\n",
      "True\n",
      "\n",
      "False\n",
      "True\n",
      "True\n",
      "\n",
      "False\n",
      "True\n",
      "True\n",
      "False\n"
     ]
    }
   ],
   "source": [
    "# Find outputs (Home work)\n",
    "a = 'Hyd'\n",
    "b = 'Hyd'\n",
    "print(a  is  b)\t#True\n",
    "print(a  is  not  b)\t#False\n",
    "print(a == b)#True\n",
    "print()\t#empty line\n",
    "x = [1 , 2 , 3 , 4]\n",
    "y = [1 , 2 , 3 , 4]\n",
    "print(x is y)\t#Fasle \n",
    "print(x  is  not  y)\t#True\n",
    "print(x == y)\t#True\n",
    "print()#empty line\n",
    "m = (1 , 2 , 3 , 4)\n",
    "n = (1 , 2 , 3 , 4)\n",
    "print(m  is  n)\t#True\n",
    "print(m  is  not  n)#Fasle\n",
    "print(m == n)#True\n",
    "print(x == m)#False\n"
   ]
  },
  {
   "cell_type": "code",
   "execution_count": 25,
   "id": "8b6f6bc8",
   "metadata": {},
   "outputs": [
    {
     "name": "stdout",
     "output_type": "stream",
     "text": [
      "True\n",
      "False\n",
      "True\n",
      "False\n",
      "True\n",
      "False\n",
      "True\n",
      "False\n",
      "True\n",
      "True\n",
      "True\n",
      "True\n",
      "False\n"
     ]
    }
   ],
   "source": [
    "\n",
    "# Membership operators demo program (Home work)\n",
    "list = [10 , 20 , 15 , 12 , 18]\n",
    "print(15 in list)#True\n",
    "print(19 in list)#False\n",
    "print(14 not in list)#True\n",
    "print(15 not in list)#False\n",
    "s = 'Hyd is green city'\n",
    "print( 'is' in s)#True\n",
    "print('was' in s)#False\n",
    "print('g' in s)#True\n",
    "print('z' in s)#False\n",
    "print(' ' in s)#True\n",
    "print('gre' in s)#True\n",
    "print('yd i' in s)#True\n",
    "print('' in s)#True\n",
    "\n",
    "print('' not in s)#False\n"
   ]
  },
  {
   "cell_type": "code",
   "execution_count": 3,
   "id": "d52f4447",
   "metadata": {},
   "outputs": [
    {
     "name": "stdout",
     "output_type": "stream",
     "text": [
      "False\n",
      "False\n"
     ]
    }
   ],
   "source": [
    "# Find outputs (Home work)\n",
    "a = [10,20,30]\n",
    "b = (10,20,30)\n",
    "print(a  is  b) \n",
    "print(a==b)"
   ]
  },
  {
   "cell_type": "code",
   "execution_count": 5,
   "id": "b012c7e5",
   "metadata": {},
   "outputs": [
    {
     "name": "stdout",
     "output_type": "stream",
     "text": [
      "False\n",
      "False\n",
      "True\n",
      "True\n"
     ]
    }
   ],
   "source": [
    "\n",
    "# Find outputs (Home work)\n",
    "x = [1 , 2 , 3 , 4]\n",
    "y = [1 , 2 , 4 , 3]\n",
    "print(x == y) \n",
    "a = (4 , 1 , 3 , 2)\n",
    "b = (4 , 2 , 3 , 1)\n",
    "print(a == b)\n",
    "p = {1 , 2 , 3 , 4}\n",
    "q = {4 , 1 , 3 , 2}\n",
    "print(p == q)\n",
    "m = range(5)\n",
    "n = range(5)\n",
    "print(m==n)\n"
   ]
  },
  {
   "cell_type": "code",
   "execution_count": null,
   "id": "081b828d",
   "metadata": {},
   "outputs": [],
   "source": []
  }
 ],
 "metadata": {
  "kernelspec": {
   "display_name": "Python 3 (ipykernel)",
   "language": "python",
   "name": "python3"
  },
  "language_info": {
   "codemirror_mode": {
    "name": "ipython",
    "version": 3
   },
   "file_extension": ".py",
   "mimetype": "text/x-python",
   "name": "python",
   "nbconvert_exporter": "python",
   "pygments_lexer": "ipython3",
   "version": "3.11.5"
  }
 },
 "nbformat": 4,
 "nbformat_minor": 5
}

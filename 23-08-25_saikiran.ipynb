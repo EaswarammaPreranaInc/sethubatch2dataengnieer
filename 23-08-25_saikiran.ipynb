{
 "cells": [
  {
   "cell_type": "code",
   "execution_count": null,
   "id": "00be4ac9-4090-4451-b220-1549b0681a23",
   "metadata": {},
   "outputs": [],
   "source": [
    "\n",
    "# Find  outputs  (Home  work)\n",
    "a = {25 , 10.8 , 'Hyd' , True}\n",
    "tpl = (10 , 20 , 30)\n",
    "print(a)\n",
    "print(id(a))\n",
    "a . add(tpl)\n",
    "a . add('Sec')\n",
    "print(a)\n",
    "print(id(a))\n",
    "print(len(a))\n",
    "#a . add([100 , 200 , 300])   #TypeError: unhashable type: 'set'\n",
    "#a . add(set())               #TypeError: unhashable type: 'list'\n",
    "a . add({ })                 #TypeError: unhashable type: 'dict'"
   ]
  },
  {
   "cell_type": "code",
   "execution_count": null,
   "id": "37e645db-9f59-48b6-af86-810adaf4a027",
   "metadata": {},
   "outputs": [],
   "source": [
    "# Find  outputs (Home  work)\n",
    "s = set()\n",
    "tpl = (10 , 20 , 15 , 18)\n",
    "s . add(tpl)\n",
    "print(s)       #{(10, 20, 15, 18)}\n",
    "print(len(s))   #1"
   ]
  },
  {
   "cell_type": "code",
   "execution_count": null,
   "id": "24726787-35df-4dcd-9f2a-1ad8db9f27fd",
   "metadata": {},
   "outputs": [],
   "source": [
    "# Find  outputs  (Home  work)\n",
    "a = [10 , 20 , 30]\n",
    "b = {30 , 40,50 }\n",
    "c = (50 , 60 , 70)\n",
    "s = set()\n",
    "s . update(a , b , c)\n",
    "print(s)              #{50, 20, 70, 40, 10, 60, 30}\n",
    "print(len(s))         #7\n",
    "s . add(a , b , c)     #TypeError: set.add() takes exactly one argument (3 given)"
   ]
  },
  {
   "cell_type": "code",
   "execution_count": null,
   "id": "6e0de175-b7c1-4990-963e-e10c894d4bbc",
   "metadata": {},
   "outputs": [],
   "source": [
    "a=[10,20,30]\n",
    "b={40,10,50}\n",
    "c=(60,40,10)\n",
    "s=set()\n",
    "s.update(a,b,c)\n",
    "print(s)\n",
    "print(len(s))"
   ]
  },
  {
   "cell_type": "code",
   "execution_count": null,
   "id": "4a91b3f6-a7ca-4e25-8c3e-777a52c2457e",
   "metadata": {},
   "outputs": [],
   "source": [
    "# Find  outputs  (Home  work)\n",
    "a = set()\n",
    "a . update('Rama Rao')\n",
    "print(a)               #{'R', 'm', 'o', 'a', ' '}\n",
    "print(len(a))          #5\n",
    "a . update(3 + 4j , 10.8 , True)  #TypeError: 'complex' object is not iterable"
   ]
  },
  {
   "cell_type": "code",
   "execution_count": null,
   "id": "5e262355-409f-41a5-9da9-91a16c8490d7",
   "metadata": {},
   "outputs": [],
   "source": [
    "# copy()  method  demo  program  (Home  work)\n",
    "a = {10 , 20 , 15 , 18}\n",
    "print(a)\n",
    "b = a . copy()\n",
    "print(b)\n",
    "print(a  is  b)\n",
    "print(a  ==  b)\n",
    "c = a\n",
    "print(a  is  c)\n",
    "\n",
    "\n",
    "'''\n",
    "copy()  method\n",
    "------------------\n",
    "1) What  does  copy()  method  do ?  --->  Returns  a  new  set  with  same  elements\n",
    "\n",
    "2) a = b\n",
    "    What  does  the  statement  do ?  --->  Reference  copy\n",
    "\t\t\t\t\t\t\t\t\t\t\t\t\t\t\t\t  i.e.  id  is  copied\n",
    "\n",
    "3) What  is  shallow  clone ?  --->  Reference  copy\n",
    "     What  is  deep  clone ?  ---> Object  copy\n",
    "'''"
   ]
  },
  {
   "cell_type": "code",
   "execution_count": null,
   "id": "311ddd3a-0549-4c94-8c30-5899fa6d17be",
   "metadata": {},
   "outputs": [],
   "source": [
    "# pop()  method  demo  program  (Home  work)\n",
    "a = {25 , 10.8 , 'Hyd' , True}\n",
    "print(a)\n",
    "print(a . pop())\n",
    "print(a . pop())\n",
    "print(a . pop())\n",
    "print(a . pop())\n",
    "print(a . pop())  #KeyError: 'pop from an empty set'\n",
    "print(a)\n",
    "b = {10 , 20 , 30 , 40}\n",
    "print(b . pop(2)) #Error pop has arguments \n",
    "\n",
    "\n",
    "\n",
    "'''\n",
    "pop()  method\n",
    "----------------\n",
    "1) What  does  pop(No-args)  method  do ?  --->  Removes  first  element  of  the  set  and  returns  the  deleted  element\n",
    "\n",
    "2) What  does  emptyset . pop()  do ?  --->  Throws  error\n",
    "\n",
    "3) Is  set . pop(index)  valid ?  --->  No  becoz  set  is  not  indexed\n",
    "\n",
    "4) How  many  arguments  can  pop()  method  take  ?  --->  Zero\n",
    "'''"
   ]
  },
  {
   "cell_type": "code",
   "execution_count": null,
   "id": "0c1ba9b5-ae84-444d-b3ec-d41afd91e38f",
   "metadata": {},
   "outputs": [],
   "source": [
    "# remove()  method  demo  program  (Home  work)\n",
    "a = {25 , 10.8 , 'Hyd' , True}\n",
    "print(a)\n",
    "a . remove('Hyd')\n",
    "print(a)\n",
    "a . remove('Sec') # Error no sec object in set\n",
    "\n",
    "\n",
    "'''\n",
    "remove()   method\n",
    "----------------------\n",
    "1) What  does  remove(x)  do ?  --->  Removes  'x'  from  the   set\n",
    "\n",
    "2) What  does  remove(Invalid-element)  do ?  --->  Throws  error\n",
    "\n",
    "3) What  is  the  argument  of  remove()  method ?  --->  Element  to  be  removed\n",
    "'''\n"
   ]
  },
  {
   "cell_type": "code",
   "execution_count": null,
   "id": "439d704e-1503-4564-a1b4-eacdd79e4c74",
   "metadata": {},
   "outputs": [],
   "source": [
    "# discard()  method  demo  program (Home  work)\n",
    "a = {25 , 10.8 , 'Hyd' , True}\n",
    "print(a)\n",
    "a . discard('Hyd')\n",
    "print(a)\n",
    "a . discard('Sec')  #noError\n",
    "print(a)\n",
    "a . remove('Sec')  #Error\n",
    "\n",
    "\n",
    "'''\n",
    "discard()  method\n",
    "---------------------\n",
    "1) What  does  discard(x)  do ?  --->  Removes  'x'  from  the  set\n",
    "\n",
    "2) What  does  discard(Invalid-element)  do ?  --->  Nothing\n",
    "\n",
    "3) In  other  words,  discard(invalid-element)  does  not  raise  error  nor  deletion\n",
    "'''"
   ]
  },
  {
   "cell_type": "code",
   "execution_count": null,
   "id": "2c231047-a2ec-4a30-b416-b52d7f5c6f5c",
   "metadata": {},
   "outputs": [],
   "source": [
    "# clear()  method  demo  program (Home  work)\n",
    "a = {10 , 20 , 15 , 18}\n",
    "print(a)         #{10, 18, 20, 15}\n",
    "a . clear()\n",
    "print(a)         #set()\n",
    "print(len(a))    #0\n",
    "\n",
    "\n",
    "'''\n",
    "clear()  method\n",
    "------------------\n",
    "What  does  clear()  method  do ?  --->  Removes  all  the  elements  of  set  and  set  becomes  empty\n",
    "'''\n"
   ]
  },
  {
   "cell_type": "code",
   "execution_count": null,
   "id": "4f136acb-5b9d-4a37-91ef-aba65d54f819",
   "metadata": {},
   "outputs": [],
   "source": [
    "# Find  outputs  (Home work)\n",
    "a = {10 , 20 , 30 , 40}\n",
    "b = [30 , 40 , 50 , 60]\n",
    "print(a . union(b))  #{40, 10, 50, 20, 60, 30}\n",
    "print(a | b)         #Error unsupported operand type(s) for |: 'set' and 'list'\n",
    "print(b . union(a))  #Error 'list' object has no attribute 'union'\n",
    "print(a + b)"
   ]
  },
  {
   "cell_type": "code",
   "execution_count": null,
   "id": "843aa9a4-6c55-4e90-9755-4c654fa77b33",
   "metadata": {},
   "outputs": [],
   "source": []
  }
 ],
 "metadata": {
  "kernelspec": {
   "display_name": "Python 3 (ipykernel)",
   "language": "python",
   "name": "python3"
  },
  "language_info": {
   "codemirror_mode": {
    "name": "ipython",
    "version": 3
   },
   "file_extension": ".py",
   "mimetype": "text/x-python",
   "name": "python",
   "nbconvert_exporter": "python",
   "pygments_lexer": "ipython3",
   "version": "3.12.7"
  }
 },
 "nbformat": 4,
 "nbformat_minor": 5
}

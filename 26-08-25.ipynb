{
 "cells": [
  {
   "cell_type": "code",
   "execution_count": 8,
   "id": "3622a0c2",
   "metadata": {},
   "outputs": [
    {
     "name": "stdout",
     "output_type": "stream",
     "text": [
      "Distinct vowels:  AO\n",
      "Distinct vowels:  {'A', 'O'}\n"
     ]
    }
   ],
   "source": [
    "'''\n",
    "Write  a  program  to  print  distinct  vowels  of  the  string  by  using  set\n",
    "\n",
    "1) Let  input  be  RamA  Rao\n",
    "    What  is  the  output  ?  --->  AO  (case  is  ignored)\n",
    "\n",
    "2) Both  input  and  output  are  strings\n",
    "\n",
    "3) Hint:  Same  as  prog19  with  minor  changes\n",
    "\n",
    "Enter  mixed  case  string :  RamA raO\n",
    "Distinct  vowels :   OA\n",
    "'''\n",
    "s=input('Enter mixed case string: ')\n",
    "s1=set(s.upper())\n",
    "s2=set()\n",
    "for i in s1:\n",
    "    if i in ('AEIOU'):\n",
    "        s2|={i}\n",
    "print('Distinct vowels: ',''.join(s2))\n",
    "print('Distinct vowels: ', s2)"
   ]
  }
 ],
 "metadata": {
  "kernelspec": {
   "display_name": "Python 3",
   "language": "python",
   "name": "python3"
  },
  "language_info": {
   "codemirror_mode": {
    "name": "ipython",
    "version": 3
   },
   "file_extension": ".py",
   "mimetype": "text/x-python",
   "name": "python",
   "nbconvert_exporter": "python",
   "pygments_lexer": "ipython3",
   "version": "3.12.10"
  }
 },
 "nbformat": 4,
 "nbformat_minor": 5
}

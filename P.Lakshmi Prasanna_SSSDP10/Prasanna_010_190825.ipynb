{
 "cells": [
  {
   "cell_type": "code",
   "execution_count": 1,
   "id": "80b1c35b",
   "metadata": {},
   "outputs": [
    {
     "name": "stdout",
     "output_type": "stream",
     "text": [
      "2\n",
      "5\n",
      "8\n",
      "15 is found 3 times\n"
     ]
    }
   ],
   "source": [
    "'''\n",
    "Modify  the  following  program  with  walrus  operator\n",
    "\n",
    "Hint:  Call  index()  method  only  once\n",
    "'''\n",
    "''' a = [10 , 20 , 15 , 12 , 14 , 15 , 18 , 19 , 15 , 12 , 25]\n",
    "try:\n",
    "\ti = a . index(15)\n",
    "\twhile  True:\n",
    "\t\tprint(i)\n",
    "\t\ti = a . index(15 , i + 1)\n",
    "except:\n",
    "\tprint(F'15  is  found  {a . count(15)}  times ')'''\n",
    "a = [10, 20, 15, 12, 14, 15, 18, 19, 15, 12, 25]\n",
    "\n",
    "count = 0\n",
    "start = -1\n",
    "\n",
    "while (idx := (a.index(15, start + 1) if 15 in a[start + 1:] else -1)) != -1:\n",
    "    print(idx)\n",
    "    count += 1\n",
    "    start = idx\n",
    "\n",
    "print(f\"15 is found {count} times\")\n",
    "\n",
    "\t\n"
   ]
  },
  {
   "cell_type": "code",
   "execution_count": 22,
   "id": "7d8deadf",
   "metadata": {},
   "outputs": [
    {
     "name": "stdout",
     "output_type": "stream",
     "text": [
      "True\n"
     ]
    }
   ],
   "source": [
    "'''\n",
    "Most   tricky  program\n",
    "Write  a  program  to  determine  first  list  is  a  sublist  of  2nd  list  or  not.\n",
    "Print  True  if  it  is  a  sublist  and  False  otherwise\n",
    "\n",
    "1) First  list :  [10 , 20 , 30]\n",
    "    Second  list :  [15 , 18 , 10 ,  12 ,  19 , 20 , 14 , 12 , 30 , 25 ,  16]\n",
    "    What  is  the  output ?  --->  True  becoz  elements  10 , 20 , 30  are  in  2nd  list  in  same  order\n",
    "\n",
    "2) First  list :  [10 , 20 , 20]\n",
    "    Second  list :  [15 , 18 , 10 ,  12 ,  19 , 20 , 14 , 12 , 30 , 25 ,  16]\n",
    "    What  is  the  output ?  ---> False  becoz   elements  10 , 20 , 30  are  not  in  2nd  list\n",
    "\n",
    "3) First  list :  [2 , 2 , 5]\n",
    "    Second  list :  [2 , 2 , 3 , 4 , 5]\n",
    "    What  is  the  output ?  --->  True  becoz   elements  2 , 2 , 5  are  in  [2 , 2 , 3 , 4 , 5]\n",
    "\n",
    "4) First  list :  [2 , 4 , 3]\n",
    "    Second  list :  [2 , 2 , 3 , 4 , 5]\n",
    "    What  is  the  output ?  --->  False  becoz   elements  2 , 4 , 3   are  not  in  [2 , 2 , 3 , 4 , 5]\n",
    "\n",
    "5) Hint:  Use  index()  method\n",
    "'''\n",
    "def is_sublist(l1, l2):\n",
    "    try:\n",
    "        pos = -1\n",
    "        for x in l1:\n",
    "            pos = l2.index(x, pos + 1)\n",
    "        return True\n",
    "    except ValueError:\n",
    "        return False\n",
    "l1 = eval(input(\"Enter the first list : \"))\n",
    "l2 = eval(input(\"Enter the second list : \"))\n",
    "\n",
    "print(is_sublist(l1, l2))\n",
    "\n",
    " \n"
   ]
  },
  {
   "cell_type": "code",
   "execution_count": null,
   "id": "08a3a112",
   "metadata": {},
   "outputs": [],
   "source": [
    "# copy()  method  demo program  (Home  work)\n",
    "a = [10 , 20 , 15 , 18]\n",
    "b = a . copy()\n",
    "print(b)#[10,20,15,18]\n",
    "print(a  is  b)# False\n",
    "print(a  ==  b)#True\n",
    "c = a[:]\n",
    "print(c)#[10,20,15,18]\n",
    "print(a  is  c)# False\n",
    "print(a  ==  c)#True\n",
    "d = a\n",
    "print(d)#[10,20,15,18]\n",
    "print(a  is  d)#True\n",
    "print(a  ==  d)#True\n"
   ]
  },
  {
   "cell_type": "code",
   "execution_count": 21,
   "id": "f6543925",
   "metadata": {},
   "outputs": [
    {
     "name": "stdout",
     "output_type": "stream",
     "text": [
      "\n",
      "Mode : 15\n"
     ]
    }
   ],
   "source": [
    "'''\n",
    "Tricky  program\n",
    "Write  a  program  to  determine  mode\n",
    "\n",
    "1) What  is  mode ?  ---> The  element  which  is  repeated  maximum  number  of  times  in  the  list\n",
    "\n",
    "2) Let  input  be  [12 , 20 , 18 , 15 , 10 ,  15 , 10 ,  15 ,  20 , 18 , 15 , 10 , 20 , 15 , 10]\n",
    "    What  is  set(list) ?  ---> {12 , 20 , 18 , 15 , 10}\n",
    "    How  many  times  is  first  element  12  repeated  in  the  list  ?  --->  1\n",
    "    How  many  times  is  2nd  element  20  repeated  in  the  list  ?  --->  3\n",
    "    How  many  times  is  3rd  element  18  repeated  in  the  list  ?  --->  2\n",
    "    How  many  times  is  4th  element  15  repeated  in  the  list  ?  --->  5\n",
    "    How  many  times  is  last  element  10  repeated  in  the  list  ?  --->  4\n",
    "    What  is  the  mode  ?  --->\t15  becoz  it  is  repeated  max  number  of  times  i.e.  5\n",
    "\n",
    "3) mode = 15\n",
    "    ctr = 5\n",
    "'''\n",
    "a = [12, 20, 18, 15, 10, 15, 10, 15, 20, 18, 15, 10, 20, 15, 10]\n",
    "s = set(a)\n",
    "\n",
    "mode = None\n",
    "ctr = 0\n",
    "\n",
    "for x in s:\n",
    "    freq = a.count(x)  \n",
    "    if freq > ctr:      \n",
    "        ctr = freq\n",
    "        mode = x\n",
    "\n",
    "print(f\"\\nMode : {mode}\")\n"
   ]
  },
  {
   "cell_type": "code",
   "execution_count": null,
   "id": "728d6366",
   "metadata": {},
   "outputs": [
    {
     "name": "stdout",
     "output_type": "stream",
     "text": [
      "Mode : 15\n"
     ]
    }
   ],
   "source": [
    "'''\n",
    "Tricky  program\n",
    "Write  a  program  to  determine  mode\n",
    "\n",
    "1) What  is  mode ?  ---> The  element  which  is  repeated  maximum  number  of  times  in  the  list\n",
    "\n",
    "2) Let  input  be  [12 , 20 , 18 , 15 , 10 ,  15 , 10 ,  15 ,  20 , 18 , 15 , 10 , 20 , 15 , 10]\n",
    "    What  is  set(list) ?  ---> {12 , 20 , 18 , 15 , 10}\n",
    "    How  many  times  is  first  element  12  repeated  in  the  list  ?  --->  1\n",
    "    How  many  times  is  2nd  element  20  repeated  in  the  list  ?  --->  3\n",
    "    How  many  times  is  3rd  element  18  repeated  in  the  list  ?  --->  2\n",
    "    How  many  times  is  4th  element  15  repeated  in  the  list  ?  --->  5\n",
    "    How  many  times  is  last  element  10  repeated  in  the  list  ?  --->  4\n",
    "    What  is  the  mode  ?  --->\t15  becoz  it  is  repeated  max  number  of  times  i.e.  5\n",
    "\n",
    "3) mode = 15\n",
    "    ctr = 5\n",
    "'''\n",
    "a = eval(input(\"Enter List : \"))\n",
    "\n",
    "mode = None\n",
    "ctr = 0\n",
    "\n",
    "for x in set(a):\n",
    "    if (c := a.count(x)) > ctr:   \n",
    "        ctr, mode = c, x\n",
    "\n",
    "print(\"Mode :\", mode)\n"
   ]
  },
  {
   "cell_type": "code",
   "execution_count": 9,
   "id": "f5e73666",
   "metadata": {},
   "outputs": [
    {
     "name": "stdout",
     "output_type": "stream",
     "text": [
      "[[10, 20, 30, 40], [50, 60, 70, 80], [90, 100, 110, 120]]\n",
      "3\n",
      "[10, 20, 30, 40]\n",
      "[50, 60, 70, 80]\n",
      "[90, 100, 110, 120]\n",
      "30\n",
      "80\n",
      "100\n"
     ]
    }
   ],
   "source": [
    "#  Nested  List  demo  program  (Home  work)\n",
    "a = [[10 , 20 , 30 ,  40]  ,  [50 , 60 ,  70 , 80]  ,  [90 , 100 , 110 , 120] ]\n",
    "print(a)#[[10 , 20 , 30 ,  40]  ,  [50 , 60 ,  70 , 80]  ,  [90 , 100 , 110 , 120] ]\n",
    "print(len(a))#3\n",
    "print(a[0])#How  to  print  1st  inner  list\n",
    "print(a[1])#How  to  print  2nd  inner  list\n",
    "print(a[2])#How  to  print  3rd  inner  list\n",
    "print(a[0][2])#How  to  print  30\n",
    "print(a[1][3])#How  to  print  80\n",
    "print(a[2][1])#How  to  print  100"
   ]
  },
  {
   "cell_type": "code",
   "execution_count": 10,
   "id": "803b9841",
   "metadata": {},
   "outputs": [
    {
     "name": "stdout",
     "output_type": "stream",
     "text": [
      "[10, 20]\n",
      "[30, 40, 50]\n",
      "[60, 70, 80, 90]\n",
      "2\n",
      "3\n",
      "4\n"
     ]
    }
   ],
   "source": [
    "#  Find  outputs  (Home  work)\n",
    "a=[ [10 , 20] , [30 , 40 , 50] , [60 , 70 , 80 , 90]]\n",
    "print(a[0])#How  to  print  1st   inner  list\n",
    "print(a[1])#How  to  print  2nd   inner  list\n",
    "print(a[2])#How  to  print  3rd   inner  list\n",
    "print(len(a[0]))#How  to  print  number  of  elements  in  1st  inner  list\n",
    "print(len(a[1]))#How  to  print  number  of  elements  in  2nd  inner  list\n",
    "print(len(a[2]))#How  to  print  number  of  elements  in  3rd  inner  list"
   ]
  },
  {
   "cell_type": "code",
   "execution_count": 11,
   "id": "424d0a36",
   "metadata": {},
   "outputs": [
    {
     "name": "stdout",
     "output_type": "stream",
     "text": [
      "Nested list  with  print function\n",
      "[[10, 20], [30, 40, 50], [60, 70, 80, 90]]\n",
      "Each  inner  list   of   outer  list  without  indexes\n",
      "[10, 20]\n",
      "[30, 40, 50]\n",
      "[60, 70, 80, 90]\n",
      "Elements  in  the  form   of  matrix   without  using  indexes\n",
      "10   20   \n",
      "30   40   50   \n",
      "60   70   80   90   \n",
      "Elements  in  the  form   of  matrix  using  indexes\n",
      "10   20   \n",
      "30   40   50   \n",
      "60   70   80   90   \n"
     ]
    }
   ],
   "source": [
    "#  How  to  print  nested  list  in  differnent  ways\n",
    "a = [[10 , 20] , [30 , 40 ,  50] , [60 , 70 , 80 , 90]]\n",
    "print('Nested list  with  print function')\n",
    "print(a)\n",
    "print('Each  inner  list   of   outer  list  without  indexes')\n",
    "for i in a:\n",
    "    print(i)#How  to  print  each  inner  list  of  list  'a'  without  using  indexes  (use  for  loop)\n",
    "print('Elements  in  the  form   of  matrix   without  using  indexes')\n",
    "for inner in a:     \n",
    "    for elem in inner:\n",
    "        print(elem, end=\"   \")\n",
    "    print()#How  to   print  elements  of  each  inner  list  without  using  indexes  in  matrix style  (use  nested  loop)\n",
    "print('Elements  in  the  form   of  matrix  using  indexes')\n",
    "for i in range(len(a)):             \n",
    "    for j in range(len(a[i])):     \n",
    "        print(a[i][j], end=\"   \")\n",
    "    print()#How  to   print  elements  of  each  inner  list  using  indexes  in  matrix style (use  nested  loop)\n",
    "\n"
   ]
  },
  {
   "cell_type": "code",
   "execution_count": null,
   "id": "fd193dca",
   "metadata": {},
   "outputs": [],
   "source": [
    "#  Find  outputs (Home  work)\n",
    "a = [[10 , 20] , [30 , 40] , [50 , 60] , [70 , 80]]\n",
    "for  x  in  a:\n",
    "    print(x)#[10,20] [30,40] [50,60] [70,80]\n",
    "print()# Empty\n",
    "for  x , y  in  a:\n",
    "\tprint(x , y , sep = '...')#10...20 30...40 50...60 70...80"
   ]
  },
  {
   "cell_type": "code",
   "execution_count": null,
   "id": "f879631e",
   "metadata": {},
   "outputs": [],
   "source": [
    "#  Find  outputs (Home  work)\n",
    "a = [[10 , 20 , 30] , [40 , 50 , 60] , [70 , 80 , 90]]\n",
    "for  x  in  a:\n",
    "    print(x)# [10,20,30] [40,50,60] [70,80,90]\n",
    "print()#Empty \n",
    "for  x , y ,  z  in   a:\n",
    "\tprint(x , y , z , sep = '...')#10...20...30  40...50...60  70...80...90"
   ]
  },
  {
   "cell_type": "code",
   "execution_count": null,
   "id": "57aa9422",
   "metadata": {},
   "outputs": [],
   "source": [
    "#  Find  outputs (Home  work)\n",
    "a = [[10 , 20] , [30 , 40 , 50] , [60 , 70 , 80 , 90]]\n",
    "for  x  in  a:\n",
    "\tprint(x)# [10,20] [30,40,50] [60,70,80,90]\n",
    "for  x , y  in  a:\n",
    "\tprint(x , y ,\tsep = '...')#10...20 from next iteration unpack not possible due to too many values\n",
    "\t                            "
   ]
  },
  {
   "cell_type": "code",
   "execution_count": 16,
   "id": "9e6d469e",
   "metadata": {},
   "outputs": [
    {
     "name": "stdout",
     "output_type": "stream",
     "text": [
      "[]\n",
      "[]\n"
     ]
    }
   ],
   "source": [
    "#  Find  outputs  (Home  work)\n",
    "a = [[]]\n",
    "print(a[0])#How  to  print  inner  list\n",
    "for i in a:\n",
    "    print(i)#How  to  print  inner  list  in  another  way"
   ]
  },
  {
   "cell_type": "code",
   "execution_count": null,
   "id": "286b7e81",
   "metadata": {},
   "outputs": [],
   "source": [
    "#  Find  outputs  (Home  work)\n",
    "a = [[10 , 'Rama' , 1000.0] , [20 , 'Sita' , 2000.0] , [15 , 'Rajesh' , 3500.0] , [18 , 'Kiran' , 2800.0] , [5 , 'Amar'  ,5000.0] ]\n",
    "print(sorted(a))#[[5, 'Amar', 5000.0], [10, 'Rama', 1000.0], [15, 'Rajesh', 3500.0], [18, 'Kiran', 2800.0], [20, 'Sita', 2000.0]]\n",
    "print(sorted(a , reverse = True))#[[20, 'Sita', 2000.0], [18, 'Kiran', 2800.0], [15, 'Rajesh', 3500.0], [10, 'Rama', 1000.0], [5, 'Amar', 5000.0]]\n",
    "print(a)#[[10, 'Rama', 1000.0], [20, 'Sita', 2000.0], [15, 'Rajesh', 3500.0], [18, 'Kiran', 2800.0], [5, 'Amar', 5000.0]]"
   ]
  }
 ],
 "metadata": {
  "kernelspec": {
   "display_name": "Python 3",
   "language": "python",
   "name": "python3"
  },
  "language_info": {
   "codemirror_mode": {
    "name": "ipython",
    "version": 3
   },
   "file_extension": ".py",
   "mimetype": "text/x-python",
   "name": "python",
   "nbconvert_exporter": "python",
   "pygments_lexer": "ipython3",
   "version": "3.13.2"
  }
 },
 "nbformat": 4,
 "nbformat_minor": 5
}

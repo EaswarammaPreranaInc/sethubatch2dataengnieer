{
 "cells": [
  {
   "cell_type": "code",
   "execution_count": 2,
   "id": "f5da82e3",
   "metadata": {},
   "outputs": [
    {
     "name": "stdout",
     "output_type": "stream",
     "text": [
      "Distinct vowels : AEIO\n"
     ]
    }
   ],
   "source": [
    "'''\n",
    "Write  a  program  to  print  distinct  vowels  of  the  string  by  using  set\n",
    "\n",
    "1) Let  input  be  RamA  Rao\n",
    "    What  is  the  output  ?  --->  AO  (case  is  ignored)\n",
    "\n",
    "2) Both  input  and  output  are  strings\n",
    "\n",
    "3) Hint:  Same  as  prog19  with  minor  changes\n",
    "Enter  mixed  case  string :  RamA raO\n",
    "Distinct  vowels :   OA\n",
    "'''\n",
    "a=input(\"Enter mixed case string:\")\n",
    "s = a.upper()\n",
    "b = set(\"AEIOU\")\n",
    "res = set(ch for ch in s if ch in b)\n",
    "output = \"\".join(sorted(res))\n",
    "print(\"Distinct vowels :\", output)\n"
   ]
  }
 ],
 "metadata": {
  "kernelspec": {
   "display_name": "Python 3",
   "language": "python",
   "name": "python3"
  },
  "language_info": {
   "codemirror_mode": {
    "name": "ipython",
    "version": 3
   },
   "file_extension": ".py",
   "mimetype": "text/x-python",
   "name": "python",
   "nbconvert_exporter": "python",
   "pygments_lexer": "ipython3",
   "version": "3.13.2"
  }
 },
 "nbformat": 4,
 "nbformat_minor": 5
}

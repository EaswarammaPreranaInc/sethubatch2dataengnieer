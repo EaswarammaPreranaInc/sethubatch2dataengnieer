{
 "cells": [
  {
   "cell_type": "code",
   "execution_count": null,
   "id": "6130c791",
   "metadata": {},
   "outputs": [],
   "source": [
    "#  len()  function demo   program  (Home  work)\n",
    "a = [ 25, 10.8, 'Hyd', True]\n",
    "print(len(a))#4\n",
    "b = []\n",
    "print(len(b))#0\n",
    "c = [[10 , 20] , 30 , 40]\n",
    "print(len(c))#3"
   ]
  },
  {
   "cell_type": "code",
   "execution_count": null,
   "id": "32af3b4d",
   "metadata": {},
   "outputs": [],
   "source": [
    "#  Find  outputs\n",
    "a = [[10 , 20 , 15 , 18]]\n",
    "#print(sum(a))#Error\n",
    "print(sum(a[0]))#How  to  determine  sum  of  inner  list  elements)\n",
    "sum=0\n",
    "for x in a[0]:\n",
    "    sum+=x\n",
    "print(sum)#print(How  to  determine  sum  of  inner  list  elements  in  another  way)"
   ]
  },
  {
   "cell_type": "code",
   "execution_count": null,
   "id": "b329b0bf",
   "metadata": {},
   "outputs": [],
   "source": [
    "# sum()  function  demo  program  (Home  work)\n",
    "a = [25 , 10.8 , True]\n",
    "print(sum(a))#36.8\n",
    "b= [3 + 4j , 5 + 6j]\n",
    "print(sum(b))#8+10j\n",
    "c = [25 , 10.8 , True , 3 + 4j , False]\n",
    "print(sum(c))#39.8+4j\n",
    "d = [10 , 20 , 15 , 18]\n",
    "print(sum(d))#63\n",
    "e = [25 , 10.8 , 'Hyd' , True]\n",
    "print(sum(e))#Error bcz str cannot be added"
   ]
  },
  {
   "cell_type": "code",
   "execution_count": null,
   "id": "213d1f45",
   "metadata": {},
   "outputs": [],
   "source": [
    "# max()  and  min()  functions  demo  program  (Home  work)\n",
    "a = [10 , 20 , 15 , 18 , 30, 5 , 12]\n",
    "print(max(a))#30\n",
    "print(min(a))#5\n",
    "b = ['Rama' , 'Sita' , 'Rajesh' , 'Kiran' , 'Amar' , 'Vamsi' , 'Manohar']\n",
    "print(max(b))#Vamsi\n",
    "print(min(b))#Amar\n",
    "c = [25 , 10.8 ,  3 + 4j , True]\n",
    "print(max(c))#Error cannot comapre\n",
    "d = [25 , '35']\n",
    "print(max(d))#Cannot commapre\n",
    "print(max([]))#Error bcz empty cannot compared\n",
    "print(min([]))#Error bcz empty cannot compared"
   ]
  },
  {
   "cell_type": "code",
   "execution_count": null,
   "id": "a936d991",
   "metadata": {},
   "outputs": [],
   "source": [
    "# list()  function  demo  program\n",
    "a = (10 , 20 , 15, 18)\n",
    "b = list(a)\n",
    "print(b)#[10,20,15,18]\n",
    "print(type(b))#<class list>\n",
    "print(a  is  b)#False\n",
    "print(a == b)#False"
   ]
  },
  {
   "cell_type": "code",
   "execution_count": null,
   "id": "b98d4a5f",
   "metadata": {},
   "outputs": [],
   "source": [
    "#  Find  outputs (Home  work)\n",
    "a = range(4 , 10 , 2)#[4,6,8]\n",
    "b = list(a)\n",
    "print(b)#[4,6,8]\n",
    "print(type(b))#<class list>\n",
    "a = list('Vamsi')\n",
    "print(a)#['v','a','m','s','i']\n",
    "a = list()\n",
    "print(a)#[]\n",
    "print(list(25))#Error agument is not sequence\n",
    "print(list(10.8))#Error agument is not sequence\n",
    "print(list(True))#Error agument is not sequence\n",
    "print(list(None))#Error agument is not sequence"
   ]
  },
  {
   "cell_type": "code",
   "execution_count": null,
   "id": "efbf360a",
   "metadata": {},
   "outputs": [],
   "source": [
    "# Find  outputs (Home  work)\n",
    "a = ((10 , 20) , (30 , 40 , 50) , (60 , 70 , 80 , 90))\n",
    "print(list(a))#[(10 , 20) , (30 , 40 , 50) , (60 , 70 , 80 , 90)]\n",
    "b = { (10 , 20) , (30 , 40 , 50) , (60 , 70 , 80 , 90)}\n",
    "print(list(b))#[(10 , 20) , (30 , 40 , 50) , (60 , 70 , 80 , 90)]\n",
    "c = ([10 , 20] , (30 , 40) , {50 , 60})\n",
    "print(list(c))#[[10 , 20] , (30 , 40) , {50 , 60}]"
   ]
  },
  {
   "cell_type": "code",
   "execution_count": null,
   "id": "41483700",
   "metadata": {},
   "outputs": [],
   "source": [
    "# sorted()  function   demo  program\n",
    "a = [10 , 20 , 15 , 5 , 12]\n",
    "b = sorted(a)#[5,10,12,15,20]\n",
    "print(b)#[5,10,12,15,20]\n",
    "print(type(b))#<class list>\n",
    "c = sorted(a , reverse = True)#[20,15,12,10,5]\n",
    "print(c)#[20,15,12,10,5]\n",
    "print(a)#[10 , 20 , 15 , 5 , 12]"
   ]
  },
  {
   "cell_type": "code",
   "execution_count": null,
   "id": "290f7ffa",
   "metadata": {},
   "outputs": [],
   "source": [
    "# Find  outputs  (Home  work)\n",
    "a = ['Rama',  'Rajesh',  'Amar',  'Sita',  'Vamsi'  ,  'Kiran'  , 'Rama  Rao']\n",
    "b = sorted(a)#['Amar','Kiran','Rajesh','Rama','Rama  Rao','Sita','Vamsi']\n",
    "print(b)#['Amar','Kiran','Rajesh','Rama','Rama  Rao','Sita','Vamsi']\n",
    "c = sorted(a , reverse = True)\n",
    "print(c)#['Vamsi','Sita', 'Rama  Rao', 'Rama', 'Rajesh', 'Kiran', 'Amar']\n",
    "print(a)#['Rama',  'Rajesh',  'Amar',  'Sita',  'Vamsi'  ,  'Kiran'  , 'Rama  Rao']"
   ]
  },
  {
   "cell_type": "code",
   "execution_count": null,
   "id": "b9e895d7",
   "metadata": {},
   "outputs": [],
   "source": [
    "# all()  function demo  program  (Home  work)\n",
    "a = [12 > 10 , 5 < 20 , 30 == 30]\n",
    "print(all(a))#True\n",
    "b = [9 >= 6 , 12 <= 9 , 6 == 6]\n",
    "print(all(b))#False\n",
    "c = [25 , 10.8 , '' , True , 3+4j , 'Hyd']\n",
    "print(all(c))#False\n",
    "d = [10 , 0 , 20]\n",
    "print(all(d))#False\n",
    "e = []\n",
    "print(all(e))#False"
   ]
  },
  {
   "cell_type": "code",
   "execution_count": null,
   "id": "e6a7b926",
   "metadata": {},
   "outputs": [],
   "source": [
    "# any()  function demo program  (Home  work)\n",
    "a  = [12 > 18 , 5 < 20 , 35 == 30]\n",
    "print(any(a))#True\n",
    "b = [12 > 18 , 25 < 20 , 35 == 30]\n",
    "print(any(b))#False\n",
    "c = [0 , 0.0 , '' , 25 , 0 + 0j , False]\n",
    "print(any(c))#True\n",
    "d = [0 , 0.0 , '' , 0 + 0j , False]\n",
    "print(any(d))#False\n",
    "e = []\n",
    "print(any(e))#False"
   ]
  },
  {
   "cell_type": "code",
   "execution_count": null,
   "id": "e543baf0",
   "metadata": {},
   "outputs": [],
   "source": [
    "# del  operator  demo  program (Home  work)\n",
    "a = [10 , 20 , 15 , 18]\n",
    "print(a)#[10 , 20 , 15 , 18]\n",
    "del    a[2]\n",
    "print(a)#[10,20,18]\n",
    "#del  a[3]#Error bcz we dont have a[3]\n",
    "del  a#delete whole a\n",
    "print(a)#Error as a is already deleted"
   ]
  },
  {
   "cell_type": "code",
   "execution_count": null,
   "id": "22d7c641",
   "metadata": {},
   "outputs": [],
   "source": [
    "#  append()  method  demo  program (Home  work)\n",
    "list = [10 , 20 , 15 , 18]\n",
    "print(list)#[10 , 20 , 15 , 18]\n",
    "list . append(19)\n",
    "print(list)#[10 , 20 , 15 , 18,19]"
   ]
  },
  {
   "cell_type": "code",
   "execution_count": null,
   "id": "4aef0085",
   "metadata": {},
   "outputs": [],
   "source": [
    "#  Find  outputs (Home  work)\n",
    "list = []\n",
    "print(list)#[]\n",
    "list . append(25)#[25]\n",
    "list . append(10.8)#[25,10.8]\n",
    "list . append('Hyd')#[25,10.8,'Hyd']\n",
    "list . append(True)#[25,10.8,'Hyd',True]\n",
    "print(list)#[25,10.8,'Hyd',True]"
   ]
  },
  {
   "cell_type": "code",
   "execution_count": null,
   "id": "4bea5050",
   "metadata": {},
   "outputs": [],
   "source": [
    "# Find  outputs  (Home  work)\n",
    "list = []\n",
    "for  x  in   range(0 , 50 , 10):# 0,10,20,30,40\n",
    "    list . append(x)\n",
    "print(list)#[0,10,20,30,40]"
   ]
  },
  {
   "cell_type": "code",
   "execution_count": null,
   "id": "5974ae94",
   "metadata": {},
   "outputs": [],
   "source": [
    "#  Find  outputs  (Home  work)\n",
    "a = [10 , 20 , 30]\n",
    "a . append('Hyd')\n",
    "print(a)#[10 , 20 , 30 , 'H','y','d']\n",
    "print(len(a))#4\n",
    "#print(a[4])#How  to  print  4th  element  of  list  'a' #Error bcz not 4th element\n",
    "#print(a[5])#How  to  print  'H')#Error bcz not 5th element\n",
    "#print(How  to  print  'y')##Error bcz not 6th element\n",
    "#print(How  to  print  'd')#Error bcz not 7th element"
   ]
  },
  {
   "cell_type": "code",
   "execution_count": null,
   "id": "c515fd2b",
   "metadata": {},
   "outputs": [],
   "source": [
    "# remove()  method  demo  program  (Home  work)\n",
    "try:\n",
    "    list = [10 , 20 , 15 , 18 , 15 , 12 , 15 , 19]\n",
    "    list . remove(15)\n",
    "    print(list)#[10 , 20 ,  18 , 15 , 12 , 15 , 19]\n",
    "    list . remove(25)#25  is   not  in  the  list\n",
    "except:\n",
    "    print('25  is   not  in  the  list')"
   ]
  },
  {
   "cell_type": "code",
   "execution_count": null,
   "id": "1ce2dee4",
   "metadata": {},
   "outputs": [],
   "source": [
    "'''\n",
    "Write  a  program  to  delete  'all'  occurences  of  'x'  from  the  list\n",
    "\n",
    "Let  1st  input  be   [10 , 20 , 15 , 18 , 19 , 15 , 17 , 20 , 15 , 14]  and\n",
    "2nd  input  be  15\n",
    "What  is  the  output ?  ---> [10 , 20 ,  18 , 19 , 17 , 20 , 14]\n",
    "'''\n",
    "\n",
    "l=eval(input(\"Enter the list : \"))\n",
    "new=[]\n",
    "for x in l:\n",
    "    if x!=15:\n",
    "        new.append(x)\n",
    "print(new)\n",
    "\n",
    "\n",
    "\n",
    "l=eval(input(\"Enter List  :\"))\n",
    "d=int(input(\"Enter  element  to  be  deleted : \"))\n",
    "while True:\n",
    "    try:\n",
    "        l.remove(d)\n",
    "    except ValueError: \n",
    "        break\n",
    "\n",
    "print(F'List  without   15 : {l}')\n",
    "\n"
   ]
  },
  {
   "cell_type": "code",
   "execution_count": null,
   "id": "c3f9863b",
   "metadata": {},
   "outputs": [],
   "source": [
    "# clear() method  demo program  (Home  work)\n",
    "list = [10 , 20 , 15 , 18]\n",
    "print(list)# [10 , 20 , 15 , 18]\n",
    "list . clear()\n",
    "print(list)#[]"
   ]
  },
  {
   "cell_type": "code",
   "execution_count": null,
   "id": "9044caf0",
   "metadata": {},
   "outputs": [],
   "source": [
    "# index()  method  demo  program  (Home  work)\n",
    "a = [10 , 20 , 15 , 12 , 14 , 15 , 18 , 19 , 15 , 12 , 25]\n",
    "#     0   1     2    3    4   5    6    7     8    9    10\n",
    "try:\n",
    "    i = a . index(15)\n",
    "    while  True:\n",
    "        print(i)#2,5,8\n",
    "        i = a . index(15 , i + 1)\n",
    "except:\n",
    "    print(F'15  is  found  {a . count(15)}  times ')# 15 is found 3 times"
   ]
  },
  {
   "cell_type": "code",
   "execution_count": null,
   "id": "cc094d1b",
   "metadata": {},
   "outputs": [],
   "source": [
    "'''\n",
    "Tricky  program\n",
    "Write  a  program  to  remove  all  duplicate  elements  of  the  list  (Not  even  single  occurance)\n",
    "Let  input  be  [10 , 20 , 15 , 10 , 14 , 10 , 18 , 20 , 19]\n",
    "What  is  the  output ?  ---> [15 , 14 , 18 , 19]\n",
    "\n",
    "Hint:  Use  count()  and  append()  methods\n",
    "'''\n",
    "l=eval(input(\"Enter the list :\"))\n",
    "New=[]\n",
    "for i in l:\n",
    "    if l.count(i)==1:\n",
    "        New.append(i)\n",
    "    else:\n",
    "        pass\n",
    "print(New)"
   ]
  }
 ],
 "metadata": {
  "language_info": {
   "name": "python"
  }
 },
 "nbformat": 4,
 "nbformat_minor": 5
}

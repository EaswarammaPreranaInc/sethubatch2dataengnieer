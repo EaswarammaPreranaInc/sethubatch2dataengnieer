{
 "cells": [
  {
   "cell_type": "code",
   "execution_count": null,
   "id": "94f1109c",
   "metadata": {},
   "outputs": [],
   "source": [
    "#  intersection()   method  demo  program (Home  work)\n",
    "a = {10 , 20 , 30 , 40}\n",
    "b = {30 , 40 , 50 , 60}\n",
    "c = a . intersection(b)\n",
    "print(c)#{30,40}\n",
    "print(type(c))#class set\n",
    "d = a & b\n",
    "print(d)#{30,40}\n",
    "print(type(d))#class set\n",
    "print(c  is  d)#False\n",
    "print(c  ==  d)#True"
   ]
  },
  {
   "cell_type": "code",
   "execution_count": null,
   "id": "85fe470e",
   "metadata": {},
   "outputs": [],
   "source": [
    "# difference()   method  demo  program  (Home  work)\n",
    "a = {10 , 20 , 30 , 40}\n",
    "b = {30 , 40 , 50 , 60}\n",
    "c = a . difference(b)\n",
    "print(c)#{10,20}\n",
    "print(type(c))#class set\n",
    "d = a - b\n",
    "print(d)#{10,20}\n",
    "print(type(d))#class set\n",
    "print(c  is  d)#False\n",
    "print(c  ==  d)#True"
   ]
  },
  {
   "cell_type": "code",
   "execution_count": null,
   "id": "549d56b4",
   "metadata": {},
   "outputs": [],
   "source": [
    "# symmetric_difference()   method  demo  program  (Home  work)\n",
    "a = {10 , 20 , 30 , 40}\n",
    "b = {30 , 40 , 50 , 60}\n",
    "c = a . symmetric_difference(b)\n",
    "print(c)#{10,50,20,60}\n",
    "print(type(c))#class set\n",
    "d = a ^ b\n",
    "print(d)#{10,50,20,60}\n",
    "print(type(d))#class set\n",
    "print(c   is   d)#False\n",
    "print(c  ==   d)#True"
   ]
  },
  {
   "cell_type": "code",
   "execution_count": null,
   "id": "05b7d6a6",
   "metadata": {},
   "outputs": [],
   "source": [
    "# Find  outputs  (Home  work)\n",
    "a = {x * x  for   x   in   range(10)}\n",
    "print(a)#{0,1,4,9,16,25,36,49,81}\n",
    "print(type(a))#class set"
   ]
  },
  {
   "cell_type": "code",
   "execution_count": 8,
   "id": "6f3768da",
   "metadata": {},
   "outputs": [
    {
     "name": "stdout",
     "output_type": "stream",
     "text": [
      "am Ro\n"
     ]
    }
   ],
   "source": [
    "'''\n",
    "(Home  work)\n",
    "Write  a  program  to  remove  duplicate  characters  of  the  string  using  set\n",
    "\n",
    "1) Let  input  be   Rama  Rao\n",
    "    What  is  the  output  ? --->  Ram<space>o\n",
    "\n",
    "2) Both  input  and  output  are  strings\n",
    "\n",
    "3) How  to  convert  string  to  set  ?  --->  set(string)\n",
    "    How  to  convert  set  to  string ?  --->  '' . join(set)\n",
    "\n",
    "4) What  is  the  result  of  str({'H' , 'y' , '(d'})  ? --->  \"{'H' , 'y' , 'd'}\"  but  not  'Hyd'\n",
    "'''\n",
    "a=input(\"Enter a string:\")\n",
    "b=set(a)\n",
    "print(''.join(b))"
   ]
  },
  {
   "cell_type": "code",
   "execution_count": 11,
   "id": "136912ae",
   "metadata": {},
   "outputs": [
    {
     "name": "stdout",
     "output_type": "stream",
     "text": [
      "[False, 1, None, 10.8, 'Hyd', 25, 'Sec']\n"
     ]
    }
   ],
   "source": [
    "'''\n",
    "Write  a  program  to  remove  duplicate  elements  of   list  using  set\n",
    "\n",
    "1) Let  input  be  [False , 25 , 10.8 , 1  , 25 , 0 , 'Hyd' ,  10.8 , 1.0 , None , 'Sec' , 'Hyd' , True  ]\n",
    "    What  is  the  output ?  ---> [False , 25 , 10.8 , 1 , 'Hyd' , None , 'Sec']\n",
    "\n",
    "2) Both  input  and  output  are  lists\n",
    "'''\n",
    "a=eval(input(\"Enter list with duplicates:\"))\n",
    "res=list(set(a))\n",
    "print(res)"
   ]
  },
  {
   "cell_type": "code",
   "execution_count": 17,
   "id": "e3f7fcb9",
   "metadata": {},
   "outputs": [
    {
     "name": "stdout",
     "output_type": "stream",
     "text": [
      "[20, 30, 40]\n"
     ]
    }
   ],
   "source": [
    "'''\n",
    "Write  a  program  to   obtain  common  elements  between  two  lists  using  sets\n",
    "\n",
    "1) Let  1st  list  be  [10 , 20 , 30 , 40 , 50 , 60]  and  2nd  list  be  [30 , 40 , 70 , 80 , 20]\n",
    "    What  is  the  output ?  --->  [20 , 30 , 40]\n",
    "\n",
    "2) Both  input  and  output  are  lists\n",
    "'''\n",
    "a=eval(input(\"Enter 1st list:\"))\n",
    "b=eval(input(\"Enter 2nd list:\"))\n",
    "c=set(a)&set(b)\n",
    "res=sorted(list(c))\n",
    "print(res)"
   ]
  },
  {
   "cell_type": "code",
   "execution_count": 18,
   "id": "d8b7d16f",
   "metadata": {},
   "outputs": [
    {
     "name": "stdout",
     "output_type": "stream",
     "text": [
      "25\n",
      "Rama  Rao\n",
      "1000.65\n"
     ]
    }
   ],
   "source": [
    "#  How  to  access  values  of  dictionary (Home  work)\n",
    "a  =  {'Empno'  :  25 ,  'Ename'  :  'Rama  Rao'  ,  'Sal'  :  1000.65  }\n",
    "print(a['Empno']) #How  to  print  value  25  in  dict  'a'\n",
    "print(a['Ename'])#How  to  print  'Rama Rao'  in  dict  'a'\n",
    "print(a['Sal'])#How  to  print  value  1000.65   in  dict  'a'"
   ]
  },
  {
   "cell_type": "code",
   "execution_count": null,
   "id": "9d57ee12",
   "metadata": {},
   "outputs": [],
   "source": [
    "# How  to  modify  values  of  dictionary  (Home  work)\n",
    "a  =  {'Empno'  :  25,  'Ename'  :  'Rama  Rao'  ,  'Sal'  :  1000.65  }\n",
    "print(a)#{'Empno'  :  25,  'Ename'  :  'Rama  Rao'  ,  'Sal'  :  1000.65  }\n",
    "print(id(a))#address of dict a\n",
    "a['Sal'] = 2000#How  to  modify  1000.65  to  2000\n",
    "a['Ename'] = 'Sita'#How  to  modify  'Rama  Rao'  to  'Sita'\n",
    "a['Empno'] = 35#How  to  modify  25   to  35\n",
    "print(a)#{'Empno'  :  35,  'Ename'  :  'Sita'  ,  'Sal'  :2000 }\n",
    "print(id(a))#address of same dict a"
   ]
  },
  {
   "cell_type": "code",
   "execution_count": null,
   "id": "9fc00d83",
   "metadata": {},
   "outputs": [],
   "source": [
    "#  How  to  append  key : value  pairs  to dictionary  (Home  work)\n",
    "a  =  {'Empno'  :  25,  'Ename'  :  'Rama  Rao'  ,  'Sal'  :  1000.65  }\n",
    "print(a)#{'Empno'  :  25,  'Ename'  :  'Rama  Rao'  ,  'Sal'  :  1000.65  }\n",
    "a['Gender']='M'#How  to  append  'Gender' : 'M'  to  dictionary  'a'\n",
    "a['Married']=True#How  to  append  'Married' :  True  to  dictionary  'a'\n",
    "print(a)#{'Empno'  :  25,  'Ename'  :  'Rama  Rao'  ,  'Sal'  :  1000.65,'Gender':'M','Married':True }"
   ]
  },
  {
   "cell_type": "code",
   "execution_count": null,
   "id": "26b78ebf",
   "metadata": {},
   "outputs": [],
   "source": [
    "#  How  to  remove  key : value  pairs  of  dictionary  (Home  work)\n",
    "a =  {'Empno'  :  25,  'Ename'  :  'Rama  Rao'  ,  'Sal'  :  1000.65  }\n",
    "print(a)    # {'Empno'  :  25,  'Ename'  :  'Rama  Rao'  ,  'Sal'  :  1000.65  }\n",
    "a.pop('Sal') #How  to  remove  'Sal' : 1000.65  from  dictionary  'a'\n",
    "print(a)    # {'Empno': 25, 'Ename': 'Rama  Rao'}\n",
    "\n"
   ]
  },
  {
   "cell_type": "code",
   "execution_count": null,
   "id": "c0504051",
   "metadata": {},
   "outputs": [],
   "source": [
    "#  in  and  not  in  operators  (Home  work)\n",
    "a =  {10 : 20 , 30 : 40 , 50 : 60 , 70 : 80}\n",
    "print(30  in  a . keys())   # True\n",
    "print(60  in  a . keys()) # False\n",
    "print(60  in  a . values()) # True\n",
    "print(30  in  a . values()) # False\n",
    "print(50  in  a)    # True\n",
    "print(20  in  a)    # False\n",
    "print(70  not  in  a . keys())  #False\n",
    "print(40  not  in  a . values())    # False\n",
    "print(25  not  in  a)   # True\n"
   ]
  },
  {
   "cell_type": "code",
   "execution_count": null,
   "id": "be143218",
   "metadata": {},
   "outputs": [],
   "source": [
    "#  What  are  the  outputs  if  input  is  {10: 'A', 20: 'B', 15: 'C' , 20 : 'D'}\n",
    "a = input('Enter  dictionary  :  ')\n",
    "print(a)    # {10:300, 20:400}\n",
    "print(type(a))  # <class 'str'>\n",
    "b = eval(a)\n",
    "print(b) #{10: 300, 20: 400}\n",
    "print(type(b)) # <class 'dict'>\n"
   ]
  },
  {
   "cell_type": "code",
   "execution_count": null,
   "id": "680f4b55",
   "metadata": {},
   "outputs": [],
   "source": [
    "#  Find  outputs  (Home  work)\n",
    "a = {10 : 'Rama' , 20 : 'Sita' , 15 : 'Rajesh' , 18 : 'Kiran'}\n",
    "b = {**a}\n",
    "print(b)    #  {10 : 'Rama' , 20 : 'Sita' , 15 : 'Rajesh' , 18 : 'Kiran'}\n",
    "print(a  is  b) # False\n",
    "print(a  ==  b) # True\n",
    "c = a\n",
    "print(a  is   c) # True\n",
    "print(a  ==  c) # True\n"
   ]
  },
  {
   "cell_type": "code",
   "execution_count": 22,
   "id": "4d9e200f",
   "metadata": {},
   "outputs": [
    {
     "name": "stdout",
     "output_type": "stream",
     "text": [
      "{'AAA': 1000, 'BBB': 20000, 'CCCC': 50000, 'DDD': 15000}\n"
     ]
    }
   ],
   "source": [
    "'''\n",
    "(Home  work)\n",
    "Write  a  program  to  create  a  dictionary  with  emp  names  and  salaries\n",
    "\n",
    "Hint:  Append  each  emp  name  and  salary  to  dictionary  'a'\n",
    "\n",
    "How many Employees ? : 4\n",
    "Enter Emp Name : AAA\n",
    "Enter Salary : 100000\n",
    "Enter Emp Name : BBB\n",
    "Enter Salary : 200000\n",
    "Enter Emp Name : CCC\n",
    "Enter Salary : 150000\n",
    "Enter Emp Name : DDD\n",
    "Enter Salary : 175000\n",
    "{'AAA': 100000.0, 'BBB': 200000.0, 'CCC': 150000.0, 'DDD': 175000.0}\n",
    "'''\n",
    "n=int(input(\"How many Employess? : \"))\n",
    "dict={}\n",
    "for i in range(n):\n",
    "    a=input(\"Enter Emp Name: \")\n",
    "    b=int(input(\"Enter Salary: \"))\n",
    "    dict[a]=b\n",
    "print(dict)\n"
   ]
  },
  {
   "cell_type": "code",
   "execution_count": 24,
   "id": "74b2cdb3",
   "metadata": {},
   "outputs": [
    {
     "name": "stdout",
     "output_type": "stream",
     "text": [
      "{'\"Emp no': '25 ', ' Emp name': 'Rama  Rao ', ' sal': '10000.0 ', ' gender': 'm\"'}\n"
     ]
    }
   ],
   "source": [
    "''' (Home  work)\n",
    "Write  a  program  to  convert  a  string  to  dictionary\n",
    "\n",
    "Let  input  be   \"Emp no = 25 , Emp name = Rama  Rao , sal = 10000.0 , gender = m\"\n",
    "\n",
    "What  is  the  output ?  --->  {Emp no : 25 , Emp name  :  Rama Rao , sal : 10000.0 , gender : m}\n",
    "\n",
    "Hint :  Use  split()  method  twice\n",
    "'''\n",
    "a=input(\"Enter a string: \")\n",
    "b=a.split(',')\n",
    "d={}\n",
    "for i in b:\n",
    "    key,value=i.split(' = ')\n",
    "    d[key]=value\n",
    "print(d)\n"
   ]
  },
  {
   "cell_type": "code",
   "execution_count": null,
   "id": "ff96a50e",
   "metadata": {},
   "outputs": [],
   "source": [
    "# len()  function  demo  program  (Home  work)\n",
    "a  =  {'Empno'  :  25,  'Ename'  :  'Rama  Rao'  ,  'Sal'  :  1000.65  }\n",
    "print(len(a))   # 3\n",
    "b = {}\n",
    "print(len(b))   # 0\n"
   ]
  },
  {
   "cell_type": "code",
   "execution_count": null,
   "id": "ca05dfd2",
   "metadata": {},
   "outputs": [],
   "source": [
    "#  sum()  function demo  program  (Home  work)\n",
    "a = {10 : 20 , 30 : 40 , 50 : 60}\n",
    "print(sum(a . keys()))  #  90\n",
    "print(sum(a . values()))    # 120\n",
    "print(sum(a))   # 90 bcz (default is keys) sum of keys\n",
    "print(sum(a . items())) #  Error\n"
   ]
  },
  {
   "cell_type": "code",
   "execution_count": null,
   "id": "dec92eaa",
   "metadata": {},
   "outputs": [],
   "source": [
    "# max()  and  min()   functions  demo  program  (Home  work)\n",
    "a = {10 : 20 , 30 : 25 , 40 : 5 , 7 : 28 , 9 : 50}\n",
    "print(max(a . keys()))  # 40\n",
    "print(min(a . keys()))  # 7\n",
    "print(max(a . values()))    # 50\n",
    "print(min(a . values()))    # 5\n",
    "print(max(a . items())) # (40, 5)\n",
    "print(min(a . items())) # (7, 28)\n",
    "print(max(a))   # 40\n",
    "print(min(a))   # 7\n"
   ]
  },
  {
   "cell_type": "code",
   "execution_count": null,
   "id": "2bbf25c8",
   "metadata": {},
   "outputs": [],
   "source": [
    "#  dict()  function  demo program (Home  work))\n",
    "a = [ (10 , 'Hyd') , (20 , 'Sec') , (15 , 'Cyb') , (20 , 'Pune')]\n",
    "b = dict(a)\n",
    "print(b) # {10: 'Hyd', 20: 'Pune', 15: 'Cyb'}\n",
    "c = ( ['R' , 'Red'] , ['G' , 'Green'] , ['B' , 'Blue'] , ['G' , 'Gray'])\n",
    "d = dict(c)\n",
    "print(d)\t# {'R': 'Red', 'G': 'Gray', 'B': 'Blue'}\n",
    "e = [[10 , 20 , 30] , [40 , 50 , 60] , [70 , 80 , 90]]\n",
    "print(dict(e))\t# error\n",
    "f = [[10] , [20] , [30]]\n",
    "print(dict(f))\t# error\n",
    "print(dict([10 , 20]))\t# error\n",
    "g = [[10 , [20 , 30]] , [40 , [50 , 60]] , [70 , [80 , 90]]]\n",
    "print(dict(g))\t#{10: [20, 30], 40: [50, 60], 70: [80, 90]}\n",
    "h = [[[10 , 20] , 30] , [[40 , 50] , 60] , [[70 , 80] , 90]]\n",
    "print(dict(h))\t# Error\n",
    "i = [[(10 , 20) , 30] , [(40 , 50) , 60] , [(70 , 80) , 90]]\n",
    "print(dict(i))\t# {(10, 20): 30, (40, 50): 60, (70, 80): 90}\n"
   ]
  },
  {
   "cell_type": "code",
   "execution_count": null,
   "id": "81d71103",
   "metadata": {},
   "outputs": [],
   "source": [
    "# sorted()  function  (Home  work)\n",
    "a = {10 : 'Red' , 20 : 'Green' , 15 : 'Blue' , 18 : 'Yellow' , 5 : 'White'}\n",
    "b = sorted(a . keys())\n",
    "print(b)    #[5, 10, 15, 18, 20]\n",
    "c = sorted(a . values())\n",
    "print(c)    # ['Blue', 'Green', 'Red', 'White', 'Yellow']\n",
    "d = sorted(a . items())\n",
    "print(d)    # [(5, 'White'), (10, 'Red'), (15, 'Blue'), (18, 'Yellow'), (20, 'Green')]\n",
    "f  = sorted(a  , reverse = True)\n",
    "print(f)    # [20, 18, 15, 10, 5]\n",
    "print(a)    # {10: 'Red', 20: 'Green', 15: 'Blue', 18: 'Yellow', 5: 'White'}\n"
   ]
  },
  {
   "cell_type": "code",
   "execution_count": null,
   "id": "9c4c4a63",
   "metadata": {},
   "outputs": [],
   "source": [
    "'''\n",
    "Tricky  program\n",
    "Write  a  program  to  sort  dictionary  wrt  keys  (Home  work)\n",
    "\n",
    "1) Let  input  be   {10 : 'A' , 20 : 'B' , 15 : 'C' , 5 : 'D' , 12 : 'E'}\n",
    "    What  is  the  output ?  ---> {5 : 'D' , 10 : 'A' ,  12 : 'E' ,  15 : 'C' , 20 : 'B'}\n",
    "\n",
    "2) Both  input  and  output  are  dictionaries\n",
    "\n",
    "3) Hint:  Use  sorted()  function\n",
    "\n",
    "Enter  dictionary  :  {10 : 'A' , 20 : 'B' , 15 : 'C' , 5 : 'D' , 12 : 'E'}\n",
    "{5: 'D', 10: 'A', 12: 'E', 15: 'C', 20: 'B'}\n",
    "'''\n",
    "a=eval(input('Enter dictionary: '))\n",
    "b=sorted(a.items())\n",
    "sorted_dict= dict(b)\n",
    "print(sorted_dict)\n"
   ]
  },
  {
   "cell_type": "code",
   "execution_count": null,
   "id": "c14d6c95",
   "metadata": {},
   "outputs": [],
   "source": [
    "# clear()  method  demo  program (Home  work)\n",
    "a = {10 : 20 , 30 : 40 , 50 : 60}\n",
    "print(a)    # {10 : 20 , 30 : 40 , 50 : 60}\n",
    "a . clear()\n",
    "print(a)    #{}\n",
    "del  a\n",
    "print(a)    # error\n"
   ]
  },
  {
   "cell_type": "code",
   "execution_count": null,
   "id": "d88cb561",
   "metadata": {},
   "outputs": [],
   "source": [
    "# copy()  method demo  program  (Home  work)\n",
    "a = {'R' : 'Red' , 'G' : 'Green' , 'B' : 'Blue'}\n",
    "b = a . copy()\n",
    "print(b)    # {'R': 'Red', 'G': 'Green', 'B': 'Blue'}\n",
    "print(a  is  b) # False\n",
    "print(a  ==  b) # True\n"
   ]
  },
  {
   "cell_type": "code",
   "execution_count": null,
   "id": "20830e80",
   "metadata": {},
   "outputs": [],
   "source": [
    "#  keys()  method  demo  program\n",
    "a = {10 : 'Hyd' , 20 : 'Sec' , 15 : 'Cyb' , 18 : 'Pune'}\n",
    "b = a . keys()\n",
    "print(b)        # dict_keys([10, 20, 15, 18])\n",
    "print(type(b)) #<class 'dict_keys'>\n",
    "for  x  in   b:\n",
    "        print(x) # 10 <next line> 20 <next line> 15 <next line> 18\n",
    "\n"
   ]
  },
  {
   "cell_type": "code",
   "execution_count": null,
   "id": "125dd92c",
   "metadata": {},
   "outputs": [],
   "source": [
    "\n",
    "# values()  method  demo  program\n",
    "a = {10 : 'Hyd' , 20 : 'Sec' , 15 : 'Cyb' , 18 : 'Pune'}\n",
    "b = a . values()\n",
    "print(b)\t#dict_values(['Hyd', 'Sec', 'Cyb', 'Pune'])\n",
    "print(type(b)) #<class 'dict_values'>\n",
    "for  x   in   b:\n",
    "\tprint(x) # Hyd <next line> Sec <next line> Cyb <next line> Pune \n",
    "\n"
   ]
  },
  {
   "cell_type": "code",
   "execution_count": null,
   "id": "03b241b6",
   "metadata": {},
   "outputs": [],
   "source": [
    "#  items()  method  demo  program\n",
    "a = {10 : 'Hyd' , 20 : 'Sec' , 15 : 'Cyb' , 18 : 'Pune'}\n",
    "b = a . items()\n",
    "print(b)        # dict_items([(10, 'Hyd'), (20, 'Sec'), (15, 'Cyb'), (18, 'Pune')])\n",
    "print(type(b)) #<class dict_items>\n",
    "for  x   in   b:\n",
    "        print(x)        # (10, 'Hyd')<next line>(20, 'Sec')<next line>(15, 'Cyb')<next line>(18, 'Pune')\n",
    "for  x , y   in  b:\n",
    "        print(x , y , sep = ' ... ') #10...Hyd <next line> 20 ... Sec <next line> 15 ... Cyb <next line> 18 ... Pune\n"
   ]
  },
  {
   "cell_type": "code",
   "execution_count": null,
   "id": "b6d024ab",
   "metadata": {},
   "outputs": [],
   "source": [
    "\n",
    "# Find  outputs (Home  work)\n",
    "a = {10 : 'Hyd' , 20 : 'Sec' , 15 : 'Cyb' , 18 : 'Pune'}\n",
    "for  x , y   in  a . items():\n",
    "       print(x , y , sep = ' ... ')       #10...Hyd <next line> 20 ... Sec <next line> 15 ... Cyb <next line> 18 ... Pune\n",
    "for  x , y   in  a . keys():\n",
    "       print(x , y , sep = ' ... ')       # error\n",
    "for  x , y   in  a . values():\n",
    "       print(x , y , sep = ' ... ')       # error\n",
    "for  x , y   in  a:\n",
    "       print(x , y , sep = ' ... ')       # error"
   ]
  },
  {
   "cell_type": "code",
   "execution_count": null,
   "id": "964219c5",
   "metadata": {},
   "outputs": [],
   "source": [
    "#  Find  outputs  (Home  work)\n",
    "a = {10 : 'Rama' , 20 : 'Sita' , 15 : 'Rajesh'}\n",
    "x , y , z = a . keys()\n",
    "print(x)    # 10\n",
    "print(y)    # 20\n",
    "print(z)    # 15\n",
    "print() # nothing\n",
    "x , y , z = a . values()\n",
    "print(x)    # Rama\n",
    "print(y)    # Sita\n",
    "print(z)    # Rajesh\n",
    "print()\n",
    "x , y ,  z = a . items()\n",
    "print(x)    # (10, 'Rama')\n",
    "print(y)    # (20, 'Sita')\n",
    "print(z)    # (15, 'Rajesh')\n",
    "print()\n",
    "(rno1 , sname1) , (rno2 , sname2) , (rno3 , sname3) = a . items()\n",
    "print(rno1 , sname1)    # 10 Rama\n",
    "print(rno2 , sname2)    # 20 Sita\n",
    "print(rno3 , sname3)    # 15 Rajesh"
   ]
  },
  {
   "cell_type": "code",
   "execution_count": 25,
   "id": "d3668461",
   "metadata": {},
   "outputs": [
    {
     "name": "stdout",
     "output_type": "stream",
     "text": [
      "{'A': 3, 'M': 1, 'O': 1, 'R': 2}\n"
     ]
    }
   ],
   "source": [
    "'''\n",
    "Tricky  program\n",
    "(Home  work)\n",
    "Write  a program  to  determine  frequency  of  each  alphabet  in  the  string   in   alphabetical  order\n",
    "(ignoring  the  case)\n",
    "\n",
    "Let  input  be   RamA raO\n",
    "What  is  the  output ?  ---> {'A' : 3 , 'M' : 1 , 'O' : 1 , 'R' : 2}  in  alphabetical  order\n",
    "\n",
    "1) What  is  the  string  after  it  is  converted  to  uppercase ?  --->  'RAMA RAO'\n",
    "\n",
    "2) What  is  the  result  of  sorted('RAMA RAO') ?  --->  [' ' , 'A' , 'A' , 'A' , 'M' , 'O' , 'R' , 'R']\n",
    "\n",
    "3) What  is  dictionary  'a'  initially ?  --->  { }\n",
    "\n",
    "4) What  is  the  first  element  in  list ?  --->  ' '\n",
    "    What  action  to  be  made  for  ' ' ?  --->  Ignore  becoz  it  is  not  an  alphabet\n",
    "\n",
    "5) What  is  the  2nd  element  in  list ?  ---> 'A'\n",
    "    What  is  a['A']  ?  --->  a . get('A' , 0) + 1 = 0 + 1 = 1\n",
    "    What  does  a['A']  =  1  do ?  --->  Appends  'A' : 1  to  dict  'a'\n",
    "    What  is  dictionary  'a' ?  --->  {'A' : 1}\n",
    "\n",
    "6) What  is  the  3rd  element  in  list ?  --->  'A'\n",
    "    What  is  a['A']  ?  --->  a . get('A' , 0) + 1 =  1 + 1 = 2\n",
    "    What  does  a['A']  =  2  do ?  --->  Modifies  value  of  'A'  to  2  in dict  'a'\n",
    "    What  is  dictionary  'a' ?  --->  {'A' : 2}\n",
    "\n",
    "7) What  is  the  4th  element  in  list ?  --->  'A'\n",
    "    What  is  a['A']  ?  --->  a . get('A' , 0) + 1 =  2 + 1 = 3\n",
    "    What  does  a['A'] = 3  do ?  --->  Modifies  value  of  'A'  to  3  in dict  'a'\n",
    "    What  is  dictionary  'a' ?  ---> {'A' : 3}\n",
    "\n",
    "8) What  is  the  5th  element  in  list ?  --->  'M'\n",
    "     What  is  a['M']  ?  --->  \t a . get('M' , 0) + 1 =  0 + 1 = 1\n",
    "    What  does  a['M'] = 1  do ?  --->  Appends  'M' : 1  to  dict  'a'\n",
    "    What  is  dictionary  'a' ?  ---> {'A' : 3 , 'M' : 1}\n",
    "\n",
    "9) What  is  the  6th  element  in  list ?  ---> 'O'\n",
    "     What  is  a['O']  ?  --->  a . get('O' , 0) + 1 =  0 + 1 = 1\n",
    "     What  does  a['O'] = 1  do ?  ---> Appends  'O' : 1  to  dict  'a'\n",
    "     What  is  dictionary  'a' ?  --->  {'A' : 3 , 'M' : 1 , 'O' : 1}\n",
    "\n",
    "10) What  is  the  7th  element  in  list ?  ---> 'R'\n",
    "      What  is  a['R']  ?  --->  a . get('R' , 0) + 1 =  0 + 1 = 1\n",
    "       What  does  a['R'] = 1  do ?  --->  Appends  'R' : 1  to  dict  'a'\n",
    "\t  What  is  dictionary  'a' ?  ---> {'A' : 3 , 'M' : 1 , 'O' : 1 , 'R' : 1}\n",
    "\n",
    "11) What  is  the  last  element  in  list ?  --->  'R'\n",
    "      What  is  a['R']  ?  --->  a . get('R' , 0) + 1 =  1 + 1 = 2\n",
    "      What  does  a['R'] = 2  do ?  ---> Modifies  value  of  'R'  to  2  in dict  'a'\n",
    "      What  is  dictionary  'a' ?  --->  \t{'A' : 3 , 'M' : 1 , 'O' : 1 , 'R' : 2}\n",
    "      11) Finally  what   is  dict  'a' ?  ---> {'R' : 2 , 'A' : 3 , 'M' : 1 , 'O' : 1}\n",
    "\n",
    "Enter  mixed  case  string : RamA raO\n",
    "{'A': 3, 'M': 1, 'O': 1, 'R': 2}\n",
    "'''\n",
    "\n",
    "s=input('Enter a mixed case string: ')\n",
    "b=s.upper()\n",
    "a={}\n",
    "c=sorted(b)\n",
    "for ch in c:\n",
    "    if ch.isalpha():\n",
    "        a[ch]=a.get(ch,0)+1\n",
    "print(a)\n"
   ]
  }
 ],
 "metadata": {
  "kernelspec": {
   "display_name": "Python 3",
   "language": "python",
   "name": "python3"
  },
  "language_info": {
   "codemirror_mode": {
    "name": "ipython",
    "version": 3
   },
   "file_extension": ".py",
   "mimetype": "text/x-python",
   "name": "python",
   "nbconvert_exporter": "python",
   "pygments_lexer": "ipython3",
   "version": "3.13.2"
  }
 },
 "nbformat": 4,
 "nbformat_minor": 5
}

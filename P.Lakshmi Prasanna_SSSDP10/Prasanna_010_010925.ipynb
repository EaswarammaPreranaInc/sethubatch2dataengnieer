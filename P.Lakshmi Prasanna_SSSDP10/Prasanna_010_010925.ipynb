{
 "cells": [
  {
   "cell_type": "code",
   "execution_count": null,
   "id": "7eb65708",
   "metadata": {},
   "outputs": [],
   "source": [
    "# Find  output (Home  work)\n",
    "def   f1(a = []):\n",
    "        pass\n",
    "print(f1 . _defaults_)#([],)"
   ]
  },
  {
   "cell_type": "code",
   "execution_count": null,
   "id": "f71ac07d",
   "metadata": {},
   "outputs": [],
   "source": [
    "# Find  outputs (Home  work)\n",
    "def   f1(x , a = []):\n",
    "\ta . append(x)\n",
    "\tprint('List :  ' ,  a)\n",
    "#end  of  the  function\n",
    "print('_defaults_  :  ' , f1._defaults_)#([],)\n",
    "f1(3)\n",
    "print('_defaults_  :  ' , f1._defaults_)#([3],)\n",
    "f1(4 , [1 , 2 , 3])\n",
    "print('_defaults_  :  ' , f1._defaults_)#([3],)\n",
    "f1(9)\n",
    "print('_defaults_  :  ' , f1._defaults_)#([3,9],)\n",
    "f1(40 , [10 , 20 , 30])\n",
    "print('_defaults_  :  ' , f1._defaults_)#([3,9],)\n",
    "f1(5)\n",
    "print('_defaults_  :  ' , f1._defaults_)#([3,9,5],)\n",
    "f1([6 , 7 , 8])\n",
    "print('_defaults_  :  ' , f1._defaults_)#([3,9,5],)"
   ]
  },
  {
   "cell_type": "code",
   "execution_count": null,
   "id": "aad16f8b",
   "metadata": {},
   "outputs": [],
   "source": [
    "#  Find  outputs (Home  work)\n",
    "def   f1(x , a = []):\n",
    "        if  a  ==  []:\n",
    "                a = []\n",
    "        a . append(x)\n",
    "        print(a)\n",
    "#end  of  the  function\n",
    "print('_defaults_  :  ' , f1._defaults_)#([],)\n",
    "f1(3)\n",
    "print('_defaults_  :  ' , f1._defaults_)#([],)\n",
    "f1(4 , [1 , 2 , 3])\n",
    "print('_defaults_  :  ' , f1._defaults_)#([],)\n",
    "f1(4)\n",
    "print('_defaults_  :  ' , f1._defaults_)#([],)\n",
    "f1(40 , [10 , 20 , 30])\n",
    "print('_defaults_  :  ' , f1._defaults_)#([],)\n",
    "f1(5)\n",
    "print('_defaults_  :  ' , f1._defaults_)#([],)\n",
    "f1([6 , 7 , 8])\n",
    "print('_defaults_  :  ' , f1._defaults_)#([],)"
   ]
  },
  {
   "cell_type": "code",
   "execution_count": null,
   "id": "8371dd3c",
   "metadata": {},
   "outputs": [],
   "source": [
    "# Find  outputs(Home  work)\n",
    "def     f1(x , a = []):\n",
    "\tfor  i  in  range(x):\n",
    "\t\ta . append(i * i)\n",
    "\treturn  a\n",
    "# End  of  the  function\n",
    "print('_defaults  :  ' , f1._defaults_)#([],)\n",
    "print(f1(3))\n",
    "print('_defaults  :  ' , f1._defaults_)#([0,1,4],)\n",
    "print(f1(4 , [10 , 20 , 15 , 18]))\n",
    "print('_defaults  :  ' , f1._defaults_)#([0,1,4],)\n",
    "print(f1(5))\n",
    "print('_defaults  :  ' , f1._defaults_)#([0,1,4,0,1,4,9,16])\n",
    "print(f1(a = [100 , 200 , 300],   x = 6 ))\n",
    "print('_defaults  :  ' , f1._defaults_)#([0,1,4,0,1,4,9,16])\n",
    "print(f1(6))\n",
    "print('_defaults  :  ' , f1._defaults_)#([0,1,4,0,1,4,9,16,0,1,4,9,16,25])"
   ]
  },
  {
   "cell_type": "code",
   "execution_count": null,
   "id": "1d489cc7",
   "metadata": {},
   "outputs": [],
   "source": [
    "# Find  output (Home  work)\n",
    "def     f1(x , a = []):\n",
    "        if   a == []:\n",
    "                a = []\n",
    "        for  i   in   range(x):\n",
    "                a . append(i * i)\n",
    "        return  a\n",
    "# End  of  the  function\n",
    "print(f1(3))#([0,1,4],)\n",
    "print(f1(4 , [10 , 20 , 15 , 18]))#([0,1,4,10,20,15,18],)\n",
    "print(f1(5))#([0,1,4,9,16],)\n",
    "print(f1(a = [100 , 200 , 300],   x = 6 ))#([0,1,4,9,16,25],)\n",
    "print(f1(6))#([0,1,4,9,16,25],)"
   ]
  },
  {
   "cell_type": "code",
   "execution_count": null,
   "id": "0b18a9fc",
   "metadata": {},
   "outputs": [],
   "source": [
    "# Find  outputs\n",
    "def   f1(a = 'Hyd' , b = []):\n",
    "\ta += \"Sec\"\n",
    "\tb += [1 , 2 , 3]\n",
    "\tprint('a :  ' , a)#HydSec\n",
    "\tprint('b :  ' , b)#[1,2,3]\n",
    "# End of the function\n",
    "print('Default Values  :  ' , f1 . _defaults_)#('Hyd', [])\n",
    "f1()\n",
    "print('Default Values  :  ' , f1 . _defaults_)#('Hyd', [1, 2, 3])\n",
    "f1()\n",
    "print('Default Values  :  ' , f1 . _defaults_)#('Hyd', [1, 2, 3, 1, 2, 3])\n",
    "f1()"
   ]
  }
 ],
 "metadata": {
  "kernelspec": {
   "display_name": "Python 3",
   "language": "python",
   "name": "python3"
  },
  "language_info": {
   "codemirror_mode": {
    "name": "ipython",
    "version": 3
   },
   "file_extension": ".py",
   "mimetype": "text/x-python",
   "name": "python",
   "nbconvert_exporter": "python",
   "pygments_lexer": "ipython3",
   "version": "3.13.2"
  }
 },
 "nbformat": 4,
 "nbformat_minor": 5
}

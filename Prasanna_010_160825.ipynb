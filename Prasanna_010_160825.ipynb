{
 "cells": [
  {
   "cell_type": "code",
   "execution_count": null,
   "id": "8341b1f2",
   "metadata": {},
   "outputs": [],
   "source": [
    "# What  are  the  outputs  if  input  is   [25 , 10.8 , 'Hyd' , True]   (Home  work)\n",
    "a = input('Enter  list  :  ')\n",
    "print(type(a))#Class str\n",
    "print(a)# [25 , 10.8 , 'Hyd' , True]\n",
    "b = eval(a)\n",
    "print(b)# [25 , 10.8 , 'Hyd' , True]\n",
    "print(type(b))# class list"
   ]
  },
  {
   "cell_type": "code",
   "execution_count": null,
   "id": "fedd79b9",
   "metadata": {},
   "outputs": [],
   "source": [
    "#  Find  outputs (Home  work)\n",
    "a = [10, 20, 15, 18]\n",
    "b = a\n",
    "print(a  is  b)#True\n",
    "print(a  ==  b)#True\n",
    "b[2] = 12\n",
    "print(a)#[10, 20, 12, 18]"
   ]
  },
  {
   "cell_type": "code",
   "execution_count": null,
   "id": "4bc1b019",
   "metadata": {},
   "outputs": [],
   "source": [
    "#  Find  outputs  (Home  work)\n",
    "a = [10 , 20 , 15 , 18]\n",
    "b = [100 , 200 , 150]\n",
    "print(a + b)#[10, 20, 15, 18, 100, 200, 150]\n",
    "print(a + 5)#Error due to concatenation not possible between list and int\n",
    "print(a + '5')#Error due to concatenation not possible between list and str\n",
    "print([10 , 20] + (30 , 40))#Error due to concatenation not possible between list and tuple"
   ]
  },
  {
   "cell_type": "code",
   "execution_count": null,
   "id": "e6f0e186",
   "metadata": {},
   "outputs": [],
   "source": [
    "#  Tricky  program\n",
    "#  Find  outputs\n",
    "a = [1,2,3]\n",
    "b = [4,5,6]\n",
    "print(a , id(a))# [1,2,3] address of object a\n",
    "a += b\n",
    "print(a , id(a))#[1,2,3,4,5,6] address of same object a"
   ]
  },
  {
   "cell_type": "code",
   "execution_count": null,
   "id": "d79d5480",
   "metadata": {},
   "outputs": [],
   "source": [
    "#  Tricky  program\n",
    "#  Find  outputs\n",
    "a = [1,2,3]\n",
    "b = [4,5,6]\n",
    "print(a , id(a))#[1,2,3] address of object a\n",
    "a  = a + b\n",
    "print(a , id(a))#[1,2,3,4,5,6] address of different object a"
   ]
  },
  {
   "cell_type": "code",
   "execution_count": null,
   "id": "bb08e077",
   "metadata": {},
   "outputs": [],
   "source": [
    "# List  packing\n",
    "a = 25\n",
    "b = 10.8\n",
    "c = 'Hyd'\n",
    "d = True\n",
    "e = [a , b , c , d]\n",
    "print(e)#[25, 10.8, 'Hyd', True]\n",
    "print(type(e))#class list"
   ]
  },
  {
   "cell_type": "code",
   "execution_count": null,
   "id": "217eceb3",
   "metadata": {},
   "outputs": [],
   "source": [
    "# Find  outputs\n",
    "list = [25 , 10.8 , 'Hyd' ,  True]\n",
    "a , *b , c = list\n",
    "print('a : ' , a)  #  a :  25\n",
    "print('b : ' , b) #  b : [10.8 , 'Hyd']\n",
    "print('c : ' , c) #  c :  True\n",
    "print(type(b))#class list\n",
    "x , *y = list\n",
    "print('x : ' , x)#x :  25\n",
    "print('y : ' , y)#y :  [10.8, 'Hyd', True]\n",
    "*p , q = list\n",
    "print('p : ' , p)#p :  [25, 10.8, 'Hyd']\n",
    "print('q : ' , q)#q :  True"
   ]
  },
  {
   "cell_type": "code",
   "execution_count": null,
   "id": "7f504d8c",
   "metadata": {},
   "outputs": [],
   "source": [
    "# Find  outputs  (Home  work)\n",
    "list = [25 , 10.8 , 'Hyd' , True]\n",
    "a , b , c , d , e = list\n",
    "a , b , *c , d , e = list\n",
    "print('a : ' , a)#error\n",
    "print('b : ' , b)#error\n",
    "print('c : ' , c)#error\n",
    "print('d : ' , d)#error\n",
    "print('e : ' , e)#error\n",
    "a , b , *c , d , e , f = list"
   ]
  },
  {
   "cell_type": "code",
   "execution_count": null,
   "id": "e82cf929",
   "metadata": {},
   "outputs": [],
   "source": [
    "# Find  outputs  (Home  work)\n",
    "list = [25 , 10.8 , 'Hyd' , True]\n",
    "a , b , _  , d = list\n",
    "print('a : ' , a)#a :  25\n",
    "print('b : ' , b)#b :  10.8\n",
    "print('_ :  ' , _)#_ :   Hyd\n",
    "print('d : ' , d)#d :  True"
   ]
  },
  {
   "cell_type": "code",
   "execution_count": null,
   "id": "deeb8670",
   "metadata": {},
   "outputs": [],
   "source": [
    "# Find  outputs (Home  work)\n",
    "list = [25 , 10.8 , 'Hyd' , True , 3 + 4j]\n",
    "a , b , a , d , a = list\n",
    "print('a : ' , a)#a :  (3+4j)\n",
    "print('b : ' , b)#b :  10.8\n",
    "print('d : ' , d)#d :  True"
   ]
  },
  {
   "cell_type": "code",
   "execution_count": null,
   "id": "4a615f62",
   "metadata": {},
   "outputs": [],
   "source": [
    "#  Tricky  program\n",
    "# Find  outputs (Home  work)\n",
    "list = [25 , 10.8 , 'Hyd' , True , 3 + 4j]\n",
    "a , b ,  _ , d , _  = list\n",
    "print('a : ' , a)#a :  25\n",
    "print('b : ' , b)#b :  10.8\n",
    "print('_ : ' , _)#_ :  (3+4j)\n",
    "print('d : ' , d)#d :  True\n",
    "print('_: ' , _)#_:  (3+4j)"
   ]
  },
  {
   "cell_type": "code",
   "execution_count": null,
   "id": "84603e6b",
   "metadata": {},
   "outputs": [],
   "source": [
    "# Identify  error (Home  work)\n",
    "list = [25 , 10.8 , 'Hyd' , True , 3 + 4j]\n",
    "a , *b , c , *d , e  = list# Error "
   ]
  },
  {
   "cell_type": "code",
   "execution_count": null,
   "id": "596f04a4",
   "metadata": {},
   "outputs": [],
   "source": [
    "# Find  outputs  (Home  work)\n",
    "list = [[25 , 10.8] , 'Hyd' , True]   #  Nested  list\n",
    "a , b , c = list\n",
    "print('a :  ' , a)#a :   [25, 10.8]\n",
    "print('b :  ' , b)#b :   Hyd\n",
    "print('c :  ' , c)#c :   True"
   ]
  },
  {
   "cell_type": "code",
   "execution_count": null,
   "id": "432d0168",
   "metadata": {},
   "outputs": [],
   "source": [
    "# Find  outputs  (Home  work)\n",
    "list = [[25 , 10.8] , 'Hyd' , True]\n",
    "[a , b] , c , d = list\n",
    "print('a : ' , a)#a :  25\n",
    "print('b : ' , b)#b :  10.8\n",
    "print('c : ' , c)#c :  Hyd\n",
    "print('d : ' , d)#d :  True\n",
    "a , b , c , d = list#Error"
   ]
  },
  {
   "cell_type": "code",
   "execution_count": null,
   "id": "fcb87866",
   "metadata": {},
   "outputs": [],
   "source": [
    "# Comparing  Lists\n",
    "a = [10 , 20 , 15 , 18]\n",
    "b = [10 , 20 , 15 , 18]\n",
    "c = [10 , 20 , 25 , 9]\n",
    "d = [10 , 20 , 7 , 22]\n",
    "print(a == b)#true\n",
    "print(a  is   b)#False\n",
    "print(a < c)# True\n",
    "print(a > d)#true\n",
    "print(a >= c)#false\n",
    "print(a <= d)#false\n",
    "print(a != c)#true\n",
    "print(a != b)#false\n",
    "print(a == c)#false"
   ]
  },
  {
   "cell_type": "code",
   "execution_count": null,
   "id": "bc2077ab",
   "metadata": {},
   "outputs": [],
   "source": [
    "# Comparing  Lists  (Home  work)\n",
    "a = [10 , 20 , 15 , 18]\n",
    "b = [20 , 18 , 15 , 10]\n",
    "print(a == b)#Flase\n",
    "print(a  is   b)#False"
   ]
  }
 ],
 "metadata": {
  "kernelspec": {
   "display_name": "Python 3",
   "language": "python",
   "name": "python3"
  },
  "language_info": {
   "codemirror_mode": {
    "name": "ipython",
    "version": 3
   },
   "file_extension": ".py",
   "mimetype": "text/x-python",
   "name": "python",
   "nbconvert_exporter": "python",
   "pygments_lexer": "ipython3",
   "version": "3.13.2"
  }
 },
 "nbformat": 4,
 "nbformat_minor": 5
}

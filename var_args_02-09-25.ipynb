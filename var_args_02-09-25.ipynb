{
 "cells": [
  {
   "cell_type": "code",
   "execution_count": null,
   "id": "d25de91b",
   "metadata": {},
   "outputs": [
    {
     "name": "stdout",
     "output_type": "stream",
     "text": [
      "(10, 20, 15, 18)\n",
      "<class 'tuple'>\n",
      "4\n",
      "\n",
      "()\n",
      "<class 'tuple'>\n",
      "0\n",
      "\n",
      "([10, 20], (30, 40, 50), {80, 90, 60, 70})\n",
      "<class 'tuple'>\n",
      "3\n",
      "\n",
      "('Hyd',)\n",
      "<class 'tuple'>\n",
      "1\n",
      "\n",
      "((100, 200, 150),)\n",
      "<class 'tuple'>\n",
      "1\n",
      "\n"
     ]
    },
    {
     "data": {
      "text/plain": [
       "\"\\n(10,20,15,18)\\n<class 'tuple'>\\n4\\n\""
      ]
     },
     "execution_count": 2,
     "metadata": {},
     "output_type": "execute_result"
    }
   ],
   "source": [
    "#  Variable  number  of  arguments  demo  program\n",
    "def   f1(*t):\n",
    "\tprint(t)\n",
    "\tprint(type(t))\n",
    "\tprint(len(t))\n",
    "\tprint()\n",
    "# End  of  the  function\n",
    "f1(10 , 20 , 15 , 18)  #  Tuple  of  4  elements  (or)  args  are  passed  to  the  function\n",
    "f1()\t# (), <class 'tuple'>, 0\n",
    "f1([10 , 20] , (30 , 40 , 50) , {60 , 70 , 80 , 90})\t# ([10, 20], (30, 40, 50), {80, 90, 60, 70}),  <class 'tuple'>, 3\n",
    "f1('Hyd')\t# ('Hyd',),  <class 'tuple'>, 1\n",
    "tpl = (100 , 200 , 150)\t\n",
    "f1(tpl)\t# ((100,200,150),), <class 'tuple'>, 1\n",
    "f1(t = (10 , 20 , 30))\t# error cant pass KA \n",
    "\n",
    "'''\n",
    "(10,20,15,18)\n",
    "<class 'tuple'>\n",
    "4\n",
    "'''"
   ]
  },
  {
   "cell_type": "code",
   "execution_count": null,
   "id": "b4f6ee08",
   "metadata": {},
   "outputs": [
    {
     "name": "stdout",
     "output_type": "stream",
     "text": [
      "15.75\n",
      "12.266666666666666\n",
      "14.26\n",
      "Pass at least one input\n",
      "25.0\n",
      "(4+5j)\n",
      "Invalid input type\n"
     ]
    }
   ],
   "source": [
    "#  Write  a  function  to  determine  average  of  arguments  passed  to  the  function  (Home  work)\n",
    "\n",
    "def  avg(*a):\n",
    "    try:\n",
    "\t#Write  code  to  return  average  of  arguments  passed  from  the  function  call  (single  line)\n",
    "    \treturn sum(a)/len(a)\n",
    "    except ZeroDivisionError:\n",
    "        return \"Pass at least one input\"\n",
    "    except TypeError:\n",
    "        return 'Invalid input type'\n",
    "        \n",
    "# End  of  the  function\n",
    "print(avg(10 , 20 , 15 , 18))\t# 15.75\n",
    "print(avg(25 , 10.8 , True))\t# 12.266666666666666\n",
    "print(avg(10.8 , 20.6 , 15.2 , 14.9 , 9.8))\t# 14.26\n",
    "print(avg())\t# Pass at least one input\n",
    "print(avg(25))\t# 25.0\n",
    "print(avg(3 + 4j , 5 + 6j))\n",
    "tpl = (10 , 20 , 15 , 18)\t# (4+5j)\n",
    "print(avg(tpl)) # Invalid input type"
   ]
  },
  {
   "cell_type": "code",
   "execution_count": null,
   "id": "fcdb9950",
   "metadata": {},
   "outputs": [
    {
     "name": "stdout",
     "output_type": "stream",
     "text": [
      "SankarDayalSarma\n",
      "HydIsGreenCity\n",
      "PythonIsAGreatLanguage\n",
      "\n",
      "Python\n",
      "Inputs should be string only\n"
     ]
    }
   ],
   "source": [
    "#  Write  a  function  to  concatenate  strings  passed  to  the  function  (Home  work)\n",
    "def  concat(*a):\n",
    "\t#Write  code  to  return  join  of  all  the  strings  passed  from  the  function  call  (1  line)\n",
    "\ttry:\n",
    "\t\treturn ''.join(a)\n",
    "\texcept:\n",
    "\t\treturn \"Inputs should be string only\"\n",
    "\n",
    "print(concat('Sankar', 'Dayal', 'Sarma')) # SankarDayalSarma\n",
    "print(concat('Hyd', 'Is', 'Green', 'City'))\t# HydIsGreenCity\n",
    "print(concat('Python', 'Is', 'A', 'Great', 'Language'))\t# PythonIsAGreatLanguage\n",
    "print(concat())\t# Empty\n",
    "print(concat('Python')) # Python\n",
    "print(concat(1, 2, 3))\t# Inputs should be string only"
   ]
  },
  {
   "cell_type": "code",
   "execution_count": null,
   "id": "3fd5c25e",
   "metadata": {},
   "outputs": [
    {
     "name": "stdout",
     "output_type": "stream",
     "text": [
      "a : 10  \t   b  :  (20, 30, 40) \n",
      "a : 50  \t   b  :  (60,) \n",
      "a : 70  \t   b  :  () \n",
      "a : 80  \t   b  :  () \n",
      "a : 25  \t   b  :  () \n",
      "a : (10, 20, 30)  \t   b  :  (10, 20, 30) \n"
     ]
    }
   ],
   "source": [
    "#Find  outputs (Home  work)\n",
    "def   f1(a = 25  , *b):\n",
    "        print(F'a : {a}  \\t   b  :  {b} ')\n",
    "# End  of  the  function\n",
    "f1(10 , 20 , 30 , 40)   # a:10 b: (20,30,40)\n",
    "f1(50 , 60)     # a:50 b: (60,)\n",
    "f1(70)  # a:70 b:()\n",
    "f1(a = 80)      # a:80 b:()\n",
    "f1(b = (10 , 20 , 30) , a = 40) # Error bcz cant pass KA for b\n",
    "f1()    # a:25 b:()\n",
    "f1(a = 10 , (20 , 30 , 40))\n",
    "f1(25 , b = (10 , 20 , 30))     # error bcz cant pass KA for b\n",
    "f1(25 , a = (10 , 20 , 30))     # Error bcz we cant pass multiple values for a\n",
    "f1((10 , 20 , 30) , 10 , 20 , 30)       # a: (10,20,30) b:(10,20,30)\n",
    "f1(a = (10 , 20 , 30) , 10 , 20 , 30)  # error"
   ]
  },
  {
   "cell_type": "code",
   "execution_count": null,
   "id": "2f7d3cef",
   "metadata": {},
   "outputs": [
    {
     "name": "stdout",
     "output_type": "stream",
     "text": [
      "a  :  (10, 20, 30)   \t   b  :  40\n",
      "a  :  (50,)   \t   b  :  60\n",
      "a  :  ()   \t   b  :  70\n",
      "a  :  (10, 20, 30)   \t   b  :  (10, 20, 30)\n"
     ]
    }
   ],
   "source": [
    "#Find  outputs (Home  work)\n",
    "def    f1(*a , b):\n",
    "\tprint(F'a  :  {a}   \\t   b  :  {b}')\n",
    "# End  of  the  function\n",
    "f1(10 , 20 , 30 , b = 40)\t# a:(10,20,30)\tb:40\n",
    "f1(50 , b = 60)\t# a:50\tb:60\n",
    "f1(b = 70)\t#a:()\tb: 70\n",
    "f1(b = 10 , a = (20 , 30 , 40))\t# Error bcz KA are passed for a\n",
    "f1(b = 10 , (20 , 30 , 40))\n",
    "f1()\t# Error bcz kA is missing for b\n",
    "f1(10 , 20 , 30 , (10 , 20 , 30)) # Error bcz kA is missing for b\n",
    "f1(10 , 20 , 30 , 40) # Error bcz kA is missing for b\n",
    "f1(25) # Error bcz kA is missing for b\n",
    "f1(10 , 20 , 30 , b = (10 , 20 , 30))\t# a  :  (10, 20, 30)   \t   b  :  (10, 20, 30"
   ]
  },
  {
   "cell_type": "code",
   "execution_count": null,
   "id": "c8b52929",
   "metadata": {},
   "outputs": [
    {
     "name": "stdout",
     "output_type": "stream",
     "text": [
      "a  :  10  \t  b  :  (20, 30, 40)  \t  c  :  50\n",
      "a  :  60  \t  b  :  (70,)  \t  c  :  80\n",
      "a  :  90  \t  b  :  ()  \t  c  :  100\n"
     ]
    }
   ],
   "source": [
    "#Find  outputs (Home  work)\n",
    "def   f1(a , *b , c):\n",
    "        print(F'a  :  {a}  \\t  b  :  {b}  \\t  c  :  {c}')\n",
    "# End  of  the  function\n",
    "f1(10 , 20 , 30 , 40 , c = 50)  # a:10  b:(20,30,40)       c:50\n",
    "f1(60 , 70 , c = 80)    # a:60  b:(70,) c:80\n",
    "f1(90 , c = 100)        # a:90 b:()      c:100\n",
    "f1(a = 1 , 2 , c = 3)  #  error bcz we cant pass PA after KA\n",
    "f1(1 , 2 , 3)   # Error bcz KA is missing for c\n",
    "f1(a = 1 , b = 2 , c = 3)      # error bcz KA arg for b\n",
    "f1(a = 25 , 100 , 200 , 300 , c = 35)   #  error bcz we cant pass PA after KA"
   ]
  },
  {
   "cell_type": "code",
   "execution_count": null,
   "id": "6be07ba2",
   "metadata": {},
   "outputs": [],
   "source": [
    "# Which  of  the  following  are  valid  ?  (Home  work)\n",
    "\n",
    "def   f1(*a , *b):      # Invalid bcz we can use * only once\n",
    "        pass\n",
    "def  f2(*a , b):        # valid\n",
    "        pass\n",
    "def  f3(a , *b):        # valid\n",
    "        pass\n",
    "def  f4(a , b): # valid\n",
    "        pass\n",
    "def    f5(a , *b , c):  # valid\n",
    "        pass\n",
    "def   f6( * , a , *b , c): # Invalid bcz we can use * only once\n",
    "       pass\n",
    "def   f7(a , *b , c ,  /):      # Invalid we cant use both only positional and only keyword args\n",
    "       pass"
   ]
  },
  {
   "cell_type": "code",
   "execution_count": null,
   "id": "b8100e47",
   "metadata": {},
   "outputs": [
    {
     "name": "stdout",
     "output_type": "stream",
     "text": [
      "([10, 20], {40, 30}, (50, 60))\n",
      "<class 'tuple'>\n",
      "[10, 20]\n",
      "<class 'list'>\n",
      "{40, 30}\n",
      "<class 'set'>\n",
      "(50, 60)\n",
      "<class 'tuple'>\n"
     ]
    }
   ],
   "source": [
    "# Find  outputs  (Home  work)\n",
    "def   f1(*a):\n",
    "\tprint(a)\t# ([10, 20], {40, 30}, (50, 60))\n",
    "\tprint(type(a))\t# <class 'tuple'>\n",
    "\tfor  x  in  a: \n",
    "\t\tprint(x)\t# [10 , 20] <class 'list'> <nextline> {30 , 40} <class 'set'> <nextline> (50,60) <class 'tuple'>\n",
    "\t\tprint(type(x))\n",
    "# End  of  the  function\n",
    "f1([10 , 20] , {30 , 40} , (50 , 60))"
   ]
  },
  {
   "cell_type": "code",
   "execution_count": null,
   "id": "db9a86a7",
   "metadata": {},
   "outputs": [
    {
     "name": "stdout",
     "output_type": "stream",
     "text": [
      "Results\n",
      "<class 'dict'>\n",
      "{'RollNo': 10, 'StudName': 'Rama  Rao'}\n",
      "\n",
      "Results\n",
      "<class 'dict'>\n",
      "{'EmpNo': 25, 'EmpName': 'Sita', 'Salary': 10000.0}\n",
      "\n",
      "Results\n",
      "<class 'dict'>\n",
      "{'AcNo': 30, 'CustName': 'Kiran', 'Balance': 20000.0, 'Gender': 'm'}\n",
      "\n",
      "Results\n",
      "<class 'dict'>\n",
      "{}\n",
      "\n"
     ]
    },
    {
     "data": {
      "text/plain": [
       "\"\\n<class  'dict'>\\n{'RollNo' : 10 , 'StudName' : 'Rama Rao'}\\n\""
      ]
     },
     "execution_count": 26,
     "metadata": {},
     "output_type": "execute_result"
    }
   ],
   "source": [
    "# Variable  number  of  keyword  arguments  demo  program\n",
    "def   disp(**a):\n",
    "\tprint('Results')\n",
    "\tprint(type(a))\n",
    "\tprint(a)\n",
    "\tprint()\n",
    "#End  of  the  function\n",
    "disp(RollNo = 10 , StudName = 'Rama  Rao')   #  Dictionary  is  passed  to  the  function\n",
    "disp(EmpNo = 25 , EmpName = 'Sita' , Salary = 10000.0)\t# <class 'dict'>  {'EmpNo': 25, 'EmpName': 'Sita', 'Salary': 10000.0}\n",
    "disp(AcNo = 30 , CustName = 'Kiran' , Balance = 20000.0 , Gender = 'm') # <class 'dict'>  {'AcNo': 30, 'CustName': 'Kiran', 'Balance': 20000.0, 'Gender': 'm'}\n",
    "disp() # <class 'dict'> {}\n",
    "\n",
    "'''\n",
    "<class  'dict'>\n",
    "{'RollNo' : 10 , 'StudName' : 'Rama Rao'}\n",
    "'''"
   ]
  },
  {
   "cell_type": "code",
   "execution_count": null,
   "id": "8299a87c",
   "metadata": {},
   "outputs": [
    {
     "name": "stdout",
     "output_type": "stream",
     "text": [
      "Results\n",
      "Empno ... 25\n",
      "Empname ... Rama  Rao\n",
      "Salary ... 10000.0\n",
      "Gender ... m\n",
      "Results\n"
     ]
    }
   ],
   "source": [
    "# Find  outputs  (Home  work)\n",
    "def  f1(**a):\n",
    "\tprint('Results')\n",
    "\tfor  k , v   in   a . items():\n",
    "\t\tprint(k , v , sep = ' ... ')\t# Results <nextline> Empno ... 25 <nextline> Empname ... Rama Rao <nextline> Salary ... 10000.0 <nextline> Gender ... m\n",
    "# End  of  the  function\n",
    "f1(Empno = 25 , Empname = 'Rama  Rao' , Salary = 10000.0 , Gender = 'm')\n",
    "f1()\t# Results"
   ]
  },
  {
   "cell_type": "code",
   "execution_count": 28,
   "id": "5bc5a5fe",
   "metadata": {},
   "outputs": [
    {
     "name": "stdout",
     "output_type": "stream",
     "text": [
      "<class 'tuple'>\n",
      "(25, 10.8, 'Hyd', True)\n",
      "\n",
      "<class 'dict'>\n",
      "{'EmpNum': 25, 'EmpName': 'Sita', 'Salary': 10000.0}\n"
     ]
    }
   ],
   "source": [
    "# Find  outputs (Home  work)\n",
    "def   f1(*a):\n",
    "\tprint(type(a)) #<class 'tuple'>\n",
    "\tprint(a)\t# (25 , 10.8 , 'Hyd' , True)\n",
    "def   f2(**a):\n",
    "\tprint(type(a))\t# <class 'dict'>\n",
    "\tprint(a)\t#\t{EmpNum:25 , EmpName:'Sita' , Salary:10000.0}\n",
    "# End  of  the  function\n",
    "f1(25 , 10.8 , 'Hyd' , True)\n",
    "print()\n",
    "f2(EmpNum = 25 , EmpName =  'Sita' , Salary = 10000.0)"
   ]
  },
  {
   "cell_type": "code",
   "execution_count": null,
   "id": "95d45d6a",
   "metadata": {},
   "outputs": [
    {
     "name": "stdout",
     "output_type": "stream",
     "text": [
      "Emp  Number  :  25  \t  Emp  Name  :  Sita  \t  Salary  :\t10000.0\n",
      "{'empno': 25, 'ename': 'Sita', 'sal': 10000.0}\n",
      "{'eno': 25, 'empname': 'Sita', 'salary': 10000.0}\n"
     ]
    }
   ],
   "source": [
    "#  Find  outputs (Home work)\n",
    "def   f1(empno , ename , sal):\n",
    "\tprint(F'Emp  Number  :  {empno}  \\t  Emp  Name  :  {ename}  \\t  Salary  :\t{sal}')\n",
    "def   f2(**a):\n",
    "\tprint(a)\n",
    "# End  of  the  function\n",
    "f1(empno = 25 , ename = 'Sita' , sal = 10000.0)\t# Emp  Number  :  25  \t  Emp  Name  :  Sita  \t  Salary  :\t10000.0\n",
    "#f1(eno = 25 , empname = 'Sita' , salary = 10000.0)\t# Error\n",
    "f2(empno = 25 , ename = 'Sita' , sal = 10000.0) \t# {'empno':25, 'ename':'Sita', 'sal':10000.0}\n",
    "f2(eno = 25 , empname = 'Sita' , salary = 10000.0)\t# {'eno': 25, 'empname': 'Sita', 'salary': 10000.0}"
   ]
  },
  {
   "cell_type": "code",
   "execution_count": null,
   "id": "3a6d09f9",
   "metadata": {},
   "outputs": [
    {
     "name": "stdout",
     "output_type": "stream",
     "text": [
      "25\n",
      "\n",
      "Hyd\n",
      "(10, 20, 30)\n",
      "\n",
      "10.8\n",
      "(25, 'Hyd', True)\n",
      "{'EmpNo': 12, 'EmpName': 'Rama  Rao', 'Salary': 10000.0}\n"
     ]
    }
   ],
   "source": [
    "# Find  outputs   (Home  work)\n",
    "def    f1(a ,  *b , **c):\n",
    "\tprint(a)\t\n",
    "\tif   b:\n",
    "\t\tprint(b)\n",
    "\tif  c:\n",
    "\t\tprint(c)\n",
    "# End  of  the  function\n",
    "f1(25)\t# 25\n",
    "print()\n",
    "f1('Hyd' , 10 , 20 , 30)\t# Hyd <nextline> (10,20,30)\n",
    "print()\n",
    "f1(10.8 , 25 , 'Hyd' , True , EmpNo = 12 , EmpName = 'Rama  Rao' , Salary = 10000.0)\t# 10.8 <nextline> (25, 'Hyd', True) <nextline> {'EmpNo': 12, 'EmpName': 'Rama  Rao', 'Salary': 10000.0} "
   ]
  },
  {
   "cell_type": "code",
   "execution_count": null,
   "id": "28cb1c35",
   "metadata": {},
   "outputs": [
    {
     "name": "stdout",
     "output_type": "stream",
     "text": [
      "a :  10\n",
      "b :  20\n",
      "c :  30\n",
      "\n",
      "a :  11\n",
      "b :  40\n",
      "c :  31\n",
      "\n",
      "a :  50\n",
      "b :  22\n",
      "c :  32\n",
      "Bye\n"
     ]
    }
   ],
   "source": [
    "#Find  outputs (Home  work)\n",
    "a = 10\n",
    "def   f1():\n",
    "\tb = 40\n",
    "\tprint('a : ' , a)\n",
    "\tprint('b : ' , b)\n",
    "\tprint('c : ' , c)\n",
    "\tprint()\n",
    "# End  of  f1()  function\n",
    "b = 20\n",
    "def    f2():\n",
    "\ta = 50\n",
    "\tprint('a : ' , a)\n",
    "\tprint('b : ' , b)\n",
    "\tprint('c : ' , c)\n",
    "# End  of  f2()  function\n",
    "c = 30\n",
    "print('a : ' , a)\t# a:10 \n",
    "print('b : ' , b)\t# b:20\n",
    "print('c : ' , c)\t# c:30\n",
    "print()\n",
    "a +=  1\t# 11\n",
    "b +=  1\t# 21\n",
    "c +=  1\t# 31\n",
    "f1()\t# a:11 b: 40 c:31\n",
    "a +=  1\t# 12\n",
    "b +=  1\t# 22\n",
    "c +=  1\t# 32\n",
    "f2()\t# a: 50  b: 22  c:32\n",
    "print('Bye')\t# Bye\n",
    "''' \n",
    "outputs:\n",
    "a:10\n",
    "b:20\n",
    "c:30\n",
    "\n",
    "a:11\n",
    "b:40\n",
    "c:31\n",
    "\n",
    "a:50\n",
    "b: 22\n",
    "c: 32\n",
    "Bye\n",
    "'''"
   ]
  },
  {
   "cell_type": "code",
   "execution_count": null,
   "id": "ae350c71",
   "metadata": {},
   "outputs": [
    {
     "name": "stdout",
     "output_type": "stream",
     "text": [
      "10\n",
      "20\n",
      "11\n"
     ]
    }
   ],
   "source": [
    "# Find  outputs (Home  work)\n",
    "def   f1():\n",
    "\ta = 20\n",
    "\tprint(a)\n",
    "\ta += 1\n",
    "#End  of  the  function\n",
    "a = 10\n",
    "print(a)\t# 10\n",
    "a += 1\t# increment to 11\n",
    "f1()\t# 20\n",
    "print(a)\t# 11"
   ]
  }
 ],
 "metadata": {
  "kernelspec": {
   "display_name": "Python 3",
   "language": "python",
   "name": "python3"
  },
  "language_info": {
   "codemirror_mode": {
    "name": "ipython",
    "version": 3
   },
   "file_extension": ".py",
   "mimetype": "text/x-python",
   "name": "python",
   "nbconvert_exporter": "python",
   "pygments_lexer": "ipython3",
   "version": "3.12.10"
  }
 },
 "nbformat": 4,
 "nbformat_minor": 5
}

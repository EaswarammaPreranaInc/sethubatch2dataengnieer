{
 "cells": [
  {
   "cell_type": "code",
   "execution_count": 3,
   "id": "ddb11031",
   "metadata": {},
   "outputs": [
    {
     "name": "stdout",
     "output_type": "stream",
     "text": [
      "{'A': 3, 'O': 1}\n"
     ]
    }
   ],
   "source": [
    "'''\n",
    "(Home  work)\n",
    "Write  a  program  to  determine  frequency  of  each  vowel  in  the  string  in  alphabetical  order (Ignoring  the  case)\n",
    "\n",
    "Let  input  be  RamA    raO\n",
    "What  is  the  output ?  --->  {'A' : 3 , 'O' : 1}\n",
    "\n",
    "Hint:  Same  as  prog23a  with  minor  changes\n",
    "\n",
    "Enter String:RamA raO\n",
    "{'A': 3, 'O': 1}\n",
    "'''\n",
    "s=input('ENter a string : ')\n",
    "a=s.upper()\n",
    "b={}\n",
    "c=sorted(a)\n",
    "for ch in c:\n",
    "    if ch in \"AEIOU\":\n",
    "        b[ch]=b.get(ch,0)+1\n",
    "print(b)\n"
   ]
  },
  {
   "cell_type": "code",
   "execution_count": null,
   "id": "1ff9dc11",
   "metadata": {},
   "outputs": [
    {
     "name": "stdout",
     "output_type": "stream",
     "text": [
      "{'Y': 'Yellow', 'G': 'Green', 'R': 'Red', 'B': 'Blue'}\n"
     ]
    }
   ],
   "source": [
    "# Find outputs (Home  work)\n",
    "a = [ ('R' , 'Red') , ('G' , 'Green') , ('B' , 'Blue')]\n",
    "b = {'Y' : 'Yellow', 'G' : 'Gray'}\n",
    "b . update(a)\n",
    "print(b)    # {'Y': 'Yellow', 'G': 'Green', 'R': 'Red', 'B': 'Blue'}\n",
    "a . update(b)   # Error"
   ]
  },
  {
   "cell_type": "code",
   "execution_count": null,
   "id": "d49f206f",
   "metadata": {},
   "outputs": [
    {
     "name": "stdout",
     "output_type": "stream",
     "text": [
      "{}\n",
      "{}\n"
     ]
    }
   ],
   "source": [
    "#  Find  outputs  (Home  work)\n",
    "a = [ (10 , 20 , 30) , (40 , 50 , 60) , (70 , 80 , 90)]\n",
    "b = {}\n",
    "#b.update(a) # Error\n",
    "print(b)    # {}\n",
    "c = [(10,) , (20,) , (30,)]\n",
    "b . update(c) #Error we need to  pass 2 arg\n",
    "print(b)    #{}"
   ]
  },
  {
   "cell_type": "code",
   "execution_count": null,
   "id": "ed748be2",
   "metadata": {},
   "outputs": [
    {
     "name": "stdout",
     "output_type": "stream",
     "text": [
      "{0: 0, 1: 1, 2: 8, 3: 27, 4: 64}\n",
      "<class 'dict'>\n"
     ]
    }
   ],
   "source": [
    "#  Find  outputs (Home  work)\n",
    "d = {x : x ** 3   for    x   in  range(5)}\n",
    "print(d)    # {0: 0, 1: 1, 2: 8, 3: 27, 4: 64}\n",
    "print(type(d))  # <class dict>"
   ]
  },
  {
   "cell_type": "code",
   "execution_count": 11,
   "id": "262141fb",
   "metadata": {},
   "outputs": [
    {
     "name": "stdout",
     "output_type": "stream",
     "text": [
      "{0: 0, 1: 2, 2: 4, 3: 6, 4: 8}\n"
     ]
    }
   ],
   "source": [
    "# Find outputs   (Home  work)\n",
    "d = { x :  2 * x    for    x   in   range(5) }\n",
    "print(d) #{0:0, 1:2, 2:4, 3:6, 4:8}"
   ]
  },
  {
   "cell_type": "code",
   "execution_count": null,
   "id": "eba2d72f",
   "metadata": {},
   "outputs": [
    {
     "name": "stdout",
     "output_type": "stream",
     "text": [
      "{15: 'Sita', 17: 'Kiran'}\n",
      "{10: 'Rama', 18: 'Rajesh', 12: 'Rama Rao'}\n"
     ]
    }
   ],
   "source": [
    "# Find outputs  (Home  work)\n",
    "a = {10 : 'Rama' , 15 : 'Sita' , 18 : 'Rajesh' , 17 : 'Kiran' , 12 : 'Rama Rao'}\n",
    "b = { k :  v  for   k , v  in   a .items()   if    k % 2 != 0}\n",
    "print(b)    #{15:'sita', 17:'kiran'}\n",
    "c = {k : a[k]   for   k   in    a    if   a[k] . startswith('R')}\n",
    "print(c)    # {10: 'Rama', 18: 'Rajesh', 12: 'Rama Rao'}"
   ]
  },
  {
   "cell_type": "code",
   "execution_count": null,
   "id": "49d1a860",
   "metadata": {},
   "outputs": [
    {
     "name": "stdout",
     "output_type": "stream",
     "text": [
      "Begin\n",
      "Hyd\n",
      "Sec\n",
      "Cyb\n",
      "None\n",
      "<class 'NoneType'>\n",
      "End\n"
     ]
    }
   ],
   "source": [
    "# Find outputs  (Home  work)\n",
    "def   f1():\n",
    "\tprint('Hyd')\n",
    "\tprint('Sec')\n",
    "\tprint('Cyb')\n",
    "# End  of  the  function\n",
    "print('Begin')\t# Begin\n",
    "x = f1()\n",
    "print(x)\t# Hyd <nextline> sec <nextline> Cyb\n",
    "print(type(x))\t#<class 'NoneType'>\n",
    "print('End')\t# End"
   ]
  },
  {
   "cell_type": "code",
   "execution_count": null,
   "id": "d134c3f7",
   "metadata": {},
   "outputs": [
    {
     "name": "stdout",
     "output_type": "stream",
     "text": [
      "(10, 20, 30)\n",
      "<class 'tuple'>\n",
      "10\n",
      "20\n",
      "30\n",
      "for  loop\n",
      "10\n",
      "20\n",
      "30\n"
     ]
    }
   ],
   "source": [
    "# Find  outputs  (Home  work)\n",
    "def  f1():\n",
    "\treturn  10 , 20 , 30\n",
    "# End  of  the  function\n",
    "x = f1()\n",
    "print(x)\t# (10,20,30)\n",
    "print(type(x))\t# <class 'tuple'>\n",
    "a , b , c =  f1()\n",
    "print(a)\t# 10\n",
    "print(b)\t# 20\n",
    "print(c)\t# 30\n",
    "print('for  loop')\t# for loop\n",
    "for  k   in   f1():\n",
    "\tprint(k)\t# 10 <next line> 20 <next line> 30"
   ]
  },
  {
   "cell_type": "code",
   "execution_count": null,
   "id": "c9d981b7",
   "metadata": {},
   "outputs": [
    {
     "name": "stdout",
     "output_type": "stream",
     "text": [
      "Begin\n",
      "10\n",
      "End\n"
     ]
    }
   ],
   "source": [
    "# Find  outputs\n",
    "def    f1():\n",
    "        return  10\n",
    "        return  20\n",
    "        return  30\n",
    "# End  of  the  function\n",
    "print('Begin')  # Begin\n",
    "x = f1()\n",
    "print(x)        # 10\n",
    "print('End')    # End \n",
    "return   100    # error bcz outside the loop"
   ]
  },
  {
   "cell_type": "code",
   "execution_count": null,
   "id": "643a4ce2",
   "metadata": {},
   "outputs": [
    {
     "name": "stdout",
     "output_type": "stream",
     "text": [
      "Hello\n",
      "None\n",
      "<function f1 at 0x00000277AD914220>\n"
     ]
    }
   ],
   "source": [
    "#  Find  outputs\n",
    "f1()\n",
    "def   f1():\n",
    "        print('Hello')\n",
    "print(f1())     # Hello\n",
    "print(f1)       # <function f1 at 0x8765098762345>"
   ]
  },
  {
   "cell_type": "code",
   "execution_count": 18,
   "id": "76ed17d3",
   "metadata": {},
   "outputs": [
    {
     "name": "stdout",
     "output_type": "stream",
     "text": [
      "Hello\n",
      "Hi\n",
      "f1  function\n",
      "None\n",
      "<function f1 at 0x00000277AD9149A0>\n",
      "Bye\n"
     ]
    }
   ],
   "source": [
    "# Find  outputs  (Home  work)\n",
    "print('Hello')  # Hello\n",
    "def  f1():\n",
    "        print('f1  function')\n",
    "#End  of   function\n",
    "print('Hi')     # Hi\n",
    "print(f1())     # f1  function\n",
    "print(f1)       # <function f1 at 0x 13432332112>\n",
    "print('Bye')    # Bye"
   ]
  },
  {
   "cell_type": "code",
   "execution_count": null,
   "id": "58254e4a",
   "metadata": {},
   "outputs": [
    {
     "name": "stdout",
     "output_type": "stream",
     "text": [
      "Begin\n",
      "<class 'function'>\n",
      "2713036341632\n",
      "End\n"
     ]
    }
   ],
   "source": [
    "#  Find  outputs\n",
    "def    f1():\n",
    "        print('Hyd')\n",
    "        print('Sec')\n",
    "        print('Cyb')\n",
    "#End  of  the  function\n",
    "print('Begin')  # Begin\n",
    "print(type(f1)) # <Class 'function'>\n",
    "print(id(f1))   # 865234567891\n",
    "print('End')    # End"
   ]
  },
  {
   "cell_type": "code",
   "execution_count": null,
   "id": "7d2f01ec",
   "metadata": {},
   "outputs": [
    {
     "name": "stdout",
     "output_type": "stream",
     "text": [
      "30\n",
      "Hyderabad\n",
      "31.400000000000002\n",
      "1\n",
      "(8+10j)\n",
      "35.8\n",
      "[25, 10.8, 'Hyd', True, None, (3+4j), 'Sec']\n"
     ]
    }
   ],
   "source": [
    "#  Find  outputs (Home  work)\n",
    "def   add(a , b):\n",
    "        return  a + b\n",
    "#End  of  the  function\n",
    "print(add(10 , 20))     # 30\n",
    "print(add('Hyder' , 'abad'))    # Hyderabad\n",
    "print(add(10.8 , 20.6)) # 31.4\n",
    "print(add(True , False))        # 1\n",
    "print(add(3 + 4j , 5 + 6j))     #8+10j\n",
    "print(add(25 , 10.8))   # 35.8\n",
    "print(add([25 , 10.8 , 'Hyd'] , [True , None , 3+4j , 'Sec']))  # [25, 10.8, 'Hyd', True, None, (3+4j), 'Sec']\n",
    "print(add(10 , '20'))   # Error"
   ]
  },
  {
   "cell_type": "code",
   "execution_count": null,
   "id": "aab1e42d",
   "metadata": {},
   "outputs": [
    {
     "name": "stdout",
     "output_type": "stream",
     "text": [
      "Three  argument  function :  10 20 30\n"
     ]
    }
   ],
   "source": [
    "# Find  outputs (Home  work)\n",
    "def  f1():\n",
    "\tprint('No-argument  function')\n",
    "def  f1(x):\n",
    "\tprint('Single  argument  function  : ' , x)\n",
    "def  f1(x , y):\n",
    "\tprint('Two  argument  function : ' , x , y)\n",
    "def  f1(x , y , z):\n",
    "\tprint('Three  argument  function : ' , x , y , z)\n",
    "f1(10 , 20 , 30)\t# Three argument function 10 20 30\n",
    "f1(40 , 50)\t# Error 3rd arg is missing bcz last function is executing\n",
    "f1(60)\t# Error\n",
    "f1()\t# error"
   ]
  },
  {
   "cell_type": "code",
   "execution_count": 40,
   "id": "a45fc2bf",
   "metadata": {},
   "outputs": [
    {
     "data": {
      "text/plain": [
       "True"
      ]
     },
     "execution_count": 40,
     "metadata": {},
     "output_type": "execute_result"
    }
   ],
   "source": [
    "'''\n",
    "Write   a  function  to  test  a  number  is  prime  (or)  not.\n",
    "1) What  is  a  prime  number ?  ---> A  number  without  divisors  except  1  and  itself\n",
    "\n",
    "2) Let  input  be  25\n",
    "    What  is  the  range  of  divisors ? ---> i =   2 , 3 , 4 , 5 , 6 , .....  12\n",
    "\n",
    "3) Let  input   be  11\n",
    "    What  is   the  range  of  divisors ? ---> i =  2 , 3 , 4 , 5\n",
    "\n",
    "4) What  action  to  be  made  if  'i'  is  not  a  divisor  of  input  number ?  ---> Move  to  the  next  element  of  range  object\n",
    "\n",
    "5) What  action  to  be  made  if  'i'  is  a  divisor  of  input  number ?  --->  return   False\n",
    "\n",
    "6) What  action  to  be  made  if  there  are  no  divisiors  to  input  number  ? ---> return  True  outside  the  loop\n",
    "'''\n",
    "# def   prime(n):\n",
    "# \treturn  true   when  'n'  is  prime  number  and  False  otherwise\n",
    "'''\n",
    "1) prime(25)  --->\n",
    "    How  many  times  is  for  loop  executed ?  --->\n",
    "\n",
    "2) prime(11) --->\n",
    "    How  many  times  is  for  loop  executed ?  --->\n",
    "\n",
    "3) prime(2) --->\n",
    "    How  many  times  is  for  loop  executed ?  --->\n",
    "\n",
    "4) prime(49) --->\n",
    "    How  many  times  is  for  loop  executed ?  --->\n",
    "\t\n",
    "How  to  read  a  number\n",
    "if   input  is  invalid:\n",
    "\tprint('Invalid  input')\n",
    "elif  input  is  prime  number:\n",
    "\tprint('Prime  number')\n",
    "else:\n",
    "\tprint('Composite  number')\n",
    "\t'''\n",
    "\t\n",
    "def prime(n):\n",
    "\tfor i in range(2,n):\n",
    "\t\tif n%i==0:\n",
    "\t\t\treturn False\n",
    "\treturn True\n",
    "prime(13)"
   ]
  },
  {
   "cell_type": "code",
   "execution_count": null,
   "id": "b740a376",
   "metadata": {},
   "outputs": [
    {
     "name": "stdout",
     "output_type": "stream",
     "text": [
      "Emp  Number  :  25 \t  Emp Name  :  Rama  Rao \t  Salary  :  10000.0\n",
      "Emp  Number  :  Sita \t  Emp Name  :  20000.0 \t  Salary  :  35\n"
     ]
    }
   ],
   "source": [
    "# Find  outputs  (Home  work)\n",
    "def   disp(empno , ename , sal):\n",
    "        print(F'Emp  Number  :  {empno} \\t  Emp Name  :  {ename} \\t  Salary  :  {sal}')\n",
    "# End  of  the  function\n",
    "disp(25 , 'Rama  Rao' , 10000.0)        # Emp Number: 25        Emp Name : Rama Rao     Salary: 10000.0\n",
    "disp('Sita' , 20000.0 , 35)     # Emp  Number  :  Sita \t  Emp Name  :  20000.0 \t  Salary  :  35"
   ]
  }
 ],
 "metadata": {
  "kernelspec": {
   "display_name": "Python 3",
   "language": "python",
   "name": "python3"
  },
  "language_info": {
   "codemirror_mode": {
    "name": "ipython",
    "version": 3
   },
   "file_extension": ".py",
   "mimetype": "text/x-python",
   "name": "python",
   "nbconvert_exporter": "python",
   "pygments_lexer": "ipython3",
   "version": "3.12.10"
  }
 },
 "nbformat": 4,
 "nbformat_minor": 5
}

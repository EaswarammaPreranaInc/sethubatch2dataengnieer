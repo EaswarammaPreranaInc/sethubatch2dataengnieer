{
 "cells": [
  {
   "cell_type": "raw",
   "id": "deb39471-1cd5-456f-b3db-f5e8564d9e9b",
   "metadata": {},
   "source": [
    "'''\n",
    "##  Write  a  program  to  test  year  is  leap  year  or  not\n",
    "\n",
    "#### 1) What  is  leap  year ?  --->  Divisible  by  4  but  not  by  100   (or)  divisble  by  400\n",
    "\n",
    "#### 2) Are  2016 , 2020 , 2024  leap  years ? --->  Yes  becoz  leap  year  for  every  4  yearrs\n",
    "\n",
    "#### 3) Are  1700 , 1800 , 1900  leap  years ? --->  No  becoz  no  leap  year  for  every  100  years\n",
    "\n",
    "#### 4) Are  1600 , 2000 , 2400  leap  years ?  --->  Yes  becoz  leap  year  for  every  400  years\n",
    "\n",
    "#### 5) Hint:  single  if  with  3  conditions  and  else\n",
    "'''"
   ]
  },
  {
   "cell_type": "code",
   "execution_count": 19,
   "id": "a1feb94e-e887-422d-a879-bb447f1634f4",
   "metadata": {},
   "outputs": [
    {
     "name": "stdin",
     "output_type": "stream",
     "text": [
      "Enter year:  2016\n"
     ]
    },
    {
     "name": "stdout",
     "output_type": "stream",
     "text": [
      "2016 is a leap year\n"
     ]
    }
   ],
   "source": [
    "year = int(input('Enter year: '))\n",
    "\n",
    "if (year % 400 == 0) or (year % 4 == 0 and year % 100 != 0):\n",
    "    print(f'{year} is a leap year')\n",
    "else:\n",
    "    print(f'{year} is not a leap year')\n"
   ]
  },
  {
   "cell_type": "markdown",
   "id": "adb699fd-0054-42ff-ae42-2467fcef33af",
   "metadata": {},
   "source": [
    "'''\n",
    "## Write  a  program  to  determine  largest  of  three  numbers  with  if  and  else\n",
    "\n",
    "Hint:  Write  multiple  conditions\n",
    "'''"
   ]
  },
  {
   "cell_type": "code",
   "execution_count": 23,
   "id": "2bc8ec1c-dcab-493d-83b7-acf10f8c8728",
   "metadata": {},
   "outputs": [
    {
     "name": "stdin",
     "output_type": "stream",
     "text": [
      "Enter first number:  2\n",
      "Enter second number:  4\n",
      "Enter third number:  2\n"
     ]
    },
    {
     "name": "stdout",
     "output_type": "stream",
     "text": [
      "4 is the largest\n"
     ]
    }
   ],
   "source": [
    "a = int(input('Enter first number: '))\n",
    "b = int(input('Enter second number: '))\n",
    "c = int(input('Enter third number: '))\n",
    "\n",
    "if a > b:\n",
    "    if a > c:\n",
    "        print(f'{a} is the largest')\n",
    "    else:\n",
    "        print(f'{c} is the largest')\n",
    "else:\n",
    "    if b > c:\n",
    "        print(f'{b} is the largest')\n",
    "    else:\n",
    "        print(f'{c} is the largest')\n"
   ]
  },
  {
   "cell_type": "raw",
   "id": "18f3f1a9-19f4-4173-b1d3-29027ff73d96",
   "metadata": {},
   "source": [
    "'''\n",
    "## Write  a  program  to  convert  celsius  temperature  to  farenheit  and  vice-versa\n",
    "\n",
    "### 1) What  is  the  formula  to  convert  celsius  to  farenheit ? --->  1.8 * temp + 32\n",
    "\n",
    "### 2) What  is  the  formula  to  convert  farenheit  to  celsius ?  --->  (temp - 32) / 1.8\n",
    "'''"
   ]
  },
  {
   "cell_type": "code",
   "execution_count": 25,
   "id": "d7cf6388-b37a-4e94-ad01-06bb066b9461",
   "metadata": {},
   "outputs": [
    {
     "name": "stdin",
     "output_type": "stream",
     "text": [
      "Enter 1 to convert Celsius to Fahrenheit and 2 to convert Fahrenheit to Celsius:  2\n",
      "Enter Fahrenheit temperature:  32.5\n"
     ]
    },
    {
     "name": "stdout",
     "output_type": "stream",
     "text": [
      "Celsius Equivalent: 0.2777777777777778\n"
     ]
    }
   ],
   "source": [
    "choice = int(input(\"Enter 1 to convert Celsius to Fahrenheit and 2 to convert Fahrenheit to Celsius: \"))\n",
    "\n",
    "match choice:\n",
    "    case 1:\n",
    "        celsius = float(input(\"Enter Celsius temperature: \"))\n",
    "        fahrenheit = 1.8 * celsius + 32\n",
    "        print(f\"Fahrenheit Equivalent: {fahrenheit}\")\n",
    "    case 2:\n",
    "        fahrenheit = float(input(\"Enter Fahrenheit temperature: \"))\n",
    "        celsius = (fahrenheit - 32) / 1.8\n",
    "        print(f\"Celsius Equivalent: {celsius}\")\n",
    "    case _:\n",
    "        print(\"Invalid input \")\n"
   ]
  },
  {
   "cell_type": "raw",
   "id": "5c029740-4bd5-4b95-bcaf-f3993f88d075",
   "metadata": {},
   "source": [
    "'''\n",
    "### Write  a  program  to  test  a  point  (x , y)  lies  in  1st  quadrant , 2nd  quadrant , 3rd  quadrant ,\n",
    "### 4th  quadrant , x - axis , y - axis   or  origin\n",
    "\n",
    "1) What  are  the  values  of  x  and  y  in  1st  quadrant ?  --->  Both  are  +ve\n",
    "\n",
    "2) What  are  the  values  of  x  and  y  in  2nd  quadrant ?  --->  'x'  is  -ve  and  'y'  is  +ve\n",
    "\n",
    "3) What  are  the  values  of  x  and  y  in  3rd  quadrant ?  ---> Both   are  -ve\n",
    "\n",
    "4) What  are  the  values  of  x  and  y  in  4th  quadrant ?  --->  'x'  is   +ve  and  'y'  is  -ve\n",
    "\n",
    "5) What  are  the  values  of  x  and  y  on  x - axis ?  ---> 'x'  is  non-zero  and  'y'  is  0\n",
    "\n",
    "6) What  are  the  values  of  x  and  y  on  y - axis ?  --->  'x'  is  0  and  'y'  is  non-zero\n",
    "\n",
    "7) What  are  the  values  of  x  and  y  if  point  is  origin ?  --->  Both  are  zeroes\n",
    "\n",
    "8) Hint:  Use  if  ..   elif\n",
    "'''"
   ]
  },
  {
   "cell_type": "code",
   "execution_count": 27,
   "id": "a8c9e651-10f3-4376-be2b-bb316ca6b3ff",
   "metadata": {},
   "outputs": [
    {
     "name": "stdin",
     "output_type": "stream",
     "text": [
      "Enter x-coordinate:  -2\n",
      "Enter y-coordinate:  -4\n"
     ]
    },
    {
     "name": "stdout",
     "output_type": "stream",
     "text": [
      "The point (-2, -4) lies in the 3rd quadrant.\n"
     ]
    }
   ],
   "source": [
    "x = int(input(\"Enter x-coordinate: \"))\n",
    "y = int(input(\"Enter y-coordinate: \"))\n",
    "\n",
    "if x > 0 and y > 0:\n",
    "    print(f\"The point ({x}, {y}) lies in the 1st quadrant.\")\n",
    "elif x < 0 and y > 0:\n",
    "    print(f\"The point ({x}, {y}) lies in the 2nd quadrant.\")\n",
    "elif x < 0 and y < 0:\n",
    "    print(f\"The point ({x}, {y}) lies in the 3rd quadrant.\")\n",
    "elif x > 0 and y < 0:\n",
    "    print(f\"The point ({x}, {y}) lies in the 4th quadrant.\")\n",
    "elif x != 0 and y == 0:\n",
    "    print(f\"The point ({x}, {y}) lies on the x-axis.\")\n",
    "elif x == 0 and y != 0:\n",
    "    print(f\"The point ({x}, {y}) lies on the y-axis.\")\n",
    "else:\n",
    "    print(f\"The point ({x}, {y}) lies at the origin.\")\n"
   ]
  },
  {
   "cell_type": "raw",
   "id": "7d136508-625c-46d6-b230-9fb0406a5dd7",
   "metadata": {},
   "source": [
    "'''\n",
    "## Write  a  program  to  determine  largest , smallest  and  middle  of  three  numbers\n",
    "\n",
    "a = 10\n",
    "b = 20\n",
    "c = 7\n",
    "max =  20\n",
    "min =  7\n",
    "mid =  (10 + 20 + 7) - (20 + 7) = 10\n",
    "\n",
    "1) What  is  the  initial  value  of  max  ?  --->  a\n",
    "\n",
    "2) Whichever  input >  max,  assign  that  input  to  max\n",
    "\n",
    "3) What  is  the  initial  value  of  min  ?  --->  'a'\n",
    "\n",
    "4) Whichever  input  <  min,  assign  that  input  to  min\n",
    "\n",
    "5) How  to  obtain  middle  number ?  ---> Eliminate  max  and  min  from  a , b , c\n",
    "\n",
    "6) Hint : Do  not  use  else  in  the  program\n",
    "'''"
   ]
  },
  {
   "cell_type": "code",
   "execution_count": 29,
   "id": "35c0d689-0301-49af-9604-4a76866b032c",
   "metadata": {},
   "outputs": [
    {
     "name": "stdin",
     "output_type": "stream",
     "text": [
      "Enter first number:  3.\n",
      "Enter second number:  54.6\n",
      "Enter third number:  23.8\n"
     ]
    },
    {
     "name": "stdout",
     "output_type": "stream",
     "text": [
      "Maximum number: 54.6\n",
      "Minimum number: 3.0\n",
      "Middle number: 23.800000000000004\n"
     ]
    }
   ],
   "source": [
    "a = float(input('Enter first number: '))\n",
    "b = float(input('Enter second number: '))\n",
    "c = float(input('Enter third number: '))\n",
    "\n",
    "maximum = a\n",
    "\n",
    "if(b>maximum ):\n",
    "    maximum = b\n",
    "if(c>maximum ):\n",
    "    maximum = c\n",
    "\n",
    "minimum = a\n",
    "if b<minimum:\n",
    "    minimum = b\n",
    "if c<minimum:\n",
    "    minimum = c\n",
    "\n",
    "middle = (a+b+c)-(maximum+minimum)\n",
    "\n",
    "print(f\"Maximum number: {maximum}\")\n",
    "print(f\"Minimum number: {minimum}\")\n",
    "print(f\"Middle number: {middle}\")"
   ]
  },
  {
   "cell_type": "raw",
   "id": "c526296f-0970-4431-956e-671c29828028",
   "metadata": {},
   "source": [
    "'''\n",
    "Write  a  program  to  determine  three  sides  form  a  triangle  or  not\n",
    "\n",
    "1) Find  area  if  it  is  an  equilateral  triangle\n",
    "    What  is  an  equilateral  triangle ?  ---> All  the  three  sides  should  be  same\n",
    "    What  is  the  area  of  equilateral  triangle ?  --->  sqrt(3) / 4 * a ^ 2\n",
    "\n",
    "2) Find  perimeter  if  it  is  an  isosceles  triangle\n",
    "    What  is  an  isoscles  triangle ?  ---> Any  two  sides  are  same\n",
    "    What   is  the  perimeter  of  isoscles  triangle ?  ---> a + b + c\n",
    "\n",
    "3) Find  both  if  it  is  scalene  triangle\n",
    "    What  is  a  scalene  triangle ?  ---> All  the  three  sides  are  different\n",
    "    What  is  the  area  of  scalene  triangle ?  ---> sqrt(s * (s - a) * (s - b) * (s - c))\n",
    "\tWhat  is  the  value  of  's'  ?  --->  \t(a + b + c) / 2\n",
    "    What   is  the  perimeter  of  scalene  triangle ?  --->  a + b + c\n",
    "\n",
    "4) What  is  the  qualification  of  triangle  ?  --->  Sum  of  every  two  sides  should  be  >  3rd  side\n",
    "\n",
    "5) Hint: Use  nested  if\n",
    "'''"
   ]
  },
  {
   "cell_type": "code",
   "execution_count": 31,
   "id": "eec47a78-e8a7-47f8-902c-97c6d2200e72",
   "metadata": {},
   "outputs": [
    {
     "name": "stdin",
     "output_type": "stream",
     "text": [
      "Enter side a:  3.4\n",
      "Enter side b:  3.4\n",
      "Enter side c:  5\n"
     ]
    },
    {
     "name": "stdout",
     "output_type": "stream",
     "text": [
      "The sides form a triangle.\n",
      "It is an Isosceles triangle.\n",
      "Perimeter of Isosceles triangle: 11.8\n"
     ]
    }
   ],
   "source": [
    "import math\n",
    "\n",
    "\n",
    "a = float(input(\"Enter side a: \"))\n",
    "b = float(input(\"Enter side b: \"))\n",
    "c = float(input(\"Enter side c: \"))\n",
    "\n",
    "\n",
    "if (a + b > c) and (a + c > b) and (b + c > a):\n",
    "    print(\"The sides form a triangle.\")\n",
    "    \n",
    "    if a == b and b == c:\n",
    "        print(\"It is an Equilateral triangle.\")\n",
    "        area = (math.sqrt(3) / 4) * a * a\n",
    "        print(f\"Area of Equilateral triangle: {area}\")\n",
    "        \n",
    "    if (a == b and b != c) or (b == c and c != a) or (a == c and c != b):\n",
    "        print(\"It is an Isosceles triangle.\")\n",
    "        perimeter = a + b + c\n",
    "        print(f\"Perimeter of Isosceles triangle: {perimeter}\")\n",
    "        \n",
    "    if a != b and b != c and a != c:\n",
    "        print(\"It is a Scalene triangle.\")\n",
    "        perimeter = a + b + c\n",
    "        s = perimeter / 2\n",
    "        area = math.sqrt(s * (s - a) * (s - b) * (s - c))\n",
    "        print(f\"Perimeter of Scalene triangle: {perimeter}\")\n",
    "        print(f\"Area of Scalene triangle: {area}\")\n",
    "        \n",
    "else:\n",
    "    print(\"The given sides do NOT form a triangle.\")\n"
   ]
  },
  {
   "cell_type": "raw",
   "id": "9fadd76f-1a41-4c98-8270-4dcdc78d27eb",
   "metadata": {},
   "source": [
    "'''\n",
    "Write  a  program  to  determine  roots  of  a  quadtratic  equation  a * x ^ 2 + b * x + c = 0  where  a  ! = 0\n",
    "\n",
    "1) What  is  the  value  of  discriminant ?  --->  b ^ 2 - 4ac\n",
    "\n",
    "2) What  are  the  roots  called  if  disc > 0 ?  --->  Real  and  distinct\n",
    "     What  is  the  formula  for  root1  ?  ---> (-b + sqrt(disc)) / 2a\n",
    "     What  is  the  formula  for  root2 ?  ---> (-b - sqrt(disc)) / 2a\n",
    "\n",
    "3) What  are  the  roots  called  if  disc  is  0 ?  --->  Real  and  same\n",
    "     What  is  the  formula  for  root  ?  --->  -b / 2a\n",
    "\n",
    "4) What  are  the  roots  called  if  disc < 0 ?  --->  Complex  (or)  Imaginary  roots\n",
    "     What  is  the  formula  for  real  part ?  --->  -b / 2a\n",
    "\t What  is  the  formula  for  imag  part ?  --->  sqrt(-disc) / 2a\n",
    "\t What  is  root1  if  real  part  is  3  and  imag  part  is  4 ?  ---> 3 + 4j\n",
    "\t What  is  root2  if  real  part  is  3  and  imag  part  is  4 ?  --->  3 - 4j\n",
    "'''"
   ]
  },
  {
   "cell_type": "code",
   "execution_count": 32,
   "id": "3c427db9-f2db-4fcd-a16f-db4c20a7be3d",
   "metadata": {},
   "outputs": [
    {
     "name": "stdin",
     "output_type": "stream",
     "text": [
      "Enter coefficient a (non-zero):  2\n",
      "Enter coefficient b:  4\n",
      "Enter coefficient c:  5\n"
     ]
    },
    {
     "name": "stdout",
     "output_type": "stream",
     "text": [
      "Discriminant: -24.0\n",
      "Roots are Complex or Imaginary.\n",
      "Root 1: -1.0 + 1.224744871391589j\n",
      "Root 2: -1.0 - 1.224744871391589j\n"
     ]
    }
   ],
   "source": [
    "import math\n",
    "\n",
    "a = float(input(\"Enter coefficient a (non-zero): \"))\n",
    "b = float(input(\"Enter coefficient b: \"))\n",
    "c = float(input(\"Enter coefficient c: \"))\n",
    "\n",
    "if a != 0:\n",
    "    disc = b**2 - 4*a*c\n",
    "    print(f\"Discriminant: {disc}\")\n",
    "\n",
    "    if disc > 0:\n",
    "        print(\"Roots are Real and Distinct.\")\n",
    "        root1 = (-b + math.sqrt(disc)) / (2 * a)\n",
    "        root2 = (-b - math.sqrt(disc)) / (2 * a)\n",
    "        print(f\"Root 1: {root1}\")\n",
    "        print(f\"Root 2: {root2}\")\n",
    "    elif disc == 0:\n",
    "        print(\"Roots are Real and Equal.\")\n",
    "        root = -b / (2 * a)\n",
    "        print(f\"Root: {root}\")\n",
    "    else:\n",
    "        print(\"Roots are Complex or Imaginary.\")\n",
    "        real_part = -b / (2 * a)\n",
    "        imag_part = math.sqrt(-disc) / (2 * a)\n",
    "        print(f\"Root 1: {real_part} + {imag_part}j\")\n",
    "        print(f\"Root 2: {real_part} - {imag_part}j\")\n",
    "else:\n",
    "    print(\"Invalid input: Coefficient 'a' must not be zero.\")\n"
   ]
  },
  {
   "cell_type": "raw",
   "id": "184cc857-3f27-497d-8820-5aa49b786b21",
   "metadata": {},
   "source": [
    "'''\n",
    "Write  a  program   to  determine  a  point (x , y)  lies  inside , outside  or  on  the  circle.\n",
    "Center  is  origin  and  radius  is  'r'\n",
    "\n",
    "1) What  is  the  distance  between  origin  and  point (x , y) ?  --->  sqrt(x ^ 2 + y ^ 2)\n",
    "\n",
    "2) Where  is  the  point  if  distance >  raidus ?  --->  Outside  the  circle\n",
    "\n",
    "3) Where  is  the  point  if  distance < raidus ?  --->  Inside  the  circle\n",
    "\n",
    "4) Where  is  the  point  if  distance  and  raidus   are  same ?  ---> On  the  circle\n",
    "'''"
   ]
  },
  {
   "cell_type": "code",
   "execution_count": 33,
   "id": "13aceb04-f8d2-44ae-9091-a9d6e5aa8fa3",
   "metadata": {},
   "outputs": [
    {
     "name": "stdin",
     "output_type": "stream",
     "text": [
      "Enter radius of the circle:  3\n",
      "Enter x-coordinate of the point:  2\n",
      "Enter y-coordinate of the point:  3\n"
     ]
    },
    {
     "name": "stdout",
     "output_type": "stream",
     "text": [
      "Distance from origin: 3.605551275463989\n",
      "The point (2.0, 3.0) lies OUTSIDE the circle.\n"
     ]
    }
   ],
   "source": [
    "import math\n",
    "\n",
    "r = float(input(\"Enter radius of the circle: \"))\n",
    "\n",
    "x = float(input(\"Enter x-coordinate of the point: \"))\n",
    "y = float(input(\"Enter y-coordinate of the point: \"))\n",
    "\n",
    "distance = math.sqrt(x**2 + y**2)\n",
    "print(f\"Distance from origin: {distance}\")\n",
    "\n",
    "if distance < r:\n",
    "    print(f\"The point ({x}, {y}) lies INSIDE the circle.\")\n",
    "elif distance == r:\n",
    "    print(f\"The point ({x}, {y}) lies ON the circle.\")\n",
    "else:\n",
    "    print(f\"The point ({x}, {y}) lies OUTSIDE the circle.\")\n"
   ]
  },
  {
   "cell_type": "code",
   "execution_count": null,
   "id": "6b24fdf3-3ac7-4100-b04f-b52179c36ff3",
   "metadata": {},
   "outputs": [],
   "source": [
    "# Find  outputs  (Home  work)\n",
    "m = 4\n",
    "match  m:\n",
    "\tcase  1:\n",
    "\t\tprint('One')\n",
    "\tcase  2:\n",
    "\t\tprint('Two')\n",
    "\tcase  3:\n",
    "\t\tprint('Three')\n",
    "print('Bye')#Bye"
   ]
  },
  {
   "cell_type": "code",
   "execution_count": null,
   "id": "c9355c8c-9d9b-4aa2-b23a-04a36a5c18f1",
   "metadata": {},
   "outputs": [],
   "source": [
    "# Identify  Error\n",
    "i = 2\n",
    "match  i:\n",
    "\tcase  1:\n",
    "\t\tprint('One')\n",
    "\tcase  _:\n",
    "\t\tprint('None of   the  above')\n",
    "\tcase  2:\n",
    "\t\tprint('Two')\n",
    "print('Bye')\n",
    "#o/p\n",
    "#None of  the above\n",
    "#Two\n",
    "#Bye"
   ]
  },
  {
   "cell_type": "code",
   "execution_count": null,
   "id": "79c84054-aab3-4777-91a3-895fb0b2dc77",
   "metadata": {},
   "outputs": [],
   "source": [
    "# Find  outputs  (Home  work)\n",
    "m = 2\n",
    "match  m:\n",
    "\tcase  1:\n",
    "\t\tprint('One')\n",
    "\tcase  _:\n",
    "\t\tprint('Hello')\n",
    "\tcase  _:\n",
    "\t\tprint('Bye')\n",
    "print('End')#End\n"
   ]
  },
  {
   "cell_type": "code",
   "execution_count": null,
   "id": "2f749bbc-939d-47ec-9d4b-2be467281963",
   "metadata": {},
   "outputs": [],
   "source": [
    "#  Find  outputs  (Home  work)\n",
    "m = 1\n",
    "match  m:\n",
    "\tcase  1:\n",
    "\t\tprint('Hyd')#Hyd\n",
    "\tcase  1:\n",
    "\t\tprint('Sec')\n",
    "\tcase  1:\n",
    "\t\tprint('Cyb')\n",
    "print('Bye')"
   ]
  },
  {
   "cell_type": "code",
   "execution_count": null,
   "id": "cf90c457-50d9-4786-9ab2-be9299709fd9",
   "metadata": {},
   "outputs": [],
   "source": [
    "# Find  outputs  (Home  work)\n",
    "ch = 'B'\n",
    "match  ch:#error match case should not allow reference\n",
    "\tcase   'A':\n",
    "\t\tprint('Apple')\n",
    "\tcase  'B':\n",
    "\t\tprint('Book')#Book\n",
    "\tcase  'C':\n",
    "\t\tprint('Cafe')\n",
    "\tcase  _:\n",
    "\t\tprint('None of  the  above')\n",
    "print('Bye')#Bye"
   ]
  },
  {
   "cell_type": "code",
   "execution_count": null,
   "id": "fef1207a-f2aa-4991-9174-14bec07ecfce",
   "metadata": {},
   "outputs": [],
   "source": [
    "'''\n",
    "1) What  are  the  outputs  if  input  is  -6 ? --->#Hyd sec cyb\n",
    "2) What  are  the  outputs  if  input  is  15  ?  --->#one two three\n",
    "3) What  are  the  outputs  if  input  is  10.8  ?  --->#india china usa\n",
    "4) What  are  the  outputs  if  input  is  0  ?  --->#Hyd sec cyb\n",
    "5) What  are  the  outputs  if  input  is  -10  ?  --->#one two three\n",
    "6) What  are  the  outputs  if  input  is  7  ?  --->##Hyd sec cyb\n",
    "'''\n",
    "x = eval(input('Enter any  number :  '))\n",
    "match  x:\n",
    "\tcase  7 |  -6  |  0:\n",
    "\t\tprint('Hyd')\n",
    "\t\tprint('Sec')\n",
    "\t\tprint('Cyb')\n",
    "\tcase  -10 | 15:\n",
    "\t\tprint('One')\n",
    "\t\tprint('Two')\n",
    "\t\tprint('Three')\n",
    "\tcase  _:\n",
    "\t\tprint('India')\n",
    "\t\tprint('China')\n",
    "\t\tprint('Usa')\n",
    "# End  of  match\n",
    "print('Bye')"
   ]
  },
  {
   "cell_type": "code",
   "execution_count": null,
   "id": "fc6d70a2-1af3-4378-a406-1f0126e62da2",
   "metadata": {},
   "outputs": [],
   "source": [
    "'''\n",
    "1) What  is  the  output  when  input  is  (-10 , -20) ?  --->#Quadrant\n",
    "2) What  is  the  output  when  input  is  (10 , 0) ?  --->#x - axis \n",
    "3) What  is  the  output  when  input  is  (0 , -20) ?  --->#y - axis\n",
    "4) What  is  the  output  when  input  is  (0 , 0) ?  --->#origin\n",
    "5) What  is  the  output  when  input  is  (10 , 20 , 30) ?  --->#not a point\n",
    "6) What  is  the  output  when  input  is  [10 , 20]  ?  --->#Quadrant\n",
    "7) What  is  the  output  when  input  is  [0 , -25]  ?  --->#y - axis\n",
    "8) What  is  the  output  when  input  is  ()  ?  --->\n",
    "9) What  is  the  output  when  input  is  {10 , 20} ?  --->#Quadrant\n",
    "10) What  is  the  output  when  input  is  (25,) ?  --->#not a quadrant\n",
    "11) What  is  the  output  when  input  is  {10 : 20} ?  --->\n",
    "'''\n",
    "tpl = eval(input('Enter  any  point  in  the  form  of  (x , y) :  '))\n",
    "match  tpl:\n",
    "\tcase  (0 , 0):\n",
    "\t\tprint('Origin')\n",
    "\tcase   (0 , y):\n",
    "\t\tprint('y - axis')\n",
    "\tcase   (x , 0):\n",
    "\t\tprint('x - axis')\n",
    "\tcase   (x , y):\n",
    "\t\tprint('Quadrant')\n",
    "\tcase  _:\n",
    "\t\tprint('Not  a  point')"
   ]
  },
  {
   "cell_type": "raw",
   "id": "96d00845-e892-4718-9498-04f641aa5ed9",
   "metadata": {},
   "source": [
    "'''\n",
    "Write  a  program  to  determine  bill  amount  and  input  is  units\n",
    "\n",
    "Units                                                      Cost\n",
    "------------------------------------------------------------\n",
    "First  100  units(0 - 99)\t\t\t\t\tRs. 3.00 / unit\n",
    "\n",
    "Next  100  units(100 - 199)\t\t\t\tRs. 3.50 / unit\n",
    "\n",
    "Next  200  units(200 - 399)\t\t    \tRs. 4.00 / unit\n",
    "\n",
    "Next  300  units(400 - 699)\t\t\t\tRs. 4.50 / unit\n",
    "\n",
    "Above  700  units(>= 700)\t\t\t\tRs. 5.00 / unit\n",
    "---------------------------------------------------------------\n",
    "Let  units  be  1200\n",
    "What  is  the  bill  amount ? --->  100 * 3.00 + 100 * 3.50 + 200 * 4.00 + 300 * 4.50 + 500 * 5.00\n",
    "\n",
    "Hint:  Use  match  ...  case   but  not  if ... else\n",
    "'''\n",
    "units = int(input('Enter  units :   '))  #  75\n",
    "match  units // 100:\n",
    "\tcase  0:\n",
    "\t\t\t\tcost = units * 3.00"
   ]
  },
  {
   "cell_type": "code",
   "execution_count": 47,
   "id": "e82c2a5e-91ca-4d9b-8780-2c3f3a71d352",
   "metadata": {},
   "outputs": [
    {
     "name": "stdin",
     "output_type": "stream",
     "text": [
      "Enter units:  1200\n"
     ]
    },
    {
     "name": "stdout",
     "output_type": "stream",
     "text": [
      "1200 units cost = ₹5300.00\n"
     ]
    }
   ],
   "source": [
    "units = int(input('Enter units: '))\n",
    "\n",
    "match units // 100:\n",
    "    case 0:\n",
    "        cost = units * 3.00\n",
    "        print(f'{units} units cost = ₹{cost:.2f}')\n",
    "    case 1:\n",
    "        cost = (100 * 3.00) + (units - 100) * 3.50\n",
    "        print(f'{units} units cost = ₹{cost:.2f}')\n",
    "    case 2:\n",
    "        cost = (100 * 3.00) + (100 * 3.50) + (units - 200) * 4.00\n",
    "        print(f'{units} units cost = ₹{cost:.2f}')\n",
    "    case 3:\n",
    "        cost = (100 * 3.00) + (100 * 3.50) + (200 * 4.00) + (units - 400) * 4.50\n",
    "        print(f'{units} units cost = ₹{cost:.2f}')\n",
    "    case _:\n",
    "        cost = (100 * 3.00) + (100 * 3.50) + (200 * 4.00) + (300 * 4.50) + (units - 700) * 5.00\n",
    "        print(f'{units} units cost = ₹{cost:.2f}')\n"
   ]
  },
  {
   "cell_type": "raw",
   "id": "0bce701b-3b3c-4ed1-a39c-83a359ac63b0",
   "metadata": {},
   "source": [
    "'''\n",
    "Write  a  program  to  print  fibonacci  series  upto   x\n",
    "\n",
    "Let  input  be   10\n",
    "What  are  the  outputs  ?  --->   0 , 1 ,  1 , 2 ,  3 ,5 , 8\n",
    "\n",
    "\n",
    "1) What  is  the  formula  for  10th  term ?  ---> 9th  term + 8th  term\n",
    "    What  is  the  formula  for   3rd  term ?  ---> \t2nd  term + 1st  term\n",
    "    What  is  the  formual  for  ith  term ?  --->  (i - 1)th  term +  (i - 2)  term\n",
    "\n",
    "2) What  are  the  first  two  terms ?  --->  0  and  1  (No  formula)\n",
    "\n",
    "3) Hint:  Use  while  loop\n",
    "'''"
   ]
  },
  {
   "cell_type": "code",
   "execution_count": 42,
   "id": "892bfcde-dd35-4a62-ab1c-f19aa961a24d",
   "metadata": {},
   "outputs": [
    {
     "name": "stdin",
     "output_type": "stream",
     "text": [
      "Enter nth term 10\n"
     ]
    },
    {
     "name": "stdout",
     "output_type": "stream",
     "text": [
      "0 1 1 2 3 5 8 13 21 34 "
     ]
    }
   ],
   "source": [
    "a = 0\n",
    "b = 1\n",
    "n = int(input('Enter nth term'))\n",
    "print(a,end=' ')\n",
    "print(b,end=' ')\n",
    "count = 2\n",
    "while(count<n):\n",
    "    c = a+b\n",
    "    print(c,end=' ')\n",
    "    a = b\n",
    "    b = c\n",
    "    count+=1\n",
    "    "
   ]
  },
  {
   "cell_type": "code",
   "execution_count": null,
   "id": "6c0db0d7-2578-4b4c-aaf2-bd3461ce83c6",
   "metadata": {},
   "outputs": [],
   "source": [
    "#  Find  outputs\n",
    "while  True:\n",
    "\tprint('Hello') # infinite loop\n",
    "print('Bye')"
   ]
  },
  {
   "cell_type": "code",
   "execution_count": null,
   "id": "e14c8879-0db0-41da-92e2-178d86858530",
   "metadata": {},
   "outputs": [],
   "source": [
    "#  Find  outputs\n",
    "while  False:\n",
    "\tprint('Hello')\n",
    "print('Bye')  #Bye"
   ]
  },
  {
   "cell_type": "code",
   "execution_count": null,
   "id": "95513763-b049-40a9-b013-d02c35560902",
   "metadata": {},
   "outputs": [],
   "source": [
    "# Find  outputs  (Home  work)\n",
    "#How  to  print  each  element  of  list  [10 , 20 , 15 , 18]  with  for  loop\n",
    "for i in list:\n",
    "    print()\n",
    "#How  to  print  each  character  of   string  'Hyd'  with  for  loop\n",
    "for i in list(string):\n",
    "    print(i)\n",
    "#How  to  print  each  element  of   range(5)  with  for  loop\n",
    "for i in range(5):\n",
    "    print(i)"
   ]
  },
  {
   "cell_type": "code",
   "execution_count": null,
   "id": "a0d902f3-7b87-4e92-ac1b-99eecb5d5227",
   "metadata": {},
   "outputs": [],
   "source": [
    "# Find outputs  (Home  work)\n",
    "a = {10 : 20 , 30 : 40 , 50 : 60}\n",
    "for  x , y  in   a . items():\n",
    "\tprint(x , y , sep = '...') #10 : 20...30 : 40...50 : 60\n",
    "for  x ,  y  in   a:\n",
    "\tprint(x , y)# 10 20\n",
    "                # 30 40\n",
    "                # 50 60\n",
    "for  x , y  in  {10 : 20 , 30 : 40 , 50 : 60}:\n",
    "\tprint(x , y , sep = '...')#10 20...30 40...50 60"
   ]
  },
  {
   "cell_type": "code",
   "execution_count": null,
   "id": "b70ff35b-61d0-432a-b520-8db6ca3083cc",
   "metadata": {},
   "outputs": [],
   "source": [
    "# Find  outputs  (Home  work)\n",
    "for  x  in  {10 : 20 , 30 : 40 , 50 : 60} . keys():\n",
    "\tprint(x) # 10 30 50\n",
    "print()\n",
    "for  x  in  {10 : 20 , 30 : 40 , 50 : 60} . values():\n",
    "\tprint(x) # 20  40 60\n",
    "print()\n",
    "for  x  in  {10 : 20 , 30 : 40 , 50 : 60} . items():\n",
    "\tprint(x) #10 : 20 , 30 : 40 , 50 : 60\n",
    "print()\n",
    "for  x  in  {10 : 20 , 30 : 40 , 50 : 60}:\n",
    "\tprint(x)  # 20  40 60"
   ]
  },
  {
   "cell_type": "code",
   "execution_count": null,
   "id": "9f98e1f1-04dd-4a30-9d64-ca16c8f18843",
   "metadata": {},
   "outputs": [],
   "source": [
    "# Identify  error  (Home  work)\n",
    "for  x  in   123:\n",
    "        print(x) # for each don't accepts non-sequences "
   ]
  },
  {
   "cell_type": "code",
   "execution_count": null,
   "id": "300b3b96-5aef-429f-aa5e-e192c8ddc653",
   "metadata": {},
   "outputs": [],
   "source": [
    "# Find  outputs  (Home  work)\n",
    "for  x   in   ():\n",
    "        print(x) # error \n",
    "for  x   in  []:\n",
    "        print(x) # error \n",
    "for  x   in   {}:\n",
    "        print(x)# error \n",
    "for  x   in   set():\n",
    "        print(x)# error \n",
    "for  x   in   '':\n",
    "        print(x)# error \n",
    "for  x  in  range(10 , 10):\n",
    "\tprint(x)# error \n",
    "for  x  in   range():\n",
    "\tprint(x)# error \n",
    "for  x  in   (25):\n",
    "\tprint(x)# error "
   ]
  },
  {
   "cell_type": "code",
   "execution_count": 40,
   "id": "19264b89-d277-4011-b8e7-15b4750b1b38",
   "metadata": {},
   "outputs": [
    {
     "name": "stdout",
     "output_type": "stream",
     "text": [
      "1 1\n",
      "1 2\n",
      "1 3\n",
      "1 4\n",
      "Hello\n",
      "2 1\n",
      "2 2\n",
      "2 3\n",
      "2 4\n",
      "Hello\n",
      "3 1\n",
      "3 2\n",
      "3 3\n",
      "3 4\n",
      "Hello\n",
      "Bye\n"
     ]
    }
   ],
   "source": [
    "#  Nested  Loop  demo  program\n",
    "for  i  in  range(1 , 4):\n",
    "\tfor  j  in  range(1 , 5):\n",
    "\t\t\tprint(i ,  j)  #\n",
    "\tprint('Hello')\n",
    "print('Bye')"
   ]
  },
  {
   "cell_type": "raw",
   "id": "9d5e37fb-c148-4bfe-9866-1d53c356855c",
   "metadata": {},
   "source": [
    "# How  to  print  each  element  and  the  corresponding  index\n",
    "a = [25 , 10.8 , 'Hyd' , True]\n",
    "print('Indexed  based  for loop')\n",
    "How  to  print  each  element  and  the  corresponding  index  with  index  based  for  loop\n",
    "print('For each loop')\n",
    "How  to  print  each  element  and  the  corresponding  index  with  for  ...  each  loop (Do  not  use  2nd  variable)"
   ]
  },
  {
   "cell_type": "code",
   "execution_count": 38,
   "id": "de05354b-decb-4ec6-aa06-942469cece48",
   "metadata": {},
   "outputs": [
    {
     "name": "stdout",
     "output_type": "stream",
     "text": [
      "Indexed  based  for loop\n",
      "0 25\n",
      "1 10.8\n",
      "2 Hyd\n",
      "3 True\n"
     ]
    }
   ],
   "source": [
    "a = [25 , 10.8 , 'Hyd' , True]\n",
    "print('Indexed  based  for loop')\n",
    "for i in range(len(a)):\n",
    "    print(i,a[i])"
   ]
  },
  {
   "cell_type": "raw",
   "id": "9cc48697-8c66-4153-95f0-2e97237d8949",
   "metadata": {},
   "source": [
    "'''\n",
    "Write  a  program  to  add  two  lists  and  store  results  in  3rd  list\n",
    "\n",
    "1st  list  --->  [10 , 20 , 15 , 18]\n",
    "\n",
    "2nd  list  --->  [30 , 40 , 35 , 12 , 100 , 200 , 300]\n",
    "\n",
    "3rd  list ?  ---> [10 + 30 , 20 + 40 , 15 + 35 , 18 + 12]  =  [40 , 60 , 50 , 30]\n",
    "\n",
    "Hint:  Use  append()  method\n",
    "'''\n",
    "a = eval(input('Enter  1st  list  :  '))\n",
    "b = eval(input('Enter  2nd  list  :  '))\n",
    "c = []\n",
    "How  to  add  lists  'a'  and  'b'  and  store  results  in  list  'c'  with  indexed  based   for  loop\n",
    "print('3rd  list : ' , c)\n",
    "How  to  add  lists  'a'  and  'b'  and  store  results  in  list  'c'  with  for  each  loop (Do  not  use  2nd  variable)"
   ]
  },
  {
   "cell_type": "code",
   "execution_count": 36,
   "id": "4e5c13be-eeb5-49ab-93ff-5c75665f044a",
   "metadata": {},
   "outputs": [
    {
     "name": "stdin",
     "output_type": "stream",
     "text": [
      "Enter  1st  list  :   [10 , 20 , 15 , 18]\n",
      "Enter  2nd  list  :    [30 , 40 , 35 , 12 , 100 , 200 , 300]\n"
     ]
    },
    {
     "name": "stdout",
     "output_type": "stream",
     "text": [
      "[40, 60, 50, 30]\n"
     ]
    }
   ],
   "source": [
    "a = eval(input('Enter  1st  list  :  '))\n",
    "b = eval(input('Enter  2nd  list  :  '))\n",
    "c = []\n",
    "\n",
    "min_len =  min(len(a),len(b))\n",
    "\n",
    "for i in range(min_len):\n",
    "    c.append(a[i]+b[i])\n",
    "\n",
    "print(c)"
   ]
  },
  {
   "cell_type": "raw",
   "id": "6c70f34f-0e5e-49ee-a333-00078669fa22",
   "metadata": {},
   "source": [
    "#  How  to  print  list  elements  from  indexes  2  to  4  without  slice\n",
    "a = [25 , 10.8 , 'Hyd' , True , 3 + 4j , None , 'Sec']\n",
    "print('Indexed for loop')\n",
    "How  to  print  elements  from  indexes  2  to  4  of  list  'a'  with  indexed  based  for  loop\n",
    "How  to  print  elements  from  indexes  2  to  4  of  list  'a'  with  for  each  loop   without  using  2nd  variable  and  slice"
   ]
  },
  {
   "cell_type": "code",
   "execution_count": 34,
   "id": "b6d4c5c1-32fe-41fd-85e9-9d3ab762a11c",
   "metadata": {},
   "outputs": [
    {
     "name": "stdout",
     "output_type": "stream",
     "text": [
      "Indexed for loop\n",
      "Hyd\n",
      "True\n",
      "(3+4j)\n"
     ]
    }
   ],
   "source": [
    "#with indexed loop\n",
    "a = [25 , 10.8 , 'Hyd' , True , 3 + 4j , None , 'Sec']\n",
    "print('Indexed for loop')\n",
    "for i in range(2,5):\n",
    "    print(a[i])"
   ]
  },
  {
   "cell_type": "code",
   "execution_count": null,
   "id": "679abe92-2d7f-4bb4-ae28-74d79a95f4ad",
   "metadata": {},
   "outputs": [],
   "source": [
    "#  Tricky  program\n",
    "#  Find  outputs  (Home  work)\n",
    "a = [10 , 20 , 15 , 18]\n",
    "for  i  in  range(len(a)):\n",
    "\ta[i] +=  1\n",
    "print('a :  ' , a) #a :  [11,21,16,19]\n",
    "b = [10 , 20 , 15 , 18]\n",
    "for  x  in   b:\n",
    "\tx += 1\n",
    "print('b :  ' ,  b) #b :  [11,21,16,19]"
   ]
  },
  {
   "cell_type": "code",
   "execution_count": null,
   "id": "4708b5bc-6026-4cc9-89b9-393891d51033",
   "metadata": {},
   "outputs": [],
   "source": []
  }
 ],
 "metadata": {
  "kernelspec": {
   "display_name": "Python 3 (ipykernel)",
   "language": "python",
   "name": "python3"
  },
  "language_info": {
   "codemirror_mode": {
    "name": "ipython",
    "version": 3
   },
   "file_extension": ".py",
   "mimetype": "text/x-python",
   "name": "python",
   "nbconvert_exporter": "python",
   "pygments_lexer": "ipython3",
   "version": "3.13.5"
  }
 },
 "nbformat": 4,
 "nbformat_minor": 5
}
